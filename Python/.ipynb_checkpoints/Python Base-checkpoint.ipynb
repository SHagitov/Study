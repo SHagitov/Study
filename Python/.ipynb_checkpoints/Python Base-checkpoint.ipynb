{
 "cells": [
  {
   "cell_type": "code",
   "execution_count": 1,
   "id": "16bc10b4",
   "metadata": {},
   "outputs": [],
   "source": [
    "int_list = [1,2,3]"
   ]
  },
  {
   "cell_type": "code",
   "execution_count": 2,
   "id": "842e9b94",
   "metadata": {},
   "outputs": [],
   "source": [
    "mixed_list = [1, 2.0, 'string']"
   ]
  },
  {
   "cell_type": "code",
   "execution_count": 3,
   "id": "2784de2e",
   "metadata": {},
   "outputs": [
    {
     "data": {
      "text/plain": [
       "3"
      ]
     },
     "execution_count": 3,
     "metadata": {},
     "output_type": "execute_result"
    }
   ],
   "source": [
    "len(int_list)"
   ]
  },
  {
   "cell_type": "code",
   "execution_count": 4,
   "id": "3382c5b2",
   "metadata": {},
   "outputs": [
    {
     "name": "stdout",
     "output_type": "stream",
     "text": [
      "1\n",
      "3\n"
     ]
    }
   ],
   "source": [
    "print(int_list[0])\n",
    "print(int_list[-1])"
   ]
  },
  {
   "cell_type": "code",
   "execution_count": 5,
   "id": "0498c2e2",
   "metadata": {},
   "outputs": [
    {
     "data": {
      "text/plain": [
       "[2, 3]"
      ]
     },
     "execution_count": 5,
     "metadata": {},
     "output_type": "execute_result"
    }
   ],
   "source": [
    "int_list[1:]"
   ]
  },
  {
   "cell_type": "code",
   "execution_count": 6,
   "id": "3c74a933",
   "metadata": {},
   "outputs": [
    {
     "data": {
      "text/plain": [
       "['John', 'Bob', 'Alice', 'Tracy', 'Elijah', 'Mason']"
      ]
     },
     "execution_count": 6,
     "metadata": {},
     "output_type": "execute_result"
    }
   ],
   "source": [
    "names1 = ['John','Bob','Alice']\n",
    "names2 = ['Tracy','Elijah','Mason']\n",
    "names_combined = names1 + names2\n",
    "names_combined"
   ]
  },
  {
   "cell_type": "code",
   "execution_count": 7,
   "id": "914c018f",
   "metadata": {},
   "outputs": [
    {
     "data": {
      "text/plain": [
       "['Liam', 'Bob', 'Alice']"
      ]
     },
     "execution_count": 7,
     "metadata": {},
     "output_type": "execute_result"
    }
   ],
   "source": [
    "names1[0] = 'Liam'\n",
    "names1"
   ]
  },
  {
   "cell_type": "code",
   "execution_count": 8,
   "id": "efa3f315",
   "metadata": {},
   "outputs": [
    {
     "data": {
      "text/plain": [
       "['Liam', 'Bob', 'Alice', 'William', 'James']"
      ]
     },
     "execution_count": 8,
     "metadata": {},
     "output_type": "execute_result"
    }
   ],
   "source": [
    "names1.append('William')\n",
    "names1.append('James')\n",
    "names1"
   ]
  },
  {
   "cell_type": "code",
   "execution_count": 9,
   "id": "b9c0dbd7",
   "metadata": {},
   "outputs": [
    {
     "name": "stdout",
     "output_type": "stream",
     "text": [
      "Liam\n",
      "['Bob', 'Alice', 'William', 'James']\n"
     ]
    }
   ],
   "source": [
    "popped = names1.pop(0)\n",
    "print(popped)\n",
    "print(names1)"
   ]
  },
  {
   "cell_type": "code",
   "execution_count": 10,
   "id": "e9393ace",
   "metadata": {},
   "outputs": [
    {
     "data": {
      "text/plain": [
       "['Alice', 'Bob', 'James', 'James', 'William']"
      ]
     },
     "execution_count": 10,
     "metadata": {},
     "output_type": "execute_result"
    }
   ],
   "source": [
    "names1.append('James')\n",
    "names1.sort()\n",
    "names1"
   ]
  },
  {
   "cell_type": "code",
   "execution_count": 11,
   "id": "212407fa",
   "metadata": {},
   "outputs": [
    {
     "data": {
      "text/plain": [
       "['aa', 'ab', 'ac']"
      ]
     },
     "execution_count": 11,
     "metadata": {},
     "output_type": "execute_result"
    }
   ],
   "source": [
    "letters = ['ac','ab','aa']\n",
    "letters.sort()\n",
    "letters"
   ]
  },
  {
   "cell_type": "code",
   "execution_count": null,
   "id": "a2ea33d6",
   "metadata": {},
   "outputs": [],
   "source": []
  }
 ],
 "metadata": {
  "kernelspec": {
   "display_name": "Python 3 (ipykernel)",
   "language": "python",
   "name": "python3"
  },
  "language_info": {
   "codemirror_mode": {
    "name": "ipython",
    "version": 3
   },
   "file_extension": ".py",
   "mimetype": "text/x-python",
   "name": "python",
   "nbconvert_exporter": "python",
   "pygments_lexer": "ipython3",
   "version": "3.9.12"
  }
 },
 "nbformat": 4,
 "nbformat_minor": 5
}
