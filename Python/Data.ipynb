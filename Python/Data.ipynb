{
 "cells": [
  {
   "cell_type": "code",
   "execution_count": 1,
   "outputs": [
    {
     "name": "stdout",
     "output_type": "stream",
     "text": [
      "Hello\n"
     ]
    }
   ],
   "source": [
    "print('Hello')"
   ],
   "metadata": {
    "collapsed": false,
    "pycharm": {
     "name": "#%%\n"
    }
   }
  },
  {
   "cell_type": "code",
   "execution_count": 2,
   "id": "5a7ec374",
   "metadata": {
    "pycharm": {
     "name": "#%%\n"
    }
   },
   "outputs": [],
   "source": [
    "age = 25"
   ]
  },
  {
   "cell_type": "code",
   "execution_count": 3,
   "outputs": [],
   "source": [
    "name = 'Sasha'"
   ],
   "metadata": {
    "collapsed": false,
    "pycharm": {
     "name": "#%%\n"
    }
   }
  },
  {
   "cell_type": "code",
   "execution_count": 4,
   "outputs": [
    {
     "data": {
      "text/plain": "'Sasha'"
     },
     "execution_count": 4,
     "metadata": {},
     "output_type": "execute_result"
    }
   ],
   "source": [
    "name"
   ],
   "metadata": {
    "collapsed": false,
    "pycharm": {
     "name": "#%%\n"
    }
   }
  },
  {
   "cell_type": "code",
   "execution_count": 5,
   "outputs": [
    {
     "data": {
      "text/plain": "['Ivan', 'Ivanov', 1000.0, 1]"
     },
     "execution_count": 5,
     "metadata": {},
     "output_type": "execute_result"
    }
   ],
   "source": [
    "user_info = [\"Ivan\", \"Ivanov\", 1000.0, 1]\n",
    "user_info"
   ],
   "metadata": {
    "collapsed": false,
    "pycharm": {
     "name": "#%%\n"
    }
   }
  },
  {
   "cell_type": "code",
   "execution_count": 6,
   "outputs": [
    {
     "data": {
      "text/plain": "'Ivan'"
     },
     "execution_count": 6,
     "metadata": {},
     "output_type": "execute_result"
    }
   ],
   "source": [
    "user_info[0]"
   ],
   "metadata": {
    "collapsed": false,
    "pycharm": {
     "name": "#%%\n"
    }
   }
  },
  {
   "cell_type": "code",
   "execution_count": 7,
   "outputs": [
    {
     "data": {
      "text/plain": "'Ivan'"
     },
     "execution_count": 7,
     "metadata": {},
     "output_type": "execute_result"
    }
   ],
   "source": [
    "['Ivan', 'Ivanov', 1000.0, 1][0]"
   ],
   "metadata": {
    "collapsed": false,
    "pycharm": {
     "name": "#%%\n"
    }
   }
  },
  {
   "cell_type": "code",
   "execution_count": 8,
   "outputs": [],
   "source": [
    "salaries = [1, 2, 3, 4, 5]"
   ],
   "metadata": {
    "collapsed": false,
    "pycharm": {
     "name": "#%%\n"
    }
   }
  },
  {
   "cell_type": "code",
   "execution_count": 9,
   "outputs": [
    {
     "data": {
      "text/plain": "[1, 2, 3, 4, 5]"
     },
     "execution_count": 9,
     "metadata": {},
     "output_type": "execute_result"
    }
   ],
   "source": [
    "salaries"
   ],
   "metadata": {
    "collapsed": false,
    "pycharm": {
     "name": "#%%\n"
    }
   }
  },
  {
   "cell_type": "code",
   "execution_count": 10,
   "outputs": [
    {
     "data": {
      "text/plain": "1"
     },
     "execution_count": 10,
     "metadata": {},
     "output_type": "execute_result"
    }
   ],
   "source": [
    "salaries[0]"
   ],
   "metadata": {
    "collapsed": false,
    "pycharm": {
     "name": "#%%\n"
    }
   }
  },
  {
   "cell_type": "code",
   "execution_count": 11,
   "outputs": [
    {
     "data": {
      "text/plain": "5"
     },
     "execution_count": 11,
     "metadata": {},
     "output_type": "execute_result"
    }
   ],
   "source": [
    "salaries[-1]"
   ],
   "metadata": {
    "collapsed": false,
    "pycharm": {
     "name": "#%%\n"
    }
   }
  },
  {
   "cell_type": "code",
   "execution_count": 12,
   "outputs": [],
   "source": [
    "users = [\"Courses\", 42, False]"
   ],
   "metadata": {
    "collapsed": false,
    "pycharm": {
     "name": "#%%\n"
    }
   }
  },
  {
   "cell_type": "code",
   "execution_count": 13,
   "outputs": [
    {
     "data": {
      "text/plain": "['Courses', 42, False]"
     },
     "execution_count": 13,
     "metadata": {},
     "output_type": "execute_result"
    }
   ],
   "source": [
    "users"
   ],
   "metadata": {
    "collapsed": false,
    "pycharm": {
     "name": "#%%\n"
    }
   }
  },
  {
   "cell_type": "code",
   "execution_count": 14,
   "outputs": [],
   "source": [
    "users.append(8)"
   ],
   "metadata": {
    "collapsed": false,
    "pycharm": {
     "name": "#%%\n"
    }
   }
  },
  {
   "cell_type": "code",
   "execution_count": 15,
   "outputs": [
    {
     "data": {
      "text/plain": "['Courses', 42, False, 8]"
     },
     "execution_count": 15,
     "metadata": {},
     "output_type": "execute_result"
    }
   ],
   "source": [
    "users"
   ],
   "metadata": {
    "collapsed": false,
    "pycharm": {
     "name": "#%%\n"
    }
   }
  },
  {
   "cell_type": "code",
   "execution_count": 16,
   "outputs": [],
   "source": [
    "worker = ['Sasha', 'Ivanov', 75000.0, 1]"
   ],
   "metadata": {
    "collapsed": false,
    "pycharm": {
     "name": "#%%\n"
    }
   }
  },
  {
   "cell_type": "code",
   "execution_count": 17,
   "outputs": [
    {
     "data": {
      "text/plain": "['Sasha', 'Ivanov', 75000.0, 1]"
     },
     "execution_count": 17,
     "metadata": {},
     "output_type": "execute_result"
    }
   ],
   "source": [
    "worker"
   ],
   "metadata": {
    "collapsed": false,
    "pycharm": {
     "name": "#%%\n"
    }
   }
  },
  {
   "cell_type": "code",
   "execution_count": 18,
   "outputs": [],
   "source": [
    "status = '{} {} is {}'"
   ],
   "metadata": {
    "collapsed": false,
    "pycharm": {
     "name": "#%%\n"
    }
   }
  },
  {
   "cell_type": "code",
   "execution_count": 19,
   "outputs": [
    {
     "data": {
      "text/plain": "'{} {} is {}'"
     },
     "execution_count": 19,
     "metadata": {},
     "output_type": "execute_result"
    }
   ],
   "source": [
    "status"
   ],
   "metadata": {
    "collapsed": false,
    "pycharm": {
     "name": "#%%\n"
    }
   }
  },
  {
   "cell_type": "code",
   "execution_count": 20,
   "outputs": [],
   "source": [
    "experience = worker[-1]\n",
    "if experience < 2:\n",
    "    position = 'junior'\n",
    "elif 2 <= experience <= 5:\n",
    "    position = 'middle'\n",
    "else:\n",
    "    positon = 'senior'"
   ],
   "metadata": {
    "collapsed": false,
    "pycharm": {
     "name": "#%%\n"
    }
   }
  },
  {
   "cell_type": "code",
   "execution_count": 21,
   "outputs": [],
   "source": [
    "status = status.format(worker[0], worker[1], position)"
   ],
   "metadata": {
    "collapsed": false,
    "pycharm": {
     "name": "#%%\n"
    }
   }
  },
  {
   "cell_type": "code",
   "execution_count": 22,
   "outputs": [],
   "source": [
    "values = [15, 0, 10, 100, 150, 165, 1001, 45, -30]"
   ],
   "metadata": {
    "collapsed": false,
    "pycharm": {
     "name": "#%%\n"
    }
   }
  },
  {
   "cell_type": "code",
   "execution_count": 23,
   "outputs": [],
   "source": [
    "x = []"
   ],
   "metadata": {
    "collapsed": false,
    "pycharm": {
     "name": "#%%\n"
    }
   }
  },
  {
   "cell_type": "code",
   "execution_count": 24,
   "outputs": [],
   "source": [
    "for value in values:\n",
    "    if (value % 10) == 0:\n",
    "        x += [value]"
   ],
   "metadata": {
    "collapsed": false,
    "pycharm": {
     "name": "#%%\n"
    }
   }
  },
  {
   "cell_type": "code",
   "execution_count": 25,
   "outputs": [
    {
     "data": {
      "text/plain": "[0, 10, 100, 150, -30]"
     },
     "execution_count": 25,
     "metadata": {},
     "output_type": "execute_result"
    }
   ],
   "source": [
    "x"
   ],
   "metadata": {
    "collapsed": false,
    "pycharm": {
     "name": "#%%\n"
    }
   }
  },
  {
   "cell_type": "code",
   "execution_count": 26,
   "outputs": [
    {
     "data": {
      "text/plain": "True"
     },
     "execution_count": 26,
     "metadata": {},
     "output_type": "execute_result"
    }
   ],
   "source": [
    "(100 % 10) == 0"
   ],
   "metadata": {
    "collapsed": false,
    "pycharm": {
     "name": "#%%\n"
    }
   }
  },
  {
   "cell_type": "code",
   "execution_count": 27,
   "outputs": [],
   "source": [
    "import pandas as pd"
   ],
   "metadata": {
    "collapsed": false,
    "pycharm": {
     "name": "#%%\n"
    }
   }
  },
  {
   "cell_type": "code",
   "execution_count": 28,
   "outputs": [],
   "source": [
    "df = pd.read_csv('C:/Users/Marat SHagitov/Documents/GitHub/Study/Python/test.csv')"
   ],
   "metadata": {
    "collapsed": false,
    "pycharm": {
     "name": "#%%\n"
    }
   }
  },
  {
   "cell_type": "code",
   "execution_count": 29,
   "outputs": [
    {
     "data": {
      "text/plain": "      Series_reference   Period  Data_value Suppressed STATUS   UNITS  \\\n20249    BDCQ.SEE3999A  2017.06         NaN          Y      C  Number   \n20250    BDCQ.SEE3999A  2017.09         NaN          Y      C  Number   \n20251    BDCQ.SEE3999A  2017.12         NaN          Y      C  Number   \n20252    BDCQ.SEE3999A  2018.03         NaN          Y      C  Number   \n20253    BDCQ.SEE3999A  2018.06         NaN          Y      C  Number   \n\n       Magnitude                         Subject  \\\n20249          0  Business Data Collection - BDC   \n20250          0  Business Data Collection - BDC   \n20251          0  Business Data Collection - BDC   \n20252          0  Business Data Collection - BDC   \n20253          0  Business Data Collection - BDC   \n\n                                              Group  \\\n20249  Territorial authority by employment variable   \n20250  Territorial authority by employment variable   \n20251  Territorial authority by employment variable   \n20252  Territorial authority by employment variable   \n20253  Territorial authority by employment variable   \n\n                               Series_title_1  \\\n20249  Filled jobs (workplace location based)   \n20250  Filled jobs (workplace location based)   \n20251  Filled jobs (workplace location based)   \n20252  Filled jobs (workplace location based)   \n20253  Filled jobs (workplace location based)   \n\n                           Series_title_2 Series_title_3  Series_title_4  \\\n20249  Area Outside Territorial Authority         Actual             NaN   \n20250  Area Outside Territorial Authority         Actual             NaN   \n20251  Area Outside Territorial Authority         Actual             NaN   \n20252  Area Outside Territorial Authority         Actual             NaN   \n20253  Area Outside Territorial Authority         Actual             NaN   \n\n       Series_title_5  \n20249             NaN  \n20250             NaN  \n20251             NaN  \n20252             NaN  \n20253             NaN  ",
      "text/html": "<div>\n<style scoped>\n    .dataframe tbody tr th:only-of-type {\n        vertical-align: middle;\n    }\n\n    .dataframe tbody tr th {\n        vertical-align: top;\n    }\n\n    .dataframe thead th {\n        text-align: right;\n    }\n</style>\n<table border=\"1\" class=\"dataframe\">\n  <thead>\n    <tr style=\"text-align: right;\">\n      <th></th>\n      <th>Series_reference</th>\n      <th>Period</th>\n      <th>Data_value</th>\n      <th>Suppressed</th>\n      <th>STATUS</th>\n      <th>UNITS</th>\n      <th>Magnitude</th>\n      <th>Subject</th>\n      <th>Group</th>\n      <th>Series_title_1</th>\n      <th>Series_title_2</th>\n      <th>Series_title_3</th>\n      <th>Series_title_4</th>\n      <th>Series_title_5</th>\n    </tr>\n  </thead>\n  <tbody>\n    <tr>\n      <th>20249</th>\n      <td>BDCQ.SEE3999A</td>\n      <td>2017.06</td>\n      <td>NaN</td>\n      <td>Y</td>\n      <td>C</td>\n      <td>Number</td>\n      <td>0</td>\n      <td>Business Data Collection - BDC</td>\n      <td>Territorial authority by employment variable</td>\n      <td>Filled jobs (workplace location based)</td>\n      <td>Area Outside Territorial Authority</td>\n      <td>Actual</td>\n      <td>NaN</td>\n      <td>NaN</td>\n    </tr>\n    <tr>\n      <th>20250</th>\n      <td>BDCQ.SEE3999A</td>\n      <td>2017.09</td>\n      <td>NaN</td>\n      <td>Y</td>\n      <td>C</td>\n      <td>Number</td>\n      <td>0</td>\n      <td>Business Data Collection - BDC</td>\n      <td>Territorial authority by employment variable</td>\n      <td>Filled jobs (workplace location based)</td>\n      <td>Area Outside Territorial Authority</td>\n      <td>Actual</td>\n      <td>NaN</td>\n      <td>NaN</td>\n    </tr>\n    <tr>\n      <th>20251</th>\n      <td>BDCQ.SEE3999A</td>\n      <td>2017.12</td>\n      <td>NaN</td>\n      <td>Y</td>\n      <td>C</td>\n      <td>Number</td>\n      <td>0</td>\n      <td>Business Data Collection - BDC</td>\n      <td>Territorial authority by employment variable</td>\n      <td>Filled jobs (workplace location based)</td>\n      <td>Area Outside Territorial Authority</td>\n      <td>Actual</td>\n      <td>NaN</td>\n      <td>NaN</td>\n    </tr>\n    <tr>\n      <th>20252</th>\n      <td>BDCQ.SEE3999A</td>\n      <td>2018.03</td>\n      <td>NaN</td>\n      <td>Y</td>\n      <td>C</td>\n      <td>Number</td>\n      <td>0</td>\n      <td>Business Data Collection - BDC</td>\n      <td>Territorial authority by employment variable</td>\n      <td>Filled jobs (workplace location based)</td>\n      <td>Area Outside Territorial Authority</td>\n      <td>Actual</td>\n      <td>NaN</td>\n      <td>NaN</td>\n    </tr>\n    <tr>\n      <th>20253</th>\n      <td>BDCQ.SEE3999A</td>\n      <td>2018.06</td>\n      <td>NaN</td>\n      <td>Y</td>\n      <td>C</td>\n      <td>Number</td>\n      <td>0</td>\n      <td>Business Data Collection - BDC</td>\n      <td>Territorial authority by employment variable</td>\n      <td>Filled jobs (workplace location based)</td>\n      <td>Area Outside Territorial Authority</td>\n      <td>Actual</td>\n      <td>NaN</td>\n      <td>NaN</td>\n    </tr>\n  </tbody>\n</table>\n</div>"
     },
     "execution_count": 29,
     "metadata": {},
     "output_type": "execute_result"
    }
   ],
   "source": [
    "df.tail()"
   ],
   "metadata": {
    "collapsed": false,
    "pycharm": {
     "name": "#%%\n"
    }
   }
  },
  {
   "cell_type": "code",
   "execution_count": 30,
   "outputs": [
    {
     "data": {
      "text/plain": "(20254, 14)"
     },
     "execution_count": 30,
     "metadata": {},
     "output_type": "execute_result"
    }
   ],
   "source": [
    "df.shape"
   ],
   "metadata": {
    "collapsed": false,
    "pycharm": {
     "name": "#%%\n"
    }
   }
  },
  {
   "cell_type": "code",
   "execution_count": 31,
   "outputs": [
    {
     "data": {
      "text/plain": "Series_reference     object\nPeriod              float64\nData_value          float64\nSuppressed           object\nSTATUS               object\nUNITS                object\nMagnitude             int64\nSubject              object\nGroup                object\nSeries_title_1       object\nSeries_title_2       object\nSeries_title_3       object\nSeries_title_4      float64\nSeries_title_5      float64\ndtype: object"
     },
     "execution_count": 31,
     "metadata": {},
     "output_type": "execute_result"
    }
   ],
   "source": [
    "df.dtypes"
   ],
   "metadata": {
    "collapsed": false,
    "pycharm": {
     "name": "#%%\n"
    }
   }
  },
  {
   "cell_type": "code",
   "execution_count": 32,
   "outputs": [
    {
     "data": {
      "text/plain": "             Period    Data_value     Magnitude  Series_title_4  \\\ncount  20254.000000  1.579500e+04  20254.000000             0.0   \nmean    2016.343661  6.157889e+04      2.378493             NaN   \nstd        3.215943  1.860380e+05      2.934988             NaN   \nmin     2011.060000  1.225683e+00      0.000000             NaN   \n25%     2014.030000  1.234000e+03      0.000000             NaN   \n50%     2016.120000  1.059100e+04      0.000000             NaN   \n75%     2019.090000  4.351000e+04      6.000000             NaN   \nmax     2022.060000  2.196974e+06      6.000000             NaN   \n\n       Series_title_5  \ncount             0.0  \nmean              NaN  \nstd               NaN  \nmin               NaN  \n25%               NaN  \n50%               NaN  \n75%               NaN  \nmax               NaN  ",
      "text/html": "<div>\n<style scoped>\n    .dataframe tbody tr th:only-of-type {\n        vertical-align: middle;\n    }\n\n    .dataframe tbody tr th {\n        vertical-align: top;\n    }\n\n    .dataframe thead th {\n        text-align: right;\n    }\n</style>\n<table border=\"1\" class=\"dataframe\">\n  <thead>\n    <tr style=\"text-align: right;\">\n      <th></th>\n      <th>Period</th>\n      <th>Data_value</th>\n      <th>Magnitude</th>\n      <th>Series_title_4</th>\n      <th>Series_title_5</th>\n    </tr>\n  </thead>\n  <tbody>\n    <tr>\n      <th>count</th>\n      <td>20254.000000</td>\n      <td>1.579500e+04</td>\n      <td>20254.000000</td>\n      <td>0.0</td>\n      <td>0.0</td>\n    </tr>\n    <tr>\n      <th>mean</th>\n      <td>2016.343661</td>\n      <td>6.157889e+04</td>\n      <td>2.378493</td>\n      <td>NaN</td>\n      <td>NaN</td>\n    </tr>\n    <tr>\n      <th>std</th>\n      <td>3.215943</td>\n      <td>1.860380e+05</td>\n      <td>2.934988</td>\n      <td>NaN</td>\n      <td>NaN</td>\n    </tr>\n    <tr>\n      <th>min</th>\n      <td>2011.060000</td>\n      <td>1.225683e+00</td>\n      <td>0.000000</td>\n      <td>NaN</td>\n      <td>NaN</td>\n    </tr>\n    <tr>\n      <th>25%</th>\n      <td>2014.030000</td>\n      <td>1.234000e+03</td>\n      <td>0.000000</td>\n      <td>NaN</td>\n      <td>NaN</td>\n    </tr>\n    <tr>\n      <th>50%</th>\n      <td>2016.120000</td>\n      <td>1.059100e+04</td>\n      <td>0.000000</td>\n      <td>NaN</td>\n      <td>NaN</td>\n    </tr>\n    <tr>\n      <th>75%</th>\n      <td>2019.090000</td>\n      <td>4.351000e+04</td>\n      <td>6.000000</td>\n      <td>NaN</td>\n      <td>NaN</td>\n    </tr>\n    <tr>\n      <th>max</th>\n      <td>2022.060000</td>\n      <td>2.196974e+06</td>\n      <td>6.000000</td>\n      <td>NaN</td>\n      <td>NaN</td>\n    </tr>\n  </tbody>\n</table>\n</div>"
     },
     "execution_count": 32,
     "metadata": {},
     "output_type": "execute_result"
    }
   ],
   "source": [
    "df.describe()"
   ],
   "metadata": {
    "collapsed": false,
    "pycharm": {
     "name": "#%%\n"
    }
   }
  },
  {
   "cell_type": "code",
   "execution_count": 33,
   "outputs": [
    {
     "data": {
      "text/plain": "Index(['Series_reference', 'Period', 'Data_value', 'Suppressed', 'STATUS',\n       'UNITS', 'Magnitude', 'Subject', 'Group', 'Series_title_1',\n       'Series_title_2', 'Series_title_3', 'Series_title_4', 'Series_title_5'],\n      dtype='object')"
     },
     "execution_count": 33,
     "metadata": {},
     "output_type": "execute_result"
    }
   ],
   "source": [
    "df.columns"
   ],
   "metadata": {
    "collapsed": false,
    "pycharm": {
     "name": "#%%\n"
    }
   }
  },
  {
   "cell_type": "code",
   "execution_count": 34,
   "outputs": [
    {
     "data": {
      "text/plain": "0        2011.06\n1        2011.09\n2        2011.12\n3        2012.03\n4        2012.06\n          ...   \n20249    2017.06\n20250    2017.09\n20251    2017.12\n20252    2018.03\n20253    2018.06\nName: Period, Length: 20254, dtype: float64"
     },
     "execution_count": 34,
     "metadata": {},
     "output_type": "execute_result"
    }
   ],
   "source": [
    "df['Period']"
   ],
   "metadata": {
    "collapsed": false,
    "pycharm": {
     "name": "#%%\n"
    }
   }
  },
  {
   "cell_type": "code",
   "execution_count": 35,
   "outputs": [
    {
     "data": {
      "text/plain": "    Period  Data_value\n0  2011.06     80078.0\n1  2011.09     78324.0\n2  2011.12     85850.0\n3  2012.03     90743.0\n4  2012.06     81780.0",
      "text/html": "<div>\n<style scoped>\n    .dataframe tbody tr th:only-of-type {\n        vertical-align: middle;\n    }\n\n    .dataframe tbody tr th {\n        vertical-align: top;\n    }\n\n    .dataframe thead th {\n        text-align: right;\n    }\n</style>\n<table border=\"1\" class=\"dataframe\">\n  <thead>\n    <tr style=\"text-align: right;\">\n      <th></th>\n      <th>Period</th>\n      <th>Data_value</th>\n    </tr>\n  </thead>\n  <tbody>\n    <tr>\n      <th>0</th>\n      <td>2011.06</td>\n      <td>80078.0</td>\n    </tr>\n    <tr>\n      <th>1</th>\n      <td>2011.09</td>\n      <td>78324.0</td>\n    </tr>\n    <tr>\n      <th>2</th>\n      <td>2011.12</td>\n      <td>85850.0</td>\n    </tr>\n    <tr>\n      <th>3</th>\n      <td>2012.03</td>\n      <td>90743.0</td>\n    </tr>\n    <tr>\n      <th>4</th>\n      <td>2012.06</td>\n      <td>81780.0</td>\n    </tr>\n  </tbody>\n</table>\n</div>"
     },
     "execution_count": 35,
     "metadata": {},
     "output_type": "execute_result"
    }
   ],
   "source": [
    "df[['Period', 'Data_value']].head()"
   ],
   "metadata": {
    "collapsed": false,
    "pycharm": {
     "name": "#%%\n"
    }
   }
  },
  {
   "cell_type": "code",
   "execution_count": 36,
   "outputs": [
    {
     "data": {
      "text/plain": "  Series_reference   Period  Data_value Suppressed STATUS   UNITS  Magnitude  \\\n0      BDCQ.SEA1AA  2011.06     80078.0        NaN      F  Number          0   \n1      BDCQ.SEA1AA  2011.09     78324.0        NaN      F  Number          0   \n2      BDCQ.SEA1AA  2011.12     85850.0        NaN      F  Number          0   \n3      BDCQ.SEA1AA  2012.03     90743.0        NaN      F  Number          0   \n4      BDCQ.SEA1AA  2012.06     81780.0        NaN      F  Number          0   \n\n                          Subject                            Group  \\\n0  Business Data Collection - BDC  Industry by employment variable   \n1  Business Data Collection - BDC  Industry by employment variable   \n2  Business Data Collection - BDC  Industry by employment variable   \n3  Business Data Collection - BDC  Industry by employment variable   \n4  Business Data Collection - BDC  Industry by employment variable   \n\n  Series_title_1                     Series_title_2 Series_title_3  \\\n0    Filled jobs  Agriculture, Forestry and Fishing         Actual   \n1    Filled jobs  Agriculture, Forestry and Fishing         Actual   \n2    Filled jobs  Agriculture, Forestry and Fishing         Actual   \n3    Filled jobs  Agriculture, Forestry and Fishing         Actual   \n4    Filled jobs  Agriculture, Forestry and Fishing         Actual   \n\n   Series_title_4  Series_title_5  \n0             NaN             NaN  \n1             NaN             NaN  \n2             NaN             NaN  \n3             NaN             NaN  \n4             NaN             NaN  ",
      "text/html": "<div>\n<style scoped>\n    .dataframe tbody tr th:only-of-type {\n        vertical-align: middle;\n    }\n\n    .dataframe tbody tr th {\n        vertical-align: top;\n    }\n\n    .dataframe thead th {\n        text-align: right;\n    }\n</style>\n<table border=\"1\" class=\"dataframe\">\n  <thead>\n    <tr style=\"text-align: right;\">\n      <th></th>\n      <th>Series_reference</th>\n      <th>Period</th>\n      <th>Data_value</th>\n      <th>Suppressed</th>\n      <th>STATUS</th>\n      <th>UNITS</th>\n      <th>Magnitude</th>\n      <th>Subject</th>\n      <th>Group</th>\n      <th>Series_title_1</th>\n      <th>Series_title_2</th>\n      <th>Series_title_3</th>\n      <th>Series_title_4</th>\n      <th>Series_title_5</th>\n    </tr>\n  </thead>\n  <tbody>\n    <tr>\n      <th>0</th>\n      <td>BDCQ.SEA1AA</td>\n      <td>2011.06</td>\n      <td>80078.0</td>\n      <td>NaN</td>\n      <td>F</td>\n      <td>Number</td>\n      <td>0</td>\n      <td>Business Data Collection - BDC</td>\n      <td>Industry by employment variable</td>\n      <td>Filled jobs</td>\n      <td>Agriculture, Forestry and Fishing</td>\n      <td>Actual</td>\n      <td>NaN</td>\n      <td>NaN</td>\n    </tr>\n    <tr>\n      <th>1</th>\n      <td>BDCQ.SEA1AA</td>\n      <td>2011.09</td>\n      <td>78324.0</td>\n      <td>NaN</td>\n      <td>F</td>\n      <td>Number</td>\n      <td>0</td>\n      <td>Business Data Collection - BDC</td>\n      <td>Industry by employment variable</td>\n      <td>Filled jobs</td>\n      <td>Agriculture, Forestry and Fishing</td>\n      <td>Actual</td>\n      <td>NaN</td>\n      <td>NaN</td>\n    </tr>\n    <tr>\n      <th>2</th>\n      <td>BDCQ.SEA1AA</td>\n      <td>2011.12</td>\n      <td>85850.0</td>\n      <td>NaN</td>\n      <td>F</td>\n      <td>Number</td>\n      <td>0</td>\n      <td>Business Data Collection - BDC</td>\n      <td>Industry by employment variable</td>\n      <td>Filled jobs</td>\n      <td>Agriculture, Forestry and Fishing</td>\n      <td>Actual</td>\n      <td>NaN</td>\n      <td>NaN</td>\n    </tr>\n    <tr>\n      <th>3</th>\n      <td>BDCQ.SEA1AA</td>\n      <td>2012.03</td>\n      <td>90743.0</td>\n      <td>NaN</td>\n      <td>F</td>\n      <td>Number</td>\n      <td>0</td>\n      <td>Business Data Collection - BDC</td>\n      <td>Industry by employment variable</td>\n      <td>Filled jobs</td>\n      <td>Agriculture, Forestry and Fishing</td>\n      <td>Actual</td>\n      <td>NaN</td>\n      <td>NaN</td>\n    </tr>\n    <tr>\n      <th>4</th>\n      <td>BDCQ.SEA1AA</td>\n      <td>2012.06</td>\n      <td>81780.0</td>\n      <td>NaN</td>\n      <td>F</td>\n      <td>Number</td>\n      <td>0</td>\n      <td>Business Data Collection - BDC</td>\n      <td>Industry by employment variable</td>\n      <td>Filled jobs</td>\n      <td>Agriculture, Forestry and Fishing</td>\n      <td>Actual</td>\n      <td>NaN</td>\n      <td>NaN</td>\n    </tr>\n  </tbody>\n</table>\n</div>"
     },
     "execution_count": 36,
     "metadata": {},
     "output_type": "execute_result"
    }
   ],
   "source": [
    "df.head()"
   ],
   "metadata": {
    "collapsed": false,
    "pycharm": {
     "name": "#%%\n"
    }
   }
  },
  {
   "cell_type": "code",
   "execution_count": 37,
   "outputs": [],
   "source": [
    "df = pd.read_csv('C:/Users/Marat SHagitov/Documents/GitHub/Study/Python/testX.csv')"
   ],
   "metadata": {
    "collapsed": false,
    "pycharm": {
     "name": "#%%\n"
    }
   }
  },
  {
   "cell_type": "code",
   "execution_count": 38,
   "outputs": [
    {
     "data": {
      "text/plain": "          Year       Institutional_sector_name  Institutional_sector_code  \\\n0      2008.03  Corporate business enterprises                        141   \n1      2009.03  Corporate business enterprises                        141   \n2      2010.03  Corporate business enterprises                        141   \n3      2011.03  Corporate business enterprises                        141   \n4      2012.03  Corporate business enterprises                        141   \n...        ...                             ...                        ...   \n18715  2013.03                   Pension funds                        261   \n18716  2014.03                   Pension funds                        261   \n18717  2015.03                   Pension funds                        261   \n18718  2016.03                   Pension funds                        261   \n18719  2017.03                   Pension funds                        261   \n\n                                              Descriptor SNA08TRANS  \\\n0      Capital Account Opening balances Produced non-...    LS00000   \n1      Capital Account Opening balances Produced non-...    LS00000   \n2      Capital Account Opening balances Produced non-...    LS00000   \n3      Capital Account Opening balances Produced non-...    LS00000   \n4      Capital Account Opening balances Produced non-...    LS00000   \n...                                                  ...        ...   \n18715  Financial liabilities Closing balance Total fi...    LE00000   \n18716  Financial liabilities Closing balance Total fi...    LE00000   \n18717  Financial liabilities Closing balance Total fi...    LE00000   \n18718  Financial liabilities Closing balance Total fi...    LE00000   \n18719  Financial liabilities Closing balance Total fi...    LE00000   \n\n      Asset_liability_code   Status  Values  \n0                  AN10000  REVISED  225544  \n1                  AN10000  REVISED  243315  \n2                  AN10000  REVISED  259381  \n3                  AN10000  REVISED  262596  \n4                  AN10000  REVISED  267100  \n...                    ...      ...     ...  \n18715              AFL0000    FINAL   53768  \n18716              AFL0000  REVISED   58559  \n18717              AFL0000  REVISED   70099  \n18718              AFL0000  REVISED   76021  \n18719              AFL0000    FINAL   85190  \n\n[18720 rows x 8 columns]",
      "text/html": "<div>\n<style scoped>\n    .dataframe tbody tr th:only-of-type {\n        vertical-align: middle;\n    }\n\n    .dataframe tbody tr th {\n        vertical-align: top;\n    }\n\n    .dataframe thead th {\n        text-align: right;\n    }\n</style>\n<table border=\"1\" class=\"dataframe\">\n  <thead>\n    <tr style=\"text-align: right;\">\n      <th></th>\n      <th>Year</th>\n      <th>Institutional_sector_name</th>\n      <th>Institutional_sector_code</th>\n      <th>Descriptor</th>\n      <th>SNA08TRANS</th>\n      <th>Asset_liability_code</th>\n      <th>Status</th>\n      <th>Values</th>\n    </tr>\n  </thead>\n  <tbody>\n    <tr>\n      <th>0</th>\n      <td>2008.03</td>\n      <td>Corporate business enterprises</td>\n      <td>141</td>\n      <td>Capital Account Opening balances Produced non-...</td>\n      <td>LS00000</td>\n      <td>AN10000</td>\n      <td>REVISED</td>\n      <td>225544</td>\n    </tr>\n    <tr>\n      <th>1</th>\n      <td>2009.03</td>\n      <td>Corporate business enterprises</td>\n      <td>141</td>\n      <td>Capital Account Opening balances Produced non-...</td>\n      <td>LS00000</td>\n      <td>AN10000</td>\n      <td>REVISED</td>\n      <td>243315</td>\n    </tr>\n    <tr>\n      <th>2</th>\n      <td>2010.03</td>\n      <td>Corporate business enterprises</td>\n      <td>141</td>\n      <td>Capital Account Opening balances Produced non-...</td>\n      <td>LS00000</td>\n      <td>AN10000</td>\n      <td>REVISED</td>\n      <td>259381</td>\n    </tr>\n    <tr>\n      <th>3</th>\n      <td>2011.03</td>\n      <td>Corporate business enterprises</td>\n      <td>141</td>\n      <td>Capital Account Opening balances Produced non-...</td>\n      <td>LS00000</td>\n      <td>AN10000</td>\n      <td>REVISED</td>\n      <td>262596</td>\n    </tr>\n    <tr>\n      <th>4</th>\n      <td>2012.03</td>\n      <td>Corporate business enterprises</td>\n      <td>141</td>\n      <td>Capital Account Opening balances Produced non-...</td>\n      <td>LS00000</td>\n      <td>AN10000</td>\n      <td>REVISED</td>\n      <td>267100</td>\n    </tr>\n    <tr>\n      <th>...</th>\n      <td>...</td>\n      <td>...</td>\n      <td>...</td>\n      <td>...</td>\n      <td>...</td>\n      <td>...</td>\n      <td>...</td>\n      <td>...</td>\n    </tr>\n    <tr>\n      <th>18715</th>\n      <td>2013.03</td>\n      <td>Pension funds</td>\n      <td>261</td>\n      <td>Financial liabilities Closing balance Total fi...</td>\n      <td>LE00000</td>\n      <td>AFL0000</td>\n      <td>FINAL</td>\n      <td>53768</td>\n    </tr>\n    <tr>\n      <th>18716</th>\n      <td>2014.03</td>\n      <td>Pension funds</td>\n      <td>261</td>\n      <td>Financial liabilities Closing balance Total fi...</td>\n      <td>LE00000</td>\n      <td>AFL0000</td>\n      <td>REVISED</td>\n      <td>58559</td>\n    </tr>\n    <tr>\n      <th>18717</th>\n      <td>2015.03</td>\n      <td>Pension funds</td>\n      <td>261</td>\n      <td>Financial liabilities Closing balance Total fi...</td>\n      <td>LE00000</td>\n      <td>AFL0000</td>\n      <td>REVISED</td>\n      <td>70099</td>\n    </tr>\n    <tr>\n      <th>18718</th>\n      <td>2016.03</td>\n      <td>Pension funds</td>\n      <td>261</td>\n      <td>Financial liabilities Closing balance Total fi...</td>\n      <td>LE00000</td>\n      <td>AFL0000</td>\n      <td>REVISED</td>\n      <td>76021</td>\n    </tr>\n    <tr>\n      <th>18719</th>\n      <td>2017.03</td>\n      <td>Pension funds</td>\n      <td>261</td>\n      <td>Financial liabilities Closing balance Total fi...</td>\n      <td>LE00000</td>\n      <td>AFL0000</td>\n      <td>FINAL</td>\n      <td>85190</td>\n    </tr>\n  </tbody>\n</table>\n<p>18720 rows × 8 columns</p>\n</div>"
     },
     "execution_count": 38,
     "metadata": {},
     "output_type": "execute_result"
    }
   ],
   "source": [
    "df"
   ],
   "metadata": {
    "collapsed": false,
    "pycharm": {
     "name": "#%%\n"
    }
   }
  },
  {
   "cell_type": "code",
   "execution_count": 39,
   "outputs": [],
   "source": [
    "df = pd.read_csv('C:/Users/Marat SHagitov/Documents/GitHub/Study/Python/testXx.csv')"
   ],
   "metadata": {
    "collapsed": false,
    "pycharm": {
     "name": "#%%\n"
    }
   }
  },
  {
   "cell_type": "code",
   "execution_count": 40,
   "outputs": [
    {
     "data": {
      "text/plain": "      Series_reference   Period  Data_value       STATUS    UNITS  MAGNTUDE  \\\n0         PRDA.S1CAAZI  1978.03      1000.0        FINAL    Index         0   \n1         PRDA.S1CAAZI  1979.03       947.0        FINAL    Index         0   \n2         PRDA.S1CAAZI  1980.03      1054.0        FINAL    Index         0   \n3         PRDA.S1CAAZI  1981.03      1167.0        FINAL    Index         0   \n4         PRDA.S1CAAZI  1982.03      1144.0        FINAL    Index         0   \n...                ...      ...         ...          ...      ...       ...   \n14393     PRDA.S4LMSZP  2017.03         1.7        FINAL  Percent         0   \n14394     PRDA.S4LMSZP  2018.03         1.3        FINAL  Percent         0   \n14395     PRDA.S4LMSZP  2019.03         1.7        FINAL  Percent         0   \n14396     PRDA.S4LMSZP  2020.03         0.5        FINAL  Percent         0   \n14397     PRDA.S4LMSZP  2021.03        -1.7  PROVISIONAL  Percent         0   \n\n                             Subject  \\\n0      Productivity Statistics - PRD   \n1      Productivity Statistics - PRD   \n2      Productivity Statistics - PRD   \n3      Productivity Statistics - PRD   \n4      Productivity Statistics - PRD   \n...                              ...   \n14393  Productivity Statistics - PRD   \n14394  Productivity Statistics - PRD   \n14395  Productivity Statistics - PRD   \n14396  Productivity Statistics - PRD   \n14397  Productivity Statistics - PRD   \n\n                                                  Group  \\\n0      Productivity Indexes - Industry Level (ANZSIC06)   \n1      Productivity Indexes - Industry Level (ANZSIC06)   \n2      Productivity Indexes - Industry Level (ANZSIC06)   \n3      Productivity Indexes - Industry Level (ANZSIC06)   \n4      Productivity Indexes - Industry Level (ANZSIC06)   \n...                                                 ...   \n14393         Productivity Growth Accounting (ANZSIC06)   \n14394         Productivity Growth Accounting (ANZSIC06)   \n14395         Productivity Growth Accounting (ANZSIC06)   \n14396         Productivity Growth Accounting (ANZSIC06)   \n14397         Productivity Growth Accounting (ANZSIC06)   \n\n                                          Series_title_1  \\\n0                                                Capital   \n1                                                Capital   \n2                                                Capital   \n3                                                Capital   \n4                                                Capital   \n...                                                  ...   \n14393  Annual percentage change, labour inputs index,...   \n14394  Annual percentage change, labour inputs index,...   \n14395  Annual percentage change, labour inputs index,...   \n14396  Annual percentage change, labour inputs index,...   \n14397  Annual percentage change, labour inputs index,...   \n\n                          Series_title_2 Series_title_3  Series_title_4  \\\n0      Agriculture, Forestry and Fishing          Index             NaN   \n1      Agriculture, Forestry and Fishing          Index             NaN   \n2      Agriculture, Forestry and Fishing          Index             NaN   \n3      Agriculture, Forestry and Fishing          Index             NaN   \n4      Agriculture, Forestry and Fishing          Index             NaN   \n...                                  ...            ...             ...   \n14393                                NaN            NaN             NaN   \n14394                                NaN            NaN             NaN   \n14395                                NaN            NaN             NaN   \n14396                                NaN            NaN             NaN   \n14397                                NaN            NaN             NaN   \n\n       Series_title_5  \n0                 NaN  \n1                 NaN  \n2                 NaN  \n3                 NaN  \n4                 NaN  \n...               ...  \n14393             NaN  \n14394             NaN  \n14395             NaN  \n14396             NaN  \n14397             NaN  \n\n[14398 rows x 13 columns]",
      "text/html": "<div>\n<style scoped>\n    .dataframe tbody tr th:only-of-type {\n        vertical-align: middle;\n    }\n\n    .dataframe tbody tr th {\n        vertical-align: top;\n    }\n\n    .dataframe thead th {\n        text-align: right;\n    }\n</style>\n<table border=\"1\" class=\"dataframe\">\n  <thead>\n    <tr style=\"text-align: right;\">\n      <th></th>\n      <th>Series_reference</th>\n      <th>Period</th>\n      <th>Data_value</th>\n      <th>STATUS</th>\n      <th>UNITS</th>\n      <th>MAGNTUDE</th>\n      <th>Subject</th>\n      <th>Group</th>\n      <th>Series_title_1</th>\n      <th>Series_title_2</th>\n      <th>Series_title_3</th>\n      <th>Series_title_4</th>\n      <th>Series_title_5</th>\n    </tr>\n  </thead>\n  <tbody>\n    <tr>\n      <th>0</th>\n      <td>PRDA.S1CAAZI</td>\n      <td>1978.03</td>\n      <td>1000.0</td>\n      <td>FINAL</td>\n      <td>Index</td>\n      <td>0</td>\n      <td>Productivity Statistics - PRD</td>\n      <td>Productivity Indexes - Industry Level (ANZSIC06)</td>\n      <td>Capital</td>\n      <td>Agriculture, Forestry and Fishing</td>\n      <td>Index</td>\n      <td>NaN</td>\n      <td>NaN</td>\n    </tr>\n    <tr>\n      <th>1</th>\n      <td>PRDA.S1CAAZI</td>\n      <td>1979.03</td>\n      <td>947.0</td>\n      <td>FINAL</td>\n      <td>Index</td>\n      <td>0</td>\n      <td>Productivity Statistics - PRD</td>\n      <td>Productivity Indexes - Industry Level (ANZSIC06)</td>\n      <td>Capital</td>\n      <td>Agriculture, Forestry and Fishing</td>\n      <td>Index</td>\n      <td>NaN</td>\n      <td>NaN</td>\n    </tr>\n    <tr>\n      <th>2</th>\n      <td>PRDA.S1CAAZI</td>\n      <td>1980.03</td>\n      <td>1054.0</td>\n      <td>FINAL</td>\n      <td>Index</td>\n      <td>0</td>\n      <td>Productivity Statistics - PRD</td>\n      <td>Productivity Indexes - Industry Level (ANZSIC06)</td>\n      <td>Capital</td>\n      <td>Agriculture, Forestry and Fishing</td>\n      <td>Index</td>\n      <td>NaN</td>\n      <td>NaN</td>\n    </tr>\n    <tr>\n      <th>3</th>\n      <td>PRDA.S1CAAZI</td>\n      <td>1981.03</td>\n      <td>1167.0</td>\n      <td>FINAL</td>\n      <td>Index</td>\n      <td>0</td>\n      <td>Productivity Statistics - PRD</td>\n      <td>Productivity Indexes - Industry Level (ANZSIC06)</td>\n      <td>Capital</td>\n      <td>Agriculture, Forestry and Fishing</td>\n      <td>Index</td>\n      <td>NaN</td>\n      <td>NaN</td>\n    </tr>\n    <tr>\n      <th>4</th>\n      <td>PRDA.S1CAAZI</td>\n      <td>1982.03</td>\n      <td>1144.0</td>\n      <td>FINAL</td>\n      <td>Index</td>\n      <td>0</td>\n      <td>Productivity Statistics - PRD</td>\n      <td>Productivity Indexes - Industry Level (ANZSIC06)</td>\n      <td>Capital</td>\n      <td>Agriculture, Forestry and Fishing</td>\n      <td>Index</td>\n      <td>NaN</td>\n      <td>NaN</td>\n    </tr>\n    <tr>\n      <th>...</th>\n      <td>...</td>\n      <td>...</td>\n      <td>...</td>\n      <td>...</td>\n      <td>...</td>\n      <td>...</td>\n      <td>...</td>\n      <td>...</td>\n      <td>...</td>\n      <td>...</td>\n      <td>...</td>\n      <td>...</td>\n      <td>...</td>\n    </tr>\n    <tr>\n      <th>14393</th>\n      <td>PRDA.S4LMSZP</td>\n      <td>2017.03</td>\n      <td>1.7</td>\n      <td>FINAL</td>\n      <td>Percent</td>\n      <td>0</td>\n      <td>Productivity Statistics - PRD</td>\n      <td>Productivity Growth Accounting (ANZSIC06)</td>\n      <td>Annual percentage change, labour inputs index,...</td>\n      <td>NaN</td>\n      <td>NaN</td>\n      <td>NaN</td>\n      <td>NaN</td>\n    </tr>\n    <tr>\n      <th>14394</th>\n      <td>PRDA.S4LMSZP</td>\n      <td>2018.03</td>\n      <td>1.3</td>\n      <td>FINAL</td>\n      <td>Percent</td>\n      <td>0</td>\n      <td>Productivity Statistics - PRD</td>\n      <td>Productivity Growth Accounting (ANZSIC06)</td>\n      <td>Annual percentage change, labour inputs index,...</td>\n      <td>NaN</td>\n      <td>NaN</td>\n      <td>NaN</td>\n      <td>NaN</td>\n    </tr>\n    <tr>\n      <th>14395</th>\n      <td>PRDA.S4LMSZP</td>\n      <td>2019.03</td>\n      <td>1.7</td>\n      <td>FINAL</td>\n      <td>Percent</td>\n      <td>0</td>\n      <td>Productivity Statistics - PRD</td>\n      <td>Productivity Growth Accounting (ANZSIC06)</td>\n      <td>Annual percentage change, labour inputs index,...</td>\n      <td>NaN</td>\n      <td>NaN</td>\n      <td>NaN</td>\n      <td>NaN</td>\n    </tr>\n    <tr>\n      <th>14396</th>\n      <td>PRDA.S4LMSZP</td>\n      <td>2020.03</td>\n      <td>0.5</td>\n      <td>FINAL</td>\n      <td>Percent</td>\n      <td>0</td>\n      <td>Productivity Statistics - PRD</td>\n      <td>Productivity Growth Accounting (ANZSIC06)</td>\n      <td>Annual percentage change, labour inputs index,...</td>\n      <td>NaN</td>\n      <td>NaN</td>\n      <td>NaN</td>\n      <td>NaN</td>\n    </tr>\n    <tr>\n      <th>14397</th>\n      <td>PRDA.S4LMSZP</td>\n      <td>2021.03</td>\n      <td>-1.7</td>\n      <td>PROVISIONAL</td>\n      <td>Percent</td>\n      <td>0</td>\n      <td>Productivity Statistics - PRD</td>\n      <td>Productivity Growth Accounting (ANZSIC06)</td>\n      <td>Annual percentage change, labour inputs index,...</td>\n      <td>NaN</td>\n      <td>NaN</td>\n      <td>NaN</td>\n      <td>NaN</td>\n    </tr>\n  </tbody>\n</table>\n<p>14398 rows × 13 columns</p>\n</div>"
     },
     "execution_count": 40,
     "metadata": {},
     "output_type": "execute_result"
    }
   ],
   "source": [
    "df"
   ],
   "metadata": {
    "collapsed": false,
    "pycharm": {
     "name": "#%%\n"
    }
   }
  },
  {
   "cell_type": "code",
   "execution_count": 41,
   "outputs": [
    {
     "data": {
      "text/plain": "28827130.939999994"
     },
     "execution_count": 41,
     "metadata": {},
     "output_type": "execute_result"
    }
   ],
   "source": [
    "df.Period.sum()"
   ],
   "metadata": {
    "collapsed": false,
    "pycharm": {
     "name": "#%%\n"
    }
   }
  },
  {
   "cell_type": "code",
   "execution_count": 42,
   "outputs": [
    {
     "data": {
      "text/plain": "     Period  Data_value\n1   1979.03    159341.9\n0   1978.03    159931.0\n2   1980.03    160729.9\n3   1981.03    161404.3\n4   1982.03    165290.1\n5   1983.03    167764.8\n6   1984.03    171292.5\n7   1985.03    177488.0\n8   1986.03    183010.3\n9   1987.03    186588.9\n12  1990.03    188558.8\n11  1989.03    188719.3\n10  1988.03    189119.1\n13  1991.03    191789.4\n14  1992.03    192290.1\n15  1993.03    192709.0\n16  1994.03    200003.4\n17  1995.03    205561.7\n18  1996.03    323203.0\n19  1997.03    331984.2\n20  1998.03    336837.2\n21  1999.03    340337.5\n22  2000.03    398780.6\n23  2001.03    407063.8\n24  2002.03    414670.6\n25  2003.03    425040.6\n26  2004.03    436227.2\n27  2005.03    445189.9\n28  2006.03    453826.9\n29  2007.03    461388.3\n32  2010.03    471195.6\n31  2009.03    473209.8\n30  2008.03    473237.6\n33  2011.03    473723.9\n34  2012.03    479411.5\n35  2013.03    486137.9\n36  2014.03    496148.8\n37  2015.03    510130.9\n38  2016.03    521829.0\n39  2017.03    531752.9\n40  2018.03    543287.1\n43  2021.03    550450.1\n41  2019.03    557925.2\n42  2020.03    564360.0",
      "text/html": "<div>\n<style scoped>\n    .dataframe tbody tr th:only-of-type {\n        vertical-align: middle;\n    }\n\n    .dataframe tbody tr th {\n        vertical-align: top;\n    }\n\n    .dataframe thead th {\n        text-align: right;\n    }\n</style>\n<table border=\"1\" class=\"dataframe\">\n  <thead>\n    <tr style=\"text-align: right;\">\n      <th></th>\n      <th>Period</th>\n      <th>Data_value</th>\n    </tr>\n  </thead>\n  <tbody>\n    <tr>\n      <th>1</th>\n      <td>1979.03</td>\n      <td>159341.9</td>\n    </tr>\n    <tr>\n      <th>0</th>\n      <td>1978.03</td>\n      <td>159931.0</td>\n    </tr>\n    <tr>\n      <th>2</th>\n      <td>1980.03</td>\n      <td>160729.9</td>\n    </tr>\n    <tr>\n      <th>3</th>\n      <td>1981.03</td>\n      <td>161404.3</td>\n    </tr>\n    <tr>\n      <th>4</th>\n      <td>1982.03</td>\n      <td>165290.1</td>\n    </tr>\n    <tr>\n      <th>5</th>\n      <td>1983.03</td>\n      <td>167764.8</td>\n    </tr>\n    <tr>\n      <th>6</th>\n      <td>1984.03</td>\n      <td>171292.5</td>\n    </tr>\n    <tr>\n      <th>7</th>\n      <td>1985.03</td>\n      <td>177488.0</td>\n    </tr>\n    <tr>\n      <th>8</th>\n      <td>1986.03</td>\n      <td>183010.3</td>\n    </tr>\n    <tr>\n      <th>9</th>\n      <td>1987.03</td>\n      <td>186588.9</td>\n    </tr>\n    <tr>\n      <th>12</th>\n      <td>1990.03</td>\n      <td>188558.8</td>\n    </tr>\n    <tr>\n      <th>11</th>\n      <td>1989.03</td>\n      <td>188719.3</td>\n    </tr>\n    <tr>\n      <th>10</th>\n      <td>1988.03</td>\n      <td>189119.1</td>\n    </tr>\n    <tr>\n      <th>13</th>\n      <td>1991.03</td>\n      <td>191789.4</td>\n    </tr>\n    <tr>\n      <th>14</th>\n      <td>1992.03</td>\n      <td>192290.1</td>\n    </tr>\n    <tr>\n      <th>15</th>\n      <td>1993.03</td>\n      <td>192709.0</td>\n    </tr>\n    <tr>\n      <th>16</th>\n      <td>1994.03</td>\n      <td>200003.4</td>\n    </tr>\n    <tr>\n      <th>17</th>\n      <td>1995.03</td>\n      <td>205561.7</td>\n    </tr>\n    <tr>\n      <th>18</th>\n      <td>1996.03</td>\n      <td>323203.0</td>\n    </tr>\n    <tr>\n      <th>19</th>\n      <td>1997.03</td>\n      <td>331984.2</td>\n    </tr>\n    <tr>\n      <th>20</th>\n      <td>1998.03</td>\n      <td>336837.2</td>\n    </tr>\n    <tr>\n      <th>21</th>\n      <td>1999.03</td>\n      <td>340337.5</td>\n    </tr>\n    <tr>\n      <th>22</th>\n      <td>2000.03</td>\n      <td>398780.6</td>\n    </tr>\n    <tr>\n      <th>23</th>\n      <td>2001.03</td>\n      <td>407063.8</td>\n    </tr>\n    <tr>\n      <th>24</th>\n      <td>2002.03</td>\n      <td>414670.6</td>\n    </tr>\n    <tr>\n      <th>25</th>\n      <td>2003.03</td>\n      <td>425040.6</td>\n    </tr>\n    <tr>\n      <th>26</th>\n      <td>2004.03</td>\n      <td>436227.2</td>\n    </tr>\n    <tr>\n      <th>27</th>\n      <td>2005.03</td>\n      <td>445189.9</td>\n    </tr>\n    <tr>\n      <th>28</th>\n      <td>2006.03</td>\n      <td>453826.9</td>\n    </tr>\n    <tr>\n      <th>29</th>\n      <td>2007.03</td>\n      <td>461388.3</td>\n    </tr>\n    <tr>\n      <th>32</th>\n      <td>2010.03</td>\n      <td>471195.6</td>\n    </tr>\n    <tr>\n      <th>31</th>\n      <td>2009.03</td>\n      <td>473209.8</td>\n    </tr>\n    <tr>\n      <th>30</th>\n      <td>2008.03</td>\n      <td>473237.6</td>\n    </tr>\n    <tr>\n      <th>33</th>\n      <td>2011.03</td>\n      <td>473723.9</td>\n    </tr>\n    <tr>\n      <th>34</th>\n      <td>2012.03</td>\n      <td>479411.5</td>\n    </tr>\n    <tr>\n      <th>35</th>\n      <td>2013.03</td>\n      <td>486137.9</td>\n    </tr>\n    <tr>\n      <th>36</th>\n      <td>2014.03</td>\n      <td>496148.8</td>\n    </tr>\n    <tr>\n      <th>37</th>\n      <td>2015.03</td>\n      <td>510130.9</td>\n    </tr>\n    <tr>\n      <th>38</th>\n      <td>2016.03</td>\n      <td>521829.0</td>\n    </tr>\n    <tr>\n      <th>39</th>\n      <td>2017.03</td>\n      <td>531752.9</td>\n    </tr>\n    <tr>\n      <th>40</th>\n      <td>2018.03</td>\n      <td>543287.1</td>\n    </tr>\n    <tr>\n      <th>43</th>\n      <td>2021.03</td>\n      <td>550450.1</td>\n    </tr>\n    <tr>\n      <th>41</th>\n      <td>2019.03</td>\n      <td>557925.2</td>\n    </tr>\n    <tr>\n      <th>42</th>\n      <td>2020.03</td>\n      <td>564360.0</td>\n    </tr>\n  </tbody>\n</table>\n</div>"
     },
     "execution_count": 42,
     "metadata": {},
     "output_type": "execute_result"
    }
   ],
   "source": [
    "df.groupby('Period', as_index=False).aggregate({'Data_value': 'sum'}).sort_values('Data_value')"
   ],
   "metadata": {
    "collapsed": false,
    "pycharm": {
     "name": "#%%\n"
    }
   }
  },
  {
   "cell_type": "code",
   "execution_count": 43,
   "outputs": [
    {
     "data": {
      "text/plain": "     Period  Data_value\n42  2020.03    564360.0\n41  2019.03    557925.2\n43  2021.03    550450.1\n40  2018.03    543287.1\n39  2017.03    531752.9\n38  2016.03    521829.0\n37  2015.03    510130.9\n36  2014.03    496148.8\n35  2013.03    486137.9\n34  2012.03    479411.5\n33  2011.03    473723.9\n30  2008.03    473237.6\n31  2009.03    473209.8\n32  2010.03    471195.6\n29  2007.03    461388.3\n28  2006.03    453826.9\n27  2005.03    445189.9\n26  2004.03    436227.2\n25  2003.03    425040.6\n24  2002.03    414670.6\n23  2001.03    407063.8\n22  2000.03    398780.6\n21  1999.03    340337.5\n20  1998.03    336837.2\n19  1997.03    331984.2\n18  1996.03    323203.0\n17  1995.03    205561.7\n16  1994.03    200003.4\n15  1993.03    192709.0\n14  1992.03    192290.1\n13  1991.03    191789.4\n10  1988.03    189119.1\n11  1989.03    188719.3\n12  1990.03    188558.8\n9   1987.03    186588.9\n8   1986.03    183010.3\n7   1985.03    177488.0\n6   1984.03    171292.5\n5   1983.03    167764.8\n4   1982.03    165290.1\n3   1981.03    161404.3\n2   1980.03    160729.9\n0   1978.03    159931.0\n1   1979.03    159341.9",
      "text/html": "<div>\n<style scoped>\n    .dataframe tbody tr th:only-of-type {\n        vertical-align: middle;\n    }\n\n    .dataframe tbody tr th {\n        vertical-align: top;\n    }\n\n    .dataframe thead th {\n        text-align: right;\n    }\n</style>\n<table border=\"1\" class=\"dataframe\">\n  <thead>\n    <tr style=\"text-align: right;\">\n      <th></th>\n      <th>Period</th>\n      <th>Data_value</th>\n    </tr>\n  </thead>\n  <tbody>\n    <tr>\n      <th>42</th>\n      <td>2020.03</td>\n      <td>564360.0</td>\n    </tr>\n    <tr>\n      <th>41</th>\n      <td>2019.03</td>\n      <td>557925.2</td>\n    </tr>\n    <tr>\n      <th>43</th>\n      <td>2021.03</td>\n      <td>550450.1</td>\n    </tr>\n    <tr>\n      <th>40</th>\n      <td>2018.03</td>\n      <td>543287.1</td>\n    </tr>\n    <tr>\n      <th>39</th>\n      <td>2017.03</td>\n      <td>531752.9</td>\n    </tr>\n    <tr>\n      <th>38</th>\n      <td>2016.03</td>\n      <td>521829.0</td>\n    </tr>\n    <tr>\n      <th>37</th>\n      <td>2015.03</td>\n      <td>510130.9</td>\n    </tr>\n    <tr>\n      <th>36</th>\n      <td>2014.03</td>\n      <td>496148.8</td>\n    </tr>\n    <tr>\n      <th>35</th>\n      <td>2013.03</td>\n      <td>486137.9</td>\n    </tr>\n    <tr>\n      <th>34</th>\n      <td>2012.03</td>\n      <td>479411.5</td>\n    </tr>\n    <tr>\n      <th>33</th>\n      <td>2011.03</td>\n      <td>473723.9</td>\n    </tr>\n    <tr>\n      <th>30</th>\n      <td>2008.03</td>\n      <td>473237.6</td>\n    </tr>\n    <tr>\n      <th>31</th>\n      <td>2009.03</td>\n      <td>473209.8</td>\n    </tr>\n    <tr>\n      <th>32</th>\n      <td>2010.03</td>\n      <td>471195.6</td>\n    </tr>\n    <tr>\n      <th>29</th>\n      <td>2007.03</td>\n      <td>461388.3</td>\n    </tr>\n    <tr>\n      <th>28</th>\n      <td>2006.03</td>\n      <td>453826.9</td>\n    </tr>\n    <tr>\n      <th>27</th>\n      <td>2005.03</td>\n      <td>445189.9</td>\n    </tr>\n    <tr>\n      <th>26</th>\n      <td>2004.03</td>\n      <td>436227.2</td>\n    </tr>\n    <tr>\n      <th>25</th>\n      <td>2003.03</td>\n      <td>425040.6</td>\n    </tr>\n    <tr>\n      <th>24</th>\n      <td>2002.03</td>\n      <td>414670.6</td>\n    </tr>\n    <tr>\n      <th>23</th>\n      <td>2001.03</td>\n      <td>407063.8</td>\n    </tr>\n    <tr>\n      <th>22</th>\n      <td>2000.03</td>\n      <td>398780.6</td>\n    </tr>\n    <tr>\n      <th>21</th>\n      <td>1999.03</td>\n      <td>340337.5</td>\n    </tr>\n    <tr>\n      <th>20</th>\n      <td>1998.03</td>\n      <td>336837.2</td>\n    </tr>\n    <tr>\n      <th>19</th>\n      <td>1997.03</td>\n      <td>331984.2</td>\n    </tr>\n    <tr>\n      <th>18</th>\n      <td>1996.03</td>\n      <td>323203.0</td>\n    </tr>\n    <tr>\n      <th>17</th>\n      <td>1995.03</td>\n      <td>205561.7</td>\n    </tr>\n    <tr>\n      <th>16</th>\n      <td>1994.03</td>\n      <td>200003.4</td>\n    </tr>\n    <tr>\n      <th>15</th>\n      <td>1993.03</td>\n      <td>192709.0</td>\n    </tr>\n    <tr>\n      <th>14</th>\n      <td>1992.03</td>\n      <td>192290.1</td>\n    </tr>\n    <tr>\n      <th>13</th>\n      <td>1991.03</td>\n      <td>191789.4</td>\n    </tr>\n    <tr>\n      <th>10</th>\n      <td>1988.03</td>\n      <td>189119.1</td>\n    </tr>\n    <tr>\n      <th>11</th>\n      <td>1989.03</td>\n      <td>188719.3</td>\n    </tr>\n    <tr>\n      <th>12</th>\n      <td>1990.03</td>\n      <td>188558.8</td>\n    </tr>\n    <tr>\n      <th>9</th>\n      <td>1987.03</td>\n      <td>186588.9</td>\n    </tr>\n    <tr>\n      <th>8</th>\n      <td>1986.03</td>\n      <td>183010.3</td>\n    </tr>\n    <tr>\n      <th>7</th>\n      <td>1985.03</td>\n      <td>177488.0</td>\n    </tr>\n    <tr>\n      <th>6</th>\n      <td>1984.03</td>\n      <td>171292.5</td>\n    </tr>\n    <tr>\n      <th>5</th>\n      <td>1983.03</td>\n      <td>167764.8</td>\n    </tr>\n    <tr>\n      <th>4</th>\n      <td>1982.03</td>\n      <td>165290.1</td>\n    </tr>\n    <tr>\n      <th>3</th>\n      <td>1981.03</td>\n      <td>161404.3</td>\n    </tr>\n    <tr>\n      <th>2</th>\n      <td>1980.03</td>\n      <td>160729.9</td>\n    </tr>\n    <tr>\n      <th>0</th>\n      <td>1978.03</td>\n      <td>159931.0</td>\n    </tr>\n    <tr>\n      <th>1</th>\n      <td>1979.03</td>\n      <td>159341.9</td>\n    </tr>\n  </tbody>\n</table>\n</div>"
     },
     "execution_count": 43,
     "metadata": {},
     "output_type": "execute_result"
    }
   ],
   "source": [
    "df.groupby('Period', as_index=False).aggregate({'Data_value': 'sum'}).sort_values('Data_value', ascending=False)"
   ],
   "metadata": {
    "collapsed": false,
    "pycharm": {
     "name": "#%%\n"
    }
   }
  },
  {
   "cell_type": "code",
   "execution_count": 44,
   "outputs": [
    {
     "data": {
      "text/plain": "     Period  Data_value\n0   1991.03     36845.0\n1   2003.03      1155.0\n2   2005.03         1.3\n3   2006.03      7299.3\n4   2007.03     12228.0\n5   2008.03      6478.0\n6   2009.03      7437.0\n7   2010.03     11262.0\n8   2011.03     13677.0\n9   2012.03     12035.0\n10  2013.03      8323.0\n11  2014.03     25475.4\n12  2015.03     18954.0\n13  2016.03     12524.0\n14  2017.03     24094.0\n15  2018.03     10539.0\n16  2019.03     22262.8\n17  2020.03     29476.2\n18  2021.03    103443.1",
      "text/html": "<div>\n<style scoped>\n    .dataframe tbody tr th:only-of-type {\n        vertical-align: middle;\n    }\n\n    .dataframe tbody tr th {\n        vertical-align: top;\n    }\n\n    .dataframe thead th {\n        text-align: right;\n    }\n</style>\n<table border=\"1\" class=\"dataframe\">\n  <thead>\n    <tr style=\"text-align: right;\">\n      <th></th>\n      <th>Period</th>\n      <th>Data_value</th>\n    </tr>\n  </thead>\n  <tbody>\n    <tr>\n      <th>0</th>\n      <td>1991.03</td>\n      <td>36845.0</td>\n    </tr>\n    <tr>\n      <th>1</th>\n      <td>2003.03</td>\n      <td>1155.0</td>\n    </tr>\n    <tr>\n      <th>2</th>\n      <td>2005.03</td>\n      <td>1.3</td>\n    </tr>\n    <tr>\n      <th>3</th>\n      <td>2006.03</td>\n      <td>7299.3</td>\n    </tr>\n    <tr>\n      <th>4</th>\n      <td>2007.03</td>\n      <td>12228.0</td>\n    </tr>\n    <tr>\n      <th>5</th>\n      <td>2008.03</td>\n      <td>6478.0</td>\n    </tr>\n    <tr>\n      <th>6</th>\n      <td>2009.03</td>\n      <td>7437.0</td>\n    </tr>\n    <tr>\n      <th>7</th>\n      <td>2010.03</td>\n      <td>11262.0</td>\n    </tr>\n    <tr>\n      <th>8</th>\n      <td>2011.03</td>\n      <td>13677.0</td>\n    </tr>\n    <tr>\n      <th>9</th>\n      <td>2012.03</td>\n      <td>12035.0</td>\n    </tr>\n    <tr>\n      <th>10</th>\n      <td>2013.03</td>\n      <td>8323.0</td>\n    </tr>\n    <tr>\n      <th>11</th>\n      <td>2014.03</td>\n      <td>25475.4</td>\n    </tr>\n    <tr>\n      <th>12</th>\n      <td>2015.03</td>\n      <td>18954.0</td>\n    </tr>\n    <tr>\n      <th>13</th>\n      <td>2016.03</td>\n      <td>12524.0</td>\n    </tr>\n    <tr>\n      <th>14</th>\n      <td>2017.03</td>\n      <td>24094.0</td>\n    </tr>\n    <tr>\n      <th>15</th>\n      <td>2018.03</td>\n      <td>10539.0</td>\n    </tr>\n    <tr>\n      <th>16</th>\n      <td>2019.03</td>\n      <td>22262.8</td>\n    </tr>\n    <tr>\n      <th>17</th>\n      <td>2020.03</td>\n      <td>29476.2</td>\n    </tr>\n    <tr>\n      <th>18</th>\n      <td>2021.03</td>\n      <td>103443.1</td>\n    </tr>\n  </tbody>\n</table>\n</div>"
     },
     "execution_count": 44,
     "metadata": {},
     "output_type": "execute_result"
    }
   ],
   "source": [
    "df.query(\"STATUS == 'REVISED'\").groupby('Period', as_index=False).aggregate({'Data_value': 'sum'})"
   ],
   "metadata": {
    "collapsed": false,
    "pycharm": {
     "name": "#%%\n"
    }
   }
  },
  {
   "cell_type": "code",
   "execution_count": 45,
   "outputs": [
    {
     "data": {
      "text/plain": "array([1978.03, 1979.03, 1980.03, 1981.03, 1982.03, 1983.03, 1984.03,\n       1985.03, 1986.03, 1987.03, 1988.03, 1989.03, 1990.03, 1991.03,\n       1992.03, 1993.03, 1994.03, 1995.03, 1996.03, 1997.03, 1998.03,\n       1999.03, 2000.03, 2001.03, 2002.03, 2003.03, 2004.03, 2005.03,\n       2006.03, 2007.03, 2008.03, 2009.03, 2010.03, 2011.03, 2012.03,\n       2013.03, 2014.03, 2015.03, 2016.03, 2017.03, 2018.03, 2019.03,\n       2020.03, 2021.03])"
     },
     "execution_count": 45,
     "metadata": {},
     "output_type": "execute_result"
    }
   ],
   "source": [
    "df.Period.unique()"
   ],
   "metadata": {
    "collapsed": false,
    "pycharm": {
     "name": "#%%\n"
    }
   }
  },
  {
   "cell_type": "code",
   "execution_count": 46,
   "outputs": [],
   "source": [
    "from datetime import datetime"
   ],
   "metadata": {
    "collapsed": false,
    "pycharm": {
     "name": "#%%\n"
    }
   }
  },
  {
   "cell_type": "code",
   "execution_count": 47,
   "outputs": [],
   "source": [
    "today_day = datetime.today().strftime(\"%Y-%m-%d\")"
   ],
   "metadata": {
    "collapsed": false,
    "pycharm": {
     "name": "#%%\n"
    }
   }
  },
  {
   "cell_type": "code",
   "execution_count": 48,
   "outputs": [],
   "source": [
    "file_name = 'money_title_{}.csv'"
   ],
   "metadata": {
    "collapsed": false,
    "pycharm": {
     "name": "#%%\n"
    }
   }
  },
  {
   "cell_type": "code",
   "execution_count": 49,
   "outputs": [
    {
     "data": {
      "text/plain": "'money_title_2022-10-30.csv'"
     },
     "execution_count": 49,
     "metadata": {},
     "output_type": "execute_result"
    }
   ],
   "source": [
    "file_name.format(today_day)"
   ],
   "metadata": {
    "collapsed": false,
    "pycharm": {
     "name": "#%%\n"
    }
   }
  },
  {
   "cell_type": "code",
   "execution_count": 50,
   "outputs": [
    {
     "data": {
      "text/plain": "<module 'pandas' from 'C:\\\\ProgramData\\\\Anaconda3\\\\lib\\\\site-packages\\\\pandas\\\\__init__.py'>"
     },
     "execution_count": 50,
     "metadata": {},
     "output_type": "execute_result"
    }
   ],
   "source": [
    "pd"
   ],
   "metadata": {
    "collapsed": false,
    "pycharm": {
     "name": "#%%\n"
    }
   }
  },
  {
   "cell_type": "code",
   "execution_count": 51,
   "outputs": [],
   "source": [
    "taxi = pd.read_csv('https://stepik.org/media/attachments/lesson/360340/2_taxi_nyc.csv')"
   ],
   "metadata": {
    "collapsed": false,
    "pycharm": {
     "name": "#%%\n"
    }
   }
  },
  {
   "cell_type": "code",
   "execution_count": 52,
   "outputs": [
    {
     "data": {
      "text/plain": "             pickup_dt pickup_month    borough  pickups hday  spd   vsb  temp  \\\n0  2015-01-01 01:00:00          Jan      Bronx      152    Y  5.0  10.0  30.0   \n1  2015-01-01 01:00:00          Jan   Brooklyn     1519    Y  5.0  10.0  30.0   \n2  2015-01-01 01:00:00          Jan        EWR        0    Y  5.0  10.0  30.0   \n3  2015-01-01 01:00:00          Jan  Manhattan     5258    Y  5.0  10.0  30.0   \n4  2015-01-01 01:00:00          Jan     Queens      405    Y  5.0  10.0  30.0   \n\n   dewp     slp  pcp 01  pcp 06  pcp 24   sd  \n0   7.0  1023.5     0.0     0.0     0.0  0.0  \n1   7.0  1023.5     0.0     0.0     0.0  0.0  \n2   7.0  1023.5     0.0     0.0     0.0  0.0  \n3   7.0  1023.5     0.0     0.0     0.0  0.0  \n4   7.0  1023.5     0.0     0.0     0.0  0.0  ",
      "text/html": "<div>\n<style scoped>\n    .dataframe tbody tr th:only-of-type {\n        vertical-align: middle;\n    }\n\n    .dataframe tbody tr th {\n        vertical-align: top;\n    }\n\n    .dataframe thead th {\n        text-align: right;\n    }\n</style>\n<table border=\"1\" class=\"dataframe\">\n  <thead>\n    <tr style=\"text-align: right;\">\n      <th></th>\n      <th>pickup_dt</th>\n      <th>pickup_month</th>\n      <th>borough</th>\n      <th>pickups</th>\n      <th>hday</th>\n      <th>spd</th>\n      <th>vsb</th>\n      <th>temp</th>\n      <th>dewp</th>\n      <th>slp</th>\n      <th>pcp 01</th>\n      <th>pcp 06</th>\n      <th>pcp 24</th>\n      <th>sd</th>\n    </tr>\n  </thead>\n  <tbody>\n    <tr>\n      <th>0</th>\n      <td>2015-01-01 01:00:00</td>\n      <td>Jan</td>\n      <td>Bronx</td>\n      <td>152</td>\n      <td>Y</td>\n      <td>5.0</td>\n      <td>10.0</td>\n      <td>30.0</td>\n      <td>7.0</td>\n      <td>1023.5</td>\n      <td>0.0</td>\n      <td>0.0</td>\n      <td>0.0</td>\n      <td>0.0</td>\n    </tr>\n    <tr>\n      <th>1</th>\n      <td>2015-01-01 01:00:00</td>\n      <td>Jan</td>\n      <td>Brooklyn</td>\n      <td>1519</td>\n      <td>Y</td>\n      <td>5.0</td>\n      <td>10.0</td>\n      <td>30.0</td>\n      <td>7.0</td>\n      <td>1023.5</td>\n      <td>0.0</td>\n      <td>0.0</td>\n      <td>0.0</td>\n      <td>0.0</td>\n    </tr>\n    <tr>\n      <th>2</th>\n      <td>2015-01-01 01:00:00</td>\n      <td>Jan</td>\n      <td>EWR</td>\n      <td>0</td>\n      <td>Y</td>\n      <td>5.0</td>\n      <td>10.0</td>\n      <td>30.0</td>\n      <td>7.0</td>\n      <td>1023.5</td>\n      <td>0.0</td>\n      <td>0.0</td>\n      <td>0.0</td>\n      <td>0.0</td>\n    </tr>\n    <tr>\n      <th>3</th>\n      <td>2015-01-01 01:00:00</td>\n      <td>Jan</td>\n      <td>Manhattan</td>\n      <td>5258</td>\n      <td>Y</td>\n      <td>5.0</td>\n      <td>10.0</td>\n      <td>30.0</td>\n      <td>7.0</td>\n      <td>1023.5</td>\n      <td>0.0</td>\n      <td>0.0</td>\n      <td>0.0</td>\n      <td>0.0</td>\n    </tr>\n    <tr>\n      <th>4</th>\n      <td>2015-01-01 01:00:00</td>\n      <td>Jan</td>\n      <td>Queens</td>\n      <td>405</td>\n      <td>Y</td>\n      <td>5.0</td>\n      <td>10.0</td>\n      <td>30.0</td>\n      <td>7.0</td>\n      <td>1023.5</td>\n      <td>0.0</td>\n      <td>0.0</td>\n      <td>0.0</td>\n      <td>0.0</td>\n    </tr>\n  </tbody>\n</table>\n</div>"
     },
     "execution_count": 52,
     "metadata": {},
     "output_type": "execute_result"
    }
   ],
   "source": [
    "taxi.head()"
   ],
   "metadata": {
    "collapsed": false,
    "pycharm": {
     "name": "#%%\n"
    }
   }
  },
  {
   "cell_type": "code",
   "execution_count": 53,
   "outputs": [
    {
     "data": {
      "text/plain": "(29101, 14)"
     },
     "execution_count": 53,
     "metadata": {},
     "output_type": "execute_result"
    }
   ],
   "source": [
    "taxi.shape  # (число строк, число столбцов)"
   ],
   "metadata": {
    "collapsed": false,
    "pycharm": {
     "name": "#%%\n"
    }
   }
  },
  {
   "cell_type": "code",
   "execution_count": 54,
   "outputs": [
    {
     "data": {
      "text/plain": "<bound method NDFrame.head of                  pickup_dt pickup_month        borough  pickups hday  spd  \\\n0      2015-01-01 01:00:00          Jan          Bronx      152    Y  5.0   \n1      2015-01-01 01:00:00          Jan       Brooklyn     1519    Y  5.0   \n2      2015-01-01 01:00:00          Jan            EWR        0    Y  5.0   \n3      2015-01-01 01:00:00          Jan      Manhattan     5258    Y  5.0   \n4      2015-01-01 01:00:00          Jan         Queens      405    Y  5.0   \n...                    ...          ...            ...      ...  ...  ...   \n29096  2015-06-30 23:00:00          Jun            EWR        0    N  7.0   \n29097  2015-06-30 23:00:00          Jun      Manhattan     3828    N  7.0   \n29098  2015-06-30 23:00:00          Jun         Queens      580    N  7.0   \n29099  2015-06-30 23:00:00          Jun  Staten Island        0    N  7.0   \n29100  2015-06-30 23:00:00          Jun            NaN        3    N  7.0   \n\n        vsb  temp  dewp     slp  pcp 01  pcp 06  pcp 24   sd  \n0      10.0  30.0   7.0  1023.5     0.0     0.0     0.0  0.0  \n1      10.0  30.0   7.0  1023.5     0.0     0.0     0.0  0.0  \n2      10.0  30.0   7.0  1023.5     0.0     0.0     0.0  0.0  \n3      10.0  30.0   7.0  1023.5     0.0     0.0     0.0  0.0  \n4      10.0  30.0   7.0  1023.5     0.0     0.0     0.0  0.0  \n...     ...   ...   ...     ...     ...     ...     ...  ...  \n29096  10.0  75.0  65.0  1011.8     0.0     0.0     0.0  0.0  \n29097  10.0  75.0  65.0  1011.8     0.0     0.0     0.0  0.0  \n29098  10.0  75.0  65.0  1011.8     0.0     0.0     0.0  0.0  \n29099  10.0  75.0  65.0  1011.8     0.0     0.0     0.0  0.0  \n29100  10.0  75.0  65.0  1011.8     0.0     0.0     0.0  0.0  \n\n[29101 rows x 14 columns]>"
     },
     "execution_count": 54,
     "metadata": {},
     "output_type": "execute_result"
    }
   ],
   "source": [
    "taxi.head"
   ],
   "metadata": {
    "collapsed": false,
    "pycharm": {
     "name": "#%%\n"
    }
   }
  },
  {
   "cell_type": "code",
   "execution_count": 55,
   "outputs": [
    {
     "data": {
      "text/plain": "pickup_dt        object\npickup_month     object\nborough          object\npickups           int64\nhday             object\nspd             float64\nvsb             float64\ntemp            float64\ndewp            float64\nslp             float64\npcp 01          float64\npcp 06          float64\npcp 24          float64\nsd              float64\ndtype: object"
     },
     "execution_count": 55,
     "metadata": {},
     "output_type": "execute_result"
    }
   ],
   "source": [
    "taxi.dtypes"
   ],
   "metadata": {
    "collapsed": false,
    "pycharm": {
     "name": "#%%\n"
    }
   }
  },
  {
   "cell_type": "code",
   "execution_count": 56,
   "outputs": [
    {
     "data": {
      "text/plain": "float64    9\nobject     4\nint64      1\ndtype: int64"
     },
     "execution_count": 56,
     "metadata": {},
     "output_type": "execute_result"
    }
   ],
   "source": [
    "taxi.dtypes.value_counts()"
   ],
   "metadata": {
    "collapsed": false,
    "pycharm": {
     "name": "#%%\n"
    }
   }
  },
  {
   "cell_type": "code",
   "execution_count": 57,
   "outputs": [
    {
     "data": {
      "text/plain": "0                Bronx\n1             Brooklyn\n2                  EWR\n3            Manhattan\n4               Queens\n             ...      \n29096              EWR\n29097        Manhattan\n29098           Queens\n29099    Staten Island\n29100              NaN\nName: borough, Length: 29101, dtype: object"
     },
     "execution_count": 57,
     "metadata": {},
     "output_type": "execute_result"
    }
   ],
   "source": [
    "taxi.borough"
   ],
   "metadata": {
    "collapsed": false,
    "pycharm": {
     "name": "#%%\n"
    }
   }
  },
  {
   "cell_type": "code",
   "execution_count": 58,
   "outputs": [],
   "source": [
    "taxi = taxi.rename(columns={'pcp 01': 'pcp_01', 'pcp 06': 'pcp_06', 'pcp 24': 'pcp_24'})"
   ],
   "metadata": {
    "collapsed": false,
    "pycharm": {
     "name": "#%%\n"
    }
   }
  },
  {
   "cell_type": "code",
   "execution_count": 59,
   "outputs": [
    {
     "data": {
      "text/plain": "                 pickup_dt pickup_month        borough  pickups hday  spd  \\\n0      2015-01-01 01:00:00          Jan          Bronx      152    Y  5.0   \n1      2015-01-01 01:00:00          Jan       Brooklyn     1519    Y  5.0   \n2      2015-01-01 01:00:00          Jan            EWR        0    Y  5.0   \n3      2015-01-01 01:00:00          Jan      Manhattan     5258    Y  5.0   \n4      2015-01-01 01:00:00          Jan         Queens      405    Y  5.0   \n...                    ...          ...            ...      ...  ...  ...   \n29096  2015-06-30 23:00:00          Jun            EWR        0    N  7.0   \n29097  2015-06-30 23:00:00          Jun      Manhattan     3828    N  7.0   \n29098  2015-06-30 23:00:00          Jun         Queens      580    N  7.0   \n29099  2015-06-30 23:00:00          Jun  Staten Island        0    N  7.0   \n29100  2015-06-30 23:00:00          Jun            NaN        3    N  7.0   \n\n        vsb  temp  dewp     slp  pcp_01  pcp_06  pcp_24   sd  \n0      10.0  30.0   7.0  1023.5     0.0     0.0     0.0  0.0  \n1      10.0  30.0   7.0  1023.5     0.0     0.0     0.0  0.0  \n2      10.0  30.0   7.0  1023.5     0.0     0.0     0.0  0.0  \n3      10.0  30.0   7.0  1023.5     0.0     0.0     0.0  0.0  \n4      10.0  30.0   7.0  1023.5     0.0     0.0     0.0  0.0  \n...     ...   ...   ...     ...     ...     ...     ...  ...  \n29096  10.0  75.0  65.0  1011.8     0.0     0.0     0.0  0.0  \n29097  10.0  75.0  65.0  1011.8     0.0     0.0     0.0  0.0  \n29098  10.0  75.0  65.0  1011.8     0.0     0.0     0.0  0.0  \n29099  10.0  75.0  65.0  1011.8     0.0     0.0     0.0  0.0  \n29100  10.0  75.0  65.0  1011.8     0.0     0.0     0.0  0.0  \n\n[29101 rows x 14 columns]",
      "text/html": "<div>\n<style scoped>\n    .dataframe tbody tr th:only-of-type {\n        vertical-align: middle;\n    }\n\n    .dataframe tbody tr th {\n        vertical-align: top;\n    }\n\n    .dataframe thead th {\n        text-align: right;\n    }\n</style>\n<table border=\"1\" class=\"dataframe\">\n  <thead>\n    <tr style=\"text-align: right;\">\n      <th></th>\n      <th>pickup_dt</th>\n      <th>pickup_month</th>\n      <th>borough</th>\n      <th>pickups</th>\n      <th>hday</th>\n      <th>spd</th>\n      <th>vsb</th>\n      <th>temp</th>\n      <th>dewp</th>\n      <th>slp</th>\n      <th>pcp_01</th>\n      <th>pcp_06</th>\n      <th>pcp_24</th>\n      <th>sd</th>\n    </tr>\n  </thead>\n  <tbody>\n    <tr>\n      <th>0</th>\n      <td>2015-01-01 01:00:00</td>\n      <td>Jan</td>\n      <td>Bronx</td>\n      <td>152</td>\n      <td>Y</td>\n      <td>5.0</td>\n      <td>10.0</td>\n      <td>30.0</td>\n      <td>7.0</td>\n      <td>1023.5</td>\n      <td>0.0</td>\n      <td>0.0</td>\n      <td>0.0</td>\n      <td>0.0</td>\n    </tr>\n    <tr>\n      <th>1</th>\n      <td>2015-01-01 01:00:00</td>\n      <td>Jan</td>\n      <td>Brooklyn</td>\n      <td>1519</td>\n      <td>Y</td>\n      <td>5.0</td>\n      <td>10.0</td>\n      <td>30.0</td>\n      <td>7.0</td>\n      <td>1023.5</td>\n      <td>0.0</td>\n      <td>0.0</td>\n      <td>0.0</td>\n      <td>0.0</td>\n    </tr>\n    <tr>\n      <th>2</th>\n      <td>2015-01-01 01:00:00</td>\n      <td>Jan</td>\n      <td>EWR</td>\n      <td>0</td>\n      <td>Y</td>\n      <td>5.0</td>\n      <td>10.0</td>\n      <td>30.0</td>\n      <td>7.0</td>\n      <td>1023.5</td>\n      <td>0.0</td>\n      <td>0.0</td>\n      <td>0.0</td>\n      <td>0.0</td>\n    </tr>\n    <tr>\n      <th>3</th>\n      <td>2015-01-01 01:00:00</td>\n      <td>Jan</td>\n      <td>Manhattan</td>\n      <td>5258</td>\n      <td>Y</td>\n      <td>5.0</td>\n      <td>10.0</td>\n      <td>30.0</td>\n      <td>7.0</td>\n      <td>1023.5</td>\n      <td>0.0</td>\n      <td>0.0</td>\n      <td>0.0</td>\n      <td>0.0</td>\n    </tr>\n    <tr>\n      <th>4</th>\n      <td>2015-01-01 01:00:00</td>\n      <td>Jan</td>\n      <td>Queens</td>\n      <td>405</td>\n      <td>Y</td>\n      <td>5.0</td>\n      <td>10.0</td>\n      <td>30.0</td>\n      <td>7.0</td>\n      <td>1023.5</td>\n      <td>0.0</td>\n      <td>0.0</td>\n      <td>0.0</td>\n      <td>0.0</td>\n    </tr>\n    <tr>\n      <th>...</th>\n      <td>...</td>\n      <td>...</td>\n      <td>...</td>\n      <td>...</td>\n      <td>...</td>\n      <td>...</td>\n      <td>...</td>\n      <td>...</td>\n      <td>...</td>\n      <td>...</td>\n      <td>...</td>\n      <td>...</td>\n      <td>...</td>\n      <td>...</td>\n    </tr>\n    <tr>\n      <th>29096</th>\n      <td>2015-06-30 23:00:00</td>\n      <td>Jun</td>\n      <td>EWR</td>\n      <td>0</td>\n      <td>N</td>\n      <td>7.0</td>\n      <td>10.0</td>\n      <td>75.0</td>\n      <td>65.0</td>\n      <td>1011.8</td>\n      <td>0.0</td>\n      <td>0.0</td>\n      <td>0.0</td>\n      <td>0.0</td>\n    </tr>\n    <tr>\n      <th>29097</th>\n      <td>2015-06-30 23:00:00</td>\n      <td>Jun</td>\n      <td>Manhattan</td>\n      <td>3828</td>\n      <td>N</td>\n      <td>7.0</td>\n      <td>10.0</td>\n      <td>75.0</td>\n      <td>65.0</td>\n      <td>1011.8</td>\n      <td>0.0</td>\n      <td>0.0</td>\n      <td>0.0</td>\n      <td>0.0</td>\n    </tr>\n    <tr>\n      <th>29098</th>\n      <td>2015-06-30 23:00:00</td>\n      <td>Jun</td>\n      <td>Queens</td>\n      <td>580</td>\n      <td>N</td>\n      <td>7.0</td>\n      <td>10.0</td>\n      <td>75.0</td>\n      <td>65.0</td>\n      <td>1011.8</td>\n      <td>0.0</td>\n      <td>0.0</td>\n      <td>0.0</td>\n      <td>0.0</td>\n    </tr>\n    <tr>\n      <th>29099</th>\n      <td>2015-06-30 23:00:00</td>\n      <td>Jun</td>\n      <td>Staten Island</td>\n      <td>0</td>\n      <td>N</td>\n      <td>7.0</td>\n      <td>10.0</td>\n      <td>75.0</td>\n      <td>65.0</td>\n      <td>1011.8</td>\n      <td>0.0</td>\n      <td>0.0</td>\n      <td>0.0</td>\n      <td>0.0</td>\n    </tr>\n    <tr>\n      <th>29100</th>\n      <td>2015-06-30 23:00:00</td>\n      <td>Jun</td>\n      <td>NaN</td>\n      <td>3</td>\n      <td>N</td>\n      <td>7.0</td>\n      <td>10.0</td>\n      <td>75.0</td>\n      <td>65.0</td>\n      <td>1011.8</td>\n      <td>0.0</td>\n      <td>0.0</td>\n      <td>0.0</td>\n      <td>0.0</td>\n    </tr>\n  </tbody>\n</table>\n<p>29101 rows × 14 columns</p>\n</div>"
     },
     "execution_count": 59,
     "metadata": {},
     "output_type": "execute_result"
    }
   ],
   "source": [
    "taxi"
   ],
   "metadata": {
    "collapsed": false,
    "pycharm": {
     "name": "#%%\n"
    }
   }
  },
  {
   "cell_type": "code",
   "execution_count": 60,
   "outputs": [],
   "source": [
    "taxi = pd.read_csv('https://stepik.org/media/attachments/lesson/360340/2_taxi_nyc.csv')"
   ],
   "metadata": {
    "collapsed": false,
    "pycharm": {
     "name": "#%%\n"
    }
   }
  },
  {
   "cell_type": "code",
   "execution_count": 61,
   "outputs": [
    {
     "data": {
      "text/plain": "                 pickup_dt pickup_month        borough  pickups hday  spd  \\\n0      2015-01-01 01:00:00          Jan          Bronx      152    Y  5.0   \n1      2015-01-01 01:00:00          Jan       Brooklyn     1519    Y  5.0   \n2      2015-01-01 01:00:00          Jan            EWR        0    Y  5.0   \n3      2015-01-01 01:00:00          Jan      Manhattan     5258    Y  5.0   \n4      2015-01-01 01:00:00          Jan         Queens      405    Y  5.0   \n...                    ...          ...            ...      ...  ...  ...   \n29096  2015-06-30 23:00:00          Jun            EWR        0    N  7.0   \n29097  2015-06-30 23:00:00          Jun      Manhattan     3828    N  7.0   \n29098  2015-06-30 23:00:00          Jun         Queens      580    N  7.0   \n29099  2015-06-30 23:00:00          Jun  Staten Island        0    N  7.0   \n29100  2015-06-30 23:00:00          Jun            NaN        3    N  7.0   \n\n        vsb  temp  dewp     slp  pcp 01  pcp 06  pcp 24   sd  \n0      10.0  30.0   7.0  1023.5     0.0     0.0     0.0  0.0  \n1      10.0  30.0   7.0  1023.5     0.0     0.0     0.0  0.0  \n2      10.0  30.0   7.0  1023.5     0.0     0.0     0.0  0.0  \n3      10.0  30.0   7.0  1023.5     0.0     0.0     0.0  0.0  \n4      10.0  30.0   7.0  1023.5     0.0     0.0     0.0  0.0  \n...     ...   ...   ...     ...     ...     ...     ...  ...  \n29096  10.0  75.0  65.0  1011.8     0.0     0.0     0.0  0.0  \n29097  10.0  75.0  65.0  1011.8     0.0     0.0     0.0  0.0  \n29098  10.0  75.0  65.0  1011.8     0.0     0.0     0.0  0.0  \n29099  10.0  75.0  65.0  1011.8     0.0     0.0     0.0  0.0  \n29100  10.0  75.0  65.0  1011.8     0.0     0.0     0.0  0.0  \n\n[29101 rows x 14 columns]",
      "text/html": "<div>\n<style scoped>\n    .dataframe tbody tr th:only-of-type {\n        vertical-align: middle;\n    }\n\n    .dataframe tbody tr th {\n        vertical-align: top;\n    }\n\n    .dataframe thead th {\n        text-align: right;\n    }\n</style>\n<table border=\"1\" class=\"dataframe\">\n  <thead>\n    <tr style=\"text-align: right;\">\n      <th></th>\n      <th>pickup_dt</th>\n      <th>pickup_month</th>\n      <th>borough</th>\n      <th>pickups</th>\n      <th>hday</th>\n      <th>spd</th>\n      <th>vsb</th>\n      <th>temp</th>\n      <th>dewp</th>\n      <th>slp</th>\n      <th>pcp 01</th>\n      <th>pcp 06</th>\n      <th>pcp 24</th>\n      <th>sd</th>\n    </tr>\n  </thead>\n  <tbody>\n    <tr>\n      <th>0</th>\n      <td>2015-01-01 01:00:00</td>\n      <td>Jan</td>\n      <td>Bronx</td>\n      <td>152</td>\n      <td>Y</td>\n      <td>5.0</td>\n      <td>10.0</td>\n      <td>30.0</td>\n      <td>7.0</td>\n      <td>1023.5</td>\n      <td>0.0</td>\n      <td>0.0</td>\n      <td>0.0</td>\n      <td>0.0</td>\n    </tr>\n    <tr>\n      <th>1</th>\n      <td>2015-01-01 01:00:00</td>\n      <td>Jan</td>\n      <td>Brooklyn</td>\n      <td>1519</td>\n      <td>Y</td>\n      <td>5.0</td>\n      <td>10.0</td>\n      <td>30.0</td>\n      <td>7.0</td>\n      <td>1023.5</td>\n      <td>0.0</td>\n      <td>0.0</td>\n      <td>0.0</td>\n      <td>0.0</td>\n    </tr>\n    <tr>\n      <th>2</th>\n      <td>2015-01-01 01:00:00</td>\n      <td>Jan</td>\n      <td>EWR</td>\n      <td>0</td>\n      <td>Y</td>\n      <td>5.0</td>\n      <td>10.0</td>\n      <td>30.0</td>\n      <td>7.0</td>\n      <td>1023.5</td>\n      <td>0.0</td>\n      <td>0.0</td>\n      <td>0.0</td>\n      <td>0.0</td>\n    </tr>\n    <tr>\n      <th>3</th>\n      <td>2015-01-01 01:00:00</td>\n      <td>Jan</td>\n      <td>Manhattan</td>\n      <td>5258</td>\n      <td>Y</td>\n      <td>5.0</td>\n      <td>10.0</td>\n      <td>30.0</td>\n      <td>7.0</td>\n      <td>1023.5</td>\n      <td>0.0</td>\n      <td>0.0</td>\n      <td>0.0</td>\n      <td>0.0</td>\n    </tr>\n    <tr>\n      <th>4</th>\n      <td>2015-01-01 01:00:00</td>\n      <td>Jan</td>\n      <td>Queens</td>\n      <td>405</td>\n      <td>Y</td>\n      <td>5.0</td>\n      <td>10.0</td>\n      <td>30.0</td>\n      <td>7.0</td>\n      <td>1023.5</td>\n      <td>0.0</td>\n      <td>0.0</td>\n      <td>0.0</td>\n      <td>0.0</td>\n    </tr>\n    <tr>\n      <th>...</th>\n      <td>...</td>\n      <td>...</td>\n      <td>...</td>\n      <td>...</td>\n      <td>...</td>\n      <td>...</td>\n      <td>...</td>\n      <td>...</td>\n      <td>...</td>\n      <td>...</td>\n      <td>...</td>\n      <td>...</td>\n      <td>...</td>\n      <td>...</td>\n    </tr>\n    <tr>\n      <th>29096</th>\n      <td>2015-06-30 23:00:00</td>\n      <td>Jun</td>\n      <td>EWR</td>\n      <td>0</td>\n      <td>N</td>\n      <td>7.0</td>\n      <td>10.0</td>\n      <td>75.0</td>\n      <td>65.0</td>\n      <td>1011.8</td>\n      <td>0.0</td>\n      <td>0.0</td>\n      <td>0.0</td>\n      <td>0.0</td>\n    </tr>\n    <tr>\n      <th>29097</th>\n      <td>2015-06-30 23:00:00</td>\n      <td>Jun</td>\n      <td>Manhattan</td>\n      <td>3828</td>\n      <td>N</td>\n      <td>7.0</td>\n      <td>10.0</td>\n      <td>75.0</td>\n      <td>65.0</td>\n      <td>1011.8</td>\n      <td>0.0</td>\n      <td>0.0</td>\n      <td>0.0</td>\n      <td>0.0</td>\n    </tr>\n    <tr>\n      <th>29098</th>\n      <td>2015-06-30 23:00:00</td>\n      <td>Jun</td>\n      <td>Queens</td>\n      <td>580</td>\n      <td>N</td>\n      <td>7.0</td>\n      <td>10.0</td>\n      <td>75.0</td>\n      <td>65.0</td>\n      <td>1011.8</td>\n      <td>0.0</td>\n      <td>0.0</td>\n      <td>0.0</td>\n      <td>0.0</td>\n    </tr>\n    <tr>\n      <th>29099</th>\n      <td>2015-06-30 23:00:00</td>\n      <td>Jun</td>\n      <td>Staten Island</td>\n      <td>0</td>\n      <td>N</td>\n      <td>7.0</td>\n      <td>10.0</td>\n      <td>75.0</td>\n      <td>65.0</td>\n      <td>1011.8</td>\n      <td>0.0</td>\n      <td>0.0</td>\n      <td>0.0</td>\n      <td>0.0</td>\n    </tr>\n    <tr>\n      <th>29100</th>\n      <td>2015-06-30 23:00:00</td>\n      <td>Jun</td>\n      <td>NaN</td>\n      <td>3</td>\n      <td>N</td>\n      <td>7.0</td>\n      <td>10.0</td>\n      <td>75.0</td>\n      <td>65.0</td>\n      <td>1011.8</td>\n      <td>0.0</td>\n      <td>0.0</td>\n      <td>0.0</td>\n      <td>0.0</td>\n    </tr>\n  </tbody>\n</table>\n<p>29101 rows × 14 columns</p>\n</div>"
     },
     "execution_count": 61,
     "metadata": {},
     "output_type": "execute_result"
    }
   ],
   "source": [
    "taxi"
   ],
   "metadata": {
    "collapsed": false,
    "pycharm": {
     "name": "#%%\n"
    }
   }
  },
  {
   "cell_type": "code",
   "execution_count": 62,
   "outputs": [],
   "source": [
    "def underscore_rename(name):\n",
    "    return name.replace(' ', '_')"
   ],
   "metadata": {
    "collapsed": false,
    "pycharm": {
     "name": "#%%\n"
    }
   }
  },
  {
   "cell_type": "code",
   "execution_count": 63,
   "outputs": [
    {
     "data": {
      "text/plain": "                 pickup_dt pickup_month        borough  pickups hday  spd  \\\n0      2015-01-01 01:00:00          Jan          Bronx      152    Y  5.0   \n1      2015-01-01 01:00:00          Jan       Brooklyn     1519    Y  5.0   \n2      2015-01-01 01:00:00          Jan            EWR        0    Y  5.0   \n3      2015-01-01 01:00:00          Jan      Manhattan     5258    Y  5.0   \n4      2015-01-01 01:00:00          Jan         Queens      405    Y  5.0   \n...                    ...          ...            ...      ...  ...  ...   \n29096  2015-06-30 23:00:00          Jun            EWR        0    N  7.0   \n29097  2015-06-30 23:00:00          Jun      Manhattan     3828    N  7.0   \n29098  2015-06-30 23:00:00          Jun         Queens      580    N  7.0   \n29099  2015-06-30 23:00:00          Jun  Staten Island        0    N  7.0   \n29100  2015-06-30 23:00:00          Jun            NaN        3    N  7.0   \n\n        vsb  temp  dewp     slp  pcp_01  pcp_06  pcp_24   sd  \n0      10.0  30.0   7.0  1023.5     0.0     0.0     0.0  0.0  \n1      10.0  30.0   7.0  1023.5     0.0     0.0     0.0  0.0  \n2      10.0  30.0   7.0  1023.5     0.0     0.0     0.0  0.0  \n3      10.0  30.0   7.0  1023.5     0.0     0.0     0.0  0.0  \n4      10.0  30.0   7.0  1023.5     0.0     0.0     0.0  0.0  \n...     ...   ...   ...     ...     ...     ...     ...  ...  \n29096  10.0  75.0  65.0  1011.8     0.0     0.0     0.0  0.0  \n29097  10.0  75.0  65.0  1011.8     0.0     0.0     0.0  0.0  \n29098  10.0  75.0  65.0  1011.8     0.0     0.0     0.0  0.0  \n29099  10.0  75.0  65.0  1011.8     0.0     0.0     0.0  0.0  \n29100  10.0  75.0  65.0  1011.8     0.0     0.0     0.0  0.0  \n\n[29101 rows x 14 columns]",
      "text/html": "<div>\n<style scoped>\n    .dataframe tbody tr th:only-of-type {\n        vertical-align: middle;\n    }\n\n    .dataframe tbody tr th {\n        vertical-align: top;\n    }\n\n    .dataframe thead th {\n        text-align: right;\n    }\n</style>\n<table border=\"1\" class=\"dataframe\">\n  <thead>\n    <tr style=\"text-align: right;\">\n      <th></th>\n      <th>pickup_dt</th>\n      <th>pickup_month</th>\n      <th>borough</th>\n      <th>pickups</th>\n      <th>hday</th>\n      <th>spd</th>\n      <th>vsb</th>\n      <th>temp</th>\n      <th>dewp</th>\n      <th>slp</th>\n      <th>pcp_01</th>\n      <th>pcp_06</th>\n      <th>pcp_24</th>\n      <th>sd</th>\n    </tr>\n  </thead>\n  <tbody>\n    <tr>\n      <th>0</th>\n      <td>2015-01-01 01:00:00</td>\n      <td>Jan</td>\n      <td>Bronx</td>\n      <td>152</td>\n      <td>Y</td>\n      <td>5.0</td>\n      <td>10.0</td>\n      <td>30.0</td>\n      <td>7.0</td>\n      <td>1023.5</td>\n      <td>0.0</td>\n      <td>0.0</td>\n      <td>0.0</td>\n      <td>0.0</td>\n    </tr>\n    <tr>\n      <th>1</th>\n      <td>2015-01-01 01:00:00</td>\n      <td>Jan</td>\n      <td>Brooklyn</td>\n      <td>1519</td>\n      <td>Y</td>\n      <td>5.0</td>\n      <td>10.0</td>\n      <td>30.0</td>\n      <td>7.0</td>\n      <td>1023.5</td>\n      <td>0.0</td>\n      <td>0.0</td>\n      <td>0.0</td>\n      <td>0.0</td>\n    </tr>\n    <tr>\n      <th>2</th>\n      <td>2015-01-01 01:00:00</td>\n      <td>Jan</td>\n      <td>EWR</td>\n      <td>0</td>\n      <td>Y</td>\n      <td>5.0</td>\n      <td>10.0</td>\n      <td>30.0</td>\n      <td>7.0</td>\n      <td>1023.5</td>\n      <td>0.0</td>\n      <td>0.0</td>\n      <td>0.0</td>\n      <td>0.0</td>\n    </tr>\n    <tr>\n      <th>3</th>\n      <td>2015-01-01 01:00:00</td>\n      <td>Jan</td>\n      <td>Manhattan</td>\n      <td>5258</td>\n      <td>Y</td>\n      <td>5.0</td>\n      <td>10.0</td>\n      <td>30.0</td>\n      <td>7.0</td>\n      <td>1023.5</td>\n      <td>0.0</td>\n      <td>0.0</td>\n      <td>0.0</td>\n      <td>0.0</td>\n    </tr>\n    <tr>\n      <th>4</th>\n      <td>2015-01-01 01:00:00</td>\n      <td>Jan</td>\n      <td>Queens</td>\n      <td>405</td>\n      <td>Y</td>\n      <td>5.0</td>\n      <td>10.0</td>\n      <td>30.0</td>\n      <td>7.0</td>\n      <td>1023.5</td>\n      <td>0.0</td>\n      <td>0.0</td>\n      <td>0.0</td>\n      <td>0.0</td>\n    </tr>\n    <tr>\n      <th>...</th>\n      <td>...</td>\n      <td>...</td>\n      <td>...</td>\n      <td>...</td>\n      <td>...</td>\n      <td>...</td>\n      <td>...</td>\n      <td>...</td>\n      <td>...</td>\n      <td>...</td>\n      <td>...</td>\n      <td>...</td>\n      <td>...</td>\n      <td>...</td>\n    </tr>\n    <tr>\n      <th>29096</th>\n      <td>2015-06-30 23:00:00</td>\n      <td>Jun</td>\n      <td>EWR</td>\n      <td>0</td>\n      <td>N</td>\n      <td>7.0</td>\n      <td>10.0</td>\n      <td>75.0</td>\n      <td>65.0</td>\n      <td>1011.8</td>\n      <td>0.0</td>\n      <td>0.0</td>\n      <td>0.0</td>\n      <td>0.0</td>\n    </tr>\n    <tr>\n      <th>29097</th>\n      <td>2015-06-30 23:00:00</td>\n      <td>Jun</td>\n      <td>Manhattan</td>\n      <td>3828</td>\n      <td>N</td>\n      <td>7.0</td>\n      <td>10.0</td>\n      <td>75.0</td>\n      <td>65.0</td>\n      <td>1011.8</td>\n      <td>0.0</td>\n      <td>0.0</td>\n      <td>0.0</td>\n      <td>0.0</td>\n    </tr>\n    <tr>\n      <th>29098</th>\n      <td>2015-06-30 23:00:00</td>\n      <td>Jun</td>\n      <td>Queens</td>\n      <td>580</td>\n      <td>N</td>\n      <td>7.0</td>\n      <td>10.0</td>\n      <td>75.0</td>\n      <td>65.0</td>\n      <td>1011.8</td>\n      <td>0.0</td>\n      <td>0.0</td>\n      <td>0.0</td>\n      <td>0.0</td>\n    </tr>\n    <tr>\n      <th>29099</th>\n      <td>2015-06-30 23:00:00</td>\n      <td>Jun</td>\n      <td>Staten Island</td>\n      <td>0</td>\n      <td>N</td>\n      <td>7.0</td>\n      <td>10.0</td>\n      <td>75.0</td>\n      <td>65.0</td>\n      <td>1011.8</td>\n      <td>0.0</td>\n      <td>0.0</td>\n      <td>0.0</td>\n      <td>0.0</td>\n    </tr>\n    <tr>\n      <th>29100</th>\n      <td>2015-06-30 23:00:00</td>\n      <td>Jun</td>\n      <td>NaN</td>\n      <td>3</td>\n      <td>N</td>\n      <td>7.0</td>\n      <td>10.0</td>\n      <td>75.0</td>\n      <td>65.0</td>\n      <td>1011.8</td>\n      <td>0.0</td>\n      <td>0.0</td>\n      <td>0.0</td>\n      <td>0.0</td>\n    </tr>\n  </tbody>\n</table>\n<p>29101 rows × 14 columns</p>\n</div>"
     },
     "execution_count": 63,
     "metadata": {},
     "output_type": "execute_result"
    }
   ],
   "source": [
    "taxi.rename(columns=underscore_rename)"
   ],
   "metadata": {
    "collapsed": false,
    "pycharm": {
     "name": "#%%\n"
    }
   }
  },
  {
   "cell_type": "code",
   "execution_count": 64,
   "outputs": [],
   "source": [
    "taxi = taxi.rename(columns=underscore_rename)"
   ],
   "metadata": {
    "collapsed": false,
    "pycharm": {
     "name": "#%%\n"
    }
   }
  },
  {
   "cell_type": "code",
   "execution_count": 65,
   "outputs": [
    {
     "data": {
      "text/plain": "                 pickup_dt pickup_month   borough  pickups hday  spd   vsb  \\\n1      2015-01-01 01:00:00          Jan  Brooklyn     1519    Y  5.0  10.0   \n8      2015-01-01 02:00:00          Jan  Brooklyn     1229    Y  3.0  10.0   \n15     2015-01-01 03:00:00          Jan  Brooklyn     1601    Y  5.0  10.0   \n22     2015-01-01 04:00:00          Jan  Brooklyn     1390    Y  5.0  10.0   \n29     2015-01-01 05:00:00          Jan  Brooklyn      759    Y  5.0  10.0   \n...                    ...          ...       ...      ...  ...  ...   ...   \n29069  2015-06-30 19:00:00          Jun  Brooklyn      777    N  5.0  10.0   \n29076  2015-06-30 20:00:00          Jun  Brooklyn      817    N  8.0  10.0   \n29083  2015-06-30 21:00:00          Jun  Brooklyn      829    N  7.0  10.0   \n29089  2015-06-30 22:00:00          Jun  Brooklyn      860    N  5.0  10.0   \n29095  2015-06-30 23:00:00          Jun  Brooklyn      990    N  7.0  10.0   \n\n       temp  dewp     slp  pcp_01  pcp_06  pcp_24   sd  \n1      30.0   7.0  1023.5     0.0     0.0     0.0  0.0  \n8      30.0   6.0  1023.0     0.0     0.0     0.0  0.0  \n15     30.0   8.0  1022.3     0.0     0.0     0.0  0.0  \n22     29.0   9.0  1022.0     0.0     0.0     0.0  0.0  \n29     28.0   9.0  1021.8     0.0     0.0     0.0  0.0  \n...     ...   ...     ...     ...     ...     ...  ...  \n29069  80.0  58.0  1012.5     0.0     0.0     0.0  0.0  \n29076  80.0  58.0  1012.4     0.0     0.0     0.0  0.0  \n29083  76.0  61.0  1012.4     0.0     0.0     0.0  0.0  \n29089  76.0  64.0  1011.9     0.0     0.0     0.0  0.0  \n29095  75.0  65.0  1011.8     0.0     0.0     0.0  0.0  \n\n[4343 rows x 14 columns]",
      "text/html": "<div>\n<style scoped>\n    .dataframe tbody tr th:only-of-type {\n        vertical-align: middle;\n    }\n\n    .dataframe tbody tr th {\n        vertical-align: top;\n    }\n\n    .dataframe thead th {\n        text-align: right;\n    }\n</style>\n<table border=\"1\" class=\"dataframe\">\n  <thead>\n    <tr style=\"text-align: right;\">\n      <th></th>\n      <th>pickup_dt</th>\n      <th>pickup_month</th>\n      <th>borough</th>\n      <th>pickups</th>\n      <th>hday</th>\n      <th>spd</th>\n      <th>vsb</th>\n      <th>temp</th>\n      <th>dewp</th>\n      <th>slp</th>\n      <th>pcp_01</th>\n      <th>pcp_06</th>\n      <th>pcp_24</th>\n      <th>sd</th>\n    </tr>\n  </thead>\n  <tbody>\n    <tr>\n      <th>1</th>\n      <td>2015-01-01 01:00:00</td>\n      <td>Jan</td>\n      <td>Brooklyn</td>\n      <td>1519</td>\n      <td>Y</td>\n      <td>5.0</td>\n      <td>10.0</td>\n      <td>30.0</td>\n      <td>7.0</td>\n      <td>1023.5</td>\n      <td>0.0</td>\n      <td>0.0</td>\n      <td>0.0</td>\n      <td>0.0</td>\n    </tr>\n    <tr>\n      <th>8</th>\n      <td>2015-01-01 02:00:00</td>\n      <td>Jan</td>\n      <td>Brooklyn</td>\n      <td>1229</td>\n      <td>Y</td>\n      <td>3.0</td>\n      <td>10.0</td>\n      <td>30.0</td>\n      <td>6.0</td>\n      <td>1023.0</td>\n      <td>0.0</td>\n      <td>0.0</td>\n      <td>0.0</td>\n      <td>0.0</td>\n    </tr>\n    <tr>\n      <th>15</th>\n      <td>2015-01-01 03:00:00</td>\n      <td>Jan</td>\n      <td>Brooklyn</td>\n      <td>1601</td>\n      <td>Y</td>\n      <td>5.0</td>\n      <td>10.0</td>\n      <td>30.0</td>\n      <td>8.0</td>\n      <td>1022.3</td>\n      <td>0.0</td>\n      <td>0.0</td>\n      <td>0.0</td>\n      <td>0.0</td>\n    </tr>\n    <tr>\n      <th>22</th>\n      <td>2015-01-01 04:00:00</td>\n      <td>Jan</td>\n      <td>Brooklyn</td>\n      <td>1390</td>\n      <td>Y</td>\n      <td>5.0</td>\n      <td>10.0</td>\n      <td>29.0</td>\n      <td>9.0</td>\n      <td>1022.0</td>\n      <td>0.0</td>\n      <td>0.0</td>\n      <td>0.0</td>\n      <td>0.0</td>\n    </tr>\n    <tr>\n      <th>29</th>\n      <td>2015-01-01 05:00:00</td>\n      <td>Jan</td>\n      <td>Brooklyn</td>\n      <td>759</td>\n      <td>Y</td>\n      <td>5.0</td>\n      <td>10.0</td>\n      <td>28.0</td>\n      <td>9.0</td>\n      <td>1021.8</td>\n      <td>0.0</td>\n      <td>0.0</td>\n      <td>0.0</td>\n      <td>0.0</td>\n    </tr>\n    <tr>\n      <th>...</th>\n      <td>...</td>\n      <td>...</td>\n      <td>...</td>\n      <td>...</td>\n      <td>...</td>\n      <td>...</td>\n      <td>...</td>\n      <td>...</td>\n      <td>...</td>\n      <td>...</td>\n      <td>...</td>\n      <td>...</td>\n      <td>...</td>\n      <td>...</td>\n    </tr>\n    <tr>\n      <th>29069</th>\n      <td>2015-06-30 19:00:00</td>\n      <td>Jun</td>\n      <td>Brooklyn</td>\n      <td>777</td>\n      <td>N</td>\n      <td>5.0</td>\n      <td>10.0</td>\n      <td>80.0</td>\n      <td>58.0</td>\n      <td>1012.5</td>\n      <td>0.0</td>\n      <td>0.0</td>\n      <td>0.0</td>\n      <td>0.0</td>\n    </tr>\n    <tr>\n      <th>29076</th>\n      <td>2015-06-30 20:00:00</td>\n      <td>Jun</td>\n      <td>Brooklyn</td>\n      <td>817</td>\n      <td>N</td>\n      <td>8.0</td>\n      <td>10.0</td>\n      <td>80.0</td>\n      <td>58.0</td>\n      <td>1012.4</td>\n      <td>0.0</td>\n      <td>0.0</td>\n      <td>0.0</td>\n      <td>0.0</td>\n    </tr>\n    <tr>\n      <th>29083</th>\n      <td>2015-06-30 21:00:00</td>\n      <td>Jun</td>\n      <td>Brooklyn</td>\n      <td>829</td>\n      <td>N</td>\n      <td>7.0</td>\n      <td>10.0</td>\n      <td>76.0</td>\n      <td>61.0</td>\n      <td>1012.4</td>\n      <td>0.0</td>\n      <td>0.0</td>\n      <td>0.0</td>\n      <td>0.0</td>\n    </tr>\n    <tr>\n      <th>29089</th>\n      <td>2015-06-30 22:00:00</td>\n      <td>Jun</td>\n      <td>Brooklyn</td>\n      <td>860</td>\n      <td>N</td>\n      <td>5.0</td>\n      <td>10.0</td>\n      <td>76.0</td>\n      <td>64.0</td>\n      <td>1011.9</td>\n      <td>0.0</td>\n      <td>0.0</td>\n      <td>0.0</td>\n      <td>0.0</td>\n    </tr>\n    <tr>\n      <th>29095</th>\n      <td>2015-06-30 23:00:00</td>\n      <td>Jun</td>\n      <td>Brooklyn</td>\n      <td>990</td>\n      <td>N</td>\n      <td>7.0</td>\n      <td>10.0</td>\n      <td>75.0</td>\n      <td>65.0</td>\n      <td>1011.8</td>\n      <td>0.0</td>\n      <td>0.0</td>\n      <td>0.0</td>\n      <td>0.0</td>\n    </tr>\n  </tbody>\n</table>\n<p>4343 rows × 14 columns</p>\n</div>"
     },
     "execution_count": 65,
     "metadata": {},
     "output_type": "execute_result"
    }
   ],
   "source": [
    "taxi.query('borough == \"Brooklyn\"')"
   ],
   "metadata": {
    "collapsed": false,
    "pycharm": {
     "name": "#%%\n"
    }
   }
  },
  {
   "cell_type": "code",
   "execution_count": 66,
   "outputs": [
    {
     "data": {
      "text/plain": "4343"
     },
     "execution_count": 66,
     "metadata": {},
     "output_type": "execute_result"
    }
   ],
   "source": [
    "taxi.query('borough == \"Brooklyn\"').shape[0]"
   ],
   "metadata": {
    "collapsed": false,
    "pycharm": {
     "name": "#%%\n"
    }
   }
  },
  {
   "cell_type": "code",
   "execution_count": 67,
   "outputs": [
    {
     "data": {
      "text/plain": "               hday\nborough            \nBronx          4343\nBrooklyn       4343\nEWR            4343\nManhattan      4343\nQueens         4343\nStaten Island  4343",
      "text/html": "<div>\n<style scoped>\n    .dataframe tbody tr th:only-of-type {\n        vertical-align: middle;\n    }\n\n    .dataframe tbody tr th {\n        vertical-align: top;\n    }\n\n    .dataframe thead th {\n        text-align: right;\n    }\n</style>\n<table border=\"1\" class=\"dataframe\">\n  <thead>\n    <tr style=\"text-align: right;\">\n      <th></th>\n      <th>hday</th>\n    </tr>\n    <tr>\n      <th>borough</th>\n      <th></th>\n    </tr>\n  </thead>\n  <tbody>\n    <tr>\n      <th>Bronx</th>\n      <td>4343</td>\n    </tr>\n    <tr>\n      <th>Brooklyn</th>\n      <td>4343</td>\n    </tr>\n    <tr>\n      <th>EWR</th>\n      <td>4343</td>\n    </tr>\n    <tr>\n      <th>Manhattan</th>\n      <td>4343</td>\n    </tr>\n    <tr>\n      <th>Queens</th>\n      <td>4343</td>\n    </tr>\n    <tr>\n      <th>Staten Island</th>\n      <td>4343</td>\n    </tr>\n  </tbody>\n</table>\n</div>"
     },
     "execution_count": 67,
     "metadata": {},
     "output_type": "execute_result"
    }
   ],
   "source": [
    "taxi.groupby('borough').aggregate({'hday': 'count'})"
   ],
   "metadata": {
    "collapsed": false,
    "pycharm": {
     "name": "#%%\n"
    }
   }
  },
  {
   "cell_type": "code",
   "execution_count": 68,
   "outputs": [
    {
     "data": {
      "text/plain": "Bronx            4343\nBrooklyn         4343\nEWR              4343\nManhattan        4343\nQueens           4343\nStaten Island    4343\nName: borough, dtype: int64"
     },
     "execution_count": 68,
     "metadata": {},
     "output_type": "execute_result"
    }
   ],
   "source": [
    "taxi.borough.value_counts()"
   ],
   "metadata": {
    "collapsed": false,
    "pycharm": {
     "name": "#%%\n"
    }
   }
  },
  {
   "cell_type": "code",
   "execution_count": 69,
   "outputs": [
    {
     "data": {
      "text/plain": "14265773"
     },
     "execution_count": 69,
     "metadata": {},
     "output_type": "execute_result"
    }
   ],
   "source": [
    "taxi.pickups.sum()"
   ],
   "metadata": {
    "collapsed": false,
    "pycharm": {
     "name": "#%%\n"
    }
   }
  },
  {
   "cell_type": "code",
   "execution_count": 70,
   "outputs": [
    {
     "data": {
      "text/plain": "                pickups\nborough                \nBronx            220047\nBrooklyn        2321035\nEWR                 105\nManhattan      10367841\nQueens          1343528\nStaten Island      6957",
      "text/html": "<div>\n<style scoped>\n    .dataframe tbody tr th:only-of-type {\n        vertical-align: middle;\n    }\n\n    .dataframe tbody tr th {\n        vertical-align: top;\n    }\n\n    .dataframe thead th {\n        text-align: right;\n    }\n</style>\n<table border=\"1\" class=\"dataframe\">\n  <thead>\n    <tr style=\"text-align: right;\">\n      <th></th>\n      <th>pickups</th>\n    </tr>\n    <tr>\n      <th>borough</th>\n      <th></th>\n    </tr>\n  </thead>\n  <tbody>\n    <tr>\n      <th>Bronx</th>\n      <td>220047</td>\n    </tr>\n    <tr>\n      <th>Brooklyn</th>\n      <td>2321035</td>\n    </tr>\n    <tr>\n      <th>EWR</th>\n      <td>105</td>\n    </tr>\n    <tr>\n      <th>Manhattan</th>\n      <td>10367841</td>\n    </tr>\n    <tr>\n      <th>Queens</th>\n      <td>1343528</td>\n    </tr>\n    <tr>\n      <th>Staten Island</th>\n      <td>6957</td>\n    </tr>\n  </tbody>\n</table>\n</div>"
     },
     "execution_count": 70,
     "metadata": {},
     "output_type": "execute_result"
    }
   ],
   "source": [
    "taxi.groupby('borough').aggregate({'pickups': 'sum'})"
   ],
   "metadata": {
    "collapsed": false,
    "pycharm": {
     "name": "#%%\n"
    }
   }
  },
  {
   "cell_type": "code",
   "execution_count": 71,
   "outputs": [
    {
     "data": {
      "text/plain": "pickups    Manhattan\ndtype: object"
     },
     "execution_count": 71,
     "metadata": {},
     "output_type": "execute_result"
    }
   ],
   "source": [
    "taxi.groupby('borough').aggregate({'pickups': 'sum'}).idxmax()"
   ],
   "metadata": {
    "collapsed": false,
    "pycharm": {
     "name": "#%%\n"
    }
   }
  },
  {
   "cell_type": "code",
   "execution_count": 72,
   "outputs": [
    {
     "data": {
      "text/plain": "pickups    EWR\ndtype: object"
     },
     "execution_count": 72,
     "metadata": {},
     "output_type": "execute_result"
    }
   ],
   "source": [
    "taxi.groupby('borough').aggregate({'pickups': 'sum'}).idxmin()"
   ],
   "metadata": {
    "collapsed": false,
    "pycharm": {
     "name": "#%%\n"
    }
   }
  },
  {
   "cell_type": "markdown",
   "source": [],
   "metadata": {
    "collapsed": false,
    "pycharm": {
     "name": "#%% md\n"
    }
   }
  },
  {
   "cell_type": "code",
   "execution_count": 73,
   "outputs": [
    {
     "data": {
      "text/plain": "          borough hday      pickups\n0           Bronx    N    50.771073\n1           Bronx    Y    48.065868\n2        Brooklyn    N   534.727969\n3        Brooklyn    Y   527.011976\n4             EWR    N     0.023467\n5             EWR    Y     0.041916\n6       Manhattan    N  2401.302921\n7       Manhattan    Y  2035.928144\n8          Queens    N   308.899904\n9          Queens    Y   320.730539\n10  Staten Island    N     1.606082\n11  Staten Island    Y     1.497006",
      "text/html": "<div>\n<style scoped>\n    .dataframe tbody tr th:only-of-type {\n        vertical-align: middle;\n    }\n\n    .dataframe tbody tr th {\n        vertical-align: top;\n    }\n\n    .dataframe thead th {\n        text-align: right;\n    }\n</style>\n<table border=\"1\" class=\"dataframe\">\n  <thead>\n    <tr style=\"text-align: right;\">\n      <th></th>\n      <th>borough</th>\n      <th>hday</th>\n      <th>pickups</th>\n    </tr>\n  </thead>\n  <tbody>\n    <tr>\n      <th>0</th>\n      <td>Bronx</td>\n      <td>N</td>\n      <td>50.771073</td>\n    </tr>\n    <tr>\n      <th>1</th>\n      <td>Bronx</td>\n      <td>Y</td>\n      <td>48.065868</td>\n    </tr>\n    <tr>\n      <th>2</th>\n      <td>Brooklyn</td>\n      <td>N</td>\n      <td>534.727969</td>\n    </tr>\n    <tr>\n      <th>3</th>\n      <td>Brooklyn</td>\n      <td>Y</td>\n      <td>527.011976</td>\n    </tr>\n    <tr>\n      <th>4</th>\n      <td>EWR</td>\n      <td>N</td>\n      <td>0.023467</td>\n    </tr>\n    <tr>\n      <th>5</th>\n      <td>EWR</td>\n      <td>Y</td>\n      <td>0.041916</td>\n    </tr>\n    <tr>\n      <th>6</th>\n      <td>Manhattan</td>\n      <td>N</td>\n      <td>2401.302921</td>\n    </tr>\n    <tr>\n      <th>7</th>\n      <td>Manhattan</td>\n      <td>Y</td>\n      <td>2035.928144</td>\n    </tr>\n    <tr>\n      <th>8</th>\n      <td>Queens</td>\n      <td>N</td>\n      <td>308.899904</td>\n    </tr>\n    <tr>\n      <th>9</th>\n      <td>Queens</td>\n      <td>Y</td>\n      <td>320.730539</td>\n    </tr>\n    <tr>\n      <th>10</th>\n      <td>Staten Island</td>\n      <td>N</td>\n      <td>1.606082</td>\n    </tr>\n    <tr>\n      <th>11</th>\n      <td>Staten Island</td>\n      <td>Y</td>\n      <td>1.497006</td>\n    </tr>\n  </tbody>\n</table>\n</div>"
     },
     "execution_count": 73,
     "metadata": {},
     "output_type": "execute_result"
    }
   ],
   "source": [
    "taxi.groupby(['borough', 'hday'], as_index=False).aggregate({'pickups': 'mean'})"
   ],
   "metadata": {
    "collapsed": false,
    "pycharm": {
     "name": "#%%\n"
    }
   }
  },
  {
   "cell_type": "code",
   "execution_count": 74,
   "outputs": [
    {
     "data": {
      "text/plain": "          borough pickup_month  pickups\n21      Manhattan          Jun  1995388\n23      Manhattan          May  1888800\n19      Manhattan          Feb  1718571\n22      Manhattan          Mar  1661261\n18      Manhattan          Apr  1648278\n20      Manhattan          Jan  1455543\n9        Brooklyn          Jun   482466\n11       Brooklyn          May   476087\n6        Brooklyn          Apr   378095\n10       Brooklyn          Mar   346726\n7        Brooklyn          Feb   328650\n8        Brooklyn          Jan   309011\n27         Queens          Jun   286311\n29         Queens          May   275893\n28         Queens          Mar   219561\n24         Queens          Apr   216857\n25         Queens          Feb   185695\n26         Queens          Jan   159211\n5           Bronx          May    53037\n3           Bronx          Jun    49006\n0           Bronx          Apr    34617\n4           Bronx          Mar    32232\n1           Bronx          Feb    28694\n2           Bronx          Jan    22461\n33  Staten Island          Jun     1673\n35  Staten Island          May     1517\n30  Staten Island          Apr     1068\n34  Staten Island          Mar      975\n31  Staten Island          Feb      903\n32  Staten Island          Jan      821\n15            EWR          Jun       29\n17            EWR          May       27\n16            EWR          Mar       14\n13            EWR          Feb       14\n14            EWR          Jan       11\n12            EWR          Apr       10",
      "text/html": "<div>\n<style scoped>\n    .dataframe tbody tr th:only-of-type {\n        vertical-align: middle;\n    }\n\n    .dataframe tbody tr th {\n        vertical-align: top;\n    }\n\n    .dataframe thead th {\n        text-align: right;\n    }\n</style>\n<table border=\"1\" class=\"dataframe\">\n  <thead>\n    <tr style=\"text-align: right;\">\n      <th></th>\n      <th>borough</th>\n      <th>pickup_month</th>\n      <th>pickups</th>\n    </tr>\n  </thead>\n  <tbody>\n    <tr>\n      <th>21</th>\n      <td>Manhattan</td>\n      <td>Jun</td>\n      <td>1995388</td>\n    </tr>\n    <tr>\n      <th>23</th>\n      <td>Manhattan</td>\n      <td>May</td>\n      <td>1888800</td>\n    </tr>\n    <tr>\n      <th>19</th>\n      <td>Manhattan</td>\n      <td>Feb</td>\n      <td>1718571</td>\n    </tr>\n    <tr>\n      <th>22</th>\n      <td>Manhattan</td>\n      <td>Mar</td>\n      <td>1661261</td>\n    </tr>\n    <tr>\n      <th>18</th>\n      <td>Manhattan</td>\n      <td>Apr</td>\n      <td>1648278</td>\n    </tr>\n    <tr>\n      <th>20</th>\n      <td>Manhattan</td>\n      <td>Jan</td>\n      <td>1455543</td>\n    </tr>\n    <tr>\n      <th>9</th>\n      <td>Brooklyn</td>\n      <td>Jun</td>\n      <td>482466</td>\n    </tr>\n    <tr>\n      <th>11</th>\n      <td>Brooklyn</td>\n      <td>May</td>\n      <td>476087</td>\n    </tr>\n    <tr>\n      <th>6</th>\n      <td>Brooklyn</td>\n      <td>Apr</td>\n      <td>378095</td>\n    </tr>\n    <tr>\n      <th>10</th>\n      <td>Brooklyn</td>\n      <td>Mar</td>\n      <td>346726</td>\n    </tr>\n    <tr>\n      <th>7</th>\n      <td>Brooklyn</td>\n      <td>Feb</td>\n      <td>328650</td>\n    </tr>\n    <tr>\n      <th>8</th>\n      <td>Brooklyn</td>\n      <td>Jan</td>\n      <td>309011</td>\n    </tr>\n    <tr>\n      <th>27</th>\n      <td>Queens</td>\n      <td>Jun</td>\n      <td>286311</td>\n    </tr>\n    <tr>\n      <th>29</th>\n      <td>Queens</td>\n      <td>May</td>\n      <td>275893</td>\n    </tr>\n    <tr>\n      <th>28</th>\n      <td>Queens</td>\n      <td>Mar</td>\n      <td>219561</td>\n    </tr>\n    <tr>\n      <th>24</th>\n      <td>Queens</td>\n      <td>Apr</td>\n      <td>216857</td>\n    </tr>\n    <tr>\n      <th>25</th>\n      <td>Queens</td>\n      <td>Feb</td>\n      <td>185695</td>\n    </tr>\n    <tr>\n      <th>26</th>\n      <td>Queens</td>\n      <td>Jan</td>\n      <td>159211</td>\n    </tr>\n    <tr>\n      <th>5</th>\n      <td>Bronx</td>\n      <td>May</td>\n      <td>53037</td>\n    </tr>\n    <tr>\n      <th>3</th>\n      <td>Bronx</td>\n      <td>Jun</td>\n      <td>49006</td>\n    </tr>\n    <tr>\n      <th>0</th>\n      <td>Bronx</td>\n      <td>Apr</td>\n      <td>34617</td>\n    </tr>\n    <tr>\n      <th>4</th>\n      <td>Bronx</td>\n      <td>Mar</td>\n      <td>32232</td>\n    </tr>\n    <tr>\n      <th>1</th>\n      <td>Bronx</td>\n      <td>Feb</td>\n      <td>28694</td>\n    </tr>\n    <tr>\n      <th>2</th>\n      <td>Bronx</td>\n      <td>Jan</td>\n      <td>22461</td>\n    </tr>\n    <tr>\n      <th>33</th>\n      <td>Staten Island</td>\n      <td>Jun</td>\n      <td>1673</td>\n    </tr>\n    <tr>\n      <th>35</th>\n      <td>Staten Island</td>\n      <td>May</td>\n      <td>1517</td>\n    </tr>\n    <tr>\n      <th>30</th>\n      <td>Staten Island</td>\n      <td>Apr</td>\n      <td>1068</td>\n    </tr>\n    <tr>\n      <th>34</th>\n      <td>Staten Island</td>\n      <td>Mar</td>\n      <td>975</td>\n    </tr>\n    <tr>\n      <th>31</th>\n      <td>Staten Island</td>\n      <td>Feb</td>\n      <td>903</td>\n    </tr>\n    <tr>\n      <th>32</th>\n      <td>Staten Island</td>\n      <td>Jan</td>\n      <td>821</td>\n    </tr>\n    <tr>\n      <th>15</th>\n      <td>EWR</td>\n      <td>Jun</td>\n      <td>29</td>\n    </tr>\n    <tr>\n      <th>17</th>\n      <td>EWR</td>\n      <td>May</td>\n      <td>27</td>\n    </tr>\n    <tr>\n      <th>16</th>\n      <td>EWR</td>\n      <td>Mar</td>\n      <td>14</td>\n    </tr>\n    <tr>\n      <th>13</th>\n      <td>EWR</td>\n      <td>Feb</td>\n      <td>14</td>\n    </tr>\n    <tr>\n      <th>14</th>\n      <td>EWR</td>\n      <td>Jan</td>\n      <td>11</td>\n    </tr>\n    <tr>\n      <th>12</th>\n      <td>EWR</td>\n      <td>Apr</td>\n      <td>10</td>\n    </tr>\n  </tbody>\n</table>\n</div>"
     },
     "execution_count": 74,
     "metadata": {},
     "output_type": "execute_result"
    }
   ],
   "source": [
    "taxi.groupby(['borough', 'pickup_month'], as_index=False).aggregate({'pickups': 'sum'}).sort_values('pickups',\n",
    "                                                                                                    ascending=False)"
   ],
   "metadata": {
    "collapsed": false,
    "pycharm": {
     "name": "#%%\n"
    }
   }
  },
  {
   "cell_type": "code",
   "execution_count": 75,
   "outputs": [
    {
     "data": {
      "text/plain": "37.000000    675\n36.000000    595\n35.000000    548\n42.000000    531\n38.000000    529\n            ... \n55.833333      6\n29.833333      6\n25.333333      6\n33.750000      6\n54.500000      6\nName: temp, Length: 295, dtype: int64"
     },
     "execution_count": 75,
     "metadata": {},
     "output_type": "execute_result"
    }
   ],
   "source": [
    "taxi.temp.value_counts()"
   ],
   "metadata": {
    "collapsed": false,
    "pycharm": {
     "name": "#%%\n"
    }
   }
  },
  {
   "cell_type": "code",
   "execution_count": 76,
   "outputs": [
    {
     "data": {
      "text/plain": "2.0"
     },
     "execution_count": 76,
     "metadata": {},
     "output_type": "execute_result"
    }
   ],
   "source": [
    "taxi.temp.min()"
   ],
   "metadata": {
    "collapsed": false,
    "pycharm": {
     "name": "#%%\n"
    }
   }
  },
  {
   "cell_type": "code",
   "execution_count": 77,
   "outputs": [
    {
     "data": {
      "text/plain": "89.0"
     },
     "execution_count": 77,
     "metadata": {},
     "output_type": "execute_result"
    }
   ],
   "source": [
    "taxi.temp.max()"
   ],
   "metadata": {
    "collapsed": false,
    "pycharm": {
     "name": "#%%\n"
    }
   }
  },
  {
   "cell_type": "code",
   "execution_count": 78,
   "outputs": [],
   "source": [
    "def temp_to_celsius(temp):\n",
    "    return (temp - 32) * 5 / 9"
   ],
   "metadata": {
    "collapsed": false,
    "pycharm": {
     "name": "#%%\n"
    }
   }
  },
  {
   "cell_type": "code",
   "execution_count": 79,
   "outputs": [
    {
     "data": {
      "text/plain": "232.22222222222223"
     },
     "execution_count": 79,
     "metadata": {},
     "output_type": "execute_result"
    }
   ],
   "source": [
    "temp_to_celsius(450)"
   ],
   "metadata": {
    "collapsed": false,
    "pycharm": {
     "name": "#%%\n"
    }
   }
  },
  {
   "cell_type": "code",
   "execution_count": 80,
   "outputs": [
    {
     "data": {
      "text/plain": "0        -1.111111\n1        -1.111111\n2        -1.111111\n3        -1.111111\n4        -1.111111\n           ...    \n29096    23.888889\n29097    23.888889\n29098    23.888889\n29099    23.888889\n29100    23.888889\nName: temp, Length: 29101, dtype: float64"
     },
     "execution_count": 80,
     "metadata": {},
     "output_type": "execute_result"
    }
   ],
   "source": [
    "temp_to_celsius(taxi.temp)"
   ],
   "metadata": {
    "collapsed": false,
    "pycharm": {
     "name": "#%%\n"
    }
   }
  },
  {
   "cell_type": "code",
   "execution_count": 81,
   "outputs": [],
   "source": [
    "temperatures = [-10, 0, 15, 25, 35, 450, 1000]"
   ],
   "metadata": {
    "collapsed": false,
    "pycharm": {
     "name": "#%%\n"
    }
   }
  },
  {
   "cell_type": "code",
   "execution_count": 82,
   "outputs": [],
   "source": [
    "# temp_to_celsius(temperatures)\n",
    "# TypeError: unsupported operand type(s) for -: 'list' and 'int'"
   ],
   "metadata": {
    "collapsed": false,
    "pycharm": {
     "name": "#%%\n"
    }
   }
  },
  {
   "cell_type": "code",
   "execution_count": 83,
   "outputs": [],
   "source": [
    "bookings = pd.read_csv('https://stepik.org/media/attachments/lesson/360344/bookings.csv', sep=';')"
   ],
   "metadata": {
    "collapsed": false,
    "pycharm": {
     "name": "#%%\n"
    }
   }
  },
  {
   "cell_type": "code",
   "execution_count": 84,
   "outputs": [
    {
     "data": {
      "text/plain": "(119390, 21)"
     },
     "execution_count": 84,
     "metadata": {},
     "output_type": "execute_result"
    }
   ],
   "source": [
    "bookings.shape"
   ],
   "metadata": {
    "collapsed": false,
    "pycharm": {
     "name": "#%%\n"
    }
   }
  },
  {
   "cell_type": "code",
   "execution_count": 85,
   "outputs": [],
   "source": [
    "bookings_head = bookings.head(8)"
   ],
   "metadata": {
    "collapsed": false,
    "pycharm": {
     "name": "#%%\n"
    }
   }
  },
  {
   "cell_type": "code",
   "execution_count": 86,
   "outputs": [
    {
     "data": {
      "text/plain": "          Hotel  Is Canceled  Lead Time arrival full date  Arrival Date Year  \\\n0  Resort Hotel            0        342        2015-07-01               2015   \n1  Resort Hotel            0        737        2015-07-01               2015   \n2  Resort Hotel            0          7        2015-07-01               2015   \n3  Resort Hotel            0         13        2015-07-01               2015   \n4  Resort Hotel            0         14        2015-07-01               2015   \n5  Resort Hotel            0         14        2015-07-01               2015   \n6  Resort Hotel            0          0        2015-07-01               2015   \n7  Resort Hotel            0          9        2015-07-01               2015   \n\n  Arrival Date Month  Arrival Date Week Number  Arrival Date Day of Month  \\\n0               July                        27                          1   \n1               July                        27                          1   \n2               July                        27                          1   \n3               July                        27                          1   \n4               July                        27                          1   \n5               July                        27                          1   \n6               July                        27                          1   \n7               July                        27                          1   \n\n   Stays in Weekend nights  Stays in week nights  ...  Adults  Children  \\\n0                        0                     0  ...       2       0.0   \n1                        0                     0  ...       2       0.0   \n2                        0                     1  ...       1       0.0   \n3                        0                     1  ...       1       0.0   \n4                        0                     2  ...       2       0.0   \n5                        0                     2  ...       2       0.0   \n6                        0                     2  ...       2       0.0   \n7                        0                     2  ...       2       0.0   \n\n   Babies  Meal Country Reserved Room Type Assigned room type customer type  \\\n0       0    BB     PRT                  C                  C     Transient   \n1       0    BB     PRT                  C                  C     Transient   \n2       0    BB     GBR                  A                  C     Transient   \n3       0    BB     GBR                  A                  A     Transient   \n4       0    BB     GBR                  A                  A     Transient   \n5       0    BB     GBR                  A                  A     Transient   \n6       0    BB     PRT                  C                  C     Transient   \n7       0    FB     PRT                  C                  C     Transient   \n\n  Reservation Status Reservation status_date  \n0          Check-Out              2015-07-01  \n1          Check-Out              2015-07-01  \n2          Check-Out              2015-07-02  \n3          Check-Out              2015-07-02  \n4          Check-Out              2015-07-03  \n5          Check-Out              2015-07-03  \n6          Check-Out              2015-07-03  \n7          Check-Out              2015-07-03  \n\n[8 rows x 21 columns]",
      "text/html": "<div>\n<style scoped>\n    .dataframe tbody tr th:only-of-type {\n        vertical-align: middle;\n    }\n\n    .dataframe tbody tr th {\n        vertical-align: top;\n    }\n\n    .dataframe thead th {\n        text-align: right;\n    }\n</style>\n<table border=\"1\" class=\"dataframe\">\n  <thead>\n    <tr style=\"text-align: right;\">\n      <th></th>\n      <th>Hotel</th>\n      <th>Is Canceled</th>\n      <th>Lead Time</th>\n      <th>arrival full date</th>\n      <th>Arrival Date Year</th>\n      <th>Arrival Date Month</th>\n      <th>Arrival Date Week Number</th>\n      <th>Arrival Date Day of Month</th>\n      <th>Stays in Weekend nights</th>\n      <th>Stays in week nights</th>\n      <th>...</th>\n      <th>Adults</th>\n      <th>Children</th>\n      <th>Babies</th>\n      <th>Meal</th>\n      <th>Country</th>\n      <th>Reserved Room Type</th>\n      <th>Assigned room type</th>\n      <th>customer type</th>\n      <th>Reservation Status</th>\n      <th>Reservation status_date</th>\n    </tr>\n  </thead>\n  <tbody>\n    <tr>\n      <th>0</th>\n      <td>Resort Hotel</td>\n      <td>0</td>\n      <td>342</td>\n      <td>2015-07-01</td>\n      <td>2015</td>\n      <td>July</td>\n      <td>27</td>\n      <td>1</td>\n      <td>0</td>\n      <td>0</td>\n      <td>...</td>\n      <td>2</td>\n      <td>0.0</td>\n      <td>0</td>\n      <td>BB</td>\n      <td>PRT</td>\n      <td>C</td>\n      <td>C</td>\n      <td>Transient</td>\n      <td>Check-Out</td>\n      <td>2015-07-01</td>\n    </tr>\n    <tr>\n      <th>1</th>\n      <td>Resort Hotel</td>\n      <td>0</td>\n      <td>737</td>\n      <td>2015-07-01</td>\n      <td>2015</td>\n      <td>July</td>\n      <td>27</td>\n      <td>1</td>\n      <td>0</td>\n      <td>0</td>\n      <td>...</td>\n      <td>2</td>\n      <td>0.0</td>\n      <td>0</td>\n      <td>BB</td>\n      <td>PRT</td>\n      <td>C</td>\n      <td>C</td>\n      <td>Transient</td>\n      <td>Check-Out</td>\n      <td>2015-07-01</td>\n    </tr>\n    <tr>\n      <th>2</th>\n      <td>Resort Hotel</td>\n      <td>0</td>\n      <td>7</td>\n      <td>2015-07-01</td>\n      <td>2015</td>\n      <td>July</td>\n      <td>27</td>\n      <td>1</td>\n      <td>0</td>\n      <td>1</td>\n      <td>...</td>\n      <td>1</td>\n      <td>0.0</td>\n      <td>0</td>\n      <td>BB</td>\n      <td>GBR</td>\n      <td>A</td>\n      <td>C</td>\n      <td>Transient</td>\n      <td>Check-Out</td>\n      <td>2015-07-02</td>\n    </tr>\n    <tr>\n      <th>3</th>\n      <td>Resort Hotel</td>\n      <td>0</td>\n      <td>13</td>\n      <td>2015-07-01</td>\n      <td>2015</td>\n      <td>July</td>\n      <td>27</td>\n      <td>1</td>\n      <td>0</td>\n      <td>1</td>\n      <td>...</td>\n      <td>1</td>\n      <td>0.0</td>\n      <td>0</td>\n      <td>BB</td>\n      <td>GBR</td>\n      <td>A</td>\n      <td>A</td>\n      <td>Transient</td>\n      <td>Check-Out</td>\n      <td>2015-07-02</td>\n    </tr>\n    <tr>\n      <th>4</th>\n      <td>Resort Hotel</td>\n      <td>0</td>\n      <td>14</td>\n      <td>2015-07-01</td>\n      <td>2015</td>\n      <td>July</td>\n      <td>27</td>\n      <td>1</td>\n      <td>0</td>\n      <td>2</td>\n      <td>...</td>\n      <td>2</td>\n      <td>0.0</td>\n      <td>0</td>\n      <td>BB</td>\n      <td>GBR</td>\n      <td>A</td>\n      <td>A</td>\n      <td>Transient</td>\n      <td>Check-Out</td>\n      <td>2015-07-03</td>\n    </tr>\n    <tr>\n      <th>5</th>\n      <td>Resort Hotel</td>\n      <td>0</td>\n      <td>14</td>\n      <td>2015-07-01</td>\n      <td>2015</td>\n      <td>July</td>\n      <td>27</td>\n      <td>1</td>\n      <td>0</td>\n      <td>2</td>\n      <td>...</td>\n      <td>2</td>\n      <td>0.0</td>\n      <td>0</td>\n      <td>BB</td>\n      <td>GBR</td>\n      <td>A</td>\n      <td>A</td>\n      <td>Transient</td>\n      <td>Check-Out</td>\n      <td>2015-07-03</td>\n    </tr>\n    <tr>\n      <th>6</th>\n      <td>Resort Hotel</td>\n      <td>0</td>\n      <td>0</td>\n      <td>2015-07-01</td>\n      <td>2015</td>\n      <td>July</td>\n      <td>27</td>\n      <td>1</td>\n      <td>0</td>\n      <td>2</td>\n      <td>...</td>\n      <td>2</td>\n      <td>0.0</td>\n      <td>0</td>\n      <td>BB</td>\n      <td>PRT</td>\n      <td>C</td>\n      <td>C</td>\n      <td>Transient</td>\n      <td>Check-Out</td>\n      <td>2015-07-03</td>\n    </tr>\n    <tr>\n      <th>7</th>\n      <td>Resort Hotel</td>\n      <td>0</td>\n      <td>9</td>\n      <td>2015-07-01</td>\n      <td>2015</td>\n      <td>July</td>\n      <td>27</td>\n      <td>1</td>\n      <td>0</td>\n      <td>2</td>\n      <td>...</td>\n      <td>2</td>\n      <td>0.0</td>\n      <td>0</td>\n      <td>FB</td>\n      <td>PRT</td>\n      <td>C</td>\n      <td>C</td>\n      <td>Transient</td>\n      <td>Check-Out</td>\n      <td>2015-07-03</td>\n    </tr>\n  </tbody>\n</table>\n<p>8 rows × 21 columns</p>\n</div>"
     },
     "execution_count": 86,
     "metadata": {},
     "output_type": "execute_result"
    }
   ],
   "source": [
    "bookings_head"
   ],
   "metadata": {
    "collapsed": false,
    "pycharm": {
     "name": "#%%\n"
    }
   }
  },
  {
   "cell_type": "code",
   "execution_count": 87,
   "outputs": [
    {
     "data": {
      "text/plain": "(119390, 21)"
     },
     "execution_count": 87,
     "metadata": {},
     "output_type": "execute_result"
    }
   ],
   "source": [
    "bookings.shape"
   ],
   "metadata": {
    "collapsed": false,
    "pycharm": {
     "name": "#%%\n"
    }
   }
  },
  {
   "cell_type": "code",
   "execution_count": 88,
   "outputs": [
    {
     "data": {
      "text/plain": "Hotel                         object\nIs Canceled                    int64\nLead Time                      int64\narrival full date             object\nArrival Date Year              int64\nArrival Date Month            object\nArrival Date Week Number       int64\nArrival Date Day of Month      int64\nStays in Weekend nights        int64\nStays in week nights           int64\nstays total nights             int64\nAdults                         int64\nChildren                     float64\nBabies                         int64\nMeal                          object\nCountry                       object\nReserved Room Type            object\nAssigned room type            object\ncustomer type                 object\nReservation Status            object\nReservation status_date       object\ndtype: object"
     },
     "execution_count": 88,
     "metadata": {},
     "output_type": "execute_result"
    }
   ],
   "source": [
    "bookings.dtypes"
   ],
   "metadata": {
    "collapsed": false,
    "pycharm": {
     "name": "#%%\n"
    }
   }
  },
  {
   "cell_type": "code",
   "execution_count": 89,
   "outputs": [
    {
     "data": {
      "text/plain": "object     10\nint64      10\nfloat64     1\ndtype: int64"
     },
     "execution_count": 89,
     "metadata": {},
     "output_type": "execute_result"
    }
   ],
   "source": [
    "bookings.dtypes.value_counts()"
   ],
   "metadata": {
    "collapsed": false,
    "pycharm": {
     "name": "#%%\n"
    }
   }
  },
  {
   "cell_type": "code",
   "execution_count": 90,
   "outputs": [],
   "source": [
    "def to_lower_underscore(name):\n",
    "    return name.lower().replace(' ', '_')"
   ],
   "metadata": {
    "collapsed": false,
    "pycharm": {
     "name": "#%%\n"
    }
   }
  },
  {
   "cell_type": "code",
   "execution_count": 91,
   "outputs": [
    {
     "data": {
      "text/plain": "               hotel  is_canceled  lead_time arrival_full_date  \\\n0       Resort Hotel            0        342        2015-07-01   \n1       Resort Hotel            0        737        2015-07-01   \n2       Resort Hotel            0          7        2015-07-01   \n3       Resort Hotel            0         13        2015-07-01   \n4       Resort Hotel            0         14        2015-07-01   \n...              ...          ...        ...               ...   \n119385    City Hotel            0         23        2017-08-30   \n119386    City Hotel            0        102        2017-08-31   \n119387    City Hotel            0         34        2017-08-31   \n119388    City Hotel            0        109        2017-08-31   \n119389    City Hotel            0        205        2017-08-29   \n\n        arrival_date_year arrival_date_month  arrival_date_week_number  \\\n0                    2015               July                        27   \n1                    2015               July                        27   \n2                    2015               July                        27   \n3                    2015               July                        27   \n4                    2015               July                        27   \n...                   ...                ...                       ...   \n119385               2017             August                        35   \n119386               2017             August                        35   \n119387               2017             August                        35   \n119388               2017             August                        35   \n119389               2017             August                        35   \n\n        arrival_date_day_of_month  stays_in_weekend_nights  \\\n0                               1                        0   \n1                               1                        0   \n2                               1                        0   \n3                               1                        0   \n4                               1                        0   \n...                           ...                      ...   \n119385                         30                        2   \n119386                         31                        2   \n119387                         31                        2   \n119388                         31                        2   \n119389                         29                        2   \n\n        stays_in_week_nights  ...  adults  children  babies  meal country  \\\n0                          0  ...       2       0.0       0    BB     PRT   \n1                          0  ...       2       0.0       0    BB     PRT   \n2                          1  ...       1       0.0       0    BB     GBR   \n3                          1  ...       1       0.0       0    BB     GBR   \n4                          2  ...       2       0.0       0    BB     GBR   \n...                      ...  ...     ...       ...     ...   ...     ...   \n119385                     5  ...       2       0.0       0    BB     BEL   \n119386                     5  ...       3       0.0       0    BB     FRA   \n119387                     5  ...       2       0.0       0    BB     DEU   \n119388                     5  ...       2       0.0       0    BB     GBR   \n119389                     7  ...       2       0.0       0    HB     DEU   \n\n       reserved_room_type assigned_room_type customer_type reservation_status  \\\n0                       C                  C     Transient          Check-Out   \n1                       C                  C     Transient          Check-Out   \n2                       A                  C     Transient          Check-Out   \n3                       A                  A     Transient          Check-Out   \n4                       A                  A     Transient          Check-Out   \n...                   ...                ...           ...                ...   \n119385                  A                  A     Transient          Check-Out   \n119386                  E                  E     Transient          Check-Out   \n119387                  D                  D     Transient          Check-Out   \n119388                  A                  A     Transient          Check-Out   \n119389                  A                  A     Transient          Check-Out   \n\n       reservation_status_date  \n0                   2015-07-01  \n1                   2015-07-01  \n2                   2015-07-02  \n3                   2015-07-02  \n4                   2015-07-03  \n...                        ...  \n119385              2017-09-06  \n119386              2017-09-07  \n119387              2017-09-07  \n119388              2017-09-07  \n119389              2017-09-07  \n\n[119390 rows x 21 columns]",
      "text/html": "<div>\n<style scoped>\n    .dataframe tbody tr th:only-of-type {\n        vertical-align: middle;\n    }\n\n    .dataframe tbody tr th {\n        vertical-align: top;\n    }\n\n    .dataframe thead th {\n        text-align: right;\n    }\n</style>\n<table border=\"1\" class=\"dataframe\">\n  <thead>\n    <tr style=\"text-align: right;\">\n      <th></th>\n      <th>hotel</th>\n      <th>is_canceled</th>\n      <th>lead_time</th>\n      <th>arrival_full_date</th>\n      <th>arrival_date_year</th>\n      <th>arrival_date_month</th>\n      <th>arrival_date_week_number</th>\n      <th>arrival_date_day_of_month</th>\n      <th>stays_in_weekend_nights</th>\n      <th>stays_in_week_nights</th>\n      <th>...</th>\n      <th>adults</th>\n      <th>children</th>\n      <th>babies</th>\n      <th>meal</th>\n      <th>country</th>\n      <th>reserved_room_type</th>\n      <th>assigned_room_type</th>\n      <th>customer_type</th>\n      <th>reservation_status</th>\n      <th>reservation_status_date</th>\n    </tr>\n  </thead>\n  <tbody>\n    <tr>\n      <th>0</th>\n      <td>Resort Hotel</td>\n      <td>0</td>\n      <td>342</td>\n      <td>2015-07-01</td>\n      <td>2015</td>\n      <td>July</td>\n      <td>27</td>\n      <td>1</td>\n      <td>0</td>\n      <td>0</td>\n      <td>...</td>\n      <td>2</td>\n      <td>0.0</td>\n      <td>0</td>\n      <td>BB</td>\n      <td>PRT</td>\n      <td>C</td>\n      <td>C</td>\n      <td>Transient</td>\n      <td>Check-Out</td>\n      <td>2015-07-01</td>\n    </tr>\n    <tr>\n      <th>1</th>\n      <td>Resort Hotel</td>\n      <td>0</td>\n      <td>737</td>\n      <td>2015-07-01</td>\n      <td>2015</td>\n      <td>July</td>\n      <td>27</td>\n      <td>1</td>\n      <td>0</td>\n      <td>0</td>\n      <td>...</td>\n      <td>2</td>\n      <td>0.0</td>\n      <td>0</td>\n      <td>BB</td>\n      <td>PRT</td>\n      <td>C</td>\n      <td>C</td>\n      <td>Transient</td>\n      <td>Check-Out</td>\n      <td>2015-07-01</td>\n    </tr>\n    <tr>\n      <th>2</th>\n      <td>Resort Hotel</td>\n      <td>0</td>\n      <td>7</td>\n      <td>2015-07-01</td>\n      <td>2015</td>\n      <td>July</td>\n      <td>27</td>\n      <td>1</td>\n      <td>0</td>\n      <td>1</td>\n      <td>...</td>\n      <td>1</td>\n      <td>0.0</td>\n      <td>0</td>\n      <td>BB</td>\n      <td>GBR</td>\n      <td>A</td>\n      <td>C</td>\n      <td>Transient</td>\n      <td>Check-Out</td>\n      <td>2015-07-02</td>\n    </tr>\n    <tr>\n      <th>3</th>\n      <td>Resort Hotel</td>\n      <td>0</td>\n      <td>13</td>\n      <td>2015-07-01</td>\n      <td>2015</td>\n      <td>July</td>\n      <td>27</td>\n      <td>1</td>\n      <td>0</td>\n      <td>1</td>\n      <td>...</td>\n      <td>1</td>\n      <td>0.0</td>\n      <td>0</td>\n      <td>BB</td>\n      <td>GBR</td>\n      <td>A</td>\n      <td>A</td>\n      <td>Transient</td>\n      <td>Check-Out</td>\n      <td>2015-07-02</td>\n    </tr>\n    <tr>\n      <th>4</th>\n      <td>Resort Hotel</td>\n      <td>0</td>\n      <td>14</td>\n      <td>2015-07-01</td>\n      <td>2015</td>\n      <td>July</td>\n      <td>27</td>\n      <td>1</td>\n      <td>0</td>\n      <td>2</td>\n      <td>...</td>\n      <td>2</td>\n      <td>0.0</td>\n      <td>0</td>\n      <td>BB</td>\n      <td>GBR</td>\n      <td>A</td>\n      <td>A</td>\n      <td>Transient</td>\n      <td>Check-Out</td>\n      <td>2015-07-03</td>\n    </tr>\n    <tr>\n      <th>...</th>\n      <td>...</td>\n      <td>...</td>\n      <td>...</td>\n      <td>...</td>\n      <td>...</td>\n      <td>...</td>\n      <td>...</td>\n      <td>...</td>\n      <td>...</td>\n      <td>...</td>\n      <td>...</td>\n      <td>...</td>\n      <td>...</td>\n      <td>...</td>\n      <td>...</td>\n      <td>...</td>\n      <td>...</td>\n      <td>...</td>\n      <td>...</td>\n      <td>...</td>\n      <td>...</td>\n    </tr>\n    <tr>\n      <th>119385</th>\n      <td>City Hotel</td>\n      <td>0</td>\n      <td>23</td>\n      <td>2017-08-30</td>\n      <td>2017</td>\n      <td>August</td>\n      <td>35</td>\n      <td>30</td>\n      <td>2</td>\n      <td>5</td>\n      <td>...</td>\n      <td>2</td>\n      <td>0.0</td>\n      <td>0</td>\n      <td>BB</td>\n      <td>BEL</td>\n      <td>A</td>\n      <td>A</td>\n      <td>Transient</td>\n      <td>Check-Out</td>\n      <td>2017-09-06</td>\n    </tr>\n    <tr>\n      <th>119386</th>\n      <td>City Hotel</td>\n      <td>0</td>\n      <td>102</td>\n      <td>2017-08-31</td>\n      <td>2017</td>\n      <td>August</td>\n      <td>35</td>\n      <td>31</td>\n      <td>2</td>\n      <td>5</td>\n      <td>...</td>\n      <td>3</td>\n      <td>0.0</td>\n      <td>0</td>\n      <td>BB</td>\n      <td>FRA</td>\n      <td>E</td>\n      <td>E</td>\n      <td>Transient</td>\n      <td>Check-Out</td>\n      <td>2017-09-07</td>\n    </tr>\n    <tr>\n      <th>119387</th>\n      <td>City Hotel</td>\n      <td>0</td>\n      <td>34</td>\n      <td>2017-08-31</td>\n      <td>2017</td>\n      <td>August</td>\n      <td>35</td>\n      <td>31</td>\n      <td>2</td>\n      <td>5</td>\n      <td>...</td>\n      <td>2</td>\n      <td>0.0</td>\n      <td>0</td>\n      <td>BB</td>\n      <td>DEU</td>\n      <td>D</td>\n      <td>D</td>\n      <td>Transient</td>\n      <td>Check-Out</td>\n      <td>2017-09-07</td>\n    </tr>\n    <tr>\n      <th>119388</th>\n      <td>City Hotel</td>\n      <td>0</td>\n      <td>109</td>\n      <td>2017-08-31</td>\n      <td>2017</td>\n      <td>August</td>\n      <td>35</td>\n      <td>31</td>\n      <td>2</td>\n      <td>5</td>\n      <td>...</td>\n      <td>2</td>\n      <td>0.0</td>\n      <td>0</td>\n      <td>BB</td>\n      <td>GBR</td>\n      <td>A</td>\n      <td>A</td>\n      <td>Transient</td>\n      <td>Check-Out</td>\n      <td>2017-09-07</td>\n    </tr>\n    <tr>\n      <th>119389</th>\n      <td>City Hotel</td>\n      <td>0</td>\n      <td>205</td>\n      <td>2017-08-29</td>\n      <td>2017</td>\n      <td>August</td>\n      <td>35</td>\n      <td>29</td>\n      <td>2</td>\n      <td>7</td>\n      <td>...</td>\n      <td>2</td>\n      <td>0.0</td>\n      <td>0</td>\n      <td>HB</td>\n      <td>DEU</td>\n      <td>A</td>\n      <td>A</td>\n      <td>Transient</td>\n      <td>Check-Out</td>\n      <td>2017-09-07</td>\n    </tr>\n  </tbody>\n</table>\n<p>119390 rows × 21 columns</p>\n</div>"
     },
     "execution_count": 91,
     "metadata": {},
     "output_type": "execute_result"
    }
   ],
   "source": [
    "bookings.rename(columns=to_lower_underscore)"
   ],
   "metadata": {
    "collapsed": false,
    "pycharm": {
     "name": "#%%\n"
    }
   }
  },
  {
   "cell_type": "code",
   "execution_count": 92,
   "outputs": [],
   "source": [
    "bookings = bookings.rename(columns=to_lower_underscore)"
   ],
   "metadata": {
    "collapsed": false,
    "pycharm": {
     "name": "#%%\n"
    }
   }
  },
  {
   "cell_type": "code",
   "execution_count": 93,
   "outputs": [
    {
     "data": {
      "text/plain": "               hotel  is_canceled  lead_time arrival_full_date  \\\n0       Resort Hotel            0        342        2015-07-01   \n1       Resort Hotel            0        737        2015-07-01   \n2       Resort Hotel            0          7        2015-07-01   \n3       Resort Hotel            0         13        2015-07-01   \n4       Resort Hotel            0         14        2015-07-01   \n...              ...          ...        ...               ...   \n119385    City Hotel            0         23        2017-08-30   \n119386    City Hotel            0        102        2017-08-31   \n119387    City Hotel            0         34        2017-08-31   \n119388    City Hotel            0        109        2017-08-31   \n119389    City Hotel            0        205        2017-08-29   \n\n        arrival_date_year arrival_date_month  arrival_date_week_number  \\\n0                    2015               July                        27   \n1                    2015               July                        27   \n2                    2015               July                        27   \n3                    2015               July                        27   \n4                    2015               July                        27   \n...                   ...                ...                       ...   \n119385               2017             August                        35   \n119386               2017             August                        35   \n119387               2017             August                        35   \n119388               2017             August                        35   \n119389               2017             August                        35   \n\n        arrival_date_day_of_month  stays_in_weekend_nights  \\\n0                               1                        0   \n1                               1                        0   \n2                               1                        0   \n3                               1                        0   \n4                               1                        0   \n...                           ...                      ...   \n119385                         30                        2   \n119386                         31                        2   \n119387                         31                        2   \n119388                         31                        2   \n119389                         29                        2   \n\n        stays_in_week_nights  ...  adults  children  babies  meal country  \\\n0                          0  ...       2       0.0       0    BB     PRT   \n1                          0  ...       2       0.0       0    BB     PRT   \n2                          1  ...       1       0.0       0    BB     GBR   \n3                          1  ...       1       0.0       0    BB     GBR   \n4                          2  ...       2       0.0       0    BB     GBR   \n...                      ...  ...     ...       ...     ...   ...     ...   \n119385                     5  ...       2       0.0       0    BB     BEL   \n119386                     5  ...       3       0.0       0    BB     FRA   \n119387                     5  ...       2       0.0       0    BB     DEU   \n119388                     5  ...       2       0.0       0    BB     GBR   \n119389                     7  ...       2       0.0       0    HB     DEU   \n\n       reserved_room_type assigned_room_type customer_type reservation_status  \\\n0                       C                  C     Transient          Check-Out   \n1                       C                  C     Transient          Check-Out   \n2                       A                  C     Transient          Check-Out   \n3                       A                  A     Transient          Check-Out   \n4                       A                  A     Transient          Check-Out   \n...                   ...                ...           ...                ...   \n119385                  A                  A     Transient          Check-Out   \n119386                  E                  E     Transient          Check-Out   \n119387                  D                  D     Transient          Check-Out   \n119388                  A                  A     Transient          Check-Out   \n119389                  A                  A     Transient          Check-Out   \n\n       reservation_status_date  \n0                   2015-07-01  \n1                   2015-07-01  \n2                   2015-07-02  \n3                   2015-07-02  \n4                   2015-07-03  \n...                        ...  \n119385              2017-09-06  \n119386              2017-09-07  \n119387              2017-09-07  \n119388              2017-09-07  \n119389              2017-09-07  \n\n[119390 rows x 21 columns]",
      "text/html": "<div>\n<style scoped>\n    .dataframe tbody tr th:only-of-type {\n        vertical-align: middle;\n    }\n\n    .dataframe tbody tr th {\n        vertical-align: top;\n    }\n\n    .dataframe thead th {\n        text-align: right;\n    }\n</style>\n<table border=\"1\" class=\"dataframe\">\n  <thead>\n    <tr style=\"text-align: right;\">\n      <th></th>\n      <th>hotel</th>\n      <th>is_canceled</th>\n      <th>lead_time</th>\n      <th>arrival_full_date</th>\n      <th>arrival_date_year</th>\n      <th>arrival_date_month</th>\n      <th>arrival_date_week_number</th>\n      <th>arrival_date_day_of_month</th>\n      <th>stays_in_weekend_nights</th>\n      <th>stays_in_week_nights</th>\n      <th>...</th>\n      <th>adults</th>\n      <th>children</th>\n      <th>babies</th>\n      <th>meal</th>\n      <th>country</th>\n      <th>reserved_room_type</th>\n      <th>assigned_room_type</th>\n      <th>customer_type</th>\n      <th>reservation_status</th>\n      <th>reservation_status_date</th>\n    </tr>\n  </thead>\n  <tbody>\n    <tr>\n      <th>0</th>\n      <td>Resort Hotel</td>\n      <td>0</td>\n      <td>342</td>\n      <td>2015-07-01</td>\n      <td>2015</td>\n      <td>July</td>\n      <td>27</td>\n      <td>1</td>\n      <td>0</td>\n      <td>0</td>\n      <td>...</td>\n      <td>2</td>\n      <td>0.0</td>\n      <td>0</td>\n      <td>BB</td>\n      <td>PRT</td>\n      <td>C</td>\n      <td>C</td>\n      <td>Transient</td>\n      <td>Check-Out</td>\n      <td>2015-07-01</td>\n    </tr>\n    <tr>\n      <th>1</th>\n      <td>Resort Hotel</td>\n      <td>0</td>\n      <td>737</td>\n      <td>2015-07-01</td>\n      <td>2015</td>\n      <td>July</td>\n      <td>27</td>\n      <td>1</td>\n      <td>0</td>\n      <td>0</td>\n      <td>...</td>\n      <td>2</td>\n      <td>0.0</td>\n      <td>0</td>\n      <td>BB</td>\n      <td>PRT</td>\n      <td>C</td>\n      <td>C</td>\n      <td>Transient</td>\n      <td>Check-Out</td>\n      <td>2015-07-01</td>\n    </tr>\n    <tr>\n      <th>2</th>\n      <td>Resort Hotel</td>\n      <td>0</td>\n      <td>7</td>\n      <td>2015-07-01</td>\n      <td>2015</td>\n      <td>July</td>\n      <td>27</td>\n      <td>1</td>\n      <td>0</td>\n      <td>1</td>\n      <td>...</td>\n      <td>1</td>\n      <td>0.0</td>\n      <td>0</td>\n      <td>BB</td>\n      <td>GBR</td>\n      <td>A</td>\n      <td>C</td>\n      <td>Transient</td>\n      <td>Check-Out</td>\n      <td>2015-07-02</td>\n    </tr>\n    <tr>\n      <th>3</th>\n      <td>Resort Hotel</td>\n      <td>0</td>\n      <td>13</td>\n      <td>2015-07-01</td>\n      <td>2015</td>\n      <td>July</td>\n      <td>27</td>\n      <td>1</td>\n      <td>0</td>\n      <td>1</td>\n      <td>...</td>\n      <td>1</td>\n      <td>0.0</td>\n      <td>0</td>\n      <td>BB</td>\n      <td>GBR</td>\n      <td>A</td>\n      <td>A</td>\n      <td>Transient</td>\n      <td>Check-Out</td>\n      <td>2015-07-02</td>\n    </tr>\n    <tr>\n      <th>4</th>\n      <td>Resort Hotel</td>\n      <td>0</td>\n      <td>14</td>\n      <td>2015-07-01</td>\n      <td>2015</td>\n      <td>July</td>\n      <td>27</td>\n      <td>1</td>\n      <td>0</td>\n      <td>2</td>\n      <td>...</td>\n      <td>2</td>\n      <td>0.0</td>\n      <td>0</td>\n      <td>BB</td>\n      <td>GBR</td>\n      <td>A</td>\n      <td>A</td>\n      <td>Transient</td>\n      <td>Check-Out</td>\n      <td>2015-07-03</td>\n    </tr>\n    <tr>\n      <th>...</th>\n      <td>...</td>\n      <td>...</td>\n      <td>...</td>\n      <td>...</td>\n      <td>...</td>\n      <td>...</td>\n      <td>...</td>\n      <td>...</td>\n      <td>...</td>\n      <td>...</td>\n      <td>...</td>\n      <td>...</td>\n      <td>...</td>\n      <td>...</td>\n      <td>...</td>\n      <td>...</td>\n      <td>...</td>\n      <td>...</td>\n      <td>...</td>\n      <td>...</td>\n      <td>...</td>\n    </tr>\n    <tr>\n      <th>119385</th>\n      <td>City Hotel</td>\n      <td>0</td>\n      <td>23</td>\n      <td>2017-08-30</td>\n      <td>2017</td>\n      <td>August</td>\n      <td>35</td>\n      <td>30</td>\n      <td>2</td>\n      <td>5</td>\n      <td>...</td>\n      <td>2</td>\n      <td>0.0</td>\n      <td>0</td>\n      <td>BB</td>\n      <td>BEL</td>\n      <td>A</td>\n      <td>A</td>\n      <td>Transient</td>\n      <td>Check-Out</td>\n      <td>2017-09-06</td>\n    </tr>\n    <tr>\n      <th>119386</th>\n      <td>City Hotel</td>\n      <td>0</td>\n      <td>102</td>\n      <td>2017-08-31</td>\n      <td>2017</td>\n      <td>August</td>\n      <td>35</td>\n      <td>31</td>\n      <td>2</td>\n      <td>5</td>\n      <td>...</td>\n      <td>3</td>\n      <td>0.0</td>\n      <td>0</td>\n      <td>BB</td>\n      <td>FRA</td>\n      <td>E</td>\n      <td>E</td>\n      <td>Transient</td>\n      <td>Check-Out</td>\n      <td>2017-09-07</td>\n    </tr>\n    <tr>\n      <th>119387</th>\n      <td>City Hotel</td>\n      <td>0</td>\n      <td>34</td>\n      <td>2017-08-31</td>\n      <td>2017</td>\n      <td>August</td>\n      <td>35</td>\n      <td>31</td>\n      <td>2</td>\n      <td>5</td>\n      <td>...</td>\n      <td>2</td>\n      <td>0.0</td>\n      <td>0</td>\n      <td>BB</td>\n      <td>DEU</td>\n      <td>D</td>\n      <td>D</td>\n      <td>Transient</td>\n      <td>Check-Out</td>\n      <td>2017-09-07</td>\n    </tr>\n    <tr>\n      <th>119388</th>\n      <td>City Hotel</td>\n      <td>0</td>\n      <td>109</td>\n      <td>2017-08-31</td>\n      <td>2017</td>\n      <td>August</td>\n      <td>35</td>\n      <td>31</td>\n      <td>2</td>\n      <td>5</td>\n      <td>...</td>\n      <td>2</td>\n      <td>0.0</td>\n      <td>0</td>\n      <td>BB</td>\n      <td>GBR</td>\n      <td>A</td>\n      <td>A</td>\n      <td>Transient</td>\n      <td>Check-Out</td>\n      <td>2017-09-07</td>\n    </tr>\n    <tr>\n      <th>119389</th>\n      <td>City Hotel</td>\n      <td>0</td>\n      <td>205</td>\n      <td>2017-08-29</td>\n      <td>2017</td>\n      <td>August</td>\n      <td>35</td>\n      <td>29</td>\n      <td>2</td>\n      <td>7</td>\n      <td>...</td>\n      <td>2</td>\n      <td>0.0</td>\n      <td>0</td>\n      <td>HB</td>\n      <td>DEU</td>\n      <td>A</td>\n      <td>A</td>\n      <td>Transient</td>\n      <td>Check-Out</td>\n      <td>2017-09-07</td>\n    </tr>\n  </tbody>\n</table>\n<p>119390 rows × 21 columns</p>\n</div>"
     },
     "execution_count": 93,
     "metadata": {},
     "output_type": "execute_result"
    }
   ],
   "source": [
    "bookings"
   ],
   "metadata": {
    "collapsed": false,
    "pycharm": {
     "name": "#%%\n"
    }
   }
  },
  {
   "cell_type": "code",
   "execution_count": 94,
   "outputs": [
    {
     "data": {
      "text/plain": "Index(['hotel', 'is_canceled', 'lead_time', 'arrival_full_date',\n       'arrival_date_year', 'arrival_date_month', 'arrival_date_week_number',\n       'arrival_date_day_of_month', 'stays_in_weekend_nights',\n       'stays_in_week_nights', 'stays_total_nights', 'adults', 'children',\n       'babies', 'meal', 'country', 'reserved_room_type', 'assigned_room_type',\n       'customer_type', 'reservation_status', 'reservation_status_date'],\n      dtype='object')"
     },
     "execution_count": 94,
     "metadata": {},
     "output_type": "execute_result"
    }
   ],
   "source": [
    "bookings.columns"
   ],
   "metadata": {
    "collapsed": false,
    "pycharm": {
     "name": "#%%\n"
    }
   }
  },
  {
   "cell_type": "code",
   "execution_count": 95,
   "outputs": [
    {
     "data": {
      "text/plain": "PRT    21071\nGBR     9676\nFRA     8481\nESP     6391\nDEU     6069\nName: country, dtype: int64"
     },
     "execution_count": 95,
     "metadata": {},
     "output_type": "execute_result"
    }
   ],
   "source": [
    "bookings.query('is_canceled == 0').country.value_counts()[:5]"
   ],
   "metadata": {
    "collapsed": false,
    "pycharm": {
     "name": "#%%\n"
    }
   }
  },
  {
   "cell_type": "code",
   "execution_count": 96,
   "outputs": [
    {
     "data": {
      "text/plain": "              stays_total_nights\nhotel                           \nCity Hotel                  2.98\nResort Hotel                4.32",
      "text/html": "<div>\n<style scoped>\n    .dataframe tbody tr th:only-of-type {\n        vertical-align: middle;\n    }\n\n    .dataframe tbody tr th {\n        vertical-align: top;\n    }\n\n    .dataframe thead th {\n        text-align: right;\n    }\n</style>\n<table border=\"1\" class=\"dataframe\">\n  <thead>\n    <tr style=\"text-align: right;\">\n      <th></th>\n      <th>stays_total_nights</th>\n    </tr>\n    <tr>\n      <th>hotel</th>\n      <th></th>\n    </tr>\n  </thead>\n  <tbody>\n    <tr>\n      <th>City Hotel</th>\n      <td>2.98</td>\n    </tr>\n    <tr>\n      <th>Resort Hotel</th>\n      <td>4.32</td>\n    </tr>\n  </tbody>\n</table>\n</div>"
     },
     "execution_count": 96,
     "metadata": {},
     "output_type": "execute_result"
    }
   ],
   "source": [
    "bookings.groupby('hotel').aggregate({'stays_total_nights': 'mean'}).round(2)"
   ],
   "metadata": {
    "collapsed": false,
    "pycharm": {
     "name": "#%%\n"
    }
   }
  },
  {
   "cell_type": "code",
   "execution_count": 97,
   "outputs": [
    {
     "data": {
      "text/plain": "       reserved_room_type assigned_room_type\n0                       C                  C\n1                       C                  C\n2                       A                  C\n3                       A                  A\n4                       A                  A\n...                   ...                ...\n119385                  A                  A\n119386                  E                  E\n119387                  D                  D\n119388                  A                  A\n119389                  A                  A\n\n[119390 rows x 2 columns]",
      "text/html": "<div>\n<style scoped>\n    .dataframe tbody tr th:only-of-type {\n        vertical-align: middle;\n    }\n\n    .dataframe tbody tr th {\n        vertical-align: top;\n    }\n\n    .dataframe thead th {\n        text-align: right;\n    }\n</style>\n<table border=\"1\" class=\"dataframe\">\n  <thead>\n    <tr style=\"text-align: right;\">\n      <th></th>\n      <th>reserved_room_type</th>\n      <th>assigned_room_type</th>\n    </tr>\n  </thead>\n  <tbody>\n    <tr>\n      <th>0</th>\n      <td>C</td>\n      <td>C</td>\n    </tr>\n    <tr>\n      <th>1</th>\n      <td>C</td>\n      <td>C</td>\n    </tr>\n    <tr>\n      <th>2</th>\n      <td>A</td>\n      <td>C</td>\n    </tr>\n    <tr>\n      <th>3</th>\n      <td>A</td>\n      <td>A</td>\n    </tr>\n    <tr>\n      <th>4</th>\n      <td>A</td>\n      <td>A</td>\n    </tr>\n    <tr>\n      <th>...</th>\n      <td>...</td>\n      <td>...</td>\n    </tr>\n    <tr>\n      <th>119385</th>\n      <td>A</td>\n      <td>A</td>\n    </tr>\n    <tr>\n      <th>119386</th>\n      <td>E</td>\n      <td>E</td>\n    </tr>\n    <tr>\n      <th>119387</th>\n      <td>D</td>\n      <td>D</td>\n    </tr>\n    <tr>\n      <th>119388</th>\n      <td>A</td>\n      <td>A</td>\n    </tr>\n    <tr>\n      <th>119389</th>\n      <td>A</td>\n      <td>A</td>\n    </tr>\n  </tbody>\n</table>\n<p>119390 rows × 2 columns</p>\n</div>"
     },
     "execution_count": 97,
     "metadata": {},
     "output_type": "execute_result"
    }
   ],
   "source": [
    "bookings[['reserved_room_type', 'assigned_room_type']]"
   ],
   "metadata": {
    "collapsed": false,
    "pycharm": {
     "name": "#%%\n"
    }
   }
  },
  {
   "cell_type": "code",
   "execution_count": 98,
   "outputs": [
    {
     "data": {
      "text/plain": "               hotel  is_canceled  lead_time arrival_full_date  \\\n2       Resort Hotel            0          7        2015-07-01   \n12      Resort Hotel            0         68        2015-07-01   \n15      Resort Hotel            0         68        2015-07-01   \n17      Resort Hotel            0         12        2015-07-01   \n18      Resort Hotel            0          0        2015-07-01   \n...              ...          ...        ...               ...   \n119273    City Hotel            0        213        2017-08-28   \n119274    City Hotel            0        213        2017-08-28   \n119289    City Hotel            0         25        2017-08-30   \n119297    City Hotel            0        332        2017-08-31   \n119357    City Hotel            0         47        2017-08-31   \n\n        arrival_date_year arrival_date_month  arrival_date_week_number  \\\n2                    2015               July                        27   \n12                   2015               July                        27   \n15                   2015               July                        27   \n17                   2015               July                        27   \n18                   2015               July                        27   \n...                   ...                ...                       ...   \n119273               2017             August                        35   \n119274               2017             August                        35   \n119289               2017             August                        35   \n119297               2017             August                        35   \n119357               2017             August                        35   \n\n        arrival_date_day_of_month  stays_in_weekend_nights  \\\n2                               1                        0   \n12                              1                        0   \n15                              1                        0   \n17                              1                        0   \n18                              1                        0   \n...                           ...                      ...   \n119273                         28                        1   \n119274                         28                        1   \n119289                         30                        0   \n119297                         31                        0   \n119357                         31                        1   \n\n        stays_in_week_nights  ...  adults  children  babies  meal country  \\\n2                          1  ...       1       0.0       0    BB     GBR   \n12                         4  ...       2       0.0       0    BB     USA   \n15                         4  ...       2       0.0       0    BB     IRL   \n17                         1  ...       2       0.0       0    BB     IRL   \n18                         1  ...       2       0.0       0    BB     FRA   \n...                      ...  ...     ...       ...     ...   ...     ...   \n119273                     3  ...       1       0.0       0    HB     PRT   \n119274                     3  ...       1       0.0       0    HB     PRT   \n119289                     3  ...       3       0.0       0    BB     ITA   \n119297                     2  ...       2       0.0       0    BB     GBR   \n119357                     3  ...       1       0.0       0    SC     PRT   \n\n       reserved_room_type assigned_room_type    customer_type  \\\n2                       A                  C        Transient   \n12                      D                  E        Transient   \n15                      D                  E        Transient   \n17                      A                  E        Transient   \n18                      A                  G        Transient   \n...                   ...                ...              ...   \n119273                  A                  K  Transient-Party   \n119274                  A                  K  Transient-Party   \n119289                  E                  F        Transient   \n119297                  D                  F        Transient   \n119357                  A                  D        Transient   \n\n       reservation_status reservation_status_date  \n2               Check-Out              2015-07-02  \n12              Check-Out              2015-07-05  \n15              Check-Out              2015-07-05  \n17              Check-Out              2015-07-02  \n18              Check-Out              2015-07-02  \n...                   ...                     ...  \n119273          Check-Out              2017-09-01  \n119274          Check-Out              2017-09-01  \n119289          Check-Out              2017-09-02  \n119297          Check-Out              2017-09-02  \n119357          Check-Out              2017-09-04  \n\n[14917 rows x 21 columns]",
      "text/html": "<div>\n<style scoped>\n    .dataframe tbody tr th:only-of-type {\n        vertical-align: middle;\n    }\n\n    .dataframe tbody tr th {\n        vertical-align: top;\n    }\n\n    .dataframe thead th {\n        text-align: right;\n    }\n</style>\n<table border=\"1\" class=\"dataframe\">\n  <thead>\n    <tr style=\"text-align: right;\">\n      <th></th>\n      <th>hotel</th>\n      <th>is_canceled</th>\n      <th>lead_time</th>\n      <th>arrival_full_date</th>\n      <th>arrival_date_year</th>\n      <th>arrival_date_month</th>\n      <th>arrival_date_week_number</th>\n      <th>arrival_date_day_of_month</th>\n      <th>stays_in_weekend_nights</th>\n      <th>stays_in_week_nights</th>\n      <th>...</th>\n      <th>adults</th>\n      <th>children</th>\n      <th>babies</th>\n      <th>meal</th>\n      <th>country</th>\n      <th>reserved_room_type</th>\n      <th>assigned_room_type</th>\n      <th>customer_type</th>\n      <th>reservation_status</th>\n      <th>reservation_status_date</th>\n    </tr>\n  </thead>\n  <tbody>\n    <tr>\n      <th>2</th>\n      <td>Resort Hotel</td>\n      <td>0</td>\n      <td>7</td>\n      <td>2015-07-01</td>\n      <td>2015</td>\n      <td>July</td>\n      <td>27</td>\n      <td>1</td>\n      <td>0</td>\n      <td>1</td>\n      <td>...</td>\n      <td>1</td>\n      <td>0.0</td>\n      <td>0</td>\n      <td>BB</td>\n      <td>GBR</td>\n      <td>A</td>\n      <td>C</td>\n      <td>Transient</td>\n      <td>Check-Out</td>\n      <td>2015-07-02</td>\n    </tr>\n    <tr>\n      <th>12</th>\n      <td>Resort Hotel</td>\n      <td>0</td>\n      <td>68</td>\n      <td>2015-07-01</td>\n      <td>2015</td>\n      <td>July</td>\n      <td>27</td>\n      <td>1</td>\n      <td>0</td>\n      <td>4</td>\n      <td>...</td>\n      <td>2</td>\n      <td>0.0</td>\n      <td>0</td>\n      <td>BB</td>\n      <td>USA</td>\n      <td>D</td>\n      <td>E</td>\n      <td>Transient</td>\n      <td>Check-Out</td>\n      <td>2015-07-05</td>\n    </tr>\n    <tr>\n      <th>15</th>\n      <td>Resort Hotel</td>\n      <td>0</td>\n      <td>68</td>\n      <td>2015-07-01</td>\n      <td>2015</td>\n      <td>July</td>\n      <td>27</td>\n      <td>1</td>\n      <td>0</td>\n      <td>4</td>\n      <td>...</td>\n      <td>2</td>\n      <td>0.0</td>\n      <td>0</td>\n      <td>BB</td>\n      <td>IRL</td>\n      <td>D</td>\n      <td>E</td>\n      <td>Transient</td>\n      <td>Check-Out</td>\n      <td>2015-07-05</td>\n    </tr>\n    <tr>\n      <th>17</th>\n      <td>Resort Hotel</td>\n      <td>0</td>\n      <td>12</td>\n      <td>2015-07-01</td>\n      <td>2015</td>\n      <td>July</td>\n      <td>27</td>\n      <td>1</td>\n      <td>0</td>\n      <td>1</td>\n      <td>...</td>\n      <td>2</td>\n      <td>0.0</td>\n      <td>0</td>\n      <td>BB</td>\n      <td>IRL</td>\n      <td>A</td>\n      <td>E</td>\n      <td>Transient</td>\n      <td>Check-Out</td>\n      <td>2015-07-02</td>\n    </tr>\n    <tr>\n      <th>18</th>\n      <td>Resort Hotel</td>\n      <td>0</td>\n      <td>0</td>\n      <td>2015-07-01</td>\n      <td>2015</td>\n      <td>July</td>\n      <td>27</td>\n      <td>1</td>\n      <td>0</td>\n      <td>1</td>\n      <td>...</td>\n      <td>2</td>\n      <td>0.0</td>\n      <td>0</td>\n      <td>BB</td>\n      <td>FRA</td>\n      <td>A</td>\n      <td>G</td>\n      <td>Transient</td>\n      <td>Check-Out</td>\n      <td>2015-07-02</td>\n    </tr>\n    <tr>\n      <th>...</th>\n      <td>...</td>\n      <td>...</td>\n      <td>...</td>\n      <td>...</td>\n      <td>...</td>\n      <td>...</td>\n      <td>...</td>\n      <td>...</td>\n      <td>...</td>\n      <td>...</td>\n      <td>...</td>\n      <td>...</td>\n      <td>...</td>\n      <td>...</td>\n      <td>...</td>\n      <td>...</td>\n      <td>...</td>\n      <td>...</td>\n      <td>...</td>\n      <td>...</td>\n      <td>...</td>\n    </tr>\n    <tr>\n      <th>119273</th>\n      <td>City Hotel</td>\n      <td>0</td>\n      <td>213</td>\n      <td>2017-08-28</td>\n      <td>2017</td>\n      <td>August</td>\n      <td>35</td>\n      <td>28</td>\n      <td>1</td>\n      <td>3</td>\n      <td>...</td>\n      <td>1</td>\n      <td>0.0</td>\n      <td>0</td>\n      <td>HB</td>\n      <td>PRT</td>\n      <td>A</td>\n      <td>K</td>\n      <td>Transient-Party</td>\n      <td>Check-Out</td>\n      <td>2017-09-01</td>\n    </tr>\n    <tr>\n      <th>119274</th>\n      <td>City Hotel</td>\n      <td>0</td>\n      <td>213</td>\n      <td>2017-08-28</td>\n      <td>2017</td>\n      <td>August</td>\n      <td>35</td>\n      <td>28</td>\n      <td>1</td>\n      <td>3</td>\n      <td>...</td>\n      <td>1</td>\n      <td>0.0</td>\n      <td>0</td>\n      <td>HB</td>\n      <td>PRT</td>\n      <td>A</td>\n      <td>K</td>\n      <td>Transient-Party</td>\n      <td>Check-Out</td>\n      <td>2017-09-01</td>\n    </tr>\n    <tr>\n      <th>119289</th>\n      <td>City Hotel</td>\n      <td>0</td>\n      <td>25</td>\n      <td>2017-08-30</td>\n      <td>2017</td>\n      <td>August</td>\n      <td>35</td>\n      <td>30</td>\n      <td>0</td>\n      <td>3</td>\n      <td>...</td>\n      <td>3</td>\n      <td>0.0</td>\n      <td>0</td>\n      <td>BB</td>\n      <td>ITA</td>\n      <td>E</td>\n      <td>F</td>\n      <td>Transient</td>\n      <td>Check-Out</td>\n      <td>2017-09-02</td>\n    </tr>\n    <tr>\n      <th>119297</th>\n      <td>City Hotel</td>\n      <td>0</td>\n      <td>332</td>\n      <td>2017-08-31</td>\n      <td>2017</td>\n      <td>August</td>\n      <td>35</td>\n      <td>31</td>\n      <td>0</td>\n      <td>2</td>\n      <td>...</td>\n      <td>2</td>\n      <td>0.0</td>\n      <td>0</td>\n      <td>BB</td>\n      <td>GBR</td>\n      <td>D</td>\n      <td>F</td>\n      <td>Transient</td>\n      <td>Check-Out</td>\n      <td>2017-09-02</td>\n    </tr>\n    <tr>\n      <th>119357</th>\n      <td>City Hotel</td>\n      <td>0</td>\n      <td>47</td>\n      <td>2017-08-31</td>\n      <td>2017</td>\n      <td>August</td>\n      <td>35</td>\n      <td>31</td>\n      <td>1</td>\n      <td>3</td>\n      <td>...</td>\n      <td>1</td>\n      <td>0.0</td>\n      <td>0</td>\n      <td>SC</td>\n      <td>PRT</td>\n      <td>A</td>\n      <td>D</td>\n      <td>Transient</td>\n      <td>Check-Out</td>\n      <td>2017-09-04</td>\n    </tr>\n  </tbody>\n</table>\n<p>14917 rows × 21 columns</p>\n</div>"
     },
     "execution_count": 98,
     "metadata": {},
     "output_type": "execute_result"
    }
   ],
   "source": [
    "bookings.query('reserved_room_type != assigned_room_type')"
   ],
   "metadata": {
    "collapsed": false,
    "pycharm": {
     "name": "#%%\n"
    }
   }
  },
  {
   "cell_type": "code",
   "execution_count": 99,
   "outputs": [
    {
     "data": {
      "text/plain": "October      6203\nMay          5478\nApril        5428\nSeptember    5394\nJune         5292\nAugust       5063\nMarch        4824\nJuly         4572\nNovember     4454\nFebruary     3891\nDecember     3860\nJanuary      2248\nName: arrival_date_month, dtype: int64"
     },
     "execution_count": 99,
     "metadata": {},
     "output_type": "execute_result"
    }
   ],
   "source": [
    "bookings.query('arrival_date_year == 2016').arrival_date_month.value_counts()"
   ],
   "metadata": {
    "collapsed": false,
    "pycharm": {
     "name": "#%%\n"
    }
   }
  },
  {
   "cell_type": "code",
   "execution_count": 100,
   "outputs": [
    {
     "data": {
      "text/plain": "May         6313\nApril       5661\nJune        5647\nJuly        5313\nMarch       4970\nAugust      4925\nFebruary    4177\nJanuary     3681\nName: arrival_date_month, dtype: int64"
     },
     "execution_count": 100,
     "metadata": {},
     "output_type": "execute_result"
    }
   ],
   "source": [
    "bookings.query('arrival_date_year == 2017').arrival_date_month.value_counts()"
   ],
   "metadata": {
    "collapsed": false,
    "pycharm": {
     "name": "#%%\n"
    }
   }
  },
  {
   "cell_type": "code",
   "execution_count": 101,
   "outputs": [
    {
     "data": {
      "text/plain": "               hotel  is_canceled  lead_time arrival_full_date  \\\n0       Resort Hotel            0        342        2015-07-01   \n1       Resort Hotel            0        737        2015-07-01   \n2       Resort Hotel            0          7        2015-07-01   \n3       Resort Hotel            0         13        2015-07-01   \n4       Resort Hotel            0         14        2015-07-01   \n...              ...          ...        ...               ...   \n119385    City Hotel            0         23        2017-08-30   \n119386    City Hotel            0        102        2017-08-31   \n119387    City Hotel            0         34        2017-08-31   \n119388    City Hotel            0        109        2017-08-31   \n119389    City Hotel            0        205        2017-08-29   \n\n        arrival_date_year arrival_date_month  arrival_date_week_number  \\\n0                    2015               July                        27   \n1                    2015               July                        27   \n2                    2015               July                        27   \n3                    2015               July                        27   \n4                    2015               July                        27   \n...                   ...                ...                       ...   \n119385               2017             August                        35   \n119386               2017             August                        35   \n119387               2017             August                        35   \n119388               2017             August                        35   \n119389               2017             August                        35   \n\n        arrival_date_day_of_month  stays_in_weekend_nights  \\\n0                               1                        0   \n1                               1                        0   \n2                               1                        0   \n3                               1                        0   \n4                               1                        0   \n...                           ...                      ...   \n119385                         30                        2   \n119386                         31                        2   \n119387                         31                        2   \n119388                         31                        2   \n119389                         29                        2   \n\n        stays_in_week_nights  ...  adults  children  babies  meal country  \\\n0                          0  ...       2       0.0       0    BB     PRT   \n1                          0  ...       2       0.0       0    BB     PRT   \n2                          1  ...       1       0.0       0    BB     GBR   \n3                          1  ...       1       0.0       0    BB     GBR   \n4                          2  ...       2       0.0       0    BB     GBR   \n...                      ...  ...     ...       ...     ...   ...     ...   \n119385                     5  ...       2       0.0       0    BB     BEL   \n119386                     5  ...       3       0.0       0    BB     FRA   \n119387                     5  ...       2       0.0       0    BB     DEU   \n119388                     5  ...       2       0.0       0    BB     GBR   \n119389                     7  ...       2       0.0       0    HB     DEU   \n\n       reserved_room_type assigned_room_type customer_type reservation_status  \\\n0                       C                  C     Transient          Check-Out   \n1                       C                  C     Transient          Check-Out   \n2                       A                  C     Transient          Check-Out   \n3                       A                  A     Transient          Check-Out   \n4                       A                  A     Transient          Check-Out   \n...                   ...                ...           ...                ...   \n119385                  A                  A     Transient          Check-Out   \n119386                  E                  E     Transient          Check-Out   \n119387                  D                  D     Transient          Check-Out   \n119388                  A                  A     Transient          Check-Out   \n119389                  A                  A     Transient          Check-Out   \n\n       reservation_status_date  \n0                   2015-07-01  \n1                   2015-07-01  \n2                   2015-07-02  \n3                   2015-07-02  \n4                   2015-07-03  \n...                        ...  \n119385              2017-09-06  \n119386              2017-09-07  \n119387              2017-09-07  \n119388              2017-09-07  \n119389              2017-09-07  \n\n[119390 rows x 21 columns]",
      "text/html": "<div>\n<style scoped>\n    .dataframe tbody tr th:only-of-type {\n        vertical-align: middle;\n    }\n\n    .dataframe tbody tr th {\n        vertical-align: top;\n    }\n\n    .dataframe thead th {\n        text-align: right;\n    }\n</style>\n<table border=\"1\" class=\"dataframe\">\n  <thead>\n    <tr style=\"text-align: right;\">\n      <th></th>\n      <th>hotel</th>\n      <th>is_canceled</th>\n      <th>lead_time</th>\n      <th>arrival_full_date</th>\n      <th>arrival_date_year</th>\n      <th>arrival_date_month</th>\n      <th>arrival_date_week_number</th>\n      <th>arrival_date_day_of_month</th>\n      <th>stays_in_weekend_nights</th>\n      <th>stays_in_week_nights</th>\n      <th>...</th>\n      <th>adults</th>\n      <th>children</th>\n      <th>babies</th>\n      <th>meal</th>\n      <th>country</th>\n      <th>reserved_room_type</th>\n      <th>assigned_room_type</th>\n      <th>customer_type</th>\n      <th>reservation_status</th>\n      <th>reservation_status_date</th>\n    </tr>\n  </thead>\n  <tbody>\n    <tr>\n      <th>0</th>\n      <td>Resort Hotel</td>\n      <td>0</td>\n      <td>342</td>\n      <td>2015-07-01</td>\n      <td>2015</td>\n      <td>July</td>\n      <td>27</td>\n      <td>1</td>\n      <td>0</td>\n      <td>0</td>\n      <td>...</td>\n      <td>2</td>\n      <td>0.0</td>\n      <td>0</td>\n      <td>BB</td>\n      <td>PRT</td>\n      <td>C</td>\n      <td>C</td>\n      <td>Transient</td>\n      <td>Check-Out</td>\n      <td>2015-07-01</td>\n    </tr>\n    <tr>\n      <th>1</th>\n      <td>Resort Hotel</td>\n      <td>0</td>\n      <td>737</td>\n      <td>2015-07-01</td>\n      <td>2015</td>\n      <td>July</td>\n      <td>27</td>\n      <td>1</td>\n      <td>0</td>\n      <td>0</td>\n      <td>...</td>\n      <td>2</td>\n      <td>0.0</td>\n      <td>0</td>\n      <td>BB</td>\n      <td>PRT</td>\n      <td>C</td>\n      <td>C</td>\n      <td>Transient</td>\n      <td>Check-Out</td>\n      <td>2015-07-01</td>\n    </tr>\n    <tr>\n      <th>2</th>\n      <td>Resort Hotel</td>\n      <td>0</td>\n      <td>7</td>\n      <td>2015-07-01</td>\n      <td>2015</td>\n      <td>July</td>\n      <td>27</td>\n      <td>1</td>\n      <td>0</td>\n      <td>1</td>\n      <td>...</td>\n      <td>1</td>\n      <td>0.0</td>\n      <td>0</td>\n      <td>BB</td>\n      <td>GBR</td>\n      <td>A</td>\n      <td>C</td>\n      <td>Transient</td>\n      <td>Check-Out</td>\n      <td>2015-07-02</td>\n    </tr>\n    <tr>\n      <th>3</th>\n      <td>Resort Hotel</td>\n      <td>0</td>\n      <td>13</td>\n      <td>2015-07-01</td>\n      <td>2015</td>\n      <td>July</td>\n      <td>27</td>\n      <td>1</td>\n      <td>0</td>\n      <td>1</td>\n      <td>...</td>\n      <td>1</td>\n      <td>0.0</td>\n      <td>0</td>\n      <td>BB</td>\n      <td>GBR</td>\n      <td>A</td>\n      <td>A</td>\n      <td>Transient</td>\n      <td>Check-Out</td>\n      <td>2015-07-02</td>\n    </tr>\n    <tr>\n      <th>4</th>\n      <td>Resort Hotel</td>\n      <td>0</td>\n      <td>14</td>\n      <td>2015-07-01</td>\n      <td>2015</td>\n      <td>July</td>\n      <td>27</td>\n      <td>1</td>\n      <td>0</td>\n      <td>2</td>\n      <td>...</td>\n      <td>2</td>\n      <td>0.0</td>\n      <td>0</td>\n      <td>BB</td>\n      <td>GBR</td>\n      <td>A</td>\n      <td>A</td>\n      <td>Transient</td>\n      <td>Check-Out</td>\n      <td>2015-07-03</td>\n    </tr>\n    <tr>\n      <th>...</th>\n      <td>...</td>\n      <td>...</td>\n      <td>...</td>\n      <td>...</td>\n      <td>...</td>\n      <td>...</td>\n      <td>...</td>\n      <td>...</td>\n      <td>...</td>\n      <td>...</td>\n      <td>...</td>\n      <td>...</td>\n      <td>...</td>\n      <td>...</td>\n      <td>...</td>\n      <td>...</td>\n      <td>...</td>\n      <td>...</td>\n      <td>...</td>\n      <td>...</td>\n      <td>...</td>\n    </tr>\n    <tr>\n      <th>119385</th>\n      <td>City Hotel</td>\n      <td>0</td>\n      <td>23</td>\n      <td>2017-08-30</td>\n      <td>2017</td>\n      <td>August</td>\n      <td>35</td>\n      <td>30</td>\n      <td>2</td>\n      <td>5</td>\n      <td>...</td>\n      <td>2</td>\n      <td>0.0</td>\n      <td>0</td>\n      <td>BB</td>\n      <td>BEL</td>\n      <td>A</td>\n      <td>A</td>\n      <td>Transient</td>\n      <td>Check-Out</td>\n      <td>2017-09-06</td>\n    </tr>\n    <tr>\n      <th>119386</th>\n      <td>City Hotel</td>\n      <td>0</td>\n      <td>102</td>\n      <td>2017-08-31</td>\n      <td>2017</td>\n      <td>August</td>\n      <td>35</td>\n      <td>31</td>\n      <td>2</td>\n      <td>5</td>\n      <td>...</td>\n      <td>3</td>\n      <td>0.0</td>\n      <td>0</td>\n      <td>BB</td>\n      <td>FRA</td>\n      <td>E</td>\n      <td>E</td>\n      <td>Transient</td>\n      <td>Check-Out</td>\n      <td>2017-09-07</td>\n    </tr>\n    <tr>\n      <th>119387</th>\n      <td>City Hotel</td>\n      <td>0</td>\n      <td>34</td>\n      <td>2017-08-31</td>\n      <td>2017</td>\n      <td>August</td>\n      <td>35</td>\n      <td>31</td>\n      <td>2</td>\n      <td>5</td>\n      <td>...</td>\n      <td>2</td>\n      <td>0.0</td>\n      <td>0</td>\n      <td>BB</td>\n      <td>DEU</td>\n      <td>D</td>\n      <td>D</td>\n      <td>Transient</td>\n      <td>Check-Out</td>\n      <td>2017-09-07</td>\n    </tr>\n    <tr>\n      <th>119388</th>\n      <td>City Hotel</td>\n      <td>0</td>\n      <td>109</td>\n      <td>2017-08-31</td>\n      <td>2017</td>\n      <td>August</td>\n      <td>35</td>\n      <td>31</td>\n      <td>2</td>\n      <td>5</td>\n      <td>...</td>\n      <td>2</td>\n      <td>0.0</td>\n      <td>0</td>\n      <td>BB</td>\n      <td>GBR</td>\n      <td>A</td>\n      <td>A</td>\n      <td>Transient</td>\n      <td>Check-Out</td>\n      <td>2017-09-07</td>\n    </tr>\n    <tr>\n      <th>119389</th>\n      <td>City Hotel</td>\n      <td>0</td>\n      <td>205</td>\n      <td>2017-08-29</td>\n      <td>2017</td>\n      <td>August</td>\n      <td>35</td>\n      <td>29</td>\n      <td>2</td>\n      <td>7</td>\n      <td>...</td>\n      <td>2</td>\n      <td>0.0</td>\n      <td>0</td>\n      <td>HB</td>\n      <td>DEU</td>\n      <td>A</td>\n      <td>A</td>\n      <td>Transient</td>\n      <td>Check-Out</td>\n      <td>2017-09-07</td>\n    </tr>\n  </tbody>\n</table>\n<p>119390 rows × 21 columns</p>\n</div>"
     },
     "execution_count": 101,
     "metadata": {},
     "output_type": "execute_result"
    }
   ],
   "source": [
    "bookings"
   ],
   "metadata": {
    "collapsed": false,
    "pycharm": {
     "name": "#%%\n"
    }
   }
  },
  {
   "cell_type": "code",
   "execution_count": 102,
   "outputs": [
    {
     "data": {
      "text/plain": "arrival_date_year  arrival_date_month\n2015               September             1543\n                   October               1321\n                   August                1232\n                   July                   939\n                   December               668\n                   November               301\n2016               October               1947\n                   June                  1720\n                   September             1567\n                   April                 1539\n                   May                   1436\n                   November              1360\n                   August                1247\n                   March                 1108\n                   December              1072\n                   July                  1043\n                   February               930\n                   January                438\n2017               May                   2217\n                   April                 1926\n                   June                  1808\n                   July                  1324\n                   March                 1278\n                   August                1123\n                   January               1044\n                   February               971\nName: arrival_date_month, dtype: int64"
     },
     "execution_count": 102,
     "metadata": {},
     "output_type": "execute_result"
    }
   ],
   "source": [
    "bookings.query('hotel == \"City Hotel\" and is_canceled == 1').groupby(\n",
    "    'arrival_date_year').arrival_date_month.value_counts()"
   ],
   "metadata": {
    "collapsed": false,
    "pycharm": {
     "name": "#%%\n"
    }
   }
  },
  {
   "cell_type": "code",
   "execution_count": 103,
   "outputs": [
    {
     "data": {
      "text/plain": "        adults  children  babies\n0            2       0.0       0\n1            2       0.0       0\n2            1       0.0       0\n3            1       0.0       0\n4            2       0.0       0\n...        ...       ...     ...\n119385       2       0.0       0\n119386       3       0.0       0\n119387       2       0.0       0\n119388       2       0.0       0\n119389       2       0.0       0\n\n[119390 rows x 3 columns]",
      "text/html": "<div>\n<style scoped>\n    .dataframe tbody tr th:only-of-type {\n        vertical-align: middle;\n    }\n\n    .dataframe tbody tr th {\n        vertical-align: top;\n    }\n\n    .dataframe thead th {\n        text-align: right;\n    }\n</style>\n<table border=\"1\" class=\"dataframe\">\n  <thead>\n    <tr style=\"text-align: right;\">\n      <th></th>\n      <th>adults</th>\n      <th>children</th>\n      <th>babies</th>\n    </tr>\n  </thead>\n  <tbody>\n    <tr>\n      <th>0</th>\n      <td>2</td>\n      <td>0.0</td>\n      <td>0</td>\n    </tr>\n    <tr>\n      <th>1</th>\n      <td>2</td>\n      <td>0.0</td>\n      <td>0</td>\n    </tr>\n    <tr>\n      <th>2</th>\n      <td>1</td>\n      <td>0.0</td>\n      <td>0</td>\n    </tr>\n    <tr>\n      <th>3</th>\n      <td>1</td>\n      <td>0.0</td>\n      <td>0</td>\n    </tr>\n    <tr>\n      <th>4</th>\n      <td>2</td>\n      <td>0.0</td>\n      <td>0</td>\n    </tr>\n    <tr>\n      <th>...</th>\n      <td>...</td>\n      <td>...</td>\n      <td>...</td>\n    </tr>\n    <tr>\n      <th>119385</th>\n      <td>2</td>\n      <td>0.0</td>\n      <td>0</td>\n    </tr>\n    <tr>\n      <th>119386</th>\n      <td>3</td>\n      <td>0.0</td>\n      <td>0</td>\n    </tr>\n    <tr>\n      <th>119387</th>\n      <td>2</td>\n      <td>0.0</td>\n      <td>0</td>\n    </tr>\n    <tr>\n      <th>119388</th>\n      <td>2</td>\n      <td>0.0</td>\n      <td>0</td>\n    </tr>\n    <tr>\n      <th>119389</th>\n      <td>2</td>\n      <td>0.0</td>\n      <td>0</td>\n    </tr>\n  </tbody>\n</table>\n<p>119390 rows × 3 columns</p>\n</div>"
     },
     "execution_count": 103,
     "metadata": {},
     "output_type": "execute_result"
    }
   ],
   "source": [
    "bookings[['adults', 'children', 'babies']]"
   ],
   "metadata": {
    "collapsed": false,
    "pycharm": {
     "name": "#%%\n"
    }
   }
  },
  {
   "cell_type": "code",
   "execution_count": 104,
   "outputs": [
    {
     "data": {
      "text/plain": "              adults       children         babies\ncount  119390.000000  119386.000000  119390.000000\nmean        1.856403       0.103890       0.007949\nstd         0.579261       0.398561       0.097436\nmin         0.000000       0.000000       0.000000\n25%         2.000000       0.000000       0.000000\n50%         2.000000       0.000000       0.000000\n75%         2.000000       0.000000       0.000000\nmax        55.000000      10.000000      10.000000",
      "text/html": "<div>\n<style scoped>\n    .dataframe tbody tr th:only-of-type {\n        vertical-align: middle;\n    }\n\n    .dataframe tbody tr th {\n        vertical-align: top;\n    }\n\n    .dataframe thead th {\n        text-align: right;\n    }\n</style>\n<table border=\"1\" class=\"dataframe\">\n  <thead>\n    <tr style=\"text-align: right;\">\n      <th></th>\n      <th>adults</th>\n      <th>children</th>\n      <th>babies</th>\n    </tr>\n  </thead>\n  <tbody>\n    <tr>\n      <th>count</th>\n      <td>119390.000000</td>\n      <td>119386.000000</td>\n      <td>119390.000000</td>\n    </tr>\n    <tr>\n      <th>mean</th>\n      <td>1.856403</td>\n      <td>0.103890</td>\n      <td>0.007949</td>\n    </tr>\n    <tr>\n      <th>std</th>\n      <td>0.579261</td>\n      <td>0.398561</td>\n      <td>0.097436</td>\n    </tr>\n    <tr>\n      <th>min</th>\n      <td>0.000000</td>\n      <td>0.000000</td>\n      <td>0.000000</td>\n    </tr>\n    <tr>\n      <th>25%</th>\n      <td>2.000000</td>\n      <td>0.000000</td>\n      <td>0.000000</td>\n    </tr>\n    <tr>\n      <th>50%</th>\n      <td>2.000000</td>\n      <td>0.000000</td>\n      <td>0.000000</td>\n    </tr>\n    <tr>\n      <th>75%</th>\n      <td>2.000000</td>\n      <td>0.000000</td>\n      <td>0.000000</td>\n    </tr>\n    <tr>\n      <th>max</th>\n      <td>55.000000</td>\n      <td>10.000000</td>\n      <td>10.000000</td>\n    </tr>\n  </tbody>\n</table>\n</div>"
     },
     "execution_count": 104,
     "metadata": {},
     "output_type": "execute_result"
    }
   ],
   "source": [
    "bookings[['adults', 'children', 'babies']].describe()"
   ],
   "metadata": {
    "collapsed": false,
    "pycharm": {
     "name": "#%%\n"
    }
   }
  },
  {
   "cell_type": "code",
   "execution_count": 105,
   "outputs": [
    {
     "data": {
      "text/plain": "adults      1.856403\nchildren    0.103890\nbabies      0.007949\ndtype: float64"
     },
     "execution_count": 105,
     "metadata": {},
     "output_type": "execute_result"
    }
   ],
   "source": [
    "bookings[['adults', 'children', 'babies']].mean()"
   ],
   "metadata": {
    "collapsed": false,
    "pycharm": {
     "name": "#%%\n"
    }
   }
  },
  {
   "cell_type": "code",
   "execution_count": 106,
   "outputs": [],
   "source": [
    "bookings['total_kids'] = bookings.children + bookings.babies"
   ],
   "metadata": {
    "collapsed": false,
    "pycharm": {
     "name": "#%%\n"
    }
   }
  },
  {
   "cell_type": "code",
   "execution_count": 107,
   "outputs": [
    {
     "data": {
      "text/plain": "0         0.0\n1         0.0\n2         0.0\n3         0.0\n4         0.0\n         ... \n119385    0.0\n119386    0.0\n119387    0.0\n119388    0.0\n119389    0.0\nName: total_kids, Length: 119390, dtype: float64"
     },
     "execution_count": 107,
     "metadata": {},
     "output_type": "execute_result"
    }
   ],
   "source": [
    "bookings.total_kids"
   ],
   "metadata": {
    "collapsed": false,
    "pycharm": {
     "name": "#%%\n"
    }
   }
  },
  {
   "cell_type": "code",
   "execution_count": 108,
   "outputs": [
    {
     "data": {
      "text/plain": "              total_kids\nhotel                   \nCity Hotel          0.10\nResort Hotel        0.14",
      "text/html": "<div>\n<style scoped>\n    .dataframe tbody tr th:only-of-type {\n        vertical-align: middle;\n    }\n\n    .dataframe tbody tr th {\n        vertical-align: top;\n    }\n\n    .dataframe thead th {\n        text-align: right;\n    }\n</style>\n<table border=\"1\" class=\"dataframe\">\n  <thead>\n    <tr style=\"text-align: right;\">\n      <th></th>\n      <th>total_kids</th>\n    </tr>\n    <tr>\n      <th>hotel</th>\n      <th></th>\n    </tr>\n  </thead>\n  <tbody>\n    <tr>\n      <th>City Hotel</th>\n      <td>0.10</td>\n    </tr>\n    <tr>\n      <th>Resort Hotel</th>\n      <td>0.14</td>\n    </tr>\n  </tbody>\n</table>\n</div>"
     },
     "execution_count": 108,
     "metadata": {},
     "output_type": "execute_result"
    }
   ],
   "source": [
    "bookings.groupby('hotel').aggregate({'total_kids': 'mean'}).round(2)"
   ],
   "metadata": {
    "collapsed": false,
    "pycharm": {
     "name": "#%%\n"
    }
   }
  },
  {
   "cell_type": "code",
   "execution_count": 109,
   "outputs": [],
   "source": [
    "bookings['has_kids'] = bookings.total_kids > 0"
   ],
   "metadata": {
    "collapsed": false,
    "pycharm": {
     "name": "#%%\n"
    }
   }
  },
  {
   "cell_type": "code",
   "execution_count": 110,
   "outputs": [
    {
     "data": {
      "text/plain": "               hotel  is_canceled  lead_time arrival_full_date  \\\n8       Resort Hotel            1         85        2015-07-01   \n9       Resort Hotel            1         75        2015-07-01   \n10      Resort Hotel            1         23        2015-07-01   \n27      Resort Hotel            1         60        2015-07-01   \n32      Resort Hotel            1         96        2015-07-01   \n...              ...          ...        ...               ...   \n110280    City Hotel            1        132        2017-04-25   \n111355    City Hotel            1          4        2017-06-05   \n111924    City Hotel            1          7        2017-05-31   \n111925    City Hotel            1          6        2017-07-17   \n117295    City Hotel            1          0        2017-08-02   \n\n        arrival_date_year arrival_date_month  arrival_date_week_number  \\\n8                    2015               July                        27   \n9                    2015               July                        27   \n10                   2015               July                        27   \n27                   2015               July                        27   \n32                   2015               July                        27   \n...                   ...                ...                       ...   \n110280               2017              April                        17   \n111355               2017               June                        23   \n111924               2017                May                        22   \n111925               2017               July                        29   \n117295               2017             August                        31   \n\n        arrival_date_day_of_month  stays_in_weekend_nights  \\\n8                               1                        0   \n9                               1                        0   \n10                              1                        0   \n27                              1                        2   \n32                              1                        2   \n...                           ...                      ...   \n110280                         25                        0   \n111355                          5                        1   \n111924                         31                        0   \n111925                         17                        1   \n117295                          2                        0   \n\n        stays_in_week_nights  ...  babies  meal  country  reserved_room_type  \\\n8                          3  ...       0    BB      PRT                   A   \n9                          3  ...       0    HB      PRT                   D   \n10                         4  ...       0    BB      PRT                   E   \n27                         5  ...       0    BB      PRT                   E   \n32                         8  ...       0    BB      PRT                   E   \n...                      ...  ...     ...   ...      ...                 ...   \n110280                     0  ...       0    BB      FRA                   D   \n111355                     0  ...       0    BB      PRT                   A   \n111924                     1  ...       0    BB      PRT                   A   \n111925                     0  ...       0    BB      PRT                   A   \n117295                     2  ...       0    BB      PRT                   A   \n\n       assigned_room_type customer_type reservation_status  \\\n8                       A     Transient           Canceled   \n9                       D     Transient           Canceled   \n10                      E     Transient           Canceled   \n27                      E     Transient           Canceled   \n32                      E     Transient           Canceled   \n...                   ...           ...                ...   \n110280                  K     Transient           Canceled   \n111355                  A     Transient           Canceled   \n111924                  A     Transient           Canceled   \n111925                  D     Transient            No-Show   \n117295                  C     Transient            No-Show   \n\n       reservation_status_date total_kids has_kids  \n8                   2015-05-06        0.0    False  \n9                   2015-04-22        0.0    False  \n10                  2015-06-23        0.0    False  \n27                  2015-05-11        0.0    False  \n32                  2015-05-29        0.0    False  \n...                        ...        ...      ...  \n110280              2017-04-25        0.0    False  \n111355              2017-06-05        0.0    False  \n111924              2017-05-31        0.0    False  \n111925              2017-07-17        0.0    False  \n117295              2017-08-02        0.0    False  \n\n[40965 rows x 23 columns]",
      "text/html": "<div>\n<style scoped>\n    .dataframe tbody tr th:only-of-type {\n        vertical-align: middle;\n    }\n\n    .dataframe tbody tr th {\n        vertical-align: top;\n    }\n\n    .dataframe thead th {\n        text-align: right;\n    }\n</style>\n<table border=\"1\" class=\"dataframe\">\n  <thead>\n    <tr style=\"text-align: right;\">\n      <th></th>\n      <th>hotel</th>\n      <th>is_canceled</th>\n      <th>lead_time</th>\n      <th>arrival_full_date</th>\n      <th>arrival_date_year</th>\n      <th>arrival_date_month</th>\n      <th>arrival_date_week_number</th>\n      <th>arrival_date_day_of_month</th>\n      <th>stays_in_weekend_nights</th>\n      <th>stays_in_week_nights</th>\n      <th>...</th>\n      <th>babies</th>\n      <th>meal</th>\n      <th>country</th>\n      <th>reserved_room_type</th>\n      <th>assigned_room_type</th>\n      <th>customer_type</th>\n      <th>reservation_status</th>\n      <th>reservation_status_date</th>\n      <th>total_kids</th>\n      <th>has_kids</th>\n    </tr>\n  </thead>\n  <tbody>\n    <tr>\n      <th>8</th>\n      <td>Resort Hotel</td>\n      <td>1</td>\n      <td>85</td>\n      <td>2015-07-01</td>\n      <td>2015</td>\n      <td>July</td>\n      <td>27</td>\n      <td>1</td>\n      <td>0</td>\n      <td>3</td>\n      <td>...</td>\n      <td>0</td>\n      <td>BB</td>\n      <td>PRT</td>\n      <td>A</td>\n      <td>A</td>\n      <td>Transient</td>\n      <td>Canceled</td>\n      <td>2015-05-06</td>\n      <td>0.0</td>\n      <td>False</td>\n    </tr>\n    <tr>\n      <th>9</th>\n      <td>Resort Hotel</td>\n      <td>1</td>\n      <td>75</td>\n      <td>2015-07-01</td>\n      <td>2015</td>\n      <td>July</td>\n      <td>27</td>\n      <td>1</td>\n      <td>0</td>\n      <td>3</td>\n      <td>...</td>\n      <td>0</td>\n      <td>HB</td>\n      <td>PRT</td>\n      <td>D</td>\n      <td>D</td>\n      <td>Transient</td>\n      <td>Canceled</td>\n      <td>2015-04-22</td>\n      <td>0.0</td>\n      <td>False</td>\n    </tr>\n    <tr>\n      <th>10</th>\n      <td>Resort Hotel</td>\n      <td>1</td>\n      <td>23</td>\n      <td>2015-07-01</td>\n      <td>2015</td>\n      <td>July</td>\n      <td>27</td>\n      <td>1</td>\n      <td>0</td>\n      <td>4</td>\n      <td>...</td>\n      <td>0</td>\n      <td>BB</td>\n      <td>PRT</td>\n      <td>E</td>\n      <td>E</td>\n      <td>Transient</td>\n      <td>Canceled</td>\n      <td>2015-06-23</td>\n      <td>0.0</td>\n      <td>False</td>\n    </tr>\n    <tr>\n      <th>27</th>\n      <td>Resort Hotel</td>\n      <td>1</td>\n      <td>60</td>\n      <td>2015-07-01</td>\n      <td>2015</td>\n      <td>July</td>\n      <td>27</td>\n      <td>1</td>\n      <td>2</td>\n      <td>5</td>\n      <td>...</td>\n      <td>0</td>\n      <td>BB</td>\n      <td>PRT</td>\n      <td>E</td>\n      <td>E</td>\n      <td>Transient</td>\n      <td>Canceled</td>\n      <td>2015-05-11</td>\n      <td>0.0</td>\n      <td>False</td>\n    </tr>\n    <tr>\n      <th>32</th>\n      <td>Resort Hotel</td>\n      <td>1</td>\n      <td>96</td>\n      <td>2015-07-01</td>\n      <td>2015</td>\n      <td>July</td>\n      <td>27</td>\n      <td>1</td>\n      <td>2</td>\n      <td>8</td>\n      <td>...</td>\n      <td>0</td>\n      <td>BB</td>\n      <td>PRT</td>\n      <td>E</td>\n      <td>E</td>\n      <td>Transient</td>\n      <td>Canceled</td>\n      <td>2015-05-29</td>\n      <td>0.0</td>\n      <td>False</td>\n    </tr>\n    <tr>\n      <th>...</th>\n      <td>...</td>\n      <td>...</td>\n      <td>...</td>\n      <td>...</td>\n      <td>...</td>\n      <td>...</td>\n      <td>...</td>\n      <td>...</td>\n      <td>...</td>\n      <td>...</td>\n      <td>...</td>\n      <td>...</td>\n      <td>...</td>\n      <td>...</td>\n      <td>...</td>\n      <td>...</td>\n      <td>...</td>\n      <td>...</td>\n      <td>...</td>\n      <td>...</td>\n      <td>...</td>\n    </tr>\n    <tr>\n      <th>110280</th>\n      <td>City Hotel</td>\n      <td>1</td>\n      <td>132</td>\n      <td>2017-04-25</td>\n      <td>2017</td>\n      <td>April</td>\n      <td>17</td>\n      <td>25</td>\n      <td>0</td>\n      <td>0</td>\n      <td>...</td>\n      <td>0</td>\n      <td>BB</td>\n      <td>FRA</td>\n      <td>D</td>\n      <td>K</td>\n      <td>Transient</td>\n      <td>Canceled</td>\n      <td>2017-04-25</td>\n      <td>0.0</td>\n      <td>False</td>\n    </tr>\n    <tr>\n      <th>111355</th>\n      <td>City Hotel</td>\n      <td>1</td>\n      <td>4</td>\n      <td>2017-06-05</td>\n      <td>2017</td>\n      <td>June</td>\n      <td>23</td>\n      <td>5</td>\n      <td>1</td>\n      <td>0</td>\n      <td>...</td>\n      <td>0</td>\n      <td>BB</td>\n      <td>PRT</td>\n      <td>A</td>\n      <td>A</td>\n      <td>Transient</td>\n      <td>Canceled</td>\n      <td>2017-06-05</td>\n      <td>0.0</td>\n      <td>False</td>\n    </tr>\n    <tr>\n      <th>111924</th>\n      <td>City Hotel</td>\n      <td>1</td>\n      <td>7</td>\n      <td>2017-05-31</td>\n      <td>2017</td>\n      <td>May</td>\n      <td>22</td>\n      <td>31</td>\n      <td>0</td>\n      <td>1</td>\n      <td>...</td>\n      <td>0</td>\n      <td>BB</td>\n      <td>PRT</td>\n      <td>A</td>\n      <td>A</td>\n      <td>Transient</td>\n      <td>Canceled</td>\n      <td>2017-05-31</td>\n      <td>0.0</td>\n      <td>False</td>\n    </tr>\n    <tr>\n      <th>111925</th>\n      <td>City Hotel</td>\n      <td>1</td>\n      <td>6</td>\n      <td>2017-07-17</td>\n      <td>2017</td>\n      <td>July</td>\n      <td>29</td>\n      <td>17</td>\n      <td>1</td>\n      <td>0</td>\n      <td>...</td>\n      <td>0</td>\n      <td>BB</td>\n      <td>PRT</td>\n      <td>A</td>\n      <td>D</td>\n      <td>Transient</td>\n      <td>No-Show</td>\n      <td>2017-07-17</td>\n      <td>0.0</td>\n      <td>False</td>\n    </tr>\n    <tr>\n      <th>117295</th>\n      <td>City Hotel</td>\n      <td>1</td>\n      <td>0</td>\n      <td>2017-08-02</td>\n      <td>2017</td>\n      <td>August</td>\n      <td>31</td>\n      <td>2</td>\n      <td>0</td>\n      <td>2</td>\n      <td>...</td>\n      <td>0</td>\n      <td>BB</td>\n      <td>PRT</td>\n      <td>A</td>\n      <td>C</td>\n      <td>Transient</td>\n      <td>No-Show</td>\n      <td>2017-08-02</td>\n      <td>0.0</td>\n      <td>False</td>\n    </tr>\n  </tbody>\n</table>\n<p>40965 rows × 23 columns</p>\n</div>"
     },
     "execution_count": 110,
     "metadata": {},
     "output_type": "execute_result"
    }
   ],
   "source": [
    "bookings.query('has_kids == False and is_canceled == 1')"
   ],
   "metadata": {
    "collapsed": false,
    "pycharm": {
     "name": "#%%\n"
    }
   }
  },
  {
   "cell_type": "code",
   "execution_count": 111,
   "outputs": [],
   "source": [
    "x = bookings.query('has_kids == False and is_canceled == 1').shape[0]"
   ],
   "metadata": {
    "collapsed": false,
    "pycharm": {
     "name": "#%%\n"
    }
   }
  },
  {
   "cell_type": "code",
   "execution_count": 112,
   "outputs": [],
   "source": [
    "y = bookings.query('has_kids == False').shape[0]"
   ],
   "metadata": {
    "collapsed": false,
    "pycharm": {
     "name": "#%%\n"
    }
   }
  },
  {
   "cell_type": "code",
   "execution_count": 113,
   "outputs": [
    {
     "data": {
      "text/plain": "0.37221283323338605"
     },
     "execution_count": 113,
     "metadata": {},
     "output_type": "execute_result"
    }
   ],
   "source": [
    "x / y"
   ],
   "metadata": {
    "collapsed": false,
    "pycharm": {
     "name": "#%%\n"
    }
   }
  },
  {
   "cell_type": "code",
   "execution_count": 114,
   "outputs": [
    {
     "data": {
      "text/plain": "37.221283323338604"
     },
     "execution_count": 114,
     "metadata": {},
     "output_type": "execute_result"
    }
   ],
   "source": [
    "(x / y) * 100"
   ],
   "metadata": {
    "collapsed": false,
    "pycharm": {
     "name": "#%%\n"
    }
   }
  },
  {
   "cell_type": "code",
   "execution_count": 115,
   "outputs": [
    {
     "data": {
      "text/plain": "37"
     },
     "execution_count": 115,
     "metadata": {},
     "output_type": "execute_result"
    }
   ],
   "source": [
    "round((x / y) * 100)"
   ],
   "metadata": {
    "collapsed": false,
    "pycharm": {
     "name": "#%%\n"
    }
   }
  },
  {
   "cell_type": "code",
   "execution_count": 115,
   "outputs": [],
   "source": [],
   "metadata": {
    "collapsed": false,
    "pycharm": {
     "name": "#%%\n"
    }
   }
  }
 ],
 "metadata": {
  "kernelspec": {
   "display_name": "Python 3 (ipykernel)",
   "language": "python",
   "name": "python3"
  },
  "language_info": {
   "codemirror_mode": {
    "name": "ipython",
    "version": 3
   },
   "file_extension": ".py",
   "mimetype": "text/x-python",
   "name": "python",
   "nbconvert_exporter": "python",
   "pygments_lexer": "ipython3",
   "version": "3.9.13"
  }
 },
 "nbformat": 4,
 "nbformat_minor": 5
}