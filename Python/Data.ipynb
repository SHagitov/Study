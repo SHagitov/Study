{
 "cells": [
  {
   "cell_type": "code",
   "execution_count": 1,
   "id": "0013e1e6",
   "metadata": {
    "pycharm": {
     "name": "#%%\n"
    }
   },
   "outputs": [
    {
     "name": "stdout",
     "output_type": "stream",
     "text": [
      "Hello\n"
     ]
    }
   ],
   "source": [
    "print('Hello')"
   ]
  },
  {
   "cell_type": "code",
   "execution_count": 2,
   "id": "5a7ec374",
   "metadata": {
    "pycharm": {
     "name": "#%%\n"
    }
   },
   "outputs": [],
   "source": [
    "age = 25"
   ]
  },
  {
   "cell_type": "code",
   "execution_count": 3,
   "outputs": [],
   "source": [
    "name = 'Sasha'"
   ],
   "metadata": {
    "collapsed": false,
    "pycharm": {
     "name": "#%%\n"
    }
   }
  },
  {
   "cell_type": "code",
   "execution_count": 4,
   "outputs": [
    {
     "data": {
      "text/plain": "'Sasha'"
     },
     "execution_count": 4,
     "metadata": {},
     "output_type": "execute_result"
    }
   ],
   "source": [
    "name"
   ],
   "metadata": {
    "collapsed": false,
    "pycharm": {
     "name": "#%%\n"
    }
   }
  },
  {
   "cell_type": "code",
   "execution_count": 5,
   "outputs": [
    {
     "data": {
      "text/plain": "['Ivan', 'Ivanov', 1000.0, 1]"
     },
     "execution_count": 5,
     "metadata": {},
     "output_type": "execute_result"
    }
   ],
   "source": [
    "user_info = [\"Ivan\", \"Ivanov\", 1000.0, 1]\n",
    "user_info"
   ],
   "metadata": {
    "collapsed": false,
    "pycharm": {
     "name": "#%%\n"
    }
   }
  },
  {
   "cell_type": "code",
   "execution_count": 6,
   "outputs": [
    {
     "data": {
      "text/plain": "'Ivan'"
     },
     "execution_count": 6,
     "metadata": {},
     "output_type": "execute_result"
    }
   ],
   "source": [
    "user_info[0]"
   ],
   "metadata": {
    "collapsed": false,
    "pycharm": {
     "name": "#%%\n"
    }
   }
  },
  {
   "cell_type": "code",
   "execution_count": 7,
   "outputs": [
    {
     "data": {
      "text/plain": "'Ivan'"
     },
     "execution_count": 7,
     "metadata": {},
     "output_type": "execute_result"
    }
   ],
   "source": [
    "['Ivan', 'Ivanov', 1000.0, 1][0]"
   ],
   "metadata": {
    "collapsed": false,
    "pycharm": {
     "name": "#%%\n"
    }
   }
  },
  {
   "cell_type": "code",
   "execution_count": 8,
   "outputs": [],
   "source": [
    "salaries = [1, 2, 3, 4, 5]"
   ],
   "metadata": {
    "collapsed": false,
    "pycharm": {
     "name": "#%%\n"
    }
   }
  },
  {
   "cell_type": "code",
   "execution_count": 9,
   "outputs": [
    {
     "data": {
      "text/plain": "[1, 2, 3, 4, 5]"
     },
     "execution_count": 9,
     "metadata": {},
     "output_type": "execute_result"
    }
   ],
   "source": [
    "salaries"
   ],
   "metadata": {
    "collapsed": false,
    "pycharm": {
     "name": "#%%\n"
    }
   }
  },
  {
   "cell_type": "code",
   "execution_count": 10,
   "outputs": [
    {
     "data": {
      "text/plain": "1"
     },
     "execution_count": 10,
     "metadata": {},
     "output_type": "execute_result"
    }
   ],
   "source": [
    "salaries[0]"
   ],
   "metadata": {
    "collapsed": false,
    "pycharm": {
     "name": "#%%\n"
    }
   }
  },
  {
   "cell_type": "code",
   "execution_count": 11,
   "outputs": [
    {
     "data": {
      "text/plain": "5"
     },
     "execution_count": 11,
     "metadata": {},
     "output_type": "execute_result"
    }
   ],
   "source": [
    "salaries[-1]"
   ],
   "metadata": {
    "collapsed": false,
    "pycharm": {
     "name": "#%%\n"
    }
   }
  },
  {
   "cell_type": "code",
   "execution_count": 12,
   "outputs": [],
   "source": [
    "users = [\"Courses\", 42, False]"
   ],
   "metadata": {
    "collapsed": false,
    "pycharm": {
     "name": "#%%\n"
    }
   }
  },
  {
   "cell_type": "code",
   "execution_count": 13,
   "outputs": [
    {
     "data": {
      "text/plain": "['Courses', 42, False]"
     },
     "execution_count": 13,
     "metadata": {},
     "output_type": "execute_result"
    }
   ],
   "source": [
    "users"
   ],
   "metadata": {
    "collapsed": false,
    "pycharm": {
     "name": "#%%\n"
    }
   }
  },
  {
   "cell_type": "code",
   "execution_count": 14,
   "outputs": [],
   "source": [
    "users.append(8)"
   ],
   "metadata": {
    "collapsed": false,
    "pycharm": {
     "name": "#%%\n"
    }
   }
  },
  {
   "cell_type": "code",
   "execution_count": 15,
   "outputs": [
    {
     "data": {
      "text/plain": "['Courses', 42, False, 8]"
     },
     "execution_count": 15,
     "metadata": {},
     "output_type": "execute_result"
    }
   ],
   "source": [
    "users"
   ],
   "metadata": {
    "collapsed": false,
    "pycharm": {
     "name": "#%%\n"
    }
   }
  },
  {
   "cell_type": "code",
   "execution_count": 16,
   "outputs": [],
   "source": [
    "worker = ['Sasha', 'Ivanov', 75000.0, 1]"
   ],
   "metadata": {
    "collapsed": false,
    "pycharm": {
     "name": "#%%\n"
    }
   }
  },
  {
   "cell_type": "code",
   "execution_count": 17,
   "outputs": [
    {
     "data": {
      "text/plain": "['Sasha', 'Ivanov', 75000.0, 1]"
     },
     "execution_count": 17,
     "metadata": {},
     "output_type": "execute_result"
    }
   ],
   "source": [
    "worker"
   ],
   "metadata": {
    "collapsed": false,
    "pycharm": {
     "name": "#%%\n"
    }
   }
  },
  {
   "cell_type": "code",
   "execution_count": 18,
   "outputs": [],
   "source": [
    "status = '{} {} is {}'"
   ],
   "metadata": {
    "collapsed": false,
    "pycharm": {
     "name": "#%%\n"
    }
   }
  },
  {
   "cell_type": "code",
   "execution_count": 19,
   "outputs": [
    {
     "data": {
      "text/plain": "'{} {} is {}'"
     },
     "execution_count": 19,
     "metadata": {},
     "output_type": "execute_result"
    }
   ],
   "source": [
    "status"
   ],
   "metadata": {
    "collapsed": false,
    "pycharm": {
     "name": "#%%\n"
    }
   }
  },
  {
   "cell_type": "code",
   "execution_count": 20,
   "outputs": [],
   "source": [
    "experience = worker[-1]\n",
    "if experience < 2:\n",
    "    position = 'junior'\n",
    "elif 2 <= experience <= 5:\n",
    "    position = 'middle'\n",
    "else:\n",
    "    positon = 'senior'"
   ],
   "metadata": {
    "collapsed": false,
    "pycharm": {
     "name": "#%%\n"
    }
   }
  },
  {
   "cell_type": "code",
   "execution_count": 21,
   "outputs": [],
   "source": [
    "status = status.format(worker[0], worker[1],position)"
   ],
   "metadata": {
    "collapsed": false,
    "pycharm": {
     "name": "#%%\n"
    }
   }
  },
  {
   "cell_type": "code",
   "execution_count": 22,
   "outputs": [],
   "source": [
    "values = [15,0,10,100,150,165,1001,45,-30]"
   ],
   "metadata": {
    "collapsed": false,
    "pycharm": {
     "name": "#%%\n"
    }
   }
  },
  {
   "cell_type": "code",
   "execution_count": 23,
   "outputs": [],
   "source": [
    "x = []"
   ],
   "metadata": {
    "collapsed": false,
    "pycharm": {
     "name": "#%%\n"
    }
   }
  },
  {
   "cell_type": "code",
   "execution_count": 24,
   "outputs": [],
   "source": [
    "for value in values:\n",
    "    if (value % 10) == 0:\n",
    "        x += [value]"
   ],
   "metadata": {
    "collapsed": false,
    "pycharm": {
     "name": "#%%\n"
    }
   }
  },
  {
   "cell_type": "code",
   "execution_count": 25,
   "outputs": [
    {
     "data": {
      "text/plain": "[0, 10, 100, 150, -30]"
     },
     "execution_count": 25,
     "metadata": {},
     "output_type": "execute_result"
    }
   ],
   "source": [
    "x"
   ],
   "metadata": {
    "collapsed": false,
    "pycharm": {
     "name": "#%%\n"
    }
   }
  },
  {
   "cell_type": "code",
   "execution_count": 26,
   "outputs": [
    {
     "data": {
      "text/plain": "True"
     },
     "execution_count": 26,
     "metadata": {},
     "output_type": "execute_result"
    }
   ],
   "source": [
    "(100 % 10) == 0"
   ],
   "metadata": {
    "collapsed": false,
    "pycharm": {
     "name": "#%%\n"
    }
   }
  },
  {
   "cell_type": "code",
   "execution_count": 27,
   "outputs": [],
   "source": [
    "import pandas as pd"
   ],
   "metadata": {
    "collapsed": false,
    "pycharm": {
     "name": "#%%\n"
    }
   }
  },
  {
   "cell_type": "code",
   "execution_count": 28,
   "outputs": [],
   "source": [
    "df = pd.read_csv('C:/Users/Marat SHagitov/Documents/GitHub/Study/Python/test.csv')"
   ],
   "metadata": {
    "collapsed": false,
    "pycharm": {
     "name": "#%%\n"
    }
   }
  },
  {
   "cell_type": "code",
   "execution_count": 29,
   "outputs": [
    {
     "data": {
      "text/plain": "      Series_reference   Period  Data_value Suppressed STATUS   UNITS  \\\n20249    BDCQ.SEE3999A  2017.06         NaN          Y      C  Number   \n20250    BDCQ.SEE3999A  2017.09         NaN          Y      C  Number   \n20251    BDCQ.SEE3999A  2017.12         NaN          Y      C  Number   \n20252    BDCQ.SEE3999A  2018.03         NaN          Y      C  Number   \n20253    BDCQ.SEE3999A  2018.06         NaN          Y      C  Number   \n\n       Magnitude                         Subject  \\\n20249          0  Business Data Collection - BDC   \n20250          0  Business Data Collection - BDC   \n20251          0  Business Data Collection - BDC   \n20252          0  Business Data Collection - BDC   \n20253          0  Business Data Collection - BDC   \n\n                                              Group  \\\n20249  Territorial authority by employment variable   \n20250  Territorial authority by employment variable   \n20251  Territorial authority by employment variable   \n20252  Territorial authority by employment variable   \n20253  Territorial authority by employment variable   \n\n                               Series_title_1  \\\n20249  Filled jobs (workplace location based)   \n20250  Filled jobs (workplace location based)   \n20251  Filled jobs (workplace location based)   \n20252  Filled jobs (workplace location based)   \n20253  Filled jobs (workplace location based)   \n\n                           Series_title_2 Series_title_3  Series_title_4  \\\n20249  Area Outside Territorial Authority         Actual             NaN   \n20250  Area Outside Territorial Authority         Actual             NaN   \n20251  Area Outside Territorial Authority         Actual             NaN   \n20252  Area Outside Territorial Authority         Actual             NaN   \n20253  Area Outside Territorial Authority         Actual             NaN   \n\n       Series_title_5  \n20249             NaN  \n20250             NaN  \n20251             NaN  \n20252             NaN  \n20253             NaN  ",
      "text/html": "<div>\n<style scoped>\n    .dataframe tbody tr th:only-of-type {\n        vertical-align: middle;\n    }\n\n    .dataframe tbody tr th {\n        vertical-align: top;\n    }\n\n    .dataframe thead th {\n        text-align: right;\n    }\n</style>\n<table border=\"1\" class=\"dataframe\">\n  <thead>\n    <tr style=\"text-align: right;\">\n      <th></th>\n      <th>Series_reference</th>\n      <th>Period</th>\n      <th>Data_value</th>\n      <th>Suppressed</th>\n      <th>STATUS</th>\n      <th>UNITS</th>\n      <th>Magnitude</th>\n      <th>Subject</th>\n      <th>Group</th>\n      <th>Series_title_1</th>\n      <th>Series_title_2</th>\n      <th>Series_title_3</th>\n      <th>Series_title_4</th>\n      <th>Series_title_5</th>\n    </tr>\n  </thead>\n  <tbody>\n    <tr>\n      <th>20249</th>\n      <td>BDCQ.SEE3999A</td>\n      <td>2017.06</td>\n      <td>NaN</td>\n      <td>Y</td>\n      <td>C</td>\n      <td>Number</td>\n      <td>0</td>\n      <td>Business Data Collection - BDC</td>\n      <td>Territorial authority by employment variable</td>\n      <td>Filled jobs (workplace location based)</td>\n      <td>Area Outside Territorial Authority</td>\n      <td>Actual</td>\n      <td>NaN</td>\n      <td>NaN</td>\n    </tr>\n    <tr>\n      <th>20250</th>\n      <td>BDCQ.SEE3999A</td>\n      <td>2017.09</td>\n      <td>NaN</td>\n      <td>Y</td>\n      <td>C</td>\n      <td>Number</td>\n      <td>0</td>\n      <td>Business Data Collection - BDC</td>\n      <td>Territorial authority by employment variable</td>\n      <td>Filled jobs (workplace location based)</td>\n      <td>Area Outside Territorial Authority</td>\n      <td>Actual</td>\n      <td>NaN</td>\n      <td>NaN</td>\n    </tr>\n    <tr>\n      <th>20251</th>\n      <td>BDCQ.SEE3999A</td>\n      <td>2017.12</td>\n      <td>NaN</td>\n      <td>Y</td>\n      <td>C</td>\n      <td>Number</td>\n      <td>0</td>\n      <td>Business Data Collection - BDC</td>\n      <td>Territorial authority by employment variable</td>\n      <td>Filled jobs (workplace location based)</td>\n      <td>Area Outside Territorial Authority</td>\n      <td>Actual</td>\n      <td>NaN</td>\n      <td>NaN</td>\n    </tr>\n    <tr>\n      <th>20252</th>\n      <td>BDCQ.SEE3999A</td>\n      <td>2018.03</td>\n      <td>NaN</td>\n      <td>Y</td>\n      <td>C</td>\n      <td>Number</td>\n      <td>0</td>\n      <td>Business Data Collection - BDC</td>\n      <td>Territorial authority by employment variable</td>\n      <td>Filled jobs (workplace location based)</td>\n      <td>Area Outside Territorial Authority</td>\n      <td>Actual</td>\n      <td>NaN</td>\n      <td>NaN</td>\n    </tr>\n    <tr>\n      <th>20253</th>\n      <td>BDCQ.SEE3999A</td>\n      <td>2018.06</td>\n      <td>NaN</td>\n      <td>Y</td>\n      <td>C</td>\n      <td>Number</td>\n      <td>0</td>\n      <td>Business Data Collection - BDC</td>\n      <td>Territorial authority by employment variable</td>\n      <td>Filled jobs (workplace location based)</td>\n      <td>Area Outside Territorial Authority</td>\n      <td>Actual</td>\n      <td>NaN</td>\n      <td>NaN</td>\n    </tr>\n  </tbody>\n</table>\n</div>"
     },
     "execution_count": 29,
     "metadata": {},
     "output_type": "execute_result"
    }
   ],
   "source": [
    "df.tail()"
   ],
   "metadata": {
    "collapsed": false,
    "pycharm": {
     "name": "#%%\n"
    }
   }
  },
  {
   "cell_type": "code",
   "execution_count": 30,
   "outputs": [
    {
     "data": {
      "text/plain": "(20254, 14)"
     },
     "execution_count": 30,
     "metadata": {},
     "output_type": "execute_result"
    }
   ],
   "source": [
    "df.shape"
   ],
   "metadata": {
    "collapsed": false,
    "pycharm": {
     "name": "#%%\n"
    }
   }
  },
  {
   "cell_type": "code",
   "execution_count": 30,
   "outputs": [],
   "source": [],
   "metadata": {
    "collapsed": false,
    "pycharm": {
     "name": "#%%\n"
    }
   }
  }
 ],
 "metadata": {
  "kernelspec": {
   "display_name": "Python 3 (ipykernel)",
   "language": "python",
   "name": "python3"
  },
  "language_info": {
   "codemirror_mode": {
    "name": "ipython",
    "version": 3
   },
   "file_extension": ".py",
   "mimetype": "text/x-python",
   "name": "python",
   "nbconvert_exporter": "python",
   "pygments_lexer": "ipython3",
   "version": "3.9.13"
  }
 },
 "nbformat": 4,
 "nbformat_minor": 5
}