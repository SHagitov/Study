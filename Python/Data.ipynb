{
 "cells": [
  {
   "cell_type": "code",
   "execution_count": 1,
   "id": "0013e1e6",
   "metadata": {
    "pycharm": {
     "name": "#%%\n"
    }
   },
   "outputs": [
    {
     "name": "stdout",
     "output_type": "stream",
     "text": [
      "Hello\n"
     ]
    }
   ],
   "source": [
    "print('Hello')"
   ]
  },
  {
   "cell_type": "code",
   "execution_count": 2,
   "id": "5a7ec374",
   "metadata": {
    "pycharm": {
     "name": "#%%\n"
    }
   },
   "outputs": [],
   "source": [
    "age = 25"
   ]
  },
  {
   "cell_type": "code",
   "execution_count": 3,
   "outputs": [],
   "source": [
    "name = 'Sasha'"
   ],
   "metadata": {
    "collapsed": false,
    "pycharm": {
     "name": "#%%\n"
    }
   }
  },
  {
   "cell_type": "code",
   "execution_count": 4,
   "outputs": [
    {
     "data": {
      "text/plain": "'Sasha'"
     },
     "execution_count": 4,
     "metadata": {},
     "output_type": "execute_result"
    }
   ],
   "source": [
    "name"
   ],
   "metadata": {
    "collapsed": false,
    "pycharm": {
     "name": "#%%\n"
    }
   }
  },
  {
   "cell_type": "code",
   "execution_count": 5,
   "outputs": [
    {
     "data": {
      "text/plain": "['Ivan', 'Ivanov', 1000.0, 1]"
     },
     "execution_count": 5,
     "metadata": {},
     "output_type": "execute_result"
    }
   ],
   "source": [
    "user_info = [\"Ivan\", \"Ivanov\", 1000.0, 1]\n",
    "user_info"
   ],
   "metadata": {
    "collapsed": false,
    "pycharm": {
     "name": "#%%\n"
    }
   }
  },
  {
   "cell_type": "code",
   "execution_count": 6,
   "outputs": [
    {
     "data": {
      "text/plain": "'Ivan'"
     },
     "execution_count": 6,
     "metadata": {},
     "output_type": "execute_result"
    }
   ],
   "source": [
    "user_info[0]"
   ],
   "metadata": {
    "collapsed": false,
    "pycharm": {
     "name": "#%%\n"
    }
   }
  },
  {
   "cell_type": "code",
   "execution_count": 7,
   "outputs": [
    {
     "data": {
      "text/plain": "'Ivan'"
     },
     "execution_count": 7,
     "metadata": {},
     "output_type": "execute_result"
    }
   ],
   "source": [
    "['Ivan', 'Ivanov', 1000.0, 1][0]"
   ],
   "metadata": {
    "collapsed": false,
    "pycharm": {
     "name": "#%%\n"
    }
   }
  },
  {
   "cell_type": "code",
   "execution_count": 8,
   "outputs": [],
   "source": [
    "salaries = [1, 2, 3, 4, 5]"
   ],
   "metadata": {
    "collapsed": false,
    "pycharm": {
     "name": "#%%\n"
    }
   }
  },
  {
   "cell_type": "code",
   "execution_count": 9,
   "outputs": [
    {
     "data": {
      "text/plain": "[1, 2, 3, 4, 5]"
     },
     "execution_count": 9,
     "metadata": {},
     "output_type": "execute_result"
    }
   ],
   "source": [
    "salaries"
   ],
   "metadata": {
    "collapsed": false,
    "pycharm": {
     "name": "#%%\n"
    }
   }
  },
  {
   "cell_type": "code",
   "execution_count": 10,
   "outputs": [
    {
     "data": {
      "text/plain": "1"
     },
     "execution_count": 10,
     "metadata": {},
     "output_type": "execute_result"
    }
   ],
   "source": [
    "salaries[0]"
   ],
   "metadata": {
    "collapsed": false,
    "pycharm": {
     "name": "#%%\n"
    }
   }
  },
  {
   "cell_type": "code",
   "execution_count": 11,
   "outputs": [
    {
     "data": {
      "text/plain": "5"
     },
     "execution_count": 11,
     "metadata": {},
     "output_type": "execute_result"
    }
   ],
   "source": [
    "salaries[-1]"
   ],
   "metadata": {
    "collapsed": false,
    "pycharm": {
     "name": "#%%\n"
    }
   }
  },
  {
   "cell_type": "code",
   "execution_count": 12,
   "outputs": [],
   "source": [
    "users = [\"Courses\", 42, False]"
   ],
   "metadata": {
    "collapsed": false,
    "pycharm": {
     "name": "#%%\n"
    }
   }
  },
  {
   "cell_type": "code",
   "execution_count": 13,
   "outputs": [
    {
     "data": {
      "text/plain": "['Courses', 42, False]"
     },
     "execution_count": 13,
     "metadata": {},
     "output_type": "execute_result"
    }
   ],
   "source": [
    "users"
   ],
   "metadata": {
    "collapsed": false,
    "pycharm": {
     "name": "#%%\n"
    }
   }
  },
  {
   "cell_type": "code",
   "execution_count": 14,
   "outputs": [],
   "source": [
    "users.append(8)"
   ],
   "metadata": {
    "collapsed": false,
    "pycharm": {
     "name": "#%%\n"
    }
   }
  },
  {
   "cell_type": "code",
   "execution_count": 15,
   "outputs": [
    {
     "data": {
      "text/plain": "['Courses', 42, False, 8]"
     },
     "execution_count": 15,
     "metadata": {},
     "output_type": "execute_result"
    }
   ],
   "source": [
    "users"
   ],
   "metadata": {
    "collapsed": false,
    "pycharm": {
     "name": "#%%\n"
    }
   }
  },
  {
   "cell_type": "code",
   "execution_count": 16,
   "outputs": [],
   "source": [
    "worker = ['Sasha', 'Ivanov', 75000.0, 1]"
   ],
   "metadata": {
    "collapsed": false,
    "pycharm": {
     "name": "#%%\n"
    }
   }
  },
  {
   "cell_type": "code",
   "execution_count": 17,
   "outputs": [
    {
     "data": {
      "text/plain": "['Sasha', 'Ivanov', 75000.0, 1]"
     },
     "execution_count": 17,
     "metadata": {},
     "output_type": "execute_result"
    }
   ],
   "source": [
    "worker"
   ],
   "metadata": {
    "collapsed": false,
    "pycharm": {
     "name": "#%%\n"
    }
   }
  },
  {
   "cell_type": "code",
   "execution_count": 18,
   "outputs": [],
   "source": [
    "status = '{} {} is {}'"
   ],
   "metadata": {
    "collapsed": false,
    "pycharm": {
     "name": "#%%\n"
    }
   }
  },
  {
   "cell_type": "code",
   "execution_count": 19,
   "outputs": [
    {
     "data": {
      "text/plain": "'{} {} is {}'"
     },
     "execution_count": 19,
     "metadata": {},
     "output_type": "execute_result"
    }
   ],
   "source": [
    "status"
   ],
   "metadata": {
    "collapsed": false,
    "pycharm": {
     "name": "#%%\n"
    }
   }
  },
  {
   "cell_type": "code",
   "execution_count": 20,
   "outputs": [],
   "source": [
    "experience = worker[-1]\n",
    "if experience < 2:\n",
    "    position = 'junior'\n",
    "elif 2 <= experience <= 5:\n",
    "    position = 'middle'\n",
    "else:\n",
    "    positon = 'senior'"
   ],
   "metadata": {
    "collapsed": false,
    "pycharm": {
     "name": "#%%\n"
    }
   }
  },
  {
   "cell_type": "code",
   "execution_count": 21,
   "outputs": [],
   "source": [
    "status = status.format(worker[0], worker[1], position)"
   ],
   "metadata": {
    "collapsed": false,
    "pycharm": {
     "name": "#%%\n"
    }
   }
  },
  {
   "cell_type": "code",
   "execution_count": 22,
   "outputs": [],
   "source": [
    "values = [15, 0, 10, 100, 150, 165, 1001, 45, -30]"
   ],
   "metadata": {
    "collapsed": false,
    "pycharm": {
     "name": "#%%\n"
    }
   }
  },
  {
   "cell_type": "code",
   "execution_count": 23,
   "outputs": [],
   "source": [
    "x = []"
   ],
   "metadata": {
    "collapsed": false,
    "pycharm": {
     "name": "#%%\n"
    }
   }
  },
  {
   "cell_type": "code",
   "execution_count": 24,
   "outputs": [],
   "source": [
    "for value in values:\n",
    "    if (value % 10) == 0:\n",
    "        x += [value]"
   ],
   "metadata": {
    "collapsed": false,
    "pycharm": {
     "name": "#%%\n"
    }
   }
  },
  {
   "cell_type": "code",
   "execution_count": 25,
   "outputs": [
    {
     "data": {
      "text/plain": "[0, 10, 100, 150, -30]"
     },
     "execution_count": 25,
     "metadata": {},
     "output_type": "execute_result"
    }
   ],
   "source": [
    "x"
   ],
   "metadata": {
    "collapsed": false,
    "pycharm": {
     "name": "#%%\n"
    }
   }
  },
  {
   "cell_type": "code",
   "execution_count": 26,
   "outputs": [
    {
     "data": {
      "text/plain": "True"
     },
     "execution_count": 26,
     "metadata": {},
     "output_type": "execute_result"
    }
   ],
   "source": [
    "(100 % 10) == 0"
   ],
   "metadata": {
    "collapsed": false,
    "pycharm": {
     "name": "#%%\n"
    }
   }
  },
  {
   "cell_type": "code",
   "execution_count": 27,
   "outputs": [],
   "source": [
    "import pandas as pd"
   ],
   "metadata": {
    "collapsed": false,
    "pycharm": {
     "name": "#%%\n"
    }
   }
  },
  {
   "cell_type": "code",
   "execution_count": 28,
   "outputs": [],
   "source": [
    "df = pd.read_csv('C:/Users/Marat SHagitov/Documents/GitHub/Study/Python/test.csv')"
   ],
   "metadata": {
    "collapsed": false,
    "pycharm": {
     "name": "#%%\n"
    }
   }
  },
  {
   "cell_type": "code",
   "execution_count": 29,
   "outputs": [
    {
     "data": {
      "text/plain": "      Series_reference   Period  Data_value Suppressed STATUS   UNITS  \\\n20249    BDCQ.SEE3999A  2017.06         NaN          Y      C  Number   \n20250    BDCQ.SEE3999A  2017.09         NaN          Y      C  Number   \n20251    BDCQ.SEE3999A  2017.12         NaN          Y      C  Number   \n20252    BDCQ.SEE3999A  2018.03         NaN          Y      C  Number   \n20253    BDCQ.SEE3999A  2018.06         NaN          Y      C  Number   \n\n       Magnitude                         Subject  \\\n20249          0  Business Data Collection - BDC   \n20250          0  Business Data Collection - BDC   \n20251          0  Business Data Collection - BDC   \n20252          0  Business Data Collection - BDC   \n20253          0  Business Data Collection - BDC   \n\n                                              Group  \\\n20249  Territorial authority by employment variable   \n20250  Territorial authority by employment variable   \n20251  Territorial authority by employment variable   \n20252  Territorial authority by employment variable   \n20253  Territorial authority by employment variable   \n\n                               Series_title_1  \\\n20249  Filled jobs (workplace location based)   \n20250  Filled jobs (workplace location based)   \n20251  Filled jobs (workplace location based)   \n20252  Filled jobs (workplace location based)   \n20253  Filled jobs (workplace location based)   \n\n                           Series_title_2 Series_title_3  Series_title_4  \\\n20249  Area Outside Territorial Authority         Actual             NaN   \n20250  Area Outside Territorial Authority         Actual             NaN   \n20251  Area Outside Territorial Authority         Actual             NaN   \n20252  Area Outside Territorial Authority         Actual             NaN   \n20253  Area Outside Territorial Authority         Actual             NaN   \n\n       Series_title_5  \n20249             NaN  \n20250             NaN  \n20251             NaN  \n20252             NaN  \n20253             NaN  ",
      "text/html": "<div>\n<style scoped>\n    .dataframe tbody tr th:only-of-type {\n        vertical-align: middle;\n    }\n\n    .dataframe tbody tr th {\n        vertical-align: top;\n    }\n\n    .dataframe thead th {\n        text-align: right;\n    }\n</style>\n<table border=\"1\" class=\"dataframe\">\n  <thead>\n    <tr style=\"text-align: right;\">\n      <th></th>\n      <th>Series_reference</th>\n      <th>Period</th>\n      <th>Data_value</th>\n      <th>Suppressed</th>\n      <th>STATUS</th>\n      <th>UNITS</th>\n      <th>Magnitude</th>\n      <th>Subject</th>\n      <th>Group</th>\n      <th>Series_title_1</th>\n      <th>Series_title_2</th>\n      <th>Series_title_3</th>\n      <th>Series_title_4</th>\n      <th>Series_title_5</th>\n    </tr>\n  </thead>\n  <tbody>\n    <tr>\n      <th>20249</th>\n      <td>BDCQ.SEE3999A</td>\n      <td>2017.06</td>\n      <td>NaN</td>\n      <td>Y</td>\n      <td>C</td>\n      <td>Number</td>\n      <td>0</td>\n      <td>Business Data Collection - BDC</td>\n      <td>Territorial authority by employment variable</td>\n      <td>Filled jobs (workplace location based)</td>\n      <td>Area Outside Territorial Authority</td>\n      <td>Actual</td>\n      <td>NaN</td>\n      <td>NaN</td>\n    </tr>\n    <tr>\n      <th>20250</th>\n      <td>BDCQ.SEE3999A</td>\n      <td>2017.09</td>\n      <td>NaN</td>\n      <td>Y</td>\n      <td>C</td>\n      <td>Number</td>\n      <td>0</td>\n      <td>Business Data Collection - BDC</td>\n      <td>Territorial authority by employment variable</td>\n      <td>Filled jobs (workplace location based)</td>\n      <td>Area Outside Territorial Authority</td>\n      <td>Actual</td>\n      <td>NaN</td>\n      <td>NaN</td>\n    </tr>\n    <tr>\n      <th>20251</th>\n      <td>BDCQ.SEE3999A</td>\n      <td>2017.12</td>\n      <td>NaN</td>\n      <td>Y</td>\n      <td>C</td>\n      <td>Number</td>\n      <td>0</td>\n      <td>Business Data Collection - BDC</td>\n      <td>Territorial authority by employment variable</td>\n      <td>Filled jobs (workplace location based)</td>\n      <td>Area Outside Territorial Authority</td>\n      <td>Actual</td>\n      <td>NaN</td>\n      <td>NaN</td>\n    </tr>\n    <tr>\n      <th>20252</th>\n      <td>BDCQ.SEE3999A</td>\n      <td>2018.03</td>\n      <td>NaN</td>\n      <td>Y</td>\n      <td>C</td>\n      <td>Number</td>\n      <td>0</td>\n      <td>Business Data Collection - BDC</td>\n      <td>Territorial authority by employment variable</td>\n      <td>Filled jobs (workplace location based)</td>\n      <td>Area Outside Territorial Authority</td>\n      <td>Actual</td>\n      <td>NaN</td>\n      <td>NaN</td>\n    </tr>\n    <tr>\n      <th>20253</th>\n      <td>BDCQ.SEE3999A</td>\n      <td>2018.06</td>\n      <td>NaN</td>\n      <td>Y</td>\n      <td>C</td>\n      <td>Number</td>\n      <td>0</td>\n      <td>Business Data Collection - BDC</td>\n      <td>Territorial authority by employment variable</td>\n      <td>Filled jobs (workplace location based)</td>\n      <td>Area Outside Territorial Authority</td>\n      <td>Actual</td>\n      <td>NaN</td>\n      <td>NaN</td>\n    </tr>\n  </tbody>\n</table>\n</div>"
     },
     "execution_count": 29,
     "metadata": {},
     "output_type": "execute_result"
    }
   ],
   "source": [
    "df.tail()"
   ],
   "metadata": {
    "collapsed": false,
    "pycharm": {
     "name": "#%%\n"
    }
   }
  },
  {
   "cell_type": "code",
   "execution_count": 30,
   "outputs": [
    {
     "data": {
      "text/plain": "(20254, 14)"
     },
     "execution_count": 30,
     "metadata": {},
     "output_type": "execute_result"
    }
   ],
   "source": [
    "df.shape"
   ],
   "metadata": {
    "collapsed": false,
    "pycharm": {
     "name": "#%%\n"
    }
   }
  },
  {
   "cell_type": "code",
   "execution_count": 31,
   "outputs": [
    {
     "data": {
      "text/plain": "Series_reference     object\nPeriod              float64\nData_value          float64\nSuppressed           object\nSTATUS               object\nUNITS                object\nMagnitude             int64\nSubject              object\nGroup                object\nSeries_title_1       object\nSeries_title_2       object\nSeries_title_3       object\nSeries_title_4      float64\nSeries_title_5      float64\ndtype: object"
     },
     "execution_count": 31,
     "metadata": {},
     "output_type": "execute_result"
    }
   ],
   "source": [
    "df.dtypes"
   ],
   "metadata": {
    "collapsed": false,
    "pycharm": {
     "name": "#%%\n"
    }
   }
  },
  {
   "cell_type": "code",
   "execution_count": 32,
   "outputs": [
    {
     "data": {
      "text/plain": "             Period    Data_value     Magnitude  Series_title_4  \\\ncount  20254.000000  1.579500e+04  20254.000000             0.0   \nmean    2016.343661  6.157889e+04      2.378493             NaN   \nstd        3.215943  1.860380e+05      2.934988             NaN   \nmin     2011.060000  1.225683e+00      0.000000             NaN   \n25%     2014.030000  1.234000e+03      0.000000             NaN   \n50%     2016.120000  1.059100e+04      0.000000             NaN   \n75%     2019.090000  4.351000e+04      6.000000             NaN   \nmax     2022.060000  2.196974e+06      6.000000             NaN   \n\n       Series_title_5  \ncount             0.0  \nmean              NaN  \nstd               NaN  \nmin               NaN  \n25%               NaN  \n50%               NaN  \n75%               NaN  \nmax               NaN  ",
      "text/html": "<div>\n<style scoped>\n    .dataframe tbody tr th:only-of-type {\n        vertical-align: middle;\n    }\n\n    .dataframe tbody tr th {\n        vertical-align: top;\n    }\n\n    .dataframe thead th {\n        text-align: right;\n    }\n</style>\n<table border=\"1\" class=\"dataframe\">\n  <thead>\n    <tr style=\"text-align: right;\">\n      <th></th>\n      <th>Period</th>\n      <th>Data_value</th>\n      <th>Magnitude</th>\n      <th>Series_title_4</th>\n      <th>Series_title_5</th>\n    </tr>\n  </thead>\n  <tbody>\n    <tr>\n      <th>count</th>\n      <td>20254.000000</td>\n      <td>1.579500e+04</td>\n      <td>20254.000000</td>\n      <td>0.0</td>\n      <td>0.0</td>\n    </tr>\n    <tr>\n      <th>mean</th>\n      <td>2016.343661</td>\n      <td>6.157889e+04</td>\n      <td>2.378493</td>\n      <td>NaN</td>\n      <td>NaN</td>\n    </tr>\n    <tr>\n      <th>std</th>\n      <td>3.215943</td>\n      <td>1.860380e+05</td>\n      <td>2.934988</td>\n      <td>NaN</td>\n      <td>NaN</td>\n    </tr>\n    <tr>\n      <th>min</th>\n      <td>2011.060000</td>\n      <td>1.225683e+00</td>\n      <td>0.000000</td>\n      <td>NaN</td>\n      <td>NaN</td>\n    </tr>\n    <tr>\n      <th>25%</th>\n      <td>2014.030000</td>\n      <td>1.234000e+03</td>\n      <td>0.000000</td>\n      <td>NaN</td>\n      <td>NaN</td>\n    </tr>\n    <tr>\n      <th>50%</th>\n      <td>2016.120000</td>\n      <td>1.059100e+04</td>\n      <td>0.000000</td>\n      <td>NaN</td>\n      <td>NaN</td>\n    </tr>\n    <tr>\n      <th>75%</th>\n      <td>2019.090000</td>\n      <td>4.351000e+04</td>\n      <td>6.000000</td>\n      <td>NaN</td>\n      <td>NaN</td>\n    </tr>\n    <tr>\n      <th>max</th>\n      <td>2022.060000</td>\n      <td>2.196974e+06</td>\n      <td>6.000000</td>\n      <td>NaN</td>\n      <td>NaN</td>\n    </tr>\n  </tbody>\n</table>\n</div>"
     },
     "execution_count": 32,
     "metadata": {},
     "output_type": "execute_result"
    }
   ],
   "source": [
    "df.describe()"
   ],
   "metadata": {
    "collapsed": false,
    "pycharm": {
     "name": "#%%\n"
    }
   }
  },
  {
   "cell_type": "code",
   "execution_count": 33,
   "outputs": [
    {
     "data": {
      "text/plain": "Index(['Series_reference', 'Period', 'Data_value', 'Suppressed', 'STATUS',\n       'UNITS', 'Magnitude', 'Subject', 'Group', 'Series_title_1',\n       'Series_title_2', 'Series_title_3', 'Series_title_4', 'Series_title_5'],\n      dtype='object')"
     },
     "execution_count": 33,
     "metadata": {},
     "output_type": "execute_result"
    }
   ],
   "source": [
    "df.columns"
   ],
   "metadata": {
    "collapsed": false,
    "pycharm": {
     "name": "#%%\n"
    }
   }
  },
  {
   "cell_type": "code",
   "execution_count": 34,
   "outputs": [
    {
     "data": {
      "text/plain": "0        2011.06\n1        2011.09\n2        2011.12\n3        2012.03\n4        2012.06\n          ...   \n20249    2017.06\n20250    2017.09\n20251    2017.12\n20252    2018.03\n20253    2018.06\nName: Period, Length: 20254, dtype: float64"
     },
     "execution_count": 34,
     "metadata": {},
     "output_type": "execute_result"
    }
   ],
   "source": [
    "df['Period']"
   ],
   "metadata": {
    "collapsed": false,
    "pycharm": {
     "name": "#%%\n"
    }
   }
  },
  {
   "cell_type": "code",
   "execution_count": 35,
   "outputs": [
    {
     "data": {
      "text/plain": "    Period  Data_value\n0  2011.06     80078.0\n1  2011.09     78324.0\n2  2011.12     85850.0\n3  2012.03     90743.0\n4  2012.06     81780.0",
      "text/html": "<div>\n<style scoped>\n    .dataframe tbody tr th:only-of-type {\n        vertical-align: middle;\n    }\n\n    .dataframe tbody tr th {\n        vertical-align: top;\n    }\n\n    .dataframe thead th {\n        text-align: right;\n    }\n</style>\n<table border=\"1\" class=\"dataframe\">\n  <thead>\n    <tr style=\"text-align: right;\">\n      <th></th>\n      <th>Period</th>\n      <th>Data_value</th>\n    </tr>\n  </thead>\n  <tbody>\n    <tr>\n      <th>0</th>\n      <td>2011.06</td>\n      <td>80078.0</td>\n    </tr>\n    <tr>\n      <th>1</th>\n      <td>2011.09</td>\n      <td>78324.0</td>\n    </tr>\n    <tr>\n      <th>2</th>\n      <td>2011.12</td>\n      <td>85850.0</td>\n    </tr>\n    <tr>\n      <th>3</th>\n      <td>2012.03</td>\n      <td>90743.0</td>\n    </tr>\n    <tr>\n      <th>4</th>\n      <td>2012.06</td>\n      <td>81780.0</td>\n    </tr>\n  </tbody>\n</table>\n</div>"
     },
     "execution_count": 35,
     "metadata": {},
     "output_type": "execute_result"
    }
   ],
   "source": [
    "df[['Period', 'Data_value']].head()"
   ],
   "metadata": {
    "collapsed": false,
    "pycharm": {
     "name": "#%%\n"
    }
   }
  },
  {
   "cell_type": "code",
   "execution_count": 36,
   "outputs": [
    {
     "data": {
      "text/plain": "  Series_reference   Period  Data_value Suppressed STATUS   UNITS  Magnitude  \\\n0      BDCQ.SEA1AA  2011.06     80078.0        NaN      F  Number          0   \n1      BDCQ.SEA1AA  2011.09     78324.0        NaN      F  Number          0   \n2      BDCQ.SEA1AA  2011.12     85850.0        NaN      F  Number          0   \n3      BDCQ.SEA1AA  2012.03     90743.0        NaN      F  Number          0   \n4      BDCQ.SEA1AA  2012.06     81780.0        NaN      F  Number          0   \n\n                          Subject                            Group  \\\n0  Business Data Collection - BDC  Industry by employment variable   \n1  Business Data Collection - BDC  Industry by employment variable   \n2  Business Data Collection - BDC  Industry by employment variable   \n3  Business Data Collection - BDC  Industry by employment variable   \n4  Business Data Collection - BDC  Industry by employment variable   \n\n  Series_title_1                     Series_title_2 Series_title_3  \\\n0    Filled jobs  Agriculture, Forestry and Fishing         Actual   \n1    Filled jobs  Agriculture, Forestry and Fishing         Actual   \n2    Filled jobs  Agriculture, Forestry and Fishing         Actual   \n3    Filled jobs  Agriculture, Forestry and Fishing         Actual   \n4    Filled jobs  Agriculture, Forestry and Fishing         Actual   \n\n   Series_title_4  Series_title_5  \n0             NaN             NaN  \n1             NaN             NaN  \n2             NaN             NaN  \n3             NaN             NaN  \n4             NaN             NaN  ",
      "text/html": "<div>\n<style scoped>\n    .dataframe tbody tr th:only-of-type {\n        vertical-align: middle;\n    }\n\n    .dataframe tbody tr th {\n        vertical-align: top;\n    }\n\n    .dataframe thead th {\n        text-align: right;\n    }\n</style>\n<table border=\"1\" class=\"dataframe\">\n  <thead>\n    <tr style=\"text-align: right;\">\n      <th></th>\n      <th>Series_reference</th>\n      <th>Period</th>\n      <th>Data_value</th>\n      <th>Suppressed</th>\n      <th>STATUS</th>\n      <th>UNITS</th>\n      <th>Magnitude</th>\n      <th>Subject</th>\n      <th>Group</th>\n      <th>Series_title_1</th>\n      <th>Series_title_2</th>\n      <th>Series_title_3</th>\n      <th>Series_title_4</th>\n      <th>Series_title_5</th>\n    </tr>\n  </thead>\n  <tbody>\n    <tr>\n      <th>0</th>\n      <td>BDCQ.SEA1AA</td>\n      <td>2011.06</td>\n      <td>80078.0</td>\n      <td>NaN</td>\n      <td>F</td>\n      <td>Number</td>\n      <td>0</td>\n      <td>Business Data Collection - BDC</td>\n      <td>Industry by employment variable</td>\n      <td>Filled jobs</td>\n      <td>Agriculture, Forestry and Fishing</td>\n      <td>Actual</td>\n      <td>NaN</td>\n      <td>NaN</td>\n    </tr>\n    <tr>\n      <th>1</th>\n      <td>BDCQ.SEA1AA</td>\n      <td>2011.09</td>\n      <td>78324.0</td>\n      <td>NaN</td>\n      <td>F</td>\n      <td>Number</td>\n      <td>0</td>\n      <td>Business Data Collection - BDC</td>\n      <td>Industry by employment variable</td>\n      <td>Filled jobs</td>\n      <td>Agriculture, Forestry and Fishing</td>\n      <td>Actual</td>\n      <td>NaN</td>\n      <td>NaN</td>\n    </tr>\n    <tr>\n      <th>2</th>\n      <td>BDCQ.SEA1AA</td>\n      <td>2011.12</td>\n      <td>85850.0</td>\n      <td>NaN</td>\n      <td>F</td>\n      <td>Number</td>\n      <td>0</td>\n      <td>Business Data Collection - BDC</td>\n      <td>Industry by employment variable</td>\n      <td>Filled jobs</td>\n      <td>Agriculture, Forestry and Fishing</td>\n      <td>Actual</td>\n      <td>NaN</td>\n      <td>NaN</td>\n    </tr>\n    <tr>\n      <th>3</th>\n      <td>BDCQ.SEA1AA</td>\n      <td>2012.03</td>\n      <td>90743.0</td>\n      <td>NaN</td>\n      <td>F</td>\n      <td>Number</td>\n      <td>0</td>\n      <td>Business Data Collection - BDC</td>\n      <td>Industry by employment variable</td>\n      <td>Filled jobs</td>\n      <td>Agriculture, Forestry and Fishing</td>\n      <td>Actual</td>\n      <td>NaN</td>\n      <td>NaN</td>\n    </tr>\n    <tr>\n      <th>4</th>\n      <td>BDCQ.SEA1AA</td>\n      <td>2012.06</td>\n      <td>81780.0</td>\n      <td>NaN</td>\n      <td>F</td>\n      <td>Number</td>\n      <td>0</td>\n      <td>Business Data Collection - BDC</td>\n      <td>Industry by employment variable</td>\n      <td>Filled jobs</td>\n      <td>Agriculture, Forestry and Fishing</td>\n      <td>Actual</td>\n      <td>NaN</td>\n      <td>NaN</td>\n    </tr>\n  </tbody>\n</table>\n</div>"
     },
     "execution_count": 36,
     "metadata": {},
     "output_type": "execute_result"
    }
   ],
   "source": [
    "df.head()"
   ],
   "metadata": {
    "collapsed": false,
    "pycharm": {
     "name": "#%%\n"
    }
   }
  },
  {
   "cell_type": "code",
   "execution_count": 37,
   "outputs": [],
   "source": [
    "df = pd.read_csv('C:/Users/Marat SHagitov/Documents/GitHub/Study/Python/testX.csv')"
   ],
   "metadata": {
    "collapsed": false,
    "pycharm": {
     "name": "#%%\n"
    }
   }
  },
  {
   "cell_type": "code",
   "execution_count": 38,
   "outputs": [
    {
     "data": {
      "text/plain": "          Year       Institutional_sector_name  Institutional_sector_code  \\\n0      2008.03  Corporate business enterprises                        141   \n1      2009.03  Corporate business enterprises                        141   \n2      2010.03  Corporate business enterprises                        141   \n3      2011.03  Corporate business enterprises                        141   \n4      2012.03  Corporate business enterprises                        141   \n...        ...                             ...                        ...   \n18715  2013.03                   Pension funds                        261   \n18716  2014.03                   Pension funds                        261   \n18717  2015.03                   Pension funds                        261   \n18718  2016.03                   Pension funds                        261   \n18719  2017.03                   Pension funds                        261   \n\n                                              Descriptor SNA08TRANS  \\\n0      Capital Account Opening balances Produced non-...    LS00000   \n1      Capital Account Opening balances Produced non-...    LS00000   \n2      Capital Account Opening balances Produced non-...    LS00000   \n3      Capital Account Opening balances Produced non-...    LS00000   \n4      Capital Account Opening balances Produced non-...    LS00000   \n...                                                  ...        ...   \n18715  Financial liabilities Closing balance Total fi...    LE00000   \n18716  Financial liabilities Closing balance Total fi...    LE00000   \n18717  Financial liabilities Closing balance Total fi...    LE00000   \n18718  Financial liabilities Closing balance Total fi...    LE00000   \n18719  Financial liabilities Closing balance Total fi...    LE00000   \n\n      Asset_liability_code   Status  Values  \n0                  AN10000  REVISED  225544  \n1                  AN10000  REVISED  243315  \n2                  AN10000  REVISED  259381  \n3                  AN10000  REVISED  262596  \n4                  AN10000  REVISED  267100  \n...                    ...      ...     ...  \n18715              AFL0000    FINAL   53768  \n18716              AFL0000  REVISED   58559  \n18717              AFL0000  REVISED   70099  \n18718              AFL0000  REVISED   76021  \n18719              AFL0000    FINAL   85190  \n\n[18720 rows x 8 columns]",
      "text/html": "<div>\n<style scoped>\n    .dataframe tbody tr th:only-of-type {\n        vertical-align: middle;\n    }\n\n    .dataframe tbody tr th {\n        vertical-align: top;\n    }\n\n    .dataframe thead th {\n        text-align: right;\n    }\n</style>\n<table border=\"1\" class=\"dataframe\">\n  <thead>\n    <tr style=\"text-align: right;\">\n      <th></th>\n      <th>Year</th>\n      <th>Institutional_sector_name</th>\n      <th>Institutional_sector_code</th>\n      <th>Descriptor</th>\n      <th>SNA08TRANS</th>\n      <th>Asset_liability_code</th>\n      <th>Status</th>\n      <th>Values</th>\n    </tr>\n  </thead>\n  <tbody>\n    <tr>\n      <th>0</th>\n      <td>2008.03</td>\n      <td>Corporate business enterprises</td>\n      <td>141</td>\n      <td>Capital Account Opening balances Produced non-...</td>\n      <td>LS00000</td>\n      <td>AN10000</td>\n      <td>REVISED</td>\n      <td>225544</td>\n    </tr>\n    <tr>\n      <th>1</th>\n      <td>2009.03</td>\n      <td>Corporate business enterprises</td>\n      <td>141</td>\n      <td>Capital Account Opening balances Produced non-...</td>\n      <td>LS00000</td>\n      <td>AN10000</td>\n      <td>REVISED</td>\n      <td>243315</td>\n    </tr>\n    <tr>\n      <th>2</th>\n      <td>2010.03</td>\n      <td>Corporate business enterprises</td>\n      <td>141</td>\n      <td>Capital Account Opening balances Produced non-...</td>\n      <td>LS00000</td>\n      <td>AN10000</td>\n      <td>REVISED</td>\n      <td>259381</td>\n    </tr>\n    <tr>\n      <th>3</th>\n      <td>2011.03</td>\n      <td>Corporate business enterprises</td>\n      <td>141</td>\n      <td>Capital Account Opening balances Produced non-...</td>\n      <td>LS00000</td>\n      <td>AN10000</td>\n      <td>REVISED</td>\n      <td>262596</td>\n    </tr>\n    <tr>\n      <th>4</th>\n      <td>2012.03</td>\n      <td>Corporate business enterprises</td>\n      <td>141</td>\n      <td>Capital Account Opening balances Produced non-...</td>\n      <td>LS00000</td>\n      <td>AN10000</td>\n      <td>REVISED</td>\n      <td>267100</td>\n    </tr>\n    <tr>\n      <th>...</th>\n      <td>...</td>\n      <td>...</td>\n      <td>...</td>\n      <td>...</td>\n      <td>...</td>\n      <td>...</td>\n      <td>...</td>\n      <td>...</td>\n    </tr>\n    <tr>\n      <th>18715</th>\n      <td>2013.03</td>\n      <td>Pension funds</td>\n      <td>261</td>\n      <td>Financial liabilities Closing balance Total fi...</td>\n      <td>LE00000</td>\n      <td>AFL0000</td>\n      <td>FINAL</td>\n      <td>53768</td>\n    </tr>\n    <tr>\n      <th>18716</th>\n      <td>2014.03</td>\n      <td>Pension funds</td>\n      <td>261</td>\n      <td>Financial liabilities Closing balance Total fi...</td>\n      <td>LE00000</td>\n      <td>AFL0000</td>\n      <td>REVISED</td>\n      <td>58559</td>\n    </tr>\n    <tr>\n      <th>18717</th>\n      <td>2015.03</td>\n      <td>Pension funds</td>\n      <td>261</td>\n      <td>Financial liabilities Closing balance Total fi...</td>\n      <td>LE00000</td>\n      <td>AFL0000</td>\n      <td>REVISED</td>\n      <td>70099</td>\n    </tr>\n    <tr>\n      <th>18718</th>\n      <td>2016.03</td>\n      <td>Pension funds</td>\n      <td>261</td>\n      <td>Financial liabilities Closing balance Total fi...</td>\n      <td>LE00000</td>\n      <td>AFL0000</td>\n      <td>REVISED</td>\n      <td>76021</td>\n    </tr>\n    <tr>\n      <th>18719</th>\n      <td>2017.03</td>\n      <td>Pension funds</td>\n      <td>261</td>\n      <td>Financial liabilities Closing balance Total fi...</td>\n      <td>LE00000</td>\n      <td>AFL0000</td>\n      <td>FINAL</td>\n      <td>85190</td>\n    </tr>\n  </tbody>\n</table>\n<p>18720 rows × 8 columns</p>\n</div>"
     },
     "execution_count": 38,
     "metadata": {},
     "output_type": "execute_result"
    }
   ],
   "source": [
    "df"
   ],
   "metadata": {
    "collapsed": false,
    "pycharm": {
     "name": "#%%\n"
    }
   }
  },
  {
   "cell_type": "code",
   "execution_count": 39,
   "outputs": [],
   "source": [
    "df = pd.read_csv('C:/Users/Marat SHagitov/Documents/GitHub/Study/Python/testXx.csv')"
   ],
   "metadata": {
    "collapsed": false,
    "pycharm": {
     "name": "#%%\n"
    }
   }
  },
  {
   "cell_type": "code",
   "execution_count": 40,
   "outputs": [
    {
     "data": {
      "text/plain": "      Series_reference   Period  Data_value       STATUS    UNITS  MAGNTUDE  \\\n0         PRDA.S1CAAZI  1978.03      1000.0        FINAL    Index         0   \n1         PRDA.S1CAAZI  1979.03       947.0        FINAL    Index         0   \n2         PRDA.S1CAAZI  1980.03      1054.0        FINAL    Index         0   \n3         PRDA.S1CAAZI  1981.03      1167.0        FINAL    Index         0   \n4         PRDA.S1CAAZI  1982.03      1144.0        FINAL    Index         0   \n...                ...      ...         ...          ...      ...       ...   \n14393     PRDA.S4LMSZP  2017.03         1.7        FINAL  Percent         0   \n14394     PRDA.S4LMSZP  2018.03         1.3        FINAL  Percent         0   \n14395     PRDA.S4LMSZP  2019.03         1.7        FINAL  Percent         0   \n14396     PRDA.S4LMSZP  2020.03         0.5        FINAL  Percent         0   \n14397     PRDA.S4LMSZP  2021.03        -1.7  PROVISIONAL  Percent         0   \n\n                             Subject  \\\n0      Productivity Statistics - PRD   \n1      Productivity Statistics - PRD   \n2      Productivity Statistics - PRD   \n3      Productivity Statistics - PRD   \n4      Productivity Statistics - PRD   \n...                              ...   \n14393  Productivity Statistics - PRD   \n14394  Productivity Statistics - PRD   \n14395  Productivity Statistics - PRD   \n14396  Productivity Statistics - PRD   \n14397  Productivity Statistics - PRD   \n\n                                                  Group  \\\n0      Productivity Indexes - Industry Level (ANZSIC06)   \n1      Productivity Indexes - Industry Level (ANZSIC06)   \n2      Productivity Indexes - Industry Level (ANZSIC06)   \n3      Productivity Indexes - Industry Level (ANZSIC06)   \n4      Productivity Indexes - Industry Level (ANZSIC06)   \n...                                                 ...   \n14393         Productivity Growth Accounting (ANZSIC06)   \n14394         Productivity Growth Accounting (ANZSIC06)   \n14395         Productivity Growth Accounting (ANZSIC06)   \n14396         Productivity Growth Accounting (ANZSIC06)   \n14397         Productivity Growth Accounting (ANZSIC06)   \n\n                                          Series_title_1  \\\n0                                                Capital   \n1                                                Capital   \n2                                                Capital   \n3                                                Capital   \n4                                                Capital   \n...                                                  ...   \n14393  Annual percentage change, labour inputs index,...   \n14394  Annual percentage change, labour inputs index,...   \n14395  Annual percentage change, labour inputs index,...   \n14396  Annual percentage change, labour inputs index,...   \n14397  Annual percentage change, labour inputs index,...   \n\n                          Series_title_2 Series_title_3  Series_title_4  \\\n0      Agriculture, Forestry and Fishing          Index             NaN   \n1      Agriculture, Forestry and Fishing          Index             NaN   \n2      Agriculture, Forestry and Fishing          Index             NaN   \n3      Agriculture, Forestry and Fishing          Index             NaN   \n4      Agriculture, Forestry and Fishing          Index             NaN   \n...                                  ...            ...             ...   \n14393                                NaN            NaN             NaN   \n14394                                NaN            NaN             NaN   \n14395                                NaN            NaN             NaN   \n14396                                NaN            NaN             NaN   \n14397                                NaN            NaN             NaN   \n\n       Series_title_5  \n0                 NaN  \n1                 NaN  \n2                 NaN  \n3                 NaN  \n4                 NaN  \n...               ...  \n14393             NaN  \n14394             NaN  \n14395             NaN  \n14396             NaN  \n14397             NaN  \n\n[14398 rows x 13 columns]",
      "text/html": "<div>\n<style scoped>\n    .dataframe tbody tr th:only-of-type {\n        vertical-align: middle;\n    }\n\n    .dataframe tbody tr th {\n        vertical-align: top;\n    }\n\n    .dataframe thead th {\n        text-align: right;\n    }\n</style>\n<table border=\"1\" class=\"dataframe\">\n  <thead>\n    <tr style=\"text-align: right;\">\n      <th></th>\n      <th>Series_reference</th>\n      <th>Period</th>\n      <th>Data_value</th>\n      <th>STATUS</th>\n      <th>UNITS</th>\n      <th>MAGNTUDE</th>\n      <th>Subject</th>\n      <th>Group</th>\n      <th>Series_title_1</th>\n      <th>Series_title_2</th>\n      <th>Series_title_3</th>\n      <th>Series_title_4</th>\n      <th>Series_title_5</th>\n    </tr>\n  </thead>\n  <tbody>\n    <tr>\n      <th>0</th>\n      <td>PRDA.S1CAAZI</td>\n      <td>1978.03</td>\n      <td>1000.0</td>\n      <td>FINAL</td>\n      <td>Index</td>\n      <td>0</td>\n      <td>Productivity Statistics - PRD</td>\n      <td>Productivity Indexes - Industry Level (ANZSIC06)</td>\n      <td>Capital</td>\n      <td>Agriculture, Forestry and Fishing</td>\n      <td>Index</td>\n      <td>NaN</td>\n      <td>NaN</td>\n    </tr>\n    <tr>\n      <th>1</th>\n      <td>PRDA.S1CAAZI</td>\n      <td>1979.03</td>\n      <td>947.0</td>\n      <td>FINAL</td>\n      <td>Index</td>\n      <td>0</td>\n      <td>Productivity Statistics - PRD</td>\n      <td>Productivity Indexes - Industry Level (ANZSIC06)</td>\n      <td>Capital</td>\n      <td>Agriculture, Forestry and Fishing</td>\n      <td>Index</td>\n      <td>NaN</td>\n      <td>NaN</td>\n    </tr>\n    <tr>\n      <th>2</th>\n      <td>PRDA.S1CAAZI</td>\n      <td>1980.03</td>\n      <td>1054.0</td>\n      <td>FINAL</td>\n      <td>Index</td>\n      <td>0</td>\n      <td>Productivity Statistics - PRD</td>\n      <td>Productivity Indexes - Industry Level (ANZSIC06)</td>\n      <td>Capital</td>\n      <td>Agriculture, Forestry and Fishing</td>\n      <td>Index</td>\n      <td>NaN</td>\n      <td>NaN</td>\n    </tr>\n    <tr>\n      <th>3</th>\n      <td>PRDA.S1CAAZI</td>\n      <td>1981.03</td>\n      <td>1167.0</td>\n      <td>FINAL</td>\n      <td>Index</td>\n      <td>0</td>\n      <td>Productivity Statistics - PRD</td>\n      <td>Productivity Indexes - Industry Level (ANZSIC06)</td>\n      <td>Capital</td>\n      <td>Agriculture, Forestry and Fishing</td>\n      <td>Index</td>\n      <td>NaN</td>\n      <td>NaN</td>\n    </tr>\n    <tr>\n      <th>4</th>\n      <td>PRDA.S1CAAZI</td>\n      <td>1982.03</td>\n      <td>1144.0</td>\n      <td>FINAL</td>\n      <td>Index</td>\n      <td>0</td>\n      <td>Productivity Statistics - PRD</td>\n      <td>Productivity Indexes - Industry Level (ANZSIC06)</td>\n      <td>Capital</td>\n      <td>Agriculture, Forestry and Fishing</td>\n      <td>Index</td>\n      <td>NaN</td>\n      <td>NaN</td>\n    </tr>\n    <tr>\n      <th>...</th>\n      <td>...</td>\n      <td>...</td>\n      <td>...</td>\n      <td>...</td>\n      <td>...</td>\n      <td>...</td>\n      <td>...</td>\n      <td>...</td>\n      <td>...</td>\n      <td>...</td>\n      <td>...</td>\n      <td>...</td>\n      <td>...</td>\n    </tr>\n    <tr>\n      <th>14393</th>\n      <td>PRDA.S4LMSZP</td>\n      <td>2017.03</td>\n      <td>1.7</td>\n      <td>FINAL</td>\n      <td>Percent</td>\n      <td>0</td>\n      <td>Productivity Statistics - PRD</td>\n      <td>Productivity Growth Accounting (ANZSIC06)</td>\n      <td>Annual percentage change, labour inputs index,...</td>\n      <td>NaN</td>\n      <td>NaN</td>\n      <td>NaN</td>\n      <td>NaN</td>\n    </tr>\n    <tr>\n      <th>14394</th>\n      <td>PRDA.S4LMSZP</td>\n      <td>2018.03</td>\n      <td>1.3</td>\n      <td>FINAL</td>\n      <td>Percent</td>\n      <td>0</td>\n      <td>Productivity Statistics - PRD</td>\n      <td>Productivity Growth Accounting (ANZSIC06)</td>\n      <td>Annual percentage change, labour inputs index,...</td>\n      <td>NaN</td>\n      <td>NaN</td>\n      <td>NaN</td>\n      <td>NaN</td>\n    </tr>\n    <tr>\n      <th>14395</th>\n      <td>PRDA.S4LMSZP</td>\n      <td>2019.03</td>\n      <td>1.7</td>\n      <td>FINAL</td>\n      <td>Percent</td>\n      <td>0</td>\n      <td>Productivity Statistics - PRD</td>\n      <td>Productivity Growth Accounting (ANZSIC06)</td>\n      <td>Annual percentage change, labour inputs index,...</td>\n      <td>NaN</td>\n      <td>NaN</td>\n      <td>NaN</td>\n      <td>NaN</td>\n    </tr>\n    <tr>\n      <th>14396</th>\n      <td>PRDA.S4LMSZP</td>\n      <td>2020.03</td>\n      <td>0.5</td>\n      <td>FINAL</td>\n      <td>Percent</td>\n      <td>0</td>\n      <td>Productivity Statistics - PRD</td>\n      <td>Productivity Growth Accounting (ANZSIC06)</td>\n      <td>Annual percentage change, labour inputs index,...</td>\n      <td>NaN</td>\n      <td>NaN</td>\n      <td>NaN</td>\n      <td>NaN</td>\n    </tr>\n    <tr>\n      <th>14397</th>\n      <td>PRDA.S4LMSZP</td>\n      <td>2021.03</td>\n      <td>-1.7</td>\n      <td>PROVISIONAL</td>\n      <td>Percent</td>\n      <td>0</td>\n      <td>Productivity Statistics - PRD</td>\n      <td>Productivity Growth Accounting (ANZSIC06)</td>\n      <td>Annual percentage change, labour inputs index,...</td>\n      <td>NaN</td>\n      <td>NaN</td>\n      <td>NaN</td>\n      <td>NaN</td>\n    </tr>\n  </tbody>\n</table>\n<p>14398 rows × 13 columns</p>\n</div>"
     },
     "execution_count": 40,
     "metadata": {},
     "output_type": "execute_result"
    }
   ],
   "source": [
    "df"
   ],
   "metadata": {
    "collapsed": false,
    "pycharm": {
     "name": "#%%\n"
    }
   }
  },
  {
   "cell_type": "code",
   "execution_count": 41,
   "outputs": [
    {
     "data": {
      "text/plain": "28827130.939999994"
     },
     "execution_count": 41,
     "metadata": {},
     "output_type": "execute_result"
    }
   ],
   "source": [
    "df.Period.sum()"
   ],
   "metadata": {
    "collapsed": false,
    "pycharm": {
     "name": "#%%\n"
    }
   }
  },
  {
   "cell_type": "code",
   "execution_count": 42,
   "outputs": [
    {
     "data": {
      "text/plain": "     Period  Data_value\n1   1979.03    159341.9\n0   1978.03    159931.0\n2   1980.03    160729.9\n3   1981.03    161404.3\n4   1982.03    165290.1\n5   1983.03    167764.8\n6   1984.03    171292.5\n7   1985.03    177488.0\n8   1986.03    183010.3\n9   1987.03    186588.9\n12  1990.03    188558.8\n11  1989.03    188719.3\n10  1988.03    189119.1\n13  1991.03    191789.4\n14  1992.03    192290.1\n15  1993.03    192709.0\n16  1994.03    200003.4\n17  1995.03    205561.7\n18  1996.03    323203.0\n19  1997.03    331984.2\n20  1998.03    336837.2\n21  1999.03    340337.5\n22  2000.03    398780.6\n23  2001.03    407063.8\n24  2002.03    414670.6\n25  2003.03    425040.6\n26  2004.03    436227.2\n27  2005.03    445189.9\n28  2006.03    453826.9\n29  2007.03    461388.3\n32  2010.03    471195.6\n31  2009.03    473209.8\n30  2008.03    473237.6\n33  2011.03    473723.9\n34  2012.03    479411.5\n35  2013.03    486137.9\n36  2014.03    496148.8\n37  2015.03    510130.9\n38  2016.03    521829.0\n39  2017.03    531752.9\n40  2018.03    543287.1\n43  2021.03    550450.1\n41  2019.03    557925.2\n42  2020.03    564360.0",
      "text/html": "<div>\n<style scoped>\n    .dataframe tbody tr th:only-of-type {\n        vertical-align: middle;\n    }\n\n    .dataframe tbody tr th {\n        vertical-align: top;\n    }\n\n    .dataframe thead th {\n        text-align: right;\n    }\n</style>\n<table border=\"1\" class=\"dataframe\">\n  <thead>\n    <tr style=\"text-align: right;\">\n      <th></th>\n      <th>Period</th>\n      <th>Data_value</th>\n    </tr>\n  </thead>\n  <tbody>\n    <tr>\n      <th>1</th>\n      <td>1979.03</td>\n      <td>159341.9</td>\n    </tr>\n    <tr>\n      <th>0</th>\n      <td>1978.03</td>\n      <td>159931.0</td>\n    </tr>\n    <tr>\n      <th>2</th>\n      <td>1980.03</td>\n      <td>160729.9</td>\n    </tr>\n    <tr>\n      <th>3</th>\n      <td>1981.03</td>\n      <td>161404.3</td>\n    </tr>\n    <tr>\n      <th>4</th>\n      <td>1982.03</td>\n      <td>165290.1</td>\n    </tr>\n    <tr>\n      <th>5</th>\n      <td>1983.03</td>\n      <td>167764.8</td>\n    </tr>\n    <tr>\n      <th>6</th>\n      <td>1984.03</td>\n      <td>171292.5</td>\n    </tr>\n    <tr>\n      <th>7</th>\n      <td>1985.03</td>\n      <td>177488.0</td>\n    </tr>\n    <tr>\n      <th>8</th>\n      <td>1986.03</td>\n      <td>183010.3</td>\n    </tr>\n    <tr>\n      <th>9</th>\n      <td>1987.03</td>\n      <td>186588.9</td>\n    </tr>\n    <tr>\n      <th>12</th>\n      <td>1990.03</td>\n      <td>188558.8</td>\n    </tr>\n    <tr>\n      <th>11</th>\n      <td>1989.03</td>\n      <td>188719.3</td>\n    </tr>\n    <tr>\n      <th>10</th>\n      <td>1988.03</td>\n      <td>189119.1</td>\n    </tr>\n    <tr>\n      <th>13</th>\n      <td>1991.03</td>\n      <td>191789.4</td>\n    </tr>\n    <tr>\n      <th>14</th>\n      <td>1992.03</td>\n      <td>192290.1</td>\n    </tr>\n    <tr>\n      <th>15</th>\n      <td>1993.03</td>\n      <td>192709.0</td>\n    </tr>\n    <tr>\n      <th>16</th>\n      <td>1994.03</td>\n      <td>200003.4</td>\n    </tr>\n    <tr>\n      <th>17</th>\n      <td>1995.03</td>\n      <td>205561.7</td>\n    </tr>\n    <tr>\n      <th>18</th>\n      <td>1996.03</td>\n      <td>323203.0</td>\n    </tr>\n    <tr>\n      <th>19</th>\n      <td>1997.03</td>\n      <td>331984.2</td>\n    </tr>\n    <tr>\n      <th>20</th>\n      <td>1998.03</td>\n      <td>336837.2</td>\n    </tr>\n    <tr>\n      <th>21</th>\n      <td>1999.03</td>\n      <td>340337.5</td>\n    </tr>\n    <tr>\n      <th>22</th>\n      <td>2000.03</td>\n      <td>398780.6</td>\n    </tr>\n    <tr>\n      <th>23</th>\n      <td>2001.03</td>\n      <td>407063.8</td>\n    </tr>\n    <tr>\n      <th>24</th>\n      <td>2002.03</td>\n      <td>414670.6</td>\n    </tr>\n    <tr>\n      <th>25</th>\n      <td>2003.03</td>\n      <td>425040.6</td>\n    </tr>\n    <tr>\n      <th>26</th>\n      <td>2004.03</td>\n      <td>436227.2</td>\n    </tr>\n    <tr>\n      <th>27</th>\n      <td>2005.03</td>\n      <td>445189.9</td>\n    </tr>\n    <tr>\n      <th>28</th>\n      <td>2006.03</td>\n      <td>453826.9</td>\n    </tr>\n    <tr>\n      <th>29</th>\n      <td>2007.03</td>\n      <td>461388.3</td>\n    </tr>\n    <tr>\n      <th>32</th>\n      <td>2010.03</td>\n      <td>471195.6</td>\n    </tr>\n    <tr>\n      <th>31</th>\n      <td>2009.03</td>\n      <td>473209.8</td>\n    </tr>\n    <tr>\n      <th>30</th>\n      <td>2008.03</td>\n      <td>473237.6</td>\n    </tr>\n    <tr>\n      <th>33</th>\n      <td>2011.03</td>\n      <td>473723.9</td>\n    </tr>\n    <tr>\n      <th>34</th>\n      <td>2012.03</td>\n      <td>479411.5</td>\n    </tr>\n    <tr>\n      <th>35</th>\n      <td>2013.03</td>\n      <td>486137.9</td>\n    </tr>\n    <tr>\n      <th>36</th>\n      <td>2014.03</td>\n      <td>496148.8</td>\n    </tr>\n    <tr>\n      <th>37</th>\n      <td>2015.03</td>\n      <td>510130.9</td>\n    </tr>\n    <tr>\n      <th>38</th>\n      <td>2016.03</td>\n      <td>521829.0</td>\n    </tr>\n    <tr>\n      <th>39</th>\n      <td>2017.03</td>\n      <td>531752.9</td>\n    </tr>\n    <tr>\n      <th>40</th>\n      <td>2018.03</td>\n      <td>543287.1</td>\n    </tr>\n    <tr>\n      <th>43</th>\n      <td>2021.03</td>\n      <td>550450.1</td>\n    </tr>\n    <tr>\n      <th>41</th>\n      <td>2019.03</td>\n      <td>557925.2</td>\n    </tr>\n    <tr>\n      <th>42</th>\n      <td>2020.03</td>\n      <td>564360.0</td>\n    </tr>\n  </tbody>\n</table>\n</div>"
     },
     "execution_count": 42,
     "metadata": {},
     "output_type": "execute_result"
    }
   ],
   "source": [
    "df.groupby('Period', as_index=False).aggregate({'Data_value': 'sum'}).sort_values('Data_value')"
   ],
   "metadata": {
    "collapsed": false,
    "pycharm": {
     "name": "#%%\n"
    }
   }
  },
  {
   "cell_type": "code",
   "execution_count": 43,
   "outputs": [
    {
     "data": {
      "text/plain": "     Period  Data_value\n42  2020.03    564360.0\n41  2019.03    557925.2\n43  2021.03    550450.1\n40  2018.03    543287.1\n39  2017.03    531752.9\n38  2016.03    521829.0\n37  2015.03    510130.9\n36  2014.03    496148.8\n35  2013.03    486137.9\n34  2012.03    479411.5\n33  2011.03    473723.9\n30  2008.03    473237.6\n31  2009.03    473209.8\n32  2010.03    471195.6\n29  2007.03    461388.3\n28  2006.03    453826.9\n27  2005.03    445189.9\n26  2004.03    436227.2\n25  2003.03    425040.6\n24  2002.03    414670.6\n23  2001.03    407063.8\n22  2000.03    398780.6\n21  1999.03    340337.5\n20  1998.03    336837.2\n19  1997.03    331984.2\n18  1996.03    323203.0\n17  1995.03    205561.7\n16  1994.03    200003.4\n15  1993.03    192709.0\n14  1992.03    192290.1\n13  1991.03    191789.4\n10  1988.03    189119.1\n11  1989.03    188719.3\n12  1990.03    188558.8\n9   1987.03    186588.9\n8   1986.03    183010.3\n7   1985.03    177488.0\n6   1984.03    171292.5\n5   1983.03    167764.8\n4   1982.03    165290.1\n3   1981.03    161404.3\n2   1980.03    160729.9\n0   1978.03    159931.0\n1   1979.03    159341.9",
      "text/html": "<div>\n<style scoped>\n    .dataframe tbody tr th:only-of-type {\n        vertical-align: middle;\n    }\n\n    .dataframe tbody tr th {\n        vertical-align: top;\n    }\n\n    .dataframe thead th {\n        text-align: right;\n    }\n</style>\n<table border=\"1\" class=\"dataframe\">\n  <thead>\n    <tr style=\"text-align: right;\">\n      <th></th>\n      <th>Period</th>\n      <th>Data_value</th>\n    </tr>\n  </thead>\n  <tbody>\n    <tr>\n      <th>42</th>\n      <td>2020.03</td>\n      <td>564360.0</td>\n    </tr>\n    <tr>\n      <th>41</th>\n      <td>2019.03</td>\n      <td>557925.2</td>\n    </tr>\n    <tr>\n      <th>43</th>\n      <td>2021.03</td>\n      <td>550450.1</td>\n    </tr>\n    <tr>\n      <th>40</th>\n      <td>2018.03</td>\n      <td>543287.1</td>\n    </tr>\n    <tr>\n      <th>39</th>\n      <td>2017.03</td>\n      <td>531752.9</td>\n    </tr>\n    <tr>\n      <th>38</th>\n      <td>2016.03</td>\n      <td>521829.0</td>\n    </tr>\n    <tr>\n      <th>37</th>\n      <td>2015.03</td>\n      <td>510130.9</td>\n    </tr>\n    <tr>\n      <th>36</th>\n      <td>2014.03</td>\n      <td>496148.8</td>\n    </tr>\n    <tr>\n      <th>35</th>\n      <td>2013.03</td>\n      <td>486137.9</td>\n    </tr>\n    <tr>\n      <th>34</th>\n      <td>2012.03</td>\n      <td>479411.5</td>\n    </tr>\n    <tr>\n      <th>33</th>\n      <td>2011.03</td>\n      <td>473723.9</td>\n    </tr>\n    <tr>\n      <th>30</th>\n      <td>2008.03</td>\n      <td>473237.6</td>\n    </tr>\n    <tr>\n      <th>31</th>\n      <td>2009.03</td>\n      <td>473209.8</td>\n    </tr>\n    <tr>\n      <th>32</th>\n      <td>2010.03</td>\n      <td>471195.6</td>\n    </tr>\n    <tr>\n      <th>29</th>\n      <td>2007.03</td>\n      <td>461388.3</td>\n    </tr>\n    <tr>\n      <th>28</th>\n      <td>2006.03</td>\n      <td>453826.9</td>\n    </tr>\n    <tr>\n      <th>27</th>\n      <td>2005.03</td>\n      <td>445189.9</td>\n    </tr>\n    <tr>\n      <th>26</th>\n      <td>2004.03</td>\n      <td>436227.2</td>\n    </tr>\n    <tr>\n      <th>25</th>\n      <td>2003.03</td>\n      <td>425040.6</td>\n    </tr>\n    <tr>\n      <th>24</th>\n      <td>2002.03</td>\n      <td>414670.6</td>\n    </tr>\n    <tr>\n      <th>23</th>\n      <td>2001.03</td>\n      <td>407063.8</td>\n    </tr>\n    <tr>\n      <th>22</th>\n      <td>2000.03</td>\n      <td>398780.6</td>\n    </tr>\n    <tr>\n      <th>21</th>\n      <td>1999.03</td>\n      <td>340337.5</td>\n    </tr>\n    <tr>\n      <th>20</th>\n      <td>1998.03</td>\n      <td>336837.2</td>\n    </tr>\n    <tr>\n      <th>19</th>\n      <td>1997.03</td>\n      <td>331984.2</td>\n    </tr>\n    <tr>\n      <th>18</th>\n      <td>1996.03</td>\n      <td>323203.0</td>\n    </tr>\n    <tr>\n      <th>17</th>\n      <td>1995.03</td>\n      <td>205561.7</td>\n    </tr>\n    <tr>\n      <th>16</th>\n      <td>1994.03</td>\n      <td>200003.4</td>\n    </tr>\n    <tr>\n      <th>15</th>\n      <td>1993.03</td>\n      <td>192709.0</td>\n    </tr>\n    <tr>\n      <th>14</th>\n      <td>1992.03</td>\n      <td>192290.1</td>\n    </tr>\n    <tr>\n      <th>13</th>\n      <td>1991.03</td>\n      <td>191789.4</td>\n    </tr>\n    <tr>\n      <th>10</th>\n      <td>1988.03</td>\n      <td>189119.1</td>\n    </tr>\n    <tr>\n      <th>11</th>\n      <td>1989.03</td>\n      <td>188719.3</td>\n    </tr>\n    <tr>\n      <th>12</th>\n      <td>1990.03</td>\n      <td>188558.8</td>\n    </tr>\n    <tr>\n      <th>9</th>\n      <td>1987.03</td>\n      <td>186588.9</td>\n    </tr>\n    <tr>\n      <th>8</th>\n      <td>1986.03</td>\n      <td>183010.3</td>\n    </tr>\n    <tr>\n      <th>7</th>\n      <td>1985.03</td>\n      <td>177488.0</td>\n    </tr>\n    <tr>\n      <th>6</th>\n      <td>1984.03</td>\n      <td>171292.5</td>\n    </tr>\n    <tr>\n      <th>5</th>\n      <td>1983.03</td>\n      <td>167764.8</td>\n    </tr>\n    <tr>\n      <th>4</th>\n      <td>1982.03</td>\n      <td>165290.1</td>\n    </tr>\n    <tr>\n      <th>3</th>\n      <td>1981.03</td>\n      <td>161404.3</td>\n    </tr>\n    <tr>\n      <th>2</th>\n      <td>1980.03</td>\n      <td>160729.9</td>\n    </tr>\n    <tr>\n      <th>0</th>\n      <td>1978.03</td>\n      <td>159931.0</td>\n    </tr>\n    <tr>\n      <th>1</th>\n      <td>1979.03</td>\n      <td>159341.9</td>\n    </tr>\n  </tbody>\n</table>\n</div>"
     },
     "execution_count": 43,
     "metadata": {},
     "output_type": "execute_result"
    }
   ],
   "source": [
    "df.groupby('Period', as_index=False).aggregate({'Data_value': 'sum'}).sort_values('Data_value', ascending=False)"
   ],
   "metadata": {
    "collapsed": false,
    "pycharm": {
     "name": "#%%\n"
    }
   }
  },
  {
   "cell_type": "code",
   "execution_count": 44,
   "outputs": [
    {
     "data": {
      "text/plain": "     Period  Data_value\n0   1991.03     36845.0\n1   2003.03      1155.0\n2   2005.03         1.3\n3   2006.03      7299.3\n4   2007.03     12228.0\n5   2008.03      6478.0\n6   2009.03      7437.0\n7   2010.03     11262.0\n8   2011.03     13677.0\n9   2012.03     12035.0\n10  2013.03      8323.0\n11  2014.03     25475.4\n12  2015.03     18954.0\n13  2016.03     12524.0\n14  2017.03     24094.0\n15  2018.03     10539.0\n16  2019.03     22262.8\n17  2020.03     29476.2\n18  2021.03    103443.1",
      "text/html": "<div>\n<style scoped>\n    .dataframe tbody tr th:only-of-type {\n        vertical-align: middle;\n    }\n\n    .dataframe tbody tr th {\n        vertical-align: top;\n    }\n\n    .dataframe thead th {\n        text-align: right;\n    }\n</style>\n<table border=\"1\" class=\"dataframe\">\n  <thead>\n    <tr style=\"text-align: right;\">\n      <th></th>\n      <th>Period</th>\n      <th>Data_value</th>\n    </tr>\n  </thead>\n  <tbody>\n    <tr>\n      <th>0</th>\n      <td>1991.03</td>\n      <td>36845.0</td>\n    </tr>\n    <tr>\n      <th>1</th>\n      <td>2003.03</td>\n      <td>1155.0</td>\n    </tr>\n    <tr>\n      <th>2</th>\n      <td>2005.03</td>\n      <td>1.3</td>\n    </tr>\n    <tr>\n      <th>3</th>\n      <td>2006.03</td>\n      <td>7299.3</td>\n    </tr>\n    <tr>\n      <th>4</th>\n      <td>2007.03</td>\n      <td>12228.0</td>\n    </tr>\n    <tr>\n      <th>5</th>\n      <td>2008.03</td>\n      <td>6478.0</td>\n    </tr>\n    <tr>\n      <th>6</th>\n      <td>2009.03</td>\n      <td>7437.0</td>\n    </tr>\n    <tr>\n      <th>7</th>\n      <td>2010.03</td>\n      <td>11262.0</td>\n    </tr>\n    <tr>\n      <th>8</th>\n      <td>2011.03</td>\n      <td>13677.0</td>\n    </tr>\n    <tr>\n      <th>9</th>\n      <td>2012.03</td>\n      <td>12035.0</td>\n    </tr>\n    <tr>\n      <th>10</th>\n      <td>2013.03</td>\n      <td>8323.0</td>\n    </tr>\n    <tr>\n      <th>11</th>\n      <td>2014.03</td>\n      <td>25475.4</td>\n    </tr>\n    <tr>\n      <th>12</th>\n      <td>2015.03</td>\n      <td>18954.0</td>\n    </tr>\n    <tr>\n      <th>13</th>\n      <td>2016.03</td>\n      <td>12524.0</td>\n    </tr>\n    <tr>\n      <th>14</th>\n      <td>2017.03</td>\n      <td>24094.0</td>\n    </tr>\n    <tr>\n      <th>15</th>\n      <td>2018.03</td>\n      <td>10539.0</td>\n    </tr>\n    <tr>\n      <th>16</th>\n      <td>2019.03</td>\n      <td>22262.8</td>\n    </tr>\n    <tr>\n      <th>17</th>\n      <td>2020.03</td>\n      <td>29476.2</td>\n    </tr>\n    <tr>\n      <th>18</th>\n      <td>2021.03</td>\n      <td>103443.1</td>\n    </tr>\n  </tbody>\n</table>\n</div>"
     },
     "execution_count": 44,
     "metadata": {},
     "output_type": "execute_result"
    }
   ],
   "source": [
    "df.query(\"STATUS == 'REVISED'\").groupby('Period', as_index=False).aggregate({'Data_value': 'sum'})"
   ],
   "metadata": {
    "collapsed": false,
    "pycharm": {
     "name": "#%%\n"
    }
   }
  },
  {
   "cell_type": "code",
   "execution_count": 45,
   "outputs": [
    {
     "data": {
      "text/plain": "array([1978.03, 1979.03, 1980.03, 1981.03, 1982.03, 1983.03, 1984.03,\n       1985.03, 1986.03, 1987.03, 1988.03, 1989.03, 1990.03, 1991.03,\n       1992.03, 1993.03, 1994.03, 1995.03, 1996.03, 1997.03, 1998.03,\n       1999.03, 2000.03, 2001.03, 2002.03, 2003.03, 2004.03, 2005.03,\n       2006.03, 2007.03, 2008.03, 2009.03, 2010.03, 2011.03, 2012.03,\n       2013.03, 2014.03, 2015.03, 2016.03, 2017.03, 2018.03, 2019.03,\n       2020.03, 2021.03])"
     },
     "execution_count": 45,
     "metadata": {},
     "output_type": "execute_result"
    }
   ],
   "source": [
    "df.Period.unique()"
   ],
   "metadata": {
    "collapsed": false,
    "pycharm": {
     "name": "#%%\n"
    }
   }
  },
  {
   "cell_type": "code",
   "execution_count": 46,
   "outputs": [],
   "source": [
    "from datetime import datetime"
   ],
   "metadata": {
    "collapsed": false,
    "pycharm": {
     "name": "#%%\n"
    }
   }
  },
  {
   "cell_type": "code",
   "execution_count": 47,
   "outputs": [],
   "source": [
    "today_day = datetime.today().strftime(\"%Y-%m-%d\")"
   ],
   "metadata": {
    "collapsed": false,
    "pycharm": {
     "name": "#%%\n"
    }
   }
  },
  {
   "cell_type": "code",
   "execution_count": 48,
   "outputs": [],
   "source": [
    "file_name = 'money_title_{}.csv'"
   ],
   "metadata": {
    "collapsed": false,
    "pycharm": {
     "name": "#%%\n"
    }
   }
  },
  {
   "cell_type": "code",
   "execution_count": 49,
   "outputs": [
    {
     "data": {
      "text/plain": "'money_title_2022-10-30.csv'"
     },
     "execution_count": 49,
     "metadata": {},
     "output_type": "execute_result"
    }
   ],
   "source": [
    "file_name.format(today_day)"
   ],
   "metadata": {
    "collapsed": false,
    "pycharm": {
     "name": "#%%\n"
    }
   }
  },
  {
   "cell_type": "code",
   "execution_count": 50,
   "outputs": [
    {
     "data": {
      "text/plain": "<module 'pandas' from 'C:\\\\ProgramData\\\\Anaconda3\\\\lib\\\\site-packages\\\\pandas\\\\__init__.py'>"
     },
     "execution_count": 50,
     "metadata": {},
     "output_type": "execute_result"
    }
   ],
   "source": [
    "pd"
   ],
   "metadata": {
    "collapsed": false,
    "pycharm": {
     "name": "#%%\n"
    }
   }
  },
  {
   "cell_type": "code",
   "execution_count": 51,
   "outputs": [],
   "source": [
    "taxi = pd.read_csv('https://stepik.org/media/attachments/lesson/360340/2_taxi_nyc.csv')"
   ],
   "metadata": {
    "collapsed": false,
    "pycharm": {
     "name": "#%%\n"
    }
   }
  },
  {
   "cell_type": "code",
   "execution_count": 52,
   "outputs": [
    {
     "data": {
      "text/plain": "             pickup_dt pickup_month    borough  pickups hday  spd   vsb  temp  \\\n0  2015-01-01 01:00:00          Jan      Bronx      152    Y  5.0  10.0  30.0   \n1  2015-01-01 01:00:00          Jan   Brooklyn     1519    Y  5.0  10.0  30.0   \n2  2015-01-01 01:00:00          Jan        EWR        0    Y  5.0  10.0  30.0   \n3  2015-01-01 01:00:00          Jan  Manhattan     5258    Y  5.0  10.0  30.0   \n4  2015-01-01 01:00:00          Jan     Queens      405    Y  5.0  10.0  30.0   \n\n   dewp     slp  pcp 01  pcp 06  pcp 24   sd  \n0   7.0  1023.5     0.0     0.0     0.0  0.0  \n1   7.0  1023.5     0.0     0.0     0.0  0.0  \n2   7.0  1023.5     0.0     0.0     0.0  0.0  \n3   7.0  1023.5     0.0     0.0     0.0  0.0  \n4   7.0  1023.5     0.0     0.0     0.0  0.0  ",
      "text/html": "<div>\n<style scoped>\n    .dataframe tbody tr th:only-of-type {\n        vertical-align: middle;\n    }\n\n    .dataframe tbody tr th {\n        vertical-align: top;\n    }\n\n    .dataframe thead th {\n        text-align: right;\n    }\n</style>\n<table border=\"1\" class=\"dataframe\">\n  <thead>\n    <tr style=\"text-align: right;\">\n      <th></th>\n      <th>pickup_dt</th>\n      <th>pickup_month</th>\n      <th>borough</th>\n      <th>pickups</th>\n      <th>hday</th>\n      <th>spd</th>\n      <th>vsb</th>\n      <th>temp</th>\n      <th>dewp</th>\n      <th>slp</th>\n      <th>pcp 01</th>\n      <th>pcp 06</th>\n      <th>pcp 24</th>\n      <th>sd</th>\n    </tr>\n  </thead>\n  <tbody>\n    <tr>\n      <th>0</th>\n      <td>2015-01-01 01:00:00</td>\n      <td>Jan</td>\n      <td>Bronx</td>\n      <td>152</td>\n      <td>Y</td>\n      <td>5.0</td>\n      <td>10.0</td>\n      <td>30.0</td>\n      <td>7.0</td>\n      <td>1023.5</td>\n      <td>0.0</td>\n      <td>0.0</td>\n      <td>0.0</td>\n      <td>0.0</td>\n    </tr>\n    <tr>\n      <th>1</th>\n      <td>2015-01-01 01:00:00</td>\n      <td>Jan</td>\n      <td>Brooklyn</td>\n      <td>1519</td>\n      <td>Y</td>\n      <td>5.0</td>\n      <td>10.0</td>\n      <td>30.0</td>\n      <td>7.0</td>\n      <td>1023.5</td>\n      <td>0.0</td>\n      <td>0.0</td>\n      <td>0.0</td>\n      <td>0.0</td>\n    </tr>\n    <tr>\n      <th>2</th>\n      <td>2015-01-01 01:00:00</td>\n      <td>Jan</td>\n      <td>EWR</td>\n      <td>0</td>\n      <td>Y</td>\n      <td>5.0</td>\n      <td>10.0</td>\n      <td>30.0</td>\n      <td>7.0</td>\n      <td>1023.5</td>\n      <td>0.0</td>\n      <td>0.0</td>\n      <td>0.0</td>\n      <td>0.0</td>\n    </tr>\n    <tr>\n      <th>3</th>\n      <td>2015-01-01 01:00:00</td>\n      <td>Jan</td>\n      <td>Manhattan</td>\n      <td>5258</td>\n      <td>Y</td>\n      <td>5.0</td>\n      <td>10.0</td>\n      <td>30.0</td>\n      <td>7.0</td>\n      <td>1023.5</td>\n      <td>0.0</td>\n      <td>0.0</td>\n      <td>0.0</td>\n      <td>0.0</td>\n    </tr>\n    <tr>\n      <th>4</th>\n      <td>2015-01-01 01:00:00</td>\n      <td>Jan</td>\n      <td>Queens</td>\n      <td>405</td>\n      <td>Y</td>\n      <td>5.0</td>\n      <td>10.0</td>\n      <td>30.0</td>\n      <td>7.0</td>\n      <td>1023.5</td>\n      <td>0.0</td>\n      <td>0.0</td>\n      <td>0.0</td>\n      <td>0.0</td>\n    </tr>\n  </tbody>\n</table>\n</div>"
     },
     "execution_count": 52,
     "metadata": {},
     "output_type": "execute_result"
    }
   ],
   "source": [
    "taxi.head()"
   ],
   "metadata": {
    "collapsed": false,
    "pycharm": {
     "name": "#%%\n"
    }
   }
  },
  {
   "cell_type": "code",
   "execution_count": 53,
   "outputs": [
    {
     "data": {
      "text/plain": "(29101, 14)"
     },
     "execution_count": 53,
     "metadata": {},
     "output_type": "execute_result"
    }
   ],
   "source": [
    "taxi.shape # (число строк, число столбцов)"
   ],
   "metadata": {
    "collapsed": false,
    "pycharm": {
     "name": "#%%\n"
    }
   }
  },
  {
   "cell_type": "code",
   "execution_count": 54,
   "outputs": [
    {
     "data": {
      "text/plain": "<bound method NDFrame.head of                  pickup_dt pickup_month        borough  pickups hday  spd  \\\n0      2015-01-01 01:00:00          Jan          Bronx      152    Y  5.0   \n1      2015-01-01 01:00:00          Jan       Brooklyn     1519    Y  5.0   \n2      2015-01-01 01:00:00          Jan            EWR        0    Y  5.0   \n3      2015-01-01 01:00:00          Jan      Manhattan     5258    Y  5.0   \n4      2015-01-01 01:00:00          Jan         Queens      405    Y  5.0   \n...                    ...          ...            ...      ...  ...  ...   \n29096  2015-06-30 23:00:00          Jun            EWR        0    N  7.0   \n29097  2015-06-30 23:00:00          Jun      Manhattan     3828    N  7.0   \n29098  2015-06-30 23:00:00          Jun         Queens      580    N  7.0   \n29099  2015-06-30 23:00:00          Jun  Staten Island        0    N  7.0   \n29100  2015-06-30 23:00:00          Jun            NaN        3    N  7.0   \n\n        vsb  temp  dewp     slp  pcp 01  pcp 06  pcp 24   sd  \n0      10.0  30.0   7.0  1023.5     0.0     0.0     0.0  0.0  \n1      10.0  30.0   7.0  1023.5     0.0     0.0     0.0  0.0  \n2      10.0  30.0   7.0  1023.5     0.0     0.0     0.0  0.0  \n3      10.0  30.0   7.0  1023.5     0.0     0.0     0.0  0.0  \n4      10.0  30.0   7.0  1023.5     0.0     0.0     0.0  0.0  \n...     ...   ...   ...     ...     ...     ...     ...  ...  \n29096  10.0  75.0  65.0  1011.8     0.0     0.0     0.0  0.0  \n29097  10.0  75.0  65.0  1011.8     0.0     0.0     0.0  0.0  \n29098  10.0  75.0  65.0  1011.8     0.0     0.0     0.0  0.0  \n29099  10.0  75.0  65.0  1011.8     0.0     0.0     0.0  0.0  \n29100  10.0  75.0  65.0  1011.8     0.0     0.0     0.0  0.0  \n\n[29101 rows x 14 columns]>"
     },
     "execution_count": 54,
     "metadata": {},
     "output_type": "execute_result"
    }
   ],
   "source": [
    "taxi.head"
   ],
   "metadata": {
    "collapsed": false,
    "pycharm": {
     "name": "#%%\n"
    }
   }
  },
  {
   "cell_type": "code",
   "execution_count": 55,
   "outputs": [
    {
     "data": {
      "text/plain": "pickup_dt        object\npickup_month     object\nborough          object\npickups           int64\nhday             object\nspd             float64\nvsb             float64\ntemp            float64\ndewp            float64\nslp             float64\npcp 01          float64\npcp 06          float64\npcp 24          float64\nsd              float64\ndtype: object"
     },
     "execution_count": 55,
     "metadata": {},
     "output_type": "execute_result"
    }
   ],
   "source": [
    "taxi.dtypes"
   ],
   "metadata": {
    "collapsed": false,
    "pycharm": {
     "name": "#%%\n"
    }
   }
  },
  {
   "cell_type": "code",
   "execution_count": 56,
   "outputs": [
    {
     "data": {
      "text/plain": "float64    9\nobject     4\nint64      1\ndtype: int64"
     },
     "execution_count": 56,
     "metadata": {},
     "output_type": "execute_result"
    }
   ],
   "source": [
    "taxi.dtypes.value_counts()"
   ],
   "metadata": {
    "collapsed": false,
    "pycharm": {
     "name": "#%%\n"
    }
   }
  },
  {
   "cell_type": "code",
   "execution_count": 57,
   "outputs": [
    {
     "data": {
      "text/plain": "0                Bronx\n1             Brooklyn\n2                  EWR\n3            Manhattan\n4               Queens\n             ...      \n29096              EWR\n29097        Manhattan\n29098           Queens\n29099    Staten Island\n29100              NaN\nName: borough, Length: 29101, dtype: object"
     },
     "execution_count": 57,
     "metadata": {},
     "output_type": "execute_result"
    }
   ],
   "source": [
    "taxi.borough"
   ],
   "metadata": {
    "collapsed": false,
    "pycharm": {
     "name": "#%%\n"
    }
   }
  },
  {
   "cell_type": "code",
   "execution_count": null,
   "outputs": [],
   "source": [],
   "metadata": {
    "collapsed": false,
    "pycharm": {
     "name": "#%%\n"
    }
   }
  }
 ],
 "metadata": {
  "kernelspec": {
   "display_name": "Python 3 (ipykernel)",
   "language": "python",
   "name": "python3"
  },
  "language_info": {
   "codemirror_mode": {
    "name": "ipython",
    "version": 3
   },
   "file_extension": ".py",
   "mimetype": "text/x-python",
   "name": "python",
   "nbconvert_exporter": "python",
   "pygments_lexer": "ipython3",
   "version": "3.9.13"
  }
 },
 "nbformat": 4,
 "nbformat_minor": 5
}