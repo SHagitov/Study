{
 "cells": [
  {
   "cell_type": "code",
   "execution_count": 1,
   "id": "c54858b5",
   "metadata": {
    "pycharm": {
     "name": "#%%\n"
    }
   },
   "outputs": [],
   "source": [
    "int_list = [1, 2, 3]"
   ]
  },
  {
   "cell_type": "code",
   "execution_count": 2,
   "id": "842e9b94",
   "metadata": {
    "pycharm": {
     "name": "#%%\n"
    }
   },
   "outputs": [],
   "source": [
    "mixed_list = [1, 2.0, 'string']"
   ]
  },
  {
   "cell_type": "code",
   "execution_count": 3,
   "id": "2784de2e",
   "metadata": {
    "pycharm": {
     "name": "#%%\n"
    }
   },
   "outputs": [
    {
     "data": {
      "text/plain": "3"
     },
     "execution_count": 3,
     "metadata": {},
     "output_type": "execute_result"
    }
   ],
   "source": [
    "len(int_list)"
   ]
  },
  {
   "cell_type": "code",
   "execution_count": 4,
   "id": "3382c5b2",
   "metadata": {
    "pycharm": {
     "name": "#%%\n"
    }
   },
   "outputs": [
    {
     "name": "stdout",
     "output_type": "stream",
     "text": [
      "1\n",
      "3\n"
     ]
    }
   ],
   "source": [
    "print(int_list[0])\n",
    "print(int_list[-1])"
   ]
  },
  {
   "cell_type": "code",
   "execution_count": 5,
   "id": "0498c2e2",
   "metadata": {
    "pycharm": {
     "name": "#%%\n"
    }
   },
   "outputs": [
    {
     "data": {
      "text/plain": "[2, 3]"
     },
     "execution_count": 5,
     "metadata": {},
     "output_type": "execute_result"
    }
   ],
   "source": [
    "int_list[1:]"
   ]
  },
  {
   "cell_type": "code",
   "execution_count": 6,
   "id": "3c74a933",
   "metadata": {
    "pycharm": {
     "name": "#%%\n"
    }
   },
   "outputs": [
    {
     "data": {
      "text/plain": "['John', 'Bob', 'Alice', 'Tracy', 'Elijah', 'Mason']"
     },
     "execution_count": 6,
     "metadata": {},
     "output_type": "execute_result"
    }
   ],
   "source": [
    "names1 = ['John', 'Bob', 'Alice']\n",
    "names2 = ['Tracy', 'Elijah', 'Mason']\n",
    "names_combined = names1 + names2\n",
    "names_combined"
   ]
  },
  {
   "cell_type": "code",
   "execution_count": 7,
   "id": "914c018f",
   "metadata": {
    "pycharm": {
     "name": "#%%\n"
    }
   },
   "outputs": [
    {
     "data": {
      "text/plain": "['Liam', 'Bob', 'Alice']"
     },
     "execution_count": 7,
     "metadata": {},
     "output_type": "execute_result"
    }
   ],
   "source": [
    "names1[0] = 'Liam'\n",
    "names1"
   ]
  },
  {
   "cell_type": "code",
   "execution_count": 8,
   "id": "efa3f315",
   "metadata": {
    "pycharm": {
     "name": "#%%\n"
    }
   },
   "outputs": [
    {
     "data": {
      "text/plain": "['Liam', 'Bob', 'Alice', 'William', 'James']"
     },
     "execution_count": 8,
     "metadata": {},
     "output_type": "execute_result"
    }
   ],
   "source": [
    "names1.append('William')\n",
    "names1.append('James')\n",
    "names1"
   ]
  },
  {
   "cell_type": "code",
   "execution_count": 9,
   "id": "b9c0dbd7",
   "metadata": {
    "pycharm": {
     "name": "#%%\n"
    }
   },
   "outputs": [
    {
     "name": "stdout",
     "output_type": "stream",
     "text": [
      "Liam\n",
      "['Bob', 'Alice', 'William', 'James']\n"
     ]
    }
   ],
   "source": [
    "popped = names1.pop(0)\n",
    "print(popped)\n",
    "print(names1)"
   ]
  },
  {
   "cell_type": "code",
   "execution_count": 10,
   "id": "e9393ace",
   "metadata": {
    "pycharm": {
     "name": "#%%\n"
    }
   },
   "outputs": [
    {
     "data": {
      "text/plain": "['Alice', 'Bob', 'James', 'James', 'William']"
     },
     "execution_count": 10,
     "metadata": {},
     "output_type": "execute_result"
    }
   ],
   "source": [
    "names1.append('James')\n",
    "names1.sort()\n",
    "names1"
   ]
  },
  {
   "cell_type": "code",
   "execution_count": 11,
   "id": "212407fa",
   "metadata": {
    "pycharm": {
     "name": "#%%\n"
    }
   },
   "outputs": [
    {
     "data": {
      "text/plain": "['aa', 'ab', 'ac']"
     },
     "execution_count": 11,
     "metadata": {},
     "output_type": "execute_result"
    }
   ],
   "source": [
    "letters = ['ac', 'ab', 'aa']\n",
    "letters.sort()\n",
    "letters"
   ]
  },
  {
   "cell_type": "code",
   "execution_count": 12,
   "id": "a2ea33d6",
   "metadata": {
    "pycharm": {
     "name": "#%%\n"
    }
   },
   "outputs": [
    {
     "data": {
      "text/plain": "['a', 'ab', 'abc']"
     },
     "execution_count": 12,
     "metadata": {},
     "output_type": "execute_result"
    }
   ],
   "source": [
    "letters = ['abc', 'a', 'ab']\n",
    "letters.sort(key=len)\n",
    "letters"
   ]
  },
  {
   "cell_type": "code",
   "execution_count": 13,
   "id": "f168fce3",
   "metadata": {
    "pycharm": {
     "name": "#%%\n"
    }
   },
   "outputs": [
    {
     "data": {
      "text/plain": "[0, 1, 1, 2, 3, 3, 4, 5, 8]"
     },
     "execution_count": 13,
     "metadata": {},
     "output_type": "execute_result"
    }
   ],
   "source": [
    "numbers = [3, 2, 8, 5, 0, 3, 4, 1, 1]\n",
    "numbers.sort()\n",
    "numbers"
   ]
  },
  {
   "cell_type": "code",
   "execution_count": 14,
   "id": "6902d56f",
   "metadata": {
    "pycharm": {
     "name": "#%%\n"
    }
   },
   "outputs": [
    {
     "data": {
      "text/plain": "[1, 1, 4, 3, 0, 5, 8, 2, 3]"
     },
     "execution_count": 14,
     "metadata": {},
     "output_type": "execute_result"
    }
   ],
   "source": [
    "numbers = [3, 2, 8, 5, 0, 3, 4, 1, 1]\n",
    "numbers.reverse()\n",
    "numbers"
   ]
  },
  {
   "cell_type": "code",
   "execution_count": 15,
   "id": "83e52137",
   "metadata": {
    "pycharm": {
     "name": "#%%\n"
    }
   },
   "outputs": [
    {
     "data": {
      "text/plain": "[8, 5, 4, 3, 3, 2, 1, 1, 0]"
     },
     "execution_count": 15,
     "metadata": {},
     "output_type": "execute_result"
    }
   ],
   "source": [
    "numbers.sort(reverse=True)\n",
    "numbers"
   ]
  },
  {
   "cell_type": "code",
   "execution_count": 16,
   "id": "b5be02bc",
   "metadata": {
    "pycharm": {
     "name": "#%%\n"
    }
   },
   "outputs": [
    {
     "data": {
      "text/plain": "[8, 22, 5, 4, 3, 3, 2, 1, 1, 0]"
     },
     "execution_count": 16,
     "metadata": {},
     "output_type": "execute_result"
    }
   ],
   "source": [
    "numbers.insert(1, 22)\n",
    "numbers"
   ]
  },
  {
   "cell_type": "code",
   "execution_count": 17,
   "id": "9254c7d9",
   "metadata": {
    "pycharm": {
     "name": "#%%\n"
    }
   },
   "outputs": [
    {
     "data": {
      "text/plain": "2"
     },
     "execution_count": 17,
     "metadata": {},
     "output_type": "execute_result"
    }
   ],
   "source": [
    "numbers.index(5)"
   ]
  },
  {
   "cell_type": "code",
   "execution_count": 18,
   "id": "ed8fab55",
   "metadata": {
    "pycharm": {
     "name": "#%%\n"
    }
   },
   "outputs": [
    {
     "name": "stdout",
     "output_type": "stream",
     "text": [
      "2\n"
     ]
    }
   ],
   "source": [
    "print(numbers.count(3))"
   ]
  },
  {
   "cell_type": "code",
   "execution_count": 19,
   "id": "5485034a",
   "metadata": {
    "pycharm": {
     "name": "#%%\n"
    }
   },
   "outputs": [
    {
     "data": {
      "text/plain": "[8, 22, 5, 4, 3, 3, 2, 1, 1, 0]"
     },
     "execution_count": 19,
     "metadata": {},
     "output_type": "execute_result"
    }
   ],
   "source": [
    "copy = numbers.copy()\n",
    "copy"
   ]
  },
  {
   "cell_type": "code",
   "execution_count": 20,
   "id": "c7be1bc9",
   "metadata": {
    "pycharm": {
     "name": "#%%\n"
    }
   },
   "outputs": [
    {
     "data": {
      "text/plain": "[]"
     },
     "execution_count": 20,
     "metadata": {},
     "output_type": "execute_result"
    }
   ],
   "source": [
    "numbers.clear()\n",
    "numbers"
   ]
  },
  {
   "cell_type": "code",
   "execution_count": 21,
   "id": "c72f0774",
   "metadata": {
    "pycharm": {
     "name": "#%%\n"
    }
   },
   "outputs": [
    {
     "data": {
      "text/plain": "{'Carlsen': 2842,\n 'Caruana': 2822,\n 'Mamedyarov': 2801,\n 'Ding': 2797,\n 'Giri': 2780}"
     },
     "execution_count": 21,
     "metadata": {},
     "output_type": "execute_result"
    }
   ],
   "source": [
    "players = {\n",
    "    \"Carlsen\": 2842,\n",
    "    \"Caruana\": 2822,\n",
    "    \"Mamedyarov\": 2801,\n",
    "    \"Ding\": 2797,\n",
    "    \"Giri\": 2780\n",
    "}\n",
    "players"
   ]
  },
  {
   "cell_type": "code",
   "execution_count": 22,
   "id": "7719c678",
   "metadata": {
    "pycharm": {
     "name": "#%%\n"
    }
   },
   "outputs": [
    {
     "name": "stdout",
     "output_type": "stream",
     "text": [
      "Top chess player's rating is 2842\n"
     ]
    }
   ],
   "source": [
    "top1 = players[\"Carlsen\"]\n",
    "print(f\"Top chess player's rating is {top1}\")"
   ]
  },
  {
   "cell_type": "code",
   "execution_count": 23,
   "id": "013552d4",
   "metadata": {
    "pycharm": {
     "name": "#%%\n"
    }
   },
   "outputs": [
    {
     "data": {
      "text/plain": "{'Carlsen': 2842,\n 'Caruana': 2822,\n 'Mamedyarov': 2801,\n 'Ding': 2797,\n 'Giri': 2780,\n 'So': 2780}"
     },
     "execution_count": 23,
     "metadata": {},
     "output_type": "execute_result"
    }
   ],
   "source": [
    "players[\"So\"] = 2780\n",
    "players"
   ]
  },
  {
   "cell_type": "code",
   "execution_count": 24,
   "id": "9df5ea42",
   "metadata": {
    "pycharm": {
     "name": "#%%\n"
    }
   },
   "outputs": [
    {
     "data": {
      "text/plain": "{'Carlsen': 2842,\n 'Caruana': 2822,\n 'Mamedyarov': 2801,\n 'Ding': 2797,\n 'Giri': 2780,\n 'So': 2781}"
     },
     "execution_count": 24,
     "metadata": {},
     "output_type": "execute_result"
    }
   ],
   "source": [
    "players[\"So\"] = 2781\n",
    "players"
   ]
  },
  {
   "cell_type": "code",
   "execution_count": 25,
   "id": "e7811d83",
   "metadata": {
    "pycharm": {
     "name": "#%%\n"
    }
   },
   "outputs": [
    {
     "data": {
      "text/plain": "{'Carlsen': 2842,\n 'Caruana': 2822,\n 'Mamedyarov': 2801,\n 'Ding': 2797,\n 'Giri': 2780}"
     },
     "execution_count": 25,
     "metadata": {},
     "output_type": "execute_result"
    }
   ],
   "source": [
    "del players[\"So\"]\n",
    "players"
   ]
  },
  {
   "cell_type": "code",
   "execution_count": 26,
   "id": "afdec077",
   "metadata": {
    "pycharm": {
     "name": "#%%\n"
    }
   },
   "outputs": [
    {
     "name": "stdout",
     "output_type": "stream",
     "text": [
      "<class 'dict_keys'>\n",
      "dict_keys(['Carlsen', 'Caruana', 'Mamedyarov', 'Ding', 'Giri'])\n"
     ]
    }
   ],
   "source": [
    "keys = players.keys()\n",
    "print(type(keys))\n",
    "print(keys)"
   ]
  },
  {
   "cell_type": "code",
   "execution_count": 27,
   "id": "a2a011c0",
   "metadata": {
    "pycharm": {
     "name": "#%%\n"
    }
   },
   "outputs": [
    {
     "name": "stdout",
     "output_type": "stream",
     "text": [
      "<class 'list'>\n",
      "['Carlsen', 'Caruana', 'Mamedyarov', 'Ding', 'Giri']\n"
     ]
    }
   ],
   "source": [
    "l = list(players.keys())\n",
    "print(type(l))\n",
    "print(l)"
   ]
  },
  {
   "cell_type": "code",
   "execution_count": 28,
   "id": "1d89d09b",
   "metadata": {
    "pycharm": {
     "name": "#%%\n"
    }
   },
   "outputs": [
    {
     "data": {
      "text/plain": "['Carlsen', 'Caruana', 'Ding', 'Giri', 'Mamedyarov']"
     },
     "execution_count": 28,
     "metadata": {},
     "output_type": "execute_result"
    }
   ],
   "source": [
    "sorted(players.keys())"
   ]
  },
  {
   "cell_type": "code",
   "execution_count": 29,
   "id": "62684eef",
   "metadata": {
    "pycharm": {
     "name": "#%%\n"
    }
   },
   "outputs": [
    {
     "name": "stdout",
     "output_type": "stream",
     "text": [
      "True\n",
      "True\n"
     ]
    }
   ],
   "source": [
    "print(\"Carlsen\" in players)\n",
    "print(\"Kramlik\" not in players)"
   ]
  },
  {
   "cell_type": "code",
   "execution_count": 30,
   "id": "5a441bb7",
   "metadata": {
    "pycharm": {
     "name": "#%%\n"
    }
   },
   "outputs": [
    {
     "name": "stdout",
     "output_type": "stream",
     "text": [
      "<class 'dict_values'>\n",
      "dict_values([2842, 2822, 2801, 2797, 2780])\n"
     ]
    }
   ],
   "source": [
    "vals = players.values()\n",
    "print(type(vals))\n",
    "print(vals)"
   ]
  },
  {
   "cell_type": "code",
   "execution_count": 31,
   "id": "9a68a1e0",
   "metadata": {
    "pycharm": {
     "name": "#%%\n"
    }
   },
   "outputs": [
    {
     "name": "stdout",
     "output_type": "stream",
     "text": [
      "<class 'list'>\n",
      "[2842, 2822, 2801, 2797, 2780]\n"
     ]
    }
   ],
   "source": [
    "vals = list(players.values())\n",
    "print(type(vals))\n",
    "print(vals)"
   ]
  },
  {
   "cell_type": "code",
   "execution_count": 32,
   "id": "f8bbf21f",
   "metadata": {
    "pycharm": {
     "name": "#%%\n"
    }
   },
   "outputs": [
    {
     "data": {
      "text/plain": "[2780, 2797, 2801, 2822, 2842]"
     },
     "execution_count": 32,
     "metadata": {},
     "output_type": "execute_result"
    }
   ],
   "source": [
    "sorted(players.values())"
   ]
  },
  {
   "cell_type": "code",
   "execution_count": 33,
   "id": "4af0819a",
   "metadata": {
    "pycharm": {
     "name": "#%%\n"
    }
   },
   "outputs": [
    {
     "name": "stdout",
     "output_type": "stream",
     "text": [
      "{'Carlsen': 2842, 'Caruana': 2822, 'Mamedyarov': 2801, 'Ding': 2797, 'Giri': 2780}\n"
     ]
    }
   ],
   "source": [
    "players_copy = players.copy()\n",
    "print(players_copy)"
   ]
  },
  {
   "cell_type": "code",
   "execution_count": 34,
   "id": "0843b0ae",
   "metadata": {
    "pycharm": {
     "name": "#%%\n"
    }
   },
   "outputs": [
    {
     "name": "stdout",
     "output_type": "stream",
     "text": [
      "Carlsen 2842\n",
      "Caruana 2822\n",
      "Mamedyarov 2801\n",
      "Ding 2797\n",
      "Giri 2780\n"
     ]
    }
   ],
   "source": [
    "for k, v in players.items():\n",
    "    print(k, v)"
   ]
  },
  {
   "cell_type": "code",
   "execution_count": 35,
   "id": "1862dddc",
   "metadata": {
    "pycharm": {
     "name": "#%%\n"
    }
   },
   "outputs": [
    {
     "name": "stdout",
     "output_type": "stream",
     "text": [
      "<class 'dict_items'>\n"
     ]
    }
   ],
   "source": [
    "items = players.items()\n",
    "print(type(items))"
   ]
  },
  {
   "cell_type": "code",
   "execution_count": 36,
   "id": "07195851",
   "metadata": {
    "pycharm": {
     "name": "#%%\n"
    }
   },
   "outputs": [
    {
     "name": "stdout",
     "output_type": "stream",
     "text": [
      "{'Carlsen': 2842, 'Caruana': 2822, 'Mamedyarov': 2801, 'Ding': 2797}\n"
     ]
    }
   ],
   "source": [
    "players.pop(\"Giri\")\n",
    "print(players)"
   ]
  },
  {
   "cell_type": "code",
   "execution_count": 37,
   "id": "1971ee55",
   "metadata": {
    "pycharm": {
     "name": "#%%\n"
    }
   },
   "outputs": [
    {
     "name": "stdout",
     "output_type": "stream",
     "text": [
      "('Ding', 2797)\n",
      "{'Carlsen': 2842, 'Caruana': 2822, 'Mamedyarov': 2801}\n"
     ]
    }
   ],
   "source": [
    "print(players.popitem())\n",
    "print(players)"
   ]
  },
  {
   "cell_type": "code",
   "execution_count": 38,
   "id": "314c9ee7",
   "metadata": {
    "pycharm": {
     "name": "#%%\n"
    }
   },
   "outputs": [
    {
     "data": {
      "text/plain": "3"
     },
     "execution_count": 38,
     "metadata": {},
     "output_type": "execute_result"
    }
   ],
   "source": [
    "len(players)"
   ]
  },
  {
   "cell_type": "code",
   "execution_count": 39,
   "id": "f7e2b0e2",
   "metadata": {
    "pycharm": {
     "name": "#%%\n"
    }
   },
   "outputs": [
    {
     "data": {
      "text/plain": "{'Carlsen': 2842, 'Caruana': 2822, 'Mamedyarov': 2801, 'Karjakin': None}"
     },
     "execution_count": 39,
     "metadata": {},
     "output_type": "execute_result"
    }
   ],
   "source": [
    "players.setdefault(\"Karjakin\")\n",
    "players"
   ]
  },
  {
   "cell_type": "code",
   "execution_count": 40,
   "id": "2befcd2f",
   "metadata": {
    "pycharm": {
     "name": "#%%\n"
    }
   },
   "outputs": [
    {
     "name": "stdout",
     "output_type": "stream",
     "text": [
      "True\n",
      "True\n"
     ]
    }
   ],
   "source": [
    "d1 = {}\n",
    "d1['a'] = 'A'\n",
    "d1['b'] = 'B'\n",
    "d1['c'] = 'C'\n",
    "\n",
    "d2 = {}\n",
    "d2['a'] = 'A'\n",
    "d2['b'] = 'B'\n",
    "d2['c'] = 'C'\n",
    "\n",
    "d3 = {}\n",
    "d3['a'] = 'A'\n",
    "d3['b'] = 'B'\n",
    "d3['c'] = 'C'\n",
    "print(d1 == d2)\n",
    "print(d1 == d3)"
   ]
  },
  {
   "cell_type": "code",
   "execution_count": 41,
   "id": "0d0ca5f1",
   "metadata": {
    "pycharm": {
     "name": "#%%\n"
    }
   },
   "outputs": [
    {
     "name": "stdout",
     "output_type": "stream",
     "text": [
      "a A\n",
      "b B\n",
      "c C\n"
     ]
    }
   ],
   "source": [
    "for k, v in d1.items():\n",
    "    print(k, v)"
   ]
  },
  {
   "cell_type": "code",
   "execution_count": 42,
   "id": "e6d431ff",
   "metadata": {
    "pycharm": {
     "name": "#%%\n"
    }
   },
   "outputs": [
    {
     "name": "stdout",
     "output_type": "stream",
     "text": [
      "False\n",
      "True\n"
     ]
    }
   ],
   "source": [
    "from collections import OrderedDict\n",
    "\n",
    "d1 = OrderedDict()\n",
    "d1['a'] = 'A'\n",
    "d1['b'] = 'B'\n",
    "d1['c'] = 'C'\n",
    "\n",
    "d2 = OrderedDict()\n",
    "d2['a'] = 'B'\n",
    "d2['b'] = 'A'\n",
    "d2['c'] = 'C'\n",
    "\n",
    "d3 = OrderedDict()\n",
    "d3['a'] = 'A'\n",
    "d3['b'] = 'B'\n",
    "d3['c'] = 'C'\n",
    "print(d1 == d2)\n",
    "print(d1 == d3)"
   ]
  },
  {
   "cell_type": "code",
   "execution_count": 43,
   "id": "6f5e819b",
   "metadata": {
    "pycharm": {
     "name": "#%%\n"
    }
   },
   "outputs": [
    {
     "data": {
      "text/plain": "tuple"
     },
     "execution_count": 43,
     "metadata": {},
     "output_type": "execute_result"
    }
   ],
   "source": [
    "strings = ('str1', 'str2', 'str3')\n",
    "person = ('John', 'Silver', 22)\n",
    "type(person)"
   ]
  },
  {
   "cell_type": "code",
   "execution_count": 44,
   "id": "6edbd75b",
   "metadata": {
    "pycharm": {
     "name": "#%%\n"
    }
   },
   "outputs": [
    {
     "data": {
      "text/plain": "list"
     },
     "execution_count": 44,
     "metadata": {},
     "output_type": "execute_result"
    }
   ],
   "source": [
    "person_info = ['John', 'Silver', 22]\n",
    "type(person_info)"
   ]
  },
  {
   "cell_type": "code",
   "execution_count": 45,
   "id": "f02d54b2",
   "metadata": {
    "pycharm": {
     "name": "#%%\n"
    }
   },
   "outputs": [
    {
     "data": {
      "text/plain": "3"
     },
     "execution_count": 45,
     "metadata": {},
     "output_type": "execute_result"
    }
   ],
   "source": [
    "len(person)"
   ]
  },
  {
   "cell_type": "code",
   "execution_count": 46,
   "id": "881040bc",
   "metadata": {
    "pycharm": {
     "name": "#%%\n"
    }
   },
   "outputs": [
    {
     "name": "stdout",
     "output_type": "stream",
     "text": [
      "John\n",
      "22\n"
     ]
    },
    {
     "data": {
      "text/plain": "['Bob', 'Silver', 22]"
     },
     "execution_count": 46,
     "metadata": {},
     "output_type": "execute_result"
    }
   ],
   "source": [
    "print(person[0])\n",
    "print(person[-1])\n",
    "person_info[0] = 'Bob'\n",
    "person_info"
   ]
  },
  {
   "cell_type": "code",
   "execution_count": 47,
   "id": "39f5d1bd",
   "metadata": {
    "pycharm": {
     "name": "#%%\n"
    }
   },
   "outputs": [
    {
     "data": {
      "text/plain": "1"
     },
     "execution_count": 47,
     "metadata": {},
     "output_type": "execute_result"
    }
   ],
   "source": [
    "person.count('John')"
   ]
  },
  {
   "cell_type": "code",
   "execution_count": 48,
   "id": "0adbdee9",
   "metadata": {
    "pycharm": {
     "name": "#%%\n"
    }
   },
   "outputs": [
    {
     "data": {
      "text/plain": "0"
     },
     "execution_count": 48,
     "metadata": {},
     "output_type": "execute_result"
    }
   ],
   "source": [
    "person.index('John')"
   ]
  },
  {
   "cell_type": "code",
   "execution_count": 49,
   "id": "cf78a1ed",
   "metadata": {
    "pycharm": {
     "name": "#%%\n"
    }
   },
   "outputs": [
    {
     "name": "stdout",
     "output_type": "stream",
     "text": [
      "('Carlsen', 1990, 2842)\n"
     ]
    }
   ],
   "source": [
    "players = [('Carlsen', 1990, 2842), ('Caruana', 1992, 2822), ('Mamedyarov', 1985, 2801)]\n",
    "print(players[0])"
   ]
  },
  {
   "cell_type": "code",
   "execution_count": 50,
   "id": "4fefc8e9",
   "metadata": {
    "pycharm": {
     "name": "#%%\n"
    }
   },
   "outputs": [],
   "source": [
    "from collections import namedtuple\n",
    "\n",
    "Player = namedtuple('Player', 'name age rating')\n"
   ]
  },
  {
   "cell_type": "code",
   "execution_count": 51,
   "id": "dfdb23ba",
   "metadata": {
    "pycharm": {
     "name": "#%%\n"
    }
   },
   "outputs": [
    {
     "data": {
      "text/plain": "Player(name='Carlsen', age=1990, rating=2842)"
     },
     "execution_count": 51,
     "metadata": {},
     "output_type": "execute_result"
    }
   ],
   "source": [
    "players = [Player('Carlsen', 1990, 2842), Player('Caruana', 1992, 2822)]\n",
    "players[0]"
   ]
  },
  {
   "cell_type": "code",
   "execution_count": 52,
   "id": "37a4df62",
   "metadata": {
    "pycharm": {
     "name": "#%%\n"
    }
   },
   "outputs": [
    {
     "data": {
      "text/plain": "'Carlsen'"
     },
     "execution_count": 52,
     "metadata": {},
     "output_type": "execute_result"
    }
   ],
   "source": [
    "players[0].name"
   ]
  },
  {
   "cell_type": "code",
   "execution_count": 53,
   "id": "e7c70fd1",
   "metadata": {
    "pycharm": {
     "name": "#%%\n"
    }
   },
   "outputs": [
    {
     "name": "stdout",
     "output_type": "stream",
     "text": [
      "Carlsen\n",
      "1990\n",
      "2842\n"
     ]
    }
   ],
   "source": [
    "p1 = Player('Carlsen', 1990, 2842)\n",
    "print(p1.name)\n",
    "print(p1.age)\n",
    "print(p1.rating)"
   ]
  },
  {
   "cell_type": "code",
   "execution_count": 54,
   "id": "85bd9d2b",
   "metadata": {
    "pycharm": {
     "name": "#%%\n"
    }
   },
   "outputs": [
    {
     "name": "stdout",
     "output_type": "stream",
     "text": [
      "Indeed, true.\n"
     ]
    }
   ],
   "source": [
    "if True:\n",
    "    print('Indeed, true.')"
   ]
  },
  {
   "cell_type": "code",
   "execution_count": 55,
   "id": "d50ae6cd",
   "metadata": {
    "pycharm": {
     "name": "#%%\n"
    }
   },
   "outputs": [
    {
     "name": "stdout",
     "output_type": "stream",
     "text": [
      "3 in greater than 2\n"
     ]
    }
   ],
   "source": [
    "if 3 > 2:\n",
    "    print('3 in greater than 2')"
   ]
  },
  {
   "cell_type": "code",
   "execution_count": 56,
   "id": "90c1b472",
   "metadata": {
    "pycharm": {
     "name": "#%%\n"
    }
   },
   "outputs": [],
   "source": [
    "if 3 < 2:\n",
    "    print('3 is less than 2')"
   ]
  },
  {
   "cell_type": "code",
   "execution_count": 57,
   "id": "62642d7c",
   "metadata": {
    "pycharm": {
     "name": "#%%\n"
    }
   },
   "outputs": [
    {
     "name": "stdout",
     "output_type": "stream",
     "text": [
      "It's admin, look at him\n"
     ]
    }
   ],
   "source": [
    "is_admin = True\n",
    "if is_admin:\n",
    "    print(\"It's admin, look at him\")"
   ]
  },
  {
   "cell_type": "code",
   "execution_count": 58,
   "id": "2c636079",
   "metadata": {
    "pycharm": {
     "name": "#%%\n"
    }
   },
   "outputs": [
    {
     "name": "stdout",
     "output_type": "stream",
     "text": [
      "set()\n",
      "<class 'set'>\n"
     ]
    }
   ],
   "source": [
    "my_set = set()\n",
    "print(my_set)\n",
    "print(type(my_set))"
   ]
  },
  {
   "cell_type": "code",
   "execution_count": 59,
   "id": "189c5393",
   "metadata": {
    "pycharm": {
     "name": "#%%\n"
    }
   },
   "outputs": [
    {
     "data": {
      "text/plain": "{1}"
     },
     "execution_count": 59,
     "metadata": {},
     "output_type": "execute_result"
    }
   ],
   "source": [
    "my_set.add(1)\n",
    "my_set"
   ]
  },
  {
   "cell_type": "code",
   "execution_count": 60,
   "id": "4a6554d9",
   "metadata": {
    "pycharm": {
     "name": "#%%\n"
    }
   },
   "outputs": [
    {
     "data": {
      "text/plain": "{1, 2}"
     },
     "execution_count": 60,
     "metadata": {},
     "output_type": "execute_result"
    }
   ],
   "source": [
    "my_set.add(2)\n",
    "my_set.add(2)\n",
    "my_set"
   ]
  },
  {
   "cell_type": "code",
   "execution_count": 61,
   "id": "bd6c4e64",
   "metadata": {
    "pycharm": {
     "name": "#%%\n"
    }
   },
   "outputs": [
    {
     "name": "stdout",
     "output_type": "stream",
     "text": [
      "{1, 2, 3, 4}\n",
      "4\n"
     ]
    }
   ],
   "source": [
    "my_list = [1, 1, 1, 1, 2, 2, 2, 2, 3, 3, 4, 4]\n",
    "s = set(my_list)\n",
    "print(s)\n",
    "print(len(s))"
   ]
  },
  {
   "cell_type": "code",
   "execution_count": 62,
   "id": "b08cd15f",
   "metadata": {
    "pycharm": {
     "name": "#%%\n"
    }
   },
   "outputs": [
    {
     "name": "stdout",
     "output_type": "stream",
     "text": [
      "True\n",
      "False\n"
     ]
    }
   ],
   "source": [
    "print(1 in s)\n",
    "print(5 in s)"
   ]
  },
  {
   "cell_type": "code",
   "execution_count": 63,
   "id": "7b54d3db",
   "metadata": {
    "pycharm": {
     "name": "#%%\n"
    }
   },
   "outputs": [],
   "source": [
    "set1 = {1, 2, 3, 4}\n",
    "set2 = {1, 2, 3, 4, 5}"
   ]
  },
  {
   "cell_type": "code",
   "execution_count": 64,
   "id": "dcaa692f",
   "metadata": {
    "pycharm": {
     "name": "#%%\n"
    }
   },
   "outputs": [
    {
     "data": {
      "text/plain": "True"
     },
     "execution_count": 64,
     "metadata": {},
     "output_type": "execute_result"
    }
   ],
   "source": [
    "set1.issubset(set2)"
   ]
  },
  {
   "cell_type": "code",
   "execution_count": 65,
   "id": "54e8cd32",
   "metadata": {
    "pycharm": {
     "name": "#%%\n"
    }
   },
   "outputs": [
    {
     "data": {
      "text/plain": "False"
     },
     "execution_count": 65,
     "metadata": {},
     "output_type": "execute_result"
    }
   ],
   "source": [
    "set2.issubset(set1)"
   ]
  },
  {
   "cell_type": "code",
   "execution_count": 66,
   "id": "22413e9c",
   "metadata": {
    "pycharm": {
     "name": "#%%\n"
    }
   },
   "outputs": [
    {
     "data": {
      "text/plain": "True"
     },
     "execution_count": 66,
     "metadata": {},
     "output_type": "execute_result"
    }
   ],
   "source": [
    "set2.issuperset(set1)"
   ]
  },
  {
   "cell_type": "code",
   "execution_count": 67,
   "id": "b2ba4459",
   "metadata": {
    "pycharm": {
     "name": "#%%\n"
    }
   },
   "outputs": [
    {
     "data": {
      "text/plain": "True"
     },
     "execution_count": 67,
     "metadata": {},
     "output_type": "execute_result"
    }
   ],
   "source": [
    "set1 = {1, 2, 3}\n",
    "set2 = {4, 5, 6}\n",
    "set1.isdisjoint(set2)"
   ]
  },
  {
   "cell_type": "code",
   "execution_count": 68,
   "id": "cb4c1aa6",
   "metadata": {
    "pycharm": {
     "name": "#%%\n"
    }
   },
   "outputs": [
    {
     "data": {
      "text/plain": "{1, 2, 3, 4, 5}"
     },
     "execution_count": 68,
     "metadata": {},
     "output_type": "execute_result"
    }
   ],
   "source": [
    "set1 = {1, 2, 3}\n",
    "set2 = {1, 2, 3, 4, 5}\n",
    "set3 = set1.union(set2)\n",
    "set3"
   ]
  },
  {
   "cell_type": "code",
   "execution_count": 69,
   "id": "2f3f12aa",
   "metadata": {
    "pycharm": {
     "name": "#%%\n"
    }
   },
   "outputs": [
    {
     "data": {
      "text/plain": "{1, 2, 3}"
     },
     "execution_count": 69,
     "metadata": {},
     "output_type": "execute_result"
    }
   ],
   "source": [
    "set1"
   ]
  },
  {
   "cell_type": "code",
   "execution_count": 70,
   "id": "695998ef",
   "metadata": {
    "pycharm": {
     "name": "#%%\n"
    }
   },
   "outputs": [
    {
     "data": {
      "text/plain": "{1, 2, 3}"
     },
     "execution_count": 70,
     "metadata": {},
     "output_type": "execute_result"
    }
   ],
   "source": [
    "set3 = set1.intersection(set2)\n",
    "set3"
   ]
  },
  {
   "cell_type": "code",
   "execution_count": 71,
   "id": "2b5f56c5",
   "metadata": {
    "pycharm": {
     "name": "#%%\n"
    }
   },
   "outputs": [
    {
     "name": "stdout",
     "output_type": "stream",
     "text": [
      "{0}\n",
      "{0, 5}\n"
     ]
    }
   ],
   "source": [
    "set1 = {0, 1, 2, 3, 4}\n",
    "set2 = {1, 2, 3, 4, 5}\n",
    "set3 = set1.difference(set2)\n",
    "set4 = set1.symmetric_difference(set2)\n",
    "print(set3)\n",
    "print(set4)"
   ]
  },
  {
   "cell_type": "code",
   "execution_count": 72,
   "id": "98342cdc",
   "metadata": {
    "pycharm": {
     "name": "#%%\n"
    }
   },
   "outputs": [
    {
     "data": {
      "text/plain": "{0, 1, 2, 3, 4, 5}"
     },
     "execution_count": 72,
     "metadata": {},
     "output_type": "execute_result"
    }
   ],
   "source": [
    "set1.update(set2)\n",
    "set1"
   ]
  },
  {
   "cell_type": "code",
   "execution_count": 73,
   "id": "943e591f",
   "metadata": {
    "pycharm": {
     "name": "#%%\n"
    }
   },
   "outputs": [
    {
     "name": "stdout",
     "output_type": "stream",
     "text": [
      "{0, 2, 3, 4, 5}\n"
     ]
    }
   ],
   "source": [
    "set1.remove(1)\n",
    "print(set1)"
   ]
  },
  {
   "cell_type": "code",
   "execution_count": 74,
   "id": "3125239e",
   "metadata": {
    "pycharm": {
     "name": "#%%\n"
    }
   },
   "outputs": [
    {
     "name": "stdout",
     "output_type": "stream",
     "text": [
      "{0, 3, 4, 5}\n"
     ]
    }
   ],
   "source": [
    "set1.discard(2)\n",
    "print(set1)\n",
    "set1.discard(42)\n"
   ]
  },
  {
   "cell_type": "code",
   "execution_count": 75,
   "id": "80368400",
   "metadata": {
    "pycharm": {
     "name": "#%%\n"
    }
   },
   "outputs": [
    {
     "name": "stdout",
     "output_type": "stream",
     "text": [
      "0\n"
     ]
    }
   ],
   "source": [
    "popped_out_element = set1.pop()\n",
    "print(popped_out_element)"
   ]
  },
  {
   "cell_type": "code",
   "execution_count": 76,
   "id": "f2d24be0",
   "metadata": {
    "pycharm": {
     "name": "#%%\n"
    }
   },
   "outputs": [
    {
     "data": {
      "text/plain": "set()"
     },
     "execution_count": 76,
     "metadata": {},
     "output_type": "execute_result"
    }
   ],
   "source": [
    "set1.clear()\n",
    "set1"
   ]
  },
  {
   "cell_type": "code",
   "execution_count": 77,
   "id": "1699abae",
   "metadata": {
    "pycharm": {
     "name": "#%%\n"
    }
   },
   "outputs": [
    {
     "name": "stdout",
     "output_type": "stream",
     "text": [
      "[1, 2, 3, 4, 5]\n"
     ]
    }
   ],
   "source": [
    "numbers = [1, 2, 3, 4, 5]\n",
    "print(numbers)"
   ]
  },
  {
   "cell_type": "code",
   "execution_count": 78,
   "id": "19883873",
   "metadata": {
    "pycharm": {
     "name": "#%%\n"
    }
   },
   "outputs": [
    {
     "name": "stdout",
     "output_type": "stream",
     "text": [
      "1\n",
      "2\n",
      "3\n",
      "4\n",
      "5\n"
     ]
    }
   ],
   "source": [
    "for i in numbers:\n",
    "    print(i)"
   ]
  },
  {
   "cell_type": "code",
   "execution_count": 79,
   "id": "7670892e",
   "metadata": {
    "pycharm": {
     "name": "#%%\n"
    }
   },
   "outputs": [
    {
     "name": "stdout",
     "output_type": "stream",
     "text": [
      "1\n",
      "4\n",
      "9\n",
      "16\n",
      "25\n"
     ]
    }
   ],
   "source": [
    "for i in numbers:\n",
    "    print(i * i)"
   ]
  },
  {
   "cell_type": "code",
   "execution_count": 80,
   "id": "5f00c60f",
   "metadata": {
    "pycharm": {
     "name": "#%%\n"
    }
   },
   "outputs": [
    {
     "data": {
      "text/plain": "range"
     },
     "execution_count": 80,
     "metadata": {},
     "output_type": "execute_result"
    }
   ],
   "source": [
    "numbers = range(1, 8)\n",
    "type(numbers)"
   ]
  },
  {
   "cell_type": "code",
   "execution_count": 81,
   "id": "e136d175",
   "metadata": {
    "pycharm": {
     "name": "#%%\n"
    }
   },
   "outputs": [
    {
     "name": "stdout",
     "output_type": "stream",
     "text": [
      "1\n",
      "2\n",
      "3\n",
      "4\n",
      "5\n",
      "6\n",
      "7\n"
     ]
    }
   ],
   "source": [
    "for i in numbers:\n",
    "    print(i)"
   ]
  },
  {
   "cell_type": "code",
   "execution_count": 82,
   "id": "9c1d9305",
   "metadata": {
    "pycharm": {
     "name": "#%%\n"
    }
   },
   "outputs": [
    {
     "name": "stdout",
     "output_type": "stream",
     "text": [
      "1\n",
      "2\n",
      "3\n",
      "4\n",
      "5\n",
      "6\n",
      "7\n"
     ]
    }
   ],
   "source": [
    "for i in range(1, 8):\n",
    "    print(i)"
   ]
  },
  {
   "cell_type": "code",
   "execution_count": 83,
   "id": "2ec8cb67",
   "metadata": {
    "pycharm": {
     "name": "#%%\n"
    }
   },
   "outputs": [
    {
     "name": "stdout",
     "output_type": "stream",
     "text": [
      "1 is odd\n",
      "2 if even\n",
      "3 is odd\n",
      "4 if even\n",
      "5 is odd\n",
      "6 if even\n",
      "7 is odd\n"
     ]
    }
   ],
   "source": [
    "for i in range(1, 8):\n",
    "    if i % 2 == 0:\n",
    "        print(f'{i} if even')\n",
    "    else:\n",
    "        print(f'{i} is odd')"
   ]
  },
  {
   "cell_type": "code",
   "execution_count": 84,
   "id": "41bae968",
   "metadata": {
    "pycharm": {
     "name": "#%%\n"
    }
   },
   "outputs": [
    {
     "data": {
      "text/plain": "[2, 6, 10, 14, 18]"
     },
     "execution_count": 84,
     "metadata": {},
     "output_type": "execute_result"
    }
   ],
   "source": [
    "numbers = [1, 3, 5, 7, 9]\n",
    "for i, item in enumerate(numbers):\n",
    "    numbers[i] *= 2\n",
    "numbers"
   ]
  },
  {
   "cell_type": "code",
   "execution_count": 85,
   "id": "9981a238",
   "metadata": {
    "pycharm": {
     "name": "#%%\n"
    }
   },
   "outputs": [
    {
     "name": "stdout",
     "output_type": "stream",
     "text": [
      "J\n",
      "o\n",
      "h\n",
      "n\n"
     ]
    }
   ],
   "source": [
    "name = \"John\"\n",
    "for l in name:\n",
    "    print(l)"
   ]
  },
  {
   "cell_type": "code",
   "execution_count": 86,
   "id": "77ede685",
   "metadata": {
    "pycharm": {
     "name": "#%%\n"
    }
   },
   "outputs": [
    {
     "name": "stdout",
     "output_type": "stream",
     "text": [
      "Alarm!\n",
      "Alarm!\n",
      "Alarm!\n",
      "Alarm!\n",
      "Alarm!\n"
     ]
    }
   ],
   "source": [
    "for _ in range(5):\n",
    "    print('Alarm!')"
   ]
  },
  {
   "cell_type": "code",
   "execution_count": 87,
   "id": "81fa53ab",
   "metadata": {
    "pycharm": {
     "name": "#%%\n"
    }
   },
   "outputs": [
    {
     "name": "stdout",
     "output_type": "stream",
     "text": [
      "John\n",
      "Silver\n",
      "22\n"
     ]
    }
   ],
   "source": [
    "person = ('John', 'Silver', 22)\n",
    "for item in person:\n",
    "    print(item)"
   ]
  },
  {
   "cell_type": "code",
   "execution_count": 88,
   "id": "8e682abe",
   "metadata": {
    "pycharm": {
     "name": "#%%\n"
    }
   },
   "outputs": [
    {
     "data": {
      "text/plain": "3"
     },
     "execution_count": 88,
     "metadata": {},
     "output_type": "execute_result"
    }
   ],
   "source": [
    "persons = [('John', 22), ('Bob', 32), ('Dave', 20)]\n",
    "len(persons)"
   ]
  },
  {
   "cell_type": "code",
   "execution_count": 89,
   "id": "999b073e",
   "metadata": {
    "pycharm": {
     "name": "#%%\n"
    }
   },
   "outputs": [
    {
     "name": "stdout",
     "output_type": "stream",
     "text": [
      "John 22\n",
      "Bob 32\n",
      "Dave 20\n"
     ]
    }
   ],
   "source": [
    "for (name, age) in persons:\n",
    "    print(name, age)"
   ]
  },
  {
   "cell_type": "code",
   "execution_count": 90,
   "id": "fc77cb4c",
   "metadata": {
    "pycharm": {
     "name": "#%%\n"
    }
   },
   "outputs": [],
   "source": [
    "players = dict(Carlsen=2842, Caruana=2822, Mamedyarov=2801)"
   ]
  },
  {
   "cell_type": "code",
   "execution_count": 91,
   "id": "13615468",
   "metadata": {
    "pycharm": {
     "name": "#%%\n"
    }
   },
   "outputs": [
    {
     "name": "stdout",
     "output_type": "stream",
     "text": [
      "Carlsen\n",
      "Caruana\n",
      "Mamedyarov\n"
     ]
    }
   ],
   "source": [
    "for item in players:\n",
    "    print(item)"
   ]
  },
  {
   "cell_type": "code",
   "execution_count": 92,
   "id": "eadb66f9",
   "metadata": {
    "pycharm": {
     "name": "#%%\n"
    }
   },
   "outputs": [
    {
     "name": "stdout",
     "output_type": "stream",
     "text": [
      "('Carlsen', 2842)\n",
      "('Caruana', 2822)\n",
      "('Mamedyarov', 2801)\n"
     ]
    }
   ],
   "source": [
    "for item in players.items():\n",
    "    print(item)"
   ]
  },
  {
   "cell_type": "code",
   "execution_count": 93,
   "id": "3568aff8",
   "metadata": {
    "pycharm": {
     "name": "#%%\n"
    }
   },
   "outputs": [
    {
     "name": "stdout",
     "output_type": "stream",
     "text": [
      "Carlsen has rating 2842\n",
      "Caruana has rating 2822\n",
      "Mamedyarov has rating 2801\n"
     ]
    }
   ],
   "source": [
    "for k, v in players.items():\n",
    "    print(f'{k} has rating {v}')"
   ]
  },
  {
   "cell_type": "code",
   "execution_count": 94,
   "id": "39f74ea2",
   "metadata": {
    "pycharm": {
     "name": "#%%\n"
    }
   },
   "outputs": [
    {
     "name": "stdout",
     "output_type": "stream",
     "text": [
      "2842\n",
      "2822\n",
      "2801\n"
     ]
    }
   ],
   "source": [
    "for v in players.values():\n",
    "    print(v)"
   ]
  },
  {
   "cell_type": "code",
   "execution_count": 95,
   "id": "05f755ea",
   "metadata": {
    "pycharm": {
     "name": "#%%\n"
    }
   },
   "outputs": [
    {
     "data": {
      "text/plain": "[(2, -2), (-5, 5), (6, -6), (-2, 2)]"
     },
     "execution_count": 95,
     "metadata": {},
     "output_type": "execute_result"
    }
   ],
   "source": [
    "# find all pairs sum of which equals 0\n",
    "list1 = [2, 4, -5, 6, 8, -2]\n",
    "list2 = [2, -6, 8, 3, 5, -2]\n",
    "pairs = []\n",
    "for x in list1:\n",
    "    for y in list2:\n",
    "        cur_sum = x + y\n",
    "        if cur_sum == 0:\n",
    "            pairs.append((x, y))\n",
    "pairs"
   ]
  },
  {
   "cell_type": "code",
   "execution_count": 96,
   "id": "af0cf7bc",
   "metadata": {
    "pycharm": {
     "name": "#%%\n"
    }
   },
   "outputs": [
    {
     "data": {
      "text/plain": "['h', 'e', 'l', 'l', 'o', ' ', 'w', 'o', 'r', 'l', 'd']"
     },
     "execution_count": 96,
     "metadata": {},
     "output_type": "execute_result"
    }
   ],
   "source": [
    "greeting = 'hello world'\n",
    "chars = []\n",
    "for l in greeting:\n",
    "    chars.append(l)\n",
    "chars"
   ]
  },
  {
   "cell_type": "code",
   "execution_count": 97,
   "id": "a34a40ad",
   "metadata": {
    "pycharm": {
     "name": "#%%\n"
    }
   },
   "outputs": [
    {
     "data": {
      "text/plain": "['h', 'e', 'l', 'l', 'o', ' ', 'w', 'o', 'r', 'l', 'd']"
     },
     "execution_count": 97,
     "metadata": {},
     "output_type": "execute_result"
    }
   ],
   "source": [
    "chars = [l for l in greeting]\n",
    "chars"
   ]
  },
  {
   "cell_type": "code",
   "execution_count": 98,
   "id": "257fd0ed",
   "metadata": {
    "pycharm": {
     "name": "#%%\n"
    }
   },
   "outputs": [
    {
     "data": {
      "text/plain": "[0, 1, 2, 3, 4, 5, 6, 7, 8, 9, 10]"
     },
     "execution_count": 98,
     "metadata": {},
     "output_type": "execute_result"
    }
   ],
   "source": [
    "numbers = [0, 1, 2, 3, 4, 5, 6, 7, 8, 9, 10]\n",
    "numbers"
   ]
  },
  {
   "cell_type": "code",
   "execution_count": 99,
   "id": "1960b8db",
   "metadata": {
    "pycharm": {
     "name": "#%%\n"
    }
   },
   "outputs": [
    {
     "data": {
      "text/plain": "[0, 1, 2, 3, 4, 5, 6, 7, 8, 9, 10]"
     },
     "execution_count": 99,
     "metadata": {},
     "output_type": "execute_result"
    }
   ],
   "source": [
    "numbers = [n for n in range(0, 11)]\n",
    "numbers"
   ]
  },
  {
   "cell_type": "code",
   "execution_count": 100,
   "id": "0459a6fd",
   "metadata": {
    "pycharm": {
     "name": "#%%\n"
    }
   },
   "outputs": [
    {
     "data": {
      "text/plain": "[0, 1, 4, 9, 16, 25, 36, 49, 64, 81, 100]"
     },
     "execution_count": 100,
     "metadata": {},
     "output_type": "execute_result"
    }
   ],
   "source": [
    "numbers = [n * n for n in range(0, 11)]\n",
    "numbers"
   ]
  },
  {
   "cell_type": "code",
   "execution_count": 101,
   "id": "f0db6a26",
   "metadata": {
    "pycharm": {
     "name": "#%%\n"
    }
   },
   "outputs": [
    {
     "data": {
      "text/plain": "[1, 9, 25, 49, 81]"
     },
     "execution_count": 101,
     "metadata": {},
     "output_type": "execute_result"
    }
   ],
   "source": [
    "numbers = [n * n for n in range(0, 11) if n % 2 != 0]\n",
    "numbers"
   ]
  },
  {
   "cell_type": "code",
   "execution_count": 102,
   "id": "43a9640c",
   "metadata": {
    "pycharm": {
     "name": "#%%\n"
    }
   },
   "outputs": [
    {
     "data": {
      "text/plain": "[4.72, 3.94, 21.26, 48.82, 25.2]"
     },
     "execution_count": 102,
     "metadata": {},
     "output_type": "execute_result"
    }
   ],
   "source": [
    "len_in_centimeters = [12, 10, 54, 124, 64]\n",
    "\n",
    "len_in_inches = [(round(cm / 2.54, 2)) for cm in len_in_centimeters]\n",
    "len_in_inches"
   ]
  },
  {
   "cell_type": "code",
   "execution_count": 103,
   "id": "3587582e",
   "metadata": {
    "pycharm": {
     "name": "#%%\n"
    }
   },
   "outputs": [
    {
     "data": {
      "text/plain": "['MM', 'Gm', 'MM', 'Gm', 'MM', 'Gm']"
     },
     "execution_count": 103,
     "metadata": {},
     "output_type": "execute_result"
    }
   ],
   "source": [
    "ratings = [2485, 2580, 2480, 2600, 2482, 2520]\n",
    "titles = ['Gm' if x >= 2500 else 'MM' for x in ratings]\n",
    "titles"
   ]
  },
  {
   "cell_type": "code",
   "execution_count": 104,
   "id": "910612e8",
   "metadata": {
    "pycharm": {
     "name": "#%%\n"
    }
   },
   "outputs": [
    {
     "name": "stdout",
     "output_type": "stream",
     "text": [
      "x equals0\n",
      "x equals1\n",
      "x equals2\n"
     ]
    }
   ],
   "source": [
    "x = 0\n",
    "while x < 3:\n",
    "    print(f'x equals{x}')\n",
    "    x += 1\n"
   ]
  },
  {
   "cell_type": "code",
   "execution_count": 105,
   "id": "1b37c9fc",
   "metadata": {
    "pycharm": {
     "name": "#%%\n"
    }
   },
   "outputs": [
    {
     "name": "stdout",
     "output_type": "stream",
     "text": [
      "x equals0\n",
      "x equals1\n",
      "x equals2\n",
      "Condition is not met\n"
     ]
    }
   ],
   "source": [
    "x = 0\n",
    "while x < 3:\n",
    "    print(f'x equals{x}')\n",
    "    x += 1\n",
    "else:\n",
    "    print('Condition is not met')"
   ]
  },
  {
   "cell_type": "code",
   "execution_count": 106,
   "id": "9f85bd85",
   "metadata": {
    "pycharm": {
     "name": "#%%\n"
    }
   },
   "outputs": [
    {
     "data": {
      "text/plain": "16"
     },
     "execution_count": 106,
     "metadata": {},
     "output_type": "execute_result"
    }
   ],
   "source": [
    "vals = [1, 2, 3, 4, 5, 6, 7, 8, 9]\n",
    "summ = 0\n",
    "for v in vals:\n",
    "    if v % 2 == 0:\n",
    "        continue\n",
    "    else:\n",
    "        summ += v\n",
    "    if summ > 10:\n",
    "        break\n",
    "summ"
   ]
  },
  {
   "cell_type": "code",
   "execution_count": 107,
   "id": "c01a3ecf",
   "metadata": {
    "pycharm": {
     "name": "#%%\n"
    }
   },
   "outputs": [],
   "source": [
    "for v in vals:\n",
    "    pass"
   ]
  },
  {
   "cell_type": "code",
   "execution_count": 108,
   "id": "6c078c7e",
   "metadata": {
    "pycharm": {
     "name": "#%%\n"
    }
   },
   "outputs": [
    {
     "name": "stdout",
     "output_type": "stream",
     "text": [
      "Help on built-in function append:\n",
      "\n",
      "append(object, /) method of builtins.list instance\n",
      "    Append object to the end of the list.\n",
      "\n"
     ]
    }
   ],
   "source": [
    "numbers = [1, 2, 3]\n",
    "numbers.append(4)\n",
    "help(numbers.append)"
   ]
  },
  {
   "cell_type": "code",
   "execution_count": 109,
   "id": "64bcc5b3",
   "metadata": {
    "pycharm": {
     "name": "#%%\n"
    }
   },
   "outputs": [
    {
     "data": {
      "text/plain": "1"
     },
     "execution_count": 109,
     "metadata": {},
     "output_type": "execute_result"
    }
   ],
   "source": [
    "abs(-1)"
   ]
  },
  {
   "cell_type": "code",
   "execution_count": 110,
   "id": "016c1175",
   "metadata": {
    "pycharm": {
     "name": "#%%\n"
    }
   },
   "outputs": [
    {
     "data": {
      "text/plain": "1"
     },
     "execution_count": 110,
     "metadata": {},
     "output_type": "execute_result"
    }
   ],
   "source": [
    "abs(1)"
   ]
  },
  {
   "cell_type": "code",
   "execution_count": 111,
   "id": "726c346d",
   "metadata": {
    "pycharm": {
     "name": "#%%\n"
    }
   },
   "outputs": [
    {
     "data": {
      "text/plain": "5"
     },
     "execution_count": 111,
     "metadata": {},
     "output_type": "execute_result"
    }
   ],
   "source": [
    "max(1, 2, 3, 4, 5)"
   ]
  },
  {
   "cell_type": "code",
   "execution_count": 112,
   "id": "c152d7a1",
   "metadata": {
    "pycharm": {
     "name": "#%%\n"
    }
   },
   "outputs": [
    {
     "data": {
      "text/plain": "1"
     },
     "execution_count": 112,
     "metadata": {},
     "output_type": "execute_result"
    }
   ],
   "source": [
    "min([1, 2, 3, 4, 5])"
   ]
  },
  {
   "cell_type": "code",
   "execution_count": 113,
   "id": "64387d9c",
   "metadata": {
    "pycharm": {
     "name": "#%%\n"
    }
   },
   "outputs": [
    {
     "data": {
      "text/plain": "256"
     },
     "execution_count": 113,
     "metadata": {},
     "output_type": "execute_result"
    }
   ],
   "source": [
    "pow(2, 8)"
   ]
  },
  {
   "cell_type": "code",
   "execution_count": 114,
   "id": "ec622a2f",
   "metadata": {
    "pycharm": {
     "name": "#%%\n"
    }
   },
   "outputs": [
    {
     "data": {
      "text/plain": "3.4"
     },
     "execution_count": 114,
     "metadata": {},
     "output_type": "execute_result"
    }
   ],
   "source": [
    "round(3.37, 1)"
   ]
  },
  {
   "cell_type": "code",
   "execution_count": 115,
   "id": "1c17fae5",
   "metadata": {
    "pycharm": {
     "name": "#%%\n"
    }
   },
   "outputs": [
    {
     "data": {
      "text/plain": "15"
     },
     "execution_count": 115,
     "metadata": {},
     "output_type": "execute_result"
    }
   ],
   "source": [
    "t = sum([1, 2, 3, 4, 5])\n",
    "t"
   ]
  },
  {
   "cell_type": "code",
   "execution_count": 116,
   "id": "4d1a4ce5",
   "metadata": {
    "pycharm": {
     "name": "#%%\n"
    }
   },
   "outputs": [
    {
     "name": "stdout",
     "output_type": "stream",
     "text": [
      "0x2a\n",
      "0o52\n",
      "0b101010\n"
     ]
    }
   ],
   "source": [
    "h = hex(42)\n",
    "o = oct(42)\n",
    "b = bin(42)\n",
    "\n",
    "print(h)\n",
    "print(o)\n",
    "print(b)"
   ]
  },
  {
   "cell_type": "code",
   "execution_count": 117,
   "id": "13285d19",
   "metadata": {
    "pycharm": {
     "name": "#%%\n"
    }
   },
   "outputs": [
    {
     "name": "stdout",
     "output_type": "stream",
     "text": [
      "True\n",
      "False\n"
     ]
    }
   ],
   "source": [
    "all_true1 = all([True, True, True])\n",
    "all_true2 = all([True, True, False])\n",
    "print(all_true1)\n",
    "print(all_true2)"
   ]
  },
  {
   "cell_type": "code",
   "execution_count": 118,
   "id": "27739c5c",
   "metadata": {
    "pycharm": {
     "name": "#%%\n"
    }
   },
   "outputs": [],
   "source": [
    "players = [('Carlsen', 2842), ('Caruana', 2822), ('Mamedyarov', 2801), ('Ding', 2797), ('Giri', 2780)]"
   ]
  },
  {
   "cell_type": "code",
   "execution_count": 119,
   "id": "88f698f7",
   "metadata": {
    "pycharm": {
     "name": "#%%\n"
    }
   },
   "outputs": [
    {
     "data": {
      "text/plain": "True"
     },
     "execution_count": 119,
     "metadata": {},
     "output_type": "execute_result"
    }
   ],
   "source": [
    "all(rating > 2700 for _, rating in players)"
   ]
  },
  {
   "cell_type": "code",
   "execution_count": 120,
   "id": "53ebe73b",
   "metadata": {
    "pycharm": {
     "name": "#%%\n"
    }
   },
   "outputs": [
    {
     "data": {
      "text/plain": "False"
     },
     "execution_count": 120,
     "metadata": {},
     "output_type": "execute_result"
    }
   ],
   "source": [
    "all(rating > 2800 for _, rating in players)"
   ]
  },
  {
   "cell_type": "code",
   "execution_count": 121,
   "id": "f6a49cb9",
   "metadata": {
    "pycharm": {
     "name": "#%%\n"
    }
   },
   "outputs": [
    {
     "data": {
      "text/plain": "False"
     },
     "execution_count": 121,
     "metadata": {},
     "output_type": "execute_result"
    }
   ],
   "source": [
    "#Работает медленнее, сначала будет список булевых значений\n",
    "all([rating > 2800 for _, rating in players])"
   ]
  },
  {
   "cell_type": "code",
   "execution_count": 122,
   "id": "8ea193fd",
   "metadata": {
    "pycharm": {
     "name": "#%%\n"
    }
   },
   "outputs": [
    {
     "name": "stdout",
     "output_type": "stream",
     "text": [
      "True\n",
      "False\n"
     ]
    }
   ],
   "source": [
    "any_true1 = any([False, False, True])\n",
    "any_true2 = any([False, False, False])\n",
    "print(any_true1)\n",
    "print(any_true2)"
   ]
  },
  {
   "cell_type": "code",
   "execution_count": 123,
   "id": "37abfe9f",
   "metadata": {
    "pycharm": {
     "name": "#%%\n"
    }
   },
   "outputs": [
    {
     "name": "stdout",
     "output_type": "stream",
     "text": [
      "<class 'zip'>\n",
      "<zip object at 0x000002B2A7857500>\n"
     ]
    }
   ],
   "source": [
    "letters = 'abcd'\n",
    "numbers = (10, 20, 30)\n",
    "\n",
    "zipped = zip(letters, numbers)\n",
    "print(type(zipped))\n",
    "print(zipped)"
   ]
  },
  {
   "cell_type": "code",
   "execution_count": 124,
   "id": "483923c3",
   "metadata": {
    "pycharm": {
     "name": "#%%\n"
    }
   },
   "outputs": [
    {
     "name": "stdout",
     "output_type": "stream",
     "text": [
      "[('a', 10), ('b', 20), ('c', 30)]\n"
     ]
    }
   ],
   "source": [
    "zipped_list = list(zipped)\n",
    "print(zipped_list)"
   ]
  },
  {
   "cell_type": "code",
   "execution_count": 125,
   "id": "6ae53cca",
   "metadata": {
    "pycharm": {
     "name": "#%%\n"
    }
   },
   "outputs": [
    {
     "data": {
      "text/plain": "{'Carlsen': 2842,\n 'Caruana': 2822,\n 'Mamedyarov': 2801,\n 'Ding': 2797,\n 'Giri': 2780}"
     },
     "execution_count": 125,
     "metadata": {},
     "output_type": "execute_result"
    }
   ],
   "source": [
    "names = ['Carlsen', 'Caruana', 'Mamedyarov', 'Ding', 'Giri']\n",
    "ratings = [2842, 2822, 2801, 2797, 2780]\n",
    "players = dict(zip(names, ratings))\n",
    "players"
   ]
  },
  {
   "cell_type": "code",
   "execution_count": 126,
   "id": "7193728f",
   "metadata": {
    "pycharm": {
     "name": "#%%\n"
    }
   },
   "outputs": [
    {
     "data": {
      "text/plain": "97"
     },
     "execution_count": 126,
     "metadata": {},
     "output_type": "execute_result"
    }
   ],
   "source": [
    "code = ord('a')\n",
    "code"
   ]
  },
  {
   "cell_type": "code",
   "execution_count": 127,
   "id": "f75440cc",
   "metadata": {
    "pycharm": {
     "name": "#%%\n"
    }
   },
   "outputs": [
    {
     "data": {
      "text/plain": "'a'"
     },
     "execution_count": 127,
     "metadata": {},
     "output_type": "execute_result"
    }
   ],
   "source": [
    "c = chr(code)\n",
    "c"
   ]
  },
  {
   "cell_type": "code",
   "execution_count": 128,
   "id": "41d98454",
   "metadata": {
    "pycharm": {
     "name": "#%%\n"
    }
   },
   "outputs": [],
   "source": [
    "def greeting():\n",
    "    print('Hello')\n"
   ]
  },
  {
   "cell_type": "code",
   "execution_count": 129,
   "id": "f2a0bdaf",
   "metadata": {
    "pycharm": {
     "name": "#%%\n"
    }
   },
   "outputs": [
    {
     "name": "stdout",
     "output_type": "stream",
     "text": [
      "Hello\n"
     ]
    }
   ],
   "source": [
    "greeting()"
   ]
  },
  {
   "cell_type": "code",
   "execution_count": 130,
   "id": "7118a407",
   "metadata": {
    "pycharm": {
     "name": "#%%\n"
    }
   },
   "outputs": [
    {
     "data": {
      "text/plain": "<function __main__.greeting()>"
     },
     "execution_count": 130,
     "metadata": {},
     "output_type": "execute_result"
    }
   ],
   "source": [
    "greeting"
   ]
  },
  {
   "cell_type": "code",
   "execution_count": 131,
   "id": "73c4454a",
   "metadata": {
    "pycharm": {
     "name": "#%%\n"
    }
   },
   "outputs": [
    {
     "name": "stdout",
     "output_type": "stream",
     "text": [
      "Help on function greeting in module __main__:\n",
      "\n",
      "greeting()\n",
      "\n"
     ]
    }
   ],
   "source": [
    "help(greeting)"
   ]
  },
  {
   "cell_type": "code",
   "execution_count": 132,
   "id": "68b0e1ce",
   "metadata": {
    "pycharm": {
     "name": "#%%\n"
    }
   },
   "outputs": [],
   "source": [
    "def print_name(name='Default'):\n",
    "    print(name)"
   ]
  },
  {
   "cell_type": "code",
   "execution_count": 133,
   "id": "ce5b2bf4",
   "metadata": {
    "pycharm": {
     "name": "#%%\n"
    }
   },
   "outputs": [
    {
     "name": "stdout",
     "output_type": "stream",
     "text": [
      "Marat\n"
     ]
    }
   ],
   "source": [
    "print_name('Marat')"
   ]
  },
  {
   "cell_type": "code",
   "execution_count": 134,
   "id": "51b8061c",
   "metadata": {
    "pycharm": {
     "name": "#%%\n"
    }
   },
   "outputs": [
    {
     "name": "stdout",
     "output_type": "stream",
     "text": [
      "Default\n"
     ]
    }
   ],
   "source": [
    "print_name()"
   ]
  },
  {
   "cell_type": "code",
   "execution_count": 135,
   "id": "d1f1ce11",
   "metadata": {
    "pycharm": {
     "name": "#%%\n"
    }
   },
   "outputs": [
    {
     "name": "stdout",
     "output_type": "stream",
     "text": [
      "Default\n",
      "None\n",
      "<class 'NoneType'>\n"
     ]
    }
   ],
   "source": [
    "result = print_name()\n",
    "print(result)\n",
    "print(type(result))"
   ]
  },
  {
   "cell_type": "code",
   "execution_count": 136,
   "id": "1e42b697",
   "metadata": {
    "pycharm": {
     "name": "#%%\n"
    }
   },
   "outputs": [
    {
     "data": {
      "text/plain": "'Hello Marat'"
     },
     "execution_count": 136,
     "metadata": {},
     "output_type": "execute_result"
    }
   ],
   "source": [
    "def get_greeting(name):\n",
    "    return 'Hello ' + name\n",
    "\n",
    "\n",
    "greeting = get_greeting('Marat')\n",
    "greeting"
   ]
  },
  {
   "cell_type": "code",
   "execution_count": 137,
   "id": "583861bd",
   "metadata": {
    "pycharm": {
     "name": "#%%\n"
    }
   },
   "outputs": [
    {
     "data": {
      "text/plain": "15"
     },
     "execution_count": 137,
     "metadata": {},
     "output_type": "execute_result"
    }
   ],
   "source": [
    "def get_sum(a, b):\n",
    "    return a + b\n",
    "\n",
    "\n",
    "result = get_sum(10, 5)\n",
    "result"
   ]
  },
  {
   "cell_type": "code",
   "execution_count": 138,
   "id": "034a1582",
   "metadata": {
    "pycharm": {
     "name": "#%%\n"
    }
   },
   "outputs": [
    {
     "data": {
      "text/plain": "True"
     },
     "execution_count": 138,
     "metadata": {},
     "output_type": "execute_result"
    }
   ],
   "source": [
    "def is_adult(age):\n",
    "    return age >= 18\n",
    "\n",
    "\n",
    "is_adult = is_adult(20)\n",
    "is_adult"
   ]
  },
  {
   "cell_type": "code",
   "execution_count": 139,
   "id": "8148d9a6",
   "metadata": {
    "pycharm": {
     "name": "#%%\n"
    }
   },
   "outputs": [
    {
     "name": "stdout",
     "output_type": "stream",
     "text": [
      "True\n",
      "False\n"
     ]
    }
   ],
   "source": [
    "def is_palindrome(text):\n",
    "    return text == text[::-1]\n",
    "\n",
    "\n",
    "print(is_palindrome('aabaa'))\n",
    "print(is_palindrome('aabba'))\n"
   ]
  },
  {
   "cell_type": "code",
   "execution_count": 140,
   "id": "96ff85ce",
   "metadata": {
    "pycharm": {
     "name": "#%%\n"
    }
   },
   "outputs": [],
   "source": [
    "def calc_taxes(p1, p2, p3):\n",
    "    return sum((p1, p2, p3)) * 0.06\n"
   ]
  },
  {
   "cell_type": "code",
   "execution_count": 141,
   "id": "3eb42aed",
   "metadata": {
    "pycharm": {
     "name": "#%%\n"
    }
   },
   "outputs": [
    {
     "data": {
      "text/plain": "3.5999999999999996"
     },
     "execution_count": 141,
     "metadata": {},
     "output_type": "execute_result"
    }
   ],
   "source": [
    "calc_taxes(10, 20, 30)"
   ]
  },
  {
   "cell_type": "code",
   "execution_count": 142,
   "id": "748c516c",
   "metadata": {
    "pycharm": {
     "name": "#%%\n"
    }
   },
   "outputs": [],
   "source": [
    "def calc_taxes(*args):\n",
    "    for x in args:\n",
    "        print(f'Got payment = {x}')\n",
    "    return sum(args) * 0.06"
   ]
  },
  {
   "cell_type": "code",
   "execution_count": 143,
   "id": "02da6037",
   "metadata": {
    "pycharm": {
     "name": "#%%\n"
    }
   },
   "outputs": [
    {
     "name": "stdout",
     "output_type": "stream",
     "text": [
      "Got payment = 10\n",
      "Got payment = 20\n",
      "Got payment = 30\n"
     ]
    },
    {
     "data": {
      "text/plain": "3.5999999999999996"
     },
     "execution_count": 143,
     "metadata": {},
     "output_type": "execute_result"
    }
   ],
   "source": [
    "calc_taxes(10, 20, 30)"
   ]
  },
  {
   "cell_type": "code",
   "execution_count": 144,
   "id": "bb3304e0",
   "metadata": {
    "pycharm": {
     "name": "#%%\n"
    }
   },
   "outputs": [
    {
     "name": "stdout",
     "output_type": "stream",
     "text": [
      "Got payment = 10\n",
      "Got payment = 20\n",
      "Got payment = 30\n",
      "Got payment = 40\n"
     ]
    },
    {
     "data": {
      "text/plain": "6.0"
     },
     "execution_count": 144,
     "metadata": {},
     "output_type": "execute_result"
    }
   ],
   "source": [
    "calc_taxes(10, 20, 30, 40)"
   ]
  },
  {
   "cell_type": "code",
   "execution_count": 145,
   "id": "97824e0d",
   "metadata": {
    "pycharm": {
     "name": "#%%\n"
    }
   },
   "outputs": [
    {
     "name": "stdout",
     "output_type": "stream",
     "text": [
      "Player Carlse has rating 2800\n",
      "Player Giri has rating 2780\n"
     ]
    }
   ],
   "source": [
    "def save_players(**kwargs):\n",
    "    for k, v in kwargs.items():\n",
    "        print(f'Player {k} has rating {v}')\n",
    "\n",
    "\n",
    "save_players(Carlse=2800, Giri=2780)"
   ]
  },
  {
   "cell_type": "code",
   "execution_count": 146,
   "id": "87e83fbd",
   "metadata": {
    "pycharm": {
     "name": "#%%\n"
    }
   },
   "outputs": [],
   "source": [
    "def square(*args):\n",
    "    return [x * x for x in args]\n"
   ]
  },
  {
   "cell_type": "code",
   "execution_count": 147,
   "id": "e850664f",
   "metadata": {
    "pycharm": {
     "name": "#%%\n"
    }
   },
   "outputs": [
    {
     "data": {
      "text/plain": "[1, 4, 9, 16, 25]"
     },
     "execution_count": 147,
     "metadata": {},
     "output_type": "execute_result"
    }
   ],
   "source": [
    "result = square(1, 2, 3, 4, 5)\n",
    "result"
   ]
  },
  {
   "cell_type": "code",
   "execution_count": 148,
   "id": "9a20363e",
   "metadata": {
    "pycharm": {
     "name": "#%%\n"
    }
   },
   "outputs": [],
   "source": [
    "def triple(*args):\n",
    "    return [x * 3 for x in args]\n"
   ]
  },
  {
   "cell_type": "code",
   "execution_count": 149,
   "id": "3e34aac5",
   "metadata": {
    "pycharm": {
     "name": "#%%\n"
    }
   },
   "outputs": [
    {
     "data": {
      "text/plain": "[3, 6, 9, 12, 15]"
     },
     "execution_count": 149,
     "metadata": {},
     "output_type": "execute_result"
    }
   ],
   "source": [
    "result = triple(1, 2, 3, 4, 5)\n",
    "result"
   ]
  },
  {
   "cell_type": "code",
   "execution_count": 150,
   "id": "bbfc88bf",
   "metadata": {
    "pycharm": {
     "name": "#%%\n"
    }
   },
   "outputs": [],
   "source": [
    "def square(number):\n",
    "    return number * number\n",
    "\n",
    "\n",
    "numbers = [1, 2, 3, 4, 5]\n",
    "mapped_seq = map(square, numbers)"
   ]
  },
  {
   "cell_type": "code",
   "execution_count": 151,
   "id": "fe46ab1a",
   "metadata": {
    "pycharm": {
     "name": "#%%\n"
    }
   },
   "outputs": [
    {
     "name": "stdout",
     "output_type": "stream",
     "text": [
      "1\n",
      "4\n",
      "9\n",
      "16\n",
      "25\n"
     ]
    }
   ],
   "source": [
    "for x in mapped_seq:\n",
    "    print(x)"
   ]
  },
  {
   "cell_type": "code",
   "execution_count": 152,
   "id": "54f13b9f",
   "metadata": {
    "pycharm": {
     "name": "#%%\n"
    }
   },
   "outputs": [
    {
     "name": "stdout",
     "output_type": "stream",
     "text": [
      "<class 'map'>\n"
     ]
    }
   ],
   "source": [
    "print(type(mapped_seq))"
   ]
  },
  {
   "cell_type": "code",
   "execution_count": 153,
   "id": "200e3cd8",
   "metadata": {
    "pycharm": {
     "name": "#%%\n"
    }
   },
   "outputs": [
    {
     "data": {
      "text/plain": "[1, 4, 9, 16, 25]"
     },
     "execution_count": 153,
     "metadata": {},
     "output_type": "execute_result"
    }
   ],
   "source": [
    "list(map(square, numbers))"
   ]
  },
  {
   "cell_type": "code",
   "execution_count": 154,
   "id": "42621b95",
   "metadata": {
    "pycharm": {
     "name": "#%%\n"
    }
   },
   "outputs": [],
   "source": [
    "def is_adult(age):\n",
    "    return age >= 18\n",
    "\n",
    "\n",
    "ages = [14, 18, 21, 16, 30]"
   ]
  },
  {
   "cell_type": "code",
   "execution_count": 155,
   "id": "82668612",
   "metadata": {
    "pycharm": {
     "name": "#%%\n"
    }
   },
   "outputs": [
    {
     "data": {
      "text/plain": "<filter at 0x2b2a7875c40>"
     },
     "execution_count": 155,
     "metadata": {},
     "output_type": "execute_result"
    }
   ],
   "source": [
    "filter(is_adult, ages)"
   ]
  },
  {
   "cell_type": "code",
   "execution_count": 156,
   "id": "9ea0e7ba",
   "metadata": {
    "pycharm": {
     "name": "#%%\n"
    }
   },
   "outputs": [
    {
     "data": {
      "text/plain": "[18, 21, 30]"
     },
     "execution_count": 156,
     "metadata": {},
     "output_type": "execute_result"
    }
   ],
   "source": [
    "list(filter(is_adult, ages))"
   ]
  },
  {
   "cell_type": "code",
   "execution_count": 157,
   "id": "0ec4bb0e",
   "metadata": {
    "pycharm": {
     "name": "#%%\n"
    }
   },
   "outputs": [
    {
     "data": {
      "text/plain": "[18, 21, 30]"
     },
     "execution_count": 157,
     "metadata": {},
     "output_type": "execute_result"
    }
   ],
   "source": [
    "is_adult = lambda age: age >= 18\n",
    "list(filter(is_adult, ages))"
   ]
  },
  {
   "cell_type": "code",
   "execution_count": 158,
   "id": "e2724918",
   "metadata": {
    "pycharm": {
     "name": "#%%\n"
    }
   },
   "outputs": [
    {
     "data": {
      "text/plain": "[18, 21, 30]"
     },
     "execution_count": 158,
     "metadata": {},
     "output_type": "execute_result"
    }
   ],
   "source": [
    "list(filter(lambda age: age >= 18, ages))"
   ]
  },
  {
   "cell_type": "code",
   "execution_count": 159,
   "id": "fb69e2ef",
   "metadata": {
    "pycharm": {
     "name": "#%%\n"
    }
   },
   "outputs": [],
   "source": [
    "multiplier = lambda x, y: x * y"
   ]
  },
  {
   "cell_type": "code",
   "execution_count": 160,
   "id": "78259830",
   "metadata": {
    "pycharm": {
     "name": "#%%\n"
    }
   },
   "outputs": [
    {
     "data": {
      "text/plain": "400"
     },
     "execution_count": 160,
     "metadata": {},
     "output_type": "execute_result"
    }
   ],
   "source": [
    "multiplier(20, 20)"
   ]
  },
  {
   "cell_type": "code",
   "execution_count": 161,
   "id": "abd5e2e6",
   "metadata": {
    "pycharm": {
     "name": "#%%\n"
    }
   },
   "outputs": [
    {
     "name": "stdout",
     "output_type": "stream",
     "text": [
      "Hello, world!\n"
     ]
    }
   ],
   "source": [
    "def hello_world():\n",
    "    print('Hello, world!')\n",
    "\n",
    "\n",
    "hello_world()"
   ]
  },
  {
   "cell_type": "code",
   "execution_count": 162,
   "id": "54bfdea2",
   "metadata": {
    "pycharm": {
     "name": "#%%\n"
    }
   },
   "outputs": [
    {
     "name": "stdout",
     "output_type": "stream",
     "text": [
      "Hello, world!\n"
     ]
    }
   ],
   "source": [
    "hello2 = hello_world()\n",
    "hello2"
   ]
  },
  {
   "cell_type": "code",
   "execution_count": 163,
   "id": "479373ec",
   "metadata": {
    "pycharm": {
     "name": "#%%\n"
    }
   },
   "outputs": [],
   "source": [
    "def hello_world():\n",
    "    def internal():\n",
    "        print('Hello, world!')\n",
    "\n",
    "    return internal"
   ]
  },
  {
   "cell_type": "code",
   "execution_count": 164,
   "id": "1f961ff7",
   "metadata": {
    "pycharm": {
     "name": "#%%\n"
    }
   },
   "outputs": [
    {
     "data": {
      "text/plain": "<function __main__.hello_world.<locals>.internal()>"
     },
     "execution_count": 164,
     "metadata": {},
     "output_type": "execute_result"
    }
   ],
   "source": [
    "hello2 = hello_world()\n",
    "hello2"
   ]
  },
  {
   "cell_type": "code",
   "execution_count": 165,
   "id": "e87b2490",
   "metadata": {
    "pycharm": {
     "name": "#%%\n"
    }
   },
   "outputs": [
    {
     "name": "stdout",
     "output_type": "stream",
     "text": [
      "Hello, world!\n"
     ]
    }
   ],
   "source": [
    "def say_something(func):\n",
    "    func()\n",
    "\n",
    "\n",
    "def hello_world():\n",
    "    print(\"Hello, world!\")\n",
    "\n",
    "\n",
    "say_something(hello_world)"
   ]
  },
  {
   "cell_type": "code",
   "execution_count": 166,
   "id": "6998c4c8",
   "metadata": {
    "pycharm": {
     "name": "#%%\n"
    }
   },
   "outputs": [],
   "source": [
    "def log_decorator(func):\n",
    "    def wrap():\n",
    "        print(f' Calling func {func}')\n",
    "        func()\n",
    "        print(f'Func {func} finished its work')\n",
    "\n",
    "    return wrap"
   ]
  },
  {
   "cell_type": "code",
   "execution_count": 167,
   "id": "6cdc225e",
   "metadata": {
    "pycharm": {
     "name": "#%%\n"
    }
   },
   "outputs": [],
   "source": [
    "def hello():\n",
    "    print('hello, world')"
   ]
  },
  {
   "cell_type": "code",
   "execution_count": 168,
   "id": "335da24a",
   "metadata": {
    "pycharm": {
     "name": "#%%\n"
    }
   },
   "outputs": [
    {
     "name": "stdout",
     "output_type": "stream",
     "text": [
      " Calling func <function hello at 0x000002B2A78884C0>\n",
      "hello, world\n",
      "Func <function hello at 0x000002B2A78884C0> finished its work\n"
     ]
    }
   ],
   "source": [
    "wrapped_by_logger = log_decorator(hello)\n",
    "wrapped_by_logger()"
   ]
  },
  {
   "cell_type": "code",
   "execution_count": 169,
   "id": "be51abb8",
   "metadata": {
    "pycharm": {
     "name": "#%%\n"
    }
   },
   "outputs": [],
   "source": [
    "@log_decorator\n",
    "def hello():\n",
    "    print('hello, world!')"
   ]
  },
  {
   "cell_type": "code",
   "execution_count": 170,
   "id": "98c0c1b9",
   "metadata": {
    "pycharm": {
     "name": "#%%\n"
    }
   },
   "outputs": [
    {
     "name": "stdout",
     "output_type": "stream",
     "text": [
      " Calling func <function hello at 0x000002B2A7888C10>\n",
      "hello, world!\n",
      "Func <function hello at 0x000002B2A7888C10> finished its work\n"
     ]
    }
   ],
   "source": [
    "hello()"
   ]
  },
  {
   "cell_type": "code",
   "execution_count": 171,
   "id": "1334477f",
   "metadata": {
    "pycharm": {
     "name": "#%%\n"
    }
   },
   "outputs": [],
   "source": [
    "def log_decorator(func):\n",
    "    def wrap():\n",
    "        print(f'Calling func {func}')\n",
    "        func()\n",
    "        print(f'Func {func} finished its work')\n",
    "\n",
    "    return wrap"
   ]
  },
  {
   "cell_type": "code",
   "execution_count": 172,
   "id": "1f02b299",
   "metadata": {
    "pycharm": {
     "name": "#%%\n"
    }
   },
   "outputs": [],
   "source": [
    "@log_decorator\n",
    "def hello():\n",
    "    print('hello, world!')"
   ]
  },
  {
   "cell_type": "code",
   "execution_count": 173,
   "id": "57fe81bb",
   "metadata": {
    "pycharm": {
     "name": "#%%\n"
    }
   },
   "outputs": [
    {
     "name": "stdout",
     "output_type": "stream",
     "text": [
      "Calling func <function hello at 0x000002B2A67DA700>\n",
      "hello, world!\n",
      "Func <function hello at 0x000002B2A67DA700> finished its work\n"
     ]
    }
   ],
   "source": [
    "hello()"
   ]
  },
  {
   "cell_type": "code",
   "execution_count": 174,
   "id": "86eb8530",
   "metadata": {
    "pycharm": {
     "name": "#%%\n"
    }
   },
   "outputs": [
    {
     "name": "stdout",
     "output_type": "stream",
     "text": [
      "Help on function wrap in module __main__:\n",
      "\n",
      "wrap()\n",
      "\n"
     ]
    }
   ],
   "source": [
    "help(hello)"
   ]
  },
  {
   "cell_type": "code",
   "execution_count": 175,
   "id": "e7eb7ddb",
   "metadata": {
    "pycharm": {
     "name": "#%%\n"
    }
   },
   "outputs": [],
   "source": [
    "from functools import wraps"
   ]
  },
  {
   "cell_type": "code",
   "execution_count": 176,
   "id": "cbc2a544",
   "metadata": {
    "pycharm": {
     "name": "#%%\n"
    }
   },
   "outputs": [],
   "source": [
    "def log_decorator(func):\n",
    "    @wraps(func)\n",
    "    def wrap(*args, **kwargs):\n",
    "        print(f'Calling func {func}')\n",
    "        func(*args, **kwargs)\n",
    "        print(f'Func {func} finished its work')\n",
    "\n",
    "    return wrap"
   ]
  },
  {
   "cell_type": "code",
   "execution_count": 177,
   "id": "98454ad2",
   "metadata": {
    "pycharm": {
     "name": "#%%\n"
    }
   },
   "outputs": [],
   "source": [
    "@log_decorator\n",
    "def hello():\n",
    "    print('hello, world!')"
   ]
  },
  {
   "cell_type": "code",
   "execution_count": 178,
   "id": "0491bbbc",
   "metadata": {
    "pycharm": {
     "name": "#%%\n"
    }
   },
   "outputs": [
    {
     "name": "stdout",
     "output_type": "stream",
     "text": [
      "Help on function hello in module __main__:\n",
      "\n",
      "hello()\n",
      "\n"
     ]
    }
   ],
   "source": [
    "help(hello)"
   ]
  },
  {
   "cell_type": "code",
   "execution_count": 179,
   "id": "272fefea",
   "metadata": {
    "pycharm": {
     "name": "#%%\n"
    }
   },
   "outputs": [],
   "source": [
    "class Character():\n",
    "    pass"
   ]
  },
  {
   "cell_type": "code",
   "execution_count": 180,
   "id": "c4baef0f",
   "metadata": {
    "pycharm": {
     "name": "#%%\n"
    }
   },
   "outputs": [
    {
     "data": {
      "text/plain": "__main__.Character"
     },
     "execution_count": 180,
     "metadata": {},
     "output_type": "execute_result"
    }
   ],
   "source": [
    "unit = Character()\n",
    "type(unit)"
   ]
  },
  {
   "cell_type": "code",
   "execution_count": 181,
   "id": "2a4040c1",
   "metadata": {
    "pycharm": {
     "name": "#%%\n"
    }
   },
   "outputs": [],
   "source": [
    "class Character():\n",
    "    def __init__(self, actual_race):\n",
    "        self.character_race = actual_race"
   ]
  },
  {
   "cell_type": "code",
   "execution_count": 182,
   "id": "c34436b0",
   "metadata": {
    "pycharm": {
     "name": "#%%\n"
    }
   },
   "outputs": [
    {
     "data": {
      "text/plain": "__main__.Character"
     },
     "execution_count": 182,
     "metadata": {},
     "output_type": "execute_result"
    }
   ],
   "source": [
    "unit = Character(\"Elf\")\n",
    "type(unit)"
   ]
  },
  {
   "cell_type": "code",
   "execution_count": 183,
   "id": "0c9208e7",
   "metadata": {
    "pycharm": {
     "name": "#%%\n"
    }
   },
   "outputs": [
    {
     "data": {
      "text/plain": "'Elf'"
     },
     "execution_count": 183,
     "metadata": {},
     "output_type": "execute_result"
    }
   ],
   "source": [
    "unit.character_race"
   ]
  },
  {
   "cell_type": "code",
   "execution_count": 184,
   "id": "7e7ed056",
   "metadata": {
    "pycharm": {
     "name": "#%%\n"
    }
   },
   "outputs": [],
   "source": [
    "class Character():\n",
    "    def __init__(self, actual_race, damage=10, armor=20):\n",
    "        self.character_race = actual_race\n",
    "        self.damage = damage\n",
    "        self.armor = armor"
   ]
  },
  {
   "cell_type": "code",
   "execution_count": 185,
   "id": "b659236a",
   "metadata": {
    "pycharm": {
     "name": "#%%\n"
    }
   },
   "outputs": [
    {
     "name": "stdout",
     "output_type": "stream",
     "text": [
      "20\n",
      "40\n"
     ]
    }
   ],
   "source": [
    "unit = Character(\"Elf\", damage=20, armor=40)\n",
    "type(unit)\n",
    "print(unit.damage)\n",
    "print(unit.armor)"
   ]
  },
  {
   "cell_type": "code",
   "execution_count": 186,
   "id": "de94585d",
   "metadata": {
    "pycharm": {
     "name": "#%%\n"
    }
   },
   "outputs": [],
   "source": [
    "class Character():\n",
    "    max_speed = 100\n",
    "    dead_health = 0\n",
    "\n",
    "    def __init__(self, race, damage=10, armor=20):\n",
    "        self.race = race\n",
    "        self.damage = damage\n",
    "        self.armor = armor\n",
    "        self.health = 100\n",
    "\n",
    "    def hit(self, damage):\n",
    "        self.health -= damage\n",
    "\n",
    "    def is_dead(self):\n",
    "        return self.health == Character.dead_health"
   ]
  },
  {
   "cell_type": "code",
   "execution_count": 187,
   "id": "14792237",
   "metadata": {
    "pycharm": {
     "name": "#%%\n"
    }
   },
   "outputs": [
    {
     "name": "stdout",
     "output_type": "stream",
     "text": [
      "Ork\n",
      "100\n"
     ]
    }
   ],
   "source": [
    "unit = Character(\"Ork\")\n",
    "print(unit.race)\n",
    "print(Character.max_speed)"
   ]
  },
  {
   "cell_type": "code",
   "execution_count": 188,
   "id": "394183d7",
   "metadata": {
    "pycharm": {
     "name": "#%%\n"
    }
   },
   "outputs": [
    {
     "name": "stdout",
     "output_type": "stream",
     "text": [
      "80\n"
     ]
    }
   ],
   "source": [
    "unit.hit(20)\n",
    "print(unit.health)"
   ]
  },
  {
   "cell_type": "code",
   "execution_count": 189,
   "id": "7171883c",
   "metadata": {
    "pycharm": {
     "name": "#%%\n"
    }
   },
   "outputs": [
    {
     "data": {
      "text/plain": "False"
     },
     "execution_count": 189,
     "metadata": {},
     "output_type": "execute_result"
    }
   ],
   "source": [
    "unit.is_dead()"
   ]
  },
  {
   "cell_type": "code",
   "execution_count": 190,
   "id": "10d1b420",
   "metadata": {
    "pycharm": {
     "name": "#%%\n"
    }
   },
   "outputs": [],
   "source": [
    "unit.hit(80)"
   ]
  },
  {
   "cell_type": "code",
   "execution_count": 191,
   "id": "28a96a92",
   "metadata": {
    "pycharm": {
     "name": "#%%\n"
    }
   },
   "outputs": [
    {
     "data": {
      "text/plain": "True"
     },
     "execution_count": 191,
     "metadata": {},
     "output_type": "execute_result"
    }
   ],
   "source": [
    "unit.is_dead()"
   ]
  },
  {
   "cell_type": "code",
   "execution_count": 192,
   "id": "1db54e8c",
   "metadata": {
    "pycharm": {
     "name": "#%%\n"
    }
   },
   "outputs": [
    {
     "data": {
      "text/plain": "-200"
     },
     "execution_count": 192,
     "metadata": {},
     "output_type": "execute_result"
    }
   ],
   "source": [
    "unit.health = -200\n",
    "unit.health"
   ]
  },
  {
   "cell_type": "code",
   "execution_count": 193,
   "id": "a79ea324",
   "metadata": {
    "pycharm": {
     "name": "#%%\n"
    }
   },
   "outputs": [],
   "source": [
    "class Character():\n",
    "    MAX_SPEED = 100\n",
    "\n",
    "    def __init__(self, race, damage=10):\n",
    "        self.damage = damage\n",
    "        self.__race = race\n",
    "        self._health = 100\n",
    "        self._current_speed = 20\n",
    "\n",
    "    def hit(self, damage):\n",
    "        self._health -= damage\n",
    "\n",
    "    @property\n",
    "    def health(self):\n",
    "        return self._health\n",
    "\n",
    "    @property\n",
    "    def race(self):\n",
    "        return self.__race\n",
    "\n",
    "    @property\n",
    "    def current_speed(self):\n",
    "        return self._current_speed\n",
    "\n",
    "    @current_speed.setter\n",
    "    def current_speed(self, current_speed):\n",
    "        if current_speed < 0:\n",
    "            self._current_speed = 0\n",
    "        elif current_speed > 100:\n",
    "            self._current_speed = 100\n",
    "        else:\n",
    "            self._current_speed = current_speed\n"
   ]
  },
  {
   "cell_type": "code",
   "execution_count": 194,
   "id": "2c03e62e",
   "metadata": {
    "pycharm": {
     "name": "#%%\n"
    }
   },
   "outputs": [
    {
     "data": {
      "text/plain": "100"
     },
     "execution_count": 194,
     "metadata": {},
     "output_type": "execute_result"
    }
   ],
   "source": [
    "Character.MAX_SPEED"
   ]
  },
  {
   "cell_type": "code",
   "execution_count": 195,
   "id": "53fb23af",
   "metadata": {
    "pycharm": {
     "name": "#%%\n"
    }
   },
   "outputs": [
    {
     "data": {
      "text/plain": "10"
     },
     "execution_count": 195,
     "metadata": {},
     "output_type": "execute_result"
    }
   ],
   "source": [
    "Character.MAX_SPEED = 10\n",
    "Character.MAX_SPEED"
   ]
  },
  {
   "cell_type": "code",
   "execution_count": 196,
   "id": "dae8a651",
   "metadata": {
    "pycharm": {
     "name": "#%%\n"
    }
   },
   "outputs": [],
   "source": [
    "c = Character('Elf')"
   ]
  },
  {
   "cell_type": "code",
   "execution_count": 197,
   "id": "d4c3800a",
   "metadata": {
    "pycharm": {
     "name": "#%%\n"
    }
   },
   "outputs": [],
   "source": [
    "#c.__race\n",
    "#AttributeError: 'Character' object has no attribute '__race'"
   ]
  },
  {
   "cell_type": "code",
   "execution_count": 198,
   "id": "c33034c3",
   "metadata": {
    "pycharm": {
     "name": "#%%\n"
    }
   },
   "outputs": [
    {
     "data": {
      "text/plain": "'Ork'"
     },
     "execution_count": 198,
     "metadata": {},
     "output_type": "execute_result"
    }
   ],
   "source": [
    "c._Character__race = \"Ork\"\n",
    "c._Character__race"
   ]
  },
  {
   "cell_type": "code",
   "execution_count": 199,
   "id": "68ac045d",
   "metadata": {
    "pycharm": {
     "name": "#%%\n"
    }
   },
   "outputs": [
    {
     "data": {
      "text/plain": "0"
     },
     "execution_count": 199,
     "metadata": {},
     "output_type": "execute_result"
    }
   ],
   "source": [
    "c._health = 0\n",
    "c._health"
   ]
  },
  {
   "cell_type": "code",
   "execution_count": 200,
   "id": "63310897",
   "metadata": {
    "pycharm": {
     "name": "#%%\n"
    }
   },
   "outputs": [
    {
     "data": {
      "text/plain": "0"
     },
     "execution_count": 200,
     "metadata": {},
     "output_type": "execute_result"
    }
   ],
   "source": [
    "c._health = 0\n",
    "c._health"
   ]
  },
  {
   "cell_type": "code",
   "execution_count": 201,
   "id": "a6079a84",
   "metadata": {
    "pycharm": {
     "name": "#%%\n"
    }
   },
   "outputs": [
    {
     "name": "stdout",
     "output_type": "stream",
     "text": [
      "0\n",
      "Ork\n"
     ]
    }
   ],
   "source": [
    "print(c.health)\n",
    "print(c.race)"
   ]
  },
  {
   "cell_type": "code",
   "execution_count": 202,
   "id": "d2e292f8",
   "metadata": {
    "pycharm": {
     "name": "#%%\n"
    }
   },
   "outputs": [],
   "source": [
    "#c.health = 10\n",
    "#AttributeError: can't set attribute"
   ]
  },
  {
   "cell_type": "code",
   "execution_count": 203,
   "id": "24dbd0ef",
   "metadata": {
    "pycharm": {
     "name": "#%%\n"
    }
   },
   "outputs": [
    {
     "data": {
      "text/plain": "50"
     },
     "execution_count": 203,
     "metadata": {},
     "output_type": "execute_result"
    }
   ],
   "source": [
    "c.current_speed = 50\n",
    "c.current_speed"
   ]
  },
  {
   "cell_type": "code",
   "execution_count": 204,
   "id": "38e376d1",
   "metadata": {
    "pycharm": {
     "name": "#%%\n"
    }
   },
   "outputs": [
    {
     "data": {
      "text/plain": "100"
     },
     "execution_count": 204,
     "metadata": {},
     "output_type": "execute_result"
    }
   ],
   "source": [
    "c.current_speed = 1000\n",
    "c.current_speed"
   ]
  },
  {
   "cell_type": "code",
   "execution_count": 205,
   "id": "829e46df",
   "metadata": {
    "pycharm": {
     "name": "#%%\n"
    }
   },
   "outputs": [
    {
     "data": {
      "text/plain": "0"
     },
     "execution_count": 205,
     "metadata": {},
     "output_type": "execute_result"
    }
   ],
   "source": [
    "c.current_speed = -1000\n",
    "c.current_speed"
   ]
  },
  {
   "cell_type": "code",
   "execution_count": 206,
   "id": "547fb6dc",
   "metadata": {
    "pycharm": {
     "name": "#%%\n"
    }
   },
   "outputs": [],
   "source": [
    "class StaticTest:\n",
    "    x = 1"
   ]
  },
  {
   "cell_type": "code",
   "execution_count": 207,
   "id": "b076ec34",
   "metadata": {
    "pycharm": {
     "name": "#%%\n"
    }
   },
   "outputs": [],
   "source": [
    "t1 = StaticTest()"
   ]
  },
  {
   "cell_type": "code",
   "execution_count": 208,
   "id": "1a5effc0",
   "metadata": {
    "pycharm": {
     "name": "#%%\n"
    }
   },
   "outputs": [
    {
     "name": "stdout",
     "output_type": "stream",
     "text": [
      "via instance: 1\n",
      "via class: 1\n"
     ]
    }
   ],
   "source": [
    "print(f'via instance: {t1.x}')\n",
    "print(f'via class: {StaticTest.x}')"
   ]
  },
  {
   "cell_type": "code",
   "execution_count": 209,
   "id": "85538b07",
   "metadata": {
    "pycharm": {
     "name": "#%%\n"
    }
   },
   "outputs": [],
   "source": [
    "t1.x = 777"
   ]
  },
  {
   "cell_type": "code",
   "execution_count": 210,
   "id": "41d2cb3d",
   "metadata": {
    "pycharm": {
     "name": "#%%\n"
    }
   },
   "outputs": [
    {
     "name": "stdout",
     "output_type": "stream",
     "text": [
      "via instance: 777\n",
      "via class: 1\n"
     ]
    }
   ],
   "source": [
    "print(f'via instance: {t1.x}')\n",
    "print(f'via class: {StaticTest.x}')"
   ]
  },
  {
   "cell_type": "code",
   "execution_count": 211,
   "id": "88db80f7",
   "metadata": {
    "pycharm": {
     "name": "#%%\n"
    }
   },
   "outputs": [],
   "source": [
    "StaticTest.x = 999"
   ]
  },
  {
   "cell_type": "code",
   "execution_count": 212,
   "id": "ff9ee790",
   "metadata": {
    "pycharm": {
     "name": "#%%\n"
    }
   },
   "outputs": [
    {
     "name": "stdout",
     "output_type": "stream",
     "text": [
      "via instance: 777\n",
      "via class: 999\n"
     ]
    }
   ],
   "source": [
    "print(f'via instance: {t1.x}')\n",
    "print(f'via class: {StaticTest.x}')"
   ]
  },
  {
   "cell_type": "code",
   "execution_count": 213,
   "id": "0ddc7b26",
   "metadata": {
    "pycharm": {
     "name": "#%%\n"
    }
   },
   "outputs": [],
   "source": [
    "class Date:\n",
    "    def __init__(self, month, day, year):\n",
    "        self.month = month\n",
    "        self.day = day\n",
    "        self.year = year\n",
    "\n",
    "    def display(self):\n",
    "        return f\"{self.month}-{self.day}-{self.year}\"\n",
    "\n",
    "    @classmethod\n",
    "    def millenium_c(cls, month, day):\n",
    "        return cls(month, day, 2000)\n",
    "\n",
    "    @staticmethod\n",
    "    def millenium_s(month, day):\n",
    "        return Date(month, day, 2000)"
   ]
  },
  {
   "cell_type": "code",
   "execution_count": 214,
   "id": "3236ea24",
   "metadata": {
    "pycharm": {
     "name": "#%%\n"
    }
   },
   "outputs": [
    {
     "name": "stdout",
     "output_type": "stream",
     "text": [
      "6-9-2000\n",
      "6-9-2000\n"
     ]
    }
   ],
   "source": [
    "d1 = Date.millenium_c(6, 9)\n",
    "d2 = Date.millenium_s(6, 9)\n",
    "print(d1.display())\n",
    "print(d2.display())"
   ]
  },
  {
   "cell_type": "code",
   "execution_count": 215,
   "id": "8ebdc5a6",
   "metadata": {
    "pycharm": {
     "name": "#%%\n"
    }
   },
   "outputs": [],
   "source": [
    "class DateTime(Date):\n",
    "    def display(self):\n",
    "        return f\"{self.month}-{self.day}-{self.year} - 00:00:00PM\"\n"
   ]
  },
  {
   "cell_type": "code",
   "execution_count": 216,
   "id": "c369bd32",
   "metadata": {
    "pycharm": {
     "name": "#%%\n"
    }
   },
   "outputs": [
    {
     "name": "stdout",
     "output_type": "stream",
     "text": [
      "True\n",
      "True\n",
      "10-10-1990 - 00:00:00PM\n",
      "10-10-2000 - 00:00:00PM\n"
     ]
    }
   ],
   "source": [
    "dt1 = DateTime(10, 10, 1990)\n",
    "dt2 = DateTime.millenium_c(10, 10)\n",
    "\n",
    "print(isinstance(dt1, DateTime))\n",
    "print(isinstance(dt2, DateTime))\n",
    "print(dt1.display())\n",
    "print(dt2.display())"
   ]
  },
  {
   "cell_type": "code",
   "execution_count": 217,
   "id": "f686fe2b",
   "metadata": {
    "pycharm": {
     "name": "#%%\n"
    }
   },
   "outputs": [],
   "source": [
    "class StrConverter:\n",
    "    @staticmethod\n",
    "    def to_str(bytes_or_str):\n",
    "        if isinstance(bytes_or_str, bytes):\n",
    "            value = bytes_or_str.decode('utf-8')\n",
    "        else:\n",
    "            value = bytes_or_str\n",
    "        return value\n",
    "\n",
    "    @staticmethod\n",
    "    def to_bytes(bytes_or_str):\n",
    "        if isinstance(bytes_or_str, str):\n",
    "            value = bytes_or_str.encode('utf-8')\n",
    "        else:\n",
    "            value = bytes_or_str\n",
    "        return value"
   ]
  },
  {
   "cell_type": "code",
   "execution_count": 218,
   "id": "58ca0572",
   "metadata": {
    "pycharm": {
     "name": "#%%\n"
    }
   },
   "outputs": [
    {
     "name": "stdout",
     "output_type": "stream",
     "text": [
      "A\n",
      "A\n"
     ]
    }
   ],
   "source": [
    "print(StrConverter.to_str('\\x41'))\n",
    "print(StrConverter.to_str('A'))"
   ]
  },
  {
   "cell_type": "code",
   "execution_count": 219,
   "id": "49c22e3c",
   "metadata": {
    "pycharm": {
     "name": "#%%\n"
    }
   },
   "outputs": [
    {
     "name": "stdout",
     "output_type": "stream",
     "text": [
      "b'A'\n",
      "b'A'\n"
     ]
    }
   ],
   "source": [
    "print(StrConverter.to_bytes('\\x41'))\n",
    "print(StrConverter.to_bytes('A'))"
   ]
  },
  {
   "cell_type": "code",
   "execution_count": 220,
   "id": "e1e0bb0c",
   "metadata": {
    "pycharm": {
     "name": "#%%\n"
    }
   },
   "outputs": [],
   "source": [
    "class Shape():\n",
    "    def __init__(self):\n",
    "        print('Shape created')\n",
    "\n",
    "    def draw(self):\n",
    "        print('Drawing a shape')\n",
    "\n",
    "    def area(self):\n",
    "        print('Calc area')\n",
    "\n",
    "    def perimeter(self):\n",
    "        print('Cals perimeter')"
   ]
  },
  {
   "cell_type": "code",
   "execution_count": 221,
   "id": "38f15e22",
   "metadata": {
    "pycharm": {
     "name": "#%%\n"
    }
   },
   "outputs": [
    {
     "name": "stdout",
     "output_type": "stream",
     "text": [
      "Shape created\n"
     ]
    }
   ],
   "source": [
    "shape = Shape()"
   ]
  },
  {
   "cell_type": "code",
   "execution_count": 222,
   "id": "4ed84020",
   "metadata": {
    "pycharm": {
     "name": "#%%\n"
    }
   },
   "outputs": [],
   "source": [
    "class Rectangle(Shape):\n",
    "    def __init__(self, width, height):\n",
    "        Shape.__init__(self)\n",
    "        self.width = width\n",
    "        self.height = height\n",
    "        print('Rectangle created')\n",
    "        Shape.area(self)\n",
    "\n",
    "    def area(self):\n",
    "        return self.width * self.height\n",
    "\n",
    "    def perimeter(self):\n",
    "        return 2 * (self.width + self.height)\n",
    "\n",
    "    def draw(self):\n",
    "        print(f'Drawing rectangle with width = {self.width} and height = {self.height}')"
   ]
  },
  {
   "cell_type": "code",
   "execution_count": 223,
   "id": "fec7830e",
   "metadata": {
    "pycharm": {
     "name": "#%%\n"
    }
   },
   "outputs": [
    {
     "name": "stdout",
     "output_type": "stream",
     "text": [
      "Shape created\n",
      "Rectangle created\n",
      "Calc area\n"
     ]
    }
   ],
   "source": [
    "rect = Rectangle(10, 15)"
   ]
  },
  {
   "cell_type": "code",
   "execution_count": 224,
   "id": "acf9c893",
   "metadata": {
    "pycharm": {
     "name": "#%%\n"
    }
   },
   "outputs": [
    {
     "data": {
      "text/plain": "150"
     },
     "execution_count": 224,
     "metadata": {},
     "output_type": "execute_result"
    }
   ],
   "source": [
    "rect.area()"
   ]
  },
  {
   "cell_type": "code",
   "execution_count": 225,
   "id": "18cdc474",
   "metadata": {
    "pycharm": {
     "name": "#%%\n"
    }
   },
   "outputs": [
    {
     "name": "stdout",
     "output_type": "stream",
     "text": [
      "50\n",
      "Drawing rectangle with width = 10 and height = 15\n",
      "None\n"
     ]
    }
   ],
   "source": [
    "print(rect.perimeter())\n",
    "print(rect.draw())"
   ]
  },
  {
   "cell_type": "code",
   "execution_count": 226,
   "id": "3c816f4a",
   "metadata": {
    "pycharm": {
     "name": "#%%\n"
    }
   },
   "outputs": [],
   "source": [
    "import math\n",
    "\n",
    "\n",
    "class Triangle(Shape):\n",
    "    def __init__(self, a, b, c):\n",
    "        Shape.__init__(self)\n",
    "        self.a = a\n",
    "        self.b = b\n",
    "        self.c = c\n",
    "        print('Triangle created')\n",
    "\n",
    "    def draw(self):\n",
    "        print(f'Drawing triangle widh sides = {self.a}, {self.b}, {self.c}')\n",
    "\n",
    "    def area(self):\n",
    "        s = (self.a + self.b + self.c) / 2\n",
    "        return math.sqrt(s * (s - self.a) * (s - self.b) * (s - self.c))\n",
    "\n",
    "    def perimeter(self):\n",
    "        return self.a + self.b + self.c\n",
    "\n"
   ]
  },
  {
   "cell_type": "code",
   "execution_count": 227,
   "id": "3e7a7876",
   "metadata": {
    "pycharm": {
     "name": "#%%\n"
    }
   },
   "outputs": [
    {
     "name": "stdout",
     "output_type": "stream",
     "text": [
      "Shape created\n",
      "Triangle created\n"
     ]
    }
   ],
   "source": [
    "triangle = Triangle(10, 10, 10)"
   ]
  },
  {
   "cell_type": "code",
   "execution_count": 228,
   "id": "4e743733",
   "metadata": {
    "pycharm": {
     "name": "#%%\n"
    }
   },
   "outputs": [
    {
     "name": "stdout",
     "output_type": "stream",
     "text": [
      "Drawing triangle widh sides = 10, 10, 10\n",
      "43.30127018922193\n",
      "30\n"
     ]
    }
   ],
   "source": [
    "triangle.draw()\n",
    "print(triangle.area())\n",
    "print(triangle.perimeter())"
   ]
  },
  {
   "cell_type": "code",
   "execution_count": 229,
   "id": "6f38622d",
   "metadata": {
    "pycharm": {
     "name": "#%%\n"
    }
   },
   "outputs": [
    {
     "name": "stdout",
     "output_type": "stream",
     "text": [
      "Drawing rectangle with width = 10 and height = 15\n",
      "Drawing triangle widh sides = 10, 10, 10\n"
     ]
    }
   ],
   "source": [
    "for shape in [rect, triangle]:\n",
    "    shape.draw()"
   ]
  },
  {
   "cell_type": "code",
   "execution_count": 230,
   "id": "55f45134",
   "metadata": {
    "pycharm": {
     "name": "#%%\n"
    }
   },
   "outputs": [],
   "source": [
    "class Animal:\n",
    "    def die(self):\n",
    "        print('bye-bye')\n",
    "        self.health = 0\n",
    "\n",
    "\n",
    "class Carnivour:\n",
    "    def hunt(self):\n",
    "        print('eating')\n",
    "        self.satiety = 100\n",
    "\n",
    "\n",
    "class Dog(Animal, Carnivour):\n",
    "    def bark(self):\n",
    "        print('woof-woof')"
   ]
  },
  {
   "cell_type": "code",
   "execution_count": 231,
   "id": "65777c2e",
   "metadata": {
    "pycharm": {
     "name": "#%%\n"
    }
   },
   "outputs": [
    {
     "name": "stdout",
     "output_type": "stream",
     "text": [
      "woof-woof\n",
      "eating\n",
      "bye-bye\n"
     ]
    }
   ],
   "source": [
    "dog = Dog()\n",
    "dog.bark()\n",
    "dog.hunt()\n",
    "dog.die()"
   ]
  },
  {
   "cell_type": "code",
   "execution_count": 232,
   "id": "5ed12e72",
   "metadata": {
    "pycharm": {
     "name": "#%%\n"
    }
   },
   "outputs": [],
   "source": [
    "class Animal:\n",
    "    def set_health(self, health):\n",
    "        print('set in animal')\n",
    "\n",
    "\n",
    "class Carnivour(Animal):\n",
    "    def set_health(self, health):\n",
    "        print('set in carnivour')\n",
    "\n",
    "\n",
    "class Mammal(Animal):\n",
    "    def set_health(self, health):\n",
    "        print('set in mammal')\n",
    "\n",
    "\n",
    "class Dog(Mammal, Carnivour):\n",
    "    pass"
   ]
  },
  {
   "cell_type": "code",
   "execution_count": 233,
   "id": "4f2781bf",
   "metadata": {
    "pycharm": {
     "name": "#%%\n"
    }
   },
   "outputs": [
    {
     "name": "stdout",
     "output_type": "stream",
     "text": [
      "set in mammal\n"
     ]
    }
   ],
   "source": [
    "dog = Dog()\n",
    "dog.set_health(10)"
   ]
  },
  {
   "cell_type": "code",
   "execution_count": 234,
   "id": "95ce95a4",
   "metadata": {
    "pycharm": {
     "name": "#%%\n"
    }
   },
   "outputs": [],
   "source": [
    "class Animal:\n",
    "    def set_health(self, health):\n",
    "        print('set in animal')\n",
    "\n",
    "\n",
    "class Carnivour(Animal):\n",
    "    def set_health(self, health):\n",
    "        print('set in carnivour')\n",
    "\n",
    "\n",
    "class Mammal(Animal):\n",
    "    def set_health(self, health):\n",
    "        print('set in mammal')\n",
    "\n",
    "\n",
    "class Dog(Mammal, Carnivour):\n",
    "    def set_health(self, health):\n",
    "        Mammal.set_health(self, health)\n",
    "        Carnivour.set_health(self, health)\n",
    "        Animal.set_health(self, health)\n",
    "        print('set in dog')"
   ]
  },
  {
   "cell_type": "code",
   "execution_count": 235,
   "id": "b5873afa",
   "metadata": {
    "pycharm": {
     "name": "#%%\n"
    }
   },
   "outputs": [
    {
     "name": "stdout",
     "output_type": "stream",
     "text": [
      "set in mammal\n",
      "set in carnivour\n",
      "set in animal\n",
      "set in dog\n"
     ]
    }
   ],
   "source": [
    "dog = Dog()\n",
    "dog.set_health(10)"
   ]
  },
  {
   "cell_type": "code",
   "execution_count": 236,
   "id": "29575862",
   "metadata": {
    "pycharm": {
     "name": "#%%\n"
    }
   },
   "outputs": [],
   "source": [
    "class Animal:\n",
    "    def set_health(self, health):\n",
    "        print('set in animal')\n",
    "\n",
    "\n",
    "class Carnivour(Animal):\n",
    "    def set_health(self, health):\n",
    "        Animal.set_health(self, health)\n",
    "        print('set in carnivour')\n",
    "\n",
    "\n",
    "class Mammal(Animal):\n",
    "    def set_health(self, health):\n",
    "        Animal.set_health(self, health)\n",
    "        print('set in mammal')\n",
    "\n",
    "\n",
    "class Dog(Mammal, Carnivour):\n",
    "    def set_health(self, health):\n",
    "        Mammal.set_health(self, health)\n",
    "        Carnivour.set_health(self, health)\n",
    "        print('set in dog')"
   ]
  },
  {
   "cell_type": "code",
   "execution_count": 237,
   "id": "1adc2765",
   "metadata": {
    "pycharm": {
     "name": "#%%\n"
    }
   },
   "outputs": [
    {
     "name": "stdout",
     "output_type": "stream",
     "text": [
      "set in animal\n",
      "set in mammal\n",
      "set in animal\n",
      "set in carnivour\n",
      "set in dog\n"
     ]
    }
   ],
   "source": [
    "dog = Dog()\n",
    "dog.set_health(10)"
   ]
  },
  {
   "cell_type": "code",
   "execution_count": 238,
   "id": "8305b00d",
   "metadata": {
    "pycharm": {
     "name": "#%%\n"
    }
   },
   "outputs": [],
   "source": [
    "class Animal:\n",
    "    def set_health(self, health):\n",
    "        print('set in animal')\n",
    "\n",
    "\n",
    "class Carnivour(Animal):\n",
    "    def set_health(self, health):\n",
    "        super().set_health(health)\n",
    "        print('set in carnivour')\n",
    "\n",
    "\n",
    "class Mammal(Animal):\n",
    "    def set_health(self, health):\n",
    "        super().set_health(health)\n",
    "        print('set in mammal')\n",
    "\n",
    "\n",
    "class Dog(Mammal, Carnivour):\n",
    "    def set_health(self, health):\n",
    "        super().set_health(health)\n",
    "        #Mammal.set_health(self, health)\n",
    "        #Carnivour.set_health(self, health)\n",
    "        print('set in dog')"
   ]
  },
  {
   "cell_type": "code",
   "execution_count": 239,
   "id": "904c237e",
   "metadata": {
    "pycharm": {
     "name": "#%%\n"
    }
   },
   "outputs": [
    {
     "name": "stdout",
     "output_type": "stream",
     "text": [
      "set in animal\n",
      "set in carnivour\n",
      "set in mammal\n",
      "set in dog\n"
     ]
    }
   ],
   "source": [
    "dog = Dog()\n",
    "dog.set_health(10)"
   ]
  },
  {
   "cell_type": "code",
   "execution_count": 240,
   "id": "d3c1e7d4",
   "metadata": {
    "pycharm": {
     "name": "#%%\n"
    }
   },
   "outputs": [],
   "source": [
    "class Animal:\n",
    "    def __init__(self):\n",
    "        self.health = 100\n",
    "\n",
    "    def hit(self, damage):\n",
    "        self.health -= damage\n",
    "\n",
    "\n",
    "class Carnivour(Animal):\n",
    "    def __init__(self):\n",
    "        super().__init__()\n",
    "        self.legs = 4"
   ]
  },
  {
   "cell_type": "code",
   "execution_count": 241,
   "id": "797ceb71",
   "metadata": {
    "pycharm": {
     "name": "#%%\n"
    }
   },
   "outputs": [
    {
     "name": "stdout",
     "output_type": "stream",
     "text": [
      "90\n"
     ]
    }
   ],
   "source": [
    "c = Carnivour()\n",
    "c.hit(10)\n",
    "print(c.health)"
   ]
  },
  {
   "cell_type": "code",
   "execution_count": 242,
   "id": "a16f6d96",
   "metadata": {
    "pycharm": {
     "name": "#%%\n"
    }
   },
   "outputs": [],
   "source": [
    "class Vehicle:\n",
    "    def __init__(self, position):\n",
    "        self.position = position\n",
    "\n",
    "    def travel(self, destination):\n",
    "        route = calculate_route(source=self.position, to=destination)\n",
    "        self.move_along(route)\n",
    "\n",
    "    def calculate_route(self, source, to):\n",
    "        return 0\n",
    "\n",
    "    def move_along(self, route):\n",
    "        print(\"moving\")\n",
    "\n",
    "\n",
    "class Car(Vehicle):\n",
    "    pass\n",
    "\n",
    "\n",
    "class Airplane(Vehicle):\n",
    "    pass\n",
    "\n"
   ]
  },
  {
   "cell_type": "code",
   "execution_count": 243,
   "id": "bbf2b07f",
   "metadata": {
    "pycharm": {
     "name": "#%%\n"
    }
   },
   "outputs": [],
   "source": [
    "class RadioMixin:\n",
    "    def __init__(self):\n",
    "        self.radio = Radio()\n",
    "\n",
    "    def turn_on(self, station):\n",
    "        self.radio.set_station(station)\n",
    "        self.radio.play()\n",
    "\n",
    "\n",
    "class Radio:\n",
    "    def set_station(self, station):\n",
    "        self.station = station\n",
    "\n",
    "    def play(self):\n",
    "        print(f\"Playing {self.station}\")\n",
    "\n",
    "\n",
    "class Car(Vehicle, RadioMixin):\n",
    "    def __init__(self):\n",
    "        Vehicle.__init__(self, (10, 20))\n",
    "        RadioMixin.__init__(self)\n"
   ]
  },
  {
   "cell_type": "code",
   "execution_count": 244,
   "id": "66ca6c25",
   "metadata": {
    "pycharm": {
     "name": "#%%\n"
    }
   },
   "outputs": [
    {
     "name": "stdout",
     "output_type": "stream",
     "text": [
      "Playing Moscow FM\n"
     ]
    }
   ],
   "source": [
    "car = Car()\n",
    "car.turn_on(\"Moscow FM\")"
   ]
  },
  {
   "cell_type": "code",
   "execution_count": 245,
   "id": "47dc3c5b",
   "metadata": {
    "pycharm": {
     "name": "#%%\n"
    }
   },
   "outputs": [],
   "source": [
    "class ToDictMixin(object):\n",
    "    def to_dict(self):\n",
    "        return self._traverse_dict(self.__dict__)\n",
    "\n",
    "    def _traverse_dict(self, instance_dict):\n",
    "        output = {}\n",
    "        for key, value in instance_dict.items():\n",
    "            output[key] = self._traverse(key, value)\n",
    "        return output\n",
    "\n",
    "    def _traverse(self, key, value):\n",
    "        if isinstance(value, ToDictMixin):\n",
    "            return value.to_dict()\n",
    "        elif isinstance(value, dict):\n",
    "            return self._traverse_dict(value)\n",
    "        elif isinstance(value, list):\n",
    "            return [self._traverse(key, i) for i in value]\n",
    "        elif hasattr(value, '__dict__'):\n",
    "            return self._traverse(value.__dict__)\n",
    "        else:\n",
    "            return value"
   ]
  },
  {
   "cell_type": "code",
   "execution_count": 246,
   "id": "64ed0547",
   "metadata": {
    "pycharm": {
     "name": "#%%\n"
    }
   },
   "outputs": [],
   "source": [
    "class BinaryTree(ToDictMixin):\n",
    "    def __init__(self, value, left=None, right=None):\n",
    "        self.value = value\n",
    "        self.left = left\n",
    "        self.right = right"
   ]
  },
  {
   "cell_type": "code",
   "execution_count": 247,
   "id": "d33a4a25",
   "metadata": {
    "pycharm": {
     "name": "#%%\n"
    }
   },
   "outputs": [
    {
     "name": "stdout",
     "output_type": "stream",
     "text": [
      "{'value': 10, 'left': {'value': 7, 'left': None, 'right': {'value': 9, 'left': None, 'right': None}}, 'right': {'value': 13, 'left': {'value': 11, 'left': None, 'right': None}, 'right': None}}\n"
     ]
    }
   ],
   "source": [
    "tree = BinaryTree(10,\n",
    "                  left=BinaryTree(7, right=BinaryTree(9)),\n",
    "                  right=BinaryTree(13, left=BinaryTree(11)))\n",
    "print(tree.to_dict())"
   ]
  },
  {
   "cell_type": "code",
   "execution_count": 248,
   "id": "18e4798c",
   "metadata": {
    "pycharm": {
     "name": "#%%\n"
    }
   },
   "outputs": [],
   "source": [
    "from abc import ABC\n",
    "from abc import abstractmethod"
   ]
  },
  {
   "cell_type": "code",
   "execution_count": 249,
   "id": "ebe53231",
   "metadata": {
    "pycharm": {
     "name": "#%%\n"
    }
   },
   "outputs": [],
   "source": [
    "class Shape(ABC):\n",
    "    def __init__(self):\n",
    "        super().__init__()\n",
    "\n",
    "    @abstractmethod\n",
    "    def draw(self):\n",
    "        pass\n",
    "\n",
    "    @abstractmethod\n",
    "    def area(self):\n",
    "        pass\n",
    "\n",
    "    @abstractmethod\n",
    "    def perimeter(self):\n",
    "        print('calc perimeter')\n",
    "        # pass\n",
    "\n",
    "    def drag(self):\n",
    "        print('Basic dragging functionality')"
   ]
  },
  {
   "cell_type": "code",
   "execution_count": 250,
   "id": "b65a1bb6",
   "metadata": {
    "pycharm": {
     "name": "#%%\n"
    }
   },
   "outputs": [],
   "source": [
    "import math\n",
    "\n",
    "\n",
    "class Triangle(Shape):\n",
    "    def __init__(self, a, b, c):\n",
    "        self.a = a\n",
    "        self.b = b\n",
    "        self.c = c\n",
    "\n",
    "    def draw(self):\n",
    "        print(f'Drawing triangle with sides = {self.a}, {self.b}, {self.c}')\n",
    "\n",
    "    def area(self):\n",
    "        s = (self.a + self.b + self.c) / 2\n",
    "        return math.sqrt(s * (s - self.a) * (s - self.b) * (s - self.c))\n",
    "\n",
    "    def perimeter(self):\n",
    "        return self.a + self.b + self.c\n",
    "\n",
    "    def drag(self):\n",
    "        super().drag()\n",
    "        print('Additional actions')\n"
   ]
  },
  {
   "cell_type": "code",
   "execution_count": 251,
   "id": "7799187e",
   "metadata": {
    "pycharm": {
     "name": "#%%\n"
    }
   },
   "outputs": [],
   "source": [
    "t = Triangle(10, 10, 10)"
   ]
  },
  {
   "cell_type": "code",
   "execution_count": 252,
   "id": "0037d6d3",
   "metadata": {
    "pycharm": {
     "name": "#%%\n"
    }
   },
   "outputs": [
    {
     "data": {
      "text/plain": "30"
     },
     "execution_count": 252,
     "metadata": {},
     "output_type": "execute_result"
    }
   ],
   "source": [
    "t.perimeter()"
   ]
  },
  {
   "cell_type": "code",
   "execution_count": 253,
   "id": "0242e329",
   "metadata": {
    "pycharm": {
     "name": "#%%\n"
    }
   },
   "outputs": [
    {
     "name": "stdout",
     "output_type": "stream",
     "text": [
      "Basic dragging functionality\n",
      "Additional actions\n"
     ]
    }
   ],
   "source": [
    "t.drag()"
   ]
  },
  {
   "cell_type": "code",
   "execution_count": 254,
   "id": "7935439a",
   "metadata": {
    "pycharm": {
     "name": "#%%\n"
    }
   },
   "outputs": [
    {
     "data": {
      "text/plain": "43.30127018922193"
     },
     "execution_count": 254,
     "metadata": {},
     "output_type": "execute_result"
    }
   ],
   "source": [
    "t.area()"
   ]
  },
  {
   "cell_type": "code",
   "execution_count": 255,
   "id": "72dd291e",
   "metadata": {
    "pycharm": {
     "name": "#%%\n"
    }
   },
   "outputs": [],
   "source": [
    "class Point():\n",
    "    def __init__(self, x, y):\n",
    "        self.x = x\n",
    "        self.y = y\n",
    "\n",
    "    def __str__(self):\n",
    "        return f'Point x = {self.x}, y = {self.y}'"
   ]
  },
  {
   "cell_type": "code",
   "execution_count": 256,
   "id": "9f6c745d",
   "metadata": {
    "pycharm": {
     "name": "#%%\n"
    }
   },
   "outputs": [
    {
     "name": "stdout",
     "output_type": "stream",
     "text": [
      "Point x = 3, y = 4\n"
     ]
    }
   ],
   "source": [
    "p = Point(3, 4)\n",
    "print(p)"
   ]
  },
  {
   "cell_type": "code",
   "execution_count": 257,
   "id": "028823e7",
   "metadata": {
    "pycharm": {
     "name": "#%%\n"
    }
   },
   "outputs": [],
   "source": [
    "class Road():\n",
    "    def __init__(self, length):\n",
    "        self.length = length\n",
    "\n",
    "    def __len__(self):\n",
    "        return self.length\n",
    "\n",
    "    def __str__(self):\n",
    "        return f'A road of length: {self.length}'\n",
    "\n",
    "    def __del__(self):\n",
    "        print(f'The road has been destroyed')"
   ]
  },
  {
   "cell_type": "code",
   "execution_count": 258,
   "id": "875ce9f5",
   "metadata": {
    "pycharm": {
     "name": "#%%\n"
    }
   },
   "outputs": [],
   "source": [
    "r = Road(100)"
   ]
  },
  {
   "cell_type": "code",
   "execution_count": 259,
   "id": "c51cc763",
   "metadata": {
    "pycharm": {
     "name": "#%%\n"
    }
   },
   "outputs": [
    {
     "data": {
      "text/plain": "100"
     },
     "execution_count": 259,
     "metadata": {},
     "output_type": "execute_result"
    }
   ],
   "source": [
    "len(r)"
   ]
  },
  {
   "cell_type": "code",
   "execution_count": 260,
   "id": "d7232754",
   "metadata": {
    "pycharm": {
     "name": "#%%\n"
    }
   },
   "outputs": [
    {
     "name": "stdout",
     "output_type": "stream",
     "text": [
      "A road of length: 100\n"
     ]
    }
   ],
   "source": [
    "print(r)"
   ]
  },
  {
   "cell_type": "code",
   "execution_count": 261,
   "id": "2edbd8eb",
   "metadata": {
    "pycharm": {
     "name": "#%%\n"
    }
   },
   "outputs": [
    {
     "name": "stdout",
     "output_type": "stream",
     "text": [
      "The road has been destroyed\n"
     ]
    }
   ],
   "source": [
    "del r"
   ]
  },
  {
   "cell_type": "code",
   "execution_count": 262,
   "id": "b95beae2",
   "metadata": {
    "pycharm": {
     "name": "#%%\n"
    }
   },
   "outputs": [],
   "source": [
    "class MyStack:\n",
    "    def __init__(self):\n",
    "        self.array = []\n",
    "\n",
    "    def push(self, item):\n",
    "        self.array.append(item)\n",
    "\n",
    "    def pop(self):\n",
    "        popped_item = self.array.pop()\n",
    "        return popped_item\n",
    "\n",
    "    def peek(self):\n",
    "        return self._current()\n",
    "\n",
    "    def _current(self):\n",
    "        return self.array[self.count() - 1]\n",
    "\n",
    "    def count(self):\n",
    "        return len(self.array)\n",
    "\n",
    "    def __iter__(self):\n",
    "        self.index = self.count() - 1\n",
    "        return self\n",
    "\n",
    "    def __next__(self):\n",
    "        if self.index < 0:\n",
    "            raise StopIteration()\n",
    "        result = self.array[self.index]\n",
    "        self.index -= 1\n",
    "        return result"
   ]
  },
  {
   "cell_type": "code",
   "execution_count": 263,
   "id": "f3ade054",
   "metadata": {
    "pycharm": {
     "name": "#%%\n"
    }
   },
   "outputs": [],
   "source": [
    "stack = MyStack()"
   ]
  },
  {
   "cell_type": "code",
   "execution_count": 264,
   "id": "92e0d02f",
   "metadata": {
    "pycharm": {
     "name": "#%%\n"
    }
   },
   "outputs": [],
   "source": [
    "stack.push(1)\n",
    "stack.push(2)\n",
    "stack.push(3)"
   ]
  },
  {
   "cell_type": "code",
   "execution_count": 265,
   "id": "3ba00e7b",
   "metadata": {
    "pycharm": {
     "name": "#%%\n"
    }
   },
   "outputs": [
    {
     "data": {
      "text/plain": "3"
     },
     "execution_count": 265,
     "metadata": {},
     "output_type": "execute_result"
    }
   ],
   "source": [
    "stack.pop()"
   ]
  },
  {
   "cell_type": "code",
   "execution_count": 266,
   "id": "6991cc47",
   "metadata": {
    "pycharm": {
     "name": "#%%\n"
    }
   },
   "outputs": [
    {
     "data": {
      "text/plain": "2"
     },
     "execution_count": 266,
     "metadata": {},
     "output_type": "execute_result"
    }
   ],
   "source": [
    "stack.peek()"
   ]
  },
  {
   "cell_type": "code",
   "execution_count": 267,
   "id": "9417e594",
   "metadata": {
    "pycharm": {
     "name": "#%%\n"
    }
   },
   "outputs": [
    {
     "data": {
      "text/plain": "2"
     },
     "execution_count": 267,
     "metadata": {},
     "output_type": "execute_result"
    }
   ],
   "source": [
    "stack.count()"
   ]
  },
  {
   "cell_type": "code",
   "execution_count": 268,
   "id": "0564ff2b",
   "metadata": {
    "pycharm": {
     "name": "#%%\n"
    }
   },
   "outputs": [],
   "source": [
    "stack.push(4)\n",
    "stack.push(5)\n",
    "stack.push(6)"
   ]
  },
  {
   "cell_type": "code",
   "execution_count": 269,
   "id": "20b2c93e",
   "metadata": {
    "pycharm": {
     "name": "#%%\n"
    }
   },
   "outputs": [
    {
     "name": "stdout",
     "output_type": "stream",
     "text": [
      "6\n",
      "5\n",
      "4\n",
      "2\n",
      "1\n"
     ]
    }
   ],
   "source": [
    "for i in stack:\n",
    "    print(i)"
   ]
  },
  {
   "cell_type": "code",
   "execution_count": 270,
   "id": "712d8e6c",
   "metadata": {
    "pycharm": {
     "name": "#%%\n"
    }
   },
   "outputs": [],
   "source": [
    "from datetime import datetime\n",
    "from datetime import date\n",
    "from datetime import time\n",
    "from datetime import timedelta"
   ]
  },
  {
   "cell_type": "code",
   "execution_count": 271,
   "id": "e58c60b5",
   "metadata": {
    "pycharm": {
     "name": "#%%\n"
    }
   },
   "outputs": [
    {
     "name": "stdout",
     "output_type": "stream",
     "text": [
      "2019-03-12\n",
      "2019\n",
      "3\n",
      "12\n"
     ]
    }
   ],
   "source": [
    "d1 = date(2019, 3, 12)\n",
    "print(d1)\n",
    "print(d1.year)\n",
    "print(d1.month)\n",
    "print(d1.day)"
   ]
  },
  {
   "cell_type": "code",
   "execution_count": 272,
   "id": "a93ccc49",
   "metadata": {
    "pycharm": {
     "name": "#%%\n"
    }
   },
   "outputs": [
    {
     "name": "stdout",
     "output_type": "stream",
     "text": [
      "23:10:59\n",
      "23\n",
      "10\n",
      "59\n"
     ]
    }
   ],
   "source": [
    "t1 = time(23, 10, 59)\n",
    "print(t1)\n",
    "print(t1.hour)\n",
    "print(t1.minute)\n",
    "print(t1.second)"
   ]
  },
  {
   "cell_type": "code",
   "execution_count": 273,
   "id": "7ed21941",
   "metadata": {
    "pycharm": {
     "name": "#%%\n"
    }
   },
   "outputs": [
    {
     "name": "stdout",
     "output_type": "stream",
     "text": [
      "2022-10-23\n"
     ]
    }
   ],
   "source": [
    "print(date.today())"
   ]
  },
  {
   "cell_type": "code",
   "execution_count": 274,
   "id": "0720eefd",
   "metadata": {
    "pycharm": {
     "name": "#%%\n"
    }
   },
   "outputs": [
    {
     "name": "stdout",
     "output_type": "stream",
     "text": [
      "9999-12-31\n",
      "0001-01-01\n",
      "23:59:59.999999\n",
      "00:00:00\n"
     ]
    }
   ],
   "source": [
    "print(date.max)\n",
    "print(date.min)\n",
    "print(time.max)\n",
    "print(time.min)"
   ]
  },
  {
   "cell_type": "code",
   "execution_count": 275,
   "id": "8510ebb8",
   "metadata": {
    "pycharm": {
     "name": "#%%\n"
    }
   },
   "outputs": [],
   "source": [
    "dt = datetime(2010, 3, 12, 15, 00)"
   ]
  },
  {
   "cell_type": "code",
   "execution_count": 276,
   "id": "aec07193",
   "metadata": {
    "pycharm": {
     "name": "#%%\n"
    }
   },
   "outputs": [
    {
     "name": "stdout",
     "output_type": "stream",
     "text": [
      "2010-03-12 15:00:00\n"
     ]
    }
   ],
   "source": [
    "print(dt)"
   ]
  },
  {
   "cell_type": "code",
   "execution_count": 277,
   "id": "081e735a",
   "metadata": {
    "pycharm": {
     "name": "#%%\n"
    }
   },
   "outputs": [
    {
     "name": "stdout",
     "output_type": "stream",
     "text": [
      "2010\n",
      "15\n"
     ]
    }
   ],
   "source": [
    "print(dt.date().year)\n",
    "print(dt.time().hour)"
   ]
  },
  {
   "cell_type": "code",
   "execution_count": 278,
   "id": "4917d520",
   "metadata": {
    "pycharm": {
     "name": "#%%\n"
    }
   },
   "outputs": [
    {
     "name": "stdout",
     "output_type": "stream",
     "text": [
      "2022-10-23 17:58:19.528911\n"
     ]
    }
   ],
   "source": [
    "now = datetime.now()\n",
    "print(now)"
   ]
  },
  {
   "cell_type": "code",
   "execution_count": 279,
   "id": "7afb8204",
   "metadata": {
    "pycharm": {
     "name": "#%%\n"
    }
   },
   "outputs": [
    {
     "name": "stdout",
     "output_type": "stream",
     "text": [
      "2018-10-23 17:58:19.528911\n"
     ]
    }
   ],
   "source": [
    "new_dt = now.replace(year=2018)\n",
    "print(new_dt)"
   ]
  },
  {
   "cell_type": "code",
   "execution_count": 280,
   "id": "7c666dcd",
   "metadata": {
    "pycharm": {
     "name": "#%%\n"
    }
   },
   "outputs": [
    {
     "name": "stdout",
     "output_type": "stream",
     "text": [
      "2022-10-23 17:58:19.528911\n"
     ]
    }
   ],
   "source": [
    "print(now)"
   ]
  },
  {
   "cell_type": "code",
   "execution_count": 281,
   "id": "898b4cd5",
   "metadata": {
    "pycharm": {
     "name": "#%%\n"
    }
   },
   "outputs": [
    {
     "name": "stdout",
     "output_type": "stream",
     "text": [
      "2018-08-30 00:00:00\n",
      "2018-03-29 10:40:00\n",
      "2018-06-28 09:20:00\n",
      "2018-06-28 00:00:00\n"
     ]
    }
   ],
   "source": [
    "dt = datetime.strptime(\"30/08/2018\", \"%d/%m/%Y\")\n",
    "print(dt)\n",
    "dt = datetime.strptime(\"29/03/2018 10:40\", \"%d/%m/%Y %H:%M\")\n",
    "print(dt)\n",
    "dt = datetime.strptime(\"06-28-2018 09:20\", \"%m-%d-%Y %H:%M\")\n",
    "print(dt)\n",
    "dt = datetime.strptime(\"2018-06-28\", \"%Y-%m-%d\")\n",
    "print(dt)"
   ]
  },
  {
   "cell_type": "code",
   "execution_count": 282,
   "id": "3971f228",
   "metadata": {
    "pycharm": {
     "name": "#%%\n"
    }
   },
   "outputs": [
    {
     "data": {
      "text/plain": "'Russian_Russia.1251'"
     },
     "execution_count": 282,
     "metadata": {},
     "output_type": "execute_result"
    }
   ],
   "source": [
    "import locale\n",
    "\n",
    "locale.setlocale(locale.LC_ALL, \"\")"
   ]
  },
  {
   "cell_type": "code",
   "execution_count": 283,
   "id": "73d42ae6",
   "metadata": {
    "pycharm": {
     "name": "#%%\n"
    }
   },
   "outputs": [
    {
     "name": "stdout",
     "output_type": "stream",
     "text": [
      "2022-10-23 (Вс)\n",
      "2022 Октябрь 23 число (воскресенье)\n"
     ]
    }
   ],
   "source": [
    "now = datetime.now()\n",
    "print(now.strftime('%Y-%m-%d (%a)'))\n",
    "print(now.strftime('%Y %B %d число (%A)'))"
   ]
  },
  {
   "cell_type": "code",
   "execution_count": 284,
   "id": "caee1dd2",
   "metadata": {
    "pycharm": {
     "name": "#%%\n"
    }
   },
   "outputs": [
    {
     "name": "stdout",
     "output_type": "stream",
     "text": [
      "3 days, 2:10:00\n"
     ]
    }
   ],
   "source": [
    "delta1 = timedelta(days=3, hours=2, minutes=10)\n",
    "print(delta1)"
   ]
  },
  {
   "cell_type": "code",
   "execution_count": 285,
   "id": "73edd1ce",
   "metadata": {
    "pycharm": {
     "name": "#%%\n"
    }
   },
   "outputs": [],
   "source": [
    "delta2 = timedelta(days=2, hours=1, minutes=5)"
   ]
  },
  {
   "cell_type": "code",
   "execution_count": 286,
   "id": "7be58968",
   "metadata": {
    "pycharm": {
     "name": "#%%\n"
    }
   },
   "outputs": [
    {
     "name": "stdout",
     "output_type": "stream",
     "text": [
      "1 day, 1:05:00\n",
      "-2 days, 22:55:00\n"
     ]
    }
   ],
   "source": [
    "print(delta1 - delta2)\n",
    "print(delta2 - delta1)"
   ]
  },
  {
   "cell_type": "code",
   "execution_count": 287,
   "id": "e73195c4",
   "metadata": {
    "pycharm": {
     "name": "#%%\n"
    }
   },
   "outputs": [
    {
     "name": "stdout",
     "output_type": "stream",
     "text": [
      "<class 'datetime.timedelta'>\n",
      "18\n"
     ]
    }
   ],
   "source": [
    "my_birthday = date(2004, 6, 7)\n",
    "delta = date.today() - my_birthday\n",
    "print(type(delta))\n",
    "\n",
    "my_age = int(delta.days / 365)\n",
    "print(my_age)"
   ]
  },
  {
   "cell_type": "code",
   "execution_count": 288,
   "id": "ca05a4df",
   "metadata": {
    "pycharm": {
     "name": "#%%\n"
    }
   },
   "outputs": [
    {
     "name": "stdout",
     "output_type": "stream",
     "text": [
      "True\n"
     ]
    }
   ],
   "source": [
    "wife_birthday = date(2005, 12, 5)\n",
    "am_i_older = my_birthday < wife_birthday\n",
    "print(am_i_older)"
   ]
  },
  {
   "cell_type": "code",
   "execution_count": 289,
   "id": "0a423f37",
   "metadata": {
    "pycharm": {
     "name": "#%%\n"
    }
   },
   "outputs": [],
   "source": [
    "class Character():\n",
    "    def __init__(self):\n",
    "        self.race = 'Elf'"
   ]
  },
  {
   "cell_type": "code",
   "execution_count": 290,
   "id": "ecf1b1c7",
   "metadata": {
    "pycharm": {
     "name": "#%%\n"
    }
   },
   "outputs": [
    {
     "data": {
      "text/plain": "'Elf'"
     },
     "execution_count": 290,
     "metadata": {},
     "output_type": "execute_result"
    }
   ],
   "source": [
    "c = Character()\n",
    "c.race"
   ]
  },
  {
   "cell_type": "code",
   "execution_count": 291,
   "id": "cb0c6c74",
   "metadata": {
    "pycharm": {
     "name": "#%%\n"
    }
   },
   "outputs": [],
   "source": [
    "class Character:\n",
    "    def __new__(cls):\n",
    "        obj = super().__new__(cls)\n",
    "        return obj\n",
    "\n",
    "    def __init__(self):\n",
    "        self.race = 'Elf'"
   ]
  },
  {
   "cell_type": "code",
   "execution_count": 292,
   "id": "87fafec5",
   "metadata": {
    "pycharm": {
     "name": "#%%\n"
    }
   },
   "outputs": [
    {
     "data": {
      "text/plain": "'Elf'"
     },
     "execution_count": 292,
     "metadata": {},
     "output_type": "execute_result"
    }
   ],
   "source": [
    "c = Character()\n",
    "c.race"
   ]
  },
  {
   "cell_type": "code",
   "execution_count": 293,
   "id": "a35deaec",
   "metadata": {
    "pycharm": {
     "name": "#%%\n"
    }
   },
   "outputs": [],
   "source": [
    "class Character:\n",
    "    _instance = None\n",
    "\n",
    "    def __new__(cls):\n",
    "        if not cls._instance:\n",
    "            cls._instance = super().__new__(cls)\n",
    "        return cls._instance\n",
    "\n",
    "    def __init__(self):\n",
    "        self.race = 'Elf'"
   ]
  },
  {
   "cell_type": "code",
   "execution_count": 294,
   "id": "f8319d0f",
   "metadata": {
    "pycharm": {
     "name": "#%%\n"
    }
   },
   "outputs": [
    {
     "data": {
      "text/plain": "'Elf'"
     },
     "execution_count": 294,
     "metadata": {},
     "output_type": "execute_result"
    }
   ],
   "source": [
    "c = Character()\n",
    "c.race"
   ]
  },
  {
   "cell_type": "code",
   "execution_count": 295,
   "id": "0ef4148c",
   "metadata": {
    "pycharm": {
     "name": "#%%\n"
    }
   },
   "outputs": [],
   "source": [
    "class Character():\n",
    "    def __init__(self, race, armor=5, damage=10):\n",
    "        self.race = race\n",
    "        self.damage = damage\n",
    "        self.health = 100\n",
    "\n",
    "    def hit(self, damage):\n",
    "        self.health -= damage\n",
    "\n",
    "    def is_dead(self):\n",
    "        return self.health == 0\n",
    "\n",
    "    def __setstate__(self, state):\n",
    "        self.race = state.get('race', 'Elf')\n",
    "        self.damage = state.get('damage', 10)\n",
    "        self.armor = state.get('armor', 20)\n",
    "        self.health = state.get('health', 100)\n"
   ]
  },
  {
   "cell_type": "code",
   "execution_count": 296,
   "id": "1be2aa7f",
   "metadata": {
    "pycharm": {
     "name": "#%%\n"
    }
   },
   "outputs": [
    {
     "data": {
      "text/plain": "90"
     },
     "execution_count": 296,
     "metadata": {},
     "output_type": "execute_result"
    }
   ],
   "source": [
    "c = Character(\"Elf\")\n",
    "c.hit(10)\n",
    "c.health"
   ]
  },
  {
   "cell_type": "code",
   "execution_count": 297,
   "id": "c229057c",
   "metadata": {
    "pycharm": {
     "name": "#%%\n"
    }
   },
   "outputs": [],
   "source": [
    "import pickle\n",
    "#with open(r'C:\\temp\\game_state.bin', 'w+b') as f:\n",
    "#pickle.dump(c, f)"
   ]
  },
  {
   "cell_type": "code",
   "execution_count": 298,
   "id": "109b733d",
   "metadata": {
    "pycharm": {
     "name": "#%%\n"
    }
   },
   "outputs": [
    {
     "name": "stdout",
     "output_type": "stream",
     "text": [
      "<__main__.Character object at 0x000002B2A7937550>\n"
     ]
    }
   ],
   "source": [
    "#c = None\n",
    "print(c)"
   ]
  },
  {
   "cell_type": "code",
   "execution_count": 299,
   "id": "cb0e3974",
   "metadata": {
    "pycharm": {
     "name": "#%%\n"
    }
   },
   "outputs": [],
   "source": [
    "#with open(r'C:\\temp\\game_state.bin', 'rb') as f:\n",
    "#c = pickle.load(f)\n",
    "#print(c.health)"
   ]
  },
  {
   "cell_type": "code",
   "execution_count": 300,
   "id": "0404c429",
   "metadata": {
    "pycharm": {
     "name": "#%%\n"
    }
   },
   "outputs": [
    {
     "name": "stdout",
     "output_type": "stream",
     "text": [
      "{'race': 'Elf', 'damage': 10, 'health': 90}\n"
     ]
    }
   ],
   "source": [
    "print(c.__dict__)"
   ]
  },
  {
   "cell_type": "code",
   "execution_count": 301,
   "id": "369700e2",
   "metadata": {
    "pycharm": {
     "name": "#%%\n"
    }
   },
   "outputs": [],
   "source": [
    "lst = [1, 2, 3]"
   ]
  },
  {
   "cell_type": "code",
   "execution_count": 302,
   "id": "41361f95",
   "metadata": {
    "pycharm": {
     "name": "#%%\n"
    }
   },
   "outputs": [
    {
     "data": {
      "text/plain": "'[1, 2, 3]'"
     },
     "execution_count": 302,
     "metadata": {},
     "output_type": "execute_result"
    }
   ],
   "source": [
    "repr(lst)"
   ]
  },
  {
   "cell_type": "code",
   "execution_count": 303,
   "id": "aa66f2f5",
   "metadata": {
    "pycharm": {
     "name": "#%%\n"
    }
   },
   "outputs": [
    {
     "name": "stdout",
     "output_type": "stream",
     "text": [
      "[1, 2, 3]\n"
     ]
    }
   ],
   "source": [
    "print(lst)"
   ]
  },
  {
   "cell_type": "code",
   "execution_count": 304,
   "id": "8db7e545",
   "metadata": {
    "pycharm": {
     "name": "#%%\n"
    }
   },
   "outputs": [
    {
     "data": {
      "text/plain": "True"
     },
     "execution_count": 304,
     "metadata": {},
     "output_type": "execute_result"
    }
   ],
   "source": [
    "eval(repr(lst)) == lst"
   ]
  },
  {
   "cell_type": "code",
   "execution_count": 305,
   "id": "4e308606",
   "metadata": {
    "pycharm": {
     "name": "#%%\n"
    }
   },
   "outputs": [],
   "source": [
    "from datetime import datetime\n",
    "\n",
    "dt = datetime.now()"
   ]
  },
  {
   "cell_type": "code",
   "execution_count": 306,
   "id": "aa42651a",
   "metadata": {
    "pycharm": {
     "name": "#%%\n"
    }
   },
   "outputs": [
    {
     "data": {
      "text/plain": "'datetime.datetime(2022, 10, 23, 17, 58, 20, 66190)'"
     },
     "execution_count": 306,
     "metadata": {},
     "output_type": "execute_result"
    }
   ],
   "source": [
    "repr(dt)"
   ]
  },
  {
   "cell_type": "code",
   "execution_count": 307,
   "id": "00239a54",
   "metadata": {
    "pycharm": {
     "name": "#%%\n"
    }
   },
   "outputs": [
    {
     "name": "stdout",
     "output_type": "stream",
     "text": [
      "2022-10-23 17:58:20.066190\n"
     ]
    }
   ],
   "source": [
    "print(dt)"
   ]
  },
  {
   "cell_type": "code",
   "execution_count": 308,
   "id": "f55f6073",
   "metadata": {
    "pycharm": {
     "name": "#%%\n"
    }
   },
   "outputs": [],
   "source": [
    "class Character():\n",
    "    def __init__(self, race, damage=100):\n",
    "        self.race = race\n",
    "        self.damage = damage\n",
    "\n",
    "    def __repr__(self):\n",
    "        return f\"Character('{self.race}', {self.damage})\"\n",
    "\n",
    "    def __str__(self):\n",
    "        return f\"{self.race} with damage = {self.damage}\"\n",
    "\n",
    "    def __eq__(self, other):\n",
    "        if isinstance(other, Character):\n",
    "            return self.race == other.race and self.damage == other.damage\n",
    "    #def __ne__(self, other):\n",
    "    #pass"
   ]
  },
  {
   "cell_type": "code",
   "execution_count": 309,
   "id": "f8823a41",
   "metadata": {
    "pycharm": {
     "name": "#%%\n"
    }
   },
   "outputs": [
    {
     "name": "stdout",
     "output_type": "stream",
     "text": [
      "Elf with damage = 100\n"
     ]
    }
   ],
   "source": [
    "c = Character(\"Elf\")\n",
    "c  #repr\n",
    "print(c)  #str"
   ]
  },
  {
   "cell_type": "code",
   "execution_count": 310,
   "id": "d3141482",
   "metadata": {
    "pycharm": {
     "name": "#%%\n"
    }
   },
   "outputs": [
    {
     "data": {
      "text/plain": "__main__.Character"
     },
     "execution_count": 310,
     "metadata": {},
     "output_type": "execute_result"
    }
   ],
   "source": [
    "d = eval(repr(c))\n",
    "type(d)"
   ]
  },
  {
   "cell_type": "code",
   "execution_count": 311,
   "id": "00c34f4c",
   "metadata": {
    "pycharm": {
     "name": "#%%\n"
    }
   },
   "outputs": [
    {
     "name": "stdout",
     "output_type": "stream",
     "text": [
      "Elf with damage = 100\n"
     ]
    }
   ],
   "source": [
    "print(d)"
   ]
  },
  {
   "cell_type": "code",
   "execution_count": 312,
   "id": "bdc877d3",
   "metadata": {
    "pycharm": {
     "name": "#%%\n"
    }
   },
   "outputs": [
    {
     "data": {
      "text/plain": "True"
     },
     "execution_count": 312,
     "metadata": {},
     "output_type": "execute_result"
    }
   ],
   "source": [
    "c == d"
   ]
  },
  {
   "cell_type": "code",
   "execution_count": 313,
   "id": "4af22328",
   "metadata": {
    "pycharm": {
     "name": "#%%\n"
    }
   },
   "outputs": [
    {
     "data": {
      "text/plain": "False"
     },
     "execution_count": 313,
     "metadata": {},
     "output_type": "execute_result"
    }
   ],
   "source": [
    "c != d"
   ]
  },
  {
   "cell_type": "code",
   "execution_count": 314,
   "id": "5073ddf2",
   "metadata": {
    "pycharm": {
     "name": "#%%\n"
    }
   },
   "outputs": [
    {
     "name": "stdout",
     "output_type": "stream",
     "text": [
      "[1, 2, 3, [4, 5, 6, 7]]\n",
      "[1, 2, 3, [4, 5, 6, 7]]\n"
     ]
    }
   ],
   "source": [
    "list1 = [1, 2, 3, [4, 5, 6]]\n",
    "copied_list = list1.copy()\n",
    "copied_list[3].append(7)\n",
    "print(list1)\n",
    "print(copied_list)"
   ]
  },
  {
   "cell_type": "code",
   "execution_count": 315,
   "id": "59567fd3",
   "metadata": {
    "pycharm": {
     "name": "#%%\n"
    }
   },
   "outputs": [],
   "source": [
    "list1.append(0)"
   ]
  },
  {
   "cell_type": "code",
   "execution_count": 316,
   "id": "ecb7fe6b",
   "metadata": {
    "pycharm": {
     "name": "#%%\n"
    }
   },
   "outputs": [
    {
     "name": "stdout",
     "output_type": "stream",
     "text": [
      "[1, 2, 3, [4, 5, 6, 7], 0]\n",
      "[1, 2, 3, [4, 5, 6, 7]]\n"
     ]
    }
   ],
   "source": [
    "print(list1)\n",
    "print(copied_list)"
   ]
  },
  {
   "cell_type": "code",
   "execution_count": 317,
   "id": "326d1ea1",
   "metadata": {
    "pycharm": {
     "name": "#%%\n"
    }
   },
   "outputs": [],
   "source": [
    "import copy"
   ]
  },
  {
   "cell_type": "code",
   "execution_count": 318,
   "id": "0b390a35",
   "metadata": {
    "pycharm": {
     "name": "#%%\n"
    }
   },
   "outputs": [],
   "source": [
    "shallow_copy = copy.copy(list1)\n",
    "shallow_copy[3].append(8)"
   ]
  },
  {
   "cell_type": "code",
   "execution_count": 319,
   "id": "57115d3c",
   "metadata": {
    "pycharm": {
     "name": "#%%\n"
    }
   },
   "outputs": [
    {
     "name": "stdout",
     "output_type": "stream",
     "text": [
      "[1, 2, 3, [4, 5, 6, 7, 8], 0]\n",
      "[1, 2, 3, [4, 5, 6, 7, 8], 0]\n"
     ]
    }
   ],
   "source": [
    "print(list1)\n",
    "print(shallow_copy)"
   ]
  },
  {
   "cell_type": "code",
   "execution_count": 320,
   "id": "79306903",
   "metadata": {
    "pycharm": {
     "name": "#%%\n"
    }
   },
   "outputs": [
    {
     "name": "stdout",
     "output_type": "stream",
     "text": [
      "[1, 2, 3, [4, 5, 6, 7, 8], 0]\n",
      "[1, 2, 3, [4, 5, 6, 7, 8, 10], 0]\n"
     ]
    }
   ],
   "source": [
    "deep_copy = copy.deepcopy(list1)\n",
    "deep_copy[3].append(10)\n",
    "print(list1)\n",
    "print(deep_copy)"
   ]
  },
  {
   "cell_type": "code",
   "execution_count": 321,
   "id": "a126d848",
   "metadata": {
    "pycharm": {
     "name": "#%%\n"
    }
   },
   "outputs": [],
   "source": [
    "class Point():\n",
    "    def __init__(self, x, y):\n",
    "        self.x = x\n",
    "        self.y = y\n",
    "\n",
    "    def __repr__(self):\n",
    "        return f\"Point({self.x}, {self.y})\"\n"
   ]
  },
  {
   "cell_type": "code",
   "execution_count": 322,
   "id": "6d6a8f22",
   "metadata": {
    "pycharm": {
     "name": "#%%\n"
    }
   },
   "outputs": [],
   "source": [
    "a = Point(1, 2)\n",
    "b = copy.copy(a)"
   ]
  },
  {
   "cell_type": "code",
   "execution_count": 323,
   "id": "a2ce1667",
   "metadata": {
    "pycharm": {
     "name": "#%%\n"
    }
   },
   "outputs": [],
   "source": [
    "a.x = 3"
   ]
  },
  {
   "cell_type": "code",
   "execution_count": 324,
   "id": "52124e3f",
   "metadata": {
    "pycharm": {
     "name": "#%%\n"
    }
   },
   "outputs": [
    {
     "name": "stdout",
     "output_type": "stream",
     "text": [
      "Point(3, 2)\n",
      "Point(1, 2)\n"
     ]
    }
   ],
   "source": [
    "print(a)\n",
    "print(b)"
   ]
  },
  {
   "cell_type": "code",
   "execution_count": 325,
   "id": "d1264f0c",
   "metadata": {
    "pycharm": {
     "name": "#%%\n"
    }
   },
   "outputs": [],
   "source": [
    "class Line():\n",
    "    def __init__(self, p1, p2):\n",
    "        self.p1 = p1\n",
    "        self.p2 = p2\n",
    "\n",
    "    def __copy__(self):\n",
    "        cls = self.__class__\n",
    "        result = cls.__new__(cls)\n",
    "        result.__dict__.update(self.__dict__)\n",
    "        return result\n",
    "\n",
    "    def __deepcopy__(self, memo):\n",
    "        cls = self.__class__\n",
    "        result = cls.__new__(cls)\n",
    "        memo[id(self)] = result\n",
    "        for k, v in self.__dict__.items():\n",
    "            setattr(result, k, copy.deepcopy(v, memo))\n",
    "        return result"
   ]
  },
  {
   "cell_type": "code",
   "execution_count": 326,
   "id": "1d41216b",
   "metadata": {
    "pycharm": {
     "name": "#%%\n"
    }
   },
   "outputs": [
    {
     "name": "stdout",
     "output_type": "stream",
     "text": [
      "Point(3, 2)\n",
      "Point(3, 2)\n"
     ]
    }
   ],
   "source": [
    "l1 = Line(a, b)\n",
    "l2 = copy.copy(l1)\n",
    "print(l1.p1)\n",
    "print(l2.p1)"
   ]
  },
  {
   "cell_type": "code",
   "execution_count": 327,
   "id": "9de34771",
   "metadata": {
    "pycharm": {
     "name": "#%%\n"
    }
   },
   "outputs": [
    {
     "name": "stdout",
     "output_type": "stream",
     "text": [
      "Point(4, 2)\n",
      "Point(4, 2)\n"
     ]
    }
   ],
   "source": [
    "l1.p1.x = 4\n",
    "print(l1.p1)\n",
    "print(l2.p1)"
   ]
  },
  {
   "cell_type": "code",
   "execution_count": 328,
   "id": "fc6751bc",
   "metadata": {
    "pycharm": {
     "name": "#%%\n"
    }
   },
   "outputs": [
    {
     "name": "stdout",
     "output_type": "stream",
     "text": [
      "Point(4, 2)\n",
      "Point(4, 2)\n",
      "Point(6, 2)\n",
      "Point(4, 2)\n"
     ]
    }
   ],
   "source": [
    "l1 = Line(a, b)\n",
    "l2 = copy.deepcopy(l1)\n",
    "print(l1.p1)\n",
    "print(l2.p1)\n",
    "l1.p1.x = 6\n",
    "print(l1.p1)\n",
    "print(l2.p1)"
   ]
  },
  {
   "cell_type": "code",
   "execution_count": 329,
   "id": "66eddb01",
   "metadata": {
    "pycharm": {
     "name": "#%%\n"
    }
   },
   "outputs": [],
   "source": [
    "from enum import Enum"
   ]
  },
  {
   "cell_type": "code",
   "execution_count": 330,
   "id": "49f3c5e2",
   "metadata": {
    "pycharm": {
     "name": "#%%\n"
    }
   },
   "outputs": [],
   "source": [
    "class TrafficLight(Enum):\n",
    "    RED = 1\n",
    "    YELLOW = 2\n",
    "    GREEN = 3\n"
   ]
  },
  {
   "cell_type": "code",
   "execution_count": 331,
   "id": "e59986c7",
   "metadata": {
    "pycharm": {
     "name": "#%%\n"
    }
   },
   "outputs": [
    {
     "data": {
      "text/plain": "<TrafficLight.RED: 1>"
     },
     "execution_count": 331,
     "metadata": {},
     "output_type": "execute_result"
    }
   ],
   "source": [
    "TrafficLight.RED"
   ]
  },
  {
   "cell_type": "code",
   "execution_count": 332,
   "id": "d6380869",
   "metadata": {
    "pycharm": {
     "name": "#%%\n"
    }
   },
   "outputs": [
    {
     "name": "stdout",
     "output_type": "stream",
     "text": [
      "TrafficLight.RED\n"
     ]
    }
   ],
   "source": [
    "print(TrafficLight.RED)"
   ]
  },
  {
   "cell_type": "code",
   "execution_count": 333,
   "id": "558e742a",
   "metadata": {
    "pycharm": {
     "name": "#%%\n"
    }
   },
   "outputs": [
    {
     "name": "stdout",
     "output_type": "stream",
     "text": [
      "RED\n",
      "1\n"
     ]
    }
   ],
   "source": [
    "print(TrafficLight.RED.name)\n",
    "print(TrafficLight.RED.value)"
   ]
  },
  {
   "cell_type": "code",
   "execution_count": 334,
   "id": "080efca8",
   "metadata": {
    "pycharm": {
     "name": "#%%\n"
    }
   },
   "outputs": [
    {
     "name": "stdout",
     "output_type": "stream",
     "text": [
      "TrafficLight.RED\n",
      "TrafficLight.YELLOW\n",
      "TrafficLight.GREEN\n"
     ]
    }
   ],
   "source": [
    "for x in TrafficLight:\n",
    "    print(x)"
   ]
  },
  {
   "cell_type": "code",
   "execution_count": 335,
   "id": "da38ce61",
   "metadata": {
    "pycharm": {
     "name": "#%%\n"
    }
   },
   "outputs": [
    {
     "data": {
      "text/plain": "<TrafficLight.RED: 1>"
     },
     "execution_count": 335,
     "metadata": {},
     "output_type": "execute_result"
    }
   ],
   "source": [
    "TrafficLight(1)"
   ]
  },
  {
   "cell_type": "code",
   "execution_count": 336,
   "id": "a280b1bd",
   "metadata": {
    "pycharm": {
     "name": "#%%\n"
    }
   },
   "outputs": [
    {
     "data": {
      "text/plain": "<TrafficLight.RED: 1>"
     },
     "execution_count": 336,
     "metadata": {},
     "output_type": "execute_result"
    }
   ],
   "source": [
    "TrafficLight['RED']"
   ]
  },
  {
   "cell_type": "code",
   "execution_count": 337,
   "id": "ee2d0058",
   "metadata": {
    "pycharm": {
     "name": "#%%\n"
    }
   },
   "outputs": [
    {
     "name": "stdout",
     "output_type": "stream",
     "text": [
      "True\n",
      "False\n"
     ]
    }
   ],
   "source": [
    "print(TrafficLight.RED == TrafficLight.RED)\n",
    "print(TrafficLight.RED == TrafficLight.GREEN)"
   ]
  },
  {
   "cell_type": "code",
   "execution_count": 338,
   "id": "d2aaeb2b",
   "metadata": {
    "pycharm": {
     "name": "#%%\n"
    }
   },
   "outputs": [],
   "source": [
    "from enum import IntEnum"
   ]
  },
  {
   "cell_type": "code",
   "execution_count": 339,
   "id": "9bb435d2",
   "metadata": {
    "pycharm": {
     "name": "#%%\n"
    }
   },
   "outputs": [],
   "source": [
    "class Priority(IntEnum):\n",
    "    LOW = 1\n",
    "    NORMAL = 2\n",
    "    HIGH = 3"
   ]
  },
  {
   "cell_type": "code",
   "execution_count": 340,
   "id": "3b349f07",
   "metadata": {
    "pycharm": {
     "name": "#%%\n"
    }
   },
   "outputs": [
    {
     "data": {
      "text/plain": "True"
     },
     "execution_count": 340,
     "metadata": {},
     "output_type": "execute_result"
    }
   ],
   "source": [
    "Priority.LOW < Priority.NORMAL"
   ]
  },
  {
   "cell_type": "code",
   "execution_count": 341,
   "id": "f2dc24fa",
   "metadata": {
    "pycharm": {
     "name": "#%%\n"
    }
   },
   "outputs": [],
   "source": [
    "from enum import IntFlag\n",
    "\n",
    "\n",
    "class Color(IntFlag):\n",
    "    RED = 1\n",
    "    GREEN = 2\n",
    "    BLUE = 3"
   ]
  },
  {
   "cell_type": "code",
   "execution_count": 342,
   "id": "f7206857",
   "metadata": {
    "pycharm": {
     "name": "#%%\n"
    }
   },
   "outputs": [],
   "source": [
    "combination = Color.RED | Color.GREEN"
   ]
  },
  {
   "cell_type": "code",
   "execution_count": 343,
   "id": "14fff95c",
   "metadata": {
    "pycharm": {
     "name": "#%%\n"
    }
   },
   "outputs": [
    {
     "data": {
      "text/plain": "<Color.BLUE: 3>"
     },
     "execution_count": 343,
     "metadata": {},
     "output_type": "execute_result"
    }
   ],
   "source": [
    "combination"
   ]
  },
  {
   "cell_type": "code",
   "execution_count": 344,
   "id": "e1cebc9a",
   "metadata": {
    "pycharm": {
     "name": "#%%\n"
    }
   },
   "outputs": [
    {
     "data": {
      "text/plain": "True"
     },
     "execution_count": 344,
     "metadata": {},
     "output_type": "execute_result"
    }
   ],
   "source": [
    "Color.RED in combination"
   ]
  },
  {
   "cell_type": "code",
   "execution_count": 345,
   "id": "ff4e28ec",
   "metadata": {
    "pycharm": {
     "name": "#%%\n"
    }
   },
   "outputs": [],
   "source": [
    "class Planet(Enum):\n",
    "    MERCURY = (3.303e+23, 2.4397e6)\n",
    "    EARTH = (5.976e+24, 6.37814e6)\n",
    "    JUPITER = (1.9e+27, 7.1492e7)\n",
    "\n",
    "    def __init__(self, mass, radius):\n",
    "        self.mass = mass\n",
    "        self.radius = radius\n",
    "\n",
    "    @property\n",
    "    def surface_gravity(self):\n",
    "        G = 6.67300E-11\n",
    "        return G * self.mass / (self.radius * self.radius)"
   ]
  },
  {
   "cell_type": "code",
   "execution_count": 346,
   "id": "864c5a85",
   "metadata": {
    "pycharm": {
     "name": "#%%\n"
    }
   },
   "outputs": [
    {
     "data": {
      "text/plain": "(5.976e+24, 6378140.0)"
     },
     "execution_count": 346,
     "metadata": {},
     "output_type": "execute_result"
    }
   ],
   "source": [
    "Planet.EARTH.value"
   ]
  },
  {
   "cell_type": "code",
   "execution_count": 347,
   "id": "dfe03a1e",
   "metadata": {
    "pycharm": {
     "name": "#%%\n"
    }
   },
   "outputs": [
    {
     "data": {
      "text/plain": "9.802652743337129"
     },
     "execution_count": 347,
     "metadata": {},
     "output_type": "execute_result"
    }
   ],
   "source": [
    "Planet.EARTH.surface_gravity"
   ]
  },
  {
   "cell_type": "code",
   "execution_count": 348,
   "id": "636f3b4a",
   "metadata": {
    "pycharm": {
     "name": "#%%\n"
    }
   },
   "outputs": [],
   "source": [
    "import json"
   ]
  },
  {
   "cell_type": "code",
   "execution_count": 349,
   "id": "dbfe8135",
   "metadata": {
    "pycharm": {
     "name": "#%%\n"
    }
   },
   "outputs": [],
   "source": [
    "class Tournament:\n",
    "    def __init__(self, name, year):\n",
    "        self.name = name\n",
    "        self.year = year\n"
   ]
  },
  {
   "cell_type": "code",
   "execution_count": 350,
   "id": "b6fb2b3a",
   "metadata": {
    "pycharm": {
     "name": "#%%\n"
    }
   },
   "outputs": [
    {
     "name": "stdout",
     "output_type": "stream",
     "text": [
      "{\n",
      "  \"Aeroflot Open\": 2010,\n",
      "  \"FIDE World Cup\": 2018,\n",
      "  \"FIDE Grand Prix\": 2016\n",
      "}\n",
      "<class 'dict'>\n",
      "{'Aeroflot Open': 2010, 'FIDE World Cup': 2018, 'FIDE Grand Prix': 2016}\n"
     ]
    }
   ],
   "source": [
    "tournaments = {\n",
    "    \"Aeroflot Open\": 2010,\n",
    "    \"FIDE World Cup\": 2018,\n",
    "    \"FIDE Grand Prix\": 2016,\n",
    "}\n",
    "json_data = json.dumps(tournaments, indent=2)  #serialization\n",
    "print(json_data)\n",
    "loaded = json.loads(json_data)  #deserialization\n",
    "print(type(loaded))\n",
    "print(loaded)"
   ]
  },
  {
   "cell_type": "code",
   "execution_count": 351,
   "id": "3a24a29e",
   "metadata": {
    "pycharm": {
     "name": "#%%\n"
    }
   },
   "outputs": [
    {
     "name": "stdout",
     "output_type": "stream",
     "text": [
      "{\"name\": \"Aeroflot Open\", \"year\": 2010}\n",
      "name = Aeroflot Open, year = 2010\n"
     ]
    }
   ],
   "source": [
    "t1 = Tournament(\"Aeroflot Open\", 2010)\n",
    "json_data = json.dumps(t1.__dict__)\n",
    "print(json_data)\n",
    "t = Tournament(**json.loads(json_data))\n",
    "print(f'name = {t.name}, year = {t.year}')"
   ]
  },
  {
   "cell_type": "code",
   "execution_count": 352,
   "id": "541d60be",
   "metadata": {
    "pycharm": {
     "name": "#%%\n"
    }
   },
   "outputs": [],
   "source": [
    "class ChessPlayer:\n",
    "    def __init__(self, tournaments):\n",
    "        self.tournaments = tournaments"
   ]
  },
  {
   "cell_type": "code",
   "execution_count": 353,
   "id": "647337c1",
   "metadata": {
    "pycharm": {
     "name": "#%%\n"
    }
   },
   "outputs": [],
   "source": [
    "t1 = Tournament(\"Aeroflot Open\", 2010)\n",
    "t2 = Tournament(\"FIDE World Cup\", 2018)\n",
    "t3 = Tournament(\"FIDE Grand Prix\", 2016)\n",
    "p1 = ChessPlayer([t1, t2, t3])"
   ]
  },
  {
   "cell_type": "code",
   "execution_count": 354,
   "id": "0a0f153b",
   "metadata": {
    "pycharm": {
     "name": "#%%\n"
    }
   },
   "outputs": [
    {
     "name": "stdout",
     "output_type": "stream",
     "text": [
      "{\"tournaments\": [{\"name\": \"Aeroflot Open\", \"year\": 2010}, {\"name\": \"FIDE World Cup\", \"year\": 2018}, {\"name\": \"FIDE Grand Prix\", \"year\": 2016}]}\n"
     ]
    }
   ],
   "source": [
    "json_data = json.dumps(p1, default=lambda obj: obj.__dict__)\n",
    "print(json_data)"
   ]
  },
  {
   "cell_type": "code",
   "execution_count": 355,
   "id": "b224215b",
   "metadata": {
    "pycharm": {
     "name": "#%%\n"
    }
   },
   "outputs": [
    {
     "name": "stdout",
     "output_type": "stream",
     "text": [
      "<__main__.ChessPlayer object at 0x000002B2A7A37CA0>\n"
     ]
    }
   ],
   "source": [
    "decoded_player = ChessPlayer(**json.loads(json_data))\n",
    "print(decoded_player)"
   ]
  },
  {
   "cell_type": "code",
   "execution_count": 356,
   "id": "5b58a1e5",
   "metadata": {
    "pycharm": {
     "name": "#%%\n"
    }
   },
   "outputs": [
    {
     "name": "stdout",
     "output_type": "stream",
     "text": [
      "<class 'dict'>\n",
      "{'name': 'Aeroflot Open', 'year': 2010}\n"
     ]
    }
   ],
   "source": [
    "player_tournament = decoded_player.tournaments[0]\n",
    "print(type(player_tournament))\n",
    "print(player_tournament)"
   ]
  },
  {
   "cell_type": "code",
   "execution_count": 357,
   "id": "43e62360",
   "metadata": {
    "pycharm": {
     "name": "#%%\n"
    }
   },
   "outputs": [
    {
     "name": "stdout",
     "output_type": "stream",
     "text": [
      "<class 'str'>\n",
      "{\n",
      "    \"tournaments\": [\n",
      "        {\n",
      "            \"name\": \"Aeroflot Open\",\n",
      "            \"year\": 2010\n",
      "        },\n",
      "        {\n",
      "            \"name\": \"FIDE World Cup\",\n",
      "            \"year\": 2018\n",
      "        },\n",
      "        {\n",
      "            \"name\": \"FIDE Grand Prix\",\n",
      "            \"year\": 2016\n",
      "        }\n",
      "    ]\n",
      "}\n",
      "<__main__.ChessPlayer object at 0x000002B2A7A37FD0>\n",
      "[<__main__.Tournament object at 0x000002B2A7A37EE0>, <__main__.Tournament object at 0x000002B2A7A40C40>, <__main__.Tournament object at 0x000002B2A7A40E80>]\n",
      "<__main__.Tournament object at 0x000002B2A7A37EE0>\n",
      "<__main__.Tournament object at 0x000002B2A7A40C40>\n",
      "<__main__.Tournament object at 0x000002B2A7A40E80>\n"
     ]
    }
   ],
   "source": [
    "class Tournament:\n",
    "    def __init__(self, name, year):\n",
    "        self.name = name\n",
    "        self.year = year\n",
    "\n",
    "    @classmethod\n",
    "    def from_json(cls, json_data):\n",
    "        return cls(**json_data)\n",
    "\n",
    "\n",
    "class ChessPlayer:\n",
    "    def __init__(self, tournaments):\n",
    "        self.tournaments = tournaments\n",
    "\n",
    "    @classmethod\n",
    "    def from_json(cls, json_data):\n",
    "        tournaments = list(map(Tournament.from_json, json_data[\"tournaments\"]))\n",
    "        return cls(tournaments)\n",
    "\n",
    "\n",
    "t1 = Tournament(\"Aeroflot Open\", 2010)\n",
    "t2 = Tournament(\"FIDE World Cup\", 2018)\n",
    "t3 = Tournament(\"FIDE Grand Prix\", 2016)\n",
    "p1 = ChessPlayer([t1, t2, t3])\n",
    "json_data = json.dumps(p1, default=lambda obj: obj.__dict__, indent=4, sort_keys=True)\n",
    "print(type(json_data))\n",
    "print(json_data)\n",
    "decoded_player = ChessPlayer.from_json(json.loads(json_data))\n",
    "print(decoded_player)\n",
    "print(decoded_player.tournaments)\n",
    "for x in decoded_player.tournaments:\n",
    "    print(x)"
   ]
  },
  {
   "cell_type": "code",
   "execution_count": 358,
   "id": "6ce6e7e9",
   "metadata": {
    "pycharm": {
     "name": "#%%\n"
    }
   },
   "outputs": [
    {
     "name": "stdout",
     "output_type": "stream",
     "text": [
      "{'tournaments': [{'name': 'Aeroflot Open', 'year': 2010}, {'name': 'FIDE World Cup', 'year': 2018}, {'name': 'FIDE Grand Prix', 'year': 2016}]}\n"
     ]
    }
   ],
   "source": [
    "with open(\"player.json\", \"w\") as file:\n",
    "    json.dump(p1, file, default=lambda obj: obj.__dict__)\n",
    "with open(\"player.json\", \"r\") as read_file:\n",
    "    data = json.load(read_file)\n",
    "print(data)"
   ]
  },
  {
   "cell_type": "code",
   "execution_count": 359,
   "id": "c7300755",
   "metadata": {
    "pycharm": {
     "name": "#%%\n"
    }
   },
   "outputs": [
    {
     "name": "stdout",
     "output_type": "stream",
     "text": [
      "<__main__.ChessPlayer object at 0x000002B2A7A3F9D0>\n",
      "[<__main__.Tournament object at 0x000002B2A7A30FA0>, <__main__.Tournament object at 0x000002B2A7A371C0>, <__main__.Tournament object at 0x000002B2A7A40460>]\n"
     ]
    }
   ],
   "source": [
    "decoded_player = ChessPlayer.from_json(data)\n",
    "print(decoded_player)\n",
    "print(decoded_player.tournaments)"
   ]
  },
  {
   "cell_type": "code",
   "execution_count": 360,
   "id": "db608043",
   "metadata": {
    "pycharm": {
     "name": "#%%\n"
    }
   },
   "outputs": [],
   "source": [
    "import random"
   ]
  },
  {
   "cell_type": "code",
   "execution_count": 361,
   "id": "b678a6f7",
   "metadata": {
    "pycharm": {
     "name": "#%%\n"
    }
   },
   "outputs": [],
   "source": [
    "def randoms(min, max, n):\n",
    "    return [random.randint(min, max) for _ in range(n)]"
   ]
  },
  {
   "cell_type": "code",
   "execution_count": 362,
   "id": "e12a00d0",
   "metadata": {
    "pycharm": {
     "name": "#%%\n"
    }
   },
   "outputs": [
    {
     "name": "stdout",
     "output_type": "stream",
     "text": [
      "18\n",
      "14\n",
      "11\n",
      "25\n",
      "26\n"
     ]
    }
   ],
   "source": [
    "for r in randoms(10, 30, 5):\n",
    "    print(r)"
   ]
  },
  {
   "cell_type": "code",
   "execution_count": 363,
   "id": "a25bb2da",
   "metadata": {
    "pycharm": {
     "name": "#%%\n"
    }
   },
   "outputs": [
    {
     "data": {
      "text/plain": "[6, 7, 2, 10, 4, 3, 5, 9, 8, 10]"
     },
     "execution_count": 363,
     "metadata": {},
     "output_type": "execute_result"
    }
   ],
   "source": [
    "rand_sequence = randoms(1, 10, 10)\n",
    "rand_sequence"
   ]
  },
  {
   "cell_type": "code",
   "execution_count": 364,
   "id": "4bf0f84d",
   "metadata": {
    "pycharm": {
     "name": "#%%\n"
    }
   },
   "outputs": [],
   "source": [
    "def randoms(min, max, n):\n",
    "    for _ in range(n):\n",
    "        yield random.randint(min, max)"
   ]
  },
  {
   "cell_type": "code",
   "execution_count": 365,
   "id": "4fdcd544",
   "metadata": {
    "pycharm": {
     "name": "#%%\n"
    }
   },
   "outputs": [
    {
     "name": "stdout",
     "output_type": "stream",
     "text": [
      "26\n",
      "20\n",
      "24\n",
      "17\n",
      "26\n"
     ]
    }
   ],
   "source": [
    "for r in randoms(10, 30, 5):\n",
    "    print(r)"
   ]
  },
  {
   "cell_type": "code",
   "execution_count": 366,
   "id": "24580ab4",
   "metadata": {
    "pycharm": {
     "name": "#%%\n"
    }
   },
   "outputs": [
    {
     "data": {
      "text/plain": "<generator object randoms at 0x000002B2A7A4E0B0>"
     },
     "execution_count": 366,
     "metadata": {},
     "output_type": "execute_result"
    }
   ],
   "source": [
    "rand_sequence = randoms(1, 10, 10)\n",
    "rand_sequence"
   ]
  },
  {
   "cell_type": "code",
   "execution_count": 367,
   "id": "8b67f84f",
   "metadata": {
    "pycharm": {
     "name": "#%%\n"
    }
   },
   "outputs": [
    {
     "name": "stdout",
     "output_type": "stream",
     "text": [
      "2\n",
      "10\n",
      "2\n",
      "1\n",
      "4\n",
      "9\n",
      "4\n",
      "3\n",
      "7\n",
      "8\n"
     ]
    }
   ],
   "source": [
    "for r in rand_sequence:\n",
    "    print(r)"
   ]
  },
  {
   "cell_type": "code",
   "execution_count": 368,
   "id": "34952e36",
   "metadata": {
    "pycharm": {
     "name": "#%%\n"
    }
   },
   "outputs": [],
   "source": [
    "for r in rand_sequence:\n",
    "    print(r)"
   ]
  },
  {
   "cell_type": "code",
   "execution_count": 369,
   "id": "a385b4c7",
   "metadata": {
    "pycharm": {
     "name": "#%%\n"
    }
   },
   "outputs": [
    {
     "data": {
      "text/plain": "[3, 1, 10, 8, 7]"
     },
     "execution_count": 369,
     "metadata": {},
     "output_type": "execute_result"
    }
   ],
   "source": [
    "seq = list(randoms(1, 10, 5))\n",
    "seq"
   ]
  },
  {
   "cell_type": "code",
   "execution_count": 370,
   "id": "9a74f3f5",
   "metadata": {
    "pycharm": {
     "name": "#%%\n"
    }
   },
   "outputs": [
    {
     "data": {
      "text/plain": "[3, 1, 10, 8, 7]"
     },
     "execution_count": 370,
     "metadata": {},
     "output_type": "execute_result"
    }
   ],
   "source": [
    "seq"
   ]
  },
  {
   "cell_type": "code",
   "execution_count": 371,
   "id": "8657d84f",
   "metadata": {
    "pycharm": {
     "name": "#%%\n"
    }
   },
   "outputs": [],
   "source": [
    "def randoms(min, max, n):\n",
    "    for _ in range(n):\n",
    "        yield random.randint(min, max)"
   ]
  },
  {
   "cell_type": "code",
   "execution_count": 372,
   "id": "b8aace02",
   "metadata": {
    "pycharm": {
     "name": "#%%\n"
    }
   },
   "outputs": [
    {
     "name": "stdout",
     "output_type": "stream",
     "text": [
      "[2, 9, 3, 10, 1]\n"
     ]
    }
   ],
   "source": [
    "import itertools\n",
    "\n",
    "rand_sequence = randoms(1, 10, 10)\n",
    "five_taken = list(itertools.islice(rand_sequence, 5))\n",
    "print(five_taken)"
   ]
  },
  {
   "cell_type": "code",
   "execution_count": 373,
   "id": "48ee802a",
   "metadata": {
    "pycharm": {
     "name": "#%%\n"
    }
   },
   "outputs": [],
   "source": [
    "def randoms(min, max):\n",
    "    while True:\n",
    "        yield random.randint(min, max)"
   ]
  },
  {
   "cell_type": "code",
   "execution_count": 374,
   "id": "eef1ea75",
   "metadata": {
    "pycharm": {
     "name": "#%%\n"
    }
   },
   "outputs": [],
   "source": [
    "rand_sequence = randoms(1, 100000)"
   ]
  },
  {
   "cell_type": "code",
   "execution_count": 375,
   "id": "b4fd1886",
   "metadata": {
    "pycharm": {
     "name": "#%%\n"
    }
   },
   "outputs": [
    {
     "name": "stdout",
     "output_type": "stream",
     "text": [
      "[43719, 44003, 39736, 46397, 84598]\n"
     ]
    }
   ],
   "source": [
    "five_taken = list(itertools.islice(rand_sequence, 5))\n",
    "print(five_taken)"
   ]
  },
  {
   "cell_type": "code",
   "execution_count": 376,
   "id": "ce4690f3",
   "metadata": {
    "pycharm": {
     "name": "#%%\n"
    }
   },
   "outputs": [],
   "source": [
    "def read_line_by_line(file):\n",
    "    \"\"\"Lazy function (generator) to read a file line by line.\"\"\"\n",
    "    while True:\n",
    "        line = file.readline()\n",
    "        if not line:\n",
    "            break\n",
    "        yield line"
   ]
  },
  {
   "cell_type": "code",
   "execution_count": 377,
   "id": "2d29eea0",
   "metadata": {
    "pycharm": {
     "name": "#%%\n"
    }
   },
   "outputs": [],
   "source": [
    "#file = open(f'C:\\\\test.txt')\n",
    "#for line in read_line_by_line(file):\n",
    "#print(line.rstrip())"
   ]
  },
  {
   "cell_type": "code",
   "execution_count": 378,
   "id": "fab4b31a",
   "metadata": {
    "pycharm": {
     "name": "#%%\n"
    }
   },
   "outputs": [
    {
     "name": "stdout",
     "output_type": "stream",
     "text": [
      "4\n",
      "4\n",
      "8\n"
     ]
    }
   ],
   "source": [
    "rand_sequence = randoms(1, 10)\n",
    "n = next(rand_sequence)\n",
    "print(n)\n",
    "n = next(rand_sequence)\n",
    "print(n)\n",
    "n = next(rand_sequence)\n",
    "print(n)"
   ]
  },
  {
   "cell_type": "code",
   "execution_count": 379,
   "id": "f77ec2b1",
   "metadata": {
    "pycharm": {
     "name": "#%%\n"
    }
   },
   "outputs": [
    {
     "data": {
      "text/plain": "[1, 4, 9, 16]"
     },
     "execution_count": 379,
     "metadata": {},
     "output_type": "execute_result"
    }
   ],
   "source": [
    "my_list = [1, 2, 3, 4]\n",
    "squares = [x ** 2 for x in my_list]\n",
    "squares"
   ]
  },
  {
   "cell_type": "code",
   "execution_count": 380,
   "id": "33be0f05",
   "metadata": {
    "pycharm": {
     "name": "#%%\n"
    }
   },
   "outputs": [
    {
     "data": {
      "text/plain": "<generator object <genexpr> at 0x000002B2A7A4E5F0>"
     },
     "execution_count": 380,
     "metadata": {},
     "output_type": "execute_result"
    }
   ],
   "source": [
    "squares = (x ** 2 for x in my_list)\n",
    "squares"
   ]
  },
  {
   "cell_type": "code",
   "execution_count": 381,
   "id": "c493d955",
   "metadata": {
    "pycharm": {
     "name": "#%%\n"
    }
   },
   "outputs": [
    {
     "name": "stdout",
     "output_type": "stream",
     "text": [
      "1\n",
      "4\n",
      "9\n",
      "16\n"
     ]
    }
   ],
   "source": [
    "for i in squares:\n",
    "    print(i)"
   ]
  },
  {
   "cell_type": "code",
   "execution_count": 382,
   "id": "e90b9140",
   "metadata": {
    "pycharm": {
     "name": "#%%\n"
    }
   },
   "outputs": [
    {
     "name": "stdout",
     "output_type": "stream",
     "text": [
      "<class 'list_iterator'>\n",
      "1\n",
      "2\n",
      "3\n"
     ]
    }
   ],
   "source": [
    "iterable = [1, 2, 3]\n",
    "iterator = iter(iterable)  #будет вызван метод __iter__()\n",
    "print(type(iterator))\n",
    "print(next(iterator))  #будет вызван метод __next__()\n",
    "\n",
    "print(next(iterator))\n",
    "print(next(iterator))"
   ]
  },
  {
   "cell_type": "code",
   "execution_count": 383,
   "id": "c4155e31",
   "metadata": {
    "pycharm": {
     "name": "#%%\n"
    }
   },
   "outputs": [
    {
     "name": "stdout",
     "output_type": "stream",
     "text": [
      "[0, 2, 4, 6, 8]\n"
     ]
    }
   ],
   "source": [
    "even_numbers = [x for x in range(10) if x % 2 == 0]\n",
    "print(even_numbers)"
   ]
  },
  {
   "cell_type": "code",
   "execution_count": 384,
   "id": "6c806dc4",
   "metadata": {
    "pycharm": {
     "name": "#%%\n"
    }
   },
   "outputs": [],
   "source": [
    "import itertools as it"
   ]
  },
  {
   "cell_type": "code",
   "execution_count": 385,
   "id": "d17d8869",
   "metadata": {
    "pycharm": {
     "name": "#%%\n"
    }
   },
   "outputs": [
    {
     "data": {
      "text/plain": "count(0, 2)"
     },
     "execution_count": 385,
     "metadata": {},
     "output_type": "execute_result"
    }
   ],
   "source": [
    "even_numbers = it.count(0, 2)\n",
    "even_numbers"
   ]
  },
  {
   "cell_type": "code",
   "execution_count": 386,
   "id": "5d3e118d",
   "metadata": {
    "pycharm": {
     "name": "#%%\n"
    }
   },
   "outputs": [],
   "source": [
    "#for x in even_numbers:\n",
    "#print(x)"
   ]
  },
  {
   "cell_type": "code",
   "execution_count": 387,
   "id": "9bf95abc",
   "metadata": {
    "pycharm": {
     "name": "#%%\n"
    }
   },
   "outputs": [
    {
     "data": {
      "text/plain": "[0, 2, 4, 6, 8]"
     },
     "execution_count": 387,
     "metadata": {},
     "output_type": "execute_result"
    }
   ],
   "source": [
    "list(next(even_numbers) for _ in range(5))"
   ]
  },
  {
   "cell_type": "code",
   "execution_count": 388,
   "id": "d59d418e",
   "metadata": {
    "pycharm": {
     "name": "#%%\n"
    }
   },
   "outputs": [
    {
     "data": {
      "text/plain": "[(0, 'a'), (1, 'b'), (2, 'c')]"
     },
     "execution_count": 388,
     "metadata": {},
     "output_type": "execute_result"
    }
   ],
   "source": [
    "list(zip(it.count(), ['a', 'b', 'c']))"
   ]
  },
  {
   "cell_type": "code",
   "execution_count": 389,
   "id": "0e2a3ac2",
   "metadata": {
    "pycharm": {
     "name": "#%%\n"
    }
   },
   "outputs": [],
   "source": [
    "def print_iterable(iterable, end=None):\n",
    "    for x in iterable:\n",
    "        if end:\n",
    "            print(x, end=end)\n",
    "        else:\n",
    "            print(x)"
   ]
  },
  {
   "cell_type": "code",
   "execution_count": 390,
   "id": "41c4223a",
   "metadata": {
    "pycharm": {
     "name": "#%%\n"
    }
   },
   "outputs": [
    {
     "name": "stdout",
     "output_type": "stream",
     "text": [
      "1 1 1 1 1 "
     ]
    }
   ],
   "source": [
    "ones = it.repeat(1, 5)\n",
    "print_iterable(ones, ' ')"
   ]
  },
  {
   "cell_type": "code",
   "execution_count": 391,
   "id": "f9ab26d0",
   "metadata": {
    "pycharm": {
     "name": "#%%\n"
    }
   },
   "outputs": [
    {
     "data": {
      "text/plain": "[0, 1, 4, 9, 16, 25, 36, 49, 64, 81]"
     },
     "execution_count": 391,
     "metadata": {},
     "output_type": "execute_result"
    }
   ],
   "source": [
    "list(map(pow, range(10), it.repeat(2)))"
   ]
  },
  {
   "cell_type": "code",
   "execution_count": 392,
   "id": "eb1f2c7b",
   "metadata": {
    "pycharm": {
     "name": "#%%\n"
    }
   },
   "outputs": [],
   "source": [
    "#for _ in it.repeat(None, 10000):\n",
    "# do something\n",
    "#for _ in range(10000):\n",
    "# compute"
   ]
  },
  {
   "cell_type": "code",
   "execution_count": 393,
   "id": "6f119bce",
   "metadata": {
    "pycharm": {
     "name": "#%%\n"
    }
   },
   "outputs": [
    {
     "name": "stdout",
     "output_type": "stream",
     "text": [
      "[1, -1, 1, -1, 1, -1, 1, -1, 1, -1]\n",
      "['A', 'B', 'C', 'A', 'B', 'C', 'A', 'B', 'C', 'A']\n"
     ]
    }
   ],
   "source": [
    "pos_neg_ones = it.cycle([1, -1])\n",
    "print(list(next(pos_neg_ones) for _ in range(10)))\n",
    "letters = it.cycle(['A', 'B', 'C'])\n",
    "print(list(next(letters) for _ in range(10)))"
   ]
  },
  {
   "cell_type": "code",
   "execution_count": 394,
   "id": "538f6551",
   "metadata": {
    "pycharm": {
     "name": "#%%\n"
    }
   },
   "outputs": [
    {
     "data": {
      "text/plain": "[1, 3, 6, 10, 15]"
     },
     "execution_count": 394,
     "metadata": {},
     "output_type": "execute_result"
    }
   ],
   "source": [
    "list(it.accumulate([1, 2, 3, 4, 5]))\n"
   ]
  },
  {
   "cell_type": "code",
   "execution_count": 395,
   "id": "f35ee5d4",
   "metadata": {
    "pycharm": {
     "name": "#%%\n"
    }
   },
   "outputs": [
    {
     "data": {
      "text/plain": "['A', 'AB', 'ABC', 'ABCD']"
     },
     "execution_count": 395,
     "metadata": {},
     "output_type": "execute_result"
    }
   ],
   "source": [
    "list(it.accumulate(['A', 'B', 'C', 'D']))"
   ]
  },
  {
   "cell_type": "code",
   "execution_count": 396,
   "id": "c54fec00",
   "metadata": {
    "pycharm": {
     "name": "#%%\n"
    }
   },
   "outputs": [
    {
     "data": {
      "text/plain": "[3, 3, 4, 4, 7, 7, 8, 8, 9]"
     },
     "execution_count": 396,
     "metadata": {},
     "output_type": "execute_result"
    }
   ],
   "source": [
    "list(it.accumulate([3, 1, 4, 2, 7, 3, 8, 5, 9], max))"
   ]
  },
  {
   "cell_type": "code",
   "execution_count": 397,
   "id": "00bb07a3",
   "metadata": {
    "pycharm": {
     "name": "#%%\n"
    }
   },
   "outputs": [
    {
     "data": {
      "text/plain": "['A', 'B', 'C', 'D', 'E', 'F']"
     },
     "execution_count": 397,
     "metadata": {},
     "output_type": "execute_result"
    }
   ],
   "source": [
    "list(it.chain('ABC', 'DEF'))"
   ]
  },
  {
   "cell_type": "code",
   "execution_count": 398,
   "id": "ae85736a",
   "metadata": {
    "pycharm": {
     "name": "#%%\n"
    }
   },
   "outputs": [
    {
     "data": {
      "text/plain": "['A', 'B', 'C', 'D', 'E', 'F']"
     },
     "execution_count": 398,
     "metadata": {},
     "output_type": "execute_result"
    }
   ],
   "source": [
    "list(it.chain.from_iterable(['ABC', 'DEF']))"
   ]
  },
  {
   "cell_type": "code",
   "execution_count": 399,
   "id": "f3af0fd7",
   "metadata": {
    "pycharm": {
     "name": "#%%\n"
    }
   },
   "outputs": [
    {
     "data": {
      "text/plain": "[1, 2, 3, 4, 5, 6, 7, 8, 9]"
     },
     "execution_count": 399,
     "metadata": {},
     "output_type": "execute_result"
    }
   ],
   "source": [
    "list(it.chain([1, 2, 3], [4, 5, 6], [7, 8, 9]))"
   ]
  },
  {
   "cell_type": "code",
   "execution_count": 400,
   "id": "4efe6fc5",
   "metadata": {
    "pycharm": {
     "name": "#%%\n"
    }
   },
   "outputs": [
    {
     "data": {
      "text/plain": "[3, 4, 5]"
     },
     "execution_count": 400,
     "metadata": {},
     "output_type": "execute_result"
    }
   ],
   "source": [
    "list(it.dropwhile(lambda x: x < 3, [1, 2, 3, 4, 5]))"
   ]
  },
  {
   "cell_type": "code",
   "execution_count": 401,
   "id": "ae9fc6cc",
   "metadata": {
    "pycharm": {
     "name": "#%%\n"
    }
   },
   "outputs": [
    {
     "data": {
      "text/plain": "[1, 2]"
     },
     "execution_count": 401,
     "metadata": {},
     "output_type": "execute_result"
    }
   ],
   "source": [
    "list(it.takewhile(lambda x: x < 3, [1, 2, 3, 4, 5]))"
   ]
  },
  {
   "cell_type": "code",
   "execution_count": 402,
   "id": "741b794e",
   "metadata": {
    "pycharm": {
     "name": "#%%\n"
    }
   },
   "outputs": [
    {
     "data": {
      "text/plain": "[1, 3, 5, 7, 9]"
     },
     "execution_count": 402,
     "metadata": {},
     "output_type": "execute_result"
    }
   ],
   "source": [
    "list(it.filterfalse(lambda x: x % 2 == 0, range(10)))"
   ]
  },
  {
   "cell_type": "code",
   "execution_count": 403,
   "id": "92ed4424",
   "metadata": {
    "pycharm": {
     "name": "#%%\n"
    }
   },
   "outputs": [
    {
     "name": "stdout",
     "output_type": "stream",
     "text": [
      "1 2 3 \n",
      "iterable is exausted\n"
     ]
    }
   ],
   "source": [
    "iterable = iter([1, 2, 3])\n",
    "print_iterable(iterable, ' ')\n",
    "print(\"\\niterable is exausted\")"
   ]
  },
  {
   "cell_type": "code",
   "execution_count": 404,
   "id": "45399e93",
   "metadata": {
    "pycharm": {
     "name": "#%%\n"
    }
   },
   "outputs": [
    {
     "name": "stdout",
     "output_type": "stream",
     "text": [
      "Return whether 'cls' is a derived from another class or is the same class.\n",
      "\n",
      "A tuple, as in ``issubclass(x, (A, B, ...))``, may be given as the target to\n",
      "check against. This is equivalent to ``issubclass(x, A) or issubclass(x, B)\n",
      "or ...`` etc.\n"
     ]
    }
   ],
   "source": [
    "print(issubclass.__doc__)"
   ]
  },
  {
   "cell_type": "code",
   "execution_count": 405,
   "id": "803b103a",
   "metadata": {
    "pycharm": {
     "name": "#%%\n"
    }
   },
   "outputs": [
    {
     "name": "stdout",
     "output_type": "stream",
     "text": [
      "Help on built-in function issubclass in module builtins:\n",
      "\n",
      "issubclass(cls, class_or_tuple, /)\n",
      "    Return whether 'cls' is a derived from another class or is the same class.\n",
      "    \n",
      "    A tuple, as in ``issubclass(x, (A, B, ...))``, may be given as the target to\n",
      "    check against. This is equivalent to ``issubclass(x, A) or issubclass(x, B)\n",
      "    or ...`` etc.\n",
      "\n"
     ]
    }
   ],
   "source": [
    "help(issubclass)"
   ]
  },
  {
   "cell_type": "code",
   "execution_count": 406,
   "id": "8759a9b7",
   "metadata": {
    "pycharm": {
     "name": "#%%\n"
    }
   },
   "outputs": [],
   "source": [
    "class Shape:\n",
    "    pass\n",
    "\n",
    "\n",
    "class Circle(Shape):\n",
    "    def __init__(self, radius):\n",
    "        self.radius = radius\n",
    "\n",
    "\n",
    "circle = Circle(10)"
   ]
  },
  {
   "cell_type": "code",
   "execution_count": 407,
   "id": "dc7eae23",
   "metadata": {
    "pycharm": {
     "name": "#%%\n"
    }
   },
   "outputs": [
    {
     "name": "stdout",
     "output_type": "stream",
     "text": [
      "True\n"
     ]
    }
   ],
   "source": [
    "print(issubclass(Circle, Shape))"
   ]
  },
  {
   "cell_type": "code",
   "execution_count": 408,
   "id": "7beea9a5",
   "metadata": {
    "pycharm": {
     "name": "#%%\n"
    }
   },
   "outputs": [
    {
     "name": "stdout",
     "output_type": "stream",
     "text": [
      "True\n",
      "True\n"
     ]
    }
   ],
   "source": [
    "print(isinstance(circle, Circle))\n",
    "print(isinstance(circle, Shape))"
   ]
  },
  {
   "cell_type": "code",
   "execution_count": 409,
   "id": "30262d4c",
   "metadata": {
    "pycharm": {
     "name": "#%%\n"
    }
   },
   "outputs": [
    {
     "name": "stdout",
     "output_type": "stream",
     "text": [
      "True\n",
      "True\n",
      "False\n"
     ]
    }
   ],
   "source": [
    "print(isinstance(12, int))\n",
    "print(isinstance(\"hi\", str))\n",
    "print(isinstance(\"hi\", float))"
   ]
  },
  {
   "cell_type": "code",
   "execution_count": 410,
   "id": "ddbdaa93",
   "metadata": {
    "pycharm": {
     "name": "#%%\n"
    }
   },
   "outputs": [
    {
     "name": "stdout",
     "output_type": "stream",
     "text": [
      "False\n",
      "True\n"
     ]
    }
   ],
   "source": [
    "print(callable(circle))  #object that defines __call__() is considered callable\n",
    "print(callable(print))"
   ]
  },
  {
   "cell_type": "code",
   "execution_count": 411,
   "id": "c9eaab1d",
   "metadata": {
    "pycharm": {
     "name": "#%%\n"
    }
   },
   "outputs": [
    {
     "name": "stdout",
     "output_type": "stream",
     "text": [
      "10\n",
      "20\n"
     ]
    }
   ],
   "source": [
    "if hasattr(circle, \"radius\"):\n",
    "    print(getattr(circle, \"radius\"))\n",
    "    setattr(circle, \"radius\", 20)\n",
    "    print(getattr(circle, \"radius\"))"
   ]
  },
  {
   "cell_type": "code",
   "execution_count": 412,
   "id": "bf938f68",
   "metadata": {
    "pycharm": {
     "name": "#%%\n"
    }
   },
   "outputs": [
    {
     "data": {
      "text/plain": "['__class__',\n '__delattr__',\n '__dict__',\n '__dir__',\n '__doc__',\n '__eq__',\n '__format__',\n '__ge__',\n '__getattribute__',\n '__gt__',\n '__hash__',\n '__init__',\n '__init_subclass__',\n '__le__',\n '__lt__',\n '__module__',\n '__ne__',\n '__new__',\n '__reduce__',\n '__reduce_ex__',\n '__repr__',\n '__setattr__',\n '__sizeof__',\n '__str__',\n '__subclasshook__',\n '__weakref__',\n 'radius']"
     },
     "execution_count": 412,
     "metadata": {},
     "output_type": "execute_result"
    }
   ],
   "source": [
    "dir(circle)"
   ]
  },
  {
   "cell_type": "code",
   "execution_count": 413,
   "id": "c3251310",
   "metadata": {
    "pycharm": {
     "name": "#%%\n"
    }
   },
   "outputs": [
    {
     "data": {
      "text/plain": "{'radius': 20}"
     },
     "execution_count": 413,
     "metadata": {},
     "output_type": "execute_result"
    }
   ],
   "source": [
    "circle.__dict__"
   ]
  },
  {
   "cell_type": "code",
   "execution_count": 414,
   "id": "2ba23cbc",
   "metadata": {
    "pycharm": {
     "name": "#%%\n"
    }
   },
   "outputs": [
    {
     "data": {
      "text/plain": "'Circle'"
     },
     "execution_count": 414,
     "metadata": {},
     "output_type": "execute_result"
    }
   ],
   "source": [
    "Circle.__name__"
   ]
  },
  {
   "cell_type": "code",
   "execution_count": 415,
   "id": "0b7a3866",
   "metadata": {
    "pycharm": {
     "name": "#%%\n"
    }
   },
   "outputs": [
    {
     "data": {
      "text/plain": "'__main__'"
     },
     "execution_count": 415,
     "metadata": {},
     "output_type": "execute_result"
    }
   ],
   "source": [
    "__name__"
   ]
  },
  {
   "cell_type": "code",
   "execution_count": 416,
   "id": "3b20eee9",
   "metadata": {
    "pycharm": {
     "name": "#%%\n"
    }
   },
   "outputs": [
    {
     "data": {
      "text/plain": "__main__.Circle"
     },
     "execution_count": 416,
     "metadata": {},
     "output_type": "execute_result"
    }
   ],
   "source": [
    "type(circle)"
   ]
  },
  {
   "cell_type": "code",
   "execution_count": 417,
   "id": "1f1f11c7",
   "metadata": {
    "pycharm": {
     "name": "#%%\n"
    }
   },
   "outputs": [
    {
     "name": "stdout",
     "output_type": "stream",
     "text": [
      "2966340205728\n",
      "2966340205728\n"
     ]
    }
   ],
   "source": [
    "circle2 = circle\n",
    "print(id(circle))\n",
    "print(id(circle))"
   ]
  },
  {
   "cell_type": "code",
   "execution_count": 418,
   "id": "055825e3",
   "metadata": {
    "pycharm": {
     "name": "#%%\n"
    }
   },
   "outputs": [
    {
     "data": {
      "text/plain": "'<__main__.Circle object at 0x000002B2A7A77CA0>'"
     },
     "execution_count": 418,
     "metadata": {},
     "output_type": "execute_result"
    }
   ],
   "source": [
    "repr(circle)"
   ]
  },
  {
   "cell_type": "code",
   "execution_count": 419,
   "id": "fb668299",
   "metadata": {
    "pycharm": {
     "name": "#%%\n"
    }
   },
   "outputs": [],
   "source": [
    "import requests"
   ]
  },
  {
   "cell_type": "markdown",
   "source": [
    "response = requests.get(\"https://www.-.com/\")"
   ],
   "metadata": {
    "collapsed": false,
    "pycharm": {
     "name": "#%% md\n"
    }
   }
  },
  {
   "cell_type": "markdown",
   "source": [
    "response"
   ],
   "metadata": {
    "collapsed": false,
    "pycharm": {
     "name": "#%% md\n"
    }
   }
  },
  {
   "cell_type": "markdown",
   "source": [
    "type(response)"
   ],
   "metadata": {
    "collapsed": false,
    "pycharm": {
     "name": "#%% md\n"
    }
   }
  },
  {
   "cell_type": "markdown",
   "source": [
    "response.status_code"
   ],
   "metadata": {
    "collapsed": false,
    "pycharm": {
     "name": "#%% md\n"
    }
   }
  },
  {
   "cell_type": "markdown",
   "source": [
    "if response:\n",
    "    print('Works!')"
   ],
   "metadata": {
    "collapsed": false,
    "pycharm": {
     "name": "#%% md\n"
    }
   }
  },
  {
   "cell_type": "markdown",
   "source": [
    "from requests import HTTPError\n",
    "\n",
    "for url in [\"https://www.-.com/\", \"https://www.-.com/inexistent\"]:\n",
    "    try:\n",
    "        response = requests.get(url)\n",
    "        response.raise_for_status()\n",
    "    except HTTPError as http_err:\n",
    "        print(f'Error:{http_err}')\n",
    "    except Exception as err:\n",
    "        print(f'Unknown error: {err}')\n",
    "    else:\n",
    "        print('Connected Successfully!')"
   ],
   "metadata": {
    "collapsed": false,
    "pycharm": {
     "name": "#%% md\n"
    }
   }
  },
  {
   "cell_type": "markdown",
   "source": [
    "response = requests.get(\"https://www.-.com/\")\n",
    "response.content"
   ],
   "metadata": {
    "collapsed": false,
    "pycharm": {
     "name": "#%% md\n"
    }
   }
  },
  {
   "cell_type": "markdown",
   "source": [
    "response.encoding = 'utf-8'"
   ],
   "metadata": {
    "collapsed": false,
    "pycharm": {
     "name": "#%% md\n"
    }
   }
  },
  {
   "cell_type": "markdown",
   "source": [
    "response.text"
   ],
   "metadata": {
    "collapsed": false,
    "pycharm": {
     "name": "#%% md\n"
    }
   }
  },
  {
   "cell_type": "markdown",
   "source": [
    "response = requests.get(\"https://api.github.com\")\n",
    "response.text"
   ],
   "metadata": {
    "collapsed": false,
    "pycharm": {
     "name": "#%% md\n"
    }
   }
  },
  {
   "cell_type": "markdown",
   "source": [
    "data = response.json()\n",
    "data"
   ],
   "metadata": {
    "collapsed": false,
    "pycharm": {
     "name": "#%% md\n"
    }
   }
  },
  {
   "cell_type": "markdown",
   "source": [
    "blog_response = requests.get(\"https://www.-.com/\")\n",
    "github_response = requests.get(\"https://api.github.com\")"
   ],
   "metadata": {
    "collapsed": false,
    "pycharm": {
     "name": "#%% md\n"
    }
   }
  },
  {
   "cell_type": "markdown",
   "source": [
    "print(blog_response.headers, end='\\n')\n",
    "print('')\n",
    "print(github_response.headers, end='\\n')"
   ],
   "metadata": {
    "collapsed": false,
    "pycharm": {
     "name": "#%% md\n"
    }
   }
  },
  {
   "cell_type": "markdown",
   "source": [
    "blog_response.headers[\"content-type\"]"
   ],
   "metadata": {
    "collapsed": false,
    "pycharm": {
     "name": "#%% md\n"
    }
   }
  },
  {
   "cell_type": "markdown",
   "source": [
    "placeholder_response = requests.get(\"http://jsonplaceholder.typicode.com/comments\", params=b'postId = 1')"
   ],
   "metadata": {
    "collapsed": false,
    "pycharm": {
     "name": "#%% md\n"
    }
   }
  },
  {
   "cell_type": "markdown",
   "source": [
    "placeholder_response.json()"
   ],
   "metadata": {
    "collapsed": false,
    "pycharm": {
     "name": "#%% md\n"
    }
   }
  },
  {
   "cell_type": "code",
   "execution_count": 420,
   "id": "75a3df60",
   "metadata": {
    "pycharm": {
     "name": "#%%\n"
    }
   },
   "outputs": [],
   "source": [
    "class Tournament:\n",
    "    def __init__(self, name, year):\n",
    "        self.name = name\n",
    "        self.year = year\n",
    "\n",
    "    @classmethod\n",
    "    def from_json(cls, json_data):\n",
    "        return cls(**json_data)\n",
    "\n",
    "\n",
    "class ChessPlayer:\n",
    "    def __init__(self, tournaments):\n",
    "        self.tournaments = tournaments\n",
    "\n",
    "    @classmethod\n",
    "    def from_json(cls, json_data):\n",
    "        tournaments = list(map(Tournament.from_json, json_data[\"tournaments\"]))\n",
    "        return cls(tournaments)\n",
    "\n",
    "\n",
    "t1 = Tournament(\"Aeroflot Open\", 2010)\n",
    "t2 = Tournament(\"FIDE World Cup\", 2018)\n",
    "t3 = Tournament(\"FIDE Grand Prix\", 2016)\n",
    "p1 = ChessPlayer([t1, t2, t3])\n",
    "json_data = json.dumps(p1, default=lambda obj: obj.__dict__, indent=4, sort_keys=True)"
   ]
  },
  {
   "cell_type": "code",
   "execution_count": 421,
   "id": "89b92ae7",
   "metadata": {
    "pycharm": {
     "name": "#%%\n"
    }
   },
   "outputs": [],
   "source": [
    "response = requests.post(\"https://httpbin.org/post\", json=json_data)"
   ]
  },
  {
   "cell_type": "code",
   "execution_count": 422,
   "id": "d1ce439b",
   "metadata": {
    "pycharm": {
     "name": "#%%\n"
    }
   },
   "outputs": [],
   "source": [
    "json_response = response.json()"
   ]
  },
  {
   "cell_type": "code",
   "execution_count": 423,
   "id": "62551c6e",
   "metadata": {
    "pycharm": {
     "name": "#%%\n"
    }
   },
   "outputs": [
    {
     "name": "stdout",
     "output_type": "stream",
     "text": [
      "\"{\\n    \\\"tournaments\\\": [\\n        {\\n            \\\"name\\\": \\\"Aeroflot Open\\\",\\n            \\\"year\\\": 2010\\n        },\\n        {\\n            \\\"name\\\": \\\"FIDE World Cup\\\",\\n            \\\"year\\\": 2018\\n        },\\n        {\\n            \\\"name\\\": \\\"FIDE Grand Prix\\\",\\n            \\\"year\\\": 2016\\n        }\\n    ]\\n}\"\n"
     ]
    }
   ],
   "source": [
    "print(json_response['data'])"
   ]
  },
  {
   "cell_type": "code",
   "execution_count": 424,
   "id": "b40146ec",
   "metadata": {
    "pycharm": {
     "name": "#%%\n"
    }
   },
   "outputs": [
    {
     "data": {
      "text/plain": "'application/json'"
     },
     "execution_count": 424,
     "metadata": {},
     "output_type": "execute_result"
    }
   ],
   "source": [
    "json_response['headers']['Content-Type']"
   ]
  },
  {
   "cell_type": "code",
   "execution_count": 425,
   "id": "6eab8668",
   "metadata": {
    "pycharm": {
     "name": "#%%\n"
    }
   },
   "outputs": [],
   "source": [
    "from getpass import getpass\n",
    "\n",
    "#auth_response = requests.get(\"https://github.com/login\", auth=(\"SHagitov\", getpass()))"
   ]
  },
  {
   "cell_type": "code",
   "execution_count": 426,
   "id": "fc26863f",
   "metadata": {
    "pycharm": {
     "name": "#%%\n"
    }
   },
   "outputs": [],
   "source": [
    "#auth_response.json()"
   ]
  },
  {
   "cell_type": "markdown",
   "source": [
    "from requests.exceptions import Timeout\n",
    "\n",
    "try:\n",
    "    response = requests.get(\"https://www.-.com/\", timeout=1)\n",
    "except Timeout:\n",
    "    prnt('The request timed out')\n"
   ],
   "metadata": {
    "collapsed": false,
    "pycharm": {
     "name": "#%% md\n"
    }
   }
  },
  {
   "cell_type": "code",
   "execution_count": 427,
   "id": "0fe62421",
   "metadata": {
    "pycharm": {
     "name": "#%%\n"
    }
   },
   "outputs": [
    {
     "data": {
      "text/plain": "<Response [200]>"
     },
     "execution_count": 427,
     "metadata": {},
     "output_type": "execute_result"
    }
   ],
   "source": [
    "response"
   ]
  },
  {
   "cell_type": "code",
   "execution_count": 428,
   "id": "aab9bccd",
   "metadata": {
    "pycharm": {
     "name": "#%%\n"
    }
   },
   "outputs": [],
   "source": [
    "class Character:\n",
    "    def __init__(self, armor: int, power: int):\n",
    "        self.armor = armor\n",
    "        self.power = power\n",
    "        self.health = 100\n",
    "\n",
    "    def hit(self, damage: int):\n",
    "        self.health -= damage\n",
    "\n",
    "    def is_alive(self):\n",
    "        return self.health > 0\n"
   ]
  },
  {
   "cell_type": "code",
   "execution_count": 429,
   "id": "7c4bd668",
   "metadata": {
    "pycharm": {
     "name": "#%%\n"
    }
   },
   "outputs": [],
   "source": [
    "c1 = Character(10, 20)\n",
    "c1.hit(20)"
   ]
  },
  {
   "cell_type": "code",
   "execution_count": 430,
   "id": "9db97980",
   "metadata": {
    "pycharm": {
     "name": "#%%\n"
    }
   },
   "outputs": [],
   "source": [
    "amount: int"
   ]
  },
  {
   "cell_type": "code",
   "execution_count": 431,
   "id": "8d39e42a",
   "metadata": {
    "pycharm": {
     "name": "#%%\n"
    }
   },
   "outputs": [],
   "source": [
    "from typing import Optional, Any, Union, List, Tuple, Dict, Iterable"
   ]
  },
  {
   "cell_type": "code",
   "execution_count": 432,
   "id": "a931b466",
   "metadata": {
    "pycharm": {
     "name": "#%%\n"
    }
   },
   "outputs": [],
   "source": [
    "price: Optional[int]\n",
    "price = 10"
   ]
  },
  {
   "cell_type": "code",
   "execution_count": 433,
   "id": "0a2a9b6b",
   "metadata": {
    "pycharm": {
     "name": "#%%\n"
    }
   },
   "outputs": [],
   "source": [
    "price = None\n",
    "price = 'abcdef'"
   ]
  },
  {
   "cell_type": "code",
   "execution_count": 434,
   "id": "558a01c2",
   "metadata": {
    "pycharm": {
     "name": "#%%\n"
    }
   },
   "outputs": [],
   "source": [
    "attack: Any = 1\n",
    "attack = \"hi\""
   ]
  },
  {
   "cell_type": "code",
   "execution_count": 435,
   "id": "f4d69538",
   "metadata": {
    "pycharm": {
     "name": "#%%\n"
    }
   },
   "outputs": [],
   "source": [
    "length: Union[int, float]\n",
    "length = 1\n",
    "length = 1.2\n",
    "length = 'abc'"
   ]
  },
  {
   "cell_type": "code",
   "execution_count": 436,
   "id": "bc8d33f1",
   "metadata": {
    "pycharm": {
     "name": "#%%\n"
    }
   },
   "outputs": [],
   "source": [
    "quotes: list\n",
    "quotes = 'abc'"
   ]
  },
  {
   "cell_type": "code",
   "execution_count": 437,
   "id": "d7839fca",
   "metadata": {
    "pycharm": {
     "name": "#%%\n"
    }
   },
   "outputs": [],
   "source": [
    "quotes: List[int]  #Set, FrozenSet\n",
    "#quotes.append(1)\n",
    "#quotes.append('abc')"
   ]
  },
  {
   "cell_type": "code",
   "execution_count": 438,
   "id": "57a9872f",
   "metadata": {
    "pycharm": {
     "name": "#%%\n"
    }
   },
   "outputs": [],
   "source": [
    "player: Tuple[str, int] = (\"Kramnik\", 2750)"
   ]
  },
  {
   "cell_type": "code",
   "execution_count": 439,
   "id": "db2064fd",
   "metadata": {
    "pycharm": {
     "name": "#%%\n"
    }
   },
   "outputs": [
    {
     "data": {
      "text/plain": "(1, 2, 3, 4, 5)"
     },
     "execution_count": 439,
     "metadata": {},
     "output_type": "execute_result"
    }
   ],
   "source": [
    "changes_in_rating: Tuple[int, ...]\n",
    "changes_in_rating = (1, 2, 3, 4, 5)\n",
    "changes_in_rating"
   ]
  },
  {
   "cell_type": "code",
   "execution_count": 440,
   "id": "9cf9884b",
   "metadata": {
    "pycharm": {
     "name": "#%%\n"
    }
   },
   "outputs": [
    {
     "data": {
      "text/plain": "(1, 'abc')"
     },
     "execution_count": 440,
     "metadata": {},
     "output_type": "execute_result"
    }
   ],
   "source": [
    "changes_in_rating = (1, \"abc\")\n",
    "changes_in_rating"
   ]
  },
  {
   "cell_type": "code",
   "execution_count": 441,
   "id": "8c1bae9d",
   "metadata": {
    "pycharm": {
     "name": "#%%\n"
    }
   },
   "outputs": [],
   "source": [
    "chess_players: Dict[str, int] = {\"Shagitov\": 2004}"
   ]
  },
  {
   "cell_type": "code",
   "execution_count": 442,
   "id": "d17fd06f",
   "metadata": {
    "pycharm": {
     "name": "#%%\n"
    }
   },
   "outputs": [],
   "source": [
    "import random"
   ]
  },
  {
   "cell_type": "code",
   "execution_count": 443,
   "id": "f5916df8",
   "metadata": {
    "pycharm": {
     "name": "#%%\n"
    }
   },
   "outputs": [],
   "source": [
    "def random_stream(min_val: int, max_val: int) -> Iterable[int]:\n",
    "    while True:\n",
    "        yield random(min_val, max_val)"
   ]
  },
  {
   "cell_type": "code",
   "execution_count": 444,
   "id": "889823d7",
   "metadata": {
    "pycharm": {
     "name": "#%%\n"
    }
   },
   "outputs": [],
   "source": [
    "class Question:\n",
    "    def __init__(self, text, is_true, explanation):\n",
    "        self.text = text\n",
    "        self.is_true = is_true\n",
    "        self.expplanation = explanation"
   ]
  },
  {
   "cell_type": "code",
   "execution_count": 445,
   "id": "35789fc5",
   "metadata": {
    "pycharm": {
     "name": "#%%\n"
    }
   },
   "outputs": [],
   "source": [
    "from dataclasses import dataclass"
   ]
  },
  {
   "cell_type": "code",
   "execution_count": 446,
   "id": "f9e49bb0",
   "metadata": {
    "pycharm": {
     "name": "#%%\n"
    }
   },
   "outputs": [],
   "source": [
    "@dataclass\n",
    "class Question:\n",
    "    text: str\n",
    "    is_true: bool\n",
    "    explanation: str"
   ]
  },
  {
   "cell_type": "code",
   "execution_count": 447,
   "id": "9bab1da0",
   "metadata": {
    "pycharm": {
     "name": "#%%\n"
    }
   },
   "outputs": [
    {
     "data": {
      "text/plain": "'test'"
     },
     "execution_count": 447,
     "metadata": {},
     "output_type": "execute_result"
    }
   ],
   "source": [
    "q = Question(\"test\", True, \"because\")\n",
    "q.text"
   ]
  },
  {
   "cell_type": "code",
   "execution_count": 448,
   "id": "891957f0",
   "metadata": {
    "pycharm": {
     "name": "#%%\n"
    }
   },
   "outputs": [],
   "source": [
    "@dataclass\n",
    "class Question:\n",
    "    text: str = \"\"\n",
    "    is_true: bool = False\n",
    "    explanation: str = \"\""
   ]
  },
  {
   "cell_type": "code",
   "execution_count": 449,
   "id": "ba815807",
   "metadata": {
    "pycharm": {
     "name": "#%%\n"
    }
   },
   "outputs": [
    {
     "data": {
      "text/plain": "'hi'"
     },
     "execution_count": 449,
     "metadata": {},
     "output_type": "execute_result"
    }
   ],
   "source": [
    "q = Question()\n",
    "q.text = \"hi\"\n",
    "q.text"
   ]
  },
  {
   "cell_type": "code",
   "execution_count": 450,
   "id": "0904a1f6",
   "metadata": {
    "pycharm": {
     "name": "#%%\n"
    }
   },
   "outputs": [],
   "source": [
    "@dataclass(frozen=True)\n",
    "class Question:\n",
    "    text: str = \"\"\n",
    "    is_true: bool = False\n",
    "    explanation: str = \"\""
   ]
  },
  {
   "cell_type": "code",
   "execution_count": 451,
   "id": "594b4f1c",
   "metadata": {
    "pycharm": {
     "name": "#%%\n"
    }
   },
   "outputs": [],
   "source": [
    "q = Question(\"test\", True, \"because\")"
   ]
  },
  {
   "cell_type": "code",
   "execution_count": 452,
   "id": "d368fec5",
   "metadata": {
    "pycharm": {
     "name": "#%%\n"
    }
   },
   "outputs": [],
   "source": [
    "#q.text = \"change\""
   ]
  },
  {
   "cell_type": "code",
   "execution_count": 453,
   "id": "f343429b",
   "metadata": {
    "pycharm": {
     "name": "#%%\n"
    }
   },
   "outputs": [
    {
     "data": {
      "text/plain": "tuple"
     },
     "execution_count": 453,
     "metadata": {},
     "output_type": "execute_result"
    }
   ],
   "source": [
    "type((0, 0, 0))"
   ]
  },
  {
   "cell_type": "code",
   "execution_count": 454,
   "id": "e3d8e308",
   "metadata": {
    "pycharm": {
     "name": "#%%\n"
    }
   },
   "outputs": [
    {
     "data": {
      "text/plain": "True"
     },
     "execution_count": 454,
     "metadata": {},
     "output_type": "execute_result"
    }
   ],
   "source": [
    "isinstance(\"0\", str)"
   ]
  },
  {
   "cell_type": "code",
   "execution_count": 455,
   "id": "bc392ae2",
   "metadata": {
    "pycharm": {
     "name": "#%%\n"
    }
   },
   "outputs": [
    {
     "data": {
      "text/plain": "type"
     },
     "execution_count": 455,
     "metadata": {},
     "output_type": "execute_result"
    }
   ],
   "source": [
    "type(int)"
   ]
  },
  {
   "cell_type": "code",
   "execution_count": 456,
   "id": "f72587c5",
   "metadata": {
    "pycharm": {
     "name": "#%%\n"
    }
   },
   "outputs": [
    {
     "data": {
      "text/plain": "True"
     },
     "execution_count": 456,
     "metadata": {},
     "output_type": "execute_result"
    }
   ],
   "source": [
    "isinstance(list, object)"
   ]
  },
  {
   "cell_type": "code",
   "execution_count": 457,
   "id": "3935676c",
   "metadata": {
    "pycharm": {
     "name": "#%%\n"
    }
   },
   "outputs": [],
   "source": [
    "class Car:\n",
    "    pass"
   ]
  },
  {
   "cell_type": "code",
   "execution_count": 458,
   "id": "d15aefc8",
   "metadata": {
    "pycharm": {
     "name": "#%%\n"
    }
   },
   "outputs": [
    {
     "data": {
      "text/plain": "__main__.Car"
     },
     "execution_count": 458,
     "metadata": {},
     "output_type": "execute_result"
    }
   ],
   "source": [
    "a = Car()\n",
    "type(a)"
   ]
  },
  {
   "cell_type": "code",
   "execution_count": 459,
   "id": "a5673f9a",
   "metadata": {
    "pycharm": {
     "name": "#%%\n"
    }
   },
   "outputs": [
    {
     "data": {
      "text/plain": "True"
     },
     "execution_count": 459,
     "metadata": {},
     "output_type": "execute_result"
    }
   ],
   "source": [
    "isinstance(a, Car)"
   ]
  },
  {
   "cell_type": "code",
   "execution_count": 460,
   "id": "100238c0",
   "metadata": {
    "pycharm": {
     "name": "#%%\n"
    }
   },
   "outputs": [],
   "source": [
    "class Car:\n",
    "    model = \"BMW\"\n",
    "    engine = 1.6"
   ]
  },
  {
   "cell_type": "code",
   "execution_count": 461,
   "id": "f5b12bab",
   "metadata": {
    "pycharm": {
     "name": "#%%\n"
    }
   },
   "outputs": [],
   "source": [
    "a = Car()"
   ]
  },
  {
   "cell_type": "code",
   "execution_count": 462,
   "id": "332caff3",
   "metadata": {
    "pycharm": {
     "name": "#%%\n"
    }
   },
   "outputs": [],
   "source": [
    "class Person:\n",
    "    name = \"Ivan\"\n",
    "    age = 30"
   ]
  },
  {
   "cell_type": "code",
   "execution_count": 463,
   "id": "01a07838",
   "metadata": {
    "pycharm": {
     "name": "#%%\n"
    }
   },
   "outputs": [
    {
     "data": {
      "text/plain": "__main__.Person"
     },
     "execution_count": 463,
     "metadata": {},
     "output_type": "execute_result"
    }
   ],
   "source": [
    "Person"
   ]
  },
  {
   "cell_type": "code",
   "execution_count": 464,
   "id": "499c0b45",
   "metadata": {
    "pycharm": {
     "name": "#%%\n"
    }
   },
   "outputs": [
    {
     "data": {
      "text/plain": "'Ivan'"
     },
     "execution_count": 464,
     "metadata": {},
     "output_type": "execute_result"
    }
   ],
   "source": [
    "Person.name"
   ]
  },
  {
   "cell_type": "code",
   "execution_count": 465,
   "id": "9239ec5f",
   "metadata": {
    "pycharm": {
     "name": "#%%\n"
    }
   },
   "outputs": [
    {
     "data": {
      "text/plain": "30"
     },
     "execution_count": 465,
     "metadata": {},
     "output_type": "execute_result"
    }
   ],
   "source": [
    "Person.age"
   ]
  },
  {
   "cell_type": "code",
   "execution_count": 466,
   "id": "c5deeeeb",
   "metadata": {
    "pycharm": {
     "name": "#%%\n"
    }
   },
   "outputs": [
    {
     "data": {
      "text/plain": "mappingproxy({'__module__': '__main__',\n              'name': 'Ivan',\n              'age': 30,\n              '__dict__': <attribute '__dict__' of 'Person' objects>,\n              '__weakref__': <attribute '__weakref__' of 'Person' objects>,\n              '__doc__': None})"
     },
     "execution_count": 466,
     "metadata": {},
     "output_type": "execute_result"
    }
   ],
   "source": [
    "Person.__dict__"
   ]
  },
  {
   "cell_type": "code",
   "execution_count": 467,
   "id": "7fa31d07",
   "metadata": {
    "pycharm": {
     "name": "#%%\n"
    }
   },
   "outputs": [
    {
     "data": {
      "text/plain": "'Ivan'"
     },
     "execution_count": 467,
     "metadata": {},
     "output_type": "execute_result"
    }
   ],
   "source": [
    "getattr(Person, 'name')"
   ]
  },
  {
   "cell_type": "code",
   "execution_count": 468,
   "id": "d60b231e",
   "metadata": {
    "pycharm": {
     "name": "#%%\n"
    }
   },
   "outputs": [
    {
     "data": {
      "text/plain": "100"
     },
     "execution_count": 468,
     "metadata": {},
     "output_type": "execute_result"
    }
   ],
   "source": [
    "getattr(Person, 'x', 100)"
   ]
  },
  {
   "cell_type": "code",
   "execution_count": 469,
   "id": "74a4021c",
   "metadata": {
    "pycharm": {
     "name": "#%%\n"
    }
   },
   "outputs": [
    {
     "data": {
      "text/plain": "'Ivan'"
     },
     "execution_count": 469,
     "metadata": {},
     "output_type": "execute_result"
    }
   ],
   "source": [
    "getattr(Person, 'name', 100)"
   ]
  },
  {
   "cell_type": "code",
   "execution_count": 470,
   "id": "a0976e65",
   "metadata": {
    "pycharm": {
     "name": "#%%\n"
    }
   },
   "outputs": [],
   "source": [
    "Person.name = 'Misha'"
   ]
  },
  {
   "cell_type": "code",
   "execution_count": 471,
   "id": "e5d7ca48",
   "metadata": {
    "pycharm": {
     "name": "#%%\n"
    }
   },
   "outputs": [
    {
     "data": {
      "text/plain": "'Misha'"
     },
     "execution_count": 471,
     "metadata": {},
     "output_type": "execute_result"
    }
   ],
   "source": [
    "Person.name"
   ]
  },
  {
   "cell_type": "code",
   "execution_count": 472,
   "id": "b3c766b2",
   "metadata": {
    "pycharm": {
     "name": "#%%\n"
    }
   },
   "outputs": [],
   "source": [
    "Person.x = 0"
   ]
  },
  {
   "cell_type": "code",
   "execution_count": 473,
   "id": "62203b36",
   "metadata": {
    "pycharm": {
     "name": "#%%\n"
    }
   },
   "outputs": [
    {
     "data": {
      "text/plain": "mappingproxy({'__module__': '__main__',\n              'name': 'Misha',\n              'age': 30,\n              '__dict__': <attribute '__dict__' of 'Person' objects>,\n              '__weakref__': <attribute '__weakref__' of 'Person' objects>,\n              '__doc__': None,\n              'x': 0})"
     },
     "execution_count": 473,
     "metadata": {},
     "output_type": "execute_result"
    }
   ],
   "source": [
    "Person.__dict__"
   ]
  },
  {
   "cell_type": "code",
   "execution_count": 474,
   "id": "3c1b0271",
   "metadata": {
    "pycharm": {
     "name": "#%%\n"
    }
   },
   "outputs": [],
   "source": [
    "Person.x = [0, 1, 2]"
   ]
  },
  {
   "cell_type": "code",
   "execution_count": 475,
   "id": "352effef",
   "metadata": {
    "pycharm": {
     "name": "#%%\n"
    }
   },
   "outputs": [
    {
     "data": {
      "text/plain": "[0, 1, 2]"
     },
     "execution_count": 475,
     "metadata": {},
     "output_type": "execute_result"
    }
   ],
   "source": [
    "Person.x"
   ]
  },
  {
   "cell_type": "code",
   "execution_count": 476,
   "id": "3a296914",
   "metadata": {
    "pycharm": {
     "name": "#%%\n"
    }
   },
   "outputs": [],
   "source": [
    "setattr(Person, 'x', 777)"
   ]
  },
  {
   "cell_type": "code",
   "execution_count": 477,
   "id": "5aac1f3f",
   "metadata": {
    "pycharm": {
     "name": "#%%\n"
    }
   },
   "outputs": [
    {
     "data": {
      "text/plain": "777"
     },
     "execution_count": 477,
     "metadata": {},
     "output_type": "execute_result"
    }
   ],
   "source": [
    "Person.x"
   ]
  },
  {
   "cell_type": "code",
   "execution_count": 478,
   "id": "71a4c9e5",
   "metadata": {
    "pycharm": {
     "name": "#%%\n"
    }
   },
   "outputs": [],
   "source": [
    "setattr(Person, 'y', 10)"
   ]
  },
  {
   "cell_type": "code",
   "execution_count": 479,
   "id": "5cf63541",
   "metadata": {
    "pycharm": {
     "name": "#%%\n"
    }
   },
   "outputs": [
    {
     "data": {
      "text/plain": "10"
     },
     "execution_count": 479,
     "metadata": {},
     "output_type": "execute_result"
    }
   ],
   "source": [
    "Person.y"
   ]
  },
  {
   "cell_type": "code",
   "execution_count": 480,
   "id": "66f4578b",
   "metadata": {
    "pycharm": {
     "name": "#%%\n"
    }
   },
   "outputs": [
    {
     "data": {
      "text/plain": "mappingproxy({'__module__': '__main__',\n              'name': 'Misha',\n              'age': 30,\n              '__dict__': <attribute '__dict__' of 'Person' objects>,\n              '__weakref__': <attribute '__weakref__' of 'Person' objects>,\n              '__doc__': None,\n              'x': 777,\n              'y': 10})"
     },
     "execution_count": 480,
     "metadata": {},
     "output_type": "execute_result"
    }
   ],
   "source": [
    "Person.__dict__"
   ]
  },
  {
   "cell_type": "code",
   "execution_count": 481,
   "id": "598b1fbd",
   "metadata": {
    "pycharm": {
     "name": "#%%\n"
    }
   },
   "outputs": [],
   "source": [
    "del Person.x"
   ]
  },
  {
   "cell_type": "code",
   "execution_count": 482,
   "id": "b27179c0",
   "metadata": {
    "pycharm": {
     "name": "#%%\n"
    }
   },
   "outputs": [
    {
     "data": {
      "text/plain": "mappingproxy({'__module__': '__main__',\n              'name': 'Misha',\n              'age': 30,\n              '__dict__': <attribute '__dict__' of 'Person' objects>,\n              '__weakref__': <attribute '__weakref__' of 'Person' objects>,\n              '__doc__': None,\n              'y': 10})"
     },
     "execution_count": 482,
     "metadata": {},
     "output_type": "execute_result"
    }
   ],
   "source": [
    "Person.__dict__"
   ]
  },
  {
   "cell_type": "code",
   "execution_count": 483,
   "id": "7b4e69b9",
   "metadata": {
    "pycharm": {
     "name": "#%%\n"
    }
   },
   "outputs": [],
   "source": [
    "delattr(Person, 'y')"
   ]
  },
  {
   "cell_type": "code",
   "execution_count": 484,
   "id": "1b5517ab",
   "metadata": {
    "pycharm": {
     "name": "#%%\n"
    }
   },
   "outputs": [
    {
     "data": {
      "text/plain": "mappingproxy({'__module__': '__main__',\n              'name': 'Misha',\n              'age': 30,\n              '__dict__': <attribute '__dict__' of 'Person' objects>,\n              '__weakref__': <attribute '__weakref__' of 'Person' objects>,\n              '__doc__': None})"
     },
     "execution_count": 484,
     "metadata": {},
     "output_type": "execute_result"
    }
   ],
   "source": [
    "Person.__dict__"
   ]
  },
  {
   "cell_type": "code",
   "execution_count": 485,
   "id": "b63e36df",
   "metadata": {
    "pycharm": {
     "name": "#%%\n"
    }
   },
   "outputs": [
    {
     "name": "stdout",
     "output_type": "stream",
     "text": [
      "Misha\n",
      "30\n"
     ]
    }
   ],
   "source": [
    "print(Person.name)\n",
    "print(Person.age)"
   ]
  },
  {
   "cell_type": "code",
   "execution_count": 486,
   "id": "11316334",
   "metadata": {
    "pycharm": {
     "name": "#%%\n"
    }
   },
   "outputs": [],
   "source": [
    "class Person:\n",
    "    name = 'Ivan'\n",
    "    age = 30"
   ]
  },
  {
   "cell_type": "code",
   "execution_count": 487,
   "id": "1ed05edb",
   "metadata": {
    "pycharm": {
     "name": "#%%\n"
    }
   },
   "outputs": [
    {
     "data": {
      "text/plain": "mappingproxy({'__module__': '__main__',\n              'name': 'Ivan',\n              'age': 30,\n              '__dict__': <attribute '__dict__' of 'Person' objects>,\n              '__weakref__': <attribute '__weakref__' of 'Person' objects>,\n              '__doc__': None})"
     },
     "execution_count": 487,
     "metadata": {},
     "output_type": "execute_result"
    }
   ],
   "source": [
    "Person.__dict__"
   ]
  },
  {
   "cell_type": "code",
   "execution_count": 488,
   "id": "b12406de",
   "metadata": {
    "pycharm": {
     "name": "#%%\n"
    }
   },
   "outputs": [
    {
     "data": {
      "text/plain": "<__main__.Person at 0x2b2a7d8a7f0>"
     },
     "execution_count": 488,
     "metadata": {},
     "output_type": "execute_result"
    }
   ],
   "source": [
    "Person()"
   ]
  },
  {
   "cell_type": "code",
   "execution_count": 489,
   "id": "39a18726",
   "metadata": {
    "pycharm": {
     "name": "#%%\n"
    }
   },
   "outputs": [],
   "source": [
    "a = Person()"
   ]
  },
  {
   "cell_type": "code",
   "execution_count": 490,
   "id": "718378a8",
   "metadata": {
    "pycharm": {
     "name": "#%%\n"
    }
   },
   "outputs": [],
   "source": [
    "Person.z = 100"
   ]
  },
  {
   "cell_type": "code",
   "execution_count": 491,
   "id": "a6d78763",
   "metadata": {
    "pycharm": {
     "name": "#%%\n"
    }
   },
   "outputs": [],
   "source": [
    "del Person.age"
   ]
  },
  {
   "cell_type": "code",
   "execution_count": 492,
   "id": "8a8c7624",
   "metadata": {
    "pycharm": {
     "name": "#%%\n"
    }
   },
   "outputs": [],
   "source": [
    "Person.name = 'Misha'"
   ]
  },
  {
   "cell_type": "code",
   "execution_count": 493,
   "id": "e39625ef",
   "metadata": {
    "pycharm": {
     "name": "#%%\n"
    }
   },
   "outputs": [],
   "source": [
    "a.z = 100"
   ]
  },
  {
   "cell_type": "code",
   "execution_count": 494,
   "id": "9e107146",
   "metadata": {
    "pycharm": {
     "name": "#%%\n"
    }
   },
   "outputs": [],
   "source": [
    "class Car:\n",
    "    model = \"BMW\"\n",
    "    engine = 1.6"
   ]
  },
  {
   "cell_type": "code",
   "execution_count": 495,
   "id": "947347c9",
   "metadata": {
    "pycharm": {
     "name": "#%%\n"
    }
   },
   "outputs": [
    {
     "data": {
      "text/plain": "__main__.Car"
     },
     "execution_count": 495,
     "metadata": {},
     "output_type": "execute_result"
    }
   ],
   "source": [
    "Car"
   ]
  },
  {
   "cell_type": "code",
   "execution_count": 496,
   "id": "64e0a1c8",
   "metadata": {
    "pycharm": {
     "name": "#%%\n"
    }
   },
   "outputs": [
    {
     "data": {
      "text/plain": "<__main__.Car at 0x2b2a7d8fc10>"
     },
     "execution_count": 496,
     "metadata": {},
     "output_type": "execute_result"
    }
   ],
   "source": [
    "Car()"
   ]
  },
  {
   "cell_type": "code",
   "execution_count": 497,
   "id": "25b83a9e",
   "metadata": {
    "pycharm": {
     "name": "#%%\n"
    }
   },
   "outputs": [],
   "source": [
    "a1 = Car()\n",
    "a2 = Car()"
   ]
  },
  {
   "cell_type": "code",
   "execution_count": 498,
   "id": "dc682f1e",
   "metadata": {
    "pycharm": {
     "name": "#%%\n"
    }
   },
   "outputs": [
    {
     "data": {
      "text/plain": "mappingproxy({'__module__': '__main__',\n              'model': 'BMW',\n              'engine': 1.6,\n              '__dict__': <attribute '__dict__' of 'Car' objects>,\n              '__weakref__': <attribute '__weakref__' of 'Car' objects>,\n              '__doc__': None})"
     },
     "execution_count": 498,
     "metadata": {},
     "output_type": "execute_result"
    }
   ],
   "source": [
    "Car.__dict__"
   ]
  },
  {
   "cell_type": "code",
   "execution_count": 499,
   "id": "29349fe8",
   "metadata": {
    "pycharm": {
     "name": "#%%\n"
    }
   },
   "outputs": [
    {
     "data": {
      "text/plain": "'BMW'"
     },
     "execution_count": 499,
     "metadata": {},
     "output_type": "execute_result"
    }
   ],
   "source": [
    "a1.model"
   ]
  },
  {
   "cell_type": "code",
   "execution_count": 500,
   "id": "a8db6142",
   "metadata": {
    "pycharm": {
     "name": "#%%\n"
    }
   },
   "outputs": [
    {
     "data": {
      "text/plain": "1.6"
     },
     "execution_count": 500,
     "metadata": {},
     "output_type": "execute_result"
    }
   ],
   "source": [
    "a2.engine"
   ]
  },
  {
   "cell_type": "code",
   "execution_count": 501,
   "id": "6c1f15d5",
   "metadata": {
    "pycharm": {
     "name": "#%%\n"
    }
   },
   "outputs": [
    {
     "data": {
      "text/plain": "{}"
     },
     "execution_count": 501,
     "metadata": {},
     "output_type": "execute_result"
    }
   ],
   "source": [
    "a1.__dict__"
   ]
  },
  {
   "cell_type": "code",
   "execution_count": 502,
   "id": "61f55ff4",
   "metadata": {
    "pycharm": {
     "name": "#%%\n"
    }
   },
   "outputs": [
    {
     "data": {
      "text/plain": "{}"
     },
     "execution_count": 502,
     "metadata": {},
     "output_type": "execute_result"
    }
   ],
   "source": [
    "a2.__dict__"
   ]
  },
  {
   "cell_type": "code",
   "execution_count": 503,
   "id": "da0ea63a",
   "metadata": {
    "pycharm": {
     "name": "#%%\n"
    }
   },
   "outputs": [],
   "source": [
    "a1.seat = 4"
   ]
  },
  {
   "cell_type": "code",
   "execution_count": 504,
   "id": "0526d642",
   "metadata": {
    "pycharm": {
     "name": "#%%\n"
    }
   },
   "outputs": [
    {
     "data": {
      "text/plain": "{'seat': 4}"
     },
     "execution_count": 504,
     "metadata": {},
     "output_type": "execute_result"
    }
   ],
   "source": [
    "a1.__dict__"
   ]
  },
  {
   "cell_type": "code",
   "execution_count": 505,
   "id": "e7b39cf0",
   "metadata": {
    "pycharm": {
     "name": "#%%\n"
    }
   },
   "outputs": [
    {
     "data": {
      "text/plain": "{}"
     },
     "execution_count": 505,
     "metadata": {},
     "output_type": "execute_result"
    }
   ],
   "source": [
    "a2.__dict__"
   ]
  },
  {
   "cell_type": "code",
   "execution_count": 506,
   "id": "1a75a9a3",
   "metadata": {
    "pycharm": {
     "name": "#%%\n"
    }
   },
   "outputs": [
    {
     "data": {
      "text/plain": "mappingproxy({'__module__': '__main__',\n              'model': 'BMW',\n              'engine': 1.6,\n              '__dict__': <attribute '__dict__' of 'Car' objects>,\n              '__weakref__': <attribute '__weakref__' of 'Car' objects>,\n              '__doc__': None})"
     },
     "execution_count": 506,
     "metadata": {},
     "output_type": "execute_result"
    }
   ],
   "source": [
    "Car.__dict__"
   ]
  },
  {
   "cell_type": "code",
   "execution_count": 507,
   "id": "c80d2516",
   "metadata": {
    "pycharm": {
     "name": "#%%\n"
    }
   },
   "outputs": [],
   "source": [
    "a1.model = 'Lada'"
   ]
  },
  {
   "cell_type": "code",
   "execution_count": 508,
   "id": "2636d4d0",
   "metadata": {
    "pycharm": {
     "name": "#%%\n"
    }
   },
   "outputs": [
    {
     "data": {
      "text/plain": "{'seat': 4, 'model': 'Lada'}"
     },
     "execution_count": 508,
     "metadata": {},
     "output_type": "execute_result"
    }
   ],
   "source": [
    "a1.__dict__"
   ]
  },
  {
   "cell_type": "code",
   "execution_count": 509,
   "id": "81888a3f",
   "metadata": {
    "pycharm": {
     "name": "#%%\n"
    }
   },
   "outputs": [
    {
     "data": {
      "text/plain": "'Lada'"
     },
     "execution_count": 509,
     "metadata": {},
     "output_type": "execute_result"
    }
   ],
   "source": [
    "a1.model"
   ]
  },
  {
   "cell_type": "code",
   "execution_count": 510,
   "id": "2628026d",
   "metadata": {
    "pycharm": {
     "name": "#%%\n"
    }
   },
   "outputs": [
    {
     "data": {
      "text/plain": "1.6"
     },
     "execution_count": 510,
     "metadata": {},
     "output_type": "execute_result"
    }
   ],
   "source": [
    "a1.engine"
   ]
  },
  {
   "cell_type": "code",
   "execution_count": 511,
   "id": "445bb124",
   "metadata": {
    "pycharm": {
     "name": "#%%\n"
    }
   },
   "outputs": [],
   "source": [
    "a2.size = 80"
   ]
  },
  {
   "cell_type": "code",
   "execution_count": 512,
   "id": "48e70175",
   "metadata": {
    "pycharm": {
     "name": "#%%\n"
    }
   },
   "outputs": [
    {
     "data": {
      "text/plain": "80"
     },
     "execution_count": 512,
     "metadata": {},
     "output_type": "execute_result"
    }
   ],
   "source": [
    "a2.size"
   ]
  },
  {
   "cell_type": "code",
   "execution_count": 513,
   "id": "883ce1df",
   "metadata": {
    "pycharm": {
     "name": "#%%\n"
    }
   },
   "outputs": [],
   "source": [
    "Car.r = 100"
   ]
  },
  {
   "cell_type": "code",
   "execution_count": 514,
   "id": "e7eb7c8a",
   "metadata": {
    "pycharm": {
     "name": "#%%\n"
    }
   },
   "outputs": [
    {
     "data": {
      "text/plain": "100"
     },
     "execution_count": 514,
     "metadata": {},
     "output_type": "execute_result"
    }
   ],
   "source": [
    "a1.r"
   ]
  },
  {
   "cell_type": "code",
   "execution_count": 515,
   "id": "82f2dfe9",
   "metadata": {
    "pycharm": {
     "name": "#%%\n"
    }
   },
   "outputs": [
    {
     "data": {
      "text/plain": "100"
     },
     "execution_count": 515,
     "metadata": {},
     "output_type": "execute_result"
    }
   ],
   "source": [
    "a2.r"
   ]
  },
  {
   "cell_type": "code",
   "execution_count": 516,
   "id": "406660d6",
   "metadata": {
    "pycharm": {
     "name": "#%%\n"
    }
   },
   "outputs": [
    {
     "data": {
      "text/plain": "{'seat': 4, 'model': 'Lada'}"
     },
     "execution_count": 516,
     "metadata": {},
     "output_type": "execute_result"
    }
   ],
   "source": [
    "a1.__dict__"
   ]
  },
  {
   "cell_type": "code",
   "execution_count": 517,
   "id": "09cc5ca3",
   "metadata": {
    "pycharm": {
     "name": "#%%\n"
    }
   },
   "outputs": [
    {
     "data": {
      "text/plain": "{'size': 80}"
     },
     "execution_count": 517,
     "metadata": {},
     "output_type": "execute_result"
    }
   ],
   "source": [
    "a2.__dict__"
   ]
  },
  {
   "cell_type": "code",
   "execution_count": 518,
   "id": "eee83c5c",
   "metadata": {
    "pycharm": {
     "name": "#%%\n"
    }
   },
   "outputs": [],
   "source": [
    "del a1.model"
   ]
  },
  {
   "cell_type": "code",
   "execution_count": 519,
   "id": "3b689769",
   "metadata": {
    "pycharm": {
     "name": "#%%\n"
    }
   },
   "outputs": [
    {
     "data": {
      "text/plain": "{'seat': 4}"
     },
     "execution_count": 519,
     "metadata": {},
     "output_type": "execute_result"
    }
   ],
   "source": [
    "a1.__dict__"
   ]
  },
  {
   "cell_type": "code",
   "execution_count": 520,
   "id": "fbc6096c",
   "metadata": {
    "pycharm": {
     "name": "#%%\n"
    }
   },
   "outputs": [
    {
     "data": {
      "text/plain": "'BMW'"
     },
     "execution_count": 520,
     "metadata": {},
     "output_type": "execute_result"
    }
   ],
   "source": [
    "a1.model"
   ]
  },
  {
   "cell_type": "code",
   "execution_count": 521,
   "id": "11c6022c",
   "metadata": {
    "pycharm": {
     "name": "#%%\n"
    }
   },
   "outputs": [],
   "source": [
    "class Car:\n",
    "    model = \"BMW\"\n",
    "    engine = 1.6\n",
    "\n",
    "    def drive():\n",
    "        print(\"Let's go\")"
   ]
  },
  {
   "cell_type": "code",
   "execution_count": 522,
   "id": "d4bf5359",
   "metadata": {
    "pycharm": {
     "name": "#%%\n"
    }
   },
   "outputs": [
    {
     "data": {
      "text/plain": "mappingproxy({'__module__': '__main__',\n              'model': 'BMW',\n              'engine': 1.6,\n              'drive': <function __main__.Car.drive()>,\n              '__dict__': <attribute '__dict__' of 'Car' objects>,\n              '__weakref__': <attribute '__weakref__' of 'Car' objects>,\n              '__doc__': None})"
     },
     "execution_count": 522,
     "metadata": {},
     "output_type": "execute_result"
    }
   ],
   "source": [
    "Car.__dict__"
   ]
  },
  {
   "cell_type": "code",
   "execution_count": 523,
   "id": "523eb71b",
   "metadata": {
    "pycharm": {
     "name": "#%%\n"
    }
   },
   "outputs": [
    {
     "name": "stdout",
     "output_type": "stream",
     "text": [
      "Let's go\n"
     ]
    }
   ],
   "source": [
    "Car.drive()"
   ]
  },
  {
   "cell_type": "code",
   "execution_count": 524,
   "id": "87ef2356",
   "metadata": {
    "pycharm": {
     "name": "#%%\n"
    }
   },
   "outputs": [
    {
     "data": {
      "text/plain": "<function __main__.Car.drive()>"
     },
     "execution_count": 524,
     "metadata": {},
     "output_type": "execute_result"
    }
   ],
   "source": [
    "getattr(Car, 'drive')"
   ]
  },
  {
   "cell_type": "code",
   "execution_count": 525,
   "id": "d6636a00",
   "metadata": {
    "pycharm": {
     "name": "#%%\n"
    }
   },
   "outputs": [
    {
     "name": "stdout",
     "output_type": "stream",
     "text": [
      "Let's go\n"
     ]
    }
   ],
   "source": [
    "getattr(Car, 'drive')()"
   ]
  },
  {
   "cell_type": "code",
   "execution_count": 526,
   "id": "39ff39bf",
   "metadata": {
    "pycharm": {
     "name": "#%%\n"
    }
   },
   "outputs": [],
   "source": [
    "a = Car()"
   ]
  },
  {
   "cell_type": "code",
   "execution_count": 527,
   "id": "cf8bf13d",
   "metadata": {
    "pycharm": {
     "name": "#%%\n"
    }
   },
   "outputs": [
    {
     "data": {
      "text/plain": "{}"
     },
     "execution_count": 527,
     "metadata": {},
     "output_type": "execute_result"
    }
   ],
   "source": [
    "a.__dict__"
   ]
  },
  {
   "cell_type": "code",
   "execution_count": 528,
   "id": "a89efe03",
   "metadata": {
    "pycharm": {
     "name": "#%%\n"
    }
   },
   "outputs": [
    {
     "data": {
      "text/plain": "<bound method Car.drive of <__main__.Car object at 0x000002B2A7DAC8E0>>"
     },
     "execution_count": 528,
     "metadata": {},
     "output_type": "execute_result"
    }
   ],
   "source": [
    "a.drive"
   ]
  },
  {
   "cell_type": "code",
   "execution_count": 529,
   "id": "313da4f6",
   "metadata": {
    "pycharm": {
     "name": "#%%\n"
    }
   },
   "outputs": [
    {
     "data": {
      "text/plain": "<function __main__.Car.drive()>"
     },
     "execution_count": 529,
     "metadata": {},
     "output_type": "execute_result"
    }
   ],
   "source": [
    "Car.drive"
   ]
  },
  {
   "cell_type": "code",
   "execution_count": 530,
   "id": "7cd419c3",
   "metadata": {
    "pycharm": {
     "name": "#%%\n"
    }
   },
   "outputs": [],
   "source": [
    "class Car:\n",
    "    model = \"BMW\"\n",
    "    engine = 1.6\n",
    "\n",
    "    @staticmethod\n",
    "    def drive():\n",
    "        print(\"Let's go\")"
   ]
  },
  {
   "cell_type": "code",
   "execution_count": 531,
   "id": "8b8e7669",
   "metadata": {
    "pycharm": {
     "name": "#%%\n"
    }
   },
   "outputs": [],
   "source": [
    "a = Car()"
   ]
  },
  {
   "cell_type": "code",
   "execution_count": 532,
   "id": "4531dbc9",
   "metadata": {
    "pycharm": {
     "name": "#%%\n"
    }
   },
   "outputs": [
    {
     "data": {
      "text/plain": "{}"
     },
     "execution_count": 532,
     "metadata": {},
     "output_type": "execute_result"
    }
   ],
   "source": [
    "a.__dict__"
   ]
  },
  {
   "cell_type": "code",
   "execution_count": 533,
   "id": "49c6d789",
   "metadata": {
    "pycharm": {
     "name": "#%%\n"
    }
   },
   "outputs": [
    {
     "name": "stdout",
     "output_type": "stream",
     "text": [
      "Let's go\n"
     ]
    }
   ],
   "source": [
    "Car.drive()"
   ]
  },
  {
   "cell_type": "code",
   "execution_count": 534,
   "id": "3691cc07",
   "metadata": {
    "pycharm": {
     "name": "#%%\n"
    }
   },
   "outputs": [],
   "source": [
    "t = Car()"
   ]
  },
  {
   "cell_type": "code",
   "execution_count": 535,
   "id": "3eb8524e",
   "metadata": {
    "pycharm": {
     "name": "#%%\n"
    }
   },
   "outputs": [
    {
     "name": "stdout",
     "output_type": "stream",
     "text": [
      "Let's go\n"
     ]
    }
   ],
   "source": [
    "t.drive()"
   ]
  },
  {
   "cell_type": "code",
   "execution_count": 536,
   "id": "097ba0ee",
   "metadata": {
    "pycharm": {
     "name": "#%%\n"
    }
   },
   "outputs": [],
   "source": [
    "class Cat:\n",
    "    def hello(*args):\n",
    "        print(\"Hello world from kitty\", args)"
   ]
  },
  {
   "cell_type": "code",
   "execution_count": 537,
   "id": "b9294bcd",
   "metadata": {
    "pycharm": {
     "name": "#%%\n"
    }
   },
   "outputs": [],
   "source": [
    "jim = Cat()\n",
    "bob = Cat()"
   ]
  },
  {
   "cell_type": "code",
   "execution_count": 538,
   "id": "539b9574",
   "metadata": {
    "pycharm": {
     "name": "#%%\n"
    }
   },
   "outputs": [
    {
     "name": "stdout",
     "output_type": "stream",
     "text": [
      "Hello world from kitty (<__main__.Cat object at 0x000002B2A7DB8790>,)\n"
     ]
    }
   ],
   "source": [
    "jim.hello()"
   ]
  },
  {
   "cell_type": "code",
   "execution_count": 539,
   "id": "92c0a4fb",
   "metadata": {
    "pycharm": {
     "name": "#%%\n"
    }
   },
   "outputs": [
    {
     "data": {
      "text/plain": "<__main__.Cat at 0x2b2a7db8790>"
     },
     "execution_count": 539,
     "metadata": {},
     "output_type": "execute_result"
    }
   ],
   "source": [
    "jim"
   ]
  },
  {
   "cell_type": "code",
   "execution_count": 540,
   "id": "a828a8c7",
   "metadata": {
    "pycharm": {
     "name": "#%%\n"
    }
   },
   "outputs": [
    {
     "name": "stdout",
     "output_type": "stream",
     "text": [
      "Hello world from kitty (<__main__.Cat object at 0x000002B2A7DB8100>,)\n"
     ]
    }
   ],
   "source": [
    "bob.hello()"
   ]
  },
  {
   "cell_type": "code",
   "execution_count": 541,
   "id": "06bc8450",
   "metadata": {
    "pycharm": {
     "name": "#%%\n"
    }
   },
   "outputs": [],
   "source": [
    "class Cat:\n",
    "    breed = 'pers'\n",
    "\n",
    "    def hello(*args):\n",
    "        print(\"Hello world from kitty\", args)\n",
    "\n",
    "    def show_breed(instance):\n",
    "        print(f'my breed is {instance.breed}')\n",
    "\n",
    "    def show_name(instance):\n",
    "        if hasattr(instance, 'name'):\n",
    "            print(f'my name is {instance.name}')\n",
    "        else:\n",
    "            print('nothing')\n",
    "\n",
    "    def set_value(cat, value, age=1):\n",
    "        cat.name = value\n",
    "        cat.age = age\n",
    "\n",
    "    def new_method(self):\n",
    "        pass"
   ]
  },
  {
   "cell_type": "code",
   "execution_count": 542,
   "id": "f7d87c2e",
   "metadata": {
    "pycharm": {
     "name": "#%%\n"
    }
   },
   "outputs": [],
   "source": [
    "walt = Cat()"
   ]
  },
  {
   "cell_type": "code",
   "execution_count": 543,
   "id": "90a16f37",
   "metadata": {
    "pycharm": {
     "name": "#%%\n"
    }
   },
   "outputs": [
    {
     "name": "stdout",
     "output_type": "stream",
     "text": [
      "my breed is pers\n"
     ]
    }
   ],
   "source": [
    "walt.show_breed()"
   ]
  },
  {
   "cell_type": "code",
   "execution_count": 544,
   "id": "fdd20465",
   "metadata": {
    "pycharm": {
     "name": "#%%\n"
    }
   },
   "outputs": [],
   "source": [
    "walt.breed = 'siam'"
   ]
  },
  {
   "cell_type": "code",
   "execution_count": 545,
   "id": "e21756f5",
   "metadata": {
    "pycharm": {
     "name": "#%%\n"
    }
   },
   "outputs": [
    {
     "name": "stdout",
     "output_type": "stream",
     "text": [
      "my breed is siam\n"
     ]
    }
   ],
   "source": [
    "walt.show_breed()"
   ]
  },
  {
   "cell_type": "code",
   "execution_count": 546,
   "id": "219a6b2f",
   "metadata": {
    "pycharm": {
     "name": "#%%\n"
    }
   },
   "outputs": [],
   "source": [
    "walt.__dict__\n",
    "bob = Cat()"
   ]
  },
  {
   "cell_type": "code",
   "execution_count": 547,
   "id": "89e489a6",
   "metadata": {
    "pycharm": {
     "name": "#%%\n"
    }
   },
   "outputs": [
    {
     "data": {
      "text/plain": "'pers'"
     },
     "execution_count": 547,
     "metadata": {},
     "output_type": "execute_result"
    }
   ],
   "source": [
    "bob.breed"
   ]
  },
  {
   "cell_type": "code",
   "execution_count": 548,
   "id": "dd4f51e0",
   "metadata": {
    "pycharm": {
     "name": "#%%\n"
    }
   },
   "outputs": [
    {
     "name": "stdout",
     "output_type": "stream",
     "text": [
      "my breed is pers\n"
     ]
    }
   ],
   "source": [
    "bob.show_breed()"
   ]
  },
  {
   "cell_type": "code",
   "execution_count": 549,
   "id": "a1f47b33",
   "metadata": {
    "pycharm": {
     "name": "#%%\n"
    }
   },
   "outputs": [],
   "source": [
    "mary = Cat()"
   ]
  },
  {
   "cell_type": "code",
   "execution_count": 550,
   "id": "4b35efa1",
   "metadata": {
    "pycharm": {
     "name": "#%%\n"
    }
   },
   "outputs": [
    {
     "name": "stdout",
     "output_type": "stream",
     "text": [
      "my name is MARY\n"
     ]
    }
   ],
   "source": [
    "mary.name = 'MARY'\n",
    "mary.show_name()"
   ]
  },
  {
   "cell_type": "code",
   "execution_count": 551,
   "id": "7a4d8cb2",
   "metadata": {
    "pycharm": {
     "name": "#%%\n"
    }
   },
   "outputs": [],
   "source": [
    "mary = Cat()"
   ]
  },
  {
   "cell_type": "code",
   "execution_count": 552,
   "id": "fe5d1da4",
   "metadata": {
    "pycharm": {
     "name": "#%%\n"
    }
   },
   "outputs": [
    {
     "name": "stdout",
     "output_type": "stream",
     "text": [
      "nothing\n"
     ]
    }
   ],
   "source": [
    "mary.show_name()"
   ]
  },
  {
   "cell_type": "code",
   "execution_count": 553,
   "id": "eccc1c5a",
   "metadata": {
    "pycharm": {
     "name": "#%%\n"
    }
   },
   "outputs": [],
   "source": [
    "mary.name = '****'"
   ]
  },
  {
   "cell_type": "code",
   "execution_count": 554,
   "id": "ff11698c",
   "metadata": {
    "pycharm": {
     "name": "#%%\n"
    }
   },
   "outputs": [
    {
     "name": "stdout",
     "output_type": "stream",
     "text": [
      "my name is ****\n"
     ]
    }
   ],
   "source": [
    "mary.show_name()"
   ]
  },
  {
   "cell_type": "code",
   "execution_count": 555,
   "id": "f9ae5c4f",
   "metadata": {
    "pycharm": {
     "name": "#%%\n"
    }
   },
   "outputs": [],
   "source": [
    "tom = Cat()"
   ]
  },
  {
   "cell_type": "code",
   "execution_count": 556,
   "id": "abbddba6",
   "metadata": {
    "pycharm": {
     "name": "#%%\n"
    }
   },
   "outputs": [
    {
     "name": "stdout",
     "output_type": "stream",
     "text": [
      "nothing\n"
     ]
    }
   ],
   "source": [
    "tom.show_name()"
   ]
  },
  {
   "cell_type": "code",
   "execution_count": 557,
   "id": "0de5f150",
   "metadata": {
    "pycharm": {
     "name": "#%%\n"
    }
   },
   "outputs": [],
   "source": [
    "tom.set_value('Tom')"
   ]
  },
  {
   "cell_type": "code",
   "execution_count": 558,
   "id": "f189f687",
   "metadata": {
    "pycharm": {
     "name": "#%%\n"
    }
   },
   "outputs": [
    {
     "name": "stdout",
     "output_type": "stream",
     "text": [
      "my name is Tom\n"
     ]
    }
   ],
   "source": [
    "tom.show_name()"
   ]
  },
  {
   "cell_type": "code",
   "execution_count": 559,
   "id": "4e0524a1",
   "metadata": {
    "pycharm": {
     "name": "#%%\n"
    }
   },
   "outputs": [],
   "source": [
    "jerry = Cat()"
   ]
  },
  {
   "cell_type": "code",
   "execution_count": 560,
   "id": "383cb3e4",
   "metadata": {
    "pycharm": {
     "name": "#%%\n"
    }
   },
   "outputs": [],
   "source": [
    "jerry.set_value('Jerry')"
   ]
  },
  {
   "cell_type": "code",
   "execution_count": 561,
   "id": "6a365aaa",
   "metadata": {
    "pycharm": {
     "name": "#%%\n"
    }
   },
   "outputs": [
    {
     "data": {
      "text/plain": "1"
     },
     "execution_count": 561,
     "metadata": {},
     "output_type": "execute_result"
    }
   ],
   "source": [
    "jerry.age"
   ]
  },
  {
   "cell_type": "code",
   "execution_count": 562,
   "id": "db725d01",
   "metadata": {
    "pycharm": {
     "name": "#%%\n"
    }
   },
   "outputs": [],
   "source": [
    "class Cat:\n",
    "    def __init__(self, name, breed='pers', age=1, color='white'):\n",
    "        print('hello new object is ', self, name, breed, age, color)\n",
    "        self.name = name\n",
    "        self.age = age\n",
    "        self.breed = breed\n",
    "        self.color = color"
   ]
  },
  {
   "cell_type": "code",
   "execution_count": 563,
   "id": "706c594a",
   "metadata": {
    "pycharm": {
     "name": "#%%\n"
    }
   },
   "outputs": [
    {
     "name": "stdout",
     "output_type": "stream",
     "text": [
      "hello new object is  <__main__.Cat object at 0x000002B2A7DD6DF0> Walt pers 1 white\n"
     ]
    }
   ],
   "source": [
    "walt = Cat('Walt')"
   ]
  },
  {
   "cell_type": "code",
   "execution_count": 564,
   "id": "c66256dc",
   "metadata": {
    "pycharm": {
     "name": "#%%\n"
    }
   },
   "outputs": [
    {
     "name": "stdout",
     "output_type": "stream",
     "text": [
      "hello new object is  <__main__.Cat object at 0x000002B2A7DD6700> Kelly pers 40 white\n"
     ]
    }
   ],
   "source": [
    "kelly = Cat('Kelly', age=40)"
   ]
  },
  {
   "cell_type": "code",
   "execution_count": 565,
   "id": "5508e2ea",
   "metadata": {
    "pycharm": {
     "name": "#%%\n"
    }
   },
   "outputs": [],
   "source": [
    "#Моносостояние для всех экземпляров"
   ]
  },
  {
   "cell_type": "code",
   "execution_count": 566,
   "id": "574ebf19",
   "metadata": {
    "pycharm": {
     "name": "#%%\n"
    }
   },
   "outputs": [],
   "source": [
    "class Cat:\n",
    "    breed = \"pers\""
   ]
  },
  {
   "cell_type": "code",
   "execution_count": 567,
   "id": "17983627",
   "metadata": {
    "pycharm": {
     "name": "#%%\n"
    }
   },
   "outputs": [],
   "source": [
    "a = Cat()\n",
    "b = Cat()\n",
    "a.breed = \"siam\"\n",
    "b.color = \"black\"\n",
    "c = Cat()"
   ]
  },
  {
   "cell_type": "code",
   "execution_count": 568,
   "id": "62ecd8ed",
   "metadata": {
    "pycharm": {
     "name": "#%%\n"
    }
   },
   "outputs": [],
   "source": [
    "class Cat:\n",
    "    __shared_attr = {\n",
    "        \"breed\": \"pers\",\n",
    "        \"color\": \"black\"\n",
    "    }\n",
    "\n",
    "    def __init__(self):\n",
    "        self.__dict__ = Cat.__shared_attr"
   ]
  },
  {
   "cell_type": "code",
   "execution_count": 569,
   "id": "418e6db3",
   "metadata": {
    "pycharm": {
     "name": "#%%\n"
    }
   },
   "outputs": [],
   "source": [
    "d = Cat()\n",
    "g = Cat()"
   ]
  },
  {
   "cell_type": "code",
   "execution_count": 570,
   "id": "676b7384",
   "metadata": {
    "pycharm": {
     "name": "#%%\n"
    }
   },
   "outputs": [
    {
     "name": "stdout",
     "output_type": "stream",
     "text": [
      "{'breed': 'siam', 'color': 'black'}\n"
     ]
    }
   ],
   "source": [
    "d.breed = \"siam\"\n",
    "print(g.__dict__)"
   ]
  },
  {
   "cell_type": "code",
   "execution_count": 571,
   "id": "ae6f461f",
   "metadata": {
    "pycharm": {
     "name": "#%%\n"
    }
   },
   "outputs": [
    {
     "name": "stdout",
     "output_type": "stream",
     "text": [
      "{'breed': 'siam', 'color': 'black', 'name': 'Bob'}\n"
     ]
    }
   ],
   "source": [
    "d.name = \"Bob\"\n",
    "h = Cat()\n",
    "print(h.__dict__)"
   ]
  },
  {
   "cell_type": "code",
   "execution_count": 572,
   "id": "8e53e623",
   "metadata": {
    "pycharm": {
     "name": "#%%\n"
    }
   },
   "outputs": [],
   "source": [
    "class BankAccount:\n",
    "    def __init__(self, name, balance):\n",
    "        self.name = name\n",
    "        self.balance = balance\n"
   ]
  },
  {
   "cell_type": "code",
   "execution_count": 573,
   "id": "01b52acd",
   "metadata": {
    "pycharm": {
     "name": "#%%\n"
    }
   },
   "outputs": [
    {
     "data": {
      "text/plain": "100"
     },
     "execution_count": 573,
     "metadata": {},
     "output_type": "execute_result"
    }
   ],
   "source": [
    "a = BankAccount('Ivan', 100)\n",
    "a.balance"
   ]
  },
  {
   "cell_type": "code",
   "execution_count": 574,
   "id": "e845a024",
   "metadata": {
    "pycharm": {
     "name": "#%%\n"
    }
   },
   "outputs": [
    {
     "data": {
      "text/plain": "'Ivan'"
     },
     "execution_count": 574,
     "metadata": {},
     "output_type": "execute_result"
    }
   ],
   "source": [
    "a.name"
   ]
  },
  {
   "cell_type": "code",
   "execution_count": 575,
   "id": "bdb41535",
   "metadata": {
    "pycharm": {
     "name": "#%%\n"
    }
   },
   "outputs": [],
   "source": [
    "a.balance = 'balance'"
   ]
  },
  {
   "cell_type": "code",
   "execution_count": 576,
   "id": "54449d70",
   "metadata": {
    "pycharm": {
     "name": "#%%\n"
    }
   },
   "outputs": [
    {
     "data": {
      "text/plain": "'balance'"
     },
     "execution_count": 576,
     "metadata": {},
     "output_type": "execute_result"
    }
   ],
   "source": [
    "a.balance"
   ]
  },
  {
   "cell_type": "code",
   "execution_count": 577,
   "id": "ce8dbc89",
   "metadata": {
    "pycharm": {
     "name": "#%%\n"
    }
   },
   "outputs": [],
   "source": [
    "class BankAccount:\n",
    "    def __init__(self, name, balance):\n",
    "        self.name = name\n",
    "        self.__balance = balance\n",
    "\n",
    "    def get_balance(self):\n",
    "        return self.__balance\n",
    "\n",
    "    def set_balance(self, value):\n",
    "        self.__balance = value\n"
   ]
  },
  {
   "cell_type": "code",
   "execution_count": 578,
   "id": "a5240fca",
   "metadata": {
    "pycharm": {
     "name": "#%%\n"
    }
   },
   "outputs": [
    {
     "data": {
      "text/plain": "100"
     },
     "execution_count": 578,
     "metadata": {},
     "output_type": "execute_result"
    }
   ],
   "source": [
    "a = BankAccount('Ivan', 100)\n",
    "a.get_balance()"
   ]
  },
  {
   "cell_type": "code",
   "execution_count": 579,
   "id": "d280f465",
   "metadata": {
    "pycharm": {
     "name": "#%%\n"
    }
   },
   "outputs": [
    {
     "data": {
      "text/plain": "1000"
     },
     "execution_count": 579,
     "metadata": {},
     "output_type": "execute_result"
    }
   ],
   "source": [
    "a.set_balance(1000)\n",
    "a.get_balance()"
   ]
  },
  {
   "cell_type": "code",
   "execution_count": 580,
   "id": "3d68aad7",
   "metadata": {
    "pycharm": {
     "name": "#%%\n"
    }
   },
   "outputs": [
    {
     "data": {
      "text/plain": "{'name': 'Ivan', '_BankAccount__balance': 1000}"
     },
     "execution_count": 580,
     "metadata": {},
     "output_type": "execute_result"
    }
   ],
   "source": [
    "a.__dict__"
   ]
  },
  {
   "cell_type": "code",
   "execution_count": 581,
   "id": "7159031f",
   "metadata": {
    "pycharm": {
     "name": "#%%\n"
    }
   },
   "outputs": [
    {
     "data": {
      "text/plain": "'balance'"
     },
     "execution_count": 581,
     "metadata": {},
     "output_type": "execute_result"
    }
   ],
   "source": [
    "a.set_balance('balance')\n",
    "a.get_balance()"
   ]
  },
  {
   "cell_type": "code",
   "execution_count": 582,
   "id": "ff119e6b",
   "metadata": {
    "pycharm": {
     "name": "#%%\n"
    }
   },
   "outputs": [],
   "source": [
    "class BankAccount:\n",
    "    def __init__(self, name, balance):\n",
    "        self.name = name\n",
    "        self.__balance = balance\n",
    "\n",
    "    def get_balance(self):\n",
    "        return self.__balance\n",
    "\n",
    "    def set_balance(self, value):\n",
    "        if not isinstance(value, (int, float)):\n",
    "            raise ValueError('Баланс должен быть числом.')\n",
    "        self.__balance = value\n"
   ]
  },
  {
   "cell_type": "code",
   "execution_count": 583,
   "id": "b809c6cd",
   "metadata": {
    "pycharm": {
     "name": "#%%\n"
    }
   },
   "outputs": [
    {
     "data": {
      "text/plain": "100"
     },
     "execution_count": 583,
     "metadata": {},
     "output_type": "execute_result"
    }
   ],
   "source": [
    "a = BankAccount('Ivan', 100)\n",
    "a.get_balance()"
   ]
  },
  {
   "cell_type": "code",
   "execution_count": 584,
   "id": "cb89dc11",
   "metadata": {
    "pycharm": {
     "name": "#%%\n"
    }
   },
   "outputs": [],
   "source": [
    "#a.set_balance('777')"
   ]
  },
  {
   "cell_type": "code",
   "execution_count": 585,
   "id": "2c09f8dd",
   "metadata": {
    "pycharm": {
     "name": "#%%\n"
    }
   },
   "outputs": [
    {
     "data": {
      "text/plain": "100"
     },
     "execution_count": 585,
     "metadata": {},
     "output_type": "execute_result"
    }
   ],
   "source": [
    "a.get_balance()"
   ]
  },
  {
   "cell_type": "code",
   "execution_count": 586,
   "id": "2f0188e3",
   "metadata": {
    "pycharm": {
     "name": "#%%\n"
    }
   },
   "outputs": [],
   "source": [
    "class BankAccount:\n",
    "    def __init__(self, name, balance):\n",
    "        self.name = name\n",
    "        self.__balance = balance\n",
    "\n",
    "    def get_balance(self):\n",
    "        return self.__balance\n",
    "\n",
    "    def set_balance(self, value):\n",
    "        if not isinstance(value, (int, float)):\n",
    "            raise ValueError('Баланс должен быть числом.')\n",
    "        self.__balance = value\n",
    "\n",
    "    balance = property(fget=get_balance, fset=set_balance)"
   ]
  },
  {
   "cell_type": "code",
   "execution_count": 587,
   "id": "936dff67",
   "metadata": {
    "pycharm": {
     "name": "#%%\n"
    }
   },
   "outputs": [],
   "source": [
    "a = BankAccount('Ivan', 500)"
   ]
  },
  {
   "cell_type": "code",
   "execution_count": 588,
   "id": "f998d835",
   "metadata": {
    "pycharm": {
     "name": "#%%\n"
    }
   },
   "outputs": [
    {
     "data": {
      "text/plain": "500"
     },
     "execution_count": 588,
     "metadata": {},
     "output_type": "execute_result"
    }
   ],
   "source": [
    "a.balance"
   ]
  },
  {
   "cell_type": "code",
   "execution_count": 589,
   "id": "f2644841",
   "metadata": {
    "pycharm": {
     "name": "#%%\n"
    }
   },
   "outputs": [
    {
     "data": {
      "text/plain": "777"
     },
     "execution_count": 589,
     "metadata": {},
     "output_type": "execute_result"
    }
   ],
   "source": [
    "a.balance = 777\n",
    "a.balance"
   ]
  },
  {
   "cell_type": "code",
   "execution_count": 590,
   "id": "b8e9b0d1",
   "metadata": {
    "pycharm": {
     "name": "#%%\n"
    }
   },
   "outputs": [],
   "source": [
    "#a.balance = '777'"
   ]
  },
  {
   "cell_type": "code",
   "execution_count": 591,
   "id": "c2f14c6a",
   "metadata": {
    "pycharm": {
     "name": "#%%\n"
    }
   },
   "outputs": [],
   "source": [
    "class BankAccount:\n",
    "    def __init__(self, name, balance):\n",
    "        self.name = name\n",
    "        self.__balance = balance\n",
    "\n",
    "    def get_balance(self):\n",
    "        return self.__balance\n",
    "\n",
    "    def set_balance(self, value):\n",
    "        if not isinstance(value, (int, float)):\n",
    "            raise ValueError('Баланс должен быть числом.')\n",
    "        self.__balance = value\n",
    "\n",
    "    def delete_balance(self):\n",
    "        print('delete balance')\n",
    "        del self.__balance\n",
    "\n",
    "    balance = property(fget=get_balance, fset=set_balance, fdel=delete_balance)"
   ]
  },
  {
   "cell_type": "code",
   "execution_count": 592,
   "id": "43b209d6",
   "metadata": {
    "pycharm": {
     "name": "#%%\n"
    }
   },
   "outputs": [],
   "source": [
    "a = BankAccount('Ivan', 500)"
   ]
  },
  {
   "cell_type": "code",
   "execution_count": 593,
   "id": "f02d5dbf",
   "metadata": {
    "pycharm": {
     "name": "#%%\n"
    }
   },
   "outputs": [
    {
     "name": "stdout",
     "output_type": "stream",
     "text": [
      "delete balance\n"
     ]
    }
   ],
   "source": [
    "del a.balance"
   ]
  },
  {
   "cell_type": "code",
   "execution_count": 594,
   "id": "bd2ca10c",
   "metadata": {
    "pycharm": {
     "name": "#%%\n"
    }
   },
   "outputs": [
    {
     "data": {
      "text/plain": "{'name': 'Ivan'}"
     },
     "execution_count": 594,
     "metadata": {},
     "output_type": "execute_result"
    }
   ],
   "source": [
    "a.__dict__"
   ]
  },
  {
   "cell_type": "code",
   "execution_count": 595,
   "id": "97bd5867",
   "metadata": {
    "pycharm": {
     "name": "#%%\n"
    }
   },
   "outputs": [],
   "source": [
    "class Money:\n",
    "    def __init__(self, d, c):\n",
    "        self.total_cents = d * 100 + c\n",
    "\n",
    "    @property\n",
    "    def dollars(self):\n",
    "        return self.total_cents // 100\n",
    "\n",
    "    @property\n",
    "    def cents(self):\n",
    "        return self.total_cents % 100\n",
    "\n",
    "    @dollars.setter\n",
    "    def dollars(self, value):\n",
    "        if isinstance(value, int) and value >= 0:\n",
    "            self.total_cents = value * 100 + self.cents\n",
    "        else:\n",
    "            print('Error dollars')\n",
    "\n",
    "    @cents.setter\n",
    "    def cents(self, value):\n",
    "        if isinstance(value, int) and (0 <= value < 100):\n",
    "            self.total_cents = self.dollars * 100 + value\n",
    "        else:\n",
    "            print('Error cents')\n",
    "\n",
    "    def __str__(self):\n",
    "        return f\"Ваше состояние составляет {self.dollars} долларов {self.cents} центов\""
   ]
  },
  {
   "cell_type": "code",
   "execution_count": 596,
   "id": "12b2a7a1",
   "metadata": {
    "pycharm": {
     "name": "#%%\n"
    }
   },
   "outputs": [],
   "source": [
    "t = Money(34, 77)"
   ]
  },
  {
   "cell_type": "code",
   "execution_count": 597,
   "id": "90694273",
   "metadata": {
    "pycharm": {
     "name": "#%%\n"
    }
   },
   "outputs": [
    {
     "data": {
      "text/plain": "34"
     },
     "execution_count": 597,
     "metadata": {},
     "output_type": "execute_result"
    }
   ],
   "source": [
    "t.dollars"
   ]
  },
  {
   "cell_type": "code",
   "execution_count": 598,
   "id": "93b1366a",
   "metadata": {
    "pycharm": {
     "name": "#%%\n"
    }
   },
   "outputs": [
    {
     "data": {
      "text/plain": "77"
     },
     "execution_count": 598,
     "metadata": {},
     "output_type": "execute_result"
    }
   ],
   "source": [
    "t.cents"
   ]
  },
  {
   "cell_type": "code",
   "execution_count": 599,
   "id": "f51281e1",
   "metadata": {
    "pycharm": {
     "name": "#%%\n"
    }
   },
   "outputs": [
    {
     "name": "stdout",
     "output_type": "stream",
     "text": [
      "Error dollars\n"
     ]
    }
   ],
   "source": [
    "t.dollars = '777'"
   ]
  },
  {
   "cell_type": "code",
   "execution_count": 600,
   "id": "a755318f",
   "metadata": {
    "pycharm": {
     "name": "#%%\n"
    }
   },
   "outputs": [
    {
     "name": "stdout",
     "output_type": "stream",
     "text": [
      "Error dollars\n"
     ]
    }
   ],
   "source": [
    "t.dollars = -100"
   ]
  },
  {
   "cell_type": "code",
   "execution_count": 601,
   "id": "215ced4f",
   "metadata": {
    "pycharm": {
     "name": "#%%\n"
    }
   },
   "outputs": [
    {
     "name": "stdout",
     "output_type": "stream",
     "text": [
      "Error dollars\n"
     ]
    }
   ],
   "source": [
    "t.dollars = 77.7"
   ]
  },
  {
   "cell_type": "code",
   "execution_count": 602,
   "id": "0b8d242f",
   "metadata": {
    "pycharm": {
     "name": "#%%\n"
    }
   },
   "outputs": [
    {
     "name": "stdout",
     "output_type": "stream",
     "text": [
      "Error cents\n"
     ]
    }
   ],
   "source": [
    "t.cents = '555'"
   ]
  },
  {
   "cell_type": "code",
   "execution_count": 603,
   "id": "7118b266",
   "metadata": {
    "pycharm": {
     "name": "#%%\n"
    }
   },
   "outputs": [
    {
     "name": "stdout",
     "output_type": "stream",
     "text": [
      "Error cents\n"
     ]
    }
   ],
   "source": [
    "t.cents = 333"
   ]
  },
  {
   "cell_type": "code",
   "execution_count": 604,
   "id": "decbc098",
   "metadata": {
    "pycharm": {
     "name": "#%%\n"
    }
   },
   "outputs": [],
   "source": [
    "t.cents = 77"
   ]
  },
  {
   "cell_type": "code",
   "execution_count": 605,
   "id": "750a8162",
   "metadata": {
    "pycharm": {
     "name": "#%%\n"
    }
   },
   "outputs": [
    {
     "data": {
      "text/plain": "77"
     },
     "execution_count": 605,
     "metadata": {},
     "output_type": "execute_result"
    }
   ],
   "source": [
    "t.cents"
   ]
  },
  {
   "cell_type": "code",
   "execution_count": 606,
   "id": "deab3b3f",
   "metadata": {
    "pycharm": {
     "name": "#%%\n"
    }
   },
   "outputs": [],
   "source": [
    "t.dollars = 77"
   ]
  },
  {
   "cell_type": "code",
   "execution_count": 607,
   "id": "246b6aab",
   "metadata": {
    "pycharm": {
     "name": "#%%\n"
    }
   },
   "outputs": [
    {
     "data": {
      "text/plain": "77"
     },
     "execution_count": 607,
     "metadata": {},
     "output_type": "execute_result"
    }
   ],
   "source": [
    "t.dollars"
   ]
  },
  {
   "cell_type": "code",
   "execution_count": 608,
   "id": "a1dd9266",
   "metadata": {
    "pycharm": {
     "name": "#%%\n"
    }
   },
   "outputs": [
    {
     "data": {
      "text/plain": "'Ваше состояние составляет 77 долларов 77 центов'"
     },
     "execution_count": 608,
     "metadata": {},
     "output_type": "execute_result"
    }
   ],
   "source": [
    "t.__str__()"
   ]
  },
  {
   "cell_type": "code",
   "execution_count": 609,
   "id": "ff335a00",
   "metadata": {
    "pycharm": {
     "name": "#%%\n"
    }
   },
   "outputs": [],
   "source": [
    "class Square:\n",
    "    def __init__(self, s):\n",
    "        self.side = s\n",
    "        self.__area = None\n",
    "\n",
    "    @property\n",
    "    def side(self):\n",
    "        return self.__side\n",
    "\n",
    "    @side.setter\n",
    "    def side(self, value):\n",
    "        self.__side = value\n",
    "        self.__area = None\n",
    "\n",
    "    @property\n",
    "    def area(self):\n",
    "        if self.__area is None:\n",
    "            print('calculate area')\n",
    "            self.__area = self.side ** 2\n",
    "        return self.__area"
   ]
  },
  {
   "cell_type": "code",
   "execution_count": 610,
   "id": "6b394265",
   "metadata": {
    "pycharm": {
     "name": "#%%\n"
    }
   },
   "outputs": [],
   "source": [
    "t = Square(11)"
   ]
  },
  {
   "cell_type": "code",
   "execution_count": 611,
   "id": "8c5b3436",
   "metadata": {
    "pycharm": {
     "name": "#%%\n"
    }
   },
   "outputs": [
    {
     "name": "stdout",
     "output_type": "stream",
     "text": [
      "calculate area\n"
     ]
    },
    {
     "data": {
      "text/plain": "121"
     },
     "execution_count": 611,
     "metadata": {},
     "output_type": "execute_result"
    }
   ],
   "source": [
    "t.area"
   ]
  },
  {
   "cell_type": "code",
   "execution_count": 612,
   "id": "7ac2f064",
   "metadata": {
    "pycharm": {
     "name": "#%%\n"
    }
   },
   "outputs": [
    {
     "data": {
      "text/plain": "121"
     },
     "execution_count": 612,
     "metadata": {},
     "output_type": "execute_result"
    }
   ],
   "source": [
    "t.area"
   ]
  },
  {
   "cell_type": "code",
   "execution_count": 613,
   "id": "69cf7dfb",
   "metadata": {
    "pycharm": {
     "name": "#%%\n"
    }
   },
   "outputs": [],
   "source": [
    "t.side = 5"
   ]
  },
  {
   "cell_type": "code",
   "execution_count": 614,
   "id": "544c52f8",
   "metadata": {
    "pycharm": {
     "name": "#%%\n"
    }
   },
   "outputs": [
    {
     "name": "stdout",
     "output_type": "stream",
     "text": [
      "calculate area\n"
     ]
    },
    {
     "data": {
      "text/plain": "25"
     },
     "execution_count": 614,
     "metadata": {},
     "output_type": "execute_result"
    }
   ],
   "source": [
    "t.area"
   ]
  },
  {
   "cell_type": "code",
   "execution_count": 615,
   "id": "c7f84043",
   "metadata": {
    "pycharm": {
     "name": "#%%\n"
    }
   },
   "outputs": [],
   "source": [
    "class Example:\n",
    "    def hello():\n",
    "        print('hello')\n",
    "\n",
    "    def instance_hello(self):\n",
    "        print(f'instance_hello {self}')\n",
    "\n",
    "    @staticmethod\n",
    "    def static_hello():\n",
    "        print('static_hello')\n",
    "\n",
    "    @classmethod\n",
    "    def class_hello(cls):\n",
    "        print(f'instance_hello {cls}')"
   ]
  },
  {
   "cell_type": "code",
   "execution_count": 616,
   "id": "19abc31d",
   "metadata": {
    "pycharm": {
     "name": "#%%\n"
    }
   },
   "outputs": [],
   "source": [
    "t = Example()"
   ]
  },
  {
   "cell_type": "code",
   "execution_count": 617,
   "id": "7f7974af",
   "metadata": {
    "pycharm": {
     "name": "#%%\n"
    }
   },
   "outputs": [
    {
     "name": "stdout",
     "output_type": "stream",
     "text": [
      "instance_hello <__main__.Example object at 0x000002B2A7E0D8B0>\n"
     ]
    }
   ],
   "source": [
    "t.instance_hello()"
   ]
  },
  {
   "cell_type": "code",
   "execution_count": 618,
   "id": "7b46bf5e",
   "metadata": {
    "pycharm": {
     "name": "#%%\n"
    }
   },
   "outputs": [
    {
     "data": {
      "text/plain": "<__main__.Example at 0x2b2a7e0d8b0>"
     },
     "execution_count": 618,
     "metadata": {},
     "output_type": "execute_result"
    }
   ],
   "source": [
    "t"
   ]
  },
  {
   "cell_type": "code",
   "execution_count": 619,
   "id": "800d8f6b",
   "metadata": {
    "pycharm": {
     "name": "#%%\n"
    }
   },
   "outputs": [
    {
     "name": "stdout",
     "output_type": "stream",
     "text": [
      "static_hello\n"
     ]
    }
   ],
   "source": [
    "t.static_hello()"
   ]
  },
  {
   "cell_type": "code",
   "execution_count": 620,
   "id": "b20c9f2e",
   "metadata": {
    "pycharm": {
     "name": "#%%\n"
    }
   },
   "outputs": [],
   "source": [
    "t = Example()"
   ]
  },
  {
   "cell_type": "code",
   "execution_count": 621,
   "id": "ad4e3fda",
   "metadata": {
    "pycharm": {
     "name": "#%%\n"
    }
   },
   "outputs": [
    {
     "name": "stdout",
     "output_type": "stream",
     "text": [
      "static_hello\n"
     ]
    }
   ],
   "source": [
    "t.static_hello()"
   ]
  },
  {
   "cell_type": "code",
   "execution_count": 622,
   "id": "8dc49b0a",
   "metadata": {
    "pycharm": {
     "name": "#%%\n"
    }
   },
   "outputs": [
    {
     "name": "stdout",
     "output_type": "stream",
     "text": [
      "instance_hello <class '__main__.Example'>\n"
     ]
    }
   ],
   "source": [
    "t.class_hello()"
   ]
  },
  {
   "cell_type": "code",
   "execution_count": 623,
   "id": "dadfff5b",
   "metadata": {
    "pycharm": {
     "name": "#%%\n"
    }
   },
   "outputs": [],
   "source": [
    "a = Example()"
   ]
  },
  {
   "cell_type": "code",
   "execution_count": 624,
   "id": "58a1ed21",
   "metadata": {
    "pycharm": {
     "name": "#%%\n"
    }
   },
   "outputs": [
    {
     "name": "stdout",
     "output_type": "stream",
     "text": [
      "instance_hello <class '__main__.Example'>\n"
     ]
    }
   ],
   "source": [
    "a.class_hello()"
   ]
  },
  {
   "cell_type": "code",
   "execution_count": 625,
   "id": "e1716409",
   "metadata": {
    "pycharm": {
     "name": "#%%\n"
    }
   },
   "outputs": [],
   "source": [
    "class User:\n",
    "    def __init__(self, login, password):\n",
    "        self.login = login\n",
    "        self.password = password\n",
    "        self.__secret = 'abracadabra'\n",
    "\n",
    "    @property\n",
    "    def secret(self):\n",
    "        s = input(\"Введите ваш пароль: \")\n",
    "        if (s == self.password):\n",
    "            return self.secret\n",
    "        else:\n",
    "            raise ValueError('Доступ закрыт')\n",
    "\n",
    "    @property\n",
    "    def password(self):\n",
    "        print('gettr called')\n",
    "        return self.__password\n",
    "\n",
    "    @staticmethod\n",
    "    def is_include_number(password):\n",
    "        for digit in '0123456789':\n",
    "            if digit in password:\n",
    "                return True\n",
    "        return False\n",
    "\n",
    "    @password.setter\n",
    "    def password(self, value):\n",
    "        print('setter called')\n",
    "        if not isinstance(value, str):\n",
    "            raise TypeError(\"Пароль должен быть строкой\")\n",
    "        if len(value) < 4:\n",
    "            raise TypeError(\"Длина пароля >4 символов\")\n",
    "        if len(value) > 12:\n",
    "            raise TypeError(\"Длина пароля >12 символов\")\n",
    "        if not User.is_include_number(value):\n",
    "            raise ValueError(\"Пароль должен содержать хотя бы одну цифру\")\n",
    "        self.__password = value\n",
    "\n"
   ]
  },
  {
   "cell_type": "code",
   "execution_count": 626,
   "id": "a6615391",
   "metadata": {
    "pycharm": {
     "name": "#%%\n"
    }
   },
   "outputs": [
    {
     "name": "stdout",
     "output_type": "stream",
     "text": [
      "setter called\n"
     ]
    }
   ],
   "source": [
    "x = User('zxc', '123456789')"
   ]
  },
  {
   "cell_type": "code",
   "execution_count": 627,
   "id": "fcd8473c",
   "metadata": {
    "pycharm": {
     "name": "#%%\n"
    }
   },
   "outputs": [],
   "source": [
    "# Магические методы __str__ и __repr__"
   ]
  },
  {
   "cell_type": "code",
   "execution_count": 628,
   "id": "7c8943db",
   "metadata": {
    "pycharm": {
     "name": "#%%\n"
    }
   },
   "outputs": [],
   "source": [
    "class Lion:\n",
    "    def __init__(self, name):\n",
    "        self.name = name"
   ]
  },
  {
   "cell_type": "code",
   "execution_count": 629,
   "id": "83948a1e",
   "metadata": {
    "pycharm": {
     "name": "#%%\n"
    }
   },
   "outputs": [],
   "source": [
    "a = Lion('Bob')"
   ]
  },
  {
   "cell_type": "code",
   "execution_count": 630,
   "id": "5cafcae1",
   "metadata": {
    "pycharm": {
     "name": "#%%\n"
    }
   },
   "outputs": [
    {
     "data": {
      "text/plain": "<__main__.Lion at 0x2b2a7e194f0>"
     },
     "execution_count": 630,
     "metadata": {},
     "output_type": "execute_result"
    }
   ],
   "source": [
    "a"
   ]
  },
  {
   "cell_type": "code",
   "execution_count": 631,
   "id": "41c95f8c",
   "metadata": {
    "pycharm": {
     "name": "#%%\n"
    }
   },
   "outputs": [
    {
     "name": "stdout",
     "output_type": "stream",
     "text": [
      "<__main__.Lion object at 0x000002B2A7E194F0>\n"
     ]
    }
   ],
   "source": [
    "print(a)"
   ]
  },
  {
   "cell_type": "code",
   "execution_count": 632,
   "id": "79804c83",
   "metadata": {
    "pycharm": {
     "name": "#%%\n"
    }
   },
   "outputs": [
    {
     "data": {
      "text/plain": "'<__main__.Lion object at 0x000002B2A7E194F0>'"
     },
     "execution_count": 632,
     "metadata": {},
     "output_type": "execute_result"
    }
   ],
   "source": [
    "str(a)"
   ]
  },
  {
   "cell_type": "code",
   "execution_count": 633,
   "id": "606ab919",
   "metadata": {
    "pycharm": {
     "name": "#%%\n"
    }
   },
   "outputs": [],
   "source": [
    "class Lion:\n",
    "    def __init__(self, name):\n",
    "        self.name = name\n",
    "\n",
    "    def __repr__(self):\n",
    "        return f\"The object Lion - {self.name}\""
   ]
  },
  {
   "cell_type": "code",
   "execution_count": 634,
   "id": "ecb50697",
   "metadata": {
    "pycharm": {
     "name": "#%%\n"
    }
   },
   "outputs": [],
   "source": [
    "a = Lion('Simba')"
   ]
  },
  {
   "cell_type": "code",
   "execution_count": 635,
   "id": "83b6068f",
   "metadata": {
    "pycharm": {
     "name": "#%%\n"
    }
   },
   "outputs": [
    {
     "data": {
      "text/plain": "The object Lion - Simba"
     },
     "execution_count": 635,
     "metadata": {},
     "output_type": "execute_result"
    }
   ],
   "source": [
    "a"
   ]
  },
  {
   "cell_type": "code",
   "execution_count": 636,
   "id": "f5c8c874",
   "metadata": {
    "pycharm": {
     "name": "#%%\n"
    }
   },
   "outputs": [
    {
     "name": "stdout",
     "output_type": "stream",
     "text": [
      "The object Lion - Simba\n"
     ]
    }
   ],
   "source": [
    "print(a)"
   ]
  },
  {
   "cell_type": "code",
   "execution_count": 637,
   "id": "981b546b",
   "metadata": {
    "pycharm": {
     "name": "#%%\n"
    }
   },
   "outputs": [
    {
     "data": {
      "text/plain": "'The object Lion - Simba'"
     },
     "execution_count": 637,
     "metadata": {},
     "output_type": "execute_result"
    }
   ],
   "source": [
    "str(a)"
   ]
  },
  {
   "cell_type": "code",
   "execution_count": 638,
   "id": "293e5b1a",
   "metadata": {
    "pycharm": {
     "name": "#%%\n"
    }
   },
   "outputs": [],
   "source": [
    "class Lion:\n",
    "    def __init__(self, name):\n",
    "        self.name = name\n",
    "\n",
    "    def __repr__(self):\n",
    "        return f\"The object Lion - {self.name}\"\n",
    "\n",
    "    def __str__(self):\n",
    "        return f\"Lion - {self.name}\""
   ]
  },
  {
   "cell_type": "code",
   "execution_count": 639,
   "id": "6ca0c5f1",
   "metadata": {
    "pycharm": {
     "name": "#%%\n"
    }
   },
   "outputs": [],
   "source": [
    "a = Lion('Bob')"
   ]
  },
  {
   "cell_type": "code",
   "execution_count": 640,
   "id": "e745dfa7",
   "metadata": {
    "pycharm": {
     "name": "#%%\n"
    }
   },
   "outputs": [
    {
     "data": {
      "text/plain": "The object Lion - Bob"
     },
     "execution_count": 640,
     "metadata": {},
     "output_type": "execute_result"
    }
   ],
   "source": [
    "a"
   ]
  },
  {
   "cell_type": "code",
   "execution_count": 641,
   "id": "03f8253e",
   "metadata": {
    "pycharm": {
     "name": "#%%\n"
    }
   },
   "outputs": [
    {
     "name": "stdout",
     "output_type": "stream",
     "text": [
      "Lion - Bob\n"
     ]
    }
   ],
   "source": [
    "print(a)"
   ]
  },
  {
   "cell_type": "code",
   "execution_count": 642,
   "id": "e5803f24",
   "metadata": {
    "pycharm": {
     "name": "#%%\n"
    }
   },
   "outputs": [
    {
     "data": {
      "text/plain": "'Lion - Bob'"
     },
     "execution_count": 642,
     "metadata": {},
     "output_type": "execute_result"
    }
   ],
   "source": [
    "str(a)"
   ]
  },
  {
   "cell_type": "code",
   "execution_count": 643,
   "id": "b3abcd72",
   "metadata": {
    "pycharm": {
     "name": "#%%\n"
    }
   },
   "outputs": [],
   "source": [
    "class Lion:\n",
    "    def __init__(self, name):\n",
    "        self.name = name\n",
    "\n",
    "    def __str__(self):\n",
    "        return f\"Lion - {self.name}\""
   ]
  },
  {
   "cell_type": "code",
   "execution_count": 644,
   "id": "08c30172",
   "metadata": {
    "pycharm": {
     "name": "#%%\n"
    }
   },
   "outputs": [],
   "source": [
    "a = Lion('Simba')"
   ]
  },
  {
   "cell_type": "code",
   "execution_count": 645,
   "id": "5aea83dc",
   "metadata": {
    "pycharm": {
     "name": "#%%\n"
    }
   },
   "outputs": [
    {
     "data": {
      "text/plain": "<__main__.Lion at 0x2b2a7e31b80>"
     },
     "execution_count": 645,
     "metadata": {},
     "output_type": "execute_result"
    }
   ],
   "source": [
    "a"
   ]
  },
  {
   "cell_type": "code",
   "execution_count": 646,
   "id": "f2022fdf",
   "metadata": {
    "pycharm": {
     "name": "#%%\n"
    }
   },
   "outputs": [
    {
     "name": "stdout",
     "output_type": "stream",
     "text": [
      "Lion - Simba\n"
     ]
    }
   ],
   "source": [
    "print(a)"
   ]
  },
  {
   "cell_type": "code",
   "execution_count": 647,
   "id": "030545d8",
   "metadata": {
    "pycharm": {
     "name": "#%%\n"
    }
   },
   "outputs": [
    {
     "data": {
      "text/plain": "'Lion - Simba'"
     },
     "execution_count": 647,
     "metadata": {},
     "output_type": "execute_result"
    }
   ],
   "source": [
    "str(a)"
   ]
  },
  {
   "cell_type": "code",
   "execution_count": 648,
   "id": "88bfd037",
   "metadata": {
    "pycharm": {
     "name": "#%%\n"
    }
   },
   "outputs": [],
   "source": [
    "#Магические методы __len__ и __abs__"
   ]
  },
  {
   "cell_type": "code",
   "execution_count": 649,
   "id": "b3364e3b",
   "metadata": {
    "pycharm": {
     "name": "#%%\n"
    }
   },
   "outputs": [],
   "source": [
    "class Person:\n",
    "    def __init__(self, name, surname):\n",
    "        self.name = name\n",
    "        self.surname = surname\n"
   ]
  },
  {
   "cell_type": "code",
   "execution_count": 650,
   "id": "8c5b754b",
   "metadata": {
    "pycharm": {
     "name": "#%%\n"
    }
   },
   "outputs": [
    {
     "data": {
      "text/plain": "3"
     },
     "execution_count": 650,
     "metadata": {},
     "output_type": "execute_result"
    }
   ],
   "source": [
    "'abc'.__len__()"
   ]
  },
  {
   "cell_type": "code",
   "execution_count": 651,
   "id": "6d36ce31",
   "metadata": {
    "pycharm": {
     "name": "#%%\n"
    }
   },
   "outputs": [
    {
     "data": {
      "text/plain": "100"
     },
     "execution_count": 651,
     "metadata": {},
     "output_type": "execute_result"
    }
   ],
   "source": [
    "(-100).__abs__()"
   ]
  },
  {
   "cell_type": "code",
   "execution_count": 652,
   "id": "6e1aef1d",
   "metadata": {
    "pycharm": {
     "name": "#%%\n"
    }
   },
   "outputs": [],
   "source": [
    "a = Person('abc', '123')"
   ]
  },
  {
   "cell_type": "code",
   "execution_count": 653,
   "id": "396a5163",
   "metadata": {
    "pycharm": {
     "name": "#%%\n"
    }
   },
   "outputs": [],
   "source": [
    "# len(a)\n",
    "# TypeError: object of type 'Person' has no len()"
   ]
  },
  {
   "cell_type": "code",
   "execution_count": 654,
   "id": "3d44f6df",
   "metadata": {
    "pycharm": {
     "name": "#%%\n"
    }
   },
   "outputs": [],
   "source": [
    "class Person:\n",
    "    def __init__(self, name, surname):\n",
    "        self.name = name\n",
    "        self.surname = surname\n",
    "\n",
    "    def __len__(self):\n",
    "        return len(self.name + self.surname)"
   ]
  },
  {
   "cell_type": "code",
   "execution_count": 655,
   "id": "b4e490a7",
   "metadata": {
    "pycharm": {
     "name": "#%%\n"
    }
   },
   "outputs": [],
   "source": [
    "a = Person('Marat', 'Shagitov')"
   ]
  },
  {
   "cell_type": "code",
   "execution_count": 656,
   "id": "19f3c4c5",
   "metadata": {
    "pycharm": {
     "name": "#%%\n"
    }
   },
   "outputs": [
    {
     "data": {
      "text/plain": "13"
     },
     "execution_count": 656,
     "metadata": {},
     "output_type": "execute_result"
    }
   ],
   "source": [
    "len(a)"
   ]
  },
  {
   "cell_type": "code",
   "execution_count": 657,
   "id": "aead8ee8",
   "metadata": {
    "pycharm": {
     "name": "#%%\n"
    }
   },
   "outputs": [],
   "source": [
    "# abs(a)\n",
    "# TypeError: bad operand type for abs(): 'Person'"
   ]
  },
  {
   "cell_type": "code",
   "execution_count": 658,
   "id": "9c8627c3",
   "metadata": {
    "pycharm": {
     "name": "#%%\n"
    }
   },
   "outputs": [],
   "source": [
    "class Line:\n",
    "    def __init__(self, point1, point2):\n",
    "        self.x1 = point1\n",
    "        self.x2 = point2\n",
    "\n",
    "    def __len__(self):\n",
    "        return self.x2 - self.x1"
   ]
  },
  {
   "cell_type": "code",
   "execution_count": 659,
   "id": "11d629b9",
   "metadata": {
    "pycharm": {
     "name": "#%%\n"
    }
   },
   "outputs": [],
   "source": [
    "a = Line(5, 10)"
   ]
  },
  {
   "cell_type": "code",
   "execution_count": 660,
   "id": "dbd3e586",
   "metadata": {
    "pycharm": {
     "name": "#%%\n"
    }
   },
   "outputs": [
    {
     "data": {
      "text/plain": "5"
     },
     "execution_count": 660,
     "metadata": {},
     "output_type": "execute_result"
    }
   ],
   "source": [
    "len(a)"
   ]
  },
  {
   "cell_type": "code",
   "execution_count": 661,
   "id": "3e068b96",
   "metadata": {
    "pycharm": {
     "name": "#%%\n"
    }
   },
   "outputs": [],
   "source": [
    "a = Line(10, 5)"
   ]
  },
  {
   "cell_type": "code",
   "execution_count": 662,
   "id": "0e2e1651",
   "metadata": {
    "pycharm": {
     "name": "#%%\n"
    }
   },
   "outputs": [],
   "source": [
    "# len(a)\n",
    "# ValueError: __len__() should return >= 0"
   ]
  },
  {
   "cell_type": "code",
   "execution_count": 663,
   "id": "e7aa3043",
   "metadata": {
    "pycharm": {
     "name": "#%%\n"
    }
   },
   "outputs": [],
   "source": [
    "class Line:\n",
    "    def __init__(self, point1, point2):\n",
    "        self.x1 = point1\n",
    "        self.x2 = point2\n",
    "\n",
    "    def __len__(self):\n",
    "        return abs(self)  # self.__abs__()\n",
    "\n",
    "    def __abs__(self):\n",
    "        return abs(self.x2 - self.x1)"
   ]
  },
  {
   "cell_type": "code",
   "execution_count": 664,
   "id": "a443a91a",
   "metadata": {
    "pycharm": {
     "name": "#%%\n"
    }
   },
   "outputs": [],
   "source": [
    "a = Line(5, 10)"
   ]
  },
  {
   "cell_type": "code",
   "execution_count": 665,
   "id": "f356c61f",
   "metadata": {
    "pycharm": {
     "name": "#%%\n"
    }
   },
   "outputs": [
    {
     "data": {
      "text/plain": "5"
     },
     "execution_count": 665,
     "metadata": {},
     "output_type": "execute_result"
    }
   ],
   "source": [
    "len(a)"
   ]
  },
  {
   "cell_type": "code",
   "execution_count": 666,
   "id": "b52109cc",
   "metadata": {
    "pycharm": {
     "name": "#%%\n"
    }
   },
   "outputs": [],
   "source": [
    "a = Line(1000, 100)"
   ]
  },
  {
   "cell_type": "code",
   "execution_count": 667,
   "id": "0056eafd",
   "metadata": {
    "pycharm": {
     "name": "#%%\n"
    }
   },
   "outputs": [
    {
     "data": {
      "text/plain": "900"
     },
     "execution_count": 667,
     "metadata": {},
     "output_type": "execute_result"
    }
   ],
   "source": [
    "len(a)"
   ]
  },
  {
   "cell_type": "code",
   "execution_count": 668,
   "id": "b0d7dd2f",
   "metadata": {
    "pycharm": {
     "name": "#%%\n"
    }
   },
   "outputs": [],
   "source": [
    "class Vector:\n",
    "    def __init__(self, *args):\n",
    "        a = []\n",
    "        for _ in args:\n",
    "            if isinstance(_, int):\n",
    "                a += [_]\n",
    "        self.values = sorted(a)\n",
    "\n",
    "    def __str__(self):\n",
    "        if self.values:\n",
    "            x = [str(i) for i in self.values]\n",
    "            return f\"Вектор - ({', '.join(x)})\"\n",
    "        else:\n",
    "            return \"Пустой вектор\"\n",
    "\n",
    "    def __add__(self, other):\n",
    "        if isinstance(other, int):\n",
    "            x = [i + other for i in self.values]\n",
    "            return Vector(*x)\n",
    "        elif isinstance(other, Vector):\n",
    "            if len(other.values) == len(self.values):\n",
    "                x = [sum(i) for i in zip(self.values, other.values)]\n",
    "                return Vector(*x)\n",
    "            else:\n",
    "                print(\"Сложение векторов разной длины недопустимо\")\n",
    "        else:\n",
    "            print(f\"Вектор нельзя сложить с {other}\")"
   ]
  },
  {
   "cell_type": "code",
   "execution_count": 669,
   "id": "a975f798",
   "metadata": {
    "pycharm": {
     "name": "#%%\n"
    }
   },
   "outputs": [
    {
     "name": "stdout",
     "output_type": "stream",
     "text": [
      "Вектор - (1, 10, 100, 1000)\n",
      "Вектор - (6, 15, 105, 1005)\n"
     ]
    }
   ],
   "source": [
    "a = Vector(10 ** 3, 10 ** 2, 10 ** 1, 1)\n",
    "print(a)\n",
    "t = a + 5\n",
    "print(t)"
   ]
  },
  {
   "cell_type": "code",
   "execution_count": 670,
   "id": "086c2a98",
   "metadata": {
    "pycharm": {
     "name": "#%%\n"
    }
   },
   "outputs": [
    {
     "name": "stdout",
     "output_type": "stream",
     "text": [
      "Вектор - (101, 210, 400, 1400)\n"
     ]
    }
   ],
   "source": [
    "x = Vector(1000, 100, 10, 1)\n",
    "y = Vector(100, 200, 300, 400)\n",
    "print(x + y)"
   ]
  },
  {
   "cell_type": "code",
   "execution_count": 671,
   "id": "d9443f53",
   "metadata": {
    "pycharm": {
     "name": "#%%\n"
    },
    "scrolled": true
   },
   "outputs": [
    {
     "name": "stdout",
     "output_type": "stream",
     "text": [
      "Вектор нельзя сложить с 0.5\n",
      "None\n"
     ]
    }
   ],
   "source": [
    "print(x + 0.5)"
   ]
  },
  {
   "cell_type": "code",
   "execution_count": 672,
   "outputs": [],
   "source": [
    "class Rectangle:\n",
    "    def __init__(self, a, b):\n",
    "        self.a = a\n",
    "        self.b = b"
   ],
   "metadata": {
    "collapsed": false,
    "pycharm": {
     "name": "#%%\n"
    }
   }
  },
  {
   "cell_type": "code",
   "execution_count": 673,
   "outputs": [],
   "source": [
    "v = Rectangle(1, 2)\n",
    "r = Rectangle(3, 4)"
   ],
   "metadata": {
    "collapsed": false,
    "pycharm": {
     "name": "#%%\n"
    }
   }
  },
  {
   "cell_type": "code",
   "execution_count": 674,
   "outputs": [],
   "source": [
    "# r > v\n",
    "# TypeError: '>' not supported between instances of 'Rectangle' and 'Rectangle'"
   ],
   "metadata": {
    "collapsed": false,
    "pycharm": {
     "name": "#%%\n"
    }
   }
  },
  {
   "cell_type": "code",
   "execution_count": 675,
   "outputs": [],
   "source": [
    "# v < 5\n",
    "# TypeError: '<' not supported between instances of 'Rectangle' and 'int'"
   ],
   "metadata": {
    "collapsed": false,
    "pycharm": {
     "name": "#%%\n"
    }
   }
  },
  {
   "cell_type": "code",
   "execution_count": 676,
   "outputs": [
    {
     "data": {
      "text/plain": "False"
     },
     "execution_count": 676,
     "metadata": {},
     "output_type": "execute_result"
    }
   ],
   "source": [
    "v == r"
   ],
   "metadata": {
    "collapsed": false,
    "pycharm": {
     "name": "#%%\n"
    }
   }
  },
  {
   "cell_type": "code",
   "execution_count": 677,
   "outputs": [],
   "source": [
    "class Rectangle:\n",
    "    def __init__(self, a, b):\n",
    "        self.a = a\n",
    "        self.b = b\n",
    "\n",
    "    @property\n",
    "    def area(self):\n",
    "        return self.a * self.b\n",
    "\n",
    "    def __eq__(self, other):\n",
    "        print('__eq__ call')\n",
    "        if isinstance(other, Rectangle):\n",
    "            return self.a == other.a and self.b == other.b\n",
    "\n",
    "    def __lt__(self, other):\n",
    "        print('__lt__ call')\n",
    "        if isinstance(other, Rectangle):\n",
    "            return self.area < other.area\n",
    "        elif isinstance(other, (int, float)):\n",
    "            return self.area < other"
   ],
   "metadata": {
    "collapsed": false,
    "pycharm": {
     "name": "#%%\n"
    }
   }
  },
  {
   "cell_type": "code",
   "execution_count": 678,
   "outputs": [],
   "source": [
    "x = Rectangle(1, 2)"
   ],
   "metadata": {
    "collapsed": false,
    "pycharm": {
     "name": "#%%\n"
    }
   }
  },
  {
   "cell_type": "code",
   "execution_count": 679,
   "outputs": [],
   "source": [
    "y = Rectangle(1, 2)"
   ],
   "metadata": {
    "collapsed": false,
    "pycharm": {
     "name": "#%%\n"
    }
   }
  },
  {
   "cell_type": "code",
   "execution_count": 680,
   "outputs": [
    {
     "name": "stdout",
     "output_type": "stream",
     "text": [
      "__eq__ call\n"
     ]
    },
    {
     "data": {
      "text/plain": "True"
     },
     "execution_count": 680,
     "metadata": {},
     "output_type": "execute_result"
    }
   ],
   "source": [
    "x == y"
   ],
   "metadata": {
    "collapsed": false,
    "pycharm": {
     "name": "#%%\n"
    }
   }
  },
  {
   "cell_type": "code",
   "execution_count": 681,
   "outputs": [],
   "source": [
    "a = Rectangle(10, 10)"
   ],
   "metadata": {
    "collapsed": false,
    "pycharm": {
     "name": "#%%\n"
    }
   }
  },
  {
   "cell_type": "code",
   "execution_count": 682,
   "outputs": [
    {
     "name": "stdout",
     "output_type": "stream",
     "text": [
      "__eq__ call\n"
     ]
    },
    {
     "data": {
      "text/plain": "False"
     },
     "execution_count": 682,
     "metadata": {},
     "output_type": "execute_result"
    }
   ],
   "source": [
    "a == x"
   ],
   "metadata": {
    "collapsed": false,
    "pycharm": {
     "name": "#%%\n"
    }
   }
  },
  {
   "cell_type": "code",
   "execution_count": 683,
   "outputs": [
    {
     "name": "stdout",
     "output_type": "stream",
     "text": [
      "__lt__ call\n"
     ]
    },
    {
     "data": {
      "text/plain": "False"
     },
     "execution_count": 683,
     "metadata": {},
     "output_type": "execute_result"
    }
   ],
   "source": [
    "a < x"
   ],
   "metadata": {
    "collapsed": false,
    "pycharm": {
     "name": "#%%\n"
    }
   }
  },
  {
   "cell_type": "code",
   "execution_count": 684,
   "outputs": [
    {
     "name": "stdout",
     "output_type": "stream",
     "text": [
      "__lt__ call\n"
     ]
    },
    {
     "data": {
      "text/plain": "True"
     },
     "execution_count": 684,
     "metadata": {},
     "output_type": "execute_result"
    }
   ],
   "source": [
    "a > x"
   ],
   "metadata": {
    "collapsed": false,
    "pycharm": {
     "name": "#%%\n"
    }
   }
  },
  {
   "cell_type": "code",
   "execution_count": 685,
   "outputs": [
    {
     "data": {
      "text/plain": "100"
     },
     "execution_count": 685,
     "metadata": {},
     "output_type": "execute_result"
    }
   ],
   "source": [
    "a.area"
   ],
   "metadata": {
    "collapsed": false,
    "pycharm": {
     "name": "#%%\n"
    }
   }
  },
  {
   "cell_type": "code",
   "execution_count": 686,
   "outputs": [],
   "source": [
    "# 100 < a\n",
    "# TypeError: '<' not supported between instances of 'int' and 'Rectangle'"
   ],
   "metadata": {
    "collapsed": false,
    "pycharm": {
     "name": "#%%\n"
    }
   }
  },
  {
   "cell_type": "code",
   "execution_count": 687,
   "outputs": [
    {
     "name": "stdout",
     "output_type": "stream",
     "text": [
      "__lt__ call\n"
     ]
    },
    {
     "data": {
      "text/plain": "False"
     },
     "execution_count": 687,
     "metadata": {},
     "output_type": "execute_result"
    }
   ],
   "source": [
    "a < 100"
   ],
   "metadata": {
    "collapsed": false,
    "pycharm": {
     "name": "#%%\n"
    }
   }
  },
  {
   "cell_type": "code",
   "execution_count": 688,
   "outputs": [],
   "source": [
    "a = Rectangle(1, 1)\n",
    "x = Rectangle(10, 10)"
   ],
   "metadata": {
    "collapsed": false,
    "pycharm": {
     "name": "#%%\n"
    }
   }
  },
  {
   "cell_type": "code",
   "execution_count": 689,
   "outputs": [
    {
     "name": "stdout",
     "output_type": "stream",
     "text": [
      "__lt__ call\n"
     ]
    },
    {
     "data": {
      "text/plain": "False"
     },
     "execution_count": 689,
     "metadata": {},
     "output_type": "execute_result"
    }
   ],
   "source": [
    "a > x"
   ],
   "metadata": {
    "collapsed": false,
    "pycharm": {
     "name": "#%%\n"
    }
   }
  },
  {
   "cell_type": "code",
   "execution_count": 690,
   "outputs": [],
   "source": [
    "class Rectangle:\n",
    "    def __init__(self, a, b):\n",
    "        self.a = a\n",
    "        self.b = b\n",
    "\n",
    "    @property\n",
    "    def area(self):\n",
    "        return self.a * self.b\n",
    "\n",
    "    def __eq__(self, other):\n",
    "        print('__eq__ call')\n",
    "        if isinstance(other, Rectangle):\n",
    "            return self.a == other.a and self.b == other.b\n",
    "\n",
    "    def __lt__(self, other):\n",
    "        print('__lt__ call')\n",
    "        if isinstance(other, Rectangle):\n",
    "            return self.area < other.area\n",
    "        elif isinstance(other, (int, float)):\n",
    "            return self.area < other\n",
    "\n",
    "    def __le__(self, other):\n",
    "        return self == other or self < other"
   ],
   "metadata": {
    "collapsed": false,
    "pycharm": {
     "name": "#%%\n"
    }
   }
  },
  {
   "cell_type": "code",
   "execution_count": 691,
   "outputs": [],
   "source": [
    "a = Rectangle(7, 7)"
   ],
   "metadata": {
    "collapsed": false,
    "pycharm": {
     "name": "#%%\n"
    }
   }
  },
  {
   "cell_type": "code",
   "execution_count": 692,
   "outputs": [],
   "source": [
    "x = Rectangle(7, 7)"
   ],
   "metadata": {
    "collapsed": false,
    "pycharm": {
     "name": "#%%\n"
    }
   }
  },
  {
   "cell_type": "code",
   "execution_count": 693,
   "outputs": [
    {
     "name": "stdout",
     "output_type": "stream",
     "text": [
      "__eq__ call\n"
     ]
    },
    {
     "data": {
      "text/plain": "True"
     },
     "execution_count": 693,
     "metadata": {},
     "output_type": "execute_result"
    }
   ],
   "source": [
    "a == x"
   ],
   "metadata": {
    "collapsed": false,
    "pycharm": {
     "name": "#%%\n"
    }
   }
  },
  {
   "cell_type": "code",
   "execution_count": 694,
   "outputs": [],
   "source": [
    "w = Rectangle(1, 1)"
   ],
   "metadata": {
    "collapsed": false,
    "pycharm": {
     "name": "#%%\n"
    }
   }
  },
  {
   "cell_type": "code",
   "execution_count": 695,
   "outputs": [
    {
     "name": "stdout",
     "output_type": "stream",
     "text": [
      "__eq__ call\n",
      "__lt__ call\n"
     ]
    },
    {
     "data": {
      "text/plain": "False"
     },
     "execution_count": 695,
     "metadata": {},
     "output_type": "execute_result"
    }
   ],
   "source": [
    "a <= w"
   ],
   "metadata": {
    "collapsed": false,
    "pycharm": {
     "name": "#%%\n"
    }
   }
  },
  {
   "cell_type": "code",
   "execution_count": 696,
   "outputs": [
    {
     "name": "stdout",
     "output_type": "stream",
     "text": [
      "__eq__ call\n"
     ]
    },
    {
     "data": {
      "text/plain": "False"
     },
     "execution_count": 696,
     "metadata": {},
     "output_type": "execute_result"
    }
   ],
   "source": [
    "a == w"
   ],
   "metadata": {
    "collapsed": false,
    "pycharm": {
     "name": "#%%\n"
    }
   }
  },
  {
   "cell_type": "code",
   "execution_count": 697,
   "outputs": [
    {
     "name": "stdout",
     "output_type": "stream",
     "text": [
      "__eq__ call\n"
     ]
    },
    {
     "data": {
      "text/plain": "True"
     },
     "execution_count": 697,
     "metadata": {},
     "output_type": "execute_result"
    }
   ],
   "source": [
    "a != w"
   ],
   "metadata": {
    "collapsed": false,
    "pycharm": {
     "name": "#%%\n"
    }
   }
  },
  {
   "cell_type": "code",
   "execution_count": 698,
   "outputs": [
    {
     "name": "stdout",
     "output_type": "stream",
     "text": [
      "__eq__ call\n",
      "__lt__ call\n"
     ]
    },
    {
     "data": {
      "text/plain": "True"
     },
     "execution_count": 698,
     "metadata": {},
     "output_type": "execute_result"
    }
   ],
   "source": [
    "a >= w"
   ],
   "metadata": {
    "collapsed": false,
    "pycharm": {
     "name": "#%%\n"
    }
   }
  },
  {
   "cell_type": "code",
   "execution_count": 699,
   "outputs": [],
   "source": [
    "class Point:\n",
    "    pass"
   ],
   "metadata": {
    "collapsed": false,
    "pycharm": {
     "name": "#%%\n"
    }
   }
  },
  {
   "cell_type": "code",
   "execution_count": 700,
   "outputs": [],
   "source": [
    "a = Point()"
   ],
   "metadata": {
    "collapsed": false,
    "pycharm": {
     "name": "#%%\n"
    }
   }
  },
  {
   "cell_type": "code",
   "execution_count": 701,
   "outputs": [
    {
     "data": {
      "text/plain": "True"
     },
     "execution_count": 701,
     "metadata": {},
     "output_type": "execute_result"
    }
   ],
   "source": [
    "isinstance(a, object)"
   ],
   "metadata": {
    "collapsed": false,
    "pycharm": {
     "name": "#%%\n"
    }
   }
  },
  {
   "cell_type": "code",
   "execution_count": 702,
   "outputs": [
    {
     "data": {
      "text/plain": "'<__main__.Point object at 0x000002B2A7E70CA0>'"
     },
     "execution_count": 702,
     "metadata": {},
     "output_type": "execute_result"
    }
   ],
   "source": [
    "a.__repr__()"
   ],
   "metadata": {
    "collapsed": false,
    "pycharm": {
     "name": "#%%\n"
    }
   }
  },
  {
   "cell_type": "code",
   "execution_count": 703,
   "outputs": [],
   "source": [
    "y = Point()"
   ],
   "metadata": {
    "collapsed": false,
    "pycharm": {
     "name": "#%%\n"
    }
   }
  },
  {
   "cell_type": "code",
   "execution_count": 704,
   "outputs": [],
   "source": [
    "x = y"
   ],
   "metadata": {
    "collapsed": false,
    "pycharm": {
     "name": "#%%\n"
    }
   }
  },
  {
   "cell_type": "code",
   "execution_count": 705,
   "outputs": [
    {
     "data": {
      "text/plain": "2966344389920"
     },
     "execution_count": 705,
     "metadata": {},
     "output_type": "execute_result"
    }
   ],
   "source": [
    "id(x)"
   ],
   "metadata": {
    "collapsed": false,
    "pycharm": {
     "name": "#%%\n"
    }
   }
  },
  {
   "cell_type": "code",
   "execution_count": 706,
   "outputs": [
    {
     "data": {
      "text/plain": "2966344389920"
     },
     "execution_count": 706,
     "metadata": {},
     "output_type": "execute_result"
    }
   ],
   "source": [
    "id(y)"
   ],
   "metadata": {
    "collapsed": false,
    "pycharm": {
     "name": "#%%\n"
    }
   }
  },
  {
   "cell_type": "code",
   "execution_count": 707,
   "outputs": [
    {
     "data": {
      "text/plain": "185396524370"
     },
     "execution_count": 707,
     "metadata": {},
     "output_type": "execute_result"
    }
   ],
   "source": [
    "hash(x)"
   ],
   "metadata": {
    "collapsed": false,
    "pycharm": {
     "name": "#%%\n"
    }
   }
  },
  {
   "cell_type": "code",
   "execution_count": 708,
   "outputs": [
    {
     "data": {
      "text/plain": "185396524370"
     },
     "execution_count": 708,
     "metadata": {},
     "output_type": "execute_result"
    }
   ],
   "source": [
    "hash(y)"
   ],
   "metadata": {
    "collapsed": false,
    "pycharm": {
     "name": "#%%\n"
    }
   }
  },
  {
   "cell_type": "code",
   "execution_count": 709,
   "outputs": [],
   "source": [
    "class Point:\n",
    "    def __init__(self, x, y):\n",
    "        self.x = x\n",
    "        self.y = y\n",
    "\n",
    "    def __eq__(self, other):\n",
    "        return isinstance(other, Point) and self.x == other.x and self.y == other.y"
   ],
   "metadata": {
    "collapsed": false,
    "pycharm": {
     "name": "#%%\n"
    }
   }
  },
  {
   "cell_type": "code",
   "execution_count": 710,
   "outputs": [],
   "source": [
    "p1 = Point(0, 0)"
   ],
   "metadata": {
    "collapsed": false,
    "pycharm": {
     "name": "#%%\n"
    }
   }
  },
  {
   "cell_type": "code",
   "execution_count": 711,
   "outputs": [],
   "source": [
    "p2 = Point(0, 0)"
   ],
   "metadata": {
    "collapsed": false,
    "pycharm": {
     "name": "#%%\n"
    }
   }
  },
  {
   "cell_type": "code",
   "execution_count": 712,
   "outputs": [
    {
     "data": {
      "text/plain": "2966344407408"
     },
     "execution_count": 712,
     "metadata": {},
     "output_type": "execute_result"
    }
   ],
   "source": [
    "id(p1)"
   ],
   "metadata": {
    "collapsed": false,
    "pycharm": {
     "name": "#%%\n"
    }
   }
  },
  {
   "cell_type": "code",
   "execution_count": 713,
   "outputs": [
    {
     "data": {
      "text/plain": "2966344407216"
     },
     "execution_count": 713,
     "metadata": {},
     "output_type": "execute_result"
    }
   ],
   "source": [
    "id(p2)"
   ],
   "metadata": {
    "collapsed": false,
    "pycharm": {
     "name": "#%%\n"
    }
   }
  },
  {
   "cell_type": "code",
   "execution_count": 714,
   "outputs": [
    {
     "data": {
      "text/plain": "True"
     },
     "execution_count": 714,
     "metadata": {},
     "output_type": "execute_result"
    }
   ],
   "source": [
    "p1 == p2"
   ],
   "metadata": {
    "collapsed": false,
    "pycharm": {
     "name": "#%%\n"
    }
   }
  },
  {
   "cell_type": "code",
   "execution_count": 715,
   "outputs": [],
   "source": [
    "# hash(p1)\n",
    "# hash(p2)\n",
    "# TypeError: unhashable type: 'Point'"
   ],
   "metadata": {
    "collapsed": false,
    "pycharm": {
     "name": "#%%\n"
    }
   }
  },
  {
   "cell_type": "code",
   "execution_count": 716,
   "outputs": [],
   "source": [
    "class Point:\n",
    "    def __init__(self, x, y):\n",
    "        self.x = x\n",
    "        self.y = y\n",
    "\n",
    "    def __eq__(self, other):\n",
    "        return isinstance(other, Point) and self.x == other.x and self.y == other.y\n",
    "\n",
    "    def __hash__(self):\n",
    "        return hash((self.x, self.y))"
   ],
   "metadata": {
    "collapsed": false,
    "pycharm": {
     "name": "#%%\n"
    }
   }
  },
  {
   "cell_type": "code",
   "execution_count": 717,
   "outputs": [],
   "source": [
    "p1 = Point(1, 1)\n",
    "p2 = Point(1, 1)\n",
    "p3 = Point(10, 10)"
   ],
   "metadata": {
    "collapsed": false,
    "pycharm": {
     "name": "#%%\n"
    }
   }
  },
  {
   "cell_type": "code",
   "execution_count": 718,
   "outputs": [
    {
     "data": {
      "text/plain": "True"
     },
     "execution_count": 718,
     "metadata": {},
     "output_type": "execute_result"
    }
   ],
   "source": [
    "p1 == p2"
   ],
   "metadata": {
    "collapsed": false,
    "pycharm": {
     "name": "#%%\n"
    }
   }
  },
  {
   "cell_type": "code",
   "execution_count": 719,
   "outputs": [
    {
     "data": {
      "text/plain": "False"
     },
     "execution_count": 719,
     "metadata": {},
     "output_type": "execute_result"
    }
   ],
   "source": [
    "p1 == p3"
   ],
   "metadata": {
    "collapsed": false,
    "pycharm": {
     "name": "#%%\n"
    }
   }
  },
  {
   "cell_type": "code",
   "execution_count": 720,
   "outputs": [
    {
     "data": {
      "text/plain": "False"
     },
     "execution_count": 720,
     "metadata": {},
     "output_type": "execute_result"
    }
   ],
   "source": [
    "p2 == p3"
   ],
   "metadata": {
    "collapsed": false,
    "pycharm": {
     "name": "#%%\n"
    }
   }
  },
  {
   "cell_type": "code",
   "execution_count": 721,
   "outputs": [
    {
     "data": {
      "text/plain": "8389048192121911274"
     },
     "execution_count": 721,
     "metadata": {},
     "output_type": "execute_result"
    }
   ],
   "source": [
    "hash(p1)"
   ],
   "metadata": {
    "collapsed": false,
    "pycharm": {
     "name": "#%%\n"
    }
   }
  },
  {
   "cell_type": "code",
   "execution_count": 722,
   "outputs": [
    {
     "data": {
      "text/plain": "8389048192121911274"
     },
     "execution_count": 722,
     "metadata": {},
     "output_type": "execute_result"
    }
   ],
   "source": [
    "hash(p2)"
   ],
   "metadata": {
    "collapsed": false,
    "pycharm": {
     "name": "#%%\n"
    }
   }
  },
  {
   "cell_type": "code",
   "execution_count": 723,
   "outputs": [
    {
     "data": {
      "text/plain": "7295179424490390769"
     },
     "execution_count": 723,
     "metadata": {},
     "output_type": "execute_result"
    }
   ],
   "source": [
    "hash(p3)"
   ],
   "metadata": {
    "collapsed": false,
    "pycharm": {
     "name": "#%%\n"
    }
   }
  },
  {
   "cell_type": "code",
   "execution_count": 724,
   "outputs": [],
   "source": [
    "r = {}"
   ],
   "metadata": {
    "collapsed": false,
    "pycharm": {
     "name": "#%%\n"
    }
   }
  },
  {
   "cell_type": "code",
   "execution_count": 725,
   "outputs": [],
   "source": [
    "r[p1] = 0"
   ],
   "metadata": {
    "collapsed": false,
    "pycharm": {
     "name": "#%%\n"
    }
   }
  },
  {
   "cell_type": "code",
   "execution_count": 726,
   "outputs": [
    {
     "data": {
      "text/plain": "{<__main__.Point at 0x2b2a7e7fa30>: 0}"
     },
     "execution_count": 726,
     "metadata": {},
     "output_type": "execute_result"
    }
   ],
   "source": [
    "r"
   ],
   "metadata": {
    "collapsed": false,
    "pycharm": {
     "name": "#%%\n"
    }
   }
  },
  {
   "cell_type": "code",
   "execution_count": 727,
   "outputs": [
    {
     "data": {
      "text/plain": "True"
     },
     "execution_count": 727,
     "metadata": {},
     "output_type": "execute_result"
    }
   ],
   "source": [
    "bool(100)"
   ],
   "metadata": {
    "collapsed": false,
    "pycharm": {
     "name": "#%%\n"
    }
   }
  },
  {
   "cell_type": "code",
   "execution_count": 728,
   "outputs": [
    {
     "data": {
      "text/plain": "True"
     },
     "execution_count": 728,
     "metadata": {},
     "output_type": "execute_result"
    }
   ],
   "source": [
    "bool(-100)"
   ],
   "metadata": {
    "collapsed": false,
    "pycharm": {
     "name": "#%%\n"
    }
   }
  },
  {
   "cell_type": "code",
   "execution_count": 729,
   "outputs": [
    {
     "data": {
      "text/plain": "False"
     },
     "execution_count": 729,
     "metadata": {},
     "output_type": "execute_result"
    }
   ],
   "source": [
    "bool(0)"
   ],
   "metadata": {
    "collapsed": false,
    "pycharm": {
     "name": "#%%\n"
    }
   }
  },
  {
   "cell_type": "code",
   "execution_count": 730,
   "outputs": [
    {
     "data": {
      "text/plain": "True"
     },
     "execution_count": 730,
     "metadata": {},
     "output_type": "execute_result"
    }
   ],
   "source": [
    "bool('abc')"
   ],
   "metadata": {
    "collapsed": false,
    "pycharm": {
     "name": "#%%\n"
    }
   }
  },
  {
   "cell_type": "code",
   "execution_count": 731,
   "outputs": [
    {
     "data": {
      "text/plain": "False"
     },
     "execution_count": 731,
     "metadata": {},
     "output_type": "execute_result"
    }
   ],
   "source": [
    "bool('')"
   ],
   "metadata": {
    "collapsed": false,
    "pycharm": {
     "name": "#%%\n"
    }
   }
  },
  {
   "cell_type": "code",
   "execution_count": 732,
   "outputs": [
    {
     "data": {
      "text/plain": "True"
     },
     "execution_count": 732,
     "metadata": {},
     "output_type": "execute_result"
    }
   ],
   "source": [
    "bool([0])"
   ],
   "metadata": {
    "collapsed": false,
    "pycharm": {
     "name": "#%%\n"
    }
   }
  },
  {
   "cell_type": "code",
   "execution_count": 733,
   "outputs": [
    {
     "data": {
      "text/plain": "False"
     },
     "execution_count": 733,
     "metadata": {},
     "output_type": "execute_result"
    }
   ],
   "source": [
    "bool([])"
   ],
   "metadata": {
    "collapsed": false,
    "pycharm": {
     "name": "#%%\n"
    }
   }
  },
  {
   "cell_type": "code",
   "execution_count": 734,
   "outputs": [],
   "source": [
    "class Point:\n",
    "    def __init__(self, x, y):\n",
    "        self.x = x\n",
    "        self.y = y"
   ],
   "metadata": {
    "collapsed": false,
    "pycharm": {
     "name": "#%%\n"
    }
   }
  },
  {
   "cell_type": "code",
   "execution_count": 735,
   "outputs": [],
   "source": [
    "x = Point(0, 0)"
   ],
   "metadata": {
    "collapsed": false,
    "pycharm": {
     "name": "#%%\n"
    }
   }
  },
  {
   "cell_type": "code",
   "execution_count": 736,
   "outputs": [
    {
     "data": {
      "text/plain": "True"
     },
     "execution_count": 736,
     "metadata": {},
     "output_type": "execute_result"
    }
   ],
   "source": [
    "bool(x)"
   ],
   "metadata": {
    "collapsed": false,
    "pycharm": {
     "name": "#%%\n"
    }
   }
  },
  {
   "cell_type": "code",
   "execution_count": 737,
   "outputs": [
    {
     "data": {
      "text/plain": "True"
     },
     "execution_count": 737,
     "metadata": {},
     "output_type": "execute_result"
    }
   ],
   "source": [
    "bool(Point(0, 0))"
   ],
   "metadata": {
    "collapsed": false,
    "pycharm": {
     "name": "#%%\n"
    }
   }
  },
  {
   "cell_type": "code",
   "execution_count": 738,
   "outputs": [],
   "source": [
    "class Point:\n",
    "    def __init__(self, x, y):\n",
    "        self.x = x\n",
    "        self.y = y\n",
    "\n",
    "    def __len__(self):\n",
    "        print('call __len__')\n",
    "        return abs(self.x - self.y)"
   ],
   "metadata": {
    "collapsed": false,
    "pycharm": {
     "name": "#%%\n"
    }
   }
  },
  {
   "cell_type": "code",
   "execution_count": 739,
   "outputs": [],
   "source": [
    "a = Point(10, 5)"
   ],
   "metadata": {
    "collapsed": false,
    "pycharm": {
     "name": "#%%\n"
    }
   }
  },
  {
   "cell_type": "code",
   "execution_count": 740,
   "outputs": [
    {
     "name": "stdout",
     "output_type": "stream",
     "text": [
      "call __len__\n"
     ]
    },
    {
     "data": {
      "text/plain": "True"
     },
     "execution_count": 740,
     "metadata": {},
     "output_type": "execute_result"
    }
   ],
   "source": [
    "bool(a)"
   ],
   "metadata": {
    "collapsed": false,
    "pycharm": {
     "name": "#%%\n"
    }
   }
  },
  {
   "cell_type": "code",
   "execution_count": 741,
   "outputs": [
    {
     "name": "stdout",
     "output_type": "stream",
     "text": [
      "call __len__\n"
     ]
    },
    {
     "data": {
      "text/plain": "False"
     },
     "execution_count": 741,
     "metadata": {},
     "output_type": "execute_result"
    }
   ],
   "source": [
    "bool(Point(9, 9))"
   ],
   "metadata": {
    "collapsed": false,
    "pycharm": {
     "name": "#%%\n"
    }
   }
  },
  {
   "cell_type": "code",
   "execution_count": 742,
   "outputs": [
    {
     "name": "stdout",
     "output_type": "stream",
     "text": [
      "call __len__\n"
     ]
    },
    {
     "data": {
      "text/plain": "False"
     },
     "execution_count": 742,
     "metadata": {},
     "output_type": "execute_result"
    }
   ],
   "source": [
    "bool(Point(-5, -5))"
   ],
   "metadata": {
    "collapsed": false,
    "pycharm": {
     "name": "#%%\n"
    }
   }
  },
  {
   "cell_type": "code",
   "execution_count": 743,
   "outputs": [],
   "source": [
    "class Point:\n",
    "    def __init__(self, x, y):\n",
    "        self.x = x\n",
    "        self.y = y\n",
    "\n",
    "    def __len__(self):\n",
    "        print('call __len__')\n",
    "        return abs(self.x - self.y)\n",
    "\n",
    "    def __bool__(self):\n",
    "        print('call __bool__')\n",
    "        return self.x != 0 or self.y != 0"
   ],
   "metadata": {
    "collapsed": false,
    "pycharm": {
     "name": "#%%\n"
    }
   }
  },
  {
   "cell_type": "code",
   "execution_count": 744,
   "outputs": [
    {
     "name": "stdout",
     "output_type": "stream",
     "text": [
      "call __bool__\n"
     ]
    },
    {
     "data": {
      "text/plain": "True"
     },
     "execution_count": 744,
     "metadata": {},
     "output_type": "execute_result"
    }
   ],
   "source": [
    "bool(Point(7, 7))"
   ],
   "metadata": {
    "collapsed": false,
    "pycharm": {
     "name": "#%%\n"
    }
   }
  },
  {
   "cell_type": "code",
   "execution_count": 745,
   "outputs": [
    {
     "name": "stdout",
     "output_type": "stream",
     "text": [
      "call __bool__\n"
     ]
    },
    {
     "data": {
      "text/plain": "True"
     },
     "execution_count": 745,
     "metadata": {},
     "output_type": "execute_result"
    }
   ],
   "source": [
    "bool(Point(-100, 0))"
   ],
   "metadata": {
    "collapsed": false,
    "pycharm": {
     "name": "#%%\n"
    }
   }
  },
  {
   "cell_type": "code",
   "execution_count": 746,
   "outputs": [
    {
     "name": "stdout",
     "output_type": "stream",
     "text": [
      "call __bool__\n"
     ]
    },
    {
     "data": {
      "text/plain": "True"
     },
     "execution_count": 746,
     "metadata": {},
     "output_type": "execute_result"
    }
   ],
   "source": [
    "bool(Point(0, -100))"
   ],
   "metadata": {
    "collapsed": false,
    "pycharm": {
     "name": "#%%\n"
    }
   }
  },
  {
   "cell_type": "code",
   "execution_count": 747,
   "outputs": [
    {
     "name": "stdout",
     "output_type": "stream",
     "text": [
      "call __bool__\n"
     ]
    },
    {
     "data": {
      "text/plain": "False"
     },
     "execution_count": 747,
     "metadata": {},
     "output_type": "execute_result"
    }
   ],
   "source": [
    "bool(Point(0, 0))"
   ],
   "metadata": {
    "collapsed": false,
    "pycharm": {
     "name": "#%%\n"
    }
   }
  },
  {
   "cell_type": "code",
   "execution_count": 748,
   "outputs": [
    {
     "name": "stdout",
     "output_type": "stream",
     "text": [
      "call __bool__\n"
     ]
    },
    {
     "data": {
      "text/plain": "True"
     },
     "execution_count": 748,
     "metadata": {},
     "output_type": "execute_result"
    }
   ],
   "source": [
    "bool(Point(5, 5))"
   ],
   "metadata": {
    "collapsed": false,
    "pycharm": {
     "name": "#%%\n"
    }
   }
  },
  {
   "cell_type": "code",
   "execution_count": 749,
   "outputs": [],
   "source": [
    "a = Point(7, 10)"
   ],
   "metadata": {
    "collapsed": false,
    "pycharm": {
     "name": "#%%\n"
    }
   }
  },
  {
   "cell_type": "code",
   "execution_count": 750,
   "outputs": [
    {
     "name": "stdout",
     "output_type": "stream",
     "text": [
      "call __bool__\n",
      "---\n"
     ]
    }
   ],
   "source": [
    "if a:\n",
    "    print('---')"
   ],
   "metadata": {
    "collapsed": false,
    "pycharm": {
     "name": "#%%\n"
    }
   }
  },
  {
   "cell_type": "code",
   "execution_count": 751,
   "outputs": [
    {
     "name": "stdout",
     "output_type": "stream",
     "text": [
      "call __bool__\n"
     ]
    }
   ],
   "source": [
    "if Point(0, 0):\n",
    "    print('---')"
   ],
   "metadata": {
    "collapsed": false,
    "pycharm": {
     "name": "#%%\n"
    }
   }
  },
  {
   "cell_type": "code",
   "execution_count": 752,
   "outputs": [],
   "source": [
    "class Counter:\n",
    "    def __init__(self):\n",
    "        print('init object', self)"
   ],
   "metadata": {
    "collapsed": false,
    "pycharm": {
     "name": "#%%\n"
    }
   }
  },
  {
   "cell_type": "code",
   "execution_count": 753,
   "outputs": [
    {
     "name": "stdout",
     "output_type": "stream",
     "text": [
      "init object <__main__.Counter object at 0x000002B2A7EA5340>\n"
     ]
    },
    {
     "data": {
      "text/plain": "<__main__.Counter at 0x2b2a7ea5340>"
     },
     "execution_count": 753,
     "metadata": {},
     "output_type": "execute_result"
    }
   ],
   "source": [
    "Counter()"
   ],
   "metadata": {
    "collapsed": false,
    "pycharm": {
     "name": "#%%\n"
    }
   }
  },
  {
   "cell_type": "code",
   "execution_count": 754,
   "outputs": [
    {
     "name": "stdout",
     "output_type": "stream",
     "text": [
      "init object <__main__.Counter object at 0x000002B2A7EA5A60>\n"
     ]
    }
   ],
   "source": [
    "a = Counter()"
   ],
   "metadata": {
    "collapsed": false,
    "pycharm": {
     "name": "#%%\n"
    }
   }
  },
  {
   "cell_type": "code",
   "execution_count": 755,
   "outputs": [],
   "source": [
    "# a()\n",
    "# TypeError: 'Counter' object is not callable"
   ],
   "metadata": {
    "collapsed": false,
    "pycharm": {
     "name": "#%%\n"
    }
   }
  },
  {
   "cell_type": "code",
   "execution_count": 756,
   "outputs": [],
   "source": [
    "class Counter:\n",
    "    def __init__(self):\n",
    "        self.counter = 0\n",
    "        print('init object', self)\n",
    "\n",
    "    def __call__(self, *args, **kwargs):\n",
    "        self.counter += 1\n",
    "        print(f\" Наш экземпляр вызывался {self.counter} раз(a)\")"
   ],
   "metadata": {
    "collapsed": false,
    "pycharm": {
     "name": "#%%\n"
    }
   }
  },
  {
   "cell_type": "code",
   "execution_count": 757,
   "outputs": [
    {
     "name": "stdout",
     "output_type": "stream",
     "text": [
      "init object <__main__.Counter object at 0x000002B2A7EAD700>\n"
     ]
    }
   ],
   "source": [
    "a = Counter()"
   ],
   "metadata": {
    "collapsed": false,
    "pycharm": {
     "name": "#%%\n"
    }
   }
  },
  {
   "cell_type": "code",
   "execution_count": 758,
   "id": "e2e76110",
   "metadata": {
    "pycharm": {
     "name": "#%%\n"
    }
   },
   "outputs": [
    {
     "name": "stdout",
     "output_type": "stream",
     "text": [
      " Наш экземпляр вызывался 1 раз(a)\n"
     ]
    }
   ],
   "source": [
    "a()"
   ]
  },
  {
   "cell_type": "code",
   "execution_count": 759,
   "outputs": [
    {
     "name": "stdout",
     "output_type": "stream",
     "text": [
      " Наш экземпляр вызывался 2 раз(a)\n"
     ]
    }
   ],
   "source": [
    "a()"
   ],
   "metadata": {
    "collapsed": false,
    "pycharm": {
     "name": "#%%\n"
    }
   }
  },
  {
   "cell_type": "code",
   "execution_count": 760,
   "outputs": [
    {
     "name": "stdout",
     "output_type": "stream",
     "text": [
      " Наш экземпляр вызывался 3 раз(a)\n"
     ]
    }
   ],
   "source": [
    "a()"
   ],
   "metadata": {
    "collapsed": false,
    "pycharm": {
     "name": "#%%\n"
    }
   }
  },
  {
   "cell_type": "code",
   "execution_count": 761,
   "outputs": [
    {
     "name": "stdout",
     "output_type": "stream",
     "text": [
      "init object <__main__.Counter object at 0x000002B2A7EAD550>\n"
     ]
    }
   ],
   "source": [
    "t = Counter()"
   ],
   "metadata": {
    "collapsed": false,
    "pycharm": {
     "name": "#%%\n"
    }
   }
  },
  {
   "cell_type": "code",
   "execution_count": 762,
   "outputs": [
    {
     "name": "stdout",
     "output_type": "stream",
     "text": [
      " Наш экземпляр вызывался 1 раз(a)\n"
     ]
    }
   ],
   "source": [
    "t()"
   ],
   "metadata": {
    "collapsed": false,
    "pycharm": {
     "name": "#%%\n"
    }
   }
  },
  {
   "cell_type": "code",
   "execution_count": 763,
   "outputs": [],
   "source": [
    "class Counter:\n",
    "    def __init__(self):\n",
    "        self.counter = 0\n",
    "        self.summa = 0\n",
    "        self.length = 0\n",
    "        print('init object', self)\n",
    "\n",
    "    def __call__(self, *args, **kwargs):\n",
    "        self.counter += 1\n",
    "        self.summa += sum(args)\n",
    "        self.length += len(args)\n",
    "        print(f\" Наш экземпляр вызывался {self.counter} раз(a)\")"
   ],
   "metadata": {
    "collapsed": false,
    "pycharm": {
     "name": "#%%\n"
    }
   }
  },
  {
   "cell_type": "code",
   "execution_count": 764,
   "outputs": [
    {
     "name": "stdout",
     "output_type": "stream",
     "text": [
      "init object <__main__.Counter object at 0x000002B2A7EB04F0>\n"
     ]
    }
   ],
   "source": [
    "a = Counter()"
   ],
   "metadata": {
    "collapsed": false,
    "pycharm": {
     "name": "#%%\n"
    }
   }
  },
  {
   "cell_type": "code",
   "execution_count": 765,
   "outputs": [
    {
     "data": {
      "text/plain": "0"
     },
     "execution_count": 765,
     "metadata": {},
     "output_type": "execute_result"
    }
   ],
   "source": [
    "a.counter"
   ],
   "metadata": {
    "collapsed": false,
    "pycharm": {
     "name": "#%%\n"
    }
   }
  },
  {
   "cell_type": "code",
   "execution_count": 766,
   "outputs": [
    {
     "data": {
      "text/plain": "0"
     },
     "execution_count": 766,
     "metadata": {},
     "output_type": "execute_result"
    }
   ],
   "source": [
    "a.summa"
   ],
   "metadata": {
    "collapsed": false,
    "pycharm": {
     "name": "#%%\n"
    }
   }
  },
  {
   "cell_type": "code",
   "execution_count": 767,
   "outputs": [
    {
     "data": {
      "text/plain": "0"
     },
     "execution_count": 767,
     "metadata": {},
     "output_type": "execute_result"
    }
   ],
   "source": [
    "a.length"
   ],
   "metadata": {
    "collapsed": false,
    "pycharm": {
     "name": "#%%\n"
    }
   }
  },
  {
   "cell_type": "code",
   "execution_count": 768,
   "outputs": [
    {
     "name": "stdout",
     "output_type": "stream",
     "text": [
      " Наш экземпляр вызывался 1 раз(a)\n"
     ]
    }
   ],
   "source": [
    "a(3, 4, 5)"
   ],
   "metadata": {
    "collapsed": false,
    "pycharm": {
     "name": "#%%\n"
    }
   }
  },
  {
   "cell_type": "code",
   "execution_count": 769,
   "outputs": [
    {
     "data": {
      "text/plain": "12"
     },
     "execution_count": 769,
     "metadata": {},
     "output_type": "execute_result"
    }
   ],
   "source": [
    "a.summa"
   ],
   "metadata": {
    "collapsed": false,
    "pycharm": {
     "name": "#%%\n"
    }
   }
  },
  {
   "cell_type": "code",
   "execution_count": 770,
   "outputs": [
    {
     "data": {
      "text/plain": "3"
     },
     "execution_count": 770,
     "metadata": {},
     "output_type": "execute_result"
    }
   ],
   "source": [
    "a.length"
   ],
   "metadata": {
    "collapsed": false,
    "pycharm": {
     "name": "#%%\n"
    }
   }
  },
  {
   "cell_type": "code",
   "execution_count": 771,
   "outputs": [
    {
     "name": "stdout",
     "output_type": "stream",
     "text": [
      " Наш экземпляр вызывался 2 раз(a)\n"
     ]
    }
   ],
   "source": [
    "a(1, 2)"
   ],
   "metadata": {
    "collapsed": false,
    "pycharm": {
     "name": "#%%\n"
    }
   }
  },
  {
   "cell_type": "code",
   "execution_count": 772,
   "outputs": [
    {
     "data": {
      "text/plain": "15"
     },
     "execution_count": 772,
     "metadata": {},
     "output_type": "execute_result"
    }
   ],
   "source": [
    "a.summa"
   ],
   "metadata": {
    "collapsed": false,
    "pycharm": {
     "name": "#%%\n"
    }
   }
  },
  {
   "cell_type": "code",
   "execution_count": 773,
   "outputs": [
    {
     "data": {
      "text/plain": "5"
     },
     "execution_count": 773,
     "metadata": {},
     "output_type": "execute_result"
    }
   ],
   "source": [
    "a.length"
   ],
   "metadata": {
    "collapsed": false,
    "pycharm": {
     "name": "#%%\n"
    }
   }
  },
  {
   "cell_type": "code",
   "execution_count": 774,
   "outputs": [],
   "source": [
    "class Counter:\n",
    "    def __init__(self):\n",
    "        self.counter = 0\n",
    "        self.summa = 0\n",
    "        self.length = 0\n",
    "        print('init object', self)\n",
    "\n",
    "    def __call__(self, *args, **kwargs):\n",
    "        self.counter += 1\n",
    "        self.summa += sum(args)\n",
    "        self.length += len(args)\n",
    "        print(f\" Наш экземпляр вызывался {self.counter} раз(a)\")\n",
    "\n",
    "    def average(self):\n",
    "        return self.summa / self.length"
   ],
   "metadata": {
    "collapsed": false,
    "pycharm": {
     "name": "#%%\n"
    }
   }
  },
  {
   "cell_type": "code",
   "execution_count": 775,
   "outputs": [
    {
     "name": "stdout",
     "output_type": "stream",
     "text": [
      "init object <__main__.Counter object at 0x000002B2A7EBB7C0>\n"
     ]
    }
   ],
   "source": [
    "a = Counter()"
   ],
   "metadata": {
    "collapsed": false,
    "pycharm": {
     "name": "#%%\n"
    }
   }
  },
  {
   "cell_type": "code",
   "execution_count": 776,
   "outputs": [
    {
     "name": "stdout",
     "output_type": "stream",
     "text": [
      " Наш экземпляр вызывался 1 раз(a)\n"
     ]
    }
   ],
   "source": [
    "a(3, 4, 5, 6, 7)"
   ],
   "metadata": {
    "collapsed": false,
    "pycharm": {
     "name": "#%%\n"
    }
   }
  },
  {
   "cell_type": "code",
   "execution_count": 777,
   "outputs": [
    {
     "data": {
      "text/plain": "5.0"
     },
     "execution_count": 777,
     "metadata": {},
     "output_type": "execute_result"
    }
   ],
   "source": [
    "a.average()"
   ],
   "metadata": {
    "collapsed": false,
    "pycharm": {
     "name": "#%%\n"
    }
   }
  },
  {
   "cell_type": "code",
   "execution_count": 778,
   "outputs": [],
   "source": [
    "from time import perf_counter\n",
    "\n",
    "\n",
    "class Timer:\n",
    "    def __init__(self, func):\n",
    "        self.fn = func\n",
    "\n",
    "    def __call__(self, *args, **kwargs):\n",
    "        start = perf_counter()\n",
    "        print(f\"Вызывается функция {self.fn.__name__}\")\n",
    "        result = self.fn(*args, **kwargs)\n",
    "        finish = perf_counter()\n",
    "        print(f\"Функция отработала за {finish - start}\")\n",
    "        return result"
   ],
   "metadata": {
    "collapsed": false,
    "pycharm": {
     "name": "#%%\n"
    }
   }
  },
  {
   "cell_type": "code",
   "execution_count": 779,
   "outputs": [],
   "source": [
    "def fact(n):\n",
    "    pr = 1\n",
    "    for i in range(1, n + 1):\n",
    "        pr *= i\n",
    "    return pr"
   ],
   "metadata": {
    "collapsed": false,
    "pycharm": {
     "name": "#%%\n"
    }
   }
  },
  {
   "cell_type": "code",
   "execution_count": 780,
   "outputs": [],
   "source": [
    "def fib(n):\n",
    "    if n <= 2:\n",
    "        return 1\n",
    "    return fib(n - 1) + fib(n - 2)"
   ],
   "metadata": {
    "collapsed": false,
    "pycharm": {
     "name": "#%%\n"
    }
   }
  },
  {
   "cell_type": "code",
   "execution_count": 781,
   "outputs": [],
   "source": [
    "fact = Timer(fact)"
   ],
   "metadata": {
    "collapsed": false,
    "pycharm": {
     "name": "#%%\n"
    }
   }
  },
  {
   "cell_type": "code",
   "execution_count": 782,
   "outputs": [
    {
     "data": {
      "text/plain": "<__main__.Timer at 0x2b2a7eb7d30>"
     },
     "execution_count": 782,
     "metadata": {},
     "output_type": "execute_result"
    }
   ],
   "source": [
    "fact"
   ],
   "metadata": {
    "collapsed": false,
    "pycharm": {
     "name": "#%%\n"
    }
   }
  },
  {
   "cell_type": "code",
   "execution_count": 783,
   "outputs": [
    {
     "name": "stdout",
     "output_type": "stream",
     "text": [
      "Вызывается функция fact\n",
      "Функция отработала за 0.00017860000000169407\n"
     ]
    },
    {
     "data": {
      "text/plain": "3628800"
     },
     "execution_count": 783,
     "metadata": {},
     "output_type": "execute_result"
    }
   ],
   "source": [
    "fact(10)"
   ],
   "metadata": {
    "collapsed": false,
    "pycharm": {
     "name": "#%%\n"
    }
   }
  },
  {
   "cell_type": "code",
   "execution_count": 784,
   "outputs": [
    {
     "name": "stdout",
     "output_type": "stream",
     "text": [
      "Вызывается функция fact\n",
      "Функция отработала за 4.350000000030718e-05\n",
      "3628800\n"
     ]
    }
   ],
   "source": [
    "print(fact(10))"
   ],
   "metadata": {
    "collapsed": false,
    "pycharm": {
     "name": "#%%\n"
    }
   }
  },
  {
   "cell_type": "code",
   "execution_count": 785,
   "outputs": [],
   "source": [
    "@Timer\n",
    "def fact(n):\n",
    "    pr = 1\n",
    "    for i in range(1, n + 1):\n",
    "        pr *= i\n",
    "    return pr"
   ],
   "metadata": {
    "collapsed": false,
    "pycharm": {
     "name": "#%%\n"
    }
   }
  },
  {
   "cell_type": "code",
   "execution_count": 786,
   "outputs": [],
   "source": [
    "def fib(n):\n",
    "    if n <= 2:\n",
    "        return 1\n",
    "    return fib(n - 1) + fib(n - 2)"
   ],
   "metadata": {
    "collapsed": false,
    "pycharm": {
     "name": "#%%\n"
    }
   }
  },
  {
   "cell_type": "code",
   "execution_count": 787,
   "outputs": [
    {
     "name": "stdout",
     "output_type": "stream",
     "text": [
      "Вызывается функция fact\n",
      "Функция отработала за 3.3900000001807484e-05\n"
     ]
    },
    {
     "data": {
      "text/plain": "6"
     },
     "execution_count": 787,
     "metadata": {},
     "output_type": "execute_result"
    }
   ],
   "source": [
    "fact(3)"
   ],
   "metadata": {
    "collapsed": false,
    "pycharm": {
     "name": "#%%\n"
    }
   }
  },
  {
   "cell_type": "code",
   "execution_count": 788,
   "outputs": [
    {
     "data": {
      "text/plain": "55"
     },
     "execution_count": 788,
     "metadata": {},
     "output_type": "execute_result"
    }
   ],
   "source": [
    "fib(10)"
   ],
   "metadata": {
    "collapsed": false,
    "pycharm": {
     "name": "#%%\n"
    }
   }
  },
  {
   "cell_type": "code",
   "execution_count": 789,
   "outputs": [
    {
     "name": "stdout",
     "output_type": "stream",
     "text": [
      "Вызывается функция fib\n",
      "Функция отработала за 5.930000000020641e-05\n"
     ]
    },
    {
     "data": {
      "text/plain": "55"
     },
     "execution_count": 789,
     "metadata": {},
     "output_type": "execute_result"
    }
   ],
   "source": [
    "Timer(fib)(10)"
   ],
   "metadata": {
    "collapsed": false,
    "pycharm": {
     "name": "#%%\n"
    }
   }
  },
  {
   "cell_type": "code",
   "execution_count": 790,
   "outputs": [
    {
     "name": "stdout",
     "output_type": "stream",
     "text": [
      "Вызывается функция fib\n",
      "Функция отработала за 0.0004193999999984044\n"
     ]
    },
    {
     "data": {
      "text/plain": "610"
     },
     "execution_count": 790,
     "metadata": {},
     "output_type": "execute_result"
    }
   ],
   "source": [
    "Timer(fib)(15)"
   ],
   "metadata": {
    "collapsed": false,
    "pycharm": {
     "name": "#%%\n"
    }
   }
  },
  {
   "cell_type": "code",
   "execution_count": 791,
   "outputs": [
    {
     "name": "stdout",
     "output_type": "stream",
     "text": [
      "Вызывается функция fib\n",
      "Функция отработала за 0.0018378000000005557\n"
     ]
    },
    {
     "data": {
      "text/plain": "6765"
     },
     "execution_count": 791,
     "metadata": {},
     "output_type": "execute_result"
    }
   ],
   "source": [
    "Timer(fib)(20)"
   ],
   "metadata": {
    "collapsed": false,
    "pycharm": {
     "name": "#%%\n"
    }
   }
  },
  {
   "cell_type": "code",
   "execution_count": 792,
   "outputs": [
    {
     "data": {
      "text/plain": "<function __main__.fib(n)>"
     },
     "execution_count": 792,
     "metadata": {},
     "output_type": "execute_result"
    }
   ],
   "source": [
    "fib"
   ],
   "metadata": {
    "collapsed": false,
    "pycharm": {
     "name": "#%%\n"
    }
   }
  },
  {
   "cell_type": "code",
   "execution_count": 793,
   "outputs": [],
   "source": [
    "class Rectangle:\n",
    "    def __init__(self, a, b):\n",
    "        self.a = a\n",
    "        self.b = b\n",
    "\n",
    "    def __str__(self):\n",
    "        return f\"Rectangle {self.a}x{self.b} \\n\"\n",
    "\n",
    "    def get_area(self):\n",
    "        return self.a * self.b"
   ],
   "metadata": {
    "collapsed": false,
    "pycharm": {
     "name": "#%%\n"
    }
   }
  },
  {
   "cell_type": "code",
   "execution_count": 794,
   "outputs": [],
   "source": [
    "class Square:\n",
    "    def __init__(self, a):\n",
    "        self.a = a\n",
    "\n",
    "    def __str__(self):\n",
    "        return f\"Square {self.a}x{self.a} \\n\"\n",
    "\n",
    "    def get_area(self):\n",
    "        return self.a ** 2"
   ],
   "metadata": {
    "collapsed": false,
    "pycharm": {
     "name": "#%%\n"
    }
   }
  },
  {
   "cell_type": "code",
   "execution_count": 795,
   "outputs": [],
   "source": [
    "class Circle:\n",
    "    def __init__(self, r):\n",
    "        self.r = r\n",
    "\n",
    "    def __str__(self):\n",
    "        return f\"Circle radius = {self.r} \\n\"\n",
    "\n",
    "    def get_area(self):\n",
    "        return 3.14 * self.r ** 2"
   ],
   "metadata": {
    "collapsed": false,
    "pycharm": {
     "name": "#%%\n"
    }
   }
  },
  {
   "cell_type": "code",
   "execution_count": 796,
   "outputs": [],
   "source": [
    "rectangle1 = Rectangle(10, 10)\n",
    "rectangle2 = Rectangle(5, 10)\n",
    "sqaure1 = Square(10)\n",
    "square2 = Square(55)\n",
    "circle1 = Circle(2)\n",
    "circle2 = Circle(5)\n",
    "figures = [rectangle1, rectangle2, sqaure1, square2, circle1, circle2]"
   ],
   "metadata": {
    "collapsed": false,
    "pycharm": {
     "name": "#%%\n"
    }
   }
  },
  {
   "cell_type": "code",
   "execution_count": 797,
   "outputs": [
    {
     "name": "stdout",
     "output_type": "stream",
     "text": [
      "Rectangle 10x10 \n",
      " 100\n",
      "Rectangle 5x10 \n",
      " 50\n",
      "Square 10x10 \n",
      " 100\n",
      "Square 55x55 \n",
      " 3025\n",
      "Circle radius = 2 \n",
      " 12.56\n",
      "Circle radius = 5 \n",
      " 78.5\n"
     ]
    }
   ],
   "source": [
    "for figure in figures:\n",
    "    print(figure, figure.get_area())"
   ],
   "metadata": {
    "collapsed": false,
    "pycharm": {
     "name": "#%%\n"
    }
   }
  },
  {
   "cell_type": "code",
   "execution_count": 798,
   "outputs": [],
   "source": [
    "class Vector:\n",
    "    def __init__(self, *args):\n",
    "        self.values = list(args)\n",
    "\n",
    "    def __repr__(self):\n",
    "        return str(self.values)"
   ],
   "metadata": {
    "collapsed": false,
    "pycharm": {
     "name": "#%%\n"
    }
   }
  },
  {
   "cell_type": "code",
   "execution_count": 799,
   "outputs": [],
   "source": [
    "v1 = Vector(1, 2, 3, 4, 5)"
   ],
   "metadata": {
    "collapsed": false,
    "pycharm": {
     "name": "#%%\n"
    }
   }
  },
  {
   "cell_type": "code",
   "execution_count": 800,
   "outputs": [
    {
     "data": {
      "text/plain": "[1, 2, 3, 4, 5]"
     },
     "execution_count": 800,
     "metadata": {},
     "output_type": "execute_result"
    }
   ],
   "source": [
    "v1"
   ],
   "metadata": {
    "collapsed": false,
    "pycharm": {
     "name": "#%%\n"
    }
   }
  },
  {
   "cell_type": "code",
   "execution_count": 801,
   "outputs": [
    {
     "data": {
      "text/plain": "[1, 2, 3, 4, 5]"
     },
     "execution_count": 801,
     "metadata": {},
     "output_type": "execute_result"
    }
   ],
   "source": [
    "v1.values"
   ],
   "metadata": {
    "collapsed": false,
    "pycharm": {
     "name": "#%%\n"
    }
   }
  },
  {
   "cell_type": "code",
   "execution_count": 802,
   "outputs": [],
   "source": [
    "# v1[1]\n",
    "# TypeError: 'Vector' object is not subscriptable"
   ],
   "metadata": {
    "collapsed": false,
    "pycharm": {
     "name": "#%%\n"
    }
   }
  },
  {
   "cell_type": "code",
   "execution_count": 803,
   "outputs": [],
   "source": [
    "class Vector:\n",
    "    def __init__(self, *args):\n",
    "        self.values = list(args)\n",
    "\n",
    "    def __repr__(self):\n",
    "        return str(self.values)\n",
    "\n",
    "    def __getitem__(self, item):\n",
    "        if 0 <= item < len(self.values):\n",
    "            return self.values[item]\n",
    "        else:\n",
    "            raise IndexError(\"Индекс за границами нашей коллекции\")"
   ],
   "metadata": {
    "collapsed": false,
    "pycharm": {
     "name": "#%%\n"
    }
   }
  },
  {
   "cell_type": "code",
   "execution_count": 804,
   "outputs": [
    {
     "data": {
      "text/plain": "1"
     },
     "execution_count": 804,
     "metadata": {},
     "output_type": "execute_result"
    }
   ],
   "source": [
    "v = Vector(0, 1, 2, 3, 4, 5)\n",
    "v[1]"
   ],
   "metadata": {
    "collapsed": false,
    "pycharm": {
     "name": "#%%\n"
    }
   }
  },
  {
   "cell_type": "code",
   "execution_count": 805,
   "outputs": [],
   "source": [
    "# v[1] = 100\n",
    "# TypeError: 'Vector' object does not support item assignment"
   ],
   "metadata": {
    "collapsed": false,
    "pycharm": {
     "name": "#%%\n"
    }
   }
  },
  {
   "cell_type": "code",
   "execution_count": 806,
   "outputs": [],
   "source": [
    "class Vector:\n",
    "    def __init__(self, *args):\n",
    "        self.values = list(args)\n",
    "\n",
    "    def __repr__(self):\n",
    "        return str(self.values)\n",
    "\n",
    "    def __getitem__(self, item):\n",
    "        if 0 <= item < len(self.values):\n",
    "            return self.values[item]\n",
    "        else:\n",
    "            raise IndexError(\"Индекс за границами нашей коллекции\")\n",
    "\n",
    "    def __setitem__(self, key, value):\n",
    "        if 0 <= key < len(self.values):\n",
    "            self.values[key] = value\n",
    "        else:\n",
    "            raise IndexError(\"Индекс за границами нашей коллекции\")"
   ],
   "metadata": {
    "collapsed": false,
    "pycharm": {
     "name": "#%%\n"
    }
   }
  },
  {
   "cell_type": "code",
   "execution_count": 807,
   "outputs": [],
   "source": [
    "v = Vector(0, 1, 2, 3, 4, 5)"
   ],
   "metadata": {
    "collapsed": false,
    "pycharm": {
     "name": "#%%\n"
    }
   }
  },
  {
   "cell_type": "code",
   "execution_count": 808,
   "outputs": [
    {
     "data": {
      "text/plain": "5"
     },
     "execution_count": 808,
     "metadata": {},
     "output_type": "execute_result"
    }
   ],
   "source": [
    "v[5]"
   ],
   "metadata": {
    "collapsed": false,
    "pycharm": {
     "name": "#%%\n"
    }
   }
  },
  {
   "cell_type": "code",
   "execution_count": 809,
   "outputs": [],
   "source": [
    "v[5] = 777"
   ],
   "metadata": {
    "collapsed": false,
    "pycharm": {
     "name": "#%%\n"
    }
   }
  },
  {
   "cell_type": "code",
   "execution_count": 810,
   "outputs": [
    {
     "data": {
      "text/plain": "[0, 1, 2, 3, 4, 777]"
     },
     "execution_count": 810,
     "metadata": {},
     "output_type": "execute_result"
    }
   ],
   "source": [
    "v"
   ],
   "metadata": {
    "collapsed": false,
    "pycharm": {
     "name": "#%%\n"
    }
   }
  },
  {
   "cell_type": "code",
   "execution_count": 811,
   "outputs": [],
   "source": [
    "# del v[5]\n",
    "# AttributeError: __delitem__"
   ],
   "metadata": {
    "collapsed": false,
    "pycharm": {
     "name": "#%%\n"
    }
   }
  },
  {
   "cell_type": "code",
   "execution_count": 812,
   "outputs": [],
   "source": [
    "class Vector:\n",
    "    def __init__(self, *args):\n",
    "        self.values = list(args)\n",
    "\n",
    "    def __repr__(self):\n",
    "        return str(self.values)\n",
    "\n",
    "    def __getitem__(self, item):\n",
    "        if 0 <= item < len(self.values):\n",
    "            return self.values[item]\n",
    "        else:\n",
    "            raise IndexError(\"Индекс за границами нашей коллекции\")\n",
    "\n",
    "    def __setitem__(self, key, value):\n",
    "        if 0 <= key < len(self.values):\n",
    "            self.values[key] = value\n",
    "        else:\n",
    "            raise IndexError(\"Индекс за границами нашей коллекции\")\n",
    "\n",
    "    def __delitem__(self, key):\n",
    "        if 0 <= key < len(self.values):\n",
    "            del self.values[key]\n",
    "        else:\n",
    "            raise IndexError(\"Индекс за границами нашей коллекции\")"
   ],
   "metadata": {
    "collapsed": false,
    "pycharm": {
     "name": "#%%\n"
    }
   }
  },
  {
   "cell_type": "code",
   "execution_count": 813,
   "outputs": [],
   "source": [
    "v = Vector(1, 2, 3)"
   ],
   "metadata": {
    "collapsed": false,
    "pycharm": {
     "name": "#%%\n"
    }
   }
  },
  {
   "cell_type": "code",
   "execution_count": 814,
   "outputs": [],
   "source": [
    "del v[0]"
   ],
   "metadata": {
    "collapsed": false,
    "pycharm": {
     "name": "#%%\n"
    }
   }
  },
  {
   "cell_type": "code",
   "execution_count": 815,
   "outputs": [
    {
     "data": {
      "text/plain": "[2, 3]"
     },
     "execution_count": 815,
     "metadata": {},
     "output_type": "execute_result"
    }
   ],
   "source": [
    "v"
   ],
   "metadata": {
    "collapsed": false,
    "pycharm": {
     "name": "#%%\n"
    }
   }
  },
  {
   "cell_type": "code",
   "execution_count": 816,
   "outputs": [
    {
     "data": {
      "text/plain": "[2, 3]"
     },
     "execution_count": 816,
     "metadata": {},
     "output_type": "execute_result"
    }
   ],
   "source": [
    "v.values"
   ],
   "metadata": {
    "collapsed": false,
    "pycharm": {
     "name": "#%%\n"
    }
   }
  },
  {
   "cell_type": "code",
   "execution_count": 817,
   "outputs": [],
   "source": [
    "class Student:\n",
    "    def __init__(self, name, surname, marks):\n",
    "        self.name = name\n",
    "        self.surname = surname\n",
    "        self.marks = marks"
   ],
   "metadata": {
    "collapsed": false,
    "pycharm": {
     "name": "#%%\n"
    }
   }
  },
  {
   "cell_type": "code",
   "execution_count": 818,
   "outputs": [],
   "source": [
    "Ivan = Student('Ivan', 'Ivanov', [1, 2, 3, 4, 5])"
   ],
   "metadata": {
    "collapsed": false,
    "pycharm": {
     "name": "#%%\n"
    }
   }
  },
  {
   "cell_type": "code",
   "execution_count": 819,
   "outputs": [],
   "source": [
    "#for _ in Ivan:\n",
    "#    print(_)\n",
    "# TypeError: 'Student' object is not iterable"
   ],
   "metadata": {
    "collapsed": false,
    "pycharm": {
     "name": "#%%\n"
    }
   }
  },
  {
   "cell_type": "code",
   "execution_count": 820,
   "outputs": [],
   "source": [
    "x = [1, 2, 3]"
   ],
   "metadata": {
    "collapsed": false,
    "pycharm": {
     "name": "#%%\n"
    }
   }
  },
  {
   "cell_type": "code",
   "execution_count": 821,
   "outputs": [],
   "source": [
    "y = iter(x)"
   ],
   "metadata": {
    "collapsed": false,
    "pycharm": {
     "name": "#%%\n"
    }
   }
  },
  {
   "cell_type": "code",
   "execution_count": 822,
   "outputs": [
    {
     "data": {
      "text/plain": "[1, 2, 3]"
     },
     "execution_count": 822,
     "metadata": {},
     "output_type": "execute_result"
    }
   ],
   "source": [
    "x"
   ],
   "metadata": {
    "collapsed": false,
    "pycharm": {
     "name": "#%%\n"
    }
   }
  },
  {
   "cell_type": "code",
   "execution_count": 823,
   "outputs": [
    {
     "data": {
      "text/plain": "1"
     },
     "execution_count": 823,
     "metadata": {},
     "output_type": "execute_result"
    }
   ],
   "source": [
    "next(y)"
   ],
   "metadata": {
    "collapsed": false,
    "pycharm": {
     "name": "#%%\n"
    }
   }
  },
  {
   "cell_type": "code",
   "execution_count": 824,
   "outputs": [
    {
     "data": {
      "text/plain": "2"
     },
     "execution_count": 824,
     "metadata": {},
     "output_type": "execute_result"
    }
   ],
   "source": [
    "next(y)"
   ],
   "metadata": {
    "collapsed": false,
    "pycharm": {
     "name": "#%%\n"
    }
   }
  },
  {
   "cell_type": "code",
   "execution_count": 825,
   "outputs": [
    {
     "data": {
      "text/plain": "3"
     },
     "execution_count": 825,
     "metadata": {},
     "output_type": "execute_result"
    }
   ],
   "source": [
    "next(y)"
   ],
   "metadata": {
    "collapsed": false,
    "pycharm": {
     "name": "#%%\n"
    }
   }
  },
  {
   "cell_type": "code",
   "execution_count": 826,
   "outputs": [],
   "source": [
    "# next(y)\n",
    "# StopIteration"
   ],
   "metadata": {
    "collapsed": false,
    "pycharm": {
     "name": "#%%\n"
    }
   }
  },
  {
   "cell_type": "code",
   "execution_count": 827,
   "outputs": [],
   "source": [
    "y = x.__iter__()"
   ],
   "metadata": {
    "collapsed": false,
    "pycharm": {
     "name": "#%%\n"
    }
   }
  },
  {
   "cell_type": "code",
   "execution_count": 828,
   "outputs": [
    {
     "data": {
      "text/plain": "<list_iterator at 0x2b2a7ed6fd0>"
     },
     "execution_count": 828,
     "metadata": {},
     "output_type": "execute_result"
    }
   ],
   "source": [
    "y"
   ],
   "metadata": {
    "collapsed": false,
    "pycharm": {
     "name": "#%%\n"
    }
   }
  },
  {
   "cell_type": "code",
   "execution_count": 829,
   "outputs": [
    {
     "data": {
      "text/plain": "1"
     },
     "execution_count": 829,
     "metadata": {},
     "output_type": "execute_result"
    }
   ],
   "source": [
    "y.__next__()"
   ],
   "metadata": {
    "collapsed": false,
    "pycharm": {
     "name": "#%%\n"
    }
   }
  },
  {
   "cell_type": "code",
   "execution_count": 830,
   "outputs": [
    {
     "data": {
      "text/plain": "2"
     },
     "execution_count": 830,
     "metadata": {},
     "output_type": "execute_result"
    }
   ],
   "source": [
    "y.__next__()"
   ],
   "metadata": {
    "collapsed": false,
    "pycharm": {
     "name": "#%%\n"
    }
   }
  },
  {
   "cell_type": "code",
   "execution_count": 831,
   "outputs": [
    {
     "data": {
      "text/plain": "3"
     },
     "execution_count": 831,
     "metadata": {},
     "output_type": "execute_result"
    }
   ],
   "source": [
    "y.__next__()"
   ],
   "metadata": {
    "collapsed": false,
    "pycharm": {
     "name": "#%%\n"
    }
   }
  },
  {
   "cell_type": "code",
   "execution_count": 832,
   "outputs": [],
   "source": [
    "class Student:\n",
    "    def __init__(self, name, surname, marks):\n",
    "        self.name = name\n",
    "        self.surname = surname\n",
    "        self.marks = marks\n",
    "\n",
    "    def __getitem__(self, item):\n",
    "        return self.marks[item]\n",
    "\n",
    "    def __iter__(self):\n",
    "        print('call iter')\n",
    "        self.index = 0\n",
    "        return self\n",
    "\n",
    "    def __next__(self):\n",
    "        if self.index >= len(self.name):\n",
    "            raise StopIteration\n",
    "        letter = self.name[self.index]\n",
    "        self.index += 1\n",
    "        return letter"
   ],
   "metadata": {
    "collapsed": false,
    "pycharm": {
     "name": "#%%\n"
    }
   }
  },
  {
   "cell_type": "code",
   "execution_count": 833,
   "outputs": [],
   "source": [
    "Ivan = Student('Ivan', 'Ivanov', [1, 2, 3, 4, 5])"
   ],
   "metadata": {
    "collapsed": false,
    "pycharm": {
     "name": "#%%\n"
    }
   }
  },
  {
   "cell_type": "code",
   "execution_count": 834,
   "outputs": [
    {
     "name": "stdout",
     "output_type": "stream",
     "text": [
      "call iter\n",
      "I\n",
      "v\n",
      "a\n",
      "n\n"
     ]
    }
   ],
   "source": [
    "for _ in Ivan:\n",
    "    print(_)"
   ],
   "metadata": {
    "collapsed": false,
    "pycharm": {
     "name": "#%%\n"
    }
   }
  },
  {
   "cell_type": "code",
   "execution_count": 835,
   "outputs": [],
   "source": [
    "#for _ in Ivan:\n",
    "#    print(_)\n",
    "# TypeError: iter() returned non-iterator of type 'Student'"
   ],
   "metadata": {
    "collapsed": false,
    "pycharm": {
     "name": "#%%\n"
    }
   }
  },
  {
   "cell_type": "code",
   "execution_count": 836,
   "outputs": [],
   "source": [
    "class Doctor:\n",
    "    def can_cure(self):\n",
    "        print('Я могу лечить')"
   ],
   "metadata": {
    "collapsed": false,
    "pycharm": {
     "name": "#%%\n"
    }
   }
  },
  {
   "cell_type": "code",
   "execution_count": 837,
   "outputs": [],
   "source": [
    "class Architect:\n",
    "    def can_build(self):\n",
    "        print('Я могу построить здание')"
   ],
   "metadata": {
    "collapsed": false,
    "pycharm": {
     "name": "#%%\n"
    }
   }
  },
  {
   "cell_type": "code",
   "execution_count": 838,
   "outputs": [],
   "source": [
    "x = Doctor()"
   ],
   "metadata": {
    "collapsed": false,
    "pycharm": {
     "name": "#%%\n"
    }
   }
  },
  {
   "cell_type": "code",
   "execution_count": 839,
   "outputs": [
    {
     "name": "stdout",
     "output_type": "stream",
     "text": [
      "Я могу лечить\n"
     ]
    }
   ],
   "source": [
    "x.can_cure()"
   ],
   "metadata": {
    "collapsed": false,
    "pycharm": {
     "name": "#%%\n"
    }
   }
  },
  {
   "cell_type": "code",
   "execution_count": 840,
   "outputs": [],
   "source": [
    "y = Architect()"
   ],
   "metadata": {
    "collapsed": false,
    "pycharm": {
     "name": "#%%\n"
    }
   }
  },
  {
   "cell_type": "code",
   "execution_count": 841,
   "outputs": [
    {
     "name": "stdout",
     "output_type": "stream",
     "text": [
      "Я могу построить здание\n"
     ]
    }
   ],
   "source": [
    "y.can_build()"
   ],
   "metadata": {
    "collapsed": false,
    "pycharm": {
     "name": "#%%\n"
    }
   }
  },
  {
   "cell_type": "code",
   "execution_count": 842,
   "outputs": [],
   "source": [
    "class Doctor:\n",
    "    def can_walk(self):\n",
    "        print('Я могу ходить')\n",
    "\n",
    "    def can_cure(self):\n",
    "        print('Я могу лечить')"
   ],
   "metadata": {
    "collapsed": false,
    "pycharm": {
     "name": "#%%\n"
    }
   }
  },
  {
   "cell_type": "code",
   "execution_count": 843,
   "outputs": [],
   "source": [
    "class Architect:\n",
    "    def can_walk(self):\n",
    "        print('Я могу ходить')\n",
    "\n",
    "    def can_build(self):\n",
    "        print('Я могу построить здание')"
   ],
   "metadata": {
    "collapsed": false,
    "pycharm": {
     "name": "#%%\n"
    }
   }
  },
  {
   "cell_type": "code",
   "execution_count": 844,
   "outputs": [],
   "source": [
    "class Person:\n",
    "    def can_breathe(self):\n",
    "        print('Я могу дышать')\n",
    "\n",
    "    def can_walk(self):\n",
    "        print('Я могу ходить')"
   ],
   "metadata": {
    "collapsed": false,
    "pycharm": {
     "name": "#%%\n"
    }
   }
  },
  {
   "cell_type": "code",
   "execution_count": 845,
   "outputs": [],
   "source": [
    "class Doctor(Person):\n",
    "    def can_cure(self):\n",
    "        print('Я могу лечить')"
   ],
   "metadata": {
    "collapsed": false,
    "pycharm": {
     "name": "#%%\n"
    }
   }
  },
  {
   "cell_type": "code",
   "execution_count": 846,
   "outputs": [],
   "source": [
    "class Architect(Person):\n",
    "    def can_build(self):\n",
    "        print('Я могу построить здание')"
   ],
   "metadata": {
    "collapsed": false,
    "pycharm": {
     "name": "#%%\n"
    }
   }
  },
  {
   "cell_type": "code",
   "execution_count": 847,
   "outputs": [],
   "source": [
    "x = Doctor()"
   ],
   "metadata": {
    "collapsed": false,
    "pycharm": {
     "name": "#%%\n"
    }
   }
  },
  {
   "cell_type": "code",
   "execution_count": 848,
   "outputs": [
    {
     "name": "stdout",
     "output_type": "stream",
     "text": [
      "Я могу лечить\n"
     ]
    }
   ],
   "source": [
    "x.can_cure()"
   ],
   "metadata": {
    "collapsed": false,
    "pycharm": {
     "name": "#%%\n"
    }
   }
  },
  {
   "cell_type": "code",
   "execution_count": 849,
   "outputs": [
    {
     "name": "stdout",
     "output_type": "stream",
     "text": [
      "Я могу дышать\n"
     ]
    }
   ],
   "source": [
    "x.can_breathe()"
   ],
   "metadata": {
    "collapsed": false,
    "pycharm": {
     "name": "#%%\n"
    }
   }
  },
  {
   "cell_type": "code",
   "execution_count": 850,
   "outputs": [
    {
     "name": "stdout",
     "output_type": "stream",
     "text": [
      "Я могу ходить\n"
     ]
    }
   ],
   "source": [
    "x.can_walk()"
   ],
   "metadata": {
    "collapsed": false,
    "pycharm": {
     "name": "#%%\n"
    }
   }
  },
  {
   "cell_type": "code",
   "execution_count": 851,
   "outputs": [],
   "source": [
    "y = Architect()"
   ],
   "metadata": {
    "collapsed": false,
    "pycharm": {
     "name": "#%%\n"
    }
   }
  },
  {
   "cell_type": "code",
   "execution_count": 852,
   "outputs": [
    {
     "name": "stdout",
     "output_type": "stream",
     "text": [
      "Я могу построить здание\n"
     ]
    }
   ],
   "source": [
    "y.can_build()"
   ],
   "metadata": {
    "collapsed": false,
    "pycharm": {
     "name": "#%%\n"
    }
   }
  },
  {
   "cell_type": "code",
   "execution_count": 853,
   "outputs": [
    {
     "name": "stdout",
     "output_type": "stream",
     "text": [
      "Я могу дышать\n"
     ]
    }
   ],
   "source": [
    "y.can_breathe()"
   ],
   "metadata": {
    "collapsed": false,
    "pycharm": {
     "name": "#%%\n"
    }
   }
  },
  {
   "cell_type": "code",
   "execution_count": 854,
   "outputs": [
    {
     "name": "stdout",
     "output_type": "stream",
     "text": [
      "Я могу ходить\n"
     ]
    }
   ],
   "source": [
    "y.can_walk()"
   ],
   "metadata": {
    "collapsed": false,
    "pycharm": {
     "name": "#%%\n"
    }
   }
  },
  {
   "cell_type": "code",
   "execution_count": 855,
   "outputs": [],
   "source": [
    "# Person - parent\n",
    "# Doctor and Architect - subclass"
   ],
   "metadata": {
    "collapsed": false,
    "pycharm": {
     "name": "#%%\n"
    }
   }
  },
  {
   "cell_type": "code",
   "execution_count": 856,
   "outputs": [
    {
     "data": {
      "text/plain": "True"
     },
     "execution_count": 856,
     "metadata": {},
     "output_type": "execute_result"
    }
   ],
   "source": [
    "issubclass(Doctor, Person)"
   ],
   "metadata": {
    "collapsed": false,
    "pycharm": {
     "name": "#%%\n"
    }
   }
  },
  {
   "cell_type": "code",
   "execution_count": 857,
   "outputs": [
    {
     "data": {
      "text/plain": "False"
     },
     "execution_count": 857,
     "metadata": {},
     "output_type": "execute_result"
    }
   ],
   "source": [
    "issubclass(Person, Doctor)"
   ],
   "metadata": {
    "collapsed": false,
    "pycharm": {
     "name": "#%%\n"
    }
   }
  },
  {
   "cell_type": "code",
   "execution_count": 858,
   "outputs": [
    {
     "data": {
      "text/plain": "True"
     },
     "execution_count": 858,
     "metadata": {},
     "output_type": "execute_result"
    }
   ],
   "source": [
    "issubclass(Architect, Person)"
   ],
   "metadata": {
    "collapsed": false,
    "pycharm": {
     "name": "#%%\n"
    }
   }
  },
  {
   "cell_type": "code",
   "execution_count": 859,
   "outputs": [
    {
     "data": {
      "text/plain": "False"
     },
     "execution_count": 859,
     "metadata": {},
     "output_type": "execute_result"
    }
   ],
   "source": [
    "issubclass(Person, Architect)"
   ],
   "metadata": {
    "collapsed": false,
    "pycharm": {
     "name": "#%%\n"
    }
   }
  },
  {
   "cell_type": "code",
   "execution_count": 860,
   "outputs": [],
   "source": [
    "class Othopedist(Doctor):\n",
    "    pass"
   ],
   "metadata": {
    "collapsed": false,
    "pycharm": {
     "name": "#%%\n"
    }
   }
  },
  {
   "cell_type": "code",
   "execution_count": 861,
   "outputs": [],
   "source": [
    "a = Othopedist()"
   ],
   "metadata": {
    "collapsed": false,
    "pycharm": {
     "name": "#%%\n"
    }
   }
  },
  {
   "cell_type": "code",
   "execution_count": 862,
   "outputs": [
    {
     "name": "stdout",
     "output_type": "stream",
     "text": [
      "Я могу лечить\n"
     ]
    }
   ],
   "source": [
    "a.can_cure()"
   ],
   "metadata": {
    "collapsed": false,
    "pycharm": {
     "name": "#%%\n"
    }
   }
  },
  {
   "cell_type": "code",
   "execution_count": 863,
   "outputs": [
    {
     "name": "stdout",
     "output_type": "stream",
     "text": [
      "Я могу ходить\n"
     ]
    }
   ],
   "source": [
    "a.can_walk()"
   ],
   "metadata": {
    "collapsed": false,
    "pycharm": {
     "name": "#%%\n"
    }
   }
  },
  {
   "cell_type": "code",
   "execution_count": 864,
   "outputs": [
    {
     "name": "stdout",
     "output_type": "stream",
     "text": [
      "Я могу дышать\n"
     ]
    }
   ],
   "source": [
    "a.can_breathe()"
   ],
   "metadata": {
    "collapsed": false,
    "pycharm": {
     "name": "#%%\n"
    }
   }
  },
  {
   "cell_type": "code",
   "execution_count": 865,
   "outputs": [
    {
     "data": {
      "text/plain": "True"
     },
     "execution_count": 865,
     "metadata": {},
     "output_type": "execute_result"
    }
   ],
   "source": [
    "isinstance(10, object)"
   ],
   "metadata": {
    "collapsed": false,
    "pycharm": {
     "name": "#%%\n"
    }
   }
  },
  {
   "cell_type": "code",
   "execution_count": 866,
   "outputs": [
    {
     "data": {
      "text/plain": "True"
     },
     "execution_count": 866,
     "metadata": {},
     "output_type": "execute_result"
    }
   ],
   "source": [
    "isinstance(int, object)"
   ],
   "metadata": {
    "collapsed": false,
    "pycharm": {
     "name": "#%%\n"
    }
   }
  },
  {
   "cell_type": "code",
   "execution_count": 867,
   "outputs": [
    {
     "data": {
      "text/plain": "True"
     },
     "execution_count": 867,
     "metadata": {},
     "output_type": "execute_result"
    }
   ],
   "source": [
    "isinstance(dict, object)"
   ],
   "metadata": {
    "collapsed": false,
    "pycharm": {
     "name": "#%%\n"
    }
   }
  },
  {
   "cell_type": "code",
   "execution_count": 868,
   "outputs": [
    {
     "data": {
      "text/plain": "True"
     },
     "execution_count": 868,
     "metadata": {},
     "output_type": "execute_result"
    }
   ],
   "source": [
    "issubclass(int, object)"
   ],
   "metadata": {
    "collapsed": false,
    "pycharm": {
     "name": "#%%\n"
    }
   }
  },
  {
   "cell_type": "code",
   "execution_count": 869,
   "outputs": [
    {
     "data": {
      "text/plain": "True"
     },
     "execution_count": 869,
     "metadata": {},
     "output_type": "execute_result"
    }
   ],
   "source": [
    "issubclass(dict, object)"
   ],
   "metadata": {
    "collapsed": false,
    "pycharm": {
     "name": "#%%\n"
    }
   }
  },
  {
   "cell_type": "code",
   "execution_count": 870,
   "outputs": [],
   "source": [
    "class Person:\n",
    "    pass"
   ],
   "metadata": {
    "collapsed": false,
    "pycharm": {
     "name": "#%%\n"
    }
   }
  },
  {
   "cell_type": "code",
   "execution_count": 871,
   "outputs": [
    {
     "data": {
      "text/plain": "True"
     },
     "execution_count": 871,
     "metadata": {},
     "output_type": "execute_result"
    }
   ],
   "source": [
    "issubclass(Person, object)"
   ],
   "metadata": {
    "collapsed": false,
    "pycharm": {
     "name": "#%%\n"
    }
   }
  },
  {
   "cell_type": "code",
   "execution_count": 872,
   "outputs": [],
   "source": [
    "class Person(object):\n",
    "    pass"
   ],
   "metadata": {
    "collapsed": false,
    "pycharm": {
     "name": "#%%\n"
    }
   }
  },
  {
   "cell_type": "code",
   "execution_count": 873,
   "outputs": [],
   "source": [
    "a = Person()"
   ],
   "metadata": {
    "collapsed": false,
    "pycharm": {
     "name": "#%%\n"
    }
   }
  },
  {
   "cell_type": "code",
   "execution_count": 874,
   "outputs": [
    {
     "data": {
      "text/plain": "True"
     },
     "execution_count": 874,
     "metadata": {},
     "output_type": "execute_result"
    }
   ],
   "source": [
    "isinstance(a, object)"
   ],
   "metadata": {
    "collapsed": false,
    "pycharm": {
     "name": "#%%\n"
    }
   }
  },
  {
   "cell_type": "code",
   "execution_count": 875,
   "outputs": [
    {
     "data": {
      "text/plain": "['__class__',\n '__delattr__',\n '__dir__',\n '__doc__',\n '__eq__',\n '__format__',\n '__ge__',\n '__getattribute__',\n '__gt__',\n '__hash__',\n '__init__',\n '__init_subclass__',\n '__le__',\n '__lt__',\n '__ne__',\n '__new__',\n '__reduce__',\n '__reduce_ex__',\n '__repr__',\n '__setattr__',\n '__sizeof__',\n '__str__',\n '__subclasshook__']"
     },
     "execution_count": 875,
     "metadata": {},
     "output_type": "execute_result"
    }
   ],
   "source": [
    "dir(object)"
   ],
   "metadata": {
    "collapsed": false,
    "pycharm": {
     "name": "#%%\n"
    }
   }
  },
  {
   "cell_type": "code",
   "execution_count": 876,
   "outputs": [],
   "source": [
    "a = Person()"
   ],
   "metadata": {
    "collapsed": false,
    "pycharm": {
     "name": "#%%\n"
    }
   }
  },
  {
   "cell_type": "code",
   "execution_count": 877,
   "outputs": [
    {
     "data": {
      "text/plain": "185396568531"
     },
     "execution_count": 877,
     "metadata": {},
     "output_type": "execute_result"
    }
   ],
   "source": [
    "a.__hash__()"
   ],
   "metadata": {
    "collapsed": false,
    "pycharm": {
     "name": "#%%\n"
    }
   }
  },
  {
   "cell_type": "code",
   "execution_count": 878,
   "outputs": [
    {
     "data": {
      "text/plain": "'<__main__.Person object at 0x000002B2A7F21D30>'"
     },
     "execution_count": 878,
     "metadata": {},
     "output_type": "execute_result"
    }
   ],
   "source": [
    "a.__str__()"
   ],
   "metadata": {
    "collapsed": false,
    "pycharm": {
     "name": "#%%\n"
    }
   }
  },
  {
   "cell_type": "code",
   "execution_count": 879,
   "outputs": [],
   "source": [
    "a = object()"
   ],
   "metadata": {
    "collapsed": false,
    "pycharm": {
     "name": "#%%\n"
    }
   }
  },
  {
   "cell_type": "code",
   "execution_count": 880,
   "outputs": [
    {
     "data": {
      "text/plain": "'<object object at 0x000002B2A7D101E0>'"
     },
     "execution_count": 880,
     "metadata": {},
     "output_type": "execute_result"
    }
   ],
   "source": [
    "a.__str__()"
   ],
   "metadata": {
    "collapsed": false,
    "pycharm": {
     "name": "#%%\n"
    }
   }
  },
  {
   "cell_type": "code",
   "execution_count": 881,
   "outputs": [
    {
     "data": {
      "text/plain": "True"
     },
     "execution_count": 881,
     "metadata": {},
     "output_type": "execute_result"
    }
   ],
   "source": [
    "a == a"
   ],
   "metadata": {
    "collapsed": false,
    "pycharm": {
     "name": "#%%\n"
    }
   }
  },
  {
   "cell_type": "code",
   "execution_count": 882,
   "outputs": [],
   "source": [
    "class MyList(list):\n",
    "    pass"
   ],
   "metadata": {
    "collapsed": false,
    "pycharm": {
     "name": "#%%\n"
    }
   }
  },
  {
   "cell_type": "code",
   "execution_count": 883,
   "outputs": [],
   "source": [
    "t = MyList()"
   ],
   "metadata": {
    "collapsed": false,
    "pycharm": {
     "name": "#%%\n"
    }
   }
  },
  {
   "cell_type": "code",
   "execution_count": 884,
   "outputs": [
    {
     "data": {
      "text/plain": "[]"
     },
     "execution_count": 884,
     "metadata": {},
     "output_type": "execute_result"
    }
   ],
   "source": [
    "t"
   ],
   "metadata": {
    "collapsed": false,
    "pycharm": {
     "name": "#%%\n"
    }
   }
  },
  {
   "cell_type": "code",
   "execution_count": 885,
   "outputs": [
    {
     "data": {
      "text/plain": "[]"
     },
     "execution_count": 885,
     "metadata": {},
     "output_type": "execute_result"
    }
   ],
   "source": [
    "list()"
   ],
   "metadata": {
    "collapsed": false,
    "pycharm": {
     "name": "#%%\n"
    }
   }
  },
  {
   "cell_type": "code",
   "execution_count": 886,
   "outputs": [
    {
     "data": {
      "text/plain": "__main__.MyList"
     },
     "execution_count": 886,
     "metadata": {},
     "output_type": "execute_result"
    }
   ],
   "source": [
    "type(t)"
   ],
   "metadata": {
    "collapsed": false,
    "pycharm": {
     "name": "#%%\n"
    }
   }
  },
  {
   "cell_type": "code",
   "execution_count": 887,
   "outputs": [
    {
     "data": {
      "text/plain": "True"
     },
     "execution_count": 887,
     "metadata": {},
     "output_type": "execute_result"
    }
   ],
   "source": [
    "issubclass(MyList,list)"
   ],
   "metadata": {
    "collapsed": false,
    "pycharm": {
     "name": "#%%\n"
    }
   }
  },
  {
   "cell_type": "code",
   "execution_count": 888,
   "outputs": [
    {
     "data": {
      "text/plain": "True"
     },
     "execution_count": 888,
     "metadata": {},
     "output_type": "execute_result"
    }
   ],
   "source": [
    "isinstance(t, list)"
   ],
   "metadata": {
    "collapsed": false,
    "pycharm": {
     "name": "#%%\n"
    }
   }
  },
  {
   "cell_type": "code",
   "execution_count": 889,
   "outputs": [
    {
     "data": {
      "text/plain": "True"
     },
     "execution_count": 889,
     "metadata": {},
     "output_type": "execute_result"
    }
   ],
   "source": [
    "isinstance(t, object)"
   ],
   "metadata": {
    "collapsed": false,
    "pycharm": {
     "name": "#%%\n"
    }
   }
  },
  {
   "cell_type": "code",
   "execution_count": 890,
   "outputs": [],
   "source": [
    "class Person:\n",
    "    def __init__(self, name):\n",
    "        print('init Person')\n",
    "        self.name = name\n",
    "    def breathe(self):\n",
    "        print('Человек дышит')\n",
    "    def walk(self):\n",
    "        print('Человек идёт')\n",
    "    def sleep(self):\n",
    "        print('Человек спит')\n",
    "    def combo(self):\n",
    "        self.breathe()\n",
    "        self.walk()\n",
    "        self.sleep()\n",
    "    def __str__(self):\n",
    "        return f\"Person {self.name}\""
   ],
   "metadata": {
    "collapsed": false,
    "pycharm": {
     "name": "#%%\n"
    }
   }
  },
  {
   "cell_type": "code",
   "execution_count": 891,
   "outputs": [],
   "source": [
    "class Doctor(Person):\n",
    "    def breathe(self):\n",
    "        print('Доктор дышит')\n",
    "    def __str__(self):\n",
    "        return f\"Doctor {self.name}\""
   ],
   "metadata": {
    "collapsed": false,
    "pycharm": {
     "name": "#%%\n"
    }
   }
  },
  {
   "cell_type": "code",
   "execution_count": 892,
   "outputs": [
    {
     "name": "stdout",
     "output_type": "stream",
     "text": [
      "init Person\n"
     ]
    }
   ],
   "source": [
    "x = Doctor('John')"
   ],
   "metadata": {
    "collapsed": false,
    "pycharm": {
     "name": "#%%\n"
    }
   }
  },
  {
   "cell_type": "code",
   "execution_count": 893,
   "outputs": [
    {
     "name": "stdout",
     "output_type": "stream",
     "text": [
      "init Person\n"
     ]
    }
   ],
   "source": [
    "y = Person('Adam')"
   ],
   "metadata": {
    "collapsed": false,
    "pycharm": {
     "name": "#%%\n"
    }
   }
  },
  {
   "cell_type": "code",
   "execution_count": 894,
   "outputs": [
    {
     "name": "stdout",
     "output_type": "stream",
     "text": [
      "Доктор дышит\n",
      "Человек идёт\n",
      "Человек спит\n"
     ]
    }
   ],
   "source": [
    "x.combo()"
   ],
   "metadata": {
    "collapsed": false,
    "pycharm": {
     "name": "#%%\n"
    }
   }
  },
  {
   "cell_type": "code",
   "execution_count": 895,
   "outputs": [],
   "source": [
    "class Person:\n",
    "    def breathe(self):\n",
    "        print('Человек дышит')\n",
    "    def sleep(self):\n",
    "        print('Человек спит')\n",
    "    def combo(self):\n",
    "        self.breathe()\n",
    "        self.walk()\n",
    "        self.sleep()"
   ],
   "metadata": {
    "collapsed": false,
    "pycharm": {
     "name": "#%%\n"
    }
   }
  },
  {
   "cell_type": "code",
   "execution_count": 896,
   "outputs": [],
   "source": [
    "class Doctor(Person):\n",
    "    def breathe(self):\n",
    "        print('Доктор дышит')\n",
    "    def sleep(self):\n",
    "        print('Доктор спит')\n",
    "    def walk(self):\n",
    "        print('Доктор идет')"
   ],
   "metadata": {
    "collapsed": false,
    "pycharm": {
     "name": "#%%\n"
    }
   }
  },
  {
   "cell_type": "code",
   "execution_count": 897,
   "outputs": [],
   "source": [
    "a = Person()"
   ],
   "metadata": {
    "collapsed": false,
    "pycharm": {
     "name": "#%%\n"
    }
   }
  },
  {
   "cell_type": "code",
   "execution_count": 898,
   "outputs": [],
   "source": [
    "# a.combo()\n",
    "# AttributeError: 'Person' object has no attribute 'walk'"
   ],
   "metadata": {
    "collapsed": false,
    "pycharm": {
     "name": "#%%\n"
    }
   }
  },
  {
   "cell_type": "code",
   "execution_count": 899,
   "outputs": [],
   "source": [
    "a = Doctor()"
   ],
   "metadata": {
    "collapsed": false,
    "pycharm": {
     "name": "#%%\n"
    }
   }
  },
  {
   "cell_type": "code",
   "execution_count": 900,
   "outputs": [
    {
     "name": "stdout",
     "output_type": "stream",
     "text": [
      "Доктор дышит\n",
      "Доктор идет\n",
      "Доктор спит\n"
     ]
    }
   ],
   "source": [
    "a.combo()"
   ],
   "metadata": {
    "collapsed": false,
    "pycharm": {
     "name": "#%%\n"
    }
   }
  },
  {
   "cell_type": "code",
   "execution_count": 901,
   "outputs": [],
   "source": [
    "class Person:\n",
    "    def breathe(self):\n",
    "        print('Человек дышит')\n",
    "    def walk(self):\n",
    "        print('Человек идёт')\n",
    "    def sleep(self):\n",
    "        print('Человек спит')\n",
    "    def combo(self):\n",
    "        self.breathe()\n",
    "        if hasattr(self, 'walk'):\n",
    "            self.walk()\n",
    "        self.sleep()\n",
    "        if hasattr(self, 'age'):\n",
    "            print(self.age)\n",
    "    def __str__(self):\n",
    "        return f\"Person {self.name}\""
   ],
   "metadata": {
    "collapsed": false,
    "pycharm": {
     "name": "#%%\n"
    }
   }
  },
  {
   "cell_type": "code",
   "execution_count": 902,
   "outputs": [],
   "source": [
    "class Doctor(Person):\n",
    "    age = 30\n",
    "    def breathe(self):\n",
    "        print('Доктор дышит')\n",
    "    def sleep(self):\n",
    "        print('Доктор спит')\n",
    "    def walk(self):\n",
    "        print('Доктор идет')"
   ],
   "metadata": {
    "collapsed": false,
    "pycharm": {
     "name": "#%%\n"
    }
   }
  },
  {
   "cell_type": "code",
   "execution_count": 903,
   "outputs": [],
   "source": [
    "x = Doctor()"
   ],
   "metadata": {
    "collapsed": false,
    "pycharm": {
     "name": "#%%\n"
    }
   }
  },
  {
   "cell_type": "code",
   "execution_count": 904,
   "outputs": [
    {
     "name": "stdout",
     "output_type": "stream",
     "text": [
      "Доктор дышит\n",
      "Доктор идет\n",
      "Доктор спит\n",
      "30\n"
     ]
    }
   ],
   "source": [
    "x.combo()"
   ],
   "metadata": {
    "collapsed": false,
    "pycharm": {
     "name": "#%%\n"
    }
   }
  },
  {
   "cell_type": "code",
   "execution_count": 905,
   "outputs": [],
   "source": [
    "class Person:\n",
    "    def breathe(self):\n",
    "        print('Человек дышит')"
   ],
   "metadata": {
    "collapsed": false,
    "pycharm": {
     "name": "#%%\n"
    }
   }
  },
  {
   "cell_type": "code",
   "execution_count": 906,
   "outputs": [],
   "source": [
    "class Doctor(Person):\n",
    "    def breathe(self):\n",
    "        super().breathe()\n",
    "        print('Доктор дышит')"
   ],
   "metadata": {
    "collapsed": false,
    "pycharm": {
     "name": "#%%\n"
    }
   }
  },
  {
   "cell_type": "code",
   "execution_count": 907,
   "outputs": [],
   "source": [
    "x = Person()"
   ],
   "metadata": {
    "collapsed": false,
    "pycharm": {
     "name": "#%%\n"
    }
   }
  },
  {
   "cell_type": "code",
   "execution_count": 908,
   "outputs": [],
   "source": [
    "y = Doctor()"
   ],
   "metadata": {
    "collapsed": false,
    "pycharm": {
     "name": "#%%\n"
    }
   }
  },
  {
   "cell_type": "code",
   "execution_count": 909,
   "outputs": [
    {
     "name": "stdout",
     "output_type": "stream",
     "text": [
      "Человек дышит\n",
      "Доктор дышит\n"
     ]
    }
   ],
   "source": [
    "y.breathe()"
   ],
   "metadata": {
    "collapsed": false,
    "pycharm": {
     "name": "#%%\n"
    }
   }
  },
  {
   "cell_type": "code",
   "execution_count": 910,
   "outputs": [],
   "source": [
    "class Person:\n",
    "    def __init__(self,name,surname):\n",
    "        self.name = name\n",
    "        self.surname = surname\n",
    "    def breathe(self):\n",
    "        print('Человек дышит')"
   ],
   "metadata": {
    "collapsed": false,
    "pycharm": {
     "name": "#%%\n"
    }
   }
  },
  {
   "cell_type": "code",
   "execution_count": 911,
   "outputs": [],
   "source": [
    "class Doctor(Person):\n",
    "    def __init__(self,name,surname,age):\n",
    "        self.name = name\n",
    "        self.surname = surname\n",
    "        self.age = age\n",
    "    def breathe(self):\n",
    "        super().breathe()\n",
    "        print('Доктор дышит')"
   ],
   "metadata": {
    "collapsed": false,
    "pycharm": {
     "name": "#%%\n"
    }
   }
  },
  {
   "cell_type": "code",
   "execution_count": 912,
   "outputs": [],
   "source": [
    "a = Person('Ivan', 'Ivanov')"
   ],
   "metadata": {
    "collapsed": false,
    "pycharm": {
     "name": "#%%\n"
    }
   }
  },
  {
   "cell_type": "code",
   "execution_count": 913,
   "outputs": [],
   "source": [
    "t = Doctor('Name', 'Surname', 30)"
   ],
   "metadata": {
    "collapsed": false,
    "pycharm": {
     "name": "#%%\n"
    }
   }
  },
  {
   "cell_type": "code",
   "execution_count": 914,
   "outputs": [
    {
     "name": "stdout",
     "output_type": "stream",
     "text": [
      "Ivan Ivanov\n",
      "Name Surname 30\n"
     ]
    }
   ],
   "source": [
    "print(a.name,a.surname)\n",
    "print(t.name,t.surname,t.age)"
   ],
   "metadata": {
    "collapsed": false,
    "pycharm": {
     "name": "#%%\n"
    }
   }
  },
  {
   "cell_type": "code",
   "execution_count": 915,
   "outputs": [],
   "source": [
    "class Person:\n",
    "    def __init__(self,name,surname):\n",
    "        self.name = name\n",
    "        self.surname = surname\n",
    "        self.age = 0\n",
    "    def breathe(self):\n",
    "        print('Человек дышит')"
   ],
   "metadata": {
    "collapsed": false,
    "pycharm": {
     "name": "#%%\n"
    }
   }
  },
  {
   "cell_type": "code",
   "execution_count": 916,
   "outputs": [],
   "source": [
    "class Doctor(Person):\n",
    "    def __init__(self,name,surname,age):\n",
    "        super().__init__(name, surname)\n",
    "        self.age = age\n",
    "    def breathe(self):\n",
    "        super().breathe()\n",
    "        print('Доктор дышит')"
   ],
   "metadata": {
    "collapsed": false,
    "pycharm": {
     "name": "#%%\n"
    }
   }
  },
  {
   "cell_type": "code",
   "execution_count": 917,
   "outputs": [
    {
     "name": "stdout",
     "output_type": "stream",
     "text": [
      "Ivan Ivanov\n",
      "Name Surname 25\n"
     ]
    }
   ],
   "source": [
    "a = Person('Ivan', 'Ivanov')\n",
    "t = Doctor('Name', 'Surname', 25)\n",
    "print(a.name,a.surname)\n",
    "print(t.name,t.surname,t.age)"
   ],
   "metadata": {
    "collapsed": false,
    "pycharm": {
     "name": "#%%\n"
    }
   }
  },
  {
   "cell_type": "code",
   "execution_count": 918,
   "outputs": [],
   "source": [
    "class Person:\n",
    "    def __init__(self,name,surname):\n",
    "        self.name = name\n",
    "        self.surname = surname\n",
    "    def __str__(self):\n",
    "        return f\"Person {self.name} {self.surname}\"\n",
    "    def info(self):\n",
    "        print('Parent class')\n",
    "        print(self)"
   ],
   "metadata": {
    "collapsed": false,
    "pycharm": {
     "name": "#%%\n"
    }
   }
  },
  {
   "cell_type": "code",
   "execution_count": 919,
   "outputs": [],
   "source": [
    "class Doctor(Person):\n",
    "    def __init__(self,name,surname,age):\n",
    "        super().__init__(name, surname)\n",
    "        self.age = age\n",
    "    def __str__(self):\n",
    "        return f\"Doctor {self.name} {self.surname}\""
   ],
   "metadata": {
    "collapsed": false,
    "pycharm": {
     "name": "#%%\n"
    }
   }
  },
  {
   "cell_type": "code",
   "execution_count": 920,
   "outputs": [],
   "source": [
    "class Doctor:\n",
    "    def can_cure(self):\n",
    "        print('Я доктор, я умею лечить')"
   ],
   "metadata": {
    "collapsed": false,
    "pycharm": {
     "name": "#%%\n"
    }
   }
  },
  {
   "cell_type": "code",
   "execution_count": 921,
   "outputs": [],
   "source": [
    "class Builder:\n",
    "    def can_build(self):\n",
    "        print('Я строитель, я умею строить')"
   ],
   "metadata": {
    "collapsed": false,
    "pycharm": {
     "name": "#%%\n"
    }
   }
  },
  {
   "cell_type": "code",
   "execution_count": 922,
   "outputs": [],
   "source": [
    "class Person(Doctor, Builder):\n",
    "    pass"
   ],
   "metadata": {
    "collapsed": false,
    "pycharm": {
     "name": "#%%\n"
    }
   }
  },
  {
   "cell_type": "code",
   "execution_count": 923,
   "outputs": [],
   "source": [
    "a = Person()"
   ],
   "metadata": {
    "collapsed": false,
    "pycharm": {
     "name": "#%%\n"
    }
   }
  },
  {
   "cell_type": "code",
   "execution_count": 924,
   "outputs": [
    {
     "name": "stdout",
     "output_type": "stream",
     "text": [
      "Я доктор, я умею лечить\n"
     ]
    }
   ],
   "source": [
    "a.can_cure()"
   ],
   "metadata": {
    "collapsed": false,
    "pycharm": {
     "name": "#%%\n"
    }
   }
  },
  {
   "cell_type": "code",
   "execution_count": 925,
   "outputs": [
    {
     "name": "stdout",
     "output_type": "stream",
     "text": [
      "Я строитель, я умею строить\n"
     ]
    }
   ],
   "source": [
    "a.can_build()"
   ],
   "metadata": {
    "collapsed": false,
    "pycharm": {
     "name": "#%%\n"
    }
   }
  },
  {
   "cell_type": "code",
   "execution_count": 926,
   "outputs": [],
   "source": [
    "class Person(Doctor, Builder):\n",
    "    def can_build(self):\n",
    "        print('Я человек, я тоже умею строить')"
   ],
   "metadata": {
    "collapsed": false,
    "pycharm": {
     "name": "#%%\n"
    }
   }
  },
  {
   "cell_type": "code",
   "execution_count": 927,
   "outputs": [],
   "source": [
    "a = Person()"
   ],
   "metadata": {
    "collapsed": false,
    "pycharm": {
     "name": "#%%\n"
    }
   }
  },
  {
   "cell_type": "code",
   "execution_count": 928,
   "outputs": [
    {
     "name": "stdout",
     "output_type": "stream",
     "text": [
      "Я человек, я тоже умею строить\n"
     ]
    }
   ],
   "source": [
    "a.can_build()"
   ],
   "metadata": {
    "collapsed": false,
    "pycharm": {
     "name": "#%%\n"
    }
   }
  },
  {
   "cell_type": "code",
   "execution_count": 928,
   "outputs": [],
   "source": [],
   "metadata": {
    "collapsed": false,
    "pycharm": {
     "name": "#%%\n"
    }
   }
  }
 ],
 "metadata": {
  "kernelspec": {
   "display_name": "Python 3 (ipykernel)",
   "language": "python",
   "name": "python3"
  },
  "language_info": {
   "codemirror_mode": {
    "name": "ipython",
    "version": 3
   },
   "file_extension": ".py",
   "mimetype": "text/x-python",
   "name": "python",
   "nbconvert_exporter": "python",
   "pygments_lexer": "ipython3",
   "version": "3.9.12"
  }
 },
 "nbformat": 4,
 "nbformat_minor": 5
}