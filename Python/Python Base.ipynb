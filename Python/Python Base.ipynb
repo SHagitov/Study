{
 "cells": [
  {
   "cell_type": "code",
   "execution_count": 1,
   "id": "c54858b5",
   "metadata": {
    "pycharm": {
     "name": "#%%\n"
    }
   },
   "outputs": [],
   "source": [
    "int_list = [1, 2, 3]"
   ]
  },
  {
   "cell_type": "code",
   "execution_count": 2,
   "id": "842e9b94",
   "metadata": {
    "pycharm": {
     "name": "#%%\n"
    }
   },
   "outputs": [],
   "source": [
    "mixed_list = [1, 2.0, 'string']"
   ]
  },
  {
   "cell_type": "code",
   "execution_count": 3,
   "id": "2784de2e",
   "metadata": {
    "pycharm": {
     "name": "#%%\n"
    }
   },
   "outputs": [
    {
     "data": {
      "text/plain": "3"
     },
     "execution_count": 3,
     "metadata": {},
     "output_type": "execute_result"
    }
   ],
   "source": [
    "len(int_list)"
   ]
  },
  {
   "cell_type": "code",
   "execution_count": 4,
   "id": "3382c5b2",
   "metadata": {
    "pycharm": {
     "name": "#%%\n"
    }
   },
   "outputs": [
    {
     "name": "stdout",
     "output_type": "stream",
     "text": [
      "1\n",
      "3\n"
     ]
    }
   ],
   "source": [
    "print(int_list[0])\n",
    "print(int_list[-1])"
   ]
  },
  {
   "cell_type": "code",
   "execution_count": 5,
   "id": "0498c2e2",
   "metadata": {
    "pycharm": {
     "name": "#%%\n"
    }
   },
   "outputs": [
    {
     "data": {
      "text/plain": "[2, 3]"
     },
     "execution_count": 5,
     "metadata": {},
     "output_type": "execute_result"
    }
   ],
   "source": [
    "int_list[1:]"
   ]
  },
  {
   "cell_type": "code",
   "execution_count": 6,
   "id": "3c74a933",
   "metadata": {
    "pycharm": {
     "name": "#%%\n"
    }
   },
   "outputs": [
    {
     "data": {
      "text/plain": "['John', 'Bob', 'Alice', 'Tracy', 'Elijah', 'Mason']"
     },
     "execution_count": 6,
     "metadata": {},
     "output_type": "execute_result"
    }
   ],
   "source": [
    "names1 = ['John', 'Bob', 'Alice']\n",
    "names2 = ['Tracy', 'Elijah', 'Mason']\n",
    "names_combined = names1 + names2\n",
    "names_combined"
   ]
  },
  {
   "cell_type": "code",
   "execution_count": 7,
   "id": "914c018f",
   "metadata": {
    "pycharm": {
     "name": "#%%\n"
    }
   },
   "outputs": [
    {
     "data": {
      "text/plain": "['Liam', 'Bob', 'Alice']"
     },
     "execution_count": 7,
     "metadata": {},
     "output_type": "execute_result"
    }
   ],
   "source": [
    "names1[0] = 'Liam'\n",
    "names1"
   ]
  },
  {
   "cell_type": "code",
   "execution_count": 8,
   "id": "efa3f315",
   "metadata": {
    "pycharm": {
     "name": "#%%\n"
    }
   },
   "outputs": [
    {
     "data": {
      "text/plain": "['Liam', 'Bob', 'Alice', 'William', 'James']"
     },
     "execution_count": 8,
     "metadata": {},
     "output_type": "execute_result"
    }
   ],
   "source": [
    "names1.append('William')\n",
    "names1.append('James')\n",
    "names1"
   ]
  },
  {
   "cell_type": "code",
   "execution_count": 9,
   "id": "b9c0dbd7",
   "metadata": {
    "pycharm": {
     "name": "#%%\n"
    }
   },
   "outputs": [
    {
     "name": "stdout",
     "output_type": "stream",
     "text": [
      "Liam\n",
      "['Bob', 'Alice', 'William', 'James']\n"
     ]
    }
   ],
   "source": [
    "popped = names1.pop(0)\n",
    "print(popped)\n",
    "print(names1)"
   ]
  },
  {
   "cell_type": "code",
   "execution_count": 10,
   "id": "e9393ace",
   "metadata": {
    "pycharm": {
     "name": "#%%\n"
    }
   },
   "outputs": [
    {
     "data": {
      "text/plain": "['Alice', 'Bob', 'James', 'James', 'William']"
     },
     "execution_count": 10,
     "metadata": {},
     "output_type": "execute_result"
    }
   ],
   "source": [
    "names1.append('James')\n",
    "names1.sort()\n",
    "names1"
   ]
  },
  {
   "cell_type": "code",
   "execution_count": 11,
   "id": "212407fa",
   "metadata": {
    "pycharm": {
     "name": "#%%\n"
    }
   },
   "outputs": [
    {
     "data": {
      "text/plain": "['aa', 'ab', 'ac']"
     },
     "execution_count": 11,
     "metadata": {},
     "output_type": "execute_result"
    }
   ],
   "source": [
    "letters = ['ac', 'ab', 'aa']\n",
    "letters.sort()\n",
    "letters"
   ]
  },
  {
   "cell_type": "code",
   "execution_count": 12,
   "id": "a2ea33d6",
   "metadata": {
    "pycharm": {
     "name": "#%%\n"
    }
   },
   "outputs": [
    {
     "data": {
      "text/plain": "['a', 'ab', 'abc']"
     },
     "execution_count": 12,
     "metadata": {},
     "output_type": "execute_result"
    }
   ],
   "source": [
    "letters = ['abc', 'a', 'ab']\n",
    "letters.sort(key=len)\n",
    "letters"
   ]
  },
  {
   "cell_type": "code",
   "execution_count": 13,
   "id": "f168fce3",
   "metadata": {
    "pycharm": {
     "name": "#%%\n"
    }
   },
   "outputs": [
    {
     "data": {
      "text/plain": "[0, 1, 1, 2, 3, 3, 4, 5, 8]"
     },
     "execution_count": 13,
     "metadata": {},
     "output_type": "execute_result"
    }
   ],
   "source": [
    "numbers = [3, 2, 8, 5, 0, 3, 4, 1, 1]\n",
    "numbers.sort()\n",
    "numbers"
   ]
  },
  {
   "cell_type": "code",
   "execution_count": 14,
   "id": "6902d56f",
   "metadata": {
    "pycharm": {
     "name": "#%%\n"
    }
   },
   "outputs": [
    {
     "data": {
      "text/plain": "[1, 1, 4, 3, 0, 5, 8, 2, 3]"
     },
     "execution_count": 14,
     "metadata": {},
     "output_type": "execute_result"
    }
   ],
   "source": [
    "numbers = [3, 2, 8, 5, 0, 3, 4, 1, 1]\n",
    "numbers.reverse()\n",
    "numbers"
   ]
  },
  {
   "cell_type": "code",
   "execution_count": 15,
   "id": "83e52137",
   "metadata": {
    "pycharm": {
     "name": "#%%\n"
    }
   },
   "outputs": [
    {
     "data": {
      "text/plain": "[8, 5, 4, 3, 3, 2, 1, 1, 0]"
     },
     "execution_count": 15,
     "metadata": {},
     "output_type": "execute_result"
    }
   ],
   "source": [
    "numbers.sort(reverse=True)\n",
    "numbers"
   ]
  },
  {
   "cell_type": "code",
   "execution_count": 16,
   "id": "b5be02bc",
   "metadata": {
    "pycharm": {
     "name": "#%%\n"
    }
   },
   "outputs": [
    {
     "data": {
      "text/plain": "[8, 22, 5, 4, 3, 3, 2, 1, 1, 0]"
     },
     "execution_count": 16,
     "metadata": {},
     "output_type": "execute_result"
    }
   ],
   "source": [
    "numbers.insert(1, 22)\n",
    "numbers"
   ]
  },
  {
   "cell_type": "code",
   "execution_count": 17,
   "id": "9254c7d9",
   "metadata": {
    "pycharm": {
     "name": "#%%\n"
    }
   },
   "outputs": [
    {
     "data": {
      "text/plain": "2"
     },
     "execution_count": 17,
     "metadata": {},
     "output_type": "execute_result"
    }
   ],
   "source": [
    "numbers.index(5)"
   ]
  },
  {
   "cell_type": "code",
   "execution_count": 18,
   "id": "ed8fab55",
   "metadata": {
    "pycharm": {
     "name": "#%%\n"
    }
   },
   "outputs": [
    {
     "name": "stdout",
     "output_type": "stream",
     "text": [
      "2\n"
     ]
    }
   ],
   "source": [
    "print(numbers.count(3))"
   ]
  },
  {
   "cell_type": "code",
   "execution_count": 19,
   "id": "5485034a",
   "metadata": {
    "pycharm": {
     "name": "#%%\n"
    }
   },
   "outputs": [
    {
     "data": {
      "text/plain": "[8, 22, 5, 4, 3, 3, 2, 1, 1, 0]"
     },
     "execution_count": 19,
     "metadata": {},
     "output_type": "execute_result"
    }
   ],
   "source": [
    "copy = numbers.copy()\n",
    "copy"
   ]
  },
  {
   "cell_type": "code",
   "execution_count": 20,
   "id": "c7be1bc9",
   "metadata": {
    "pycharm": {
     "name": "#%%\n"
    }
   },
   "outputs": [
    {
     "data": {
      "text/plain": "[]"
     },
     "execution_count": 20,
     "metadata": {},
     "output_type": "execute_result"
    }
   ],
   "source": [
    "numbers.clear()\n",
    "numbers"
   ]
  },
  {
   "cell_type": "code",
   "execution_count": 21,
   "id": "c72f0774",
   "metadata": {
    "pycharm": {
     "name": "#%%\n"
    }
   },
   "outputs": [
    {
     "data": {
      "text/plain": "{'Carlsen': 2842,\n 'Caruana': 2822,\n 'Mamedyarov': 2801,\n 'Ding': 2797,\n 'Giri': 2780}"
     },
     "execution_count": 21,
     "metadata": {},
     "output_type": "execute_result"
    }
   ],
   "source": [
    "players = {\n",
    "    \"Carlsen\": 2842,\n",
    "    \"Caruana\": 2822,\n",
    "    \"Mamedyarov\": 2801,\n",
    "    \"Ding\": 2797,\n",
    "    \"Giri\": 2780\n",
    "}\n",
    "players"
   ]
  },
  {
   "cell_type": "code",
   "execution_count": 22,
   "id": "7719c678",
   "metadata": {
    "pycharm": {
     "name": "#%%\n"
    }
   },
   "outputs": [
    {
     "name": "stdout",
     "output_type": "stream",
     "text": [
      "Top chess player's rating is 2842\n"
     ]
    }
   ],
   "source": [
    "top1 = players[\"Carlsen\"]\n",
    "print(f\"Top chess player's rating is {top1}\")"
   ]
  },
  {
   "cell_type": "code",
   "execution_count": 23,
   "id": "013552d4",
   "metadata": {
    "pycharm": {
     "name": "#%%\n"
    }
   },
   "outputs": [
    {
     "data": {
      "text/plain": "{'Carlsen': 2842,\n 'Caruana': 2822,\n 'Mamedyarov': 2801,\n 'Ding': 2797,\n 'Giri': 2780,\n 'So': 2780}"
     },
     "execution_count": 23,
     "metadata": {},
     "output_type": "execute_result"
    }
   ],
   "source": [
    "players[\"So\"] = 2780\n",
    "players"
   ]
  },
  {
   "cell_type": "code",
   "execution_count": 24,
   "id": "9df5ea42",
   "metadata": {
    "pycharm": {
     "name": "#%%\n"
    }
   },
   "outputs": [
    {
     "data": {
      "text/plain": "{'Carlsen': 2842,\n 'Caruana': 2822,\n 'Mamedyarov': 2801,\n 'Ding': 2797,\n 'Giri': 2780,\n 'So': 2781}"
     },
     "execution_count": 24,
     "metadata": {},
     "output_type": "execute_result"
    }
   ],
   "source": [
    "players[\"So\"] = 2781\n",
    "players"
   ]
  },
  {
   "cell_type": "code",
   "execution_count": 25,
   "id": "e7811d83",
   "metadata": {
    "pycharm": {
     "name": "#%%\n"
    }
   },
   "outputs": [
    {
     "data": {
      "text/plain": "{'Carlsen': 2842,\n 'Caruana': 2822,\n 'Mamedyarov': 2801,\n 'Ding': 2797,\n 'Giri': 2780}"
     },
     "execution_count": 25,
     "metadata": {},
     "output_type": "execute_result"
    }
   ],
   "source": [
    "del players[\"So\"]\n",
    "players"
   ]
  },
  {
   "cell_type": "code",
   "execution_count": 26,
   "id": "afdec077",
   "metadata": {
    "pycharm": {
     "name": "#%%\n"
    }
   },
   "outputs": [
    {
     "name": "stdout",
     "output_type": "stream",
     "text": [
      "<class 'dict_keys'>\n",
      "dict_keys(['Carlsen', 'Caruana', 'Mamedyarov', 'Ding', 'Giri'])\n"
     ]
    }
   ],
   "source": [
    "keys = players.keys()\n",
    "print(type(keys))\n",
    "print(keys)"
   ]
  },
  {
   "cell_type": "code",
   "execution_count": 27,
   "id": "a2a011c0",
   "metadata": {
    "pycharm": {
     "name": "#%%\n"
    }
   },
   "outputs": [
    {
     "name": "stdout",
     "output_type": "stream",
     "text": [
      "<class 'list'>\n",
      "['Carlsen', 'Caruana', 'Mamedyarov', 'Ding', 'Giri']\n"
     ]
    }
   ],
   "source": [
    "l = list(players.keys())\n",
    "print(type(l))\n",
    "print(l)"
   ]
  },
  {
   "cell_type": "code",
   "execution_count": 28,
   "id": "1d89d09b",
   "metadata": {
    "pycharm": {
     "name": "#%%\n"
    }
   },
   "outputs": [
    {
     "data": {
      "text/plain": "['Carlsen', 'Caruana', 'Ding', 'Giri', 'Mamedyarov']"
     },
     "execution_count": 28,
     "metadata": {},
     "output_type": "execute_result"
    }
   ],
   "source": [
    "sorted(players.keys())"
   ]
  },
  {
   "cell_type": "code",
   "execution_count": 29,
   "id": "62684eef",
   "metadata": {
    "pycharm": {
     "name": "#%%\n"
    }
   },
   "outputs": [
    {
     "name": "stdout",
     "output_type": "stream",
     "text": [
      "True\n",
      "True\n"
     ]
    }
   ],
   "source": [
    "print(\"Carlsen\" in players)\n",
    "print(\"Kramlik\" not in players)"
   ]
  },
  {
   "cell_type": "code",
   "execution_count": 30,
   "id": "5a441bb7",
   "metadata": {
    "pycharm": {
     "name": "#%%\n"
    }
   },
   "outputs": [
    {
     "name": "stdout",
     "output_type": "stream",
     "text": [
      "<class 'dict_values'>\n",
      "dict_values([2842, 2822, 2801, 2797, 2780])\n"
     ]
    }
   ],
   "source": [
    "vals = players.values()\n",
    "print(type(vals))\n",
    "print(vals)"
   ]
  },
  {
   "cell_type": "code",
   "execution_count": 31,
   "id": "9a68a1e0",
   "metadata": {
    "pycharm": {
     "name": "#%%\n"
    }
   },
   "outputs": [
    {
     "name": "stdout",
     "output_type": "stream",
     "text": [
      "<class 'list'>\n",
      "[2842, 2822, 2801, 2797, 2780]\n"
     ]
    }
   ],
   "source": [
    "vals = list(players.values())\n",
    "print(type(vals))\n",
    "print(vals)"
   ]
  },
  {
   "cell_type": "code",
   "execution_count": 32,
   "id": "f8bbf21f",
   "metadata": {
    "pycharm": {
     "name": "#%%\n"
    }
   },
   "outputs": [
    {
     "data": {
      "text/plain": "[2780, 2797, 2801, 2822, 2842]"
     },
     "execution_count": 32,
     "metadata": {},
     "output_type": "execute_result"
    }
   ],
   "source": [
    "sorted(players.values())"
   ]
  },
  {
   "cell_type": "code",
   "execution_count": 33,
   "id": "4af0819a",
   "metadata": {
    "pycharm": {
     "name": "#%%\n"
    }
   },
   "outputs": [
    {
     "name": "stdout",
     "output_type": "stream",
     "text": [
      "{'Carlsen': 2842, 'Caruana': 2822, 'Mamedyarov': 2801, 'Ding': 2797, 'Giri': 2780}\n"
     ]
    }
   ],
   "source": [
    "players_copy = players.copy()\n",
    "print(players_copy)"
   ]
  },
  {
   "cell_type": "code",
   "execution_count": 34,
   "id": "0843b0ae",
   "metadata": {
    "pycharm": {
     "name": "#%%\n"
    }
   },
   "outputs": [
    {
     "name": "stdout",
     "output_type": "stream",
     "text": [
      "Carlsen 2842\n",
      "Caruana 2822\n",
      "Mamedyarov 2801\n",
      "Ding 2797\n",
      "Giri 2780\n"
     ]
    }
   ],
   "source": [
    "for k, v in players.items():\n",
    "    print(k, v)"
   ]
  },
  {
   "cell_type": "code",
   "execution_count": 35,
   "id": "1862dddc",
   "metadata": {
    "pycharm": {
     "name": "#%%\n"
    }
   },
   "outputs": [
    {
     "name": "stdout",
     "output_type": "stream",
     "text": [
      "<class 'dict_items'>\n"
     ]
    }
   ],
   "source": [
    "items = players.items()\n",
    "print(type(items))"
   ]
  },
  {
   "cell_type": "code",
   "execution_count": 36,
   "id": "07195851",
   "metadata": {
    "pycharm": {
     "name": "#%%\n"
    }
   },
   "outputs": [
    {
     "name": "stdout",
     "output_type": "stream",
     "text": [
      "{'Carlsen': 2842, 'Caruana': 2822, 'Mamedyarov': 2801, 'Ding': 2797}\n"
     ]
    }
   ],
   "source": [
    "players.pop(\"Giri\")\n",
    "print(players)"
   ]
  },
  {
   "cell_type": "code",
   "execution_count": 37,
   "id": "1971ee55",
   "metadata": {
    "pycharm": {
     "name": "#%%\n"
    }
   },
   "outputs": [
    {
     "name": "stdout",
     "output_type": "stream",
     "text": [
      "('Ding', 2797)\n",
      "{'Carlsen': 2842, 'Caruana': 2822, 'Mamedyarov': 2801}\n"
     ]
    }
   ],
   "source": [
    "print(players.popitem())\n",
    "print(players)"
   ]
  },
  {
   "cell_type": "code",
   "execution_count": 38,
   "id": "314c9ee7",
   "metadata": {
    "pycharm": {
     "name": "#%%\n"
    }
   },
   "outputs": [
    {
     "data": {
      "text/plain": "3"
     },
     "execution_count": 38,
     "metadata": {},
     "output_type": "execute_result"
    }
   ],
   "source": [
    "len(players)"
   ]
  },
  {
   "cell_type": "code",
   "execution_count": 39,
   "id": "f7e2b0e2",
   "metadata": {
    "pycharm": {
     "name": "#%%\n"
    }
   },
   "outputs": [
    {
     "data": {
      "text/plain": "{'Carlsen': 2842, 'Caruana': 2822, 'Mamedyarov': 2801, 'Karjakin': None}"
     },
     "execution_count": 39,
     "metadata": {},
     "output_type": "execute_result"
    }
   ],
   "source": [
    "players.setdefault(\"Karjakin\")\n",
    "players"
   ]
  },
  {
   "cell_type": "code",
   "execution_count": 40,
   "id": "2befcd2f",
   "metadata": {
    "pycharm": {
     "name": "#%%\n"
    }
   },
   "outputs": [
    {
     "name": "stdout",
     "output_type": "stream",
     "text": [
      "True\n",
      "True\n"
     ]
    }
   ],
   "source": [
    "d1 = {}\n",
    "d1['a'] = 'A'\n",
    "d1['b'] = 'B'\n",
    "d1['c'] = 'C'\n",
    "\n",
    "d2 = {}\n",
    "d2['a'] = 'A'\n",
    "d2['b'] = 'B'\n",
    "d2['c'] = 'C'\n",
    "\n",
    "d3 = {}\n",
    "d3['a'] = 'A'\n",
    "d3['b'] = 'B'\n",
    "d3['c'] = 'C'\n",
    "print(d1 == d2)\n",
    "print(d1 == d3)"
   ]
  },
  {
   "cell_type": "code",
   "execution_count": 41,
   "id": "0d0ca5f1",
   "metadata": {
    "pycharm": {
     "name": "#%%\n"
    }
   },
   "outputs": [
    {
     "name": "stdout",
     "output_type": "stream",
     "text": [
      "a A\n",
      "b B\n",
      "c C\n"
     ]
    }
   ],
   "source": [
    "for k, v in d1.items():\n",
    "    print(k, v)"
   ]
  },
  {
   "cell_type": "code",
   "execution_count": 42,
   "id": "e6d431ff",
   "metadata": {
    "pycharm": {
     "name": "#%%\n"
    }
   },
   "outputs": [
    {
     "name": "stdout",
     "output_type": "stream",
     "text": [
      "False\n",
      "True\n"
     ]
    }
   ],
   "source": [
    "from collections import OrderedDict\n",
    "\n",
    "d1 = OrderedDict()\n",
    "d1['a'] = 'A'\n",
    "d1['b'] = 'B'\n",
    "d1['c'] = 'C'\n",
    "\n",
    "d2 = OrderedDict()\n",
    "d2['a'] = 'B'\n",
    "d2['b'] = 'A'\n",
    "d2['c'] = 'C'\n",
    "\n",
    "d3 = OrderedDict()\n",
    "d3['a'] = 'A'\n",
    "d3['b'] = 'B'\n",
    "d3['c'] = 'C'\n",
    "print(d1 == d2)\n",
    "print(d1 == d3)"
   ]
  },
  {
   "cell_type": "code",
   "execution_count": 43,
   "id": "6f5e819b",
   "metadata": {
    "pycharm": {
     "name": "#%%\n"
    }
   },
   "outputs": [
    {
     "data": {
      "text/plain": "tuple"
     },
     "execution_count": 43,
     "metadata": {},
     "output_type": "execute_result"
    }
   ],
   "source": [
    "strings = ('str1', 'str2', 'str3')\n",
    "person = ('John', 'Silver', 22)\n",
    "type(person)"
   ]
  },
  {
   "cell_type": "code",
   "execution_count": 44,
   "id": "6edbd75b",
   "metadata": {
    "pycharm": {
     "name": "#%%\n"
    }
   },
   "outputs": [
    {
     "data": {
      "text/plain": "list"
     },
     "execution_count": 44,
     "metadata": {},
     "output_type": "execute_result"
    }
   ],
   "source": [
    "person_info = ['John', 'Silver', 22]\n",
    "type(person_info)"
   ]
  },
  {
   "cell_type": "code",
   "execution_count": 45,
   "id": "f02d54b2",
   "metadata": {
    "pycharm": {
     "name": "#%%\n"
    }
   },
   "outputs": [
    {
     "data": {
      "text/plain": "3"
     },
     "execution_count": 45,
     "metadata": {},
     "output_type": "execute_result"
    }
   ],
   "source": [
    "len(person)"
   ]
  },
  {
   "cell_type": "code",
   "execution_count": 46,
   "id": "881040bc",
   "metadata": {
    "pycharm": {
     "name": "#%%\n"
    }
   },
   "outputs": [
    {
     "name": "stdout",
     "output_type": "stream",
     "text": [
      "John\n",
      "22\n"
     ]
    },
    {
     "data": {
      "text/plain": "['Bob', 'Silver', 22]"
     },
     "execution_count": 46,
     "metadata": {},
     "output_type": "execute_result"
    }
   ],
   "source": [
    "print(person[0])\n",
    "print(person[-1])\n",
    "person_info[0] = 'Bob'\n",
    "person_info"
   ]
  },
  {
   "cell_type": "code",
   "execution_count": 47,
   "id": "39f5d1bd",
   "metadata": {
    "pycharm": {
     "name": "#%%\n"
    }
   },
   "outputs": [
    {
     "data": {
      "text/plain": "1"
     },
     "execution_count": 47,
     "metadata": {},
     "output_type": "execute_result"
    }
   ],
   "source": [
    "person.count('John')"
   ]
  },
  {
   "cell_type": "code",
   "execution_count": 48,
   "id": "0adbdee9",
   "metadata": {
    "pycharm": {
     "name": "#%%\n"
    }
   },
   "outputs": [
    {
     "data": {
      "text/plain": "0"
     },
     "execution_count": 48,
     "metadata": {},
     "output_type": "execute_result"
    }
   ],
   "source": [
    "person.index('John')"
   ]
  },
  {
   "cell_type": "code",
   "execution_count": 49,
   "id": "cf78a1ed",
   "metadata": {
    "pycharm": {
     "name": "#%%\n"
    }
   },
   "outputs": [
    {
     "name": "stdout",
     "output_type": "stream",
     "text": [
      "('Carlsen', 1990, 2842)\n"
     ]
    }
   ],
   "source": [
    "players = [('Carlsen', 1990, 2842), ('Caruana', 1992, 2822), ('Mamedyarov', 1985, 2801)]\n",
    "print(players[0])"
   ]
  },
  {
   "cell_type": "code",
   "execution_count": 50,
   "id": "4fefc8e9",
   "metadata": {
    "pycharm": {
     "name": "#%%\n"
    }
   },
   "outputs": [],
   "source": [
    "from collections import namedtuple\n",
    "\n",
    "Player = namedtuple('Player', 'name age rating')\n"
   ]
  },
  {
   "cell_type": "code",
   "execution_count": 51,
   "id": "dfdb23ba",
   "metadata": {
    "pycharm": {
     "name": "#%%\n"
    }
   },
   "outputs": [
    {
     "data": {
      "text/plain": "Player(name='Carlsen', age=1990, rating=2842)"
     },
     "execution_count": 51,
     "metadata": {},
     "output_type": "execute_result"
    }
   ],
   "source": [
    "players = [Player('Carlsen', 1990, 2842), Player('Caruana', 1992, 2822)]\n",
    "players[0]"
   ]
  },
  {
   "cell_type": "code",
   "execution_count": 52,
   "id": "37a4df62",
   "metadata": {
    "pycharm": {
     "name": "#%%\n"
    }
   },
   "outputs": [
    {
     "data": {
      "text/plain": "'Carlsen'"
     },
     "execution_count": 52,
     "metadata": {},
     "output_type": "execute_result"
    }
   ],
   "source": [
    "players[0].name"
   ]
  },
  {
   "cell_type": "code",
   "execution_count": 53,
   "id": "e7c70fd1",
   "metadata": {
    "pycharm": {
     "name": "#%%\n"
    }
   },
   "outputs": [
    {
     "name": "stdout",
     "output_type": "stream",
     "text": [
      "Carlsen\n",
      "1990\n",
      "2842\n"
     ]
    }
   ],
   "source": [
    "p1 = Player('Carlsen', 1990, 2842)\n",
    "print(p1.name)\n",
    "print(p1.age)\n",
    "print(p1.rating)"
   ]
  },
  {
   "cell_type": "code",
   "execution_count": 54,
   "id": "85bd9d2b",
   "metadata": {
    "pycharm": {
     "name": "#%%\n"
    }
   },
   "outputs": [
    {
     "name": "stdout",
     "output_type": "stream",
     "text": [
      "Indeed, true.\n"
     ]
    }
   ],
   "source": [
    "if True:\n",
    "    print('Indeed, true.')"
   ]
  },
  {
   "cell_type": "code",
   "execution_count": 55,
   "id": "d50ae6cd",
   "metadata": {
    "pycharm": {
     "name": "#%%\n"
    }
   },
   "outputs": [
    {
     "name": "stdout",
     "output_type": "stream",
     "text": [
      "3 in greater than 2\n"
     ]
    }
   ],
   "source": [
    "if 3 > 2:\n",
    "    print('3 in greater than 2')"
   ]
  },
  {
   "cell_type": "code",
   "execution_count": 56,
   "id": "90c1b472",
   "metadata": {
    "pycharm": {
     "name": "#%%\n"
    }
   },
   "outputs": [],
   "source": [
    "if 3 < 2:\n",
    "    print('3 is less than 2')"
   ]
  },
  {
   "cell_type": "code",
   "execution_count": 57,
   "id": "62642d7c",
   "metadata": {
    "pycharm": {
     "name": "#%%\n"
    }
   },
   "outputs": [
    {
     "name": "stdout",
     "output_type": "stream",
     "text": [
      "It's admin, look at him\n"
     ]
    }
   ],
   "source": [
    "is_admin = True\n",
    "if is_admin:\n",
    "    print(\"It's admin, look at him\")"
   ]
  },
  {
   "cell_type": "code",
   "execution_count": 58,
   "id": "2c636079",
   "metadata": {
    "pycharm": {
     "name": "#%%\n"
    }
   },
   "outputs": [
    {
     "name": "stdout",
     "output_type": "stream",
     "text": [
      "set()\n",
      "<class 'set'>\n"
     ]
    }
   ],
   "source": [
    "my_set = set()\n",
    "print(my_set)\n",
    "print(type(my_set))"
   ]
  },
  {
   "cell_type": "code",
   "execution_count": 59,
   "id": "189c5393",
   "metadata": {
    "pycharm": {
     "name": "#%%\n"
    }
   },
   "outputs": [
    {
     "data": {
      "text/plain": "{1}"
     },
     "execution_count": 59,
     "metadata": {},
     "output_type": "execute_result"
    }
   ],
   "source": [
    "my_set.add(1)\n",
    "my_set"
   ]
  },
  {
   "cell_type": "code",
   "execution_count": 60,
   "id": "4a6554d9",
   "metadata": {
    "pycharm": {
     "name": "#%%\n"
    }
   },
   "outputs": [
    {
     "data": {
      "text/plain": "{1, 2}"
     },
     "execution_count": 60,
     "metadata": {},
     "output_type": "execute_result"
    }
   ],
   "source": [
    "my_set.add(2)\n",
    "my_set.add(2)\n",
    "my_set"
   ]
  },
  {
   "cell_type": "code",
   "execution_count": 61,
   "id": "bd6c4e64",
   "metadata": {
    "pycharm": {
     "name": "#%%\n"
    }
   },
   "outputs": [
    {
     "name": "stdout",
     "output_type": "stream",
     "text": [
      "{1, 2, 3, 4}\n",
      "4\n"
     ]
    }
   ],
   "source": [
    "my_list = [1, 1, 1, 1, 2, 2, 2, 2, 3, 3, 4, 4]\n",
    "s = set(my_list)\n",
    "print(s)\n",
    "print(len(s))"
   ]
  },
  {
   "cell_type": "code",
   "execution_count": 62,
   "id": "b08cd15f",
   "metadata": {
    "pycharm": {
     "name": "#%%\n"
    }
   },
   "outputs": [
    {
     "name": "stdout",
     "output_type": "stream",
     "text": [
      "True\n",
      "False\n"
     ]
    }
   ],
   "source": [
    "print(1 in s)\n",
    "print(5 in s)"
   ]
  },
  {
   "cell_type": "code",
   "execution_count": 63,
   "id": "7b54d3db",
   "metadata": {
    "pycharm": {
     "name": "#%%\n"
    }
   },
   "outputs": [],
   "source": [
    "set1 = {1, 2, 3, 4}\n",
    "set2 = {1, 2, 3, 4, 5}"
   ]
  },
  {
   "cell_type": "code",
   "execution_count": 64,
   "id": "dcaa692f",
   "metadata": {
    "pycharm": {
     "name": "#%%\n"
    }
   },
   "outputs": [
    {
     "data": {
      "text/plain": "True"
     },
     "execution_count": 64,
     "metadata": {},
     "output_type": "execute_result"
    }
   ],
   "source": [
    "set1.issubset(set2)"
   ]
  },
  {
   "cell_type": "code",
   "execution_count": 65,
   "id": "54e8cd32",
   "metadata": {
    "pycharm": {
     "name": "#%%\n"
    }
   },
   "outputs": [
    {
     "data": {
      "text/plain": "False"
     },
     "execution_count": 65,
     "metadata": {},
     "output_type": "execute_result"
    }
   ],
   "source": [
    "set2.issubset(set1)"
   ]
  },
  {
   "cell_type": "code",
   "execution_count": 66,
   "id": "22413e9c",
   "metadata": {
    "pycharm": {
     "name": "#%%\n"
    }
   },
   "outputs": [
    {
     "data": {
      "text/plain": "True"
     },
     "execution_count": 66,
     "metadata": {},
     "output_type": "execute_result"
    }
   ],
   "source": [
    "set2.issuperset(set1)"
   ]
  },
  {
   "cell_type": "code",
   "execution_count": 67,
   "id": "b2ba4459",
   "metadata": {
    "pycharm": {
     "name": "#%%\n"
    }
   },
   "outputs": [
    {
     "data": {
      "text/plain": "True"
     },
     "execution_count": 67,
     "metadata": {},
     "output_type": "execute_result"
    }
   ],
   "source": [
    "set1 = {1, 2, 3}\n",
    "set2 = {4, 5, 6}\n",
    "set1.isdisjoint(set2)"
   ]
  },
  {
   "cell_type": "code",
   "execution_count": 68,
   "id": "cb4c1aa6",
   "metadata": {
    "pycharm": {
     "name": "#%%\n"
    }
   },
   "outputs": [
    {
     "data": {
      "text/plain": "{1, 2, 3, 4, 5}"
     },
     "execution_count": 68,
     "metadata": {},
     "output_type": "execute_result"
    }
   ],
   "source": [
    "set1 = {1, 2, 3}\n",
    "set2 = {1, 2, 3, 4, 5}\n",
    "set3 = set1.union(set2)\n",
    "set3"
   ]
  },
  {
   "cell_type": "code",
   "execution_count": 69,
   "id": "2f3f12aa",
   "metadata": {
    "pycharm": {
     "name": "#%%\n"
    }
   },
   "outputs": [
    {
     "data": {
      "text/plain": "{1, 2, 3}"
     },
     "execution_count": 69,
     "metadata": {},
     "output_type": "execute_result"
    }
   ],
   "source": [
    "set1"
   ]
  },
  {
   "cell_type": "code",
   "execution_count": 70,
   "id": "695998ef",
   "metadata": {
    "pycharm": {
     "name": "#%%\n"
    }
   },
   "outputs": [
    {
     "data": {
      "text/plain": "{1, 2, 3}"
     },
     "execution_count": 70,
     "metadata": {},
     "output_type": "execute_result"
    }
   ],
   "source": [
    "set3 = set1.intersection(set2)\n",
    "set3"
   ]
  },
  {
   "cell_type": "code",
   "execution_count": 71,
   "id": "2b5f56c5",
   "metadata": {
    "pycharm": {
     "name": "#%%\n"
    }
   },
   "outputs": [
    {
     "name": "stdout",
     "output_type": "stream",
     "text": [
      "{0}\n",
      "{0, 5}\n"
     ]
    }
   ],
   "source": [
    "set1 = {0, 1, 2, 3, 4}\n",
    "set2 = {1, 2, 3, 4, 5}\n",
    "set3 = set1.difference(set2)\n",
    "set4 = set1.symmetric_difference(set2)\n",
    "print(set3)\n",
    "print(set4)"
   ]
  },
  {
   "cell_type": "code",
   "execution_count": 72,
   "id": "98342cdc",
   "metadata": {
    "pycharm": {
     "name": "#%%\n"
    }
   },
   "outputs": [
    {
     "data": {
      "text/plain": "{0, 1, 2, 3, 4, 5}"
     },
     "execution_count": 72,
     "metadata": {},
     "output_type": "execute_result"
    }
   ],
   "source": [
    "set1.update(set2)\n",
    "set1"
   ]
  },
  {
   "cell_type": "code",
   "execution_count": 73,
   "id": "943e591f",
   "metadata": {
    "pycharm": {
     "name": "#%%\n"
    }
   },
   "outputs": [
    {
     "name": "stdout",
     "output_type": "stream",
     "text": [
      "{0, 2, 3, 4, 5}\n"
     ]
    }
   ],
   "source": [
    "set1.remove(1)\n",
    "print(set1)"
   ]
  },
  {
   "cell_type": "code",
   "execution_count": 74,
   "id": "3125239e",
   "metadata": {
    "pycharm": {
     "name": "#%%\n"
    }
   },
   "outputs": [
    {
     "name": "stdout",
     "output_type": "stream",
     "text": [
      "{0, 3, 4, 5}\n"
     ]
    }
   ],
   "source": [
    "set1.discard(2)\n",
    "print(set1)\n",
    "set1.discard(42)\n"
   ]
  },
  {
   "cell_type": "code",
   "execution_count": 75,
   "id": "80368400",
   "metadata": {
    "pycharm": {
     "name": "#%%\n"
    }
   },
   "outputs": [
    {
     "name": "stdout",
     "output_type": "stream",
     "text": [
      "0\n"
     ]
    }
   ],
   "source": [
    "popped_out_element = set1.pop()\n",
    "print(popped_out_element)"
   ]
  },
  {
   "cell_type": "code",
   "execution_count": 76,
   "id": "f2d24be0",
   "metadata": {
    "pycharm": {
     "name": "#%%\n"
    }
   },
   "outputs": [
    {
     "data": {
      "text/plain": "set()"
     },
     "execution_count": 76,
     "metadata": {},
     "output_type": "execute_result"
    }
   ],
   "source": [
    "set1.clear()\n",
    "set1"
   ]
  },
  {
   "cell_type": "code",
   "execution_count": 77,
   "id": "1699abae",
   "metadata": {
    "pycharm": {
     "name": "#%%\n"
    }
   },
   "outputs": [
    {
     "name": "stdout",
     "output_type": "stream",
     "text": [
      "[1, 2, 3, 4, 5]\n"
     ]
    }
   ],
   "source": [
    "numbers = [1, 2, 3, 4, 5]\n",
    "print(numbers)"
   ]
  },
  {
   "cell_type": "code",
   "execution_count": 78,
   "id": "19883873",
   "metadata": {
    "pycharm": {
     "name": "#%%\n"
    }
   },
   "outputs": [
    {
     "name": "stdout",
     "output_type": "stream",
     "text": [
      "1\n",
      "2\n",
      "3\n",
      "4\n",
      "5\n"
     ]
    }
   ],
   "source": [
    "for i in numbers:\n",
    "    print(i)"
   ]
  },
  {
   "cell_type": "code",
   "execution_count": 79,
   "id": "7670892e",
   "metadata": {
    "pycharm": {
     "name": "#%%\n"
    }
   },
   "outputs": [
    {
     "name": "stdout",
     "output_type": "stream",
     "text": [
      "1\n",
      "4\n",
      "9\n",
      "16\n",
      "25\n"
     ]
    }
   ],
   "source": [
    "for i in numbers:\n",
    "    print(i * i)"
   ]
  },
  {
   "cell_type": "code",
   "execution_count": 80,
   "id": "5f00c60f",
   "metadata": {
    "pycharm": {
     "name": "#%%\n"
    }
   },
   "outputs": [
    {
     "data": {
      "text/plain": "range"
     },
     "execution_count": 80,
     "metadata": {},
     "output_type": "execute_result"
    }
   ],
   "source": [
    "numbers = range(1, 8)\n",
    "type(numbers)"
   ]
  },
  {
   "cell_type": "code",
   "execution_count": 81,
   "id": "e136d175",
   "metadata": {
    "pycharm": {
     "name": "#%%\n"
    }
   },
   "outputs": [
    {
     "name": "stdout",
     "output_type": "stream",
     "text": [
      "1\n",
      "2\n",
      "3\n",
      "4\n",
      "5\n",
      "6\n",
      "7\n"
     ]
    }
   ],
   "source": [
    "for i in numbers:\n",
    "    print(i)"
   ]
  },
  {
   "cell_type": "code",
   "execution_count": 82,
   "id": "9c1d9305",
   "metadata": {
    "pycharm": {
     "name": "#%%\n"
    }
   },
   "outputs": [
    {
     "name": "stdout",
     "output_type": "stream",
     "text": [
      "1\n",
      "2\n",
      "3\n",
      "4\n",
      "5\n",
      "6\n",
      "7\n"
     ]
    }
   ],
   "source": [
    "for i in range(1, 8):\n",
    "    print(i)"
   ]
  },
  {
   "cell_type": "code",
   "execution_count": 83,
   "id": "2ec8cb67",
   "metadata": {
    "pycharm": {
     "name": "#%%\n"
    }
   },
   "outputs": [
    {
     "name": "stdout",
     "output_type": "stream",
     "text": [
      "1 is odd\n",
      "2 if even\n",
      "3 is odd\n",
      "4 if even\n",
      "5 is odd\n",
      "6 if even\n",
      "7 is odd\n"
     ]
    }
   ],
   "source": [
    "for i in range(1, 8):\n",
    "    if i % 2 == 0:\n",
    "        print(f'{i} if even')\n",
    "    else:\n",
    "        print(f'{i} is odd')"
   ]
  },
  {
   "cell_type": "code",
   "execution_count": 84,
   "id": "41bae968",
   "metadata": {
    "pycharm": {
     "name": "#%%\n"
    }
   },
   "outputs": [
    {
     "data": {
      "text/plain": "[2, 6, 10, 14, 18]"
     },
     "execution_count": 84,
     "metadata": {},
     "output_type": "execute_result"
    }
   ],
   "source": [
    "numbers = [1, 3, 5, 7, 9]\n",
    "for i, item in enumerate(numbers):\n",
    "    numbers[i] *= 2\n",
    "numbers"
   ]
  },
  {
   "cell_type": "code",
   "execution_count": 85,
   "id": "9981a238",
   "metadata": {
    "pycharm": {
     "name": "#%%\n"
    }
   },
   "outputs": [
    {
     "name": "stdout",
     "output_type": "stream",
     "text": [
      "J\n",
      "o\n",
      "h\n",
      "n\n"
     ]
    }
   ],
   "source": [
    "name = \"John\"\n",
    "for l in name:\n",
    "    print(l)"
   ]
  },
  {
   "cell_type": "code",
   "execution_count": 86,
   "id": "77ede685",
   "metadata": {
    "pycharm": {
     "name": "#%%\n"
    }
   },
   "outputs": [
    {
     "name": "stdout",
     "output_type": "stream",
     "text": [
      "Alarm!\n",
      "Alarm!\n",
      "Alarm!\n",
      "Alarm!\n",
      "Alarm!\n"
     ]
    }
   ],
   "source": [
    "for _ in range(5):\n",
    "    print('Alarm!')"
   ]
  },
  {
   "cell_type": "code",
   "execution_count": 87,
   "id": "81fa53ab",
   "metadata": {
    "pycharm": {
     "name": "#%%\n"
    }
   },
   "outputs": [
    {
     "name": "stdout",
     "output_type": "stream",
     "text": [
      "John\n",
      "Silver\n",
      "22\n"
     ]
    }
   ],
   "source": [
    "person = ('John', 'Silver', 22)\n",
    "for item in person:\n",
    "    print(item)"
   ]
  },
  {
   "cell_type": "code",
   "execution_count": 88,
   "id": "8e682abe",
   "metadata": {
    "pycharm": {
     "name": "#%%\n"
    }
   },
   "outputs": [
    {
     "data": {
      "text/plain": "3"
     },
     "execution_count": 88,
     "metadata": {},
     "output_type": "execute_result"
    }
   ],
   "source": [
    "persons = [('John', 22), ('Bob', 32), ('Dave', 20)]\n",
    "len(persons)"
   ]
  },
  {
   "cell_type": "code",
   "execution_count": 89,
   "id": "999b073e",
   "metadata": {
    "pycharm": {
     "name": "#%%\n"
    }
   },
   "outputs": [
    {
     "name": "stdout",
     "output_type": "stream",
     "text": [
      "John 22\n",
      "Bob 32\n",
      "Dave 20\n"
     ]
    }
   ],
   "source": [
    "for (name, age) in persons:\n",
    "    print(name, age)"
   ]
  },
  {
   "cell_type": "code",
   "execution_count": 90,
   "id": "fc77cb4c",
   "metadata": {
    "pycharm": {
     "name": "#%%\n"
    }
   },
   "outputs": [],
   "source": [
    "players = dict(Carlsen=2842, Caruana=2822, Mamedyarov=2801)"
   ]
  },
  {
   "cell_type": "code",
   "execution_count": 91,
   "id": "13615468",
   "metadata": {
    "pycharm": {
     "name": "#%%\n"
    }
   },
   "outputs": [
    {
     "name": "stdout",
     "output_type": "stream",
     "text": [
      "Carlsen\n",
      "Caruana\n",
      "Mamedyarov\n"
     ]
    }
   ],
   "source": [
    "for item in players:\n",
    "    print(item)"
   ]
  },
  {
   "cell_type": "code",
   "execution_count": 92,
   "id": "eadb66f9",
   "metadata": {
    "pycharm": {
     "name": "#%%\n"
    }
   },
   "outputs": [
    {
     "name": "stdout",
     "output_type": "stream",
     "text": [
      "('Carlsen', 2842)\n",
      "('Caruana', 2822)\n",
      "('Mamedyarov', 2801)\n"
     ]
    }
   ],
   "source": [
    "for item in players.items():\n",
    "    print(item)"
   ]
  },
  {
   "cell_type": "code",
   "execution_count": 93,
   "id": "3568aff8",
   "metadata": {
    "pycharm": {
     "name": "#%%\n"
    }
   },
   "outputs": [
    {
     "name": "stdout",
     "output_type": "stream",
     "text": [
      "Carlsen has rating 2842\n",
      "Caruana has rating 2822\n",
      "Mamedyarov has rating 2801\n"
     ]
    }
   ],
   "source": [
    "for k, v in players.items():\n",
    "    print(f'{k} has rating {v}')"
   ]
  },
  {
   "cell_type": "code",
   "execution_count": 94,
   "id": "39f74ea2",
   "metadata": {
    "pycharm": {
     "name": "#%%\n"
    }
   },
   "outputs": [
    {
     "name": "stdout",
     "output_type": "stream",
     "text": [
      "2842\n",
      "2822\n",
      "2801\n"
     ]
    }
   ],
   "source": [
    "for v in players.values():\n",
    "    print(v)"
   ]
  },
  {
   "cell_type": "code",
   "execution_count": 95,
   "id": "05f755ea",
   "metadata": {
    "pycharm": {
     "name": "#%%\n"
    }
   },
   "outputs": [
    {
     "data": {
      "text/plain": "[(2, -2), (-5, 5), (6, -6), (-2, 2)]"
     },
     "execution_count": 95,
     "metadata": {},
     "output_type": "execute_result"
    }
   ],
   "source": [
    "# find all pairs sum of which equals 0\n",
    "list1 = [2, 4, -5, 6, 8, -2]\n",
    "list2 = [2, -6, 8, 3, 5, -2]\n",
    "pairs = []\n",
    "for x in list1:\n",
    "    for y in list2:\n",
    "        cur_sum = x + y\n",
    "        if cur_sum == 0:\n",
    "            pairs.append((x, y))\n",
    "pairs"
   ]
  },
  {
   "cell_type": "code",
   "execution_count": 96,
   "id": "af0cf7bc",
   "metadata": {
    "pycharm": {
     "name": "#%%\n"
    }
   },
   "outputs": [
    {
     "data": {
      "text/plain": "['h', 'e', 'l', 'l', 'o', ' ', 'w', 'o', 'r', 'l', 'd']"
     },
     "execution_count": 96,
     "metadata": {},
     "output_type": "execute_result"
    }
   ],
   "source": [
    "greeting = 'hello world'\n",
    "chars = []\n",
    "for l in greeting:\n",
    "    chars.append(l)\n",
    "chars"
   ]
  },
  {
   "cell_type": "code",
   "execution_count": 97,
   "id": "a34a40ad",
   "metadata": {
    "pycharm": {
     "name": "#%%\n"
    }
   },
   "outputs": [
    {
     "data": {
      "text/plain": "['h', 'e', 'l', 'l', 'o', ' ', 'w', 'o', 'r', 'l', 'd']"
     },
     "execution_count": 97,
     "metadata": {},
     "output_type": "execute_result"
    }
   ],
   "source": [
    "chars = [l for l in greeting]\n",
    "chars"
   ]
  },
  {
   "cell_type": "code",
   "execution_count": 98,
   "id": "257fd0ed",
   "metadata": {
    "pycharm": {
     "name": "#%%\n"
    }
   },
   "outputs": [
    {
     "data": {
      "text/plain": "[0, 1, 2, 3, 4, 5, 6, 7, 8, 9, 10]"
     },
     "execution_count": 98,
     "metadata": {},
     "output_type": "execute_result"
    }
   ],
   "source": [
    "numbers = [0, 1, 2, 3, 4, 5, 6, 7, 8, 9, 10]\n",
    "numbers"
   ]
  },
  {
   "cell_type": "code",
   "execution_count": 99,
   "id": "1960b8db",
   "metadata": {
    "pycharm": {
     "name": "#%%\n"
    }
   },
   "outputs": [
    {
     "data": {
      "text/plain": "[0, 1, 2, 3, 4, 5, 6, 7, 8, 9, 10]"
     },
     "execution_count": 99,
     "metadata": {},
     "output_type": "execute_result"
    }
   ],
   "source": [
    "numbers = [n for n in range(0, 11)]\n",
    "numbers"
   ]
  },
  {
   "cell_type": "code",
   "execution_count": 100,
   "id": "0459a6fd",
   "metadata": {
    "pycharm": {
     "name": "#%%\n"
    }
   },
   "outputs": [
    {
     "data": {
      "text/plain": "[0, 1, 4, 9, 16, 25, 36, 49, 64, 81, 100]"
     },
     "execution_count": 100,
     "metadata": {},
     "output_type": "execute_result"
    }
   ],
   "source": [
    "numbers = [n * n for n in range(0, 11)]\n",
    "numbers"
   ]
  },
  {
   "cell_type": "code",
   "execution_count": 101,
   "id": "f0db6a26",
   "metadata": {
    "pycharm": {
     "name": "#%%\n"
    }
   },
   "outputs": [
    {
     "data": {
      "text/plain": "[1, 9, 25, 49, 81]"
     },
     "execution_count": 101,
     "metadata": {},
     "output_type": "execute_result"
    }
   ],
   "source": [
    "numbers = [n * n for n in range(0, 11) if n % 2 != 0]\n",
    "numbers"
   ]
  },
  {
   "cell_type": "code",
   "execution_count": 102,
   "id": "43a9640c",
   "metadata": {
    "pycharm": {
     "name": "#%%\n"
    }
   },
   "outputs": [
    {
     "data": {
      "text/plain": "[4.72, 3.94, 21.26, 48.82, 25.2]"
     },
     "execution_count": 102,
     "metadata": {},
     "output_type": "execute_result"
    }
   ],
   "source": [
    "len_in_centimeters = [12, 10, 54, 124, 64]\n",
    "\n",
    "len_in_inches = [(round(cm / 2.54, 2)) for cm in len_in_centimeters]\n",
    "len_in_inches"
   ]
  },
  {
   "cell_type": "code",
   "execution_count": 103,
   "id": "3587582e",
   "metadata": {
    "pycharm": {
     "name": "#%%\n"
    }
   },
   "outputs": [
    {
     "data": {
      "text/plain": "['MM', 'Gm', 'MM', 'Gm', 'MM', 'Gm']"
     },
     "execution_count": 103,
     "metadata": {},
     "output_type": "execute_result"
    }
   ],
   "source": [
    "ratings = [2485, 2580, 2480, 2600, 2482, 2520]\n",
    "titles = ['Gm' if x >= 2500 else 'MM' for x in ratings]\n",
    "titles"
   ]
  },
  {
   "cell_type": "code",
   "execution_count": 104,
   "id": "910612e8",
   "metadata": {
    "pycharm": {
     "name": "#%%\n"
    }
   },
   "outputs": [
    {
     "name": "stdout",
     "output_type": "stream",
     "text": [
      "x equals0\n",
      "x equals1\n",
      "x equals2\n"
     ]
    }
   ],
   "source": [
    "x = 0\n",
    "while x < 3:\n",
    "    print(f'x equals{x}')\n",
    "    x += 1\n"
   ]
  },
  {
   "cell_type": "code",
   "execution_count": 105,
   "id": "1b37c9fc",
   "metadata": {
    "pycharm": {
     "name": "#%%\n"
    }
   },
   "outputs": [
    {
     "name": "stdout",
     "output_type": "stream",
     "text": [
      "x equals0\n",
      "x equals1\n",
      "x equals2\n",
      "Condition is not met\n"
     ]
    }
   ],
   "source": [
    "x = 0\n",
    "while x < 3:\n",
    "    print(f'x equals{x}')\n",
    "    x += 1\n",
    "else:\n",
    "    print('Condition is not met')"
   ]
  },
  {
   "cell_type": "code",
   "execution_count": 106,
   "id": "9f85bd85",
   "metadata": {
    "pycharm": {
     "name": "#%%\n"
    }
   },
   "outputs": [
    {
     "data": {
      "text/plain": "16"
     },
     "execution_count": 106,
     "metadata": {},
     "output_type": "execute_result"
    }
   ],
   "source": [
    "vals = [1, 2, 3, 4, 5, 6, 7, 8, 9]\n",
    "summ = 0\n",
    "for v in vals:\n",
    "    if v % 2 == 0:\n",
    "        continue\n",
    "    else:\n",
    "        summ += v\n",
    "    if summ > 10:\n",
    "        break\n",
    "summ"
   ]
  },
  {
   "cell_type": "code",
   "execution_count": 107,
   "id": "c01a3ecf",
   "metadata": {
    "pycharm": {
     "name": "#%%\n"
    }
   },
   "outputs": [],
   "source": [
    "for v in vals:\n",
    "    pass"
   ]
  },
  {
   "cell_type": "code",
   "execution_count": 108,
   "id": "6c078c7e",
   "metadata": {
    "pycharm": {
     "name": "#%%\n"
    }
   },
   "outputs": [
    {
     "name": "stdout",
     "output_type": "stream",
     "text": [
      "Help on built-in function append:\n",
      "\n",
      "append(object, /) method of builtins.list instance\n",
      "    Append object to the end of the list.\n",
      "\n"
     ]
    }
   ],
   "source": [
    "numbers = [1, 2, 3]\n",
    "numbers.append(4)\n",
    "help(numbers.append)"
   ]
  },
  {
   "cell_type": "code",
   "execution_count": 109,
   "id": "64bcc5b3",
   "metadata": {
    "pycharm": {
     "name": "#%%\n"
    }
   },
   "outputs": [
    {
     "data": {
      "text/plain": "1"
     },
     "execution_count": 109,
     "metadata": {},
     "output_type": "execute_result"
    }
   ],
   "source": [
    "abs(-1)"
   ]
  },
  {
   "cell_type": "code",
   "execution_count": 110,
   "id": "016c1175",
   "metadata": {
    "pycharm": {
     "name": "#%%\n"
    }
   },
   "outputs": [
    {
     "data": {
      "text/plain": "1"
     },
     "execution_count": 110,
     "metadata": {},
     "output_type": "execute_result"
    }
   ],
   "source": [
    "abs(1)"
   ]
  },
  {
   "cell_type": "code",
   "execution_count": 111,
   "id": "726c346d",
   "metadata": {
    "pycharm": {
     "name": "#%%\n"
    }
   },
   "outputs": [
    {
     "data": {
      "text/plain": "5"
     },
     "execution_count": 111,
     "metadata": {},
     "output_type": "execute_result"
    }
   ],
   "source": [
    "max(1, 2, 3, 4, 5)"
   ]
  },
  {
   "cell_type": "code",
   "execution_count": 112,
   "id": "c152d7a1",
   "metadata": {
    "pycharm": {
     "name": "#%%\n"
    }
   },
   "outputs": [
    {
     "data": {
      "text/plain": "1"
     },
     "execution_count": 112,
     "metadata": {},
     "output_type": "execute_result"
    }
   ],
   "source": [
    "min([1, 2, 3, 4, 5])"
   ]
  },
  {
   "cell_type": "code",
   "execution_count": 113,
   "id": "64387d9c",
   "metadata": {
    "pycharm": {
     "name": "#%%\n"
    }
   },
   "outputs": [
    {
     "data": {
      "text/plain": "256"
     },
     "execution_count": 113,
     "metadata": {},
     "output_type": "execute_result"
    }
   ],
   "source": [
    "pow(2, 8)"
   ]
  },
  {
   "cell_type": "code",
   "execution_count": 114,
   "id": "ec622a2f",
   "metadata": {
    "pycharm": {
     "name": "#%%\n"
    }
   },
   "outputs": [
    {
     "data": {
      "text/plain": "3.4"
     },
     "execution_count": 114,
     "metadata": {},
     "output_type": "execute_result"
    }
   ],
   "source": [
    "round(3.37, 1)"
   ]
  },
  {
   "cell_type": "code",
   "execution_count": 115,
   "id": "1c17fae5",
   "metadata": {
    "pycharm": {
     "name": "#%%\n"
    }
   },
   "outputs": [
    {
     "data": {
      "text/plain": "15"
     },
     "execution_count": 115,
     "metadata": {},
     "output_type": "execute_result"
    }
   ],
   "source": [
    "t = sum([1, 2, 3, 4, 5])\n",
    "t"
   ]
  },
  {
   "cell_type": "code",
   "execution_count": 116,
   "id": "4d1a4ce5",
   "metadata": {
    "pycharm": {
     "name": "#%%\n"
    }
   },
   "outputs": [
    {
     "name": "stdout",
     "output_type": "stream",
     "text": [
      "0x2a\n",
      "0o52\n",
      "0b101010\n"
     ]
    }
   ],
   "source": [
    "h = hex(42)\n",
    "o = oct(42)\n",
    "b = bin(42)\n",
    "\n",
    "print(h)\n",
    "print(o)\n",
    "print(b)"
   ]
  },
  {
   "cell_type": "code",
   "execution_count": 117,
   "id": "13285d19",
   "metadata": {
    "pycharm": {
     "name": "#%%\n"
    }
   },
   "outputs": [
    {
     "name": "stdout",
     "output_type": "stream",
     "text": [
      "True\n",
      "False\n"
     ]
    }
   ],
   "source": [
    "all_true1 = all([True, True, True])\n",
    "all_true2 = all([True, True, False])\n",
    "print(all_true1)\n",
    "print(all_true2)"
   ]
  },
  {
   "cell_type": "code",
   "execution_count": 118,
   "id": "27739c5c",
   "metadata": {
    "pycharm": {
     "name": "#%%\n"
    }
   },
   "outputs": [],
   "source": [
    "players = [('Carlsen', 2842), ('Caruana', 2822), ('Mamedyarov', 2801), ('Ding', 2797), ('Giri', 2780)]"
   ]
  },
  {
   "cell_type": "code",
   "execution_count": 119,
   "id": "88f698f7",
   "metadata": {
    "pycharm": {
     "name": "#%%\n"
    }
   },
   "outputs": [
    {
     "data": {
      "text/plain": "True"
     },
     "execution_count": 119,
     "metadata": {},
     "output_type": "execute_result"
    }
   ],
   "source": [
    "all(rating > 2700 for _, rating in players)"
   ]
  },
  {
   "cell_type": "code",
   "execution_count": 120,
   "id": "53ebe73b",
   "metadata": {
    "pycharm": {
     "name": "#%%\n"
    }
   },
   "outputs": [
    {
     "data": {
      "text/plain": "False"
     },
     "execution_count": 120,
     "metadata": {},
     "output_type": "execute_result"
    }
   ],
   "source": [
    "all(rating > 2800 for _, rating in players)"
   ]
  },
  {
   "cell_type": "code",
   "execution_count": 121,
   "id": "f6a49cb9",
   "metadata": {
    "pycharm": {
     "name": "#%%\n"
    }
   },
   "outputs": [
    {
     "data": {
      "text/plain": "False"
     },
     "execution_count": 121,
     "metadata": {},
     "output_type": "execute_result"
    }
   ],
   "source": [
    "#Работает медленнее, сначала будет список булевых значений\n",
    "all([rating > 2800 for _, rating in players])"
   ]
  },
  {
   "cell_type": "code",
   "execution_count": 122,
   "id": "8ea193fd",
   "metadata": {
    "pycharm": {
     "name": "#%%\n"
    }
   },
   "outputs": [
    {
     "name": "stdout",
     "output_type": "stream",
     "text": [
      "True\n",
      "False\n"
     ]
    }
   ],
   "source": [
    "any_true1 = any([False, False, True])\n",
    "any_true2 = any([False, False, False])\n",
    "print(any_true1)\n",
    "print(any_true2)"
   ]
  },
  {
   "cell_type": "code",
   "execution_count": 123,
   "id": "37abfe9f",
   "metadata": {
    "pycharm": {
     "name": "#%%\n"
    }
   },
   "outputs": [
    {
     "name": "stdout",
     "output_type": "stream",
     "text": [
      "<class 'zip'>\n",
      "<zip object at 0x0000028CFD5BFCC0>\n"
     ]
    }
   ],
   "source": [
    "letters = 'abcd'\n",
    "numbers = (10, 20, 30)\n",
    "\n",
    "zipped = zip(letters, numbers)\n",
    "print(type(zipped))\n",
    "print(zipped)"
   ]
  },
  {
   "cell_type": "code",
   "execution_count": 124,
   "id": "483923c3",
   "metadata": {
    "pycharm": {
     "name": "#%%\n"
    }
   },
   "outputs": [
    {
     "name": "stdout",
     "output_type": "stream",
     "text": [
      "[('a', 10), ('b', 20), ('c', 30)]\n"
     ]
    }
   ],
   "source": [
    "zipped_list = list(zipped)\n",
    "print(zipped_list)"
   ]
  },
  {
   "cell_type": "code",
   "execution_count": 125,
   "id": "6ae53cca",
   "metadata": {
    "pycharm": {
     "name": "#%%\n"
    }
   },
   "outputs": [
    {
     "data": {
      "text/plain": "{'Carlsen': 2842,\n 'Caruana': 2822,\n 'Mamedyarov': 2801,\n 'Ding': 2797,\n 'Giri': 2780}"
     },
     "execution_count": 125,
     "metadata": {},
     "output_type": "execute_result"
    }
   ],
   "source": [
    "names = ['Carlsen', 'Caruana', 'Mamedyarov', 'Ding', 'Giri']\n",
    "ratings = [2842, 2822, 2801, 2797, 2780]\n",
    "players = dict(zip(names, ratings))\n",
    "players"
   ]
  },
  {
   "cell_type": "code",
   "execution_count": 126,
   "id": "7193728f",
   "metadata": {
    "pycharm": {
     "name": "#%%\n"
    }
   },
   "outputs": [
    {
     "data": {
      "text/plain": "97"
     },
     "execution_count": 126,
     "metadata": {},
     "output_type": "execute_result"
    }
   ],
   "source": [
    "code = ord('a')\n",
    "code"
   ]
  },
  {
   "cell_type": "code",
   "execution_count": 127,
   "id": "f75440cc",
   "metadata": {
    "pycharm": {
     "name": "#%%\n"
    }
   },
   "outputs": [
    {
     "data": {
      "text/plain": "'a'"
     },
     "execution_count": 127,
     "metadata": {},
     "output_type": "execute_result"
    }
   ],
   "source": [
    "c = chr(code)\n",
    "c"
   ]
  },
  {
   "cell_type": "code",
   "execution_count": 128,
   "id": "41d98454",
   "metadata": {
    "pycharm": {
     "name": "#%%\n"
    }
   },
   "outputs": [],
   "source": [
    "def greeting():\n",
    "    print('Hello')\n"
   ]
  },
  {
   "cell_type": "code",
   "execution_count": 129,
   "id": "f2a0bdaf",
   "metadata": {
    "pycharm": {
     "name": "#%%\n"
    }
   },
   "outputs": [
    {
     "name": "stdout",
     "output_type": "stream",
     "text": [
      "Hello\n"
     ]
    }
   ],
   "source": [
    "greeting()"
   ]
  },
  {
   "cell_type": "code",
   "execution_count": 130,
   "id": "7118a407",
   "metadata": {
    "pycharm": {
     "name": "#%%\n"
    }
   },
   "outputs": [
    {
     "data": {
      "text/plain": "<function __main__.greeting()>"
     },
     "execution_count": 130,
     "metadata": {},
     "output_type": "execute_result"
    }
   ],
   "source": [
    "greeting"
   ]
  },
  {
   "cell_type": "code",
   "execution_count": 131,
   "id": "73c4454a",
   "metadata": {
    "pycharm": {
     "name": "#%%\n"
    }
   },
   "outputs": [
    {
     "name": "stdout",
     "output_type": "stream",
     "text": [
      "Help on function greeting in module __main__:\n",
      "\n",
      "greeting()\n",
      "\n"
     ]
    }
   ],
   "source": [
    "help(greeting)"
   ]
  },
  {
   "cell_type": "code",
   "execution_count": 132,
   "id": "68b0e1ce",
   "metadata": {
    "pycharm": {
     "name": "#%%\n"
    }
   },
   "outputs": [],
   "source": [
    "def print_name(name='Default'):\n",
    "    print(name)"
   ]
  },
  {
   "cell_type": "code",
   "execution_count": 133,
   "id": "ce5b2bf4",
   "metadata": {
    "pycharm": {
     "name": "#%%\n"
    }
   },
   "outputs": [
    {
     "name": "stdout",
     "output_type": "stream",
     "text": [
      "Marat\n"
     ]
    }
   ],
   "source": [
    "print_name('Marat')"
   ]
  },
  {
   "cell_type": "code",
   "execution_count": 134,
   "id": "51b8061c",
   "metadata": {
    "pycharm": {
     "name": "#%%\n"
    }
   },
   "outputs": [
    {
     "name": "stdout",
     "output_type": "stream",
     "text": [
      "Default\n"
     ]
    }
   ],
   "source": [
    "print_name()"
   ]
  },
  {
   "cell_type": "code",
   "execution_count": 135,
   "id": "d1f1ce11",
   "metadata": {
    "pycharm": {
     "name": "#%%\n"
    }
   },
   "outputs": [
    {
     "name": "stdout",
     "output_type": "stream",
     "text": [
      "Default\n",
      "None\n",
      "<class 'NoneType'>\n"
     ]
    }
   ],
   "source": [
    "result = print_name()\n",
    "print(result)\n",
    "print(type(result))"
   ]
  },
  {
   "cell_type": "code",
   "execution_count": 136,
   "id": "1e42b697",
   "metadata": {
    "pycharm": {
     "name": "#%%\n"
    }
   },
   "outputs": [
    {
     "data": {
      "text/plain": "'Hello Marat'"
     },
     "execution_count": 136,
     "metadata": {},
     "output_type": "execute_result"
    }
   ],
   "source": [
    "def get_greeting(name):\n",
    "    return 'Hello ' + name\n",
    "\n",
    "\n",
    "greeting = get_greeting('Marat')\n",
    "greeting"
   ]
  },
  {
   "cell_type": "code",
   "execution_count": 137,
   "id": "583861bd",
   "metadata": {
    "pycharm": {
     "name": "#%%\n"
    }
   },
   "outputs": [
    {
     "data": {
      "text/plain": "15"
     },
     "execution_count": 137,
     "metadata": {},
     "output_type": "execute_result"
    }
   ],
   "source": [
    "def get_sum(a, b):\n",
    "    return a + b\n",
    "\n",
    "\n",
    "result = get_sum(10, 5)\n",
    "result"
   ]
  },
  {
   "cell_type": "code",
   "execution_count": 138,
   "id": "034a1582",
   "metadata": {
    "pycharm": {
     "name": "#%%\n"
    }
   },
   "outputs": [
    {
     "data": {
      "text/plain": "True"
     },
     "execution_count": 138,
     "metadata": {},
     "output_type": "execute_result"
    }
   ],
   "source": [
    "def is_adult(age):\n",
    "    return age >= 18\n",
    "\n",
    "\n",
    "is_adult = is_adult(20)\n",
    "is_adult"
   ]
  },
  {
   "cell_type": "code",
   "execution_count": 139,
   "id": "8148d9a6",
   "metadata": {
    "pycharm": {
     "name": "#%%\n"
    }
   },
   "outputs": [
    {
     "name": "stdout",
     "output_type": "stream",
     "text": [
      "True\n",
      "False\n"
     ]
    }
   ],
   "source": [
    "def is_palindrome(text):\n",
    "    return text == text[::-1]\n",
    "\n",
    "\n",
    "print(is_palindrome('aabaa'))\n",
    "print(is_palindrome('aabba'))\n"
   ]
  },
  {
   "cell_type": "code",
   "execution_count": 140,
   "id": "96ff85ce",
   "metadata": {
    "pycharm": {
     "name": "#%%\n"
    }
   },
   "outputs": [],
   "source": [
    "def calc_taxes(p1, p2, p3):\n",
    "    return sum((p1, p2, p3)) * 0.06\n"
   ]
  },
  {
   "cell_type": "code",
   "execution_count": 141,
   "id": "3eb42aed",
   "metadata": {
    "pycharm": {
     "name": "#%%\n"
    }
   },
   "outputs": [
    {
     "data": {
      "text/plain": "3.5999999999999996"
     },
     "execution_count": 141,
     "metadata": {},
     "output_type": "execute_result"
    }
   ],
   "source": [
    "calc_taxes(10, 20, 30)"
   ]
  },
  {
   "cell_type": "code",
   "execution_count": 142,
   "id": "748c516c",
   "metadata": {
    "pycharm": {
     "name": "#%%\n"
    }
   },
   "outputs": [],
   "source": [
    "def calc_taxes(*args):\n",
    "    for x in args:\n",
    "        print(f'Got payment = {x}')\n",
    "    return sum(args) * 0.06"
   ]
  },
  {
   "cell_type": "code",
   "execution_count": 143,
   "id": "02da6037",
   "metadata": {
    "pycharm": {
     "name": "#%%\n"
    }
   },
   "outputs": [
    {
     "name": "stdout",
     "output_type": "stream",
     "text": [
      "Got payment = 10\n",
      "Got payment = 20\n",
      "Got payment = 30\n"
     ]
    },
    {
     "data": {
      "text/plain": "3.5999999999999996"
     },
     "execution_count": 143,
     "metadata": {},
     "output_type": "execute_result"
    }
   ],
   "source": [
    "calc_taxes(10, 20, 30)"
   ]
  },
  {
   "cell_type": "code",
   "execution_count": 144,
   "id": "bb3304e0",
   "metadata": {
    "pycharm": {
     "name": "#%%\n"
    }
   },
   "outputs": [
    {
     "name": "stdout",
     "output_type": "stream",
     "text": [
      "Got payment = 10\n",
      "Got payment = 20\n",
      "Got payment = 30\n",
      "Got payment = 40\n"
     ]
    },
    {
     "data": {
      "text/plain": "6.0"
     },
     "execution_count": 144,
     "metadata": {},
     "output_type": "execute_result"
    }
   ],
   "source": [
    "calc_taxes(10, 20, 30, 40)"
   ]
  },
  {
   "cell_type": "code",
   "execution_count": 145,
   "id": "97824e0d",
   "metadata": {
    "pycharm": {
     "name": "#%%\n"
    }
   },
   "outputs": [
    {
     "name": "stdout",
     "output_type": "stream",
     "text": [
      "Player Carlse has rating 2800\n",
      "Player Giri has rating 2780\n"
     ]
    }
   ],
   "source": [
    "def save_players(**kwargs):\n",
    "    for k, v in kwargs.items():\n",
    "        print(f'Player {k} has rating {v}')\n",
    "\n",
    "\n",
    "save_players(Carlse=2800, Giri=2780)"
   ]
  },
  {
   "cell_type": "code",
   "execution_count": 146,
   "id": "87e83fbd",
   "metadata": {
    "pycharm": {
     "name": "#%%\n"
    }
   },
   "outputs": [],
   "source": [
    "def square(*args):\n",
    "    return [x * x for x in args]\n"
   ]
  },
  {
   "cell_type": "code",
   "execution_count": 147,
   "id": "e850664f",
   "metadata": {
    "pycharm": {
     "name": "#%%\n"
    }
   },
   "outputs": [
    {
     "data": {
      "text/plain": "[1, 4, 9, 16, 25]"
     },
     "execution_count": 147,
     "metadata": {},
     "output_type": "execute_result"
    }
   ],
   "source": [
    "result = square(1, 2, 3, 4, 5)\n",
    "result"
   ]
  },
  {
   "cell_type": "code",
   "execution_count": 148,
   "id": "9a20363e",
   "metadata": {
    "pycharm": {
     "name": "#%%\n"
    }
   },
   "outputs": [],
   "source": [
    "def triple(*args):\n",
    "    return [x * 3 for x in args]\n"
   ]
  },
  {
   "cell_type": "code",
   "execution_count": 149,
   "id": "3e34aac5",
   "metadata": {
    "pycharm": {
     "name": "#%%\n"
    }
   },
   "outputs": [
    {
     "data": {
      "text/plain": "[3, 6, 9, 12, 15]"
     },
     "execution_count": 149,
     "metadata": {},
     "output_type": "execute_result"
    }
   ],
   "source": [
    "result = triple(1, 2, 3, 4, 5)\n",
    "result"
   ]
  },
  {
   "cell_type": "code",
   "execution_count": 150,
   "id": "bbfc88bf",
   "metadata": {
    "pycharm": {
     "name": "#%%\n"
    }
   },
   "outputs": [],
   "source": [
    "def square(number):\n",
    "    return number * number\n",
    "\n",
    "\n",
    "numbers = [1, 2, 3, 4, 5]\n",
    "mapped_seq = map(square, numbers)"
   ]
  },
  {
   "cell_type": "code",
   "execution_count": 151,
   "id": "fe46ab1a",
   "metadata": {
    "pycharm": {
     "name": "#%%\n"
    }
   },
   "outputs": [
    {
     "name": "stdout",
     "output_type": "stream",
     "text": [
      "1\n",
      "4\n",
      "9\n",
      "16\n",
      "25\n"
     ]
    }
   ],
   "source": [
    "for x in mapped_seq:\n",
    "    print(x)"
   ]
  },
  {
   "cell_type": "code",
   "execution_count": 152,
   "id": "54f13b9f",
   "metadata": {
    "pycharm": {
     "name": "#%%\n"
    }
   },
   "outputs": [
    {
     "name": "stdout",
     "output_type": "stream",
     "text": [
      "<class 'map'>\n"
     ]
    }
   ],
   "source": [
    "print(type(mapped_seq))"
   ]
  },
  {
   "cell_type": "code",
   "execution_count": 153,
   "id": "200e3cd8",
   "metadata": {
    "pycharm": {
     "name": "#%%\n"
    }
   },
   "outputs": [
    {
     "data": {
      "text/plain": "[1, 4, 9, 16, 25]"
     },
     "execution_count": 153,
     "metadata": {},
     "output_type": "execute_result"
    }
   ],
   "source": [
    "list(map(square, numbers))"
   ]
  },
  {
   "cell_type": "code",
   "execution_count": 154,
   "id": "42621b95",
   "metadata": {
    "pycharm": {
     "name": "#%%\n"
    }
   },
   "outputs": [],
   "source": [
    "def is_adult(age):\n",
    "    return age >= 18\n",
    "\n",
    "\n",
    "ages = [14, 18, 21, 16, 30]"
   ]
  },
  {
   "cell_type": "code",
   "execution_count": 155,
   "id": "82668612",
   "metadata": {
    "pycharm": {
     "name": "#%%\n"
    }
   },
   "outputs": [
    {
     "data": {
      "text/plain": "<filter at 0x28cfd5e1bb0>"
     },
     "execution_count": 155,
     "metadata": {},
     "output_type": "execute_result"
    }
   ],
   "source": [
    "filter(is_adult, ages)"
   ]
  },
  {
   "cell_type": "code",
   "execution_count": 156,
   "id": "9ea0e7ba",
   "metadata": {
    "pycharm": {
     "name": "#%%\n"
    }
   },
   "outputs": [
    {
     "data": {
      "text/plain": "[18, 21, 30]"
     },
     "execution_count": 156,
     "metadata": {},
     "output_type": "execute_result"
    }
   ],
   "source": [
    "list(filter(is_adult, ages))"
   ]
  },
  {
   "cell_type": "code",
   "execution_count": 157,
   "id": "0ec4bb0e",
   "metadata": {
    "pycharm": {
     "name": "#%%\n"
    }
   },
   "outputs": [
    {
     "data": {
      "text/plain": "[18, 21, 30]"
     },
     "execution_count": 157,
     "metadata": {},
     "output_type": "execute_result"
    }
   ],
   "source": [
    "is_adult = lambda age: age >= 18\n",
    "list(filter(is_adult, ages))"
   ]
  },
  {
   "cell_type": "code",
   "execution_count": 158,
   "id": "e2724918",
   "metadata": {
    "pycharm": {
     "name": "#%%\n"
    }
   },
   "outputs": [
    {
     "data": {
      "text/plain": "[18, 21, 30]"
     },
     "execution_count": 158,
     "metadata": {},
     "output_type": "execute_result"
    }
   ],
   "source": [
    "list(filter(lambda age: age >= 18, ages))"
   ]
  },
  {
   "cell_type": "code",
   "execution_count": 159,
   "id": "fb69e2ef",
   "metadata": {
    "pycharm": {
     "name": "#%%\n"
    }
   },
   "outputs": [],
   "source": [
    "multiplier = lambda x, y: x * y"
   ]
  },
  {
   "cell_type": "code",
   "execution_count": 160,
   "id": "78259830",
   "metadata": {
    "pycharm": {
     "name": "#%%\n"
    }
   },
   "outputs": [
    {
     "data": {
      "text/plain": "400"
     },
     "execution_count": 160,
     "metadata": {},
     "output_type": "execute_result"
    }
   ],
   "source": [
    "multiplier(20, 20)"
   ]
  },
  {
   "cell_type": "code",
   "execution_count": 161,
   "id": "abd5e2e6",
   "metadata": {
    "pycharm": {
     "name": "#%%\n"
    }
   },
   "outputs": [
    {
     "name": "stdout",
     "output_type": "stream",
     "text": [
      "Hello, world!\n"
     ]
    }
   ],
   "source": [
    "def hello_world():\n",
    "    print('Hello, world!')\n",
    "\n",
    "\n",
    "hello_world()"
   ]
  },
  {
   "cell_type": "code",
   "execution_count": 162,
   "id": "54bfdea2",
   "metadata": {
    "pycharm": {
     "name": "#%%\n"
    }
   },
   "outputs": [
    {
     "name": "stdout",
     "output_type": "stream",
     "text": [
      "Hello, world!\n"
     ]
    }
   ],
   "source": [
    "hello2 = hello_world()\n",
    "hello2"
   ]
  },
  {
   "cell_type": "code",
   "execution_count": 163,
   "id": "479373ec",
   "metadata": {
    "pycharm": {
     "name": "#%%\n"
    }
   },
   "outputs": [],
   "source": [
    "def hello_world():\n",
    "    def internal():\n",
    "        print('Hello, world!')\n",
    "\n",
    "    return internal"
   ]
  },
  {
   "cell_type": "code",
   "execution_count": 164,
   "id": "1f961ff7",
   "metadata": {
    "pycharm": {
     "name": "#%%\n"
    }
   },
   "outputs": [
    {
     "data": {
      "text/plain": "<function __main__.hello_world.<locals>.internal()>"
     },
     "execution_count": 164,
     "metadata": {},
     "output_type": "execute_result"
    }
   ],
   "source": [
    "hello2 = hello_world()\n",
    "hello2"
   ]
  },
  {
   "cell_type": "code",
   "execution_count": 165,
   "id": "e87b2490",
   "metadata": {
    "pycharm": {
     "name": "#%%\n"
    }
   },
   "outputs": [
    {
     "name": "stdout",
     "output_type": "stream",
     "text": [
      "Hello, world!\n"
     ]
    }
   ],
   "source": [
    "def say_something(func):\n",
    "    func()\n",
    "\n",
    "\n",
    "def hello_world():\n",
    "    print(\"Hello, world!\")\n",
    "\n",
    "\n",
    "say_something(hello_world)"
   ]
  },
  {
   "cell_type": "code",
   "execution_count": 166,
   "id": "6998c4c8",
   "metadata": {
    "pycharm": {
     "name": "#%%\n"
    }
   },
   "outputs": [],
   "source": [
    "def log_decorator(func):\n",
    "    def wrap():\n",
    "        print(f' Calling func {func}')\n",
    "        func()\n",
    "        print(f'Func {func} finished its work')\n",
    "\n",
    "    return wrap"
   ]
  },
  {
   "cell_type": "code",
   "execution_count": 167,
   "id": "6cdc225e",
   "metadata": {
    "pycharm": {
     "name": "#%%\n"
    }
   },
   "outputs": [],
   "source": [
    "def hello():\n",
    "    print('hello, world')"
   ]
  },
  {
   "cell_type": "code",
   "execution_count": 168,
   "id": "335da24a",
   "metadata": {
    "pycharm": {
     "name": "#%%\n"
    }
   },
   "outputs": [
    {
     "name": "stdout",
     "output_type": "stream",
     "text": [
      " Calling func <function hello at 0x0000028CFD5F4820>\n",
      "hello, world\n",
      "Func <function hello at 0x0000028CFD5F4820> finished its work\n"
     ]
    }
   ],
   "source": [
    "wrapped_by_logger = log_decorator(hello)\n",
    "wrapped_by_logger()"
   ]
  },
  {
   "cell_type": "code",
   "execution_count": 169,
   "id": "be51abb8",
   "metadata": {
    "pycharm": {
     "name": "#%%\n"
    }
   },
   "outputs": [],
   "source": [
    "@log_decorator\n",
    "def hello():\n",
    "    print('hello, world!')"
   ]
  },
  {
   "cell_type": "code",
   "execution_count": 170,
   "id": "98c0c1b9",
   "metadata": {
    "pycharm": {
     "name": "#%%\n"
    }
   },
   "outputs": [
    {
     "name": "stdout",
     "output_type": "stream",
     "text": [
      " Calling func <function hello at 0x0000028CFD5F4A60>\n",
      "hello, world!\n",
      "Func <function hello at 0x0000028CFD5F4A60> finished its work\n"
     ]
    }
   ],
   "source": [
    "hello()"
   ]
  },
  {
   "cell_type": "code",
   "execution_count": 171,
   "id": "1334477f",
   "metadata": {
    "pycharm": {
     "name": "#%%\n"
    }
   },
   "outputs": [],
   "source": [
    "def log_decorator(func):\n",
    "    def wrap():\n",
    "        print(f'Calling func {func}')\n",
    "        func()\n",
    "        print(f'Func {func} finished its work')\n",
    "\n",
    "    return wrap"
   ]
  },
  {
   "cell_type": "code",
   "execution_count": 172,
   "id": "1f02b299",
   "metadata": {
    "pycharm": {
     "name": "#%%\n"
    }
   },
   "outputs": [],
   "source": [
    "@log_decorator\n",
    "def hello():\n",
    "    print('hello, world!')"
   ]
  },
  {
   "cell_type": "code",
   "execution_count": 173,
   "id": "57fe81bb",
   "metadata": {
    "pycharm": {
     "name": "#%%\n"
    }
   },
   "outputs": [
    {
     "name": "stdout",
     "output_type": "stream",
     "text": [
      "Calling func <function hello at 0x0000028CFD5FB430>\n",
      "hello, world!\n",
      "Func <function hello at 0x0000028CFD5FB430> finished its work\n"
     ]
    }
   ],
   "source": [
    "hello()"
   ]
  },
  {
   "cell_type": "code",
   "execution_count": 174,
   "id": "86eb8530",
   "metadata": {
    "pycharm": {
     "name": "#%%\n"
    }
   },
   "outputs": [
    {
     "name": "stdout",
     "output_type": "stream",
     "text": [
      "Help on function wrap in module __main__:\n",
      "\n",
      "wrap()\n",
      "\n"
     ]
    }
   ],
   "source": [
    "help(hello)"
   ]
  },
  {
   "cell_type": "code",
   "execution_count": 175,
   "id": "e7eb7ddb",
   "metadata": {
    "pycharm": {
     "name": "#%%\n"
    }
   },
   "outputs": [],
   "source": [
    "from functools import wraps"
   ]
  },
  {
   "cell_type": "code",
   "execution_count": 176,
   "id": "cbc2a544",
   "metadata": {
    "pycharm": {
     "name": "#%%\n"
    }
   },
   "outputs": [],
   "source": [
    "def log_decorator(func):\n",
    "    @wraps(func)\n",
    "    def wrap(*args, **kwargs):\n",
    "        print(f'Calling func {func}')\n",
    "        func(*args, **kwargs)\n",
    "        print(f'Func {func} finished its work')\n",
    "\n",
    "    return wrap"
   ]
  },
  {
   "cell_type": "code",
   "execution_count": 177,
   "id": "98454ad2",
   "metadata": {
    "pycharm": {
     "name": "#%%\n"
    }
   },
   "outputs": [],
   "source": [
    "@log_decorator\n",
    "def hello():\n",
    "    print('hello, world!')"
   ]
  },
  {
   "cell_type": "code",
   "execution_count": 178,
   "id": "0491bbbc",
   "metadata": {
    "pycharm": {
     "name": "#%%\n"
    }
   },
   "outputs": [
    {
     "name": "stdout",
     "output_type": "stream",
     "text": [
      "Help on function hello in module __main__:\n",
      "\n",
      "hello()\n",
      "\n"
     ]
    }
   ],
   "source": [
    "help(hello)"
   ]
  },
  {
   "cell_type": "code",
   "execution_count": 179,
   "id": "272fefea",
   "metadata": {
    "pycharm": {
     "name": "#%%\n"
    }
   },
   "outputs": [],
   "source": [
    "class Character():\n",
    "    pass"
   ]
  },
  {
   "cell_type": "code",
   "execution_count": 180,
   "id": "c4baef0f",
   "metadata": {
    "pycharm": {
     "name": "#%%\n"
    }
   },
   "outputs": [
    {
     "data": {
      "text/plain": "__main__.Character"
     },
     "execution_count": 180,
     "metadata": {},
     "output_type": "execute_result"
    }
   ],
   "source": [
    "unit = Character()\n",
    "type(unit)"
   ]
  },
  {
   "cell_type": "code",
   "execution_count": 181,
   "id": "2a4040c1",
   "metadata": {
    "pycharm": {
     "name": "#%%\n"
    }
   },
   "outputs": [],
   "source": [
    "class Character():\n",
    "    def __init__(self, actual_race):\n",
    "        self.character_race = actual_race"
   ]
  },
  {
   "cell_type": "code",
   "execution_count": 182,
   "id": "c34436b0",
   "metadata": {
    "pycharm": {
     "name": "#%%\n"
    }
   },
   "outputs": [
    {
     "data": {
      "text/plain": "__main__.Character"
     },
     "execution_count": 182,
     "metadata": {},
     "output_type": "execute_result"
    }
   ],
   "source": [
    "unit = Character(\"Elf\")\n",
    "type(unit)"
   ]
  },
  {
   "cell_type": "code",
   "execution_count": 183,
   "id": "0c9208e7",
   "metadata": {
    "pycharm": {
     "name": "#%%\n"
    }
   },
   "outputs": [
    {
     "data": {
      "text/plain": "'Elf'"
     },
     "execution_count": 183,
     "metadata": {},
     "output_type": "execute_result"
    }
   ],
   "source": [
    "unit.character_race"
   ]
  },
  {
   "cell_type": "code",
   "execution_count": 184,
   "id": "7e7ed056",
   "metadata": {
    "pycharm": {
     "name": "#%%\n"
    }
   },
   "outputs": [],
   "source": [
    "class Character():\n",
    "    def __init__(self, actual_race, damage=10, armor=20):\n",
    "        self.character_race = actual_race\n",
    "        self.damage = damage\n",
    "        self.armor = armor"
   ]
  },
  {
   "cell_type": "code",
   "execution_count": 185,
   "id": "b659236a",
   "metadata": {
    "pycharm": {
     "name": "#%%\n"
    }
   },
   "outputs": [
    {
     "name": "stdout",
     "output_type": "stream",
     "text": [
      "20\n",
      "40\n"
     ]
    }
   ],
   "source": [
    "unit = Character(\"Elf\", damage=20, armor=40)\n",
    "type(unit)\n",
    "print(unit.damage)\n",
    "print(unit.armor)"
   ]
  },
  {
   "cell_type": "code",
   "execution_count": 186,
   "id": "de94585d",
   "metadata": {
    "pycharm": {
     "name": "#%%\n"
    }
   },
   "outputs": [],
   "source": [
    "class Character():\n",
    "    max_speed = 100\n",
    "    dead_health = 0\n",
    "\n",
    "    def __init__(self, race, damage=10, armor=20):\n",
    "        self.race = race\n",
    "        self.damage = damage\n",
    "        self.armor = armor\n",
    "        self.health = 100\n",
    "\n",
    "    def hit(self, damage):\n",
    "        self.health -= damage\n",
    "\n",
    "    def is_dead(self):\n",
    "        return self.health == Character.dead_health"
   ]
  },
  {
   "cell_type": "code",
   "execution_count": 187,
   "id": "14792237",
   "metadata": {
    "pycharm": {
     "name": "#%%\n"
    }
   },
   "outputs": [
    {
     "name": "stdout",
     "output_type": "stream",
     "text": [
      "Ork\n",
      "100\n"
     ]
    }
   ],
   "source": [
    "unit = Character(\"Ork\")\n",
    "print(unit.race)\n",
    "print(Character.max_speed)"
   ]
  },
  {
   "cell_type": "code",
   "execution_count": 188,
   "id": "394183d7",
   "metadata": {
    "pycharm": {
     "name": "#%%\n"
    }
   },
   "outputs": [
    {
     "name": "stdout",
     "output_type": "stream",
     "text": [
      "80\n"
     ]
    }
   ],
   "source": [
    "unit.hit(20)\n",
    "print(unit.health)"
   ]
  },
  {
   "cell_type": "code",
   "execution_count": 189,
   "id": "7171883c",
   "metadata": {
    "pycharm": {
     "name": "#%%\n"
    }
   },
   "outputs": [
    {
     "data": {
      "text/plain": "False"
     },
     "execution_count": 189,
     "metadata": {},
     "output_type": "execute_result"
    }
   ],
   "source": [
    "unit.is_dead()"
   ]
  },
  {
   "cell_type": "code",
   "execution_count": 190,
   "id": "10d1b420",
   "metadata": {
    "pycharm": {
     "name": "#%%\n"
    }
   },
   "outputs": [],
   "source": [
    "unit.hit(80)"
   ]
  },
  {
   "cell_type": "code",
   "execution_count": 191,
   "id": "28a96a92",
   "metadata": {
    "pycharm": {
     "name": "#%%\n"
    }
   },
   "outputs": [
    {
     "data": {
      "text/plain": "True"
     },
     "execution_count": 191,
     "metadata": {},
     "output_type": "execute_result"
    }
   ],
   "source": [
    "unit.is_dead()"
   ]
  },
  {
   "cell_type": "code",
   "execution_count": 192,
   "id": "1db54e8c",
   "metadata": {
    "pycharm": {
     "name": "#%%\n"
    }
   },
   "outputs": [
    {
     "data": {
      "text/plain": "-200"
     },
     "execution_count": 192,
     "metadata": {},
     "output_type": "execute_result"
    }
   ],
   "source": [
    "unit.health = -200\n",
    "unit.health"
   ]
  },
  {
   "cell_type": "code",
   "execution_count": 193,
   "id": "a79ea324",
   "metadata": {
    "pycharm": {
     "name": "#%%\n"
    }
   },
   "outputs": [],
   "source": [
    "class Character():\n",
    "    MAX_SPEED = 100\n",
    "\n",
    "    def __init__(self, race, damage=10):\n",
    "        self.damage = damage\n",
    "        self.__race = race\n",
    "        self._health = 100\n",
    "        self._current_speed = 20\n",
    "\n",
    "    def hit(self, damage):\n",
    "        self._health -= damage\n",
    "\n",
    "    @property\n",
    "    def health(self):\n",
    "        return self._health\n",
    "\n",
    "    @property\n",
    "    def race(self):\n",
    "        return self.__race\n",
    "\n",
    "    @property\n",
    "    def current_speed(self):\n",
    "        return self._current_speed\n",
    "\n",
    "    @current_speed.setter\n",
    "    def current_speed(self, current_speed):\n",
    "        if current_speed < 0:\n",
    "            self._current_speed = 0\n",
    "        elif current_speed > 100:\n",
    "            self._current_speed = 100\n",
    "        else:\n",
    "            self._current_speed = current_speed\n"
   ]
  },
  {
   "cell_type": "code",
   "execution_count": 194,
   "id": "2c03e62e",
   "metadata": {
    "pycharm": {
     "name": "#%%\n"
    }
   },
   "outputs": [
    {
     "data": {
      "text/plain": "100"
     },
     "execution_count": 194,
     "metadata": {},
     "output_type": "execute_result"
    }
   ],
   "source": [
    "Character.MAX_SPEED"
   ]
  },
  {
   "cell_type": "code",
   "execution_count": 195,
   "id": "53fb23af",
   "metadata": {
    "pycharm": {
     "name": "#%%\n"
    }
   },
   "outputs": [
    {
     "data": {
      "text/plain": "10"
     },
     "execution_count": 195,
     "metadata": {},
     "output_type": "execute_result"
    }
   ],
   "source": [
    "Character.MAX_SPEED = 10\n",
    "Character.MAX_SPEED"
   ]
  },
  {
   "cell_type": "code",
   "execution_count": 196,
   "id": "dae8a651",
   "metadata": {
    "pycharm": {
     "name": "#%%\n"
    }
   },
   "outputs": [],
   "source": [
    "c = Character('Elf')"
   ]
  },
  {
   "cell_type": "code",
   "execution_count": 197,
   "id": "d4c3800a",
   "metadata": {
    "pycharm": {
     "name": "#%%\n"
    }
   },
   "outputs": [],
   "source": [
    "#c.__race\n",
    "#AttributeError: 'Character' object has no attribute '__race'"
   ]
  },
  {
   "cell_type": "code",
   "execution_count": 198,
   "id": "c33034c3",
   "metadata": {
    "pycharm": {
     "name": "#%%\n"
    }
   },
   "outputs": [
    {
     "data": {
      "text/plain": "'Ork'"
     },
     "execution_count": 198,
     "metadata": {},
     "output_type": "execute_result"
    }
   ],
   "source": [
    "c._Character__race = \"Ork\"\n",
    "c._Character__race"
   ]
  },
  {
   "cell_type": "code",
   "execution_count": 199,
   "id": "68ac045d",
   "metadata": {
    "pycharm": {
     "name": "#%%\n"
    }
   },
   "outputs": [
    {
     "data": {
      "text/plain": "0"
     },
     "execution_count": 199,
     "metadata": {},
     "output_type": "execute_result"
    }
   ],
   "source": [
    "c._health = 0\n",
    "c._health"
   ]
  },
  {
   "cell_type": "code",
   "execution_count": 200,
   "id": "63310897",
   "metadata": {
    "pycharm": {
     "name": "#%%\n"
    }
   },
   "outputs": [
    {
     "data": {
      "text/plain": "0"
     },
     "execution_count": 200,
     "metadata": {},
     "output_type": "execute_result"
    }
   ],
   "source": [
    "c._health = 0\n",
    "c._health"
   ]
  },
  {
   "cell_type": "code",
   "execution_count": 201,
   "id": "a6079a84",
   "metadata": {
    "pycharm": {
     "name": "#%%\n"
    }
   },
   "outputs": [
    {
     "name": "stdout",
     "output_type": "stream",
     "text": [
      "0\n",
      "Ork\n"
     ]
    }
   ],
   "source": [
    "print(c.health)\n",
    "print(c.race)"
   ]
  },
  {
   "cell_type": "code",
   "execution_count": 202,
   "id": "d2e292f8",
   "metadata": {
    "pycharm": {
     "name": "#%%\n"
    }
   },
   "outputs": [],
   "source": [
    "#c.health = 10\n",
    "#AttributeError: can't set attribute"
   ]
  },
  {
   "cell_type": "code",
   "execution_count": 203,
   "id": "24dbd0ef",
   "metadata": {
    "pycharm": {
     "name": "#%%\n"
    }
   },
   "outputs": [
    {
     "data": {
      "text/plain": "50"
     },
     "execution_count": 203,
     "metadata": {},
     "output_type": "execute_result"
    }
   ],
   "source": [
    "c.current_speed = 50\n",
    "c.current_speed"
   ]
  },
  {
   "cell_type": "code",
   "execution_count": 204,
   "id": "38e376d1",
   "metadata": {
    "pycharm": {
     "name": "#%%\n"
    }
   },
   "outputs": [
    {
     "data": {
      "text/plain": "100"
     },
     "execution_count": 204,
     "metadata": {},
     "output_type": "execute_result"
    }
   ],
   "source": [
    "c.current_speed = 1000\n",
    "c.current_speed"
   ]
  },
  {
   "cell_type": "code",
   "execution_count": 205,
   "id": "829e46df",
   "metadata": {
    "pycharm": {
     "name": "#%%\n"
    }
   },
   "outputs": [
    {
     "data": {
      "text/plain": "0"
     },
     "execution_count": 205,
     "metadata": {},
     "output_type": "execute_result"
    }
   ],
   "source": [
    "c.current_speed = -1000\n",
    "c.current_speed"
   ]
  },
  {
   "cell_type": "code",
   "execution_count": 206,
   "id": "547fb6dc",
   "metadata": {
    "pycharm": {
     "name": "#%%\n"
    }
   },
   "outputs": [],
   "source": [
    "class StaticTest:\n",
    "    x = 1"
   ]
  },
  {
   "cell_type": "code",
   "execution_count": 207,
   "id": "b076ec34",
   "metadata": {
    "pycharm": {
     "name": "#%%\n"
    }
   },
   "outputs": [],
   "source": [
    "t1 = StaticTest()"
   ]
  },
  {
   "cell_type": "code",
   "execution_count": 208,
   "id": "1a5effc0",
   "metadata": {
    "pycharm": {
     "name": "#%%\n"
    }
   },
   "outputs": [
    {
     "name": "stdout",
     "output_type": "stream",
     "text": [
      "via instance: 1\n",
      "via class: 1\n"
     ]
    }
   ],
   "source": [
    "print(f'via instance: {t1.x}')\n",
    "print(f'via class: {StaticTest.x}')"
   ]
  },
  {
   "cell_type": "code",
   "execution_count": 209,
   "id": "85538b07",
   "metadata": {
    "pycharm": {
     "name": "#%%\n"
    }
   },
   "outputs": [],
   "source": [
    "t1.x = 777"
   ]
  },
  {
   "cell_type": "code",
   "execution_count": 210,
   "id": "41d2cb3d",
   "metadata": {
    "pycharm": {
     "name": "#%%\n"
    }
   },
   "outputs": [
    {
     "name": "stdout",
     "output_type": "stream",
     "text": [
      "via instance: 777\n",
      "via class: 1\n"
     ]
    }
   ],
   "source": [
    "print(f'via instance: {t1.x}')\n",
    "print(f'via class: {StaticTest.x}')"
   ]
  },
  {
   "cell_type": "code",
   "execution_count": 211,
   "id": "88db80f7",
   "metadata": {
    "pycharm": {
     "name": "#%%\n"
    }
   },
   "outputs": [],
   "source": [
    "StaticTest.x = 999"
   ]
  },
  {
   "cell_type": "code",
   "execution_count": 212,
   "id": "ff9ee790",
   "metadata": {
    "pycharm": {
     "name": "#%%\n"
    }
   },
   "outputs": [
    {
     "name": "stdout",
     "output_type": "stream",
     "text": [
      "via instance: 777\n",
      "via class: 999\n"
     ]
    }
   ],
   "source": [
    "print(f'via instance: {t1.x}')\n",
    "print(f'via class: {StaticTest.x}')"
   ]
  },
  {
   "cell_type": "code",
   "execution_count": 213,
   "id": "0ddc7b26",
   "metadata": {
    "pycharm": {
     "name": "#%%\n"
    }
   },
   "outputs": [],
   "source": [
    "class Date:\n",
    "    def __init__(self, month, day, year):\n",
    "        self.month = month\n",
    "        self.day = day\n",
    "        self.year = year\n",
    "\n",
    "    def display(self):\n",
    "        return f\"{self.month}-{self.day}-{self.year}\"\n",
    "\n",
    "    @classmethod\n",
    "    def millenium_c(cls, month, day):\n",
    "        return cls(month, day, 2000)\n",
    "\n",
    "    @staticmethod\n",
    "    def millenium_s(month, day):\n",
    "        return Date(month, day, 2000)"
   ]
  },
  {
   "cell_type": "code",
   "execution_count": 214,
   "id": "3236ea24",
   "metadata": {
    "pycharm": {
     "name": "#%%\n"
    }
   },
   "outputs": [
    {
     "name": "stdout",
     "output_type": "stream",
     "text": [
      "6-9-2000\n",
      "6-9-2000\n"
     ]
    }
   ],
   "source": [
    "d1 = Date.millenium_c(6, 9)\n",
    "d2 = Date.millenium_s(6, 9)\n",
    "print(d1.display())\n",
    "print(d2.display())"
   ]
  },
  {
   "cell_type": "code",
   "execution_count": 215,
   "id": "8ebdc5a6",
   "metadata": {
    "pycharm": {
     "name": "#%%\n"
    }
   },
   "outputs": [],
   "source": [
    "class DateTime(Date):\n",
    "    def display(self):\n",
    "        return f\"{self.month}-{self.day}-{self.year} - 00:00:00PM\"\n"
   ]
  },
  {
   "cell_type": "code",
   "execution_count": 216,
   "id": "c369bd32",
   "metadata": {
    "pycharm": {
     "name": "#%%\n"
    }
   },
   "outputs": [
    {
     "name": "stdout",
     "output_type": "stream",
     "text": [
      "True\n",
      "True\n",
      "10-10-1990 - 00:00:00PM\n",
      "10-10-2000 - 00:00:00PM\n"
     ]
    }
   ],
   "source": [
    "dt1 = DateTime(10, 10, 1990)\n",
    "dt2 = DateTime.millenium_c(10, 10)\n",
    "\n",
    "print(isinstance(dt1, DateTime))\n",
    "print(isinstance(dt2, DateTime))\n",
    "print(dt1.display())\n",
    "print(dt2.display())"
   ]
  },
  {
   "cell_type": "code",
   "execution_count": 217,
   "id": "f686fe2b",
   "metadata": {
    "pycharm": {
     "name": "#%%\n"
    }
   },
   "outputs": [],
   "source": [
    "class StrConverter:\n",
    "    @staticmethod\n",
    "    def to_str(bytes_or_str):\n",
    "        if isinstance(bytes_or_str, bytes):\n",
    "            value = bytes_or_str.decode('utf-8')\n",
    "        else:\n",
    "            value = bytes_or_str\n",
    "        return value\n",
    "\n",
    "    @staticmethod\n",
    "    def to_bytes(bytes_or_str):\n",
    "        if isinstance(bytes_or_str, str):\n",
    "            value = bytes_or_str.encode('utf-8')\n",
    "        else:\n",
    "            value = bytes_or_str\n",
    "        return value"
   ]
  },
  {
   "cell_type": "code",
   "execution_count": 218,
   "id": "58ca0572",
   "metadata": {
    "pycharm": {
     "name": "#%%\n"
    }
   },
   "outputs": [
    {
     "name": "stdout",
     "output_type": "stream",
     "text": [
      "A\n",
      "A\n"
     ]
    }
   ],
   "source": [
    "print(StrConverter.to_str('\\x41'))\n",
    "print(StrConverter.to_str('A'))"
   ]
  },
  {
   "cell_type": "code",
   "execution_count": 219,
   "id": "49c22e3c",
   "metadata": {
    "pycharm": {
     "name": "#%%\n"
    }
   },
   "outputs": [
    {
     "name": "stdout",
     "output_type": "stream",
     "text": [
      "b'A'\n",
      "b'A'\n"
     ]
    }
   ],
   "source": [
    "print(StrConverter.to_bytes('\\x41'))\n",
    "print(StrConverter.to_bytes('A'))"
   ]
  },
  {
   "cell_type": "code",
   "execution_count": 220,
   "id": "e1e0bb0c",
   "metadata": {
    "pycharm": {
     "name": "#%%\n"
    }
   },
   "outputs": [],
   "source": [
    "class Shape():\n",
    "    def __init__(self):\n",
    "        print('Shape created')\n",
    "\n",
    "    def draw(self):\n",
    "        print('Drawing a shape')\n",
    "\n",
    "    def area(self):\n",
    "        print('Calc area')\n",
    "\n",
    "    def perimeter(self):\n",
    "        print('Cals perimeter')"
   ]
  },
  {
   "cell_type": "code",
   "execution_count": 221,
   "id": "38f15e22",
   "metadata": {
    "pycharm": {
     "name": "#%%\n"
    }
   },
   "outputs": [
    {
     "name": "stdout",
     "output_type": "stream",
     "text": [
      "Shape created\n"
     ]
    }
   ],
   "source": [
    "shape = Shape()"
   ]
  },
  {
   "cell_type": "code",
   "execution_count": 222,
   "id": "4ed84020",
   "metadata": {
    "pycharm": {
     "name": "#%%\n"
    }
   },
   "outputs": [],
   "source": [
    "class Rectangle(Shape):\n",
    "    def __init__(self, width, height):\n",
    "        Shape.__init__(self)\n",
    "        self.width = width\n",
    "        self.height = height\n",
    "        print('Rectangle created')\n",
    "        Shape.area(self)\n",
    "\n",
    "    def area(self):\n",
    "        return self.width * self.height\n",
    "\n",
    "    def perimeter(self):\n",
    "        return 2 * (self.width + self.height)\n",
    "\n",
    "    def draw(self):\n",
    "        print(f'Drawing rectangle with width = {self.width} and height = {self.height}')"
   ]
  },
  {
   "cell_type": "code",
   "execution_count": 223,
   "id": "fec7830e",
   "metadata": {
    "pycharm": {
     "name": "#%%\n"
    }
   },
   "outputs": [
    {
     "name": "stdout",
     "output_type": "stream",
     "text": [
      "Shape created\n",
      "Rectangle created\n",
      "Calc area\n"
     ]
    }
   ],
   "source": [
    "rect = Rectangle(10, 15)"
   ]
  },
  {
   "cell_type": "code",
   "execution_count": 224,
   "id": "acf9c893",
   "metadata": {
    "pycharm": {
     "name": "#%%\n"
    }
   },
   "outputs": [
    {
     "data": {
      "text/plain": "150"
     },
     "execution_count": 224,
     "metadata": {},
     "output_type": "execute_result"
    }
   ],
   "source": [
    "rect.area()"
   ]
  },
  {
   "cell_type": "code",
   "execution_count": 225,
   "id": "18cdc474",
   "metadata": {
    "pycharm": {
     "name": "#%%\n"
    }
   },
   "outputs": [
    {
     "name": "stdout",
     "output_type": "stream",
     "text": [
      "50\n",
      "Drawing rectangle with width = 10 and height = 15\n",
      "None\n"
     ]
    }
   ],
   "source": [
    "print(rect.perimeter())\n",
    "print(rect.draw())"
   ]
  },
  {
   "cell_type": "code",
   "execution_count": 226,
   "id": "3c816f4a",
   "metadata": {
    "pycharm": {
     "name": "#%%\n"
    }
   },
   "outputs": [],
   "source": [
    "import math\n",
    "\n",
    "\n",
    "class Triangle(Shape):\n",
    "    def __init__(self, a, b, c):\n",
    "        Shape.__init__(self)\n",
    "        self.a = a\n",
    "        self.b = b\n",
    "        self.c = c\n",
    "        print('Triangle created')\n",
    "\n",
    "    def draw(self):\n",
    "        print(f'Drawing triangle widh sides = {self.a}, {self.b}, {self.c}')\n",
    "\n",
    "    def area(self):\n",
    "        s = (self.a + self.b + self.c) / 2\n",
    "        return math.sqrt(s * (s - self.a) * (s - self.b) * (s - self.c))\n",
    "\n",
    "    def perimeter(self):\n",
    "        return self.a + self.b + self.c\n",
    "\n"
   ]
  },
  {
   "cell_type": "code",
   "execution_count": 227,
   "id": "3e7a7876",
   "metadata": {
    "pycharm": {
     "name": "#%%\n"
    }
   },
   "outputs": [
    {
     "name": "stdout",
     "output_type": "stream",
     "text": [
      "Shape created\n",
      "Triangle created\n"
     ]
    }
   ],
   "source": [
    "triangle = Triangle(10, 10, 10)"
   ]
  },
  {
   "cell_type": "code",
   "execution_count": 228,
   "id": "4e743733",
   "metadata": {
    "pycharm": {
     "name": "#%%\n"
    }
   },
   "outputs": [
    {
     "name": "stdout",
     "output_type": "stream",
     "text": [
      "Drawing triangle widh sides = 10, 10, 10\n",
      "43.30127018922193\n",
      "30\n"
     ]
    }
   ],
   "source": [
    "triangle.draw()\n",
    "print(triangle.area())\n",
    "print(triangle.perimeter())"
   ]
  },
  {
   "cell_type": "code",
   "execution_count": 229,
   "id": "6f38622d",
   "metadata": {
    "pycharm": {
     "name": "#%%\n"
    }
   },
   "outputs": [
    {
     "name": "stdout",
     "output_type": "stream",
     "text": [
      "Drawing rectangle with width = 10 and height = 15\n",
      "Drawing triangle widh sides = 10, 10, 10\n"
     ]
    }
   ],
   "source": [
    "for shape in [rect, triangle]:\n",
    "    shape.draw()"
   ]
  },
  {
   "cell_type": "code",
   "execution_count": 230,
   "id": "55f45134",
   "metadata": {
    "pycharm": {
     "name": "#%%\n"
    }
   },
   "outputs": [],
   "source": [
    "class Animal:\n",
    "    def die(self):\n",
    "        print('bye-bye')\n",
    "        self.health = 0\n",
    "\n",
    "\n",
    "class Carnivour:\n",
    "    def hunt(self):\n",
    "        print('eating')\n",
    "        self.satiety = 100\n",
    "\n",
    "\n",
    "class Dog(Animal, Carnivour):\n",
    "    def bark(self):\n",
    "        print('woof-woof')"
   ]
  },
  {
   "cell_type": "code",
   "execution_count": 231,
   "id": "65777c2e",
   "metadata": {
    "pycharm": {
     "name": "#%%\n"
    }
   },
   "outputs": [
    {
     "name": "stdout",
     "output_type": "stream",
     "text": [
      "woof-woof\n",
      "eating\n",
      "bye-bye\n"
     ]
    }
   ],
   "source": [
    "dog = Dog()\n",
    "dog.bark()\n",
    "dog.hunt()\n",
    "dog.die()"
   ]
  },
  {
   "cell_type": "code",
   "execution_count": 232,
   "id": "5ed12e72",
   "metadata": {
    "pycharm": {
     "name": "#%%\n"
    }
   },
   "outputs": [],
   "source": [
    "class Animal:\n",
    "    def set_health(self, health):\n",
    "        print('set in animal')\n",
    "\n",
    "\n",
    "class Carnivour(Animal):\n",
    "    def set_health(self, health):\n",
    "        print('set in carnivour')\n",
    "\n",
    "\n",
    "class Mammal(Animal):\n",
    "    def set_health(self, health):\n",
    "        print('set in mammal')\n",
    "\n",
    "\n",
    "class Dog(Mammal, Carnivour):\n",
    "    pass"
   ]
  },
  {
   "cell_type": "code",
   "execution_count": 233,
   "id": "4f2781bf",
   "metadata": {
    "pycharm": {
     "name": "#%%\n"
    }
   },
   "outputs": [
    {
     "name": "stdout",
     "output_type": "stream",
     "text": [
      "set in mammal\n"
     ]
    }
   ],
   "source": [
    "dog = Dog()\n",
    "dog.set_health(10)"
   ]
  },
  {
   "cell_type": "code",
   "execution_count": 234,
   "id": "95ce95a4",
   "metadata": {
    "pycharm": {
     "name": "#%%\n"
    }
   },
   "outputs": [],
   "source": [
    "class Animal:\n",
    "    def set_health(self, health):\n",
    "        print('set in animal')\n",
    "\n",
    "\n",
    "class Carnivour(Animal):\n",
    "    def set_health(self, health):\n",
    "        print('set in carnivour')\n",
    "\n",
    "\n",
    "class Mammal(Animal):\n",
    "    def set_health(self, health):\n",
    "        print('set in mammal')\n",
    "\n",
    "\n",
    "class Dog(Mammal, Carnivour):\n",
    "    def set_health(self, health):\n",
    "        Mammal.set_health(self, health)\n",
    "        Carnivour.set_health(self, health)\n",
    "        Animal.set_health(self, health)\n",
    "        print('set in dog')"
   ]
  },
  {
   "cell_type": "code",
   "execution_count": 235,
   "id": "b5873afa",
   "metadata": {
    "pycharm": {
     "name": "#%%\n"
    }
   },
   "outputs": [
    {
     "name": "stdout",
     "output_type": "stream",
     "text": [
      "set in mammal\n",
      "set in carnivour\n",
      "set in animal\n",
      "set in dog\n"
     ]
    }
   ],
   "source": [
    "dog = Dog()\n",
    "dog.set_health(10)"
   ]
  },
  {
   "cell_type": "code",
   "execution_count": 236,
   "id": "29575862",
   "metadata": {
    "pycharm": {
     "name": "#%%\n"
    }
   },
   "outputs": [],
   "source": [
    "class Animal:\n",
    "    def set_health(self, health):\n",
    "        print('set in animal')\n",
    "\n",
    "\n",
    "class Carnivour(Animal):\n",
    "    def set_health(self, health):\n",
    "        Animal.set_health(self, health)\n",
    "        print('set in carnivour')\n",
    "\n",
    "\n",
    "class Mammal(Animal):\n",
    "    def set_health(self, health):\n",
    "        Animal.set_health(self, health)\n",
    "        print('set in mammal')\n",
    "\n",
    "\n",
    "class Dog(Mammal, Carnivour):\n",
    "    def set_health(self, health):\n",
    "        Mammal.set_health(self, health)\n",
    "        Carnivour.set_health(self, health)\n",
    "        print('set in dog')"
   ]
  },
  {
   "cell_type": "code",
   "execution_count": 237,
   "id": "1adc2765",
   "metadata": {
    "pycharm": {
     "name": "#%%\n"
    }
   },
   "outputs": [
    {
     "name": "stdout",
     "output_type": "stream",
     "text": [
      "set in animal\n",
      "set in mammal\n",
      "set in animal\n",
      "set in carnivour\n",
      "set in dog\n"
     ]
    }
   ],
   "source": [
    "dog = Dog()\n",
    "dog.set_health(10)"
   ]
  },
  {
   "cell_type": "code",
   "execution_count": 238,
   "id": "8305b00d",
   "metadata": {
    "pycharm": {
     "name": "#%%\n"
    }
   },
   "outputs": [],
   "source": [
    "class Animal:\n",
    "    def set_health(self, health):\n",
    "        print('set in animal')\n",
    "\n",
    "\n",
    "class Carnivour(Animal):\n",
    "    def set_health(self, health):\n",
    "        super().set_health(health)\n",
    "        print('set in carnivour')\n",
    "\n",
    "\n",
    "class Mammal(Animal):\n",
    "    def set_health(self, health):\n",
    "        super().set_health(health)\n",
    "        print('set in mammal')\n",
    "\n",
    "\n",
    "class Dog(Mammal, Carnivour):\n",
    "    def set_health(self, health):\n",
    "        super().set_health(health)\n",
    "        #Mammal.set_health(self, health)\n",
    "        #Carnivour.set_health(self, health)\n",
    "        print('set in dog')"
   ]
  },
  {
   "cell_type": "code",
   "execution_count": 239,
   "id": "904c237e",
   "metadata": {
    "pycharm": {
     "name": "#%%\n"
    }
   },
   "outputs": [
    {
     "name": "stdout",
     "output_type": "stream",
     "text": [
      "set in animal\n",
      "set in carnivour\n",
      "set in mammal\n",
      "set in dog\n"
     ]
    }
   ],
   "source": [
    "dog = Dog()\n",
    "dog.set_health(10)"
   ]
  },
  {
   "cell_type": "code",
   "execution_count": 240,
   "id": "d3c1e7d4",
   "metadata": {
    "pycharm": {
     "name": "#%%\n"
    }
   },
   "outputs": [],
   "source": [
    "class Animal:\n",
    "    def __init__(self):\n",
    "        self.health = 100\n",
    "\n",
    "    def hit(self, damage):\n",
    "        self.health -= damage\n",
    "\n",
    "\n",
    "class Carnivour(Animal):\n",
    "    def __init__(self):\n",
    "        super().__init__()\n",
    "        self.legs = 4"
   ]
  },
  {
   "cell_type": "code",
   "execution_count": 241,
   "id": "797ceb71",
   "metadata": {
    "pycharm": {
     "name": "#%%\n"
    }
   },
   "outputs": [
    {
     "name": "stdout",
     "output_type": "stream",
     "text": [
      "90\n"
     ]
    }
   ],
   "source": [
    "c = Carnivour()\n",
    "c.hit(10)\n",
    "print(c.health)"
   ]
  },
  {
   "cell_type": "code",
   "execution_count": 242,
   "id": "a16f6d96",
   "metadata": {
    "pycharm": {
     "name": "#%%\n"
    }
   },
   "outputs": [],
   "source": [
    "class Vehicle:\n",
    "    def __init__(self, position):\n",
    "        self.position = position\n",
    "\n",
    "    def travel(self, destination):\n",
    "        route = calculate_route(source=self.position, to=destination)\n",
    "        self.move_along(route)\n",
    "\n",
    "    def calculate_route(self, source, to):\n",
    "        return 0\n",
    "\n",
    "    def move_along(self, route):\n",
    "        print(\"moving\")\n",
    "\n",
    "\n",
    "class Car(Vehicle):\n",
    "    pass\n",
    "\n",
    "\n",
    "class Airplane(Vehicle):\n",
    "    pass\n",
    "\n"
   ]
  },
  {
   "cell_type": "code",
   "execution_count": 243,
   "id": "bbf2b07f",
   "metadata": {
    "pycharm": {
     "name": "#%%\n"
    }
   },
   "outputs": [],
   "source": [
    "class RadioMixin:\n",
    "    def __init__(self):\n",
    "        self.radio = Radio()\n",
    "\n",
    "    def turn_on(self, station):\n",
    "        self.radio.set_station(station)\n",
    "        self.radio.play()\n",
    "\n",
    "\n",
    "class Radio:\n",
    "    def set_station(self, station):\n",
    "        self.station = station\n",
    "\n",
    "    def play(self):\n",
    "        print(f\"Playing {self.station}\")\n",
    "\n",
    "\n",
    "class Car(Vehicle, RadioMixin):\n",
    "    def __init__(self):\n",
    "        Vehicle.__init__(self, (10, 20))\n",
    "        RadioMixin.__init__(self)\n"
   ]
  },
  {
   "cell_type": "code",
   "execution_count": 244,
   "id": "66ca6c25",
   "metadata": {
    "pycharm": {
     "name": "#%%\n"
    }
   },
   "outputs": [
    {
     "name": "stdout",
     "output_type": "stream",
     "text": [
      "Playing Moscow FM\n"
     ]
    }
   ],
   "source": [
    "car = Car()\n",
    "car.turn_on(\"Moscow FM\")"
   ]
  },
  {
   "cell_type": "code",
   "execution_count": 245,
   "id": "47dc3c5b",
   "metadata": {
    "pycharm": {
     "name": "#%%\n"
    }
   },
   "outputs": [],
   "source": [
    "class ToDictMixin(object):\n",
    "    def to_dict(self):\n",
    "        return self._traverse_dict(self.__dict__)\n",
    "\n",
    "    def _traverse_dict(self, instance_dict):\n",
    "        output = {}\n",
    "        for key, value in instance_dict.items():\n",
    "            output[key] = self._traverse(key, value)\n",
    "        return output\n",
    "\n",
    "    def _traverse(self, key, value):\n",
    "        if isinstance(value, ToDictMixin):\n",
    "            return value.to_dict()\n",
    "        elif isinstance(value, dict):\n",
    "            return self._traverse_dict(value)\n",
    "        elif isinstance(value, list):\n",
    "            return [self._traverse(key, i) for i in value]\n",
    "        elif hasattr(value, '__dict__'):\n",
    "            return self._traverse(value.__dict__)\n",
    "        else:\n",
    "            return value"
   ]
  },
  {
   "cell_type": "code",
   "execution_count": 246,
   "id": "64ed0547",
   "metadata": {
    "pycharm": {
     "name": "#%%\n"
    }
   },
   "outputs": [],
   "source": [
    "class BinaryTree(ToDictMixin):\n",
    "    def __init__(self, value, left=None, right=None):\n",
    "        self.value = value\n",
    "        self.left = left\n",
    "        self.right = right"
   ]
  },
  {
   "cell_type": "code",
   "execution_count": 247,
   "id": "d33a4a25",
   "metadata": {
    "pycharm": {
     "name": "#%%\n"
    }
   },
   "outputs": [
    {
     "name": "stdout",
     "output_type": "stream",
     "text": [
      "{'value': 10, 'left': {'value': 7, 'left': None, 'right': {'value': 9, 'left': None, 'right': None}}, 'right': {'value': 13, 'left': {'value': 11, 'left': None, 'right': None}, 'right': None}}\n"
     ]
    }
   ],
   "source": [
    "tree = BinaryTree(10,\n",
    "                  left=BinaryTree(7, right=BinaryTree(9)),\n",
    "                  right=BinaryTree(13, left=BinaryTree(11)))\n",
    "print(tree.to_dict())"
   ]
  },
  {
   "cell_type": "code",
   "execution_count": 248,
   "id": "18e4798c",
   "metadata": {
    "pycharm": {
     "name": "#%%\n"
    }
   },
   "outputs": [],
   "source": [
    "from abc import ABC\n",
    "from abc import abstractmethod"
   ]
  },
  {
   "cell_type": "code",
   "execution_count": 249,
   "id": "ebe53231",
   "metadata": {
    "pycharm": {
     "name": "#%%\n"
    }
   },
   "outputs": [],
   "source": [
    "class Shape(ABC):\n",
    "    def __init__(self):\n",
    "        super().__init__()\n",
    "\n",
    "    @abstractmethod\n",
    "    def draw(self):\n",
    "        pass\n",
    "\n",
    "    @abstractmethod\n",
    "    def area(self):\n",
    "        pass\n",
    "\n",
    "    @abstractmethod\n",
    "    def perimeter(self):\n",
    "        print('calc perimeter')\n",
    "        # pass\n",
    "\n",
    "    def drag(self):\n",
    "        print('Basic dragging functionality')"
   ]
  },
  {
   "cell_type": "code",
   "execution_count": 250,
   "id": "b65a1bb6",
   "metadata": {
    "pycharm": {
     "name": "#%%\n"
    }
   },
   "outputs": [],
   "source": [
    "import math\n",
    "\n",
    "\n",
    "class Triangle(Shape):\n",
    "    def __init__(self, a, b, c):\n",
    "        self.a = a\n",
    "        self.b = b\n",
    "        self.c = c\n",
    "\n",
    "    def draw(self):\n",
    "        print(f'Drawing triangle with sides = {self.a}, {self.b}, {self.c}')\n",
    "\n",
    "    def area(self):\n",
    "        s = (self.a + self.b + self.c) / 2\n",
    "        return math.sqrt(s * (s - self.a) * (s - self.b) * (s - self.c))\n",
    "\n",
    "    def perimeter(self):\n",
    "        return self.a + self.b + self.c\n",
    "\n",
    "    def drag(self):\n",
    "        super().drag()\n",
    "        print('Additional actions')\n"
   ]
  },
  {
   "cell_type": "code",
   "execution_count": 251,
   "id": "7799187e",
   "metadata": {
    "pycharm": {
     "name": "#%%\n"
    }
   },
   "outputs": [],
   "source": [
    "t = Triangle(10, 10, 10)"
   ]
  },
  {
   "cell_type": "code",
   "execution_count": 252,
   "id": "0037d6d3",
   "metadata": {
    "pycharm": {
     "name": "#%%\n"
    }
   },
   "outputs": [
    {
     "data": {
      "text/plain": "30"
     },
     "execution_count": 252,
     "metadata": {},
     "output_type": "execute_result"
    }
   ],
   "source": [
    "t.perimeter()"
   ]
  },
  {
   "cell_type": "code",
   "execution_count": 253,
   "id": "0242e329",
   "metadata": {
    "pycharm": {
     "name": "#%%\n"
    }
   },
   "outputs": [
    {
     "name": "stdout",
     "output_type": "stream",
     "text": [
      "Basic dragging functionality\n",
      "Additional actions\n"
     ]
    }
   ],
   "source": [
    "t.drag()"
   ]
  },
  {
   "cell_type": "code",
   "execution_count": 254,
   "id": "7935439a",
   "metadata": {
    "pycharm": {
     "name": "#%%\n"
    }
   },
   "outputs": [
    {
     "data": {
      "text/plain": "43.30127018922193"
     },
     "execution_count": 254,
     "metadata": {},
     "output_type": "execute_result"
    }
   ],
   "source": [
    "t.area()"
   ]
  },
  {
   "cell_type": "code",
   "execution_count": 255,
   "id": "72dd291e",
   "metadata": {
    "pycharm": {
     "name": "#%%\n"
    }
   },
   "outputs": [],
   "source": [
    "class Point():\n",
    "    def __init__(self, x, y):\n",
    "        self.x = x\n",
    "        self.y = y\n",
    "\n",
    "    def __str__(self):\n",
    "        return f'Point x = {self.x}, y = {self.y}'"
   ]
  },
  {
   "cell_type": "code",
   "execution_count": 256,
   "id": "9f6c745d",
   "metadata": {
    "pycharm": {
     "name": "#%%\n"
    }
   },
   "outputs": [
    {
     "name": "stdout",
     "output_type": "stream",
     "text": [
      "Point x = 3, y = 4\n"
     ]
    }
   ],
   "source": [
    "p = Point(3, 4)\n",
    "print(p)"
   ]
  },
  {
   "cell_type": "code",
   "execution_count": 257,
   "id": "028823e7",
   "metadata": {
    "pycharm": {
     "name": "#%%\n"
    }
   },
   "outputs": [],
   "source": [
    "class Road():\n",
    "    def __init__(self, length):\n",
    "        self.length = length\n",
    "\n",
    "    def __len__(self):\n",
    "        return self.length\n",
    "\n",
    "    def __str__(self):\n",
    "        return f'A road of length: {self.length}'\n",
    "\n",
    "    def __del__(self):\n",
    "        print(f'The road has been destroyed')"
   ]
  },
  {
   "cell_type": "code",
   "execution_count": 258,
   "id": "875ce9f5",
   "metadata": {
    "pycharm": {
     "name": "#%%\n"
    }
   },
   "outputs": [],
   "source": [
    "r = Road(100)"
   ]
  },
  {
   "cell_type": "code",
   "execution_count": 259,
   "id": "c51cc763",
   "metadata": {
    "pycharm": {
     "name": "#%%\n"
    }
   },
   "outputs": [
    {
     "data": {
      "text/plain": "100"
     },
     "execution_count": 259,
     "metadata": {},
     "output_type": "execute_result"
    }
   ],
   "source": [
    "len(r)"
   ]
  },
  {
   "cell_type": "code",
   "execution_count": 260,
   "id": "d7232754",
   "metadata": {
    "pycharm": {
     "name": "#%%\n"
    }
   },
   "outputs": [
    {
     "name": "stdout",
     "output_type": "stream",
     "text": [
      "A road of length: 100\n"
     ]
    }
   ],
   "source": [
    "print(r)"
   ]
  },
  {
   "cell_type": "code",
   "execution_count": 261,
   "id": "2edbd8eb",
   "metadata": {
    "pycharm": {
     "name": "#%%\n"
    }
   },
   "outputs": [
    {
     "name": "stdout",
     "output_type": "stream",
     "text": [
      "The road has been destroyed\n"
     ]
    }
   ],
   "source": [
    "del r"
   ]
  },
  {
   "cell_type": "code",
   "execution_count": 262,
   "id": "b95beae2",
   "metadata": {
    "pycharm": {
     "name": "#%%\n"
    }
   },
   "outputs": [],
   "source": [
    "class MyStack:\n",
    "    def __init__(self):\n",
    "        self.array = []\n",
    "\n",
    "    def push(self, item):\n",
    "        self.array.append(item)\n",
    "\n",
    "    def pop(self):\n",
    "        popped_item = self.array.pop()\n",
    "        return popped_item\n",
    "\n",
    "    def peek(self):\n",
    "        return self._current()\n",
    "\n",
    "    def _current(self):\n",
    "        return self.array[self.count() - 1]\n",
    "\n",
    "    def count(self):\n",
    "        return len(self.array)\n",
    "\n",
    "    def __iter__(self):\n",
    "        self.index = self.count() - 1\n",
    "        return self\n",
    "\n",
    "    def __next__(self):\n",
    "        if self.index < 0:\n",
    "            raise StopIteration()\n",
    "        result = self.array[self.index]\n",
    "        self.index -= 1\n",
    "        return result"
   ]
  },
  {
   "cell_type": "code",
   "execution_count": 263,
   "id": "f3ade054",
   "metadata": {
    "pycharm": {
     "name": "#%%\n"
    }
   },
   "outputs": [],
   "source": [
    "stack = MyStack()"
   ]
  },
  {
   "cell_type": "code",
   "execution_count": 264,
   "id": "92e0d02f",
   "metadata": {
    "pycharm": {
     "name": "#%%\n"
    }
   },
   "outputs": [],
   "source": [
    "stack.push(1)\n",
    "stack.push(2)\n",
    "stack.push(3)"
   ]
  },
  {
   "cell_type": "code",
   "execution_count": 265,
   "id": "3ba00e7b",
   "metadata": {
    "pycharm": {
     "name": "#%%\n"
    }
   },
   "outputs": [
    {
     "data": {
      "text/plain": "3"
     },
     "execution_count": 265,
     "metadata": {},
     "output_type": "execute_result"
    }
   ],
   "source": [
    "stack.pop()"
   ]
  },
  {
   "cell_type": "code",
   "execution_count": 266,
   "id": "6991cc47",
   "metadata": {
    "pycharm": {
     "name": "#%%\n"
    }
   },
   "outputs": [
    {
     "data": {
      "text/plain": "2"
     },
     "execution_count": 266,
     "metadata": {},
     "output_type": "execute_result"
    }
   ],
   "source": [
    "stack.peek()"
   ]
  },
  {
   "cell_type": "code",
   "execution_count": 267,
   "id": "9417e594",
   "metadata": {
    "pycharm": {
     "name": "#%%\n"
    }
   },
   "outputs": [
    {
     "data": {
      "text/plain": "2"
     },
     "execution_count": 267,
     "metadata": {},
     "output_type": "execute_result"
    }
   ],
   "source": [
    "stack.count()"
   ]
  },
  {
   "cell_type": "code",
   "execution_count": 268,
   "id": "0564ff2b",
   "metadata": {
    "pycharm": {
     "name": "#%%\n"
    }
   },
   "outputs": [],
   "source": [
    "stack.push(4)\n",
    "stack.push(5)\n",
    "stack.push(6)"
   ]
  },
  {
   "cell_type": "code",
   "execution_count": 269,
   "id": "20b2c93e",
   "metadata": {
    "pycharm": {
     "name": "#%%\n"
    }
   },
   "outputs": [
    {
     "name": "stdout",
     "output_type": "stream",
     "text": [
      "6\n",
      "5\n",
      "4\n",
      "2\n",
      "1\n"
     ]
    }
   ],
   "source": [
    "for i in stack:\n",
    "    print(i)"
   ]
  },
  {
   "cell_type": "code",
   "execution_count": 270,
   "id": "712d8e6c",
   "metadata": {
    "pycharm": {
     "name": "#%%\n"
    }
   },
   "outputs": [],
   "source": [
    "from datetime import datetime\n",
    "from datetime import date\n",
    "from datetime import time\n",
    "from datetime import timedelta"
   ]
  },
  {
   "cell_type": "code",
   "execution_count": 271,
   "id": "e58c60b5",
   "metadata": {
    "pycharm": {
     "name": "#%%\n"
    }
   },
   "outputs": [
    {
     "name": "stdout",
     "output_type": "stream",
     "text": [
      "2019-03-12\n",
      "2019\n",
      "3\n",
      "12\n"
     ]
    }
   ],
   "source": [
    "d1 = date(2019, 3, 12)\n",
    "print(d1)\n",
    "print(d1.year)\n",
    "print(d1.month)\n",
    "print(d1.day)"
   ]
  },
  {
   "cell_type": "code",
   "execution_count": 272,
   "id": "a93ccc49",
   "metadata": {
    "pycharm": {
     "name": "#%%\n"
    }
   },
   "outputs": [
    {
     "name": "stdout",
     "output_type": "stream",
     "text": [
      "23:10:59\n",
      "23\n",
      "10\n",
      "59\n"
     ]
    }
   ],
   "source": [
    "t1 = time(23, 10, 59)\n",
    "print(t1)\n",
    "print(t1.hour)\n",
    "print(t1.minute)\n",
    "print(t1.second)"
   ]
  },
  {
   "cell_type": "code",
   "execution_count": 273,
   "id": "7ed21941",
   "metadata": {
    "pycharm": {
     "name": "#%%\n"
    }
   },
   "outputs": [
    {
     "name": "stdout",
     "output_type": "stream",
     "text": [
      "2022-10-23\n"
     ]
    }
   ],
   "source": [
    "print(date.today())"
   ]
  },
  {
   "cell_type": "code",
   "execution_count": 274,
   "id": "0720eefd",
   "metadata": {
    "pycharm": {
     "name": "#%%\n"
    }
   },
   "outputs": [
    {
     "name": "stdout",
     "output_type": "stream",
     "text": [
      "9999-12-31\n",
      "0001-01-01\n",
      "23:59:59.999999\n",
      "00:00:00\n"
     ]
    }
   ],
   "source": [
    "print(date.max)\n",
    "print(date.min)\n",
    "print(time.max)\n",
    "print(time.min)"
   ]
  },
  {
   "cell_type": "code",
   "execution_count": 275,
   "id": "8510ebb8",
   "metadata": {
    "pycharm": {
     "name": "#%%\n"
    }
   },
   "outputs": [],
   "source": [
    "dt = datetime(2010, 3, 12, 15, 00)"
   ]
  },
  {
   "cell_type": "code",
   "execution_count": 276,
   "id": "aec07193",
   "metadata": {
    "pycharm": {
     "name": "#%%\n"
    }
   },
   "outputs": [
    {
     "name": "stdout",
     "output_type": "stream",
     "text": [
      "2010-03-12 15:00:00\n"
     ]
    }
   ],
   "source": [
    "print(dt)"
   ]
  },
  {
   "cell_type": "code",
   "execution_count": 277,
   "id": "081e735a",
   "metadata": {
    "pycharm": {
     "name": "#%%\n"
    }
   },
   "outputs": [
    {
     "name": "stdout",
     "output_type": "stream",
     "text": [
      "2010\n",
      "15\n"
     ]
    }
   ],
   "source": [
    "print(dt.date().year)\n",
    "print(dt.time().hour)"
   ]
  },
  {
   "cell_type": "code",
   "execution_count": 278,
   "id": "4917d520",
   "metadata": {
    "pycharm": {
     "name": "#%%\n"
    }
   },
   "outputs": [
    {
     "name": "stdout",
     "output_type": "stream",
     "text": [
      "2022-10-23 22:14:16.307750\n"
     ]
    }
   ],
   "source": [
    "now = datetime.now()\n",
    "print(now)"
   ]
  },
  {
   "cell_type": "code",
   "execution_count": 279,
   "id": "7afb8204",
   "metadata": {
    "pycharm": {
     "name": "#%%\n"
    }
   },
   "outputs": [
    {
     "name": "stdout",
     "output_type": "stream",
     "text": [
      "2018-10-23 22:14:16.307750\n"
     ]
    }
   ],
   "source": [
    "new_dt = now.replace(year=2018)\n",
    "print(new_dt)"
   ]
  },
  {
   "cell_type": "code",
   "execution_count": 280,
   "id": "7c666dcd",
   "metadata": {
    "pycharm": {
     "name": "#%%\n"
    }
   },
   "outputs": [
    {
     "name": "stdout",
     "output_type": "stream",
     "text": [
      "2022-10-23 22:14:16.307750\n"
     ]
    }
   ],
   "source": [
    "print(now)"
   ]
  },
  {
   "cell_type": "code",
   "execution_count": 281,
   "id": "898b4cd5",
   "metadata": {
    "pycharm": {
     "name": "#%%\n"
    }
   },
   "outputs": [
    {
     "name": "stdout",
     "output_type": "stream",
     "text": [
      "2018-08-30 00:00:00\n",
      "2018-03-29 10:40:00\n",
      "2018-06-28 09:20:00\n",
      "2018-06-28 00:00:00\n"
     ]
    }
   ],
   "source": [
    "dt = datetime.strptime(\"30/08/2018\", \"%d/%m/%Y\")\n",
    "print(dt)\n",
    "dt = datetime.strptime(\"29/03/2018 10:40\", \"%d/%m/%Y %H:%M\")\n",
    "print(dt)\n",
    "dt = datetime.strptime(\"06-28-2018 09:20\", \"%m-%d-%Y %H:%M\")\n",
    "print(dt)\n",
    "dt = datetime.strptime(\"2018-06-28\", \"%Y-%m-%d\")\n",
    "print(dt)"
   ]
  },
  {
   "cell_type": "code",
   "execution_count": 282,
   "id": "3971f228",
   "metadata": {
    "pycharm": {
     "name": "#%%\n"
    }
   },
   "outputs": [
    {
     "data": {
      "text/plain": "'Russian_Russia.1251'"
     },
     "execution_count": 282,
     "metadata": {},
     "output_type": "execute_result"
    }
   ],
   "source": [
    "import locale\n",
    "\n",
    "locale.setlocale(locale.LC_ALL, \"\")"
   ]
  },
  {
   "cell_type": "code",
   "execution_count": 283,
   "id": "73d42ae6",
   "metadata": {
    "pycharm": {
     "name": "#%%\n"
    }
   },
   "outputs": [
    {
     "name": "stdout",
     "output_type": "stream",
     "text": [
      "2022-10-23 (Вс)\n",
      "2022 Октябрь 23 число (воскресенье)\n"
     ]
    }
   ],
   "source": [
    "now = datetime.now()\n",
    "print(now.strftime('%Y-%m-%d (%a)'))\n",
    "print(now.strftime('%Y %B %d число (%A)'))"
   ]
  },
  {
   "cell_type": "code",
   "execution_count": 284,
   "id": "caee1dd2",
   "metadata": {
    "pycharm": {
     "name": "#%%\n"
    }
   },
   "outputs": [
    {
     "name": "stdout",
     "output_type": "stream",
     "text": [
      "3 days, 2:10:00\n"
     ]
    }
   ],
   "source": [
    "delta1 = timedelta(days=3, hours=2, minutes=10)\n",
    "print(delta1)"
   ]
  },
  {
   "cell_type": "code",
   "execution_count": 285,
   "id": "73edd1ce",
   "metadata": {
    "pycharm": {
     "name": "#%%\n"
    }
   },
   "outputs": [],
   "source": [
    "delta2 = timedelta(days=2, hours=1, minutes=5)"
   ]
  },
  {
   "cell_type": "code",
   "execution_count": 286,
   "id": "7be58968",
   "metadata": {
    "pycharm": {
     "name": "#%%\n"
    }
   },
   "outputs": [
    {
     "name": "stdout",
     "output_type": "stream",
     "text": [
      "1 day, 1:05:00\n",
      "-2 days, 22:55:00\n"
     ]
    }
   ],
   "source": [
    "print(delta1 - delta2)\n",
    "print(delta2 - delta1)"
   ]
  },
  {
   "cell_type": "code",
   "execution_count": 287,
   "id": "e73195c4",
   "metadata": {
    "pycharm": {
     "name": "#%%\n"
    }
   },
   "outputs": [
    {
     "name": "stdout",
     "output_type": "stream",
     "text": [
      "<class 'datetime.timedelta'>\n",
      "18\n"
     ]
    }
   ],
   "source": [
    "my_birthday = date(2004, 6, 7)\n",
    "delta = date.today() - my_birthday\n",
    "print(type(delta))\n",
    "\n",
    "my_age = int(delta.days / 365)\n",
    "print(my_age)"
   ]
  },
  {
   "cell_type": "code",
   "execution_count": 288,
   "id": "ca05a4df",
   "metadata": {
    "pycharm": {
     "name": "#%%\n"
    }
   },
   "outputs": [
    {
     "name": "stdout",
     "output_type": "stream",
     "text": [
      "True\n"
     ]
    }
   ],
   "source": [
    "wife_birthday = date(2005, 12, 5)\n",
    "am_i_older = my_birthday < wife_birthday\n",
    "print(am_i_older)"
   ]
  },
  {
   "cell_type": "code",
   "execution_count": 289,
   "id": "0a423f37",
   "metadata": {
    "pycharm": {
     "name": "#%%\n"
    }
   },
   "outputs": [],
   "source": [
    "class Character():\n",
    "    def __init__(self):\n",
    "        self.race = 'Elf'"
   ]
  },
  {
   "cell_type": "code",
   "execution_count": 290,
   "id": "ecf1b1c7",
   "metadata": {
    "pycharm": {
     "name": "#%%\n"
    }
   },
   "outputs": [
    {
     "data": {
      "text/plain": "'Elf'"
     },
     "execution_count": 290,
     "metadata": {},
     "output_type": "execute_result"
    }
   ],
   "source": [
    "c = Character()\n",
    "c.race"
   ]
  },
  {
   "cell_type": "code",
   "execution_count": 291,
   "id": "cb0c6c74",
   "metadata": {
    "pycharm": {
     "name": "#%%\n"
    }
   },
   "outputs": [],
   "source": [
    "class Character:\n",
    "    def __new__(cls):\n",
    "        obj = super().__new__(cls)\n",
    "        return obj\n",
    "\n",
    "    def __init__(self):\n",
    "        self.race = 'Elf'"
   ]
  },
  {
   "cell_type": "code",
   "execution_count": 292,
   "id": "87fafec5",
   "metadata": {
    "pycharm": {
     "name": "#%%\n"
    }
   },
   "outputs": [
    {
     "data": {
      "text/plain": "'Elf'"
     },
     "execution_count": 292,
     "metadata": {},
     "output_type": "execute_result"
    }
   ],
   "source": [
    "c = Character()\n",
    "c.race"
   ]
  },
  {
   "cell_type": "code",
   "execution_count": 293,
   "id": "a35deaec",
   "metadata": {
    "pycharm": {
     "name": "#%%\n"
    }
   },
   "outputs": [],
   "source": [
    "class Character:\n",
    "    _instance = None\n",
    "\n",
    "    def __new__(cls):\n",
    "        if not cls._instance:\n",
    "            cls._instance = super().__new__(cls)\n",
    "        return cls._instance\n",
    "\n",
    "    def __init__(self):\n",
    "        self.race = 'Elf'"
   ]
  },
  {
   "cell_type": "code",
   "execution_count": 294,
   "id": "f8319d0f",
   "metadata": {
    "pycharm": {
     "name": "#%%\n"
    }
   },
   "outputs": [
    {
     "data": {
      "text/plain": "'Elf'"
     },
     "execution_count": 294,
     "metadata": {},
     "output_type": "execute_result"
    }
   ],
   "source": [
    "c = Character()\n",
    "c.race"
   ]
  },
  {
   "cell_type": "code",
   "execution_count": 295,
   "id": "0ef4148c",
   "metadata": {
    "pycharm": {
     "name": "#%%\n"
    }
   },
   "outputs": [],
   "source": [
    "class Character():\n",
    "    def __init__(self, race, armor=5, damage=10):\n",
    "        self.race = race\n",
    "        self.damage = damage\n",
    "        self.health = 100\n",
    "\n",
    "    def hit(self, damage):\n",
    "        self.health -= damage\n",
    "\n",
    "    def is_dead(self):\n",
    "        return self.health == 0\n",
    "\n",
    "    def __setstate__(self, state):\n",
    "        self.race = state.get('race', 'Elf')\n",
    "        self.damage = state.get('damage', 10)\n",
    "        self.armor = state.get('armor', 20)\n",
    "        self.health = state.get('health', 100)\n"
   ]
  },
  {
   "cell_type": "code",
   "execution_count": 296,
   "id": "1be2aa7f",
   "metadata": {
    "pycharm": {
     "name": "#%%\n"
    }
   },
   "outputs": [
    {
     "data": {
      "text/plain": "90"
     },
     "execution_count": 296,
     "metadata": {},
     "output_type": "execute_result"
    }
   ],
   "source": [
    "c = Character(\"Elf\")\n",
    "c.hit(10)\n",
    "c.health"
   ]
  },
  {
   "cell_type": "code",
   "execution_count": 297,
   "id": "c229057c",
   "metadata": {
    "pycharm": {
     "name": "#%%\n"
    }
   },
   "outputs": [],
   "source": [
    "import pickle\n",
    "#with open(r'C:\\temp\\game_state.bin', 'w+b') as f:\n",
    "#pickle.dump(c, f)"
   ]
  },
  {
   "cell_type": "code",
   "execution_count": 298,
   "id": "109b733d",
   "metadata": {
    "pycharm": {
     "name": "#%%\n"
    }
   },
   "outputs": [
    {
     "name": "stdout",
     "output_type": "stream",
     "text": [
      "<__main__.Character object at 0x0000028CFD71EF10>\n"
     ]
    }
   ],
   "source": [
    "#c = None\n",
    "print(c)"
   ]
  },
  {
   "cell_type": "code",
   "execution_count": 299,
   "id": "cb0e3974",
   "metadata": {
    "pycharm": {
     "name": "#%%\n"
    }
   },
   "outputs": [],
   "source": [
    "#with open(r'C:\\temp\\game_state.bin', 'rb') as f:\n",
    "#c = pickle.load(f)\n",
    "#print(c.health)"
   ]
  },
  {
   "cell_type": "code",
   "execution_count": 300,
   "id": "0404c429",
   "metadata": {
    "pycharm": {
     "name": "#%%\n"
    }
   },
   "outputs": [
    {
     "name": "stdout",
     "output_type": "stream",
     "text": [
      "{'race': 'Elf', 'damage': 10, 'health': 90}\n"
     ]
    }
   ],
   "source": [
    "print(c.__dict__)"
   ]
  },
  {
   "cell_type": "code",
   "execution_count": 301,
   "id": "369700e2",
   "metadata": {
    "pycharm": {
     "name": "#%%\n"
    }
   },
   "outputs": [],
   "source": [
    "lst = [1, 2, 3]"
   ]
  },
  {
   "cell_type": "code",
   "execution_count": 302,
   "id": "41361f95",
   "metadata": {
    "pycharm": {
     "name": "#%%\n"
    }
   },
   "outputs": [
    {
     "data": {
      "text/plain": "'[1, 2, 3]'"
     },
     "execution_count": 302,
     "metadata": {},
     "output_type": "execute_result"
    }
   ],
   "source": [
    "repr(lst)"
   ]
  },
  {
   "cell_type": "code",
   "execution_count": 303,
   "id": "aa66f2f5",
   "metadata": {
    "pycharm": {
     "name": "#%%\n"
    }
   },
   "outputs": [
    {
     "name": "stdout",
     "output_type": "stream",
     "text": [
      "[1, 2, 3]\n"
     ]
    }
   ],
   "source": [
    "print(lst)"
   ]
  },
  {
   "cell_type": "code",
   "execution_count": 304,
   "id": "8db7e545",
   "metadata": {
    "pycharm": {
     "name": "#%%\n"
    }
   },
   "outputs": [
    {
     "data": {
      "text/plain": "True"
     },
     "execution_count": 304,
     "metadata": {},
     "output_type": "execute_result"
    }
   ],
   "source": [
    "eval(repr(lst)) == lst"
   ]
  },
  {
   "cell_type": "code",
   "execution_count": 305,
   "id": "4e308606",
   "metadata": {
    "pycharm": {
     "name": "#%%\n"
    }
   },
   "outputs": [],
   "source": [
    "from datetime import datetime\n",
    "\n",
    "dt = datetime.now()"
   ]
  },
  {
   "cell_type": "code",
   "execution_count": 306,
   "id": "aa42651a",
   "metadata": {
    "pycharm": {
     "name": "#%%\n"
    }
   },
   "outputs": [
    {
     "data": {
      "text/plain": "'datetime.datetime(2022, 10, 23, 22, 14, 16, 661029)'"
     },
     "execution_count": 306,
     "metadata": {},
     "output_type": "execute_result"
    }
   ],
   "source": [
    "repr(dt)"
   ]
  },
  {
   "cell_type": "code",
   "execution_count": 307,
   "id": "00239a54",
   "metadata": {
    "pycharm": {
     "name": "#%%\n"
    }
   },
   "outputs": [
    {
     "name": "stdout",
     "output_type": "stream",
     "text": [
      "2022-10-23 22:14:16.661029\n"
     ]
    }
   ],
   "source": [
    "print(dt)"
   ]
  },
  {
   "cell_type": "code",
   "execution_count": 308,
   "id": "f55f6073",
   "metadata": {
    "pycharm": {
     "name": "#%%\n"
    }
   },
   "outputs": [],
   "source": [
    "class Character():\n",
    "    def __init__(self, race, damage=100):\n",
    "        self.race = race\n",
    "        self.damage = damage\n",
    "\n",
    "    def __repr__(self):\n",
    "        return f\"Character('{self.race}', {self.damage})\"\n",
    "\n",
    "    def __str__(self):\n",
    "        return f\"{self.race} with damage = {self.damage}\"\n",
    "\n",
    "    def __eq__(self, other):\n",
    "        if isinstance(other, Character):\n",
    "            return self.race == other.race and self.damage == other.damage\n",
    "    #def __ne__(self, other):\n",
    "    #pass"
   ]
  },
  {
   "cell_type": "code",
   "execution_count": 309,
   "id": "f8823a41",
   "metadata": {
    "pycharm": {
     "name": "#%%\n"
    }
   },
   "outputs": [
    {
     "name": "stdout",
     "output_type": "stream",
     "text": [
      "Elf with damage = 100\n"
     ]
    }
   ],
   "source": [
    "c = Character(\"Elf\")\n",
    "c  #repr\n",
    "print(c)  #str"
   ]
  },
  {
   "cell_type": "code",
   "execution_count": 310,
   "id": "d3141482",
   "metadata": {
    "pycharm": {
     "name": "#%%\n"
    }
   },
   "outputs": [
    {
     "data": {
      "text/plain": "__main__.Character"
     },
     "execution_count": 310,
     "metadata": {},
     "output_type": "execute_result"
    }
   ],
   "source": [
    "d = eval(repr(c))\n",
    "type(d)"
   ]
  },
  {
   "cell_type": "code",
   "execution_count": 311,
   "id": "00c34f4c",
   "metadata": {
    "pycharm": {
     "name": "#%%\n"
    }
   },
   "outputs": [
    {
     "name": "stdout",
     "output_type": "stream",
     "text": [
      "Elf with damage = 100\n"
     ]
    }
   ],
   "source": [
    "print(d)"
   ]
  },
  {
   "cell_type": "code",
   "execution_count": 312,
   "id": "bdc877d3",
   "metadata": {
    "pycharm": {
     "name": "#%%\n"
    }
   },
   "outputs": [
    {
     "data": {
      "text/plain": "True"
     },
     "execution_count": 312,
     "metadata": {},
     "output_type": "execute_result"
    }
   ],
   "source": [
    "c == d"
   ]
  },
  {
   "cell_type": "code",
   "execution_count": 313,
   "id": "4af22328",
   "metadata": {
    "pycharm": {
     "name": "#%%\n"
    }
   },
   "outputs": [
    {
     "data": {
      "text/plain": "False"
     },
     "execution_count": 313,
     "metadata": {},
     "output_type": "execute_result"
    }
   ],
   "source": [
    "c != d"
   ]
  },
  {
   "cell_type": "code",
   "execution_count": 314,
   "id": "5073ddf2",
   "metadata": {
    "pycharm": {
     "name": "#%%\n"
    }
   },
   "outputs": [
    {
     "name": "stdout",
     "output_type": "stream",
     "text": [
      "[1, 2, 3, [4, 5, 6, 7]]\n",
      "[1, 2, 3, [4, 5, 6, 7]]\n"
     ]
    }
   ],
   "source": [
    "list1 = [1, 2, 3, [4, 5, 6]]\n",
    "copied_list = list1.copy()\n",
    "copied_list[3].append(7)\n",
    "print(list1)\n",
    "print(copied_list)"
   ]
  },
  {
   "cell_type": "code",
   "execution_count": 315,
   "id": "59567fd3",
   "metadata": {
    "pycharm": {
     "name": "#%%\n"
    }
   },
   "outputs": [],
   "source": [
    "list1.append(0)"
   ]
  },
  {
   "cell_type": "code",
   "execution_count": 316,
   "id": "ecb7fe6b",
   "metadata": {
    "pycharm": {
     "name": "#%%\n"
    }
   },
   "outputs": [
    {
     "name": "stdout",
     "output_type": "stream",
     "text": [
      "[1, 2, 3, [4, 5, 6, 7], 0]\n",
      "[1, 2, 3, [4, 5, 6, 7]]\n"
     ]
    }
   ],
   "source": [
    "print(list1)\n",
    "print(copied_list)"
   ]
  },
  {
   "cell_type": "code",
   "execution_count": 317,
   "id": "326d1ea1",
   "metadata": {
    "pycharm": {
     "name": "#%%\n"
    }
   },
   "outputs": [],
   "source": [
    "import copy"
   ]
  },
  {
   "cell_type": "code",
   "execution_count": 318,
   "id": "0b390a35",
   "metadata": {
    "pycharm": {
     "name": "#%%\n"
    }
   },
   "outputs": [],
   "source": [
    "shallow_copy = copy.copy(list1)\n",
    "shallow_copy[3].append(8)"
   ]
  },
  {
   "cell_type": "code",
   "execution_count": 319,
   "id": "57115d3c",
   "metadata": {
    "pycharm": {
     "name": "#%%\n"
    }
   },
   "outputs": [
    {
     "name": "stdout",
     "output_type": "stream",
     "text": [
      "[1, 2, 3, [4, 5, 6, 7, 8], 0]\n",
      "[1, 2, 3, [4, 5, 6, 7, 8], 0]\n"
     ]
    }
   ],
   "source": [
    "print(list1)\n",
    "print(shallow_copy)"
   ]
  },
  {
   "cell_type": "code",
   "execution_count": 320,
   "id": "79306903",
   "metadata": {
    "pycharm": {
     "name": "#%%\n"
    }
   },
   "outputs": [
    {
     "name": "stdout",
     "output_type": "stream",
     "text": [
      "[1, 2, 3, [4, 5, 6, 7, 8], 0]\n",
      "[1, 2, 3, [4, 5, 6, 7, 8, 10], 0]\n"
     ]
    }
   ],
   "source": [
    "deep_copy = copy.deepcopy(list1)\n",
    "deep_copy[3].append(10)\n",
    "print(list1)\n",
    "print(deep_copy)"
   ]
  },
  {
   "cell_type": "code",
   "execution_count": 321,
   "id": "a126d848",
   "metadata": {
    "pycharm": {
     "name": "#%%\n"
    }
   },
   "outputs": [],
   "source": [
    "class Point():\n",
    "    def __init__(self, x, y):\n",
    "        self.x = x\n",
    "        self.y = y\n",
    "\n",
    "    def __repr__(self):\n",
    "        return f\"Point({self.x}, {self.y})\"\n"
   ]
  },
  {
   "cell_type": "code",
   "execution_count": 322,
   "id": "6d6a8f22",
   "metadata": {
    "pycharm": {
     "name": "#%%\n"
    }
   },
   "outputs": [],
   "source": [
    "a = Point(1, 2)\n",
    "b = copy.copy(a)"
   ]
  },
  {
   "cell_type": "code",
   "execution_count": 323,
   "id": "a2ce1667",
   "metadata": {
    "pycharm": {
     "name": "#%%\n"
    }
   },
   "outputs": [],
   "source": [
    "a.x = 3"
   ]
  },
  {
   "cell_type": "code",
   "execution_count": 324,
   "id": "52124e3f",
   "metadata": {
    "pycharm": {
     "name": "#%%\n"
    }
   },
   "outputs": [
    {
     "name": "stdout",
     "output_type": "stream",
     "text": [
      "Point(3, 2)\n",
      "Point(1, 2)\n"
     ]
    }
   ],
   "source": [
    "print(a)\n",
    "print(b)"
   ]
  },
  {
   "cell_type": "code",
   "execution_count": 325,
   "id": "d1264f0c",
   "metadata": {
    "pycharm": {
     "name": "#%%\n"
    }
   },
   "outputs": [],
   "source": [
    "class Line():\n",
    "    def __init__(self, p1, p2):\n",
    "        self.p1 = p1\n",
    "        self.p2 = p2\n",
    "\n",
    "    def __copy__(self):\n",
    "        cls = self.__class__\n",
    "        result = cls.__new__(cls)\n",
    "        result.__dict__.update(self.__dict__)\n",
    "        return result\n",
    "\n",
    "    def __deepcopy__(self, memo):\n",
    "        cls = self.__class__\n",
    "        result = cls.__new__(cls)\n",
    "        memo[id(self)] = result\n",
    "        for k, v in self.__dict__.items():\n",
    "            setattr(result, k, copy.deepcopy(v, memo))\n",
    "        return result"
   ]
  },
  {
   "cell_type": "code",
   "execution_count": 326,
   "id": "1d41216b",
   "metadata": {
    "pycharm": {
     "name": "#%%\n"
    }
   },
   "outputs": [
    {
     "name": "stdout",
     "output_type": "stream",
     "text": [
      "Point(3, 2)\n",
      "Point(3, 2)\n"
     ]
    }
   ],
   "source": [
    "l1 = Line(a, b)\n",
    "l2 = copy.copy(l1)\n",
    "print(l1.p1)\n",
    "print(l2.p1)"
   ]
  },
  {
   "cell_type": "code",
   "execution_count": 327,
   "id": "9de34771",
   "metadata": {
    "pycharm": {
     "name": "#%%\n"
    }
   },
   "outputs": [
    {
     "name": "stdout",
     "output_type": "stream",
     "text": [
      "Point(4, 2)\n",
      "Point(4, 2)\n"
     ]
    }
   ],
   "source": [
    "l1.p1.x = 4\n",
    "print(l1.p1)\n",
    "print(l2.p1)"
   ]
  },
  {
   "cell_type": "code",
   "execution_count": 328,
   "id": "fc6751bc",
   "metadata": {
    "pycharm": {
     "name": "#%%\n"
    }
   },
   "outputs": [
    {
     "name": "stdout",
     "output_type": "stream",
     "text": [
      "Point(4, 2)\n",
      "Point(4, 2)\n",
      "Point(6, 2)\n",
      "Point(4, 2)\n"
     ]
    }
   ],
   "source": [
    "l1 = Line(a, b)\n",
    "l2 = copy.deepcopy(l1)\n",
    "print(l1.p1)\n",
    "print(l2.p1)\n",
    "l1.p1.x = 6\n",
    "print(l1.p1)\n",
    "print(l2.p1)"
   ]
  },
  {
   "cell_type": "code",
   "execution_count": 329,
   "id": "66eddb01",
   "metadata": {
    "pycharm": {
     "name": "#%%\n"
    }
   },
   "outputs": [],
   "source": [
    "from enum import Enum"
   ]
  },
  {
   "cell_type": "code",
   "execution_count": 330,
   "id": "49f3c5e2",
   "metadata": {
    "pycharm": {
     "name": "#%%\n"
    }
   },
   "outputs": [],
   "source": [
    "class TrafficLight(Enum):\n",
    "    RED = 1\n",
    "    YELLOW = 2\n",
    "    GREEN = 3\n"
   ]
  },
  {
   "cell_type": "code",
   "execution_count": 331,
   "id": "e59986c7",
   "metadata": {
    "pycharm": {
     "name": "#%%\n"
    }
   },
   "outputs": [
    {
     "data": {
      "text/plain": "<TrafficLight.RED: 1>"
     },
     "execution_count": 331,
     "metadata": {},
     "output_type": "execute_result"
    }
   ],
   "source": [
    "TrafficLight.RED"
   ]
  },
  {
   "cell_type": "code",
   "execution_count": 332,
   "id": "d6380869",
   "metadata": {
    "pycharm": {
     "name": "#%%\n"
    }
   },
   "outputs": [
    {
     "name": "stdout",
     "output_type": "stream",
     "text": [
      "TrafficLight.RED\n"
     ]
    }
   ],
   "source": [
    "print(TrafficLight.RED)"
   ]
  },
  {
   "cell_type": "code",
   "execution_count": 333,
   "id": "558e742a",
   "metadata": {
    "pycharm": {
     "name": "#%%\n"
    }
   },
   "outputs": [
    {
     "name": "stdout",
     "output_type": "stream",
     "text": [
      "RED\n",
      "1\n"
     ]
    }
   ],
   "source": [
    "print(TrafficLight.RED.name)\n",
    "print(TrafficLight.RED.value)"
   ]
  },
  {
   "cell_type": "code",
   "execution_count": 334,
   "id": "080efca8",
   "metadata": {
    "pycharm": {
     "name": "#%%\n"
    }
   },
   "outputs": [
    {
     "name": "stdout",
     "output_type": "stream",
     "text": [
      "TrafficLight.RED\n",
      "TrafficLight.YELLOW\n",
      "TrafficLight.GREEN\n"
     ]
    }
   ],
   "source": [
    "for x in TrafficLight:\n",
    "    print(x)"
   ]
  },
  {
   "cell_type": "code",
   "execution_count": 335,
   "id": "da38ce61",
   "metadata": {
    "pycharm": {
     "name": "#%%\n"
    }
   },
   "outputs": [
    {
     "data": {
      "text/plain": "<TrafficLight.RED: 1>"
     },
     "execution_count": 335,
     "metadata": {},
     "output_type": "execute_result"
    }
   ],
   "source": [
    "TrafficLight(1)"
   ]
  },
  {
   "cell_type": "code",
   "execution_count": 336,
   "id": "a280b1bd",
   "metadata": {
    "pycharm": {
     "name": "#%%\n"
    }
   },
   "outputs": [
    {
     "data": {
      "text/plain": "<TrafficLight.RED: 1>"
     },
     "execution_count": 336,
     "metadata": {},
     "output_type": "execute_result"
    }
   ],
   "source": [
    "TrafficLight['RED']"
   ]
  },
  {
   "cell_type": "code",
   "execution_count": 337,
   "id": "ee2d0058",
   "metadata": {
    "pycharm": {
     "name": "#%%\n"
    }
   },
   "outputs": [
    {
     "name": "stdout",
     "output_type": "stream",
     "text": [
      "True\n",
      "False\n"
     ]
    }
   ],
   "source": [
    "print(TrafficLight.RED == TrafficLight.RED)\n",
    "print(TrafficLight.RED == TrafficLight.GREEN)"
   ]
  },
  {
   "cell_type": "code",
   "execution_count": 338,
   "id": "d2aaeb2b",
   "metadata": {
    "pycharm": {
     "name": "#%%\n"
    }
   },
   "outputs": [],
   "source": [
    "from enum import IntEnum"
   ]
  },
  {
   "cell_type": "code",
   "execution_count": 339,
   "id": "9bb435d2",
   "metadata": {
    "pycharm": {
     "name": "#%%\n"
    }
   },
   "outputs": [],
   "source": [
    "class Priority(IntEnum):\n",
    "    LOW = 1\n",
    "    NORMAL = 2\n",
    "    HIGH = 3"
   ]
  },
  {
   "cell_type": "code",
   "execution_count": 340,
   "id": "3b349f07",
   "metadata": {
    "pycharm": {
     "name": "#%%\n"
    }
   },
   "outputs": [
    {
     "data": {
      "text/plain": "True"
     },
     "execution_count": 340,
     "metadata": {},
     "output_type": "execute_result"
    }
   ],
   "source": [
    "Priority.LOW < Priority.NORMAL"
   ]
  },
  {
   "cell_type": "code",
   "execution_count": 341,
   "id": "f2dc24fa",
   "metadata": {
    "pycharm": {
     "name": "#%%\n"
    }
   },
   "outputs": [],
   "source": [
    "from enum import IntFlag\n",
    "\n",
    "\n",
    "class Color(IntFlag):\n",
    "    RED = 1\n",
    "    GREEN = 2\n",
    "    BLUE = 3"
   ]
  },
  {
   "cell_type": "code",
   "execution_count": 342,
   "id": "f7206857",
   "metadata": {
    "pycharm": {
     "name": "#%%\n"
    }
   },
   "outputs": [],
   "source": [
    "combination = Color.RED | Color.GREEN"
   ]
  },
  {
   "cell_type": "code",
   "execution_count": 343,
   "id": "14fff95c",
   "metadata": {
    "pycharm": {
     "name": "#%%\n"
    }
   },
   "outputs": [
    {
     "data": {
      "text/plain": "<Color.BLUE: 3>"
     },
     "execution_count": 343,
     "metadata": {},
     "output_type": "execute_result"
    }
   ],
   "source": [
    "combination"
   ]
  },
  {
   "cell_type": "code",
   "execution_count": 344,
   "id": "e1cebc9a",
   "metadata": {
    "pycharm": {
     "name": "#%%\n"
    }
   },
   "outputs": [
    {
     "data": {
      "text/plain": "True"
     },
     "execution_count": 344,
     "metadata": {},
     "output_type": "execute_result"
    }
   ],
   "source": [
    "Color.RED in combination"
   ]
  },
  {
   "cell_type": "code",
   "execution_count": 345,
   "id": "ff4e28ec",
   "metadata": {
    "pycharm": {
     "name": "#%%\n"
    }
   },
   "outputs": [],
   "source": [
    "class Planet(Enum):\n",
    "    MERCURY = (3.303e+23, 2.4397e6)\n",
    "    EARTH = (5.976e+24, 6.37814e6)\n",
    "    JUPITER = (1.9e+27, 7.1492e7)\n",
    "\n",
    "    def __init__(self, mass, radius):\n",
    "        self.mass = mass\n",
    "        self.radius = radius\n",
    "\n",
    "    @property\n",
    "    def surface_gravity(self):\n",
    "        G = 6.67300E-11\n",
    "        return G * self.mass / (self.radius * self.radius)"
   ]
  },
  {
   "cell_type": "code",
   "execution_count": 346,
   "id": "864c5a85",
   "metadata": {
    "pycharm": {
     "name": "#%%\n"
    }
   },
   "outputs": [
    {
     "data": {
      "text/plain": "(5.976e+24, 6378140.0)"
     },
     "execution_count": 346,
     "metadata": {},
     "output_type": "execute_result"
    }
   ],
   "source": [
    "Planet.EARTH.value"
   ]
  },
  {
   "cell_type": "code",
   "execution_count": 347,
   "id": "dfe03a1e",
   "metadata": {
    "pycharm": {
     "name": "#%%\n"
    }
   },
   "outputs": [
    {
     "data": {
      "text/plain": "9.802652743337129"
     },
     "execution_count": 347,
     "metadata": {},
     "output_type": "execute_result"
    }
   ],
   "source": [
    "Planet.EARTH.surface_gravity"
   ]
  },
  {
   "cell_type": "code",
   "execution_count": 348,
   "id": "636f3b4a",
   "metadata": {
    "pycharm": {
     "name": "#%%\n"
    }
   },
   "outputs": [],
   "source": [
    "import json"
   ]
  },
  {
   "cell_type": "code",
   "execution_count": 349,
   "id": "dbfe8135",
   "metadata": {
    "pycharm": {
     "name": "#%%\n"
    }
   },
   "outputs": [],
   "source": [
    "class Tournament:\n",
    "    def __init__(self, name, year):\n",
    "        self.name = name\n",
    "        self.year = year\n"
   ]
  },
  {
   "cell_type": "code",
   "execution_count": 350,
   "id": "b6fb2b3a",
   "metadata": {
    "pycharm": {
     "name": "#%%\n"
    }
   },
   "outputs": [
    {
     "name": "stdout",
     "output_type": "stream",
     "text": [
      "{\n",
      "  \"Aeroflot Open\": 2010,\n",
      "  \"FIDE World Cup\": 2018,\n",
      "  \"FIDE Grand Prix\": 2016\n",
      "}\n",
      "<class 'dict'>\n",
      "{'Aeroflot Open': 2010, 'FIDE World Cup': 2018, 'FIDE Grand Prix': 2016}\n"
     ]
    }
   ],
   "source": [
    "tournaments = {\n",
    "    \"Aeroflot Open\": 2010,\n",
    "    \"FIDE World Cup\": 2018,\n",
    "    \"FIDE Grand Prix\": 2016,\n",
    "}\n",
    "json_data = json.dumps(tournaments, indent=2)  #serialization\n",
    "print(json_data)\n",
    "loaded = json.loads(json_data)  #deserialization\n",
    "print(type(loaded))\n",
    "print(loaded)"
   ]
  },
  {
   "cell_type": "code",
   "execution_count": 351,
   "id": "3a24a29e",
   "metadata": {
    "pycharm": {
     "name": "#%%\n"
    }
   },
   "outputs": [
    {
     "name": "stdout",
     "output_type": "stream",
     "text": [
      "{\"name\": \"Aeroflot Open\", \"year\": 2010}\n",
      "name = Aeroflot Open, year = 2010\n"
     ]
    }
   ],
   "source": [
    "t1 = Tournament(\"Aeroflot Open\", 2010)\n",
    "json_data = json.dumps(t1.__dict__)\n",
    "print(json_data)\n",
    "t = Tournament(**json.loads(json_data))\n",
    "print(f'name = {t.name}, year = {t.year}')"
   ]
  },
  {
   "cell_type": "code",
   "execution_count": 352,
   "id": "541d60be",
   "metadata": {
    "pycharm": {
     "name": "#%%\n"
    }
   },
   "outputs": [],
   "source": [
    "class ChessPlayer:\n",
    "    def __init__(self, tournaments):\n",
    "        self.tournaments = tournaments"
   ]
  },
  {
   "cell_type": "code",
   "execution_count": 353,
   "id": "647337c1",
   "metadata": {
    "pycharm": {
     "name": "#%%\n"
    }
   },
   "outputs": [],
   "source": [
    "t1 = Tournament(\"Aeroflot Open\", 2010)\n",
    "t2 = Tournament(\"FIDE World Cup\", 2018)\n",
    "t3 = Tournament(\"FIDE Grand Prix\", 2016)\n",
    "p1 = ChessPlayer([t1, t2, t3])"
   ]
  },
  {
   "cell_type": "code",
   "execution_count": 354,
   "id": "0a0f153b",
   "metadata": {
    "pycharm": {
     "name": "#%%\n"
    }
   },
   "outputs": [
    {
     "name": "stdout",
     "output_type": "stream",
     "text": [
      "{\"tournaments\": [{\"name\": \"Aeroflot Open\", \"year\": 2010}, {\"name\": \"FIDE World Cup\", \"year\": 2018}, {\"name\": \"FIDE Grand Prix\", \"year\": 2016}]}\n"
     ]
    }
   ],
   "source": [
    "json_data = json.dumps(p1, default=lambda obj: obj.__dict__)\n",
    "print(json_data)"
   ]
  },
  {
   "cell_type": "code",
   "execution_count": 355,
   "id": "b224215b",
   "metadata": {
    "pycharm": {
     "name": "#%%\n"
    }
   },
   "outputs": [
    {
     "name": "stdout",
     "output_type": "stream",
     "text": [
      "<__main__.ChessPlayer object at 0x0000028CFD765E20>\n"
     ]
    }
   ],
   "source": [
    "decoded_player = ChessPlayer(**json.loads(json_data))\n",
    "print(decoded_player)"
   ]
  },
  {
   "cell_type": "code",
   "execution_count": 356,
   "id": "5b58a1e5",
   "metadata": {
    "pycharm": {
     "name": "#%%\n"
    }
   },
   "outputs": [
    {
     "name": "stdout",
     "output_type": "stream",
     "text": [
      "<class 'dict'>\n",
      "{'name': 'Aeroflot Open', 'year': 2010}\n"
     ]
    }
   ],
   "source": [
    "player_tournament = decoded_player.tournaments[0]\n",
    "print(type(player_tournament))\n",
    "print(player_tournament)"
   ]
  },
  {
   "cell_type": "code",
   "execution_count": 357,
   "id": "43e62360",
   "metadata": {
    "pycharm": {
     "name": "#%%\n"
    }
   },
   "outputs": [
    {
     "name": "stdout",
     "output_type": "stream",
     "text": [
      "<class 'str'>\n",
      "{\n",
      "    \"tournaments\": [\n",
      "        {\n",
      "            \"name\": \"Aeroflot Open\",\n",
      "            \"year\": 2010\n",
      "        },\n",
      "        {\n",
      "            \"name\": \"FIDE World Cup\",\n",
      "            \"year\": 2018\n",
      "        },\n",
      "        {\n",
      "            \"name\": \"FIDE Grand Prix\",\n",
      "            \"year\": 2016\n",
      "        }\n",
      "    ]\n",
      "}\n",
      "<__main__.ChessPlayer object at 0x0000028CFD770BB0>\n",
      "[<__main__.Tournament object at 0x0000028CFD770B80>, <__main__.Tournament object at 0x0000028CFD76FDF0>, <__main__.Tournament object at 0x0000028CFD76F8B0>]\n",
      "<__main__.Tournament object at 0x0000028CFD770B80>\n",
      "<__main__.Tournament object at 0x0000028CFD76FDF0>\n",
      "<__main__.Tournament object at 0x0000028CFD76F8B0>\n"
     ]
    }
   ],
   "source": [
    "class Tournament:\n",
    "    def __init__(self, name, year):\n",
    "        self.name = name\n",
    "        self.year = year\n",
    "\n",
    "    @classmethod\n",
    "    def from_json(cls, json_data):\n",
    "        return cls(**json_data)\n",
    "\n",
    "\n",
    "class ChessPlayer:\n",
    "    def __init__(self, tournaments):\n",
    "        self.tournaments = tournaments\n",
    "\n",
    "    @classmethod\n",
    "    def from_json(cls, json_data):\n",
    "        tournaments = list(map(Tournament.from_json, json_data[\"tournaments\"]))\n",
    "        return cls(tournaments)\n",
    "\n",
    "\n",
    "t1 = Tournament(\"Aeroflot Open\", 2010)\n",
    "t2 = Tournament(\"FIDE World Cup\", 2018)\n",
    "t3 = Tournament(\"FIDE Grand Prix\", 2016)\n",
    "p1 = ChessPlayer([t1, t2, t3])\n",
    "json_data = json.dumps(p1, default=lambda obj: obj.__dict__, indent=4, sort_keys=True)\n",
    "print(type(json_data))\n",
    "print(json_data)\n",
    "decoded_player = ChessPlayer.from_json(json.loads(json_data))\n",
    "print(decoded_player)\n",
    "print(decoded_player.tournaments)\n",
    "for x in decoded_player.tournaments:\n",
    "    print(x)"
   ]
  },
  {
   "cell_type": "code",
   "execution_count": 358,
   "id": "6ce6e7e9",
   "metadata": {
    "pycharm": {
     "name": "#%%\n"
    }
   },
   "outputs": [
    {
     "name": "stdout",
     "output_type": "stream",
     "text": [
      "{'tournaments': [{'name': 'Aeroflot Open', 'year': 2010}, {'name': 'FIDE World Cup', 'year': 2018}, {'name': 'FIDE Grand Prix', 'year': 2016}]}\n"
     ]
    }
   ],
   "source": [
    "with open(\"player.json\", \"w\") as file:\n",
    "    json.dump(p1, file, default=lambda obj: obj.__dict__)\n",
    "with open(\"player.json\", \"r\") as read_file:\n",
    "    data = json.load(read_file)\n",
    "print(data)"
   ]
  },
  {
   "cell_type": "code",
   "execution_count": 359,
   "id": "c7300755",
   "metadata": {
    "pycharm": {
     "name": "#%%\n"
    }
   },
   "outputs": [
    {
     "name": "stdout",
     "output_type": "stream",
     "text": [
      "<__main__.ChessPlayer object at 0x0000028CFD765640>\n",
      "[<__main__.Tournament object at 0x0000028CFD765730>, <__main__.Tournament object at 0x0000028CFD76F1F0>, <__main__.Tournament object at 0x0000028CFD76F040>]\n"
     ]
    }
   ],
   "source": [
    "decoded_player = ChessPlayer.from_json(data)\n",
    "print(decoded_player)\n",
    "print(decoded_player.tournaments)"
   ]
  },
  {
   "cell_type": "code",
   "execution_count": 360,
   "id": "db608043",
   "metadata": {
    "pycharm": {
     "name": "#%%\n"
    }
   },
   "outputs": [],
   "source": [
    "import random"
   ]
  },
  {
   "cell_type": "code",
   "execution_count": 361,
   "id": "b678a6f7",
   "metadata": {
    "pycharm": {
     "name": "#%%\n"
    }
   },
   "outputs": [],
   "source": [
    "def randoms(min, max, n):\n",
    "    return [random.randint(min, max) for _ in range(n)]"
   ]
  },
  {
   "cell_type": "code",
   "execution_count": 362,
   "id": "e12a00d0",
   "metadata": {
    "pycharm": {
     "name": "#%%\n"
    }
   },
   "outputs": [
    {
     "name": "stdout",
     "output_type": "stream",
     "text": [
      "24\n",
      "16\n",
      "27\n",
      "24\n",
      "13\n"
     ]
    }
   ],
   "source": [
    "for r in randoms(10, 30, 5):\n",
    "    print(r)"
   ]
  },
  {
   "cell_type": "code",
   "execution_count": 363,
   "id": "a25bb2da",
   "metadata": {
    "pycharm": {
     "name": "#%%\n"
    }
   },
   "outputs": [
    {
     "data": {
      "text/plain": "[3, 2, 5, 1, 2, 5, 8, 4, 6, 5]"
     },
     "execution_count": 363,
     "metadata": {},
     "output_type": "execute_result"
    }
   ],
   "source": [
    "rand_sequence = randoms(1, 10, 10)\n",
    "rand_sequence"
   ]
  },
  {
   "cell_type": "code",
   "execution_count": 364,
   "id": "4bf0f84d",
   "metadata": {
    "pycharm": {
     "name": "#%%\n"
    }
   },
   "outputs": [],
   "source": [
    "def randoms(min, max, n):\n",
    "    for _ in range(n):\n",
    "        yield random.randint(min, max)"
   ]
  },
  {
   "cell_type": "code",
   "execution_count": 365,
   "id": "4fdcd544",
   "metadata": {
    "pycharm": {
     "name": "#%%\n"
    }
   },
   "outputs": [
    {
     "name": "stdout",
     "output_type": "stream",
     "text": [
      "25\n",
      "16\n",
      "27\n",
      "30\n",
      "12\n"
     ]
    }
   ],
   "source": [
    "for r in randoms(10, 30, 5):\n",
    "    print(r)"
   ]
  },
  {
   "cell_type": "code",
   "execution_count": 366,
   "id": "24580ab4",
   "metadata": {
    "pycharm": {
     "name": "#%%\n"
    }
   },
   "outputs": [
    {
     "data": {
      "text/plain": "<generator object randoms at 0x0000028CFD75ECF0>"
     },
     "execution_count": 366,
     "metadata": {},
     "output_type": "execute_result"
    }
   ],
   "source": [
    "rand_sequence = randoms(1, 10, 10)\n",
    "rand_sequence"
   ]
  },
  {
   "cell_type": "code",
   "execution_count": 367,
   "id": "8b67f84f",
   "metadata": {
    "pycharm": {
     "name": "#%%\n"
    }
   },
   "outputs": [
    {
     "name": "stdout",
     "output_type": "stream",
     "text": [
      "7\n",
      "7\n",
      "3\n",
      "4\n",
      "10\n",
      "7\n",
      "4\n",
      "6\n",
      "7\n",
      "1\n"
     ]
    }
   ],
   "source": [
    "for r in rand_sequence:\n",
    "    print(r)"
   ]
  },
  {
   "cell_type": "code",
   "execution_count": 368,
   "id": "34952e36",
   "metadata": {
    "pycharm": {
     "name": "#%%\n"
    }
   },
   "outputs": [],
   "source": [
    "for r in rand_sequence:\n",
    "    print(r)"
   ]
  },
  {
   "cell_type": "code",
   "execution_count": 369,
   "id": "a385b4c7",
   "metadata": {
    "pycharm": {
     "name": "#%%\n"
    }
   },
   "outputs": [
    {
     "data": {
      "text/plain": "[7, 9, 8, 2, 9]"
     },
     "execution_count": 369,
     "metadata": {},
     "output_type": "execute_result"
    }
   ],
   "source": [
    "seq = list(randoms(1, 10, 5))\n",
    "seq"
   ]
  },
  {
   "cell_type": "code",
   "execution_count": 370,
   "id": "9a74f3f5",
   "metadata": {
    "pycharm": {
     "name": "#%%\n"
    }
   },
   "outputs": [
    {
     "data": {
      "text/plain": "[7, 9, 8, 2, 9]"
     },
     "execution_count": 370,
     "metadata": {},
     "output_type": "execute_result"
    }
   ],
   "source": [
    "seq"
   ]
  },
  {
   "cell_type": "code",
   "execution_count": 371,
   "id": "8657d84f",
   "metadata": {
    "pycharm": {
     "name": "#%%\n"
    }
   },
   "outputs": [],
   "source": [
    "def randoms(min, max, n):\n",
    "    for _ in range(n):\n",
    "        yield random.randint(min, max)"
   ]
  },
  {
   "cell_type": "code",
   "execution_count": 372,
   "id": "b8aace02",
   "metadata": {
    "pycharm": {
     "name": "#%%\n"
    }
   },
   "outputs": [
    {
     "name": "stdout",
     "output_type": "stream",
     "text": [
      "[3, 3, 2, 7, 7]\n"
     ]
    }
   ],
   "source": [
    "import itertools\n",
    "\n",
    "rand_sequence = randoms(1, 10, 10)\n",
    "five_taken = list(itertools.islice(rand_sequence, 5))\n",
    "print(five_taken)"
   ]
  },
  {
   "cell_type": "code",
   "execution_count": 373,
   "id": "48ee802a",
   "metadata": {
    "pycharm": {
     "name": "#%%\n"
    }
   },
   "outputs": [],
   "source": [
    "def randoms(min, max):\n",
    "    while True:\n",
    "        yield random.randint(min, max)"
   ]
  },
  {
   "cell_type": "code",
   "execution_count": 374,
   "id": "eef1ea75",
   "metadata": {
    "pycharm": {
     "name": "#%%\n"
    }
   },
   "outputs": [],
   "source": [
    "rand_sequence = randoms(1, 100000)"
   ]
  },
  {
   "cell_type": "code",
   "execution_count": 375,
   "id": "b4fd1886",
   "metadata": {
    "pycharm": {
     "name": "#%%\n"
    }
   },
   "outputs": [
    {
     "name": "stdout",
     "output_type": "stream",
     "text": [
      "[13420, 52554, 87298, 99989, 39908]\n"
     ]
    }
   ],
   "source": [
    "five_taken = list(itertools.islice(rand_sequence, 5))\n",
    "print(five_taken)"
   ]
  },
  {
   "cell_type": "code",
   "execution_count": 376,
   "id": "ce4690f3",
   "metadata": {
    "pycharm": {
     "name": "#%%\n"
    }
   },
   "outputs": [],
   "source": [
    "def read_line_by_line(file):\n",
    "    \"\"\"Lazy function (generator) to read a file line by line.\"\"\"\n",
    "    while True:\n",
    "        line = file.readline()\n",
    "        if not line:\n",
    "            break\n",
    "        yield line"
   ]
  },
  {
   "cell_type": "code",
   "execution_count": 377,
   "id": "2d29eea0",
   "metadata": {
    "pycharm": {
     "name": "#%%\n"
    }
   },
   "outputs": [],
   "source": [
    "#file = open(f'C:\\\\test.txt')\n",
    "#for line in read_line_by_line(file):\n",
    "#print(line.rstrip())"
   ]
  },
  {
   "cell_type": "code",
   "execution_count": 378,
   "id": "fab4b31a",
   "metadata": {
    "pycharm": {
     "name": "#%%\n"
    }
   },
   "outputs": [
    {
     "name": "stdout",
     "output_type": "stream",
     "text": [
      "4\n",
      "9\n",
      "9\n"
     ]
    }
   ],
   "source": [
    "rand_sequence = randoms(1, 10)\n",
    "n = next(rand_sequence)\n",
    "print(n)\n",
    "n = next(rand_sequence)\n",
    "print(n)\n",
    "n = next(rand_sequence)\n",
    "print(n)"
   ]
  },
  {
   "cell_type": "code",
   "execution_count": 379,
   "id": "f77ec2b1",
   "metadata": {
    "pycharm": {
     "name": "#%%\n"
    }
   },
   "outputs": [
    {
     "data": {
      "text/plain": "[1, 4, 9, 16]"
     },
     "execution_count": 379,
     "metadata": {},
     "output_type": "execute_result"
    }
   ],
   "source": [
    "my_list = [1, 2, 3, 4]\n",
    "squares = [x ** 2 for x in my_list]\n",
    "squares"
   ]
  },
  {
   "cell_type": "code",
   "execution_count": 380,
   "id": "33be0f05",
   "metadata": {
    "pycharm": {
     "name": "#%%\n"
    }
   },
   "outputs": [
    {
     "data": {
      "text/plain": "<generator object <genexpr> at 0x0000028CFD77D6D0>"
     },
     "execution_count": 380,
     "metadata": {},
     "output_type": "execute_result"
    }
   ],
   "source": [
    "squares = (x ** 2 for x in my_list)\n",
    "squares"
   ]
  },
  {
   "cell_type": "code",
   "execution_count": 381,
   "id": "c493d955",
   "metadata": {
    "pycharm": {
     "name": "#%%\n"
    }
   },
   "outputs": [
    {
     "name": "stdout",
     "output_type": "stream",
     "text": [
      "1\n",
      "4\n",
      "9\n",
      "16\n"
     ]
    }
   ],
   "source": [
    "for i in squares:\n",
    "    print(i)"
   ]
  },
  {
   "cell_type": "code",
   "execution_count": 382,
   "id": "e90b9140",
   "metadata": {
    "pycharm": {
     "name": "#%%\n"
    }
   },
   "outputs": [
    {
     "name": "stdout",
     "output_type": "stream",
     "text": [
      "<class 'list_iterator'>\n",
      "1\n",
      "2\n",
      "3\n"
     ]
    }
   ],
   "source": [
    "iterable = [1, 2, 3]\n",
    "iterator = iter(iterable)  #будет вызван метод __iter__()\n",
    "print(type(iterator))\n",
    "print(next(iterator))  #будет вызван метод __next__()\n",
    "\n",
    "print(next(iterator))\n",
    "print(next(iterator))"
   ]
  },
  {
   "cell_type": "code",
   "execution_count": 383,
   "id": "c4155e31",
   "metadata": {
    "pycharm": {
     "name": "#%%\n"
    }
   },
   "outputs": [
    {
     "name": "stdout",
     "output_type": "stream",
     "text": [
      "[0, 2, 4, 6, 8]\n"
     ]
    }
   ],
   "source": [
    "even_numbers = [x for x in range(10) if x % 2 == 0]\n",
    "print(even_numbers)"
   ]
  },
  {
   "cell_type": "code",
   "execution_count": 384,
   "id": "6c806dc4",
   "metadata": {
    "pycharm": {
     "name": "#%%\n"
    }
   },
   "outputs": [],
   "source": [
    "import itertools as it"
   ]
  },
  {
   "cell_type": "code",
   "execution_count": 385,
   "id": "d17d8869",
   "metadata": {
    "pycharm": {
     "name": "#%%\n"
    }
   },
   "outputs": [
    {
     "data": {
      "text/plain": "count(0, 2)"
     },
     "execution_count": 385,
     "metadata": {},
     "output_type": "execute_result"
    }
   ],
   "source": [
    "even_numbers = it.count(0, 2)\n",
    "even_numbers"
   ]
  },
  {
   "cell_type": "code",
   "execution_count": 386,
   "id": "5d3e118d",
   "metadata": {
    "pycharm": {
     "name": "#%%\n"
    }
   },
   "outputs": [],
   "source": [
    "#for x in even_numbers:\n",
    "#print(x)"
   ]
  },
  {
   "cell_type": "code",
   "execution_count": 387,
   "id": "9bf95abc",
   "metadata": {
    "pycharm": {
     "name": "#%%\n"
    }
   },
   "outputs": [
    {
     "data": {
      "text/plain": "[0, 2, 4, 6, 8]"
     },
     "execution_count": 387,
     "metadata": {},
     "output_type": "execute_result"
    }
   ],
   "source": [
    "list(next(even_numbers) for _ in range(5))"
   ]
  },
  {
   "cell_type": "code",
   "execution_count": 388,
   "id": "d59d418e",
   "metadata": {
    "pycharm": {
     "name": "#%%\n"
    }
   },
   "outputs": [
    {
     "data": {
      "text/plain": "[(0, 'a'), (1, 'b'), (2, 'c')]"
     },
     "execution_count": 388,
     "metadata": {},
     "output_type": "execute_result"
    }
   ],
   "source": [
    "list(zip(it.count(), ['a', 'b', 'c']))"
   ]
  },
  {
   "cell_type": "code",
   "execution_count": 389,
   "id": "0e2a3ac2",
   "metadata": {
    "pycharm": {
     "name": "#%%\n"
    }
   },
   "outputs": [],
   "source": [
    "def print_iterable(iterable, end=None):\n",
    "    for x in iterable:\n",
    "        if end:\n",
    "            print(x, end=end)\n",
    "        else:\n",
    "            print(x)"
   ]
  },
  {
   "cell_type": "code",
   "execution_count": 390,
   "id": "41c4223a",
   "metadata": {
    "pycharm": {
     "name": "#%%\n"
    }
   },
   "outputs": [
    {
     "name": "stdout",
     "output_type": "stream",
     "text": [
      "1 1 1 1 1 "
     ]
    }
   ],
   "source": [
    "ones = it.repeat(1, 5)\n",
    "print_iterable(ones, ' ')"
   ]
  },
  {
   "cell_type": "code",
   "execution_count": 391,
   "id": "f9ab26d0",
   "metadata": {
    "pycharm": {
     "name": "#%%\n"
    }
   },
   "outputs": [
    {
     "data": {
      "text/plain": "[0, 1, 4, 9, 16, 25, 36, 49, 64, 81]"
     },
     "execution_count": 391,
     "metadata": {},
     "output_type": "execute_result"
    }
   ],
   "source": [
    "list(map(pow, range(10), it.repeat(2)))"
   ]
  },
  {
   "cell_type": "code",
   "execution_count": 392,
   "id": "eb1f2c7b",
   "metadata": {
    "pycharm": {
     "name": "#%%\n"
    }
   },
   "outputs": [],
   "source": [
    "#for _ in it.repeat(None, 10000):\n",
    "# do something\n",
    "#for _ in range(10000):\n",
    "# compute"
   ]
  },
  {
   "cell_type": "code",
   "execution_count": 393,
   "id": "6f119bce",
   "metadata": {
    "pycharm": {
     "name": "#%%\n"
    }
   },
   "outputs": [
    {
     "name": "stdout",
     "output_type": "stream",
     "text": [
      "[1, -1, 1, -1, 1, -1, 1, -1, 1, -1]\n",
      "['A', 'B', 'C', 'A', 'B', 'C', 'A', 'B', 'C', 'A']\n"
     ]
    }
   ],
   "source": [
    "pos_neg_ones = it.cycle([1, -1])\n",
    "print(list(next(pos_neg_ones) for _ in range(10)))\n",
    "letters = it.cycle(['A', 'B', 'C'])\n",
    "print(list(next(letters) for _ in range(10)))"
   ]
  },
  {
   "cell_type": "code",
   "execution_count": 394,
   "id": "538f6551",
   "metadata": {
    "pycharm": {
     "name": "#%%\n"
    }
   },
   "outputs": [
    {
     "data": {
      "text/plain": "[1, 3, 6, 10, 15]"
     },
     "execution_count": 394,
     "metadata": {},
     "output_type": "execute_result"
    }
   ],
   "source": [
    "list(it.accumulate([1, 2, 3, 4, 5]))\n"
   ]
  },
  {
   "cell_type": "code",
   "execution_count": 395,
   "id": "f35ee5d4",
   "metadata": {
    "pycharm": {
     "name": "#%%\n"
    }
   },
   "outputs": [
    {
     "data": {
      "text/plain": "['A', 'AB', 'ABC', 'ABCD']"
     },
     "execution_count": 395,
     "metadata": {},
     "output_type": "execute_result"
    }
   ],
   "source": [
    "list(it.accumulate(['A', 'B', 'C', 'D']))"
   ]
  },
  {
   "cell_type": "code",
   "execution_count": 396,
   "id": "c54fec00",
   "metadata": {
    "pycharm": {
     "name": "#%%\n"
    }
   },
   "outputs": [
    {
     "data": {
      "text/plain": "[3, 3, 4, 4, 7, 7, 8, 8, 9]"
     },
     "execution_count": 396,
     "metadata": {},
     "output_type": "execute_result"
    }
   ],
   "source": [
    "list(it.accumulate([3, 1, 4, 2, 7, 3, 8, 5, 9], max))"
   ]
  },
  {
   "cell_type": "code",
   "execution_count": 397,
   "id": "00bb07a3",
   "metadata": {
    "pycharm": {
     "name": "#%%\n"
    }
   },
   "outputs": [
    {
     "data": {
      "text/plain": "['A', 'B', 'C', 'D', 'E', 'F']"
     },
     "execution_count": 397,
     "metadata": {},
     "output_type": "execute_result"
    }
   ],
   "source": [
    "list(it.chain('ABC', 'DEF'))"
   ]
  },
  {
   "cell_type": "code",
   "execution_count": 398,
   "id": "ae85736a",
   "metadata": {
    "pycharm": {
     "name": "#%%\n"
    }
   },
   "outputs": [
    {
     "data": {
      "text/plain": "['A', 'B', 'C', 'D', 'E', 'F']"
     },
     "execution_count": 398,
     "metadata": {},
     "output_type": "execute_result"
    }
   ],
   "source": [
    "list(it.chain.from_iterable(['ABC', 'DEF']))"
   ]
  },
  {
   "cell_type": "code",
   "execution_count": 399,
   "id": "f3af0fd7",
   "metadata": {
    "pycharm": {
     "name": "#%%\n"
    }
   },
   "outputs": [
    {
     "data": {
      "text/plain": "[1, 2, 3, 4, 5, 6, 7, 8, 9]"
     },
     "execution_count": 399,
     "metadata": {},
     "output_type": "execute_result"
    }
   ],
   "source": [
    "list(it.chain([1, 2, 3], [4, 5, 6], [7, 8, 9]))"
   ]
  },
  {
   "cell_type": "code",
   "execution_count": 400,
   "id": "4efe6fc5",
   "metadata": {
    "pycharm": {
     "name": "#%%\n"
    }
   },
   "outputs": [
    {
     "data": {
      "text/plain": "[3, 4, 5]"
     },
     "execution_count": 400,
     "metadata": {},
     "output_type": "execute_result"
    }
   ],
   "source": [
    "list(it.dropwhile(lambda x: x < 3, [1, 2, 3, 4, 5]))"
   ]
  },
  {
   "cell_type": "code",
   "execution_count": 401,
   "id": "ae9fc6cc",
   "metadata": {
    "pycharm": {
     "name": "#%%\n"
    }
   },
   "outputs": [
    {
     "data": {
      "text/plain": "[1, 2]"
     },
     "execution_count": 401,
     "metadata": {},
     "output_type": "execute_result"
    }
   ],
   "source": [
    "list(it.takewhile(lambda x: x < 3, [1, 2, 3, 4, 5]))"
   ]
  },
  {
   "cell_type": "code",
   "execution_count": 402,
   "id": "741b794e",
   "metadata": {
    "pycharm": {
     "name": "#%%\n"
    }
   },
   "outputs": [
    {
     "data": {
      "text/plain": "[1, 3, 5, 7, 9]"
     },
     "execution_count": 402,
     "metadata": {},
     "output_type": "execute_result"
    }
   ],
   "source": [
    "list(it.filterfalse(lambda x: x % 2 == 0, range(10)))"
   ]
  },
  {
   "cell_type": "code",
   "execution_count": 403,
   "id": "92ed4424",
   "metadata": {
    "pycharm": {
     "name": "#%%\n"
    }
   },
   "outputs": [
    {
     "name": "stdout",
     "output_type": "stream",
     "text": [
      "1 2 3 \n",
      "iterable is exausted\n"
     ]
    }
   ],
   "source": [
    "iterable = iter([1, 2, 3])\n",
    "print_iterable(iterable, ' ')\n",
    "print(\"\\niterable is exausted\")"
   ]
  },
  {
   "cell_type": "code",
   "execution_count": 404,
   "id": "45399e93",
   "metadata": {
    "pycharm": {
     "name": "#%%\n"
    }
   },
   "outputs": [
    {
     "name": "stdout",
     "output_type": "stream",
     "text": [
      "Return whether 'cls' is a derived from another class or is the same class.\n",
      "\n",
      "A tuple, as in ``issubclass(x, (A, B, ...))``, may be given as the target to\n",
      "check against. This is equivalent to ``issubclass(x, A) or issubclass(x, B)\n",
      "or ...`` etc.\n"
     ]
    }
   ],
   "source": [
    "print(issubclass.__doc__)"
   ]
  },
  {
   "cell_type": "code",
   "execution_count": 405,
   "id": "803b103a",
   "metadata": {
    "pycharm": {
     "name": "#%%\n"
    }
   },
   "outputs": [
    {
     "name": "stdout",
     "output_type": "stream",
     "text": [
      "Help on built-in function issubclass in module builtins:\n",
      "\n",
      "issubclass(cls, class_or_tuple, /)\n",
      "    Return whether 'cls' is a derived from another class or is the same class.\n",
      "    \n",
      "    A tuple, as in ``issubclass(x, (A, B, ...))``, may be given as the target to\n",
      "    check against. This is equivalent to ``issubclass(x, A) or issubclass(x, B)\n",
      "    or ...`` etc.\n",
      "\n"
     ]
    }
   ],
   "source": [
    "help(issubclass)"
   ]
  },
  {
   "cell_type": "code",
   "execution_count": 406,
   "id": "8759a9b7",
   "metadata": {
    "pycharm": {
     "name": "#%%\n"
    }
   },
   "outputs": [],
   "source": [
    "class Shape:\n",
    "    pass\n",
    "\n",
    "\n",
    "class Circle(Shape):\n",
    "    def __init__(self, radius):\n",
    "        self.radius = radius\n",
    "\n",
    "\n",
    "circle = Circle(10)"
   ]
  },
  {
   "cell_type": "code",
   "execution_count": 407,
   "id": "dc7eae23",
   "metadata": {
    "pycharm": {
     "name": "#%%\n"
    }
   },
   "outputs": [
    {
     "name": "stdout",
     "output_type": "stream",
     "text": [
      "True\n"
     ]
    }
   ],
   "source": [
    "print(issubclass(Circle, Shape))"
   ]
  },
  {
   "cell_type": "code",
   "execution_count": 408,
   "id": "7beea9a5",
   "metadata": {
    "pycharm": {
     "name": "#%%\n"
    }
   },
   "outputs": [
    {
     "name": "stdout",
     "output_type": "stream",
     "text": [
      "True\n",
      "True\n"
     ]
    }
   ],
   "source": [
    "print(isinstance(circle, Circle))\n",
    "print(isinstance(circle, Shape))"
   ]
  },
  {
   "cell_type": "code",
   "execution_count": 409,
   "id": "30262d4c",
   "metadata": {
    "pycharm": {
     "name": "#%%\n"
    }
   },
   "outputs": [
    {
     "name": "stdout",
     "output_type": "stream",
     "text": [
      "True\n",
      "True\n",
      "False\n"
     ]
    }
   ],
   "source": [
    "print(isinstance(12, int))\n",
    "print(isinstance(\"hi\", str))\n",
    "print(isinstance(\"hi\", float))"
   ]
  },
  {
   "cell_type": "code",
   "execution_count": 410,
   "id": "ddbdaa93",
   "metadata": {
    "pycharm": {
     "name": "#%%\n"
    }
   },
   "outputs": [
    {
     "name": "stdout",
     "output_type": "stream",
     "text": [
      "False\n",
      "True\n"
     ]
    }
   ],
   "source": [
    "print(callable(circle))  #object that defines __call__() is considered callable\n",
    "print(callable(print))"
   ]
  },
  {
   "cell_type": "code",
   "execution_count": 411,
   "id": "c9eaab1d",
   "metadata": {
    "pycharm": {
     "name": "#%%\n"
    }
   },
   "outputs": [
    {
     "name": "stdout",
     "output_type": "stream",
     "text": [
      "10\n",
      "20\n"
     ]
    }
   ],
   "source": [
    "if hasattr(circle, \"radius\"):\n",
    "    print(getattr(circle, \"radius\"))\n",
    "    setattr(circle, \"radius\", 20)\n",
    "    print(getattr(circle, \"radius\"))"
   ]
  },
  {
   "cell_type": "code",
   "execution_count": 412,
   "id": "bf938f68",
   "metadata": {
    "pycharm": {
     "name": "#%%\n"
    }
   },
   "outputs": [
    {
     "data": {
      "text/plain": "['__class__',\n '__delattr__',\n '__dict__',\n '__dir__',\n '__doc__',\n '__eq__',\n '__format__',\n '__ge__',\n '__getattribute__',\n '__gt__',\n '__hash__',\n '__init__',\n '__init_subclass__',\n '__le__',\n '__lt__',\n '__module__',\n '__ne__',\n '__new__',\n '__reduce__',\n '__reduce_ex__',\n '__repr__',\n '__setattr__',\n '__sizeof__',\n '__str__',\n '__subclasshook__',\n '__weakref__',\n 'radius']"
     },
     "execution_count": 412,
     "metadata": {},
     "output_type": "execute_result"
    }
   ],
   "source": [
    "dir(circle)"
   ]
  },
  {
   "cell_type": "code",
   "execution_count": 413,
   "id": "c3251310",
   "metadata": {
    "pycharm": {
     "name": "#%%\n"
    }
   },
   "outputs": [
    {
     "data": {
      "text/plain": "{'radius': 20}"
     },
     "execution_count": 413,
     "metadata": {},
     "output_type": "execute_result"
    }
   ],
   "source": [
    "circle.__dict__"
   ]
  },
  {
   "cell_type": "code",
   "execution_count": 414,
   "id": "2ba23cbc",
   "metadata": {
    "pycharm": {
     "name": "#%%\n"
    }
   },
   "outputs": [
    {
     "data": {
      "text/plain": "'Circle'"
     },
     "execution_count": 414,
     "metadata": {},
     "output_type": "execute_result"
    }
   ],
   "source": [
    "Circle.__name__"
   ]
  },
  {
   "cell_type": "code",
   "execution_count": 415,
   "id": "0b7a3866",
   "metadata": {
    "pycharm": {
     "name": "#%%\n"
    }
   },
   "outputs": [
    {
     "data": {
      "text/plain": "'__main__'"
     },
     "execution_count": 415,
     "metadata": {},
     "output_type": "execute_result"
    }
   ],
   "source": [
    "__name__"
   ]
  },
  {
   "cell_type": "code",
   "execution_count": 416,
   "id": "3b20eee9",
   "metadata": {
    "pycharm": {
     "name": "#%%\n"
    }
   },
   "outputs": [
    {
     "data": {
      "text/plain": "__main__.Circle"
     },
     "execution_count": 416,
     "metadata": {},
     "output_type": "execute_result"
    }
   ],
   "source": [
    "type(circle)"
   ]
  },
  {
   "cell_type": "code",
   "execution_count": 417,
   "id": "1f1f11c7",
   "metadata": {
    "pycharm": {
     "name": "#%%\n"
    }
   },
   "outputs": [
    {
     "name": "stdout",
     "output_type": "stream",
     "text": [
      "2804570097216\n",
      "2804570097216\n"
     ]
    }
   ],
   "source": [
    "circle2 = circle\n",
    "print(id(circle))\n",
    "print(id(circle))"
   ]
  },
  {
   "cell_type": "code",
   "execution_count": 418,
   "id": "055825e3",
   "metadata": {
    "pycharm": {
     "name": "#%%\n"
    }
   },
   "outputs": [
    {
     "data": {
      "text/plain": "'<__main__.Circle object at 0x0000028CFD678640>'"
     },
     "execution_count": 418,
     "metadata": {},
     "output_type": "execute_result"
    }
   ],
   "source": [
    "repr(circle)"
   ]
  },
  {
   "cell_type": "code",
   "execution_count": 419,
   "id": "fb668299",
   "metadata": {
    "pycharm": {
     "name": "#%%\n"
    }
   },
   "outputs": [],
   "source": [
    "import requests"
   ]
  },
  {
   "cell_type": "markdown",
   "source": [
    "response = requests.get(\"https://www.-.com/\")"
   ],
   "metadata": {
    "collapsed": false,
    "pycharm": {
     "name": "#%% md\n"
    }
   }
  },
  {
   "cell_type": "markdown",
   "source": [
    "response"
   ],
   "metadata": {
    "collapsed": false,
    "pycharm": {
     "name": "#%% md\n"
    }
   }
  },
  {
   "cell_type": "markdown",
   "source": [
    "type(response)"
   ],
   "metadata": {
    "collapsed": false,
    "pycharm": {
     "name": "#%% md\n"
    }
   }
  },
  {
   "cell_type": "markdown",
   "source": [
    "response.status_code"
   ],
   "metadata": {
    "collapsed": false,
    "pycharm": {
     "name": "#%% md\n"
    }
   }
  },
  {
   "cell_type": "markdown",
   "source": [
    "if response:\n",
    "    print('Works!')"
   ],
   "metadata": {
    "collapsed": false,
    "pycharm": {
     "name": "#%% md\n"
    }
   }
  },
  {
   "cell_type": "markdown",
   "source": [
    "from requests import HTTPError\n",
    "\n",
    "for url in [\"https://www.-.com/\", \"https://www.-.com/inexistent\"]:\n",
    "    try:\n",
    "        response = requests.get(url)\n",
    "        response.raise_for_status()\n",
    "    except HTTPError as http_err:\n",
    "        print(f'Error:{http_err}')\n",
    "    except Exception as err:\n",
    "        print(f'Unknown error: {err}')\n",
    "    else:\n",
    "        print('Connected Successfully!')"
   ],
   "metadata": {
    "collapsed": false,
    "pycharm": {
     "name": "#%% md\n"
    }
   }
  },
  {
   "cell_type": "markdown",
   "source": [
    "response = requests.get(\"https://www.-.com/\")\n",
    "response.content"
   ],
   "metadata": {
    "collapsed": false,
    "pycharm": {
     "name": "#%% md\n"
    }
   }
  },
  {
   "cell_type": "markdown",
   "source": [
    "response.encoding = 'utf-8'"
   ],
   "metadata": {
    "collapsed": false,
    "pycharm": {
     "name": "#%% md\n"
    }
   }
  },
  {
   "cell_type": "markdown",
   "source": [
    "response.text"
   ],
   "metadata": {
    "collapsed": false,
    "pycharm": {
     "name": "#%% md\n"
    }
   }
  },
  {
   "cell_type": "markdown",
   "source": [
    "response = requests.get(\"https://api.github.com\")\n",
    "response.text"
   ],
   "metadata": {
    "collapsed": false,
    "pycharm": {
     "name": "#%% md\n"
    }
   }
  },
  {
   "cell_type": "markdown",
   "source": [
    "data = response.json()\n",
    "data"
   ],
   "metadata": {
    "collapsed": false,
    "pycharm": {
     "name": "#%% md\n"
    }
   }
  },
  {
   "cell_type": "markdown",
   "source": [
    "blog_response = requests.get(\"https://www.-.com/\")\n",
    "github_response = requests.get(\"https://api.github.com\")"
   ],
   "metadata": {
    "collapsed": false,
    "pycharm": {
     "name": "#%% md\n"
    }
   }
  },
  {
   "cell_type": "markdown",
   "source": [
    "print(blog_response.headers, end='\\n')\n",
    "print('')\n",
    "print(github_response.headers, end='\\n')"
   ],
   "metadata": {
    "collapsed": false,
    "pycharm": {
     "name": "#%% md\n"
    }
   }
  },
  {
   "cell_type": "markdown",
   "source": [
    "blog_response.headers[\"content-type\"]"
   ],
   "metadata": {
    "collapsed": false,
    "pycharm": {
     "name": "#%% md\n"
    }
   }
  },
  {
   "cell_type": "markdown",
   "source": [
    "placeholder_response = requests.get(\"http://jsonplaceholder.typicode.com/comments\", params=b'postId = 1')"
   ],
   "metadata": {
    "collapsed": false,
    "pycharm": {
     "name": "#%% md\n"
    }
   }
  },
  {
   "cell_type": "markdown",
   "source": [
    "placeholder_response.json()"
   ],
   "metadata": {
    "collapsed": false,
    "pycharm": {
     "name": "#%% md\n"
    }
   }
  },
  {
   "cell_type": "code",
   "execution_count": 420,
   "id": "75a3df60",
   "metadata": {
    "pycharm": {
     "name": "#%%\n"
    }
   },
   "outputs": [],
   "source": [
    "class Tournament:\n",
    "    def __init__(self, name, year):\n",
    "        self.name = name\n",
    "        self.year = year\n",
    "\n",
    "    @classmethod\n",
    "    def from_json(cls, json_data):\n",
    "        return cls(**json_data)\n",
    "\n",
    "\n",
    "class ChessPlayer:\n",
    "    def __init__(self, tournaments):\n",
    "        self.tournaments = tournaments\n",
    "\n",
    "    @classmethod\n",
    "    def from_json(cls, json_data):\n",
    "        tournaments = list(map(Tournament.from_json, json_data[\"tournaments\"]))\n",
    "        return cls(tournaments)\n",
    "\n",
    "\n",
    "t1 = Tournament(\"Aeroflot Open\", 2010)\n",
    "t2 = Tournament(\"FIDE World Cup\", 2018)\n",
    "t3 = Tournament(\"FIDE Grand Prix\", 2016)\n",
    "p1 = ChessPlayer([t1, t2, t3])\n",
    "json_data = json.dumps(p1, default=lambda obj: obj.__dict__, indent=4, sort_keys=True)"
   ]
  },
  {
   "cell_type": "code",
   "execution_count": 421,
   "id": "89b92ae7",
   "metadata": {
    "pycharm": {
     "name": "#%%\n"
    }
   },
   "outputs": [],
   "source": [
    "response = requests.post(\"https://httpbin.org/post\", json=json_data)"
   ]
  },
  {
   "cell_type": "code",
   "execution_count": 422,
   "id": "d1ce439b",
   "metadata": {
    "pycharm": {
     "name": "#%%\n"
    }
   },
   "outputs": [],
   "source": [
    "json_response = response.json()"
   ]
  },
  {
   "cell_type": "code",
   "execution_count": 423,
   "id": "62551c6e",
   "metadata": {
    "pycharm": {
     "name": "#%%\n"
    }
   },
   "outputs": [
    {
     "name": "stdout",
     "output_type": "stream",
     "text": [
      "\"{\\n    \\\"tournaments\\\": [\\n        {\\n            \\\"name\\\": \\\"Aeroflot Open\\\",\\n            \\\"year\\\": 2010\\n        },\\n        {\\n            \\\"name\\\": \\\"FIDE World Cup\\\",\\n            \\\"year\\\": 2018\\n        },\\n        {\\n            \\\"name\\\": \\\"FIDE Grand Prix\\\",\\n            \\\"year\\\": 2016\\n        }\\n    ]\\n}\"\n"
     ]
    }
   ],
   "source": [
    "print(json_response['data'])"
   ]
  },
  {
   "cell_type": "code",
   "execution_count": 424,
   "id": "b40146ec",
   "metadata": {
    "pycharm": {
     "name": "#%%\n"
    }
   },
   "outputs": [
    {
     "data": {
      "text/plain": "'application/json'"
     },
     "execution_count": 424,
     "metadata": {},
     "output_type": "execute_result"
    }
   ],
   "source": [
    "json_response['headers']['Content-Type']"
   ]
  },
  {
   "cell_type": "code",
   "execution_count": 425,
   "id": "6eab8668",
   "metadata": {
    "pycharm": {
     "name": "#%%\n"
    }
   },
   "outputs": [],
   "source": [
    "from getpass import getpass\n",
    "\n",
    "#auth_response = requests.get(\"https://github.com/login\", auth=(\"SHagitov\", getpass()))"
   ]
  },
  {
   "cell_type": "code",
   "execution_count": 426,
   "id": "fc26863f",
   "metadata": {
    "pycharm": {
     "name": "#%%\n"
    }
   },
   "outputs": [],
   "source": [
    "#auth_response.json()"
   ]
  },
  {
   "cell_type": "markdown",
   "source": [
    "from requests.exceptions import Timeout\n",
    "\n",
    "try:\n",
    "    response = requests.get(\"https://www.-.com/\", timeout=1)\n",
    "except Timeout:\n",
    "    prnt('The request timed out')\n"
   ],
   "metadata": {
    "collapsed": false,
    "pycharm": {
     "name": "#%% md\n"
    }
   }
  },
  {
   "cell_type": "code",
   "execution_count": 427,
   "id": "0fe62421",
   "metadata": {
    "pycharm": {
     "name": "#%%\n"
    }
   },
   "outputs": [
    {
     "data": {
      "text/plain": "<Response [200]>"
     },
     "execution_count": 427,
     "metadata": {},
     "output_type": "execute_result"
    }
   ],
   "source": [
    "response"
   ]
  },
  {
   "cell_type": "code",
   "execution_count": 428,
   "id": "aab9bccd",
   "metadata": {
    "pycharm": {
     "name": "#%%\n"
    }
   },
   "outputs": [],
   "source": [
    "class Character:\n",
    "    def __init__(self, armor: int, power: int):\n",
    "        self.armor = armor\n",
    "        self.power = power\n",
    "        self.health = 100\n",
    "\n",
    "    def hit(self, damage: int):\n",
    "        self.health -= damage\n",
    "\n",
    "    def is_alive(self):\n",
    "        return self.health > 0\n"
   ]
  },
  {
   "cell_type": "code",
   "execution_count": 429,
   "id": "7c4bd668",
   "metadata": {
    "pycharm": {
     "name": "#%%\n"
    }
   },
   "outputs": [],
   "source": [
    "c1 = Character(10, 20)\n",
    "c1.hit(20)"
   ]
  },
  {
   "cell_type": "code",
   "execution_count": 430,
   "id": "9db97980",
   "metadata": {
    "pycharm": {
     "name": "#%%\n"
    }
   },
   "outputs": [],
   "source": [
    "amount: int"
   ]
  },
  {
   "cell_type": "code",
   "execution_count": 431,
   "id": "8d39e42a",
   "metadata": {
    "pycharm": {
     "name": "#%%\n"
    }
   },
   "outputs": [],
   "source": [
    "from typing import Optional, Any, Union, List, Tuple, Dict, Iterable"
   ]
  },
  {
   "cell_type": "code",
   "execution_count": 432,
   "id": "a931b466",
   "metadata": {
    "pycharm": {
     "name": "#%%\n"
    }
   },
   "outputs": [],
   "source": [
    "price: Optional[int]\n",
    "price = 10"
   ]
  },
  {
   "cell_type": "code",
   "execution_count": 433,
   "id": "0a2a9b6b",
   "metadata": {
    "pycharm": {
     "name": "#%%\n"
    }
   },
   "outputs": [],
   "source": [
    "price = None\n",
    "price = 'abcdef'"
   ]
  },
  {
   "cell_type": "code",
   "execution_count": 434,
   "id": "558a01c2",
   "metadata": {
    "pycharm": {
     "name": "#%%\n"
    }
   },
   "outputs": [],
   "source": [
    "attack: Any = 1\n",
    "attack = \"hi\""
   ]
  },
  {
   "cell_type": "code",
   "execution_count": 435,
   "id": "f4d69538",
   "metadata": {
    "pycharm": {
     "name": "#%%\n"
    }
   },
   "outputs": [],
   "source": [
    "length: Union[int, float]\n",
    "length = 1\n",
    "length = 1.2\n",
    "length = 'abc'"
   ]
  },
  {
   "cell_type": "code",
   "execution_count": 436,
   "id": "bc8d33f1",
   "metadata": {
    "pycharm": {
     "name": "#%%\n"
    }
   },
   "outputs": [],
   "source": [
    "quotes: list\n",
    "quotes = 'abc'"
   ]
  },
  {
   "cell_type": "code",
   "execution_count": 437,
   "id": "d7839fca",
   "metadata": {
    "pycharm": {
     "name": "#%%\n"
    }
   },
   "outputs": [],
   "source": [
    "quotes: List[int]  #Set, FrozenSet\n",
    "#quotes.append(1)\n",
    "#quotes.append('abc')"
   ]
  },
  {
   "cell_type": "code",
   "execution_count": 438,
   "id": "57a9872f",
   "metadata": {
    "pycharm": {
     "name": "#%%\n"
    }
   },
   "outputs": [],
   "source": [
    "player: Tuple[str, int] = (\"Kramnik\", 2750)"
   ]
  },
  {
   "cell_type": "code",
   "execution_count": 439,
   "id": "db2064fd",
   "metadata": {
    "pycharm": {
     "name": "#%%\n"
    }
   },
   "outputs": [
    {
     "data": {
      "text/plain": "(1, 2, 3, 4, 5)"
     },
     "execution_count": 439,
     "metadata": {},
     "output_type": "execute_result"
    }
   ],
   "source": [
    "changes_in_rating: Tuple[int, ...]\n",
    "changes_in_rating = (1, 2, 3, 4, 5)\n",
    "changes_in_rating"
   ]
  },
  {
   "cell_type": "code",
   "execution_count": 440,
   "id": "9cf9884b",
   "metadata": {
    "pycharm": {
     "name": "#%%\n"
    }
   },
   "outputs": [
    {
     "data": {
      "text/plain": "(1, 'abc')"
     },
     "execution_count": 440,
     "metadata": {},
     "output_type": "execute_result"
    }
   ],
   "source": [
    "changes_in_rating = (1, \"abc\")\n",
    "changes_in_rating"
   ]
  },
  {
   "cell_type": "code",
   "execution_count": 441,
   "id": "8c1bae9d",
   "metadata": {
    "pycharm": {
     "name": "#%%\n"
    }
   },
   "outputs": [],
   "source": [
    "chess_players: Dict[str, int] = {\"Shagitov\": 2004}"
   ]
  },
  {
   "cell_type": "code",
   "execution_count": 442,
   "id": "d17fd06f",
   "metadata": {
    "pycharm": {
     "name": "#%%\n"
    }
   },
   "outputs": [],
   "source": [
    "import random"
   ]
  },
  {
   "cell_type": "code",
   "execution_count": 443,
   "id": "f5916df8",
   "metadata": {
    "pycharm": {
     "name": "#%%\n"
    }
   },
   "outputs": [],
   "source": [
    "def random_stream(min_val: int, max_val: int) -> Iterable[int]:\n",
    "    while True:\n",
    "        yield random(min_val, max_val)"
   ]
  },
  {
   "cell_type": "code",
   "execution_count": 444,
   "id": "889823d7",
   "metadata": {
    "pycharm": {
     "name": "#%%\n"
    }
   },
   "outputs": [],
   "source": [
    "class Question:\n",
    "    def __init__(self, text, is_true, explanation):\n",
    "        self.text = text\n",
    "        self.is_true = is_true\n",
    "        self.expplanation = explanation"
   ]
  },
  {
   "cell_type": "code",
   "execution_count": 445,
   "id": "35789fc5",
   "metadata": {
    "pycharm": {
     "name": "#%%\n"
    }
   },
   "outputs": [],
   "source": [
    "from dataclasses import dataclass"
   ]
  },
  {
   "cell_type": "code",
   "execution_count": 446,
   "id": "f9e49bb0",
   "metadata": {
    "pycharm": {
     "name": "#%%\n"
    }
   },
   "outputs": [],
   "source": [
    "@dataclass\n",
    "class Question:\n",
    "    text: str\n",
    "    is_true: bool\n",
    "    explanation: str"
   ]
  },
  {
   "cell_type": "code",
   "execution_count": 447,
   "id": "9bab1da0",
   "metadata": {
    "pycharm": {
     "name": "#%%\n"
    }
   },
   "outputs": [
    {
     "data": {
      "text/plain": "'test'"
     },
     "execution_count": 447,
     "metadata": {},
     "output_type": "execute_result"
    }
   ],
   "source": [
    "q = Question(\"test\", True, \"because\")\n",
    "q.text"
   ]
  },
  {
   "cell_type": "code",
   "execution_count": 448,
   "id": "891957f0",
   "metadata": {
    "pycharm": {
     "name": "#%%\n"
    }
   },
   "outputs": [],
   "source": [
    "@dataclass\n",
    "class Question:\n",
    "    text: str = \"\"\n",
    "    is_true: bool = False\n",
    "    explanation: str = \"\""
   ]
  },
  {
   "cell_type": "code",
   "execution_count": 449,
   "id": "ba815807",
   "metadata": {
    "pycharm": {
     "name": "#%%\n"
    }
   },
   "outputs": [
    {
     "data": {
      "text/plain": "'hi'"
     },
     "execution_count": 449,
     "metadata": {},
     "output_type": "execute_result"
    }
   ],
   "source": [
    "q = Question()\n",
    "q.text = \"hi\"\n",
    "q.text"
   ]
  },
  {
   "cell_type": "code",
   "execution_count": 450,
   "id": "0904a1f6",
   "metadata": {
    "pycharm": {
     "name": "#%%\n"
    }
   },
   "outputs": [],
   "source": [
    "@dataclass(frozen=True)\n",
    "class Question:\n",
    "    text: str = \"\"\n",
    "    is_true: bool = False\n",
    "    explanation: str = \"\""
   ]
  },
  {
   "cell_type": "code",
   "execution_count": 451,
   "id": "594b4f1c",
   "metadata": {
    "pycharm": {
     "name": "#%%\n"
    }
   },
   "outputs": [],
   "source": [
    "q = Question(\"test\", True, \"because\")"
   ]
  },
  {
   "cell_type": "code",
   "execution_count": 452,
   "id": "d368fec5",
   "metadata": {
    "pycharm": {
     "name": "#%%\n"
    }
   },
   "outputs": [],
   "source": [
    "#q.text = \"change\""
   ]
  },
  {
   "cell_type": "code",
   "execution_count": 453,
   "id": "f343429b",
   "metadata": {
    "pycharm": {
     "name": "#%%\n"
    }
   },
   "outputs": [
    {
     "data": {
      "text/plain": "tuple"
     },
     "execution_count": 453,
     "metadata": {},
     "output_type": "execute_result"
    }
   ],
   "source": [
    "type((0, 0, 0))"
   ]
  },
  {
   "cell_type": "code",
   "execution_count": 454,
   "id": "e3d8e308",
   "metadata": {
    "pycharm": {
     "name": "#%%\n"
    }
   },
   "outputs": [
    {
     "data": {
      "text/plain": "True"
     },
     "execution_count": 454,
     "metadata": {},
     "output_type": "execute_result"
    }
   ],
   "source": [
    "isinstance(\"0\", str)"
   ]
  },
  {
   "cell_type": "code",
   "execution_count": 455,
   "id": "bc392ae2",
   "metadata": {
    "pycharm": {
     "name": "#%%\n"
    }
   },
   "outputs": [
    {
     "data": {
      "text/plain": "type"
     },
     "execution_count": 455,
     "metadata": {},
     "output_type": "execute_result"
    }
   ],
   "source": [
    "type(int)"
   ]
  },
  {
   "cell_type": "code",
   "execution_count": 456,
   "id": "f72587c5",
   "metadata": {
    "pycharm": {
     "name": "#%%\n"
    }
   },
   "outputs": [
    {
     "data": {
      "text/plain": "True"
     },
     "execution_count": 456,
     "metadata": {},
     "output_type": "execute_result"
    }
   ],
   "source": [
    "isinstance(list, object)"
   ]
  },
  {
   "cell_type": "code",
   "execution_count": 457,
   "id": "3935676c",
   "metadata": {
    "pycharm": {
     "name": "#%%\n"
    }
   },
   "outputs": [],
   "source": [
    "class Car:\n",
    "    pass"
   ]
  },
  {
   "cell_type": "code",
   "execution_count": 458,
   "id": "d15aefc8",
   "metadata": {
    "pycharm": {
     "name": "#%%\n"
    }
   },
   "outputs": [
    {
     "data": {
      "text/plain": "__main__.Car"
     },
     "execution_count": 458,
     "metadata": {},
     "output_type": "execute_result"
    }
   ],
   "source": [
    "a = Car()\n",
    "type(a)"
   ]
  },
  {
   "cell_type": "code",
   "execution_count": 459,
   "id": "a5673f9a",
   "metadata": {
    "pycharm": {
     "name": "#%%\n"
    }
   },
   "outputs": [
    {
     "data": {
      "text/plain": "True"
     },
     "execution_count": 459,
     "metadata": {},
     "output_type": "execute_result"
    }
   ],
   "source": [
    "isinstance(a, Car)"
   ]
  },
  {
   "cell_type": "code",
   "execution_count": 460,
   "id": "100238c0",
   "metadata": {
    "pycharm": {
     "name": "#%%\n"
    }
   },
   "outputs": [],
   "source": [
    "class Car:\n",
    "    model = \"BMW\"\n",
    "    engine = 1.6"
   ]
  },
  {
   "cell_type": "code",
   "execution_count": 461,
   "id": "f5b12bab",
   "metadata": {
    "pycharm": {
     "name": "#%%\n"
    }
   },
   "outputs": [],
   "source": [
    "a = Car()"
   ]
  },
  {
   "cell_type": "code",
   "execution_count": 462,
   "id": "332caff3",
   "metadata": {
    "pycharm": {
     "name": "#%%\n"
    }
   },
   "outputs": [],
   "source": [
    "class Person:\n",
    "    name = \"Ivan\"\n",
    "    age = 30"
   ]
  },
  {
   "cell_type": "code",
   "execution_count": 463,
   "id": "01a07838",
   "metadata": {
    "pycharm": {
     "name": "#%%\n"
    }
   },
   "outputs": [
    {
     "data": {
      "text/plain": "__main__.Person"
     },
     "execution_count": 463,
     "metadata": {},
     "output_type": "execute_result"
    }
   ],
   "source": [
    "Person"
   ]
  },
  {
   "cell_type": "code",
   "execution_count": 464,
   "id": "499c0b45",
   "metadata": {
    "pycharm": {
     "name": "#%%\n"
    }
   },
   "outputs": [
    {
     "data": {
      "text/plain": "'Ivan'"
     },
     "execution_count": 464,
     "metadata": {},
     "output_type": "execute_result"
    }
   ],
   "source": [
    "Person.name"
   ]
  },
  {
   "cell_type": "code",
   "execution_count": 465,
   "id": "9239ec5f",
   "metadata": {
    "pycharm": {
     "name": "#%%\n"
    }
   },
   "outputs": [
    {
     "data": {
      "text/plain": "30"
     },
     "execution_count": 465,
     "metadata": {},
     "output_type": "execute_result"
    }
   ],
   "source": [
    "Person.age"
   ]
  },
  {
   "cell_type": "code",
   "execution_count": 466,
   "id": "c5deeeeb",
   "metadata": {
    "pycharm": {
     "name": "#%%\n"
    }
   },
   "outputs": [
    {
     "data": {
      "text/plain": "mappingproxy({'__module__': '__main__',\n              'name': 'Ivan',\n              'age': 30,\n              '__dict__': <attribute '__dict__' of 'Person' objects>,\n              '__weakref__': <attribute '__weakref__' of 'Person' objects>,\n              '__doc__': None})"
     },
     "execution_count": 466,
     "metadata": {},
     "output_type": "execute_result"
    }
   ],
   "source": [
    "Person.__dict__"
   ]
  },
  {
   "cell_type": "code",
   "execution_count": 467,
   "id": "7fa31d07",
   "metadata": {
    "pycharm": {
     "name": "#%%\n"
    }
   },
   "outputs": [
    {
     "data": {
      "text/plain": "'Ivan'"
     },
     "execution_count": 467,
     "metadata": {},
     "output_type": "execute_result"
    }
   ],
   "source": [
    "getattr(Person, 'name')"
   ]
  },
  {
   "cell_type": "code",
   "execution_count": 468,
   "id": "d60b231e",
   "metadata": {
    "pycharm": {
     "name": "#%%\n"
    }
   },
   "outputs": [
    {
     "data": {
      "text/plain": "100"
     },
     "execution_count": 468,
     "metadata": {},
     "output_type": "execute_result"
    }
   ],
   "source": [
    "getattr(Person, 'x', 100)"
   ]
  },
  {
   "cell_type": "code",
   "execution_count": 469,
   "id": "74a4021c",
   "metadata": {
    "pycharm": {
     "name": "#%%\n"
    }
   },
   "outputs": [
    {
     "data": {
      "text/plain": "'Ivan'"
     },
     "execution_count": 469,
     "metadata": {},
     "output_type": "execute_result"
    }
   ],
   "source": [
    "getattr(Person, 'name', 100)"
   ]
  },
  {
   "cell_type": "code",
   "execution_count": 470,
   "id": "a0976e65",
   "metadata": {
    "pycharm": {
     "name": "#%%\n"
    }
   },
   "outputs": [],
   "source": [
    "Person.name = 'Misha'"
   ]
  },
  {
   "cell_type": "code",
   "execution_count": 471,
   "id": "e5d7ca48",
   "metadata": {
    "pycharm": {
     "name": "#%%\n"
    }
   },
   "outputs": [
    {
     "data": {
      "text/plain": "'Misha'"
     },
     "execution_count": 471,
     "metadata": {},
     "output_type": "execute_result"
    }
   ],
   "source": [
    "Person.name"
   ]
  },
  {
   "cell_type": "code",
   "execution_count": 472,
   "id": "b3c766b2",
   "metadata": {
    "pycharm": {
     "name": "#%%\n"
    }
   },
   "outputs": [],
   "source": [
    "Person.x = 0"
   ]
  },
  {
   "cell_type": "code",
   "execution_count": 473,
   "id": "62203b36",
   "metadata": {
    "pycharm": {
     "name": "#%%\n"
    }
   },
   "outputs": [
    {
     "data": {
      "text/plain": "mappingproxy({'__module__': '__main__',\n              'name': 'Misha',\n              'age': 30,\n              '__dict__': <attribute '__dict__' of 'Person' objects>,\n              '__weakref__': <attribute '__weakref__' of 'Person' objects>,\n              '__doc__': None,\n              'x': 0})"
     },
     "execution_count": 473,
     "metadata": {},
     "output_type": "execute_result"
    }
   ],
   "source": [
    "Person.__dict__"
   ]
  },
  {
   "cell_type": "code",
   "execution_count": 474,
   "id": "3c1b0271",
   "metadata": {
    "pycharm": {
     "name": "#%%\n"
    }
   },
   "outputs": [],
   "source": [
    "Person.x = [0, 1, 2]"
   ]
  },
  {
   "cell_type": "code",
   "execution_count": 475,
   "id": "352effef",
   "metadata": {
    "pycharm": {
     "name": "#%%\n"
    }
   },
   "outputs": [
    {
     "data": {
      "text/plain": "[0, 1, 2]"
     },
     "execution_count": 475,
     "metadata": {},
     "output_type": "execute_result"
    }
   ],
   "source": [
    "Person.x"
   ]
  },
  {
   "cell_type": "code",
   "execution_count": 476,
   "id": "3a296914",
   "metadata": {
    "pycharm": {
     "name": "#%%\n"
    }
   },
   "outputs": [],
   "source": [
    "setattr(Person, 'x', 777)"
   ]
  },
  {
   "cell_type": "code",
   "execution_count": 477,
   "id": "5aac1f3f",
   "metadata": {
    "pycharm": {
     "name": "#%%\n"
    }
   },
   "outputs": [
    {
     "data": {
      "text/plain": "777"
     },
     "execution_count": 477,
     "metadata": {},
     "output_type": "execute_result"
    }
   ],
   "source": [
    "Person.x"
   ]
  },
  {
   "cell_type": "code",
   "execution_count": 478,
   "id": "71a4c9e5",
   "metadata": {
    "pycharm": {
     "name": "#%%\n"
    }
   },
   "outputs": [],
   "source": [
    "setattr(Person, 'y', 10)"
   ]
  },
  {
   "cell_type": "code",
   "execution_count": 479,
   "id": "5cf63541",
   "metadata": {
    "pycharm": {
     "name": "#%%\n"
    }
   },
   "outputs": [
    {
     "data": {
      "text/plain": "10"
     },
     "execution_count": 479,
     "metadata": {},
     "output_type": "execute_result"
    }
   ],
   "source": [
    "Person.y"
   ]
  },
  {
   "cell_type": "code",
   "execution_count": 480,
   "id": "66f4578b",
   "metadata": {
    "pycharm": {
     "name": "#%%\n"
    }
   },
   "outputs": [
    {
     "data": {
      "text/plain": "mappingproxy({'__module__': '__main__',\n              'name': 'Misha',\n              'age': 30,\n              '__dict__': <attribute '__dict__' of 'Person' objects>,\n              '__weakref__': <attribute '__weakref__' of 'Person' objects>,\n              '__doc__': None,\n              'x': 777,\n              'y': 10})"
     },
     "execution_count": 480,
     "metadata": {},
     "output_type": "execute_result"
    }
   ],
   "source": [
    "Person.__dict__"
   ]
  },
  {
   "cell_type": "code",
   "execution_count": 481,
   "id": "598b1fbd",
   "metadata": {
    "pycharm": {
     "name": "#%%\n"
    }
   },
   "outputs": [],
   "source": [
    "del Person.x"
   ]
  },
  {
   "cell_type": "code",
   "execution_count": 482,
   "id": "b27179c0",
   "metadata": {
    "pycharm": {
     "name": "#%%\n"
    }
   },
   "outputs": [
    {
     "data": {
      "text/plain": "mappingproxy({'__module__': '__main__',\n              'name': 'Misha',\n              'age': 30,\n              '__dict__': <attribute '__dict__' of 'Person' objects>,\n              '__weakref__': <attribute '__weakref__' of 'Person' objects>,\n              '__doc__': None,\n              'y': 10})"
     },
     "execution_count": 482,
     "metadata": {},
     "output_type": "execute_result"
    }
   ],
   "source": [
    "Person.__dict__"
   ]
  },
  {
   "cell_type": "code",
   "execution_count": 483,
   "id": "7b4e69b9",
   "metadata": {
    "pycharm": {
     "name": "#%%\n"
    }
   },
   "outputs": [],
   "source": [
    "delattr(Person, 'y')"
   ]
  },
  {
   "cell_type": "code",
   "execution_count": 484,
   "id": "1b5517ab",
   "metadata": {
    "pycharm": {
     "name": "#%%\n"
    }
   },
   "outputs": [
    {
     "data": {
      "text/plain": "mappingproxy({'__module__': '__main__',\n              'name': 'Misha',\n              'age': 30,\n              '__dict__': <attribute '__dict__' of 'Person' objects>,\n              '__weakref__': <attribute '__weakref__' of 'Person' objects>,\n              '__doc__': None})"
     },
     "execution_count": 484,
     "metadata": {},
     "output_type": "execute_result"
    }
   ],
   "source": [
    "Person.__dict__"
   ]
  },
  {
   "cell_type": "code",
   "execution_count": 485,
   "id": "b63e36df",
   "metadata": {
    "pycharm": {
     "name": "#%%\n"
    }
   },
   "outputs": [
    {
     "name": "stdout",
     "output_type": "stream",
     "text": [
      "Misha\n",
      "30\n"
     ]
    }
   ],
   "source": [
    "print(Person.name)\n",
    "print(Person.age)"
   ]
  },
  {
   "cell_type": "code",
   "execution_count": 486,
   "id": "11316334",
   "metadata": {
    "pycharm": {
     "name": "#%%\n"
    }
   },
   "outputs": [],
   "source": [
    "class Person:\n",
    "    name = 'Ivan'\n",
    "    age = 30"
   ]
  },
  {
   "cell_type": "code",
   "execution_count": 487,
   "id": "1ed05edb",
   "metadata": {
    "pycharm": {
     "name": "#%%\n"
    }
   },
   "outputs": [
    {
     "data": {
      "text/plain": "mappingproxy({'__module__': '__main__',\n              'name': 'Ivan',\n              'age': 30,\n              '__dict__': <attribute '__dict__' of 'Person' objects>,\n              '__weakref__': <attribute '__weakref__' of 'Person' objects>,\n              '__doc__': None})"
     },
     "execution_count": 487,
     "metadata": {},
     "output_type": "execute_result"
    }
   ],
   "source": [
    "Person.__dict__"
   ]
  },
  {
   "cell_type": "code",
   "execution_count": 488,
   "id": "b12406de",
   "metadata": {
    "pycharm": {
     "name": "#%%\n"
    }
   },
   "outputs": [
    {
     "data": {
      "text/plain": "<__main__.Person at 0x28cfdab8730>"
     },
     "execution_count": 488,
     "metadata": {},
     "output_type": "execute_result"
    }
   ],
   "source": [
    "Person()"
   ]
  },
  {
   "cell_type": "code",
   "execution_count": 489,
   "id": "39a18726",
   "metadata": {
    "pycharm": {
     "name": "#%%\n"
    }
   },
   "outputs": [],
   "source": [
    "a = Person()"
   ]
  },
  {
   "cell_type": "code",
   "execution_count": 490,
   "id": "718378a8",
   "metadata": {
    "pycharm": {
     "name": "#%%\n"
    }
   },
   "outputs": [],
   "source": [
    "Person.z = 100"
   ]
  },
  {
   "cell_type": "code",
   "execution_count": 491,
   "id": "a6d78763",
   "metadata": {
    "pycharm": {
     "name": "#%%\n"
    }
   },
   "outputs": [],
   "source": [
    "del Person.age"
   ]
  },
  {
   "cell_type": "code",
   "execution_count": 492,
   "id": "8a8c7624",
   "metadata": {
    "pycharm": {
     "name": "#%%\n"
    }
   },
   "outputs": [],
   "source": [
    "Person.name = 'Misha'"
   ]
  },
  {
   "cell_type": "code",
   "execution_count": 493,
   "id": "e39625ef",
   "metadata": {
    "pycharm": {
     "name": "#%%\n"
    }
   },
   "outputs": [],
   "source": [
    "a.z = 100"
   ]
  },
  {
   "cell_type": "code",
   "execution_count": 494,
   "id": "9e107146",
   "metadata": {
    "pycharm": {
     "name": "#%%\n"
    }
   },
   "outputs": [],
   "source": [
    "class Car:\n",
    "    model = \"BMW\"\n",
    "    engine = 1.6"
   ]
  },
  {
   "cell_type": "code",
   "execution_count": 495,
   "id": "947347c9",
   "metadata": {
    "pycharm": {
     "name": "#%%\n"
    }
   },
   "outputs": [
    {
     "data": {
      "text/plain": "__main__.Car"
     },
     "execution_count": 495,
     "metadata": {},
     "output_type": "execute_result"
    }
   ],
   "source": [
    "Car"
   ]
  },
  {
   "cell_type": "code",
   "execution_count": 496,
   "id": "64e0a1c8",
   "metadata": {
    "pycharm": {
     "name": "#%%\n"
    }
   },
   "outputs": [
    {
     "data": {
      "text/plain": "<__main__.Car at 0x28cfdac1ac0>"
     },
     "execution_count": 496,
     "metadata": {},
     "output_type": "execute_result"
    }
   ],
   "source": [
    "Car()"
   ]
  },
  {
   "cell_type": "code",
   "execution_count": 497,
   "id": "25b83a9e",
   "metadata": {
    "pycharm": {
     "name": "#%%\n"
    }
   },
   "outputs": [],
   "source": [
    "a1 = Car()\n",
    "a2 = Car()"
   ]
  },
  {
   "cell_type": "code",
   "execution_count": 498,
   "id": "dc682f1e",
   "metadata": {
    "pycharm": {
     "name": "#%%\n"
    }
   },
   "outputs": [
    {
     "data": {
      "text/plain": "mappingproxy({'__module__': '__main__',\n              'model': 'BMW',\n              'engine': 1.6,\n              '__dict__': <attribute '__dict__' of 'Car' objects>,\n              '__weakref__': <attribute '__weakref__' of 'Car' objects>,\n              '__doc__': None})"
     },
     "execution_count": 498,
     "metadata": {},
     "output_type": "execute_result"
    }
   ],
   "source": [
    "Car.__dict__"
   ]
  },
  {
   "cell_type": "code",
   "execution_count": 499,
   "id": "29349fe8",
   "metadata": {
    "pycharm": {
     "name": "#%%\n"
    }
   },
   "outputs": [
    {
     "data": {
      "text/plain": "'BMW'"
     },
     "execution_count": 499,
     "metadata": {},
     "output_type": "execute_result"
    }
   ],
   "source": [
    "a1.model"
   ]
  },
  {
   "cell_type": "code",
   "execution_count": 500,
   "id": "a8db6142",
   "metadata": {
    "pycharm": {
     "name": "#%%\n"
    }
   },
   "outputs": [
    {
     "data": {
      "text/plain": "1.6"
     },
     "execution_count": 500,
     "metadata": {},
     "output_type": "execute_result"
    }
   ],
   "source": [
    "a2.engine"
   ]
  },
  {
   "cell_type": "code",
   "execution_count": 501,
   "id": "6c1f15d5",
   "metadata": {
    "pycharm": {
     "name": "#%%\n"
    }
   },
   "outputs": [
    {
     "data": {
      "text/plain": "{}"
     },
     "execution_count": 501,
     "metadata": {},
     "output_type": "execute_result"
    }
   ],
   "source": [
    "a1.__dict__"
   ]
  },
  {
   "cell_type": "code",
   "execution_count": 502,
   "id": "61f55ff4",
   "metadata": {
    "pycharm": {
     "name": "#%%\n"
    }
   },
   "outputs": [
    {
     "data": {
      "text/plain": "{}"
     },
     "execution_count": 502,
     "metadata": {},
     "output_type": "execute_result"
    }
   ],
   "source": [
    "a2.__dict__"
   ]
  },
  {
   "cell_type": "code",
   "execution_count": 503,
   "id": "da0ea63a",
   "metadata": {
    "pycharm": {
     "name": "#%%\n"
    }
   },
   "outputs": [],
   "source": [
    "a1.seat = 4"
   ]
  },
  {
   "cell_type": "code",
   "execution_count": 504,
   "id": "0526d642",
   "metadata": {
    "pycharm": {
     "name": "#%%\n"
    }
   },
   "outputs": [
    {
     "data": {
      "text/plain": "{'seat': 4}"
     },
     "execution_count": 504,
     "metadata": {},
     "output_type": "execute_result"
    }
   ],
   "source": [
    "a1.__dict__"
   ]
  },
  {
   "cell_type": "code",
   "execution_count": 505,
   "id": "e7b39cf0",
   "metadata": {
    "pycharm": {
     "name": "#%%\n"
    }
   },
   "outputs": [
    {
     "data": {
      "text/plain": "{}"
     },
     "execution_count": 505,
     "metadata": {},
     "output_type": "execute_result"
    }
   ],
   "source": [
    "a2.__dict__"
   ]
  },
  {
   "cell_type": "code",
   "execution_count": 506,
   "id": "1a75a9a3",
   "metadata": {
    "pycharm": {
     "name": "#%%\n"
    }
   },
   "outputs": [
    {
     "data": {
      "text/plain": "mappingproxy({'__module__': '__main__',\n              'model': 'BMW',\n              'engine': 1.6,\n              '__dict__': <attribute '__dict__' of 'Car' objects>,\n              '__weakref__': <attribute '__weakref__' of 'Car' objects>,\n              '__doc__': None})"
     },
     "execution_count": 506,
     "metadata": {},
     "output_type": "execute_result"
    }
   ],
   "source": [
    "Car.__dict__"
   ]
  },
  {
   "cell_type": "code",
   "execution_count": 507,
   "id": "c80d2516",
   "metadata": {
    "pycharm": {
     "name": "#%%\n"
    }
   },
   "outputs": [],
   "source": [
    "a1.model = 'Lada'"
   ]
  },
  {
   "cell_type": "code",
   "execution_count": 508,
   "id": "2636d4d0",
   "metadata": {
    "pycharm": {
     "name": "#%%\n"
    }
   },
   "outputs": [
    {
     "data": {
      "text/plain": "{'seat': 4, 'model': 'Lada'}"
     },
     "execution_count": 508,
     "metadata": {},
     "output_type": "execute_result"
    }
   ],
   "source": [
    "a1.__dict__"
   ]
  },
  {
   "cell_type": "code",
   "execution_count": 509,
   "id": "81888a3f",
   "metadata": {
    "pycharm": {
     "name": "#%%\n"
    }
   },
   "outputs": [
    {
     "data": {
      "text/plain": "'Lada'"
     },
     "execution_count": 509,
     "metadata": {},
     "output_type": "execute_result"
    }
   ],
   "source": [
    "a1.model"
   ]
  },
  {
   "cell_type": "code",
   "execution_count": 510,
   "id": "2628026d",
   "metadata": {
    "pycharm": {
     "name": "#%%\n"
    }
   },
   "outputs": [
    {
     "data": {
      "text/plain": "1.6"
     },
     "execution_count": 510,
     "metadata": {},
     "output_type": "execute_result"
    }
   ],
   "source": [
    "a1.engine"
   ]
  },
  {
   "cell_type": "code",
   "execution_count": 511,
   "id": "445bb124",
   "metadata": {
    "pycharm": {
     "name": "#%%\n"
    }
   },
   "outputs": [],
   "source": [
    "a2.size = 80"
   ]
  },
  {
   "cell_type": "code",
   "execution_count": 512,
   "id": "48e70175",
   "metadata": {
    "pycharm": {
     "name": "#%%\n"
    }
   },
   "outputs": [
    {
     "data": {
      "text/plain": "80"
     },
     "execution_count": 512,
     "metadata": {},
     "output_type": "execute_result"
    }
   ],
   "source": [
    "a2.size"
   ]
  },
  {
   "cell_type": "code",
   "execution_count": 513,
   "id": "883ce1df",
   "metadata": {
    "pycharm": {
     "name": "#%%\n"
    }
   },
   "outputs": [],
   "source": [
    "Car.r = 100"
   ]
  },
  {
   "cell_type": "code",
   "execution_count": 514,
   "id": "e7eb7c8a",
   "metadata": {
    "pycharm": {
     "name": "#%%\n"
    }
   },
   "outputs": [
    {
     "data": {
      "text/plain": "100"
     },
     "execution_count": 514,
     "metadata": {},
     "output_type": "execute_result"
    }
   ],
   "source": [
    "a1.r"
   ]
  },
  {
   "cell_type": "code",
   "execution_count": 515,
   "id": "82f2dfe9",
   "metadata": {
    "pycharm": {
     "name": "#%%\n"
    }
   },
   "outputs": [
    {
     "data": {
      "text/plain": "100"
     },
     "execution_count": 515,
     "metadata": {},
     "output_type": "execute_result"
    }
   ],
   "source": [
    "a2.r"
   ]
  },
  {
   "cell_type": "code",
   "execution_count": 516,
   "id": "406660d6",
   "metadata": {
    "pycharm": {
     "name": "#%%\n"
    }
   },
   "outputs": [
    {
     "data": {
      "text/plain": "{'seat': 4, 'model': 'Lada'}"
     },
     "execution_count": 516,
     "metadata": {},
     "output_type": "execute_result"
    }
   ],
   "source": [
    "a1.__dict__"
   ]
  },
  {
   "cell_type": "code",
   "execution_count": 517,
   "id": "09cc5ca3",
   "metadata": {
    "pycharm": {
     "name": "#%%\n"
    }
   },
   "outputs": [
    {
     "data": {
      "text/plain": "{'size': 80}"
     },
     "execution_count": 517,
     "metadata": {},
     "output_type": "execute_result"
    }
   ],
   "source": [
    "a2.__dict__"
   ]
  },
  {
   "cell_type": "code",
   "execution_count": 518,
   "id": "eee83c5c",
   "metadata": {
    "pycharm": {
     "name": "#%%\n"
    }
   },
   "outputs": [],
   "source": [
    "del a1.model"
   ]
  },
  {
   "cell_type": "code",
   "execution_count": 519,
   "id": "3b689769",
   "metadata": {
    "pycharm": {
     "name": "#%%\n"
    }
   },
   "outputs": [
    {
     "data": {
      "text/plain": "{'seat': 4}"
     },
     "execution_count": 519,
     "metadata": {},
     "output_type": "execute_result"
    }
   ],
   "source": [
    "a1.__dict__"
   ]
  },
  {
   "cell_type": "code",
   "execution_count": 520,
   "id": "fbc6096c",
   "metadata": {
    "pycharm": {
     "name": "#%%\n"
    }
   },
   "outputs": [
    {
     "data": {
      "text/plain": "'BMW'"
     },
     "execution_count": 520,
     "metadata": {},
     "output_type": "execute_result"
    }
   ],
   "source": [
    "a1.model"
   ]
  },
  {
   "cell_type": "code",
   "execution_count": 521,
   "id": "11c6022c",
   "metadata": {
    "pycharm": {
     "name": "#%%\n"
    }
   },
   "outputs": [],
   "source": [
    "class Car:\n",
    "    model = \"BMW\"\n",
    "    engine = 1.6\n",
    "\n",
    "    def drive():\n",
    "        print(\"Let's go\")"
   ]
  },
  {
   "cell_type": "code",
   "execution_count": 522,
   "id": "d4bf5359",
   "metadata": {
    "pycharm": {
     "name": "#%%\n"
    }
   },
   "outputs": [
    {
     "data": {
      "text/plain": "mappingproxy({'__module__': '__main__',\n              'model': 'BMW',\n              'engine': 1.6,\n              'drive': <function __main__.Car.drive()>,\n              '__dict__': <attribute '__dict__' of 'Car' objects>,\n              '__weakref__': <attribute '__weakref__' of 'Car' objects>,\n              '__doc__': None})"
     },
     "execution_count": 522,
     "metadata": {},
     "output_type": "execute_result"
    }
   ],
   "source": [
    "Car.__dict__"
   ]
  },
  {
   "cell_type": "code",
   "execution_count": 523,
   "id": "523eb71b",
   "metadata": {
    "pycharm": {
     "name": "#%%\n"
    }
   },
   "outputs": [
    {
     "name": "stdout",
     "output_type": "stream",
     "text": [
      "Let's go\n"
     ]
    }
   ],
   "source": [
    "Car.drive()"
   ]
  },
  {
   "cell_type": "code",
   "execution_count": 524,
   "id": "87ef2356",
   "metadata": {
    "pycharm": {
     "name": "#%%\n"
    }
   },
   "outputs": [
    {
     "data": {
      "text/plain": "<function __main__.Car.drive()>"
     },
     "execution_count": 524,
     "metadata": {},
     "output_type": "execute_result"
    }
   ],
   "source": [
    "getattr(Car, 'drive')"
   ]
  },
  {
   "cell_type": "code",
   "execution_count": 525,
   "id": "d6636a00",
   "metadata": {
    "pycharm": {
     "name": "#%%\n"
    }
   },
   "outputs": [
    {
     "name": "stdout",
     "output_type": "stream",
     "text": [
      "Let's go\n"
     ]
    }
   ],
   "source": [
    "getattr(Car, 'drive')()"
   ]
  },
  {
   "cell_type": "code",
   "execution_count": 526,
   "id": "39ff39bf",
   "metadata": {
    "pycharm": {
     "name": "#%%\n"
    }
   },
   "outputs": [],
   "source": [
    "a = Car()"
   ]
  },
  {
   "cell_type": "code",
   "execution_count": 527,
   "id": "cf8bf13d",
   "metadata": {
    "pycharm": {
     "name": "#%%\n"
    }
   },
   "outputs": [
    {
     "data": {
      "text/plain": "{}"
     },
     "execution_count": 527,
     "metadata": {},
     "output_type": "execute_result"
    }
   ],
   "source": [
    "a.__dict__"
   ]
  },
  {
   "cell_type": "code",
   "execution_count": 528,
   "id": "a89efe03",
   "metadata": {
    "pycharm": {
     "name": "#%%\n"
    }
   },
   "outputs": [
    {
     "data": {
      "text/plain": "<bound method Car.drive of <__main__.Car object at 0x0000028CFDADF790>>"
     },
     "execution_count": 528,
     "metadata": {},
     "output_type": "execute_result"
    }
   ],
   "source": [
    "a.drive"
   ]
  },
  {
   "cell_type": "code",
   "execution_count": 529,
   "id": "313da4f6",
   "metadata": {
    "pycharm": {
     "name": "#%%\n"
    }
   },
   "outputs": [
    {
     "data": {
      "text/plain": "<function __main__.Car.drive()>"
     },
     "execution_count": 529,
     "metadata": {},
     "output_type": "execute_result"
    }
   ],
   "source": [
    "Car.drive"
   ]
  },
  {
   "cell_type": "code",
   "execution_count": 530,
   "id": "7cd419c3",
   "metadata": {
    "pycharm": {
     "name": "#%%\n"
    }
   },
   "outputs": [],
   "source": [
    "class Car:\n",
    "    model = \"BMW\"\n",
    "    engine = 1.6\n",
    "\n",
    "    @staticmethod\n",
    "    def drive():\n",
    "        print(\"Let's go\")"
   ]
  },
  {
   "cell_type": "code",
   "execution_count": 531,
   "id": "8b8e7669",
   "metadata": {
    "pycharm": {
     "name": "#%%\n"
    }
   },
   "outputs": [],
   "source": [
    "a = Car()"
   ]
  },
  {
   "cell_type": "code",
   "execution_count": 532,
   "id": "4531dbc9",
   "metadata": {
    "pycharm": {
     "name": "#%%\n"
    }
   },
   "outputs": [
    {
     "data": {
      "text/plain": "{}"
     },
     "execution_count": 532,
     "metadata": {},
     "output_type": "execute_result"
    }
   ],
   "source": [
    "a.__dict__"
   ]
  },
  {
   "cell_type": "code",
   "execution_count": 533,
   "id": "49c6d789",
   "metadata": {
    "pycharm": {
     "name": "#%%\n"
    }
   },
   "outputs": [
    {
     "name": "stdout",
     "output_type": "stream",
     "text": [
      "Let's go\n"
     ]
    }
   ],
   "source": [
    "Car.drive()"
   ]
  },
  {
   "cell_type": "code",
   "execution_count": 534,
   "id": "3691cc07",
   "metadata": {
    "pycharm": {
     "name": "#%%\n"
    }
   },
   "outputs": [],
   "source": [
    "t = Car()"
   ]
  },
  {
   "cell_type": "code",
   "execution_count": 535,
   "id": "3eb8524e",
   "metadata": {
    "pycharm": {
     "name": "#%%\n"
    }
   },
   "outputs": [
    {
     "name": "stdout",
     "output_type": "stream",
     "text": [
      "Let's go\n"
     ]
    }
   ],
   "source": [
    "t.drive()"
   ]
  },
  {
   "cell_type": "code",
   "execution_count": 536,
   "id": "097ba0ee",
   "metadata": {
    "pycharm": {
     "name": "#%%\n"
    }
   },
   "outputs": [],
   "source": [
    "class Cat:\n",
    "    def hello(*args):\n",
    "        print(\"Hello world from kitty\", args)"
   ]
  },
  {
   "cell_type": "code",
   "execution_count": 537,
   "id": "b9294bcd",
   "metadata": {
    "pycharm": {
     "name": "#%%\n"
    }
   },
   "outputs": [],
   "source": [
    "jim = Cat()\n",
    "bob = Cat()"
   ]
  },
  {
   "cell_type": "code",
   "execution_count": 538,
   "id": "539b9574",
   "metadata": {
    "pycharm": {
     "name": "#%%\n"
    }
   },
   "outputs": [
    {
     "name": "stdout",
     "output_type": "stream",
     "text": [
      "Hello world from kitty (<__main__.Cat object at 0x0000028CFDAEB0A0>,)\n"
     ]
    }
   ],
   "source": [
    "jim.hello()"
   ]
  },
  {
   "cell_type": "code",
   "execution_count": 539,
   "id": "92c0a4fb",
   "metadata": {
    "pycharm": {
     "name": "#%%\n"
    }
   },
   "outputs": [
    {
     "data": {
      "text/plain": "<__main__.Cat at 0x28cfdaeb0a0>"
     },
     "execution_count": 539,
     "metadata": {},
     "output_type": "execute_result"
    }
   ],
   "source": [
    "jim"
   ]
  },
  {
   "cell_type": "code",
   "execution_count": 540,
   "id": "a828a8c7",
   "metadata": {
    "pycharm": {
     "name": "#%%\n"
    }
   },
   "outputs": [
    {
     "name": "stdout",
     "output_type": "stream",
     "text": [
      "Hello world from kitty (<__main__.Cat object at 0x0000028CFDAEB580>,)\n"
     ]
    }
   ],
   "source": [
    "bob.hello()"
   ]
  },
  {
   "cell_type": "code",
   "execution_count": 541,
   "id": "06bc8450",
   "metadata": {
    "pycharm": {
     "name": "#%%\n"
    }
   },
   "outputs": [],
   "source": [
    "class Cat:\n",
    "    breed = 'pers'\n",
    "\n",
    "    def hello(*args):\n",
    "        print(\"Hello world from kitty\", args)\n",
    "\n",
    "    def show_breed(instance):\n",
    "        print(f'my breed is {instance.breed}')\n",
    "\n",
    "    def show_name(instance):\n",
    "        if hasattr(instance, 'name'):\n",
    "            print(f'my name is {instance.name}')\n",
    "        else:\n",
    "            print('nothing')\n",
    "\n",
    "    def set_value(cat, value, age=1):\n",
    "        cat.name = value\n",
    "        cat.age = age\n",
    "\n",
    "    def new_method(self):\n",
    "        pass"
   ]
  },
  {
   "cell_type": "code",
   "execution_count": 542,
   "id": "f7d87c2e",
   "metadata": {
    "pycharm": {
     "name": "#%%\n"
    }
   },
   "outputs": [],
   "source": [
    "walt = Cat()"
   ]
  },
  {
   "cell_type": "code",
   "execution_count": 543,
   "id": "90a16f37",
   "metadata": {
    "pycharm": {
     "name": "#%%\n"
    }
   },
   "outputs": [
    {
     "name": "stdout",
     "output_type": "stream",
     "text": [
      "my breed is pers\n"
     ]
    }
   ],
   "source": [
    "walt.show_breed()"
   ]
  },
  {
   "cell_type": "code",
   "execution_count": 544,
   "id": "fdd20465",
   "metadata": {
    "pycharm": {
     "name": "#%%\n"
    }
   },
   "outputs": [],
   "source": [
    "walt.breed = 'siam'"
   ]
  },
  {
   "cell_type": "code",
   "execution_count": 545,
   "id": "e21756f5",
   "metadata": {
    "pycharm": {
     "name": "#%%\n"
    }
   },
   "outputs": [
    {
     "name": "stdout",
     "output_type": "stream",
     "text": [
      "my breed is siam\n"
     ]
    }
   ],
   "source": [
    "walt.show_breed()"
   ]
  },
  {
   "cell_type": "code",
   "execution_count": 546,
   "id": "219a6b2f",
   "metadata": {
    "pycharm": {
     "name": "#%%\n"
    }
   },
   "outputs": [],
   "source": [
    "walt.__dict__\n",
    "bob = Cat()"
   ]
  },
  {
   "cell_type": "code",
   "execution_count": 547,
   "id": "89e489a6",
   "metadata": {
    "pycharm": {
     "name": "#%%\n"
    }
   },
   "outputs": [
    {
     "data": {
      "text/plain": "'pers'"
     },
     "execution_count": 547,
     "metadata": {},
     "output_type": "execute_result"
    }
   ],
   "source": [
    "bob.breed"
   ]
  },
  {
   "cell_type": "code",
   "execution_count": 548,
   "id": "dd4f51e0",
   "metadata": {
    "pycharm": {
     "name": "#%%\n"
    }
   },
   "outputs": [
    {
     "name": "stdout",
     "output_type": "stream",
     "text": [
      "my breed is pers\n"
     ]
    }
   ],
   "source": [
    "bob.show_breed()"
   ]
  },
  {
   "cell_type": "code",
   "execution_count": 549,
   "id": "a1f47b33",
   "metadata": {
    "pycharm": {
     "name": "#%%\n"
    }
   },
   "outputs": [],
   "source": [
    "mary = Cat()"
   ]
  },
  {
   "cell_type": "code",
   "execution_count": 550,
   "id": "4b35efa1",
   "metadata": {
    "pycharm": {
     "name": "#%%\n"
    }
   },
   "outputs": [
    {
     "name": "stdout",
     "output_type": "stream",
     "text": [
      "my name is MARY\n"
     ]
    }
   ],
   "source": [
    "mary.name = 'MARY'\n",
    "mary.show_name()"
   ]
  },
  {
   "cell_type": "code",
   "execution_count": 551,
   "id": "7a4d8cb2",
   "metadata": {
    "pycharm": {
     "name": "#%%\n"
    }
   },
   "outputs": [],
   "source": [
    "mary = Cat()"
   ]
  },
  {
   "cell_type": "code",
   "execution_count": 552,
   "id": "fe5d1da4",
   "metadata": {
    "pycharm": {
     "name": "#%%\n"
    }
   },
   "outputs": [
    {
     "name": "stdout",
     "output_type": "stream",
     "text": [
      "nothing\n"
     ]
    }
   ],
   "source": [
    "mary.show_name()"
   ]
  },
  {
   "cell_type": "code",
   "execution_count": 553,
   "id": "eccc1c5a",
   "metadata": {
    "pycharm": {
     "name": "#%%\n"
    }
   },
   "outputs": [],
   "source": [
    "mary.name = '****'"
   ]
  },
  {
   "cell_type": "code",
   "execution_count": 554,
   "id": "ff11698c",
   "metadata": {
    "pycharm": {
     "name": "#%%\n"
    }
   },
   "outputs": [
    {
     "name": "stdout",
     "output_type": "stream",
     "text": [
      "my name is ****\n"
     ]
    }
   ],
   "source": [
    "mary.show_name()"
   ]
  },
  {
   "cell_type": "code",
   "execution_count": 555,
   "id": "f9ae5c4f",
   "metadata": {
    "pycharm": {
     "name": "#%%\n"
    }
   },
   "outputs": [],
   "source": [
    "tom = Cat()"
   ]
  },
  {
   "cell_type": "code",
   "execution_count": 556,
   "id": "abbddba6",
   "metadata": {
    "pycharm": {
     "name": "#%%\n"
    }
   },
   "outputs": [
    {
     "name": "stdout",
     "output_type": "stream",
     "text": [
      "nothing\n"
     ]
    }
   ],
   "source": [
    "tom.show_name()"
   ]
  },
  {
   "cell_type": "code",
   "execution_count": 557,
   "id": "0de5f150",
   "metadata": {
    "pycharm": {
     "name": "#%%\n"
    }
   },
   "outputs": [],
   "source": [
    "tom.set_value('Tom')"
   ]
  },
  {
   "cell_type": "code",
   "execution_count": 558,
   "id": "f189f687",
   "metadata": {
    "pycharm": {
     "name": "#%%\n"
    }
   },
   "outputs": [
    {
     "name": "stdout",
     "output_type": "stream",
     "text": [
      "my name is Tom\n"
     ]
    }
   ],
   "source": [
    "tom.show_name()"
   ]
  },
  {
   "cell_type": "code",
   "execution_count": 559,
   "id": "4e0524a1",
   "metadata": {
    "pycharm": {
     "name": "#%%\n"
    }
   },
   "outputs": [],
   "source": [
    "jerry = Cat()"
   ]
  },
  {
   "cell_type": "code",
   "execution_count": 560,
   "id": "383cb3e4",
   "metadata": {
    "pycharm": {
     "name": "#%%\n"
    }
   },
   "outputs": [],
   "source": [
    "jerry.set_value('Jerry')"
   ]
  },
  {
   "cell_type": "code",
   "execution_count": 561,
   "id": "6a365aaa",
   "metadata": {
    "pycharm": {
     "name": "#%%\n"
    }
   },
   "outputs": [
    {
     "data": {
      "text/plain": "1"
     },
     "execution_count": 561,
     "metadata": {},
     "output_type": "execute_result"
    }
   ],
   "source": [
    "jerry.age"
   ]
  },
  {
   "cell_type": "code",
   "execution_count": 562,
   "id": "db725d01",
   "metadata": {
    "pycharm": {
     "name": "#%%\n"
    }
   },
   "outputs": [],
   "source": [
    "class Cat:\n",
    "    def __init__(self, name, breed='pers', age=1, color='white'):\n",
    "        print('hello new object is ', self, name, breed, age, color)\n",
    "        self.name = name\n",
    "        self.age = age\n",
    "        self.breed = breed\n",
    "        self.color = color"
   ]
  },
  {
   "cell_type": "code",
   "execution_count": 563,
   "id": "706c594a",
   "metadata": {
    "pycharm": {
     "name": "#%%\n"
    }
   },
   "outputs": [
    {
     "name": "stdout",
     "output_type": "stream",
     "text": [
      "hello new object is  <__main__.Cat object at 0x0000028CFDB08F10> Walt pers 1 white\n"
     ]
    }
   ],
   "source": [
    "walt = Cat('Walt')"
   ]
  },
  {
   "cell_type": "code",
   "execution_count": 564,
   "id": "c66256dc",
   "metadata": {
    "pycharm": {
     "name": "#%%\n"
    }
   },
   "outputs": [
    {
     "name": "stdout",
     "output_type": "stream",
     "text": [
      "hello new object is  <__main__.Cat object at 0x0000028CFDB08790> Kelly pers 40 white\n"
     ]
    }
   ],
   "source": [
    "kelly = Cat('Kelly', age=40)"
   ]
  },
  {
   "cell_type": "code",
   "execution_count": 565,
   "id": "5508e2ea",
   "metadata": {
    "pycharm": {
     "name": "#%%\n"
    }
   },
   "outputs": [],
   "source": [
    "#Моносостояние для всех экземпляров"
   ]
  },
  {
   "cell_type": "code",
   "execution_count": 566,
   "id": "574ebf19",
   "metadata": {
    "pycharm": {
     "name": "#%%\n"
    }
   },
   "outputs": [],
   "source": [
    "class Cat:\n",
    "    breed = \"pers\""
   ]
  },
  {
   "cell_type": "code",
   "execution_count": 567,
   "id": "17983627",
   "metadata": {
    "pycharm": {
     "name": "#%%\n"
    }
   },
   "outputs": [],
   "source": [
    "a = Cat()\n",
    "b = Cat()\n",
    "a.breed = \"siam\"\n",
    "b.color = \"black\"\n",
    "c = Cat()"
   ]
  },
  {
   "cell_type": "code",
   "execution_count": 568,
   "id": "62ecd8ed",
   "metadata": {
    "pycharm": {
     "name": "#%%\n"
    }
   },
   "outputs": [],
   "source": [
    "class Cat:\n",
    "    __shared_attr = {\n",
    "        \"breed\": \"pers\",\n",
    "        \"color\": \"black\"\n",
    "    }\n",
    "\n",
    "    def __init__(self):\n",
    "        self.__dict__ = Cat.__shared_attr"
   ]
  },
  {
   "cell_type": "code",
   "execution_count": 569,
   "id": "418e6db3",
   "metadata": {
    "pycharm": {
     "name": "#%%\n"
    }
   },
   "outputs": [],
   "source": [
    "d = Cat()\n",
    "g = Cat()"
   ]
  },
  {
   "cell_type": "code",
   "execution_count": 570,
   "id": "676b7384",
   "metadata": {
    "pycharm": {
     "name": "#%%\n"
    }
   },
   "outputs": [
    {
     "name": "stdout",
     "output_type": "stream",
     "text": [
      "{'breed': 'siam', 'color': 'black'}\n"
     ]
    }
   ],
   "source": [
    "d.breed = \"siam\"\n",
    "print(g.__dict__)"
   ]
  },
  {
   "cell_type": "code",
   "execution_count": 571,
   "id": "ae6f461f",
   "metadata": {
    "pycharm": {
     "name": "#%%\n"
    }
   },
   "outputs": [
    {
     "name": "stdout",
     "output_type": "stream",
     "text": [
      "{'breed': 'siam', 'color': 'black', 'name': 'Bob'}\n"
     ]
    }
   ],
   "source": [
    "d.name = \"Bob\"\n",
    "h = Cat()\n",
    "print(h.__dict__)"
   ]
  },
  {
   "cell_type": "code",
   "execution_count": 572,
   "id": "8e53e623",
   "metadata": {
    "pycharm": {
     "name": "#%%\n"
    }
   },
   "outputs": [],
   "source": [
    "class BankAccount:\n",
    "    def __init__(self, name, balance):\n",
    "        self.name = name\n",
    "        self.balance = balance\n"
   ]
  },
  {
   "cell_type": "code",
   "execution_count": 573,
   "id": "01b52acd",
   "metadata": {
    "pycharm": {
     "name": "#%%\n"
    }
   },
   "outputs": [
    {
     "data": {
      "text/plain": "100"
     },
     "execution_count": 573,
     "metadata": {},
     "output_type": "execute_result"
    }
   ],
   "source": [
    "a = BankAccount('Ivan', 100)\n",
    "a.balance"
   ]
  },
  {
   "cell_type": "code",
   "execution_count": 574,
   "id": "e845a024",
   "metadata": {
    "pycharm": {
     "name": "#%%\n"
    }
   },
   "outputs": [
    {
     "data": {
      "text/plain": "'Ivan'"
     },
     "execution_count": 574,
     "metadata": {},
     "output_type": "execute_result"
    }
   ],
   "source": [
    "a.name"
   ]
  },
  {
   "cell_type": "code",
   "execution_count": 575,
   "id": "bdb41535",
   "metadata": {
    "pycharm": {
     "name": "#%%\n"
    }
   },
   "outputs": [],
   "source": [
    "a.balance = 'balance'"
   ]
  },
  {
   "cell_type": "code",
   "execution_count": 576,
   "id": "54449d70",
   "metadata": {
    "pycharm": {
     "name": "#%%\n"
    }
   },
   "outputs": [
    {
     "data": {
      "text/plain": "'balance'"
     },
     "execution_count": 576,
     "metadata": {},
     "output_type": "execute_result"
    }
   ],
   "source": [
    "a.balance"
   ]
  },
  {
   "cell_type": "code",
   "execution_count": 577,
   "id": "ce8dbc89",
   "metadata": {
    "pycharm": {
     "name": "#%%\n"
    }
   },
   "outputs": [],
   "source": [
    "class BankAccount:\n",
    "    def __init__(self, name, balance):\n",
    "        self.name = name\n",
    "        self.__balance = balance\n",
    "\n",
    "    def get_balance(self):\n",
    "        return self.__balance\n",
    "\n",
    "    def set_balance(self, value):\n",
    "        self.__balance = value\n"
   ]
  },
  {
   "cell_type": "code",
   "execution_count": 578,
   "id": "a5240fca",
   "metadata": {
    "pycharm": {
     "name": "#%%\n"
    }
   },
   "outputs": [
    {
     "data": {
      "text/plain": "100"
     },
     "execution_count": 578,
     "metadata": {},
     "output_type": "execute_result"
    }
   ],
   "source": [
    "a = BankAccount('Ivan', 100)\n",
    "a.get_balance()"
   ]
  },
  {
   "cell_type": "code",
   "execution_count": 579,
   "id": "d280f465",
   "metadata": {
    "pycharm": {
     "name": "#%%\n"
    }
   },
   "outputs": [
    {
     "data": {
      "text/plain": "1000"
     },
     "execution_count": 579,
     "metadata": {},
     "output_type": "execute_result"
    }
   ],
   "source": [
    "a.set_balance(1000)\n",
    "a.get_balance()"
   ]
  },
  {
   "cell_type": "code",
   "execution_count": 580,
   "id": "3d68aad7",
   "metadata": {
    "pycharm": {
     "name": "#%%\n"
    }
   },
   "outputs": [
    {
     "data": {
      "text/plain": "{'name': 'Ivan', '_BankAccount__balance': 1000}"
     },
     "execution_count": 580,
     "metadata": {},
     "output_type": "execute_result"
    }
   ],
   "source": [
    "a.__dict__"
   ]
  },
  {
   "cell_type": "code",
   "execution_count": 581,
   "id": "7159031f",
   "metadata": {
    "pycharm": {
     "name": "#%%\n"
    }
   },
   "outputs": [
    {
     "data": {
      "text/plain": "'balance'"
     },
     "execution_count": 581,
     "metadata": {},
     "output_type": "execute_result"
    }
   ],
   "source": [
    "a.set_balance('balance')\n",
    "a.get_balance()"
   ]
  },
  {
   "cell_type": "code",
   "execution_count": 582,
   "id": "ff119e6b",
   "metadata": {
    "pycharm": {
     "name": "#%%\n"
    }
   },
   "outputs": [],
   "source": [
    "class BankAccount:\n",
    "    def __init__(self, name, balance):\n",
    "        self.name = name\n",
    "        self.__balance = balance\n",
    "\n",
    "    def get_balance(self):\n",
    "        return self.__balance\n",
    "\n",
    "    def set_balance(self, value):\n",
    "        if not isinstance(value, (int, float)):\n",
    "            raise ValueError('Баланс должен быть числом.')\n",
    "        self.__balance = value\n"
   ]
  },
  {
   "cell_type": "code",
   "execution_count": 583,
   "id": "b809c6cd",
   "metadata": {
    "pycharm": {
     "name": "#%%\n"
    }
   },
   "outputs": [
    {
     "data": {
      "text/plain": "100"
     },
     "execution_count": 583,
     "metadata": {},
     "output_type": "execute_result"
    }
   ],
   "source": [
    "a = BankAccount('Ivan', 100)\n",
    "a.get_balance()"
   ]
  },
  {
   "cell_type": "code",
   "execution_count": 584,
   "id": "cb89dc11",
   "metadata": {
    "pycharm": {
     "name": "#%%\n"
    }
   },
   "outputs": [],
   "source": [
    "#a.set_balance('777')"
   ]
  },
  {
   "cell_type": "code",
   "execution_count": 585,
   "id": "2c09f8dd",
   "metadata": {
    "pycharm": {
     "name": "#%%\n"
    }
   },
   "outputs": [
    {
     "data": {
      "text/plain": "100"
     },
     "execution_count": 585,
     "metadata": {},
     "output_type": "execute_result"
    }
   ],
   "source": [
    "a.get_balance()"
   ]
  },
  {
   "cell_type": "code",
   "execution_count": 586,
   "id": "2f0188e3",
   "metadata": {
    "pycharm": {
     "name": "#%%\n"
    }
   },
   "outputs": [],
   "source": [
    "class BankAccount:\n",
    "    def __init__(self, name, balance):\n",
    "        self.name = name\n",
    "        self.__balance = balance\n",
    "\n",
    "    def get_balance(self):\n",
    "        return self.__balance\n",
    "\n",
    "    def set_balance(self, value):\n",
    "        if not isinstance(value, (int, float)):\n",
    "            raise ValueError('Баланс должен быть числом.')\n",
    "        self.__balance = value\n",
    "\n",
    "    balance = property(fget=get_balance, fset=set_balance)"
   ]
  },
  {
   "cell_type": "code",
   "execution_count": 587,
   "id": "936dff67",
   "metadata": {
    "pycharm": {
     "name": "#%%\n"
    }
   },
   "outputs": [],
   "source": [
    "a = BankAccount('Ivan', 500)"
   ]
  },
  {
   "cell_type": "code",
   "execution_count": 588,
   "id": "f998d835",
   "metadata": {
    "pycharm": {
     "name": "#%%\n"
    }
   },
   "outputs": [
    {
     "data": {
      "text/plain": "500"
     },
     "execution_count": 588,
     "metadata": {},
     "output_type": "execute_result"
    }
   ],
   "source": [
    "a.balance"
   ]
  },
  {
   "cell_type": "code",
   "execution_count": 589,
   "id": "f2644841",
   "metadata": {
    "pycharm": {
     "name": "#%%\n"
    }
   },
   "outputs": [
    {
     "data": {
      "text/plain": "777"
     },
     "execution_count": 589,
     "metadata": {},
     "output_type": "execute_result"
    }
   ],
   "source": [
    "a.balance = 777\n",
    "a.balance"
   ]
  },
  {
   "cell_type": "code",
   "execution_count": 590,
   "id": "b8e9b0d1",
   "metadata": {
    "pycharm": {
     "name": "#%%\n"
    }
   },
   "outputs": [],
   "source": [
    "#a.balance = '777'"
   ]
  },
  {
   "cell_type": "code",
   "execution_count": 591,
   "id": "c2f14c6a",
   "metadata": {
    "pycharm": {
     "name": "#%%\n"
    }
   },
   "outputs": [],
   "source": [
    "class BankAccount:\n",
    "    def __init__(self, name, balance):\n",
    "        self.name = name\n",
    "        self.__balance = balance\n",
    "\n",
    "    def get_balance(self):\n",
    "        return self.__balance\n",
    "\n",
    "    def set_balance(self, value):\n",
    "        if not isinstance(value, (int, float)):\n",
    "            raise ValueError('Баланс должен быть числом.')\n",
    "        self.__balance = value\n",
    "\n",
    "    def delete_balance(self):\n",
    "        print('delete balance')\n",
    "        del self.__balance\n",
    "\n",
    "    balance = property(fget=get_balance, fset=set_balance, fdel=delete_balance)"
   ]
  },
  {
   "cell_type": "code",
   "execution_count": 592,
   "id": "43b209d6",
   "metadata": {
    "pycharm": {
     "name": "#%%\n"
    }
   },
   "outputs": [],
   "source": [
    "a = BankAccount('Ivan', 500)"
   ]
  },
  {
   "cell_type": "code",
   "execution_count": 593,
   "id": "f02d5dbf",
   "metadata": {
    "pycharm": {
     "name": "#%%\n"
    }
   },
   "outputs": [
    {
     "name": "stdout",
     "output_type": "stream",
     "text": [
      "delete balance\n"
     ]
    }
   ],
   "source": [
    "del a.balance"
   ]
  },
  {
   "cell_type": "code",
   "execution_count": 594,
   "id": "bd2ca10c",
   "metadata": {
    "pycharm": {
     "name": "#%%\n"
    }
   },
   "outputs": [
    {
     "data": {
      "text/plain": "{'name': 'Ivan'}"
     },
     "execution_count": 594,
     "metadata": {},
     "output_type": "execute_result"
    }
   ],
   "source": [
    "a.__dict__"
   ]
  },
  {
   "cell_type": "code",
   "execution_count": 595,
   "id": "97bd5867",
   "metadata": {
    "pycharm": {
     "name": "#%%\n"
    }
   },
   "outputs": [],
   "source": [
    "class Money:\n",
    "    def __init__(self, d, c):\n",
    "        self.total_cents = d * 100 + c\n",
    "\n",
    "    @property\n",
    "    def dollars(self):\n",
    "        return self.total_cents // 100\n",
    "\n",
    "    @property\n",
    "    def cents(self):\n",
    "        return self.total_cents % 100\n",
    "\n",
    "    @dollars.setter\n",
    "    def dollars(self, value):\n",
    "        if isinstance(value, int) and value >= 0:\n",
    "            self.total_cents = value * 100 + self.cents\n",
    "        else:\n",
    "            print('Error dollars')\n",
    "\n",
    "    @cents.setter\n",
    "    def cents(self, value):\n",
    "        if isinstance(value, int) and (0 <= value < 100):\n",
    "            self.total_cents = self.dollars * 100 + value\n",
    "        else:\n",
    "            print('Error cents')\n",
    "\n",
    "    def __str__(self):\n",
    "        return f\"Ваше состояние составляет {self.dollars} долларов {self.cents} центов\""
   ]
  },
  {
   "cell_type": "code",
   "execution_count": 596,
   "id": "12b2a7a1",
   "metadata": {
    "pycharm": {
     "name": "#%%\n"
    }
   },
   "outputs": [],
   "source": [
    "t = Money(34, 77)"
   ]
  },
  {
   "cell_type": "code",
   "execution_count": 597,
   "id": "90694273",
   "metadata": {
    "pycharm": {
     "name": "#%%\n"
    }
   },
   "outputs": [
    {
     "data": {
      "text/plain": "34"
     },
     "execution_count": 597,
     "metadata": {},
     "output_type": "execute_result"
    }
   ],
   "source": [
    "t.dollars"
   ]
  },
  {
   "cell_type": "code",
   "execution_count": 598,
   "id": "93b1366a",
   "metadata": {
    "pycharm": {
     "name": "#%%\n"
    }
   },
   "outputs": [
    {
     "data": {
      "text/plain": "77"
     },
     "execution_count": 598,
     "metadata": {},
     "output_type": "execute_result"
    }
   ],
   "source": [
    "t.cents"
   ]
  },
  {
   "cell_type": "code",
   "execution_count": 599,
   "id": "f51281e1",
   "metadata": {
    "pycharm": {
     "name": "#%%\n"
    }
   },
   "outputs": [
    {
     "name": "stdout",
     "output_type": "stream",
     "text": [
      "Error dollars\n"
     ]
    }
   ],
   "source": [
    "t.dollars = '777'"
   ]
  },
  {
   "cell_type": "code",
   "execution_count": 600,
   "id": "a755318f",
   "metadata": {
    "pycharm": {
     "name": "#%%\n"
    }
   },
   "outputs": [
    {
     "name": "stdout",
     "output_type": "stream",
     "text": [
      "Error dollars\n"
     ]
    }
   ],
   "source": [
    "t.dollars = -100"
   ]
  },
  {
   "cell_type": "code",
   "execution_count": 601,
   "id": "215ced4f",
   "metadata": {
    "pycharm": {
     "name": "#%%\n"
    }
   },
   "outputs": [
    {
     "name": "stdout",
     "output_type": "stream",
     "text": [
      "Error dollars\n"
     ]
    }
   ],
   "source": [
    "t.dollars = 77.7"
   ]
  },
  {
   "cell_type": "code",
   "execution_count": 602,
   "id": "0b8d242f",
   "metadata": {
    "pycharm": {
     "name": "#%%\n"
    }
   },
   "outputs": [
    {
     "name": "stdout",
     "output_type": "stream",
     "text": [
      "Error cents\n"
     ]
    }
   ],
   "source": [
    "t.cents = '555'"
   ]
  },
  {
   "cell_type": "code",
   "execution_count": 603,
   "id": "7118b266",
   "metadata": {
    "pycharm": {
     "name": "#%%\n"
    }
   },
   "outputs": [
    {
     "name": "stdout",
     "output_type": "stream",
     "text": [
      "Error cents\n"
     ]
    }
   ],
   "source": [
    "t.cents = 333"
   ]
  },
  {
   "cell_type": "code",
   "execution_count": 604,
   "id": "decbc098",
   "metadata": {
    "pycharm": {
     "name": "#%%\n"
    }
   },
   "outputs": [],
   "source": [
    "t.cents = 77"
   ]
  },
  {
   "cell_type": "code",
   "execution_count": 605,
   "id": "750a8162",
   "metadata": {
    "pycharm": {
     "name": "#%%\n"
    }
   },
   "outputs": [
    {
     "data": {
      "text/plain": "77"
     },
     "execution_count": 605,
     "metadata": {},
     "output_type": "execute_result"
    }
   ],
   "source": [
    "t.cents"
   ]
  },
  {
   "cell_type": "code",
   "execution_count": 606,
   "id": "deab3b3f",
   "metadata": {
    "pycharm": {
     "name": "#%%\n"
    }
   },
   "outputs": [],
   "source": [
    "t.dollars = 77"
   ]
  },
  {
   "cell_type": "code",
   "execution_count": 607,
   "id": "246b6aab",
   "metadata": {
    "pycharm": {
     "name": "#%%\n"
    }
   },
   "outputs": [
    {
     "data": {
      "text/plain": "77"
     },
     "execution_count": 607,
     "metadata": {},
     "output_type": "execute_result"
    }
   ],
   "source": [
    "t.dollars"
   ]
  },
  {
   "cell_type": "code",
   "execution_count": 608,
   "id": "a1dd9266",
   "metadata": {
    "pycharm": {
     "name": "#%%\n"
    }
   },
   "outputs": [
    {
     "data": {
      "text/plain": "'Ваше состояние составляет 77 долларов 77 центов'"
     },
     "execution_count": 608,
     "metadata": {},
     "output_type": "execute_result"
    }
   ],
   "source": [
    "t.__str__()"
   ]
  },
  {
   "cell_type": "code",
   "execution_count": 609,
   "id": "ff335a00",
   "metadata": {
    "pycharm": {
     "name": "#%%\n"
    }
   },
   "outputs": [],
   "source": [
    "class Square:\n",
    "    def __init__(self, s):\n",
    "        self.side = s\n",
    "        self.__area = None\n",
    "\n",
    "    @property\n",
    "    def side(self):\n",
    "        return self.__side\n",
    "\n",
    "    @side.setter\n",
    "    def side(self, value):\n",
    "        self.__side = value\n",
    "        self.__area = None\n",
    "\n",
    "    @property\n",
    "    def area(self):\n",
    "        if self.__area is None:\n",
    "            print('calculate area')\n",
    "            self.__area = self.side ** 2\n",
    "        return self.__area"
   ]
  },
  {
   "cell_type": "code",
   "execution_count": 610,
   "id": "6b394265",
   "metadata": {
    "pycharm": {
     "name": "#%%\n"
    }
   },
   "outputs": [],
   "source": [
    "t = Square(11)"
   ]
  },
  {
   "cell_type": "code",
   "execution_count": 611,
   "id": "8c5b3436",
   "metadata": {
    "pycharm": {
     "name": "#%%\n"
    }
   },
   "outputs": [
    {
     "name": "stdout",
     "output_type": "stream",
     "text": [
      "calculate area\n"
     ]
    },
    {
     "data": {
      "text/plain": "121"
     },
     "execution_count": 611,
     "metadata": {},
     "output_type": "execute_result"
    }
   ],
   "source": [
    "t.area"
   ]
  },
  {
   "cell_type": "code",
   "execution_count": 612,
   "id": "7ac2f064",
   "metadata": {
    "pycharm": {
     "name": "#%%\n"
    }
   },
   "outputs": [
    {
     "data": {
      "text/plain": "121"
     },
     "execution_count": 612,
     "metadata": {},
     "output_type": "execute_result"
    }
   ],
   "source": [
    "t.area"
   ]
  },
  {
   "cell_type": "code",
   "execution_count": 613,
   "id": "69cf7dfb",
   "metadata": {
    "pycharm": {
     "name": "#%%\n"
    }
   },
   "outputs": [],
   "source": [
    "t.side = 5"
   ]
  },
  {
   "cell_type": "code",
   "execution_count": 614,
   "id": "544c52f8",
   "metadata": {
    "pycharm": {
     "name": "#%%\n"
    }
   },
   "outputs": [
    {
     "name": "stdout",
     "output_type": "stream",
     "text": [
      "calculate area\n"
     ]
    },
    {
     "data": {
      "text/plain": "25"
     },
     "execution_count": 614,
     "metadata": {},
     "output_type": "execute_result"
    }
   ],
   "source": [
    "t.area"
   ]
  },
  {
   "cell_type": "code",
   "execution_count": 615,
   "id": "c7f84043",
   "metadata": {
    "pycharm": {
     "name": "#%%\n"
    }
   },
   "outputs": [],
   "source": [
    "class Example:\n",
    "    def hello():\n",
    "        print('hello')\n",
    "\n",
    "    def instance_hello(self):\n",
    "        print(f'instance_hello {self}')\n",
    "\n",
    "    @staticmethod\n",
    "    def static_hello():\n",
    "        print('static_hello')\n",
    "\n",
    "    @classmethod\n",
    "    def class_hello(cls):\n",
    "        print(f'instance_hello {cls}')"
   ]
  },
  {
   "cell_type": "code",
   "execution_count": 616,
   "id": "19abc31d",
   "metadata": {
    "pycharm": {
     "name": "#%%\n"
    }
   },
   "outputs": [],
   "source": [
    "t = Example()"
   ]
  },
  {
   "cell_type": "code",
   "execution_count": 617,
   "id": "7f7974af",
   "metadata": {
    "pycharm": {
     "name": "#%%\n"
    }
   },
   "outputs": [
    {
     "name": "stdout",
     "output_type": "stream",
     "text": [
      "instance_hello <__main__.Example object at 0x0000028CFDB3B580>\n"
     ]
    }
   ],
   "source": [
    "t.instance_hello()"
   ]
  },
  {
   "cell_type": "code",
   "execution_count": 618,
   "id": "7b46bf5e",
   "metadata": {
    "pycharm": {
     "name": "#%%\n"
    }
   },
   "outputs": [
    {
     "data": {
      "text/plain": "<__main__.Example at 0x28cfdb3b580>"
     },
     "execution_count": 618,
     "metadata": {},
     "output_type": "execute_result"
    }
   ],
   "source": [
    "t"
   ]
  },
  {
   "cell_type": "code",
   "execution_count": 619,
   "id": "800d8f6b",
   "metadata": {
    "pycharm": {
     "name": "#%%\n"
    }
   },
   "outputs": [
    {
     "name": "stdout",
     "output_type": "stream",
     "text": [
      "static_hello\n"
     ]
    }
   ],
   "source": [
    "t.static_hello()"
   ]
  },
  {
   "cell_type": "code",
   "execution_count": 620,
   "id": "b20c9f2e",
   "metadata": {
    "pycharm": {
     "name": "#%%\n"
    }
   },
   "outputs": [],
   "source": [
    "t = Example()"
   ]
  },
  {
   "cell_type": "code",
   "execution_count": 621,
   "id": "ad4e3fda",
   "metadata": {
    "pycharm": {
     "name": "#%%\n"
    }
   },
   "outputs": [
    {
     "name": "stdout",
     "output_type": "stream",
     "text": [
      "static_hello\n"
     ]
    }
   ],
   "source": [
    "t.static_hello()"
   ]
  },
  {
   "cell_type": "code",
   "execution_count": 622,
   "id": "8dc49b0a",
   "metadata": {
    "pycharm": {
     "name": "#%%\n"
    }
   },
   "outputs": [
    {
     "name": "stdout",
     "output_type": "stream",
     "text": [
      "instance_hello <class '__main__.Example'>\n"
     ]
    }
   ],
   "source": [
    "t.class_hello()"
   ]
  },
  {
   "cell_type": "code",
   "execution_count": 623,
   "id": "dadfff5b",
   "metadata": {
    "pycharm": {
     "name": "#%%\n"
    }
   },
   "outputs": [],
   "source": [
    "a = Example()"
   ]
  },
  {
   "cell_type": "code",
   "execution_count": 624,
   "id": "58a1ed21",
   "metadata": {
    "pycharm": {
     "name": "#%%\n"
    }
   },
   "outputs": [
    {
     "name": "stdout",
     "output_type": "stream",
     "text": [
      "instance_hello <class '__main__.Example'>\n"
     ]
    }
   ],
   "source": [
    "a.class_hello()"
   ]
  },
  {
   "cell_type": "code",
   "execution_count": 625,
   "id": "e1716409",
   "metadata": {
    "pycharm": {
     "name": "#%%\n"
    }
   },
   "outputs": [],
   "source": [
    "class User:\n",
    "    def __init__(self, login, password):\n",
    "        self.login = login\n",
    "        self.password = password\n",
    "        self.__secret = 'abracadabra'\n",
    "\n",
    "    @property\n",
    "    def secret(self):\n",
    "        s = input(\"Введите ваш пароль: \")\n",
    "        if (s == self.password):\n",
    "            return self.secret\n",
    "        else:\n",
    "            raise ValueError('Доступ закрыт')\n",
    "\n",
    "    @property\n",
    "    def password(self):\n",
    "        print('gettr called')\n",
    "        return self.__password\n",
    "\n",
    "    @staticmethod\n",
    "    def is_include_number(password):\n",
    "        for digit in '0123456789':\n",
    "            if digit in password:\n",
    "                return True\n",
    "        return False\n",
    "\n",
    "    @password.setter\n",
    "    def password(self, value):\n",
    "        print('setter called')\n",
    "        if not isinstance(value, str):\n",
    "            raise TypeError(\"Пароль должен быть строкой\")\n",
    "        if len(value) < 4:\n",
    "            raise TypeError(\"Длина пароля >4 символов\")\n",
    "        if len(value) > 12:\n",
    "            raise TypeError(\"Длина пароля >12 символов\")\n",
    "        if not User.is_include_number(value):\n",
    "            raise ValueError(\"Пароль должен содержать хотя бы одну цифру\")\n",
    "        self.__password = value\n",
    "\n"
   ]
  },
  {
   "cell_type": "code",
   "execution_count": 626,
   "id": "a6615391",
   "metadata": {
    "pycharm": {
     "name": "#%%\n"
    }
   },
   "outputs": [
    {
     "name": "stdout",
     "output_type": "stream",
     "text": [
      "setter called\n"
     ]
    }
   ],
   "source": [
    "x = User('zxc', '123456789')"
   ]
  },
  {
   "cell_type": "code",
   "execution_count": 627,
   "id": "fcd8473c",
   "metadata": {
    "pycharm": {
     "name": "#%%\n"
    }
   },
   "outputs": [],
   "source": [
    "# Магические методы __str__ и __repr__"
   ]
  },
  {
   "cell_type": "code",
   "execution_count": 628,
   "id": "7c8943db",
   "metadata": {
    "pycharm": {
     "name": "#%%\n"
    }
   },
   "outputs": [],
   "source": [
    "class Lion:\n",
    "    def __init__(self, name):\n",
    "        self.name = name"
   ]
  },
  {
   "cell_type": "code",
   "execution_count": 629,
   "id": "83948a1e",
   "metadata": {
    "pycharm": {
     "name": "#%%\n"
    }
   },
   "outputs": [],
   "source": [
    "a = Lion('Bob')"
   ]
  },
  {
   "cell_type": "code",
   "execution_count": 630,
   "id": "5cafcae1",
   "metadata": {
    "pycharm": {
     "name": "#%%\n"
    }
   },
   "outputs": [
    {
     "data": {
      "text/plain": "<__main__.Lion at 0x28cfdb4f0d0>"
     },
     "execution_count": 630,
     "metadata": {},
     "output_type": "execute_result"
    }
   ],
   "source": [
    "a"
   ]
  },
  {
   "cell_type": "code",
   "execution_count": 631,
   "id": "41c95f8c",
   "metadata": {
    "pycharm": {
     "name": "#%%\n"
    }
   },
   "outputs": [
    {
     "name": "stdout",
     "output_type": "stream",
     "text": [
      "<__main__.Lion object at 0x0000028CFDB4F0D0>\n"
     ]
    }
   ],
   "source": [
    "print(a)"
   ]
  },
  {
   "cell_type": "code",
   "execution_count": 632,
   "id": "79804c83",
   "metadata": {
    "pycharm": {
     "name": "#%%\n"
    }
   },
   "outputs": [
    {
     "data": {
      "text/plain": "'<__main__.Lion object at 0x0000028CFDB4F0D0>'"
     },
     "execution_count": 632,
     "metadata": {},
     "output_type": "execute_result"
    }
   ],
   "source": [
    "str(a)"
   ]
  },
  {
   "cell_type": "code",
   "execution_count": 633,
   "id": "606ab919",
   "metadata": {
    "pycharm": {
     "name": "#%%\n"
    }
   },
   "outputs": [],
   "source": [
    "class Lion:\n",
    "    def __init__(self, name):\n",
    "        self.name = name\n",
    "\n",
    "    def __repr__(self):\n",
    "        return f\"The object Lion - {self.name}\""
   ]
  },
  {
   "cell_type": "code",
   "execution_count": 634,
   "id": "ecb50697",
   "metadata": {
    "pycharm": {
     "name": "#%%\n"
    }
   },
   "outputs": [],
   "source": [
    "a = Lion('Simba')"
   ]
  },
  {
   "cell_type": "code",
   "execution_count": 635,
   "id": "83b6068f",
   "metadata": {
    "pycharm": {
     "name": "#%%\n"
    }
   },
   "outputs": [
    {
     "data": {
      "text/plain": "The object Lion - Simba"
     },
     "execution_count": 635,
     "metadata": {},
     "output_type": "execute_result"
    }
   ],
   "source": [
    "a"
   ]
  },
  {
   "cell_type": "code",
   "execution_count": 636,
   "id": "f5c8c874",
   "metadata": {
    "pycharm": {
     "name": "#%%\n"
    }
   },
   "outputs": [
    {
     "name": "stdout",
     "output_type": "stream",
     "text": [
      "The object Lion - Simba\n"
     ]
    }
   ],
   "source": [
    "print(a)"
   ]
  },
  {
   "cell_type": "code",
   "execution_count": 637,
   "id": "981b546b",
   "metadata": {
    "pycharm": {
     "name": "#%%\n"
    }
   },
   "outputs": [
    {
     "data": {
      "text/plain": "'The object Lion - Simba'"
     },
     "execution_count": 637,
     "metadata": {},
     "output_type": "execute_result"
    }
   ],
   "source": [
    "str(a)"
   ]
  },
  {
   "cell_type": "code",
   "execution_count": 638,
   "id": "293e5b1a",
   "metadata": {
    "pycharm": {
     "name": "#%%\n"
    }
   },
   "outputs": [],
   "source": [
    "class Lion:\n",
    "    def __init__(self, name):\n",
    "        self.name = name\n",
    "\n",
    "    def __repr__(self):\n",
    "        return f\"The object Lion - {self.name}\"\n",
    "\n",
    "    def __str__(self):\n",
    "        return f\"Lion - {self.name}\""
   ]
  },
  {
   "cell_type": "code",
   "execution_count": 639,
   "id": "6ca0c5f1",
   "metadata": {
    "pycharm": {
     "name": "#%%\n"
    }
   },
   "outputs": [],
   "source": [
    "a = Lion('Bob')"
   ]
  },
  {
   "cell_type": "code",
   "execution_count": 640,
   "id": "e745dfa7",
   "metadata": {
    "pycharm": {
     "name": "#%%\n"
    }
   },
   "outputs": [
    {
     "data": {
      "text/plain": "The object Lion - Bob"
     },
     "execution_count": 640,
     "metadata": {},
     "output_type": "execute_result"
    }
   ],
   "source": [
    "a"
   ]
  },
  {
   "cell_type": "code",
   "execution_count": 641,
   "id": "03f8253e",
   "metadata": {
    "pycharm": {
     "name": "#%%\n"
    }
   },
   "outputs": [
    {
     "name": "stdout",
     "output_type": "stream",
     "text": [
      "Lion - Bob\n"
     ]
    }
   ],
   "source": [
    "print(a)"
   ]
  },
  {
   "cell_type": "code",
   "execution_count": 642,
   "id": "e5803f24",
   "metadata": {
    "pycharm": {
     "name": "#%%\n"
    }
   },
   "outputs": [
    {
     "data": {
      "text/plain": "'Lion - Bob'"
     },
     "execution_count": 642,
     "metadata": {},
     "output_type": "execute_result"
    }
   ],
   "source": [
    "str(a)"
   ]
  },
  {
   "cell_type": "code",
   "execution_count": 643,
   "id": "b3abcd72",
   "metadata": {
    "pycharm": {
     "name": "#%%\n"
    }
   },
   "outputs": [],
   "source": [
    "class Lion:\n",
    "    def __init__(self, name):\n",
    "        self.name = name\n",
    "\n",
    "    def __str__(self):\n",
    "        return f\"Lion - {self.name}\""
   ]
  },
  {
   "cell_type": "code",
   "execution_count": 644,
   "id": "08c30172",
   "metadata": {
    "pycharm": {
     "name": "#%%\n"
    }
   },
   "outputs": [],
   "source": [
    "a = Lion('Simba')"
   ]
  },
  {
   "cell_type": "code",
   "execution_count": 645,
   "id": "5aea83dc",
   "metadata": {
    "pycharm": {
     "name": "#%%\n"
    }
   },
   "outputs": [
    {
     "data": {
      "text/plain": "<__main__.Lion at 0x28cfdb65520>"
     },
     "execution_count": 645,
     "metadata": {},
     "output_type": "execute_result"
    }
   ],
   "source": [
    "a"
   ]
  },
  {
   "cell_type": "code",
   "execution_count": 646,
   "id": "f2022fdf",
   "metadata": {
    "pycharm": {
     "name": "#%%\n"
    }
   },
   "outputs": [
    {
     "name": "stdout",
     "output_type": "stream",
     "text": [
      "Lion - Simba\n"
     ]
    }
   ],
   "source": [
    "print(a)"
   ]
  },
  {
   "cell_type": "code",
   "execution_count": 647,
   "id": "030545d8",
   "metadata": {
    "pycharm": {
     "name": "#%%\n"
    }
   },
   "outputs": [
    {
     "data": {
      "text/plain": "'Lion - Simba'"
     },
     "execution_count": 647,
     "metadata": {},
     "output_type": "execute_result"
    }
   ],
   "source": [
    "str(a)"
   ]
  },
  {
   "cell_type": "code",
   "execution_count": 648,
   "id": "88bfd037",
   "metadata": {
    "pycharm": {
     "name": "#%%\n"
    }
   },
   "outputs": [],
   "source": [
    "#Магические методы __len__ и __abs__"
   ]
  },
  {
   "cell_type": "code",
   "execution_count": 649,
   "id": "b3364e3b",
   "metadata": {
    "pycharm": {
     "name": "#%%\n"
    }
   },
   "outputs": [],
   "source": [
    "class Person:\n",
    "    def __init__(self, name, surname):\n",
    "        self.name = name\n",
    "        self.surname = surname\n"
   ]
  },
  {
   "cell_type": "code",
   "execution_count": 650,
   "id": "8c5b754b",
   "metadata": {
    "pycharm": {
     "name": "#%%\n"
    }
   },
   "outputs": [
    {
     "data": {
      "text/plain": "3"
     },
     "execution_count": 650,
     "metadata": {},
     "output_type": "execute_result"
    }
   ],
   "source": [
    "'abc'.__len__()"
   ]
  },
  {
   "cell_type": "code",
   "execution_count": 651,
   "id": "6d36ce31",
   "metadata": {
    "pycharm": {
     "name": "#%%\n"
    }
   },
   "outputs": [
    {
     "data": {
      "text/plain": "100"
     },
     "execution_count": 651,
     "metadata": {},
     "output_type": "execute_result"
    }
   ],
   "source": [
    "(-100).__abs__()"
   ]
  },
  {
   "cell_type": "code",
   "execution_count": 652,
   "id": "6e1aef1d",
   "metadata": {
    "pycharm": {
     "name": "#%%\n"
    }
   },
   "outputs": [],
   "source": [
    "a = Person('abc', '123')"
   ]
  },
  {
   "cell_type": "code",
   "execution_count": 653,
   "id": "396a5163",
   "metadata": {
    "pycharm": {
     "name": "#%%\n"
    }
   },
   "outputs": [],
   "source": [
    "# len(a)\n",
    "# TypeError: object of type 'Person' has no len()"
   ]
  },
  {
   "cell_type": "code",
   "execution_count": 654,
   "id": "3d44f6df",
   "metadata": {
    "pycharm": {
     "name": "#%%\n"
    }
   },
   "outputs": [],
   "source": [
    "class Person:\n",
    "    def __init__(self, name, surname):\n",
    "        self.name = name\n",
    "        self.surname = surname\n",
    "\n",
    "    def __len__(self):\n",
    "        return len(self.name + self.surname)"
   ]
  },
  {
   "cell_type": "code",
   "execution_count": 655,
   "id": "b4e490a7",
   "metadata": {
    "pycharm": {
     "name": "#%%\n"
    }
   },
   "outputs": [],
   "source": [
    "a = Person('Marat', 'Shagitov')"
   ]
  },
  {
   "cell_type": "code",
   "execution_count": 656,
   "id": "19f3c4c5",
   "metadata": {
    "pycharm": {
     "name": "#%%\n"
    }
   },
   "outputs": [
    {
     "data": {
      "text/plain": "13"
     },
     "execution_count": 656,
     "metadata": {},
     "output_type": "execute_result"
    }
   ],
   "source": [
    "len(a)"
   ]
  },
  {
   "cell_type": "code",
   "execution_count": 657,
   "id": "aead8ee8",
   "metadata": {
    "pycharm": {
     "name": "#%%\n"
    }
   },
   "outputs": [],
   "source": [
    "# abs(a)\n",
    "# TypeError: bad operand type for abs(): 'Person'"
   ]
  },
  {
   "cell_type": "code",
   "execution_count": 658,
   "id": "9c8627c3",
   "metadata": {
    "pycharm": {
     "name": "#%%\n"
    }
   },
   "outputs": [],
   "source": [
    "class Line:\n",
    "    def __init__(self, point1, point2):\n",
    "        self.x1 = point1\n",
    "        self.x2 = point2\n",
    "\n",
    "    def __len__(self):\n",
    "        return self.x2 - self.x1"
   ]
  },
  {
   "cell_type": "code",
   "execution_count": 659,
   "id": "11d629b9",
   "metadata": {
    "pycharm": {
     "name": "#%%\n"
    }
   },
   "outputs": [],
   "source": [
    "a = Line(5, 10)"
   ]
  },
  {
   "cell_type": "code",
   "execution_count": 660,
   "id": "dbd3e586",
   "metadata": {
    "pycharm": {
     "name": "#%%\n"
    }
   },
   "outputs": [
    {
     "data": {
      "text/plain": "5"
     },
     "execution_count": 660,
     "metadata": {},
     "output_type": "execute_result"
    }
   ],
   "source": [
    "len(a)"
   ]
  },
  {
   "cell_type": "code",
   "execution_count": 661,
   "id": "3e068b96",
   "metadata": {
    "pycharm": {
     "name": "#%%\n"
    }
   },
   "outputs": [],
   "source": [
    "a = Line(10, 5)"
   ]
  },
  {
   "cell_type": "code",
   "execution_count": 662,
   "id": "0e2e1651",
   "metadata": {
    "pycharm": {
     "name": "#%%\n"
    }
   },
   "outputs": [],
   "source": [
    "# len(a)\n",
    "# ValueError: __len__() should return >= 0"
   ]
  },
  {
   "cell_type": "code",
   "execution_count": 663,
   "id": "e7aa3043",
   "metadata": {
    "pycharm": {
     "name": "#%%\n"
    }
   },
   "outputs": [],
   "source": [
    "class Line:\n",
    "    def __init__(self, point1, point2):\n",
    "        self.x1 = point1\n",
    "        self.x2 = point2\n",
    "\n",
    "    def __len__(self):\n",
    "        return abs(self)  # self.__abs__()\n",
    "\n",
    "    def __abs__(self):\n",
    "        return abs(self.x2 - self.x1)"
   ]
  },
  {
   "cell_type": "code",
   "execution_count": 664,
   "id": "a443a91a",
   "metadata": {
    "pycharm": {
     "name": "#%%\n"
    }
   },
   "outputs": [],
   "source": [
    "a = Line(5, 10)"
   ]
  },
  {
   "cell_type": "code",
   "execution_count": 665,
   "id": "f356c61f",
   "metadata": {
    "pycharm": {
     "name": "#%%\n"
    }
   },
   "outputs": [
    {
     "data": {
      "text/plain": "5"
     },
     "execution_count": 665,
     "metadata": {},
     "output_type": "execute_result"
    }
   ],
   "source": [
    "len(a)"
   ]
  },
  {
   "cell_type": "code",
   "execution_count": 666,
   "id": "b52109cc",
   "metadata": {
    "pycharm": {
     "name": "#%%\n"
    }
   },
   "outputs": [],
   "source": [
    "a = Line(1000, 100)"
   ]
  },
  {
   "cell_type": "code",
   "execution_count": 667,
   "id": "0056eafd",
   "metadata": {
    "pycharm": {
     "name": "#%%\n"
    }
   },
   "outputs": [
    {
     "data": {
      "text/plain": "900"
     },
     "execution_count": 667,
     "metadata": {},
     "output_type": "execute_result"
    }
   ],
   "source": [
    "len(a)"
   ]
  },
  {
   "cell_type": "code",
   "execution_count": 668,
   "id": "b0d7dd2f",
   "metadata": {
    "pycharm": {
     "name": "#%%\n"
    }
   },
   "outputs": [],
   "source": [
    "class Vector:\n",
    "    def __init__(self, *args):\n",
    "        a = []\n",
    "        for _ in args:\n",
    "            if isinstance(_, int):\n",
    "                a += [_]\n",
    "        self.values = sorted(a)\n",
    "\n",
    "    def __str__(self):\n",
    "        if self.values:\n",
    "            x = [str(i) for i in self.values]\n",
    "            return f\"Вектор - ({', '.join(x)})\"\n",
    "        else:\n",
    "            return \"Пустой вектор\"\n",
    "\n",
    "    def __add__(self, other):\n",
    "        if isinstance(other, int):\n",
    "            x = [i + other for i in self.values]\n",
    "            return Vector(*x)\n",
    "        elif isinstance(other, Vector):\n",
    "            if len(other.values) == len(self.values):\n",
    "                x = [sum(i) for i in zip(self.values, other.values)]\n",
    "                return Vector(*x)\n",
    "            else:\n",
    "                print(\"Сложение векторов разной длины недопустимо\")\n",
    "        else:\n",
    "            print(f\"Вектор нельзя сложить с {other}\")"
   ]
  },
  {
   "cell_type": "code",
   "execution_count": 669,
   "id": "a975f798",
   "metadata": {
    "pycharm": {
     "name": "#%%\n"
    }
   },
   "outputs": [
    {
     "name": "stdout",
     "output_type": "stream",
     "text": [
      "Вектор - (1, 10, 100, 1000)\n",
      "Вектор - (6, 15, 105, 1005)\n"
     ]
    }
   ],
   "source": [
    "a = Vector(10 ** 3, 10 ** 2, 10 ** 1, 1)\n",
    "print(a)\n",
    "t = a + 5\n",
    "print(t)"
   ]
  },
  {
   "cell_type": "code",
   "execution_count": 670,
   "id": "086c2a98",
   "metadata": {
    "pycharm": {
     "name": "#%%\n"
    }
   },
   "outputs": [
    {
     "name": "stdout",
     "output_type": "stream",
     "text": [
      "Вектор - (101, 210, 400, 1400)\n"
     ]
    }
   ],
   "source": [
    "x = Vector(1000, 100, 10, 1)\n",
    "y = Vector(100, 200, 300, 400)\n",
    "print(x + y)"
   ]
  },
  {
   "cell_type": "code",
   "execution_count": 671,
   "id": "d9443f53",
   "metadata": {
    "pycharm": {
     "name": "#%%\n"
    },
    "scrolled": true
   },
   "outputs": [
    {
     "name": "stdout",
     "output_type": "stream",
     "text": [
      "Вектор нельзя сложить с 0.5\n",
      "None\n"
     ]
    }
   ],
   "source": [
    "print(x + 0.5)"
   ]
  },
  {
   "cell_type": "code",
   "execution_count": 672,
   "outputs": [],
   "source": [
    "class Rectangle:\n",
    "    def __init__(self, a, b):\n",
    "        self.a = a\n",
    "        self.b = b"
   ],
   "metadata": {
    "collapsed": false,
    "pycharm": {
     "name": "#%%\n"
    }
   }
  },
  {
   "cell_type": "code",
   "execution_count": 673,
   "outputs": [],
   "source": [
    "v = Rectangle(1, 2)\n",
    "r = Rectangle(3, 4)"
   ],
   "metadata": {
    "collapsed": false,
    "pycharm": {
     "name": "#%%\n"
    }
   }
  },
  {
   "cell_type": "code",
   "execution_count": 674,
   "outputs": [],
   "source": [
    "# r > v\n",
    "# TypeError: '>' not supported between instances of 'Rectangle' and 'Rectangle'"
   ],
   "metadata": {
    "collapsed": false,
    "pycharm": {
     "name": "#%%\n"
    }
   }
  },
  {
   "cell_type": "code",
   "execution_count": 675,
   "outputs": [],
   "source": [
    "# v < 5\n",
    "# TypeError: '<' not supported between instances of 'Rectangle' and 'int'"
   ],
   "metadata": {
    "collapsed": false,
    "pycharm": {
     "name": "#%%\n"
    }
   }
  },
  {
   "cell_type": "code",
   "execution_count": 676,
   "outputs": [
    {
     "data": {
      "text/plain": "False"
     },
     "execution_count": 676,
     "metadata": {},
     "output_type": "execute_result"
    }
   ],
   "source": [
    "v == r"
   ],
   "metadata": {
    "collapsed": false,
    "pycharm": {
     "name": "#%%\n"
    }
   }
  },
  {
   "cell_type": "code",
   "execution_count": 677,
   "outputs": [],
   "source": [
    "class Rectangle:\n",
    "    def __init__(self, a, b):\n",
    "        self.a = a\n",
    "        self.b = b\n",
    "\n",
    "    @property\n",
    "    def area(self):\n",
    "        return self.a * self.b\n",
    "\n",
    "    def __eq__(self, other):\n",
    "        print('__eq__ call')\n",
    "        if isinstance(other, Rectangle):\n",
    "            return self.a == other.a and self.b == other.b\n",
    "\n",
    "    def __lt__(self, other):\n",
    "        print('__lt__ call')\n",
    "        if isinstance(other, Rectangle):\n",
    "            return self.area < other.area\n",
    "        elif isinstance(other, (int, float)):\n",
    "            return self.area < other"
   ],
   "metadata": {
    "collapsed": false,
    "pycharm": {
     "name": "#%%\n"
    }
   }
  },
  {
   "cell_type": "code",
   "execution_count": 678,
   "outputs": [],
   "source": [
    "x = Rectangle(1, 2)"
   ],
   "metadata": {
    "collapsed": false,
    "pycharm": {
     "name": "#%%\n"
    }
   }
  },
  {
   "cell_type": "code",
   "execution_count": 679,
   "outputs": [],
   "source": [
    "y = Rectangle(1, 2)"
   ],
   "metadata": {
    "collapsed": false,
    "pycharm": {
     "name": "#%%\n"
    }
   }
  },
  {
   "cell_type": "code",
   "execution_count": 680,
   "outputs": [
    {
     "name": "stdout",
     "output_type": "stream",
     "text": [
      "__eq__ call\n"
     ]
    },
    {
     "data": {
      "text/plain": "True"
     },
     "execution_count": 680,
     "metadata": {},
     "output_type": "execute_result"
    }
   ],
   "source": [
    "x == y"
   ],
   "metadata": {
    "collapsed": false,
    "pycharm": {
     "name": "#%%\n"
    }
   }
  },
  {
   "cell_type": "code",
   "execution_count": 681,
   "outputs": [],
   "source": [
    "a = Rectangle(10, 10)"
   ],
   "metadata": {
    "collapsed": false,
    "pycharm": {
     "name": "#%%\n"
    }
   }
  },
  {
   "cell_type": "code",
   "execution_count": 682,
   "outputs": [
    {
     "name": "stdout",
     "output_type": "stream",
     "text": [
      "__eq__ call\n"
     ]
    },
    {
     "data": {
      "text/plain": "False"
     },
     "execution_count": 682,
     "metadata": {},
     "output_type": "execute_result"
    }
   ],
   "source": [
    "a == x"
   ],
   "metadata": {
    "collapsed": false,
    "pycharm": {
     "name": "#%%\n"
    }
   }
  },
  {
   "cell_type": "code",
   "execution_count": 683,
   "outputs": [
    {
     "name": "stdout",
     "output_type": "stream",
     "text": [
      "__lt__ call\n"
     ]
    },
    {
     "data": {
      "text/plain": "False"
     },
     "execution_count": 683,
     "metadata": {},
     "output_type": "execute_result"
    }
   ],
   "source": [
    "a < x"
   ],
   "metadata": {
    "collapsed": false,
    "pycharm": {
     "name": "#%%\n"
    }
   }
  },
  {
   "cell_type": "code",
   "execution_count": 684,
   "outputs": [
    {
     "name": "stdout",
     "output_type": "stream",
     "text": [
      "__lt__ call\n"
     ]
    },
    {
     "data": {
      "text/plain": "True"
     },
     "execution_count": 684,
     "metadata": {},
     "output_type": "execute_result"
    }
   ],
   "source": [
    "a > x"
   ],
   "metadata": {
    "collapsed": false,
    "pycharm": {
     "name": "#%%\n"
    }
   }
  },
  {
   "cell_type": "code",
   "execution_count": 685,
   "outputs": [
    {
     "data": {
      "text/plain": "100"
     },
     "execution_count": 685,
     "metadata": {},
     "output_type": "execute_result"
    }
   ],
   "source": [
    "a.area"
   ],
   "metadata": {
    "collapsed": false,
    "pycharm": {
     "name": "#%%\n"
    }
   }
  },
  {
   "cell_type": "code",
   "execution_count": 686,
   "outputs": [],
   "source": [
    "# 100 < a\n",
    "# TypeError: '<' not supported between instances of 'int' and 'Rectangle'"
   ],
   "metadata": {
    "collapsed": false,
    "pycharm": {
     "name": "#%%\n"
    }
   }
  },
  {
   "cell_type": "code",
   "execution_count": 687,
   "outputs": [
    {
     "name": "stdout",
     "output_type": "stream",
     "text": [
      "__lt__ call\n"
     ]
    },
    {
     "data": {
      "text/plain": "False"
     },
     "execution_count": 687,
     "metadata": {},
     "output_type": "execute_result"
    }
   ],
   "source": [
    "a < 100"
   ],
   "metadata": {
    "collapsed": false,
    "pycharm": {
     "name": "#%%\n"
    }
   }
  },
  {
   "cell_type": "code",
   "execution_count": 688,
   "outputs": [],
   "source": [
    "a = Rectangle(1, 1)\n",
    "x = Rectangle(10, 10)"
   ],
   "metadata": {
    "collapsed": false,
    "pycharm": {
     "name": "#%%\n"
    }
   }
  },
  {
   "cell_type": "code",
   "execution_count": 689,
   "outputs": [
    {
     "name": "stdout",
     "output_type": "stream",
     "text": [
      "__lt__ call\n"
     ]
    },
    {
     "data": {
      "text/plain": "False"
     },
     "execution_count": 689,
     "metadata": {},
     "output_type": "execute_result"
    }
   ],
   "source": [
    "a > x"
   ],
   "metadata": {
    "collapsed": false,
    "pycharm": {
     "name": "#%%\n"
    }
   }
  },
  {
   "cell_type": "code",
   "execution_count": 690,
   "outputs": [],
   "source": [
    "class Rectangle:\n",
    "    def __init__(self, a, b):\n",
    "        self.a = a\n",
    "        self.b = b\n",
    "\n",
    "    @property\n",
    "    def area(self):\n",
    "        return self.a * self.b\n",
    "\n",
    "    def __eq__(self, other):\n",
    "        print('__eq__ call')\n",
    "        if isinstance(other, Rectangle):\n",
    "            return self.a == other.a and self.b == other.b\n",
    "\n",
    "    def __lt__(self, other):\n",
    "        print('__lt__ call')\n",
    "        if isinstance(other, Rectangle):\n",
    "            return self.area < other.area\n",
    "        elif isinstance(other, (int, float)):\n",
    "            return self.area < other\n",
    "\n",
    "    def __le__(self, other):\n",
    "        return self == other or self < other"
   ],
   "metadata": {
    "collapsed": false,
    "pycharm": {
     "name": "#%%\n"
    }
   }
  },
  {
   "cell_type": "code",
   "execution_count": 691,
   "outputs": [],
   "source": [
    "a = Rectangle(7, 7)"
   ],
   "metadata": {
    "collapsed": false,
    "pycharm": {
     "name": "#%%\n"
    }
   }
  },
  {
   "cell_type": "code",
   "execution_count": 692,
   "outputs": [],
   "source": [
    "x = Rectangle(7, 7)"
   ],
   "metadata": {
    "collapsed": false,
    "pycharm": {
     "name": "#%%\n"
    }
   }
  },
  {
   "cell_type": "code",
   "execution_count": 693,
   "outputs": [
    {
     "name": "stdout",
     "output_type": "stream",
     "text": [
      "__eq__ call\n"
     ]
    },
    {
     "data": {
      "text/plain": "True"
     },
     "execution_count": 693,
     "metadata": {},
     "output_type": "execute_result"
    }
   ],
   "source": [
    "a == x"
   ],
   "metadata": {
    "collapsed": false,
    "pycharm": {
     "name": "#%%\n"
    }
   }
  },
  {
   "cell_type": "code",
   "execution_count": 694,
   "outputs": [],
   "source": [
    "w = Rectangle(1, 1)"
   ],
   "metadata": {
    "collapsed": false,
    "pycharm": {
     "name": "#%%\n"
    }
   }
  },
  {
   "cell_type": "code",
   "execution_count": 695,
   "outputs": [
    {
     "name": "stdout",
     "output_type": "stream",
     "text": [
      "__eq__ call\n",
      "__lt__ call\n"
     ]
    },
    {
     "data": {
      "text/plain": "False"
     },
     "execution_count": 695,
     "metadata": {},
     "output_type": "execute_result"
    }
   ],
   "source": [
    "a <= w"
   ],
   "metadata": {
    "collapsed": false,
    "pycharm": {
     "name": "#%%\n"
    }
   }
  },
  {
   "cell_type": "code",
   "execution_count": 696,
   "outputs": [
    {
     "name": "stdout",
     "output_type": "stream",
     "text": [
      "__eq__ call\n"
     ]
    },
    {
     "data": {
      "text/plain": "False"
     },
     "execution_count": 696,
     "metadata": {},
     "output_type": "execute_result"
    }
   ],
   "source": [
    "a == w"
   ],
   "metadata": {
    "collapsed": false,
    "pycharm": {
     "name": "#%%\n"
    }
   }
  },
  {
   "cell_type": "code",
   "execution_count": 697,
   "outputs": [
    {
     "name": "stdout",
     "output_type": "stream",
     "text": [
      "__eq__ call\n"
     ]
    },
    {
     "data": {
      "text/plain": "True"
     },
     "execution_count": 697,
     "metadata": {},
     "output_type": "execute_result"
    }
   ],
   "source": [
    "a != w"
   ],
   "metadata": {
    "collapsed": false,
    "pycharm": {
     "name": "#%%\n"
    }
   }
  },
  {
   "cell_type": "code",
   "execution_count": 698,
   "outputs": [
    {
     "name": "stdout",
     "output_type": "stream",
     "text": [
      "__eq__ call\n",
      "__lt__ call\n"
     ]
    },
    {
     "data": {
      "text/plain": "True"
     },
     "execution_count": 698,
     "metadata": {},
     "output_type": "execute_result"
    }
   ],
   "source": [
    "a >= w"
   ],
   "metadata": {
    "collapsed": false,
    "pycharm": {
     "name": "#%%\n"
    }
   }
  },
  {
   "cell_type": "code",
   "execution_count": 699,
   "outputs": [],
   "source": [
    "class Point:\n",
    "    pass"
   ],
   "metadata": {
    "collapsed": false,
    "pycharm": {
     "name": "#%%\n"
    }
   }
  },
  {
   "cell_type": "code",
   "execution_count": 700,
   "outputs": [],
   "source": [
    "a = Point()"
   ],
   "metadata": {
    "collapsed": false,
    "pycharm": {
     "name": "#%%\n"
    }
   }
  },
  {
   "cell_type": "code",
   "execution_count": 701,
   "outputs": [
    {
     "data": {
      "text/plain": "True"
     },
     "execution_count": 701,
     "metadata": {},
     "output_type": "execute_result"
    }
   ],
   "source": [
    "isinstance(a, object)"
   ],
   "metadata": {
    "collapsed": false,
    "pycharm": {
     "name": "#%%\n"
    }
   }
  },
  {
   "cell_type": "code",
   "execution_count": 702,
   "outputs": [
    {
     "data": {
      "text/plain": "'<__main__.Point object at 0x0000028CFDB65400>'"
     },
     "execution_count": 702,
     "metadata": {},
     "output_type": "execute_result"
    }
   ],
   "source": [
    "a.__repr__()"
   ],
   "metadata": {
    "collapsed": false,
    "pycharm": {
     "name": "#%%\n"
    }
   }
  },
  {
   "cell_type": "code",
   "execution_count": 703,
   "outputs": [],
   "source": [
    "y = Point()"
   ],
   "metadata": {
    "collapsed": false,
    "pycharm": {
     "name": "#%%\n"
    }
   }
  },
  {
   "cell_type": "code",
   "execution_count": 704,
   "outputs": [],
   "source": [
    "x = y"
   ],
   "metadata": {
    "collapsed": false,
    "pycharm": {
     "name": "#%%\n"
    }
   }
  },
  {
   "cell_type": "code",
   "execution_count": 705,
   "outputs": [
    {
     "data": {
      "text/plain": "2804574848000"
     },
     "execution_count": 705,
     "metadata": {},
     "output_type": "execute_result"
    }
   ],
   "source": [
    "id(x)"
   ],
   "metadata": {
    "collapsed": false,
    "pycharm": {
     "name": "#%%\n"
    }
   }
  },
  {
   "cell_type": "code",
   "execution_count": 706,
   "outputs": [
    {
     "data": {
      "text/plain": "2804574848000"
     },
     "execution_count": 706,
     "metadata": {},
     "output_type": "execute_result"
    }
   ],
   "source": [
    "id(y)"
   ],
   "metadata": {
    "collapsed": false,
    "pycharm": {
     "name": "#%%\n"
    }
   }
  },
  {
   "cell_type": "code",
   "execution_count": 707,
   "outputs": [
    {
     "data": {
      "text/plain": "175285928000"
     },
     "execution_count": 707,
     "metadata": {},
     "output_type": "execute_result"
    }
   ],
   "source": [
    "hash(x)"
   ],
   "metadata": {
    "collapsed": false,
    "pycharm": {
     "name": "#%%\n"
    }
   }
  },
  {
   "cell_type": "code",
   "execution_count": 708,
   "outputs": [
    {
     "data": {
      "text/plain": "175285928000"
     },
     "execution_count": 708,
     "metadata": {},
     "output_type": "execute_result"
    }
   ],
   "source": [
    "hash(y)"
   ],
   "metadata": {
    "collapsed": false,
    "pycharm": {
     "name": "#%%\n"
    }
   }
  },
  {
   "cell_type": "code",
   "execution_count": 709,
   "outputs": [],
   "source": [
    "class Point:\n",
    "    def __init__(self, x, y):\n",
    "        self.x = x\n",
    "        self.y = y\n",
    "\n",
    "    def __eq__(self, other):\n",
    "        return isinstance(other, Point) and self.x == other.x and self.y == other.y"
   ],
   "metadata": {
    "collapsed": false,
    "pycharm": {
     "name": "#%%\n"
    }
   }
  },
  {
   "cell_type": "code",
   "execution_count": 710,
   "outputs": [],
   "source": [
    "p1 = Point(0, 0)"
   ],
   "metadata": {
    "collapsed": false,
    "pycharm": {
     "name": "#%%\n"
    }
   }
  },
  {
   "cell_type": "code",
   "execution_count": 711,
   "outputs": [],
   "source": [
    "p2 = Point(0, 0)"
   ],
   "metadata": {
    "collapsed": false,
    "pycharm": {
     "name": "#%%\n"
    }
   }
  },
  {
   "cell_type": "code",
   "execution_count": 712,
   "outputs": [
    {
     "data": {
      "text/plain": "2804552354064"
     },
     "execution_count": 712,
     "metadata": {},
     "output_type": "execute_result"
    }
   ],
   "source": [
    "id(p1)"
   ],
   "metadata": {
    "collapsed": false,
    "pycharm": {
     "name": "#%%\n"
    }
   }
  },
  {
   "cell_type": "code",
   "execution_count": 713,
   "outputs": [
    {
     "data": {
      "text/plain": "2804574591584"
     },
     "execution_count": 713,
     "metadata": {},
     "output_type": "execute_result"
    }
   ],
   "source": [
    "id(p2)"
   ],
   "metadata": {
    "collapsed": false,
    "pycharm": {
     "name": "#%%\n"
    }
   }
  },
  {
   "cell_type": "code",
   "execution_count": 714,
   "outputs": [
    {
     "data": {
      "text/plain": "True"
     },
     "execution_count": 714,
     "metadata": {},
     "output_type": "execute_result"
    }
   ],
   "source": [
    "p1 == p2"
   ],
   "metadata": {
    "collapsed": false,
    "pycharm": {
     "name": "#%%\n"
    }
   }
  },
  {
   "cell_type": "code",
   "execution_count": 715,
   "outputs": [],
   "source": [
    "# hash(p1)\n",
    "# hash(p2)\n",
    "# TypeError: unhashable type: 'Point'"
   ],
   "metadata": {
    "collapsed": false,
    "pycharm": {
     "name": "#%%\n"
    }
   }
  },
  {
   "cell_type": "code",
   "execution_count": 716,
   "outputs": [],
   "source": [
    "class Point:\n",
    "    def __init__(self, x, y):\n",
    "        self.x = x\n",
    "        self.y = y\n",
    "\n",
    "    def __eq__(self, other):\n",
    "        return isinstance(other, Point) and self.x == other.x and self.y == other.y\n",
    "\n",
    "    def __hash__(self):\n",
    "        return hash((self.x, self.y))"
   ],
   "metadata": {
    "collapsed": false,
    "pycharm": {
     "name": "#%%\n"
    }
   }
  },
  {
   "cell_type": "code",
   "execution_count": 717,
   "outputs": [],
   "source": [
    "p1 = Point(1, 1)\n",
    "p2 = Point(1, 1)\n",
    "p3 = Point(10, 10)"
   ],
   "metadata": {
    "collapsed": false,
    "pycharm": {
     "name": "#%%\n"
    }
   }
  },
  {
   "cell_type": "code",
   "execution_count": 718,
   "outputs": [
    {
     "data": {
      "text/plain": "True"
     },
     "execution_count": 718,
     "metadata": {},
     "output_type": "execute_result"
    }
   ],
   "source": [
    "p1 == p2"
   ],
   "metadata": {
    "collapsed": false,
    "pycharm": {
     "name": "#%%\n"
    }
   }
  },
  {
   "cell_type": "code",
   "execution_count": 719,
   "outputs": [
    {
     "data": {
      "text/plain": "False"
     },
     "execution_count": 719,
     "metadata": {},
     "output_type": "execute_result"
    }
   ],
   "source": [
    "p1 == p3"
   ],
   "metadata": {
    "collapsed": false,
    "pycharm": {
     "name": "#%%\n"
    }
   }
  },
  {
   "cell_type": "code",
   "execution_count": 720,
   "outputs": [
    {
     "data": {
      "text/plain": "False"
     },
     "execution_count": 720,
     "metadata": {},
     "output_type": "execute_result"
    }
   ],
   "source": [
    "p2 == p3"
   ],
   "metadata": {
    "collapsed": false,
    "pycharm": {
     "name": "#%%\n"
    }
   }
  },
  {
   "cell_type": "code",
   "execution_count": 721,
   "outputs": [
    {
     "data": {
      "text/plain": "8389048192121911274"
     },
     "execution_count": 721,
     "metadata": {},
     "output_type": "execute_result"
    }
   ],
   "source": [
    "hash(p1)"
   ],
   "metadata": {
    "collapsed": false,
    "pycharm": {
     "name": "#%%\n"
    }
   }
  },
  {
   "cell_type": "code",
   "execution_count": 722,
   "outputs": [
    {
     "data": {
      "text/plain": "8389048192121911274"
     },
     "execution_count": 722,
     "metadata": {},
     "output_type": "execute_result"
    }
   ],
   "source": [
    "hash(p2)"
   ],
   "metadata": {
    "collapsed": false,
    "pycharm": {
     "name": "#%%\n"
    }
   }
  },
  {
   "cell_type": "code",
   "execution_count": 723,
   "outputs": [
    {
     "data": {
      "text/plain": "7295179424490390769"
     },
     "execution_count": 723,
     "metadata": {},
     "output_type": "execute_result"
    }
   ],
   "source": [
    "hash(p3)"
   ],
   "metadata": {
    "collapsed": false,
    "pycharm": {
     "name": "#%%\n"
    }
   }
  },
  {
   "cell_type": "code",
   "execution_count": 724,
   "outputs": [],
   "source": [
    "r = {}"
   ],
   "metadata": {
    "collapsed": false,
    "pycharm": {
     "name": "#%%\n"
    }
   }
  },
  {
   "cell_type": "code",
   "execution_count": 725,
   "outputs": [],
   "source": [
    "r[p1] = 0"
   ],
   "metadata": {
    "collapsed": false,
    "pycharm": {
     "name": "#%%\n"
    }
   }
  },
  {
   "cell_type": "code",
   "execution_count": 726,
   "outputs": [
    {
     "data": {
      "text/plain": "{<__main__.Point at 0x28cfdb3bb50>: 0}"
     },
     "execution_count": 726,
     "metadata": {},
     "output_type": "execute_result"
    }
   ],
   "source": [
    "r"
   ],
   "metadata": {
    "collapsed": false,
    "pycharm": {
     "name": "#%%\n"
    }
   }
  },
  {
   "cell_type": "code",
   "execution_count": 727,
   "outputs": [
    {
     "data": {
      "text/plain": "True"
     },
     "execution_count": 727,
     "metadata": {},
     "output_type": "execute_result"
    }
   ],
   "source": [
    "bool(100)"
   ],
   "metadata": {
    "collapsed": false,
    "pycharm": {
     "name": "#%%\n"
    }
   }
  },
  {
   "cell_type": "code",
   "execution_count": 728,
   "outputs": [
    {
     "data": {
      "text/plain": "True"
     },
     "execution_count": 728,
     "metadata": {},
     "output_type": "execute_result"
    }
   ],
   "source": [
    "bool(-100)"
   ],
   "metadata": {
    "collapsed": false,
    "pycharm": {
     "name": "#%%\n"
    }
   }
  },
  {
   "cell_type": "code",
   "execution_count": 729,
   "outputs": [
    {
     "data": {
      "text/plain": "False"
     },
     "execution_count": 729,
     "metadata": {},
     "output_type": "execute_result"
    }
   ],
   "source": [
    "bool(0)"
   ],
   "metadata": {
    "collapsed": false,
    "pycharm": {
     "name": "#%%\n"
    }
   }
  },
  {
   "cell_type": "code",
   "execution_count": 730,
   "outputs": [
    {
     "data": {
      "text/plain": "True"
     },
     "execution_count": 730,
     "metadata": {},
     "output_type": "execute_result"
    }
   ],
   "source": [
    "bool('abc')"
   ],
   "metadata": {
    "collapsed": false,
    "pycharm": {
     "name": "#%%\n"
    }
   }
  },
  {
   "cell_type": "code",
   "execution_count": 731,
   "outputs": [
    {
     "data": {
      "text/plain": "False"
     },
     "execution_count": 731,
     "metadata": {},
     "output_type": "execute_result"
    }
   ],
   "source": [
    "bool('')"
   ],
   "metadata": {
    "collapsed": false,
    "pycharm": {
     "name": "#%%\n"
    }
   }
  },
  {
   "cell_type": "code",
   "execution_count": 732,
   "outputs": [
    {
     "data": {
      "text/plain": "True"
     },
     "execution_count": 732,
     "metadata": {},
     "output_type": "execute_result"
    }
   ],
   "source": [
    "bool([0])"
   ],
   "metadata": {
    "collapsed": false,
    "pycharm": {
     "name": "#%%\n"
    }
   }
  },
  {
   "cell_type": "code",
   "execution_count": 733,
   "outputs": [
    {
     "data": {
      "text/plain": "False"
     },
     "execution_count": 733,
     "metadata": {},
     "output_type": "execute_result"
    }
   ],
   "source": [
    "bool([])"
   ],
   "metadata": {
    "collapsed": false,
    "pycharm": {
     "name": "#%%\n"
    }
   }
  },
  {
   "cell_type": "code",
   "execution_count": 734,
   "outputs": [],
   "source": [
    "class Point:\n",
    "    def __init__(self, x, y):\n",
    "        self.x = x\n",
    "        self.y = y"
   ],
   "metadata": {
    "collapsed": false,
    "pycharm": {
     "name": "#%%\n"
    }
   }
  },
  {
   "cell_type": "code",
   "execution_count": 735,
   "outputs": [],
   "source": [
    "x = Point(0, 0)"
   ],
   "metadata": {
    "collapsed": false,
    "pycharm": {
     "name": "#%%\n"
    }
   }
  },
  {
   "cell_type": "code",
   "execution_count": 736,
   "outputs": [
    {
     "data": {
      "text/plain": "True"
     },
     "execution_count": 736,
     "metadata": {},
     "output_type": "execute_result"
    }
   ],
   "source": [
    "bool(x)"
   ],
   "metadata": {
    "collapsed": false,
    "pycharm": {
     "name": "#%%\n"
    }
   }
  },
  {
   "cell_type": "code",
   "execution_count": 737,
   "outputs": [
    {
     "data": {
      "text/plain": "True"
     },
     "execution_count": 737,
     "metadata": {},
     "output_type": "execute_result"
    }
   ],
   "source": [
    "bool(Point(0, 0))"
   ],
   "metadata": {
    "collapsed": false,
    "pycharm": {
     "name": "#%%\n"
    }
   }
  },
  {
   "cell_type": "code",
   "execution_count": 738,
   "outputs": [],
   "source": [
    "class Point:\n",
    "    def __init__(self, x, y):\n",
    "        self.x = x\n",
    "        self.y = y\n",
    "\n",
    "    def __len__(self):\n",
    "        print('call __len__')\n",
    "        return abs(self.x - self.y)"
   ],
   "metadata": {
    "collapsed": false,
    "pycharm": {
     "name": "#%%\n"
    }
   }
  },
  {
   "cell_type": "code",
   "execution_count": 739,
   "outputs": [],
   "source": [
    "a = Point(10, 5)"
   ],
   "metadata": {
    "collapsed": false,
    "pycharm": {
     "name": "#%%\n"
    }
   }
  },
  {
   "cell_type": "code",
   "execution_count": 740,
   "outputs": [
    {
     "name": "stdout",
     "output_type": "stream",
     "text": [
      "call __len__\n"
     ]
    },
    {
     "data": {
      "text/plain": "True"
     },
     "execution_count": 740,
     "metadata": {},
     "output_type": "execute_result"
    }
   ],
   "source": [
    "bool(a)"
   ],
   "metadata": {
    "collapsed": false,
    "pycharm": {
     "name": "#%%\n"
    }
   }
  },
  {
   "cell_type": "code",
   "execution_count": 741,
   "outputs": [
    {
     "name": "stdout",
     "output_type": "stream",
     "text": [
      "call __len__\n"
     ]
    },
    {
     "data": {
      "text/plain": "False"
     },
     "execution_count": 741,
     "metadata": {},
     "output_type": "execute_result"
    }
   ],
   "source": [
    "bool(Point(9, 9))"
   ],
   "metadata": {
    "collapsed": false,
    "pycharm": {
     "name": "#%%\n"
    }
   }
  },
  {
   "cell_type": "code",
   "execution_count": 742,
   "outputs": [
    {
     "name": "stdout",
     "output_type": "stream",
     "text": [
      "call __len__\n"
     ]
    },
    {
     "data": {
      "text/plain": "False"
     },
     "execution_count": 742,
     "metadata": {},
     "output_type": "execute_result"
    }
   ],
   "source": [
    "bool(Point(-5, -5))"
   ],
   "metadata": {
    "collapsed": false,
    "pycharm": {
     "name": "#%%\n"
    }
   }
  },
  {
   "cell_type": "code",
   "execution_count": 743,
   "outputs": [],
   "source": [
    "class Point:\n",
    "    def __init__(self, x, y):\n",
    "        self.x = x\n",
    "        self.y = y\n",
    "\n",
    "    def __len__(self):\n",
    "        print('call __len__')\n",
    "        return abs(self.x - self.y)\n",
    "\n",
    "    def __bool__(self):\n",
    "        print('call __bool__')\n",
    "        return self.x != 0 or self.y != 0"
   ],
   "metadata": {
    "collapsed": false,
    "pycharm": {
     "name": "#%%\n"
    }
   }
  },
  {
   "cell_type": "code",
   "execution_count": 744,
   "outputs": [
    {
     "name": "stdout",
     "output_type": "stream",
     "text": [
      "call __bool__\n"
     ]
    },
    {
     "data": {
      "text/plain": "True"
     },
     "execution_count": 744,
     "metadata": {},
     "output_type": "execute_result"
    }
   ],
   "source": [
    "bool(Point(7, 7))"
   ],
   "metadata": {
    "collapsed": false,
    "pycharm": {
     "name": "#%%\n"
    }
   }
  },
  {
   "cell_type": "code",
   "execution_count": 745,
   "outputs": [
    {
     "name": "stdout",
     "output_type": "stream",
     "text": [
      "call __bool__\n"
     ]
    },
    {
     "data": {
      "text/plain": "True"
     },
     "execution_count": 745,
     "metadata": {},
     "output_type": "execute_result"
    }
   ],
   "source": [
    "bool(Point(-100, 0))"
   ],
   "metadata": {
    "collapsed": false,
    "pycharm": {
     "name": "#%%\n"
    }
   }
  },
  {
   "cell_type": "code",
   "execution_count": 746,
   "outputs": [
    {
     "name": "stdout",
     "output_type": "stream",
     "text": [
      "call __bool__\n"
     ]
    },
    {
     "data": {
      "text/plain": "True"
     },
     "execution_count": 746,
     "metadata": {},
     "output_type": "execute_result"
    }
   ],
   "source": [
    "bool(Point(0, -100))"
   ],
   "metadata": {
    "collapsed": false,
    "pycharm": {
     "name": "#%%\n"
    }
   }
  },
  {
   "cell_type": "code",
   "execution_count": 747,
   "outputs": [
    {
     "name": "stdout",
     "output_type": "stream",
     "text": [
      "call __bool__\n"
     ]
    },
    {
     "data": {
      "text/plain": "False"
     },
     "execution_count": 747,
     "metadata": {},
     "output_type": "execute_result"
    }
   ],
   "source": [
    "bool(Point(0, 0))"
   ],
   "metadata": {
    "collapsed": false,
    "pycharm": {
     "name": "#%%\n"
    }
   }
  },
  {
   "cell_type": "code",
   "execution_count": 748,
   "outputs": [
    {
     "name": "stdout",
     "output_type": "stream",
     "text": [
      "call __bool__\n"
     ]
    },
    {
     "data": {
      "text/plain": "True"
     },
     "execution_count": 748,
     "metadata": {},
     "output_type": "execute_result"
    }
   ],
   "source": [
    "bool(Point(5, 5))"
   ],
   "metadata": {
    "collapsed": false,
    "pycharm": {
     "name": "#%%\n"
    }
   }
  },
  {
   "cell_type": "code",
   "execution_count": 749,
   "outputs": [],
   "source": [
    "a = Point(7, 10)"
   ],
   "metadata": {
    "collapsed": false,
    "pycharm": {
     "name": "#%%\n"
    }
   }
  },
  {
   "cell_type": "code",
   "execution_count": 750,
   "outputs": [
    {
     "name": "stdout",
     "output_type": "stream",
     "text": [
      "call __bool__\n",
      "---\n"
     ]
    }
   ],
   "source": [
    "if a:\n",
    "    print('---')"
   ],
   "metadata": {
    "collapsed": false,
    "pycharm": {
     "name": "#%%\n"
    }
   }
  },
  {
   "cell_type": "code",
   "execution_count": 751,
   "outputs": [
    {
     "name": "stdout",
     "output_type": "stream",
     "text": [
      "call __bool__\n"
     ]
    }
   ],
   "source": [
    "if Point(0, 0):\n",
    "    print('---')"
   ],
   "metadata": {
    "collapsed": false,
    "pycharm": {
     "name": "#%%\n"
    }
   }
  },
  {
   "cell_type": "code",
   "execution_count": 752,
   "outputs": [],
   "source": [
    "class Counter:\n",
    "    def __init__(self):\n",
    "        print('init object', self)"
   ],
   "metadata": {
    "collapsed": false,
    "pycharm": {
     "name": "#%%\n"
    }
   }
  },
  {
   "cell_type": "code",
   "execution_count": 753,
   "outputs": [
    {
     "name": "stdout",
     "output_type": "stream",
     "text": [
      "init object <__main__.Counter object at 0x0000028CFD5EFD00>\n"
     ]
    },
    {
     "data": {
      "text/plain": "<__main__.Counter at 0x28cfd5efd00>"
     },
     "execution_count": 753,
     "metadata": {},
     "output_type": "execute_result"
    }
   ],
   "source": [
    "Counter()"
   ],
   "metadata": {
    "collapsed": false,
    "pycharm": {
     "name": "#%%\n"
    }
   }
  },
  {
   "cell_type": "code",
   "execution_count": 754,
   "outputs": [
    {
     "name": "stdout",
     "output_type": "stream",
     "text": [
      "init object <__main__.Counter object at 0x0000028CFD5E9E80>\n"
     ]
    }
   ],
   "source": [
    "a = Counter()"
   ],
   "metadata": {
    "collapsed": false,
    "pycharm": {
     "name": "#%%\n"
    }
   }
  },
  {
   "cell_type": "code",
   "execution_count": 755,
   "outputs": [],
   "source": [
    "# a()\n",
    "# TypeError: 'Counter' object is not callable"
   ],
   "metadata": {
    "collapsed": false,
    "pycharm": {
     "name": "#%%\n"
    }
   }
  },
  {
   "cell_type": "code",
   "execution_count": 756,
   "outputs": [],
   "source": [
    "class Counter:\n",
    "    def __init__(self):\n",
    "        self.counter = 0\n",
    "        print('init object', self)\n",
    "\n",
    "    def __call__(self, *args, **kwargs):\n",
    "        self.counter += 1\n",
    "        print(f\" Наш экземпляр вызывался {self.counter} раз(a)\")"
   ],
   "metadata": {
    "collapsed": false,
    "pycharm": {
     "name": "#%%\n"
    }
   }
  },
  {
   "cell_type": "code",
   "execution_count": 757,
   "outputs": [
    {
     "name": "stdout",
     "output_type": "stream",
     "text": [
      "init object <__main__.Counter object at 0x0000028CFD640FD0>\n"
     ]
    }
   ],
   "source": [
    "a = Counter()"
   ],
   "metadata": {
    "collapsed": false,
    "pycharm": {
     "name": "#%%\n"
    }
   }
  },
  {
   "cell_type": "code",
   "execution_count": 758,
   "id": "e2e76110",
   "metadata": {
    "pycharm": {
     "name": "#%%\n"
    }
   },
   "outputs": [
    {
     "name": "stdout",
     "output_type": "stream",
     "text": [
      " Наш экземпляр вызывался 1 раз(a)\n"
     ]
    }
   ],
   "source": [
    "a()"
   ]
  },
  {
   "cell_type": "code",
   "execution_count": 759,
   "outputs": [
    {
     "name": "stdout",
     "output_type": "stream",
     "text": [
      " Наш экземпляр вызывался 2 раз(a)\n"
     ]
    }
   ],
   "source": [
    "a()"
   ],
   "metadata": {
    "collapsed": false,
    "pycharm": {
     "name": "#%%\n"
    }
   }
  },
  {
   "cell_type": "code",
   "execution_count": 760,
   "outputs": [
    {
     "name": "stdout",
     "output_type": "stream",
     "text": [
      " Наш экземпляр вызывался 3 раз(a)\n"
     ]
    }
   ],
   "source": [
    "a()"
   ],
   "metadata": {
    "collapsed": false,
    "pycharm": {
     "name": "#%%\n"
    }
   }
  },
  {
   "cell_type": "code",
   "execution_count": 761,
   "outputs": [
    {
     "name": "stdout",
     "output_type": "stream",
     "text": [
      "init object <__main__.Counter object at 0x0000028CFD5D4700>\n"
     ]
    }
   ],
   "source": [
    "t = Counter()"
   ],
   "metadata": {
    "collapsed": false,
    "pycharm": {
     "name": "#%%\n"
    }
   }
  },
  {
   "cell_type": "code",
   "execution_count": 762,
   "outputs": [
    {
     "name": "stdout",
     "output_type": "stream",
     "text": [
      " Наш экземпляр вызывался 1 раз(a)\n"
     ]
    }
   ],
   "source": [
    "t()"
   ],
   "metadata": {
    "collapsed": false,
    "pycharm": {
     "name": "#%%\n"
    }
   }
  },
  {
   "cell_type": "code",
   "execution_count": 763,
   "outputs": [],
   "source": [
    "class Counter:\n",
    "    def __init__(self):\n",
    "        self.counter = 0\n",
    "        self.summa = 0\n",
    "        self.length = 0\n",
    "        print('init object', self)\n",
    "\n",
    "    def __call__(self, *args, **kwargs):\n",
    "        self.counter += 1\n",
    "        self.summa += sum(args)\n",
    "        self.length += len(args)\n",
    "        print(f\" Наш экземпляр вызывался {self.counter} раз(a)\")"
   ],
   "metadata": {
    "collapsed": false,
    "pycharm": {
     "name": "#%%\n"
    }
   }
  },
  {
   "cell_type": "code",
   "execution_count": 764,
   "outputs": [
    {
     "name": "stdout",
     "output_type": "stream",
     "text": [
      "init object <__main__.Counter object at 0x0000028CFD5CAD30>\n"
     ]
    }
   ],
   "source": [
    "a = Counter()"
   ],
   "metadata": {
    "collapsed": false,
    "pycharm": {
     "name": "#%%\n"
    }
   }
  },
  {
   "cell_type": "code",
   "execution_count": 765,
   "outputs": [
    {
     "data": {
      "text/plain": "0"
     },
     "execution_count": 765,
     "metadata": {},
     "output_type": "execute_result"
    }
   ],
   "source": [
    "a.counter"
   ],
   "metadata": {
    "collapsed": false,
    "pycharm": {
     "name": "#%%\n"
    }
   }
  },
  {
   "cell_type": "code",
   "execution_count": 766,
   "outputs": [
    {
     "data": {
      "text/plain": "0"
     },
     "execution_count": 766,
     "metadata": {},
     "output_type": "execute_result"
    }
   ],
   "source": [
    "a.summa"
   ],
   "metadata": {
    "collapsed": false,
    "pycharm": {
     "name": "#%%\n"
    }
   }
  },
  {
   "cell_type": "code",
   "execution_count": 767,
   "outputs": [
    {
     "data": {
      "text/plain": "0"
     },
     "execution_count": 767,
     "metadata": {},
     "output_type": "execute_result"
    }
   ],
   "source": [
    "a.length"
   ],
   "metadata": {
    "collapsed": false,
    "pycharm": {
     "name": "#%%\n"
    }
   }
  },
  {
   "cell_type": "code",
   "execution_count": 768,
   "outputs": [
    {
     "name": "stdout",
     "output_type": "stream",
     "text": [
      " Наш экземпляр вызывался 1 раз(a)\n"
     ]
    }
   ],
   "source": [
    "a(3, 4, 5)"
   ],
   "metadata": {
    "collapsed": false,
    "pycharm": {
     "name": "#%%\n"
    }
   }
  },
  {
   "cell_type": "code",
   "execution_count": 769,
   "outputs": [
    {
     "data": {
      "text/plain": "12"
     },
     "execution_count": 769,
     "metadata": {},
     "output_type": "execute_result"
    }
   ],
   "source": [
    "a.summa"
   ],
   "metadata": {
    "collapsed": false,
    "pycharm": {
     "name": "#%%\n"
    }
   }
  },
  {
   "cell_type": "code",
   "execution_count": 770,
   "outputs": [
    {
     "data": {
      "text/plain": "3"
     },
     "execution_count": 770,
     "metadata": {},
     "output_type": "execute_result"
    }
   ],
   "source": [
    "a.length"
   ],
   "metadata": {
    "collapsed": false,
    "pycharm": {
     "name": "#%%\n"
    }
   }
  },
  {
   "cell_type": "code",
   "execution_count": 771,
   "outputs": [
    {
     "name": "stdout",
     "output_type": "stream",
     "text": [
      " Наш экземпляр вызывался 2 раз(a)\n"
     ]
    }
   ],
   "source": [
    "a(1, 2)"
   ],
   "metadata": {
    "collapsed": false,
    "pycharm": {
     "name": "#%%\n"
    }
   }
  },
  {
   "cell_type": "code",
   "execution_count": 772,
   "outputs": [
    {
     "data": {
      "text/plain": "15"
     },
     "execution_count": 772,
     "metadata": {},
     "output_type": "execute_result"
    }
   ],
   "source": [
    "a.summa"
   ],
   "metadata": {
    "collapsed": false,
    "pycharm": {
     "name": "#%%\n"
    }
   }
  },
  {
   "cell_type": "code",
   "execution_count": 773,
   "outputs": [
    {
     "data": {
      "text/plain": "5"
     },
     "execution_count": 773,
     "metadata": {},
     "output_type": "execute_result"
    }
   ],
   "source": [
    "a.length"
   ],
   "metadata": {
    "collapsed": false,
    "pycharm": {
     "name": "#%%\n"
    }
   }
  },
  {
   "cell_type": "code",
   "execution_count": 774,
   "outputs": [],
   "source": [
    "class Counter:\n",
    "    def __init__(self):\n",
    "        self.counter = 0\n",
    "        self.summa = 0\n",
    "        self.length = 0\n",
    "        print('init object', self)\n",
    "\n",
    "    def __call__(self, *args, **kwargs):\n",
    "        self.counter += 1\n",
    "        self.summa += sum(args)\n",
    "        self.length += len(args)\n",
    "        print(f\" Наш экземпляр вызывался {self.counter} раз(a)\")\n",
    "\n",
    "    def average(self):\n",
    "        return self.summa / self.length"
   ],
   "metadata": {
    "collapsed": false,
    "pycharm": {
     "name": "#%%\n"
    }
   }
  },
  {
   "cell_type": "code",
   "execution_count": 775,
   "outputs": [
    {
     "name": "stdout",
     "output_type": "stream",
     "text": [
      "init object <__main__.Counter object at 0x0000028CFD5BCDC0>\n"
     ]
    }
   ],
   "source": [
    "a = Counter()"
   ],
   "metadata": {
    "collapsed": false,
    "pycharm": {
     "name": "#%%\n"
    }
   }
  },
  {
   "cell_type": "code",
   "execution_count": 776,
   "outputs": [
    {
     "name": "stdout",
     "output_type": "stream",
     "text": [
      " Наш экземпляр вызывался 1 раз(a)\n"
     ]
    }
   ],
   "source": [
    "a(3, 4, 5, 6, 7)"
   ],
   "metadata": {
    "collapsed": false,
    "pycharm": {
     "name": "#%%\n"
    }
   }
  },
  {
   "cell_type": "code",
   "execution_count": 777,
   "outputs": [
    {
     "data": {
      "text/plain": "5.0"
     },
     "execution_count": 777,
     "metadata": {},
     "output_type": "execute_result"
    }
   ],
   "source": [
    "a.average()"
   ],
   "metadata": {
    "collapsed": false,
    "pycharm": {
     "name": "#%%\n"
    }
   }
  },
  {
   "cell_type": "code",
   "execution_count": 778,
   "outputs": [],
   "source": [
    "from time import perf_counter\n",
    "\n",
    "\n",
    "class Timer:\n",
    "    def __init__(self, func):\n",
    "        self.fn = func\n",
    "\n",
    "    def __call__(self, *args, **kwargs):\n",
    "        start = perf_counter()\n",
    "        print(f\"Вызывается функция {self.fn.__name__}\")\n",
    "        result = self.fn(*args, **kwargs)\n",
    "        finish = perf_counter()\n",
    "        print(f\"Функция отработала за {finish - start}\")\n",
    "        return result"
   ],
   "metadata": {
    "collapsed": false,
    "pycharm": {
     "name": "#%%\n"
    }
   }
  },
  {
   "cell_type": "code",
   "execution_count": 779,
   "outputs": [],
   "source": [
    "def fact(n):\n",
    "    pr = 1\n",
    "    for i in range(1, n + 1):\n",
    "        pr *= i\n",
    "    return pr"
   ],
   "metadata": {
    "collapsed": false,
    "pycharm": {
     "name": "#%%\n"
    }
   }
  },
  {
   "cell_type": "code",
   "execution_count": 780,
   "outputs": [],
   "source": [
    "def fib(n):\n",
    "    if n <= 2:\n",
    "        return 1\n",
    "    return fib(n - 1) + fib(n - 2)"
   ],
   "metadata": {
    "collapsed": false,
    "pycharm": {
     "name": "#%%\n"
    }
   }
  },
  {
   "cell_type": "code",
   "execution_count": 781,
   "outputs": [],
   "source": [
    "fact = Timer(fact)"
   ],
   "metadata": {
    "collapsed": false,
    "pycharm": {
     "name": "#%%\n"
    }
   }
  },
  {
   "cell_type": "code",
   "execution_count": 782,
   "outputs": [
    {
     "data": {
      "text/plain": "<__main__.Timer at 0x28cfd5b5940>"
     },
     "execution_count": 782,
     "metadata": {},
     "output_type": "execute_result"
    }
   ],
   "source": [
    "fact"
   ],
   "metadata": {
    "collapsed": false,
    "pycharm": {
     "name": "#%%\n"
    }
   }
  },
  {
   "cell_type": "code",
   "execution_count": 783,
   "outputs": [
    {
     "name": "stdout",
     "output_type": "stream",
     "text": [
      "Вызывается функция fact\n",
      "Функция отработала за 0.00010969999999943525\n"
     ]
    },
    {
     "data": {
      "text/plain": "3628800"
     },
     "execution_count": 783,
     "metadata": {},
     "output_type": "execute_result"
    }
   ],
   "source": [
    "fact(10)"
   ],
   "metadata": {
    "collapsed": false,
    "pycharm": {
     "name": "#%%\n"
    }
   }
  },
  {
   "cell_type": "code",
   "execution_count": 784,
   "outputs": [
    {
     "name": "stdout",
     "output_type": "stream",
     "text": [
      "Вызывается функция fact\n",
      "Функция отработала за 8.350000000056923e-05\n",
      "3628800\n"
     ]
    }
   ],
   "source": [
    "print(fact(10))"
   ],
   "metadata": {
    "collapsed": false,
    "pycharm": {
     "name": "#%%\n"
    }
   }
  },
  {
   "cell_type": "code",
   "execution_count": 785,
   "outputs": [],
   "source": [
    "@Timer\n",
    "def fact(n):\n",
    "    pr = 1\n",
    "    for i in range(1, n + 1):\n",
    "        pr *= i\n",
    "    return pr"
   ],
   "metadata": {
    "collapsed": false,
    "pycharm": {
     "name": "#%%\n"
    }
   }
  },
  {
   "cell_type": "code",
   "execution_count": 786,
   "outputs": [],
   "source": [
    "def fib(n):\n",
    "    if n <= 2:\n",
    "        return 1\n",
    "    return fib(n - 1) + fib(n - 2)"
   ],
   "metadata": {
    "collapsed": false,
    "pycharm": {
     "name": "#%%\n"
    }
   }
  },
  {
   "cell_type": "code",
   "execution_count": 787,
   "outputs": [
    {
     "name": "stdout",
     "output_type": "stream",
     "text": [
      "Вызывается функция fact\n",
      "Функция отработала за 0.0011025000000017826\n"
     ]
    },
    {
     "data": {
      "text/plain": "6"
     },
     "execution_count": 787,
     "metadata": {},
     "output_type": "execute_result"
    }
   ],
   "source": [
    "fact(3)"
   ],
   "metadata": {
    "collapsed": false,
    "pycharm": {
     "name": "#%%\n"
    }
   }
  },
  {
   "cell_type": "code",
   "execution_count": 788,
   "outputs": [
    {
     "data": {
      "text/plain": "55"
     },
     "execution_count": 788,
     "metadata": {},
     "output_type": "execute_result"
    }
   ],
   "source": [
    "fib(10)"
   ],
   "metadata": {
    "collapsed": false,
    "pycharm": {
     "name": "#%%\n"
    }
   }
  },
  {
   "cell_type": "code",
   "execution_count": 789,
   "outputs": [
    {
     "name": "stdout",
     "output_type": "stream",
     "text": [
      "Вызывается функция fib\n",
      "Функция отработала за 0.00029070000000075424\n"
     ]
    },
    {
     "data": {
      "text/plain": "55"
     },
     "execution_count": 789,
     "metadata": {},
     "output_type": "execute_result"
    }
   ],
   "source": [
    "Timer(fib)(10)"
   ],
   "metadata": {
    "collapsed": false,
    "pycharm": {
     "name": "#%%\n"
    }
   }
  },
  {
   "cell_type": "code",
   "execution_count": 790,
   "outputs": [
    {
     "name": "stdout",
     "output_type": "stream",
     "text": [
      "Вызывается функция fib\n",
      "Функция отработала за 0.0009222999999991544\n"
     ]
    },
    {
     "data": {
      "text/plain": "610"
     },
     "execution_count": 790,
     "metadata": {},
     "output_type": "execute_result"
    }
   ],
   "source": [
    "Timer(fib)(15)"
   ],
   "metadata": {
    "collapsed": false,
    "pycharm": {
     "name": "#%%\n"
    }
   }
  },
  {
   "cell_type": "code",
   "execution_count": 791,
   "outputs": [
    {
     "name": "stdout",
     "output_type": "stream",
     "text": [
      "Вызывается функция fib\n",
      "Функция отработала за 0.006224000000003116\n"
     ]
    },
    {
     "data": {
      "text/plain": "6765"
     },
     "execution_count": 791,
     "metadata": {},
     "output_type": "execute_result"
    }
   ],
   "source": [
    "Timer(fib)(20)"
   ],
   "metadata": {
    "collapsed": false,
    "pycharm": {
     "name": "#%%\n"
    }
   }
  },
  {
   "cell_type": "code",
   "execution_count": 792,
   "outputs": [
    {
     "data": {
      "text/plain": "<function __main__.fib(n)>"
     },
     "execution_count": 792,
     "metadata": {},
     "output_type": "execute_result"
    }
   ],
   "source": [
    "fib"
   ],
   "metadata": {
    "collapsed": false,
    "pycharm": {
     "name": "#%%\n"
    }
   }
  },
  {
   "cell_type": "code",
   "execution_count": 793,
   "outputs": [],
   "source": [
    "class Rectangle:\n",
    "    def __init__(self, a, b):\n",
    "        self.a = a\n",
    "        self.b = b\n",
    "\n",
    "    def __str__(self):\n",
    "        return f\"Rectangle {self.a}x{self.b} \\n\"\n",
    "\n",
    "    def get_area(self):\n",
    "        return self.a * self.b"
   ],
   "metadata": {
    "collapsed": false,
    "pycharm": {
     "name": "#%%\n"
    }
   }
  },
  {
   "cell_type": "code",
   "execution_count": 794,
   "outputs": [],
   "source": [
    "class Square:\n",
    "    def __init__(self, a):\n",
    "        self.a = a\n",
    "\n",
    "    def __str__(self):\n",
    "        return f\"Square {self.a}x{self.a} \\n\"\n",
    "\n",
    "    def get_area(self):\n",
    "        return self.a ** 2"
   ],
   "metadata": {
    "collapsed": false,
    "pycharm": {
     "name": "#%%\n"
    }
   }
  },
  {
   "cell_type": "code",
   "execution_count": 795,
   "outputs": [],
   "source": [
    "class Circle:\n",
    "    def __init__(self, r):\n",
    "        self.r = r\n",
    "\n",
    "    def __str__(self):\n",
    "        return f\"Circle radius = {self.r} \\n\"\n",
    "\n",
    "    def get_area(self):\n",
    "        return 3.14 * self.r ** 2"
   ],
   "metadata": {
    "collapsed": false,
    "pycharm": {
     "name": "#%%\n"
    }
   }
  },
  {
   "cell_type": "code",
   "execution_count": 796,
   "outputs": [],
   "source": [
    "rectangle1 = Rectangle(10, 10)\n",
    "rectangle2 = Rectangle(5, 10)\n",
    "sqaure1 = Square(10)\n",
    "square2 = Square(55)\n",
    "circle1 = Circle(2)\n",
    "circle2 = Circle(5)\n",
    "figures = [rectangle1, rectangle2, sqaure1, square2, circle1, circle2]"
   ],
   "metadata": {
    "collapsed": false,
    "pycharm": {
     "name": "#%%\n"
    }
   }
  },
  {
   "cell_type": "code",
   "execution_count": 797,
   "outputs": [
    {
     "name": "stdout",
     "output_type": "stream",
     "text": [
      "Rectangle 10x10 \n",
      " 100\n",
      "Rectangle 5x10 \n",
      " 50\n",
      "Square 10x10 \n",
      " 100\n",
      "Square 55x55 \n",
      " 3025\n",
      "Circle radius = 2 \n",
      " 12.56\n",
      "Circle radius = 5 \n",
      " 78.5\n"
     ]
    }
   ],
   "source": [
    "for figure in figures:\n",
    "    print(figure, figure.get_area())"
   ],
   "metadata": {
    "collapsed": false,
    "pycharm": {
     "name": "#%%\n"
    }
   }
  },
  {
   "cell_type": "code",
   "execution_count": 798,
   "outputs": [],
   "source": [
    "class Vector:\n",
    "    def __init__(self, *args):\n",
    "        self.values = list(args)\n",
    "\n",
    "    def __repr__(self):\n",
    "        return str(self.values)"
   ],
   "metadata": {
    "collapsed": false,
    "pycharm": {
     "name": "#%%\n"
    }
   }
  },
  {
   "cell_type": "code",
   "execution_count": 799,
   "outputs": [],
   "source": [
    "v1 = Vector(1, 2, 3, 4, 5)"
   ],
   "metadata": {
    "collapsed": false,
    "pycharm": {
     "name": "#%%\n"
    }
   }
  },
  {
   "cell_type": "code",
   "execution_count": 800,
   "outputs": [
    {
     "data": {
      "text/plain": "[1, 2, 3, 4, 5]"
     },
     "execution_count": 800,
     "metadata": {},
     "output_type": "execute_result"
    }
   ],
   "source": [
    "v1"
   ],
   "metadata": {
    "collapsed": false,
    "pycharm": {
     "name": "#%%\n"
    }
   }
  },
  {
   "cell_type": "code",
   "execution_count": 801,
   "outputs": [
    {
     "data": {
      "text/plain": "[1, 2, 3, 4, 5]"
     },
     "execution_count": 801,
     "metadata": {},
     "output_type": "execute_result"
    }
   ],
   "source": [
    "v1.values"
   ],
   "metadata": {
    "collapsed": false,
    "pycharm": {
     "name": "#%%\n"
    }
   }
  },
  {
   "cell_type": "code",
   "execution_count": 802,
   "outputs": [],
   "source": [
    "# v1[1]\n",
    "# TypeError: 'Vector' object is not subscriptable"
   ],
   "metadata": {
    "collapsed": false,
    "pycharm": {
     "name": "#%%\n"
    }
   }
  },
  {
   "cell_type": "code",
   "execution_count": 803,
   "outputs": [],
   "source": [
    "class Vector:\n",
    "    def __init__(self, *args):\n",
    "        self.values = list(args)\n",
    "\n",
    "    def __repr__(self):\n",
    "        return str(self.values)\n",
    "\n",
    "    def __getitem__(self, item):\n",
    "        if 0 <= item < len(self.values):\n",
    "            return self.values[item]\n",
    "        else:\n",
    "            raise IndexError(\"Индекс за границами нашей коллекции\")"
   ],
   "metadata": {
    "collapsed": false,
    "pycharm": {
     "name": "#%%\n"
    }
   }
  },
  {
   "cell_type": "code",
   "execution_count": 804,
   "outputs": [
    {
     "data": {
      "text/plain": "1"
     },
     "execution_count": 804,
     "metadata": {},
     "output_type": "execute_result"
    }
   ],
   "source": [
    "v = Vector(0, 1, 2, 3, 4, 5)\n",
    "v[1]"
   ],
   "metadata": {
    "collapsed": false,
    "pycharm": {
     "name": "#%%\n"
    }
   }
  },
  {
   "cell_type": "code",
   "execution_count": 805,
   "outputs": [],
   "source": [
    "# v[1] = 100\n",
    "# TypeError: 'Vector' object does not support item assignment"
   ],
   "metadata": {
    "collapsed": false,
    "pycharm": {
     "name": "#%%\n"
    }
   }
  },
  {
   "cell_type": "code",
   "execution_count": 806,
   "outputs": [],
   "source": [
    "class Vector:\n",
    "    def __init__(self, *args):\n",
    "        self.values = list(args)\n",
    "\n",
    "    def __repr__(self):\n",
    "        return str(self.values)\n",
    "\n",
    "    def __getitem__(self, item):\n",
    "        if 0 <= item < len(self.values):\n",
    "            return self.values[item]\n",
    "        else:\n",
    "            raise IndexError(\"Индекс за границами нашей коллекции\")\n",
    "\n",
    "    def __setitem__(self, key, value):\n",
    "        if 0 <= key < len(self.values):\n",
    "            self.values[key] = value\n",
    "        else:\n",
    "            raise IndexError(\"Индекс за границами нашей коллекции\")"
   ],
   "metadata": {
    "collapsed": false,
    "pycharm": {
     "name": "#%%\n"
    }
   }
  },
  {
   "cell_type": "code",
   "execution_count": 807,
   "outputs": [],
   "source": [
    "v = Vector(0, 1, 2, 3, 4, 5)"
   ],
   "metadata": {
    "collapsed": false,
    "pycharm": {
     "name": "#%%\n"
    }
   }
  },
  {
   "cell_type": "code",
   "execution_count": 808,
   "outputs": [
    {
     "data": {
      "text/plain": "5"
     },
     "execution_count": 808,
     "metadata": {},
     "output_type": "execute_result"
    }
   ],
   "source": [
    "v[5]"
   ],
   "metadata": {
    "collapsed": false,
    "pycharm": {
     "name": "#%%\n"
    }
   }
  },
  {
   "cell_type": "code",
   "execution_count": 809,
   "outputs": [],
   "source": [
    "v[5] = 777"
   ],
   "metadata": {
    "collapsed": false,
    "pycharm": {
     "name": "#%%\n"
    }
   }
  },
  {
   "cell_type": "code",
   "execution_count": 810,
   "outputs": [
    {
     "data": {
      "text/plain": "[0, 1, 2, 3, 4, 777]"
     },
     "execution_count": 810,
     "metadata": {},
     "output_type": "execute_result"
    }
   ],
   "source": [
    "v"
   ],
   "metadata": {
    "collapsed": false,
    "pycharm": {
     "name": "#%%\n"
    }
   }
  },
  {
   "cell_type": "code",
   "execution_count": 811,
   "outputs": [],
   "source": [
    "# del v[5]\n",
    "# AttributeError: __delitem__"
   ],
   "metadata": {
    "collapsed": false,
    "pycharm": {
     "name": "#%%\n"
    }
   }
  },
  {
   "cell_type": "code",
   "execution_count": 812,
   "outputs": [],
   "source": [
    "class Vector:\n",
    "    def __init__(self, *args):\n",
    "        self.values = list(args)\n",
    "\n",
    "    def __repr__(self):\n",
    "        return str(self.values)\n",
    "\n",
    "    def __getitem__(self, item):\n",
    "        if 0 <= item < len(self.values):\n",
    "            return self.values[item]\n",
    "        else:\n",
    "            raise IndexError(\"Индекс за границами нашей коллекции\")\n",
    "\n",
    "    def __setitem__(self, key, value):\n",
    "        if 0 <= key < len(self.values):\n",
    "            self.values[key] = value\n",
    "        else:\n",
    "            raise IndexError(\"Индекс за границами нашей коллекции\")\n",
    "\n",
    "    def __delitem__(self, key):\n",
    "        if 0 <= key < len(self.values):\n",
    "            del self.values[key]\n",
    "        else:\n",
    "            raise IndexError(\"Индекс за границами нашей коллекции\")"
   ],
   "metadata": {
    "collapsed": false,
    "pycharm": {
     "name": "#%%\n"
    }
   }
  },
  {
   "cell_type": "code",
   "execution_count": 813,
   "outputs": [],
   "source": [
    "v = Vector(1, 2, 3)"
   ],
   "metadata": {
    "collapsed": false,
    "pycharm": {
     "name": "#%%\n"
    }
   }
  },
  {
   "cell_type": "code",
   "execution_count": 814,
   "outputs": [],
   "source": [
    "del v[0]"
   ],
   "metadata": {
    "collapsed": false,
    "pycharm": {
     "name": "#%%\n"
    }
   }
  },
  {
   "cell_type": "code",
   "execution_count": 815,
   "outputs": [
    {
     "data": {
      "text/plain": "[2, 3]"
     },
     "execution_count": 815,
     "metadata": {},
     "output_type": "execute_result"
    }
   ],
   "source": [
    "v"
   ],
   "metadata": {
    "collapsed": false,
    "pycharm": {
     "name": "#%%\n"
    }
   }
  },
  {
   "cell_type": "code",
   "execution_count": 816,
   "outputs": [
    {
     "data": {
      "text/plain": "[2, 3]"
     },
     "execution_count": 816,
     "metadata": {},
     "output_type": "execute_result"
    }
   ],
   "source": [
    "v.values"
   ],
   "metadata": {
    "collapsed": false,
    "pycharm": {
     "name": "#%%\n"
    }
   }
  },
  {
   "cell_type": "code",
   "execution_count": 817,
   "outputs": [],
   "source": [
    "class Student:\n",
    "    def __init__(self, name, surname, marks):\n",
    "        self.name = name\n",
    "        self.surname = surname\n",
    "        self.marks = marks"
   ],
   "metadata": {
    "collapsed": false,
    "pycharm": {
     "name": "#%%\n"
    }
   }
  },
  {
   "cell_type": "code",
   "execution_count": 818,
   "outputs": [],
   "source": [
    "Ivan = Student('Ivan', 'Ivanov', [1, 2, 3, 4, 5])"
   ],
   "metadata": {
    "collapsed": false,
    "pycharm": {
     "name": "#%%\n"
    }
   }
  },
  {
   "cell_type": "code",
   "execution_count": 819,
   "outputs": [],
   "source": [
    "#for _ in Ivan:\n",
    "#    print(_)\n",
    "# TypeError: 'Student' object is not iterable"
   ],
   "metadata": {
    "collapsed": false,
    "pycharm": {
     "name": "#%%\n"
    }
   }
  },
  {
   "cell_type": "code",
   "execution_count": 820,
   "outputs": [],
   "source": [
    "x = [1, 2, 3]"
   ],
   "metadata": {
    "collapsed": false,
    "pycharm": {
     "name": "#%%\n"
    }
   }
  },
  {
   "cell_type": "code",
   "execution_count": 821,
   "outputs": [],
   "source": [
    "y = iter(x)"
   ],
   "metadata": {
    "collapsed": false,
    "pycharm": {
     "name": "#%%\n"
    }
   }
  },
  {
   "cell_type": "code",
   "execution_count": 822,
   "outputs": [
    {
     "data": {
      "text/plain": "[1, 2, 3]"
     },
     "execution_count": 822,
     "metadata": {},
     "output_type": "execute_result"
    }
   ],
   "source": [
    "x"
   ],
   "metadata": {
    "collapsed": false,
    "pycharm": {
     "name": "#%%\n"
    }
   }
  },
  {
   "cell_type": "code",
   "execution_count": 823,
   "outputs": [
    {
     "data": {
      "text/plain": "1"
     },
     "execution_count": 823,
     "metadata": {},
     "output_type": "execute_result"
    }
   ],
   "source": [
    "next(y)"
   ],
   "metadata": {
    "collapsed": false,
    "pycharm": {
     "name": "#%%\n"
    }
   }
  },
  {
   "cell_type": "code",
   "execution_count": 824,
   "outputs": [
    {
     "data": {
      "text/plain": "2"
     },
     "execution_count": 824,
     "metadata": {},
     "output_type": "execute_result"
    }
   ],
   "source": [
    "next(y)"
   ],
   "metadata": {
    "collapsed": false,
    "pycharm": {
     "name": "#%%\n"
    }
   }
  },
  {
   "cell_type": "code",
   "execution_count": 825,
   "outputs": [
    {
     "data": {
      "text/plain": "3"
     },
     "execution_count": 825,
     "metadata": {},
     "output_type": "execute_result"
    }
   ],
   "source": [
    "next(y)"
   ],
   "metadata": {
    "collapsed": false,
    "pycharm": {
     "name": "#%%\n"
    }
   }
  },
  {
   "cell_type": "code",
   "execution_count": 826,
   "outputs": [],
   "source": [
    "# next(y)\n",
    "# StopIteration"
   ],
   "metadata": {
    "collapsed": false,
    "pycharm": {
     "name": "#%%\n"
    }
   }
  },
  {
   "cell_type": "code",
   "execution_count": 827,
   "outputs": [],
   "source": [
    "y = x.__iter__()"
   ],
   "metadata": {
    "collapsed": false,
    "pycharm": {
     "name": "#%%\n"
    }
   }
  },
  {
   "cell_type": "code",
   "execution_count": 828,
   "outputs": [
    {
     "data": {
      "text/plain": "<list_iterator at 0x28cfdb79e80>"
     },
     "execution_count": 828,
     "metadata": {},
     "output_type": "execute_result"
    }
   ],
   "source": [
    "y"
   ],
   "metadata": {
    "collapsed": false,
    "pycharm": {
     "name": "#%%\n"
    }
   }
  },
  {
   "cell_type": "code",
   "execution_count": 829,
   "outputs": [
    {
     "data": {
      "text/plain": "1"
     },
     "execution_count": 829,
     "metadata": {},
     "output_type": "execute_result"
    }
   ],
   "source": [
    "y.__next__()"
   ],
   "metadata": {
    "collapsed": false,
    "pycharm": {
     "name": "#%%\n"
    }
   }
  },
  {
   "cell_type": "code",
   "execution_count": 830,
   "outputs": [
    {
     "data": {
      "text/plain": "2"
     },
     "execution_count": 830,
     "metadata": {},
     "output_type": "execute_result"
    }
   ],
   "source": [
    "y.__next__()"
   ],
   "metadata": {
    "collapsed": false,
    "pycharm": {
     "name": "#%%\n"
    }
   }
  },
  {
   "cell_type": "code",
   "execution_count": 831,
   "outputs": [
    {
     "data": {
      "text/plain": "3"
     },
     "execution_count": 831,
     "metadata": {},
     "output_type": "execute_result"
    }
   ],
   "source": [
    "y.__next__()"
   ],
   "metadata": {
    "collapsed": false,
    "pycharm": {
     "name": "#%%\n"
    }
   }
  },
  {
   "cell_type": "code",
   "execution_count": 832,
   "outputs": [],
   "source": [
    "class Student:\n",
    "    def __init__(self, name, surname, marks):\n",
    "        self.name = name\n",
    "        self.surname = surname\n",
    "        self.marks = marks\n",
    "\n",
    "    def __getitem__(self, item):\n",
    "        return self.marks[item]\n",
    "\n",
    "    def __iter__(self):\n",
    "        print('call iter')\n",
    "        self.index = 0\n",
    "        return self\n",
    "\n",
    "    def __next__(self):\n",
    "        if self.index >= len(self.name):\n",
    "            raise StopIteration\n",
    "        letter = self.name[self.index]\n",
    "        self.index += 1\n",
    "        return letter"
   ],
   "metadata": {
    "collapsed": false,
    "pycharm": {
     "name": "#%%\n"
    }
   }
  },
  {
   "cell_type": "code",
   "execution_count": 833,
   "outputs": [],
   "source": [
    "Ivan = Student('Ivan', 'Ivanov', [1, 2, 3, 4, 5])"
   ],
   "metadata": {
    "collapsed": false,
    "pycharm": {
     "name": "#%%\n"
    }
   }
  },
  {
   "cell_type": "code",
   "execution_count": 834,
   "outputs": [
    {
     "name": "stdout",
     "output_type": "stream",
     "text": [
      "call iter\n",
      "I\n",
      "v\n",
      "a\n",
      "n\n"
     ]
    }
   ],
   "source": [
    "for _ in Ivan:\n",
    "    print(_)"
   ],
   "metadata": {
    "collapsed": false,
    "pycharm": {
     "name": "#%%\n"
    }
   }
  },
  {
   "cell_type": "code",
   "execution_count": 835,
   "outputs": [],
   "source": [
    "#for _ in Ivan:\n",
    "#    print(_)\n",
    "# TypeError: iter() returned non-iterator of type 'Student'"
   ],
   "metadata": {
    "collapsed": false,
    "pycharm": {
     "name": "#%%\n"
    }
   }
  },
  {
   "cell_type": "code",
   "execution_count": 836,
   "outputs": [],
   "source": [
    "class Doctor:\n",
    "    def can_cure(self):\n",
    "        print('Я могу лечить')"
   ],
   "metadata": {
    "collapsed": false,
    "pycharm": {
     "name": "#%%\n"
    }
   }
  },
  {
   "cell_type": "code",
   "execution_count": 837,
   "outputs": [],
   "source": [
    "class Architect:\n",
    "    def can_build(self):\n",
    "        print('Я могу построить здание')"
   ],
   "metadata": {
    "collapsed": false,
    "pycharm": {
     "name": "#%%\n"
    }
   }
  },
  {
   "cell_type": "code",
   "execution_count": 838,
   "outputs": [],
   "source": [
    "x = Doctor()"
   ],
   "metadata": {
    "collapsed": false,
    "pycharm": {
     "name": "#%%\n"
    }
   }
  },
  {
   "cell_type": "code",
   "execution_count": 839,
   "outputs": [
    {
     "name": "stdout",
     "output_type": "stream",
     "text": [
      "Я могу лечить\n"
     ]
    }
   ],
   "source": [
    "x.can_cure()"
   ],
   "metadata": {
    "collapsed": false,
    "pycharm": {
     "name": "#%%\n"
    }
   }
  },
  {
   "cell_type": "code",
   "execution_count": 840,
   "outputs": [],
   "source": [
    "y = Architect()"
   ],
   "metadata": {
    "collapsed": false,
    "pycharm": {
     "name": "#%%\n"
    }
   }
  },
  {
   "cell_type": "code",
   "execution_count": 841,
   "outputs": [
    {
     "name": "stdout",
     "output_type": "stream",
     "text": [
      "Я могу построить здание\n"
     ]
    }
   ],
   "source": [
    "y.can_build()"
   ],
   "metadata": {
    "collapsed": false,
    "pycharm": {
     "name": "#%%\n"
    }
   }
  },
  {
   "cell_type": "code",
   "execution_count": 842,
   "outputs": [],
   "source": [
    "class Doctor:\n",
    "    def can_walk(self):\n",
    "        print('Я могу ходить')\n",
    "\n",
    "    def can_cure(self):\n",
    "        print('Я могу лечить')"
   ],
   "metadata": {
    "collapsed": false,
    "pycharm": {
     "name": "#%%\n"
    }
   }
  },
  {
   "cell_type": "code",
   "execution_count": 843,
   "outputs": [],
   "source": [
    "class Architect:\n",
    "    def can_walk(self):\n",
    "        print('Я могу ходить')\n",
    "\n",
    "    def can_build(self):\n",
    "        print('Я могу построить здание')"
   ],
   "metadata": {
    "collapsed": false,
    "pycharm": {
     "name": "#%%\n"
    }
   }
  },
  {
   "cell_type": "code",
   "execution_count": 844,
   "outputs": [],
   "source": [
    "class Person:\n",
    "    def can_breathe(self):\n",
    "        print('Я могу дышать')\n",
    "\n",
    "    def can_walk(self):\n",
    "        print('Я могу ходить')"
   ],
   "metadata": {
    "collapsed": false,
    "pycharm": {
     "name": "#%%\n"
    }
   }
  },
  {
   "cell_type": "code",
   "execution_count": 845,
   "outputs": [],
   "source": [
    "class Doctor(Person):\n",
    "    def can_cure(self):\n",
    "        print('Я могу лечить')"
   ],
   "metadata": {
    "collapsed": false,
    "pycharm": {
     "name": "#%%\n"
    }
   }
  },
  {
   "cell_type": "code",
   "execution_count": 846,
   "outputs": [],
   "source": [
    "class Architect(Person):\n",
    "    def can_build(self):\n",
    "        print('Я могу построить здание')"
   ],
   "metadata": {
    "collapsed": false,
    "pycharm": {
     "name": "#%%\n"
    }
   }
  },
  {
   "cell_type": "code",
   "execution_count": 847,
   "outputs": [],
   "source": [
    "x = Doctor()"
   ],
   "metadata": {
    "collapsed": false,
    "pycharm": {
     "name": "#%%\n"
    }
   }
  },
  {
   "cell_type": "code",
   "execution_count": 848,
   "outputs": [
    {
     "name": "stdout",
     "output_type": "stream",
     "text": [
      "Я могу лечить\n"
     ]
    }
   ],
   "source": [
    "x.can_cure()"
   ],
   "metadata": {
    "collapsed": false,
    "pycharm": {
     "name": "#%%\n"
    }
   }
  },
  {
   "cell_type": "code",
   "execution_count": 849,
   "outputs": [
    {
     "name": "stdout",
     "output_type": "stream",
     "text": [
      "Я могу дышать\n"
     ]
    }
   ],
   "source": [
    "x.can_breathe()"
   ],
   "metadata": {
    "collapsed": false,
    "pycharm": {
     "name": "#%%\n"
    }
   }
  },
  {
   "cell_type": "code",
   "execution_count": 850,
   "outputs": [
    {
     "name": "stdout",
     "output_type": "stream",
     "text": [
      "Я могу ходить\n"
     ]
    }
   ],
   "source": [
    "x.can_walk()"
   ],
   "metadata": {
    "collapsed": false,
    "pycharm": {
     "name": "#%%\n"
    }
   }
  },
  {
   "cell_type": "code",
   "execution_count": 851,
   "outputs": [],
   "source": [
    "y = Architect()"
   ],
   "metadata": {
    "collapsed": false,
    "pycharm": {
     "name": "#%%\n"
    }
   }
  },
  {
   "cell_type": "code",
   "execution_count": 852,
   "outputs": [
    {
     "name": "stdout",
     "output_type": "stream",
     "text": [
      "Я могу построить здание\n"
     ]
    }
   ],
   "source": [
    "y.can_build()"
   ],
   "metadata": {
    "collapsed": false,
    "pycharm": {
     "name": "#%%\n"
    }
   }
  },
  {
   "cell_type": "code",
   "execution_count": 853,
   "outputs": [
    {
     "name": "stdout",
     "output_type": "stream",
     "text": [
      "Я могу дышать\n"
     ]
    }
   ],
   "source": [
    "y.can_breathe()"
   ],
   "metadata": {
    "collapsed": false,
    "pycharm": {
     "name": "#%%\n"
    }
   }
  },
  {
   "cell_type": "code",
   "execution_count": 854,
   "outputs": [
    {
     "name": "stdout",
     "output_type": "stream",
     "text": [
      "Я могу ходить\n"
     ]
    }
   ],
   "source": [
    "y.can_walk()"
   ],
   "metadata": {
    "collapsed": false,
    "pycharm": {
     "name": "#%%\n"
    }
   }
  },
  {
   "cell_type": "code",
   "execution_count": 855,
   "outputs": [],
   "source": [
    "# Person - parent\n",
    "# Doctor and Architect - subclass"
   ],
   "metadata": {
    "collapsed": false,
    "pycharm": {
     "name": "#%%\n"
    }
   }
  },
  {
   "cell_type": "code",
   "execution_count": 856,
   "outputs": [
    {
     "data": {
      "text/plain": "True"
     },
     "execution_count": 856,
     "metadata": {},
     "output_type": "execute_result"
    }
   ],
   "source": [
    "issubclass(Doctor, Person)"
   ],
   "metadata": {
    "collapsed": false,
    "pycharm": {
     "name": "#%%\n"
    }
   }
  },
  {
   "cell_type": "code",
   "execution_count": 857,
   "outputs": [
    {
     "data": {
      "text/plain": "False"
     },
     "execution_count": 857,
     "metadata": {},
     "output_type": "execute_result"
    }
   ],
   "source": [
    "issubclass(Person, Doctor)"
   ],
   "metadata": {
    "collapsed": false,
    "pycharm": {
     "name": "#%%\n"
    }
   }
  },
  {
   "cell_type": "code",
   "execution_count": 858,
   "outputs": [
    {
     "data": {
      "text/plain": "True"
     },
     "execution_count": 858,
     "metadata": {},
     "output_type": "execute_result"
    }
   ],
   "source": [
    "issubclass(Architect, Person)"
   ],
   "metadata": {
    "collapsed": false,
    "pycharm": {
     "name": "#%%\n"
    }
   }
  },
  {
   "cell_type": "code",
   "execution_count": 859,
   "outputs": [
    {
     "data": {
      "text/plain": "False"
     },
     "execution_count": 859,
     "metadata": {},
     "output_type": "execute_result"
    }
   ],
   "source": [
    "issubclass(Person, Architect)"
   ],
   "metadata": {
    "collapsed": false,
    "pycharm": {
     "name": "#%%\n"
    }
   }
  },
  {
   "cell_type": "code",
   "execution_count": 860,
   "outputs": [],
   "source": [
    "class Othopedist(Doctor):\n",
    "    pass"
   ],
   "metadata": {
    "collapsed": false,
    "pycharm": {
     "name": "#%%\n"
    }
   }
  },
  {
   "cell_type": "code",
   "execution_count": 861,
   "outputs": [],
   "source": [
    "a = Othopedist()"
   ],
   "metadata": {
    "collapsed": false,
    "pycharm": {
     "name": "#%%\n"
    }
   }
  },
  {
   "cell_type": "code",
   "execution_count": 862,
   "outputs": [
    {
     "name": "stdout",
     "output_type": "stream",
     "text": [
      "Я могу лечить\n"
     ]
    }
   ],
   "source": [
    "a.can_cure()"
   ],
   "metadata": {
    "collapsed": false,
    "pycharm": {
     "name": "#%%\n"
    }
   }
  },
  {
   "cell_type": "code",
   "execution_count": 863,
   "outputs": [
    {
     "name": "stdout",
     "output_type": "stream",
     "text": [
      "Я могу ходить\n"
     ]
    }
   ],
   "source": [
    "a.can_walk()"
   ],
   "metadata": {
    "collapsed": false,
    "pycharm": {
     "name": "#%%\n"
    }
   }
  },
  {
   "cell_type": "code",
   "execution_count": 864,
   "outputs": [
    {
     "name": "stdout",
     "output_type": "stream",
     "text": [
      "Я могу дышать\n"
     ]
    }
   ],
   "source": [
    "a.can_breathe()"
   ],
   "metadata": {
    "collapsed": false,
    "pycharm": {
     "name": "#%%\n"
    }
   }
  },
  {
   "cell_type": "code",
   "execution_count": 865,
   "outputs": [
    {
     "data": {
      "text/plain": "True"
     },
     "execution_count": 865,
     "metadata": {},
     "output_type": "execute_result"
    }
   ],
   "source": [
    "isinstance(10, object)"
   ],
   "metadata": {
    "collapsed": false,
    "pycharm": {
     "name": "#%%\n"
    }
   }
  },
  {
   "cell_type": "code",
   "execution_count": 866,
   "outputs": [
    {
     "data": {
      "text/plain": "True"
     },
     "execution_count": 866,
     "metadata": {},
     "output_type": "execute_result"
    }
   ],
   "source": [
    "isinstance(int, object)"
   ],
   "metadata": {
    "collapsed": false,
    "pycharm": {
     "name": "#%%\n"
    }
   }
  },
  {
   "cell_type": "code",
   "execution_count": 867,
   "outputs": [
    {
     "data": {
      "text/plain": "True"
     },
     "execution_count": 867,
     "metadata": {},
     "output_type": "execute_result"
    }
   ],
   "source": [
    "isinstance(dict, object)"
   ],
   "metadata": {
    "collapsed": false,
    "pycharm": {
     "name": "#%%\n"
    }
   }
  },
  {
   "cell_type": "code",
   "execution_count": 868,
   "outputs": [
    {
     "data": {
      "text/plain": "True"
     },
     "execution_count": 868,
     "metadata": {},
     "output_type": "execute_result"
    }
   ],
   "source": [
    "issubclass(int, object)"
   ],
   "metadata": {
    "collapsed": false,
    "pycharm": {
     "name": "#%%\n"
    }
   }
  },
  {
   "cell_type": "code",
   "execution_count": 869,
   "outputs": [
    {
     "data": {
      "text/plain": "True"
     },
     "execution_count": 869,
     "metadata": {},
     "output_type": "execute_result"
    }
   ],
   "source": [
    "issubclass(dict, object)"
   ],
   "metadata": {
    "collapsed": false,
    "pycharm": {
     "name": "#%%\n"
    }
   }
  },
  {
   "cell_type": "code",
   "execution_count": 870,
   "outputs": [],
   "source": [
    "class Person:\n",
    "    pass"
   ],
   "metadata": {
    "collapsed": false,
    "pycharm": {
     "name": "#%%\n"
    }
   }
  },
  {
   "cell_type": "code",
   "execution_count": 871,
   "outputs": [
    {
     "data": {
      "text/plain": "True"
     },
     "execution_count": 871,
     "metadata": {},
     "output_type": "execute_result"
    }
   ],
   "source": [
    "issubclass(Person, object)"
   ],
   "metadata": {
    "collapsed": false,
    "pycharm": {
     "name": "#%%\n"
    }
   }
  },
  {
   "cell_type": "code",
   "execution_count": 872,
   "outputs": [],
   "source": [
    "class Person(object):\n",
    "    pass"
   ],
   "metadata": {
    "collapsed": false,
    "pycharm": {
     "name": "#%%\n"
    }
   }
  },
  {
   "cell_type": "code",
   "execution_count": 873,
   "outputs": [],
   "source": [
    "a = Person()"
   ],
   "metadata": {
    "collapsed": false,
    "pycharm": {
     "name": "#%%\n"
    }
   }
  },
  {
   "cell_type": "code",
   "execution_count": 874,
   "outputs": [
    {
     "data": {
      "text/plain": "True"
     },
     "execution_count": 874,
     "metadata": {},
     "output_type": "execute_result"
    }
   ],
   "source": [
    "isinstance(a, object)"
   ],
   "metadata": {
    "collapsed": false,
    "pycharm": {
     "name": "#%%\n"
    }
   }
  },
  {
   "cell_type": "code",
   "execution_count": 875,
   "outputs": [
    {
     "data": {
      "text/plain": "['__class__',\n '__delattr__',\n '__dir__',\n '__doc__',\n '__eq__',\n '__format__',\n '__ge__',\n '__getattribute__',\n '__gt__',\n '__hash__',\n '__init__',\n '__init_subclass__',\n '__le__',\n '__lt__',\n '__ne__',\n '__new__',\n '__reduce__',\n '__reduce_ex__',\n '__repr__',\n '__setattr__',\n '__sizeof__',\n '__str__',\n '__subclasshook__']"
     },
     "execution_count": 875,
     "metadata": {},
     "output_type": "execute_result"
    }
   ],
   "source": [
    "dir(object)"
   ],
   "metadata": {
    "collapsed": false,
    "pycharm": {
     "name": "#%%\n"
    }
   }
  },
  {
   "cell_type": "code",
   "execution_count": 876,
   "outputs": [],
   "source": [
    "a = Person()"
   ],
   "metadata": {
    "collapsed": false,
    "pycharm": {
     "name": "#%%\n"
    }
   }
  },
  {
   "cell_type": "code",
   "execution_count": 877,
   "outputs": [
    {
     "data": {
      "text/plain": "175285961662"
     },
     "execution_count": 877,
     "metadata": {},
     "output_type": "execute_result"
    }
   ],
   "source": [
    "a.__hash__()"
   ],
   "metadata": {
    "collapsed": false,
    "pycharm": {
     "name": "#%%\n"
    }
   }
  },
  {
   "cell_type": "code",
   "execution_count": 878,
   "outputs": [
    {
     "data": {
      "text/plain": "'<__main__.Person object at 0x0000028CFDB83BE0>'"
     },
     "execution_count": 878,
     "metadata": {},
     "output_type": "execute_result"
    }
   ],
   "source": [
    "a.__str__()"
   ],
   "metadata": {
    "collapsed": false,
    "pycharm": {
     "name": "#%%\n"
    }
   }
  },
  {
   "cell_type": "code",
   "execution_count": 879,
   "outputs": [],
   "source": [
    "a = object()"
   ],
   "metadata": {
    "collapsed": false,
    "pycharm": {
     "name": "#%%\n"
    }
   }
  },
  {
   "cell_type": "code",
   "execution_count": 880,
   "outputs": [
    {
     "data": {
      "text/plain": "'<object object at 0x0000028CFDA45100>'"
     },
     "execution_count": 880,
     "metadata": {},
     "output_type": "execute_result"
    }
   ],
   "source": [
    "a.__str__()"
   ],
   "metadata": {
    "collapsed": false,
    "pycharm": {
     "name": "#%%\n"
    }
   }
  },
  {
   "cell_type": "code",
   "execution_count": 881,
   "outputs": [
    {
     "data": {
      "text/plain": "True"
     },
     "execution_count": 881,
     "metadata": {},
     "output_type": "execute_result"
    }
   ],
   "source": [
    "a == a"
   ],
   "metadata": {
    "collapsed": false,
    "pycharm": {
     "name": "#%%\n"
    }
   }
  },
  {
   "cell_type": "code",
   "execution_count": 882,
   "outputs": [],
   "source": [
    "class MyList(list):\n",
    "    pass"
   ],
   "metadata": {
    "collapsed": false,
    "pycharm": {
     "name": "#%%\n"
    }
   }
  },
  {
   "cell_type": "code",
   "execution_count": 883,
   "outputs": [],
   "source": [
    "t = MyList()"
   ],
   "metadata": {
    "collapsed": false,
    "pycharm": {
     "name": "#%%\n"
    }
   }
  },
  {
   "cell_type": "code",
   "execution_count": 884,
   "outputs": [
    {
     "data": {
      "text/plain": "[]"
     },
     "execution_count": 884,
     "metadata": {},
     "output_type": "execute_result"
    }
   ],
   "source": [
    "t"
   ],
   "metadata": {
    "collapsed": false,
    "pycharm": {
     "name": "#%%\n"
    }
   }
  },
  {
   "cell_type": "code",
   "execution_count": 885,
   "outputs": [
    {
     "data": {
      "text/plain": "[]"
     },
     "execution_count": 885,
     "metadata": {},
     "output_type": "execute_result"
    }
   ],
   "source": [
    "list()"
   ],
   "metadata": {
    "collapsed": false,
    "pycharm": {
     "name": "#%%\n"
    }
   }
  },
  {
   "cell_type": "code",
   "execution_count": 886,
   "outputs": [
    {
     "data": {
      "text/plain": "__main__.MyList"
     },
     "execution_count": 886,
     "metadata": {},
     "output_type": "execute_result"
    }
   ],
   "source": [
    "type(t)"
   ],
   "metadata": {
    "collapsed": false,
    "pycharm": {
     "name": "#%%\n"
    }
   }
  },
  {
   "cell_type": "code",
   "execution_count": 887,
   "outputs": [
    {
     "data": {
      "text/plain": "True"
     },
     "execution_count": 887,
     "metadata": {},
     "output_type": "execute_result"
    }
   ],
   "source": [
    "issubclass(MyList, list)"
   ],
   "metadata": {
    "collapsed": false,
    "pycharm": {
     "name": "#%%\n"
    }
   }
  },
  {
   "cell_type": "code",
   "execution_count": 888,
   "outputs": [
    {
     "data": {
      "text/plain": "True"
     },
     "execution_count": 888,
     "metadata": {},
     "output_type": "execute_result"
    }
   ],
   "source": [
    "isinstance(t, list)"
   ],
   "metadata": {
    "collapsed": false,
    "pycharm": {
     "name": "#%%\n"
    }
   }
  },
  {
   "cell_type": "code",
   "execution_count": 889,
   "outputs": [
    {
     "data": {
      "text/plain": "True"
     },
     "execution_count": 889,
     "metadata": {},
     "output_type": "execute_result"
    }
   ],
   "source": [
    "isinstance(t, object)"
   ],
   "metadata": {
    "collapsed": false,
    "pycharm": {
     "name": "#%%\n"
    }
   }
  },
  {
   "cell_type": "code",
   "execution_count": 890,
   "outputs": [],
   "source": [
    "class Person:\n",
    "    def __init__(self, name):\n",
    "        print('init Person')\n",
    "        self.name = name\n",
    "\n",
    "    def breathe(self):\n",
    "        print('Человек дышит')\n",
    "\n",
    "    def walk(self):\n",
    "        print('Человек идёт')\n",
    "\n",
    "    def sleep(self):\n",
    "        print('Человек спит')\n",
    "\n",
    "    def combo(self):\n",
    "        self.breathe()\n",
    "        self.walk()\n",
    "        self.sleep()\n",
    "\n",
    "    def __str__(self):\n",
    "        return f\"Person {self.name}\""
   ],
   "metadata": {
    "collapsed": false,
    "pycharm": {
     "name": "#%%\n"
    }
   }
  },
  {
   "cell_type": "code",
   "execution_count": 891,
   "outputs": [],
   "source": [
    "class Doctor(Person):\n",
    "    def breathe(self):\n",
    "        print('Доктор дышит')\n",
    "\n",
    "    def __str__(self):\n",
    "        return f\"Doctor {self.name}\""
   ],
   "metadata": {
    "collapsed": false,
    "pycharm": {
     "name": "#%%\n"
    }
   }
  },
  {
   "cell_type": "code",
   "execution_count": 892,
   "outputs": [
    {
     "name": "stdout",
     "output_type": "stream",
     "text": [
      "init Person\n"
     ]
    }
   ],
   "source": [
    "x = Doctor('John')"
   ],
   "metadata": {
    "collapsed": false,
    "pycharm": {
     "name": "#%%\n"
    }
   }
  },
  {
   "cell_type": "code",
   "execution_count": 893,
   "outputs": [
    {
     "name": "stdout",
     "output_type": "stream",
     "text": [
      "init Person\n"
     ]
    }
   ],
   "source": [
    "y = Person('Adam')"
   ],
   "metadata": {
    "collapsed": false,
    "pycharm": {
     "name": "#%%\n"
    }
   }
  },
  {
   "cell_type": "code",
   "execution_count": 894,
   "outputs": [
    {
     "name": "stdout",
     "output_type": "stream",
     "text": [
      "Доктор дышит\n",
      "Человек идёт\n",
      "Человек спит\n"
     ]
    }
   ],
   "source": [
    "x.combo()"
   ],
   "metadata": {
    "collapsed": false,
    "pycharm": {
     "name": "#%%\n"
    }
   }
  },
  {
   "cell_type": "code",
   "execution_count": 895,
   "outputs": [],
   "source": [
    "class Person:\n",
    "    def breathe(self):\n",
    "        print('Человек дышит')\n",
    "\n",
    "    def sleep(self):\n",
    "        print('Человек спит')\n",
    "\n",
    "    def combo(self):\n",
    "        self.breathe()\n",
    "        self.walk()\n",
    "        self.sleep()"
   ],
   "metadata": {
    "collapsed": false,
    "pycharm": {
     "name": "#%%\n"
    }
   }
  },
  {
   "cell_type": "code",
   "execution_count": 896,
   "outputs": [],
   "source": [
    "class Doctor(Person):\n",
    "    def breathe(self):\n",
    "        print('Доктор дышит')\n",
    "\n",
    "    def sleep(self):\n",
    "        print('Доктор спит')\n",
    "\n",
    "    def walk(self):\n",
    "        print('Доктор идет')"
   ],
   "metadata": {
    "collapsed": false,
    "pycharm": {
     "name": "#%%\n"
    }
   }
  },
  {
   "cell_type": "code",
   "execution_count": 897,
   "outputs": [],
   "source": [
    "a = Person()"
   ],
   "metadata": {
    "collapsed": false,
    "pycharm": {
     "name": "#%%\n"
    }
   }
  },
  {
   "cell_type": "code",
   "execution_count": 898,
   "outputs": [],
   "source": [
    "# a.combo()\n",
    "# AttributeError: 'Person' object has no attribute 'walk'"
   ],
   "metadata": {
    "collapsed": false,
    "pycharm": {
     "name": "#%%\n"
    }
   }
  },
  {
   "cell_type": "code",
   "execution_count": 899,
   "outputs": [],
   "source": [
    "a = Doctor()"
   ],
   "metadata": {
    "collapsed": false,
    "pycharm": {
     "name": "#%%\n"
    }
   }
  },
  {
   "cell_type": "code",
   "execution_count": 900,
   "outputs": [
    {
     "name": "stdout",
     "output_type": "stream",
     "text": [
      "Доктор дышит\n",
      "Доктор идет\n",
      "Доктор спит\n"
     ]
    }
   ],
   "source": [
    "a.combo()"
   ],
   "metadata": {
    "collapsed": false,
    "pycharm": {
     "name": "#%%\n"
    }
   }
  },
  {
   "cell_type": "code",
   "execution_count": 901,
   "outputs": [],
   "source": [
    "class Person:\n",
    "    def breathe(self):\n",
    "        print('Человек дышит')\n",
    "\n",
    "    def walk(self):\n",
    "        print('Человек идёт')\n",
    "\n",
    "    def sleep(self):\n",
    "        print('Человек спит')\n",
    "\n",
    "    def combo(self):\n",
    "        self.breathe()\n",
    "        if hasattr(self, 'walk'):\n",
    "            self.walk()\n",
    "        self.sleep()\n",
    "        if hasattr(self, 'age'):\n",
    "            print(self.age)\n",
    "\n",
    "    def __str__(self):\n",
    "        return f\"Person {self.name}\""
   ],
   "metadata": {
    "collapsed": false,
    "pycharm": {
     "name": "#%%\n"
    }
   }
  },
  {
   "cell_type": "code",
   "execution_count": 902,
   "outputs": [],
   "source": [
    "class Doctor(Person):\n",
    "    age = 30\n",
    "\n",
    "    def breathe(self):\n",
    "        print('Доктор дышит')\n",
    "\n",
    "    def sleep(self):\n",
    "        print('Доктор спит')\n",
    "\n",
    "    def walk(self):\n",
    "        print('Доктор идет')"
   ],
   "metadata": {
    "collapsed": false,
    "pycharm": {
     "name": "#%%\n"
    }
   }
  },
  {
   "cell_type": "code",
   "execution_count": 903,
   "outputs": [],
   "source": [
    "x = Doctor()"
   ],
   "metadata": {
    "collapsed": false,
    "pycharm": {
     "name": "#%%\n"
    }
   }
  },
  {
   "cell_type": "code",
   "execution_count": 904,
   "outputs": [
    {
     "name": "stdout",
     "output_type": "stream",
     "text": [
      "Доктор дышит\n",
      "Доктор идет\n",
      "Доктор спит\n",
      "30\n"
     ]
    }
   ],
   "source": [
    "x.combo()"
   ],
   "metadata": {
    "collapsed": false,
    "pycharm": {
     "name": "#%%\n"
    }
   }
  },
  {
   "cell_type": "code",
   "execution_count": 905,
   "outputs": [],
   "source": [
    "class Person:\n",
    "    def breathe(self):\n",
    "        print('Человек дышит')"
   ],
   "metadata": {
    "collapsed": false,
    "pycharm": {
     "name": "#%%\n"
    }
   }
  },
  {
   "cell_type": "code",
   "execution_count": 906,
   "outputs": [],
   "source": [
    "class Doctor(Person):\n",
    "    def breathe(self):\n",
    "        super().breathe()\n",
    "        print('Доктор дышит')"
   ],
   "metadata": {
    "collapsed": false,
    "pycharm": {
     "name": "#%%\n"
    }
   }
  },
  {
   "cell_type": "code",
   "execution_count": 907,
   "outputs": [],
   "source": [
    "x = Person()"
   ],
   "metadata": {
    "collapsed": false,
    "pycharm": {
     "name": "#%%\n"
    }
   }
  },
  {
   "cell_type": "code",
   "execution_count": 908,
   "outputs": [],
   "source": [
    "y = Doctor()"
   ],
   "metadata": {
    "collapsed": false,
    "pycharm": {
     "name": "#%%\n"
    }
   }
  },
  {
   "cell_type": "code",
   "execution_count": 909,
   "outputs": [
    {
     "name": "stdout",
     "output_type": "stream",
     "text": [
      "Человек дышит\n",
      "Доктор дышит\n"
     ]
    }
   ],
   "source": [
    "y.breathe()"
   ],
   "metadata": {
    "collapsed": false,
    "pycharm": {
     "name": "#%%\n"
    }
   }
  },
  {
   "cell_type": "code",
   "execution_count": 910,
   "outputs": [],
   "source": [
    "class Person:\n",
    "    def __init__(self, name, surname):\n",
    "        self.name = name\n",
    "        self.surname = surname\n",
    "\n",
    "    def breathe(self):\n",
    "        print('Человек дышит')"
   ],
   "metadata": {
    "collapsed": false,
    "pycharm": {
     "name": "#%%\n"
    }
   }
  },
  {
   "cell_type": "code",
   "execution_count": 911,
   "outputs": [],
   "source": [
    "class Doctor(Person):\n",
    "    def __init__(self, name, surname, age):\n",
    "        self.name = name\n",
    "        self.surname = surname\n",
    "        self.age = age\n",
    "\n",
    "    def breathe(self):\n",
    "        super().breathe()\n",
    "        print('Доктор дышит')"
   ],
   "metadata": {
    "collapsed": false,
    "pycharm": {
     "name": "#%%\n"
    }
   }
  },
  {
   "cell_type": "code",
   "execution_count": 912,
   "outputs": [],
   "source": [
    "a = Person('Ivan', 'Ivanov')"
   ],
   "metadata": {
    "collapsed": false,
    "pycharm": {
     "name": "#%%\n"
    }
   }
  },
  {
   "cell_type": "code",
   "execution_count": 913,
   "outputs": [],
   "source": [
    "t = Doctor('Name', 'Surname', 30)"
   ],
   "metadata": {
    "collapsed": false,
    "pycharm": {
     "name": "#%%\n"
    }
   }
  },
  {
   "cell_type": "code",
   "execution_count": 914,
   "outputs": [
    {
     "name": "stdout",
     "output_type": "stream",
     "text": [
      "Ivan Ivanov\n",
      "Name Surname 30\n"
     ]
    }
   ],
   "source": [
    "print(a.name, a.surname)\n",
    "print(t.name, t.surname, t.age)"
   ],
   "metadata": {
    "collapsed": false,
    "pycharm": {
     "name": "#%%\n"
    }
   }
  },
  {
   "cell_type": "code",
   "execution_count": 915,
   "outputs": [],
   "source": [
    "class Person:\n",
    "    def __init__(self, name, surname):\n",
    "        self.name = name\n",
    "        self.surname = surname\n",
    "        self.age = 0\n",
    "\n",
    "    def breathe(self):\n",
    "        print('Человек дышит')"
   ],
   "metadata": {
    "collapsed": false,
    "pycharm": {
     "name": "#%%\n"
    }
   }
  },
  {
   "cell_type": "code",
   "execution_count": 916,
   "outputs": [],
   "source": [
    "class Doctor(Person):\n",
    "    def __init__(self, name, surname, age):\n",
    "        super().__init__(name, surname)\n",
    "        self.age = age\n",
    "\n",
    "    def breathe(self):\n",
    "        super().breathe()\n",
    "        print('Доктор дышит')"
   ],
   "metadata": {
    "collapsed": false,
    "pycharm": {
     "name": "#%%\n"
    }
   }
  },
  {
   "cell_type": "code",
   "execution_count": 917,
   "outputs": [
    {
     "name": "stdout",
     "output_type": "stream",
     "text": [
      "Ivan Ivanov\n",
      "Name Surname 25\n"
     ]
    }
   ],
   "source": [
    "a = Person('Ivan', 'Ivanov')\n",
    "t = Doctor('Name', 'Surname', 25)\n",
    "print(a.name, a.surname)\n",
    "print(t.name, t.surname, t.age)"
   ],
   "metadata": {
    "collapsed": false,
    "pycharm": {
     "name": "#%%\n"
    }
   }
  },
  {
   "cell_type": "code",
   "execution_count": 918,
   "outputs": [],
   "source": [
    "class Person:\n",
    "    def __init__(self, name, surname):\n",
    "        self.name = name\n",
    "        self.surname = surname\n",
    "\n",
    "    def __str__(self):\n",
    "        return f\"Person {self.name} {self.surname}\"\n",
    "\n",
    "    def info(self):\n",
    "        print('Parent class')\n",
    "        print(self)"
   ],
   "metadata": {
    "collapsed": false,
    "pycharm": {
     "name": "#%%\n"
    }
   }
  },
  {
   "cell_type": "code",
   "execution_count": 919,
   "outputs": [],
   "source": [
    "class Doctor(Person):\n",
    "    def __init__(self, name, surname, age):\n",
    "        super().__init__(name, surname)\n",
    "        self.age = age\n",
    "\n",
    "    def __str__(self):\n",
    "        return f\"Doctor {self.name} {self.surname}\""
   ],
   "metadata": {
    "collapsed": false,
    "pycharm": {
     "name": "#%%\n"
    }
   }
  },
  {
   "cell_type": "code",
   "execution_count": 920,
   "outputs": [],
   "source": [
    "class Doctor:\n",
    "    def can_cure(self):\n",
    "        print('Я доктор, я умею лечить')"
   ],
   "metadata": {
    "collapsed": false,
    "pycharm": {
     "name": "#%%\n"
    }
   }
  },
  {
   "cell_type": "code",
   "execution_count": 921,
   "outputs": [],
   "source": [
    "class Builder:\n",
    "    def can_build(self):\n",
    "        print('Я строитель, я умею строить')"
   ],
   "metadata": {
    "collapsed": false,
    "pycharm": {
     "name": "#%%\n"
    }
   }
  },
  {
   "cell_type": "code",
   "execution_count": 922,
   "outputs": [],
   "source": [
    "class Person(Doctor, Builder):\n",
    "    pass"
   ],
   "metadata": {
    "collapsed": false,
    "pycharm": {
     "name": "#%%\n"
    }
   }
  },
  {
   "cell_type": "code",
   "execution_count": 923,
   "outputs": [],
   "source": [
    "a = Person()"
   ],
   "metadata": {
    "collapsed": false,
    "pycharm": {
     "name": "#%%\n"
    }
   }
  },
  {
   "cell_type": "code",
   "execution_count": 924,
   "outputs": [
    {
     "name": "stdout",
     "output_type": "stream",
     "text": [
      "Я доктор, я умею лечить\n"
     ]
    }
   ],
   "source": [
    "a.can_cure()"
   ],
   "metadata": {
    "collapsed": false,
    "pycharm": {
     "name": "#%%\n"
    }
   }
  },
  {
   "cell_type": "code",
   "execution_count": 925,
   "outputs": [
    {
     "name": "stdout",
     "output_type": "stream",
     "text": [
      "Я строитель, я умею строить\n"
     ]
    }
   ],
   "source": [
    "a.can_build()"
   ],
   "metadata": {
    "collapsed": false,
    "pycharm": {
     "name": "#%%\n"
    }
   }
  },
  {
   "cell_type": "code",
   "execution_count": 926,
   "outputs": [],
   "source": [
    "class Person(Doctor, Builder):\n",
    "    def can_build(self):\n",
    "        print('Я человек, я тоже умею строить')"
   ],
   "metadata": {
    "collapsed": false,
    "pycharm": {
     "name": "#%%\n"
    }
   }
  },
  {
   "cell_type": "code",
   "execution_count": 927,
   "outputs": [],
   "source": [
    "a = Person()"
   ],
   "metadata": {
    "collapsed": false,
    "pycharm": {
     "name": "#%%\n"
    }
   }
  },
  {
   "cell_type": "code",
   "execution_count": 928,
   "outputs": [
    {
     "name": "stdout",
     "output_type": "stream",
     "text": [
      "Я человек, я тоже умею строить\n"
     ]
    }
   ],
   "source": [
    "a.can_build()"
   ],
   "metadata": {
    "collapsed": false,
    "pycharm": {
     "name": "#%%\n"
    }
   }
  },
  {
   "cell_type": "code",
   "execution_count": 929,
   "outputs": [
    {
     "name": "stdout",
     "output_type": "stream",
     "text": [
      "False\n"
     ]
    }
   ],
   "source": [
    "\"\"\"\n",
    "Укажите значения логических переменных А и В, при которых значение логического выражения\n",
    "НЕ (НЕ А ИЛИ В) будет истинным.\n",
    "\n",
    "A       B       НЕ А        НЕ А или В      f\n",
    "0       0       1           1               0\n",
    "0       1       1           1               0\n",
    "1       0       0           0               1\n",
    "1       1       0           1               0\n",
    "\n",
    "2^2 = 4\n",
    "\"\"\"\n",
    "\n",
    "A = 1\n",
    "B = 1\n",
    "\n",
    "f = not (not A or B)\n",
    "print(f)"
   ],
   "metadata": {
    "collapsed": false,
    "pycharm": {
     "name": "#%%\n"
    }
   }
  },
  {
   "cell_type": "code",
   "execution_count": 930,
   "outputs": [
    {
     "name": "stdout",
     "output_type": "stream",
     "text": [
      "f1 =  1\n",
      "f2 =  1\n",
      "f3 =  True\n"
     ]
    }
   ],
   "source": [
    "\"\"\"\n",
    "Дан фрагмент таблицы истинности. Какая из трех приведенных функций соответствует этому фрагменту:\n",
    "1. (¬ X1 ˅ X2) ˄ ¬ X3 ˅ X4\n",
    "2. (¬ X1 ˄ X2) ˅ (¬X3 ˄ X4)\n",
    "3. ¬ X1 ˅ X2 ˅ (X3 ˄ X4)\n",
    "\n",
    "x1  x2  x3  x4  F\n",
    "1   1   0   0   1\n",
    "0   1   1   1   1\n",
    "1   0   0   1   0\n",
    "\n",
    "¬ - not   ˅ - or    ˄ - and\n",
    "\"\"\"\n",
    "x1 = 0\n",
    "x2 = 1\n",
    "x3 = 1\n",
    "x4 = 1\n",
    "\n",
    "f1 = (not x1 or x2) and not x3 or x4\n",
    "f2 = (not x1 and x2) or (not x3 and x4)\n",
    "f3 = not x1 or x2 or (x3 and x4)\n",
    "\n",
    "print('f1 = ', f1)\n",
    "print('f2 = ', f2)\n",
    "print('f3 = ', f3)"
   ],
   "metadata": {
    "collapsed": false,
    "pycharm": {
     "name": "#%%\n"
    }
   }
  },
  {
   "cell_type": "code",
   "execution_count": 931,
   "outputs": [
    {
     "name": "stdout",
     "output_type": "stream",
     "text": [
      "f1 =  1\n",
      "f2 =  1\n",
      "f3 =  1\n"
     ]
    }
   ],
   "source": [
    "\"\"\"\n",
    "Найдите значения выражений:\n",
    "1. (0 ИЛИ 1) И (0 ИЛИ 1)\n",
    "2. 0 ИЛИ 1 И 0 ИЛИ 1\n",
    "3. (а ИЛИ 1) ИЛИ (b И 0)\n",
    "\n",
    "a   b       a or 1      b and 0     f3\n",
    "0   0         1          0          1\n",
    "0   1         1          0          1\n",
    "1   0         1          0          1\n",
    "1   1         1          0          1\n",
    "\"\"\"\n",
    "\n",
    "f1 = (0 or 1) and (0 or 1)\n",
    "print('f1 = ', f1)\n",
    "\n",
    "f2 = 0 or 1 and 0 or 1  # 0 or 0 or 1\n",
    "print('f2 = ', f2)\n",
    "\n",
    "a = 1\n",
    "b = 1\n",
    "f3 = (a or 1) or (b and 0)\n",
    "print('f3 = ', f3)"
   ],
   "metadata": {
    "collapsed": false,
    "pycharm": {
     "name": "#%%\n"
    }
   }
  },
  {
   "cell_type": "code",
   "execution_count": 932,
   "outputs": [
    {
     "name": "stdout",
     "output_type": "stream",
     "text": [
      "f = True\n",
      "Брюнет:  0\n",
      "С усами:  1\n",
      "Блондин:  1\n",
      "С портфелем:  1\n",
      "Шатен:  0\n"
     ]
    }
   ],
   "source": [
    "\"\"\"\n",
    "Показания свидетелей правонарушения значительно различались.\n",
    "Первый свидетель сказал, что преступник был брюнет с усами.\n",
    "Второй заявил, что это был блондин без усов.\n",
    "Третий свидетель подтвердил, что преступник был блондином, но без портфеля.\n",
    "Четвертый был уверен, что преступник был шатеном с портфелем.\n",
    "В действительности оказалось, что каждый из свидетелей ошибся в одном из своих показаний.\n",
    "Каким был правонарушитель?\n",
    "\n",
    "A - брюнет\n",
    "B - с усами   not B - без усов\n",
    "C - блондин\n",
    "D - с портфелем     not D - без портфеля\n",
    "E - шатен\n",
    "\n",
    "2^5 = 32\n",
    "\n",
    "A   B   C   D   E\n",
    "0   0   0   0   0   -\n",
    "0   0   0   0   1   -\n",
    "0   0   0   1   0   -\n",
    "0   0   0   1   1   -\n",
    "0   0   1   0   0   -\n",
    "0   0   1   0   1   -\n",
    "0   0   1   1   0   -\n",
    "0   0   1   1   1   -\n",
    "0   1   0   0   0   -\n",
    "0   1   0   0   1   -\n",
    "0   1   0   1   0   -\n",
    "0   1   0   1   1   -\n",
    "0   1   1   0   0   -\n",
    "0   1   1   0   1   -\n",
    "0   1   1   1   0   +\n",
    "0   1   1   1   1\n",
    "1   0   0   0   0\n",
    "1   0   0   0   1\n",
    "1   0   0   1   0\n",
    "1   0   0   1   1\n",
    "1   0   1   0   0\n",
    "1   0   1   0   1\n",
    "1   0   1   1   0\n",
    "1   0   1   1   1\n",
    "1   1   0   0   0\n",
    "1   1   0   0   1\n",
    "1   1   0   1   0\n",
    "1   1   0   1   1\n",
    "1   1   1   0   0\n",
    "1   1   1   0   1\n",
    "1   1   1   1   0\n",
    "1   1   1   1   1\n",
    "\"\"\"\n",
    "A = 0\n",
    "B = 1\n",
    "C = 1\n",
    "D = 1\n",
    "E = 0\n",
    "\n",
    "f1 = (not A and B) or (A and not B)\n",
    "f2 = (not C and not B) or (C and B)\n",
    "f3 = (not C and not D) or (C and D)\n",
    "f4 = (not E and D) or (E and not D)\n",
    "\n",
    "f5 = (A and not C and not E) or (not A and C and not E) or (not A and not C and E)\n",
    "\n",
    "f = f1 and f2 and f3 and f4 and f5\n",
    "print('f =', f)\n",
    "\n",
    "print('Брюнет: ', A)\n",
    "print('С усами: ', B)\n",
    "print('Блондин: ', C)\n",
    "print('С портфелем: ', D)\n",
    "print('Шатен: ', E)"
   ],
   "metadata": {
    "collapsed": false,
    "pycharm": {
     "name": "#%%\n"
    }
   }
  },
  {
   "cell_type": "code",
   "execution_count": 933,
   "outputs": [
    {
     "name": "stdout",
     "output_type": "stream",
     "text": [
      "y = 0.000\n",
      "z = 0.000\n",
      "y - z = 0.000\n"
     ]
    }
   ],
   "source": [
    "\"\"\"\n",
    "Написать программу расчета y и z по формулам, приведенным ниже.\n",
    "Определить разность между значениями  y и z в каждом случае.\n",
    "\n",
    "y = 2*sin^2(3Pi-2a)*cos^2(5Pi+2a)\n",
    "\n",
    "z = 1/4 - 1/4 * sin(5/2 * Pi - 8a)\n",
    "\n",
    "-------------------\n",
    "Тестовые значения:\n",
    "Grad        Rad         Y           Z           Y - Z\n",
    "a = 0       0           0           0           0\n",
    "a = 30      0.52       0.38         0.38        0\n",
    "a = 60      1.05       0.38         0.38        0\n",
    "a =90       1.57       0.000..      0.000..     0\n",
    "a = 180     3.14        0           0           0\n",
    "\"\"\"\n",
    "\n",
    "import math\n",
    "\n",
    "a = 180  # grad\n",
    "a_rad = math.radians(a)  # radians\n",
    "\n",
    "y = 2 * math.sin(3 * math.pi - 2 * a_rad) ** 2 * math.cos(5 * math.pi + 2 * a_rad) ** 2\n",
    "print('y = {:.3f}'.format(y))\n",
    "\n",
    "z = 1 / 4 - 1 / 4 * math.sin(5 / 2 * math.pi - 8 * a_rad)\n",
    "print('z = {:.3f}'.format(z))\n",
    "\n",
    "print('y - z = {:.3f}'.format(y - z))\n"
   ],
   "metadata": {
    "collapsed": false,
    "pycharm": {
     "name": "#%%\n"
    }
   }
  },
  {
   "cell_type": "code",
   "execution_count": 934,
   "outputs": [
    {
     "name": "stdout",
     "output_type": "stream",
     "text": [
      "y = 0.10\n",
      "z = 0.10\n",
      "y - z = 0.00\n"
     ]
    }
   ],
   "source": [
    "\"\"\"\n",
    "Написать программу расчета y и z по формулам, приведенным ниже.\n",
    "Определить разность между значениями  y и z в каждом случае.\n",
    "\n",
    "y = V(2b+2*V(b^2 - 4)) / (v(b^2-4) + b + 2)\n",
    "\n",
    "z = 1 / v(b+2)\n",
    "\n",
    "-------------------\n",
    "Тестовые значения:\n",
    "b         Y           Z           Y - Z\n",
    "10      0.289       0.289           0\n",
    "50      0.139       0.139           0\n",
    "100     0.099       0.099           0\n",
    "\"\"\"\n",
    "\n",
    "import math\n",
    "\n",
    "b = 100\n",
    "\n",
    "y = math.sqrt(2 * b + 2 * math.sqrt(b ** 2 - 4)) / (math.sqrt(b ** 2 - 4) + b + 2)\n",
    "print('y = {:.2f}'.format(y))\n",
    "\n",
    "z = 1 / math.sqrt(b + 2)\n",
    "print('z = {:.2f}'.format(z))\n",
    "\n",
    "print('y - z = {:.2f}'.format(y - z))"
   ],
   "metadata": {
    "collapsed": false,
    "pycharm": {
     "name": "#%%\n"
    }
   }
  },
  {
   "cell_type": "code",
   "execution_count": 935,
   "outputs": [
    {
     "name": "stdout",
     "output_type": "stream",
     "text": [
      "Max t:  26\n",
      "Day:  3\n"
     ]
    }
   ],
   "source": [
    "\"\"\"\n",
    "Определить самую высокую температуру и самый теплый день в мае.\n",
    "\"\"\"\n",
    "\n",
    "may_t = [13, 15, 26, 23, 5, -5, 4, 24, 3, 7, -2, 0, 5, 23, 12, 15, 18, 24, -5, 23, 18, 17, 19, 21, 10, 22, 9, 5, 10, 21]\n",
    "\n",
    "max_t = max(may_t)\n",
    "print('Max t: ', max_t)\n",
    "\n",
    "index_max_t = may_t.index(max_t) + 1\n",
    "print('Day: ', index_max_t)"
   ],
   "metadata": {
    "collapsed": false,
    "pycharm": {
     "name": "#%%\n"
    }
   }
  },
  {
   "cell_type": "code",
   "execution_count": 936,
   "outputs": [
    {
     "name": "stdout",
     "output_type": "stream",
     "text": [
      "Max:  20\n",
      "[-5, -7, -3, -8, 4, 9, -1, 5, 7]\n",
      "[20, -5, -7, -3, -8, 4, 9, -1, 5, 7]\n"
     ]
    }
   ],
   "source": [
    "\"\"\"\n",
    "Дан список из 10 элементов. Найти максимальный элемент списка и\n",
    "переместить его в начало списка.\n",
    "\"\"\"\n",
    "\n",
    "l = [20, -5, -7, -3, -8, 4, 9, -1, 5, 7]\n",
    "max_l = max(l)\n",
    "print('Max: ', max_l)\n",
    "\n",
    "l.remove(max_l)\n",
    "print(l)\n",
    "\n",
    "l.insert(0, max_l)\n",
    "print(l)"
   ],
   "metadata": {
    "collapsed": false,
    "pycharm": {
     "name": "#%%\n"
    }
   }
  },
  {
   "cell_type": "code",
   "execution_count": 937,
   "outputs": [
    {
     "name": "stdout",
     "output_type": "stream",
     "text": [
      "[9, 7, 5, 4, 2, -1, -3, -5, -7, -8]\n"
     ]
    }
   ],
   "source": [
    "\"\"\"\n",
    "Задан список из 10 элементов. Изменить этот список таким образом,\n",
    "чтобы все отрицательные элементы оказались в конце.\n",
    "\"\"\"\n",
    "\n",
    "l = [2, -5, -7, -3, -8, 4, 9, -1, 5, 7]\n",
    "\n",
    "l.sort(reverse=True)\n",
    "print(l)"
   ],
   "metadata": {
    "collapsed": false,
    "pycharm": {
     "name": "#%%\n"
    }
   }
  },
  {
   "cell_type": "code",
   "execution_count": 938,
   "outputs": [
    {
     "name": "stdout",
     "output_type": "stream",
     "text": [
      "[31, 9, 7, 5, 4, 2, -1, -5, -7, -8]\n"
     ]
    }
   ],
   "source": [
    "\"\"\"\n",
    "Дан список из 10 элементов. Переместить все положительные элементы,\n",
    "начиная с максимального, в начало списка.\n",
    "\"\"\"\n",
    "\n",
    "l = [2, -5, -7, 31, -8, 4, 9, -1, 5, 7]\n",
    "l.sort(reverse=True)\n",
    "\n",
    "print(l)"
   ],
   "metadata": {
    "collapsed": false,
    "pycharm": {
     "name": "#%%\n"
    }
   }
  },
  {
   "cell_type": "code",
   "execution_count": 939,
   "outputs": [
    {
     "name": "stdout",
     "output_type": "stream",
     "text": [
      "Min:  -50\n",
      "Index min:  1\n",
      "[-50, -7, -3, -8, 4, -9, -1, 5, 7]\n"
     ]
    }
   ],
   "source": [
    "\"\"\"\n",
    "Дан список из 10 элементов. Удалить все элементы,\n",
    "расположенные перед минимальным элементом списка.\n",
    "\"\"\"\n",
    "\n",
    "l = [2, -50, -7, -3, -8, 4, -9, -1, 5, 7]\n",
    "\n",
    "min_l = min(l)\n",
    "print('Min: ', min_l)\n",
    "\n",
    "ind_min_l = l.index(min_l)\n",
    "print('Index min: ', ind_min_l)\n",
    "\n",
    "del l[0: ind_min_l]\n",
    "print(l)"
   ],
   "metadata": {
    "collapsed": false,
    "pycharm": {
     "name": "#%%\n"
    }
   }
  },
  {
   "cell_type": "code",
   "execution_count": 940,
   "outputs": [
    {
     "name": "stdout",
     "output_type": "stream",
     "text": [
      "Summa:  595\n"
     ]
    }
   ],
   "source": [
    "\"\"\"\n",
    "Дан список из 20 произвольных целых чисел.\n",
    "Найти сумму элементов этого списка.\n",
    "\n",
    "Тестовые значения:\n",
    "[1, 2, 3, 4, 5, 6, 7, 8, 9, 0, 1, 2, 3, 4, 5, 6, 7, 8, 9, 0]  сумма: 90\n",
    "[1, 1, 1, 1, 1, 1, 1, 1, 1, 1, 1, 1, 1, 1, 1, 1, 1, 1, 1, 1]  сумма: 20\n",
    "[10, 20, 30, 40, 50, 60, 70, 80, 90, 100, 0, 1, 2, 3, 4, 5, 6, 7, 8, 9] сумма: 595\n",
    "\"\"\"\n",
    "\n",
    "l = [10, 20, 30, 40, 50, 60, 70, 80, 90, 100, 0, 1, 2, 3, 4, 5, 6, 7, 8, 9]\n",
    "sum_l = sum(l)\n",
    "\n",
    "print('Summa: ', sum_l)"
   ],
   "metadata": {
    "collapsed": false,
    "pycharm": {
     "name": "#%%\n"
    }
   }
  },
  {
   "cell_type": "code",
   "execution_count": 941,
   "outputs": [
    {
     "name": "stdout",
     "output_type": "stream",
     "text": [
      "Count:  7\n"
     ]
    }
   ],
   "source": [
    "\"\"\"\n",
    "Дана строка, содержащая русскоязычный текст.\n",
    "Найти количество слов, начинающихся с буквы “е”.\n",
    "\n",
    "-------------------\n",
    "Тестовый пример:\n",
    "\n",
    "Ежевику для ежат\n",
    "Принесли два ежа.\n",
    "Ежевику еле-еле\n",
    "Ежата возле ели съели. (7 слов)\n",
    "\"\"\"\n",
    "\n",
    "s = \"Ежевику для ежат \"\"Принесли два ежа.\"\"Ежевику еле-еле\"\"Ежата возле ели съели.\"\n",
    "\n",
    "count_E = s.count('Е')\n",
    "count_e = s.count(' е')\n",
    "count_res = count_E + count_e\n",
    "print('Count: ', count_res)"
   ],
   "metadata": {
    "collapsed": false,
    "pycharm": {
     "name": "#%%\n"
    }
   }
  },
  {
   "cell_type": "code",
   "execution_count": 942,
   "outputs": [
    {
     "name": "stdout",
     "output_type": "stream",
     "text": [
      "['Ежевику', 'для', 'ежат', 'Принесли', 'два', 'ежа']\n",
      "Count:  6\n"
     ]
    }
   ],
   "source": [
    "\"\"\"\n",
    "Дана строка, заканчивающаяся точкой.\n",
    "Подсчитать, сколько слов в строке.\n",
    "\"\"\"\n",
    "\n",
    "s = \"Ежевику для ежат ; Принесли два ежа.\"\n",
    "\n",
    "s = s.replace(',', '')\n",
    "s = s.replace(';', '')\n",
    "s = s.replace(':', '')\n",
    "s = s.replace('.', '')\n",
    "\n",
    "l = s.split()\n",
    "print(l)\n",
    "\n",
    "count = len(l)\n",
    "print('Count: ', count)"
   ],
   "metadata": {
    "collapsed": false,
    "pycharm": {
     "name": "#%%\n"
    }
   }
  },
  {
   "cell_type": "code",
   "execution_count": 943,
   "outputs": [
    {
     "name": "stdout",
     "output_type": "stream",
     "text": [
      "символов, среди которых есть\n"
     ]
    }
   ],
   "source": [
    "\"\"\"\n",
    "Дана строка символов, среди которых есть одна открывающаяся и\n",
    "одна закрывающаяся скобки. Вывести на экран все символы,\n",
    "расположенные внутри этих скобок.\n",
    "\"\"\"\n",
    "\n",
    "s = \"Дана строка (символов, среди которых есть) одна открывающаяся\"\n",
    "\n",
    "ind1 = s.index('(')\n",
    "ind2 = s.index(')')\n",
    "\n",
    "print(s[ind1 + 1:ind2])"
   ],
   "metadata": {
    "collapsed": false,
    "pycharm": {
     "name": "#%%\n"
    }
   }
  },
  {
   "cell_type": "code",
   "execution_count": 944,
   "outputs": [
    {
     "name": "stdout",
     "output_type": "stream",
     "text": [
      "Палиндром:  False\n"
     ]
    }
   ],
   "source": [
    "\"\"\"\n",
    "Дана строка, состоящая только из слов без знаков препинания.\n",
    "Проверить, является ли данная строка палиндромом.\n",
    "\n",
    "-------------------\n",
    "Тестовые примеры:\n",
    "1. Лёша на полке клопа нашёл\n",
    "2. А роза упала на лапу Азора\n",
    "3. А роза упала на лапу Азорy (изменен последний символ - не палиндром)\n",
    "4. Эта строка не палиндром\n",
    "\"\"\"\n",
    "\n",
    "s = \"Эта строка не палиндром\"\n",
    "s = s.lower()\n",
    "s = s.replace(' ', '')\n",
    "\n",
    "rev_s = s[::-1]\n",
    "print('Палиндром: ', s == rev_s)"
   ],
   "metadata": {
    "collapsed": false,
    "pycharm": {
     "name": "#%%\n"
    }
   }
  },
  {
   "cell_type": "code",
   "execution_count": 945,
   "outputs": [
    {
     "name": "stdout",
     "output_type": "stream",
     "text": [
      "Палиндром:  True\n"
     ]
    }
   ],
   "source": [
    "\"\"\"\n",
    "Дана строка, состоящая только из слов без знаков препинания.\n",
    "Проверить, является ли данная строка палиндромом.\n",
    "\n",
    "-------------------\n",
    "Тестовые примеры:\n",
    "1. Лёша на полке клопа нашёл\n",
    "2. А роза упала на лапу Азора\n",
    "3. А роза упала на лапу Азорy (изменен последний символ - не палиндром)\n",
    "4. Эта строка не палиндром\n",
    "\"\"\"\n",
    "\n",
    "s = b\"A roza upala na lapu Azora\"\n",
    "s = s.lower()\n",
    "s = s.replace(b' ', b'')\n",
    "\n",
    "rev_s = s[::-1]\n",
    "print('Палиндром: ', s == rev_s)"
   ],
   "metadata": {
    "collapsed": false,
    "pycharm": {
     "name": "#%%\n"
    }
   }
  },
  {
   "cell_type": "code",
   "execution_count": 946,
   "outputs": [
    {
     "name": "stdout",
     "output_type": "stream",
     "text": [
      "Count:  7\n"
     ]
    }
   ],
   "source": [
    "\"\"\"\n",
    "Дана строка, содержащая русскоязычный текст.\n",
    "Найти количество слов, начинающихся с буквы “е”.\n",
    "\n",
    "-------------------\n",
    "Тестовый пример:\n",
    "\n",
    "Ежевику для ежат\n",
    "Принесли два ежа.\n",
    "Ежевику еле-еле\n",
    "Ежата возле ели съели. (7 слов)\n",
    "\"\"\"\n",
    "\n",
    "s = b\"Ezheviku dlya ezhat \"b\"Prinesli dva ezha.\"b\"Ezheviku ele-ele\"b\"Ezhata vozle eli s'eli.\"\n",
    "\n",
    "count_E = s.count(b'E')\n",
    "count_e = s.count(b' e')\n",
    "count_res = count_E + count_e\n",
    "print('Count: ', count_res)"
   ],
   "metadata": {
    "collapsed": false,
    "pycharm": {
     "name": "#%%\n"
    }
   }
  },
  {
   "cell_type": "code",
   "execution_count": 947,
   "outputs": [
    {
     "name": "stdout",
     "output_type": "stream",
     "text": [
      "bytearray(b'Some very-very long string.')\n",
      "bytearray(b'So*e *er*-v*ry*lo*g *tr*ng*')\n",
      "So*e *er*-v*ry*lo*g *tr*ng*\n"
     ]
    }
   ],
   "source": [
    "\"\"\"\n",
    "Дана строка. Заменить каждый третий символ на звездочку “*”.\n",
    "\"\"\"\n",
    "\n",
    "s = \"Some very-very long string.\"\n",
    "\n",
    "bytes_s = s.encode()\n",
    "bytearr_s = bytearray(bytes_s)\n",
    "\n",
    "print(bytearr_s)\n",
    "\n",
    "count = int(len(s) / 3)\n",
    "repl_s = ('*' * count).encode()\n",
    "bytearr_s[2::3] = repl_s\n",
    "\n",
    "print(bytearr_s)\n",
    "print(bytearr_s.decode())"
   ],
   "metadata": {
    "collapsed": false,
    "pycharm": {
     "name": "#%%\n"
    }
   }
  },
  {
   "cell_type": "code",
   "execution_count": 948,
   "outputs": [
    {
     "name": "stdout",
     "output_type": "stream",
     "text": [
      "[b'Ezheviku', b'dlya', b'ezhat', b'Prinesli', b'dva', b'ezha']\n",
      "Count:  6\n"
     ]
    }
   ],
   "source": [
    "\"\"\"\n",
    "Дана строка, заканчивающаяся точкой.\n",
    "Подсчитать, сколько слов в строке.\n",
    "\"\"\"\n",
    "\n",
    "s = b\"Ezheviku dlya ezhat; Prinesli dva ezha.\"\n",
    "\n",
    "s = s.replace(b',', b'')\n",
    "s = s.replace(b';', b'')\n",
    "s = s.replace(b':', b'')\n",
    "s = s.replace(b'.', b'')\n",
    "\n",
    "l = s.split()\n",
    "print(l)\n",
    "\n",
    "count = len(l)\n",
    "print('Count: ', count)"
   ],
   "metadata": {
    "collapsed": false,
    "pycharm": {
     "name": "#%%\n"
    }
   }
  },
  {
   "cell_type": "code",
   "execution_count": 949,
   "outputs": [
    {
     "name": "stdout",
     "output_type": "stream",
     "text": [
      "Учимся программировать вместе\n"
     ]
    }
   ],
   "source": [
    "\"\"\"\n",
    "Необходимо декодировать закодированную строку:\n",
    "b'\\xd0\\xa3\\xd1\\x87\\xd0\\xb8\\xd0\\xbc\\xd1\\x81\\xd1\\x8f \\xd0\\xbf\\xd1\\x80\\xd0\\xbe\\xd0\\xb3\\xd1\\x80\\xd0\\xb0\\xd0\\xbc\\xd0\\xbc\\xd0\\xb8\\xd1\\x80\\xd0\\xbe\\xd0\\xb2\\xd0\\xb0\\xd1\\x82\\xd1\\x8c \\xd0\\xb2\\xd0\\xbc\\xd0\\xb5\\xd1\\x81\\xd1\\x82\\xd0\\xb5'\n",
    "\"\"\"\n",
    "\n",
    "encoded_s = b'\\xd0\\xa3\\xd1\\x87\\xd0\\xb8\\xd0\\xbc\\xd1\\x81\\xd1\\x8f \\xd0\\xbf\\xd1'b'\\x80\\xd0\\xbe\\xd0\\xb3\\xd1\\x80\\xd0\\xb0\\xd0\\xbc\\xd0\\xbc\\xd0\\xb8\\xd1'b'\\x80\\xd0\\xbe\\xd0\\xb2\\xd0\\xb0\\xd1\\x82\\xd1\\x8c \\xd0\\xb2\\xd0\\xbc\\xd0'b'\\xb5\\xd1\\x81\\xd1\\x82\\xd0\\xb5'\n",
    "\n",
    "decoded_s = encoded_s.decode()\n",
    "print(decoded_s)"
   ],
   "metadata": {
    "collapsed": false,
    "pycharm": {
     "name": "#%%\n"
    }
   }
  },
  {
   "cell_type": "code",
   "execution_count": 950,
   "outputs": [
    {
     "name": "stdout",
     "output_type": "stream",
     "text": [
      "b'Hello, bytes!'\n",
      "Hello, bytes!\n"
     ]
    }
   ],
   "source": [
    "\"\"\"\n",
    "Преобразовать заданную строку в читаемый текст:\n",
    "'4865 6c6c 6f2c 2062 7974 6573 21'\n",
    "\"\"\"\n",
    "\n",
    "hex_s = '4865 6c6c 6f2c 2062 7974 6573 21'\n",
    "bytes_s = bytes.fromhex(hex_s)\n",
    "\n",
    "print(bytes_s)\n",
    "print(bytes_s.decode())"
   ],
   "metadata": {
    "collapsed": false,
    "pycharm": {
     "name": "#%%\n"
    }
   }
  },
  {
   "cell_type": "code",
   "execution_count": 951,
   "outputs": [
    {
     "name": "stdout",
     "output_type": "stream",
     "text": [
      "{' ', 'я', 'л', 'н', 'е', 'ы', ',', 'а', 'Н', 'о', '!', 'м', 'в', 'и'}\n",
      "14\n"
     ]
    }
   ],
   "source": [
    "\"\"\"\n",
    "Дан небольшой текст. Проверить количество уникальных символов в данном тексте.\n",
    "\n",
    "-------------------\n",
    "Тестовые данные:\n",
    "1. \"Дан небольшой текст. Проверить количество уникальных символов в данном тексте.\" - 25\n",
    "2. \"На мели мы налима лениво ловили, меняли налима вы мне на линя!\" - 14\n",
    "3. \"Let's count all unic symbols in that short text?\" - 20\n",
    "\"\"\"\n",
    "\n",
    "s = \"На мели мы налима лениво ловили, меняли налима вы мне на линя!\"\n",
    "\n",
    "#s = s.lower()\n",
    "unic_symb = set(s)\n",
    "print(unic_symb)\n",
    "print(len(unic_symb))"
   ],
   "metadata": {
    "collapsed": false,
    "pycharm": {
     "name": "#%%\n"
    }
   }
  },
  {
   "cell_type": "code",
   "execution_count": 952,
   "outputs": [
    {
     "name": "stdout",
     "output_type": "stream",
     "text": [
      "Only one hobby:  {'Ilya', 'Marina', 'Kostya', 'Sveta'}\n",
      "Both hobbies:  {'Zhenya'}\n",
      "Drawing:  {'Sveta', 'Marina'}\n"
     ]
    }
   ],
   "source": [
    "\"\"\"\n",
    "Марина, Женя и Света занимаются рисованием, а Костя, Женя и Илья - дополнительно посещают уроки музыки.\n",
    "Определите, сколько человек занимается только одним видом искусства и выведите список их имен.\n",
    "Ученик, занимающийся в обоих кружках, решил бросить занятия рисованием.\n",
    "Произведите соответствующие изменения.\n",
    "\"\"\"\n",
    "\n",
    "drawing = {'Marina', 'Zhenya', 'Sveta'}\n",
    "music = {'Kostya', 'Zhenya', 'Ilya'}\n",
    "\n",
    "only_one_hobby = drawing.symmetric_difference(music)\n",
    "print('Only one hobby: ', only_one_hobby)\n",
    "\n",
    "both_hobbies = drawing.intersection(music)\n",
    "print('Both hobbies: ', both_hobbies)\n",
    "\n",
    "drawing = drawing - both_hobbies\n",
    "print('Drawing: ', drawing)\n"
   ],
   "metadata": {
    "collapsed": false,
    "pycharm": {
     "name": "#%%\n"
    }
   }
  },
  {
   "cell_type": "code",
   "execution_count": 953,
   "outputs": [
    {
     "name": "stdout",
     "output_type": "stream",
     "text": [
      "{0, 1, 2, 3, 4, 5, 6, 7, 8, 9} {0, 5, 6, 7, 8, 9, 10, 11, 12, 13, 14, 15, 16, 17, 18}\n",
      "Общие элементы в порядке возрастания:  [0, 5, 6, 7, 8, 9]\n",
      "Разные элементы в порядке убывания:  [18, 17, 16, 15, 14, 13, 12, 11, 10, 4, 3, 2, 1]\n"
     ]
    }
   ],
   "source": [
    "\"\"\"\n",
    "Даны два списка чисел, содержащие 10 и 15 элементов соответственно.\n",
    "Выведите все числа, которые входят как в первый, так и во второй список в порядке возрастания,\n",
    "а все остальные - в порядке убывания.\n",
    "\"\"\"\n",
    "\n",
    "l1 = [0, 1, 2, 3, 4, 5, 6, 7, 8, 9]\n",
    "l2 = [5, 6, 7, 8, 9, 0, 10, 11, 12, 13, 14, 15, 16, 17, 18]\n",
    "\n",
    "s1 = set(l1)\n",
    "s2 = set(l2)\n",
    "\n",
    "print(s1, s2)\n",
    "\n",
    "common_elem = s1.intersection(s2)  #s1 & s2\n",
    "sorted_common_elem = sorted(common_elem)\n",
    "print('Общие элементы в порядке возрастания: ', sorted_common_elem)\n",
    "\n",
    "other_elem = s1.symmetric_difference(s2)  #s1 ^ s2\n",
    "sorted_other_elem = sorted(other_elem, reverse=True)\n",
    "print('Разные элементы в порядке убывания: ', sorted_other_elem)"
   ],
   "metadata": {
    "collapsed": false,
    "pycharm": {
     "name": "#%%\n"
    }
   }
  },
  {
   "cell_type": "code",
   "execution_count": 954,
   "outputs": [
    {
     "name": "stdout",
     "output_type": "stream",
     "text": [
      "{1, 2, 3, 4, 5, 6, 7, 8, 9}\n",
      "Unic elems count:  9\n",
      "Min elem:  1\n",
      "Max elem:  9\n"
     ]
    }
   ],
   "source": [
    "\"\"\"\n",
    "Дан набор множеств: {1, 2}, {3}, {4, 5}, {3, 2, 6}, {6}, {7, 8}, {9, 8}.\n",
    "Найти количество уникальных элементов во всех множествах.\n",
    "Найти минимальный и максимальный элементы среди них.\n",
    "\"\"\"\n",
    "\n",
    "s1 = {1, 2}\n",
    "s2 = {3}\n",
    "s3 = {4, 5}\n",
    "s4 = {3, 2, 6}\n",
    "s5 = {6}\n",
    "s6 = {7, 8}\n",
    "s7 = {9, 8}\n",
    "\n",
    "s = s1.union(s2, s3, s4, s5, s6, s7)  #s1 | s2 | s3 | s4 | s5 | s6 | s7\n",
    "print(s)\n",
    "\n",
    "count = len(s)\n",
    "print('Unic elems count: ', count)\n",
    "\n",
    "print('Min elem: ', min(s))\n",
    "print('Max elem: ', max(s))"
   ],
   "metadata": {
    "collapsed": false,
    "pycharm": {
     "name": "#%%\n"
    }
   }
  },
  {
   "cell_type": "code",
   "execution_count": 955,
   "outputs": [
    {
     "name": "stdout",
     "output_type": "stream",
     "text": [
      "{1: 10, 2: 20, 3: 30, 4: 40, 5: 50, 6: 60}\n"
     ]
    }
   ],
   "source": [
    "\"\"\"\n",
    "Дано три словаря: {1: 10, 2: 20}, {3: 30, 4: 40} и {5: 50, 6: 60}.\n",
    "Объединить данные словари в один.\n",
    "\"\"\"\n",
    "\n",
    "d1 = {1: 10, 2: 20}\n",
    "d2 = {3: 30, 4: 40}\n",
    "d3 = {5: 50, 6: 60}\n",
    "\n",
    "d1.update(d2)\n",
    "d1.update(d3)\n",
    "print(d1)"
   ],
   "metadata": {
    "collapsed": false,
    "pycharm": {
     "name": "#%%\n"
    }
   }
  },
  {
   "cell_type": "code",
   "execution_count": 956,
   "outputs": [
    {
     "name": "stdout",
     "output_type": "stream",
     "text": [
      "{0: 10, 1: 20, 2: 30}\n"
     ]
    }
   ],
   "source": [
    "\"\"\"\n",
    "Дан словарь {0: 10, 1: 20}. Добавить в словарь ключ 2 со значением 30.\n",
    "\"\"\"\n",
    "\n",
    "d = {0: 10, 1: 20}\n",
    "d[2] = 30\n",
    "print(d)"
   ],
   "metadata": {
    "collapsed": false,
    "pycharm": {
     "name": "#%%\n"
    }
   }
  },
  {
   "cell_type": "code",
   "execution_count": 957,
   "outputs": [
    {
     "name": "stdout",
     "output_type": "stream",
     "text": [
      "{'age': 25, 'city': 'New York'}\n",
      "{'name': 'Kelly', 'salary': 8000}\n"
     ]
    }
   ],
   "source": [
    "\"\"\"\n",
    "Дан словарь {'name': 'Kelly', 'age': 25, 'salary': 8000, 'city': 'New York'}.\n",
    "Создать новый словарь, который будет содержать только имя и зарплату сотрудника,\n",
    "а затем удалить эти значения из исходного словаря.\n",
    "\"\"\"\n",
    "\n",
    "d = {'name': 'Kelly', 'age': 25, 'salary': 8000, 'city': 'New York'}\n",
    "\n",
    "new_d = {}\n",
    "new_d['name'] = d.pop('name')\n",
    "new_d['salary'] = d.pop('salary')\n",
    "\n",
    "# new_d = {'name': d.pop('name'), 'salary': d.pop('salary')}\n",
    "print(d)\n",
    "print(new_d)"
   ],
   "metadata": {
    "collapsed": false,
    "pycharm": {
     "name": "#%%\n"
    }
   }
  },
  {
   "cell_type": "code",
   "execution_count": 958,
   "outputs": [
    {
     "name": "stdout",
     "output_type": "stream",
     "text": [
      "[5874, 5874, 560, 500, 400, 20]\n",
      "3 max elems:  [5874, 5874, 560]\n",
      "{560, 400, 5874, 20, 500}\n",
      "3 unic max elems: [5874, 560, 500]\n"
     ]
    }
   ],
   "source": [
    "\"\"\"\n",
    "Дан словарь {'a': 500, 'b': 5874, 'c': 560, 'd': 400, 'e': 5874, 'f': 20}.\n",
    "Найти 3 наибольших значения в нем.\n",
    "\"\"\"\n",
    "\n",
    "d = {'a': 500, 'b': 5874, 'c': 560, 'd': 400, 'e': 5874, 'f': 20}\n",
    "values = d.values()\n",
    "\n",
    "sorted_v = sorted(values, reverse=True)\n",
    "print(sorted_v)\n",
    "\n",
    "print('3 max elems: ', sorted_v[0:3])\n",
    "\n",
    "sorted_v = set(sorted_v)\n",
    "print(sorted_v)\n",
    "\n",
    "print('3 unic max elems:', sorted(sorted_v, reverse=True)[0:3])"
   ],
   "metadata": {
    "collapsed": false,
    "pycharm": {
     "name": "#%%\n"
    }
   }
  },
  {
   "cell_type": "code",
   "execution_count": 959,
   "outputs": [
    {
     "name": "stdout",
     "output_type": "stream",
     "text": [
      "{'name': 'Brad', 'salary': 6500}\n",
      "6500\n",
      "{'emp1': {'name': 'Jhon', 'salary': 7500}, 'emp2': {'name': 'Emma', 'salary': 8000}, 'emp3': {'name': 'Brad', 'salary': 8500}}\n"
     ]
    }
   ],
   "source": [
    "\"\"\"\n",
    "Дан словарь {'emp1': {'name': 'Jhon', 'salary': 7500},\n",
    "'emp2': {'name': 'Emma', 'salary': 8000},\n",
    "'emp3': {'name': 'Brad', 'salary': 6500}}.\n",
    "Измените значение зарплаты Брэда с 6500 до 8500.\n",
    "\"\"\"\n",
    "\n",
    "d = {'emp1': {'name': 'Jhon', 'salary': 7500},\n",
    "     'emp2': {'name': 'Emma', 'salary': 8000},\n",
    "     'emp3': {'name': 'Brad', 'salary': 6500}}\n",
    "\n",
    "print(d['emp3'])\n",
    "print(d['emp3']['salary'])\n",
    "\n",
    "d['emp3']['salary'] = 8500\n",
    "\n",
    "print(d)"
   ],
   "metadata": {
    "collapsed": false,
    "pycharm": {
     "name": "#%%\n"
    }
   }
  },
  {
   "cell_type": "code",
   "execution_count": 960,
   "outputs": [
    {
     "name": "stdout",
     "output_type": "stream",
     "text": [
      "dict_values([100, -54, 247])\n",
      "Summa:  293\n"
     ]
    }
   ],
   "source": [
    "\"\"\"\n",
    "Дан словарь {'data1': 100, 'data2': -54, 'data3': 247}.\n",
    "Найти сумму значений словаря.\n",
    "\"\"\"\n",
    "\n",
    "d = {'data1': 100, 'data2': -54, 'data3': 247}\n",
    "values = d.values()\n",
    "print(values)\n",
    "\n",
    "sum_v = sum(values)\n",
    "print('Summa: ', sum_v)"
   ],
   "metadata": {
    "collapsed": false,
    "pycharm": {
     "name": "#%%\n"
    }
   }
  },
  {
   "cell_type": "code",
   "execution_count": 961,
   "outputs": [
    {
     "name": "stdout",
     "output_type": "stream",
     "text": [
      "{'name': 'Kelly', 'age': 25, 'salary': 8000, 'location': 'New York'}\n"
     ]
    }
   ],
   "source": [
    "\"\"\"\n",
    "Дан словарь {'name': 'Kelly', 'age': 25, 'salary': 8000, 'city': 'New York'}.\n",
    "Переименовать ключ ‘city’ в ‘location’.\n",
    "\"\"\"\n",
    "\n",
    "d = {'name': 'Kelly', 'age': 25, 'salary': 8000, 'city': 'New York'}\n",
    "\n",
    "d['location'] = d.pop('city')\n",
    "print(d)\n"
   ],
   "metadata": {
    "collapsed": false,
    "pycharm": {
     "name": "#%%\n"
    }
   }
  },
  {
   "cell_type": "code",
   "execution_count": 962,
   "outputs": [
    {
     "name": "stdout",
     "output_type": "stream",
     "text": [
      "abc False\n",
      "xyz False\n",
      "aba True\n",
      "1221 True\n"
     ]
    }
   ],
   "source": [
    "\"\"\"\n",
    "Дан список, состоящий из 4х элементов: 'abc', 'xyz', 'aba', '1221'.\n",
    "Проверить для каждого элемента выполнение следующих условий:\n",
    "длина элемента больше 2х и первый и последний символ у него совпадают.\n",
    "\"\"\"\n",
    "\n",
    "l = ['abc', 'xyz', 'aba', '1221']\n",
    "\n",
    "elem = l[0]\n",
    "print(elem, len(elem) > 2 and elem[0] == elem[-1])\n",
    "\n",
    "elem = l[1]\n",
    "print(elem, len(elem) > 2 and elem[0] == elem[-1])\n",
    "\n",
    "elem = l[2]\n",
    "print(elem, len(elem) > 2 and elem[0] == elem[-1])\n",
    "\n",
    "elem = l[3]\n",
    "print(elem, len(elem) > 2 and elem[0] == elem[-1])"
   ],
   "metadata": {
    "collapsed": false,
    "pycharm": {
     "name": "#%%\n"
    }
   }
  },
  {
   "cell_type": "code",
   "execution_count": 963,
   "outputs": [
    {
     "name": "stdout",
     "output_type": "stream",
     "text": [
      "a > b:  9 17 False\n",
      "a != (b-c):  9 12 True\n",
      "b == (a+c):  17 14 False\n",
      "c <= (a + b):  5 26 True\n",
      "c < a < b:  5 9 17 True\n",
      "b > a or b > c:  17 9 5 True\n"
     ]
    }
   ],
   "source": [
    "\"\"\"\n",
    "Создать переменные a, b, c и присвоить им значения 9, 17 и 5 соответственно. Проверить выполнение следующих условий:\n",
    "- a больше b\n",
    "- a не равно разности b и c\n",
    "- b равно сумме a и c\n",
    "- c меньше или равно сумме a и b\n",
    "- a меньше b, но больше c\n",
    "- b больше a или b больше c\n",
    "\"\"\"\n",
    "a = 9\n",
    "b = 17\n",
    "c = 5\n",
    "\n",
    "print('a > b: ', a, b, a > b)\n",
    "print('a != (b-c): ', a, b - c, a != (b - c))\n",
    "print('b == (a+c): ', b, a + c, b == (a + c))\n",
    "print('c <= (a + b): ', c, a + b, c <= a + b)\n",
    "print('c < a < b: ', c, a, b, c < a < b)\n",
    "print('b > a or b > c: ', b, a, c, b > a or b > c)"
   ],
   "metadata": {
    "collapsed": false,
    "pycharm": {
     "name": "#%%\n"
    }
   }
  },
  {
   "cell_type": "code",
   "execution_count": 964,
   "outputs": [
    {
     "name": "stdout",
     "output_type": "stream",
     "text": [
      "['green', 'white', 'black'] ['red', 'pink', 'yellow']\n"
     ]
    }
   ],
   "source": [
    "\"\"\"\n",
    "Дан список цветов: 'red', 'green', 'white', 'black', 'pink', 'yellow'.\n",
    "Создайте еще один список и переместите в него 1-ый, 5-ый и 6-ой элементы.\n",
    "\"\"\"\n",
    "\n",
    "colors = ['red', 'green', 'white', 'black', 'pink', 'yellow']\n",
    "new_colors = [colors.pop(0), colors.pop(4 - 1), colors.pop(5 - 2)]\n",
    "\n",
    "print(colors, new_colors)"
   ],
   "metadata": {
    "collapsed": false,
    "pycharm": {
     "name": "#%%\n"
    }
   }
  },
  {
   "cell_type": "code",
   "execution_count": 965,
   "outputs": [
    {
     "name": "stdout",
     "output_type": "stream",
     "text": [
      "1\n"
     ]
    }
   ],
   "source": [
    "\"\"\"\n",
    "Дано логическое выражение ¬А ˄ (С ˅ А) ˄ (В ˅ ¬С).\n",
    "Укажите значения логических переменных A, B и С, при которых значение выражения будет ложным.\n",
    "\n",
    "a   b   c   not a   c or a      b or not c      f\n",
    "0   0   0   1       0           1               0\n",
    "0   0   1   1       1           0               0\n",
    "0   1   0   1       0           1               0\n",
    "0   1   1   1       1           1               1       +\n",
    "1   0   0   0       1           1               0\n",
    "1   0   1   0       1           0               0\n",
    "1   1   0   0       1           1               0\n",
    "1   1   1   0       1           1               0\n",
    "\"\"\"\n",
    "\n",
    "a = 0\n",
    "b = 1\n",
    "c = 1\n",
    "\n",
    "f = not a and (c or a) and (b or not c)\n",
    "print(f)"
   ],
   "metadata": {
    "collapsed": false,
    "pycharm": {
     "name": "#%%\n"
    }
   }
  },
  {
   "cell_type": "code",
   "execution_count": 966,
   "outputs": [
    {
     "name": "stdout",
     "output_type": "stream",
     "text": [
      "Type a:  <class 'int'> , id:  2804468574640\n",
      "Type b:  <class 'int'> , id:  2804468574864\n",
      "Type c:  <class 'float'> , id:  2804576174640\n",
      "Id a:  2804468574864 , id a == id b:  True\n",
      "Id a:  2804576174640 , id a == id c:  True\n",
      "id D:  2804468766960\n",
      "id E:  2804468766960\n",
      "id F:  2804468766960\n",
      "id D == id E == id F:  True\n"
     ]
    }
   ],
   "source": [
    "\"\"\"\n",
    "Выполнить следующие действия:\n",
    "- создать переменную А и присвоить ей значение 5.\n",
    "Вывести на экран тип данных и идентификатор созданного объекта.\n",
    "- создать переменную В и присвоить ей значение 12.\n",
    "Вывести на экран тип данных и идентификатор созданного объекта.\n",
    "- создать переменную С и присвоить ей значение 5.7.\n",
    "Вывести на экран тип данных и идентификатор созданного объекта.\n",
    "- присвоить переменной А значение 12. Проверить, изменился ли ее идентификатор,\n",
    "и совпадает ли он с идентификатором переменной В. Почему?\n",
    "- присвоить переменной А значение переменной С.\n",
    "Проверить, изменился ли ее идентификатор, и совпадает ли он с идентификатором переменной С.\n",
    "Почему?\n",
    "- путем множественного присваивания создать переменные D, E и F и присвоить каждой из них значение 125.\n",
    "Вывести на экран и сравнить между собой идентификаторы созданных объектов.\n",
    "\"\"\"\n",
    "\n",
    "a = 5\n",
    "print('Type a: ', type(a), ', id: ', id(a))\n",
    "\n",
    "b = 12\n",
    "print('Type b: ', type(b), ', id: ', id(b))\n",
    "\n",
    "c = 5.7\n",
    "print('Type c: ', type(c), ', id: ', id(c))\n",
    "\n",
    "a = 12\n",
    "print('Id a: ', id(a), ', id a == id b: ', id(a) == id(b))\n",
    "\n",
    "a = c\n",
    "print('Id a: ', id(a), ', id a == id c: ', id(a) == id(c))\n",
    "\n",
    "D = E = F = 125\n",
    "print('id D: ', id(D))\n",
    "print('id E: ', id(E))\n",
    "print('id F: ', id(F))\n",
    "print('id D == id E == id F: ', id(D) == id(E) == id(F))"
   ],
   "metadata": {
    "collapsed": false,
    "pycharm": {
     "name": "#%%\n"
    }
   }
  },
  {
   "cell_type": "code",
   "execution_count": 967,
   "outputs": [
    {
     "name": "stdout",
     "output_type": "stream",
     "text": [
      "y1 =  -4998.0\n",
      "y2 =  1.0\n"
     ]
    }
   ],
   "source": [
    "\"\"\"\n",
    "Написать программу для вычисления значения выражений.\n",
    "Проверить правильность выполнения задания с помощью тестовых значений.\n",
    "\n",
    "y1 = ((1+a+a^2)/(2a+a^2) + 2 - (1-a+a^2)/(2a-a^2))^-1 * (5-2a^2)\n",
    "\n",
    "y2 = 1/4 * (sin(a+b-g) + sin(b+g-a) + sin(g+a-b) - sin(a+b+g))\n",
    "\n",
    "--------------------\n",
    "Тестовые значения:\n",
    "\n",
    "a       y1\n",
    "10      -48\n",
    "50      -1248\n",
    "100     -4998\n",
    "\n",
    "a (grad)  b (grad)  g (grad)    rad         y2\n",
    "0           0           0        0          0\n",
    "30          30          30      0.471       0.125\n",
    "60          60          60      0.942       0.650\n",
    "90          90          90      1.414       1\n",
    "\"\"\"\n",
    "\n",
    "import math\n",
    "\n",
    "a = 100\n",
    "y1 = math.pow(((1 + a + a ** 2) / (2 * a + a ** 2) + 2 - (1 - a + a ** 2) / (2 * a - a ** 2)), -1) * (5 - 2 * a ** 2)\n",
    "print('y1 = ', y1)\n",
    "\n",
    "a = math.radians(90)\n",
    "b = math.radians(90)\n",
    "g = math.radians(90)\n",
    "\n",
    "y2 = 1 / 4 * (math.sin(a + b - g) + math.sin(b + g - a) + math.sin(g + a - b) - math.sin(a + b + g))\n",
    "print('y2 = ', y2)"
   ],
   "metadata": {
    "collapsed": false,
    "pycharm": {
     "name": "#%%\n"
    }
   }
  },
  {
   "cell_type": "code",
   "execution_count": 968,
   "outputs": [
    {
     "name": "stdout",
     "output_type": "stream",
     "text": [
      "is True:  False\n",
      "is False:  False\n"
     ]
    }
   ],
   "source": [
    "\"\"\"\n",
    "Создать пустую переменную. Проверить ее на истинность и ложность.\n",
    "Объясните полученный результат.\n",
    "\"\"\"\n",
    "a = None\n",
    "print('is True: ', a is True)\n",
    "print('is False: ', a is False)"
   ],
   "metadata": {
    "collapsed": false,
    "pycharm": {
     "name": "#%%\n"
    }
   }
  },
  {
   "cell_type": "code",
   "execution_count": 969,
   "outputs": [
    {
     "name": "stdout",
     "output_type": "stream",
     "text": [
      "b'r'\n",
      "b'resta$t'\n"
     ]
    }
   ],
   "source": [
    "\"\"\"\n",
    "Дана байтовая строка. Заменить в ней все вхождения первого символа на знак доллара $,\n",
    "кроме самого первого символа. Например, строка b’restart’ должна превратиться в строку b’resta$t’.\n",
    "\"\"\"\n",
    "\n",
    "byte_str = b'restart'\n",
    "\n",
    "first_symb = byte_str[0:1]\n",
    "print(first_symb)\n",
    "\n",
    "new_str = first_symb + byte_str[1:].replace(first_symb, b'$')\n",
    "print(new_str)"
   ],
   "metadata": {
    "collapsed": false,
    "pycharm": {
     "name": "#%%\n"
    }
   }
  },
  {
   "cell_type": "code",
   "execution_count": 970,
   "outputs": [
    {
     "name": "stdout",
     "output_type": "stream",
     "text": [
      "Noam\n"
     ]
    }
   ],
   "source": [
    "\"\"\"\n",
    "Спортивный обозреватель хранит записи о каждой спортивной команде следующим образом:\n",
    "первым в списке идет имя тренера команды, затем - капитана, и далее имена всех участников\n",
    "в соответствии с их порядковым номером игрока. Также у него имеется список всех спортивных команд,\n",
    "первое место в котором занимает лучшая команда, и далее по убывающей к самой худшей.\n",
    "Выведите на экран имя капитана худшей команды.\n",
    "\"\"\"\n",
    "\n",
    "team1 = ['Alex', 'Mark', 'Player1', 'Player2', 'Player3', 'Player4', 'Player5']\n",
    "team2 = ['Antony', 'Tom', 'Player1', 'Player2', 'Player3', 'Player4', 'Player5']\n",
    "team3 = ['Michael', 'Noam', 'Player1', 'Player2', 'Player3', 'Player4', 'Player5']\n",
    "\n",
    "common_list = [team2, team1, team3]\n",
    "\n",
    "print(common_list[-1][1])\n"
   ],
   "metadata": {
    "collapsed": false,
    "pycharm": {
     "name": "#%%\n"
    }
   }
  },
  {
   "cell_type": "code",
   "execution_count": 971,
   "outputs": [
    {
     "name": "stdout",
     "output_type": "stream",
     "text": [
      "В меру опоздавший:  True\n",
      "Опоздавший неприлично:  False\n"
     ]
    }
   ],
   "source": [
    "\"\"\"\n",
    "Дан список гостей, посетивших вечеринку, причем гости в этом списке располагаются в порядке их прибытия:\n",
    "Adela, Fleda, Owen, May, Mona, Gilbert, Ford (Adela приехала на вечеринку первая, а Ford - последний).\n",
    "Гость, прибывший после того, как половина гостей уже была на вечеринке, считается в меру опоздавшим,\n",
    "в то время как гость, прибывший последним, считается опоздавшим неприлично.\n",
    "Определите, попадают ли в одну из этих категорий (и если да, то в какую) следующие гости:\n",
    "May, Fleda, Gilbert и Ford.\n",
    "\"\"\"\n",
    "\n",
    "guests = ['Adela', 'Fleda', 'Owen', 'May', 'Mona', 'Gilbert', 'Ford']\n",
    "\n",
    "ind_v_meru_op = int(len(guests) / 2)\n",
    "ind_op_nepr = len(guests) - 1\n",
    "\n",
    "name = 'May'\n",
    "ind_name = guests.index(name)\n",
    "\n",
    "print('В меру опоздавший: ', ind_name >= ind_v_meru_op and ind_name != ind_op_nepr)\n",
    "print('Опоздавший неприлично: ', ind_name == ind_op_nepr)"
   ],
   "metadata": {
    "collapsed": false,
    "pycharm": {
     "name": "#%%\n"
    }
   }
  },
  {
   "cell_type": "code",
   "execution_count": 972,
   "outputs": [
    {
     "name": "stdout",
     "output_type": "stream",
     "text": [
      "-2 0 -5 1\n"
     ]
    }
   ],
   "source": [
    "\"\"\"\n",
    "Даны несколько списков: [-8, 1, 2, -2, 0], [1, 1, 0, 0, 2, -2, -2],\n",
    "[1, -1, 0, -9, 4, -5], [1, 4, 0, 23, 6, 34].\n",
    "Для каждого из списков найти второе наименьшее значение в нем\n",
    "(ответы: -2, 0, -5, 1)\n",
    "\"\"\"\n",
    "\n",
    "l1 = [-8, 1, 2, -2, 0]\n",
    "l2 = [1, 1, 0, 0, 2, -2, -2]\n",
    "l3 = [1, -1, 0, -9, 4, -5]\n",
    "l4 = [1, 4, 0, 23, 6, 34]\n",
    "\n",
    "s1 = sorted(set(l1))\n",
    "s2 = sorted(set(l2))\n",
    "s3 = sorted(set(l3))\n",
    "s4 = sorted(set(l4))\n",
    "\n",
    "print(s1[1], s2[1], s3[1], s4[1])"
   ],
   "metadata": {
    "collapsed": false,
    "pycharm": {
     "name": "#%%\n"
    }
   }
  },
  {
   "cell_type": "code",
   "execution_count": 973,
   "outputs": [
    {
     "name": "stdout",
     "output_type": "stream",
     "text": [
      "Summa:  5050\n"
     ]
    }
   ],
   "source": [
    "\"\"\"\n",
    "Дано некоторое целое число. Вывести на экран сумму всех целых чисел от 0 и до заданного числа включительно.\n",
    "\n",
    "_____________\n",
    "Тестовые значения:\n",
    "n = 10, sum = 55\n",
    "n = 50, sum = 1275\n",
    "n = 100, sum = 5050\n",
    "\"\"\"\n",
    "\n",
    "n = 100\n",
    "\n",
    "l = range(0, n + 1)\n",
    "sum_elem = sum(l)\n",
    "print('Summa: ', sum_elem)"
   ],
   "metadata": {
    "collapsed": false,
    "pycharm": {
     "name": "#%%\n"
    }
   }
  },
  {
   "cell_type": "code",
   "execution_count": 974,
   "outputs": [
    {
     "name": "stdout",
     "output_type": "stream",
     "text": [
      "Пароль является достаточно сложным:  False\n"
     ]
    }
   ],
   "source": [
    "\"\"\"\n",
    "Напишите программу, которая позволит выполнять проверку пароля на сложность в соответствии со следующими критериями:\n",
    "- длина пароля не менее 5 символов\n",
    "- содержит буквы латинского алфавита как в верхнем, так и в нижнем регистре: A-Z, a-z\n",
    "- содержит цифры от 0 до 9\n",
    "- содержит хотя бы один из символов: @, #, %, &\n",
    "\"\"\"\n",
    "\n",
    "psw = '&bCee'\n",
    "\n",
    "cond1 = len(psw) >= 5\n",
    "# print(cond1)\n",
    "cond2 = not psw.islower() and not psw.isupper()\n",
    "# print(cond2)\n",
    "cond3 = len({'1', '2', '3', '4', '5', '6', '7', '8', '9', '0'} & set(psw)) > 0\n",
    "# print(cond3, set(psw))\n",
    "cond4 = len({'@', '#', '%', '&'} & set(psw)) > 0\n",
    "# print(cond4)\n",
    "\n",
    "print('Пароль является достаточно сложным: ', cond1 and cond2 and cond3 and cond4)"
   ],
   "metadata": {
    "collapsed": false,
    "pycharm": {
     "name": "#%%\n"
    }
   }
  },
  {
   "cell_type": "code",
   "execution_count": 975,
   "outputs": [
    {
     "name": "stdout",
     "output_type": "stream",
     "text": [
      "Длина текста:  515\n",
      "Текст в нижнем регистре:  in a distant, but not so unrealistic, future where mankind has abandoned earth because it has become covered with trash from products sold by the powerful multi-national buy n large corporation, walle, a garbage collecting robot has been left to clean up the mess. mesmerized with trinkets of earth's history and show tunes, walle is alone on earth except for a sprightly pet cockroach. one day, eve, a sleek (and dangerous) reconnaissance robot, is sent to earth to  find proof that life is once again sustainable.\n",
      "Текст после замены имени:  In a distant, but not so unrealistic, future where mankind has abandoned earth because it has become covered with trash from products sold by the powerful multi-national Buy N Large corporation, WALL-E, a garbage collecting robot has been left to clean up the mess. Mesmerized with trinkets of Earth's history and show tunes, WALL-E is alone on Earth except for a sprightly pet cockroach. One day, EVE, a sleek (and dangerous) reconnaissance robot, is sent to Earth to  find proof that life is once again sustainable.\n",
      "Количество слова Earth:  3\n"
     ]
    }
   ],
   "source": [
    "\"\"\"\n",
    "Вы находитесь в квест-комнате по мультфильму WALL-E! Вы нашли записку:\n",
    "\"In a distant, but not so unrealistic, future where mankind has abandoned earth because it has become covered with trash from products sold by the powerful multi-national Buy N Large corporation, WALLE, a garbage collecting robot has been left to clean up the mess. Mesmerized with trinkets of Earth's history and show tunes, WALLE is alone on Earth except for a sprightly pet cockroach. One day, EVE, a sleek (and dangerous) reconnaissance robot, is sent to Earth to  find proof that life is once again sustainable.\"\n",
    "\n",
    "Чтобы выбраться из комнаты, необходимо выполнить следующие шаги:\n",
    "- вывести на экран длину текста в обнаруженной записке\n",
    "- вывести на экран весь текст в нижнем регистре\n",
    "- заменить все вхождения некорректно написанного имени WALLE на его правильную форму WALL-E.\n",
    "- подсчитать, сколько раз в тексте было использовано слово Earth.\n",
    "\"\"\"\n",
    "\n",
    "text = \"In a distant, but not so unrealistic, future where mankind has abandoned \"\"earth because it has become covered with trash from products sold by the \"\"powerful multi-national Buy N Large corporation, WALLE, a garbage collecting \"\"robot has been left to clean up the mess. Mesmerized with trinkets of Earth's \"\"history and show tunes, WALLE is alone on Earth except for a sprightly pet cockroach. \"\"One day, EVE, a sleek (and dangerous) reconnaissance robot, is sent to Earth to  \"\"find proof that life is once again sustainable.\"\n",
    "\n",
    "print('Длина текста: ', len(text))\n",
    "#text = text.lower()\n",
    "print('Текст в нижнем регистре: ', text.lower())\n",
    "text = text.replace('WALLE', 'WALL-E')\n",
    "print('Текст после замены имени: ', text)\n",
    "print('Количество слова Earth: ', text.count('Earth'))"
   ],
   "metadata": {
    "collapsed": false,
    "pycharm": {
     "name": "#%%\n"
    }
   }
  },
  {
   "cell_type": "code",
   "execution_count": 976,
   "outputs": [
    {
     "name": "stdout",
     "output_type": "stream",
     "text": [
      "What is your favourite programming language?\n",
      "b'\\xd7\\xa8\\xa3\\x88\\x96\\x95Z'\n"
     ]
    }
   ],
   "source": [
    "\"\"\"\n",
    "Вам пришло закодированное методом cp037 сообщение:\n",
    "'\\xe6\\x88\\x81\\xa3@\\x89\\xa2@\\xa8\\x96\\xa4\\x99@\\x86\\x81\\xa5\\x96\\xa4\\x99\\x89\\xa3\\x85@\\x97\\x99\\x96\\x87\\x99\\x81\\x94\\x94\\x89\\x95\\x87@\\x93\\x81\\x95\\x87\\xa4\\x81\\x87\\x85o'.\n",
    "\n",
    "Напишите ответ и закодируйте его тем же методом.\n",
    "В случае возникновения ошибки кодирования-декодирования, проигнорируйте ее.\n",
    "\"\"\"\n",
    "\n",
    "encoded_msg = b'\\xe6\\x88\\x81\\xa3@\\x89\\xa2@\\xa8\\x96\\xa4\\x99@\\x86\\x81\\xa5'b'\\x96\\xa4\\x99\\x89\\xa3\\x85@\\x97\\x99\\x96\\x87\\x99\\x81\\x94\\x94'b'\\x89\\x95\\x87@\\x93\\x81\\x95\\x87\\xa4\\x81\\x87\\x85o'\n",
    "\n",
    "decoded_msg = encoded_msg.decode(encoding='cp037', errors='ignore')\n",
    "print(decoded_msg)\n",
    "\n",
    "answ = 'Python!'\n",
    "encoded_answ = answ.encode(encoding='cp037', errors='ignore')\n",
    "print(encoded_answ)"
   ],
   "metadata": {
    "collapsed": false,
    "pycharm": {
     "name": "#%%\n"
    }
   }
  },
  {
   "cell_type": "code",
   "execution_count": 977,
   "outputs": [
    {
     "name": "stdout",
     "output_type": "stream",
     "text": [
      "24\n",
      " \n",
      "y\n"
     ]
    }
   ],
   "source": [
    "\"\"\"\n",
    "Подсчитайте количество уникальных символов в высказывании Уильяма Шекспира:\n",
    "\"All the world's a stage, and all the men and women merely players.\n",
    "They have their exits and their entrances; and one man in his time plays many parts.\"\n",
    "(одна и та же буква в разных регистрах считается как один символ).\n",
    "Согласно таблице ASCII какой из символов данного высказывания является минимальным, а какой максимальным?\n",
    "\"\"\"\n",
    "\n",
    "s = \"All the world's a stage, and all the men and women merely players. \"\"They have their exits and their entrances; and one man in his time plays many parts.\"\n",
    "\n",
    "s = s.lower()\n",
    "str_set = set(s)\n",
    "print(len(str_set))\n",
    "\n",
    "print(min(str_set))\n",
    "print(max(str_set))"
   ],
   "metadata": {
    "collapsed": false,
    "pycharm": {
     "name": "#%%\n"
    }
   }
  },
  {
   "cell_type": "code",
   "execution_count": 978,
   "outputs": [
    {
     "name": "stdout",
     "output_type": "stream",
     "text": [
      "Все призеры:  ['Evgeniya', 'Michail', 'Natalia', 'Matvei', 'Alexandr', 'Maxim']\n",
      "Призеры обеих олимпиад:  {'Matvei', 'Maxim'}\n",
      "Обновленный список призеров по математике:  {'Matvei', 'Maxim'}\n"
     ]
    }
   ],
   "source": [
    "\"\"\"\n",
    "Среди учеников старших классов провели олимпиады по физике и математике.\n",
    "Результаты выглядят следующим образом: на олимпиаде по математике 1 место занял Матвей,\n",
    "2 место - Евгения, 3 место - Михаил, 4 место - Максим и 5 место - Наталья,\n",
    "а в олимпиаде по физике призовая тройка выглядит следующим образом: 1 место - Максим,\n",
    "2 место - Матвей и 3 место - Александр. Администрацией школы было решено наградить всех победителей,\n",
    "а также особый приз выдать ребятам, занявшим призовые места по двум дисциплинам сразу.\n",
    "Создайте общий список победителей двух олимпиад.\n",
    "Список призеров в олимпиаде по математике отредактируйте и удалите из него тех ребят,\n",
    "которые не вошли в тройку призеров в олимпиаде по физике, после чего удалите список призеров по физике.\n",
    "\"\"\"\n",
    "\n",
    "math = {'Matvei', 'Evgeniya', 'Michail', 'Maxim', 'Natalia'}\n",
    "physics = {'Maxim', 'Matvei', 'Alexandr'}\n",
    "\n",
    "all = math | physics\n",
    "print('Все призеры: ', list(all))\n",
    "\n",
    "both = math & physics\n",
    "print('Призеры обеих олимпиад: ', both)\n",
    "\n",
    "math = both\n",
    "print('Обновленный список призеров по математике: ', math)\n",
    "del physics"
   ],
   "metadata": {
    "collapsed": false,
    "pycharm": {
     "name": "#%%\n"
    }
   }
  },
  {
   "cell_type": "code",
   "execution_count": 979,
   "outputs": [
    {
     "name": "stdout",
     "output_type": "stream",
     "text": [
      "bytearray(b'Th$e *ly-ri cs; i!s >no>t *th&at$ p=oo+r!$')\n",
      "The lyrics is not that poor!\n"
     ]
    }
   ],
   "source": [
    "\"\"\"\n",
    "Дана строка: \"Th$e *ly-ri cs; i!s >no>t *th&at$ p=oo+r!$\".\n",
    "Представить данную строку в виде массива байт и удалить из нее каждый третий символ, начиная с третьего.\n",
    "Вывести полученную строку на экран.\n",
    "\"\"\"\n",
    "\n",
    "s = \"Th$e *ly-ri cs; i!s >no>t *th&at$ p=oo+r!$\"\n",
    "byte_arr = bytearray(s.encode())\n",
    "print(byte_arr)\n",
    "\n",
    "del byte_arr[2::3]\n",
    "print(byte_arr.decode())"
   ],
   "metadata": {
    "collapsed": false,
    "pycharm": {
     "name": "#%%\n"
    }
   }
  },
  {
   "cell_type": "code",
   "execution_count": 980,
   "outputs": [
    {
     "name": "stdout",
     "output_type": "stream",
     "text": [
      "Union:  {1, 2, 3, 4, 5, 6, 7, 8}\n",
      "Intersection:  {4, 5}\n",
      "Sym difference:  {1, 2, 3, 6, 7, 8}\n",
      "s1 uniq elements:  {1, 2, 3}\n",
      "s2 is superset for  {4, 5, 7} :  True\n",
      "s2 is superset for  {8, 3, 4} :  False\n",
      "s2 is right superset for  {4, 5, 6, 7, 8} :  False\n"
     ]
    }
   ],
   "source": [
    "\"\"\"\n",
    "Дано два множества {1, 2, 3, 4, 5} и {4, 5, 6, 7, 8}. Найти:\n",
    "- объединение множеств\n",
    "- пересечение множеств\n",
    "- симметричную разность множеств\n",
    "- элементы из второго множества, входящие в первое, и удалить их из первого\n",
    "- является ли второе множество супермножеством для {5, 7, 4} и {8, 4, 3}\n",
    "- является ли второе множество правильным супермножеством для {5, 8, 4, 7, 6}\n",
    "\"\"\"\n",
    "\n",
    "s1 = {1, 2, 3, 4, 5}\n",
    "s2 = {4, 5, 6, 7, 8}\n",
    "\n",
    "print('Union: ', s1 | s2)\n",
    "print('Intersection: ', s1 & s2)\n",
    "print('Sym difference: ', s1 ^ s2)\n",
    "\n",
    "common_elems = s1 & s2\n",
    "s1 -= common_elems\n",
    "print('s1 uniq elements: ', s1)\n",
    "\n",
    "tmp_s = {5, 7, 4}\n",
    "print('s2 is superset for ', tmp_s, ': ', s2 >= tmp_s)\n",
    "\n",
    "tmp_s = {8, 4, 3}\n",
    "print('s2 is superset for ', tmp_s, ': ', s2 >= tmp_s)\n",
    "\n",
    "tmp_s = {5, 8, 4, 7, 6}\n",
    "print('s2 is right superset for ', tmp_s, ': ', s2 > tmp_s)"
   ],
   "metadata": {
    "collapsed": false,
    "pycharm": {
     "name": "#%%\n"
    }
   }
  },
  {
   "cell_type": "code",
   "execution_count": 981,
   "outputs": [
    {
     "name": "stdout",
     "output_type": "stream",
     "text": [
      "Общая стоимость:  4600\n",
      "['laptop', 'music player', 'phone', 'playstation', 'smart watch', 'tablet']\n",
      "['tablet', 'smart watch', 'playstation', 'phone', 'music player', 'laptop']\n",
      "{'smart watch': 550, 'phone': 1000, 'playstation': 500, 'laptop': 1550, 'music player': 300, 'tablet': 400}\n",
      "9650 25 10000\n",
      "Приз:  tablet\n",
      "{'smart watch': 550, 'phone': 1000, 'playstation': 500, 'laptop': 1550, 'music player': 300}\n",
      "{'smart watch': 550, 'phone': 1000, 'playstation': 500, 'laptop': 1550, 'music player': 850, 'iphone': 1300, 'headphones': 200}\n"
     ]
    }
   ],
   "source": [
    "\"\"\"\n",
    "Дан список товаров и их цены: {'smart watch': 550, 'phone': 1000, 'playstation': 500, 'laptop': 1550,\n",
    "'music player': 600, 'tablet': 400}.\n",
    "\n",
    "- выведите на экран общую стоимость всех товаров\n",
    "- выведите на экран названия товаров в алфавитном порядке, а затем наоборот\n",
    "- все музыкальные плееры кроме одного были распроданы, поэтому на последний экземпляр магазин решил сделать 50% скидку.\n",
    "Внесите соответствующие изменения в список товаров.\n",
    "- сколько планшетов необходимо продать магазину, чтобы превысить выручку, полученную от продажи пяти телефонов и трех ноутбуков?\n",
    "- магазин решил провести лотерею среди своих постоянных покупателей. Выберите произвольным образом приз для победителя лотереи,\n",
    "а затем удалите его из списка.\n",
    "- в магазин поступило несколько новых устройств: 'iphone' - 1300, 'music player' - 850, 'headphones' - 200.\n",
    "Обновите список товаров и их цены.\n",
    "\"\"\"\n",
    "from math import ceil\n",
    "\n",
    "goods = {'smart watch': 550, 'phone': 1000, 'playstation': 500,\n",
    "         'laptop': 1550, 'music player': 600, 'tablet': 400}\n",
    "\n",
    "print('Общая стоимость: ', sum(goods.values()))\n",
    "\n",
    "goods_names = goods.keys()\n",
    "print(sorted(goods_names))\n",
    "print(sorted(goods_names, reverse=True))\n",
    "\n",
    "goods['music player'] = int(goods['music player'] * 0.5)\n",
    "print(goods)\n",
    "\n",
    "sum = 5 * goods['phone'] + 3 * goods['laptop']\n",
    "tablet_count = ceil(sum / goods['tablet'])\n",
    "print(sum, tablet_count, tablet_count * goods['tablet'])\n",
    "\n",
    "prize = goods.popitem()\n",
    "print(\"Приз: \", prize[0])\n",
    "print(goods)\n",
    "\n",
    "goods.update({'iphone': 1300, 'music player': 850, 'headphones': 200})\n",
    "print(goods)"
   ],
   "metadata": {
    "collapsed": false,
    "pycharm": {
     "name": "#%%\n"
    }
   }
  },
  {
   "cell_type": "code",
   "execution_count": 982,
   "outputs": [
    {
     "name": "stdout",
     "output_type": "stream",
     "text": [
      "Interfaces count:  4\n",
      "The second interface:  {'interface': 'Ethernet1', 'ip': '2.2.2.2', 'status': 'down'}\n",
      "The last interface:  {'interface': 'Serial1', 'ip': '4.4.4.4', 'status': 'up'}\n",
      "{'interface': 'Ethernet0', 'ip': '1.1.1.1', 'status': 'up', 'notes': 'need to reset'}\n",
      "[{'interface': 'Ethernet0', 'ip': '1.1.1.1', 'status': 'up', 'notes': 'need to reset'}, {'interface': 'Ethernet1', 'ip': '2.2.2.2', 'status': 'down'}, {'interface': 'Serial0', 'ip': '3.3.3.4', 'status': 'up'}, {'interface': 'Serial1', 'ip': '4.4.4.4', 'status': 'up'}, {'interface': 'Ethernet2', 'ip': '3.3.3.3', 'status': 'down'}]\n",
      "need to reset\n",
      "[{'interface': 'Ethernet0', 'ip': '1.1.1.1', 'status': 'up'}, {'interface': 'Ethernet1', 'ip': '2.2.2.2', 'status': 'down'}, {'interface': 'Serial0', 'ip': '3.3.3.4', 'status': 'up'}, {'interface': 'Serial1', 'ip': '4.4.4.4', 'status': 'up'}, {'interface': 'Ethernet2', 'ip': '3.3.3.3', 'status': 'down'}]\n",
      "{'interface': 'Serial1', 'ip': '4.4.4.4', 'status': 'down'}\n",
      "[{'interface': 'Ethernet0', 'ip': '1.1.1.1', 'status': 'up'}, {'interface': 'Ethernet1', 'ip': '2.2.2.2', 'status': 'down'}, {'interface': 'Serial0', 'ip': '3.3.3.4', 'status': 'up'}, {'interface': 'Ethernet2', 'ip': '3.3.3.3', 'status': 'down'}]\n"
     ]
    }
   ],
   "source": [
    "\"\"\"\n",
    "Перечень сетевых интерфейсов и основная информация о них представлены в виде следующей структуры данных:\n",
    "[{'interface': 'Ethernet0', 'ip': '1.1.1.1', 'status': 'up'},\n",
    "{'interface': 'Ethernet1', 'ip': '2.2.2.2', 'status': 'down'},\n",
    "{'interface': 'Serial0', 'ip': '3.3.3.3', 'status': 'up'},\n",
    "{'interface': 'Serial1', 'ip': '4.4.4.4', 'status': 'up'}].\n",
    "\n",
    "- выведите на экран общее количество интерфейсов\n",
    "- выведите на экран информацию (название, ip-адрес и статус), соответствующую второму интерфейсу в списке\n",
    "- выведите на экран статус последнего интерфейса в списке\n",
    "- проверьте, добавлена ли графа 'notes' для первого интерфейса и выведите ее содержимое на экран.\n",
    "Если такой графы нет, то сперва добавьте ее с текстом \"need to reset\"\n",
    "- добавьте в список еще один ethernet интерфейс с ip-адресом, как у третьего интерфейса, и статусом 'down'.\n",
    "После этого измените ip-адрес третьего интерфейса на '3.3.3.4'\n",
    "- выведите на экран содержимое графы 'notes' первого интерфейса, а затем удалите ее\n",
    "- переведите четвертый интерфейс в состояние 'down', а затем удалите его из списка\n",
    "\"\"\"\n",
    "\n",
    "interf = [{'interface': 'Ethernet0', 'ip': '1.1.1.1', 'status': 'up'},\n",
    "          {'interface': 'Ethernet1', 'ip': '2.2.2.2', 'status': 'down'},\n",
    "          {'interface': 'Serial0', 'ip': '3.3.3.3', 'status': 'up'},\n",
    "          {'interface': 'Serial1', 'ip': '4.4.4.4', 'status': 'up'}]\n",
    "\n",
    "print('Interfaces count: ', len(interf))\n",
    "print('The second interface: ', interf[1])\n",
    "print('The last interface: ', interf[-1])\n",
    "\n",
    "interf[0].setdefault('notes', \"need to reset\")\n",
    "print(interf[0])\n",
    "\n",
    "interf.append({'interface': 'Ethernet2', 'ip': interf[2]['ip'], 'status': 'down'})\n",
    "interf[2]['ip'] = '3.3.3.4'\n",
    "print(interf)\n",
    "\n",
    "print(interf[0].pop('notes'))\n",
    "print(interf)\n",
    "\n",
    "interf[3]['status'] = 'down'\n",
    "print(interf[3])\n",
    "\n",
    "del interf[3]\n",
    "print(interf)"
   ],
   "metadata": {
    "collapsed": false,
    "pycharm": {
     "name": "#%%\n"
    }
   }
  },
  {
   "cell_type": "code",
   "execution_count": 983,
   "outputs": [
    {
     "name": "stdout",
     "output_type": "stream",
     "text": [
      "50a  is  wrong value\n"
     ]
    }
   ],
   "source": [
    "\"\"\"\n",
    "Написать программу, которая будет конвертировать значение температуры\n",
    "из градусов Цельсия в Фаренгейты и наоборот.\n",
    "Входные данные: 60C, 45F, ….\n",
    "Результат: 140F, 7C, ….\n",
    "Расчетные формулы:\n",
    "\n",
    "c = (F-32) * 5/9\n",
    "F = C * 9/5 + 32\n",
    "\n",
    "______________\n",
    "Тестовые значения:\n",
    "60С     140F\n",
    "90C     194F\n",
    "100c    212F\n",
    "\n",
    "45F     7.22С\n",
    "90F     32.22С\n",
    "125f    51.67С\n",
    "\n",
    "50a     wrong value\n",
    "\"\"\"\n",
    "\n",
    "t = '50a'\n",
    "\n",
    "suffix = t[-1]\n",
    "val = int(t[:-1])\n",
    "\n",
    "if suffix in ['C', 'c']:\n",
    "    conv_val = val * 9 / 5 + 32\n",
    "    res = str(round(conv_val, 2)) + \"F\"\n",
    "elif suffix in ['F', 'f']:\n",
    "    conv_val = (val - 32) * 5 / 9\n",
    "    res = str(round(conv_val, 2)) + \"C\"\n",
    "else:\n",
    "    res = 'wrong value'\n",
    "\n",
    "print(t, ' is ', res)"
   ],
   "metadata": {
    "collapsed": false,
    "pycharm": {
     "name": "#%%\n"
    }
   }
  },
  {
   "cell_type": "code",
   "execution_count": 984,
   "outputs": [
    {
     "name": "stdout",
     "output_type": "stream",
     "text": [
      "-0.69 -1.81\n"
     ]
    }
   ],
   "source": [
    "\"\"\"\n",
    "Составить программу нахождения действительных и комплексных корней\n",
    "квадратного уравнения ax^2 + bx + c = 0.\n",
    "Исходные данные: a, b, c\n",
    "Результат: действительные корни: x1 и x2, -\n",
    "или комплексные корни: x1 + ix2 и x1 - ix2\n",
    "\n",
    "___________________\n",
    "Тестовые значения:\n",
    "a   b   c       x1      x2\n",
    "2   4   10      -1+2i   -1-2i\n",
    "4   10  5       -0.69   -1.81\n",
    "\"\"\"\n",
    "from math import sqrt, fabs\n",
    "\n",
    "a = 4\n",
    "b = 10\n",
    "c = 5\n",
    "\n",
    "D = b ** 2 - 4 * a * c\n",
    "if D >= 0:\n",
    "    x1 = (-b + sqrt(D)) / (2 * a)\n",
    "    x2 = (-b - sqrt(D)) / (2 * a)\n",
    "    print(round(x1, 2), round(x2, 2))\n",
    "else:\n",
    "    x1 = -b / (2 * a)\n",
    "    x2 = sqrt(fabs(D)) / (2 * a)\n",
    "    print(complex(x1, x2), complex(x1, -x2))"
   ],
   "metadata": {
    "collapsed": false,
    "pycharm": {
     "name": "#%%\n"
    }
   }
  },
  {
   "cell_type": "code",
   "execution_count": 985,
   "outputs": [
    {
     "name": "stdout",
     "output_type": "stream",
     "text": [
      "12.83 1.17\n"
     ]
    }
   ],
   "source": [
    "\"\"\"\n",
    "Написать программу решения квадратного уравнения\n",
    "ax2 + bx + c = 0\n",
    "\n",
    "Исходные данные: a, b, c\n",
    "Результат: корни квадратного уравнения x1 и x2 или сообщение о том, что корней нет.\n",
    "\n",
    "___________________\n",
    "Тестовые значения:\n",
    "a   b   c       x1      x2\n",
    "2   4   10      корней нет\n",
    "4   10  5       -0.69   -1.81\n",
    "1  -14 15       12.83   1.17\n",
    "\"\"\"\n",
    "from math import sqrt\n",
    "\n",
    "a = 1\n",
    "b = -14\n",
    "c = 15\n",
    "\n",
    "D = b ** 2 - 4 * a * c\n",
    "if D >= 0:\n",
    "    x1 = (-b + sqrt(D)) / (2 * a)\n",
    "    x2 = (-b - sqrt(D)) / (2 * a)\n",
    "    print(round(x1, 2), round(x2, 2))\n",
    "else:\n",
    "    print(\"Корней нет\")"
   ],
   "metadata": {
    "collapsed": false,
    "pycharm": {
     "name": "#%%\n"
    }
   }
  },
  {
   "cell_type": "code",
   "execution_count": 986,
   "outputs": [
    {
     "name": "stdout",
     "output_type": "stream",
     "text": [
      "20\n"
     ]
    }
   ],
   "source": [
    "\"\"\"\n",
    "Напишите программу расчета суммы двух целых чисел.\n",
    "Однако, если полученная сумма находится в интервале от 15 до 20,\n",
    "вывести на экран число 20.\n",
    "\"\"\"\n",
    "\n",
    "a = 10\n",
    "b = 8\n",
    "\n",
    "sum = a + b\n",
    "\n",
    "if sum in range(15, 21):\n",
    "    print(20)\n",
    "else:\n",
    "    print(sum)\n"
   ],
   "metadata": {
    "collapsed": false,
    "pycharm": {
     "name": "#%%\n"
    }
   }
  },
  {
   "cell_type": "code",
   "execution_count": 987,
   "outputs": [
    {
     "name": "stdout",
     "output_type": "stream",
     "text": [
      "Треугольник равносторонний\n"
     ]
    }
   ],
   "source": [
    "\"\"\"\n",
    "Даны длины сторон треугольника.\n",
    "Проверить, является ли треугольник равносторонним, равнобедренным или разносторонним.\n",
    "\"\"\"\n",
    "a = 20\n",
    "b = 20\n",
    "c = 20\n",
    "\n",
    "if a == b == c:\n",
    "    print(\"Треугольник равносторонний\")\n",
    "elif a == b or b == c or a == c:\n",
    "    print(\"Треугольник равнобедренный\")\n",
    "else:\n",
    "    print(\"Треугольник разносторонний\")"
   ],
   "metadata": {
    "collapsed": false,
    "pycharm": {
     "name": "#%%\n"
    }
   }
  },
  {
   "cell_type": "code",
   "execution_count": 988,
   "outputs": [
    {
     "name": "stdout",
     "output_type": "stream",
     "text": [
      "1452 <class 'int'>\n",
      "11.23 <class 'float'>\n",
      "(1+2j) <class 'complex'>\n",
      "True <class 'bool'>\n",
      "hello, python! <class 'str'>\n",
      "(0, -1) <class 'tuple'>\n",
      "[5, 12] <class 'list'>\n",
      "{'class': 'v', 'section': 'A'} <class 'dict'>\n"
     ]
    }
   ],
   "source": [
    "\"\"\"\n",
    "Дан список: [1452, 11.23, 1+2j, True, 'hello, python!',\n",
    "(0, -1), [5, 12], {'class': 'v', 'section': 'A'}].\n",
    "Вывести на экран значение и тип данных для каждого элемента списка.\n",
    "\"\"\"\n",
    "l = [1452, 11.23, 1 + 2j, True, 'hello, python!', (0, -1), [5, 12], {'class': 'v', 'section': 'A'}]\n",
    "\n",
    "i = 0\n",
    "while i < len(l):\n",
    "    elem = l[i]\n",
    "    print(elem, type(elem))\n",
    "    i += 1\n"
   ],
   "metadata": {
    "collapsed": false,
    "pycharm": {
     "name": "#%%\n"
    }
   }
  },
  {
   "cell_type": "code",
   "execution_count": 989,
   "outputs": [
    {
     "name": "stdout",
     "output_type": "stream",
     "text": [
      "110\n"
     ]
    }
   ],
   "source": [
    "\"\"\"\n",
    "Вычислить сумму натуральных четных чисел, не превышающих заданное число N.\n",
    "2, 4, 6, 8, 10, ….\n",
    "\n",
    "--------------------\n",
    "Тестовые значения:\n",
    "\n",
    "N       sum\n",
    "10      30\n",
    "14      56\n",
    "20      110\n",
    "\"\"\"\n",
    "N = 20\n",
    "\n",
    "sum = 0\n",
    "i = 2\n",
    "\n",
    "while i <= N:\n",
    "    sum += i\n",
    "    i += 2\n",
    "\n",
    "print(sum)"
   ],
   "metadata": {
    "collapsed": false,
    "pycharm": {
     "name": "#%%\n"
    }
   }
  },
  {
   "cell_type": "code",
   "execution_count": 990,
   "outputs": [
    {
     "name": "stdout",
     "output_type": "stream",
     "text": [
      "0 1.0\n",
      "0.1 1.099\n",
      "0.2 1.195\n",
      "0.3 1.284\n",
      "0.4 1.36\n",
      "0.5 1.417\n",
      "0.6 1.452\n",
      "0.7 1.457\n",
      "0.8 1.428\n",
      "0.9 1.361\n",
      "1.0 1.253\n",
      "1.1 1.106\n",
      "1.2 0.92\n",
      "1.3 0.701\n",
      "1.4 0.455\n",
      "1.5 0.192\n",
      "1.6 -0.079\n",
      "1.7 -0.347\n",
      "1.8 -0.602\n",
      "1.9 -0.833\n",
      "2.0 -1.033\n",
      "2.1 -1.197\n",
      "2.2 -1.321\n",
      "2.3 -1.404\n",
      "2.4 -1.449\n",
      "2.5 -1.458\n",
      "2.6 -1.435\n",
      "2.7 -1.386\n",
      "2.8 -1.317\n",
      "2.9 -1.233\n",
      "3.0 -1.14\n",
      "3.1 -1.042\n"
     ]
    }
   ],
   "source": [
    "\"\"\"\n",
    "Вывести на экран значения функции\n",
    "\t\ty = (e^sin(x)) * cos()\n",
    "\n",
    "на отрезке [0, П] с шагом 0.1.\n",
    "\n",
    "---------------------\n",
    "Тестовые значения:\n",
    "0       1\n",
    "0.1     1.099\n",
    "0.2     1.195\n",
    "3.1     -1.041\n",
    "\"\"\"\n",
    "from math import pi, e, sin, cos  # import math\n",
    "\n",
    "x = 0\n",
    "\n",
    "while x <= pi:\n",
    "    y = e ** sin(x) * cos(x)\n",
    "    print(round(x, 2), round(y, 3))\n",
    "    x += 0.1"
   ],
   "metadata": {
    "collapsed": false,
    "pycharm": {
     "name": "#%%\n"
    }
   }
  },
  {
   "cell_type": "code",
   "execution_count": 991,
   "outputs": [
    {
     "name": "stdout",
     "output_type": "stream",
     "text": [
      "НОД:  27\n"
     ]
    }
   ],
   "source": [
    "\"\"\"\n",
    "Найти наибольший общий делитель (НОД) натуральных чисел A и B.\n",
    "\n",
    "Исходные данные     1 шаг       2 шаг       3 шаг\n",
    "А = 25              А=10         А=10        А=5\n",
    "В = 15              В=15         В=5         В=5\n",
    "\n",
    "------------------\n",
    "Тестовые данные:\n",
    "\n",
    "A   B   НОД\n",
    "25  15  5\n",
    "14  21  7\n",
    "54  81  27\n",
    "\"\"\"\n",
    "a = 54\n",
    "b = 81\n",
    "\n",
    "while a != b:\n",
    "    if a > b:\n",
    "        a -= b\n",
    "    else:\n",
    "        b -= a\n",
    "print(\"НОД: \", a)"
   ],
   "metadata": {
    "collapsed": false,
    "pycharm": {
     "name": "#%%\n"
    }
   }
  },
  {
   "cell_type": "code",
   "execution_count": 992,
   "outputs": [
    {
     "name": "stdout",
     "output_type": "stream",
     "text": [
      "15\n",
      "55\n",
      "75\n",
      "150\n"
     ]
    }
   ],
   "source": [
    "\"\"\"\n",
    "Дан список чисел: [12, 15, 32, 42, 55, 75, 122, 132, 150, 180, 200].\n",
    "Вывести на экран все числа из списка, которые делятся на 5 и не превышают число 150.\n",
    "\"\"\"\n",
    "l = [12, 15, 32, 42, 55, 75, 122, 132, 150, 180, 200]\n",
    "\n",
    "i = 0\n",
    "while i < len(l):\n",
    "    elem = l[i]\n",
    "    if elem % 5 == 0 and elem <= 150:\n",
    "        print(elem)\n",
    "    i += 1"
   ],
   "metadata": {
    "collapsed": false,
    "pycharm": {
     "name": "#%%\n"
    }
   }
  },
  {
   "cell_type": "code",
   "execution_count": 993,
   "outputs": [
    {
     "name": "stdout",
     "output_type": "stream",
     "text": [
      "10.4\n"
     ]
    }
   ],
   "source": [
    "\"\"\"\n",
    "Дана последовательность из N вещественных чисел.\n",
    "Определить наибольший элемент последовательности.\n",
    "\"\"\"\n",
    "l = [10.4, 4.7, 6.3, 2.9, 7.0, 9.11, 4.7, 6.34, 7.67]\n",
    "\n",
    "max = l[0]\n",
    "\n",
    "for i in range(1, len(l)):\n",
    "    if l[i] > max:\n",
    "        max = l[i]\n",
    "\n",
    "print(max)"
   ],
   "metadata": {
    "collapsed": false,
    "pycharm": {
     "name": "#%%\n"
    }
   }
  },
  {
   "cell_type": "code",
   "execution_count": 994,
   "outputs": [
    {
     "name": "stdout",
     "output_type": "stream",
     "text": [
      "3\n"
     ]
    }
   ],
   "source": [
    "\"\"\"\n",
    "Дано натуральное число N. Определить количество делителей этого числа K, не равных ему самому.\n",
    "Например, для N = 12 такие делители: 1, 2, 3, 4, 6, а их количество K = 5.\n",
    "\n",
    "-------------------\n",
    "Тестовые данные:\n",
    "12 (1, 2, 3, 4, 6) = 5\n",
    "20 (1, 2, 4, 5, 10) = 5\n",
    "35 (1, 5, 7) = 3\n",
    "\"\"\"\n",
    "N = 35\n",
    "K = 0\n",
    "\n",
    "for i in range(1, N // 2 + 1):\n",
    "    if N % i == 0:\n",
    "        K += 1\n",
    "\n",
    "print(K)"
   ],
   "metadata": {
    "collapsed": false,
    "pycharm": {
     "name": "#%%\n"
    }
   }
  },
  {
   "cell_type": "code",
   "execution_count": 995,
   "outputs": [
    {
     "name": "stdout",
     "output_type": "stream",
     "text": [
      "8 != 40320\n"
     ]
    }
   ],
   "source": [
    "\"\"\"\n",
    "Вычислить факториал числа N.\n",
    "N! = 1 * 2 * 3 * …. * N\n",
    "\n",
    "-----------------\n",
    "Тестовые значения:\n",
    "N       N!\n",
    "4       24\n",
    "5       120\n",
    "8       40320\n",
    "\"\"\"\n",
    "N = 8\n",
    "f = 1\n",
    "\n",
    "for i in range(2, N + 1):\n",
    "    f *= i\n",
    "\n",
    "print(N, '!=', f)"
   ],
   "metadata": {
    "collapsed": false,
    "pycharm": {
     "name": "#%%\n"
    }
   }
  },
  {
   "cell_type": "code",
   "execution_count": 996,
   "outputs": [
    {
     "name": "stdout",
     "output_type": "stream",
     "text": [
      "milk\n",
      "pie\n",
      "cheese\n",
      "cream\n"
     ]
    }
   ],
   "source": [
    "\"\"\"\n",
    "Сын вернулся из магазина со списком покупок.\n",
    "Символом ‘v’ он отметил те продукты, которые ему удалось купить:\n",
    "молоко, хлеб (v), пирог, вишня (v), огурцы (v), сыр, сметана, шоколад (v).\n",
    "Выведите на экран список продуктов, которые мальчик не смог приобрести.\n",
    "\"\"\"\n",
    "l = {'milk': '', 'bread': 'v', 'pie': '', 'cherry': 'v', 'cucumbers': 'v', 'cheese': '', 'cream': '', 'chocolate': 'v'}\n",
    "\n",
    "for k, v in l.items():\n",
    "    if v == 'v':\n",
    "        continue\n",
    "    print(k)"
   ],
   "metadata": {
    "collapsed": false,
    "pycharm": {
     "name": "#%%\n"
    }
   }
  },
  {
   "cell_type": "code",
   "execution_count": 997,
   "outputs": [
    {
     "data": {
      "text/plain": "\"\\nwhile True:\\n    if len(psw)<8:\\n        print('Too short psw')\\n    elif name in psw:\\n        print('Psw contains name')\\n    else:\\n        print('Psw was set!')\\n        break\\n    psw = input('psw: ')\\n\""
     },
     "execution_count": 997,
     "metadata": {},
     "output_type": "execute_result"
    }
   ],
   "source": [
    "\"\"\"\n",
    "Написать программу, которая будет запрашивать у пользователя пароль до тех пор,\n",
    "пока он не удовлетворит следующим критериям:\n",
    "- длина пароля не менее 8 символов\n",
    "- пароль не содержит в себе имя пользователя\n",
    "\"\"\"\n",
    "#name = input('name: ')\n",
    "#psw = input('psw: ')\n",
    "\"\"\"\n",
    "while True:\n",
    "    if len(psw)<8:\n",
    "        print('Too short psw')\n",
    "    elif name in psw:\n",
    "        print('Psw contains name')\n",
    "    else:\n",
    "        print('Psw was set!')\n",
    "        break\n",
    "    psw = input('psw: ')\n",
    "\"\"\""
   ],
   "metadata": {
    "collapsed": false,
    "pycharm": {
     "name": "#%%\n"
    }
   }
  },
  {
   "cell_type": "code",
   "execution_count": 998,
   "outputs": [
    {
     "name": "stdout",
     "output_type": "stream",
     "text": [
      "Brakan Cntnu o"
     ]
    }
   ],
   "source": [
    "\"\"\"\n",
    "Дана строка 'Break and Continue operators'.\n",
    "Выведите на экран данную строку до символа ‘p’ включительно, пропуская при этом каждый третий символ.\n",
    "\"\"\"\n",
    "s = 'Break and Continue operators'\n",
    "\n",
    "for i in range(0, len(s)):\n",
    "    if s[i] == 'p':\n",
    "        if (i + 1) % 3 != 0:\n",
    "            print(s[i], end='')\n",
    "        break\n",
    "    if i > 0 and (i + 1) % 3 == 0:\n",
    "        continue\n",
    "    print(s[i], end='')"
   ],
   "metadata": {
    "collapsed": false,
    "pycharm": {
     "name": "#%%\n"
    }
   }
  },
  {
   "cell_type": "code",
   "execution_count": 999,
   "outputs": [
    {
     "name": "stdout",
     "output_type": "stream",
     "text": [
      "snow rain wind clouds \n",
      "snow rain wind "
     ]
    }
   ],
   "source": [
    "\"\"\"\n",
    "Дан список слов: ['snow', 'rain', 'wind', 'sun', 'clouds']. Выведите на экран:\n",
    "- все слова, длина которых больше 3-х символов\n",
    "- все слова, расположенные до слова длиной 3 символа\n",
    "\"\"\"\n",
    "l = ['snow', 'rain', 'wind', 'sun', 'clouds']\n",
    "\n",
    "for elem in l:\n",
    "    if len(elem) <= 3:\n",
    "        continue\n",
    "    print(elem, end=' ')\n",
    "print()\n",
    "\n",
    "for elem in l:\n",
    "    if len(elem) == 3:\n",
    "        break\n",
    "    print(elem, end=' ')"
   ],
   "metadata": {
    "collapsed": false,
    "pycharm": {
     "name": "#%%\n"
    }
   }
  },
  {
   "cell_type": "code",
   "execution_count": 1000,
   "outputs": [
    {
     "name": "stdout",
     "output_type": "stream",
     "text": [
      "No\n",
      "No\n"
     ]
    }
   ],
   "source": [
    "\"\"\"\n",
    "Для приготовления пирога необходимы следующие ингредиенты: масло, мука, сахар, яйца, сливки, орехи, вишня и ванилин.\n",
    "Маша составила список имеющихся у нее продуктов: сахар, яблоки, груши, орехи, яйца, мука, крахмал, маргарин, молоко, мед.\n",
    "Проверьте, сможет ли Маша приготовить пирог и выведите соответствующее сообщение на экран.\n",
    "\"\"\"\n",
    "# решение через множества\n",
    "\n",
    "ingr = {'масло', 'мука', 'сахар', 'яйца', 'сливки', 'орехи', 'вишня', 'ванилин'}\n",
    "exist_ingr = {'сахар', 'яблоки', 'груши', 'орехи', 'яйца', 'мука', 'крахмал', 'маргарин', 'молоко', 'мед'}\n",
    "\n",
    "if exist_ingr >= ingr:\n",
    "    print('Yes')\n",
    "else:\n",
    "    print('No')\n",
    "\n",
    "# решение через циклы\n",
    "\n",
    "for elem in ingr:\n",
    "    if elem not in exist_ingr:\n",
    "        print('No')\n",
    "        break\n",
    "else:\n",
    "    print('Yes')"
   ],
   "metadata": {
    "collapsed": false,
    "pycharm": {
     "name": "#%%\n"
    }
   }
  },
  {
   "cell_type": "code",
   "execution_count": 1001,
   "outputs": [
    {
     "name": "stdout",
     "output_type": "stream",
     "text": [
      "Yes\n",
      "No\n"
     ]
    }
   ],
   "source": [
    "\"\"\"\n",
    "Дан список слов: ['snow', 'rain', 'wind', 'sun', 'clouds'].\n",
    "Проверьте, есть ли среди них хотя бы одно слово с длиной менее 4-х символов.\n",
    "Выведите соответствующее сообщение на экран.\n",
    "Решите эту же задачу для случая, когда нужно найти хотя бы 2 таких слова.\n",
    "\"\"\"\n",
    "l = ['snow', 'rain', 'wind', 'sun', 'clouds']\n",
    "\n",
    "#  only 1 word\n",
    "\n",
    "for elem in l:\n",
    "    if len(elem) < 4:\n",
    "        print('Yes')\n",
    "        break\n",
    "else:\n",
    "    print('No')\n",
    "\n",
    "# at least 2 words\n",
    "\n",
    "count = 0\n",
    "for elem in l:\n",
    "    if len(elem) < 4:\n",
    "        count += 1\n",
    "    if count == 2:\n",
    "        print('Yes')\n",
    "        break\n",
    "else:\n",
    "    print('No')"
   ],
   "metadata": {
    "collapsed": false,
    "pycharm": {
     "name": "#%%\n"
    }
   }
  },
  {
   "cell_type": "code",
   "execution_count": 1002,
   "outputs": [
    {
     "name": "stdout",
     "output_type": "stream",
     "text": [
      "Букв:  17\n",
      "Цифр:  10\n"
     ]
    }
   ],
   "source": [
    "\"\"\"\n",
    "Написать программу, которая будет подсчитывать количество букв и цифр в заданной строке.\n",
    "В случае, если обнаружен символ, не являющийся ни буквой, ни цифрой,\n",
    "необходимо вывести этот символ и соответствующее сообщение на экран.\n",
    "Если такие символы отсутствуют,  вывести сообщение с количеством букв и цифр.\n",
    "\"\"\"\n",
    "s = \"albkrjtoihgldkfn2837492w509\"\n",
    "\n",
    "l_count = 0\n",
    "n_count = 0\n",
    "\n",
    "for sym in s:\n",
    "    if sym.isalpha():\n",
    "        l_count += 1\n",
    "    elif sym.isdigit():\n",
    "        n_count += 1\n",
    "    else:\n",
    "        print(sym, 'error')\n",
    "        break\n",
    "else:\n",
    "    print('Букв: ', l_count)\n",
    "    print('Цифр: ', n_count)"
   ],
   "metadata": {
    "collapsed": false,
    "pycharm": {
     "name": "#%%\n"
    }
   }
  },
  {
   "cell_type": "code",
   "execution_count": 1003,
   "outputs": [
    {
     "name": "stdout",
     "output_type": "stream",
     "text": [
      "9\n"
     ]
    }
   ],
   "source": [
    "\"\"\"\n",
    "Вычислить количество положительных элементов квадратной матрицы,\n",
    "расположенных по ее периметру и на диагоналях.\n",
    "\n",
    "---------\n",
    "главная диагональ i == j\n",
    "побочная диагональ i + j + 1 == N\n",
    "\n",
    "первая строка   0,i\n",
    "последняя строка    N-1, i\n",
    "\n",
    "первый столбец  i, 0\n",
    "последний столбец   i, N-1\n",
    "\"\"\"\n",
    "\n",
    "matrix = [[1, -4, 6, 5],\n",
    "          [-6, 3, 0, -8],\n",
    "          [2, 9, -4, 2],\n",
    "          [-3, 6, -1, 9]]\n",
    "\n",
    "k = 0\n",
    "N = len(matrix)\n",
    "\n",
    "for i in range(0, N):\n",
    "    if matrix[i][i] > 0:\n",
    "        k += 1\n",
    "    if matrix[i][N - i - 1] > 0:\n",
    "        k += 1\n",
    "    if 0 < i < N - 1:\n",
    "        if matrix[0][i] > 0:\n",
    "            k += 1\n",
    "        if matrix[N - 1][i] > 0:\n",
    "            k += 1\n",
    "        if matrix[i][0] > 0:\n",
    "            k += 1\n",
    "        if matrix[i][N - 1] > 0:\n",
    "            k += 1\n",
    "\n",
    "if N % 2 != 0 and matrix[N // 2][N // 2] > 0:\n",
    "    k -= 1\n",
    "print(k)\n"
   ],
   "metadata": {
    "collapsed": false,
    "pycharm": {
     "name": "#%%\n"
    }
   }
  },
  {
   "cell_type": "code",
   "execution_count": 1004,
   "outputs": [
    {
     "name": "stdout",
     "output_type": "stream",
     "text": [
      "[5, -4, 6, 1]\n",
      "[-6, 0, 3, -8]\n",
      "[2, -4, 9, 2]\n",
      "[9, 6, -1, -3]\n"
     ]
    }
   ],
   "source": [
    "\"\"\"\n",
    "Поменять местами элементы главной и побочной диагоналей квадратной матрицы.\n",
    "\n",
    "---------\n",
    "главная диагональ i == j\n",
    "побочная диагональ i + j + 1 == N\n",
    "\"\"\"\n",
    "matrix = [[1, -4, 6, 5],\n",
    "          [-6, 3, 0, -8],\n",
    "          [2, 9, -4, 2],\n",
    "          [-3, 6, -1, 9]]\n",
    "\n",
    "N = len(matrix)\n",
    "\n",
    "for i in range(0, N):\n",
    "    matrix[i][i], matrix[i][N - i - 1] = matrix[i][N - i - 1], matrix[i][i]\n",
    "\n",
    "print(*matrix, sep='\\n')"
   ],
   "metadata": {
    "collapsed": false,
    "pycharm": {
     "name": "#%%\n"
    }
   }
  },
  {
   "cell_type": "code",
   "execution_count": 1005,
   "outputs": [
    {
     "name": "stdout",
     "output_type": "stream",
     "text": [
      "10\n"
     ]
    }
   ],
   "source": [
    "\"\"\"\n",
    "Найти сумму элементов матрицы, лежащих выше главной диагонали.\n",
    "\n",
    "---------------\n",
    "элемент расположен на главной диагонали, если i == j\n",
    "\"\"\"\n",
    "matrix = [[1, 4, 6],\n",
    "          [6, 3, 0],\n",
    "          [2, 9, 4]]\n",
    "\n",
    "sum = 0\n",
    "\n",
    "for i in range(0, len(matrix)):\n",
    "    for j in range(i + 1, len(matrix[i])):\n",
    "        sum += matrix[i][j]\n",
    "\n",
    "print(sum)"
   ],
   "metadata": {
    "collapsed": false,
    "pycharm": {
     "name": "#%%\n"
    }
   }
  },
  {
   "cell_type": "code",
   "execution_count": 1006,
   "outputs": [
    {
     "name": "stdout",
     "output_type": "stream",
     "text": [
      "7\n"
     ]
    }
   ],
   "source": [
    "\"\"\"\n",
    "Определить, сколько раз последовательность из N произвольных чисел меняет знак\n",
    "(т.е. после положительного элемента идет отрицательный и наоборот).\n",
    "\"\"\"\n",
    "l = [4, -2, 3, -5, -8, 0, 6, -4, 2, 5, 7, -9, -3, -7]\n",
    "\n",
    "count = 0\n",
    "\n",
    "for i in range(0, len(l) - 1):\n",
    "    if (l[i] >= 0 and l[i + 1] < 0) or (l[i] < 0 and l[i + 1] >= 0):\n",
    "        count += 1\n",
    "\n",
    "print(count)"
   ],
   "metadata": {
    "collapsed": false,
    "pycharm": {
     "name": "#%%\n"
    }
   }
  },
  {
   "cell_type": "code",
   "execution_count": 1007,
   "outputs": [
    {
     "name": "stdout",
     "output_type": "stream",
     "text": [
      "2.56\n"
     ]
    }
   ],
   "source": [
    "\"\"\"\n",
    "Вычислить значение выражения для заданного N:\n",
    "\n",
    "y = 1 + ln2/1! + ln3/2! + ln4/3! + ... + ln(N+1)/N!\n",
    "\n",
    "---------------\n",
    "Тестовые значения:\n",
    "N=3     1 + ln(2) + ln(3)/2 +  ln(4)/6 = 2.47\n",
    "N=5     1 + ln(2) + ln(3)/2 +  ln(4)/6 + ln(5)/24 + ln(6)/120 = 2.56\n",
    "\"\"\"\n",
    "from math import log\n",
    "\n",
    "N = 5\n",
    "\n",
    "i = 2\n",
    "y = 1\n",
    "\n",
    "while i <= N + 1:\n",
    "    fact = 1\n",
    "    j = 1\n",
    "    while j < i:  # (i-1)!\n",
    "        fact *= j\n",
    "        j += 1\n",
    "\n",
    "    y += log(i) / fact\n",
    "    i += 1\n",
    "\n",
    "print(round(y, 2))"
   ],
   "metadata": {
    "collapsed": false,
    "pycharm": {
     "name": "#%%\n"
    }
   }
  },
  {
   "cell_type": "code",
   "execution_count": 1008,
   "outputs": [
    {
     "name": "stdout",
     "output_type": "stream",
     "text": [
      "Таких чисел не найдено\n"
     ]
    }
   ],
   "source": [
    "\"\"\"\n",
    "Дана последовательность вещественных чисел.\n",
    "Определить среднее арифметическое среди кратных 7 элементов последовательности.\n",
    "\n",
    "---------------\n",
    "Тестовые значения:\n",
    "[2.4, 6.2, 7.0, 14.0, 0.7, 12.4]    10.5\n",
    "[2.3, 6.0, 7.0, 6.7, 21.0, 12.4, 77.0, 100.0, 16.9] 35\n",
    "[14.0, 21.0, 700.0]     245\n",
    "[2.4, 6.2, 7.7, 14.2, 0.7, 12.4]    no such numbers\n",
    "\"\"\"\n",
    "\n",
    "l = [2.4, 6.2, 7.7, 14.2, 0.7, 12.4]\n",
    "\n",
    "i = 0\n",
    "nums = []\n",
    "\n",
    "while i < len(l):\n",
    "    if l[i] % 7 == 0:  # not l[i]%7\n",
    "        nums.append(l[i])\n",
    "    i += 1\n",
    "\n",
    "if nums:\n",
    "    res = sum(nums) / len(nums)\n",
    "    print(res)\n",
    "else:\n",
    "    print('Таких чисел не найдено')"
   ],
   "metadata": {
    "collapsed": false,
    "pycharm": {
     "name": "#%%\n"
    }
   }
  },
  {
   "cell_type": "code",
   "execution_count": 1009,
   "outputs": [
    {
     "name": "stdout",
     "output_type": "stream",
     "text": [
      "2.0 3.0\n",
      "-2.0 7.0\n"
     ]
    }
   ],
   "source": [
    "\"\"\"\n",
    "Выяснить, пересекаются ли параболы y = ax^2 + bx + c и y = dx^2 + ex + f.\n",
    "Если да, найти точки пересечения.\n",
    "\n",
    "----------------\n",
    "Тестовые значения:\n",
    "y = 2x^2 - x -3\n",
    "y = x^2 - x + 1\n",
    "\n",
    "(2,3), (-2, 7)\n",
    "\"\"\"\n",
    "import math\n",
    "\n",
    "# ax^2 + bx + c == dx^2 + ex + f\n",
    "# ax^2-dx^2 + bx - ex + c - f == 0\n",
    "# x^2(a-d) + x(b-e) + (c-f) == 0\n",
    "# A = a-d, B = b-e, C = c-f\n",
    "\n",
    "a = 2\n",
    "b = -1\n",
    "c = -3\n",
    "d = 1\n",
    "e = -1\n",
    "f = 1\n",
    "\n",
    "# Ax^2 + Bx + C = 0\n",
    "A = a - d\n",
    "B = b - e\n",
    "C = c - f\n",
    "\n",
    "D = B ** 2 - 4 * A * C\n",
    "if D >= 0:\n",
    "    x1 = (B + math.sqrt(D)) / (2 * A)\n",
    "    y1 = a * x1 ** 2 + b * x1 + c\n",
    "    x2 = (B - math.sqrt(D)) / (2 * A)\n",
    "    y2 = a * x2 ** 2 + b * x2 + c\n",
    "    print(x1, y1)\n",
    "    print(x2, y2)\n",
    "else:\n",
    "    print('Параболы не пересекаются')"
   ],
   "metadata": {
    "collapsed": false,
    "pycharm": {
     "name": "#%%\n"
    }
   }
  },
  {
   "cell_type": "code",
   "execution_count": 1010,
   "outputs": [
    {
     "name": "stdout",
     "output_type": "stream",
     "text": [
      "Начало координат\n"
     ]
    }
   ],
   "source": [
    "\"\"\"\n",
    "Дана точка M с координатами (x, y). Определить месторасположение этой точки в декартовой системе координат:\n",
    "- является началом координат\n",
    "- лежит на одной из координатных осей\n",
    "- расположена в одном из координатных углов\n",
    "\"\"\"\n",
    "\n",
    "m = (0, 0)\n",
    "\n",
    "if m[0] == 0 and m[1] == 0:\n",
    "    print('Начало координат')\n",
    "elif m[0] == 0:\n",
    "    print('Лежит на оси OY')\n",
    "elif m[1] == 0:\n",
    "    print('Лежит на оси OX')\n",
    "else:\n",
    "    print('Лежит в одном из координатных углов')"
   ],
   "metadata": {
    "collapsed": false,
    "pycharm": {
     "name": "#%%\n"
    }
   }
  },
  {
   "cell_type": "code",
   "execution_count": 1011,
   "outputs": [
    {
     "name": "stdout",
     "output_type": "stream",
     "text": [
      "8 4\n"
     ]
    }
   ],
   "source": [
    "\"\"\"\n",
    "Дано натуральное число N. Определить самую большую цифру и ее позицию в числе.\n",
    "Например, для числа 573867 наибольшей является цифра 8, а ее позиция - четвертая слева.\n",
    "\"\"\"\n",
    "N = 573867\n",
    "\n",
    "max = 0\n",
    "cur_ind = len(str(N))\n",
    "\n",
    "while N > 0:\n",
    "    sym = N % 10\n",
    "    if sym > max:\n",
    "        max = sym\n",
    "        max_ind = cur_ind\n",
    "    N //= 10\n",
    "    cur_ind -= 1\n",
    "\n",
    "print(max, max_ind)"
   ],
   "metadata": {
    "collapsed": false,
    "pycharm": {
     "name": "#%%\n"
    }
   }
  },
  {
   "cell_type": "code",
   "execution_count": 1012,
   "outputs": [
    {
     "name": "stdout",
     "output_type": "stream",
     "text": [
      "*******\n",
      " *****\n",
      "  ***\n",
      "   *\n",
      "  ***\n",
      " *****\n",
      "*******\n"
     ]
    }
   ],
   "source": [
    "\"\"\"\n",
    "Вывести на экран следующую последовательность символов:\n",
    "\n",
    "\t* * * * * * *\n",
    "\t  * * * * *\n",
    "\t    * * *\n",
    "\t      *\n",
    "\t    * * *\n",
    "\t  * * * * *\n",
    "\t* * * * * * *\n",
    "\n",
    "\"\"\"\n",
    "n = 7\n",
    "sym = '*'\n",
    "\n",
    "for i in range(n, 0, -2):\n",
    "    s = str(sym * i)\n",
    "    space_count = int((n - len(s)) / 2)\n",
    "    s = s.rjust(space_count + len(s))\n",
    "    print(s)\n",
    "\n",
    "for i in range(3, n + 1, 2):\n",
    "    s = str(sym * i)\n",
    "    space_count = int((n - len(s)) / 2)\n",
    "    s = s.rjust(space_count + len(s))\n",
    "    print(s)"
   ],
   "metadata": {
    "collapsed": false,
    "pycharm": {
     "name": "#%%\n"
    }
   }
  },
  {
   "cell_type": "code",
   "execution_count": 1013,
   "outputs": [
    {
     "name": "stdout",
     "output_type": "stream",
     "text": [
      "Выражение неправильное\n"
     ]
    }
   ],
   "source": [
    "\"\"\"\n",
    "Дана строка, представляющая из себя некоторое выражение.\n",
    "Проверить корректность использования скобок в заданном выражении:\n",
    "- количество открывающихся скобок каждого вида должно соответствовать количеству закрывающихся скобок этого же вида;\n",
    "- порядок следования открывающихся и закрывающихся скобок должен быть верным.\n",
    "Например, выражение “aaa(bc[def](ggg(hh)))” можно считать верным,\n",
    "а выражение “aaa(bc[def](ggg(hh))” будет неправильным, так как в нем количество открывающихся круглых скобок\n",
    "не соответствует количеству закрывающихся. Выражение “aaa(bc[def(g]gg(hh)))” также будет неверным,\n",
    "т.к. в нем не соблюдена правильная очередность открывающихся и закрывающихся скобок.\n",
    "\"\"\"\n",
    "\n",
    "s = \"aaa(bc[def(g]gg(hh)))\"\n",
    "\n",
    "tmp = []\n",
    "braces = {')': '(', ']': '[', '}': '{'}\n",
    "\n",
    "for sym in s:\n",
    "    if sym in braces.values():\n",
    "        tmp.append(sym)\n",
    "    elif sym in braces.keys():\n",
    "        if len(tmp) == 0 or braces[sym] != tmp.pop():\n",
    "            print('Выражение неправильное')\n",
    "            break\n",
    "else:\n",
    "    if len(tmp) > 0:\n",
    "        print('Выражение неправильное')\n",
    "    else:\n",
    "        print('Выражение правильное')"
   ],
   "metadata": {
    "collapsed": false,
    "pycharm": {
     "name": "#%%\n"
    }
   }
  },
  {
   "cell_type": "code",
   "execution_count": 1014,
   "outputs": [
    {
     "name": "stdout",
     "output_type": "stream",
     "text": [
      "{'a': 2, 'b': 1, 'c': 4, 'e': 1, 'd': 1, '4': 1, '6': 1, '@': 1}\n"
     ]
    }
   ],
   "source": [
    "\"\"\"\n",
    "Дан некоторый текст. Определить количество вхождений в него каждого символа.\n",
    "\"\"\"\n",
    "\n",
    "text = \"abcccced46@a\"\n",
    "\n",
    "res = {}\n",
    "\n",
    "for sym in text:\n",
    "    if sym in res.keys():\n",
    "        res[sym] += 1\n",
    "    else:\n",
    "        res[sym] = 1\n",
    "\n",
    "print(res)"
   ],
   "metadata": {
    "collapsed": false,
    "pycharm": {
     "name": "#%%\n"
    }
   }
  },
  {
   "cell_type": "code",
   "execution_count": 1015,
   "outputs": [
    {
     "name": "stdout",
     "output_type": "stream",
     "text": [
      "110544\n"
     ]
    }
   ],
   "source": [
    "\"\"\"\n",
    "Вычислить произведение последних трех чисел не кратных 5 в диапазоне от 20 до 50.\n",
    "\n",
    "----------\n",
    "47*48*49 = 110544\n",
    "\"\"\"\n",
    "\n",
    "res = 1\n",
    "count = 0\n",
    "\n",
    "for i in range(50, 19, -1):\n",
    "    if i % 5 != 0:\n",
    "        res *= i\n",
    "        count += 1\n",
    "    if count == 3:\n",
    "        break\n",
    "\n",
    "print(res)"
   ],
   "metadata": {
    "collapsed": false,
    "pycharm": {
     "name": "#%%\n"
    }
   }
  },
  {
   "cell_type": "code",
   "execution_count": 1016,
   "outputs": [
    {
     "name": "stdout",
     "output_type": "stream",
     "text": [
      "[1015, 1043, 1078]\n"
     ]
    }
   ],
   "source": [
    "\"\"\"\n",
    "Найти 2-ое, 6-ое и 11-ое по счету числа кратные 7, но не кратные 13 в диапазоне от 1000 до 2000.\n",
    "\n",
    "--------------\n",
    "Ответ: 1015, 1043, 1078\n",
    "\"\"\"\n",
    "ind = [2, 6, 11]\n",
    "cur_ind = 0\n",
    "res = []\n",
    "\n",
    "for i in range(1000, 2001):\n",
    "    if i % 7 != 0 or i % 13 == 0:\n",
    "        continue\n",
    "    cur_ind += 1\n",
    "    if cur_ind in ind:\n",
    "        res.append(i)\n",
    "    if cur_ind == ind[-1]:\n",
    "        break\n",
    "\n",
    "print(res)"
   ],
   "metadata": {
    "collapsed": false,
    "pycharm": {
     "name": "#%%\n"
    }
   }
  },
  {
   "cell_type": "code",
   "execution_count": 1017,
   "outputs": [
    {
     "name": "stdout",
     "output_type": "stream",
     "text": [
      "[8, 5, 2]\n",
      "[2, 5, 8]\n",
      "[8, 7, 1]\n",
      "[0, 1, 7]\n",
      "[11, 9, 6]\n"
     ]
    }
   ],
   "source": [
    "\"\"\"\n",
    "Преобразуйте матрицу A(n, m) таким образом,\n",
    "чтобы строки с нечетными индексами были упорядочены по убыванию,\n",
    "а с четными - по возрастанию.\n",
    "\"\"\"\n",
    "\n",
    "A = [[2, 5, 8],\n",
    "     [5, 8, 2],\n",
    "     [8, 7, 1],\n",
    "     [0, 7, 1],\n",
    "     [9, 11, 6]]\n",
    "\n",
    "for row_num in range(0, len(A)):\n",
    "    if (row_num + 1) % 2 == 0:\n",
    "        A[row_num].sort()\n",
    "    else:\n",
    "        A[row_num].sort(reverse=True)\n",
    "\n",
    "print(*A, sep='\\n')"
   ],
   "metadata": {
    "collapsed": false,
    "pycharm": {
     "name": "#%%\n"
    }
   }
  },
  {
   "cell_type": "code",
   "execution_count": 1018,
   "outputs": [
    {
     "name": "stdout",
     "output_type": "stream",
     "text": [
      "Yes\n"
     ]
    }
   ],
   "source": [
    "\"\"\"\n",
    "Дана последовательность чисел. Проверить, являются ли все элементы\n",
    "последовательности нечетными числами.\n",
    "\"\"\"\n",
    "l = [1, 3, 9, 7, 11, 5]\n",
    "\n",
    "for num in l:\n",
    "    if num % 2 == 0:\n",
    "        print('No')\n",
    "        break\n",
    "else:\n",
    "    print('Yes')"
   ],
   "metadata": {
    "collapsed": false,
    "pycharm": {
     "name": "#%%\n"
    }
   }
  },
  {
   "cell_type": "code",
   "execution_count": 1019,
   "outputs": [
    {
     "name": "stdout",
     "output_type": "stream",
     "text": [
      "no such numbers\n"
     ]
    }
   ],
   "source": [
    "\"\"\"\n",
    "Дана последовательность чисел. Проверить, есть ли в ней хотя бы одно число с делителями 2, 5 и 7.\n",
    "Если да, вывести его на экран. Если нет, вывести соответствующее сообщение.\n",
    "\"\"\"\n",
    "l = [3, 6, 2, 8, 5, 4, 1, 7, 10]\n",
    "\n",
    "for num in l:\n",
    "    if num % 2 == 0 and num % 5 == 0 and num % 7 == 0:\n",
    "        print(num)\n",
    "        break\n",
    "else:\n",
    "    print('no such numbers')"
   ],
   "metadata": {
    "collapsed": false,
    "pycharm": {
     "name": "#%%\n"
    }
   }
  },
  {
   "cell_type": "code",
   "execution_count": 1020,
   "outputs": [
    {
     "name": "stdout",
     "output_type": "stream",
     "text": [
      "True\n"
     ]
    }
   ],
   "source": [
    "\"\"\"\n",
    "Дана квадратная матрица. Проверьте, является ли она диагональной.\n",
    "\n",
    "------------\n",
    "Тестовые значения:\n",
    "[[2,0,0,0,0],\n",
    " [0,3,0,0,0],\n",
    " [0,0,5,0,0],\n",
    " [0,0,0,5,0],\n",
    " [0,0,0,0,2]]\n",
    "\"\"\"\n",
    "\n",
    "m = [[2, 0, 0, 0, 0],\n",
    "     [0, 3, 0, 0, 0],\n",
    "     [0, 0, 5, 0, 0],\n",
    "     [0, 0, 0, 5, 0],\n",
    "     [0, 0, 0, 0, 2]]\n",
    "\n",
    "is_diag = True\n",
    "\n",
    "for i in range(0, len(m)):\n",
    "    for j in range(0, len(m[i])):\n",
    "        if i != j and m[i][j] != 0:\n",
    "            is_diag = False\n",
    "            break\n",
    "\n",
    "    if not is_diag:\n",
    "        break\n",
    "\n",
    "print(is_diag)"
   ],
   "metadata": {
    "collapsed": false,
    "pycharm": {
     "name": "#%%\n"
    }
   }
  },
  {
   "cell_type": "code",
   "execution_count": 1021,
   "outputs": [
    {
     "name": "stdout",
     "output_type": "stream",
     "text": [
      "True\n",
      "[2, 1, 0, 2, 4]\n",
      "[0, 3, 6, 7, 1]\n",
      "[0, 0, 5, 9, 5]\n",
      "[0, 0, 0, 5, 0]\n",
      "[0, 0, 0, 0, 2]\n"
     ]
    }
   ],
   "source": [
    "\"\"\"\n",
    "Дана квадратная матрица. Проверьте, является ли она нижнетреугольной.\n",
    "Если да, преобразуйте ее таким образом, чтобы она стала верхнетреугольной.\n",
    "\n",
    "-----------------------\n",
    "Тестовые значения:\n",
    "[[2,0,0,0,0],\n",
    " [1,3,0,0,0],\n",
    " [0,6,5,0,0],\n",
    " [2,7,9,5,0],\n",
    " [4,1,5,0,2]]\n",
    "\"\"\"\n",
    "\n",
    "m = [[2, 0, 0, 0, 0],\n",
    "     [1, 3, 0, 0, 0],\n",
    "     [0, 6, 5, 0, 0],\n",
    "     [2, 7, 9, 5, 0],\n",
    "     [4, 1, 5, 0, 2]]\n",
    "\n",
    "is_ntr = True\n",
    "\n",
    "for i in range(0, len(m)):\n",
    "    for j in range(i + 1, len(m[i])):\n",
    "        if m[i][j] != 0:\n",
    "            is_ntr = False\n",
    "            break\n",
    "    if not is_ntr:\n",
    "        break\n",
    "\n",
    "print(is_ntr)\n",
    "\n",
    "if is_ntr:\n",
    "    # транспонирование матрицы\n",
    "    for i in range(0, len(m)):\n",
    "        for j in range(i + 1, len(m[i])):\n",
    "            m[i][j], m[j][i] = m[j][i], m[i][j]\n",
    "\n",
    "    for row in m:\n",
    "        print(row)"
   ],
   "metadata": {
    "collapsed": false,
    "pycharm": {
     "name": "#%%\n"
    }
   }
  },
  {
   "cell_type": "code",
   "execution_count": 1022,
   "outputs": [
    {
     "name": "stdout",
     "output_type": "stream",
     "text": [
      "bread milk eggs cake vegetable_mix fruit_mix fish meat \n",
      "Все товары куплены\n"
     ]
    }
   ],
   "source": [
    "\"\"\"\n",
    "Дан список продуктов с ценами на них:\n",
    "'milk' - $12, 'bread' - $10, 'meat' - $60, 'vegetable mix' - $20, 'fruit mix' - $35, 'fish' - $45,\n",
    "'eggs' - $15, 'cake' - $15.\n",
    "У Марты есть $100. Какое максимальное количество продуктов она может купить?\n",
    "Выведите на экран список этих продуктов.\n",
    "В случае если Марта сможет купить все продукты из списка, выведите соответствующее сообщение.\n",
    "Решите эту же задачу для Алекса, у которого есть $250.\n",
    "\"\"\"\n",
    "goods = {'milk': 12, 'bread': 10, 'meat': 60, 'vegetable_mix': 20, 'fruit_mix': 35, 'fish': 45, 'eggs': 15, 'cake': 15}\n",
    "\n",
    "goods_sort = {'bread': 10, 'milk': 12, 'eggs': 15, 'cake': 15, 'vegetable_mix': 20, 'fruit_mix': 35, 'fish': 45,\n",
    "              'meat': 60}\n",
    "\n",
    "sum = 250\n",
    "max_count = 0\n",
    "\n",
    "for name, price in goods_sort.items():\n",
    "    sum -= price\n",
    "    if sum < 0:\n",
    "        print(max_count)\n",
    "        break\n",
    "\n",
    "    print(name, end=' ')\n",
    "    max_count += 1\n",
    "else:\n",
    "    print('\\nВсе товары куплены')"
   ],
   "metadata": {
    "collapsed": false,
    "pycharm": {
     "name": "#%%\n"
    }
   }
  },
  {
   "cell_type": "code",
   "execution_count": 1023,
   "outputs": [
    {
     "name": "stdout",
     "output_type": "stream",
     "text": [
      "0\n"
     ]
    }
   ],
   "source": [
    "\"\"\"\n",
    "Дана последовательность целых чисел.\n",
    "Найти среднее арифметическое совершенных чисел и среднее геометрическое простых чисел.\n",
    "\n",
    "Совершенное число - это число, сумма всех делителей которого, меньших его самого,\n",
    "равна самому числу.\n",
    "Например: 6 (1+2+3), 28 (1+2+4+7+14), 496 (1+2+4+8+16+31+62+124+248) и т.д.\n",
    "\"\"\"\n",
    "\"\"\"\n",
    "l = [6, 34, 76, 12, 45, 28, 2, 9, 32, 0, 5]\n",
    "\n",
    "\n",
    "def is_prime(n):\n",
    "    for i in range(2, n // 2 + 1):\n",
    "        if n % i == 0:\n",
    "            return False\n",
    "    return True\n",
    "\n",
    "\n",
    "def is_neutral(n):\n",
    "    return n in [0, 1]\n",
    "\n",
    "\n",
    "def is_perfect(n):\n",
    "    s = 0\n",
    "    for i in range(1, n):\n",
    "        if n % i == 0:\n",
    "            s += i\n",
    "    return n == s\n",
    "\n",
    "\n",
    "def sr_geom(l):\n",
    "    res = 1\n",
    "    for i in l:\n",
    "        res *= i\n",
    "    res **= 1 / len(l)\n",
    "    return round(res, 2)\n",
    "\n",
    "\n",
    "perf_nums = []\n",
    "prime_nums = []\n",
    "\n",
    "for i in l:\n",
    "    if is_neutral(i):\n",
    "        continue\n",
    "    if is_prime(i):\n",
    "        prime_nums.append(i)\n",
    "    elif is_perfect(i):\n",
    "        perf_nums.append(i)\n",
    "\n",
    "sr_arifm = sum(perf_nums) / len(perf_nums)\n",
    "sr_g = sr_geom(prime_nums)\n",
    "\n",
    "print('Среднее арифметическое: ', sr_arifm)\n",
    "print('Среднее геометрическое: ', sr_g)\n",
    "\"\"\"\n",
    "print(0)"
   ],
   "metadata": {
    "collapsed": false,
    "pycharm": {
     "name": "#%%\n"
    }
   }
  },
  {
   "cell_type": "code",
   "execution_count": 1024,
   "outputs": [
    {
     "name": "stdout",
     "output_type": "stream",
     "text": [
      "0 1 1 2 3 5 8 13 \n",
      "0 1 1 2 3 5 8 13 21 \n"
     ]
    }
   ],
   "source": [
    "\"\"\"\n",
    "Написать функцию, которая выводит ряд Фибоначчи до заданной границы N.\n",
    "Например, для N = 15 ряд будет выглядеть следующим образом:\n",
    "0, 1, 1, 2, 3, 5, 8, 13.\n",
    "\"\"\"\n",
    "\n",
    "\n",
    "def fib(N):\n",
    "    a, b = 0, 1\n",
    "    while a < N:\n",
    "        print(a, end=' ')\n",
    "        a, b = b, a + b\n",
    "    print()\n",
    "\n",
    "\n",
    "fib(15)\n",
    "fib(25)"
   ],
   "metadata": {
    "collapsed": false,
    "pycharm": {
     "name": "#%%\n"
    }
   }
  },
  {
   "cell_type": "code",
   "execution_count": 1025,
   "outputs": [
    {
     "name": "stdout",
     "output_type": "stream",
     "text": [
      "40.0\n",
      "25\n",
      "45.0\n",
      "1017.8760197630929\n",
      "invalid data\n"
     ]
    }
   ],
   "source": [
    "\"\"\"\n",
    "Написать функцию, принимающую некоторую информацию о геометрической фигуре и\n",
    "рассчитывающую площадь данной фигуры.\n",
    "\n",
    "\n",
    "- Ромб с диагоналями d1 и d2 (s = (d1*d2) / 2)\n",
    "- Квадрат со стороной c (s=c2)\n",
    "- Трапеция с основаниями a,b и высотой h (s = ½ *(a+b)*h)\n",
    "- Круг с радиусом r (s=Pi*r2)\n",
    "\n",
    "------------------\n",
    "Тестовые значения:\n",
    "figure_type = 'rhombus', d1=10, d2=8        -> S = 40\n",
    "figure_type = 'square', a=5                 -> S = 25\n",
    "figure_type = 'trapezoid', a=12, b=3, h=6   -> S = 45\n",
    "figure_type = 'circle', r=18                -> S = 1017\n",
    "figure_type = 'unknown', a=1, b=2, c=3      -> invalid data\n",
    "\"\"\"\n",
    "from math import pi\n",
    "\n",
    "\n",
    "def square(figure_type, **kwargs):\n",
    "    if figure_type == 'rhombus':\n",
    "        return kwargs['d1'] * kwargs['d2'] / 2\n",
    "\n",
    "    if figure_type == 'square':\n",
    "        return kwargs['a'] ** 2\n",
    "\n",
    "    if figure_type == 'trapezoid':\n",
    "        return 1 / 2 * (kwargs['a'] + kwargs['b']) * kwargs['h']\n",
    "\n",
    "    if figure_type == 'circle':\n",
    "        return pi * kwargs['r'] ** 2\n",
    "\n",
    "    return 'invalid data'\n",
    "\n",
    "\n",
    "print(square(figure_type='rhombus', d1=10, d2=8))\n",
    "print(square(figure_type='square', a=5))\n",
    "print(square(figure_type='trapezoid', a=12, b=3, h=6))\n",
    "print(square(figure_type='circle', r=18))\n",
    "print(square(figure_type='unknown', a=1, b=2, c=3))"
   ],
   "metadata": {
    "collapsed": false,
    "pycharm": {
     "name": "#%%\n"
    }
   }
  },
  {
   "cell_type": "code",
   "execution_count": 1026,
   "outputs": [
    {
     "name": "stdout",
     "output_type": "stream",
     "text": [
      "no such numbers\n",
      "13\n",
      "26\n",
      "no such numbers\n",
      "39\n"
     ]
    }
   ],
   "source": [
    "\"\"\"\n",
    "Написать функцию, принимающую произвольное количество целых чисел\n",
    "и возвращающую наибольшее положительное из них кратное 13.\n",
    "\n",
    "------------------\n",
    "Тестовые значения:\n",
    "2, 7, 0, 3, 1, 5, -13 -> no nums\n",
    "2, 7, 0, 3, 1, 5, -13, 13 -> 13\n",
    "26 -> 26\n",
    "99, 99, 100, 34, -39 -> no nums\n",
    "99, 39, 99, 100, 34 -> 39\n",
    "\"\"\"\n",
    "\n",
    "\n",
    "def find_num(*args):\n",
    "    max = -1\n",
    "    for i in args:\n",
    "        if i > 0 and i % 13 == 0 and i > max:\n",
    "            max = i\n",
    "    if max != -1:\n",
    "        return max\n",
    "    return 'no such numbers'\n",
    "\n",
    "\n",
    "print(find_num(2, 7, 0, 3, 1, 5, -13))\n",
    "print(find_num(2, 7, 0, 3, 1, 5, -13, 13))\n",
    "print(find_num(26))\n",
    "print(find_num(99, 99, 100, 34, -39))\n",
    "print(find_num(99, 39, 99, 100, 34))"
   ],
   "metadata": {
    "collapsed": false,
    "pycharm": {
     "name": "#%%\n"
    }
   }
  },
  {
   "cell_type": "code",
   "execution_count": 1027,
   "outputs": [
    {
     "name": "stdout",
     "output_type": "stream",
     "text": [
      "14\n",
      "10\n",
      "20\n",
      "19\n",
      "11\n",
      "25\n"
     ]
    }
   ],
   "source": [
    "\"\"\"\n",
    "Написать функцию, принимающую некоторое целое число и вычисляющую по умолчанию\n",
    "сумму его четных цифр. Предусмотреть возможность изменения поведения функции таким образом,\n",
    "чтобы она также могла вычислять сумму нечетных цифр.\n",
    "\n",
    "-------------\n",
    "Тестовые значения:\n",
    "N = 9874023, even_sum=14, odd_sum = 19\n",
    "N = 38271, even_sum=10, odd_sum = 11\n",
    "N = 123456789, even_sum=20, odd_sum = 25\n",
    "\"\"\"\n",
    "\n",
    "\n",
    "def digits_sum(N, even=True):\n",
    "    s = 0\n",
    "    while N > 0:\n",
    "        cur_digit = N % 10\n",
    "        if even and cur_digit % 2 == 0:\n",
    "            s += cur_digit\n",
    "        elif not even and cur_digit % 2 != 0:\n",
    "            s += cur_digit\n",
    "        N //= 10\n",
    "    return s\n",
    "\n",
    "\n",
    "print(digits_sum(9874023))\n",
    "print(digits_sum(38271))\n",
    "print(digits_sum(123456789))\n",
    "\n",
    "print(digits_sum(9874023, even=False))\n",
    "print(digits_sum(38271, even=False))\n",
    "print(digits_sum(123456789, even=False))"
   ],
   "metadata": {
    "collapsed": false,
    "pycharm": {
     "name": "#%%\n"
    }
   }
  },
  {
   "cell_type": "code",
   "execution_count": 1028,
   "outputs": [
    {
     "name": "stdout",
     "output_type": "stream",
     "text": [
      "['here', 'will', 'be', 'some', 'lambda', 'sorting', 'function']\n",
      "['lambda', 'here', 'be', 'will', 'some', 'sorting', 'function']\n"
     ]
    }
   ],
   "source": [
    "\"\"\"\n",
    "Написать программу, в которой с помощью функции sorted() и lambda-функции отсортировать слова в списке по их 2-ой букве.\n",
    "\"\"\"\n",
    "l = ['here', 'will', 'be', 'some', 'lambda', 'sorting', 'function']\n",
    "\n",
    "print(l)\n",
    "\n",
    "res = sorted(l, key=lambda i: i[1])\n",
    "print(res)"
   ],
   "metadata": {
    "collapsed": false,
    "pycharm": {
     "name": "#%%\n"
    }
   }
  },
  {
   "cell_type": "code",
   "execution_count": 1029,
   "outputs": [
    {
     "name": "stdout",
     "output_type": "stream",
     "text": [
      "True\n",
      "False\n",
      "True\n",
      "True\n",
      "False\n",
      "True\n"
     ]
    }
   ],
   "source": [
    "\"\"\"\n",
    "Написать программу, проверяющую, начинается ли заданная строка с заданного символа, с помощью lambda-функции.\n",
    "\"\"\"\n",
    "starts_with = lambda s: True if s.startswith('P') else False\n",
    "\n",
    "print(starts_with('Python!'))\n",
    "print(starts_with('Java'))\n",
    "\n",
    "\n",
    "# проверяемая буква также передается как параметр\n",
    "\n",
    "def starts_with(letter):\n",
    "    return lambda s: True if s.startswith(letter) else False\n",
    "\n",
    "\n",
    "res1 = starts_with('A')\n",
    "print(res1('Antony'))\n",
    "print(res1('AMax'))\n",
    "\n",
    "res2 = starts_with('B')\n",
    "print(res2('Antony'))\n",
    "print(res2('BMax'))"
   ],
   "metadata": {
    "collapsed": false,
    "pycharm": {
     "name": "#%%\n"
    }
   }
  },
  {
   "cell_type": "code",
   "execution_count": 1030,
   "outputs": [
    {
     "name": "stdout",
     "output_type": "stream",
     "text": [
      "[9, 25, 49, 9, 81, 25, 49, 4]\n",
      "[27, 125, 343, 27, 729, 125, 343, 8]\n"
     ]
    }
   ],
   "source": [
    "\"\"\"\n",
    "Дан список чисел. Используя lambda-функцию, возведите в квадрат и в куб все элементы данного списка.\n",
    "\"\"\"\n",
    "nums = [3, 5, 7, 3, 9, 5, 7, 2]\n",
    "\n",
    "square_nums = list(map(lambda i: i ** 2, nums))\n",
    "cube_nums = list(map(lambda i: i ** 3, nums))\n",
    "\n",
    "print(square_nums)\n",
    "print(cube_nums)"
   ],
   "metadata": {
    "collapsed": false,
    "pycharm": {
     "name": "#%%\n"
    }
   }
  },
  {
   "cell_type": "code",
   "execution_count": 1031,
   "outputs": [
    {
     "name": "stdout",
     "output_type": "stream",
     "text": [
      "['madam', 'mom']\n"
     ]
    }
   ],
   "source": [
    "\"\"\"\n",
    "Дан список слов. Отфильтровать список с использованием lambda-функции, оставив в нем только слова-палиндромы.\n",
    "\n",
    "-------------\n",
    "Тестовые значения:\n",
    "('madam', 'fire', 'tomato', 'book', 'kiosk', 'mom') -> (madam, mom)\n",
    "\"\"\"\n",
    "words = ('madam', 'fire', 'tomato', 'book', 'kiosk', 'mom')\n",
    "\n",
    "res = list(filter(lambda word: word == word[::-1], words))\n",
    "print(res)"
   ],
   "metadata": {
    "collapsed": false,
    "pycharm": {
     "name": "#%%\n"
    }
   }
  },
  {
   "cell_type": "code",
   "execution_count": 1032,
   "outputs": [
    {
     "name": "stdout",
     "output_type": "stream",
     "text": [
      "30\n",
      "40\n",
      "45\n",
      "60\n"
     ]
    }
   ],
   "source": [
    "\"\"\"\n",
    "Написать функцию, которая принимает один аргумент, который в дальнейшем будет умножаться на заданное число.\n",
    "\"\"\"\n",
    "\n",
    "\n",
    "def fucn_compute(n):\n",
    "    return lambda x: x * n\n",
    "\n",
    "\n",
    "res = fucn_compute(2)\n",
    "print(res(15))  # = 30\n",
    "print(res(20))  # = 40\n",
    "\n",
    "res = fucn_compute(3)\n",
    "print(res(15))  # = 45\n",
    "print(res(20))  # = 60"
   ],
   "metadata": {
    "collapsed": false,
    "pycharm": {
     "name": "#%%\n"
    }
   }
  },
  {
   "cell_type": "code",
   "execution_count": 1033,
   "outputs": [
    {
     "name": "stdout",
     "output_type": "stream",
     "text": [
      "3\n",
      "13\n",
      "89\n"
     ]
    }
   ],
   "source": [
    "\"\"\"\n",
    "Написать рекурсивную функцию для нахождения n-го числа Фибоначчи.\n",
    "\n",
    "--------------\n",
    "Тестовые значения:\n",
    "1 1 2 3 5 8 13 21 34 55 89 ....\n",
    "\n",
    "n = 3,  3\n",
    "n = 6,  13\n",
    "n = 10, 89\n",
    "\"\"\"\n",
    "\n",
    "\n",
    "def fib(n):\n",
    "    if n in [0, 1]:\n",
    "        return 1\n",
    "    return fib(n - 1) + fib(n - 2)\n",
    "\n",
    "\n",
    "print(fib(3))\n",
    "print(fib(6))\n",
    "print(fib(10))"
   ],
   "metadata": {
    "collapsed": false,
    "pycharm": {
     "name": "#%%\n"
    }
   }
  },
  {
   "cell_type": "code",
   "execution_count": 1034,
   "outputs": [
    {
     "name": "stdout",
     "output_type": "stream",
     "text": [
      "81\n",
      "1000\n",
      "3125\n",
      "0.027777777777777776\n"
     ]
    }
   ],
   "source": [
    "\"\"\"\n",
    "Написать рекурсивную функцию возведения числа в целую степень.\n",
    "\n",
    "------------\n",
    "Тестовые значения:\n",
    "3^4 = 81\n",
    "10^3 = 1000\n",
    "5^5 = 3125\n",
    "6^-2 = 0.03\n",
    "\"\"\"\n",
    "\n",
    "\n",
    "def pow(a, n):\n",
    "    if n == 0:\n",
    "        return 1\n",
    "    if n < 0:\n",
    "        return 1 / pow(a, -n)\n",
    "    return a * pow(a, n - 1)\n",
    "\n",
    "\n",
    "print(pow(3, 4))\n",
    "print(pow(10, 3))\n",
    "print(pow(5, 5))\n",
    "print(pow(6, -2))"
   ],
   "metadata": {
    "collapsed": false,
    "pycharm": {
     "name": "#%%\n"
    }
   }
  },
  {
   "cell_type": "code",
   "execution_count": 1035,
   "outputs": [
    {
     "name": "stdout",
     "output_type": "stream",
     "text": [
      "Try another card..\n",
      "You win!\n",
      "You lose!\n"
     ]
    }
   ],
   "source": [
    "\"\"\"\n",
    "Написать функцию, принимающую в качестве своего параметра название игральной карты\n",
    "(6, 7, 8, 9, 10, В, Д, К, Т) и проверяющую набрал ли игрок за текущий ход 21 очко.\n",
    "Если набрано меньше, вывести на экран предложение вытянуть еще одну карту.\n",
    "Если больше - сообщение о проигрыше. Если ровно 21 очко - сообщение о выигрыше.\n",
    "Внутри данной функции определить еще одну функцию, которая будет возвращать числовой эквивалент вытянутой карты.\n",
    "Решить задачу с использованием локальных, глобальных и нелокальных переменных.\n",
    "\"\"\"\n",
    "points = 0\n",
    "\n",
    "\n",
    "def game(card, max_sum=21):\n",
    "    def get_cur_points():\n",
    "        points = {'6': 6, '7': 7, '8': 8, '9': 9, '10': 10, 'V': 2, 'D': 3, 'K': 4, 'T': 11}\n",
    "        if card in points.keys():\n",
    "            return points[card]\n",
    "        return 0\n",
    "\n",
    "    global points\n",
    "    points += get_cur_points()\n",
    "\n",
    "    if points < max_sum:\n",
    "        print('Try another card..')\n",
    "    elif points > max_sum:\n",
    "        print('You lose!')\n",
    "    else:\n",
    "        print('You win!')\n",
    "\n",
    "\n",
    "game('T')\n",
    "game('10')\n",
    "game('D')"
   ],
   "metadata": {
    "collapsed": false,
    "pycharm": {
     "name": "#%%\n"
    }
   }
  },
  {
   "cell_type": "code",
   "execution_count": 1036,
   "outputs": [
    {
     "name": "stdout",
     "output_type": "stream",
     "text": [
      "Try another card..\n",
      "You win!\n",
      "You lose!\n"
     ]
    }
   ],
   "source": [
    "\"\"\"\n",
    "решение предыдущей задачи с использованием нелокальной переменной\n",
    "\"\"\"\n",
    "\n",
    "points = 0\n",
    "\n",
    "\n",
    "def game(card, max_sum=21):\n",
    "    cur_points = 0\n",
    "\n",
    "    def get_cur_points():\n",
    "        nonlocal cur_points\n",
    "        points = {'6': 6, '7': 7, '8': 8, '9': 9, '10': 10, 'V': 2, 'D': 3, 'K': 4, 'T': 11}\n",
    "        if card in points.keys():\n",
    "            cur_points = points[card]\n",
    "\n",
    "    get_cur_points()\n",
    "    global points\n",
    "    points += cur_points\n",
    "\n",
    "    if points < max_sum:\n",
    "        print('Try another card..')\n",
    "    elif points > max_sum:\n",
    "        print('You lose!')\n",
    "    else:\n",
    "        print('You win!')\n",
    "\n",
    "\n",
    "game('T')\n",
    "game('10')\n",
    "game('D')"
   ],
   "metadata": {
    "collapsed": false,
    "pycharm": {
     "name": "#%%\n"
    }
   }
  },
  {
   "cell_type": "code",
   "execution_count": 1037,
   "outputs": [
    {
     "name": "stdout",
     "output_type": "stream",
     "text": [
      "['green', 'red', 'yellow', 'black', 'white']\n",
      "['black', 'green', 'red', 'white', 'yellow']\n",
      "black-green-red-white-yellow\n"
     ]
    }
   ],
   "source": [
    "\"\"\"\n",
    "Написать функцию, которая принимает строку с разделенными дефисом словами\n",
    "и возвращает эту же строку со словами отсортированными в алфавитном порядке.\n",
    "Например, строка “green-red-yellow-black-white” должна быть преобразована\n",
    "в строку “black-green-red-white-yellow”.\n",
    "\"\"\"\n",
    "\n",
    "s = 'green-red-yellow-black-white'\n",
    "\n",
    "\n",
    "def transform_str(s):\n",
    "    l = s.split('-')\n",
    "    print(l)\n",
    "    l.sort()\n",
    "    print(l)\n",
    "    return '-'.join(l)\n",
    "\n",
    "\n",
    "print(transform_str(s))"
   ],
   "metadata": {
    "collapsed": false,
    "pycharm": {
     "name": "#%%\n"
    }
   }
  },
  {
   "cell_type": "code",
   "execution_count": 1038,
   "outputs": [
    {
     "name": "stdout",
     "output_type": "stream",
     "text": [
      "[1]\n",
      "[1, 1]\n",
      "[1, 2, 1]\n",
      "[1, 3, 3, 1]\n",
      "[1, 4, 6, 4, 1]\n",
      "[1, 5, 10, 10, 5, 1]\n",
      "[1, 6, 15, 20, 15, 6, 1]\n",
      "[1, 7, 21, 35, 35, 21, 7, 1]\n",
      "[1, 8, 28, 56, 70, 56, 28, 8, 1]\n",
      "[1, 9, 36, 84, 126, 126, 84, 36, 9, 1]\n"
     ]
    }
   ],
   "source": [
    "\"\"\"\n",
    "Написать функцию, которая выводит на экран первые N строк треугольника Паскаля.\n",
    "*Треугольник Паскаля - это бесконечная таблица чисел, имеющая форму треугольника,\n",
    "в котором на вершине и по бокам стоят единицы, а каждый центральный элемент равен сумме двух элементов,\n",
    "расположенных над ним.\n",
    "\n",
    "     1\n",
    "    1 1\n",
    "   1 2 1\n",
    "  1 3 3 1\n",
    " 1 4 6 4 1\n",
    "\"\"\"\n",
    "\n",
    "\n",
    "def get_row(prev_row):\n",
    "    row = [1]\n",
    "    for i in range(0, len(prev_row) - 1):\n",
    "        row.append(prev_row[i] + prev_row[i + 1])\n",
    "    row.append(1)\n",
    "    return row\n",
    "\n",
    "\n",
    "def print_tr_Pascal(n):\n",
    "    cur_row = [1]\n",
    "    for i in range(1, n + 1):\n",
    "        print(cur_row)\n",
    "        next_row = get_row(cur_row)\n",
    "        cur_row = next_row\n",
    "\n",
    "\n",
    "print_tr_Pascal(10)"
   ],
   "metadata": {
    "collapsed": false,
    "pycharm": {
     "name": "#%%\n"
    }
   }
  },
  {
   "cell_type": "code",
   "execution_count": 1039,
   "outputs": [
    {
     "name": "stdout",
     "output_type": "stream",
     "text": [
      "[8, 18, 8, 11, 8, 11, 4, 4, 17, 29, 3, 3]\n",
      "70\n"
     ]
    }
   ],
   "source": [
    "\"\"\"\n",
    "Дана последовательность из N целых чисел.\n",
    "Сформировать последовательность, каждый элемент которой равен сумме цифр соответствующего\n",
    "элемента исходной последовательности.\n",
    "Найти сумму цифр в сформированной последовательности.\n",
    "\n",
    "-----------------\n",
    "Тестовые значения:\n",
    "[44,576,17,2342,8,434,22,40,2366,97454,3,12]  -> [8, 18, 8, 11, 8, 11, 4, 4, 17, 29, 3, 3], s=70\n",
    "\"\"\"\n",
    "l = [44, 576, 17, 2342, 8, 434, 22, 40, 2366, 97454, 3, 12]\n",
    "\n",
    "\n",
    "def digit_sum(n):\n",
    "    s = 0\n",
    "    while n > 0:\n",
    "        s += n % 10\n",
    "        n //= 10\n",
    "    return s\n",
    "\n",
    "\n",
    "res = []\n",
    "for elem in l:\n",
    "    res.append(digit_sum(elem))\n",
    "\n",
    "print(res)\n",
    "\n",
    "s = 0\n",
    "for elem in res:\n",
    "    s += digit_sum(elem)\n",
    "\n",
    "print(s)"
   ],
   "metadata": {
    "collapsed": false,
    "pycharm": {
     "name": "#%%\n"
    }
   }
  },
  {
   "cell_type": "code",
   "execution_count": 1040,
   "outputs": [
    {
     "name": "stdout",
     "output_type": "stream",
     "text": [
      "[2, 3, 5, 7, 11, 13, 17, 19, 23, 29, 31, 37, 41, 43, 47, 53, 59, 61, 67, 71, 73, 79, 83, 89, 97, 101, 103, 107, 109, 113, 127, 131, 137, 139, 149, 151, 157, 163, 167, 173, 179, 181, 191, 193, 197, 199, 211, 223, 227, 229, 233, 239, 241, 251, 257, 263, 269, 271, 277, 281, 283, 293, 307, 311, 313, 317, 331, 337, 347, 349, 353, 359, 367, 373, 379, 383, 389, 397, 401, 409, 419, 421, 431, 433, 439, 443, 449, 457, 461, 463, 467, 479, 487, 491, 499, 503, 509, 521, 523, 541] 100\n"
     ]
    }
   ],
   "source": [
    "\"\"\"\n",
    "Вывести на экран последовательность из первых 100 простых чисел.\n",
    "Найти сумму элементов полученной последовательности.\n",
    "\"\"\"\n",
    "res = []\n",
    "count = 0\n",
    "\n",
    "\n",
    "def is_prime(n):\n",
    "    for i in range(2, n // 2 + 1):\n",
    "        if n % i == 0:\n",
    "            return False\n",
    "    return True\n",
    "\n",
    "\n",
    "i = 2\n",
    "while count < 100:\n",
    "    if is_prime(i):\n",
    "        res.append(i)\n",
    "        count += 1\n",
    "    i += 1\n",
    "\n",
    "print(res, len(res))"
   ],
   "metadata": {
    "collapsed": false,
    "pycharm": {
     "name": "#%%\n"
    }
   }
  },
  {
   "cell_type": "code",
   "execution_count": 1041,
   "outputs": [
    {
     "name": "stdout",
     "output_type": "stream",
     "text": [
      "{'upper_num': 3, 'lower_num': 4}\n",
      "{'upper_num': 1, 'lower_num': 4}\n",
      "{'upper_num': 7, 'lower_num': 0}\n"
     ]
    }
   ],
   "source": [
    "\"\"\"\n",
    "Написать функцию, которая принимает в качестве аргумента строку и\n",
    "подсчитывает в ней количество символов в верхнем и нижнем регистре.\n",
    "\"\"\"\n",
    "\n",
    "\n",
    "def str_count(s):\n",
    "    upper_num = 0\n",
    "    lower_num = 0\n",
    "\n",
    "    for char in s:\n",
    "        if char.isupper():\n",
    "            upper_num += 1\n",
    "        elif char.islower():\n",
    "            lower_num += 1\n",
    "\n",
    "    return {'upper_num': upper_num, 'lower_num': lower_num}\n",
    "\n",
    "\n",
    "print(str_count('ABCaacd'))\n",
    "print(str_count('aaRc@d'))\n",
    "print(str_count('CCCCCCC'))"
   ],
   "metadata": {
    "collapsed": false,
    "pycharm": {
     "name": "#%%\n"
    }
   }
  },
  {
   "cell_type": "code",
   "execution_count": 1042,
   "outputs": [
    {
     "name": "stdout",
     "output_type": "stream",
     "text": [
      "0\n"
     ]
    }
   ],
   "source": [
    "\"\"\"\n",
    "Написать функцию, которая принимает произвольное число чисел,\n",
    "вычисляет их среднее арифметическое и возвращает только те числа,\n",
    "которые меньше полученного среднего арифметического.\n",
    "\n",
    "--------------\n",
    "Тестовые примеры:\n",
    "1,2,3,4,5,6,7,8,9  -> sr.arifm.=5\n",
    "3,6,1,9,5   -> sr.arifm.= 4.8\n",
    "\"\"\"\n",
    "\n",
    "\"\"\"\n",
    "def foo(*args):\n",
    "    res = []\n",
    "    sr_ar = sum(args) / len(args)\n",
    "    print(sr_ar)\n",
    "\n",
    "    for num in args:\n",
    "        if num < sr_ar:\n",
    "            res.append(num)\n",
    "    return res\n",
    "\n",
    "\n",
    "print(foo(1, 2, 3, 4, 5, 6, 7, 8, 9))\n",
    "print(foo(3, 6, 1, 9, 5))\n",
    "\"\"\"\n",
    "print(0)"
   ],
   "metadata": {
    "collapsed": false,
    "pycharm": {
     "name": "#%%\n"
    }
   }
  },
  {
   "cell_type": "code",
   "execution_count": 1043,
   "outputs": [
    {
     "name": "stdout",
     "output_type": "stream",
     "text": [
      "[21, 5432, 323, 6544, 7865, 26, 437, 18, 19]\n",
      "[5432, 323, 7865, 18, 19]\n"
     ]
    }
   ],
   "source": [
    "\"\"\"\n",
    "Написать функцию, которая принимает произвольное число чисел и преобразовывает их таким образом,\n",
    "чтобы цифры каждого числа (по умолчанию) были записаны в обратном порядке.\n",
    "Предусмотреть возможность по запросу пользователя выполнять преобразования только над нечетными числами.\n",
    "\"\"\"\n",
    "\n",
    "\n",
    "def reverse_num(n):\n",
    "    s = str(n)\n",
    "    return int(s[::-1])\n",
    "\n",
    "\n",
    "def foo(*args, only_odd=False):\n",
    "    res = []\n",
    "    for i in args:\n",
    "        if not only_odd or (only_odd and i % 2 != 0):\n",
    "            res.append(reverse_num(i))\n",
    "    return res\n",
    "\n",
    "\n",
    "print(foo(12, 2345, 323, 4456, 5687, 62, 734, 81, 91))\n",
    "print(foo(12, 2345, 323, 4456, 5687, 62, 734, 81, 91, only_odd=True))"
   ],
   "metadata": {
    "collapsed": false,
    "pycharm": {
     "name": "#%%\n"
    }
   }
  },
  {
   "cell_type": "code",
   "execution_count": 1044,
   "outputs": [
    {
     "name": "stdout",
     "output_type": "stream",
     "text": [
      "Name:  Anna\n",
      "Last name:  Minker\n",
      "\n",
      "age :  27\n",
      "phone :  123456789\n",
      "------------------------------\n",
      "Name:  John\n",
      "Last name:  Bold\n",
      "\n",
      "age :  32\n",
      "country :  USA\n",
      "email :  aaa@com\n",
      "phone :  987654321\n",
      "------------------------------\n",
      "Name:  Sonia\n",
      "Last name:  Moon\n",
      "------------------------------\n",
      "invalid data\n"
     ]
    }
   ],
   "source": [
    "\"\"\"\n",
    "Написать функцию, принимающую некоторую информацию о сотруднике и выводящую ее на экран согласно следующему шаблону:\n",
    "    имя\n",
    "    фамилия\n",
    "    пустая строка (в случае наличия других полей)\n",
    "\tдругие поля в алфавитном порядке их заголовков\n",
    "\tразделитель, состоящий из записанных подряд 30-ти дефисов “-”.\n",
    "\n",
    "Например:\n",
    "\tName: Anna\n",
    "\tLast Name: Minker\n",
    "\n",
    "\tAge: 27\n",
    "\tPhone: 123456789\n",
    "\t------------------------------\n",
    "\tName: John\n",
    "\tLast Name: Bold\n",
    "\n",
    "\tAge: 32\n",
    "\tCountry: USA\n",
    "\tEmail: john.bold.@mail.com\n",
    "\tPhone: 987654321\n",
    "\n",
    "Если переданная информация не содержит имени или фамилии сотрудника, вывести сообщение об ошибке.\n",
    "\n",
    "\n",
    "-------------\n",
    "Тестовые значения:\n",
    "(name='Anna', surname='Minker', age=27, phone=123456789)\n",
    "(name='John', surname='Bold', country='USA', email='aaa@com', phone='987654321', age=32)\n",
    "(name='Sonia', surname='Moon')\n",
    "(name='Alex')\n",
    "\"\"\"\n",
    "\n",
    "\n",
    "def print_info(**kwargs):\n",
    "    if 'name' not in kwargs or 'surname' not in kwargs:\n",
    "        print('invalid data')\n",
    "        return None\n",
    "\n",
    "    print('Name: ', kwargs['name'])\n",
    "    print('Last name: ', kwargs['surname'])\n",
    "    if len(kwargs) > 2:\n",
    "        print()\n",
    "        keys = list(kwargs.keys())[2:]\n",
    "        keys.sort()\n",
    "        for k in keys:\n",
    "            print(k, ': ', kwargs[k])\n",
    "\n",
    "    print('-' * 30)\n",
    "\n",
    "\n",
    "print_info(name='Anna', surname='Minker', age=27, phone=123456789)\n",
    "print_info(name='John', surname='Bold', country='USA', email='aaa@com', phone='987654321', age=32)\n",
    "print_info(name='Sonia', surname='Moon')\n",
    "print_info(name='Alex')"
   ],
   "metadata": {
    "collapsed": false,
    "pycharm": {
     "name": "#%%\n"
    }
   }
  },
  {
   "cell_type": "code",
   "execution_count": 1045,
   "outputs": [
    {
     "name": "stdout",
     "output_type": "stream",
     "text": [
      "[{'name': 'Michael', 'last name': 'Anders', 'raiting': 6}, {'name': 'Antony', 'last name': 'Bloom', 'raiting': 9}, {'name': 'Greg', 'last name': 'Mc Queen', 'raiting': 4}, {'name': 'Alon', 'last name': 'Riddler', 'raiting': 10}]\n",
      "[{'name': 'Alon', 'last name': 'Riddler', 'raiting': 10}, {'name': 'Antony', 'last name': 'Bloom', 'raiting': 9}, {'name': 'Michael', 'last name': 'Anders', 'raiting': 6}, {'name': 'Greg', 'last name': 'Mc Queen', 'raiting': 4}]\n",
      "[{'name': 'Greg', 'last name': 'Mc Queen', 'raiting': 4}, {'name': 'Michael', 'last name': 'Anders', 'raiting': 6}, {'name': 'Antony', 'last name': 'Bloom', 'raiting': 9}, {'name': 'Alon', 'last name': 'Riddler', 'raiting': 10}]\n"
     ]
    }
   ],
   "source": [
    "\"\"\"\n",
    "Дан список игроков команды, причем для каждого игрока указаны его имя,\n",
    "фамилия и игровой рейтинг (по шкале от 1 до 10, где 10 - наивысший балл).\n",
    "Отсортируйте список игроков по фамилии, а затем по их рейтингу от лучшего к худшему и наоборот.\n",
    "Решите задачу с использованием lambda-функций.\n",
    "\n",
    "------------\n",
    "Тестовые значения:\n",
    "[{'name': 'Antony', 'last name': 'Bloom', 'raiting': 9},\n",
    " {'name': 'Alon', 'last name': 'Riddler', 'raiting': 10},\n",
    " {'name': 'Greg', 'last name': 'Mc Queen', 'raiting': 4},\n",
    " {'name': 'Michael', 'last name': 'Anders', 'raiting': 6}]\n",
    "\"\"\"\n",
    "\n",
    "players = [{'name': 'Antony', 'last name': 'Bloom', 'raiting': 9},\n",
    "           {'name': 'Alon', 'last name': 'Riddler', 'raiting': 10},\n",
    "           {'name': 'Greg', 'last name': 'Mc Queen', 'raiting': 4},\n",
    "           {'name': 'Michael', 'last name': 'Anders', 'raiting': 6}]\n",
    "\n",
    "res = sorted(players, key=lambda item: item['last name'])\n",
    "print(res)\n",
    "\n",
    "res = sorted(players, key=lambda item: item['raiting'], reverse=True)\n",
    "print(res)\n",
    "\n",
    "res = sorted(players, key=lambda item: item['raiting'])\n",
    "print(res)"
   ],
   "metadata": {
    "collapsed": false,
    "pycharm": {
     "name": "#%%\n"
    }
   }
  },
  {
   "cell_type": "code",
   "execution_count": 1046,
   "outputs": [
    {
     "name": "stdout",
     "output_type": "stream",
     "text": [
      "['Alex', 'Nonna', 'Andry']\n",
      "14\n"
     ]
    }
   ],
   "source": [
    "\"\"\"\n",
    "Дан список имен. Найдите сумму длин имен списка после удаления всех имен,\n",
    "начинающихся с маленькой буквы. Решите задачу с использованием lambda-функций.\n",
    "\n",
    "--------------------\n",
    "Тестовые значения:\n",
    "['Alex', 'mary', 'Nonna', 'anna', 'michael', 'Andry']  ->  14\n",
    "\"\"\"\n",
    "names = ['Alex', 'mary', 'Nonna', 'anna', 'michael', 'Andry']\n",
    "names = list(filter(lambda name: name[0].isupper(), names))\n",
    "print(names)\n",
    "\n",
    "# res = 0\n",
    "# for n in names:\n",
    "#     res += len(n)\n",
    "#\n",
    "# print(res)\n",
    "\n",
    "# 2-ой вариант решения\n",
    "\n",
    "s = ''.join(names)\n",
    "print(len(s))"
   ],
   "metadata": {
    "collapsed": false,
    "pycharm": {
     "name": "#%%\n"
    }
   }
  },
  {
   "cell_type": "code",
   "execution_count": 1047,
   "outputs": [
    {
     "name": "stdout",
     "output_type": "stream",
     "text": [
      "[0, 0, 0, 1, 1, 0, 2]\n"
     ]
    }
   ],
   "source": [
    "\"\"\"\n",
    "Дан список городов. Сгенерируйте еще один список, содержащий количество вхождений букв ‘a’ и ‘A’\n",
    "в название каждого города. Решите задачу с использованием lambda-функций.\n",
    "\n",
    "-------------\n",
    "Тестовые значения:\n",
    "['Moscow', 'NY', 'Tokio', 'Los Angeles', 'Paris', 'Venice', 'Amsterdam']\n",
    "\"\"\"\n",
    "\n",
    "l = ['Moscow', 'NY', 'Tokio', 'Los Angeles', 'Paris', 'Venice', 'Amsterdam']\n",
    "\n",
    "res = list(map(lambda elem: elem.count('a') + elem.count('A'), l))\n",
    "print(res)\n"
   ],
   "metadata": {
    "collapsed": false,
    "pycharm": {
     "name": "#%%\n"
    }
   }
  },
  {
   "cell_type": "code",
   "execution_count": 1048,
   "outputs": [
    {
     "name": "stdout",
     "output_type": "stream",
     "text": [
      "[0, 6, 64, 243, 64, 250]\n"
     ]
    }
   ],
   "source": [
    "\"\"\"\n",
    "Преобразуйте заданную последовательность чисел таким образом,\n",
    "чтобы каждый элемент новой последовательности был равен произведению соответствующего элемента\n",
    "исходной последовательности и его порядкового номера, возведенного в куб.\n",
    "Решите задачу с использованием lambda-функций.\n",
    "\n",
    "--------------\n",
    "Тестовые значения:\n",
    "3, 6, 8, 9, 1, 2]  -> [0, 6, 64, 243, 64, 250]\n",
    "\"\"\"\n",
    "l = [3, 6, 8, 9, 1, 2]\n",
    "\n",
    "res = list(map(lambda elem: elem * l.index(elem) ** 3, l))\n",
    "print(res)"
   ],
   "metadata": {
    "collapsed": false,
    "pycharm": {
     "name": "#%%\n"
    }
   }
  },
  {
   "cell_type": "code",
   "execution_count": 1049,
   "outputs": [
    {
     "name": "stdout",
     "output_type": "stream",
     "text": [
      "[-4, -6, -8, -12]\n",
      "30.0\n"
     ]
    }
   ],
   "source": [
    "\"\"\"\n",
    "Дана последовательность чисел. Удалите из нее все положительные числа.\n",
    "Вычислите сумму отрицательных чисел и напечатайте ее абсолютное значение.\n",
    "Решите задачу с использованием lambda-функций.\n",
    "\"\"\"\n",
    "from math import fsum\n",
    "\n",
    "l = [3, -4, -6, 7, -8, 3, -12, 4, 7]\n",
    "\n",
    "l = list(filter(lambda i: i < 0, l))\n",
    "print(l)\n",
    "print(abs(fsum(l)))"
   ],
   "metadata": {
    "collapsed": false,
    "pycharm": {
     "name": "#%%\n"
    }
   }
  },
  {
   "cell_type": "code",
   "execution_count": 1050,
   "outputs": [
    {
     "name": "stdout",
     "output_type": "stream",
     "text": [
      "12\n",
      "30\n"
     ]
    }
   ],
   "source": [
    "\"\"\"\n",
    "Напишите рекурсивную функцию, вычисляющую сумму чисел следующей последовательности:\n",
    "n + (n-2) + (n-4) ….  (n-x),\n",
    "где (n-x) последнее положительное число последовательности.\n",
    "Например, для n=6 сумма будет равна 12, а для n=10 сумма равна 30.\n",
    "\"\"\"\n",
    "\n",
    "\n",
    "def foo(n):\n",
    "    if n <= 0:\n",
    "        return 0\n",
    "    return n + foo(n - 2)\n",
    "\n",
    "\n",
    "print(foo(6))\n",
    "print(foo(10))"
   ],
   "metadata": {
    "collapsed": false,
    "pycharm": {
     "name": "#%%\n"
    }
   }
  },
  {
   "cell_type": "code",
   "execution_count": 1051,
   "outputs": [
    {
     "name": "stdout",
     "output_type": "stream",
     "text": [
      "88\n",
      "132\n",
      "124\n"
     ]
    }
   ],
   "source": [
    "\"\"\"\n",
    "Написать функцию, вычисляющую площадь прямоугольного параллелепипеда с ребрами a, b и c.\n",
    "Данная функция должна содержать внутри себе еще одну функцию, вычисляющую площадь прямоугольника.\n",
    "Решить задачу для случаев, когда общая площадь определена как глобальная и как локальная переменная.\n",
    "Внести изменения в функции таким образом, чтобы общая площадь могла использоваться как нелокальная переменная.\n",
    "\n",
    "------------\n",
    "Тестовые значения:\n",
    "2,4,6 -> 88\n",
    "5,8,2 -> 132\n",
    "1,6,8 -> 124\n",
    "\"\"\"\n",
    "\n",
    "\n",
    "# локальная переменная\n",
    "def rect_paral_square(a, b, c):\n",
    "    def rect_square(i, j):\n",
    "        return i * j\n",
    "\n",
    "    s = 2 * (rect_square(a, b) + rect_square(a, c) + rect_square(c, b))\n",
    "    return s\n",
    "\n",
    "\n",
    "print(rect_paral_square(2, 4, 6))\n",
    "print(rect_paral_square(5, 8, 2))\n",
    "print(rect_paral_square(1, 6, 8))"
   ],
   "metadata": {
    "collapsed": false,
    "pycharm": {
     "name": "#%%\n"
    }
   }
  },
  {
   "cell_type": "code",
   "execution_count": 1052,
   "outputs": [],
   "source": [
    "def max(arg1, *args, key=lambda x: x):\n",
    "    # arg1 — первый аргумент, args — список из второго и последующих аргументов\n",
    "    if args:\n",
    "        # Передали несколько аргументов — объединяем все в один список\n",
    "        iterable = [arg1] + list(args)\n",
    "    else:\n",
    "        # Передали один аргумент — считаем, что он iterable\n",
    "        iterable = arg1\n",
    "    # Сначала в качестве максимума выберем первый элемент\n",
    "    result = iterable[0]\n",
    "    # Перебираем остальные элементы\n",
    "    for item in iterable[1:]:\n",
    "        if key(item) > key(result):\n",
    "            result = item\n",
    "    return result"
   ],
   "metadata": {
    "collapsed": false,
    "pycharm": {
     "name": "#%%\n"
    }
   }
  },
  {
   "cell_type": "code",
   "execution_count": 1053,
   "outputs": [
    {
     "name": "stdout",
     "output_type": "stream",
     "text": [
      "23\n"
     ]
    }
   ],
   "source": [
    "\"\"\"\n",
    "Написать рекурсивную функцию поиска максимального элемента числовой последовательности.\n",
    "\"\"\"\n",
    "l = [3, 6, 2, 7, 9, 6, 5, 23, 4, 5, 1, 6, 0]\n",
    "\n",
    "\n",
    "def foo(l):\n",
    "    if len(l) > 1:\n",
    "        return max(l[0], foo(l[1:]))\n",
    "    else:\n",
    "        return l[0]\n",
    "\n",
    "\n",
    "print(foo(l))"
   ],
   "metadata": {
    "collapsed": false,
    "pycharm": {
     "name": "#%%\n"
    }
   }
  },
  {
   "cell_type": "code",
   "execution_count": 1054,
   "outputs": [
    {
     "name": "stdout",
     "output_type": "stream",
     "text": [
      "88\n",
      "132\n",
      "124\n"
     ]
    }
   ],
   "source": [
    "\"\"\"\n",
    "------------\n",
    "Тестовые значения:\n",
    "2,4,6 -> 88\n",
    "5,8,2 -> 132\n",
    "1,6,8 -> 124\n",
    "\"\"\"\n",
    "\n",
    "\n",
    "# нелокальная переменная\n",
    "\n",
    "def rect_paral_square(a, b, c):\n",
    "    s = 0\n",
    "\n",
    "    def add_rect_square(i, j):\n",
    "        nonlocal s\n",
    "        s += i * j\n",
    "\n",
    "    add_rect_square(a, b)\n",
    "    add_rect_square(a, c)\n",
    "    add_rect_square(c, b)\n",
    "    return 2 * s\n",
    "\n",
    "\n",
    "print(rect_paral_square(2, 4, 6))\n",
    "print(rect_paral_square(5, 8, 2))\n",
    "print(rect_paral_square(1, 6, 8))"
   ],
   "metadata": {
    "collapsed": false,
    "pycharm": {
     "name": "#%%\n"
    }
   }
  },
  {
   "cell_type": "code",
   "execution_count": 1055,
   "outputs": [
    {
     "name": "stdout",
     "output_type": "stream",
     "text": [
      "\n",
      "    Вычисляет площадь прямоугольного параллелепипеда с ребрами a, b, c\n",
      "    :param a: значение ребра a\n",
      "    :param b: значение ребра b\n",
      "    :param c: значение ребра c\n",
      "    :return: площадь s\n",
      "    \n"
     ]
    }
   ],
   "source": [
    "\"\"\"\n",
    "Выберите любую документированную функцию и выведите на экран строки документации.\n",
    "\"\"\"\n",
    "\n",
    "\n",
    "def rect_paral_square(a, b, c):\n",
    "    \"\"\"\n",
    "    Вычисляет площадь прямоугольного параллелепипеда с ребрами a, b, c\n",
    "    :param a: значение ребра a\n",
    "    :param b: значение ребра b\n",
    "    :param c: значение ребра c\n",
    "    :return: площадь s\n",
    "    \"\"\"\n",
    "    s = 0\n",
    "\n",
    "    def add_rect_square(i, j):\n",
    "        nonlocal s\n",
    "        s += i * j\n",
    "\n",
    "    add_rect_square(a, b)\n",
    "    add_rect_square(a, c)\n",
    "    add_rect_square(c, b)\n",
    "    return 2 * s\n",
    "\n",
    "\n",
    "print(rect_paral_square.__doc__)"
   ],
   "metadata": {
    "collapsed": false,
    "pycharm": {
     "name": "#%%\n"
    }
   }
  },
  {
   "cell_type": "code",
   "execution_count": 1056,
   "outputs": [
    {
     "name": "stdout",
     "output_type": "stream",
     "text": [
      "21\n"
     ]
    }
   ],
   "source": [
    "\"\"\"\n",
    "Написать рекурсивную функцию, вычисляющую сумму элементов списка,\n",
    "элементы которого также могут быть списком. Например, для списка [1, 2, [3, 4], [5, 6]]\n",
    "сумма элементов равна 21.\n",
    "\"\"\"\n",
    "l = [1, 2, [3, 4], [5, 6]]\n",
    "\n",
    "\n",
    "def foo(l):\n",
    "    s = 0\n",
    "    for elem in l:\n",
    "        if type(elem) is list:\n",
    "            s += foo(elem)\n",
    "        else:\n",
    "            s += elem\n",
    "\n",
    "    return s\n",
    "\n",
    "\n",
    "print(foo(l))\n"
   ],
   "metadata": {
    "collapsed": false,
    "pycharm": {
     "name": "#%%\n"
    }
   }
  },
  {
   "cell_type": "code",
   "execution_count": 1057,
   "outputs": [
    {
     "name": "stdout",
     "output_type": "stream",
     "text": [
      "Moscow 1\n",
      "Moscow 2\n",
      "NY 1\n",
      "NY 2\n",
      "Moscow 3\n"
     ]
    }
   ],
   "source": [
    "\"\"\"\n",
    "Напишите функцию, ведущую подсчет количества посещений указанного города.\n",
    "Функция должна принимать в качестве аргумента название города и возвращать\n",
    "некоторую внутреннюю функцию, которая каждый раз при ее вызове будет увеличивать\n",
    "счетчик посещений на 1. При решении задачи используйте нелокальную область видимости.\n",
    "\"\"\"\n",
    "\n",
    "\n",
    "def foo(city):\n",
    "    s = 0\n",
    "\n",
    "    def incr():\n",
    "        nonlocal s\n",
    "        s += 1\n",
    "        print(city, s)\n",
    "\n",
    "    return incr\n",
    "\n",
    "\n",
    "res1 = foo('Moscow')\n",
    "res1()\n",
    "res1()\n",
    "\n",
    "res2 = foo('NY')\n",
    "res2()\n",
    "res2()\n",
    "\n",
    "res1()"
   ],
   "metadata": {
    "collapsed": false,
    "pycharm": {
     "name": "#%%\n"
    }
   }
  },
  {
   "cell_type": "code",
   "execution_count": 1058,
   "outputs": [
    {
     "name": "stdout",
     "output_type": "stream",
     "text": [
      "88\n",
      "132\n",
      "124\n"
     ]
    }
   ],
   "source": [
    "\"\"\"\n",
    "------------\n",
    "Тестовые значения:\n",
    "2,4,6 -> 88\n",
    "5,8,2 -> 132\n",
    "1,6,8 -> 124\n",
    "\"\"\"\n",
    "# глобальная переменная\n",
    "s = 0\n",
    "\n",
    "\n",
    "def rect_paral_square(a, b, c):\n",
    "    def rect_square(i, j):\n",
    "        return i * j\n",
    "\n",
    "    global s\n",
    "    s = 2 * (rect_square(a, b) + rect_square(a, c) + rect_square(c, b))\n",
    "\n",
    "\n",
    "rect_paral_square(2, 4, 6)\n",
    "print(s)\n",
    "rect_paral_square(5, 8, 2)\n",
    "print(s)\n",
    "rect_paral_square(1, 6, 8)\n",
    "print(s)"
   ],
   "metadata": {
    "collapsed": false,
    "pycharm": {
     "name": "#%%\n"
    }
   }
  },
  {
   "cell_type": "code",
   "execution_count": 1059,
   "outputs": [
    {
     "name": "stdout",
     "output_type": "stream",
     "text": [
      "{'В': 1, 'с': 4, 'е': 9, ' ': 9, 'г': 2, 'н': 4, 'р': 8, 'а': 6, 'т': 8, 'о': 5, 'ы': 2, 'я': 6, 'в': 3, 'л': 2, 'ю': 2, 'и': 4, 'м': 2, ',': 1}\n"
     ]
    }
   ],
   "source": [
    "\"\"\"\n",
    "Дан некоторый текст. Определить количество вхождений в него каждого символа.\n",
    "\"\"\"\n",
    "\n",
    "text = \"Все генераторы являются итераторами, но не все итераторы являются генераторами\"\n",
    "# print(text)\n",
    "\n",
    "res = {}\n",
    "\n",
    "for sym in text:\n",
    "    if sym in res.keys():\n",
    "        res[sym] += 1\n",
    "    else:\n",
    "        res[sym] = 1\n",
    "\n",
    "print(res)"
   ],
   "metadata": {
    "collapsed": false,
    "pycharm": {
     "name": "#%%\n"
    }
   }
  },
  {
   "cell_type": "code",
   "execution_count": 1060,
   "outputs": [
    {
     "name": "stdout",
     "output_type": "stream",
     "text": [
      "9̲ ̲ \n",
      "39\n",
      "The reversed fraction of\n",
      "9̲ ̲ \n",
      "39\n",
      "is: \n",
      "3̲9̲ ̲ \n",
      "9\n",
      "The fraction\n",
      "9̲ ̲ \n",
      "39\n",
      "after reduction is: \n",
      "3̲ ̲ \n",
      "13\n"
     ]
    }
   ],
   "source": [
    "\"\"\"\n",
    "Определить класс “Дробь” со свойствами: числитель и знаменатель, -\n",
    "и методами: вывод дроби на экран, определение обратной дроби и сокращение дроби.\n",
    "\"\"\"\n",
    "\n",
    "\n",
    "class Fraction():\n",
    "    numerator = 9\n",
    "    denominator = 39\n",
    "\n",
    "    def print(self):\n",
    "        print('\\u0332'.join(f'{self.numerator}  '))\n",
    "        print(f'{self.denominator}')\n",
    "\n",
    "    def get_reversed(self):\n",
    "        print('The reversed fraction of')\n",
    "        self.print()\n",
    "        print('is: ')\n",
    "        rev_fr = Fraction()\n",
    "        rev_fr.numerator = self.denominator\n",
    "        rev_fr.denominator = self.numerator\n",
    "        rev_fr.print()\n",
    "\n",
    "    def reduce(self):\n",
    "        a = self.numerator\n",
    "        b = self.denominator\n",
    "        while a != b:\n",
    "            if a > b:\n",
    "                a -= b\n",
    "            else:\n",
    "                b -= a\n",
    "\n",
    "        if a != 1:\n",
    "            print('The fraction')\n",
    "            self.print()\n",
    "            print('after reduction is: ')\n",
    "            self.numerator //= a\n",
    "            self.denominator //= a\n",
    "            self.print()\n",
    "        else:\n",
    "            print('The fraction')\n",
    "            self.print()\n",
    "            print(\"can't be reduced!\")\n",
    "\n",
    "\n",
    "f1 = Fraction()\n",
    "f1.print()\n",
    "f1.get_reversed()\n",
    "f1.reduce()"
   ],
   "metadata": {
    "collapsed": false,
    "pycharm": {
     "name": "#%%\n"
    }
   }
  },
  {
   "cell_type": "code",
   "execution_count": 1061,
   "outputs": [
    {
     "name": "stdout",
     "output_type": "stream",
     "text": [
      "Vector(4; 12; 6)\n",
      "Module: 14.0\n",
      "New vector: \n",
      "Vector(20; 60; 30)\n",
      "New vector: \n",
      "Vector(60; 180; 90)\n"
     ]
    }
   ],
   "source": [
    "\"\"\"\n",
    "Определить класс “Вектор” со свойствами: 3 декартовы координаты (x, y, z), -\n",
    "и методами: вывод вектора на экран, вычисление длины вектора и умножение вектора на число.\n",
    "\n",
    "-------------\n",
    "Тестовые значения:\n",
    "(4, 12, 6) -> 14\n",
    "(3, 7, 2) -> 7.87\n",
    "\"\"\"\n",
    "from math import sqrt\n",
    "\n",
    "\n",
    "class Vector():\n",
    "    x = 4\n",
    "    y = 12\n",
    "    z = 6\n",
    "\n",
    "    def print(self):\n",
    "        print(f'Vector({self.x}; {self.y}; {self.z})')\n",
    "\n",
    "    def get_length(self):\n",
    "        # len(v) = v(x^2 + y^2 + z^2)\n",
    "        length = sqrt(self.x ** 2 + self.y ** 2 + self.z ** 2)\n",
    "        return round(length, 2)\n",
    "\n",
    "    def multiply(self, num):\n",
    "        self.x *= num\n",
    "        self.y *= num\n",
    "        self.z *= num\n",
    "        print('New vector: ')\n",
    "        self.print()\n",
    "\n",
    "\n",
    "v = Vector()\n",
    "v.print()\n",
    "print(f'Module: {v.get_length()}')\n",
    "v.multiply(5)\n",
    "v.multiply(3)"
   ],
   "metadata": {
    "collapsed": false,
    "pycharm": {
     "name": "#%%\n"
    }
   }
  },
  {
   "cell_type": "code",
   "execution_count": 1062,
   "outputs": [
    {
     "name": "stdout",
     "output_type": "stream",
     "text": [
      "5̲ ̲ \n",
      "10\n",
      "The reversed fraction of\n",
      "5̲ ̲ \n",
      "10\n",
      "is: \n",
      "1̲0̲ ̲ \n",
      "5\n",
      "8̲ ̲ \n",
      "3\n",
      "5̲ ̲ \n",
      "5\n",
      "The fraction\n",
      "5̲ ̲ \n",
      "5\n",
      "after reduction is: \n",
      "1̲ ̲ \n",
      "1\n",
      "Proper fractions count: 1\n",
      "Improper fractions count: 4\n"
     ]
    }
   ],
   "source": [
    "\"\"\"\n",
    "Измените класс “Дробь” следующим образом:\n",
    "- свойства класса - числитель и знаменатель - должны быть динамическими и\n",
    "определяться внутри нового метода, задающего значение дроби;\n",
    "- добавьте 2 статических свойства - количество правильных и неправильных дробей, -\n",
    "которые должны отображать количество созданных объектов класса соответствующих типов.\n",
    "\n",
    "\"\"\"\n",
    "\n",
    "\n",
    "class Fraction():\n",
    "    proper_fr_count = 0\n",
    "    improper_fr_count = 0\n",
    "\n",
    "    def set(self, numerator, denominator):\n",
    "        self.numerator = numerator\n",
    "        self.denominator = denominator\n",
    "\n",
    "        if numerator < denominator:\n",
    "            Fraction.proper_fr_count += 1\n",
    "        else:\n",
    "            Fraction.improper_fr_count += 1\n",
    "\n",
    "    def print(self):\n",
    "        print('\\u0332'.join(f'{self.numerator}  '))\n",
    "        print(f'{self.denominator}')\n",
    "\n",
    "    def get_reversed(self):\n",
    "        print('The reversed fraction of')\n",
    "        self.print()\n",
    "        print('is: ')\n",
    "        rev_fr = Fraction()\n",
    "        rev_fr.set(self.denominator, self.numerator)\n",
    "        rev_fr.print()\n",
    "\n",
    "    def reduce(self):\n",
    "        a = self.numerator\n",
    "        b = self.denominator\n",
    "        while a != b:\n",
    "            if a > b:\n",
    "                a -= b\n",
    "            else:\n",
    "                b -= a\n",
    "\n",
    "        if a != 1:\n",
    "            print('The fraction')\n",
    "            self.print()\n",
    "            print('after reduction is: ')\n",
    "            self.set(self.numerator // a, self.denominator // a)\n",
    "            self.print()\n",
    "        else:\n",
    "            print('The fraction')\n",
    "            self.print()\n",
    "            print(\"can't be reduced!\")\n",
    "\n",
    "\n",
    "f1 = Fraction()\n",
    "f1.set(5, 10)\n",
    "f1.print()\n",
    "f1.get_reversed()\n",
    "\n",
    "f2 = Fraction()\n",
    "f2.set(8, 3)\n",
    "f2.print()\n",
    "\n",
    "f3 = Fraction()\n",
    "f3.set(5, 5)\n",
    "f3.print()\n",
    "f3.reduce()\n",
    "\n",
    "print(f'Proper fractions count: {Fraction.proper_fr_count}')\n",
    "print(f'Improper fractions count: {Fraction.improper_fr_count}')"
   ],
   "metadata": {
    "collapsed": false,
    "pycharm": {
     "name": "#%%\n"
    }
   }
  },
  {
   "cell_type": "code",
   "execution_count": 1063,
   "outputs": [
    {
     "name": "stdout",
     "output_type": "stream",
     "text": [
      "Vector(3; 11; 1)\n",
      "Module: 11.45\n",
      "New vector: \n",
      "Vector(15; 55; 5)\n",
      "New vector: \n",
      "Vector(45; 165; 15)\n",
      "\n",
      "Vector(2; 6; -3)\n",
      "Module: 7.0\n",
      "New vector: \n",
      "Vector(10; 30; -15)\n",
      "New vector: \n",
      "Vector(30; 90; -45)\n"
     ]
    }
   ],
   "source": [
    "\"\"\"\n",
    "Измените класс “Вектор” следующим образом:\n",
    "- добавьте статическое свойство - точка отсчета (x1, y1, z1), -\n",
    "имеющее одинаковое значение для всех объектов класса;\n",
    "- три существующие свойства - декартовы координаты (x, y, z) -\n",
    "“превратите” в одно динамическое свойство - конец вектора (x2, y2, z2), -\n",
    "устанавливаемое в новом методе определения вектора;\n",
    "- внесите соответствующие изменения в методы класса.\n",
    "\n",
    "-------------\n",
    "Тестовые значения:\n",
    "(4, 12, 6) -> 14\n",
    "(3, 7, 2) -> 7.87\n",
    "\"\"\"\n",
    "from math import sqrt\n",
    "\n",
    "\n",
    "class Vector():\n",
    "    start_point = (1, 1, 5)\n",
    "\n",
    "    def set(self, x, y, z):\n",
    "        self.end_point = (x, y, z)\n",
    "        # вычисляем координаты вектора, исходя из координат точек начала и конца\n",
    "        self.x = x - Vector.start_point[0]\n",
    "        self.y = y - Vector.start_point[1]\n",
    "        self.z = z - Vector.start_point[2]\n",
    "\n",
    "    def print(self):\n",
    "        print(f'Vector({self.x}; {self.y}; {self.z})')\n",
    "\n",
    "    def get_length(self):\n",
    "        # len(v) = v(x^2 + y^2 + z^2)\n",
    "        length = sqrt(self.x ** 2 + self.y ** 2 + self.z ** 2)\n",
    "        return round(length, 2)\n",
    "\n",
    "    def multiply(self, num):\n",
    "        self.x *= num\n",
    "        self.y *= num\n",
    "        self.z *= num\n",
    "        print('New vector: ')\n",
    "        self.print()\n",
    "\n",
    "\n",
    "v1 = Vector()\n",
    "v1.set(4, 12, 6)\n",
    "v1.print()\n",
    "print(f'Module: {v1.get_length()}')\n",
    "v1.multiply(5)\n",
    "v1.multiply(3)\n",
    "\n",
    "print()\n",
    "v2 = Vector()\n",
    "v2.set(3, 7, 2)\n",
    "v2.print()\n",
    "print(f'Module: {v2.get_length()}')\n",
    "v2.multiply(5)\n",
    "v2.multiply(3)"
   ],
   "metadata": {
    "collapsed": false,
    "pycharm": {
     "name": "#%%\n"
    }
   }
  },
  {
   "cell_type": "code",
   "execution_count": 1064,
   "outputs": [
    {
     "name": "stdout",
     "output_type": "stream",
     "text": [
      "5̲ ̲ \n",
      "10\n",
      "The reversed fraction of\n",
      "5̲ ̲ \n",
      "10\n",
      "is: \n",
      "1̲0̲ ̲ \n",
      "5\n",
      "8̲ ̲ \n",
      "3\n",
      "5̲ ̲ \n",
      "5\n",
      "The fraction\n",
      "5̲ ̲ \n",
      "5\n",
      "after reduction is: \n",
      "1̲ ̲ \n",
      "1\n",
      "1̲2̲ ̲ \n",
      "36\n",
      "The fraction\n",
      "1̲2̲ ̲ \n",
      "36\n",
      "after reduction is: \n",
      "1̲ ̲ \n",
      "3\n",
      "3̲ ̲ \n",
      "2\n",
      "Proper fractions count: 3\n"
     ]
    }
   ],
   "source": [
    "\"\"\"\n",
    "Изменить класс “Дробь” следующим образом:\n",
    "- все статические свойства классов должны изменяться только внутри классовых методов;\n",
    "- выделить один или несколько вспомогательных методов (если это не было сделано ранее)\n",
    "и оформить их в виде статических методов.\n",
    "\n",
    "\"\"\"\n",
    "\n",
    "\n",
    "class Fraction():\n",
    "    proper_fr_count = 0\n",
    "    improper_fr_count = 0\n",
    "\n",
    "    @classmethod\n",
    "    def inc_fr_count(cls, is_proper):\n",
    "        if is_proper:\n",
    "            cls.proper_fr_count += 1\n",
    "        else:\n",
    "            cls.improper_fr_count += 1\n",
    "\n",
    "    def set(self, numerator, denominator):\n",
    "        self.numerator = numerator\n",
    "        self.denominator = denominator\n",
    "        Fraction.inc_fr_count(numerator < denominator)\n",
    "\n",
    "    def print(self):\n",
    "        print('\\u0332'.join(f'{self.numerator}  '))\n",
    "        print(f'{self.denominator}')\n",
    "\n",
    "    def get_reversed(self):\n",
    "        print('The reversed fraction of')\n",
    "        self.print()\n",
    "        print('is: ')\n",
    "        rev_fr = Fraction()\n",
    "        rev_fr.set(self.denominator, self.numerator)\n",
    "        rev_fr.print()\n",
    "\n",
    "    @staticmethod\n",
    "    def get_nod(a, b):\n",
    "        while a != b:\n",
    "            if a > b:\n",
    "                a -= b\n",
    "            else:\n",
    "                b -= a\n",
    "        return a\n",
    "\n",
    "    def reduce(self):\n",
    "        nod = Fraction.get_nod(self.numerator, self.denominator)\n",
    "        if nod != 1:\n",
    "            print('The fraction')\n",
    "            self.print()\n",
    "            print('after reduction is: ')\n",
    "            self.set(self.numerator // nod, self.denominator // nod)\n",
    "            self.print()\n",
    "        else:\n",
    "            print('The fraction')\n",
    "            self.print()\n",
    "            print(\"can't be reduced!\")\n",
    "\n",
    "\n",
    "f1 = Fraction()\n",
    "f1.set(5, 10)\n",
    "f1.print()\n",
    "f1.get_reversed()\n",
    "\n",
    "f2 = Fraction()\n",
    "f2.set(8, 3)\n",
    "f2.print()\n",
    "\n",
    "f3 = Fraction()\n",
    "f3.set(5, 5)\n",
    "f3.print()\n",
    "f3.reduce()\n",
    "\n",
    "f4 = Fraction()\n",
    "f4.set(12, 36)\n",
    "f4.print()\n",
    "f4.reduce()\n",
    "\n",
    "f5 = Fraction()\n",
    "f5.set(3, 2)\n",
    "f5.print()\n",
    "\n",
    "print(f'Proper fractions count: {Fraction.proper_fr_count}')"
   ],
   "metadata": {
    "collapsed": false,
    "pycharm": {
     "name": "#%%\n"
    }
   }
  },
  {
   "cell_type": "code",
   "execution_count": 1065,
   "outputs": [
    {
     "name": "stdout",
     "output_type": "stream",
     "text": [
      "Vector(3; 11; 1)\n",
      "Module: 11.45\n",
      "New vector: \n",
      "Vector(15; 55; 5)\n",
      "New vector: \n",
      "Vector(45; 165; 15)\n",
      "\n",
      "Vector(2; 6; -3)\n",
      "Module: 7.0\n",
      "New vector: \n",
      "Vector(10; 30; -15)\n",
      "New vector: \n",
      "Vector(30; 90; -45)\n"
     ]
    }
   ],
   "source": [
    "\"\"\"\n",
    "Изменить класс “Вектор” следующим образом:\n",
    "- все статические свойства классов должны изменяться только внутри классовых методов;\n",
    "- выделить один или несколько вспомогательных методов (если это не было сделано ранее)\n",
    "и оформить их в виде статических методов.\n",
    "\n",
    "-------------\n",
    "Тестовые значения:\n",
    "(4, 12, 6) -> 14\n",
    "(3, 7, 2) -> 7.87\n",
    "\"\"\"\n",
    "\n",
    "from math import sqrt\n",
    "\n",
    "\n",
    "class Vector():\n",
    "    start_point = (0, 0, 0)\n",
    "\n",
    "    @classmethod\n",
    "    def set_start_point(cls, x, y, z):\n",
    "        cls.start_point = (x, y, z)\n",
    "\n",
    "    def set(self, x, y, z):\n",
    "        self.end_point = (x, y, z)\n",
    "        # вычисляем координаты вектора, исходя из координат точек начала и конца\n",
    "        self.x = x - Vector.start_point[0]\n",
    "        self.y = y - Vector.start_point[1]\n",
    "        self.z = z - Vector.start_point[2]\n",
    "\n",
    "    def print(self):\n",
    "        print(f'Vector({self.x}; {self.y}; {self.z})')\n",
    "\n",
    "    @staticmethod\n",
    "    def calc_length(x, y, z):\n",
    "        return sqrt(x ** 2 + y ** 2 + z ** 2)\n",
    "\n",
    "    def get_length(self):\n",
    "        # len(v) = v(x^2 + y^2 + z^2)\n",
    "        length = Vector.calc_length(self.x, self.y, self.z)\n",
    "        return round(length, 2)\n",
    "\n",
    "    def multiply(self, num):\n",
    "        self.x *= num\n",
    "        self.y *= num\n",
    "        self.z *= num\n",
    "        print('New vector: ')\n",
    "        self.print()\n",
    "\n",
    "\n",
    "Vector.set_start_point(1, 1, 5)\n",
    "\n",
    "v1 = Vector()\n",
    "v1.set(4, 12, 6)\n",
    "v1.print()\n",
    "print(f'Module: {v1.get_length()}')\n",
    "v1.multiply(5)\n",
    "v1.multiply(3)\n",
    "\n",
    "print()\n",
    "v2 = Vector()\n",
    "v2.set(3, 7, 2)\n",
    "v2.print()\n",
    "print(f'Module: {v2.get_length()}')\n",
    "v2.multiply(5)\n",
    "v2.multiply(3)"
   ],
   "metadata": {
    "collapsed": false,
    "pycharm": {
     "name": "#%%\n"
    }
   }
  },
  {
   "cell_type": "code",
   "execution_count": 1066,
   "outputs": [
    {
     "name": "stdout",
     "output_type": "stream",
     "text": [
      "--This is constructor--\n",
      "--This is initializator--\n",
      "5̲ ̲ \n",
      "10\n",
      "The reversed fraction of\n",
      "5̲ ̲ \n",
      "10\n",
      "is: \n",
      "--This is constructor--\n",
      "--This is initializator--\n",
      "1̲0̲ ̲ \n",
      "5\n",
      "--This is destructor--\n",
      "--This is constructor--\n",
      "--This is initializator--\n",
      "8̲ ̲ \n",
      "3\n",
      "--This is constructor--\n",
      "--This is initializator--\n",
      "5̲ ̲ \n",
      "5\n",
      "The fraction\n",
      "5̲ ̲ \n",
      "5\n",
      "after reduction is: \n",
      "1̲ ̲ \n",
      "1\n",
      "--This is constructor--\n",
      "--This is initializator--\n",
      "1̲2̲ ̲ \n",
      "36\n",
      "The fraction\n",
      "1̲2̲ ̲ \n",
      "36\n",
      "after reduction is: \n",
      "1̲ ̲ \n",
      "3\n",
      "--This is constructor--\n",
      "--This is initializator--\n",
      "3̲ ̲ \n",
      "2\n",
      "Proper fractions count: 2\n",
      "Improper fractions count: 4\n"
     ]
    }
   ],
   "source": [
    "\"\"\"\n",
    "Изменить класс “Дробь” следующим образом:\n",
    "- добавить конструктор с выводом сообщения о том, что объект создан;\n",
    "- добавить  инициализатор, в котором будут задаваться исходные значения объекта;\n",
    "- добавить деструктор с выводом сообщения о том, что объект удален.\n",
    "\"\"\"\n",
    "\n",
    "\n",
    "class Fraction():\n",
    "    proper_fr_count = 0\n",
    "    improper_fr_count = 0\n",
    "\n",
    "    def __new__(cls, *args, **kwargs):\n",
    "        print(\"--This is constructor--\")\n",
    "        return super().__new__(cls)\n",
    "\n",
    "    def __init__(self, numerator, denominator):\n",
    "        print(\"--This is initializator--\")\n",
    "        self.numerator = numerator\n",
    "        self.denominator = denominator\n",
    "        Fraction.inc_fr_count(numerator < denominator)\n",
    "\n",
    "    def __del__(self):\n",
    "        print(\"--This is destructor--\")\n",
    "\n",
    "    @classmethod\n",
    "    def inc_fr_count(cls, is_proper):\n",
    "        if is_proper:\n",
    "            cls.proper_fr_count += 1\n",
    "        else:\n",
    "            cls.improper_fr_count += 1\n",
    "\n",
    "    def print(self):\n",
    "        print('\\u0332'.join(f'{self.numerator}  '))\n",
    "        print(f'{self.denominator}')\n",
    "\n",
    "    def get_reversed(self):\n",
    "        print('The reversed fraction of')\n",
    "        self.print()\n",
    "        print('is: ')\n",
    "        rev_fr = Fraction(self.denominator, self.numerator)\n",
    "        rev_fr.print()\n",
    "\n",
    "    @staticmethod\n",
    "    def get_nod(a, b):\n",
    "        while a != b:\n",
    "            if a > b:\n",
    "                a -= b\n",
    "            else:\n",
    "                b -= a\n",
    "        return a\n",
    "\n",
    "    def reduce(self):\n",
    "        nod = Fraction.get_nod(self.numerator, self.denominator)\n",
    "        if nod != 1:\n",
    "            print('The fraction')\n",
    "            self.print()\n",
    "            print('after reduction is: ')\n",
    "            self.numerator //= nod\n",
    "            self.denominator //= nod\n",
    "            self.print()\n",
    "        else:\n",
    "            print('The fraction')\n",
    "            self.print()\n",
    "            print(\"can't be reduced!\")\n",
    "\n",
    "\n",
    "f1 = Fraction(5, 10)\n",
    "f1.print()\n",
    "f1.get_reversed()\n",
    "\n",
    "f2 = Fraction(8, 3)\n",
    "f2.print()\n",
    "\n",
    "f3 = Fraction(5, 5)\n",
    "f3.print()\n",
    "f3.reduce()\n",
    "\n",
    "f4 = Fraction(12, 36)\n",
    "f4.print()\n",
    "f4.reduce()\n",
    "\n",
    "f5 = Fraction(3, 2)\n",
    "f5.print()\n",
    "\n",
    "print(f'Proper fractions count: {Fraction.proper_fr_count}')\n",
    "print(f'Improper fractions count: {Fraction.improper_fr_count}')"
   ],
   "metadata": {
    "collapsed": false,
    "pycharm": {
     "name": "#%%\n"
    }
   }
  },
  {
   "cell_type": "code",
   "execution_count": 1067,
   "outputs": [
    {
     "name": "stdout",
     "output_type": "stream",
     "text": [
      "--This is contructor--\n",
      "--This is initializator--\n",
      "Vector(3; 11; 1)\n",
      "Module: 11.45\n",
      "New vector: \n",
      "Vector(15; 55; 5)\n",
      "New vector: \n",
      "Vector(45; 165; 15)\n",
      "\n",
      "--This is contructor--\n",
      "--This is initializator--\n",
      "Vector(2; 6; -3)\n",
      "Module: 7.0\n",
      "New vector: \n",
      "Vector(10; 30; -15)\n",
      "New vector: \n",
      "Vector(30; 90; -45)\n"
     ]
    }
   ],
   "source": [
    "\"\"\"\n",
    "Изменить класс “Вектор” следующим образом:\n",
    "- добавить конструктор с выводом сообщения о том, что объект создан;\n",
    "- добавить  инициализатор, в котором будут задаваться исходные значения объекта;\n",
    "- добавить деструктор с выводом сообщения о том, что объект удален.\n",
    "\n",
    "-------------\n",
    "Тестовые значения:\n",
    "(4, 12, 6) -> 14\n",
    "(3, 7, 2) -> 7.87\n",
    "\"\"\"\n",
    "from math import sqrt\n",
    "\n",
    "\n",
    "class Vector():\n",
    "    start_point = (0, 0, 0)\n",
    "\n",
    "    def __new__(cls, *args, **kwargs):\n",
    "        print('--This is contructor--')\n",
    "        return super().__new__(cls)\n",
    "\n",
    "    def __init__(self, x, y, z):\n",
    "        print('--This is initializator--')\n",
    "        self.end_point = (x, y, z)\n",
    "        # вычисляем координаты вектора, исходя из координат точек начала и конца\n",
    "        self.x = x - Vector.start_point[0]\n",
    "        self.y = y - Vector.start_point[1]\n",
    "        self.z = z - Vector.start_point[2]\n",
    "\n",
    "    def __del__(self):\n",
    "        print('--This is destructor--')\n",
    "\n",
    "    @classmethod\n",
    "    def set_start_point(cls, x, y, z):\n",
    "        cls.start_point = (x, y, z)\n",
    "\n",
    "    def print(self):\n",
    "        print(f'Vector({self.x}; {self.y}; {self.z})')\n",
    "\n",
    "    @staticmethod\n",
    "    def calc_length(x, y, z):\n",
    "        return sqrt(x ** 2 + y ** 2 + z ** 2)\n",
    "\n",
    "    def get_length(self):\n",
    "        # len(v) = v(x^2 + y^2 + z^2)\n",
    "        length = Vector.calc_length(self.x, self.y, self.z)\n",
    "        return round(length, 2)\n",
    "\n",
    "    def multiply(self, num):\n",
    "        self.x *= num\n",
    "        self.y *= num\n",
    "        self.z *= num\n",
    "        print('New vector: ')\n",
    "        self.print()\n",
    "\n",
    "\n",
    "Vector.set_start_point(1, 1, 5)\n",
    "\n",
    "v1 = Vector(4, 12, 6)\n",
    "v1.print()\n",
    "print(f'Module: {v1.get_length()}')\n",
    "v1.multiply(5)\n",
    "v1.multiply(3)\n",
    "\n",
    "print()\n",
    "v2 = Vector(3, 7, 2)\n",
    "v2.print()\n",
    "print(f'Module: {v2.get_length()}')\n",
    "v2.multiply(5)\n",
    "v2.multiply(3)"
   ],
   "metadata": {
    "collapsed": false,
    "pycharm": {
     "name": "#%%\n"
    }
   }
  },
  {
   "cell_type": "code",
   "execution_count": 1068,
   "outputs": [
    {
     "name": "stdout",
     "output_type": "stream",
     "text": [
      "--This is constructor--\n",
      "--This is initializator--\n",
      "--This is destructor--\n",
      "5̲ ̲ \n",
      "10\n",
      "The reversed fraction of\n",
      "5̲ ̲ \n",
      "10\n",
      "is: \n",
      "--This is constructor--\n",
      "--This is initializator--\n",
      "1̲0̲ ̲ \n",
      "5\n",
      "--This is destructor--\n",
      "--This is constructor--\n",
      "--This is initializator--\n",
      "--This is destructor--\n",
      "8̲ ̲ \n",
      "3\n",
      "--This is constructor--\n",
      "--This is initializator--\n",
      "--This is destructor--\n",
      "5̲ ̲ \n",
      "5\n",
      "The fraction\n",
      "5̲ ̲ \n",
      "5\n",
      "after reduction is: \n",
      "1̲ ̲ \n",
      "1\n",
      "--This is constructor--\n",
      "--This is initializator--\n",
      "--This is destructor--\n",
      "1̲2̲ ̲ \n",
      "36\n",
      "The fraction\n",
      "1̲2̲ ̲ \n",
      "36\n",
      "after reduction is: \n",
      "1̲ ̲ \n",
      "3\n",
      "--This is constructor--\n",
      "--This is initializator--\n",
      "--This is destructor--\n",
      "3̲ ̲ \n",
      "2\n",
      "Proper fractions count: 2\n",
      "Improper fractions count: 4\n"
     ]
    }
   ],
   "source": [
    "\"\"\"\n",
    "Изменить созданный ранее класс “Дробь” следующим образом:\n",
    "- установить для одного из динамических свойств класса модификатор доступа protected,\n",
    "а для остальных (если имеются) - модификатор доступа private;\n",
    "- добавить соответствующие методы getter и setter.\n",
    "\n",
    "\"\"\"\n",
    "\n",
    "\n",
    "class Fraction():\n",
    "    proper_fr_count = 0\n",
    "    improper_fr_count = 0\n",
    "\n",
    "    def __new__(cls, *args, **kwargs):\n",
    "        print(\"--This is constructor--\")\n",
    "        return super().__new__(cls)\n",
    "\n",
    "    def __init__(self, numerator, denominator):\n",
    "        print(\"--This is initializator--\")\n",
    "        self.set_numerator(numerator)\n",
    "        self.set_denominator(denominator)\n",
    "        Fraction.inc_fr_count(numerator < denominator)\n",
    "\n",
    "    def __del__(self):\n",
    "        print(\"--This is destructor--\")\n",
    "\n",
    "    def get_numerator(self):\n",
    "        return self._numerator\n",
    "\n",
    "    def set_numerator(self, num):\n",
    "        self._numerator = num\n",
    "\n",
    "    def get_denominator(self):\n",
    "        return self.__denominator\n",
    "\n",
    "    def set_denominator(self, num):\n",
    "        self.__denominator = num\n",
    "\n",
    "    @classmethod\n",
    "    def inc_fr_count(cls, is_proper):\n",
    "        if is_proper:\n",
    "            cls.proper_fr_count += 1\n",
    "        else:\n",
    "            cls.improper_fr_count += 1\n",
    "\n",
    "    def print(self):\n",
    "        print('\\u0332'.join(f'{self.get_numerator()}  '))\n",
    "        print(f'{self.get_denominator()}')\n",
    "\n",
    "    def get_reversed(self):\n",
    "        print('The reversed fraction of')\n",
    "        self.print()\n",
    "        print('is: ')\n",
    "        rev_fr = Fraction(self.get_denominator(), self.get_numerator())\n",
    "        rev_fr.print()\n",
    "\n",
    "    @staticmethod\n",
    "    def get_nod(a, b):\n",
    "        while a != b:\n",
    "            if a > b:\n",
    "                a -= b\n",
    "            else:\n",
    "                b -= a\n",
    "        return a\n",
    "\n",
    "    def reduce(self):\n",
    "        nod = Fraction.get_nod(self.get_numerator(), self.get_denominator())\n",
    "        if nod != 1:\n",
    "            print('The fraction')\n",
    "            self.print()\n",
    "            print('after reduction is: ')\n",
    "            self.set_numerator(self.get_numerator() // nod)\n",
    "            self.set_denominator(self.get_denominator() // nod)\n",
    "            self.print()\n",
    "        else:\n",
    "            print('The fraction')\n",
    "            self.print()\n",
    "            print(\"can't be reduced!\")\n",
    "\n",
    "\n",
    "f1 = Fraction(5, 10)\n",
    "f1.print()\n",
    "f1.get_reversed()\n",
    "\n",
    "f2 = Fraction(8, 3)\n",
    "f2.print()\n",
    "\n",
    "f3 = Fraction(5, 5)\n",
    "f3.print()\n",
    "f3.reduce()\n",
    "\n",
    "f4 = Fraction(12, 36)\n",
    "f4.print()\n",
    "f4.reduce()\n",
    "\n",
    "f5 = Fraction(3, 2)\n",
    "f5.print()\n",
    "\n",
    "print(f'Proper fractions count: {Fraction.proper_fr_count}')\n",
    "print(f'Improper fractions count: {Fraction.improper_fr_count}')"
   ],
   "metadata": {
    "collapsed": false,
    "pycharm": {
     "name": "#%%\n"
    }
   }
  },
  {
   "cell_type": "code",
   "execution_count": 1069,
   "outputs": [
    {
     "name": "stdout",
     "output_type": "stream",
     "text": [
      "--This is contructor--\n",
      "--This is initializator--\n",
      "--This is destructor--\n",
      "Vector(4; 12; 6)\n",
      "Module: 14.0\n",
      "New vector: \n",
      "Vector(20; 60; 30)\n",
      "New vector: \n",
      "Vector(60; 180; 90)\n",
      "\n",
      "--This is contructor--\n",
      "--This is initializator--\n",
      "--This is destructor--\n",
      "Vector(3; 7; 2)\n",
      "Module: 7.87\n",
      "New vector: \n",
      "Vector(15; 35; 10)\n",
      "New vector: \n",
      "Vector(45; 105; 30)\n"
     ]
    }
   ],
   "source": [
    "\"\"\"\n",
    "Изменить созданный ранее класс “Вектор” следующим образом:\n",
    "- установить для одного из динамических свойств класса модификатор доступа protected,\n",
    "а для остальных (если имеются) - модификатор доступа private;\n",
    "- добавить соответствующие методы getter и setter.\n",
    "\n",
    "\"\"\"\n",
    "from math import sqrt\n",
    "\n",
    "\n",
    "class Vector():\n",
    "    start_point = (0, 0, 0)\n",
    "\n",
    "    def __new__(cls, *args, **kwargs):\n",
    "        print('--This is contructor--')\n",
    "        return super().__new__(cls)\n",
    "\n",
    "    def __init__(self, x, y, z):\n",
    "        print('--This is initializator--')\n",
    "        self.set_end_point(x, y, z)\n",
    "        # вычисляем координаты вектора, исходя из координат точек начала и конца\n",
    "        self.set_x(x - Vector.start_point[0])\n",
    "        self.set_y(y - Vector.start_point[1])\n",
    "        self.set_z(z - Vector.start_point[2])\n",
    "\n",
    "    def __del__(self):\n",
    "        print('--This is destructor--')\n",
    "\n",
    "    def set_end_point(self, x, y, z):\n",
    "        self._end_point = (x, y, z)\n",
    "\n",
    "    def get_end_point(self):\n",
    "        return self._end_point\n",
    "\n",
    "    def set_x(self, x):\n",
    "        self.__x = x\n",
    "\n",
    "    def get_x(self):\n",
    "        return self.__x\n",
    "\n",
    "    def set_y(self, y):\n",
    "        self.__y = y\n",
    "\n",
    "    def get_y(self):\n",
    "        return self.__y\n",
    "\n",
    "    def set_z(self, z):\n",
    "        self.__z = z\n",
    "\n",
    "    def get_z(self):\n",
    "        return self.__z\n",
    "\n",
    "    @classmethod\n",
    "    def set_start_point(cls, x, y, z):\n",
    "        cls.start_point = (x, y, z)\n",
    "\n",
    "    def print(self):\n",
    "        print(f'Vector({self.get_x()}; {self.get_y()}; {self.get_z()})')\n",
    "\n",
    "    @staticmethod\n",
    "    def calc_length(x, y, z):\n",
    "        return sqrt(x ** 2 + y ** 2 + z ** 2)\n",
    "\n",
    "    def get_length(self):\n",
    "        # len(v) = v(x^2 + y^2 + z^2)\n",
    "        length = Vector.calc_length(self.get_x(), self.get_y(), self.get_z())\n",
    "        return round(length, 2)\n",
    "\n",
    "    def multiply(self, num):\n",
    "        self.set_x(self.get_x() * num)\n",
    "        self.set_y(self.get_y() * num)\n",
    "        self.set_z(self.get_z() * num)\n",
    "        print('New vector: ')\n",
    "        self.print()\n",
    "\n",
    "\n",
    "Vector.set_start_point(0, 0, 0)\n",
    "\n",
    "v1 = Vector(4, 12, 6)\n",
    "v1.print()\n",
    "print(f'Module: {v1.get_length()}')\n",
    "v1.multiply(5)\n",
    "v1.multiply(3)\n",
    "\n",
    "print()\n",
    "v2 = Vector(3, 7, 2)\n",
    "v2.print()\n",
    "print(f'Module: {v2.get_length()}')\n",
    "v2.multiply(5)\n",
    "v2.multiply(3)"
   ],
   "metadata": {
    "collapsed": false,
    "pycharm": {
     "name": "#%%\n"
    }
   }
  },
  {
   "cell_type": "code",
   "execution_count": 1070,
   "outputs": [
    {
     "name": "stdout",
     "output_type": "stream",
     "text": [
      "Square: 12.566370614359172\n",
      "Square: 50.26548245743669\n",
      "Square: 113.09733552923255\n",
      "Square: 50.26548245743669\n",
      "Square: 201.06192982974676\n",
      "Square: 113.09733552923255\n",
      "Square: 3.141592653589793\n",
      "Square: 201.06192982974676\n",
      "Perimeter: 20\n",
      "Perimeter: 18\n",
      "Perimeter: 62\n",
      "Volume: 351.85837720205683\n",
      "Volume: 62.83185307179586\n",
      "Volume: 763.4070148223198\n",
      "Volume: 392.69908169872417\n",
      "**************************************************\n",
      "Max square circle: radius = 8\n",
      "Min perimeter rectrangle: sides: 2, 7\n",
      "Avg cylinders volume: 392.70\n"
     ]
    }
   ],
   "source": [
    "\"\"\"\n",
    "Создать класс “Окружность”, свойство - радиус, методы - вычисление площади круга и длины окружности,\n",
    "вывод информации о фигуре.\n",
    "\n",
    "Создать класс “Прямоугольник”, свойства - длины сторон, методы -\n",
    "вычисление периметра и площади прямоугольника, вывод информации о фигуре.\n",
    "\n",
    "Создать производный от них класс “Цилиндр”, свойства - радиус основания и высота, методы -\n",
    "вычисление объема цилиндра, вывод информации о фигуре.\n",
    "\n",
    "Написать программу, демонстрирующую работу с классом:\n",
    "дано N окружностей, M прямоугольников и K цилиндров, найти окружность с наибольшей площадью, прямоугольник\n",
    "с наименьшим периметром и средний объем всех цилиндров.\n",
    "\"\"\"\n",
    "\n",
    "from math import pi\n",
    "\n",
    "\n",
    "class Circle():\n",
    "    def __init__(self, r):\n",
    "        self.r = r\n",
    "\n",
    "    def get_circle_square(self, to_print=True):\n",
    "        s = pi * self.r ** 2\n",
    "        if to_print:\n",
    "            print(f'Square: {s}')\n",
    "        return s\n",
    "\n",
    "    def get_circle_circumference(self, to_print=True):\n",
    "        l = 2 * pi * self.r\n",
    "        if to_print:\n",
    "            print(f'Circumference: {l}')\n",
    "        return l\n",
    "\n",
    "    def print_circle(self):\n",
    "        print(f'radius = {self.r}')\n",
    "\n",
    "\n",
    "class Rectangle():\n",
    "    def __init__(self, l, h):\n",
    "        self.l = l\n",
    "        self.h = h\n",
    "\n",
    "    def get_rect_perimeter(self):\n",
    "        p = 2 * (self.l + self.h)\n",
    "        print(f'Perimeter: {p}')\n",
    "        return p\n",
    "\n",
    "    def get_rect_square(self):\n",
    "        s = self.l * self.h\n",
    "        print(f'Square: {s}')\n",
    "        return s\n",
    "\n",
    "    def print_rect(self):\n",
    "        print(f'sides: {self.l}, {self.h}')\n",
    "\n",
    "\n",
    "class Cylinder(Circle, Rectangle):\n",
    "    def __init__(self, r, h):\n",
    "        Circle.__init__(self, r)\n",
    "        Rectangle.__init__(self, self.get_circle_circumference(to_print=False), h)\n",
    "\n",
    "    def get_volume(self):\n",
    "        v = self.get_circle_square(to_print=False) * self.h\n",
    "        print(f'Volume: {v}')\n",
    "        return v\n",
    "\n",
    "    def print_cylinder(self):\n",
    "        print(f'base: {self.r}, height: {self.h}')\n",
    "\n",
    "\n",
    "circles = [Circle(4), Circle(2), Circle(6), Circle(8), Circle(1)]\n",
    "rects = [Rectangle(3, 7), Rectangle(2, 7), Rectangle(19, 12)]\n",
    "cylinders = [Cylinder(4, 7), Cylinder(2, 5), Cylinder(9, 3), Cylinder(5, 5)]\n",
    "\n",
    "circle_max_s = max(circles, key=lambda c: c.get_circle_square())\n",
    "rect_min_p = min(rects, key=lambda r: r.get_rect_perimeter())\n",
    "\n",
    "cylinders_v = list(map(lambda c: c.get_volume(), cylinders))\n",
    "cylinders_v_avg = fsum(cylinders_v) / len(cylinders_v)\n",
    "\n",
    "print('*' * 50)\n",
    "print('Max square circle:', end=' ')\n",
    "circle_max_s.print_circle()\n",
    "\n",
    "print('Min perimeter rectrangle:', end=' ')\n",
    "rect_min_p.print_rect()\n",
    "\n",
    "print(f'Avg cylinders volume: {cylinders_v_avg:.2f}')"
   ],
   "metadata": {
    "collapsed": false,
    "pycharm": {
     "name": "#%%\n"
    }
   }
  },
  {
   "cell_type": "code",
   "execution_count": 1071,
   "outputs": [
    {
     "name": "stdout",
     "output_type": "stream",
     "text": [
      "Square: 4.68\n",
      "Square: 3.80\n",
      "Square: 8.94\n",
      "Perimeter: 24\n",
      "Perimeter: 15\n",
      "Perimeter: 18\n",
      "Perimeter: 24\n",
      "Perimeter: 12\n",
      "Perimeter: 24\n",
      "**************************************************\n",
      "The average triangles square: 5.81\n",
      "The equilateral triangle with the max perimeter: △ABC (8, 8, 8)\n"
     ]
    }
   ],
   "source": [
    "\"\"\"\n",
    "Создать класс “Треугольник”, свойства - длины трех сторон.\n",
    "Предусмотреть в классе методы проверки существования треугольника,\n",
    "вычисления и вывода сведений о фигуре - длины сторон, углы, периметр, площадь.\n",
    "\n",
    "Создать производный класс “Равносторонний треугольник”.\n",
    "\n",
    "Написать программу, демонстрирующую работу с классами: дано K треугольников и L равносторонних треугольников,\n",
    "найти среднюю площадь для K треугольников и равносторонний треугольник с наибольшим периметром.\n",
    "\n",
    "\"\"\"\n",
    "from math import acos, degrees, sqrt\n",
    "\n",
    "\n",
    "class Triangle():\n",
    "    def __init__(self, a, b, c):\n",
    "        self.a = a\n",
    "        self.b = b\n",
    "        self.c = c\n",
    "\n",
    "    def get_triangle(self):\n",
    "        return f'\\u25b3ABC ({self.a}, {self.b}, {self.c})'\n",
    "\n",
    "    def exists(self):\n",
    "        if (self.a + self.b > self.c) and (self.a + self.c > self.b) and (self.b + self.c > self.a):\n",
    "            print(f'{self.get_triangle()} exists.')\n",
    "            return True\n",
    "\n",
    "        print(f'{self.get_triangle()} does not exist.')\n",
    "        return False\n",
    "\n",
    "    def get_sides(self):\n",
    "        print(f'Sides: {self.a}, {self.b}, {self.c}')\n",
    "        return self.a, self.b, self.c\n",
    "\n",
    "    def get_angles(self):\n",
    "        ac = acos((self.a ** 2 + self.c ** 2 - self.b ** 2) / (2 * self.a * self.c))\n",
    "        ab = acos((self.a ** 2 + self.b ** 2 - self.c ** 2) / (2 * self.a * self.b))\n",
    "        cb = acos((self.b ** 2 + self.c ** 2 - self.a ** 2) / (2 * self.b * self.c))\n",
    "\n",
    "        print(f'\\u2220CAB: {ac:.2f} Rad, {degrees(ac):.2f} Grad')\n",
    "        print(f'\\u2220ABC: {ab:.2f} Rad, {degrees(ab):.2f} Grad')\n",
    "        print(f'\\u2220BCA: {cb:.2f} Rad, {degrees(cb):.2f} Grad')\n",
    "\n",
    "        return ac, ab, cb\n",
    "\n",
    "    def get_perimeter(self, to_print=True):\n",
    "        p = self.a + self.b + self.c\n",
    "        if to_print:\n",
    "            print(f'Perimeter: {p}')\n",
    "        return p\n",
    "\n",
    "    def get_square(self):\n",
    "        p = self.get_perimeter(to_print=False) / 2\n",
    "        s = sqrt(p * (p - self.a) * (p - self.b) * (p - self.c))\n",
    "        print(f'Square: {s:.2f}')\n",
    "        return s\n",
    "\n",
    "\n",
    "class EquilateralTriangle(Triangle):\n",
    "    def __init__(self, a):\n",
    "        super().__init__(a, a, a)\n",
    "\n",
    "\n",
    "tr = [Triangle(2, 5, 6), Triangle(5, 2, 4), Triangle(7, 3, 6)]\n",
    "eq_tr = [EquilateralTriangle(5), EquilateralTriangle(8), EquilateralTriangle(6), EquilateralTriangle(4)]\n",
    "\n",
    "# print(tr[0].get_triangle())\n",
    "# tr[0].exists()\n",
    "# tr[0].get_sides()\n",
    "# tr[0].get_angles()\n",
    "# tr[0].get_perimeter()\n",
    "# tr[0].get_square()\n",
    "\n",
    "tr_s = list(map(lambda tr: tr.get_square(), tr))\n",
    "tr_s_avg = fsum(tr_s) / len(tr_s)\n",
    "\n",
    "eq_tr_max_p = max(eq_tr, key=lambda tr: tr.get_perimeter())\n",
    "\n",
    "print('*' * 50)\n",
    "print(f'The average triangles square: {tr_s_avg:.2f}')\n",
    "print(f'The equilateral triangle with the max perimeter: {eq_tr_max_p.get_triangle()}')"
   ],
   "metadata": {
    "collapsed": false,
    "pycharm": {
     "name": "#%%\n"
    }
   }
  },
  {
   "cell_type": "code",
   "execution_count": 1072,
   "outputs": [
    {
     "name": "stdout",
     "output_type": "stream",
     "text": [
      "Diagonal: 11.31\n",
      "Diagonal: 5.66\n",
      "Diagonal: 2.83\n",
      "Diagonal: 11.31\n",
      "Diagonal: 7.07\n",
      "Diagonal: 11.31\n",
      "Diagonal: 4.24\n",
      "Diagonal: 11.31\n",
      "Volume: 45\n",
      "Volume: 32\n",
      "Volume: 324\n",
      "**************************************************\n",
      "The square with max diagonal: Square: side = 8\n",
      "The prism with min volume: Regular square prisma: base side = 2, height = 8\n"
     ]
    }
   ],
   "source": [
    "\"\"\"\n",
    "Создать класс “Квадрат”, свойства - длина стороны.\n",
    "Предусмотреть в классе методы вычисления и вывода сведений о фигуре - диагональ, периметр, площадь.\n",
    "\n",
    "Создать производный класс “Правильная квадратная призма”, свойство - высота.\n",
    "Добавить в класс метод определения объема фигуры.\n",
    "Написать программу, демонстрирующую работу с этими классами: дано N квадратов и M призм,\n",
    "найти квадрат с максимальной диагональю и призму с минимальным объемом.\n",
    "\"\"\"\n",
    "from math import sqrt\n",
    "\n",
    "\n",
    "class Square():\n",
    "    def __init__(self, side):\n",
    "        self.side = side\n",
    "\n",
    "    def calc_diagonal(self):\n",
    "        d = round(self.side * sqrt(2), 2)\n",
    "        print(f'Diagonal: {d}')\n",
    "        return d\n",
    "\n",
    "    def calc_perimeter(self):\n",
    "        p = 4 * self.side\n",
    "        print(f'Perimeter: {p}')\n",
    "        return p\n",
    "\n",
    "    def calc_square(self):\n",
    "        s = self.side ** 2\n",
    "        print(f'Square: {s}')\n",
    "        return s\n",
    "\n",
    "    def get_square(self):\n",
    "        return f'Square: side = {self.side}'\n",
    "\n",
    "\n",
    "class RegualrSqPrism(Square):\n",
    "    def __init__(self, side, height):\n",
    "        super().__init__(side)\n",
    "        self.height = height\n",
    "\n",
    "    def calc_volume(self):\n",
    "        v = self.side ** 2 * self.height\n",
    "        print(f'Volume: {v}')\n",
    "        return v\n",
    "\n",
    "    def get_prism(self):\n",
    "        return f'Regular square prisma: base side = {self.side}, height = {self.height}'\n",
    "\n",
    "\n",
    "squares = [Square(4), Square(8), Square(2), Square(5), Square(3)]\n",
    "prisms = [RegualrSqPrism(3, 5), RegualrSqPrism(2, 8), RegualrSqPrism(9, 4)]\n",
    "\n",
    "max_diag_square = max(squares, key=lambda sq: sq.calc_diagonal())\n",
    "min_vol_prism = min(prisms, key=lambda pr: pr.calc_volume())\n",
    "\n",
    "print('*' * 50)\n",
    "print(f'The square with max diagonal: {max_diag_square.get_square()}')\n",
    "print(f'The prism with min volume: {min_vol_prism.get_prism()}')"
   ],
   "metadata": {
    "collapsed": false,
    "pycharm": {
     "name": "#%%\n"
    }
   }
  },
  {
   "cell_type": "code",
   "execution_count": 1073,
   "outputs": [
    {
     "name": "stdout",
     "output_type": "stream",
     "text": [
      "Square: 72\n",
      "Square: 78\n",
      "Square: 702\n",
      "Square: 78\n",
      "Diagonal: 5.40740233383831\n",
      "Diagonal: 8.174961773610931\n",
      "Diagonal: 15.418495387034366\n",
      "**************************************************\n",
      "The prism with max sqiare: Regular square prisma: base side = 9, height = 15\n",
      "The prism with min diagonal: Regular square prisma: base side = 3, height = 5\n"
     ]
    }
   ],
   "source": [
    "\"\"\"\n",
    "В созданном классе “Правильная квадратная призма” переопределить методы вычисления площади,\n",
    "диагонали и вывода сведений о фигуре.\n",
    "\n",
    "Написать программу, демонстрирующую работу с классом:\n",
    "дано N призм, вывести призму с наибольшей площадью и наименьшей диагональю.\n",
    "\n",
    "\"\"\"\n",
    "from math import sqrt\n",
    "\n",
    "\n",
    "class Square():\n",
    "    def __init__(self, side):\n",
    "        self.side = side\n",
    "\n",
    "    def calc_diagonal(self, to_print=True):\n",
    "        d = round(self.side * sqrt(2), 2)\n",
    "        if to_print:\n",
    "            print(f'Diagonal: {d}')\n",
    "        return d\n",
    "\n",
    "    def calc_perimeter(self):\n",
    "        p = 4 * self.side\n",
    "        print(f'Perimeter: {p}')\n",
    "        return p\n",
    "\n",
    "    def calc_square(self, to_print=True):\n",
    "        s = self.side ** 2\n",
    "        if to_print:\n",
    "            print(f'Square: {s}')\n",
    "        return s\n",
    "\n",
    "    def get_info(self):\n",
    "        return f'Square: side = {self.side}'\n",
    "\n",
    "\n",
    "class RegualrSqPrism(Square):\n",
    "    def __init__(self, side, height):\n",
    "        super().__init__(side)\n",
    "        self.height = height\n",
    "\n",
    "    def calc_volume(self):\n",
    "        v = self.side ** 2 * self.height\n",
    "        print(f'Volume: {v}')\n",
    "        return v\n",
    "\n",
    "    def get_info(self):\n",
    "        return f'Regular square prisma: base side = {self.side}, height = {self.height}'\n",
    "\n",
    "    def calc_square(self):\n",
    "        s = 2 * super().calc_square(to_print=False) + 4 * self.side * self.height\n",
    "        print(f'Square: {s}')\n",
    "        return s\n",
    "\n",
    "    def calc_diagonal(self):\n",
    "        d = sqrt(self.height ** 2 + super().calc_diagonal(to_print=False))\n",
    "        print(f'Diagonal: {d}')\n",
    "        return d\n",
    "\n",
    "\n",
    "prisms = [RegualrSqPrism(3, 5), RegualrSqPrism(2, 8), RegualrSqPrism(9, 15)]\n",
    "max_s_prism = max(prisms, key=lambda pr: pr.calc_square())\n",
    "min_d_prism = min(prisms, key=lambda pr: pr.calc_diagonal())\n",
    "\n",
    "print('*' * 50)\n",
    "print(f'The prism with max sqiare: {max_s_prism.get_info()}')\n",
    "print(f'The prism with min diagonal: {min_d_prism.get_info()}')\n"
   ],
   "metadata": {
    "collapsed": false,
    "pycharm": {
     "name": "#%%\n"
    }
   }
  },
  {
   "cell_type": "code",
   "execution_count": 1074,
   "outputs": [
    {
     "name": "stdout",
     "output_type": "stream",
     "text": [
      "Square: 87.96459430051421\n",
      "Square: 87.96459430051421\n",
      "Square: 87.96459430051421\n",
      "Square: 87.96459430051421\n",
      "Square: 87.96459430051421\n",
      "Square: 87.96459430051421\n",
      "**************************************************\n",
      "Avg square: 87.96459430051421\n",
      "Cylinders with avg square:\n",
      "base: 2, height: 5\n",
      "base: 2, height: 5\n",
      "base: 2, height: 5\n"
     ]
    }
   ],
   "source": [
    "\"\"\"\n",
    "В созданном классе “Цилиндр” переопределить методы вычисления площади и вывода информации о фигуре.\n",
    "\n",
    "Написать программу, демонстрирующую работу с классом: дано N цилиндров, вывести их среднюю площадь,\n",
    "а также информацию о цилиндрах с площадью, равной средней площади (если таковые имеются).\n",
    "\n",
    "\"\"\"\n",
    "from math import pi\n",
    "\n",
    "\n",
    "class Circle():\n",
    "    def __init__(self, r):\n",
    "        self.r = r\n",
    "\n",
    "    def get_square(self, to_print=True):\n",
    "        s = pi * self.r ** 2\n",
    "        if to_print:\n",
    "            print(f'Square: {s}')\n",
    "        return s\n",
    "\n",
    "    def get_circle_circumference(self, to_print=True):\n",
    "        l = 2 * pi * self.r\n",
    "        if to_print:\n",
    "            print(f'Circumference: {l}')\n",
    "        return l\n",
    "\n",
    "    def print_info(self):\n",
    "        print(f'radius = {self.r}')\n",
    "\n",
    "\n",
    "class Rectangle():\n",
    "    def __init__(self, l, h):\n",
    "        self.l = l\n",
    "        self.h = h\n",
    "\n",
    "    def get_rect_perimeter(self):\n",
    "        p = 2 * (self.l + self.h)\n",
    "        print(f'Perimeter: {p}')\n",
    "        return p\n",
    "\n",
    "    def get_square(self, to_print=True):\n",
    "        s = self.l * self.h\n",
    "        if to_print:\n",
    "            print(f'Square: {s}')\n",
    "        return s\n",
    "\n",
    "    def print_info(self):\n",
    "        print(f'sides: {self.l}, {self.h}')\n",
    "\n",
    "\n",
    "class Cylinder(Circle, Rectangle):\n",
    "    def __init__(self, r, h):\n",
    "        Circle.__init__(self, r)\n",
    "        Rectangle.__init__(self, self.get_circle_circumference(to_print=False), h)\n",
    "\n",
    "    def get_volume(self):\n",
    "        v = Circle.get_square(self, to_print=False) * self.h\n",
    "        print(f'Volume: {v}')\n",
    "        return v\n",
    "\n",
    "    def print_info(self):\n",
    "        print(f'base: {self.r}, height: {self.h}')\n",
    "\n",
    "    def get_square(self):\n",
    "        s = 2 * Circle.get_square(self, to_print=False) + Rectangle.get_square(self, to_print=False)\n",
    "        print(f'Square: {s}')\n",
    "        return s\n",
    "\n",
    "\n",
    "# cylinders = [Cylinder(4, 7), Cylinder(2, 5), Cylinder(9, 3), Cylinder(5, 5)]\n",
    "cylinders = [Cylinder(2, 5), Cylinder(2, 5), Cylinder(2, 5)]\n",
    "s_cylinders = list(map(lambda c: c.get_square(), cylinders))\n",
    "avg_s = fsum(s_cylinders) / len(s_cylinders)\n",
    "\n",
    "eq_avg_s = list(filter(lambda c: avg_s == c.get_square(), cylinders))\n",
    "\n",
    "print('*' * 50)\n",
    "# print(s_cylinders)\n",
    "print(f'Avg square: {avg_s}')\n",
    "if not eq_avg_s:\n",
    "    print('no such cylinders')\n",
    "else:\n",
    "    print('Cylinders with avg square:')\n",
    "    for c in eq_avg_s:\n",
    "        c.print_info()"
   ],
   "metadata": {
    "collapsed": false,
    "pycharm": {
     "name": "#%%\n"
    }
   }
  },
  {
   "cell_type": "code",
   "execution_count": 1075,
   "outputs": [
    {
     "name": "stdout",
     "output_type": "stream",
     "text": [
      "Is equilateral: False\n",
      "Is equilateral: True\n",
      "Sides: 2, 2, 2\n",
      "Triangle △ABC: side = 2 is equilateral.\n",
      "Perimeter: 6\n",
      "Is equilateral: False\n",
      "Is equilateral: True\n",
      "Sides: 7, 7, 7\n",
      "Triangle △ABC: side = 7 is equilateral.\n",
      "Perimeter: 21\n",
      "Is equilateral: False\n",
      "Is equilateral: True\n",
      "Sides: 4, 4, 4\n",
      "Triangle △ABC: side = 4 is equilateral.\n",
      "Perimeter: 12\n",
      "**************************************************\n",
      "Max perimeter: 21\n",
      "Equilateral Triangle with max perimeter: △ABC: side = 7\n",
      "\n",
      "△ABC (2, 5, 6)\n",
      "Is equilateral: False\n",
      "∠CAB: 0.90 Rad, 51.32 Grad\n",
      "∠ABC: 1.93 Rad, 110.49 Grad\n",
      "∠BCA: 0.32 Rad, 18.19 Grad\n",
      "△ABC: side = 2\n",
      "Is is equilateral.\n",
      "∠CAB == ∠ABC == ∠BCA: 1.05 Rad, 60.00 Grad\n"
     ]
    }
   ],
   "source": [
    "\"\"\"\n",
    "В созданном классе “Равносторонний треугольник” переопределить  проверку,\n",
    "является ли треугольник равносторонним, а также методы вычисления углов и\n",
    "вывода сведений о фигуре.\n",
    "\n",
    "Написать программу, демонстрирующую работу с классом:\n",
    "дано N треугольников, проверить каждый их них, является ли он равносторонним,\n",
    "и вывести равносторонний треугольник с наибольшим периметром.\n",
    "\n",
    "\"\"\"\n",
    "from math import acos, degrees, sqrt, pi\n",
    "\n",
    "\n",
    "class Triangle():\n",
    "    def __init__(self, a, b, c):\n",
    "        self.a = a\n",
    "        self.b = b\n",
    "        self.c = c\n",
    "\n",
    "    def get_info(self):\n",
    "        return f'\\u25b3ABC ({self.a}, {self.b}, {self.c})'\n",
    "\n",
    "    def exists(self):\n",
    "        if (self.a + self.b > self.c) and (self.a + self.c > self.b) and (self.b + self.c > self.a):\n",
    "            print(f'{self.get_info()} exists.')\n",
    "            return True\n",
    "\n",
    "        print(f'{self.get_info()} does not exist.')\n",
    "        return False\n",
    "\n",
    "    def get_sides(self):\n",
    "        print(f'Sides: {self.a}, {self.b}, {self.c}')\n",
    "        return self.a, self.b, self.c\n",
    "\n",
    "    def get_angles(self):\n",
    "        ac = acos((self.a ** 2 + self.c ** 2 - self.b ** 2) / (2 * self.a * self.c))\n",
    "        ab = acos((self.a ** 2 + self.b ** 2 - self.c ** 2) / (2 * self.a * self.b))\n",
    "        cb = acos((self.b ** 2 + self.c ** 2 - self.a ** 2) / (2 * self.b * self.c))\n",
    "\n",
    "        print(f'\\u2220CAB: {ac:.2f} Rad, {degrees(ac):.2f} Grad')\n",
    "        print(f'\\u2220ABC: {ab:.2f} Rad, {degrees(ab):.2f} Grad')\n",
    "        print(f'\\u2220BCA: {cb:.2f} Rad, {degrees(cb):.2f} Grad')\n",
    "\n",
    "        return ac, ab, cb\n",
    "\n",
    "    def get_perimeter(self, to_print=True):\n",
    "        p = self.a + self.b + self.c\n",
    "        if to_print:\n",
    "            print(f'Perimeter: {p}')\n",
    "        return p\n",
    "\n",
    "    def get_square(self):\n",
    "        p = self.get_perimeter(to_print=False) / 2\n",
    "        s = sqrt(p * (p - self.a) * (p - self.b) * (p - self.c))\n",
    "        print(f'Square: {s:.2f}')\n",
    "        return s\n",
    "\n",
    "    def is_equilateral(self):\n",
    "        is_eq = self.a == self.b == self.c\n",
    "        print(f'Is equilateral: {is_eq}')\n",
    "        return is_eq\n",
    "\n",
    "\n",
    "class EquilateralTriangle(Triangle):\n",
    "    def __init__(self, a):\n",
    "        super().__init__(a, a, a)\n",
    "\n",
    "    def is_equilateral(self):\n",
    "        print('Is is equilateral.')\n",
    "        return True\n",
    "\n",
    "    def get_angles(self):\n",
    "        angle = pi / 3\n",
    "        print(f'\\u2220CAB == \\u2220ABC == \\u2220BCA: {angle:.2f} Rad, {degrees(angle):.2f} Grad')\n",
    "\n",
    "    def get_info(self):\n",
    "        return f'\\u25b3ABC: side = {self.a}'\n",
    "\n",
    "\n",
    "tr = [Triangle(2, 5, 6), Triangle(2, 2, 2), Triangle(5, 2, 4), Triangle(7, 7, 7), Triangle(7, 3, 6), Triangle(4, 4, 4)]\n",
    "\n",
    "p_max = 0\n",
    "tr_p_max = None\n",
    "\n",
    "for i in range(0, len(tr)):\n",
    "    if tr[i].is_equilateral():\n",
    "        tr[i] = EquilateralTriangle(tr[i].get_sides()[0])\n",
    "        print(f'Triangle {tr[i].get_info()} is equilateral.')\n",
    "        p = tr[i].get_perimeter()\n",
    "        if p > p_max:\n",
    "            p_max = p\n",
    "            tr_p_max = tr[i]\n",
    "\n",
    "print('*' * 50)\n",
    "print(f'Max perimeter: {p_max}')\n",
    "print(f'Equilateral Triangle with max perimeter: {tr_p_max.get_info()}')\n",
    "\n",
    "print()\n",
    "print(tr[0].get_info())\n",
    "tr[0].is_equilateral()\n",
    "tr[0].get_angles()\n",
    "print(tr[1].get_info())\n",
    "tr[1].is_equilateral()\n",
    "tr[1].get_angles()"
   ],
   "metadata": {
    "collapsed": false,
    "pycharm": {
     "name": "#%%\n"
    }
   }
  },
  {
   "cell_type": "code",
   "execution_count": 1076,
   "outputs": [
    {
     "name": "stdout",
     "output_type": "stream",
     "text": [
      "The 'x^2/5^2 + y^2/3^2 = 1' has points: (5, 0)\n",
      "The 'x^2/5^2 + y^2/3^2 = 1' has points: (0, 3.0), (0, -3.0)\n",
      "The 'x^2/5^2 + y^2/3^2 = 1' has points: (2, 2.75), (2, -2.75)\n",
      "No data for x=8\n",
      "The 'x^2/5^2 + y^2/3^2 = 1' has not point for x=10\n",
      "The 'x^2/5^2 + y^2/3^2 = 1' has points: (5, 0), (0, 3.0), (0, -3.0), (2, 2.75), (2, -2.75)\n",
      "**************************************************\n",
      "The 'x^2/3^2 - y^2/4^2 = 1' has points: (-3, 0)\n",
      "The 'x^2/3^2 - y^2/4^2 = 1' has points: (5, 5.33), (5, -5.33)\n",
      "The 'x^2/3^2 - y^2/4^2 = 1' has points: (7, 8.43), (7, -8.43)\n",
      "No data for x=8\n",
      "The 'x^2/3^2 - y^2/4^2 = 1' has not point for x=0\n",
      "The 'x^2/3^2 - y^2/4^2 = 1' has points: (-3, 0), (5, 5.33), (5, -5.33), (7, 8.43), (7, -8.43)\n"
     ]
    }
   ],
   "source": [
    "\"\"\"\n",
    "Создайте базовый абстрактный класс “Функция” с методами вычисления значения функции\n",
    "y=f(x) в заданной точке x и вывода результата на экран.\n",
    "\n",
    "Реализуйте производные классы\n",
    "“Эллипс” (x^2/a^2+y^2/b^2=1) и “Гипербола” (x^2/a^2-y^2/b^2=1) с собственными методами\n",
    "вычисления значения функции в заданной точке.\n",
    "\n",
    "* решите самостоятельно, какими свойствами будет обладать каждый из классов,\n",
    "и какие методы необходимо сделать абстрактными.\n",
    "\"\"\"\n",
    "from math import sqrt\n",
    "from abc import ABC, abstractmethod\n",
    "\n",
    "\n",
    "class Function(ABC):\n",
    "    def __init__(self):\n",
    "        self.func = ''\n",
    "        self.points = {}  # {1: [2, 3, 4], 2: [], 3: [4]}\n",
    "\n",
    "    @abstractmethod\n",
    "    def calculate(self, x):\n",
    "        pass\n",
    "\n",
    "    def print(self, x=None):\n",
    "        if x is None:\n",
    "            points_str = []\n",
    "            for key, val in self.points.items():\n",
    "                for v in val:\n",
    "                    points_str.append(f'({key}, {v})')\n",
    "            points_str = ', '.join(points_str)\n",
    "            print(f'The {self.func!r} has points: {points_str}')\n",
    "\n",
    "        elif x not in self.points.keys():\n",
    "            print(f'No data for x={x}')\n",
    "        elif len(self.points[x]) == 0:\n",
    "            print(f'The {self.func!r} has not point for x={x}')\n",
    "        else:\n",
    "            points_str = map(lambda y: f'({x}, {y})', self.points[x])\n",
    "            points_str = ', '.join(points_str)\n",
    "            print(f'The {self.func!r} has points: {points_str}')\n",
    "\n",
    "\n",
    "class Ellipse(Function):\n",
    "    # x^2/a^2+y^2/b^2=1     ! a>=b>0\n",
    "    # y^2/b^2 = 1 - x^2/a^2\n",
    "    # y^2 = b^2(1 - x^2/a^2)\n",
    "    # y = +/- bv(1-x^2/a^2)\n",
    "\n",
    "    def __init__(self, a, b):\n",
    "        super().__init__()\n",
    "        self.a = a\n",
    "        self.b = b\n",
    "        self.func = f'x^2/{a}^2 + y^2/{b}^2 = 1'\n",
    "\n",
    "    def calculate(self, x):\n",
    "        if x in self.points.keys():\n",
    "            return\n",
    "\n",
    "        tmp = 1 - x ** 2 / self.a ** 2\n",
    "        if tmp == 0:\n",
    "            self.points[x] = [0]\n",
    "        elif tmp > 0:\n",
    "            y1 = round(self.b * sqrt(tmp), 2)\n",
    "            y2 = - y1\n",
    "            self.points[x] = [y1, y2]\n",
    "        else:\n",
    "            self.points[x] = []\n",
    "\n",
    "\n",
    "class Hyperbola(Function):\n",
    "    # x ^ 2 / a ^ 2 - y ^ 2 / b ^ 2 = 1     ! a,b>0\n",
    "    # - y^2/b^2 = 1 - x^2/a^2\n",
    "    # - y^2 = b^2(1 - x^2/a^2)\n",
    "    # y = +/- bv(x^2/a^2 - 1)\n",
    "\n",
    "    def __init__(self, a, b):\n",
    "        super().__init__()\n",
    "        self.a = a\n",
    "        self.b = b\n",
    "        self.func = f'x^2/{a}^2 - y^2/{b}^2 = 1'\n",
    "\n",
    "    def calculate(self, x):\n",
    "        if x in self.points.keys():\n",
    "            return\n",
    "\n",
    "        tmp = x ** 2 / self.a ** 2 - 1\n",
    "        if tmp == 0:\n",
    "            self.points[x] = [0]\n",
    "        elif tmp > 0:\n",
    "            y1 = round(self.b * sqrt(tmp), 2)\n",
    "            y2 = - y1\n",
    "            self.points[x] = [y1, y2]\n",
    "        else:\n",
    "            self.points[x] = []\n",
    "\n",
    "\n",
    "e = Ellipse(5, 3)\n",
    "e.calculate(x=5)  # y = 0\n",
    "e.calculate(x=0)  # y = 3, -3\n",
    "e.calculate(x=2)  # y = 2.75, -2.75\n",
    "e.calculate(x=10)\n",
    "\n",
    "e.print(x=5)\n",
    "e.print(x=0)\n",
    "e.print(x=2)\n",
    "e.print(x=8)\n",
    "e.print(x=10)\n",
    "e.print()\n",
    "\n",
    "print('*' * 50)\n",
    "\n",
    "h = Hyperbola(3, 4)\n",
    "h.calculate(x=-3)  # Y = 0\n",
    "h.calculate(x=5)  # y = 5.33, -5.33\n",
    "h.calculate(x=7)  # y = 8.43, -8.43\n",
    "h.calculate(x=0)\n",
    "\n",
    "h.print(x=-3)\n",
    "h.print(x=5)\n",
    "h.print(x=7)\n",
    "h.print(x=8)\n",
    "h.print(x=0)\n",
    "h.print()"
   ],
   "metadata": {
    "collapsed": false,
    "pycharm": {
     "name": "#%%\n"
    }
   }
  },
  {
   "cell_type": "code",
   "execution_count": 1077,
   "outputs": [
    {
     "name": "stdout",
     "output_type": "stream",
     "text": [
      "The root of '3x+7=0' is: -2.33\n",
      "\n",
      "The roots of '1x^2-2x-3=0' are: 3.0, -1.0\n"
     ]
    }
   ],
   "source": [
    "\"\"\"\n",
    "Создайте базовый абстрактный класс “Корень” с методами вычисления корней уравнения и\n",
    "вывода результатов на экран. Реализуйте производные классы “Линейное уравнение” и “Квадратное уравнение”\n",
    "с собственными методами вычисления корней и вывода на экран.\n",
    "\n",
    "* решите самостоятельно, какими свойствами будет обладать каждый из классов, и какие методы необходимо сделать абстрактными.\n",
    "\"\"\"\n",
    "from math import sqrt\n",
    "from abc import ABC, abstractmethod\n",
    "\n",
    "\n",
    "class Root(ABC):\n",
    "    def __init__(self):\n",
    "        self.equation = ''\n",
    "        self.res = []\n",
    "\n",
    "    @abstractmethod\n",
    "    def calculate(self):\n",
    "        pass\n",
    "\n",
    "    def print(self):\n",
    "        if len(self.res) == 0:\n",
    "            print(f'The equation {self.equation!r} has no roots!')\n",
    "        elif len(self.res) == 1:\n",
    "            print(f'The root of {self.equation!r} is: {self.res[0]}')\n",
    "        else:\n",
    "            print(f'The roots of {self.equation!r} are: {\", \".join(map(str, self.res))}')\n",
    "\n",
    "\n",
    "class Linear(Root):\n",
    "    # ax + b = 0    ->   x = -b/a\n",
    "    def __init__(self, a, b):\n",
    "        super().__init__()\n",
    "        self.a = a\n",
    "        self.b = b\n",
    "        self.equation = f'{a}x{b:+}=0'\n",
    "\n",
    "    def calculate(self):\n",
    "        res = round(-self.b / self.a, 2)\n",
    "        self.res.append(res)\n",
    "\n",
    "\n",
    "class Quadratic(Root):\n",
    "    # ax^2 + bx + c = 0   ->  D = b^2 - 4ac  ->  x = (-b +/- vD) / (2a)\n",
    "    def __init__(self, a, b, c):\n",
    "        super().__init__()\n",
    "        self.a = a\n",
    "        self.b = b\n",
    "        self.c = c\n",
    "        self.equation = f'{a}x^2{b:+}x{c:+}=0'\n",
    "\n",
    "    def calculate(self):\n",
    "        D = self.b ** 2 - 4 * self.a * self.c\n",
    "        if D == 0:\n",
    "            x = round(-self.b / (2 * self.a), 2)\n",
    "            self.res.append(x)\n",
    "        elif D > 0:\n",
    "            x1 = round((-self.b + sqrt(D)) / (2 * self.a), 2)\n",
    "            x2 = round((-self.b - sqrt(D)) / (2 * self.a), 2)\n",
    "            self.res.extend([x1, x2])\n",
    "\n",
    "\n",
    "l_eq = Linear(3, 7)\n",
    "l_eq.calculate()\n",
    "l_eq.print()\n",
    "\n",
    "print()\n",
    "\n",
    "q_eq = Quadratic(1, -2, -3)  # roots: 3, -1\n",
    "q_eq.calculate()\n",
    "q_eq.print()"
   ],
   "metadata": {
    "collapsed": false,
    "pycharm": {
     "name": "#%%\n"
    }
   }
  },
  {
   "cell_type": "code",
   "execution_count": 1078,
   "outputs": [
    {
     "name": "stdout",
     "output_type": "stream",
     "text": [
      "**************************************************\n",
      "5 USD  = 370.80 RUB\n",
      "10 USD  = 741.60 RUB\n",
      "50 USD  = 3708.00 RUB\n",
      "100 USD  = 7416.00 RUB\n",
      "**************************************************\n",
      "5 EUR  = 450.70 RUB\n",
      "10 EUR  = 901.40 RUB\n",
      "50 EUR  = 4507.00 RUB\n",
      "100 EUR  = 9014.00 RUB\n"
     ]
    }
   ],
   "source": [
    "\"\"\"\n",
    "Создайте базовый абстрактный класс “Валюта” для работы с денежными суммами.\n",
    "Определите методы перевода значения в рубли и вывода на экран.\n",
    "\n",
    "Реализуйте производные классы “Доллар” и “Евро” с собственными методами перевода в рубли и вывода на экран.\n",
    "\n",
    "* решите самостоятельно, какими свойствами будет обладать каждый из классов, и какие методы необходимо сделать абстрактными\n",
    "\"\"\"\n",
    "from abc import ABC, abstractmethod\n",
    "\n",
    "\n",
    "class Currency(ABC):\n",
    "    def __init__(self, value):\n",
    "        self.value = value\n",
    "\n",
    "    @abstractmethod\n",
    "    def convert_to_rub(self):\n",
    "        pass\n",
    "\n",
    "    def print_value(self):\n",
    "        print(self.value, end=' ')\n",
    "\n",
    "\n",
    "class Dollar(Currency):\n",
    "    rate_to_rub = 74.16\n",
    "    suffix = 'USD'\n",
    "\n",
    "    def convert_to_rub(self):\n",
    "        rub = self.value * Dollar.rate_to_rub\n",
    "        return rub\n",
    "\n",
    "    def print_value(self):\n",
    "        super().print_value()\n",
    "        print(Dollar.suffix, end=' ')\n",
    "\n",
    "\n",
    "class Euro(Currency):\n",
    "    rate_to_rub = 90.14\n",
    "    suffix = 'EUR'\n",
    "\n",
    "    def convert_to_rub(self):\n",
    "        rub = self.value * Euro.rate_to_rub\n",
    "        return rub\n",
    "\n",
    "    def print_value(self):\n",
    "        super().print_value()\n",
    "        print(Euro.suffix, end=' ')\n",
    "\n",
    "\n",
    "d = [Dollar(5), Dollar(10), Dollar(50), Dollar(100)]\n",
    "e = [Euro(5), Euro(10), Euro(50), Euro(100)]\n",
    "\n",
    "print('*' * 50)\n",
    "for elem in d:\n",
    "    elem.print_value()\n",
    "    print(f' = {elem.convert_to_rub():.2f} RUB')\n",
    "\n",
    "print('*' * 50)\n",
    "for elem in e:\n",
    "    elem.print_value()\n",
    "    print(f' = {elem.convert_to_rub():.2f} RUB')"
   ],
   "metadata": {
    "collapsed": false,
    "pycharm": {
     "name": "#%%\n"
    }
   }
  },
  {
   "cell_type": "code",
   "execution_count": 1079,
   "outputs": [
    {
     "name": "stdout",
     "output_type": "stream",
     "text": [
      "A new point was created.\n",
      "The point is: (2, 6)\n",
      "--------------------\n",
      "A new point was created.\n",
      "The point is: (4, 0)\n",
      "--------------------\n",
      "A new point was created.\n",
      "The point is: (0, 3)\n",
      "--------------------\n",
      "A new point was created.\n",
      "The point is: (0, 0)\n",
      "--------------------\n",
      "A new point was created.\n",
      "The point is: (0, 12)\n",
      "--------------------\n",
      "Lies on OX: 1\n",
      "Lies on OY: 2\n",
      "Coincide with (0, 0): 1\n",
      "\n",
      "The point is: (7, 6)\n",
      "The point is: (7, 11)\n",
      "\n",
      "Lies on OX: 1\n",
      "Lies on OY: 2\n",
      "Coincide with (0, 0): 1\n",
      "\n",
      "The point is: (0, 11)\n",
      "The distance to the start point (0,0) is: 11.00\n",
      "The distance to the point (0, 12) is: 1.00\n",
      "\n",
      "The point coincides with the point (0, 11)\n",
      "The point does not coincide with the point (4, 3)\n",
      "\n"
     ]
    }
   ],
   "source": [
    "\"\"\"\n",
    "Создать класс “Point” для работы с точками на плоскости. Класс должен содержать:\n",
    "- динамические свойства: координаты точки X и Y;\n",
    "- статические свойства: количество точек, лежащих на оси X, количество точек, лежащих на оси Y,\n",
    "количество точек, совпадающих с началом координат;\n",
    "- классовые методы: увеличить на 1 количество точек, лежащих на оси X, увеличить на 1 количество точек,\n",
    "лежащих на оси Y, увеличить на 1 количество точек, совпадающих с началом координат;\n",
    "- статические методы: проверки, лежит ли точка на одной из осей координат или совпадает с началом координат;\n",
    "- конструктор: вызывает конструктор родительского класса и выводит сообщение о создании новой точки;\n",
    "- инициализатор: определяет динамические свойства класса и выводит созданный объект на экран;\n",
    "- деструктор: выводит сообщение о том, что точка удалена;\n",
    "- методы: перемещение точки по оси X, перемещение точки по оси Y, определение расстояния до начала координат,\n",
    "вычисление расстояния до заданной точки, сравнение на совпадение и несовпадение с заданной точкой, вывод точки на экран;\n",
    "* заданная точка - также экземпляр класса “Point”.\n",
    "\n",
    "Продемонстрировать работу класса и всех его методов.\n",
    "\"\"\"\n",
    "from math import sqrt\n",
    "\n",
    "\n",
    "class Point:\n",
    "    ox_count = 0\n",
    "    oy_count = 0\n",
    "    oo_count = 0\n",
    "\n",
    "    def __new__(cls, *args, **kwargs):\n",
    "        print('A new point was created.')\n",
    "        return super().__new__(cls)\n",
    "\n",
    "    def __init__(self, x, y):\n",
    "        self.x = x\n",
    "        self.y = y\n",
    "        # print('-' * 20)\n",
    "        self.print_point()\n",
    "        print('-' * 20)\n",
    "\n",
    "        Point.add_point(x, y)\n",
    "\n",
    "    def __del__(self):\n",
    "        print(f'The point ({self.x}, {self.y}) was deleted.')\n",
    "\n",
    "    @classmethod\n",
    "    def inc_ox_count(cls, val=1):\n",
    "        cls.ox_count += val\n",
    "\n",
    "    @classmethod\n",
    "    def inc_oy_count(cls, val=1):\n",
    "        cls.oy_count += val\n",
    "\n",
    "    @classmethod\n",
    "    def inc_oo_count(cls, val=1):\n",
    "        cls.oo_count += val\n",
    "\n",
    "    @classmethod\n",
    "    def add_point(cls, x, y):\n",
    "        if cls.is_start_point(x, y):\n",
    "            cls.inc_oo_count()\n",
    "        elif cls.lies_on_ox(y):\n",
    "            cls.inc_ox_count()\n",
    "        elif cls.lies_on_oy(x):\n",
    "            cls.inc_oy_count()\n",
    "\n",
    "    @classmethod\n",
    "    def del_point(cls, x, y):\n",
    "        if cls.is_start_point(x, y):\n",
    "            cls.inc_oo_count(val=-1)\n",
    "        elif cls.lies_on_ox(y):\n",
    "            cls.inc_ox_count(-1)\n",
    "        elif cls.lies_on_oy(x):\n",
    "            cls.inc_oy_count(-1)\n",
    "\n",
    "    @staticmethod\n",
    "    def is_start_point(x, y):\n",
    "        return x == 0 and y == 0\n",
    "\n",
    "    @staticmethod\n",
    "    def lies_on_ox(y):\n",
    "        return y == 0\n",
    "\n",
    "    @staticmethod\n",
    "    def lies_on_oy(x):\n",
    "        return x == 0\n",
    "\n",
    "    def move_ox(self, x):\n",
    "        Point.del_point(self.x, self.y)\n",
    "        self.x += x\n",
    "        Point.add_point(self.x, self.y)\n",
    "\n",
    "    def move_oy(self, y):\n",
    "        Point.del_point(self.x, self.y)\n",
    "        self.y += y\n",
    "        Point.add_point(self.x, self.y)\n",
    "\n",
    "    def dist_to_start_point(self):\n",
    "        # v((x1 - 0)^2 + (y1 - 0)^2)\n",
    "        d = sqrt(self.x ** 2 + self.y ** 2)\n",
    "        print(f'The distance to the start point (0,0) is: {d:.2f}')\n",
    "        return d\n",
    "\n",
    "    def dist_to_point(self, point):\n",
    "        # v((x1 - x2)^2 + (y1 - y2)^2)\n",
    "        x_len = self.x - point.x\n",
    "        y_len = self.y - point.y\n",
    "        d = sqrt(x_len ** 2 + y_len ** 2)\n",
    "        print(f'The distance to the point ({point.x}, {point.y}) is: {d:.2f}')\n",
    "        return d\n",
    "\n",
    "    def is_the_same_point(self, point):\n",
    "        res = self.x == point.x and self.y == point.y\n",
    "        print(f'The point {\"coincides\" if res else \"does not coincide\"} with the point ({point.x}, {point.y})')\n",
    "        return res\n",
    "\n",
    "    def print_point(self):\n",
    "        print(f'The point is: ({self.x}, {self.y})')\n",
    "\n",
    "\n",
    "p = [Point(2, 6), Point(4, 0), Point(0, 3), Point(0, 0), Point(0, 12)]\n",
    "print(f'Lies on OX: {Point.ox_count}')\n",
    "print(f'Lies on OY: {Point.oy_count}')\n",
    "print(f'Coincide with (0, 0): {Point.oo_count}')\n",
    "print()\n",
    "\n",
    "p[0].move_ox(5)\n",
    "p[0].print_point()\n",
    "p[0].move_oy(5)\n",
    "p[0].print_point()\n",
    "print()\n",
    "\n",
    "p[0].move_ox(-7)  # move to OY:   OY, OX, OY, OO, OY\n",
    "p[1].move_oy(3)  # move from OX:     OY, -, OY, OO, OY\n",
    "p[2].move_oy(-3)  # move from OY to OO:   OY, -, OO, OO, OY\n",
    "p[3].move_ox(9)  # move from OO to OX:   OY, -, OO, OX, OY\n",
    "print(f'Lies on OX: {Point.ox_count}')\n",
    "print(f'Lies on OY: {Point.oy_count}')\n",
    "print(f'Coincide with (0, 0): {Point.oo_count}')\n",
    "print()\n",
    "\n",
    "p[0].print_point()\n",
    "p[0].dist_to_start_point()\n",
    "p[0].dist_to_point(p[4])\n",
    "print()\n",
    "\n",
    "p[0].is_the_same_point(p[0])\n",
    "p[0].is_the_same_point(p[1])\n",
    "print()"
   ],
   "metadata": {
    "collapsed": false,
    "pycharm": {
     "name": "#%%\n"
    }
   }
  },
  {
   "cell_type": "code",
   "execution_count": 1080,
   "outputs": [
    {
     "name": "stdout",
     "output_type": "stream",
     "text": [
      "New account was created successfully.\n",
      "The account #12345 owned by Ivanov was opened.\n",
      "**************************************************\n",
      "Account info:\n",
      "--------------------\n",
      "#12345\n",
      "Owner: Ivanov\n",
      "The current balance is 1000 RUB\n",
      "Percent: 3%\n",
      "--------------------\n",
      "The current balance is 13.0 USD.\n",
      "The current balance is 11.0 EUR.\n",
      "\n",
      "The current balance is 2000 USD.\n",
      "The current balance is 3000 EUR.\n",
      "\n",
      "Account info:\n",
      "--------------------\n",
      "#12345\n",
      "Owner: Ivanova\n",
      "The current balance is 1000 RUB\n",
      "Percent: 3%\n",
      "--------------------\n",
      "\n",
      "The percents was successfully added!\n",
      "The current balance is 1030.0 RUB\n",
      "\n",
      "100 RUB was successfully withdrawed!\n",
      "The current balance is 930.0 RUB\n",
      "\n",
      "Unfortunately, you have not 3000 RUB.\n",
      "The current balance is 930.0 RUB\n",
      "\n",
      "5000 RUB was successfully added!\n",
      "The current balance is 5930.0 RUB\n",
      "\n",
      "3000 RUB was successfully withdrawed!\n",
      "The current balance is 2930.0 RUB\n",
      "\n"
     ]
    }
   ],
   "source": [
    "\"\"\"\n",
    "Создать класс “Account”, представляющий собой банковский счет. Класс должен содержать:\n",
    "- динамические свойства: фамилия владельца, номер счета, процент начисления, сумма в рублях;\n",
    "- статические свойства: курс рубля по отношению к доллару, курс рубля по отношению к евро;\n",
    "- классовые методы: редактировать курс рубля по отношению к доллару, редактировать курс рубля по отношению к евро;\n",
    "- статические методы: перевод суммы в доллары и евро;\n",
    "- конструктор: вызывает конструктор родительского класса и выводит сообщение о создании нового банковского счета;\n",
    "- инициализатор: определяет динамические свойства класса и выводит информацию об открытом счете;\n",
    "- деструктор: выводит сообщение о том, что банковский счет закрыт;\n",
    "- методы: смена владельца счета, снятие заданной суммы, начисление заданной суммы, начисление процентов,\n",
    "перевод в доллары и евро (в отличие от аналогичных статических методов, данные методы не принимают параметров),\n",
    "вывод информации о счете;\n",
    "\n",
    "Продемонстрировать работу класса и всех его методов.\n",
    "\"\"\"\n",
    "\n",
    "\n",
    "class Account:\n",
    "    rate_usd = 0.013\n",
    "    rate_eur = 0.011\n",
    "    suffix = 'RUB'\n",
    "    suffix_usd = 'USD'\n",
    "    suffix_eur = 'EUR'\n",
    "\n",
    "    def __new__(cls, *args, **kwargs):\n",
    "        print('New account was created successfully.')\n",
    "        return super().__new__(cls)\n",
    "\n",
    "    def __init__(self, num, surname, percent, value=0):\n",
    "        self.num = num\n",
    "        self.surname = surname\n",
    "        self.percent = percent  # max=1 (100%)\n",
    "        self.value = value\n",
    "        print(f'The account #{self.num} owned by {self.surname} was opened.')\n",
    "        print('*' * 50)\n",
    "\n",
    "    def __del__(self):\n",
    "        print('*' * 50)\n",
    "        print(f'The account #{self.num} owned by {self.surname} was closed.')\n",
    "\n",
    "    @classmethod\n",
    "    def set_usd_rate(cls, rate):\n",
    "        cls.rate_usd = rate\n",
    "\n",
    "    @classmethod\n",
    "    def set_eur_rate(cls, rate):\n",
    "        cls.rate_eur = rate\n",
    "\n",
    "    @staticmethod\n",
    "    def convert(value, rate):\n",
    "        return value * rate\n",
    "\n",
    "    def edit_owner(self, surname):\n",
    "        self.surname = surname\n",
    "\n",
    "    def print_balance(self):\n",
    "        print(f'The current balance is {self.value} {Account.suffix}')\n",
    "\n",
    "    def withdraw_money(self, val):\n",
    "        if val > self.value:\n",
    "            print(f'Unfortunately, you have not {val} {Account.suffix}.')\n",
    "        else:\n",
    "            self.value -= val\n",
    "            print(f'{val} {Account.suffix} was successfully withdrawed!')\n",
    "\n",
    "        self.print_balance()\n",
    "\n",
    "    def add_money(self, val):\n",
    "        self.value += val\n",
    "        print(f'{val} {Account.suffix} was successfully added!')\n",
    "        self.print_balance()\n",
    "\n",
    "    def add_percents(self):\n",
    "        self.value += self.value * self.percent\n",
    "        print('The percents was successfully added!')\n",
    "        self.print_balance()\n",
    "\n",
    "    def convert_to_usd(self):\n",
    "        usd_val = Account.convert(self.value, Account.rate_usd)\n",
    "        print(f'The current balance is {usd_val} {Account.suffix_usd}.')\n",
    "\n",
    "    def convert_to_eur(self):\n",
    "        eur_val = Account.convert(self.value, Account.rate_eur)\n",
    "        print(f'The current balance is {eur_val} {Account.suffix_eur}.')\n",
    "\n",
    "    def print_info(self):\n",
    "        print('Account info:')\n",
    "        print('-' * 20)\n",
    "        print(f'#{self.num}')\n",
    "        print(f'Owner: {self.surname}')\n",
    "        self.print_balance()\n",
    "        print(f'Percent: {self.percent:.0%}')\n",
    "        print('-' * 20)\n",
    "\n",
    "\n",
    "acc = Account(num='12345', surname='Ivanov', percent=0.03, value=1000)\n",
    "acc.print_info()\n",
    "acc.convert_to_usd()\n",
    "acc.convert_to_eur()\n",
    "print()\n",
    "\n",
    "Account.set_usd_rate(2)\n",
    "Account.set_eur_rate(3)\n",
    "acc.convert_to_usd()\n",
    "acc.convert_to_eur()\n",
    "print()\n",
    "\n",
    "acc.edit_owner(surname='Ivanova')\n",
    "acc.print_info()\n",
    "print()\n",
    "\n",
    "acc.add_percents()\n",
    "print()\n",
    "\n",
    "acc.withdraw_money(100)\n",
    "print()\n",
    "\n",
    "acc.withdraw_money(3000)\n",
    "print()\n",
    "\n",
    "acc.add_money(5000)\n",
    "print()\n",
    "\n",
    "acc.withdraw_money(3000)\n",
    "print()"
   ],
   "metadata": {
    "collapsed": false,
    "pycharm": {
     "name": "#%%\n"
    }
   }
  },
  {
   "cell_type": "code",
   "execution_count": 1081,
   "outputs": [
    {
     "name": "stdout",
     "output_type": "stream",
     "text": [
      "New timestamp was created.\n",
      "Wrong data!\n",
      "--------------------------------------------------\n",
      "New timestamp was created.\n",
      "Wrong data!\n",
      "--------------------------------------------------\n",
      "New timestamp was created.\n",
      "Wrong data!\n",
      "--------------------------------------------------\n",
      "\n",
      "Wrong value: the UTC time offset should be from -12 to +14 only!\n",
      "UTC+2\n",
      "\n",
      "UTC-4\n",
      "\n",
      "New timestamp was created.\n",
      "The timestamp: 14:05:37 UTC-4\n",
      "--------------------------------------------------\n",
      "The timestamp: 14:05:37 UTC-4\n",
      "\n",
      "New timestamp was created.\n",
      "The timestamp: 08:00:03 UTC-4\n",
      "--------------------------------------------------\n",
      "The difference between 08:00:03 UTC-4 and 14:05:37 UTC-4 is -21934 sec.\n",
      "The timestamp 08:00:03 UTC-4 was deleted!\n",
      "Add 320 sec to 14:05:37 UTC-4:\n",
      "The timestamp: 14:10:57 UTC-4\n",
      "Subtrack 3665 sec from 14:10:57 UTC-4:\n",
      "The timestamp: 13:09:52 UTC-4\n",
      "\n",
      "New timestamp was created.\n",
      "The timestamp: 13:09:52 UTC-4\n",
      "--------------------------------------------------\n",
      "The timestamps 13:09:52 UTC-4 and 13:09:52 UTC-4 are  the same moments.\n",
      "The timestamp 13:09:52 UTC-4 was deleted!\n",
      "New timestamp was created.\n",
      "The timestamp: 13:09:53 UTC-4\n",
      "--------------------------------------------------\n",
      "The timestamps 13:09:52 UTC-4 and 13:09:53 UTC-4 are  not the same moments.\n",
      "The timestamp 13:09:53 UTC-4 was deleted!\n",
      "\n"
     ]
    }
   ],
   "source": [
    "\"\"\"\n",
    "Создать класс “Time” для работы со временем в формате Час:Минута:Секунда. Класс должен содержать:\n",
    "- динамические свойства: количество часов, минут, секунд;\n",
    "- статическое свойство: часовой пояс (строка в формате “UTC+/-число”);\n",
    "- классовые методы: редактировать часовой пояс;\n",
    "- статические методы: проверка корректности заданных величин (часов, минут, секунд),\n",
    "перевод заданного значения из формата Час:Минута:Секунда в секунды и наоборот;\n",
    "- конструктор: вызывает конструктор родительского класса и выводит сообщение о создании нового момента времени;\n",
    "- инициализатор: проверяет корректность переданных величин, определяет динамические свойства класса и\n",
    "выводит на экран информацию об объекте;\n",
    "- деструктор: выводит сообщение о том, что момент времени удален;\n",
    "- методы: вычисление разницы между двумя моментами времени в секундах, сложение с заданным количеством секунд,\n",
    "вычитание заданного количества секунд, сравнение двух моментов времени, вывод на экран;\n",
    "\n",
    "Продемонстрировать работу класса и всех его методов.\n",
    "\"\"\"\n",
    "\n",
    "\n",
    "class Time:\n",
    "    pref = 'UTC'\n",
    "    time_offset_min = -12\n",
    "    time_offset_max = 14\n",
    "    time_offset = 2\n",
    "    time_offset_str = '{pref}{offset:+}'.format(pref=pref, offset=time_offset)\n",
    "\n",
    "    def __new__(cls, *args, **kwargs):\n",
    "        print('New timestamp was created.')\n",
    "        return super().__new__(cls)\n",
    "\n",
    "    def __init__(self, h, m, s):\n",
    "        if Time.is_correct(h, m, s):\n",
    "            self.h = h\n",
    "            self.m = m\n",
    "            self.s = s\n",
    "            self.print_info()\n",
    "        else:\n",
    "            self.h = self.m = self.s = 0\n",
    "            print('Wrong data!')\n",
    "        print('-' * 50)\n",
    "\n",
    "    def __del__(self):\n",
    "        print(f'The timestamp {self.get_str()} was deleted!')\n",
    "\n",
    "    @classmethod\n",
    "    def edit_time_offset(cls, val):\n",
    "        if cls.time_offset_min <= val <= cls.time_offset_max:\n",
    "            cls.time_offset = val\n",
    "            cls.time_offset_str = '{pref}{offset:+}'.format(pref=cls.pref, offset=cls.time_offset)\n",
    "        else:\n",
    "            print(f'Wrong value: the {cls.pref} time offset should be from '\n",
    "                  f'{cls.time_offset_min:+} to {cls.time_offset_max:+} only!')\n",
    "\n",
    "    @staticmethod\n",
    "    def is_correct(h, m, s):\n",
    "        return h in range(0, 24) and m in range(0, 60) and s in range(0, 60)\n",
    "\n",
    "    @staticmethod\n",
    "    def to_sec(h, m, s):\n",
    "        return s + m * 60 + h * 3600\n",
    "\n",
    "    @staticmethod\n",
    "    def from_sec(sec):\n",
    "        h = sec // 3600\n",
    "        sec %= 3600\n",
    "        m = sec // 60\n",
    "        s = sec % 60\n",
    "        return h, m, s\n",
    "\n",
    "    def get_str(self):\n",
    "        return f'{self.h:02}:{self.m:02}:{self.s:02} {Time.time_offset_str}'\n",
    "\n",
    "    def print_info(self):\n",
    "        print(f'The timestamp: {self.get_str()}')\n",
    "\n",
    "    def calc_diff(self, timestamp):\n",
    "        sec1 = Time.to_sec(self.h, self.m, self.s)\n",
    "        sec2 = Time.to_sec(timestamp.h, timestamp.m, timestamp.s)\n",
    "        res = sec2 - sec1\n",
    "        print(f'The difference between {timestamp.get_str()} and {self.get_str()} is {res:+} sec.')\n",
    "\n",
    "    def plus_sec(self, val):\n",
    "        print(f'Add {val} sec to {self.get_str()}:')\n",
    "        sec = Time.to_sec(self.h, self.m, self.s)\n",
    "        sec += val\n",
    "        self.h, self.m, self.s = Time.from_sec(sec)\n",
    "        self.print_info()\n",
    "\n",
    "    def minus_sec(self, val):\n",
    "        print(f'Subtrack {val} sec from {self.get_str()}:')\n",
    "        sec = Time.to_sec(self.h, self.m, self.s)\n",
    "        sec -= val\n",
    "        self.h, self.m, self.s = Time.from_sec(sec)\n",
    "        self.print_info()\n",
    "\n",
    "    def is_the_same_moment(self, timestamp):\n",
    "        res = self.h == timestamp.h and self.m == timestamp.m and self.s == timestamp.s\n",
    "        print(f'The timestamps {self.get_str()} and {timestamp.get_str()} '\n",
    "              f'are {\" not\" if not res else \"\"} the same moments.')\n",
    "        return res\n",
    "\n",
    "\n",
    "t1 = Time(25, 18, 0)\n",
    "t2 = Time(5, 89, 3)\n",
    "t3 = Time(7, 13, 68)\n",
    "print()\n",
    "\n",
    "Time.edit_time_offset(100)\n",
    "print(Time.time_offset_str)\n",
    "print()\n",
    "\n",
    "Time.edit_time_offset(-4)\n",
    "print(Time.time_offset_str)\n",
    "print()\n",
    "\n",
    "t = Time(14, 5, 37)\n",
    "t.print_info()\n",
    "print()\n",
    "\n",
    "t.calc_diff(Time(8, 0, 3))  # - 21 934 sec\n",
    "t.plus_sec(320)  # + 5m 20s\n",
    "t.minus_sec(3665)  # - 1h 1m 5s\n",
    "print()\n",
    "\n",
    "t.is_the_same_moment(Time(13, 9, 52))\n",
    "t.is_the_same_moment(Time(13, 9, 53))\n",
    "print()"
   ],
   "metadata": {
    "collapsed": false,
    "pycharm": {
     "name": "#%%\n"
    }
   }
  },
  {
   "cell_type": "code",
   "execution_count": 1082,
   "outputs": [
    {
     "name": "stdout",
     "output_type": "stream",
     "text": [
      "A new point was created.\n",
      "The point is: (2, 6)\n",
      "--------------------\n",
      "A new point was created.\n",
      "The point is: (4, 0)\n",
      "--------------------\n",
      "A new point was created.\n",
      "The point is: (0, 3)\n",
      "--------------------\n",
      "A new point was created.\n",
      "The point is: (0, 0)\n",
      "--------------------\n",
      "A new point was created.\n",
      "The point is: (0, 12)\n",
      "--------------------\n",
      "The point (0, 12) was deleted.\n",
      "The point (9, 0) was deleted.\n",
      "The point (0, 0) was deleted.\n",
      "The point (4, 3) was deleted.\n",
      "The point (0, 11) was deleted.\n",
      "Lies on OX: 1\n",
      "Lies on OY: 2\n",
      "Coincide with (0, 0): 1\n",
      "\n",
      "The point is: (7, 6)\n",
      "The point is: (7, 11)\n",
      "\n",
      "Lies on OX: 1\n",
      "Lies on OY: 2\n",
      "Coincide with (0, 0): 1\n",
      "\n",
      "The point is: (0, 11)\n",
      "The distance to the start point (0,0) is: 11.00\n",
      "The distance to the point (0, 12) is: 1.00\n",
      "\n",
      "The point coincides with the point (0, 11)\n",
      "The point does not coincide with the point (4, 3)\n",
      "\n"
     ]
    }
   ],
   "source": [
    "\"\"\"\n",
    "Внести изменения в созданные классы следующим образом:\n",
    "- динамические свойства класса “Point” должны иметь модификатор доступа protected;\n",
    "- определить методы getter и setter для свойств с модификаторами доступа private и protected;\n",
    "- любое взаимодействие с private и protected свойствами  должно производиться посредством соответствующих методов getter и setter.\n",
    "\n",
    "Продемонстрировать работу измененных классов.\n",
    "\"\"\"\n",
    "from math import sqrt\n",
    "\n",
    "\n",
    "class Point:\n",
    "    ox_count = 0\n",
    "    oy_count = 0\n",
    "    oo_count = 0\n",
    "\n",
    "    def __new__(cls, *args, **kwargs):\n",
    "        print('A new point was created.')\n",
    "        return super().__new__(cls)\n",
    "\n",
    "    def __init__(self, x, y):\n",
    "        self.set_x(x)\n",
    "        self.set_y(y)\n",
    "        self.print_point()\n",
    "        print('-' * 20)\n",
    "\n",
    "        Point.add_point(x, y)\n",
    "\n",
    "    def __del__(self):\n",
    "        print(f'The point ({self.get_x()}, {self.get_y()}) was deleted.')\n",
    "\n",
    "    def get_x(self):\n",
    "        return self._x\n",
    "\n",
    "    def set_x(self, x):\n",
    "        self._x = x\n",
    "\n",
    "    def get_y(self):\n",
    "        return self._y\n",
    "\n",
    "    def set_y(self, y):\n",
    "        self._y = y\n",
    "\n",
    "    @classmethod\n",
    "    def inc_ox_count(cls, val=1):\n",
    "        cls.ox_count += val\n",
    "\n",
    "    @classmethod\n",
    "    def inc_oy_count(cls, val=1):\n",
    "        cls.oy_count += val\n",
    "\n",
    "    @classmethod\n",
    "    def inc_oo_count(cls, val=1):\n",
    "        cls.oo_count += val\n",
    "\n",
    "    @classmethod\n",
    "    def add_point(cls, x, y):\n",
    "        if cls.is_start_point(x, y):\n",
    "            cls.inc_oo_count()\n",
    "        elif cls.lies_on_ox(y):\n",
    "            cls.inc_ox_count()\n",
    "        elif cls.lies_on_oy(x):\n",
    "            cls.inc_oy_count()\n",
    "\n",
    "    @classmethod\n",
    "    def del_point(cls, x, y):\n",
    "        if cls.is_start_point(x, y):\n",
    "            cls.inc_oo_count(val=-1)\n",
    "        elif cls.lies_on_ox(y):\n",
    "            cls.inc_ox_count(-1)\n",
    "        elif cls.lies_on_oy(x):\n",
    "            cls.inc_oy_count(-1)\n",
    "\n",
    "    @staticmethod\n",
    "    def is_start_point(x, y):\n",
    "        return x == 0 and y == 0\n",
    "\n",
    "    @staticmethod\n",
    "    def lies_on_ox(y):\n",
    "        return y == 0\n",
    "\n",
    "    @staticmethod\n",
    "    def lies_on_oy(x):\n",
    "        return x == 0\n",
    "\n",
    "    def move_ox(self, x):\n",
    "        Point.del_point(self.get_x(), self.get_y())\n",
    "        self.set_x(self.get_x() + x)\n",
    "        Point.add_point(self.get_x(), self.get_y())\n",
    "\n",
    "    def move_oy(self, y):\n",
    "        Point.del_point(self.get_x(), self.get_y())\n",
    "        self.set_y(self.get_y() + y)\n",
    "        Point.add_point(self.get_x(), self.get_y())\n",
    "\n",
    "    def dist_to_start_point(self):\n",
    "        # v((x1 - 0)^2 + (y1 - 0)^2)\n",
    "        d = sqrt(self.get_x() ** 2 + self.get_y() ** 2)\n",
    "        print(f'The distance to the start point (0,0) is: {d:.2f}')\n",
    "        return d\n",
    "\n",
    "    def dist_to_point(self, point):\n",
    "        # v((x1 - x2)^2 + (y1 - y2)^2)\n",
    "        x_len = self.get_x() - point.get_x()\n",
    "        y_len = self.get_y() - point.get_y()\n",
    "        d = sqrt(x_len ** 2 + y_len ** 2)\n",
    "        print(f'The distance to the point ({point.get_x()}, {point.get_y()}) is: {d:.2f}')\n",
    "        return d\n",
    "\n",
    "    def is_the_same_point(self, point):\n",
    "        res = self.get_x() == point.get_x() and self.get_y() == point.get_y()\n",
    "        print(f'The point {\"coincides\" if res else \"does not coincide\"} '\n",
    "              f'with the point ({point.get_x()}, {point.get_y()})')\n",
    "        return res\n",
    "\n",
    "    def print_point(self):\n",
    "        print(f'The point is: ({self.get_x()}, {self.get_y()})')\n",
    "\n",
    "\n",
    "p = [Point(2, 6), Point(4, 0), Point(0, 3), Point(0, 0), Point(0, 12)]\n",
    "print(f'Lies on OX: {Point.ox_count}')\n",
    "print(f'Lies on OY: {Point.oy_count}')\n",
    "print(f'Coincide with (0, 0): {Point.oo_count}')\n",
    "print()\n",
    "\n",
    "p[0].move_ox(5)\n",
    "p[0].print_point()\n",
    "p[0].move_oy(5)\n",
    "p[0].print_point()\n",
    "print()\n",
    "\n",
    "p[0].move_ox(-7)  # move to OY:   OY, OX, OY, OO, OY\n",
    "p[1].move_oy(3)  # move from OX:     OY, -, OY, OO, OY\n",
    "p[2].move_oy(-3)  # move from OY to OO:   OY, -, OO, OO, OY\n",
    "p[3].move_ox(9)  # move from OO to OX:   OY, -, OO, OX, OY\n",
    "print(f'Lies on OX: {Point.ox_count}')\n",
    "print(f'Lies on OY: {Point.oy_count}')\n",
    "print(f'Coincide with (0, 0): {Point.oo_count}')\n",
    "print()\n",
    "\n",
    "p[0].print_point()\n",
    "p[0].dist_to_start_point()\n",
    "p[0].dist_to_point(p[4])\n",
    "print()\n",
    "\n",
    "p[0].is_the_same_point(p[0])\n",
    "p[0].is_the_same_point(p[1])\n",
    "print()"
   ],
   "metadata": {
    "collapsed": false,
    "pycharm": {
     "name": "#%%\n"
    }
   }
  },
  {
   "cell_type": "code",
   "execution_count": 1083,
   "outputs": [
    {
     "name": "stdout",
     "output_type": "stream",
     "text": [
      "New account was created successfully.\n",
      "The account #12345 owned by Ivanov was opened.\n",
      "**************************************************\n",
      "**************************************************\n",
      "The account #12345 owned by Ivanova was closed.\n",
      "Account info:\n",
      "--------------------\n",
      "#12345\n",
      "Owner: Ivanov\n",
      "The current balance is 1000 RUB\n",
      "Percent: 3%\n",
      "--------------------\n",
      "The current balance is 13.0 USD.\n",
      "The current balance is 11.0 EUR.\n",
      "\n",
      "The current balance is 2000 USD.\n",
      "The current balance is 3000 EUR.\n",
      "\n",
      "Account info:\n",
      "--------------------\n",
      "#12345\n",
      "Owner: Ivanova\n",
      "The current balance is 1000 RUB\n",
      "Percent: 3%\n",
      "--------------------\n",
      "\n",
      "The 3% was successfully added!\n",
      "The current balance is 1030.0 RUB\n",
      "\n",
      "The 5% was successfully added!\n",
      "The current balance is 1081.5 RUB\n",
      "\n",
      "100 RUB was successfully withdrawed!\n",
      "The current balance is 981.5 RUB\n",
      "\n",
      "Unfortunately, you have not 3000 RUB.\n",
      "The current balance is 981.5 RUB\n",
      "\n",
      "5000 RUB was successfully added!\n",
      "The current balance is 5981.5 RUB\n",
      "\n",
      "3000 RUB was successfully withdrawed!\n",
      "The current balance is 2981.5 RUB\n",
      "\n"
     ]
    }
   ],
   "source": [
    "\"\"\"\n",
    "Внести изменения в созданные классы следующим образом:\n",
    "- динамические свойства класса “Account” должны иметь модификатор доступа private;\n",
    "- определить методы getter и setter для свойств с модификаторами доступа private и protected;\n",
    "- любое взаимодействие с private и protected свойствами  должно производиться посредством соответствующих методов getter и setter.\n",
    "\n",
    "Продемонстрировать работу измененных классов.\n",
    "\"\"\"\n",
    "\n",
    "\n",
    "class Account:\n",
    "    rate_usd = 0.013\n",
    "    rate_eur = 0.011\n",
    "    suffix = 'RUB'\n",
    "    suffix_usd = 'USD'\n",
    "    suffix_eur = 'EUR'\n",
    "\n",
    "    def __new__(cls, *args, **kwargs):\n",
    "        print('New account was created successfully.')\n",
    "        return super().__new__(cls)\n",
    "\n",
    "    def __init__(self, num, surname, percent, value=0):\n",
    "        self.set_num(num)\n",
    "        self.set_surname(surname)\n",
    "        self.set_percent(percent)  # max=1 (100%)\n",
    "        self.set_value(value)\n",
    "        print(f'The account #{self.get_num()} owned by {self.get_surname()} was opened.')\n",
    "        print('*' * 50)\n",
    "\n",
    "    def __del__(self):\n",
    "        print('*' * 50)\n",
    "        print(f'The account #{self.get_num()} owned by {self.get_surname()} was closed.')\n",
    "\n",
    "    def set_num(self, num):\n",
    "        self.__num = num\n",
    "\n",
    "    def get_num(self):\n",
    "        return self.__num\n",
    "\n",
    "    def set_surname(self, surname):\n",
    "        self.__surname = surname\n",
    "\n",
    "    def get_surname(self):\n",
    "        return self.__surname\n",
    "\n",
    "    def set_percent(self, percent):\n",
    "        self.__percent = percent\n",
    "\n",
    "    def get_percent(self):\n",
    "        return self.__percent\n",
    "\n",
    "    def set_value(self, val):\n",
    "        self.__value = val\n",
    "\n",
    "    def get_value(self):\n",
    "        return self.__value\n",
    "\n",
    "    @classmethod\n",
    "    def set_usd_rate(cls, rate):\n",
    "        cls.rate_usd = rate\n",
    "\n",
    "    @classmethod\n",
    "    def set_eur_rate(cls, rate):\n",
    "        cls.rate_eur = rate\n",
    "\n",
    "    @staticmethod\n",
    "    def convert(value, rate):\n",
    "        return value * rate\n",
    "\n",
    "    def edit_owner(self, surname):\n",
    "        self.set_surname(surname)\n",
    "\n",
    "    def print_balance(self):\n",
    "        print(f'The current balance is {self.get_value()} {Account.suffix}')\n",
    "\n",
    "    def withdraw_money(self, val):\n",
    "        if val > self.get_value():\n",
    "            print(f'Unfortunately, you have not {val} {Account.suffix}.')\n",
    "        else:\n",
    "            self.set_value(self.get_value() - val)\n",
    "            print(f'{val} {Account.suffix} was successfully withdrawed!')\n",
    "\n",
    "        self.print_balance()\n",
    "\n",
    "    def add_money(self, val):\n",
    "        self.set_value(self.get_value() + val)\n",
    "        print(f'{val} {Account.suffix} was successfully added!')\n",
    "        self.print_balance()\n",
    "\n",
    "    def add_percents(self):\n",
    "        self.set_value(self.get_value() * (1 + self.get_percent()))\n",
    "        print(f'The {self.get_percent():.0%} was successfully added!')\n",
    "        self.print_balance()\n",
    "\n",
    "    def convert_to_usd(self):\n",
    "        usd_val = Account.convert(self.get_value(), Account.rate_usd)\n",
    "        print(f'The current balance is {usd_val} {Account.suffix_usd}.')\n",
    "\n",
    "    def convert_to_eur(self):\n",
    "        eur_val = Account.convert(self.get_value(), Account.rate_eur)\n",
    "        print(f'The current balance is {eur_val} {Account.suffix_eur}.')\n",
    "\n",
    "    def print_info(self):\n",
    "        print('Account info:')\n",
    "        print('-' * 20)\n",
    "        print(f'#{self.get_num()}')\n",
    "        print(f'Owner: {self.get_surname()}')\n",
    "        self.print_balance()\n",
    "        print(f'Percent: {self.get_percent():.0%}')\n",
    "        print('-' * 20)\n",
    "\n",
    "\n",
    "acc = Account(num='12345', surname='Ivanov', percent=0.03, value=1000)\n",
    "acc.print_info()\n",
    "acc.convert_to_usd()\n",
    "acc.convert_to_eur()\n",
    "print()\n",
    "\n",
    "Account.set_usd_rate(2)\n",
    "Account.set_eur_rate(3)\n",
    "acc.convert_to_usd()\n",
    "acc.convert_to_eur()\n",
    "print()\n",
    "\n",
    "acc.edit_owner(surname='Ivanova')\n",
    "acc.print_info()\n",
    "print()\n",
    "\n",
    "acc.add_percents()\n",
    "print()\n",
    "acc.set_percent(0.05)\n",
    "acc.add_percents()\n",
    "print()\n",
    "\n",
    "acc.withdraw_money(100)\n",
    "print()\n",
    "\n",
    "acc.withdraw_money(3000)\n",
    "print()\n",
    "\n",
    "acc.add_money(5000)\n",
    "print()\n",
    "\n",
    "acc.withdraw_money(3000)\n",
    "print()"
   ],
   "metadata": {
    "collapsed": false,
    "pycharm": {
     "name": "#%%\n"
    }
   }
  },
  {
   "cell_type": "code",
   "execution_count": 1084,
   "outputs": [
    {
     "name": "stdout",
     "output_type": "stream",
     "text": [
      "Liquid 'Vine' (density = 1064.2 kg/m^3, strength = 14%).\n",
      "Liquid 'Vine' (density = 1000 kg/m^3, strength = 14%).\n",
      "\n",
      "The weight of 0.5 m^3 of Vine is 500.0 kg.\n",
      "The weight of alcohol in 0.5 m^3 of Vine is 70.0 kg.\n",
      "The volume of 300 kg of Vine is 0.3 m^3.\n",
      "The volume of alcohol in 300 kg of Vine is 0.04 m^3.\n",
      "\n",
      "Liquid 'Vine' (density = 1000 kg/m^3, strength = 14%).\n",
      "Liquid 'Vine' (density = 1000 kg/m^3, strength = 20%).\n"
     ]
    }
   ],
   "source": [
    "\"\"\"\n",
    "Внести изменения в созданный в первой задаче класс “Alcohol”:\n",
    "переопределить методы вычисления массы и объема жидкости таким образом,\n",
    "чтобы в них также рассчитывалось соответственно массовое или объемное содержание чистого спирта,\n",
    "исходя из заданной крепости. Переопределить метод вывода информации о спирте.\n",
    "\n",
    "Продемонстрировать работу измененных классов.\n",
    "\"\"\"\n",
    "\n",
    "\n",
    "class Liquid:\n",
    "    def __init__(self, name, density):\n",
    "        self.name = name\n",
    "        self.density = density\n",
    "\n",
    "    def edit_density(self, val):\n",
    "        self.density = val\n",
    "\n",
    "    def calc_v(self, m):\n",
    "        v = round(m / self.density, 2)\n",
    "        print(f'The volume of {m} kg of {self.name} is {v} m^3.')\n",
    "        return v\n",
    "\n",
    "    def calc_m(self, v):\n",
    "        m = v * self.density\n",
    "        print(f'The weight of {v} m^3 of {self.name} is {m} kg.')\n",
    "        return m\n",
    "\n",
    "    def print_info(self):\n",
    "        print(f'Liquid {self.name!r} (density = {self.density} kg/m^3).')\n",
    "\n",
    "\n",
    "class Alcohol(Liquid):\n",
    "    def __init__(self, name, density, strength):\n",
    "        super().__init__(name, density)\n",
    "        self.strength = strength  # max = 1 (100%)\n",
    "\n",
    "    def edit_strength(self, val):\n",
    "        self.strength = val\n",
    "\n",
    "    def calc_v(self, m):\n",
    "        v = super().calc_v(m)\n",
    "        v_alc = round(v * self.strength, 2)\n",
    "        print(f'The volume of alcohol in {m} kg of {self.name} is {v_alc} m^3.')\n",
    "        return v, v_alc\n",
    "\n",
    "    def calc_m(self, v):\n",
    "        m = super().calc_m(v)\n",
    "        m_alc = round(m * self.strength, 2)\n",
    "        print(f'The weight of alcohol in {v} m^3 of {self.name} is {m_alc} kg.')\n",
    "        return m, m_alc\n",
    "\n",
    "    def print_info(self):\n",
    "        print(f'Liquid {self.name!r} (density = {self.density} kg/m^3, strength = {self.strength:.0%}).')\n",
    "\n",
    "\n",
    "a = Alcohol('Vine', 1064.2, 0.14)\n",
    "a.print_info()\n",
    "\n",
    "a.edit_density(1000)\n",
    "a.print_info()\n",
    "\n",
    "print()\n",
    "\n",
    "a.calc_m(0.5)\n",
    "a.calc_v(300)\n",
    "\n",
    "print()\n",
    "\n",
    "a.print_info()\n",
    "a.edit_strength(0.2)\n",
    "a.print_info()\n",
    "\n"
   ],
   "metadata": {
    "collapsed": false,
    "pycharm": {
     "name": "#%%\n"
    }
   }
  },
  {
   "cell_type": "code",
   "execution_count": 1085,
   "outputs": [
    {
     "name": "stdout",
     "output_type": "stream",
     "text": [
      "The hypotenuse of △ABC: 9.43\n",
      "The right triangle △ABC (5, 8, 9.43)\n",
      "The square of △ABC: 20.0\n",
      "\n",
      "SUM: 13\n",
      "MULT: 40\n",
      "\n",
      "The hypotenuse of △ABC: 12.81\n",
      "The hypotenuse of △ABC: 22.36\n",
      "SUM: 30\n",
      "MULT: 200\n",
      "The square of △ABC: 100.0\n"
     ]
    },
    {
     "data": {
      "text/plain": "100.0"
     },
     "execution_count": 1085,
     "metadata": {},
     "output_type": "execute_result"
    }
   ],
   "source": [
    "\"\"\"\n",
    "Создать класс “Pair” (пара чисел) со свойствами: числа A и B, - и методами:\n",
    "изменение чисел, вычисление их произведения и суммы.\n",
    "\n",
    "Определить производный класс “Right Triangle” (прямоугольный треугольник) со свойствами:\n",
    "катеты A и B, - и методами:\n",
    "вычисление гипотенузы и площади треугольника, вывод информации о фигуре на экран.\n",
    "\n",
    "Продемонстрировать работу класса-наследника и всех его методов.\n",
    "\"\"\"\n",
    "from math import sqrt\n",
    "\n",
    "\n",
    "class Pair:\n",
    "    def __init__(self, a, b):\n",
    "        self.A = a\n",
    "        self.B = b\n",
    "\n",
    "    def edit_a(self, a):\n",
    "        self.A = a\n",
    "\n",
    "    def edit_b(self, b):\n",
    "        self.B = b\n",
    "\n",
    "    def sum(self):\n",
    "        return self.A + self.B\n",
    "\n",
    "    def mult(self):\n",
    "        return self.A * self.B\n",
    "\n",
    "\n",
    "class RightTriangle(Pair):\n",
    "    def __init__(self, a, b):\n",
    "        super().__init__(a, b)\n",
    "        self.C = self.hypot()\n",
    "\n",
    "    def hypot(self):\n",
    "        hypot = round(sqrt(self.A ** 2 + self.B ** 2), 2)\n",
    "        print(f'The hypotenuse of \\u25B3ABC: {hypot}')\n",
    "        return hypot\n",
    "\n",
    "    def square(self):\n",
    "        # S = 1/2 * a * b\n",
    "        s = round(0.5 * self.mult(), 2)\n",
    "        print(f'The square of \\u25B3ABC: {s}')\n",
    "        return s\n",
    "\n",
    "    def print_info(self):\n",
    "        print(f'The right triangle \\u25B3ABC ({self.A}, {self.B}, {self.C})')\n",
    "\n",
    "    def edit_a(self, a):\n",
    "        super().edit_a(a)\n",
    "        self.C = self.hypot()\n",
    "\n",
    "    def edit_b(self, b):\n",
    "        super().edit_b(b)\n",
    "        self.C = self.hypot()\n",
    "\n",
    "\n",
    "tr = RightTriangle(5, 8)\n",
    "tr.print_info()\n",
    "tr.square()\n",
    "\n",
    "print()\n",
    "\n",
    "print(f'SUM: {tr.sum()}')\n",
    "print(f'MULT: {tr.mult()}')\n",
    "\n",
    "print()\n",
    "\n",
    "tr.edit_a(10)\n",
    "tr.edit_b(20)\n",
    "print(f'SUM: {tr.sum()}')\n",
    "print(f'MULT: {tr.mult()}')\n",
    "tr.square()"
   ],
   "metadata": {
    "collapsed": false,
    "pycharm": {
     "name": "#%%\n"
    }
   }
  },
  {
   "cell_type": "code",
   "execution_count": 1086,
   "outputs": [
    {
     "name": "stdout",
     "output_type": "stream",
     "text": [
      "Liquid 'Vine' (density = 1064.2 kg/m^3).\n",
      "Liquid 'Vine' (density = 1000 kg/m^3).\n",
      "\n",
      "The weight of 0.5 m^3 of Vine is 500.0 kg.\n",
      "The volume of 300 kg of Vine is 0.3 m^3.\n",
      "\n",
      "14\n",
      "20\n"
     ]
    }
   ],
   "source": [
    "\"\"\"\n",
    "Создать класс “Liquid” (жидкость) со свойствами: название и плотность жидкости, -\n",
    "и методами: изменение плотности, вычисление объема жидкости, соответствующего заданной массе,\n",
    "вычисление массы жидкости, соответствующей заданному объему, вывод информации о жидкости.\n",
    "\n",
    "Создать производный класс “Alcohol” (спирт) с собственным свойством - крепость, - и методом:\n",
    "изменение крепости.\n",
    "\n",
    "Продемонстрировать работу класса-наследника и всех его методов.\n",
    "\"\"\"\n",
    "\n",
    "\n",
    "class Liquid:\n",
    "    def __init__(self, name, density):\n",
    "        self.name = name\n",
    "        self.density = density\n",
    "\n",
    "    def edit_density(self, val):\n",
    "        self.density = val\n",
    "\n",
    "    def calc_v(self, m):\n",
    "        v = round(m / self.density, 2)\n",
    "        print(f'The volume of {m} kg of {self.name} is {v} m^3.')\n",
    "        return v\n",
    "\n",
    "    def calc_m(self, v):\n",
    "        m = v * self.density\n",
    "        print(f'The weight of {v} m^3 of {self.name} is {m} kg.')\n",
    "        return m\n",
    "\n",
    "    def print_info(self):\n",
    "        print(f'Liquid {self.name!r} (density = {self.density} kg/m^3).')\n",
    "\n",
    "\n",
    "class Alcohol(Liquid):\n",
    "    def __init__(self, name, density, strength):\n",
    "        super().__init__(name, density)\n",
    "        self.strength = strength\n",
    "\n",
    "    def edit_strength(self, val):\n",
    "        self.strength = val\n",
    "\n",
    "\n",
    "a = Alcohol('Vine', 1064.2, 14)\n",
    "a.print_info()\n",
    "\n",
    "a.edit_density(1000)\n",
    "a.print_info()\n",
    "\n",
    "print()\n",
    "\n",
    "a.calc_m(0.5)\n",
    "a.calc_v(300)\n",
    "\n",
    "print()\n",
    "\n",
    "print(a.strength)\n",
    "a.edit_strength(20)\n",
    "print(a.strength)\n",
    "\n"
   ],
   "metadata": {
    "collapsed": false,
    "pycharm": {
     "name": "#%%\n"
    }
   }
  },
  {
   "cell_type": "code",
   "execution_count": 1087,
   "outputs": [
    {
     "name": "stdout",
     "output_type": "stream",
     "text": [
      "A(2, 5, 8) + B(8, 10, 12) = C(10, 15, 20)\n",
      "\n",
      "A(2, 5, 8) - B(8, 10, 12) = C(-6, -5, -4)\n",
      "\n",
      "A(2, 5, 8) * B(8, 10, 12) = C(16, 50, 96)\n",
      "\n",
      "A(2, 5, 8) / B(8, 10, 12) = C(0.25, 0.50, 0.67)\n",
      "\n"
     ]
    }
   ],
   "source": [
    "\"\"\"\n",
    "Создать базовый абстрактный класс “Pair” (пара чисел) с арифметическими операциями:\n",
    "сложение, вычитание, умножение и деление.\n",
    "\n",
    "Определить производный класс “Fuzzy numbers” (нечеткие числа),\n",
    "реализующий арифметические операции следующим образом:\n",
    "- A(A-a, A, A+a) + B(B-b, B, B+b) = ((A-a)+(B-b), A+B, (A+a)+(B+b))\n",
    "- A(A-a, A, A+a) - B(B-b, B, B+b) = ((A-a)-(B-b), A-B, (A+a)-(B+b))\n",
    "- A(A-a, A, A+a) * B(B-b, B, B+b) = ((A-a)*(B-b), A*B, (A+a)*(B+b))\n",
    "- A(A-a, A, A+a) / B(B-b, B, B+b) = ((A-a)/(B-b), A/B, (A+a)/(B+b))\n",
    "\n",
    "* решите самостоятельно, какими свойствами будет обладать каждый из классов,\n",
    "и какие методы следует определить как абстрактные.\n",
    "\"\"\"\n",
    "from abc import ABC, abstractmethod\n",
    "\n",
    "\n",
    "class Pair(ABC):\n",
    "    def __init__(self, a, b):\n",
    "        self.A = a\n",
    "        self.B = b\n",
    "\n",
    "    @abstractmethod\n",
    "    def sum(self):\n",
    "        pass\n",
    "\n",
    "    @abstractmethod\n",
    "    def minus(self):\n",
    "        pass\n",
    "\n",
    "    @abstractmethod\n",
    "    def mult(self):\n",
    "        pass\n",
    "\n",
    "    @abstractmethod\n",
    "    def div(self):\n",
    "        pass\n",
    "\n",
    "\n",
    "class FuzzyNumbers(Pair):\n",
    "    def __init__(self, A, a, B, b):\n",
    "        super().__init__(A, B)\n",
    "        self.a = a\n",
    "        self.b = b\n",
    "\n",
    "    def sum(self):\n",
    "        l = (self.A - self.a) + (self.B - self.b)\n",
    "        c = self.A + self.B\n",
    "        r = (self.A + self.a) + (self.B + self.b)\n",
    "        print(f'A({self.A - self.a}, {self.A}, {self.A + self.a}) + '\n",
    "              f'B({self.B - self.b}, {self.B}, {self.B + self.b}) = '\n",
    "              f'C({l}, {c}, {r})')\n",
    "        return l, c, r\n",
    "\n",
    "    def minus(self):\n",
    "        l = (self.A - self.a) - (self.B - self.b)\n",
    "        c = self.A - self.B\n",
    "        r = (self.A + self.a) - (self.B + self.b)\n",
    "        print(f'A({self.A - self.a}, {self.A}, {self.A + self.a}) - '\n",
    "              f'B({self.B - self.b}, {self.B}, {self.B + self.b}) = '\n",
    "              f'C({l}, {c}, {r})')\n",
    "        return l, c, r\n",
    "\n",
    "    def mult(self):\n",
    "        l = (self.A - self.a) * (self.B - self.b)\n",
    "        c = self.A * self.B\n",
    "        r = (self.A + self.a) * (self.B + self.b)\n",
    "        print(f'A({self.A - self.a}, {self.A}, {self.A + self.a}) * '\n",
    "              f'B({self.B - self.b}, {self.B}, {self.B + self.b}) = '\n",
    "              f'C({l}, {c}, {r})')\n",
    "        return l, c, r\n",
    "\n",
    "    def div(self):\n",
    "        l = (self.A - self.a) / (self.B - self.b)\n",
    "        c = self.A / self.B\n",
    "        r = (self.A + self.a) / (self.B + self.b)\n",
    "        print(f'A({self.A - self.a}, {self.A}, {self.A + self.a}) / '\n",
    "              f'B({self.B - self.b}, {self.B}, {self.B + self.b}) = '\n",
    "              f'C({l:.2f}, {c:.2f}, {r:.2f})')\n",
    "        return l, c, r\n",
    "\n",
    "\n",
    "fn = FuzzyNumbers(5, 3, 10, 2)\n",
    "fn.sum()\n",
    "print()\n",
    "fn.minus()\n",
    "print()\n",
    "fn.mult()\n",
    "print()\n",
    "fn.div()\n",
    "print()"
   ],
   "metadata": {
    "collapsed": false,
    "pycharm": {
     "name": "#%%\n"
    }
   }
  },
  {
   "cell_type": "code",
   "execution_count": 1088,
   "outputs": [
    {
     "name": "stdout",
     "output_type": "stream",
     "text": [
      "Plus (intersection):\n",
      "(1, 2, 3, 4, 5, 6, 7, 8, 9) + (3, 6, 8, 0, 2) = (8, 2, 3, 6)\n",
      "Edit elements (sqrt):\n",
      "(1, 2, 3, 4, 5, 6, 7, 8, 9)  ->  [1.0, 1.41, 1.73, 2.0, 2.24, 2.45, 2.65, 2.83, 3.0]\n",
      "\n",
      "Plus (union):\n",
      "(3, 4, 5, 9, 1, 7, 13) + (3, 6, 8, 0, 2) = (0, 1, 2, 3, 4, 5, 6, 7, 8, 9, 13)\n",
      "Edit elements (log):\n",
      "(3, 4, 5, 9, 1, 7, 13)  ->  [1.1, 1.39, 1.61, 2.2, 0.0, 1.95, 2.56]\n"
     ]
    },
    {
     "data": {
      "text/plain": "[1.1, 1.39, 1.61, 2.2, 0.0, 1.95, 2.56]"
     },
     "execution_count": 1088,
     "metadata": {},
     "output_type": "execute_result"
    }
   ],
   "source": [
    "\"\"\"\n",
    "Создать базовый абстрактный класс “Array” (массив) с методами сложения и поэлементной обработки.\n",
    "\n",
    "Определить производные классы “AndArray” и “OrArray”. В первом классе операция сложения реализуется\n",
    "как пересечение множеств, а поэлементная обработка представляет собой извлечение квадратного корня.\n",
    "Во втором классе операция сложения реализуется как объединение, а поэлементная обработка - вычисление логарифма.\n",
    "\n",
    "* решите самостоятельно, какими свойствами будет обладать каждый из классов, и какие методы следует определить как абстрактные.\n",
    "\n",
    "\"\"\"\n",
    "from math import sqrt, log\n",
    "from abc import ABC, abstractmethod\n",
    "\n",
    "\n",
    "class Array(ABC):\n",
    "    def __init__(self, *args):\n",
    "        self.data = args\n",
    "\n",
    "    @abstractmethod\n",
    "    def plus(self, arr):\n",
    "        pass\n",
    "\n",
    "    @abstractmethod\n",
    "    def edit_elem(self):\n",
    "        pass\n",
    "\n",
    "\n",
    "class AndArray(Array):\n",
    "    def plus(self, arr):\n",
    "        res = set(self.data).intersection(set(arr.data))\n",
    "        print(f'Plus (intersection):\\n{self.data} + {arr.data} = {tuple(res)}')\n",
    "        return tuple(res)\n",
    "\n",
    "    def edit_elem(self):\n",
    "        res = list(map(sqrt, self.data))\n",
    "        res = list(map(round, res, [2] * len(res)))\n",
    "        print(f'Edit elements (sqrt):\\n{self.data}  ->  {res}')\n",
    "        return res\n",
    "\n",
    "\n",
    "class OrArray(Array):\n",
    "    def plus(self, arr):\n",
    "        res = set(self.data).union(set(arr.data))\n",
    "        print(f'Plus (union):\\n{self.data} + {arr.data} = {tuple(res)}')\n",
    "        return tuple(res)\n",
    "\n",
    "    def edit_elem(self):\n",
    "        res = list(map(log, self.data))\n",
    "        res = list(map(round, res, [2] * len(res)))\n",
    "        print(f'Edit elements (log):\\n{self.data}  ->  {res}')\n",
    "        return res\n",
    "\n",
    "\n",
    "arr1 = AndArray(1, 2, 3, 4, 5, 6, 7, 8, 9)\n",
    "arr2 = AndArray(3, 6, 8, 0, 2)\n",
    "arr1.plus(arr2)\n",
    "arr1.edit_elem()\n",
    "\n",
    "print()\n",
    "\n",
    "arr3 = OrArray(3, 4, 5, 9, 1, 7, 13)\n",
    "arr3.plus(arr2)\n",
    "arr3.edit_elem()"
   ],
   "metadata": {
    "collapsed": false,
    "pycharm": {
     "name": "#%%\n"
    }
   }
  },
  {
   "cell_type": "code",
   "execution_count": 1089,
   "outputs": [],
   "source": [
    "from math import sqrt\n",
    "\n",
    "\n",
    "class Square:\n",
    "    def __init__(self, side):\n",
    "        self.side = side\n",
    "\n",
    "    def calc_diagonal(self, to_print=True):\n",
    "        d = round(self.side * sqrt(2), 2)\n",
    "        if to_print:\n",
    "            print(f'Diagonal: {d}')\n",
    "        return d\n",
    "\n",
    "    def calc_perimeter(self):\n",
    "        p = 4 * self.side\n",
    "        print(f'Perimeter: {p}')\n",
    "        return p\n",
    "\n",
    "    def calc_square(self, to_print=True):\n",
    "        s = self.side ** 2\n",
    "        if to_print:\n",
    "            print(f'Square: {s}')\n",
    "        return s\n",
    "\n",
    "    def get_info(self):\n",
    "        return f'Square: side = {self.side}'"
   ],
   "metadata": {
    "collapsed": false,
    "pycharm": {
     "name": "#%%\n"
    }
   }
  },
  {
   "cell_type": "code",
   "execution_count": 1090,
   "outputs": [],
   "source": [
    "from math import acos, degrees, sqrt\n",
    "\n",
    "\n",
    "class Triangle():\n",
    "    def __init__(self, a, b, c):\n",
    "        self.a = a\n",
    "        self.b = b\n",
    "        self.c = c\n",
    "\n",
    "    def get_info(self):\n",
    "        return f'\\u25b3ABC ({self.a}, {self.b}, {self.c})'\n",
    "\n",
    "    def exists(self):\n",
    "        if (self.a + self.b > self.c) and (self.a + self.c > self.b) and (self.b + self.c > self.a):\n",
    "            print(f'{self.get_info()} exists.')\n",
    "            return True\n",
    "\n",
    "        print(f'{self.get_info()} does not exist.')\n",
    "        return False\n",
    "\n",
    "    def get_sides(self):\n",
    "        print(f'Sides: {self.a}, {self.b}, {self.c}')\n",
    "        return self.a, self.b, self.c\n",
    "\n",
    "    def get_angles(self):\n",
    "        ac = acos((self.a ** 2 + self.c ** 2 - self.b ** 2) / (2 * self.a * self.c))\n",
    "        ab = acos((self.a ** 2 + self.b ** 2 - self.c ** 2) / (2 * self.a * self.b))\n",
    "        cb = acos((self.b ** 2 + self.c ** 2 - self.a ** 2) / (2 * self.b * self.c))\n",
    "\n",
    "        print(f'\\u2220CAB: {ac:.2f} Rad, {degrees(ac):.2f} Grad')\n",
    "        print(f'\\u2220ABC: {ab:.2f} Rad, {degrees(ab):.2f} Grad')\n",
    "        print(f'\\u2220BCA: {cb:.2f} Rad, {degrees(cb):.2f} Grad')\n",
    "\n",
    "        return ac, ab, cb\n",
    "\n",
    "    def get_perimeter(self, to_print=True):\n",
    "        p = self.a + self.b + self.c\n",
    "        if to_print:\n",
    "            print(f'Perimeter: {p}')\n",
    "        return p\n",
    "\n",
    "    def get_square(self):\n",
    "        p = self.get_perimeter(to_print=False) / 2\n",
    "        s = sqrt(p * (p - self.a) * (p - self.b) * (p - self.c))\n",
    "        print(f'Square: {s:.2f}')\n",
    "        return s\n",
    "\n",
    "    def is_equilateral(self):\n",
    "        is_eq = self.a == self.b == self.c\n",
    "        print(f'Is equilateral: {is_eq}')\n",
    "        return is_eq\n"
   ],
   "metadata": {
    "collapsed": false,
    "pycharm": {
     "name": "#%%\n"
    }
   }
  },
  {
   "cell_type": "code",
   "execution_count": 1091,
   "outputs": [
    {
     "name": "stdout",
     "output_type": "stream",
     "text": [
      "Is equilateral: False\n",
      "Is equilateral: True\n",
      "Sides: 2, 2, 2\n",
      "Triangle △ABC: side = 2 is equilateral.\n",
      "Perimeter: 6\n",
      "The point (0, 12) was deleted.\n",
      "The point (9, 0) was deleted.\n",
      "The point (0, 0) was deleted.\n",
      "The point (4, 3) was deleted.\n",
      "The point (0, 11) was deleted.\n",
      "Is equilateral: False\n",
      "Is equilateral: True\n",
      "Sides: 7, 7, 7\n",
      "Triangle △ABC: side = 7 is equilateral.\n",
      "Perimeter: 21\n",
      "Is equilateral: False\n",
      "Is equilateral: True\n",
      "Sides: 4, 4, 4\n",
      "Triangle △ABC: side = 4 is equilateral.\n",
      "Perimeter: 12\n",
      "**************************************************\n",
      "Max perimeter: 21\n",
      "Equilateral Triangle with max perimeter: △ABC: side = 7\n",
      "\n",
      "△ABC (2, 5, 6)\n",
      "Is equilateral: False\n",
      "∠CAB: 0.90 Rad, 51.32 Grad\n",
      "∠ABC: 1.93 Rad, 110.49 Grad\n",
      "∠BCA: 0.32 Rad, 18.19 Grad\n",
      "△ABC: side = 2\n",
      "Is is equilateral.\n",
      "∠CAB == ∠ABC == ∠BCA: 1.05 Rad, 60.00 Grad\n"
     ]
    }
   ],
   "source": [
    "\"\"\"\n",
    "Внести изменения в написанные в предыдущем разделе программы с иерархией классов\n",
    "“Треугольник” - ”Равносторонний треугольник”\n",
    "следующим образом:\n",
    "- каждый класс должен быть оформлен в виде отдельного модуля;\n",
    "- демонстрация работы с классами должна осуществляться в главном модуле программы;\n",
    "- демонстрация работы с классами должна осуществляться только в случае автономного\n",
    "запуска главного модуля.\n",
    "\"\"\"\n",
    "\n",
    "if __name__ == \"__main__\":\n",
    "    tr = [Triangle(2, 5, 6), Triangle(2, 2, 2), Triangle(5, 2, 4), Triangle(7, 7, 7), Triangle(7, 3, 6),\n",
    "          Triangle(4, 4, 4)]\n",
    "\n",
    "    p_max = 0\n",
    "    tr_p_max = None\n",
    "\n",
    "    for i in range(0, len(tr)):\n",
    "        if tr[i].is_equilateral():\n",
    "            tr[i] = EquilateralTriangle(tr[i].get_sides()[0])\n",
    "            print(f'Triangle {tr[i].get_info()} is equilateral.')\n",
    "            p = tr[i].get_perimeter()\n",
    "            if p > p_max:\n",
    "                p_max = p\n",
    "                tr_p_max = tr[i]\n",
    "\n",
    "    print('*' * 50)\n",
    "    print(f'Max perimeter: {p_max}')\n",
    "    print(f'Equilateral Triangle with max perimeter: {tr_p_max.get_info()}')\n",
    "\n",
    "    print()\n",
    "    print(tr[0].get_info())\n",
    "    tr[0].is_equilateral()\n",
    "    tr[0].get_angles()\n",
    "    print(tr[1].get_info())\n",
    "    tr[1].is_equilateral()\n",
    "    tr[1].get_angles()"
   ],
   "metadata": {
    "collapsed": false,
    "pycharm": {
     "name": "#%%\n"
    }
   }
  },
  {
   "cell_type": "code",
   "execution_count": 1092,
   "outputs": [],
   "source": [
    "from math import sqrt\n",
    "\n",
    "\n",
    "class RegualrSqPrism(Square):\n",
    "    def __init__(self, side, height):\n",
    "        super().__init__(side)\n",
    "        self.height = height\n",
    "\n",
    "    def calc_volume(self):\n",
    "        v = self.side ** 2 * self.height\n",
    "        print(f'Volume: {v}')\n",
    "        return v\n",
    "\n",
    "    def get_info(self):\n",
    "        return f'Regular square prisma: base side = {self.side}, height = {self.height}'\n",
    "\n",
    "    def calc_square(self):\n",
    "        s = 2 * super().calc_square(to_print=False) + 4 * self.side * self.height\n",
    "        print(f'Square: {s}')\n",
    "        return s\n",
    "\n",
    "    def calc_diagonal(self):\n",
    "        d = sqrt(self.height ** 2 + super().calc_diagonal(to_print=False))\n",
    "        print(f'Diagonal: {d}')\n",
    "        return d"
   ],
   "metadata": {
    "collapsed": false,
    "pycharm": {
     "name": "#%%\n"
    }
   }
  },
  {
   "cell_type": "code",
   "execution_count": 1093,
   "outputs": [],
   "source": [
    "from math import degrees, pi\n",
    "\n",
    "\n",
    "class EquilateralTriangle(Triangle):\n",
    "    def __init__(self, a):\n",
    "        super().__init__(a, a, a)\n",
    "\n",
    "    def is_equilateral(self):\n",
    "        print('Is is equilateral.')\n",
    "        return True\n",
    "\n",
    "    def get_angles(self):\n",
    "        angle = pi / 3\n",
    "        print(f'\\u2220CAB == \\u2220ABC == \\u2220BCA: {angle:.2f} Rad, {degrees(angle):.2f} Grad')\n",
    "\n",
    "    def get_info(self):\n",
    "        return f'\\u25b3ABC: side = {self.a}'\n"
   ],
   "metadata": {
    "collapsed": false,
    "pycharm": {
     "name": "#%%\n"
    }
   }
  },
  {
   "cell_type": "code",
   "execution_count": 1094,
   "outputs": [
    {
     "name": "stdout",
     "output_type": "stream",
     "text": [
      "Square: 72\n",
      "Square: 78\n",
      "Square: 702\n",
      "Square: 78\n",
      "Diagonal: 5.40740233383831\n",
      "Diagonal: 8.174961773610931\n",
      "Diagonal: 15.418495387034366\n",
      "**************************************************\n",
      "The prism with max sqiare: Regular square prisma: base side = 9, height = 15\n",
      "The prism with min diagonal: Regular square prisma: base side = 3, height = 5\n"
     ]
    }
   ],
   "source": [
    "\"\"\"\n",
    "Внести изменения в написанные в предыдущем разделе программы с иерархией классов\n",
    "“Квадрат” - ”Правильная квадратная призма”\n",
    "следующим образом:\n",
    "- каждый класс должен быть оформлен в виде отдельного модуля;\n",
    "- демонстрация работы с классами должна осуществляться в главном модуле программы;\n",
    "- демонстрация работы с классами должна осуществляться только в случае автономного\n",
    "запуска главного модуля.\n",
    "\"\"\"\n",
    "\n",
    "if __name__ == \"__main__\":\n",
    "    prisms = [RegualrSqPrism(3, 5), RegualrSqPrism(2, 8), RegualrSqPrism(9, 15)]\n",
    "    max_s_prism = max(prisms, key=lambda pr: pr.calc_square())\n",
    "    min_d_prism = min(prisms, key=lambda pr: pr.calc_diagonal())\n",
    "\n",
    "    print('*' * 50)\n",
    "    print(f'The prism with max sqiare: {max_s_prism.get_info()}')\n",
    "    print(f'The prism with min diagonal: {min_d_prism.get_info()}')\n"
   ],
   "metadata": {
    "collapsed": false,
    "pycharm": {
     "name": "#%%\n"
    }
   }
  },
  {
   "cell_type": "code",
   "execution_count": 1095,
   "outputs": [],
   "source": [
    "class Student:\n",
    "    def __init__(self, surname, first_name, second_name, birthday,\n",
    "                 speciality, year, group, entry_points, avg_points):\n",
    "        self.surname = surname\n",
    "        self.first_name = first_name\n",
    "        self.second_name = second_name\n",
    "        self.birthday = birthday\n",
    "        self.speciality = speciality\n",
    "        self.year = year\n",
    "        self.group = group\n",
    "        self.entry_points = entry_points\n",
    "        self.avg_points = avg_points\n",
    "\n",
    "    def get_info(self):\n",
    "        name = f'{self.surname} {self.first_name[0]}.{self.second_name[0]}.'\n",
    "        return [name, self.birthday, self.speciality, self.year, self.group,\n",
    "                self.entry_points, self.avg_points]\n",
    "\n",
    "    def get_short_info(self):\n",
    "        name = f'{self.surname} {self.first_name[0]}.{self.second_name[0]}.'\n",
    "        return [name, self.birthday, self.speciality, self.group, self.avg_points]\n",
    "\n",
    "\n",
    "# Фамилия И.О.  | дата рождения  | специальность  | группа  | средний балл\n",
    "class Students:\n",
    "    def __init__(self, file_name, speciality):\n",
    "        self.students_list = Students.load_students_list(file_name, speciality)\n",
    "\n",
    "    @staticmethod\n",
    "    def load_students_list(file_name, speciality):\n",
    "        with open(file_name, 'r') as f:\n",
    "            st_list = f.readlines()\n",
    "        # print(st_list)\n",
    "\n",
    "        students = []\n",
    "        for st in st_list:\n",
    "            if st.endswith('\\n'):\n",
    "                st = st[:-1]\n",
    "            sur, f_name, s_name, birth, entry_p, year, group, avg_p = st.split()\n",
    "            students.append(Student(sur, f_name, s_name, birth, speciality,\n",
    "                                    int(year), group, int(entry_p), float(avg_p)))\n",
    "\n",
    "        return students\n",
    "\n",
    "    def sort_by_surname(self):\n",
    "        self.students_list = sorted(self.students_list, key=lambda st: st.surname)\n",
    "\n",
    "    def get_students_list(self, sort=False, year=None, short_info=False):\n",
    "        if sort:\n",
    "            self.sort_by_surname()\n",
    "\n",
    "        st_list = []\n",
    "        for st in self.students_list:\n",
    "            if year is not None and st.year != year:\n",
    "                continue\n",
    "            st_list.append(st.get_info() if not short_info else st.get_short_info())\n",
    "        return st_list"
   ],
   "metadata": {
    "collapsed": false,
    "pycharm": {
     "name": "#%%\n"
    }
   }
  },
  {
   "cell_type": "code",
   "execution_count": 1096,
   "outputs": [
    {
     "name": "stdout",
     "output_type": "stream",
     "text": [
      "0\n"
     ]
    }
   ],
   "source": [
    "\"\"\"\n",
    "В списках студентов из предыдущей задачи найдите всех студентов, обучающихся на 5 курсе,\n",
    "и с помощью модуля random случайным образом распределите их на несколько групп (по датам)\n",
    "для защиты выпускной квалификационной работы (ВКР) таким образом, чтобы в каждой группе оказалось\n",
    "не более 5-ти человек. Используя модуль texttable выведите на экран в виде отдельных таблиц информацию\n",
    "о студентах, отсортированных по фамилии в алфавитном порядке, из каждой полученной группы в следующем формате:\n",
    "\n",
    "Дата защиты ВКР\n",
    "Фамилия И.О.  | дата рождения  | специальность  | группа  | средний балл\n",
    "\"\"\"\n",
    "\"\"\"\n",
    "import random\n",
    "import texttable\n",
    "from Students import Students\n",
    "\n",
    "students_AI_file = 'AI_students_upd.txt'\n",
    "students_IS_file = 'IS_students_upd.txt'\n",
    "\n",
    "students_AI = Students(students_AI_file, 'Applied Informatics')\n",
    "students_IS = Students(students_IS_file, 'Information Security')\n",
    "\n",
    "all_students = students_AI.get_students_list(year=5, short_info=True)\n",
    "all_students.extend(students_IS.get_students_list(year=5, short_info=True))\n",
    "\n",
    "# print(all_students)\n",
    "random.shuffle(all_students)\n",
    "# print(all_students)\n",
    "\n",
    "max_st_per_day = 5\n",
    "cur_day = 1\n",
    "st_by_days = {}\n",
    "for i in range(0, len(all_students), max_st_per_day):\n",
    "    st_by_days[cur_day] = all_students[i:i + max_st_per_day]\n",
    "    cur_day += 1\n",
    "\n",
    "print(st_by_days)\n",
    "\n",
    "# Дата защиты ВКР\n",
    "# Фамилия И.О.  | дата рождения  | специальность  | группа  | средний балл\n",
    "table = texttable.Texttable()\n",
    "table.set_cols_align(['l', 'l', 'l', 'c', 'c'])\n",
    "table.set_cols_width([20, 15, 25, 6, 10])\n",
    "table.set_precision(1)\n",
    "\n",
    "headers = ['Name', 'Birthday', 'Speciality', 'Group', 'Avg points']\n",
    "\n",
    "for day, st_list in st_by_days.items():\n",
    "    print(f'\\nThe {day} day:\\n')\n",
    "    data = [headers]\n",
    "    st_list = sorted(st_list, key=lambda s: s[0])\n",
    "    data.extend(st_list)\n",
    "    table.add_rows(data)\n",
    "    print(table.draw())\n",
    "    table.reset()\n",
    "\"\"\"\n",
    "print(0)"
   ],
   "metadata": {
    "collapsed": false,
    "pycharm": {
     "name": "#%%\n"
    }
   }
  },
  {
   "cell_type": "code",
   "execution_count": 1097,
   "outputs": [
    {
     "name": "stdout",
     "output_type": "stream",
     "text": [
      "0\n"
     ]
    }
   ],
   "source": [
    "\"\"\"\n",
    "В файлах “AI_students.txt” и “IS_students.txt” содержится информация о студентах,\n",
    "обучающихся по специальностям “Прикладная информатика” и “Защита информации” соответственно.\n",
    "Каждая строка в указанных файлах содержит информацию об одном конкретном студенте в следующем формате:\n",
    "\n",
    "[Фамилия] [Имя] [Отчество] [дата рождения] [балл при поступлении] [курс] [группа] [средний балл]\n",
    "\n",
    "Например:\n",
    "Дмитриев Иван Петрович 12.5.2003 76 1 ПИ-11 4.3\n",
    "Любимова Мария Ивановка 05.08.2000 98 4 ЗИ-42 5.0\n",
    "\n",
    "С помощью модуля texttable выведите на экран в виде таблицы информацию о студентах,\n",
    "обучающихся на обеих специальностях, отсортированную по названию специальности и фамилии студента\n",
    "(внутри каждой специальности) в следующем формате:\n",
    "\n",
    "Фамилия И.О. | дата рождения | специальность | курс | группа | балл при поступлении | средний балл\n",
    "\"\"\"\n",
    "\"\"\"\n",
    "import texttable\n",
    "from Students import Students\n",
    "\n",
    "students_AI_file = 'AI_students.txt'\n",
    "students_IS_file = 'IS_students.txt'\n",
    "\n",
    "students_AI = Students(students_AI_file, 'Applied Informatics')\n",
    "students_IS = Students(students_IS_file, 'Information Security')\n",
    "\n",
    "all_students = students_AI.get_students_list(sort=True)\n",
    "all_students.extend(students_IS.get_students_list(sort=True))\n",
    "# print(data)\n",
    "\n",
    "# Фамилия И.О. | дата рождения | специальность | курс | группа | балл при поступлении | средний балл\n",
    "table = texttable.Texttable()\n",
    "table.set_cols_align(['l', 'l', 'l', 'c', 'c', 'c', 'c'])\n",
    "table.set_cols_width([20, 15, 25, 6, 10, 10, 10])\n",
    "table.set_precision(1)\n",
    "\n",
    "headers = ['Name', 'Birthday', 'Speciality', 'Year', 'Group', 'Entry points', 'Avg points']\n",
    "data = [headers]\n",
    "data.extend(all_students)\n",
    "table.add_rows(data)\n",
    "print(table.draw())\n",
    "\"\"\"\n",
    "print(0)"
   ],
   "metadata": {
    "collapsed": false,
    "pycharm": {
     "name": "#%%\n"
    }
   }
  },
  {
   "cell_type": "code",
   "execution_count": 1098,
   "outputs": [
    {
     "name": "stdout",
     "output_type": "stream",
     "text": [
      "[22, 6, 59, 2]\n",
      "[2, 77, 94, 68]\n",
      "[8, 23, 84, 6]\n",
      "[54, 4, 97, 58]\n",
      "[13, 94, 59, 66]\n",
      "\n",
      "Max elem on perimeter (matrix A): 94\n",
      "[94, 3, 40, 61, 69, 23, 67, 42]\n",
      "[85, 63, 88, 21, 66, 80, 83, 43]\n",
      "[93, 84, 38, 88, 52, 68, 3, 9]\n",
      "[97, 18, 33, 31, 0, 30, 6, 21]\n",
      "[73, 89, 72, 28, 18, 72, 39, 6]\n",
      "[82, 94, 82, 4, 60, 40, 98, 96]\n",
      "\n",
      "Min elem out of perimeter (matrix B): 0\n",
      "Sr. geom. of 94 and 0 is 0.00\n"
     ]
    }
   ],
   "source": [
    "\"\"\"\n",
    "Используя модуль random сформируйте случайным образом две матрицы A(m, n) и B(k, l).\n",
    "В матрице A найдите максимальный элемент, находящийся на периметре матрицы,\n",
    "а в матрице B - минимальный элемент вне периметра.\n",
    "Вычислите среднее геометрическое найденных элементов.\n",
    "\"\"\"\n",
    "import random\n",
    "from math import sqrt\n",
    "\n",
    "\n",
    "def get_matrix(row_num, col_num):\n",
    "    m = []\n",
    "    for i in range(0, row_num):\n",
    "        row = []\n",
    "        for j in range(0, col_num):\n",
    "            row.append(random.randrange(100))\n",
    "        m.append(row)\n",
    "    return m\n",
    "\n",
    "\n",
    "def print_matrix(m):\n",
    "    for row in m:\n",
    "        print(row)\n",
    "    print()\n",
    "\n",
    "\n",
    "def get_max_on_perim(m, row_num, col_num):\n",
    "    first_row = m[0]\n",
    "    last_row = m[row_num - 1]\n",
    "    first_col = [row[0] for row in m]\n",
    "    last_col = [row[col_num - 1] for row in m]\n",
    "\n",
    "    # print(first_row, last_row, first_col, last_col)\n",
    "\n",
    "    max_elem = max(*first_row, *last_row, *first_col, *last_col)\n",
    "    return max_elem\n",
    "\n",
    "\n",
    "def get_min_out_perim(m, row_num, col_num):\n",
    "    min_elem = 100\n",
    "    for i in range(1, row_num - 1):\n",
    "        for j in range(1, col_num - 1):\n",
    "            if m[i][j] < min_elem:\n",
    "                min_elem = m[i][j]\n",
    "    return min_elem\n",
    "\n",
    "\n",
    "m = 5\n",
    "n = 4\n",
    "A = get_matrix(m, n)\n",
    "print_matrix(A)\n",
    "max_A = get_max_on_perim(A, m, n)\n",
    "print(f'Max elem on perimeter (matrix A): {max_A}')\n",
    "\n",
    "k = 6\n",
    "l = 8\n",
    "B = get_matrix(k, l)\n",
    "print_matrix(B)\n",
    "min_B = get_min_out_perim(B, k, l)\n",
    "print(f'Min elem out of perimeter (matrix B): {min_B}')\n",
    "\n",
    "sr_geom = sqrt(max_A * min_B)\n",
    "print(f'Sr. geom. of {max_A} and {min_B} is {sr_geom:.2f}')\n"
   ],
   "metadata": {
    "collapsed": false,
    "pycharm": {
     "name": "#%%\n"
    }
   }
  },
  {
   "cell_type": "code",
   "execution_count": 1099,
   "outputs": [
    {
     "name": "stdout",
     "output_type": "stream",
     "text": [
      "[171, 371, 191, 701, 543, 291, 483, 901, 913, 441, 109, 623, 183, 125, 219, 645, 127, 329, 719, 613]\n",
      "Min=109, max=913\n",
      "[171, 371, 191, 701, 543, 291, 483, 901, 441, 623, 183, 125, 219, 645, 127, 329, 719, 613]\n",
      "[901, 719, 701, 645, 623, 613, 543, 483, 441, 371, 329, 291, 219, 191, 183, 171, 127, 125]\n",
      "Sr. arifm. of [901, 719, 701, 645, 623] is 717.80\n"
     ]
    }
   ],
   "source": [
    "\"\"\"\n",
    "Используя модуль random, сформируйте случайным образом последовательность,\n",
    "состоящую из 20-ти нечетных чисел в диапазоне от 100 до 1000.\n",
    "Удалите из полученной последовательности максимальный и минимальный элементы.\n",
    "Найдите среднее арифметическое пяти наибольших элементов в преобразованной последовательности.\n",
    "\"\"\"\n",
    "import random\n",
    "\n",
    "l = range(101, 1000, 2)\n",
    "rand_l = random.sample(l, 20)\n",
    "print(rand_l)\n",
    "\n",
    "min_elem = min(rand_l)\n",
    "max_elem = max(rand_l)\n",
    "print(f'Min={min_elem}, max={max_elem}')\n",
    "rand_l.remove(min_elem)\n",
    "rand_l.remove(max_elem)\n",
    "print(rand_l)\n",
    "\n",
    "sorted_rand_l = sorted(rand_l, reverse=True)\n",
    "print(sorted_rand_l)\n",
    "sr_ar = fsum(sorted_rand_l[:5]) / 5\n",
    "print(f'Sr. arifm. of {sorted_rand_l[:5]} is {sr_ar:.2f}')"
   ],
   "metadata": {
    "collapsed": false,
    "pycharm": {
     "name": "#%%\n"
    }
   }
  },
  {
   "cell_type": "code",
   "execution_count": 1100,
   "outputs": [],
   "source": [
    "\"\"\"\n",
    "Класс Liquid.\n",
    "\n",
    "Методы:\n",
    "\n",
    "edit_density - редактировать плотность жидкости\n",
    "calc_v - вычислить объем жидкости заданной массы\n",
    "calc_m - вычислить массу жидкости заданного объема\n",
    "print_info - вывести информацию о жидкости\n",
    "\"\"\"\n",
    "\n",
    "\n",
    "class Liquid:\n",
    "    def __init__(self, name, density):\n",
    "        self.name = name\n",
    "        self.density = density\n",
    "\n",
    "    def edit_density(self, val):\n",
    "        self.density = val\n",
    "\n",
    "    def calc_v(self, m):\n",
    "        v = round(m / self.density, 2)\n",
    "        print(f'The volume of {m} kg of {self.name} is {v} m^3.')\n",
    "        return v\n",
    "\n",
    "    def calc_m(self, v):\n",
    "        m = v * self.density\n",
    "        print(f'The weight of {v} m^3 of {self.name} is {m} kg.')\n",
    "        return m\n",
    "\n",
    "    def print_info(self):\n",
    "        print(f'Liquid {self.name!r} (density = {self.density} kg/m^3).')\n",
    "\n",
    "\n",
    "__author__ = 'Shagitov M.'\n",
    "\n",
    "if __name__ == \"Liquid\":\n",
    "    print(f'Module {__name__!r} (author: {__author__}) was imported.')"
   ],
   "metadata": {
    "collapsed": false,
    "pycharm": {
     "name": "#%%\n"
    }
   }
  },
  {
   "cell_type": "code",
   "execution_count": 1101,
   "outputs": [],
   "source": [
    "\"\"\"\n",
    "Модуль Alcohol.\n",
    "\n",
    "Методы:\n",
    "\n",
    "edit_strength - редактировать крепость алкоголя.\n",
    "calc_v - вычислить объем жидкости заданной массы и содержащегося в ней алкоголя\n",
    "calc_m - вычислить массу жидкости заданного объема и содержащегося в ней алкоголя\n",
    "print_info - вывести информацию об алкоголе.\n",
    "\"\"\"\n",
    "\n",
    "\n",
    "class Alcohol(Liquid):\n",
    "    def __init__(self, name, density, strength):\n",
    "        super().__init__(name, density)\n",
    "        self.strength = strength  # max = 1 (100%)\n",
    "\n",
    "    def edit_strength(self, val):\n",
    "        self.strength = val\n",
    "\n",
    "    def calc_v(self, m):\n",
    "        v = super().calc_v(m)\n",
    "        v_alc = round(v * self.strength, 2)\n",
    "        print(f'The volume of alcohol in {m} kg of {self.name} is {v_alc} m^3.')\n",
    "        return v, v_alc\n",
    "\n",
    "    def calc_m(self, v):\n",
    "        m = super().calc_m(v)\n",
    "        m_alc = round(m * self.strength, 2)\n",
    "        print(f'The weight of alcohol in {v} m^3 of {self.name} is {m_alc} kg.')\n",
    "        return m, m_alc\n",
    "\n",
    "    def print_info(self):\n",
    "        print(f'Liquid {self.name!r} (density = {self.density} kg/m^3, strength = {self.strength:.0%}).')\n",
    "\n",
    "\n",
    "__author__ = 'Shagitov M.'\n",
    "\n",
    "if __name__ == \"Alcohol\":\n",
    "    print(f'Module {__name__!r} (author: {__author__}) was imported.')\n"
   ],
   "metadata": {
    "collapsed": false,
    "pycharm": {
     "name": "#%%\n"
    }
   }
  },
  {
   "cell_type": "code",
   "execution_count": 1102,
   "outputs": [],
   "source": [
    "\"\"\"\n",
    "Abstract class 'Array'\n",
    "\"\"\"\n",
    "from abc import ABC, abstractmethod\n",
    "\n",
    "\n",
    "class Array(ABC):\n",
    "    def __init__(self, *args):\n",
    "        self.data = args\n",
    "\n",
    "    @abstractmethod\n",
    "    def plus(self, arr):\n",
    "        pass\n",
    "\n",
    "    @abstractmethod\n",
    "    def edit_elem(self):\n",
    "        pass\n",
    "\n",
    "\n",
    "__author__ = 'Shagitov M.'\n",
    "if __name__ == \"Array\":\n",
    "    print(f'Module {__name__!r} (author: {__author__}) was imported.')\n"
   ],
   "metadata": {
    "collapsed": false,
    "pycharm": {
     "name": "#%%\n"
    }
   }
  },
  {
   "cell_type": "code",
   "execution_count": 1103,
   "outputs": [],
   "source": [
    "\"\"\"\n",
    "Class 'AndArray'\n",
    "\"\"\"\n",
    "from math import sqrt\n",
    "\n",
    "\n",
    "class AndArray(Array):\n",
    "    def plus(self, arr):\n",
    "        res = set(self.data).intersection(set(arr.data))\n",
    "        print(f'Plus (intersection):\\n{self.data} + {arr.data} = {tuple(res)}')\n",
    "        return tuple(res)\n",
    "\n",
    "    def edit_elem(self):\n",
    "        res = list(map(sqrt, self.data))\n",
    "        res = list(map(round, res, [2] * len(res)))\n",
    "        print(f'Edit elements (sqrt):\\n{self.data}  ->  {res}')\n",
    "        return res\n",
    "\n",
    "\n",
    "__author__ = 'Shagitov M.'\n",
    "if __name__ == \"AndArray\":\n",
    "    print(f'Module {__name__!r} (author: {__author__}) was imported.')"
   ],
   "metadata": {
    "collapsed": false,
    "pycharm": {
     "name": "#%%\n"
    }
   }
  },
  {
   "cell_type": "code",
   "execution_count": 1104,
   "outputs": [],
   "source": [
    "\"\"\"\n",
    "Class 'OrArray'\n",
    "\"\"\"\n",
    "from math import log\n",
    "\n",
    "\n",
    "class OrArray(Array):\n",
    "    def plus(self, arr):\n",
    "        res = set(self.data).union(set(arr.data))\n",
    "        print(f'Plus (union):\\n{self.data} + {arr.data} = {tuple(res)}')\n",
    "        return tuple(res)\n",
    "\n",
    "    def edit_elem(self):\n",
    "        res = list(map(log, self.data))\n",
    "        res = list(map(round, res, [2] * len(res)))\n",
    "        print(f'Edit elements (log):\\n{self.data}  ->  {res}')\n",
    "        return res\n",
    "\n",
    "\n",
    "__author__ = 'Shagitov M.'\n",
    "if __name__ == \"OrArray\":\n",
    "    print(f'Module {__name__!r} (author: {__author__}) was imported.')\n"
   ],
   "metadata": {
    "collapsed": false,
    "pycharm": {
     "name": "#%%\n"
    }
   }
  },
  {
   "cell_type": "code",
   "execution_count": 1105,
   "outputs": [],
   "source": [
    "\"\"\"\n",
    "Class 'FuzzyNumbers'\n",
    "\"\"\"\n",
    "\n",
    "\n",
    "class FuzzyNumbers(Pair):\n",
    "    def __init__(self, A, a, B, b):\n",
    "        super().__init__(A, B)\n",
    "        self.a = a\n",
    "        self.b = b\n",
    "\n",
    "    def sum(self):\n",
    "        l = (self.A - self.a) + (self.B - self.b)\n",
    "        c = self.A + self.B\n",
    "        r = (self.A + self.a) + (self.B + self.b)\n",
    "        print(f'A({self.A - self.a}, {self.A}, {self.A + self.a}) + '\n",
    "              f'B({self.B - self.b}, {self.B}, {self.B + self.b}) = '\n",
    "              f'C({l}, {c}, {r})')\n",
    "        return l, c, r\n",
    "\n",
    "    def minus(self):\n",
    "        l = (self.A - self.a) - (self.B - self.b)\n",
    "        c = self.A - self.B\n",
    "        r = (self.A + self.a) - (self.B + self.b)\n",
    "        print(f'A({self.A - self.a}, {self.A}, {self.A + self.a}) - '\n",
    "              f'B({self.B - self.b}, {self.B}, {self.B + self.b}) = '\n",
    "              f'C({l}, {c}, {r})')\n",
    "        return l, c, r\n",
    "\n",
    "    def mult(self):\n",
    "        l = (self.A - self.a) * (self.B - self.b)\n",
    "        c = self.A * self.B\n",
    "        r = (self.A + self.a) * (self.B + self.b)\n",
    "        print(f'A({self.A - self.a}, {self.A}, {self.A + self.a}) * '\n",
    "              f'B({self.B - self.b}, {self.B}, {self.B + self.b}) = '\n",
    "              f'C({l}, {c}, {r})')\n",
    "        return l, c, r\n",
    "\n",
    "    def div(self):\n",
    "        l = (self.A - self.a) / (self.B - self.b)\n",
    "        c = self.A / self.B\n",
    "        r = (self.A + self.a) / (self.B + self.b)\n",
    "        print(f'A({self.A - self.a}, {self.A}, {self.A + self.a}) / '\n",
    "              f'B({self.B - self.b}, {self.B}, {self.B + self.b}) = '\n",
    "              f'C({l:.2f}, {c:.2f}, {r:.2f})')\n",
    "        return l, c, r\n",
    "\n",
    "\n",
    "__author__ = 'Shagitov M.'\n",
    "if __name__ == \"FuzzyNumbers\":\n",
    "    print(f'Module {__name__!r} (author: {__author__}) was imported.')\n"
   ],
   "metadata": {
    "collapsed": false,
    "pycharm": {
     "name": "#%%\n"
    }
   }
  },
  {
   "cell_type": "code",
   "execution_count": 1106,
   "outputs": [
    {
     "name": "stdout",
     "output_type": "stream",
     "text": [
      "--------------------------------------------------\n",
      "Plus (intersection):\n",
      "(1, 2, 3, 4, 5, 6, 7, 8, 9) + (3, 6, 8, 0, 2) = (8, 2, 3, 6)\n",
      "Edit elements (sqrt):\n",
      "(1, 2, 3, 4, 5, 6, 7, 8, 9)  ->  [1.0, 1.41, 1.73, 2.0, 2.24, 2.45, 2.65, 2.83, 3.0]\n",
      "\n",
      "Plus (union):\n",
      "(3, 4, 5, 9, 1, 7, 13) + (3, 6, 8, 0, 2) = (0, 1, 2, 3, 4, 5, 6, 7, 8, 9, 13)\n",
      "Edit elements (log):\n",
      "(3, 4, 5, 9, 1, 7, 13)  ->  [1.1, 1.39, 1.61, 2.2, 0.0, 1.95, 2.56]\n"
     ]
    }
   ],
   "source": [
    "\"\"\"\n",
    "Создайте многомодульные программы на основе иерархий классов, разработанных в предыдущей контрольной работе:\n",
    "“Array” - “AndArray” - “OrArray”, - с соблюдением следующих условий:\n",
    "- каждый класс должен быть оформлен в виде отдельного модуля;\n",
    "- каждый модуль должен содержать строки документации;\n",
    "- каждый модуль в случае, если он был импортирован, должен выводить на экран соответствующую информацию,\n",
    "включающую название модуля и имя автора;\n",
    "- демонстрация работы с классами должна осуществляться в главном модуле;\n",
    "- демонстрация работы с классами должна осуществляться только в случае автономного запуска главного модуля.\n",
    "\"\"\"\n",
    "\n",
    "if __name__ == \"__main__\":\n",
    "    print('-' * 50)\n",
    "    arr1 = AndArray(1, 2, 3, 4, 5, 6, 7, 8, 9)\n",
    "    arr2 = AndArray(3, 6, 8, 0, 2)\n",
    "    arr1.plus(arr2)\n",
    "    arr1.edit_elem()\n",
    "\n",
    "    print()\n",
    "\n",
    "    arr3 = OrArray(3, 4, 5, 9, 1, 7, 13)\n",
    "    arr3.plus(arr2)\n",
    "    arr3.edit_elem()\n"
   ],
   "metadata": {
    "collapsed": false,
    "pycharm": {
     "name": "#%%\n"
    }
   }
  },
  {
   "cell_type": "code",
   "execution_count": 1107,
   "outputs": [
    {
     "name": "stdout",
     "output_type": "stream",
     "text": [
      "--------------------------------------------------\n",
      "A(2, 5, 8) + B(8, 10, 12) = C(10, 15, 20)\n",
      "\n",
      "A(2, 5, 8) - B(8, 10, 12) = C(-6, -5, -4)\n",
      "\n",
      "A(2, 5, 8) * B(8, 10, 12) = C(16, 50, 96)\n",
      "\n",
      "A(2, 5, 8) / B(8, 10, 12) = C(0.25, 0.50, 0.67)\n",
      "\n"
     ]
    }
   ],
   "source": [
    "\"\"\"\n",
    "Создайте многомодульные программы на основе иерархий классов, разработанных в предыдущей контрольной работе:\n",
    "“Pair” - “Fuzzy number”, - с соблюдением следующих условий:\n",
    "- каждый класс должен быть оформлен в виде отдельного модуля;\n",
    "- каждый модуль должен содержать строки документации;\n",
    "- каждый модуль в случае, если он был импортирован, должен выводить на экран соответствующую информацию,\n",
    "включающую название модуля и имя автора;\n",
    "- демонстрация работы с классами должна осуществляться в главном модуле;\n",
    "- демонстрация работы с классами должна осуществляться только в случае автономного запуска главного модуля.\n",
    "\"\"\"\n",
    "\n",
    "if __name__ == \"__main__\":\n",
    "    print('-' * 50)\n",
    "    fn = FuzzyNumbers(5, 3, 10, 2)\n",
    "    fn.sum()\n",
    "    print()\n",
    "    fn.minus()\n",
    "    print()\n",
    "    fn.mult()\n",
    "    print()\n",
    "    fn.div()\n",
    "    print()\n"
   ],
   "metadata": {
    "collapsed": false,
    "pycharm": {
     "name": "#%%\n"
    }
   }
  },
  {
   "cell_type": "code",
   "execution_count": 1108,
   "outputs": [],
   "source": [
    "\"\"\"\n",
    "Class 'Pair'\n",
    "\"\"\"\n",
    "\n",
    "\n",
    "class Pair(ABC):\n",
    "    def __init__(self, a, b):\n",
    "        self.A = a\n",
    "        self.B = b\n",
    "\n",
    "    @abstractmethod\n",
    "    def sum(self):\n",
    "        pass\n",
    "\n",
    "    @abstractmethod\n",
    "    def minus(self):\n",
    "        pass\n",
    "\n",
    "    @abstractmethod\n",
    "    def mult(self):\n",
    "        pass\n",
    "\n",
    "    @abstractmethod\n",
    "    def div(self):\n",
    "        pass\n",
    "\n",
    "\n",
    "__author__ = 'Shagitov M.'\n",
    "if __name__ == \"Pair\":\n",
    "    print(f'Module {__name__!r} (author: {__author__}) was imported.')\n"
   ],
   "metadata": {
    "collapsed": false,
    "pycharm": {
     "name": "#%%\n"
    }
   }
  },
  {
   "cell_type": "code",
   "execution_count": 1109,
   "outputs": [
    {
     "name": "stdout",
     "output_type": "stream",
     "text": [
      "--------------------------------------------------\n",
      "Liquid 'Vine' (density = 1064.2 kg/m^3, strength = 14%).\n",
      "Liquid 'Vine' (density = 1000 kg/m^3, strength = 14%).\n",
      "\n",
      "The weight of 0.5 m^3 of Vine is 500.0 kg.\n",
      "The weight of alcohol in 0.5 m^3 of Vine is 70.0 kg.\n",
      "The volume of 300 kg of Vine is 0.3 m^3.\n",
      "The volume of alcohol in 300 kg of Vine is 0.04 m^3.\n",
      "\n",
      "Liquid 'Vine' (density = 1000 kg/m^3, strength = 14%).\n",
      "Liquid 'Vine' (density = 1000 kg/m^3, strength = 20%).\n"
     ]
    }
   ],
   "source": [
    "\"\"\"\n",
    "Создайте многомодульные программы на основе иерархий классов, разработанных в предыдущей контрольной работе:\n",
    "“Liquid’ - “Alcohol”, - с соблюдением следующих условий:\n",
    "- каждый класс должен быть оформлен в виде отдельного модуля;\n",
    "- каждый модуль должен содержать строки документации;\n",
    "- каждый модуль в случае, если он был импортирован, должен выводить на экран соответствующую информацию,\n",
    "включающую название модуля и имя автора;\n",
    "- демонстрация работы с классами должна осуществляться в главном модуле;\n",
    "- демонстрация работы с классами должна осуществляться только в случае автономного запуска главного модуля.\n",
    "\"\"\"\n",
    "\n",
    "if __name__ == \"__main__\":\n",
    "    print('-' * 50)\n",
    "    a = Alcohol('Vine', 1064.2, 0.14)\n",
    "    a.print_info()\n",
    "\n",
    "    a.edit_density(1000)\n",
    "    a.print_info()\n",
    "\n",
    "    print()\n",
    "\n",
    "    a.calc_m(0.5)\n",
    "    a.calc_v(300)\n",
    "\n",
    "    print()\n",
    "\n",
    "    a.print_info()\n",
    "    a.edit_strength(0.2)\n",
    "    a.print_info()\n",
    "\n"
   ],
   "metadata": {
    "collapsed": false,
    "pycharm": {
     "name": "#%%\n"
    }
   }
  },
  {
   "cell_type": "code",
   "execution_count": 1109,
   "outputs": [],
   "source": [],
   "metadata": {
    "collapsed": false,
    "pycharm": {
     "name": "#%%\n"
    }
   }
  }
 ],
 "metadata": {
  "kernelspec": {
   "display_name": "Python 3 (ipykernel)",
   "language": "python",
   "name": "python3"
  },
  "language_info": {
   "codemirror_mode": {
    "name": "ipython",
    "version": 3
   },
   "file_extension": ".py",
   "mimetype": "text/x-python",
   "name": "python",
   "nbconvert_exporter": "python",
   "pygments_lexer": "ipython3",
   "version": "3.9.12"
  }
 },
 "nbformat": 4,
 "nbformat_minor": 5
}