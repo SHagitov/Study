{
 "cells": [
  {
   "cell_type": "code",
   "execution_count": 1,
   "id": "16bc10b4",
   "metadata": {},
   "outputs": [],
   "source": [
    "int_list = [1,2,3]"
   ]
  },
  {
   "cell_type": "code",
   "execution_count": 2,
   "id": "3717bbe2",
   "metadata": {},
   "outputs": [],
   "source": [
    "mixed_list = [1, 2.0, 'string']"
   ]
  },
  {
   "cell_type": "code",
   "execution_count": 3,
   "id": "da05bb4e",
   "metadata": {},
   "outputs": [
    {
     "data": {
      "text/plain": [
       "3"
      ]
     },
     "execution_count": 3,
     "metadata": {},
     "output_type": "execute_result"
    }
   ],
   "source": [
    "len(int_list)"
   ]
  },
  {
   "cell_type": "code",
   "execution_count": 4,
   "id": "7776407e",
   "metadata": {},
   "outputs": [
    {
     "name": "stdout",
     "output_type": "stream",
     "text": [
      "1\n",
      "3\n"
     ]
    }
   ],
   "source": [
    "print(int_list[0])\n",
    "print(int_list[-1])"
   ]
  },
  {
   "cell_type": "code",
   "execution_count": 5,
   "id": "cc1bab56",
   "metadata": {},
   "outputs": [
    {
     "data": {
      "text/plain": [
       "[2, 3]"
      ]
     },
     "execution_count": 5,
     "metadata": {},
     "output_type": "execute_result"
    }
   ],
   "source": [
    "int_list[1:]"
   ]
  },
  {
   "cell_type": "code",
   "execution_count": 6,
   "id": "a489f189",
   "metadata": {},
   "outputs": [
    {
     "data": {
      "text/plain": [
       "['John', 'Bob', 'Alice', 'Tracy', 'Elijah', 'Mason']"
      ]
     },
     "execution_count": 6,
     "metadata": {},
     "output_type": "execute_result"
    }
   ],
   "source": [
    "names1 = ['John','Bob','Alice']\n",
    "names2 = ['Tracy','Elijah','Mason']\n",
    "names_combined = names1 + names2\n",
    "names_combined"
   ]
  },
  {
   "cell_type": "code",
   "execution_count": null,
   "id": "d59e4b19",
   "metadata": {},
   "outputs": [],
   "source": []
  }
 ],
 "metadata": {
  "kernelspec": {
   "display_name": "Python 3 (ipykernel)",
   "language": "python",
   "name": "python3"
  },
  "language_info": {
   "codemirror_mode": {
    "name": "ipython",
    "version": 3
   },
   "file_extension": ".py",
   "mimetype": "text/x-python",
   "name": "python",
   "nbconvert_exporter": "python",
   "pygments_lexer": "ipython3",
   "version": "3.9.12"
  }
 },
 "nbformat": 4,
 "nbformat_minor": 5
}
