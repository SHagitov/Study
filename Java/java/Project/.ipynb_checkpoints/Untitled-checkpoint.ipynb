{
 "cells": [
  {
   "cell_type": "code",
   "execution_count": 1,
   "id": "7a1ad801",
   "metadata": {},
   "outputs": [
    {
     "name": "stdout",
     "output_type": "stream",
     "text": [
      "Hello Java!\r\n"
     ]
    }
   ],
   "source": [
    "System.out.println(\"Hello Java!\");"
   ]
  },
  {
   "cell_type": "code",
   "execution_count": null,
   "id": "b740f615",
   "metadata": {},
   "outputs": [],
   "source": []
  }
 ],
 "metadata": {
  "kernelspec": {
   "display_name": "Java",
   "language": "java",
   "name": "java"
  },
  "language_info": {
   "codemirror_mode": "java",
   "file_extension": ".jshell",
   "mimetype": "text/x-java-source",
   "name": "Java",
   "pygments_lexer": "java",
   "version": "18.0.2.1+1-1"
  }
 },
 "nbformat": 4,
 "nbformat_minor": 5
}
