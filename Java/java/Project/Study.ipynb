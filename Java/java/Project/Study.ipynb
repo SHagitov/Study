{
 "cells": [
  {
   "cell_type": "code",
   "execution_count": 1,
   "id": "7a1ad801",
   "metadata": {
    "pycharm": {
     "is_executing": true,
     "name": "#%%\n"
    }
   },
   "outputs": [
    {
     "name": "stdout",
     "output_type": "stream",
     "text": [
      "Hello Java!\r\n"
     ]
    }
   ],
   "source": [
    "System.out.println(\"Hello Java!\");"
   ]
  },
  {
   "cell_type": "code",
   "execution_count": 2,
   "id": "b740f615",
   "metadata": {
    "pycharm": {
     "name": "#%%\n"
    }
   },
   "outputs": [
    {
     "name": "stdout",
     "output_type": "stream",
     "text": [
      "1\n",
      "1.2\n",
      "5\n"
     ]
    }
   ],
   "source": [
    "System.out.println(1);\n",
    "System.out.println(1.2);\n",
    "System.out.println(1 + 4);"
   ]
  },
  {
   "cell_type": "code",
   "execution_count": 3,
   "id": "cefee7ba",
   "metadata": {},
   "outputs": [
    {
     "name": "stdout",
     "output_type": "stream",
     "text": [
      "Hello world\r\n"
     ]
    }
   ],
   "source": [
    "var text = \"Hello world\";\n",
    "System.out.println(text);"
   ]
  },
  {
   "cell_type": "code",
   "execution_count": 4,
   "id": "1c26fa1c",
   "metadata": {},
   "outputs": [
    {
     "data": {
      "text/plain": [
       "Hello Marat SHagitov"
      ]
     },
     "execution_count": 4,
     "metadata": {},
     "output_type": "execute_result"
    }
   ],
   "source": [
    "text = \"Hello \" + System.getProperty(\"user.name\");\n",
    "text"
   ]
  },
  {
   "cell_type": "code",
   "execution_count": 5,
   "id": "4e21f5c2",
   "metadata": {},
   "outputs": [],
   "source": [
    "// 1234567890\n",
    "/*\n",
    "1\n",
    "2\n",
    "3\n",
    "4\n",
    "5\n",
    "6\n",
    "7\n",
    "8\n",
    "9\n",
    "0\n",
    "*/"
   ]
  },
  {
   "cell_type": "code",
   "execution_count": 6,
   "id": "6bbbfb6b",
   "metadata": {},
   "outputs": [
    {
     "name": "stdout",
     "output_type": "stream",
     "text": [
      "-2147483648 < 0 < 2147483647\r\n"
     ]
    }
   ],
   "source": [
    "int i = 0;\n",
    "System.out.println(Integer.MIN_VALUE + \" < \" + i + \" < \" + Integer.MAX_VALUE);"
   ]
  },
  {
   "cell_type": "code",
   "execution_count": 7,
   "id": "ef66cb55",
   "metadata": {},
   "outputs": [
    {
     "name": "stdout",
     "output_type": "stream",
     "text": [
      "4.9E-324 < 0.1 < 1.7976931348623157E308\r\n"
     ]
    }
   ],
   "source": [
    "double d = 0.1;\n",
    "System.out.println(Double.MIN_VALUE + \" < \" + d + \" < \" + Double.MAX_VALUE);"
   ]
  },
  {
   "cell_type": "code",
   "execution_count": 8,
   "id": "9549e9f5",
   "metadata": {},
   "outputs": [],
   "source": [
    "boolean b1 = true;\n",
    "boolean b2 = false;\n"
   ]
  },
  {
   "cell_type": "code",
   "execution_count": 9,
   "id": "a92635e3",
   "metadata": {},
   "outputs": [
    {
     "data": {
      "text/plain": [
       "true"
      ]
     },
     "execution_count": 9,
     "metadata": {},
     "output_type": "execute_result"
    }
   ],
   "source": [
    "b1"
   ]
  },
  {
   "cell_type": "code",
   "execution_count": 10,
   "id": "a3f2879d",
   "metadata": {},
   "outputs": [
    {
     "data": {
      "text/plain": [
       "false"
      ]
     },
     "execution_count": 10,
     "metadata": {},
     "output_type": "execute_result"
    }
   ],
   "source": [
    "b2"
   ]
  },
  {
   "cell_type": "code",
   "execution_count": 11,
   "id": "609a773a",
   "metadata": {},
   "outputs": [
    {
     "name": "stdout",
     "output_type": "stream",
     "text": [
      "\u0000 < 97 < ￿\r\n"
     ]
    }
   ],
   "source": [
    "char ch = 'a';\n",
    "System.out.println(Character.MIN_VALUE + \" < \" + (int) ch + \" < \" + Character.MAX_VALUE);"
   ]
  },
  {
   "cell_type": "code",
   "execution_count": 12,
   "id": "c166ba96",
   "metadata": {},
   "outputs": [
    {
     "data": {
      "text/plain": [
       "Hello world"
      ]
     },
     "execution_count": 12,
     "metadata": {},
     "output_type": "execute_result"
    }
   ],
   "source": [
    "String s = \"Hello world\";\n",
    "s"
   ]
  },
  {
   "cell_type": "code",
   "execution_count": 13,
   "id": "8c234aa6",
   "metadata": {},
   "outputs": [],
   "source": [
    "var j = 0;\n",
    "int i = 0;"
   ]
  },
  {
   "cell_type": "code",
   "execution_count": null,
   "id": "7ef47ffe",
   "metadata": {},
   "outputs": [],
   "source": [
    "var i = new Scanner(System.in).nextInt()"
   ]
  }
 ],
 "metadata": {
  "kernelspec": {
   "display_name": "Java",
   "language": "java",
   "name": "java"
  },
  "language_info": {
   "codemirror_mode": "java",
   "file_extension": ".jshell",
   "mimetype": "text/x-java-source",
   "name": "Java",
   "pygments_lexer": "java",
   "version": "18.0.2.1+1-1"
  }
 },
 "nbformat": 4,
 "nbformat_minor": 5
}
