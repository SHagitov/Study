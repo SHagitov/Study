{
 "cells": [
  {
   "cell_type": "code",
   "execution_count": 1,
   "id": "7a1ad801",
   "metadata": {
    "pycharm": {
     "is_executing": true,
     "name": "#%%\n"
    }
   },
   "outputs": [
    {
     "name": "stdout",
     "output_type": "stream",
     "text": [
      "Hello Java!\r\n"
     ]
    }
   ],
   "source": [
    "System.out.println(\"Hello Java!\");"
   ]
  },
  {
   "cell_type": "code",
   "execution_count": 2,
   "id": "b740f615",
   "metadata": {
    "pycharm": {
     "name": "#%%\n"
    }
   },
   "outputs": [
    {
     "name": "stdout",
     "output_type": "stream",
     "text": [
      "1\n",
      "1.2\n",
      "5\n"
     ]
    }
   ],
   "source": [
    "System.out.println(1);\n",
    "System.out.println(1.2);\n",
    "System.out.println(1 + 4);"
   ]
  },
  {
   "cell_type": "code",
   "execution_count": 3,
   "id": "924541ee",
   "metadata": {},
   "outputs": [
    {
     "name": "stdout",
     "output_type": "stream",
     "text": [
      "Hello world\r\n"
     ]
    }
   ],
   "source": [
    "var text = \"Hello world\";\n",
    "System.out.println(text);"
   ]
  },
  {
   "cell_type": "code",
   "execution_count": 4,
   "id": "f7156f1c",
   "metadata": {},
   "outputs": [
    {
     "data": {
      "text/plain": [
       "Hello Marat SHagitov"
      ]
     },
     "execution_count": 4,
     "metadata": {},
     "output_type": "execute_result"
    }
   ],
   "source": [
    "text = \"Hello \" + System.getProperty(\"user.name\");\n",
    "text"
   ]
  },
  {
   "cell_type": "code",
   "execution_count": 5,
   "id": "61e70175",
   "metadata": {},
   "outputs": [],
   "source": [
    "// 1234567890\n",
    "/*\n",
    "1\n",
    "2\n",
    "3\n",
    "4\n",
    "5\n",
    "6\n",
    "7\n",
    "8\n",
    "9\n",
    "0\n",
    "*/"
   ]
  },
  {
   "cell_type": "code",
   "execution_count": 6,
   "id": "5436439f",
   "metadata": {},
   "outputs": [
    {
     "name": "stdout",
     "output_type": "stream",
     "text": [
      "-2147483648 < 0 < 2147483647\r\n"
     ]
    }
   ],
   "source": [
    "int i = 0;\n",
    "System.out.println(Integer.MIN_VALUE + \" < \" + i + \" < \" + Integer.MAX_VALUE);"
   ]
  },
  {
   "cell_type": "code",
   "execution_count": 7,
   "id": "0a5e0b41",
   "metadata": {},
   "outputs": [
    {
     "name": "stdout",
     "output_type": "stream",
     "text": [
      "4.9E-324 < 0.1 < 1.7976931348623157E308\r\n"
     ]
    }
   ],
   "source": [
    "double d = 0.1;\n",
    "System.out.println(Double.MIN_VALUE + \" < \" + d + \" < \" + Double.MAX_VALUE);"
   ]
  },
  {
   "cell_type": "code",
   "execution_count": 8,
   "id": "77f6b7ea",
   "metadata": {},
   "outputs": [],
   "source": [
    "boolean b1 = true;\n",
    "boolean b2 = false;\n"
   ]
  },
  {
   "cell_type": "code",
   "execution_count": 9,
   "id": "a130c781",
   "metadata": {},
   "outputs": [
    {
     "data": {
      "text/plain": [
       "true"
      ]
     },
     "execution_count": 9,
     "metadata": {},
     "output_type": "execute_result"
    }
   ],
   "source": [
    "b1"
   ]
  },
  {
   "cell_type": "code",
   "execution_count": 10,
   "id": "247f7493",
   "metadata": {},
   "outputs": [
    {
     "data": {
      "text/plain": [
       "false"
      ]
     },
     "execution_count": 10,
     "metadata": {},
     "output_type": "execute_result"
    }
   ],
   "source": [
    "b2"
   ]
  },
  {
   "cell_type": "code",
   "execution_count": 11,
   "id": "04e2e467",
   "metadata": {},
   "outputs": [
    {
     "name": "stdout",
     "output_type": "stream",
     "text": [
      "\u0000 < 97 < ￿\r\n"
     ]
    }
   ],
   "source": [
    "char ch = 'a';\n",
    "System.out.println(Character.MIN_VALUE + \" < \" + (int) ch + \" < \" + Character.MAX_VALUE);"
   ]
  },
  {
   "cell_type": "code",
   "execution_count": 12,
   "id": "e86c3e0c",
   "metadata": {},
   "outputs": [
    {
     "data": {
      "text/plain": [
       "Hello world"
      ]
     },
     "execution_count": 12,
     "metadata": {},
     "output_type": "execute_result"
    }
   ],
   "source": [
    "String s = \"Hello world\";\n",
    "s"
   ]
  },
  {
   "cell_type": "code",
   "execution_count": 13,
   "id": "15e7d039",
   "metadata": {},
   "outputs": [],
   "source": [
    "var j = 0;\n",
    "int i = 0;"
   ]
  },
  {
   "cell_type": "code",
   "execution_count": null,
   "id": "e9bf7ead",
   "metadata": {},
   "outputs": [],
   "source": []
  }
 ],
 "metadata": {
  "kernelspec": {
   "display_name": "Java",
   "language": "java",
   "name": "java"
  },
  "language_info": {
   "codemirror_mode": "java",
   "file_extension": ".jshell",
   "mimetype": "text/x-java-source",
   "name": "Java",
   "pygments_lexer": "java",
   "version": "18.0.2.1+1-1"
  }
 },
 "nbformat": 4,
 "nbformat_minor": 5
}
