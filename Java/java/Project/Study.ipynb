{
 "cells": [
  {
   "cell_type": "code",
   "execution_count": 1,
   "id": "7a1ad801",
   "metadata": {
    "pycharm": {
     "is_executing": true,
     "name": "#%%\n"
    }
   },
   "outputs": [
    {
     "name": "stdout",
     "output_type": "stream",
     "text": [
      "Hello Java!\r\n"
     ]
    }
   ],
   "source": [
    "System.out.println(\"Hello Java!\");"
   ]
  },
  {
   "cell_type": "code",
   "execution_count": 2,
   "id": "b740f615",
   "metadata": {
    "pycharm": {
     "name": "#%%\n"
    }
   },
   "outputs": [
    {
     "name": "stdout",
     "output_type": "stream",
     "text": [
      "1\n",
      "1.2\n",
      "5\n"
     ]
    }
   ],
   "source": [
    "System.out.println(1);\n",
    "System.out.println(1.2);\n",
    "System.out.println(1 + 4);"
   ]
  },
  {
   "cell_type": "code",
   "execution_count": 3,
   "id": "46c1f202",
   "metadata": {
    "pycharm": {
     "name": "#%%\n"
    }
   },
   "outputs": [
    {
     "name": "stdout",
     "output_type": "stream",
     "text": [
      "Hello world\r\n"
     ]
    }
   ],
   "source": [
    "var text = \"Hello world\";\n",
    "System.out.println(text);"
   ]
  },
  {
   "cell_type": "code",
   "execution_count": 4,
   "id": "2ad915eb",
   "metadata": {
    "pycharm": {
     "name": "#%%\n"
    }
   },
   "outputs": [
    {
     "data": {
      "text/plain": [
       "Hello Marat SHagitov"
      ]
     },
     "execution_count": 4,
     "metadata": {},
     "output_type": "execute_result"
    }
   ],
   "source": [
    "text = \"Hello \" + System.getProperty(\"user.name\");\n",
    "text"
   ]
  },
  {
   "cell_type": "code",
   "execution_count": 5,
   "id": "505e9206",
   "metadata": {
    "pycharm": {
     "name": "#%%\n"
    }
   },
   "outputs": [],
   "source": [
    "// 1234567890\n",
    "/*\n",
    "1\n",
    "2\n",
    "3\n",
    "4\n",
    "5\n",
    "6\n",
    "7\n",
    "8\n",
    "9\n",
    "0\n",
    "*/"
   ]
  },
  {
   "cell_type": "code",
   "execution_count": 6,
   "id": "7b183bae",
   "metadata": {
    "pycharm": {
     "name": "#%%\n"
    }
   },
   "outputs": [
    {
     "name": "stdout",
     "output_type": "stream",
     "text": [
      "-2147483648 < 0 < 2147483647\r\n"
     ]
    }
   ],
   "source": [
    "int i = 0;\n",
    "System.out.println(Integer.MIN_VALUE + \" < \" + i + \" < \" + Integer.MAX_VALUE);"
   ]
  },
  {
   "cell_type": "code",
   "execution_count": 7,
   "id": "6650ea20",
   "metadata": {
    "pycharm": {
     "name": "#%%\n"
    }
   },
   "outputs": [
    {
     "name": "stdout",
     "output_type": "stream",
     "text": [
      "4.9E-324 < 0.1 < 1.7976931348623157E308\r\n"
     ]
    }
   ],
   "source": [
    "double d = 0.1;\n",
    "System.out.println(Double.MIN_VALUE + \" < \" + d + \" < \" + Double.MAX_VALUE);"
   ]
  },
  {
   "cell_type": "code",
   "execution_count": 8,
   "id": "15c502db",
   "metadata": {
    "pycharm": {
     "name": "#%%\n"
    }
   },
   "outputs": [],
   "source": [
    "boolean b1 = true;\n",
    "boolean b2 = false;\n"
   ]
  },
  {
   "cell_type": "code",
   "execution_count": 9,
   "id": "20091450",
   "metadata": {
    "pycharm": {
     "name": "#%%\n"
    }
   },
   "outputs": [
    {
     "data": {
      "text/plain": [
       "true"
      ]
     },
     "execution_count": 9,
     "metadata": {},
     "output_type": "execute_result"
    }
   ],
   "source": [
    "b1"
   ]
  },
  {
   "cell_type": "code",
   "execution_count": 10,
   "id": "6df35467",
   "metadata": {
    "pycharm": {
     "name": "#%%\n"
    }
   },
   "outputs": [
    {
     "data": {
      "text/plain": [
       "false"
      ]
     },
     "execution_count": 10,
     "metadata": {},
     "output_type": "execute_result"
    }
   ],
   "source": [
    "b2"
   ]
  },
  {
   "cell_type": "code",
   "execution_count": 11,
   "id": "5529a814",
   "metadata": {
    "pycharm": {
     "name": "#%%\n"
    }
   },
   "outputs": [],
   "source": [
    "char ch = 'a';\n",
    "//System.out.println(Character.MIN_VALUE + \" < \" + (int) ch + \" < \" + Character.MAX_VALUE);"
   ]
  },
  {
   "cell_type": "code",
   "execution_count": 12,
   "id": "8cdc2948",
   "metadata": {
    "pycharm": {
     "name": "#%%\n"
    }
   },
   "outputs": [
    {
     "data": {
      "text/plain": [
       "Hello world"
      ]
     },
     "execution_count": 12,
     "metadata": {},
     "output_type": "execute_result"
    }
   ],
   "source": [
    "String s = \"Hello world\";\n",
    "s"
   ]
  },
  {
   "cell_type": "code",
   "execution_count": 13,
   "id": "b39be452",
   "metadata": {
    "pycharm": {
     "name": "#%%\n"
    }
   },
   "outputs": [],
   "source": [
    "var j = 0;\n",
    "int i = 0;"
   ]
  },
  {
   "cell_type": "code",
   "execution_count": 14,
   "id": "05bcd532",
   "metadata": {
    "pycharm": {
     "name": "#%%\n"
    }
   },
   "outputs": [],
   "source": [
    "//var i = new Scanner(System.in).nextInt();\n",
    "//System.out.println(i);"
   ]
  },
  {
   "cell_type": "code",
   "execution_count": 15,
   "id": "7345d69a",
   "metadata": {
    "pycharm": {
     "name": "#%%\n"
    }
   },
   "outputs": [],
   "source": [
    "//var i = new Scanner(System.in).nextDouble();\n",
    "//System.out.println(i);"
   ]
  },
  {
   "cell_type": "code",
   "execution_count": 16,
   "id": "e01433b2",
   "metadata": {
    "pycharm": {
     "name": "#%%\n"
    }
   },
   "outputs": [],
   "source": [
    "//var i = new Scanner(System.in).nextBoolean();\n",
    "//System.out.println(i);"
   ]
  },
  {
   "cell_type": "code",
   "execution_count": 17,
   "id": "50e4af98",
   "metadata": {
    "pycharm": {
     "name": "#%%\n"
    }
   },
   "outputs": [],
   "source": [
    "//var i = new Scanner(System.in).nextLine().charAt(0);\n",
    "//System.out.println(i);"
   ]
  },
  {
   "cell_type": "code",
   "execution_count": 18,
   "id": "6f223267",
   "metadata": {
    "pycharm": {
     "name": "#%%\n"
    }
   },
   "outputs": [],
   "source": [
    "//var i = new Scanner(System.in).nextLine();\n",
    "//System.out.println(i);"
   ]
  },
  {
   "cell_type": "code",
   "execution_count": 19,
   "id": "0f552030",
   "metadata": {
    "pycharm": {
     "name": "#%%\n"
    }
   },
   "outputs": [
    {
     "name": "stdout",
     "output_type": "stream",
     "text": [
      "165\r\n"
     ]
    }
   ],
   "source": [
    "var a = 5;\n",
    "var b = 8;\n",
    "var result = a + b * ((8 - 4) * a);\n",
    "System.out.println(result)"
   ]
  },
  {
   "cell_type": "code",
   "execution_count": 20,
   "id": "ef618564",
   "metadata": {
    "pycharm": {
     "name": "#%%\n"
    }
   },
   "outputs": [
    {
     "name": "stdout",
     "output_type": "stream",
     "text": [
      "Hello11.1truea\r\n"
     ]
    }
   ],
   "source": [
    "String is = String.valueOf(1);\n",
    "String ds = String.valueOf(1.1);\n",
    "String bs = String.valueOf(true);\n",
    "String cs = String.valueOf('a');\n",
    "System.out.println(\"Hello\" + 1 + 1.1 + true + 'a');\n"
   ]
  },
  {
   "cell_type": "code",
   "execution_count": 21,
   "id": "264d104f",
   "metadata": {
    "pycharm": {
     "name": "#%%\n"
    }
   },
   "outputs": [],
   "source": [
    "int si = Integer.parseInt(\"12\");\n",
    "double sd = Double.parseDouble(\"1.2\");\n",
    "boolean sb = Boolean.parseBoolean(\"true\");\n",
    "char ch1 = \"a\".charAt(0);\n",
    "char ch2 = \"abc\".charAt(1); // индексация с 0 \n",
    "// выделение памяти (байты)\n",
    "char ch = 2;\n",
    "int i = 4;\n",
    "double d = 8;\n",
    "d = i;\n",
    "d = ch;\n",
    "i = ch;\n"
   ]
  },
  {
   "cell_type": "code",
   "execution_count": 22,
   "id": "8ebab7d0",
   "metadata": {
    "pycharm": {
     "name": "#%%\n"
    }
   },
   "outputs": [
    {
     "ename": "CompilationException",
     "evalue": "",
     "output_type": "error",
     "traceback": [
      "\u001B[1m\u001B[30m|   \u001B[1m\u001B[30mi = \u001B[0m\u001B[1m\u001B[30m\u001B[41md\u001B[0m\u001B[1m\u001B[30m;\u001B[0m",
      "\u001B[1m\u001B[31mincompatible types: possible lossy conversion from double to int\u001B[0m",
      ""
     ]
    }
   ],
   "source": [
    "i = d;"
   ]
  },
  {
   "cell_type": "code",
   "execution_count": 23,
   "id": "2718e54c",
   "metadata": {
    "pycharm": {
     "name": "#%%\n"
    }
   },
   "outputs": [],
   "source": [
    "i = (int) d;\n",
    "ch = (char) d;\n",
    "ch = (char) i;\n",
    "\n",
    "boolean b = true;"
   ]
  },
  {
   "cell_type": "code",
   "execution_count": 24,
   "id": "33514aea",
   "metadata": {
    "pycharm": {
     "name": "#%%\n"
    }
   },
   "outputs": [
    {
     "name": "stdout",
     "output_type": "stream",
     "text": [
      "8\n",
      "2\n",
      "15\n",
      "1\n",
      "2\n"
     ]
    }
   ],
   "source": [
    "var a = 5;\n",
    "var b = 3;\n",
    "System.out.println(a + b);\n",
    "System.out.println(a - b);\n",
    "System.out.println(a * b);\n",
    "System.out.println(a / b);\n",
    "System.out.println(a % b);"
   ]
  },
  {
   "cell_type": "code",
   "execution_count": 25,
   "id": "306443fa",
   "metadata": {
    "pycharm": {
     "name": "#%%\n"
    }
   },
   "outputs": [
    {
     "name": "stdout",
     "output_type": "stream",
     "text": [
      "8.0\n",
      "2.0\n",
      "15.0\n",
      "1.6666666666666667\n",
      "2.0\n"
     ]
    }
   ],
   "source": [
    "var a = 5.;\n",
    "var b = 3.;\n",
    "System.out.println(a + b);\n",
    "System.out.println(a - b);\n",
    "System.out.println(a * b);\n",
    "System.out.println(a / b);\n",
    "System.out.println(a % b);"
   ]
  },
  {
   "cell_type": "code",
   "execution_count": 26,
   "id": "05ccedb4",
   "metadata": {
    "pycharm": {
     "name": "#%%\n"
    }
   },
   "outputs": [],
   "source": [
    "public class Main {\n",
    "    public static void main(String[] args) {\n",
    "        {\n",
    "            var a = 5;\n",
    "            var b = 3;\n",
    "            System.out.println(a + b);\n",
    "            System.out.println(a - b);\n",
    "            System.out.println(a * b);\n",
    "            System.out.println(a / b);\n",
    "            System.out.println(a % b);\n",
    "        }\n",
    "        {\n",
    "            var a = 5.;\n",
    "            var b = 3.;\n",
    "            System.out.println(a + b);\n",
    "            System.out.println(a - b);\n",
    "            System.out.println(a * b);\n",
    "            System.out.println(a / b);\n",
    "            System.out.println(a % b);\n",
    "        }\n",
    "    }\n",
    "}"
   ]
  },
  {
   "cell_type": "code",
   "execution_count": 27,
   "id": "b51ac826",
   "metadata": {
    "pycharm": {
     "name": "#%%\n"
    }
   },
   "outputs": [],
   "source": [
    "public class Main {\n",
    "    public static void main(String[] args) {\n",
    "        var i = Integer.MAX_VALUE;\n",
    "        System.out.println(i);\n",
    "        System.out.println(i + 1);\n",
    "    }\n",
    "\n",
    "    {\n",
    "        var i = Integer.MAX_VALUE;\n",
    "        System.out.println(i);\n",
    "        System.out.println(i - 1);\n",
    "    }\n",
    "}"
   ]
  },
  {
   "cell_type": "code",
   "execution_count": 28,
   "id": "b776eaef",
   "metadata": {
    "pycharm": {
     "name": "#%%\n"
    }
   },
   "outputs": [
    {
     "name": "stdout",
     "output_type": "stream",
     "text": [
      "2147483647\n",
      "-2147483648\n",
      "2147483647\n",
      "2147483646\n"
     ]
    }
   ],
   "source": [
    "var i = Integer.MAX_VALUE;\n",
    "System.out.println(i);\n",
    "System.out.println(i + 1);\n",
    "\n",
    "var i = Integer.MAX_VALUE;\n",
    "System.out.println(i);\n",
    "System.out.println(i - 1);"
   ]
  },
  {
   "cell_type": "code",
   "execution_count": 29,
   "id": "35ed1c7a",
   "metadata": {
    "scrolled": true,
    "pycharm": {
     "name": "#%%\n"
    }
   },
   "outputs": [
    {
     "name": "stdout",
     "output_type": "stream",
     "text": [
      "9999999999999999999999999999999999999999999999999999999999999999999999999\r\n"
     ]
    }
   ],
   "source": [
    "import java.math.BigInteger;\n",
    "BigInteger a = new BigInteger(\"9999999999999999999999999999999999999999999999999999999999999999999999999\");\n",
    "System.out.println(a); "
   ]
  },
  {
   "cell_type": "code",
   "execution_count": 30,
   "id": "ec680f3a",
   "metadata": {
    "pycharm": {
     "name": "#%%\n"
    }
   },
   "outputs": [
    {
     "name": "stdout",
     "output_type": "stream",
     "text": [
      "0.8999999999999999\r\n"
     ]
    }
   ],
   "source": [
    "var a = 2;\n",
    "var b = 1.1;\n",
    "var c = a -b;\n",
    "System.out.println(c);"
   ]
  },
  {
   "cell_type": "code",
   "execution_count": 31,
   "id": "b65cb8e8",
   "metadata": {
    "pycharm": {
     "name": "#%%\n"
    }
   },
   "outputs": [
    {
     "name": "stdout",
     "output_type": "stream",
     "text": [
      "0.9\r\n"
     ]
    }
   ],
   "source": [
    "BigDecimal a = new BigDecimal(\"2\");\n",
    "BigDecimal b = new BigDecimal(\"1.1\");\n",
    "BigDecimal c = a.subtract(b);\n",
    "System.out.println(c);"
   ]
  },
  {
   "cell_type": "code",
   "execution_count": 32,
   "id": "55ce3221",
   "metadata": {
    "pycharm": {
     "name": "#%%\n"
    }
   },
   "outputs": [
    {
     "name": "stdout",
     "output_type": "stream",
     "text": [
      "3.142857142857143\n",
      "3.14285714285714285714\n"
     ]
    }
   ],
   "source": [
    "System.out.println(22. / 7);\n",
    "System.out.println(new BigDecimal(\"22\").setScale(20).divide(new BigDecimal(\"7\"), RoundingMode.HALF_UP));"
   ]
  },
  {
   "cell_type": "code",
   "execution_count": 33,
   "id": "ceb000b5",
   "metadata": {
    "pycharm": {
     "name": "#%%\n"
    }
   },
   "outputs": [
    {
     "name": "stdout",
     "output_type": "stream",
     "text": [
      "false\n",
      "true\n",
      "false\n",
      "false\n",
      "true\n",
      "true\n",
      "\n",
      "false\n",
      "true\n"
     ]
    }
   ],
   "source": [
    "var a = 2;\n",
    "var b = 3;\n",
    "System.out.println(a == b);\n",
    "System.out.println(a != b);\n",
    "System.out.println(a > b);\n",
    "System.out.println(a >= b);\n",
    "System.out.println(a < b);\n",
    "System.out.println(a <= b);\n",
    "System.out.println();\n",
    "var c1 = a == b;\n",
    "var c2 = a != b;\n",
    "System.out.println(c1);\n",
    "System.out.println(c2);"
   ]
  },
  {
   "cell_type": "code",
   "execution_count": 34,
   "id": "326ce73e",
   "metadata": {
    "pycharm": {
     "name": "#%%\n"
    }
   },
   "outputs": [
    {
     "name": "stdout",
     "output_type": "stream",
     "text": [
      "false\n",
      "true\n",
      "false\n",
      "true\n"
     ]
    }
   ],
   "source": [
    "var a = true;\n",
    "var b = false;\n",
    "var c = 2 > 1;\n",
    "var d = 2 == 1;\n",
    "System.out.println(!a);\n",
    "System.out.println(!b);\n",
    "System.out.println(a && b);\n",
    "System.out.println(a || b);"
   ]
  },
  {
   "cell_type": "code",
   "execution_count": 35,
   "id": "e6e1c730",
   "metadata": {
    "pycharm": {
     "name": "#%%\n"
    }
   },
   "outputs": [
    {
     "name": "stdout",
     "output_type": "stream",
     "text": [
      "0\n",
      "5\n",
      "7\n",
      "9\n",
      "10\n",
      "11\n",
      "10\n",
      "9\n",
      "10\n",
      "9\n"
     ]
    }
   ],
   "source": [
    "var a = 0;\n",
    "System.out.println(a);\n",
    "a = 5;\n",
    "System.out.println(a);\n",
    "a = a + 2;\n",
    "System.out.println(a);\n",
    "a += 2;\n",
    "System.out.println(a);\n",
    "a += 1;\n",
    "System.out.println(a);\n",
    "a++;\n",
    "System.out.println(a);\n",
    "a -= 1;\n",
    "System.out.println(a);\n",
    "a--;\n",
    "System.out.println(a);\n",
    "++a;\n",
    "System.out.println(a);\n",
    "--a;\n",
    "System.out.println(a);"
   ]
  },
  {
   "cell_type": "code",
   "execution_count": 36,
   "id": "36e85a5e",
   "metadata": {
    "pycharm": {
     "name": "#%%\n"
    }
   },
   "outputs": [
    {
     "name": "stdout",
     "output_type": "stream",
     "text": [
      "2\n",
      "2\n",
      "3\n",
      "4\n",
      "4\n"
     ]
    }
   ],
   "source": [
    "var a = 0;\n",
    "++a;\n",
    "a++;\n",
    "System.out.println(a);\n",
    "\n",
    "var b = a++;\n",
    "/*\n",
    "var b = a;\n",
    "a = a + 1;\n",
    "*/\n",
    "System.out.println(b);\n",
    "System.out.println(a);\n",
    "var c = ++a;\n",
    "/*\n",
    "a = a + 1;\n",
    "var c = a;\n",
    "*/\n",
    "System.out.println(c);\n",
    "System.out.println(a);"
   ]
  },
  {
   "cell_type": "code",
   "execution_count": 37,
   "id": "d38863d4",
   "metadata": {
    "pycharm": {
     "name": "#%%\n"
    }
   },
   "outputs": [
    {
     "name": "stdout",
     "output_type": "stream",
     "text": [
      "a = 5\n",
      "b = 2\n"
     ]
    }
   ],
   "source": [
    "var a = 2;\n",
    "var b = 5;\n",
    "\n",
    "var temp = a;\n",
    "a = b;\n",
    "b = temp;\n",
    "\n",
    "System.out.println(\"a = \" + a);\n",
    "System.out.println(\"b = \" + b);"
   ]
  },
  {
   "cell_type": "code",
   "execution_count": 38,
   "id": "a43b2565",
   "metadata": {
    "pycharm": {
     "name": "#%%\n"
    }
   },
   "outputs": [
    {
     "name": "stdout",
     "output_type": "stream",
     "text": [
      "-15\n",
      "-15\n",
      "Hello 11\n",
      "Hello 2\n",
      "2 Hello\n"
     ]
    }
   ],
   "source": [
    "var a = 4;\n",
    "var b = 2 + -4 * 5 - a++ / 4 + --a;\n",
    "\n",
    "a = 4;\n",
    "var c = 2 + ((-4) * 5) - ((a++) / 4) + (--a);\n",
    "\n",
    "System.out.println(b);\n",
    "System.out.println(c);\n",
    "\n",
    "System.out.println(\"Hello \" + 1 + 1);\n",
    "System.out.println(\"Hello \" + (1 + 1));\n",
    "System.out.println(1 + 1 + \" Hello\");"
   ]
  },
  {
   "cell_type": "code",
   "execution_count": null,
   "id": "96d7e773",
   "metadata": {
    "pycharm": {
     "name": "#%%\n"
    }
   },
   "outputs": [],
   "source": []
  }
 ],
 "metadata": {
  "kernelspec": {
   "display_name": "Java",
   "language": "java",
   "name": "java"
  },
  "language_info": {
   "codemirror_mode": "java",
   "file_extension": ".jshell",
   "mimetype": "text/x-java-source",
   "name": "Java",
   "pygments_lexer": "java",
   "version": "18.0.2.1+1-1"
  }
 },
 "nbformat": 4,
 "nbformat_minor": 5
}