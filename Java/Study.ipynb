{
 "cells": [
  {
   "cell_type": "code",
   "execution_count": 1,
   "id": "7a1ad801",
   "metadata": {
    "pycharm": {
     "is_executing": true,
     "name": "#%%\n"
    }
   },
   "outputs": [],
   "source": [
    "import java.awt.image.AreaAveragingScaleFilter;\n",
    "import java.util.Arrays;"
   ]
  },
  {
   "cell_type": "code",
   "execution_count": 2,
   "id": "d0037767",
   "metadata": {},
   "outputs": [
    {
     "name": "stdout",
     "output_type": "stream",
     "text": [
      "Hello Java!\r\n"
     ]
    }
   ],
   "source": [
    "System.out.println(\"Hello Java!\");"
   ]
  },
  {
   "cell_type": "code",
   "execution_count": 3,
   "id": "b740f615",
   "metadata": {
    "pycharm": {
     "name": "#%%\n"
    }
   },
   "outputs": [
    {
     "name": "stdout",
     "output_type": "stream",
     "text": [
      "1\n",
      "1.2\n",
      "5\n"
     ]
    }
   ],
   "source": [
    "System.out.println(1);\n",
    "System.out.println(1.2);\n",
    "System.out.println(1 + 4);"
   ]
  },
  {
   "cell_type": "code",
   "execution_count": 4,
   "id": "46c1f202",
   "metadata": {
    "pycharm": {
     "name": "#%%\n"
    }
   },
   "outputs": [
    {
     "name": "stdout",
     "output_type": "stream",
     "text": [
      "Hello world\r\n"
     ]
    }
   ],
   "source": [
    "var text = \"Hello world\";\n",
    "System.out.println(text);"
   ]
  },
  {
   "cell_type": "code",
   "execution_count": 5,
   "id": "2ad915eb",
   "metadata": {
    "pycharm": {
     "name": "#%%\n"
    }
   },
   "outputs": [
    {
     "data": {
      "text/plain": [
       "Hello Marat SHagitov"
      ]
     },
     "execution_count": 5,
     "metadata": {},
     "output_type": "execute_result"
    }
   ],
   "source": [
    "text = \"Hello \" + System.getProperty(\"user.name\");\n",
    "text"
   ]
  },
  {
   "cell_type": "code",
   "execution_count": 6,
   "id": "505e9206",
   "metadata": {
    "pycharm": {
     "name": "#%%\n"
    }
   },
   "outputs": [],
   "source": [
    "// 1234567890\n",
    "/*\n",
    "1\n",
    "2\n",
    "3\n",
    "4\n",
    "5\n",
    "6\n",
    "7\n",
    "8\n",
    "9\n",
    "0\n",
    "*/"
   ]
  },
  {
   "cell_type": "code",
   "execution_count": 7,
   "id": "7b183bae",
   "metadata": {
    "pycharm": {
     "name": "#%%\n"
    }
   },
   "outputs": [
    {
     "name": "stdout",
     "output_type": "stream",
     "text": [
      "-2147483648 < 0 < 2147483647\r\n"
     ]
    }
   ],
   "source": [
    "int i = 0;\n",
    "System.out.println(Integer.MIN_VALUE + \" < \" + i + \" < \" + Integer.MAX_VALUE);"
   ]
  },
  {
   "cell_type": "code",
   "execution_count": 8,
   "id": "6650ea20",
   "metadata": {
    "pycharm": {
     "name": "#%%\n"
    }
   },
   "outputs": [
    {
     "name": "stdout",
     "output_type": "stream",
     "text": [
      "4.9E-324 < 0.1 < 1.7976931348623157E308\r\n"
     ]
    }
   ],
   "source": [
    "double d = 0.1;\n",
    "System.out.println(Double.MIN_VALUE + \" < \" + d + \" < \" + Double.MAX_VALUE);"
   ]
  },
  {
   "cell_type": "code",
   "execution_count": 9,
   "id": "15c502db",
   "metadata": {
    "pycharm": {
     "name": "#%%\n"
    }
   },
   "outputs": [],
   "source": [
    "boolean b1 = true;\n",
    "boolean b2 = false;\n"
   ]
  },
  {
   "cell_type": "code",
   "execution_count": 10,
   "id": "20091450",
   "metadata": {
    "pycharm": {
     "name": "#%%\n"
    }
   },
   "outputs": [
    {
     "data": {
      "text/plain": [
       "true"
      ]
     },
     "execution_count": 10,
     "metadata": {},
     "output_type": "execute_result"
    }
   ],
   "source": [
    "b1"
   ]
  },
  {
   "cell_type": "code",
   "execution_count": 11,
   "id": "6df35467",
   "metadata": {
    "pycharm": {
     "name": "#%%\n"
    }
   },
   "outputs": [
    {
     "data": {
      "text/plain": [
       "false"
      ]
     },
     "execution_count": 11,
     "metadata": {},
     "output_type": "execute_result"
    }
   ],
   "source": [
    "b2"
   ]
  },
  {
   "cell_type": "code",
   "execution_count": 12,
   "id": "5529a814",
   "metadata": {
    "pycharm": {
     "name": "#%%\n"
    }
   },
   "outputs": [],
   "source": [
    "char ch = 'a';\n",
    "//System.out.println(Character.MIN_VALUE + \" < \" + (int) ch + \" < \" + Character.MAX_VALUE);"
   ]
  },
  {
   "cell_type": "code",
   "execution_count": 13,
   "id": "8cdc2948",
   "metadata": {
    "pycharm": {
     "name": "#%%\n"
    }
   },
   "outputs": [
    {
     "data": {
      "text/plain": [
       "Hello world"
      ]
     },
     "execution_count": 13,
     "metadata": {},
     "output_type": "execute_result"
    }
   ],
   "source": [
    "String s = \"Hello world\";\n",
    "s"
   ]
  },
  {
   "cell_type": "code",
   "execution_count": 14,
   "id": "b39be452",
   "metadata": {
    "pycharm": {
     "name": "#%%\n"
    }
   },
   "outputs": [],
   "source": [
    "var j = 0;\n",
    "int i = 0;"
   ]
  },
  {
   "cell_type": "code",
   "execution_count": 15,
   "id": "05bcd532",
   "metadata": {
    "pycharm": {
     "name": "#%%\n"
    }
   },
   "outputs": [],
   "source": [
    "//var i = new Scanner(System.in).nextInt();\n",
    "//System.out.println(i);"
   ]
  },
  {
   "cell_type": "code",
   "execution_count": 16,
   "id": "7345d69a",
   "metadata": {
    "pycharm": {
     "name": "#%%\n"
    }
   },
   "outputs": [],
   "source": [
    "//var i = new Scanner(System.in).nextDouble();\n",
    "//System.out.println(i);"
   ]
  },
  {
   "cell_type": "code",
   "execution_count": 17,
   "id": "e01433b2",
   "metadata": {
    "pycharm": {
     "name": "#%%\n"
    }
   },
   "outputs": [],
   "source": [
    "//var i = new Scanner(System.in).nextBoolean();\n",
    "//System.out.println(i);"
   ]
  },
  {
   "cell_type": "code",
   "execution_count": 18,
   "id": "50e4af98",
   "metadata": {
    "pycharm": {
     "name": "#%%\n"
    }
   },
   "outputs": [],
   "source": [
    "//var i = new Scanner(System.in).nextLine().charAt(0);\n",
    "//System.out.println(i);"
   ]
  },
  {
   "cell_type": "code",
   "execution_count": 19,
   "id": "6f223267",
   "metadata": {
    "pycharm": {
     "name": "#%%\n"
    }
   },
   "outputs": [],
   "source": [
    "//var i = new Scanner(System.in).nextLine();\n",
    "//System.out.println(i);"
   ]
  },
  {
   "cell_type": "code",
   "execution_count": 20,
   "id": "0f552030",
   "metadata": {
    "pycharm": {
     "name": "#%%\n"
    }
   },
   "outputs": [
    {
     "name": "stdout",
     "output_type": "stream",
     "text": [
      "165\r\n"
     ]
    }
   ],
   "source": [
    "var a = 5;\n",
    "var b = 8;\n",
    "var result = a + b * ((8 - 4) * a);\n",
    "System.out.println(result)"
   ]
  },
  {
   "cell_type": "code",
   "execution_count": 21,
   "id": "ef618564",
   "metadata": {
    "pycharm": {
     "name": "#%%\n"
    }
   },
   "outputs": [
    {
     "name": "stdout",
     "output_type": "stream",
     "text": [
      "Hello11.1truea\r\n"
     ]
    }
   ],
   "source": [
    "String is = String.valueOf(1);\n",
    "String ds = String.valueOf(1.1);\n",
    "String bs = String.valueOf(true);\n",
    "String cs = String.valueOf('a');\n",
    "System.out.println(\"Hello\" + 1 + 1.1 + true + 'a');\n"
   ]
  },
  {
   "cell_type": "code",
   "execution_count": 22,
   "id": "264d104f",
   "metadata": {
    "pycharm": {
     "name": "#%%\n"
    }
   },
   "outputs": [],
   "source": [
    "int si = Integer.parseInt(\"12\");\n",
    "double sd = Double.parseDouble(\"1.2\");\n",
    "boolean sb = Boolean.parseBoolean(\"true\");\n",
    "char ch1 = \"a\".charAt(0);\n",
    "char ch2 = \"abc\".charAt(1); // индексация с 0 \n",
    "// выделение памяти (байты)\n",
    "char ch = 2;\n",
    "int i = 4;\n",
    "double d = 8;\n",
    "d = i;\n",
    "d = ch;\n",
    "i = ch;\n"
   ]
  },
  {
   "cell_type": "code",
   "execution_count": 23,
   "id": "8ebab7d0",
   "metadata": {
    "pycharm": {
     "name": "#%%\n"
    }
   },
   "outputs": [
    {
     "ename": "CompilationException",
     "evalue": "",
     "output_type": "error",
     "traceback": [
      "\u001b[1m\u001b[30m|   \u001b[1m\u001b[30mi = \u001b[0m\u001b[1m\u001b[30m\u001b[41md\u001b[0m\u001b[1m\u001b[30m;\u001b[0m",
      "\u001b[1m\u001b[31mincompatible types: possible lossy conversion from double to int\u001b[0m",
      ""
     ]
    }
   ],
   "source": [
    "i = d;"
   ]
  },
  {
   "cell_type": "code",
   "execution_count": 24,
   "id": "2718e54c",
   "metadata": {
    "pycharm": {
     "name": "#%%\n"
    }
   },
   "outputs": [],
   "source": [
    "i = (int) d;\n",
    "ch = (char) d;\n",
    "ch = (char) i;\n",
    "\n",
    "boolean b = true;"
   ]
  },
  {
   "cell_type": "code",
   "execution_count": 25,
   "id": "33514aea",
   "metadata": {
    "pycharm": {
     "name": "#%%\n"
    }
   },
   "outputs": [
    {
     "name": "stdout",
     "output_type": "stream",
     "text": [
      "8\n",
      "2\n",
      "15\n",
      "1\n",
      "2\n"
     ]
    }
   ],
   "source": [
    "var a = 5;\n",
    "var b = 3;\n",
    "System.out.println(a + b);\n",
    "System.out.println(a - b);\n",
    "System.out.println(a * b);\n",
    "System.out.println(a / b);\n",
    "System.out.println(a % b);"
   ]
  },
  {
   "cell_type": "code",
   "execution_count": 26,
   "id": "306443fa",
   "metadata": {
    "pycharm": {
     "name": "#%%\n"
    }
   },
   "outputs": [
    {
     "name": "stdout",
     "output_type": "stream",
     "text": [
      "8.0\n",
      "2.0\n",
      "15.0\n",
      "1.6666666666666667\n",
      "2.0\n"
     ]
    }
   ],
   "source": [
    "var a = 5.;\n",
    "var b = 3.;\n",
    "System.out.println(a + b);\n",
    "System.out.println(a - b);\n",
    "System.out.println(a * b);\n",
    "System.out.println(a / b);\n",
    "System.out.println(a % b);"
   ]
  },
  {
   "cell_type": "code",
   "execution_count": 27,
   "id": "05ccedb4",
   "metadata": {
    "pycharm": {
     "name": "#%%\n"
    }
   },
   "outputs": [],
   "source": [
    "public class Main {\n",
    "    public static void main(String[] args) {\n",
    "        {\n",
    "            var a = 5;\n",
    "            var b = 3;\n",
    "            System.out.println(a + b);\n",
    "            System.out.println(a - b);\n",
    "            System.out.println(a * b);\n",
    "            System.out.println(a / b);\n",
    "            System.out.println(a % b);\n",
    "        }\n",
    "        {\n",
    "            var a = 5.;\n",
    "            var b = 3.;\n",
    "            System.out.println(a + b);\n",
    "            System.out.println(a - b);\n",
    "            System.out.println(a * b);\n",
    "            System.out.println(a / b);\n",
    "            System.out.println(a % b);\n",
    "        }\n",
    "    }\n",
    "}"
   ]
  },
  {
   "cell_type": "code",
   "execution_count": 28,
   "id": "b51ac826",
   "metadata": {
    "pycharm": {
     "name": "#%%\n"
    }
   },
   "outputs": [],
   "source": [
    "public class Main {\n",
    "    public static void main(String[] args) {\n",
    "        var i = Integer.MAX_VALUE;\n",
    "        System.out.println(i);\n",
    "        System.out.println(i + 1);\n",
    "    }\n",
    "\n",
    "    {\n",
    "        var i = Integer.MAX_VALUE;\n",
    "        System.out.println(i);\n",
    "        System.out.println(i - 1);\n",
    "    }\n",
    "}"
   ]
  },
  {
   "cell_type": "code",
   "execution_count": 29,
   "id": "b776eaef",
   "metadata": {
    "pycharm": {
     "name": "#%%\n"
    }
   },
   "outputs": [
    {
     "name": "stdout",
     "output_type": "stream",
     "text": [
      "2147483647\n",
      "-2147483648\n",
      "2147483647\n",
      "2147483646\n"
     ]
    }
   ],
   "source": [
    "var i = Integer.MAX_VALUE;\n",
    "System.out.println(i);\n",
    "System.out.println(i + 1);\n",
    "\n",
    "var i = Integer.MAX_VALUE;\n",
    "System.out.println(i);\n",
    "System.out.println(i - 1);"
   ]
  },
  {
   "cell_type": "code",
   "execution_count": 30,
   "id": "35ed1c7a",
   "metadata": {
    "pycharm": {
     "name": "#%%\n"
    },
    "scrolled": true
   },
   "outputs": [
    {
     "name": "stdout",
     "output_type": "stream",
     "text": [
      "9999999999999999999999999999999999999999999999999999999999999999999999999\r\n"
     ]
    }
   ],
   "source": [
    "import java.math.BigInteger;\n",
    "BigInteger a = new BigInteger(\"9999999999999999999999999999999999999999999999999999999999999999999999999\");\n",
    "System.out.println(a); "
   ]
  },
  {
   "cell_type": "code",
   "execution_count": 31,
   "id": "ec680f3a",
   "metadata": {
    "pycharm": {
     "name": "#%%\n"
    }
   },
   "outputs": [
    {
     "name": "stdout",
     "output_type": "stream",
     "text": [
      "0.8999999999999999\r\n"
     ]
    }
   ],
   "source": [
    "var a = 2;\n",
    "var b = 1.1;\n",
    "var c = a -b;\n",
    "System.out.println(c);"
   ]
  },
  {
   "cell_type": "code",
   "execution_count": 32,
   "id": "b65cb8e8",
   "metadata": {
    "pycharm": {
     "name": "#%%\n"
    }
   },
   "outputs": [
    {
     "name": "stdout",
     "output_type": "stream",
     "text": [
      "0.9\r\n"
     ]
    }
   ],
   "source": [
    "BigDecimal a = new BigDecimal(\"2\");\n",
    "BigDecimal b = new BigDecimal(\"1.1\");\n",
    "BigDecimal c = a.subtract(b);\n",
    "System.out.println(c);"
   ]
  },
  {
   "cell_type": "code",
   "execution_count": 33,
   "id": "55ce3221",
   "metadata": {
    "pycharm": {
     "name": "#%%\n"
    }
   },
   "outputs": [
    {
     "name": "stdout",
     "output_type": "stream",
     "text": [
      "3.142857142857143\n",
      "3.14285714285714285714\n"
     ]
    }
   ],
   "source": [
    "System.out.println(22. / 7);\n",
    "System.out.println(new BigDecimal(\"22\").setScale(20).divide(new BigDecimal(\"7\"), RoundingMode.HALF_UP));"
   ]
  },
  {
   "cell_type": "code",
   "execution_count": 34,
   "id": "ceb000b5",
   "metadata": {
    "pycharm": {
     "name": "#%%\n"
    }
   },
   "outputs": [
    {
     "name": "stdout",
     "output_type": "stream",
     "text": [
      "false\n",
      "true\n",
      "false\n",
      "false\n",
      "true\n",
      "true\n",
      "\n",
      "false\n",
      "true\n"
     ]
    }
   ],
   "source": [
    "var a = 2;\n",
    "var b = 3;\n",
    "System.out.println(a == b);\n",
    "System.out.println(a != b);\n",
    "System.out.println(a > b);\n",
    "System.out.println(a >= b);\n",
    "System.out.println(a < b);\n",
    "System.out.println(a <= b);\n",
    "System.out.println();\n",
    "var c1 = a == b;\n",
    "var c2 = a != b;\n",
    "System.out.println(c1);\n",
    "System.out.println(c2);"
   ]
  },
  {
   "cell_type": "code",
   "execution_count": 35,
   "id": "326ce73e",
   "metadata": {
    "pycharm": {
     "name": "#%%\n"
    }
   },
   "outputs": [
    {
     "name": "stdout",
     "output_type": "stream",
     "text": [
      "false\n",
      "true\n",
      "false\n",
      "true\n"
     ]
    }
   ],
   "source": [
    "var a = true;\n",
    "var b = false;\n",
    "var c = 2 > 1;\n",
    "var d = 2 == 1;\n",
    "System.out.println(!a);\n",
    "System.out.println(!b);\n",
    "System.out.println(a && b);\n",
    "System.out.println(a || b);"
   ]
  },
  {
   "cell_type": "code",
   "execution_count": 36,
   "id": "e6e1c730",
   "metadata": {
    "pycharm": {
     "name": "#%%\n"
    }
   },
   "outputs": [
    {
     "name": "stdout",
     "output_type": "stream",
     "text": [
      "0\n",
      "5\n",
      "7\n",
      "9\n",
      "10\n",
      "11\n",
      "10\n",
      "9\n",
      "10\n",
      "9\n"
     ]
    }
   ],
   "source": [
    "var a = 0;\n",
    "System.out.println(a);\n",
    "a = 5;\n",
    "System.out.println(a);\n",
    "a = a + 2;\n",
    "System.out.println(a);\n",
    "a += 2;\n",
    "System.out.println(a);\n",
    "a += 1;\n",
    "System.out.println(a);\n",
    "a++;\n",
    "System.out.println(a);\n",
    "a -= 1;\n",
    "System.out.println(a);\n",
    "a--;\n",
    "System.out.println(a);\n",
    "++a;\n",
    "System.out.println(a);\n",
    "--a;\n",
    "System.out.println(a);"
   ]
  },
  {
   "cell_type": "code",
   "execution_count": 37,
   "id": "36e85a5e",
   "metadata": {
    "pycharm": {
     "name": "#%%\n"
    }
   },
   "outputs": [
    {
     "name": "stdout",
     "output_type": "stream",
     "text": [
      "2\n",
      "2\n",
      "3\n",
      "4\n",
      "4\n"
     ]
    }
   ],
   "source": [
    "var a = 0;\n",
    "++a;\n",
    "a++;\n",
    "System.out.println(a);\n",
    "\n",
    "var b = a++;\n",
    "/*\n",
    "var b = a;\n",
    "a = a + 1;\n",
    "*/\n",
    "System.out.println(b);\n",
    "System.out.println(a);\n",
    "var c = ++a;\n",
    "/*\n",
    "a = a + 1;\n",
    "var c = a;\n",
    "*/\n",
    "System.out.println(c);\n",
    "System.out.println(a);"
   ]
  },
  {
   "cell_type": "code",
   "execution_count": 38,
   "id": "d38863d4",
   "metadata": {
    "pycharm": {
     "name": "#%%\n"
    }
   },
   "outputs": [
    {
     "name": "stdout",
     "output_type": "stream",
     "text": [
      "a = 5\n",
      "b = 2\n"
     ]
    }
   ],
   "source": [
    "var a = 2;\n",
    "var b = 5;\n",
    "\n",
    "var temp = a;\n",
    "a = b;\n",
    "b = temp;\n",
    "\n",
    "System.out.println(\"a = \" + a);\n",
    "System.out.println(\"b = \" + b);"
   ]
  },
  {
   "cell_type": "code",
   "execution_count": 39,
   "id": "a43b2565",
   "metadata": {
    "pycharm": {
     "name": "#%%\n"
    }
   },
   "outputs": [
    {
     "name": "stdout",
     "output_type": "stream",
     "text": [
      "-15\n",
      "-15\n",
      "Hello 11\n",
      "Hello 2\n",
      "2 Hello\n"
     ]
    }
   ],
   "source": [
    "var a = 4;\n",
    "var b = 2 + -4 * 5 - a++ / 4 + --a;\n",
    "\n",
    "a = 4;\n",
    "var c = 2 + ((-4) * 5) - ((a++) / 4) + (--a);\n",
    "\n",
    "System.out.println(b);\n",
    "System.out.println(c);\n",
    "\n",
    "System.out.println(\"Hello \" + 1 + 1);\n",
    "System.out.println(\"Hello \" + (1 + 1));\n",
    "System.out.println(1 + 1 + \" Hello\");"
   ]
  },
  {
   "cell_type": "code",
   "execution_count": 40,
   "id": "96d7e773",
   "metadata": {
    "pycharm": {
     "name": "#%%\n"
    }
   },
   "outputs": [
    {
     "name": "stdout",
     "output_type": "stream",
     "text": [
      "a > b\r\n"
     ]
    }
   ],
   "source": [
    "//var a = new Scanner(System.in).nextInt();\n",
    "//var b = new Scanner(System.in).nextInt();\n",
    "if (a > b) {\n",
    "    var result = \"a > b\";\n",
    "    System.out.println(result);\n",
    "} else {\n",
    "    if (a < b) {\n",
    "        System.out.println(\"a < b\");\n",
    "    } else {\n",
    "        System.out.println(\"a == b\");\n",
    "    }\n",
    "}"
   ]
  },
  {
   "cell_type": "code",
   "execution_count": 41,
   "id": "4ac03cb6",
   "metadata": {},
   "outputs": [
    {
     "name": "stdout",
     "output_type": "stream",
     "text": [
      "a > b\r\n"
     ]
    }
   ],
   "source": [
    "//var a = new Scanner(System.in).nextInt();\n",
    "//var b = new Scanner(System.in).nextInt();\n",
    "if (a > b) {\n",
    "    System.out.println(\"a > b\");\n",
    "} else if (a < b) {\n",
    "    System.out.println(\"a < b\");\n",
    "} else {\n",
    "    System.out.println(\"a == b\");\n",
    "}"
   ]
  },
  {
   "cell_type": "code",
   "execution_count": 42,
   "id": "46ae6917",
   "metadata": {},
   "outputs": [
    {
     "name": "stdout",
     "output_type": "stream",
     "text": [
      "condition = true\n",
      "----\n"
     ]
    }
   ],
   "source": [
    "boolean condition = a > b;\n",
    "if (condition) {\n",
    "    System.out.println(\"condition = true\");\n",
    "}\n",
    "if (condition || a < b && a > 1 || !(b < 7)) {\n",
    "    System.out.println(\"----\");\n",
    "}"
   ]
  },
  {
   "cell_type": "code",
   "execution_count": 43,
   "id": "1ea13ce6",
   "metadata": {},
   "outputs": [
    {
     "name": "stdout",
     "output_type": "stream",
     "text": [
      "Enter a :\n",
      "Enter b :\n",
      "Enter operator: {+,-,*,/,%}\n",
      "a + b = -11\n"
     ]
    }
   ],
   "source": [
    "// read source data\n",
    "System.out.println(\"Enter a :\");\n",
    "//var a = new Scanner(System.in).nextInt();\n",
    "System.out.println(\"Enter b :\");\n",
    "//var b = new Scanner(System.in).nextInt();\n",
    "System.out.println(\"Enter operator: {+,-,*,/,%}\");\n",
    "//var operator = new Scanner(System.in).nextLine().charAt(0);\n",
    "var operator = '+';\n",
    "// processing\n",
    "String result;\n",
    "if (operator == '+') {\n",
    "    result = \"a + b = \" + (a + b);\n",
    "} else if (operator == '-') {\n",
    "    result = \"a - b = \" + (a - b);\n",
    "} else if (operator == '*') {\n",
    "    result = \"a * b = \" + (a * b);\n",
    "} else if (operator == '/') {\n",
    "    result = \"a / b = \" + (a / b);\n",
    "} else if (operator == '%') {\n",
    "    result = \"a % b = \" + (a % b);\n",
    "} else {\n",
    "    result = \"Unsupported operator: \" + operator;\n",
    "}\n",
    "\n",
    "// display results\n",
    "        System.out.println(result);"
   ]
  },
  {
   "cell_type": "code",
   "execution_count": 44,
   "id": "425bdf4d",
   "metadata": {},
   "outputs": [
    {
     "name": "stdout",
     "output_type": "stream",
     "text": [
      "Sunday\r\n"
     ]
    }
   ],
   "source": [
    "var day = 7;\n",
    "\n",
    "String result;\n",
    "if (day == 1) {\n",
    "    result = \"Monday\";\n",
    "} else if (day == 2) {\n",
    "    result = \"Tuesday\";\n",
    "} else if (day == 3) {\n",
    "    result = \"Wednesday\";\n",
    "} else if (day == 4) {\n",
    "    result = \"Thursday\";\n",
    "} else if (day == 5) {\n",
    "    result = \"Friday\";\n",
    "} else if (day == 6) {\n",
    "    result = \"Saturday\";\n",
    "} else if (day == 7) {\n",
    "    result = \"Sunday\";\n",
    "} else {\n",
    "    result = \"Invalid day: \" + day;\n",
    "}\n",
    "\n",
    "System.out.println(result);"
   ]
  },
  {
   "cell_type": "code",
   "execution_count": 45,
   "id": "479dea7d",
   "metadata": {},
   "outputs": [
    {
     "name": "stdout",
     "output_type": "stream",
     "text": [
      "a == 5\n",
      "a == 5\n"
     ]
    }
   ],
   "source": [
    "var a = 5;\n",
    "\n",
    "if (a == 5) {\n",
    "    System.out.println(\"a == 5\");\n",
    "} else {\n",
    "    System.out.println(\"a != 5\");\n",
    "}\n",
    "\n",
    "System.out.println(a == 5 ? \"a == 5\" : \"a != 5\");"
   ]
  },
  {
   "cell_type": "code",
   "execution_count": 46,
   "id": "06361ba0",
   "metadata": {},
   "outputs": [
    {
     "name": "stdout",
     "output_type": "stream",
     "text": [
      "Sunday\r\n"
     ]
    }
   ],
   "source": [
    "var day = 7;\n",
    "System.out.println(\n",
    "        day == 1 ? \"Monday\" :\n",
    "                day == 2 ? \"Tuesday\" :\n",
    "                        day == 3 ? \"Wednesday\" :\n",
    "                                day == 4 ? \"Thursday\" :\n",
    "                                        day == 5 ? \"Friday\" :\n",
    "                                                day == 6 ? \"Saturday\" :\n",
    "                                                        day == 7 ? \"Sunday\" :\n",
    "                                                                \"Invalid day\" + day);"
   ]
  },
  {
   "cell_type": "code",
   "execution_count": 47,
   "id": "f09b82b1",
   "metadata": {},
   "outputs": [
    {
     "name": "stdout",
     "output_type": "stream",
     "text": [
      "default\r\n"
     ]
    }
   ],
   "source": [
    "var a = 0;\n",
    "switch (a) {\n",
    "    case 1: {\n",
    "        System.out.println(\"1\");\n",
    "        break;\n",
    "    }\n",
    "    case 2: {\n",
    "        System.out.println(\"2\");\n",
    "        break;\n",
    "    }\n",
    "    case 3: {\n",
    "        System.out.println(\"3\");\n",
    "        break;\n",
    "    }\n",
    "    default:\n",
    "        System.out.println(\"default\");\n",
    "        break;\n",
    "}"
   ]
  },
  {
   "cell_type": "code",
   "execution_count": 48,
   "id": "c76e54fc",
   "metadata": {},
   "outputs": [
    {
     "name": "stdout",
     "output_type": "stream",
     "text": [
      "1\n",
      "2\n",
      "3\n",
      "default\n"
     ]
    }
   ],
   "source": [
    "var a = 1;\n",
    "switch (a) {\n",
    "    case 1: {\n",
    "        System.out.println(\"1\");\n",
    "        //break;\n",
    "    }\n",
    "    case 2: {\n",
    "        System.out.println(\"2\");\n",
    "        //break;\n",
    "    }\n",
    "    case 3: {\n",
    "        System.out.println(\"3\");\n",
    "        //break;\n",
    "    }\n",
    "    default:\n",
    "        System.out.println(\"default\");\n",
    "        //break;\n",
    "}"
   ]
  },
  {
   "cell_type": "code",
   "execution_count": 49,
   "id": "3988e18d",
   "metadata": {},
   "outputs": [
    {
     "name": "stdout",
     "output_type": "stream",
     "text": [
      "Unsupported month number: 100\r\n"
     ]
    }
   ],
   "source": [
    "var month = 100;\n",
    "switch (month) {\n",
    "    case 1:\n",
    "    case 2:\n",
    "    case 12: {\n",
    "        System.out.println(\"Winter\");\n",
    "        break;\n",
    "    }\n",
    "    case 3:\n",
    "    case 4:\n",
    "    case 5: {\n",
    "        System.out.println(\"Spring\");\n",
    "        break;\n",
    "    }\n",
    "    case 6:\n",
    "    case 7:\n",
    "    case 8: {\n",
    "        System.out.println(\"Summer\");\n",
    "        break;\n",
    "    }\n",
    "    case 9:\n",
    "    case 10:\n",
    "    case 11: {\n",
    "        System.out.println(\"Autumn\");\n",
    "        break;\n",
    "    }\n",
    "    default:\n",
    "        System.out.println(\"Unsupported month number: \" + month);\n",
    "        break;\n",
    "}"
   ]
  },
  {
   "cell_type": "code",
   "execution_count": 50,
   "id": "a492a187",
   "metadata": {},
   "outputs": [
    {
     "name": "stdout",
     "output_type": "stream",
     "text": [
      "2080 is leap year\r\n"
     ]
    }
   ],
   "source": [
    "var year = 2080;\n",
    "boolean isLeap;\n",
    "\n",
    "if (year % 400 == 0) {\n",
    "    isLeap = true;\n",
    "} else if (year % 100 == 0) {\n",
    "    isLeap = false;\n",
    "} else if (year % 4 == 0) {\n",
    "    isLeap = true;\n",
    "} else {\n",
    "    isLeap = false;\n",
    "}\n",
    "\n",
    "if ((year % 400 == 0) || ((year % 100 != 0) && (year % 4 == 0))) {\n",
    "    isLeap = true;\n",
    "} else {\n",
    "    isLeap = false;\n",
    "}\n",
    "isLeap = ((year % 400 == 0) || ((year % 100 != 0) && (year % 4 == 0)));\n",
    "System.out.println(isLeap ? year + \" is leap year\" : year + \" is not leap year\");"
   ]
  },
  {
   "cell_type": "code",
   "execution_count": 51,
   "id": "fff7e7fe",
   "metadata": {},
   "outputs": [
    {
     "name": "stdout",
     "output_type": "stream",
     "text": [
      "1\n",
      "2\n",
      "3\n",
      "4\n",
      "5\n"
     ]
    }
   ],
   "source": [
    "for (int i = 1; i <= 5; i++) {\n",
    "    System.out.println(i);\n",
    "}"
   ]
  },
  {
   "cell_type": "code",
   "execution_count": 52,
   "id": "e1708c24",
   "metadata": {},
   "outputs": [
    {
     "name": "stdout",
     "output_type": "stream",
     "text": [
      "1\n",
      "2\n",
      "3\n",
      "4\n",
      "5\n"
     ]
    }
   ],
   "source": [
    "for (var i = 1; i <= 5; i++) {\n",
    "    System.out.println(i);\n",
    "}"
   ]
  },
  {
   "cell_type": "code",
   "execution_count": 53,
   "id": "4e28c8a8",
   "metadata": {},
   "outputs": [
    {
     "name": "stdout",
     "output_type": "stream",
     "text": [
      "1 2 3 4 5 \n",
      "1 2 3 4 5 \n",
      "50 55 60 65 70 75 80 85 90 95 100 "
     ]
    }
   ],
   "source": [
    "for (var i = 0; i < 5; i++) {\n",
    "    System.out.print(i + 1 + \" \");\n",
    "}\n",
    "System.out.println();\n",
    "\n",
    "for (var i = 4; i >= 0; i--) {\n",
    "    System.out.print(5 - i + \" \");\n",
    "}\n",
    "System.out.println();\n",
    "\n",
    "for (var i = 50; i <= 100; i += 5) {\n",
    "    System.out.print(i + \" \");\n",
    "}"
   ]
  },
  {
   "cell_type": "code",
   "execution_count": 54,
   "id": "31ac490d",
   "metadata": {},
   "outputs": [
    {
     "name": "stdout",
     "output_type": "stream",
     "text": [
      "100 99 98 97 96 95 94 93 92 91 90 89 88 87 86 85 84 83 82 81 80 79 78 77 76 75 74 73 72 71 70 69 68 67 66 65 64 63 62 61 60 59 58 57 56 55 54 53 52 51 50 49 48 47 46 45 44 43 42 41 40 39 38 37 36 35 34 33 32 31 30 29 28 27 26 25 24 23 22 21 20 19 18 17 16 15 14 13 12 11 10 9 8 7 6 5 4 3 2 1 \n",
      "100 99 98 97 96 95 94 93 92 91 90 89 88 87 86 85 84 83 82 81 80 79 78 77 76 75 74 73 72 71 70 69 68 67 66 65 64 63 62 61 60 59 58 57 56 55 54 53 52 51 50 49 48 47 46 45 44 43 42 41 40 39 38 37 36 35 34 33 32 31 30 29 28 27 26 25 24 23 22 21 20 19 18 17 16 15 14 13 12 11 10 9 8 7 6 5 4 3 2 1 \n"
     ]
    }
   ],
   "source": [
    "for (var i = 100; i >= 1; i--) {\n",
    "    System.out.print(i + \" \");\n",
    "}\n",
    "\n",
    "System.out.println();\n",
    "var from = 100;\n",
    "var to = 1;\n",
    "var step = 1;\n",
    "\n",
    "for (var x = from; x >= to; x -= step) {\n",
    "    System.out.print(x + \" \");\n",
    "}\n",
    "System.out.println();"
   ]
  },
  {
   "cell_type": "code",
   "execution_count": 55,
   "id": "9c0a6f70",
   "metadata": {},
   "outputs": [
    {
     "name": "stdout",
     "output_type": "stream",
     "text": [
      "0 2 4 6 8 10 12 14 16 18 20 22 24 26 28 30 32 34 36 38 40 42 44 46 48 50 "
     ]
    }
   ],
   "source": [
    "var from = 0;\n",
    "var to = 50;\n",
    "var step = 2;\n",
    "\n",
    "for (var i = from; i <= to; i += step) {\n",
    "    System.out.print(i + \" \");\n",
    "}"
   ]
  },
  {
   "cell_type": "code",
   "execution_count": 56,
   "id": "59309844",
   "metadata": {},
   "outputs": [
    {
     "name": "stdout",
     "output_type": "stream",
     "text": [
      "1\t2\t3\t4\t5\t6\t7\t8\t9\t10\t\n",
      "11\t12\t13\t14\t15\t16\t17\t18\t19\t20\t\n",
      "21\t22\t23\t24\t25\t26\t27\t28\t29\t30\t\n",
      "31\t32\t33\t34\t35\t36\t37\t38\t39\t40\t\n",
      "41\t42\t43\t44\t45\t46\t47\t48\t49\t50\t\n",
      "51\t52\t53\t54\t55\t56\t57\t58\t59\t60\t\n",
      "61\t62\t63\t64\t65\t66\t67\t68\t69\t70\t\n",
      "71\t72\t73\t74\t75\t76\t77\t78\t79\t80\t\n",
      "81\t82\t83\t84\t85\t86\t87\t88\t89\t90\t\n",
      "91\t92\t93\t94\t95\t96\t97\t98\t99\t100\t\n"
     ]
    }
   ],
   "source": [
    "var from = 1;\n",
    "var to = 100;\n",
    "var cols = 10;\n",
    "\n",
    "for (var i = from; i <= to; i++) {\n",
    "    System.out.print(i + \"\\t\");\n",
    "    if (i % cols == 0) {\n",
    "        System.out.println();\n",
    "    }\n",
    "}"
   ]
  },
  {
   "cell_type": "code",
   "execution_count": 57,
   "id": "a288d190",
   "metadata": {},
   "outputs": [
    {
     "name": "stdout",
     "output_type": "stream",
     "text": [
      "0 1 2 3 4 \n",
      "0 1 2 3 4 \n",
      "0 1 2 3 4 "
     ]
    }
   ],
   "source": [
    "for (var i = 0; i < 5; i++) {\n",
    "    System.out.print(i + \" \");\n",
    "}\n",
    "System.out.println();\n",
    "var i = 0;\n",
    "for (; i < 5; ) {\n",
    "    System.out.print(i++ + \" \");\n",
    "}\n",
    "System.out.println();\n",
    "i = 0;\n",
    "while (i < 5) {\n",
    "    System.out.print(i++ + \" \");\n",
    "}"
   ]
  },
  {
   "cell_type": "code",
   "execution_count": 58,
   "id": "ead0666c",
   "metadata": {},
   "outputs": [
    {
     "name": "stdout",
     "output_type": "stream",
     "text": [
      "100 99 98 97 96 95 94 93 92 91 90 89 88 87 86 85 84 83 82 81 80 79 78 77 76 75 74 73 72 71 70 69 68 67 66 65 64 63 62 61 60 59 58 57 56 55 54 53 52 51 50 49 48 47 46 45 44 43 42 41 40 39 38 37 36 35 34 33 32 31 30 29 28 27 26 25 24 23 22 21 20 19 18 17 16 15 14 13 12 11 10 9 8 7 6 5 4 3 2 1 "
     ]
    }
   ],
   "source": [
    "var from = 100;\n",
    "var to = 1;\n",
    "var step = 1;\n",
    "var i = from;\n",
    "while (i >= to) {\n",
    "    System.out.print(i + \" \");\n",
    "    i -= step;\n",
    "}"
   ]
  },
  {
   "cell_type": "code",
   "execution_count": 59,
   "id": "31925e9e",
   "metadata": {},
   "outputs": [
    {
     "name": "stdout",
     "output_type": "stream",
     "text": [
      "100 99 98 97 96 95 94 93 92 91 90 89 88 87 86 85 84 83 82 81 80 79 78 77 76 75 74 73 72 71 70 69 68 67 66 65 64 63 62 61 60 59 58 57 56 55 54 53 52 51 50 49 48 47 46 45 44 43 42 41 40 39 38 37 36 35 34 33 32 31 30 29 28 27 26 25 24 23 22 21 20 19 18 17 16 15 14 13 12 11 10 9 8 7 6 5 4 3 2 1 \n"
     ]
    }
   ],
   "source": [
    "// тело цикла do while выполнится хотя бы 1 раз\n",
    "var i = 100;\n",
    "do {\n",
    "    System.out.print(i-- + \" \");\n",
    "} while (i >= 1);\n",
    "System.out.println();"
   ]
  },
  {
   "cell_type": "code",
   "execution_count": 60,
   "id": "b3e84b3d",
   "metadata": {},
   "outputs": [
    {
     "name": "stdout",
     "output_type": "stream",
     "text": [
      "100 99 98 97 96 95 94 93 92 91 90 89 88 87 86 85 84 83 82 81 80 79 78 77 76 75 74 73 72 71 70 69 68 67 66 65 64 63 62 61 60 59 58 57 56 55 54 53 52 51 50 49 48 47 46 45 44 43 42 41 40 39 38 37 36 35 34 33 32 31 30 29 28 27 26 25 24 23 22 21 20 19 18 17 16 15 14 13 12 11 10 9 8 7 6 5 4 3 2 1 \n"
     ]
    }
   ],
   "source": [
    "var from = 100;\n",
    "var to = 1;\n",
    "var step = 1;\n",
    "var i = from;\n",
    "do {\n",
    "    System.out.print(i + \" \");\n",
    "    i -= step;\n",
    "} while (i >= to);\n",
    "System.out.println();"
   ]
  },
  {
   "cell_type": "code",
   "execution_count": 61,
   "id": "471fa609",
   "metadata": {},
   "outputs": [
    {
     "name": "stdout",
     "output_type": "stream",
     "text": [
      "5050\r\n"
     ]
    }
   ],
   "source": [
    "var from = 1;\n",
    "var to = 100;\n",
    "var sum = 0;\n",
    "\n",
    "for (var i = from; i <= to; i++) {\n",
    "    sum += i;\n",
    "}\n",
    "System.out.println(sum)"
   ]
  },
  {
   "cell_type": "code",
   "execution_count": 62,
   "id": "39c9964b",
   "metadata": {},
   "outputs": [
    {
     "name": "stdout",
     "output_type": "stream",
     "text": [
      "Reverse number: 987654321\r\n"
     ]
    }
   ],
   "source": [
    "var number = 123456789;\n",
    "var result = 0;\n",
    "var temp = number;\n",
    "\n",
    "while (temp != 0) {\n",
    "    var digit = temp % 10;\n",
    "    result = result * 10 + digit;\n",
    "    temp /= 10;\n",
    "}\n",
    "System.out.println(\"Reverse number: \" + result);"
   ]
  },
  {
   "cell_type": "code",
   "execution_count": 63,
   "id": "6c39c4dd",
   "metadata": {},
   "outputs": [],
   "source": [
    "/*\n",
    "for (; ; ) {\n",
    "    System.out.println(\"Hellow world\");\n",
    "}\n",
    "for (; true; ) {\n",
    "    System.out.println(\"Hellow world\");\n",
    "}\n",
    "while (true) {\n",
    "    System.out.println(\"Hello world\");\n",
    "}\n",
    "do {\n",
    "    System.out.println(\"Hello word\");\n",
    "}\n",
    "while (true);\n",
    "*/"
   ]
  },
  {
   "cell_type": "code",
   "execution_count": 64,
   "id": "abd094ec",
   "metadata": {},
   "outputs": [
    {
     "name": "stdout",
     "output_type": "stream",
     "text": [
      "1459743117\n",
      "Congratulations, you guessed the number\n"
     ]
    }
   ],
   "source": [
    "var number = new Random().nextInt();\n",
    "var guessed = false;\n",
    "System.out.println(number);\n",
    "for (var i = 0; i < 10; i++) {\n",
    "    //var userCase = new Scanner(System.in).nextInt();\n",
    "    var userCase = number;\n",
    "    if (number > userCase) {\n",
    "        System.out.println(\"number > \" + userCase + \". Try again. \");\n",
    "    } else if (number < userCase) {\n",
    "        System.out.println(\"number < \" + userCase + \". Try again. \");\n",
    "    } else {\n",
    "        guessed = true;\n",
    "        System.out.println(\"Congratulations, you guessed the number\");\n",
    "        break;\n",
    "    }\n",
    "}\n",
    "if (!guessed) {\n",
    "    System.out.println(\"Limit reached\");\n",
    "}"
   ]
  },
  {
   "cell_type": "code",
   "execution_count": 65,
   "id": "9c35907d",
   "metadata": {},
   "outputs": [
    {
     "name": "stdout",
     "output_type": "stream",
     "text": [
      "479001600\r\n"
     ]
    }
   ],
   "source": [
    "var value = 12;\n",
    "String finalResult;\n",
    "if (value < 0) {\n",
    "    finalResult = \"Value should be >= 0\";\n",
    "} else {\n",
    "    var result = 1;\n",
    "    for (var i = 1; i <= value; i++) {\n",
    "        var oldResult = result;\n",
    "        result *= i;\n",
    "\n",
    "        if (oldResult != result / i) {\n",
    "            result = 0;\n",
    "            break;\n",
    "        }\n",
    "    }\n",
    "    finalResult = result == 0 ? \"Int overflow\" : String.valueOf(result);\n",
    "}\n",
    "\n",
    "System.out.println(finalResult);"
   ]
  },
  {
   "cell_type": "code",
   "execution_count": 66,
   "id": "d1412ce2",
   "metadata": {},
   "outputs": [
    {
     "name": "stdout",
     "output_type": "stream",
     "text": [
      "2147483647\n",
      "0.558729 seconds\n"
     ]
    }
   ],
   "source": [
    "System.out.println(Integer.MAX_VALUE);\n",
    "long time = System.nanoTime();\n",
    "for (int i = 0; i < 100_000_000; i++) {\n",
    "    System.currentTimeMillis();\n",
    "}\n",
    "\n",
    "long result = System.nanoTime() - time;\n",
    "System.out.println((double) result / 1_000_000_000 + \" seconds\");"
   ]
  },
  {
   "cell_type": "code",
   "execution_count": 67,
   "id": "dc3b9930",
   "metadata": {},
   "outputs": [
    {
     "name": "stdout",
     "output_type": "stream",
     "text": [
      "0 1 2 7 8 9 \n",
      "0 1 2 7 8 9 "
     ]
    }
   ],
   "source": [
    "for (var i = 0; i < 10; i++) {\n",
    "    if (i >= 3 && i <= 6) {\n",
    "        continue;\n",
    "    }\n",
    "    System.out.print(i + \" \");\n",
    "}\n",
    "System.out.println();\n",
    "for (var i = 0; i < 10; i++) {\n",
    "    if (i < 3 || i > 6) {\n",
    "        System.out.print(i + \" \");\n",
    "    }\n",
    "}"
   ]
  },
  {
   "cell_type": "code",
   "execution_count": 68,
   "id": "751767fe",
   "metadata": {},
   "outputs": [
    {
     "name": "stdout",
     "output_type": "stream",
     "text": [
      "1\t2\t3\t4\t5\t6\t7\t8\t9\t10\t\n",
      "11\t12\t13\t14\t15\t16\t17\t18\t19\t20\t\n",
      "21\t22\t23\t24\t25\t26\t27\t28\t29\t30\t\n",
      "31\t32\t33\t34\t35\t36\t37\t38\t39\t40\t\n",
      "41\t42\t43\t44\t45\t46\t47\t48\t49\t50\t\n",
      "51\t52\t53\t54\t55\t56\t57\t58\t59\t60\t\n",
      "61\t62\t63\t64\t65\t66\t67\t68\t69\t70\t\n",
      "71\t72\t73\t74\t75\t76\t77\t78\t79\t80\t\n",
      "81\t82\t83\t84\t85\t86\t87\t88\t89\t90\t\n",
      "91\t92\t93\t94\t95\t96\t97\t98\t99\t100\t\n"
     ]
    }
   ],
   "source": [
    "for (var i = 0; i < 10; i++) {\n",
    "    for (var j = 0; j < 10; j++) {\n",
    "        System.out.print((i * 10 + j + 1) + \"\\t\");\n",
    "    }\n",
    "    System.out.println();\n",
    "}"
   ]
  },
  {
   "cell_type": "code",
   "execution_count": 69,
   "id": "5d88ed43",
   "metadata": {},
   "outputs": [
    {
     "name": "stdout",
     "output_type": "stream",
     "text": [
      "\t2\t3\t4\t5\t6\t7\t8\t9\t10\t11\t12\t13\t14\t15\t\n",
      "2\t4\t6\t8\t10\t12\t14\t16\t18\t20\t22\t24\t26\t28\t30\t\n",
      "3\t6\t9\t12\t15\t18\t21\t24\t27\t30\t33\t36\t39\t42\t45\t\n",
      "4\t8\t12\t16\t20\t24\t28\t32\t36\t40\t44\t48\t52\t56\t60\t\n",
      "5\t10\t15\t20\t25\t30\t35\t40\t45\t50\t55\t60\t65\t70\t75\t\n",
      "6\t12\t18\t24\t30\t36\t42\t48\t54\t60\t66\t72\t78\t84\t90\t\n",
      "7\t14\t21\t28\t35\t42\t49\t56\t63\t70\t77\t84\t91\t98\t105\t\n",
      "8\t16\t24\t32\t40\t48\t56\t64\t72\t80\t88\t96\t104\t112\t120\t\n",
      "9\t18\t27\t36\t45\t54\t63\t72\t81\t90\t99\t108\t117\t126\t135\t\n",
      "10\t20\t30\t40\t50\t60\t70\t80\t90\t100\t110\t120\t130\t140\t150\t\n",
      "11\t22\t33\t44\t55\t66\t77\t88\t99\t110\t121\t132\t143\t154\t165\t\n",
      "12\t24\t36\t48\t60\t72\t84\t96\t108\t120\t132\t144\t156\t168\t180\t\n",
      "13\t26\t39\t52\t65\t78\t91\t104\t117\t130\t143\t156\t169\t182\t195\t\n",
      "14\t28\t42\t56\t70\t84\t98\t112\t126\t140\t154\t168\t182\t196\t210\t\n",
      "15\t30\t45\t60\t75\t90\t105\t120\t135\t150\t165\t180\t195\t210\t225\t\n"
     ]
    }
   ],
   "source": [
    "var to = 15;\n",
    "for (var i = 1; i <= to; i++) {\n",
    "    for (var j = 1; j <= to; j++) {\n",
    "        var res = i * j;\n",
    "        System.out.print((res == 1 ? \"\" : res) + \"\\t\");\n",
    "    }\n",
    "    System.out.println();\n",
    "}"
   ]
  },
  {
   "cell_type": "code",
   "execution_count": 70,
   "id": "d1bf553c",
   "metadata": {},
   "outputs": [
    {
     "name": "stdout",
     "output_type": "stream",
     "text": [
      "1 * 1 = 1\n",
      "1 * 2 = 2\n",
      "1 * 3 = 3\n",
      "1 * 4 = 4\n",
      "1 * 5 = 5\n",
      "1 * 6 = 6\n",
      "1 * 7 = 7\n",
      "1 * 8 = 8\n",
      "1 * 9 = 9\n",
      "\n",
      "2 * 1 = 2\n",
      "2 * 2 = 4\n",
      "2 * 3 = 6\n",
      "2 * 4 = 8\n",
      "2 * 5 = 10\n",
      "2 * 6 = 12\n",
      "2 * 7 = 14\n",
      "2 * 8 = 16\n",
      "2 * 9 = 18\n",
      "\n",
      "3 * 1 = 3\n",
      "3 * 2 = 6\n",
      "3 * 3 = 9\n",
      "3 * 4 = 12\n",
      "3 * 5 = 15\n",
      "3 * 6 = 18\n",
      "3 * 7 = 21\n",
      "3 * 8 = 24\n",
      "3 * 9 = 27\n",
      "\n",
      "4 * 1 = 4\n",
      "4 * 2 = 8\n",
      "4 * 3 = 12\n",
      "4 * 4 = 16\n",
      "4 * 5 = 20\n",
      "4 * 6 = 24\n",
      "4 * 7 = 28\n",
      "4 * 8 = 32\n",
      "4 * 9 = 36\n",
      "\n",
      "5 * 1 = 5\n",
      "5 * 2 = 10\n",
      "5 * 3 = 15\n",
      "5 * 4 = 20\n",
      "5 * 5 = 25\n",
      "5 * 6 = 30\n",
      "5 * 7 = 35\n",
      "5 * 8 = 40\n",
      "5 * 9 = 45\n",
      "\n",
      "6 * 1 = 6\n",
      "6 * 2 = 12\n",
      "6 * 3 = 18\n",
      "6 * 4 = 24\n",
      "6 * 5 = 30\n",
      "6 * 6 = 36\n",
      "6 * 7 = 42\n",
      "6 * 8 = 48\n",
      "6 * 9 = 54\n",
      "\n",
      "7 * 1 = 7\n",
      "7 * 2 = 14\n",
      "7 * 3 = 21\n",
      "7 * 4 = 28\n",
      "7 * 5 = 35\n",
      "7 * 6 = 42\n",
      "7 * 7 = 49\n",
      "7 * 8 = 56\n",
      "7 * 9 = 63\n",
      "\n",
      "8 * 1 = 8\n",
      "8 * 2 = 16\n",
      "8 * 3 = 24\n",
      "8 * 4 = 32\n",
      "8 * 5 = 40\n",
      "8 * 6 = 48\n",
      "8 * 7 = 56\n",
      "8 * 8 = 64\n",
      "8 * 9 = 72\n",
      "\n",
      "9 * 1 = 9\n",
      "9 * 2 = 18\n",
      "9 * 3 = 27\n",
      "9 * 4 = 36\n",
      "9 * 5 = 45\n",
      "9 * 6 = 54\n",
      "9 * 7 = 63\n",
      "9 * 8 = 72\n",
      "9 * 9 = 81\n",
      "\n"
     ]
    }
   ],
   "source": [
    " var to = 9;\n",
    "for (var i = 1; i <= to; i++) {\n",
    "    for (var j = 1; j <= to; j++) {\n",
    "        System.out.println(i + \" * \" + j + \" = \" + (i * j));\n",
    "    }\n",
    "    System.out.println();\n",
    "}"
   ]
  },
  {
   "cell_type": "code",
   "execution_count": 71,
   "id": "2d6dc2fa",
   "metadata": {},
   "outputs": [
    {
     "name": "stdout",
     "output_type": "stream",
     "text": [
      "2 * 2 = 4\t3 * 2 = 6\t4 * 2 = 8\t5 * 2 = 10\t6 * 2 = 12\t7 * 2 = 14\t8 * 2 = 16\t9 * 2 = 18\t\n",
      "2 * 3 = 6\t3 * 3 = 9\t4 * 3 = 12\t5 * 3 = 15\t6 * 3 = 18\t7 * 3 = 21\t8 * 3 = 24\t9 * 3 = 27\t\n",
      "2 * 4 = 8\t3 * 4 = 12\t4 * 4 = 16\t5 * 4 = 20\t6 * 4 = 24\t7 * 4 = 28\t8 * 4 = 32\t9 * 4 = 36\t\n",
      "2 * 5 = 10\t3 * 5 = 15\t4 * 5 = 20\t5 * 5 = 25\t6 * 5 = 30\t7 * 5 = 35\t8 * 5 = 40\t9 * 5 = 45\t\n",
      "2 * 6 = 12\t3 * 6 = 18\t4 * 6 = 24\t5 * 6 = 30\t6 * 6 = 36\t7 * 6 = 42\t8 * 6 = 48\t9 * 6 = 54\t\n",
      "2 * 7 = 14\t3 * 7 = 21\t4 * 7 = 28\t5 * 7 = 35\t6 * 7 = 42\t7 * 7 = 49\t8 * 7 = 56\t9 * 7 = 63\t\n",
      "2 * 8 = 16\t3 * 8 = 24\t4 * 8 = 32\t5 * 8 = 40\t6 * 8 = 48\t7 * 8 = 56\t8 * 8 = 64\t9 * 8 = 72\t\n",
      "2 * 9 = 18\t3 * 9 = 27\t4 * 9 = 36\t5 * 9 = 45\t6 * 9 = 54\t7 * 9 = 63\t8 * 9 = 72\t9 * 9 = 81\t\n",
      "2 * 10 = 20\t3 * 10 = 30\t4 * 10 = 40\t5 * 10 = 50\t6 * 10 = 60\t7 * 10 = 70\t8 * 10 = 80\t9 * 10 = 90\t\n",
      "2 * 11 = 22\t3 * 11 = 33\t4 * 11 = 44\t5 * 11 = 55\t6 * 11 = 66\t7 * 11 = 77\t8 * 11 = 88\t9 * 11 = 99\t\n",
      "2 * 12 = 24\t3 * 12 = 36\t4 * 12 = 48\t5 * 12 = 60\t6 * 12 = 72\t7 * 12 = 84\t8 * 12 = 96\t9 * 12 = 108\t\n",
      "2 * 13 = 26\t3 * 13 = 39\t4 * 13 = 52\t5 * 13 = 65\t6 * 13 = 78\t7 * 13 = 91\t8 * 13 = 104\t9 * 13 = 117\t\n",
      "2 * 14 = 28\t3 * 14 = 42\t4 * 14 = 56\t5 * 14 = 70\t6 * 14 = 84\t7 * 14 = 98\t8 * 14 = 112\t9 * 14 = 126\t\n",
      "2 * 15 = 30\t3 * 15 = 45\t4 * 15 = 60\t5 * 15 = 75\t6 * 15 = 90\t7 * 15 = 105\t8 * 15 = 120\t9 * 15 = 135\t\n",
      "2 * 16 = 32\t3 * 16 = 48\t4 * 16 = 64\t5 * 16 = 80\t6 * 16 = 96\t7 * 16 = 112\t8 * 16 = 128\t9 * 16 = 144\t\n",
      "2 * 17 = 34\t3 * 17 = 51\t4 * 17 = 68\t5 * 17 = 85\t6 * 17 = 102\t7 * 17 = 119\t8 * 17 = 136\t9 * 17 = 153\t\n",
      "\n",
      "10 * 2 = 20\t11 * 2 = 22\t12 * 2 = 24\t13 * 2 = 26\t14 * 2 = 28\t15 * 2 = 30\t16 * 2 = 32\t17 * 2 = 34\t\n",
      "10 * 3 = 30\t11 * 3 = 33\t12 * 3 = 36\t13 * 3 = 39\t14 * 3 = 42\t15 * 3 = 45\t16 * 3 = 48\t17 * 3 = 51\t\n",
      "10 * 4 = 40\t11 * 4 = 44\t12 * 4 = 48\t13 * 4 = 52\t14 * 4 = 56\t15 * 4 = 60\t16 * 4 = 64\t17 * 4 = 68\t\n",
      "10 * 5 = 50\t11 * 5 = 55\t12 * 5 = 60\t13 * 5 = 65\t14 * 5 = 70\t15 * 5 = 75\t16 * 5 = 80\t17 * 5 = 85\t\n",
      "10 * 6 = 60\t11 * 6 = 66\t12 * 6 = 72\t13 * 6 = 78\t14 * 6 = 84\t15 * 6 = 90\t16 * 6 = 96\t17 * 6 = 102\t\n",
      "10 * 7 = 70\t11 * 7 = 77\t12 * 7 = 84\t13 * 7 = 91\t14 * 7 = 98\t15 * 7 = 105\t16 * 7 = 112\t17 * 7 = 119\t\n",
      "10 * 8 = 80\t11 * 8 = 88\t12 * 8 = 96\t13 * 8 = 104\t14 * 8 = 112\t15 * 8 = 120\t16 * 8 = 128\t17 * 8 = 136\t\n",
      "10 * 9 = 90\t11 * 9 = 99\t12 * 9 = 108\t13 * 9 = 117\t14 * 9 = 126\t15 * 9 = 135\t16 * 9 = 144\t17 * 9 = 153\t\n",
      "10 * 10 = 100\t11 * 10 = 110\t12 * 10 = 120\t13 * 10 = 130\t14 * 10 = 140\t15 * 10 = 150\t16 * 10 = 160\t17 * 10 = 170\t\n",
      "10 * 11 = 110\t11 * 11 = 121\t12 * 11 = 132\t13 * 11 = 143\t14 * 11 = 154\t15 * 11 = 165\t16 * 11 = 176\t17 * 11 = 187\t\n",
      "10 * 12 = 120\t11 * 12 = 132\t12 * 12 = 144\t13 * 12 = 156\t14 * 12 = 168\t15 * 12 = 180\t16 * 12 = 192\t17 * 12 = 204\t\n",
      "10 * 13 = 130\t11 * 13 = 143\t12 * 13 = 156\t13 * 13 = 169\t14 * 13 = 182\t15 * 13 = 195\t16 * 13 = 208\t17 * 13 = 221\t\n",
      "10 * 14 = 140\t11 * 14 = 154\t12 * 14 = 168\t13 * 14 = 182\t14 * 14 = 196\t15 * 14 = 210\t16 * 14 = 224\t17 * 14 = 238\t\n",
      "10 * 15 = 150\t11 * 15 = 165\t12 * 15 = 180\t13 * 15 = 195\t14 * 15 = 210\t15 * 15 = 225\t16 * 15 = 240\t17 * 15 = 255\t\n",
      "10 * 16 = 160\t11 * 16 = 176\t12 * 16 = 192\t13 * 16 = 208\t14 * 16 = 224\t15 * 16 = 240\t16 * 16 = 256\t17 * 16 = 272\t\n",
      "10 * 17 = 170\t11 * 17 = 187\t12 * 17 = 204\t13 * 17 = 221\t14 * 17 = 238\t15 * 17 = 255\t16 * 17 = 272\t17 * 17 = 289\t\n",
      "\n"
     ]
    }
   ],
   "source": [
    "var to = 17;\n",
    "var cols = 8;\n",
    "\n",
    "for (var r = 2; r <= to; r += cols) {\n",
    "    for (var i = 2; i <= to; i++) {\n",
    "        for (var j = r; j < r + cols && j <= to; j++) {\n",
    "            System.out.print(j + \" * \" + i + \" = \" + (i * j) + \"\\t\");\n",
    "        }\n",
    "        System.out.println();\n",
    "    }\n",
    "    System.out.println();\n",
    "}"
   ]
  },
  {
   "cell_type": "code",
   "execution_count": 72,
   "id": "3da5eca8",
   "metadata": {},
   "outputs": [],
   "source": [
    "int[] array1 = {1, 2, 3, 4, 5};\n",
    "double[] array2 = {1., 2., 3., 4., 5.};\n",
    "boolean[] array3 = {true, false, true, false, true};\n",
    "char[] array4 = {'1', '2', '3', '4', '5'};\n",
    "String[] array5 = {\"1\", \"2\", \"3\", \"4\", \"5\"};"
   ]
  },
  {
   "cell_type": "code",
   "execution_count": 73,
   "id": "f453efab",
   "metadata": {},
   "outputs": [
    {
     "name": "stdout",
     "output_type": "stream",
     "text": [
      "[0, 0, 0, 0, 0]\n",
      "[0.0, 0.0, 0.0, 0.0, 0.0]\n",
      "[false, false, false, false, false]\n",
      "[\u0000, \u0000, \u0000, \u0000, \u0000]\n",
      "[null, null, null, null, null]\n"
     ]
    }
   ],
   "source": [
    "int[] arrayWithSize1 = new int[5]; // 0\n",
    "double[] arrayWithSize2 = new double[5]; // 0.0\n",
    "boolean[] arrayWithSize3 = new boolean[5]; // false\n",
    "char[] arrayWithSize4 = new char[5]; // u000\n",
    "String[] arrayWithSize5 = new String[5]; // null\n",
    "\n",
    "System.out.println(Arrays.toString(arrayWithSize1));\n",
    "System.out.println(Arrays.toString(arrayWithSize2));\n",
    "System.out.println(Arrays.toString(arrayWithSize3));\n",
    "System.out.println(Arrays.toString(arrayWithSize4));\n",
    "System.out.println(Arrays.toString(arrayWithSize5));"
   ]
  },
  {
   "cell_type": "code",
   "execution_count": 74,
   "id": "f4291bd0",
   "metadata": {},
   "outputs": [],
   "source": [
    "int[] emptyArray1 = {};\n",
    "int[] emptyArray2 = new int[0];"
   ]
  },
  {
   "cell_type": "code",
   "execution_count": 75,
   "id": "7f2c0532",
   "metadata": {},
   "outputs": [
    {
     "name": "stdout",
     "output_type": "stream",
     "text": [
      "[1, 2, 3, 4, 5]\r\n"
     ]
    }
   ],
   "source": [
    "int[] array1 = {1, 2, 3, 4, 5};\n",
    "System.out.println(Arrays.toString(array1));"
   ]
  },
  {
   "cell_type": "code",
   "execution_count": 76,
   "id": "be099c46",
   "metadata": {},
   "outputs": [
    {
     "name": "stdout",
     "output_type": "stream",
     "text": [
      "[1, 2, 3, 4, 5]\n",
      "1\n",
      "[777, 2, 3, 4, 5]\n"
     ]
    }
   ],
   "source": [
    "int[] array = {1, 2, 3, 4, 5};\n",
    "System.out.println(Arrays.toString(array));\n",
    "System.out.println(array[0]);\n",
    "array[0] = 777;\n",
    "System.out.println(Arrays.toString(array));"
   ]
  },
  {
   "cell_type": "code",
   "execution_count": 77,
   "id": "190cf9c1",
   "metadata": {},
   "outputs": [
    {
     "name": "stdout",
     "output_type": "stream",
     "text": [
      "[1, 2, 3, 4, 111]\n",
      "5\n",
      "111\n"
     ]
    }
   ],
   "source": [
    "int[] array = {1, 2, 3, 4, 111};\n",
    "System.out.println(Arrays.toString(array));\n",
    "System.out.println(array.length);\n",
    "System.out.println(array[array.length - 1]);"
   ]
  },
  {
   "cell_type": "code",
   "execution_count": 78,
   "id": "8122ee9b",
   "metadata": {},
   "outputs": [
    {
     "ename": "EvalException",
     "evalue": "Index -1 out of bounds for length 5",
     "output_type": "error",
     "traceback": [
      "\u001b[1m\u001b[31m---------------------------------------------------------------------------\u001b[0m",
      "\u001b[1m\u001b[31mjava.lang.ArrayIndexOutOfBoundsException: Index -1 out of bounds for length 5\u001b[0m",
      "\u001b[1m\u001b[31m\tat .(#235:1)\u001b[0m"
     ]
    }
   ],
   "source": [
    "int[] array = {1, 2, 3, 4, 5};\n",
    "System.out.println(array[-1]);\n",
    "System.out.println(array[777]);\n",
    "System.out.println(array[array.length]);"
   ]
  },
  {
   "cell_type": "code",
   "execution_count": 79,
   "id": "13169026",
   "metadata": {},
   "outputs": [
    {
     "name": "stdout",
     "output_type": "stream",
     "text": [
      "1 2 3 4 5 \n",
      "1 2 3 4 5 \n",
      "5 4 3 2 1 \n",
      "1 2 3 4 5 "
     ]
    }
   ],
   "source": [
    "int[] array = {1, 2, 3, 4, 5};\n",
    "for (var i = 0; i < array.length; i++) {\n",
    "    System.out.print(array[i] + \" \");\n",
    "}\n",
    "System.out.println();\n",
    "for (int i = 0; i < array.length; i++) {\n",
    "    System.out.print(array[i] + \" \");\n",
    "}\n",
    "System.out.println();\n",
    "for (int i = array.length - 1; i >= 0; i--) {\n",
    "    System.out.print(array[i] + \" \");\n",
    "}\n",
    "System.out.println();\n",
    "for (var element : array) {\n",
    "    System.out.print(element + \" \");\n",
    "}"
   ]
  },
  {
   "cell_type": "code",
   "execution_count": 80,
   "id": "4dfc6609",
   "metadata": {},
   "outputs": [
    {
     "name": "stdout",
     "output_type": "stream",
     "text": [
      "Friday\r\n"
     ]
    }
   ],
   "source": [
    "var day = 5;\n",
    "String[] days = {\"Monday\", \"Tuesday\", \"Wednesday\", \"Thursday\", \"Friday\", \"Saturday\", \"Sunday\"};\n",
    "var result = day >= 1 && day <= 7 ? days[day - 1] : \"Invalid day\" + day;\n",
    "System.out.println(result);"
   ]
  },
  {
   "cell_type": "code",
   "execution_count": 81,
   "id": "863ec906",
   "metadata": {},
   "outputs": [
    {
     "name": "stdout",
     "output_type": "stream",
     "text": [
      "[0, 0, 0, 0, 0]\n",
      "[1, 2, 3, 4, 5]\n"
     ]
    }
   ],
   "source": [
    "int[] source = {1, 2, 3, 4, 5};\n",
    "int[] destination = new int[source.length];\n",
    "System.out.println(Arrays.toString(destination));\n",
    "for (var i = 0; i < source.length; i++) {\n",
    "    destination[i] = source[i];\n",
    "}\n",
    "System.out.println(Arrays.toString(destination));"
   ]
  },
  {
   "cell_type": "code",
   "execution_count": 82,
   "id": "cb562aae",
   "metadata": {},
   "outputs": [
    {
     "name": "stdout",
     "output_type": "stream",
     "text": [
      "[0, 0, 0, 0, 0]\n",
      "[-10, -20, -30, -40, -50]\n"
     ]
    }
   ],
   "source": [
    "int[] source = {-10, -20, -30, -40, -50};\n",
    "int[] destination = new int[source.length];\n",
    "System.out.println(Arrays.toString(destination));\n",
    "System.arraycopy(source, 0, destination, 0, source.length);\n",
    "System.out.println(Arrays.toString(destination));"
   ]
  },
  {
   "cell_type": "code",
   "execution_count": 83,
   "id": "90ffcce7",
   "metadata": {},
   "outputs": [
    {
     "name": "stdout",
     "output_type": "stream",
     "text": [
      "[20, 300]\r\n"
     ]
    }
   ],
   "source": [
    "int[] source = {1, 20, 300, 4000, 50000};\n",
    "var startIndex = 1;\n",
    "var endIndex = 3;\n",
    "\n",
    "int[] destination = new int[endIndex - startIndex];\n",
    "for (var i = 0; i < destination.length; i++) {\n",
    "    destination[i] = source[i + startIndex];\n",
    "}\n",
    "System.out.println(Arrays.toString(destination));"
   ]
  },
  {
   "cell_type": "code",
   "execution_count": 84,
   "id": "0b80e11b",
   "metadata": {},
   "outputs": [
    {
     "name": "stdout",
     "output_type": "stream",
     "text": [
      "[20, 300]\r\n"
     ]
    }
   ],
   "source": [
    "int[] source = {1, 20, 300, 4000, 50000};\n",
    "var startIndex = 1;\n",
    "var endIndex = 3;\n",
    "\n",
    "int[] destination = new int[endIndex - startIndex];\n",
    "System.arraycopy(source, startIndex, destination, 0, destination.length);\n",
    "System.out.println(Arrays.toString(destination));"
   ]
  },
  {
   "cell_type": "code",
   "execution_count": 85,
   "id": "cd54b2bd",
   "metadata": {},
   "outputs": [
    {
     "name": "stdout",
     "output_type": "stream",
     "text": [
      "15\r\n"
     ]
    }
   ],
   "source": [
    "int[] array = {1, 2, 3, 4, 5};\n",
    "var sum = 0;\n",
    "for (var value : array) {\n",
    "    sum += value;\n",
    "}\n",
    "System.out.println(sum);"
   ]
  },
  {
   "cell_type": "code",
   "execution_count": 86,
   "id": "3b805eef",
   "metadata": {},
   "outputs": [
    {
     "name": "stdout",
     "output_type": "stream",
     "text": [
      "-10\r\n"
     ]
    }
   ],
   "source": [
    "int[] array = {1, -2, 8, -10, 0, 5};\n",
    "var min = array[0];\n",
    "for (var i = 1; i < array.length; i++) {\n",
    "    if (array[i] < min) {\n",
    "        min = array[i];\n",
    "    }\n",
    "}\n",
    "System.out.println(min);"
   ]
  },
  {
   "cell_type": "code",
   "execution_count": 87,
   "id": "4ea1131d",
   "metadata": {},
   "outputs": [
    {
     "name": "stdout",
     "output_type": "stream",
     "text": [
      "5\r\n"
     ]
    }
   ],
   "source": [
    "int[] array = {8, 2, 2, 4, 3, 2, 6, 7, 4, 2, 1, 5, 3, 2};\n",
    "var element = 2;\n",
    "var count = 0;\n",
    "for (var value : array) {\n",
    "    if (value == element) {\n",
    "        count++;\n",
    "    }\n",
    "}\n",
    "System.out.println(count);"
   ]
  },
  {
   "cell_type": "code",
   "execution_count": 88,
   "id": "d786732d",
   "metadata": {},
   "outputs": [
    {
     "name": "stdout",
     "output_type": "stream",
     "text": [
      "[8, 2, 2, 4, 3, 2, 6, 7, 4, 2, 1, 5, 3, 2]\n",
      "[2, 3, 5, 1, 2, 4, 7, 6, 2, 3, 4, 2, 2, 8]\n"
     ]
    }
   ],
   "source": [
    "int[] array = {8, 2, 2, 4, 3, 2, 6, 7, 4, 2, 1, 5, 3, 2};\n",
    "System.out.println(Arrays.toString(array));\n",
    "for (var i = 0; i < array.length / 2; i++) {\n",
    "    var temp = array[i];\n",
    "    array[i] = array[array.length - i - 1];\n",
    "    array[array.length - i - 1] = temp;\n",
    "}\n",
    "System.out.println(Arrays.toString(array));"
   ]
  },
  {
   "cell_type": "code",
   "execution_count": 89,
   "id": "5f71d24a",
   "metadata": {},
   "outputs": [
    {
     "name": "stdout",
     "output_type": "stream",
     "text": [
      "15\n",
      "[3, 6, 4, 1, 5, 7, 8, 9, 4, 6, 8, 7, 3, 0, 1]\n",
      "[1, 0, 3, 7, 8, 6, 4, 9, 8, 7, 5, 1, 4, 6, 3]\n"
     ]
    }
   ],
   "source": [
    "int[] array = {3, 6, 4, 1, 5, 7, 8, 9, 4, 6, 8, 7, 3, 0, 1};\n",
    "System.out.println(array.length);\n",
    "System.out.println(Arrays.toString(array));\n",
    "for (var i = 0; i < array.length / 2; i++) {\n",
    "    var temp = array[i];\n",
    "    array[i] = array[array.length - i - 1];\n",
    "    array[array.length - i - 1] = temp;\n",
    "}\n",
    "System.out.println(Arrays.toString(array));"
   ]
  },
  {
   "cell_type": "code",
   "execution_count": 90,
   "id": "26908e27",
   "metadata": {},
   "outputs": [
    {
     "name": "stdout",
     "output_type": "stream",
     "text": [
      "All positive\r\n"
     ]
    }
   ],
   "source": [
    "int[] array = {1, 2, 3, 4, 5};\n",
    "var allPositive = true;\n",
    "for (var value : array) {\n",
    "    if (value < 0) {\n",
    "        allPositive = false;\n",
    "        break;\n",
    "    }\n",
    "}\n",
    "System.out.println(allPositive ? \"All positive\" : \"Not all positive\");"
   ]
  },
  {
   "cell_type": "code",
   "execution_count": 91,
   "id": "634a8a33",
   "metadata": {},
   "outputs": [
    {
     "name": "stdout",
     "output_type": "stream",
     "text": [
      "Not all positive\r\n"
     ]
    }
   ],
   "source": [
    "int[] array = {1, 2, -3, 4, 5};\n",
    "var allPositive = true;\n",
    "for (var value : array) {\n",
    "    if (value < 0) {\n",
    "        allPositive = false;\n",
    "        break;\n",
    "    }\n",
    "}\n",
    "System.out.println(allPositive ? \"All positive\" : \"Not all positive\");"
   ]
  },
  {
   "cell_type": "code",
   "execution_count": 92,
   "id": "00786340",
   "metadata": {},
   "outputs": [
    {
     "name": "stdout",
     "output_type": "stream",
     "text": [
      "[1, -2, 3, 8, 5]\n",
      "[1, 8, 3, -2, 5]\n"
     ]
    }
   ],
   "source": [
    "int[] array = {1, -2, 3, 8, 5};\n",
    "System.out.println(Arrays.toString(array));\n",
    "var indexOfMinElement = 0;\n",
    "var minValue = array[0];\n",
    "var indexOfMaxElement = 0;\n",
    "var maxValue = array[0];\n",
    "for (var i = 1; i < array.length; i++) {\n",
    "    var current = array[i];\n",
    "    if (current < minValue) {\n",
    "        minValue = current;\n",
    "        indexOfMinElement = i;\n",
    "    }\n",
    "    if (current > maxValue) {\n",
    "        maxValue = current;\n",
    "        indexOfMaxElement = i;\n",
    "    }\n",
    "}\n",
    "var temp = array[indexOfMaxElement];\n",
    "array[indexOfMaxElement] = array[indexOfMinElement];\n",
    "array[indexOfMinElement] = temp;\n",
    "System.out.println(Arrays.toString(array));"
   ]
  },
  {
   "cell_type": "code",
   "execution_count": 93,
   "id": "a1f9f42f",
   "metadata": {},
   "outputs": [
    {
     "name": "stdout",
     "output_type": "stream",
     "text": [
      "5 = 8.333333333333334%\n",
      "2 = 50.0%\n",
      "3 = 25.0%\n",
      "4 = 16.666666666666668%\n"
     ]
    }
   ],
   "source": [
    "int[] array = {5, 2, 3, 4, 4, 3, 3, 2, 2, 2, 2, 2};\n",
    "int[] unique = new int[array.length];\n",
    "int[] counts = new int[array.length];\n",
    "var count = 0;\n",
    "for (var i = 0; i < array.length; i++) {\n",
    "    var element = array[i];\n",
    "    var exists = false;\n",
    "    for (var j = 0; j < count; j++) {\n",
    "        if (unique[j] == element) {\n",
    "            exists = true;\n",
    "            break;\n",
    "        }\n",
    "    }\n",
    "    if (!exists) {\n",
    "        var number = 1;\n",
    "        for (int j = i + 1; j < array.length; j++) {\n",
    "            if (element == array[j]) {\n",
    "                number++;\n",
    "            }\n",
    "        }\n",
    "        unique[count] = element;\n",
    "        counts[count] = number;\n",
    "        count++;\n",
    "    }\n",
    "}\n",
    "for (var i = 0; i < count; i++) {\n",
    "    System.out.println(unique[i] + \" = \" + ((double) counts[i]) * 100 / array.length + \"%\");\n",
    "}"
   ]
  },
  {
   "cell_type": "code",
   "execution_count": 94,
   "id": "c6cdfa4e",
   "metadata": {},
   "outputs": [
    {
     "name": "stdout",
     "output_type": "stream",
     "text": [
      "1 = 25.0%\n",
      "2 = 25.0%\n",
      "3 = 25.0%\n",
      "4 = 25.0%\n"
     ]
    }
   ],
   "source": [
    "int[] array = {1, 2, 3, 4};\n",
    "int[] unique = new int[array.length];\n",
    "int[] counts = new int[array.length];\n",
    "var count = 0;\n",
    "for (var i = 0; i < array.length; i++) {\n",
    "    var element = array[i];\n",
    "    var exists = false;\n",
    "    for (var j = 0; j < count; j++) {\n",
    "        if (unique[j] == element) {\n",
    "            exists = true;\n",
    "            break;\n",
    "        }\n",
    "    }\n",
    "    if (!exists) {\n",
    "        var number = 1;\n",
    "        for (int j = i + 1; j < array.length; j++) {\n",
    "            if (element == array[j]) {\n",
    "                number++;\n",
    "            }\n",
    "        }\n",
    "        unique[count] = element;\n",
    "        counts[count] = number;\n",
    "        count++;\n",
    "    }\n",
    "}\n",
    "for (var i = 0; i < count; i++) {\n",
    "    System.out.println(unique[i] + \" = \" + ((double) counts[i]) * 100 / array.length + \"%\");\n",
    "}"
   ]
  },
  {
   "cell_type": "code",
   "execution_count": 95,
   "id": "aca4ac78",
   "metadata": {},
   "outputs": [
    {
     "name": "stdout",
     "output_type": "stream",
     "text": [
      "1 = 12.5%\n",
      "2 = 12.5%\n",
      "8 = 50.0%\n",
      "3 = 12.5%\n",
      "4 = 12.5%\n"
     ]
    }
   ],
   "source": [
    "int[] array = {1, 2, 8, 8, 8, 8, 3, 4};\n",
    "int[] unique = new int[array.length];\n",
    "int[] counts = new int[array.length];\n",
    "var count = 0;\n",
    "for (var i = 0; i < array.length; i++) {\n",
    "    var element = array[i];\n",
    "    var exists = false;\n",
    "    for (var j = 0; j < count; j++) {\n",
    "        if (unique[j] == element) {\n",
    "            exists = true;\n",
    "            break;\n",
    "        }\n",
    "    }\n",
    "    if (!exists) {\n",
    "        var number = 1;\n",
    "        for (int j = i + 1; j < array.length; j++) {\n",
    "            if (element == array[j]) {\n",
    "                number++;\n",
    "            }\n",
    "        }\n",
    "        unique[count] = element;\n",
    "        counts[count] = number;\n",
    "        count++;\n",
    "    }\n",
    "}\n",
    "for (var i = 0; i < count; i++) {\n",
    "    System.out.println(unique[i] + \" = \" + ((double) counts[i]) * 100 / array.length + \"%\");\n",
    "}"
   ]
  },
  {
   "cell_type": "code",
   "execution_count": 96,
   "id": "594e939b",
   "metadata": {},
   "outputs": [
    {
     "name": "stdout",
     "output_type": "stream",
     "text": [
      "8\n",
      "\n",
      "[0, 0, 0, 0]\n",
      "[0, 0, 0, 0]\n",
      "[0, 0, 0, 0]\n",
      "[0, 0, 0, 0]\n",
      "\n",
      "[1, 2, 3, 4]\n",
      "[5, 6, 7, 8]\n",
      "[9, 10, 11, 12]\n",
      "[13, 14, 15, 16]\n",
      "[17, 18, 19, 20]\n"
     ]
    }
   ],
   "source": [
    "int[][] array1 = new int[4][4];\n",
    "int[][] array2 =\n",
    "        {\n",
    "                {1, 2, 3, 4},\n",
    "                {5, 6, 7, 8},\n",
    "                {9, 10, 11, 12},\n",
    "                {13, 14, 15, 16},\n",
    "                {17, 18, 19, 20}\n",
    "        };\n",
    "System.out.println(array2[1][3]);\n",
    "System.out.println();\n",
    "for (int[] row : array1) {\n",
    "    System.out.println(Arrays.toString(row));\n",
    "}\n",
    "System.out.println();\n",
    "for (int[] row : array2) {\n",
    "    System.out.println(Arrays.toString(row));\n",
    "}"
   ]
  },
  {
   "cell_type": "code",
   "execution_count": 97,
   "id": "4a0dac50",
   "metadata": {},
   "outputs": [
    {
     "name": "stdout",
     "output_type": "stream",
     "text": [
      "hello\n",
      "hello\n",
      "[h, e, l, l, o]\n"
     ]
    }
   ],
   "source": [
    "var s1 = \"hello\";\n",
    "System.out.println(s1);\n",
    "System.out.println(\"hello\");\n",
    "char[] array = {'h', 'e', 'l', 'l', 'o'};\n",
    "System.out.println(Arrays.toString(array));"
   ]
  },
  {
   "cell_type": "code",
   "execution_count": 98,
   "id": "46de3bab",
   "metadata": {},
   "outputs": [
    {
     "name": "stdout",
     "output_type": "stream",
     "text": [
      "[h, e, l, l, o]\n",
      "hello\n",
      "hello\n"
     ]
    }
   ],
   "source": [
    "char[] array = {'h', 'e', 'l', 'l', 'o'};\n",
    "System.out.println(Arrays.toString(array));\n",
    "for (var value : array) {\n",
    "    System.out.print(value);\n",
    "}\n",
    "System.out.println();\n",
    "String s = \"hello\";\n",
    "for (var i = 0; i < s.length(); i++) {\n",
    "    System.out.print(s.charAt(i));\n",
    "}\n",
    "System.out.println();"
   ]
  },
  {
   "cell_type": "code",
   "execution_count": 99,
   "id": "9a27e031",
   "metadata": {},
   "outputs": [
    {
     "name": "stdout",
     "output_type": "stream",
     "text": [
      "5\n",
      "h\n",
      "hello\n"
     ]
    }
   ],
   "source": [
    "String s = \"hello\";\n",
    "var a = s.toCharArray();\n",
    "System.out.println(s.length());\n",
    "System.out.println(s.charAt(0));\n",
    "System.out.println(a);"
   ]
  },
  {
   "cell_type": "code",
   "execution_count": 100,
   "id": "7d8df748",
   "metadata": {},
   "outputs": [
    {
     "name": "stdout",
     "output_type": "stream",
     "text": [
      "true\n",
      "4\n",
      "7\n",
      "true\n",
      "true\n",
      "false\n"
     ]
    }
   ],
   "source": [
    "String s = \"Hello world!\";\n",
    "System.out.println(s.contains(\"world\"));\n",
    "System.out.println(s.indexOf('o'));\n",
    "System.out.println(s.lastIndexOf('o'));\n",
    "System.out.println(s.startsWith(\"Hello\"));\n",
    "System.out.println(s.endsWith(\"world!\"));\n",
    "System.out.println(s.isEmpty());"
   ]
  },
  {
   "cell_type": "code",
   "execution_count": 101,
   "id": "ca0a6b1e",
   "metadata": {},
   "outputs": [
    {
     "name": "stdout",
     "output_type": "stream",
     "text": [
      "HELLO WORLD!\n",
      "hello world!\n",
      "Hello world!Hello world!\n",
      "Hejjo worjd!\n",
      "world!\n",
      "Hello \n",
      "[Hello, world!]\n",
      "Hello world!\n",
      "Hello world!\n"
     ]
    }
   ],
   "source": [
    "var s = \"Hello world!\";\n",
    "System.out.println(s.toUpperCase());\n",
    "System.out.println(s.toLowerCase());\n",
    "System.out.println(s.repeat(2));\n",
    "System.out.println(s.replace('l', 'j'));\n",
    "System.out.println(s.substring(6));\n",
    "System.out.println(s.substring(0, 6));\n",
    "System.out.println(Arrays.toString(s.split(\" \")));\n",
    "System.out.println(s.trim());\n",
    "System.out.println(s.strip());  // - удаление начальных и конечных пробелов"
   ]
  },
  {
   "cell_type": "code",
   "execution_count": 102,
   "id": "3728118b",
   "metadata": {},
   "outputs": [
    {
     "name": "stdout",
     "output_type": "stream",
     "text": [
      "!dlrow olleH\n"
     ]
    }
   ],
   "source": [
    "var s = \"Hello world!\";\n",
    "for (var i = s.length() - 1; i >= 0; i--) {\n",
    "    System.out.print(s.charAt(i));\n",
    "}\n",
    "System.out.println();"
   ]
  },
  {
   "cell_type": "code",
   "execution_count": 103,
   "id": "2792a645",
   "metadata": {},
   "outputs": [
    {
     "name": "stdout",
     "output_type": "stream",
     "text": [
      "s1 = s2\n",
      "s1.equals(s2)\n"
     ]
    }
   ],
   "source": [
    "var s1 = \"hello\";\n",
    "var s2 = \"h\" + s1.substring(1);\n",
    "if (s1.equals(s2)) {\n",
    "    System.out.println(\"s1 = s2\");\n",
    "}\n",
    "if (s1 == s2) {\n",
    "    System.out.println(\"s1 = s2\");\n",
    "} else {\n",
    "    System.out.println(\"s1.equals(s2)\");\n",
    "}"
   ]
  },
  {
   "cell_type": "code",
   "execution_count": 104,
   "id": "f59e3adc",
   "metadata": {},
   "outputs": [
    {
     "name": "stdout",
     "output_type": "stream",
     "text": [
      "s1 < s2\n",
      "false\n",
      "false\n"
     ]
    }
   ],
   "source": [
    "var s1 = \"hello\";\n",
    "var s2 = \"world\";\n",
    "if (s1.compareTo(s2) > 0) {\n",
    "    System.out.println(\"s1 > s2\");\n",
    "} else if (s1.compareTo(s2) < 0) {\n",
    "    System.out.println(\"s1 < s2\");\n",
    "} else {\n",
    "    System.out.println(\"s1 = s2\");\n",
    "}\n",
    "System.out.println(s1.equals(s2));\n",
    "System.out.println(s1.equalsIgnoreCase(s2));"
   ]
  },
  {
   "cell_type": "code",
   "execution_count": 105,
   "id": "eab87cf7",
   "metadata": {},
   "outputs": [
    {
     "name": "stdout",
     "output_type": "stream",
     "text": [
      "five\r\n"
     ]
    }
   ],
   "source": [
    "String[] array = {\"one\", \"two\", \"three\", \"four\", \"five\"};\n",
    "var min = array[0];\n",
    "for (var i = 1; i < array.length; i++) {\n",
    "    if (array[i].compareTo(min) < 0) {\n",
    "        min = array[i];\n",
    "    }\n",
    "}\n",
    "System.out.println(min);"
   ]
  },
  {
   "cell_type": "code",
   "execution_count": 106,
   "id": "a1334fad",
   "metadata": {},
   "outputs": [
    {
     "name": "stdout",
     "output_type": "stream",
     "text": [
      "!dlrow olleH\r\n"
     ]
    }
   ],
   "source": [
    "var s = \"Hello world!\";\n",
    "StringBuilder builder = new StringBuilder();\n",
    "builder.append(s).reverse();\n",
    "System.out.println(builder.toString());"
   ]
  },
  {
   "cell_type": "code",
   "execution_count": 107,
   "id": "8f6a3a89",
   "metadata": {},
   "outputs": [
    {
     "name": "stdout",
     "output_type": "stream",
     "text": [
      "hello world\n",
      "ello world\n",
      "\n",
      "------\n"
     ]
    }
   ],
   "source": [
    "var s = \"hello\";\n",
    "StringBuilder builder = new StringBuilder();\n",
    "builder.append(\"world\");\n",
    "builder.insert(0, \"hello\");\n",
    "builder.insert(5, ' ');\n",
    "var result = builder.toString();\n",
    "System.out.println(result);\n",
    "builder.deleteCharAt(0);\n",
    "System.out.println(builder.toString());\n",
    "builder.setLength(0);\n",
    "System.out.println(builder.toString());\n",
    "System.out.println(\"------\");"
   ]
  },
  {
   "cell_type": "code",
   "execution_count": 108,
   "id": "4cafe8a5",
   "metadata": {},
   "outputs": [
    {
     "name": "stdout",
     "output_type": "stream",
     "text": [
      "12345678901234567890123456789024691357802469135780\n",
      "12345678901234567890123456789024691357802469135780\n"
     ]
    }
   ],
   "source": [
    "var a = \"12345678901234567890123456789012345678901234567890\";\n",
    "var b = \"12345678901234567890\";\n",
    "var a1 = a.length() >= b.length() ? a : \"0\".repeat(b.length() - a.length()) + a;\n",
    "var b1 = b.length() >= a.length() ? b : \"0\".repeat(a.length() - b.length()) + a;\n",
    "StringBuilder res = new StringBuilder();\n",
    "var prevDigit = 0;\n",
    "for (var i = a1.length() - 1; i >= 0; i--) {\n",
    "    var digit1 = Integer.parseInt(String.valueOf(a1.charAt(i)));\n",
    "    var digit2 = Integer.parseInt(String.valueOf(b1.charAt(i)));\n",
    "    var sum = digit1 + digit2 + prevDigit;\n",
    "    if (sum > 9) {\n",
    "        prevDigit = 1;\n",
    "        sum = sum % 10;\n",
    "    } else {\n",
    "        prevDigit = 0;\n",
    "    }\n",
    "    res.insert(0, sum);\n",
    "}\n",
    "if (prevDigit != 0) {\n",
    "    res.insert(0, prevDigit);\n",
    "}\n",
    "System.out.println(res.toString());\n",
    "System.out.println(new BigInteger(a1).add(new BigInteger(b)));"
   ]
  },
  {
   "cell_type": "code",
   "execution_count": 109,
   "id": "da799433",
   "metadata": {},
   "outputs": [
    {
     "name": "stdout",
     "output_type": "stream",
     "text": [
      "6\r\n"
     ]
    }
   ],
   "source": [
    "private static int getCount(int[] array, int element) {\n",
    "    var count = 0;\n",
    "    for (var value : array) {\n",
    "        if (value == element) {\n",
    "            count++;\n",
    "        }\n",
    "    }\n",
    "    return count;\n",
    "}\n",
    "int[] array = {5, 2, 3, 5, 5, 3, 3, 2, 2, 2, 2, 2};\n",
    "var element = 2;\n",
    "\n",
    "int count = getCount(array, element);\n",
    "System.out.println(count);"
   ]
  },
  {
   "cell_type": "code",
   "execution_count": 110,
   "id": "4a0372ce",
   "metadata": {},
   "outputs": [
    {
     "name": "stdout",
     "output_type": "stream",
     "text": [
      "15\r\n"
     ]
    }
   ],
   "source": [
    "private static int getSum(int[] array) {\n",
    "    var sum = 0;\n",
    "    for (var value : array) {\n",
    "        sum += value;\n",
    "    }\n",
    "    return sum;\n",
    "}\n",
    "int[] array = {1, 2, 3, 4, 5};\n",
    "int sum = getSum(array);\n",
    "System.out.println(sum);"
   ]
  },
  {
   "cell_type": "code",
   "execution_count": 111,
   "id": "197c0f54",
   "metadata": {},
   "outputs": [],
   "source": [
    "private static boolean isAllPositive(int[] array) {\n",
    "    var allPositive = true;\n",
    "    for (var value : array) {\n",
    "        if (value < 0) {\n",
    "            allPositive = false;\n",
    "            break;\n",
    "        }\n",
    "    }\n",
    "    return allPositive;\n",
    "}"
   ]
  },
  {
   "cell_type": "code",
   "execution_count": 112,
   "id": "98c66750",
   "metadata": {},
   "outputs": [
    {
     "name": "stdout",
     "output_type": "stream",
     "text": [
      "All positive\r\n"
     ]
    }
   ],
   "source": [
    "int[] array = {1, 2, 3, 4, 5};\n",
    "boolean allPositive = isAllPositive(array);\n",
    "System.out.println(allPositive ? \"All positive\" : \"Not all positive\");"
   ]
  },
  {
   "cell_type": "code",
   "execution_count": 113,
   "id": "c1371f04",
   "metadata": {},
   "outputs": [
    {
     "name": "stdout",
     "output_type": "stream",
     "text": [
      "Not all positive\r\n"
     ]
    }
   ],
   "source": [
    "int[] array = {1, 2, -3, 4, 5};\n",
    "boolean allPositive = isAllPositive(array);\n",
    "System.out.println(allPositive ? \"All positive\" : \"Not all positive\");"
   ]
  },
  {
   "cell_type": "code",
   "execution_count": 114,
   "id": "26888790",
   "metadata": {},
   "outputs": [
    {
     "name": "stdout",
     "output_type": "stream",
     "text": [
      "1 = 12.5%\n",
      "2 = 12.5%\n",
      "8 = 50.0%\n",
      "3 = 12.5%\n",
      "4 = 12.5%\n"
     ]
    }
   ],
   "source": [
    "int[] array = {1, 2, 8, 8, 8, 8, 3, 4};\n",
    "int[] unique = new int[array.length];\n",
    "int[] counts = new int[array.length];\n",
    "var count = 0;\n",
    "for (var i = 0; i < array.length; i++) {\n",
    "    var element = array[i];\n",
    "    var exists = false;\n",
    "    for (var j = 0; j < count; j++) {\n",
    "        if (unique[j] == element) {\n",
    "            exists = true;\n",
    "            break;\n",
    "        }\n",
    "    }\n",
    "    if (!exists) {\n",
    "        var number = 1;\n",
    "        for (int j = i + 1; j < array.length; j++) {\n",
    "            if (element == array[j]) {\n",
    "                number++;\n",
    "            }\n",
    "        }\n",
    "        unique[count] = element;\n",
    "        counts[count] = number;\n",
    "        count++;\n",
    "    }\n",
    "}\n",
    "int[][] result = new int[count][2];\n",
    "for (var i = 0; i < count; i++) {\n",
    "    result[i][0] = unique[i];\n",
    "    result[i][1] = counts[i];\n",
    "}\n",
    "for (var i = 0; i < result.length; i++) {\n",
    "    System.out.println(result[i][0] + \" = \" + ((double) result[i][1]) * 100 / array.length + \"%\");\n",
    "}"
   ]
  },
  {
   "cell_type": "code",
   "execution_count": 115,
   "id": "58067c08",
   "metadata": {},
   "outputs": [],
   "source": [
    "private static int[][] calculateStatistics(int[] array) {\n",
    "    int[] unique = new int[array.length];\n",
    "\n",
    "    int[] counts = new int[array.length];\n",
    "    var count = 0;\n",
    "    for (var i = 0; i < array.length; i++) {\n",
    "        var element = array[i];\n",
    "        if (!isAlreadyProcessed(unique, count, element)) {\n",
    "            int number = calculateElementCount(array, i, element);\n",
    "            count = addToResult(unique, counts, count, element, number);\n",
    "        }\n",
    "    }\n",
    "    int[][] result = convertResult(unique, counts, count);\n",
    "    return result;\n",
    "}\n",
    "\n",
    "private static boolean isAlreadyProcessed(int[] unique, int count, int element) {\n",
    "    var exists = false;\n",
    "    for (var j = 0; j < count; j++) {\n",
    "        if (unique[j] == element) {\n",
    "            exists = true;\n",
    "            break;\n",
    "        }\n",
    "    }\n",
    "    return exists;\n",
    "}\n",
    "\n",
    "private static int calculateElementCount(int[] array, int i, int element) {\n",
    "    var number = 1;\n",
    "    for (int j = i + 1; j < array.length; j++) {\n",
    "        if (element == array[j]) {\n",
    "            number++;\n",
    "        }\n",
    "    }\n",
    "    return number;\n",
    "}\n",
    "\n",
    "private static int addToResult(int[] unique, int[] counts, int count, int element, int number) {\n",
    "    unique[count] = element;\n",
    "    counts[count] = number;\n",
    "    count++;\n",
    "    return count;\n",
    "}\n",
    "\n",
    "private static int[][] convertResult(int[] unique, int[] counts, int count) {\n",
    "    int[][] result = new int[count][2];\n",
    "    for (var i = 0; i < count; i++) {\n",
    "        result[i][0] = unique[i];\n",
    "        result[i][1] = counts[i];\n",
    "    }\n",
    "    return result;\n",
    "}"
   ]
  },
  {
   "cell_type": "code",
   "execution_count": 116,
   "id": "93b47b11",
   "metadata": {},
   "outputs": [
    {
     "name": "stdout",
     "output_type": "stream",
     "text": [
      "1 = 20.0%\n",
      "2 = 10.0%\n",
      "8 = 40.0%\n",
      "3 = 10.0%\n",
      "4 = 20.0%\n"
     ]
    }
   ],
   "source": [
    "int[] array = {1, 1, 2, 8, 8, 8, 8, 3, 4, 4};\n",
    "int[][] result = calculateStatistics(array);\n",
    "for (var i = 0; i < result.length; i++) {\n",
    "    System.out.println(result[i][0] + \" = \" + ((double) result[i][1]) * 100 / array.length + \"%\");\n",
    "}"
   ]
  },
  {
   "cell_type": "code",
   "execution_count": 117,
   "id": "633fd427",
   "metadata": {},
   "outputs": [],
   "source": [
    "private static void displayResults(int[] array, int[][] result) {\n",
    "    for (var i = 0; i < result.length; i++) {\n",
    "        System.out.println(result[i][0] + \" = \" + ((double) result[i][1]) * 100 / array.length + \"%\");\n",
    "    }\n",
    "}\n",
    "\n",
    "private static int[][] calculateStatistics(int[] array) {\n",
    "    int[] unique = new int[array.length];\n",
    "\n",
    "    int[] counts = new int[array.length];\n",
    "    var count = 0;\n",
    "    for (var i = 0; i < array.length; i++) {\n",
    "        var element = array[i];\n",
    "        if (!isAlreadyProcessed(unique, count, element)) {\n",
    "            int number = calculateElementCount(array, i, element);\n",
    "            count = addToResult(unique, counts, count, element, number);\n",
    "        }\n",
    "    }\n",
    "    int[][] result = convertResult(unique, counts, count);\n",
    "    return result;\n",
    "}\n",
    "\n",
    "private static boolean isAlreadyProcessed(int[] unique, int count, int element) {\n",
    "    var exists = false;\n",
    "    for (var j = 0; j < count; j++) {\n",
    "        if (unique[j] == element) {\n",
    "            exists = true;\n",
    "            break;\n",
    "        }\n",
    "    }\n",
    "    return exists;\n",
    "}\n",
    "\n",
    "private static int calculateElementCount(int[] array, int i, int element) {\n",
    "    var number = 1;\n",
    "    for (int j = i + 1; j < array.length; j++) {\n",
    "        if (element == array[j]) {\n",
    "            number++;\n",
    "        }\n",
    "    }\n",
    "    return number;\n",
    "}\n",
    "\n",
    "private static int addToResult(int[] unique, int[] counts, int count, int element, int number) {\n",
    "    unique[count] = element;\n",
    "    counts[count] = number;\n",
    "    count++;\n",
    "    return count;\n",
    "}\n",
    "\n",
    "private static int[][] convertResult(int[] unique, int[] counts, int count) {\n",
    "    int[][] result = new int[count][2];\n",
    "    for (var i = 0; i < count; i++) {\n",
    "        result[i][0] = unique[i];\n",
    "        result[i][1] = counts[i];\n",
    "    }\n",
    "    return result;\n",
    "}"
   ]
  },
  {
   "cell_type": "code",
   "execution_count": 118,
   "id": "54cd6189",
   "metadata": {},
   "outputs": [
    {
     "name": "stdout",
     "output_type": "stream",
     "text": [
      "1 = 20.0%\n",
      "2 = 10.0%\n",
      "8 = 40.0%\n",
      "3 = 10.0%\n",
      "4 = 20.0%\n"
     ]
    }
   ],
   "source": [
    "int[] array = {1, 1, 2, 8, 8, 8, 8, 3, 4, 4};\n",
    "displayResults(array, calculateStatistics(array));"
   ]
  },
  {
   "cell_type": "code",
   "execution_count": 119,
   "id": "9ea84adc",
   "metadata": {},
   "outputs": [
    {
     "name": "stdout",
     "output_type": "stream",
     "text": [
      "1 = 10.0%\n",
      "2 = 10.0%\n",
      "3 = 10.0%\n",
      "4 = 10.0%\n",
      "5 = 10.0%\n",
      "6 = 10.0%\n",
      "7 = 10.0%\n",
      "8 = 10.0%\n",
      "9 = 10.0%\n",
      "0 = 10.0%\n"
     ]
    }
   ],
   "source": [
    "int[] array = {1, 2, 3, 4, 5, 6, 7, 8, 9, 0};\n",
    "displayResults(array, calculateStatistics(array));"
   ]
  },
  {
   "cell_type": "code",
   "execution_count": 120,
   "id": "c1daa3cf",
   "metadata": {},
   "outputs": [
    {
     "name": "stdout",
     "output_type": "stream",
     "text": [
      "1 = 10.0%\n",
      "2 = 10.0%\n",
      "3 = 10.0%\n",
      "4 = 10.0%\n",
      "5 = 10.0%\n",
      "6 = 10.0%\n",
      "7 = 10.0%\n",
      "0 = 30.0%\n"
     ]
    }
   ],
   "source": [
    "int[] array = {1, 2, 3, 4, 5, 6, 7, 0, 0, 0};\n",
    "displayResults(array, calculateStatistics(array));"
   ]
  },
  {
   "cell_type": "code",
   "execution_count": 121,
   "id": "8e8a0482",
   "metadata": {},
   "outputs": [],
   "source": [
    "private static int sumOf(int a, int b) {\n",
    "    return a + b;\n",
    "}"
   ]
  },
  {
   "cell_type": "code",
   "execution_count": 122,
   "id": "c72c1fe9",
   "metadata": {},
   "outputs": [
    {
     "name": "stdout",
     "output_type": "stream",
     "text": [
      "5\r\n"
     ]
    }
   ],
   "source": [
    "var res = sumOf(2, 3);\n",
    "System.out.println(res);"
   ]
  },
  {
   "cell_type": "code",
   "execution_count": 123,
   "id": "0de87d34",
   "metadata": {},
   "outputs": [],
   "source": [
    "private static int getDiv(int a, int b) {\n",
    "    return a / b;\n",
    "}\n",
    "\n",
    "private static double getDiv(double a, double b) {\n",
    "    return a / b;\n",
    "}"
   ]
  },
  {
   "cell_type": "code",
   "execution_count": 124,
   "id": "4b63e1bb",
   "metadata": {},
   "outputs": [
    {
     "name": "stdout",
     "output_type": "stream",
     "text": [
      "2\n",
      "2.0\n"
     ]
    }
   ],
   "source": [
    "System.out.println(getDiv(4, 2));\n",
    "System.out.println(getDiv(4., 2.));"
   ]
  },
  {
   "cell_type": "code",
   "execution_count": 125,
   "id": "0dcb7aa0",
   "metadata": {},
   "outputs": [],
   "source": [
    "private static short sumOf(short a, short b) {\n",
    "    return (short) (a + b);\n",
    "}\n",
    "\n",
    "private static int sumOf(int a, int b) {\n",
    "    return a + b;\n",
    "}\n",
    "\n",
    "private static long sumOf(long a, long b) {\n",
    "    return a + b;\n",
    "}\n",
    "\n",
    "private static float sumOf(float a, float b) {\n",
    "    return a + b;\n",
    "}\n",
    "\n",
    "private static double sumOf(double a, double b) {\n",
    "    return a + b;\n",
    "}"
   ]
  },
  {
   "cell_type": "code",
   "execution_count": 126,
   "id": "edd8f6b1",
   "metadata": {},
   "outputs": [
    {
     "name": "stdout",
     "output_type": "stream",
     "text": [
      "3\n",
      "3\n",
      "3\n",
      "3.0\n",
      "3.0\n"
     ]
    }
   ],
   "source": [
    "System.out.println(sumOf((short) 1, (short) 2));\n",
    "System.out.println(sumOf(1, 2));\n",
    "System.out.println(sumOf(1L, 2L));\n",
    "System.out.println(sumOf(1.f, 2.f));\n",
    "System.out.println(sumOf(1., 2.));"
   ]
  },
  {
   "cell_type": "code",
   "execution_count": 127,
   "id": "dffc3aba",
   "metadata": {},
   "outputs": [],
   "source": [
    "private static int sumOf(int... args) {\n",
    "    var sum = 0;\n",
    "    for (var arg : args) {\n",
    "        sum += arg;\n",
    "    }\n",
    "    return sum;\n",
    "}"
   ]
  },
  {
   "cell_type": "code",
   "execution_count": 128,
   "id": "cbfb2081",
   "metadata": {},
   "outputs": [
    {
     "name": "stdout",
     "output_type": "stream",
     "text": [
      "15\n",
      "1500\n"
     ]
    }
   ],
   "source": [
    "System.out.println(sumOf(1, 2, 3, 4, 5));\n",
    "System.out.println(sumOf(100, 200, 300, 400, 500));"
   ]
  },
  {
   "cell_type": "code",
   "execution_count": 129,
   "id": "8becaf2b",
   "metadata": {},
   "outputs": [
    {
     "name": "stdout",
     "output_type": "stream",
     "text": [
      "0\n",
      "0\n",
      "0\n",
      "0\n",
      "0\n",
      "0\n"
     ]
    }
   ],
   "source": [
    "var a = 0;\n",
    "{\n",
    "    var b = 0;\n",
    "    System.out.println(a);\n",
    "    System.out.println(b);\n",
    "    {\n",
    "        var c = 0;\n",
    "        System.out.println(a);\n",
    "        System.out.println(b);\n",
    "        System.out.println(c);\n",
    "    }\n",
    "}\n",
    "System.out.println(a);"
   ]
  },
  {
   "cell_type": "code",
   "execution_count": 130,
   "id": "6f0e5f0f",
   "metadata": {},
   "outputs": [
    {
     "ename": "EvalException",
     "evalue": "/ by zero",
     "output_type": "error",
     "traceback": [
      "\u001b[1m\u001b[31m---------------------------------------------------------------------------\u001b[0m",
      "\u001b[1m\u001b[31mjava.lang.ArithmeticException: / by zero\u001b[0m",
      "\u001b[1m\u001b[31m\tat .function2(#399:1)\u001b[0m",
      "\u001b[1m\u001b[31m\tat .function1(#398:3)\u001b[0m",
      "\u001b[1m\u001b[31m\tat .(#400:1)\u001b[0m"
     ]
    }
   ],
   "source": [
    "private static void function1(int a, int t) {\n",
    "    var b = 0;\n",
    "    function2(a, b);\n",
    "}\n",
    "\n",
    "private static void function2(int a, int b) {\n",
    "    System.out.println(a / b);\n",
    "}\n",
    "var a = 2;\n",
    "var b = 1;\n",
    "function1(a, b);\n",
    "function2(a, b);"
   ]
  },
  {
   "cell_type": "code",
   "execution_count": 131,
   "id": "8fd951f8",
   "metadata": {},
   "outputs": [],
   "source": [
    "private static void reverse(int[] array) {\n",
    "    for (var i = 0; i < array.length / 2; i++) {\n",
    "        var temp = array[i];\n",
    "        array[i] = array[array.length - i - 1];\n",
    "        array[array.length - i - 1] = temp;\n",
    "    }\n",
    "}"
   ]
  },
  {
   "cell_type": "code",
   "execution_count": 132,
   "id": "a2f27735",
   "metadata": {},
   "outputs": [
    {
     "name": "stdout",
     "output_type": "stream",
     "text": [
      "[0, 1, 2, 3, 4, 5, 6, 7, 8, 9]\n",
      "[9, 8, 7, 6, 5, 4, 3, 2, 1, 0]\n"
     ]
    }
   ],
   "source": [
    "int[] array = {0, 1, 2, 3, 4, 5, 6, 7, 8, 9};\n",
    "System.out.println(Arrays.toString(array));\n",
    "reverse(array);\n",
    "System.out.println(Arrays.toString(array));"
   ]
  },
  {
   "cell_type": "code",
   "execution_count": 133,
   "id": "660cf7aa",
   "metadata": {},
   "outputs": [],
   "source": [
    "private static void function(int count) {\n",
    "    if (count > 0) {\n",
    "        System.out.println(count);\n",
    "        function(count - 1);\n",
    "    }\n",
    "}"
   ]
  },
  {
   "cell_type": "code",
   "execution_count": 134,
   "id": "1887fe8a",
   "metadata": {
    "scrolled": false
   },
   "outputs": [
    {
     "name": "stdout",
     "output_type": "stream",
     "text": [
      "10\n",
      "9\n",
      "8\n",
      "7\n",
      "6\n",
      "5\n",
      "4\n",
      "3\n",
      "2\n",
      "1\n"
     ]
    }
   ],
   "source": [
    "function(10);"
   ]
  },
  {
   "cell_type": "code",
   "execution_count": 135,
   "id": "f463c031",
   "metadata": {},
   "outputs": [],
   "source": [
    "private static void printNumbersFrom1To10() {\n",
    "    for (var i = 1; i <= 10; i++) {\n",
    "        System.out.print(i + \"\\t\");\n",
    "    }\n",
    "    System.out.println();\n",
    "}"
   ]
  },
  {
   "cell_type": "code",
   "execution_count": 136,
   "id": "5f76dba1",
   "metadata": {},
   "outputs": [
    {
     "name": "stdout",
     "output_type": "stream",
     "text": [
      "1\t2\t3\t4\t5\t6\t7\t8\t9\t10\t\n"
     ]
    }
   ],
   "source": [
    "printNumbersFrom1To10();"
   ]
  },
  {
   "cell_type": "code",
   "execution_count": 137,
   "id": "ce7d4334",
   "metadata": {},
   "outputs": [],
   "source": [
    "private static void printNumbersFrom1To10() {\n",
    "    var i = 1;\n",
    "    while (true) {\n",
    "        if (i > 10) {\n",
    "            System.out.println();\n",
    "            break;\n",
    "        }\n",
    "        System.out.print(i + \"\\t\");\n",
    "        i++;\n",
    "    }\n",
    "}"
   ]
  },
  {
   "cell_type": "code",
   "execution_count": 138,
   "id": "45819b97",
   "metadata": {},
   "outputs": [
    {
     "name": "stdout",
     "output_type": "stream",
     "text": [
      "1\t2\t3\t4\t5\t6\t7\t8\t9\t10\t\n"
     ]
    }
   ],
   "source": [
    "printNumbersFrom1To10();"
   ]
  },
  {
   "cell_type": "code",
   "execution_count": 139,
   "id": "cae43dc6",
   "metadata": {},
   "outputs": [],
   "source": [
    "private static void printNumbersFromTo(int start, int end) {\n",
    "    if (start > end) {\n",
    "        System.out.println();\n",
    "    } else {\n",
    "        System.out.print(start + \"\\t\");\n",
    "        printNumbersFromTo(start + 1, end);\n",
    "    }\n",
    "}"
   ]
  },
  {
   "cell_type": "code",
   "execution_count": 140,
   "id": "4afe3ea0",
   "metadata": {},
   "outputs": [
    {
     "name": "stdout",
     "output_type": "stream",
     "text": [
      "1\t2\t3\t4\t5\t6\t7\t8\t9\t10\t\n"
     ]
    }
   ],
   "source": [
    "printNumbersFromTo(1, 10);"
   ]
  },
  {
   "cell_type": "code",
   "execution_count": 141,
   "id": "48864ca5",
   "metadata": {},
   "outputs": [
    {
     "name": "stdout",
     "output_type": "stream",
     "text": [
      "10\t11\t12\t13\t14\t15\t16\t17\t18\t19\t20\t21\t22\t23\t24\t25\t26\t27\t28\t29\t30\t31\t32\t33\t34\t35\t36\t37\t38\t39\t40\t41\t42\t43\t44\t45\t46\t47\t48\t49\t50\t51\t52\t53\t54\t55\t56\t57\t58\t59\t60\t61\t62\t63\t64\t65\t66\t67\t68\t69\t70\t71\t72\t73\t74\t75\t76\t77\t78\t79\t80\t81\t82\t83\t84\t85\t86\t87\t88\t89\t90\t91\t92\t93\t94\t95\t96\t97\t98\t99\t\n"
     ]
    }
   ],
   "source": [
    "printNumbersFromTo(10, 99);"
   ]
  },
  {
   "cell_type": "code",
   "execution_count": 142,
   "id": "cde0bdb8",
   "metadata": {},
   "outputs": [],
   "source": [
    "private static int sumOf(int current, int sum) {\n",
    "    if (current > 100)\n",
    "        return sum;\n",
    "    else {\n",
    "        return sumOf(current + 1, sum + current);\n",
    "    }\n",
    "}"
   ]
  },
  {
   "cell_type": "code",
   "execution_count": 143,
   "id": "3eb520c8",
   "metadata": {
    "scrolled": true
   },
   "outputs": [
    {
     "name": "stdout",
     "output_type": "stream",
     "text": [
      "5050\r\n"
     ]
    }
   ],
   "source": [
    "System.out.println(sumOf(1, 0));"
   ]
  },
  {
   "cell_type": "code",
   "execution_count": 144,
   "id": "0f39603f",
   "metadata": {},
   "outputs": [],
   "source": [
    "private static int sumOf(int value) {\n",
    "    if (value == 0) {\n",
    "        return 0;\n",
    "    } else {\n",
    "        var prevSum = sumOf(value - 1);\n",
    "        return value + prevSum;\n",
    "    }\n",
    "}"
   ]
  },
  {
   "cell_type": "code",
   "execution_count": 145,
   "id": "78d0720f",
   "metadata": {},
   "outputs": [
    {
     "name": "stdout",
     "output_type": "stream",
     "text": [
      "5050\r\n"
     ]
    }
   ],
   "source": [
    "System.out.println(sumOf(100));"
   ]
  },
  {
   "cell_type": "code",
   "execution_count": 146,
   "id": "fcc0ad04",
   "metadata": {},
   "outputs": [],
   "source": [
    "private static int factorial(int value) {\n",
    "    if (value == 1 || value == 0) {\n",
    "        return 1;\n",
    "    } else {\n",
    "        return value * factorial(value - 1);\n",
    "    }\n",
    "}"
   ]
  },
  {
   "cell_type": "code",
   "execution_count": 147,
   "id": "48a9a221",
   "metadata": {},
   "outputs": [
    {
     "name": "stdout",
     "output_type": "stream",
     "text": [
      "120\r\n"
     ]
    }
   ],
   "source": [
    "System.out.println(factorial(5));"
   ]
  },
  {
   "cell_type": "code",
   "execution_count": 148,
   "id": "2cfca24d",
   "metadata": {},
   "outputs": [],
   "source": [
    "private static void printNumbersFromAndTo(int i, int to) {\n",
    "    if (i != 0) {\n",
    "        printNumbersFromAndTo(i - 1, to);\n",
    "        System.out.print(i + \"\\t\");\n",
    "        if (i == to) {\n",
    "            System.out.println();\n",
    "        }\n",
    "    }\n",
    "}"
   ]
  },
  {
   "cell_type": "code",
   "execution_count": 149,
   "id": "dab2319e",
   "metadata": {},
   "outputs": [
    {
     "name": "stdout",
     "output_type": "stream",
     "text": [
      "1\t2\t3\t4\t5\t6\t7\t8\t9\t10\t11\t12\t13\t14\t15\t16\t17\t18\t19\t20\t21\t22\t23\t24\t25\t26\t27\t28\t29\t30\t31\t32\t33\t34\t35\t36\t37\t38\t39\t40\t41\t42\t43\t44\t45\t46\t47\t48\t49\t50\t51\t52\t53\t54\t55\t56\t57\t58\t59\t60\t61\t62\t63\t64\t65\t66\t67\t68\t69\t70\t71\t72\t73\t74\t75\t76\t77\t78\t79\t80\t81\t82\t83\t84\t85\t86\t87\t88\t89\t90\t91\t92\t93\t94\t95\t96\t97\t98\t99\t100\t\n"
     ]
    }
   ],
   "source": [
    "printNumbersFromAndTo(100, 100);"
   ]
  },
  {
   "cell_type": "code",
   "execution_count": 150,
   "id": "f36b3c1a",
   "metadata": {},
   "outputs": [],
   "source": [
    "private static int factorial(int from, int to, int result) {\n",
    "    if (from > to) {\n",
    "        return result;\n",
    "    } else {\n",
    "        return factorial(from + 1, to, result * from);\n",
    "    }\n",
    "}"
   ]
  },
  {
   "cell_type": "code",
   "execution_count": 151,
   "id": "b48a6147",
   "metadata": {},
   "outputs": [
    {
     "name": "stdout",
     "output_type": "stream",
     "text": [
      "120\r\n"
     ]
    }
   ],
   "source": [
    "System.out.println(factorial(1, 5, 1));"
   ]
  },
  {
   "cell_type": "code",
   "execution_count": 152,
   "id": "fbdb25e6",
   "metadata": {},
   "outputs": [],
   "source": [
    "private static int findMin(int[] array, int i, int min) {\n",
    "    if (i == array.length) {\n",
    "        return min;\n",
    "    } else {\n",
    "        return findMin(array, i + 1, Math.min(array[i], min));\n",
    "    }\n",
    "}"
   ]
  },
  {
   "cell_type": "code",
   "execution_count": 153,
   "id": "592084ef",
   "metadata": {},
   "outputs": [
    {
     "name": "stdout",
     "output_type": "stream",
     "text": [
      "-8\r\n"
     ]
    }
   ],
   "source": [
    "int[] array = {1, -2, -8, 0, 5};\n",
    "System.out.println(findMin(array, 1, Integer.MAX_VALUE));"
   ]
  },
  {
   "cell_type": "code",
   "execution_count": 154,
   "id": "9c035f3d",
   "metadata": {},
   "outputs": [],
   "source": [
    "private static void bubbleSort(int[] array) {\n",
    "    for (var i = 0; i < array.length; i++) {\n",
    "        boolean swap = false;\n",
    "        for (var j = 0; j < array.length - 1 - i; j++) {\n",
    "            if (array[j] > array[j + 1]) {\n",
    "                var temp = array[j];\n",
    "                array[j] = array[j + 1];\n",
    "                array[j + 1] = temp;\n",
    "                swap = true;\n",
    "            }\n",
    "        }\n",
    "        if (!swap) {\n",
    "            break;\n",
    "        }\n",
    "    }\n",
    "}"
   ]
  },
  {
   "cell_type": "code",
   "execution_count": 155,
   "id": "343353c2",
   "metadata": {},
   "outputs": [
    {
     "name": "stdout",
     "output_type": "stream",
     "text": [
      "[-8, -2, 0, 1, 5]\r\n"
     ]
    }
   ],
   "source": [
    "int[] array = {1, -2, -8, 0, 5};\n",
    "bubbleSort(array);\n",
    "System.out.println(Arrays.toString(array));"
   ]
  },
  {
   "cell_type": "code",
   "execution_count": 156,
   "id": "0c440be9",
   "metadata": {},
   "outputs": [],
   "source": [
    "private static int binarySearchIterative(int[] array, int query) {\n",
    "    var startIndex = 0;\n",
    "    var endIndex = array.length - 1;\n",
    "    while (startIndex <= endIndex) {\n",
    "        var middleIndex = (startIndex + endIndex) / 2;\n",
    "        var middleValue = array[middleIndex];\n",
    "        if (query > middleValue) {\n",
    "            startIndex = middleIndex + 1;\n",
    "        } else if (query < middleValue) {\n",
    "            endIndex = middleIndex - 1;\n",
    "        } else {\n",
    "            return middleIndex;\n",
    "        }\n",
    "    }\n",
    "    return -1;\n",
    "}"
   ]
  },
  {
   "cell_type": "code",
   "execution_count": 157,
   "id": "2b7cd744",
   "metadata": {},
   "outputs": [
    {
     "name": "stdout",
     "output_type": "stream",
     "text": [
      "[-8, -2, 0, 1, 5, 9, 10, 100]\n",
      "Index = 5\n"
     ]
    }
   ],
   "source": [
    "int[] array = {1, -2, -8, 0, 5, 9, 10, 100};\n",
    "bubbleSort(array);\n",
    "System.out.println(Arrays.toString(array));\n",
    "var query = 9;\n",
    "var index = binarySearchIterative(array, query);\n",
    "System.out.println(\"Index = \" + index);"
   ]
  },
  {
   "cell_type": "code",
   "execution_count": 158,
   "id": "face9201",
   "metadata": {},
   "outputs": [
    {
     "name": "stdout",
     "output_type": "stream",
     "text": [
      "100-----------------------\n",
      "5050 - >0.0028seconds\n",
      "5050 - >0.0013seconds\n",
      "1000-----------------------\n",
      "500500 - >0.0321seconds\n",
      "500500 - >8.0E-4seconds\n",
      "1000000-----------------------\n",
      "500000500000 - >9.9781seconds\n",
      "500000500000 - >2.0E-4seconds\n",
      "2147483647-----------------------\n",
      "2305843008139952128 - >1591.869seconds\n",
      "2305843008139952128 - >0.0seconds\n"
     ]
    }
   ],
   "source": [
    "long[] values = {100, 1_000, 1_000_000, Integer.MAX_VALUE};\n",
    "for (final long n : values) {\n",
    "    System.out.println(n + \"-----------------------\");\n",
    "    long time = System.nanoTime();\n",
    "\n",
    "    long sum = 0;\n",
    "    for (long i = 1; i <= n; i++) {\n",
    "        sum += i;\n",
    "    }\n",
    "    System.out.println(sum + \" - >\" + (double) (System.nanoTime() - time) / 1_000_000 + \"seconds\");\n",
    "    time = System.nanoTime();\n",
    "    long sum2 = (1L + n) * n / 2L;\n",
    "    System.out.println(sum2 + \" - >\" + (double) (System.nanoTime() - time) / 1_000_000 + \"seconds\");\n",
    "}"
   ]
  },
  {
   "cell_type": "code",
   "execution_count": 159,
   "id": "6f58df36",
   "metadata": {},
   "outputs": [],
   "source": [
    "static int[] subArrayWithMoreThanAvgElements(int[] array) {\n",
    "    int avg = calculateAvg(array);\n",
    "    return extractElementsMoreThanAvg(array, avg);\n",
    "}\n",
    "\n",
    "static int[] extractElementsMoreThanAvg(int[] array, int avg) {\n",
    "    int[] result = new int[array.length];\n",
    "    var count = 0;\n",
    "    for (var value : array) {\n",
    "        if (value > avg) {\n",
    "            result[count++] = value;\n",
    "        }\n",
    "    }\n",
    "    return trim(result, count);\n",
    "}\n",
    "\n",
    "static int[] trim(int[] array, int count) {\n",
    "    int[] result = new int[count];\n",
    "    for (var i = 0; i < count; i++) {\n",
    "        result[i] = array[i];\n",
    "    }\n",
    "    return result;\n",
    "}\n",
    "\n",
    "static int calculateAvg(int[] array) {\n",
    "    double sum = 0;\n",
    "    for (var value : array) {\n",
    "        sum += value;\n",
    "    }\n",
    "    return round(sum / array.length);\n",
    "}\n",
    "\n",
    "static int round(double value) {\n",
    "    int round = (int) value;\n",
    "    if (value - round >= 0.5) {\n",
    "        return round + 1;\n",
    "    } else {\n",
    "        return round;\n",
    "    }\n",
    "}"
   ]
  },
  {
   "cell_type": "code",
   "execution_count": 160,
   "id": "05670b5b",
   "metadata": {},
   "outputs": [],
   "source": [
    "/*\n",
    "int[] array = {1, 4, -5, -2, 0, 12};\n",
    "int[] result = subArrayWithMoreThanAvgElements(array);\n",
    "System.out.println(Arrays.toString(result));\n",
    " */"
   ]
  },
  {
   "cell_type": "code",
   "execution_count": null,
   "id": "f037b9f9",
   "metadata": {},
   "outputs": [],
   "source": []
  }
 ],
 "metadata": {
  "kernelspec": {
   "display_name": "Java",
   "language": "java",
   "name": "java"
  },
  "language_info": {
   "codemirror_mode": "java",
   "file_extension": ".jshell",
   "mimetype": "text/x-java-source",
   "name": "Java",
   "pygments_lexer": "java",
   "version": "19.0.1+10-21"
  }
 },
 "nbformat": 4,
 "nbformat_minor": 5
}
